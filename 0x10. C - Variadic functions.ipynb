{
 "cells": [
  {
   "cell_type": "markdown",
   "metadata": {},
   "source": [
    "---\n",
    "<center>\n",
    "<h1>  alx-low_level_programming </h1>\n",
    "</center>\n",
    "\n",
    "---\n"
   ]
  },
  {
   "cell_type": "code",
   "execution_count": 5,
   "metadata": {},
   "outputs": [],
   "source": [
    "import os\n",
    "# creating 0x02-shell_redirectionss\n",
    "\n",
    "folder_path = r'/home/elkomy/alx/alx-low_level_programming/0x10-variadic_functions'\n",
    "if not os.path.exists(folder_path):\n",
    "    os.makedirs(folder_path)\n",
    "\n",
    "# Create a README.md inside alx-low_level_programming/0x10-variadic_functions\n",
    "file_path = os.path.join(folder_path, 'README.md')\n",
    "\n",
    "with open(file_path, 'w') as file:\n",
    "    file.write(\"This is a README.md file inside alx-low_level_programming/0x10-variadic_functions\")\n",
    "\n"
   ]
  },
  {
   "cell_type": "markdown",
   "metadata": {},
   "source": [
    "###\n",
    "---\n",
    "<center>\n",
    "<h1> 0x10. C - Variadic functions </h1>\n",
    "</center>\n",
    "\n",
    "---\n"
   ]
  },
  {
   "cell_type": "markdown",
   "metadata": {},
   "source": [
    "###\n",
    "---\n",
    "<center>\n",
    "<h4> 0. Beauty is variable, ugliness is constant</h4>\n",
    "</center>\n",
    "\n",
    "---"
   ]
  },
  {
   "cell_type": "markdown",
   "metadata": {},
   "source": [
    "\n",
    "#### Write a function that returns the sum of all its parameters.\n",
    "\n",
    "* Prototype: `int sum_them_all(const unsigned int n, ...);`\n",
    "* If `n == 0`, return `0`\n",
    "\n",
    "```bash\n",
    "julien@ubuntu:~/0x0f. variadic functions$ cat 0-main.c\n",
    "#include <stdio.h>\n",
    "#include \"variadic_functions.h\"\n",
    "\n",
    "/**\n",
    " * main - check the code\n",
    " *\n",
    " * Return: Always 0.\n",
    " */\n",
    "int main(void)\n",
    "{\n",
    "    int sum;\n",
    "\n",
    "    sum = sum_them_all(2, 98, 1024);\n",
    "    printf(\"%d\\n\", sum);\n",
    "    sum = sum_them_all(4, 98, 1024, 402, -1024);\n",
    "    printf(\"%d\\n\", sum);    \n",
    "    return (0);\n",
    "}\n",
    "julien@ubuntu:~/0x0f. variadic functions$ gcc -Wall -pedantic -Werror -Wextra -std=gnu89 0-main.c 0-sum_them_all.c -o a\n",
    "julien@ubuntu:~/0x0f. variadic functions$ ./a \n",
    "1122\n",
    "500\n",
    "julien@ubuntu:~/0x0f. variadic functions$ \n",
    "\n",
    "```\n",
    "#### Repo:\n",
    "* GitHub repository: ``` alx-low_level_programming ```\n",
    "* Directory: ```0x10-variadic_functions``` \n",
    "* File: ```0-sum_them_all.c```"
   ]
  },
  {
   "cell_type": "code",
   "execution_count": 2,
   "metadata": {},
   "outputs": [
    {
     "name": "stdout",
     "output_type": "stream",
     "text": [
      "Overwriting 0x10-variadic_functions/0-main.c\n"
     ]
    }
   ],
   "source": [
    "%%file 0x10-variadic_functions/0-main.c\n",
    "#include <stdio.h>\n",
    "#include \"variadic_functions.h\"\n",
    "\n",
    "/**\n",
    " * main - check the code\n",
    " *\n",
    " * Return: Always 0.\n",
    " */\n",
    "int main(void)\n",
    "{\n",
    "    int sum;\n",
    "\n",
    "    sum = sum_them_all(2, 98, 1024);\n",
    "    printf(\"%d\\n\", sum);\n",
    "    sum = sum_them_all(4, 98, 1024, 402, -1024);\n",
    "    printf(\"%d\\n\", sum);    \n",
    "    return (0);\n",
    "}"
   ]
  },
  {
   "cell_type": "code",
   "execution_count": 1,
   "metadata": {},
   "outputs": [
    {
     "name": "stdout",
     "output_type": "stream",
     "text": [
      "Overwriting 0x10-variadic_functions/variadic_functions.h\n"
     ]
    }
   ],
   "source": [
    "%%file 0x10-variadic_functions/variadic_functions.h\n",
    "#ifndef VARIADIC_FUNCTIONS_H\n",
    "#define VARIADIC_FUNCTIONS_H\n",
    "\n",
    "#include <stdarg.h>\n",
    "\n",
    "int sum_them_all(const unsigned int n, ...);\n",
    "int _putchar(char c);\n",
    "\n",
    "#endif /* VARIADIC_FUNCTIONS_H */\n",
    "\n"
   ]
  },
  {
   "cell_type": "code",
   "execution_count": 4,
   "metadata": {},
   "outputs": [
    {
     "name": "stdout",
     "output_type": "stream",
     "text": [
      "Overwriting 0x10-variadic_functions/0-sum_them_all.c\n"
     ]
    }
   ],
   "source": [
    "%%file 0x10-variadic_functions/0-sum_them_all.c\n",
    "#include \"variadic_functions.h\"\n",
    "\n",
    "/**\n",
    "* sum_them_all - Returns the sum of all its parameters.\n",
    "* @n: The number of parameters passed to the function.\n",
    "*\n",
    "* Return: The sum of all parameters, or 0 if n == 0.\n",
    "*/\n",
    "int sum_them_all(const unsigned int n, ...)\n",
    "{\n",
    "unsigned int i;\n",
    "int sum = 0;\n",
    "va_list args;\n",
    "\n",
    "if (n == 0)\n",
    "return (0);\n",
    "\n",
    "va_start(args, n);\n",
    "for (i = 0; i < n; i++)\n",
    "{\n",
    "sum += va_arg(args, int);\n",
    "}\n",
    "va_end(args);\n",
    "\n",
    "return (sum);\n",
    "}\n",
    "\n"
   ]
  },
  {
   "cell_type": "code",
   "execution_count": 5,
   "metadata": {},
   "outputs": [
    {
     "name": "stdout",
     "output_type": "stream",
     "text": [
      "\n",
      "========== 0x10-variadic_functions/0-sum_them_all.c ==========\n",
      "sum_them_all\n",
      "1122\n",
      "500\n"
     ]
    }
   ],
   "source": [
    "%%bash\n",
    "betty 0x10-variadic_functions/0-sum_them_all.c\n",
    "gcc -Wall -pedantic -Werror -Wextra -std=gnu89 0x10-variadic_functions/0-main.c 0x10-variadic_functions/0-sum_them_all.c -o 0x10-variadic_functions/a\n",
    "./0x10-variadic_functions/a\n"
   ]
  },
  {
   "cell_type": "code",
   "execution_count": 6,
   "metadata": {},
   "outputs": [
    {
     "name": "stdout",
     "output_type": "stream",
     "text": [
      "[main f797313] alx-low_level_programming/0x10-variadic_functions/0-putchar\n",
      " 9 files changed, 1994 insertions(+), 567 deletions(-)\n",
      " create mode 100644 0x10-variadic_functions/0-main.c\n",
      " create mode 100644 0x10-variadic_functions/0-sum_them_all.c\n",
      " create mode 100644 0x10-variadic_functions/README.md\n",
      " create mode 100755 0x10-variadic_functions/a\n",
      " create mode 100644 0x10-variadic_functions/variadic_functions.h\n"
     ]
    },
    {
     "name": "stderr",
     "output_type": "stream",
     "text": [
      "To https://github.com/elkomysara/alx-low_level_programming.git\n",
      "   29d9347..f797313  main -> main\n"
     ]
    }
   ],
   "source": [
    "%%bash\n",
    "git add .\n",
    "git commit -m \"alx-low_level_programming/0x10-variadic_functions/0-putchar\"\n",
    "git push"
   ]
  },
  {
   "cell_type": "markdown",
   "metadata": {},
   "source": [
    "###\n",
    "---\n",
    "<center>\n",
    "<h4> 1. To be is to be the value of a variable</h4>\n",
    "</center>\n",
    "\n",
    "---"
   ]
  },
  {
   "cell_type": "markdown",
   "metadata": {},
   "source": [
    "\n",
    "#### Write a function that prints numbers, followed by a new line.\n",
    "\n",
    "* Prototype: `void print_numbers(const char *separator, const unsigned int n, ...);`\n",
    "* where `separator` is the string to be printed between numbers\n",
    "* and `n` is the number of integers passed to the function\n",
    "* You are allowed to use `printf`\n",
    "* If `separator` is `NULL`, don’t print it\n",
    "* Print a new line at the end of your function\n",
    "\n",
    "\n",
    "```bash\n",
    "julien@ubuntu:~/0x0f. variadic functions$ cat 1-main.c\n",
    "#include \"variadic_functions.h\"\n",
    "\n",
    "/**\n",
    " * main - check the code\n",
    " *\n",
    " * Return: Always 0.\n",
    " */\n",
    "int main(void)\n",
    "{\n",
    "    print_numbers(\", \", 4, 0, 98, -1024, 402);\n",
    "    return (0);\n",
    "}\n",
    "julien@ubuntu:~/0x0f. variadic functions$ gcc -Wall -pedantic -Werror -Wextra -std=gnu89 1-main.c 1-print_numbers.c -o b\n",
    "julien@ubuntu:~/0x0f. variadic functions$ ./b\n",
    "0, 98, -1024, 402\n",
    "julien@ubuntu:~/0x0f. variadic functions$ \n",
    "\n",
    "```\n",
    "#### Repo:\n",
    "* GitHub repository: ``` alx-low_level_programming ```\n",
    "* Directory: ```0x10-variadic_functions``` \n",
    "* File: ```1-print_numbers.c```"
   ]
  },
  {
   "cell_type": "code",
   "execution_count": null,
   "metadata": {},
   "outputs": [
    {
     "name": "stdout",
     "output_type": "stream",
     "text": [
      "Writing 0x0F-function_pointers/1-main.c\n"
     ]
    }
   ],
   "source": [
    "%%file 0x10-variadic_functions/2-main.c\n",
    "#include <stdio.h>\n",
    "#include \"function_pointers.h\"\n",
    "\n",
    "/**\n",
    " * print_elem - prints an integer\n",
    " * @elem: the integer to print\n",
    " *\n",
    " * Return: Nothing.\n",
    " */\n",
    "void print_elem(int elem)\n",
    "{\n",
    "    printf(\"%d\\n\", elem);\n",
    "}\n",
    "\n",
    "/**\n",
    " * print_elem_hex - prints an integer, in hexadecimal\n",
    " * @elem: the integer to print\n",
    " *\n",
    " * Return: Nothing.\n",
    " */\n",
    "void print_elem_hex(int elem)\n",
    "{\n",
    "    printf(\"0x%x\\n\", elem);\n",
    "}\n",
    "\n",
    "/**\n",
    " * main - check the code\n",
    " *\n",
    " * Return: Always 0.\n",
    " */\n",
    "int main(void)\n",
    "{\n",
    "    int array[5] = {0, 98, 402, 1024, 4096};\n",
    "\n",
    "    array_iterator(array, 5, &print_elem);\n",
    "    array_iterator(array, 5, &print_elem_hex);\n",
    "    return (0);\n",
    "}"
   ]
  },
  {
   "cell_type": "code",
   "execution_count": null,
   "metadata": {},
   "outputs": [
    {
     "name": "stdout",
     "output_type": "stream",
     "text": [
      "Overwriting 0x0F-function_pointers/function_pointers.h\n"
     ]
    }
   ],
   "source": [
    "%%file 0x10-variadic_functions/function_pointers.h\n",
    "#ifndef FUNCTION_POINTERS_H\n",
    "#define FUNCTION_POINTERS_H\n",
    "\n",
    "#include <stddef.h>\n",
    "\n",
    "void print_name(char *name, void (*f)(char *));\n",
    "void array_iterator(int *array, size_t size, void (*action)(int));\n",
    "\n",
    "#endif /* FUNCTION_POINTERS_H */\n"
   ]
  },
  {
   "cell_type": "code",
   "execution_count": null,
   "metadata": {},
   "outputs": [
    {
     "name": "stdout",
     "output_type": "stream",
     "text": [
      "Overwriting 0x0F-function_pointers/1-array_iterator.c\n"
     ]
    }
   ],
   "source": [
    "%%file 0x10-variadic_functions/2-int_index.c\n",
    "#include \"function_pointers.h\"\n",
    "\n",
    "/**\n",
    "* array_iterator - executes a function given as a parameter\n",
    "* on each element of an array\n",
    "* @array: array of integers\n",
    "* @size: size of the array\n",
    "* @action: pointer to the function to use\n",
    "*\n",
    "* Return: Nothing.\n",
    "*/\n",
    "void array_iterator(int *array, size_t size, void (*action)(int))\n",
    "{\n",
    "size_t i;\n",
    "\n",
    "if (array && action)\n",
    "{\n",
    "for (i = 0; i < size; i++)\n",
    "{\n",
    "action(array[i]);\n",
    "}\n",
    "}\n",
    "}\n",
    "\n"
   ]
  },
  {
   "cell_type": "code",
   "execution_count": null,
   "metadata": {},
   "outputs": [
    {
     "name": "stdout",
     "output_type": "stream",
     "text": [
      "\n",
      "========== 0x0F-function_pointers/1-array_iterator.c ==========\n",
      "array_iterator\n",
      "0\n",
      "98\n",
      "402\n",
      "1024\n",
      "4096\n",
      "0x0\n",
      "0x62\n",
      "0x192\n",
      "0x400\n",
      "0x1000\n"
     ]
    }
   ],
   "source": [
    "%%bash\n",
    "betty 0x10-variadic_functions/2-int_index.c\n",
    "gcc -Wall -pedantic -Werror -Wextra -std=gnu89 0x10-variadic_functions/2-main.c 0x10-variadic_functions/2-int_index.c -o 0x10-variadic_functions/b\n",
    "./0x10-variadic_functions/b\n"
   ]
  },
  {
   "cell_type": "code",
   "execution_count": null,
   "metadata": {},
   "outputs": [
    {
     "name": "stdout",
     "output_type": "stream",
     "text": [
      "[main cee3764] alx-low_level_programming/0x0F-function_pointers/0-putchar\n",
      " 4 files changed, 65 insertions(+)\n",
      " create mode 100644 0x0F-function_pointers/1-array_iterator.c\n",
      " create mode 100644 0x0F-function_pointers/1-main.c\n",
      " create mode 100755 0x0F-function_pointers/b\n"
     ]
    },
    {
     "name": "stderr",
     "output_type": "stream",
     "text": [
      "To https://github.com/elkomysara/alx-low_level_programming.git\n",
      "   5adae6e..cee3764  main -> main\n"
     ]
    }
   ],
   "source": [
    "%%bash\n",
    "git add .\n",
    "git commit -m \"alx-low_level_programming/0x10-variadic_functions/0-putchar\"\n",
    "git push"
   ]
  },
  {
   "cell_type": "code",
   "execution_count": null,
   "metadata": {},
   "outputs": [],
   "source": []
  },
  {
   "cell_type": "markdown",
   "metadata": {},
   "source": [
    "###\n",
    "---\n",
    "<center>\n",
    "<h4> 2. To hell with circumstances; I create opportunities</h4>\n",
    "</center>\n",
    "\n",
    "---"
   ]
  },
  {
   "cell_type": "markdown",
   "metadata": {},
   "source": [
    "\n",
    "#### Write a function that searches for an integer.\n",
    "\n",
    "* Prototype: `int int_index(int *array, int size, int (*cmp)(int));`\n",
    "* where `size` is the number of elements in the array array\n",
    "* `.` is a pointer to the function to be used to compare values\n",
    "* `int_index` returns the index of the first element for which the `cmp` function does not return` 0`\n",
    "* If no element matches, return `-1`\n",
    "* If size <= 0, return `-1`\n",
    "\n",
    "\n",
    "```bash\n",
    "julien@ubuntu:~/0x0e. Function pointers$ cat 2-main.c\n",
    "#include <stdio.h>\n",
    "#include \"function_pointers.h\"\n",
    "\n",
    "/**\n",
    " * is_98 - check if a number is equal to 98\n",
    " * @elem: the integer to check\n",
    " *\n",
    " * Return: 0 if false, something else otherwise.\n",
    " */\n",
    "int is_98(int elem)\n",
    "{\n",
    "    return (98 == elem);\n",
    "}\n",
    "\n",
    "/**\n",
    " * is_strictly_positive - check if a number is greater than 0\n",
    " * @elem: the integer to check\n",
    " *\n",
    " * Return: 0 if false, something else otherwise.\n",
    " */\n",
    "int is_strictly_positive(int elem)\n",
    "{\n",
    "    return (elem > 0);\n",
    "}\n",
    "\n",
    "\n",
    "/**\n",
    " * abs_is_98 - check if the absolute value of a number is 98\n",
    " * @elem: the integer to check\n",
    " *\n",
    " * Return: 0 if false, something else otherwise.\n",
    " */\n",
    "int abs_is_98(int elem)\n",
    "{\n",
    "    return (elem == 98 || -elem == 98);\n",
    "}\n",
    "\n",
    "/**\n",
    " * main - check the code\n",
    " *\n",
    " * Return: Always 0.\n",
    " */\n",
    "int main(void)\n",
    "{\n",
    "    int array[20] = {0, -98, 98, 402, 1024, 4096, -1024, -98, 1, 2, 3, 4, 5, 6, 7, 8, 9, 10, 11, 98};\n",
    "    int index;\n",
    "\n",
    "    index = int_index(array, 20, is_98);\n",
    "    printf(\"%d\\n\", index);\n",
    "    index = int_index(array, 20, abs_is_98);\n",
    "    printf(\"%d\\n\", index);\n",
    "    index = int_index(array, 20, is_strictly_positive);\n",
    "    printf(\"%d\\n\", index);\n",
    "    return (0);\n",
    "}\n",
    "julien@ubuntu:~/0x0e. Function pointers$ gcc -Wall -pedantic -Werror -Wextra -std=gnu89 2-main.c 2-int_index.c -o c\n",
    "julien@ubuntu:~/0x0e. Function pointers$ ./c \n",
    "2\n",
    "1\n",
    "2\n",
    "julien@ubuntu:~/0x0e. Function pointers$ \n",
    "```\n",
    "#### Repo:\n",
    "* GitHub repository: ``` alx-low_level_programming ```\n",
    "* Directory: ```0x10-variadic_functions``` \n",
    "* File: ```2-int_index.c```"
   ]
  },
  {
   "cell_type": "code",
   "execution_count": null,
   "metadata": {},
   "outputs": [
    {
     "name": "stdout",
     "output_type": "stream",
     "text": [
      "Overwriting 0x0F-function_pointers/2-main.c\n"
     ]
    }
   ],
   "source": [
    "%%file 0x10-variadic_functions/2-main.c\n",
    "#include <stdio.h>\n",
    "#include \"function_pointers.h\"\n",
    "\n",
    "/**\n",
    " * print_elem - prints an integer\n",
    " * @elem: the integer to print\n",
    " *\n",
    " * Return: Nothing.\n",
    " */\n",
    "void print_elem(int elem)\n",
    "{\n",
    "    printf(\"%d\\n\", elem);\n",
    "}\n",
    "\n",
    "/**\n",
    " * print_elem_hex - prints an integer, in hexadecimal\n",
    " * @elem: the integer to print\n",
    " *\n",
    " * Return: Nothing.\n",
    " */\n",
    "void print_elem_hex(int elem)\n",
    "{\n",
    "    printf(\"0x%x\\n\", elem);\n",
    "}\n",
    "\n",
    "/**\n",
    " * main - check the code\n",
    " *\n",
    " * Return: Always 0.\n",
    " */\n",
    "int main(void)\n",
    "{\n",
    "    int array[5] = {0, 98, 402, 1024, 4096};\n",
    "\n",
    "    array_iterator(array, 5, &print_elem);\n",
    "    array_iterator(array, 5, &print_elem_hex);\n",
    "    return (0);\n",
    "}"
   ]
  },
  {
   "cell_type": "code",
   "execution_count": null,
   "metadata": {},
   "outputs": [
    {
     "name": "stdout",
     "output_type": "stream",
     "text": [
      "Overwriting 0x0F-function_pointers/function_pointers.h\n"
     ]
    }
   ],
   "source": [
    "%%file 0x10-variadic_functions/function_pointers.h\n",
    "#ifndef FUNCTION_POINTERS_H\n",
    "#define FUNCTION_POINTERS_H\n",
    "\n",
    "#include <stddef.h>\n",
    "\n",
    "void print_name(char *name, void (*f)(char *));\n",
    "void array_iterator(int *array, size_t size, void (*action)(int));\n",
    "int int_index(int *array, int size, int (*cmp)(int));\n",
    "\n",
    "#endif /* FUNCTION_POINTERS_H */\n"
   ]
  },
  {
   "cell_type": "code",
   "execution_count": null,
   "metadata": {},
   "outputs": [
    {
     "name": "stdout",
     "output_type": "stream",
     "text": [
      "Overwriting 0x0F-function_pointers/2-int_index.c\n"
     ]
    }
   ],
   "source": [
    "%%file 0x10-variadic_functions/2-int_index.c\n",
    "#include \"function_pointers.h\"\n",
    "\n",
    "/**\n",
    "* int_index - searches for an integer in an array\n",
    "* @array: array of integers\n",
    "* @size: number of elements in the array\n",
    "* @cmp: pointer to the function to be used to compare values\n",
    "*\n",
    "* Return: index of the first element for which cmp does not return 0,\n",
    "*         or -1 if no element matches or size <= 0.\n",
    "*/\n",
    "int int_index(int *array, int size, int (*cmp)(int))\n",
    "{\n",
    "int i;\n",
    "\n",
    "if (array && cmp && size > 0)\n",
    "{\n",
    "for (i = 0; i < size; i++)\n",
    "{\n",
    "if (cmp(array[i]) != 0)\n",
    "{\n",
    "return (i);\n",
    "}\n",
    "}\n",
    "}\n",
    "return (-1);\n",
    "}\n"
   ]
  },
  {
   "cell_type": "code",
   "execution_count": null,
   "metadata": {},
   "outputs": [
    {
     "name": "stdout",
     "output_type": "stream",
     "text": [
      "\n",
      "========== 0x0F-function_pointers/2-int_index.c ==========\n",
      "int_index\n"
     ]
    },
    {
     "name": "stderr",
     "output_type": "stream",
     "text": [
      "/usr/bin/ld: /tmp/cc1ezOuy.o: in function `main':\n",
      "2-main.c:(.text+0xa2): undefined reference to `array_iterator'\n",
      "/usr/bin/ld: 2-main.c:(.text+0xba): undefined reference to `array_iterator'\n",
      "collect2: error: ld returned 1 exit status\n",
      "bash: line 3: ./0x0F-function_pointers/c: No such file or directory\n"
     ]
    },
    {
     "ename": "CalledProcessError",
     "evalue": "Command 'b'betty 0x0F-function_pointers/2-int_index.c\\ngcc -Wall -pedantic -Werror -Wextra -std=gnu89 0x0F-function_pointers/2-main.c 0x0F-function_pointers/2-int_index.c -o 0x0F-function_pointers/c\\n./0x0F-function_pointers/c\\n'' returned non-zero exit status 127.",
     "output_type": "error",
     "traceback": [
      "\u001b[0;31m---------------------------------------------------------------------------\u001b[0m\n",
      "\u001b[0;31mCalledProcessError\u001b[0m                        Traceback (most recent call last)\n",
      "Cell \u001b[0;32mIn[35], line 1\u001b[0m\n",
      "\u001b[0;32m----> 1\u001b[0m \u001b[43mget_ipython\u001b[49m\u001b[43m(\u001b[49m\u001b[43m)\u001b[49m\u001b[38;5;241;43m.\u001b[39;49m\u001b[43mrun_cell_magic\u001b[49m\u001b[43m(\u001b[49m\u001b[38;5;124;43m'\u001b[39;49m\u001b[38;5;124;43mbash\u001b[39;49m\u001b[38;5;124;43m'\u001b[39;49m\u001b[43m,\u001b[49m\u001b[43m \u001b[49m\u001b[38;5;124;43m'\u001b[39;49m\u001b[38;5;124;43m'\u001b[39;49m\u001b[43m,\u001b[49m\u001b[43m \u001b[49m\u001b[38;5;124;43m'\u001b[39;49m\u001b[38;5;124;43mbetty 0x0F-function_pointers/2-int_index.c\u001b[39;49m\u001b[38;5;130;43;01m\\n\u001b[39;49;00m\u001b[38;5;124;43mgcc -Wall -pedantic -Werror -Wextra -std=gnu89 0x0F-function_pointers/2-main.c 0x0F-function_pointers/2-int_index.c -o 0x0F-function_pointers/c\u001b[39;49m\u001b[38;5;130;43;01m\\n\u001b[39;49;00m\u001b[38;5;124;43m./0x0F-function_pointers/c\u001b[39;49m\u001b[38;5;130;43;01m\\n\u001b[39;49;00m\u001b[38;5;124;43m'\u001b[39;49m\u001b[43m)\u001b[49m\n",
      "\n",
      "File \u001b[0;32m~/anaconda3/envs/alxse/lib/python3.12/site-packages/IPython/core/interactiveshell.py:2541\u001b[0m, in \u001b[0;36mInteractiveShell.run_cell_magic\u001b[0;34m(self, magic_name, line, cell)\u001b[0m\n",
      "\u001b[1;32m   2539\u001b[0m \u001b[38;5;28;01mwith\u001b[39;00m \u001b[38;5;28mself\u001b[39m\u001b[38;5;241m.\u001b[39mbuiltin_trap:\n",
      "\u001b[1;32m   2540\u001b[0m     args \u001b[38;5;241m=\u001b[39m (magic_arg_s, cell)\n",
      "\u001b[0;32m-> 2541\u001b[0m     result \u001b[38;5;241m=\u001b[39m \u001b[43mfn\u001b[49m\u001b[43m(\u001b[49m\u001b[38;5;241;43m*\u001b[39;49m\u001b[43margs\u001b[49m\u001b[43m,\u001b[49m\u001b[43m \u001b[49m\u001b[38;5;241;43m*\u001b[39;49m\u001b[38;5;241;43m*\u001b[39;49m\u001b[43mkwargs\u001b[49m\u001b[43m)\u001b[49m\n",
      "\u001b[1;32m   2543\u001b[0m \u001b[38;5;66;03m# The code below prevents the output from being displayed\u001b[39;00m\n",
      "\u001b[1;32m   2544\u001b[0m \u001b[38;5;66;03m# when using magics with decorator @output_can_be_silenced\u001b[39;00m\n",
      "\u001b[1;32m   2545\u001b[0m \u001b[38;5;66;03m# when the last Python token in the expression is a ';'.\u001b[39;00m\n",
      "\u001b[1;32m   2546\u001b[0m \u001b[38;5;28;01mif\u001b[39;00m \u001b[38;5;28mgetattr\u001b[39m(fn, magic\u001b[38;5;241m.\u001b[39mMAGIC_OUTPUT_CAN_BE_SILENCED, \u001b[38;5;28;01mFalse\u001b[39;00m):\n",
      "\n",
      "File \u001b[0;32m~/anaconda3/envs/alxse/lib/python3.12/site-packages/IPython/core/magics/script.py:155\u001b[0m, in \u001b[0;36mScriptMagics._make_script_magic.<locals>.named_script_magic\u001b[0;34m(line, cell)\u001b[0m\n",
      "\u001b[1;32m    153\u001b[0m \u001b[38;5;28;01melse\u001b[39;00m:\n",
      "\u001b[1;32m    154\u001b[0m     line \u001b[38;5;241m=\u001b[39m script\n",
      "\u001b[0;32m--> 155\u001b[0m \u001b[38;5;28;01mreturn\u001b[39;00m \u001b[38;5;28;43mself\u001b[39;49m\u001b[38;5;241;43m.\u001b[39;49m\u001b[43mshebang\u001b[49m\u001b[43m(\u001b[49m\u001b[43mline\u001b[49m\u001b[43m,\u001b[49m\u001b[43m \u001b[49m\u001b[43mcell\u001b[49m\u001b[43m)\u001b[49m\n",
      "\n",
      "File \u001b[0;32m~/anaconda3/envs/alxse/lib/python3.12/site-packages/IPython/core/magics/script.py:315\u001b[0m, in \u001b[0;36mScriptMagics.shebang\u001b[0;34m(self, line, cell)\u001b[0m\n",
      "\u001b[1;32m    310\u001b[0m \u001b[38;5;28;01mif\u001b[39;00m args\u001b[38;5;241m.\u001b[39mraise_error \u001b[38;5;129;01mand\u001b[39;00m p\u001b[38;5;241m.\u001b[39mreturncode \u001b[38;5;241m!=\u001b[39m \u001b[38;5;241m0\u001b[39m:\n",
      "\u001b[1;32m    311\u001b[0m     \u001b[38;5;66;03m# If we get here and p.returncode is still None, we must have\u001b[39;00m\n",
      "\u001b[1;32m    312\u001b[0m     \u001b[38;5;66;03m# killed it but not yet seen its return code. We don't wait for it,\u001b[39;00m\n",
      "\u001b[1;32m    313\u001b[0m     \u001b[38;5;66;03m# in case it's stuck in uninterruptible sleep. -9 = SIGKILL\u001b[39;00m\n",
      "\u001b[1;32m    314\u001b[0m     rc \u001b[38;5;241m=\u001b[39m p\u001b[38;5;241m.\u001b[39mreturncode \u001b[38;5;129;01mor\u001b[39;00m \u001b[38;5;241m-\u001b[39m\u001b[38;5;241m9\u001b[39m\n",
      "\u001b[0;32m--> 315\u001b[0m     \u001b[38;5;28;01mraise\u001b[39;00m CalledProcessError(rc, cell)\n",
      "\n",
      "\u001b[0;31mCalledProcessError\u001b[0m: Command 'b'betty 0x0F-function_pointers/2-int_index.c\\ngcc -Wall -pedantic -Werror -Wextra -std=gnu89 0x0F-function_pointers/2-main.c 0x0F-function_pointers/2-int_index.c -o 0x0F-function_pointers/c\\n./0x0F-function_pointers/c\\n'' returned non-zero exit status 127."
     ]
    }
   ],
   "source": [
    "%%bash\n",
    "betty 0x10-variadic_functions/2-int_index.c\n",
    "gcc -Wall -pedantic -Werror -Wextra -std=gnu89 0x10-variadic_functions/2-main.c 0x10-variadic_functions/2-int_index.c -o 0x10-variadic_functions/c\n",
    "./0x10-variadic_functions/c\n"
   ]
  },
  {
   "cell_type": "code",
   "execution_count": null,
   "metadata": {},
   "outputs": [
    {
     "name": "stdout",
     "output_type": "stream",
     "text": [
      "[main b537d97] alx-low_level_programming/0x0F-function_pointers/0-putchar\n",
      " 3 files changed, 66 insertions(+)\n",
      " create mode 100644 0x0F-function_pointers/2-int_index.c\n",
      " create mode 100644 0x0F-function_pointers/2-main.c\n"
     ]
    },
    {
     "name": "stderr",
     "output_type": "stream",
     "text": [
      "To https://github.com/elkomysara/alx-low_level_programming.git\n",
      "   cee3764..b537d97  main -> main\n"
     ]
    }
   ],
   "source": [
    "%%bash\n",
    "git add .\n",
    "git commit -m \"alx-low_level_programming/0x10-variadic_functions/0-putchar\"\n",
    "git push"
   ]
  },
  {
   "cell_type": "code",
   "execution_count": null,
   "metadata": {},
   "outputs": [],
   "source": []
  },
  {
   "cell_type": "markdown",
   "metadata": {},
   "source": [
    "###\n",
    "---\n",
    "<center>\n",
    "<h4> 3. A goal is not always meant to be reached, it often serves simply as something to aim at</h4>\n",
    "</center>\n",
    "\n",
    "---"
   ]
  },
  {
   "cell_type": "markdown",
   "metadata": {},
   "source": [
    "\n",
    "#### Write a program that performs simple operations.\n",
    "\n",
    "* You are allowed to use the standard library\n",
    "* Usage: `calc num1 operator num2`\n",
    "* You can assume `num1` and `num2` are integers, so use the `atoi` function to convert them from the string input to `int`\n",
    "* `operator` is one of the following:\n",
    "    * `+`: addition\n",
    "    * `-`: subtraction\n",
    "    * `*`: multiplication\n",
    "    * `/`: division\n",
    "    * `%`: modulo\n",
    "* The program prints the result of the operation, followed by a new line\n",
    "* You can assume that the result of all operations can be stored in an `int`\n",
    "* if the number of arguments is wrong, print `Error`, followed by a new line, and exit with the status `98`\n",
    "* if the `operator` is none of the above, print `Error`, followed by a new line, and exit with the status `99`\n",
    "* if the user tries to divide (`/` or `%`) by `0`, print `Error`, followed by a new line, and exit with the status `100`\n",
    "This task requires that you create four different files.\n",
    "\n",
    "__3-calc.h__\n",
    "\n",
    "This file should contain all the function prototypes and data structures used by the program. You can use this structure:\n",
    "\n",
    "```bash\n",
    "/**\n",
    " * struct op - Struct op\n",
    " *\n",
    " * @op: The operator\n",
    " * @f: The function associated\n",
    " */\n",
    "typedef struct op\n",
    "{\n",
    "    char *op;\n",
    "    int (*f)(int a, int b);\n",
    "} op_t; \n",
    "\n",
    "```\n",
    "__3-op_functions.c__\n",
    "\n",
    "This file should contain the 5 following functions (not more):\n",
    "\n",
    "* `op_add`: returns the sum of `a `and `b`. Prototype: `int op_add(int a, int b);`\n",
    "* `op_sub`: returns the difference of a and b. Prototype: `int op_sub(int a, int b);`\n",
    "* `op_mul`: returns the product of a and b. Prototype:` int op_mul(int a, int b);`\n",
    "* `op_div`: returns the result of the division of a by b. Prototype: `int op_div(int a, int b);`\n",
    "* `op_mod`: returns the remainder of the division of a by b. Prototype: `int op_mod(int a, int b);`\n",
    "\n",
    "__3-get_op_func.c__\n",
    "\n",
    "This file should contain the function that selects the correct function to perform the operation asked by the user. You’re not allowed to declare any other function.\n",
    "\n",
    "* Prototype: `int (*get_op_func(char *s))(int, int);`\n",
    "* where `s` is the operator passed as argument to the program\n",
    "* This function returns a pointer to the function that corresponds to the operator given as a parameter. Example: `get_op_func(\"+\")` should return a pointer to the function `op_add`\n",
    "* You are not allowed to use switch statements\n",
    "* You are not allowed to use `for` or `do ... while `loops\n",
    "* You are not allowed to use `goto`\n",
    "* You are not allowed to use `else`\n",
    "* You are not allowed to use more than one `if` statement in your code\n",
    "* You are not allowed to use more than one `while` loop in your code\n",
    "* If `s` does not match any of the 5 expected operators (`+`, `-`, `*`, `/`, `%`), return `NULL`\n",
    "* You are only allowed to declare these two variables in this function:\n",
    "```bash\n",
    " op_t ops[] = {\n",
    "        {\"+\", op_add},\n",
    "        {\"-\", op_sub},\n",
    "        {\"*\", op_mul},\n",
    "        {\"/\", op_div},\n",
    "        {\"%\", op_mod},\n",
    "        {NULL, NULL}\n",
    "    };\n",
    "    int i;\n",
    "\n",
    "```\n",
    "__3-main.c__\n",
    "\n",
    "This file should contain your `main` function only.\n",
    "\n",
    "* You are not allowed to code any other function than `main` in this file\n",
    "* You are not allowed to directly call `op_add`, `op_sub`, `op_mul`, `op_div` or `op_mod` from the `main `function\n",
    "* You have to use `atoi` to convert arguments to `int`\n",
    "* You are not allowed to use any kind of loop\n",
    "* You are allowed to use a maximum of 3 `if` statements\n",
    "\n",
    "__Compilation and examples__\n",
    "\n",
    "```bash\n",
    "julien@ubuntu:~/0x0e. Function pointers$ gcc -Wall -pedantic -Werror -Wextra -std=gnu89 3-main.c 3-op_functions.c 3-get_op_func.c -o calc\n",
    "julien@ubuntu:~/0x0e. Function pointers$ ./calc 1 + 1\n",
    "2\n",
    "julien@ubuntu:~/0x0e. Function pointers$ ./calc 97 + 1\n",
    "98\n",
    "julien@ubuntu:~/0x0e. Function pointers$ ./calc 1024 / 10\n",
    "102\n",
    "julien@ubuntu:~/0x0e. Function pointers$ ./calc 1024 '*' 98\n",
    "100352\n",
    "julien@ubuntu:~/0x0e. Function pointers$ ./calc 1024 '\\*' 98\n",
    "Error\n",
    "julien@ubuntu:~/0x0e. Function pointers$ ./calc 1024 - 98\n",
    "926\n",
    "julien@ubuntu:~/0x0e. Function pointers$ ./calc 1024 '%' 98\n",
    "44\n",
    "julien@ubuntu:~/0x0e. Function pointers$ \n",
    "```\n",
    "\n",
    "\n",
    "#### Repo:\n",
    "* GitHub repository: ``` alx-low_level_programming ```\n",
    "* Directory: ```0x10-variadic_functions``` \n",
    "* File: ```3-main.c, 3-op_functions.c, 3-get_op_func.c, 3-calc.h```"
   ]
  },
  {
   "cell_type": "code",
   "execution_count": null,
   "metadata": {},
   "outputs": [
    {
     "name": "stdout",
     "output_type": "stream",
     "text": [
      "Overwriting 0x0F-function_pointers/3-calc.h\n"
     ]
    }
   ],
   "source": [
    "%%file 0x10-variadic_functions/3-calc.h\n",
    "#ifndef CALC_H\n",
    "#define CALC_H\n",
    "\n",
    "/**\n",
    "* struct op - Struct op\n",
    "*\n",
    "* @op: The operator\n",
    "* @f: The function associated\n",
    "*/\n",
    "typedef struct op\n",
    "{\n",
    "char *op;\n",
    "int (*f)(int a, int b);\n",
    "} op_t;\n",
    "\n",
    "int op_add(int a, int b);\n",
    "int op_sub(int a, int b);\n",
    "int op_mul(int a, int b);\n",
    "int op_div(int a, int b);\n",
    "int op_mod(int a, int b);\n",
    "int (*get_op_func(char *s))(int, int);\n",
    "\n",
    "#endif /* CALC_H */"
   ]
  },
  {
   "cell_type": "code",
   "execution_count": null,
   "metadata": {},
   "outputs": [
    {
     "name": "stdout",
     "output_type": "stream",
     "text": [
      "Overwriting 0x0F-function_pointers/3-op_functions.c\n"
     ]
    }
   ],
   "source": [
    "%%file 0x10-variadic_functions/3-op_functions.c\n",
    "#include \"3-calc.h\"\n",
    "#include <stddef.h>\n",
    "\n",
    "/**\n",
    "* op_add - returns the sum of a and b\n",
    "* @a: first integer\n",
    "* @b: second integer\n",
    "*\n",
    "* Return: sum of a and b\n",
    "*/\n",
    "int op_add(int a, int b)\n",
    "{\n",
    "return (a + b);\n",
    "}\n",
    "\n",
    "/**\n",
    "* op_sub - returns the difference of a and b\n",
    "* @a: first integer\n",
    "* @b: second integer\n",
    "*\n",
    "* Return: difference of a and b\n",
    "*/\n",
    "int op_sub(int a, int b)\n",
    "{\n",
    "return (a - b);\n",
    "}\n",
    "\n",
    "/**\n",
    "* op_mul - returns the product of a and b\n",
    "* @a: first integer\n",
    "* @b: second integer\n",
    "*\n",
    "* Return: product of a and b\n",
    "*/\n",
    "int op_mul(int a, int b)\n",
    "{\n",
    "return (a * b);\n",
    "}\n",
    "\n",
    "/**\n",
    "* op_div - returns the result of the division of a by b\n",
    "* @a: first integer\n",
    "* @b: second integer\n",
    "*\n",
    "* Return: result of the division of a by b\n",
    "*/\n",
    "int op_div(int a, int b)\n",
    "{\n",
    "if (b == 0)\n",
    "{\n",
    "return (100);\n",
    "}\n",
    "return (a / b);\n",
    "}\n",
    "\n",
    "/**\n",
    "* op_mod - returns the remainder of the division of a by b\n",
    "* @a: first integer\n",
    "* @b: second integer\n",
    "*\n",
    "* Return: remainder of the division of a by b\n",
    "*/\n",
    "int op_mod(int a, int b)\n",
    "{\n",
    "if (b == 0)\n",
    "{\n",
    "return (100);\n",
    "}\n",
    "return (a % b);\n",
    "}\n",
    "\n"
   ]
  },
  {
   "cell_type": "code",
   "execution_count": null,
   "metadata": {},
   "outputs": [
    {
     "name": "stdout",
     "output_type": "stream",
     "text": [
      "Overwriting 0x0F-function_pointers/3-get_op_func.c\n"
     ]
    }
   ],
   "source": [
    "%%file 0x10-variadic_functions/3-get_op_func.c\n",
    "\n",
    "#include \"3-calc.h\"\n",
    "#include <stddef.h>\n",
    "\n",
    "/**\n",
    "* get_op_func - selects the correct function to perform the operation\n",
    "* @s: the operator passed as argument\n",
    "*\n",
    "* Return: pointer to the function that corresponds to the operator given\n",
    "*/\n",
    "int (*get_op_func(char *s))(int, int)\n",
    "{\n",
    "op_t ops[] = {\n",
    "{\"+\", op_add},\n",
    "{\"-\", op_sub},\n",
    "{\"*\", op_mul},\n",
    "{\"/\", op_div},\n",
    "{\"%\", op_mod},\n",
    "{NULL, NULL}\n",
    "};\n",
    "int i = 0;\n",
    "\n",
    "while (ops[i].op != NULL)\n",
    "{\n",
    "if (*(ops[i].op) == *s && s[1] == '\\0')\n",
    "{\n",
    "return (ops[i].f);\n",
    "}\n",
    "i++;\n",
    "}\n",
    "return (NULL);\n",
    "}"
   ]
  },
  {
   "cell_type": "code",
   "execution_count": null,
   "metadata": {},
   "outputs": [
    {
     "name": "stdout",
     "output_type": "stream",
     "text": [
      "Overwriting 0x0F-function_pointers/3-main.c\n"
     ]
    }
   ],
   "source": [
    "%%file 0x10-variadic_functions/3-main.c\n",
    "\n",
    "#include <stdio.h>\n",
    "#include <stdlib.h>\n",
    "#include \"3-calc.h\"\n",
    "#include <stddef.h>\n",
    "\n",
    "/**\n",
    "* main - performs simple operations\n",
    "* @argc: number of arguments\n",
    "* @argv: array of arguments\n",
    "*\n",
    "* Return: 0 on success, otherwise error code\n",
    "*/\n",
    "int main(int argc, char *argv[])\n",
    "{\n",
    "int num1, num2, result;\n",
    "int (*op_func)(int, int);\n",
    "\n",
    "if (argc != 4)\n",
    "{\n",
    "printf(\"Error\\n\");\n",
    "exit(98);\n",
    "}\n",
    "\n",
    "num1 = atoi(argv[1]);\n",
    "num2 = atoi(argv[3]);\n",
    "\n",
    "op_func = get_op_func(argv[2]);\n",
    "\n",
    "if (op_func == NULL)\n",
    "{\n",
    "printf(\"Error\\n\");\n",
    "exit(99);\n",
    "}\n",
    "\n",
    "result = op_func(num1, num2);\n",
    "\n",
    "if ((op_func == op_div || op_func == op_mod) && num2 == 0)\n",
    "{\n",
    "printf(\"Error\\n\");\n",
    "exit(100);\n",
    "}\n",
    "\n",
    "printf(\"%d\\n\", result);\n",
    "\n",
    "return (0);\n",
    "}\n"
   ]
  },
  {
   "cell_type": "code",
   "execution_count": null,
   "metadata": {},
   "outputs": [
    {
     "name": "stdout",
     "output_type": "stream",
     "text": [
      "\n",
      "========== 0x0F-function_pointers/3-op_functions.c ==========\n",
      "op_add\n",
      "op_sub\n",
      "op_mul\n",
      "op_div\n",
      "op_mod\n",
      "\n",
      "========== 0x0F-function_pointers/3-get_op_func.c ==========\n",
      "get_op_func\n",
      "Error\n"
     ]
    },
    {
     "ename": "CalledProcessError",
     "evalue": "Command 'b'betty 0x0F-function_pointers/3-op_functions.c \\nbetty 0x0F-function_pointers/3-get_op_func.c\\ngcc -Wall -pedantic -Werror -Wextra -std=gnu89 0x0F-function_pointers/3-main.c 0x0F-function_pointers/3-op_functions.c 0x0F-function_pointers/3-get_op_func.c  -o 0x0F-function_pointers/calc\\n./0x0F-function_pointers/calc\\n'' returned non-zero exit status 98.",
     "output_type": "error",
     "traceback": [
      "\u001b[0;31m---------------------------------------------------------------------------\u001b[0m\n",
      "\u001b[0;31mCalledProcessError\u001b[0m                        Traceback (most recent call last)\n",
      "Cell \u001b[0;32mIn[68], line 1\u001b[0m\n",
      "\u001b[0;32m----> 1\u001b[0m \u001b[43mget_ipython\u001b[49m\u001b[43m(\u001b[49m\u001b[43m)\u001b[49m\u001b[38;5;241;43m.\u001b[39;49m\u001b[43mrun_cell_magic\u001b[49m\u001b[43m(\u001b[49m\u001b[38;5;124;43m'\u001b[39;49m\u001b[38;5;124;43mbash\u001b[39;49m\u001b[38;5;124;43m'\u001b[39;49m\u001b[43m,\u001b[49m\u001b[43m \u001b[49m\u001b[38;5;124;43m'\u001b[39;49m\u001b[38;5;124;43m'\u001b[39;49m\u001b[43m,\u001b[49m\u001b[43m \u001b[49m\u001b[38;5;124;43m'\u001b[39;49m\u001b[38;5;124;43mbetty 0x0F-function_pointers/3-op_functions.c \u001b[39;49m\u001b[38;5;130;43;01m\\n\u001b[39;49;00m\u001b[38;5;124;43mbetty 0x0F-function_pointers/3-get_op_func.c\u001b[39;49m\u001b[38;5;130;43;01m\\n\u001b[39;49;00m\u001b[38;5;124;43mgcc -Wall -pedantic -Werror -Wextra -std=gnu89 0x0F-function_pointers/3-main.c 0x0F-function_pointers/3-op_functions.c 0x0F-function_pointers/3-get_op_func.c  -o 0x0F-function_pointers/calc\u001b[39;49m\u001b[38;5;130;43;01m\\n\u001b[39;49;00m\u001b[38;5;124;43m./0x0F-function_pointers/calc\u001b[39;49m\u001b[38;5;130;43;01m\\n\u001b[39;49;00m\u001b[38;5;124;43m'\u001b[39;49m\u001b[43m)\u001b[49m\n",
      "\n",
      "File \u001b[0;32m~/anaconda3/envs/alxse/lib/python3.12/site-packages/IPython/core/interactiveshell.py:2541\u001b[0m, in \u001b[0;36mInteractiveShell.run_cell_magic\u001b[0;34m(self, magic_name, line, cell)\u001b[0m\n",
      "\u001b[1;32m   2539\u001b[0m \u001b[38;5;28;01mwith\u001b[39;00m \u001b[38;5;28mself\u001b[39m\u001b[38;5;241m.\u001b[39mbuiltin_trap:\n",
      "\u001b[1;32m   2540\u001b[0m     args \u001b[38;5;241m=\u001b[39m (magic_arg_s, cell)\n",
      "\u001b[0;32m-> 2541\u001b[0m     result \u001b[38;5;241m=\u001b[39m \u001b[43mfn\u001b[49m\u001b[43m(\u001b[49m\u001b[38;5;241;43m*\u001b[39;49m\u001b[43margs\u001b[49m\u001b[43m,\u001b[49m\u001b[43m \u001b[49m\u001b[38;5;241;43m*\u001b[39;49m\u001b[38;5;241;43m*\u001b[39;49m\u001b[43mkwargs\u001b[49m\u001b[43m)\u001b[49m\n",
      "\u001b[1;32m   2543\u001b[0m \u001b[38;5;66;03m# The code below prevents the output from being displayed\u001b[39;00m\n",
      "\u001b[1;32m   2544\u001b[0m \u001b[38;5;66;03m# when using magics with decorator @output_can_be_silenced\u001b[39;00m\n",
      "\u001b[1;32m   2545\u001b[0m \u001b[38;5;66;03m# when the last Python token in the expression is a ';'.\u001b[39;00m\n",
      "\u001b[1;32m   2546\u001b[0m \u001b[38;5;28;01mif\u001b[39;00m \u001b[38;5;28mgetattr\u001b[39m(fn, magic\u001b[38;5;241m.\u001b[39mMAGIC_OUTPUT_CAN_BE_SILENCED, \u001b[38;5;28;01mFalse\u001b[39;00m):\n",
      "\n",
      "File \u001b[0;32m~/anaconda3/envs/alxse/lib/python3.12/site-packages/IPython/core/magics/script.py:155\u001b[0m, in \u001b[0;36mScriptMagics._make_script_magic.<locals>.named_script_magic\u001b[0;34m(line, cell)\u001b[0m\n",
      "\u001b[1;32m    153\u001b[0m \u001b[38;5;28;01melse\u001b[39;00m:\n",
      "\u001b[1;32m    154\u001b[0m     line \u001b[38;5;241m=\u001b[39m script\n",
      "\u001b[0;32m--> 155\u001b[0m \u001b[38;5;28;01mreturn\u001b[39;00m \u001b[38;5;28;43mself\u001b[39;49m\u001b[38;5;241;43m.\u001b[39;49m\u001b[43mshebang\u001b[49m\u001b[43m(\u001b[49m\u001b[43mline\u001b[49m\u001b[43m,\u001b[49m\u001b[43m \u001b[49m\u001b[43mcell\u001b[49m\u001b[43m)\u001b[49m\n",
      "\n",
      "File \u001b[0;32m~/anaconda3/envs/alxse/lib/python3.12/site-packages/IPython/core/magics/script.py:315\u001b[0m, in \u001b[0;36mScriptMagics.shebang\u001b[0;34m(self, line, cell)\u001b[0m\n",
      "\u001b[1;32m    310\u001b[0m \u001b[38;5;28;01mif\u001b[39;00m args\u001b[38;5;241m.\u001b[39mraise_error \u001b[38;5;129;01mand\u001b[39;00m p\u001b[38;5;241m.\u001b[39mreturncode \u001b[38;5;241m!=\u001b[39m \u001b[38;5;241m0\u001b[39m:\n",
      "\u001b[1;32m    311\u001b[0m     \u001b[38;5;66;03m# If we get here and p.returncode is still None, we must have\u001b[39;00m\n",
      "\u001b[1;32m    312\u001b[0m     \u001b[38;5;66;03m# killed it but not yet seen its return code. We don't wait for it,\u001b[39;00m\n",
      "\u001b[1;32m    313\u001b[0m     \u001b[38;5;66;03m# in case it's stuck in uninterruptible sleep. -9 = SIGKILL\u001b[39;00m\n",
      "\u001b[1;32m    314\u001b[0m     rc \u001b[38;5;241m=\u001b[39m p\u001b[38;5;241m.\u001b[39mreturncode \u001b[38;5;129;01mor\u001b[39;00m \u001b[38;5;241m-\u001b[39m\u001b[38;5;241m9\u001b[39m\n",
      "\u001b[0;32m--> 315\u001b[0m     \u001b[38;5;28;01mraise\u001b[39;00m CalledProcessError(rc, cell)\n",
      "\n",
      "\u001b[0;31mCalledProcessError\u001b[0m: Command 'b'betty 0x0F-function_pointers/3-op_functions.c \\nbetty 0x0F-function_pointers/3-get_op_func.c\\ngcc -Wall -pedantic -Werror -Wextra -std=gnu89 0x0F-function_pointers/3-main.c 0x0F-function_pointers/3-op_functions.c 0x0F-function_pointers/3-get_op_func.c  -o 0x0F-function_pointers/calc\\n./0x0F-function_pointers/calc\\n'' returned non-zero exit status 98."
     ]
    }
   ],
   "source": [
    "%%bash\n",
    "betty 0x10-variadic_functions/3-op_functions.c \n",
    "betty 0x10-variadic_functions/3-get_op_func.c\n",
    "gcc -Wall -pedantic -Werror -Wextra -std=gnu89 0x10-variadic_functions/3-main.c 0x10-variadic_functions/3-op_functions.c 0x10-variadic_functions/3-get_op_func.c  -o 0x10-variadic_functions/calc\n",
    "./0x10-variadic_functions/calc\n"
   ]
  },
  {
   "cell_type": "code",
   "execution_count": null,
   "metadata": {},
   "outputs": [
    {
     "name": "stdout",
     "output_type": "stream",
     "text": [
      "[main 139c65b] alx-low_level_programming/0x0F-function_pointers/0-putchar\n",
      " 3 files changed, 86 insertions(+), 86 deletions(-)\n",
      " rewrite 0x0F-function_pointers/3-get_op_func.c (85%)\n",
      " rewrite 0x0F-function_pointers/3-main.c (83%)\n"
     ]
    },
    {
     "name": "stderr",
     "output_type": "stream",
     "text": [
      "To https://github.com/elkomysara/alx-low_level_programming.git\n",
      "   4fab420..139c65b  main -> main\n"
     ]
    }
   ],
   "source": [
    "%%bash\n",
    "git add .\n",
    "git commit -m \"alx-low_level_programming/0x10-variadic_functions/0-putchar\"\n",
    "git push"
   ]
  },
  {
   "cell_type": "code",
   "execution_count": null,
   "metadata": {},
   "outputs": [],
   "source": []
  },
  {
   "cell_type": "markdown",
   "metadata": {},
   "source": [
    "###\n",
    "---\n",
    "<center>\n",
    "<h4> 4. Most hackers are young because young people tend to be adaptable. As long as you remain adaptable, you can always be a good hacker</h4>\n",
    "</center>\n",
    "\n",
    "---"
   ]
  },
  {
   "cell_type": "markdown",
   "metadata": {},
   "source": [
    "\n",
    "#### Write a program that prints the [opcodes](https://en.wikipedia.org/wiki/Opcode) of its own main function.\n",
    "\n",
    "* Usage: `./main number_of_bytes`\n",
    "* Output format:\n",
    "    * the opcodes should be printed in hexadecimal, lowercase\n",
    "    * each opcode is two char long\n",
    "    * listing ends with a new line\n",
    "    * see example\n",
    "* You are allowed to use `printf` and `atoi`\n",
    "* You have to use `atoi` to convert the argument to an `int`\n",
    "* If the number of argument is not the correct one, print `Error`, followed by a new line, and exit with the status `1`\n",
    "* If the number of bytes is negative, print `Error`, followed by a new line, and exit with the status `2`\n",
    "* You do not have to compile with any flags\n",
    "Note: if you want to translate your opcodes to assembly instructions, you can use, for instance [udcli](https://sourceforge.net/projects/udis86/).\n",
    "\n",
    "```bash\n",
    "julien@ubuntu:~/0x0e. Function pointers$ gcc -std=gnu89 100-main_opcodes.c -o main\n",
    "julien@ubuntu:~/0x0e. Function pointers$ ./main 21\n",
    "55 48 89 e5 48 83 ec 30 89 7d dc 48 89 75 d0 83 7d dc 02 74 14\n",
    "julien@ubuntu:~/0x0e. Function pointers$ objdump -d -j.text -M intel main\n",
    "[...]\n",
    "00000000004005f6 <main>:\n",
    "  4005f6:   55                      push   rbp\n",
    "  4005f7:   48 89 e5                mov    rbp,rsp\n",
    "  4005fa:   48 83 ec 30             sub    rsp,0x30\n",
    "  4005fe:   89 7d dc                mov    DWORD PTR [rbp-0x24],edi\n",
    "  400601:   48 89 75 d0             mov    QWORD PTR [rbp-0x30],rsi\n",
    "  400605:   83 7d dc 02             cmp    DWORD PTR [rbp-0x24],0x2\n",
    "  400609:   74 14                   je     40061f <main+0x29>\n",
    "[...]\n",
    "julien@ubuntu:~/0x0e. Function pointers$ ./main 21 | udcli -64 -x -o 4005f6\n",
    "00000000004005f6 55               push rbp                \n",
    "00000000004005f7 4889e5           mov rbp, rsp            \n",
    "00000000004005fa 4883ec30         sub rsp, 0x30           \n",
    "00000000004005fe 897ddc           mov [rbp-0x24], edi     \n",
    "0000000000400601 488975d0         mov [rbp-0x30], rsi     \n",
    "0000000000400605 837ddc02         cmp dword [rbp-0x24], 0x2\n",
    "0000000000400609 7414             jz 0x40061f             \n",
    "julien@ubuntu:~/0x0e. Function pointers$ \n",
    "```\n",
    "* Note 0: `je `is equivalent to `jz`\n",
    "* Note 1: depending on how you write your `main` function, and on which machine you compile your program, the opcodes (and by extension the assembly code) might be different than the above example\n",
    "\n",
    "#### Repo:\n",
    "* GitHub repository: ``` alx-low_level_programming ```\n",
    "* Directory: ```0x10-variadic_functions``` \n",
    "* File: ```100-main_opcodes.c```"
   ]
  },
  {
   "cell_type": "code",
   "execution_count": null,
   "metadata": {},
   "outputs": [
    {
     "name": "stdout",
     "output_type": "stream",
     "text": [
      "Writing 0x0F-function_pointers/100-main_opcodes.c\n"
     ]
    }
   ],
   "source": [
    "%%file 0x10-variadic_functions/100-main_opcodes.c\n",
    "#include <stdio.h>\n",
    "#include <stdlib.h>\n",
    "\n",
    "/**\n",
    "* main - prints its own opcodes\n",
    "* @argc: number of arguments\n",
    "* @argv: array of arguments\n",
    "*\n",
    "* Return: Always 0 (Success)\n",
    "*/\n",
    "int main(int argc, char *argv[])\n",
    "{\n",
    "int bytes, i;\n",
    "unsigned char *main_ptr;\n",
    "\n",
    "if (argc != 2)\n",
    "{\n",
    "printf(\"Error\\n\");\n",
    "exit(1);\n",
    "}\n",
    "\n",
    "bytes = atoi(argv[1]);\n",
    "\n",
    "if (bytes < 0)\n",
    "{\n",
    "printf(\"Error\\n\");\n",
    "exit(2);\n",
    "}\n",
    "\n",
    "main_ptr = (unsigned char *)main;\n",
    "\n",
    "for (i = 0; i < bytes; i++)\n",
    "{\n",
    "printf(\"%02x\", main_ptr[i]);\n",
    "if (i < bytes - 1)\n",
    "printf(\" \");\n",
    "}\n",
    "\n",
    "printf(\"\\n\");\n",
    "\n",
    "return (0);\n",
    "}\n"
   ]
  },
  {
   "cell_type": "code",
   "execution_count": null,
   "metadata": {},
   "outputs": [
    {
     "name": "stdout",
     "output_type": "stream",
     "text": [
      "f3 0f 1e fa 55 48 89 e5 48 83 ec 20 89 7d ec 48 89 75 e0 83 7d\n"
     ]
    }
   ],
   "source": [
    "%%bash\n",
    "gcc -std=gnu89 0x10-variadic_functions/100-main_opcodes.c -o 0x10-variadic_functions/main\n",
    "./0x10-variadic_functions/main 21\n"
   ]
  },
  {
   "cell_type": "code",
   "execution_count": null,
   "metadata": {},
   "outputs": [
    {
     "name": "stdout",
     "output_type": "stream",
     "text": [
      "[main 29d9347] alx-low_level_programming/0x0F-function_pointers/0-putchar\n",
      " 2 files changed, 42 insertions(+)\n",
      " create mode 100644 0x0F-function_pointers/100-main_opcodes.c\n",
      " create mode 100755 0x0F-function_pointers/main\n"
     ]
    },
    {
     "name": "stderr",
     "output_type": "stream",
     "text": [
      "To https://github.com/elkomysara/alx-low_level_programming.git\n",
      "   139c65b..29d9347  main -> main\n"
     ]
    }
   ],
   "source": [
    "%%bash\n",
    "git add .\n",
    "git commit -m \"alx-low_level_programming/0x10-variadic_functions/0-putchar\"\n",
    "git push"
   ]
  },
  {
   "cell_type": "code",
   "execution_count": null,
   "metadata": {},
   "outputs": [],
   "source": []
  }
 ],
 "metadata": {
  "kernelspec": {
   "display_name": "Python 3",
   "language": "python",
   "name": "python3"
  },
  "language_info": {
   "codemirror_mode": {
    "name": "ipython",
    "version": 3
   },
   "file_extension": ".py",
   "mimetype": "text/x-python",
   "name": "python",
   "nbconvert_exporter": "python",
   "pygments_lexer": "ipython3",
   "version": "3.12.3"
  }
 },
 "nbformat": 4,
 "nbformat_minor": 2
}
