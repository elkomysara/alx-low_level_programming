{
 "cells": [
  {
   "cell_type": "markdown",
   "metadata": {},
   "source": [
    "---\n",
    "<center>\n",
    "<h1>  alx-low_level_programming </h1>\n",
    "</center>\n",
    "\n",
    "---\n"
   ]
  },
  {
   "cell_type": "code",
   "execution_count": 5,
   "metadata": {},
   "outputs": [],
   "source": [
    "import os\n",
    "# creating 0x02-shell_redirectionss\n",
    "\n",
    "folder_path = r'/home/elkomy/alx/alx-low_level_programming/0x10-variadic_functions'\n",
    "if not os.path.exists(folder_path):\n",
    "    os.makedirs(folder_path)\n",
    "\n",
    "# Create a README.md inside alx-low_level_programming/0x10-variadic_functions\n",
    "file_path = os.path.join(folder_path, 'README.md')\n",
    "\n",
    "with open(file_path, 'w') as file:\n",
    "    file.write(\"This is a README.md file inside alx-low_level_programming/0x10-variadic_functions\")\n",
    "\n"
   ]
  },
  {
   "cell_type": "markdown",
   "metadata": {},
   "source": [
    "###\n",
    "---\n",
    "<center>\n",
    "<h1> 0x10. C - Variadic functions </h1>\n",
    "</center>\n",
    "\n",
    "---\n"
   ]
  },
  {
   "cell_type": "markdown",
   "metadata": {},
   "source": [
    "###\n",
    "---\n",
    "<center>\n",
    "<h4> 0. Beauty is variable, ugliness is constant</h4>\n",
    "</center>\n",
    "\n",
    "---"
   ]
  },
  {
   "cell_type": "markdown",
   "metadata": {},
   "source": [
    "\n",
    "#### Write a function that returns the sum of all its parameters.\n",
    "\n",
    "* Prototype: `int sum_them_all(const unsigned int n, ...);`\n",
    "* If `n == 0`, return `0`\n",
    "\n",
    "```bash\n",
    "julien@ubuntu:~/0x0f. variadic functions$ cat 0-main.c\n",
    "#include <stdio.h>\n",
    "#include \"variadic_functions.h\"\n",
    "\n",
    "/**\n",
    " * main - check the code\n",
    " *\n",
    " * Return: Always 0.\n",
    " */\n",
    "int main(void)\n",
    "{\n",
    "    int sum;\n",
    "\n",
    "    sum = sum_them_all(2, 98, 1024);\n",
    "    printf(\"%d\\n\", sum);\n",
    "    sum = sum_them_all(4, 98, 1024, 402, -1024);\n",
    "    printf(\"%d\\n\", sum);    \n",
    "    return (0);\n",
    "}\n",
    "julien@ubuntu:~/0x0f. variadic functions$ gcc -Wall -pedantic -Werror -Wextra -std=gnu89 0-main.c 0-sum_them_all.c -o a\n",
    "julien@ubuntu:~/0x0f. variadic functions$ ./a \n",
    "1122\n",
    "500\n",
    "julien@ubuntu:~/0x0f. variadic functions$ \n",
    "\n",
    "```\n",
    "#### Repo:\n",
    "* GitHub repository: ``` alx-low_level_programming ```\n",
    "* Directory: ```0x10-variadic_functions``` \n",
    "* File: ```0-sum_them_all.c```"
   ]
  },
  {
   "cell_type": "code",
   "execution_count": 2,
   "metadata": {},
   "outputs": [
    {
     "name": "stdout",
     "output_type": "stream",
     "text": [
      "Overwriting 0x10-variadic_functions/0-main.c\n"
     ]
    }
   ],
   "source": [
    "%%file 0x10-variadic_functions/0-main.c\n",
    "#include <stdio.h>\n",
    "#include \"variadic_functions.h\"\n",
    "\n",
    "/**\n",
    " * main - check the code\n",
    " *\n",
    " * Return: Always 0.\n",
    " */\n",
    "int main(void)\n",
    "{\n",
    "    int sum;\n",
    "\n",
    "    sum = sum_them_all(2, 98, 1024);\n",
    "    printf(\"%d\\n\", sum);\n",
    "    sum = sum_them_all(4, 98, 1024, 402, -1024);\n",
    "    printf(\"%d\\n\", sum);    \n",
    "    return (0);\n",
    "}"
   ]
  },
  {
   "cell_type": "code",
   "execution_count": 24,
   "metadata": {},
   "outputs": [
    {
     "name": "stdout",
     "output_type": "stream",
     "text": [
      "Overwriting 0x10-variadic_functions/_putchar.c\n"
     ]
    }
   ],
   "source": [
    "%%file 0x10-variadic_functions/_putchar.c\n",
    "#include <unistd.h>\n",
    "#include <variadic_functions.h>\n",
    "\n",
    "/**\n",
    " * _putchar - writes the character c to stdout\n",
    " * @c: The character to print\n",
    " *\n",
    " * Return: On success 1.\n",
    " * On error, -1 is returned, and errno is set appropriately.\n",
    " */\n",
    "int _putchar(char c)\n",
    "{\n",
    "    return write(1, &c, 1);\n",
    "}\n"
   ]
  },
  {
   "cell_type": "code",
   "execution_count": 25,
   "metadata": {},
   "outputs": [
    {
     "name": "stdout",
     "output_type": "stream",
     "text": [
      "Overwriting 0x10-variadic_functions/variadic_functions.h\n"
     ]
    }
   ],
   "source": [
    "%%file 0x10-variadic_functions/variadic_functions.h\n",
    "#ifndef VARIADIC_FUNCTIONS_H\n",
    "#define VARIADIC_FUNCTIONS_H\n",
    "\n",
    "#include <stdarg.h>\n",
    "\n",
    "int sum_them_all(const unsigned int n, ...);\n",
    "int _putchar(char c);\n",
    "\n",
    "#endif /* VARIADIC_FUNCTIONS_H */\n",
    "\n"
   ]
  },
  {
   "cell_type": "code",
   "execution_count": 26,
   "metadata": {},
   "outputs": [
    {
     "name": "stdout",
     "output_type": "stream",
     "text": [
      "Overwriting 0x10-variadic_functions/0-sum_them_all.c\n"
     ]
    }
   ],
   "source": [
    "%%file 0x10-variadic_functions/0-sum_them_all.c\n",
    "#include \"variadic_functions.h\"\n",
    "\n",
    "/**\n",
    "* sum_them_all - Returns the sum of all its parameters.\n",
    "* @n: The number of parameters passed to the function.\n",
    "*\n",
    "* Return: The sum of all parameters, or 0 if n == 0.\n",
    "*/\n",
    "int sum_them_all(const unsigned int n, ...)\n",
    "{\n",
    "unsigned int i;\n",
    "int sum = 0;\n",
    "va_list args;\n",
    "\n",
    "if (n == 0)\n",
    "return (0);\n",
    "\n",
    "va_start(args, n);\n",
    "for (i = 0; i < n; i++)\n",
    "{\n",
    "sum += va_arg(args, int);\n",
    "}\n",
    "va_end(args);\n",
    "\n",
    "return (sum);\n",
    "}\n",
    "\n"
   ]
  },
  {
   "cell_type": "code",
   "execution_count": 27,
   "metadata": {},
   "outputs": [
    {
     "name": "stdout",
     "output_type": "stream",
     "text": [
      "\n",
      "========== 0x10-variadic_functions/0-sum_them_all.c ==========\n",
      "sum_them_all\n",
      "1122\n",
      "500\n"
     ]
    }
   ],
   "source": [
    "%%bash\n",
    "betty 0x10-variadic_functions/0-sum_them_all.c\n",
    "gcc -Wall -pedantic -Werror -Wextra -std=gnu89 0x10-variadic_functions/0-main.c 0x10-variadic_functions/0-sum_them_all.c -o 0x10-variadic_functions/a\n",
    "./0x10-variadic_functions/a\n"
   ]
  },
  {
   "cell_type": "code",
   "execution_count": 28,
   "metadata": {},
   "outputs": [
    {
     "name": "stdout",
     "output_type": "stream",
     "text": [
      "[main 34af53b] alx-low_level_programming/0x10-variadic_functions/0-putchar\n",
      " 1 file changed, 1 insertion(+)\n"
     ]
    },
    {
     "name": "stderr",
     "output_type": "stream",
     "text": [
      "To https://github.com/elkomysara/alx-low_level_programming.git\n",
      "   7c457fc..34af53b  main -> main\n"
     ]
    }
   ],
   "source": [
    "%%bash\n",
    "git add .\n",
    "git commit -m \"alx-low_level_programming/0x10-variadic_functions/0-putchar\"\n",
    "git push"
   ]
  },
  {
   "cell_type": "markdown",
   "metadata": {},
   "source": [
    "###\n",
    "---\n",
    "<center>\n",
    "<h4> 1. To be is to be the value of a variable</h4>\n",
    "</center>\n",
    "\n",
    "---"
   ]
  },
  {
   "cell_type": "markdown",
   "metadata": {},
   "source": [
    "\n",
    "#### Write a function that prints numbers, followed by a new line.\n",
    "\n",
    "* Prototype: `void print_numbers(const char *separator, const unsigned int n, ...);`\n",
    "* where `separator` is the string to be printed between numbers\n",
    "* and `n` is the number of integers passed to the function\n",
    "* You are allowed to use `printf`\n",
    "* If `separator` is `NULL`, don’t print it\n",
    "* Print a new line at the end of your function\n",
    "\n",
    "\n",
    "```bash\n",
    "julien@ubuntu:~/0x0f. variadic functions$ cat 1-main.c\n",
    "#include \"variadic_functions.h\"\n",
    "\n",
    "/**\n",
    " * main - check the code\n",
    " *\n",
    " * Return: Always 0.\n",
    " */\n",
    "int main(void)\n",
    "{\n",
    "    print_numbers(\", \", 4, 0, 98, -1024, 402);\n",
    "    return (0);\n",
    "}\n",
    "julien@ubuntu:~/0x0f. variadic functions$ gcc -Wall -pedantic -Werror -Wextra -std=gnu89 1-main.c 1-print_numbers.c -o b\n",
    "julien@ubuntu:~/0x0f. variadic functions$ ./b\n",
    "0, 98, -1024, 402\n",
    "julien@ubuntu:~/0x0f. variadic functions$ \n",
    "\n",
    "```\n",
    "#### Repo:\n",
    "* GitHub repository: ``` alx-low_level_programming ```\n",
    "* Directory: ```0x10-variadic_functions``` \n",
    "* File: ```1-print_numbers.c```"
   ]
  },
  {
   "cell_type": "code",
   "execution_count": 29,
   "metadata": {},
   "outputs": [
    {
     "name": "stdout",
     "output_type": "stream",
     "text": [
      "Overwriting 0x10-variadic_functions/1-main.c\n"
     ]
    }
   ],
   "source": [
    "%%file 0x10-variadic_functions/1-main.c\n",
    "#include \"variadic_functions.h\"\n",
    "\n",
    "/**\n",
    " * main - check the code\n",
    " *\n",
    " * Return: Always 0.\n",
    " */\n",
    "int main(void)\n",
    "{\n",
    "    print_numbers(\", \", 4, 0, 98, -1024, 402);\n",
    "    return (0);\n",
    "}"
   ]
  },
  {
   "cell_type": "code",
   "execution_count": 30,
   "metadata": {},
   "outputs": [
    {
     "name": "stdout",
     "output_type": "stream",
     "text": [
      "Overwriting 0x10-variadic_functions/variadic_functions.h\n"
     ]
    }
   ],
   "source": [
    "%%file 0x10-variadic_functions/variadic_functions.h\n",
    "#ifndef VARIADIC_FUNCTIONS_H\n",
    "#define VARIADIC_FUNCTIONS_H\n",
    "\n",
    "#include <stdarg.h>\n",
    "#include <stddef.h>\n",
    "\n",
    "int sum_them_all(const unsigned int n, ...);\n",
    "int _putchar(char c);\n",
    "void print_numbers(const char *separator, const unsigned int n, ...);\n",
    "\n",
    "#endif /* VARIADIC_FUNCTIONS_H */\n"
   ]
  },
  {
   "cell_type": "code",
   "execution_count": 44,
   "metadata": {},
   "outputs": [
    {
     "name": "stdout",
     "output_type": "stream",
     "text": [
      "Overwriting 0x10-variadic_functions/1-print_numbers.c\n"
     ]
    }
   ],
   "source": [
    "%%file 0x10-variadic_functions/1-print_numbers.c\n",
    "#include <stdarg.h>\n",
    "#include <stdio.h>\n",
    "#include \"variadic_functions.h\"\n",
    "\n",
    "/**\n",
    "* print_numbers - prints numbers, followed by a new line\n",
    "* @separator: the string to be printed between numbers\n",
    "* @n: the number of integers passed to the function\n",
    "*\n",
    "* Return: void\n",
    "*/\n",
    "void print_numbers(const char *separator, const unsigned int n, ...)\n",
    "{\n",
    "va_list args;\n",
    "unsigned int i;\n",
    "int number;\n",
    "\n",
    "va_start(args, n);\n",
    "\n",
    "for (i = 0; i < n; i++)\n",
    "{\n",
    "number = va_arg(args, int);\n",
    "printf(\"%d\", number);\n",
    "if (separator != NULL && i < n - 1)\n",
    "{\n",
    "printf(\"%s\", separator);\n",
    "}\n",
    "}\n",
    "printf(\"\\n\");\n",
    "\n",
    "va_end(args);\n",
    "}\n"
   ]
  },
  {
   "cell_type": "code",
   "execution_count": 45,
   "metadata": {},
   "outputs": [
    {
     "name": "stdout",
     "output_type": "stream",
     "text": [
      "\n",
      "========== 0x10-variadic_functions/1-print_numbers.c ==========\n",
      "print_numbers\n",
      "0, 98, -1024, 402\n"
     ]
    }
   ],
   "source": [
    "%%bash\n",
    "betty 0x10-variadic_functions/1-print_numbers.c\n",
    "gcc -Wall -pedantic -Werror -Wextra -std=gnu89 0x10-variadic_functions/1-main.c 0x10-variadic_functions/1-print_numbers.c -o 0x10-variadic_functions/b\n",
    "./0x10-variadic_functions/b\n"
   ]
  },
  {
   "cell_type": "code",
   "execution_count": 46,
   "metadata": {},
   "outputs": [
    {
     "name": "stdout",
     "output_type": "stream",
     "text": [
      "[main c41c975] alx-low_level_programming/0x10-variadic_functions/0-putchar\n",
      " 2 files changed, 32 insertions(+), 79 deletions(-)\n",
      " rewrite 0x10-variadic_functions/1-print_numbers.c (62%)\n"
     ]
    },
    {
     "name": "stderr",
     "output_type": "stream",
     "text": [
      "To https://github.com/elkomysara/alx-low_level_programming.git\n",
      "   4fe52e3..c41c975  main -> main\n"
     ]
    }
   ],
   "source": [
    "%%bash\n",
    "git add .\n",
    "git commit -m \"alx-low_level_programming/0x10-variadic_functions/0-putchar\"\n",
    "git push"
   ]
  },
  {
   "cell_type": "code",
   "execution_count": null,
   "metadata": {},
   "outputs": [],
   "source": []
  },
  {
   "cell_type": "markdown",
   "metadata": {},
   "source": [
    "###\n",
    "---\n",
    "<center>\n",
    "<h4> 2. One woman's constant is another woman's variable</h4>\n",
    "</center>\n",
    "\n",
    "---"
   ]
  },
  {
   "cell_type": "markdown",
   "metadata": {},
   "source": [
    "\n",
    "#### Write a function that prints strings, followed by a new line.\n",
    "\n",
    "* Prototype: `void print_strings(const char *separator, const unsigned int n, ...);`\n",
    "* where `separator` is the string to be printed between the strings\n",
    "* and `n` is the number of strings passed to the function\n",
    "* You are allowed to use `printf`\n",
    "* If separator is NULL, don’t print it\n",
    "* If one of the string is NULL, print `(nil)` instead\n",
    "* Print a new line at the end of your function\n",
    "\n",
    "\n",
    "```bash\n",
    "julien@ubuntu:~/0x0f. Variadic functions$ cat 2-main.c\n",
    "#include \"variadic_functions.h\"\n",
    "\n",
    "/**\n",
    " * main - check the code\n",
    " *\n",
    " * Return: Always 0.\n",
    " */\n",
    "int main(void)\n",
    "{\n",
    "    print_strings(\", \", 2, \"Jay\", \"Django\");\n",
    "    return (0);\n",
    "}\n",
    "julien@ubuntu:~/0x0f. Variadic functions$ gcc -Wall -pedantic -Werror -Wextra -std=gnu89 2-main.c 2-print_strings.c -o c\n",
    "julien@ubuntu:~/0x0f. Variadic functions$ ./c \n",
    "Jay, Django\n",
    "julien@ubuntu:~/0x0f. Variadic functions$ \n",
    "```\n",
    "#### Repo:\n",
    "* GitHub repository: ``` alx-low_level_programming ```\n",
    "* Directory: ```0x10-variadic_functions``` \n",
    "* File: ```2-print_strings.c```"
   ]
  },
  {
   "cell_type": "code",
   "execution_count": 57,
   "metadata": {},
   "outputs": [
    {
     "name": "stdout",
     "output_type": "stream",
     "text": [
      "Writing 0x10-variadic_functions/2-main.c\n"
     ]
    }
   ],
   "source": [
    "%%file 0x10-variadic_functions/2-main.c\n",
    "#include \"variadic_functions.h\"\n",
    "\n",
    "/**\n",
    " * main - check the code\n",
    " *\n",
    " * Return: Always 0.\n",
    " */\n",
    "int main(void)\n",
    "{\n",
    "    print_strings(\", \", 2, \"Jay\", \"Django\");\n",
    "    return (0);\n",
    "}"
   ]
  },
  {
   "cell_type": "code",
   "execution_count": 58,
   "metadata": {},
   "outputs": [
    {
     "name": "stdout",
     "output_type": "stream",
     "text": [
      "Overwriting 0x10-variadic_functions/variadic_functions.h\n"
     ]
    }
   ],
   "source": [
    "%%file 0x10-variadic_functions/variadic_functions.h\n",
    "#ifndef VARIADIC_FUNCTIONS_H\n",
    "#define VARIADIC_FUNCTIONS_H\n",
    "\n",
    "#include <stdarg.h>\n",
    "#include <stddef.h>\n",
    "\n",
    "int sum_them_all(const unsigned int n, ...);\n",
    "int _putchar(char c);\n",
    "void print_numbers(const char *separator, const unsigned int n, ...);\n",
    "void print_strings(const char *separator, const unsigned int n, ...);\n",
    "\n",
    "#endif /* VARIADIC_FUNCTIONS_H */\n"
   ]
  },
  {
   "cell_type": "code",
   "execution_count": 63,
   "metadata": {},
   "outputs": [
    {
     "name": "stdout",
     "output_type": "stream",
     "text": [
      "Overwriting 0x10-variadic_functions/2-print_strings.c\n"
     ]
    }
   ],
   "source": [
    "%%file 0x10-variadic_functions/2-print_strings.c\n",
    "#include <stdio.h>\n",
    "#include <stdarg.h>\n",
    "#include \"variadic_functions.h\"\n",
    "\n",
    "/**\n",
    "* print_strings - Prints strings, followed by a new line.\n",
    "* @separator: The string to be printed between the strings.\n",
    "* @n: The number of strings passed to the function.\n",
    "*\n",
    "* Description: If separator is NULL, it is not printed.\n",
    "*              If one of the strings is NULL, (nil) is printed instead.\n",
    "*/\n",
    "void print_strings(const char *separator, const unsigned int n, ...)\n",
    "{\n",
    "va_list args;\n",
    "unsigned int i;\n",
    "char *str;\n",
    "\n",
    "va_start(args, n);\n",
    "\n",
    "for (i = 0; i < n; i++)\n",
    "{\n",
    "str = va_arg(args, char *);\n",
    "\n",
    "if (str == NULL)\n",
    "printf(\"(nil)\");\n",
    "else\n",
    "printf(\"%s\", str);\n",
    "\n",
    "if (separator != NULL && i != n - 1)\n",
    "printf(\"%s\", separator);\n",
    "}\n",
    "\n",
    "printf(\"\\n\");\n",
    "va_end(args);\n",
    "}\n"
   ]
  },
  {
   "cell_type": "code",
   "execution_count": 64,
   "metadata": {},
   "outputs": [
    {
     "name": "stdout",
     "output_type": "stream",
     "text": [
      "\n",
      "========== 0x10-variadic_functions/2-print_strings.c ==========\n",
      "print_strings\n",
      "Jay, Django\n"
     ]
    }
   ],
   "source": [
    "%%bash\n",
    "betty 0x10-variadic_functions/2-print_strings.c\n",
    "gcc -Wall -pedantic -Werror -Wextra -std=gnu89 0x10-variadic_functions/2-main.c 0x10-variadic_functions/2-print_strings.c -o 0x10-variadic_functions/c\n",
    "./0x10-variadic_functions/c\n"
   ]
  },
  {
   "cell_type": "code",
   "execution_count": 65,
   "metadata": {},
   "outputs": [
    {
     "name": "stdout",
     "output_type": "stream",
     "text": [
      "[main 566c069] alx-low_level_programming/0x10-variadic_functions/0-putchar\n",
      " 1 file changed, 1 insertion(+), 1 deletion(-)\n"
     ]
    },
    {
     "name": "stderr",
     "output_type": "stream",
     "text": [
      "To https://github.com/elkomysara/alx-low_level_programming.git\n",
      "   4dd1628..566c069  main -> main\n"
     ]
    }
   ],
   "source": [
    "%%bash\n",
    "git add .\n",
    "git commit -m \"alx-low_level_programming/0x10-variadic_functions/0-putchar\"\n",
    "git push"
   ]
  },
  {
   "cell_type": "code",
   "execution_count": null,
   "metadata": {},
   "outputs": [],
   "source": []
  },
  {
   "cell_type": "markdown",
   "metadata": {},
   "source": [
    "###\n",
    "---\n",
    "<center>\n",
    "<h4> 3. To be is a to be the value of a variable</h4>\n",
    "</center>\n",
    "\n",
    "---"
   ]
  },
  {
   "cell_type": "markdown",
   "metadata": {},
   "source": [
    "\n",
    "#### Write a function that prints anything.\n",
    "\n",
    "Prototype: void print_all(const char * const format, ...);\n",
    "where format is a list of types of arguments passed to the function\n",
    "c: char\n",
    "i: integer\n",
    "f: float\n",
    "s: char * (if the string is NULL, print (nil) instead\n",
    "any other char should be ignored\n",
    "see example\n",
    "You are not allowed to use for, goto, ternary operator, else, do ... while\n",
    "You can use a maximum of\n",
    "2 while loops\n",
    "2 if\n",
    "You can declare a maximum of 9 variables\n",
    "You are allowed to use printf\n",
    "Print a new line at the end of your function\n",
    "\n",
    "```bash\n",
    "julien@ubuntu:~/0x0f. Variadic functions$ cat 3-main.c\n",
    "#include \"variadic_functions.h\"\n",
    "\n",
    "/**\n",
    " * main - check the code\n",
    " *\n",
    " * Return: Always 0.\n",
    " */\n",
    "int main(void)\n",
    "{\n",
    "    print_all(\"ceis\", 'B', 3, \"stSchool\");\n",
    "    return (0);\n",
    "}\n",
    "julien@ubuntu:~/0x0f. Variadic functions$ gcc -Wall -pedantic -Werror -Wextra -std=gnu89 3-main.c 3-print_all.c -o d\n",
    "julien@ubuntu:~/0x0f. Variadic functions$ ./d \n",
    "B, 3, stSchool\n",
    "julien@ubuntu:~/0x0f. Variadic functions$ \n",
    "```\n",
    "\n",
    "\n",
    "#### Repo:\n",
    "* GitHub repository: ``` alx-low_level_programming ```\n",
    "* Directory: ```0x10-variadic_functions``` \n",
    "* File: ```3-print_all.c```"
   ]
  },
  {
   "cell_type": "code",
   "execution_count": 70,
   "metadata": {},
   "outputs": [
    {
     "name": "stdout",
     "output_type": "stream",
     "text": [
      "Writing 0x10-variadic_functions/3-main.c\n"
     ]
    }
   ],
   "source": [
    "%%file 0x10-variadic_functions/3-main.c\n",
    "#include \"variadic_functions.h\"\n",
    "\n",
    "/**\n",
    " * main - check the code\n",
    " *\n",
    " * Return: Always 0.\n",
    " */\n",
    "int main(void)\n",
    "{\n",
    "    print_all(\"ceis\", 'B', 3, \"stSchool\");\n",
    "    return (0);\n",
    "}\n"
   ]
  },
  {
   "cell_type": "code",
   "execution_count": 71,
   "metadata": {},
   "outputs": [
    {
     "name": "stdout",
     "output_type": "stream",
     "text": [
      "Overwriting 0x10-variadic_functions/variadic_functions.h\n"
     ]
    }
   ],
   "source": [
    "%%file 0x10-variadic_functions/variadic_functions.h\n",
    "#ifndef VARIADIC_FUNCTIONS_H\n",
    "#define VARIADIC_FUNCTIONS_H\n",
    "\n",
    "#include <stdarg.h>\n",
    "#include <stddef.h>\n",
    "\n",
    "int sum_them_all(const unsigned int n, ...);\n",
    "int _putchar(char c);\n",
    "void print_numbers(const char *separator, const unsigned int n, ...);\n",
    "void print_strings(const char *separator, const unsigned int n, ...);\n",
    "void print_all(const char * const format, ...);\n",
    "\n",
    "#endif /* VARIADIC_FUNCTIONS_H */"
   ]
  },
  {
   "cell_type": "code",
   "execution_count": 74,
   "metadata": {},
   "outputs": [
    {
     "name": "stdout",
     "output_type": "stream",
     "text": [
      "Overwriting 0x10-variadic_functions/3-print_all.c\n"
     ]
    }
   ],
   "source": [
    "%%file 0x10-variadic_functions/3-print_all.c\n",
    "#include <stdio.h>\n",
    "#include <stdarg.h>\n",
    "#include \"variadic_functions.h\"\n",
    "\n",
    "/**\n",
    "* print_all - Prints anything, followed by a new line.\n",
    "* @format: A list of types of arguments passed to the function.\n",
    "*\n",
    "* Description: c: char, i: integer, f: float,\n",
    "*              s: char * (if the string is NULL, print (nil) instead)\n",
    "*              Any other char should be ignored.\n",
    "*              Print a new line at the end of the function.\n",
    "*/\n",
    "void print_all(const char * const format, ...)\n",
    "{\n",
    "va_list args;\n",
    "int i = 0;\n",
    "char *str, *separator = \"\";\n",
    "\n",
    "va_start(args, format);\n",
    "\n",
    "while (format && format[i])\n",
    "{\n",
    "switch (format[i])\n",
    "{\n",
    "case 'c':\n",
    "printf(\"%s%c\", separator, va_arg(args, int));\n",
    "break;\n",
    "case 'i':\n",
    "printf(\"%s%d\", separator, va_arg(args, int));\n",
    "break;\n",
    "case 'f':\n",
    "printf(\"%s%f\", separator, va_arg(args, double));\n",
    "break;\n",
    "case 's':\n",
    "str = va_arg(args, char *);\n",
    "if (str == NULL)\n",
    "str = \"(nil)\";\n",
    "printf(\"%s%s\", separator, str);\n",
    "break;\n",
    "default:\n",
    "i++;\n",
    "continue;\n",
    "}\n",
    "separator = \", \";\n",
    "i++;\n",
    "}\n",
    "\n",
    "printf(\"\\n\");\n",
    "va_end(args);\n",
    "}\n"
   ]
  },
  {
   "cell_type": "code",
   "execution_count": 75,
   "metadata": {},
   "outputs": [
    {
     "name": "stdout",
     "output_type": "stream",
     "text": [
      "\n",
      "========== 0x10-variadic_functions/3-print_all.c ==========\n"
     ]
    },
    {
     "name": "stdout",
     "output_type": "stream",
     "text": [
      "print_all\n",
      "B, 3, stSchool\n"
     ]
    }
   ],
   "source": [
    "%%bash\n",
    "betty 0x10-variadic_functions/3-print_all.c \n",
    "gcc -Wall -pedantic -Werror -Wextra -std=gnu89 0x10-variadic_functions/3-main.c 0x10-variadic_functions/3-print_all.c -o 0x10-variadic_functions/d\n",
    "./0x10-variadic_functions/d\n"
   ]
  },
  {
   "cell_type": "code",
   "execution_count": 76,
   "metadata": {},
   "outputs": [
    {
     "name": "stdout",
     "output_type": "stream",
     "text": [
      "[main f9539bc] alx-low_level_programming/0x10-variadic_functions/0-putchar\n",
      " 4 files changed, 64 insertions(+)\n",
      " create mode 100644 0x10-variadic_functions/3-main.c\n",
      " create mode 100644 0x10-variadic_functions/3-print_all.c\n",
      " create mode 100755 0x10-variadic_functions/d\n"
     ]
    },
    {
     "name": "stderr",
     "output_type": "stream",
     "text": [
      "To https://github.com/elkomysara/alx-low_level_programming.git\n",
      "   566c069..f9539bc  main -> main\n"
     ]
    }
   ],
   "source": [
    "%%bash\n",
    "git add .\n",
    "git commit -m \"alx-low_level_programming/0x10-variadic_functions/0-putchar\"\n",
    "git push"
   ]
  },
  {
   "cell_type": "code",
   "execution_count": null,
   "metadata": {},
   "outputs": [],
   "source": []
  },
  {
   "cell_type": "markdown",
   "metadata": {},
   "source": [
    "###\n",
    "---\n",
    "<center>\n",
    "<h4> 4. Most hackers are young because young people tend to be adaptable. As long as you remain adaptable, you can always be a good hacker</h4>\n",
    "</center>\n",
    "\n",
    "---"
   ]
  },
  {
   "cell_type": "markdown",
   "metadata": {},
   "source": [
    "\n",
    "#### Write a program that prints the [opcodes](https://en.wikipedia.org/wiki/Opcode) of its own main function.\n",
    "\n",
    "* Usage: `./main number_of_bytes`\n",
    "* Output format:\n",
    "    * the opcodes should be printed in hexadecimal, lowercase\n",
    "    * each opcode is two char long\n",
    "    * listing ends with a new line\n",
    "    * see example\n",
    "* You are allowed to use `printf` and `atoi`\n",
    "* You have to use `atoi` to convert the argument to an `int`\n",
    "* If the number of argument is not the correct one, print `Error`, followed by a new line, and exit with the status `1`\n",
    "* If the number of bytes is negative, print `Error`, followed by a new line, and exit with the status `2`\n",
    "* You do not have to compile with any flags\n",
    "Note: if you want to translate your opcodes to assembly instructions, you can use, for instance [udcli](https://sourceforge.net/projects/udis86/).\n",
    "\n",
    "```bash\n",
    "julien@ubuntu:~/0x0e. Function pointers$ gcc -std=gnu89 100-main_opcodes.c -o main\n",
    "julien@ubuntu:~/0x0e. Function pointers$ ./main 21\n",
    "55 48 89 e5 48 83 ec 30 89 7d dc 48 89 75 d0 83 7d dc 02 74 14\n",
    "julien@ubuntu:~/0x0e. Function pointers$ objdump -d -j.text -M intel main\n",
    "[...]\n",
    "00000000004005f6 <main>:\n",
    "  4005f6:   55                      push   rbp\n",
    "  4005f7:   48 89 e5                mov    rbp,rsp\n",
    "  4005fa:   48 83 ec 30             sub    rsp,0x30\n",
    "  4005fe:   89 7d dc                mov    DWORD PTR [rbp-0x24],edi\n",
    "  400601:   48 89 75 d0             mov    QWORD PTR [rbp-0x30],rsi\n",
    "  400605:   83 7d dc 02             cmp    DWORD PTR [rbp-0x24],0x2\n",
    "  400609:   74 14                   je     40061f <main+0x29>\n",
    "[...]\n",
    "julien@ubuntu:~/0x0e. Function pointers$ ./main 21 | udcli -64 -x -o 4005f6\n",
    "00000000004005f6 55               push rbp                \n",
    "00000000004005f7 4889e5           mov rbp, rsp            \n",
    "00000000004005fa 4883ec30         sub rsp, 0x30           \n",
    "00000000004005fe 897ddc           mov [rbp-0x24], edi     \n",
    "0000000000400601 488975d0         mov [rbp-0x30], rsi     \n",
    "0000000000400605 837ddc02         cmp dword [rbp-0x24], 0x2\n",
    "0000000000400609 7414             jz 0x40061f             \n",
    "julien@ubuntu:~/0x0e. Function pointers$ \n",
    "```\n",
    "* Note 0: `je `is equivalent to `jz`\n",
    "* Note 1: depending on how you write your `main` function, and on which machine you compile your program, the opcodes (and by extension the assembly code) might be different than the above example\n",
    "\n",
    "#### Repo:\n",
    "* GitHub repository: ``` alx-low_level_programming ```\n",
    "* Directory: ```0x10-variadic_functions``` \n",
    "* File: ```100-main_opcodes.c```"
   ]
  },
  {
   "cell_type": "code",
   "execution_count": null,
   "metadata": {},
   "outputs": [
    {
     "name": "stdout",
     "output_type": "stream",
     "text": [
      "Writing 0x0F-function_pointers/100-main_opcodes.c\n"
     ]
    }
   ],
   "source": [
    "%%file 0x10-variadic_functions/100-main_opcodes.c\n",
    "#include <stdio.h>\n",
    "#include <stdlib.h>\n",
    "\n",
    "/**\n",
    "* main - prints its own opcodes\n",
    "* @argc: number of arguments\n",
    "* @argv: array of arguments\n",
    "*\n",
    "* Return: Always 0 (Success)\n",
    "*/\n",
    "int main(int argc, char *argv[])\n",
    "{\n",
    "int bytes, i;\n",
    "unsigned char *main_ptr;\n",
    "\n",
    "if (argc != 2)\n",
    "{\n",
    "printf(\"Error\\n\");\n",
    "exit(1);\n",
    "}\n",
    "\n",
    "bytes = atoi(argv[1]);\n",
    "\n",
    "if (bytes < 0)\n",
    "{\n",
    "printf(\"Error\\n\");\n",
    "exit(2);\n",
    "}\n",
    "\n",
    "main_ptr = (unsigned char *)main;\n",
    "\n",
    "for (i = 0; i < bytes; i++)\n",
    "{\n",
    "printf(\"%02x\", main_ptr[i]);\n",
    "if (i < bytes - 1)\n",
    "printf(\" \");\n",
    "}\n",
    "\n",
    "printf(\"\\n\");\n",
    "\n",
    "return (0);\n",
    "}\n"
   ]
  },
  {
   "cell_type": "code",
   "execution_count": null,
   "metadata": {},
   "outputs": [
    {
     "name": "stdout",
     "output_type": "stream",
     "text": [
      "f3 0f 1e fa 55 48 89 e5 48 83 ec 20 89 7d ec 48 89 75 e0 83 7d\n"
     ]
    }
   ],
   "source": [
    "%%bash\n",
    "gcc -std=gnu89 0x10-variadic_functions/100-main_opcodes.c -o 0x10-variadic_functions/main\n",
    "./0x10-variadic_functions/main 21\n"
   ]
  },
  {
   "cell_type": "code",
   "execution_count": null,
   "metadata": {},
   "outputs": [
    {
     "name": "stdout",
     "output_type": "stream",
     "text": [
      "[main 29d9347] alx-low_level_programming/0x0F-function_pointers/0-putchar\n",
      " 2 files changed, 42 insertions(+)\n",
      " create mode 100644 0x0F-function_pointers/100-main_opcodes.c\n",
      " create mode 100755 0x0F-function_pointers/main\n"
     ]
    },
    {
     "name": "stderr",
     "output_type": "stream",
     "text": [
      "To https://github.com/elkomysara/alx-low_level_programming.git\n",
      "   139c65b..29d9347  main -> main\n"
     ]
    }
   ],
   "source": [
    "%%bash\n",
    "git add .\n",
    "git commit -m \"alx-low_level_programming/0x10-variadic_functions/0-putchar\"\n",
    "git push"
   ]
  },
  {
   "cell_type": "code",
   "execution_count": null,
   "metadata": {},
   "outputs": [],
   "source": []
  }
 ],
 "metadata": {
  "kernelspec": {
   "display_name": "Python 3",
   "language": "python",
   "name": "python3"
  },
  "language_info": {
   "codemirror_mode": {
    "name": "ipython",
    "version": 3
   },
   "file_extension": ".py",
   "mimetype": "text/x-python",
   "name": "python",
   "nbconvert_exporter": "python",
   "pygments_lexer": "ipython3",
   "version": "3.12.3"
  }
 },
 "nbformat": 4,
 "nbformat_minor": 2
}
