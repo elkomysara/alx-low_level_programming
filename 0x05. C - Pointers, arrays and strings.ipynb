{
 "cells": [
  {
   "cell_type": "markdown",
   "metadata": {},
   "source": [
    "---\n",
    "<center>\n",
    "<h1>  alx-low_level_programming </h1>\n",
    "</center>\n",
    "\n",
    "---\n"
   ]
  },
  {
   "cell_type": "code",
   "execution_count": 2,
   "metadata": {},
   "outputs": [],
   "source": [
    "import os\n",
    "# creating 0x02-shell_redirectionss\n",
    "\n",
    "folder_path = r'/home/elkomy/alx/alx-low_level_programming/0x05-pointers_arrays_strings'\n",
    "if not os.path.exists(folder_path):\n",
    "    os.makedirs(folder_path)\n",
    "\n",
    "# Create a README.md inside alx-low_level_programming/0x05-pointers_arrays_strings\n",
    "file_path = os.path.join(folder_path, 'README.md')\n",
    "\n",
    "with open(file_path, 'w') as file:\n",
    "    file.write(\"This is a README.md file inside alx-low_level_programming/0x05-pointers_arrays_strings\")\n",
    "\n"
   ]
  },
  {
   "cell_type": "code",
   "execution_count": 3,
   "metadata": {},
   "outputs": [
    {
     "name": "stdout",
     "output_type": "stream",
     "text": [
      " 0-positive_or_negative\n",
      " 0x00-hello_world\n",
      "'0x00. C - Hello, World.ipynb'\n",
      " 0x01-variables_if_else_while\n",
      "'0x01. C - Variables, if, else, while.ipynb'\n",
      " 0x02-functions_nested_loops\n",
      "'0x02. C - Functions, nested loops.ipynb'\n",
      " 0x03-debugging\n",
      "'0x03. C - Debugging.ipynb'\n",
      " 0x04-more_functions_nested_loops\n",
      "'0x04. C - More functions, more nested loops.ipynb'\n",
      " 0x05-pointers_arrays_strings\n",
      "'0x05. C - Pointers, arrays and strings.ipynb'\n",
      " README.md\n",
      " a.out\n",
      " alx\n",
      " c\n",
      " cisfun\n",
      " comb.txt\n",
      " main.o\n",
      " main.s\n",
      " quote\n",
      " size32\n",
      " size64\n"
     ]
    }
   ],
   "source": [
    "!ls"
   ]
  },
  {
   "cell_type": "code",
   "execution_count": 4,
   "metadata": {},
   "outputs": [
    {
     "name": "stdout",
     "output_type": "stream",
     "text": [
      "Overwriting /home/elkomy/alx/alx-low_level_programming/0x05-pointers_arrays_strings/README.md\n"
     ]
    }
   ],
   "source": [
    "%%file /home/elkomy/alx/alx-low_level_programming/0x05-pointers_arrays_strings/README.md\n",
    "This is a README.md"
   ]
  },
  {
   "cell_type": "code",
   "execution_count": null,
   "metadata": {},
   "outputs": [],
   "source": []
  },
  {
   "cell_type": "markdown",
   "metadata": {},
   "source": [
    "###\n",
    "---\n",
    "<center>\n",
    "<h1> 0x05. C - Pointers, arrays and strings  </h1>\n",
    "</center>\n",
    "\n",
    "---\n"
   ]
  },
  {
   "cell_type": "markdown",
   "metadata": {},
   "source": [
    "###\n",
    "---\n",
    "<center>\n",
    "<h4> 0. 98 Battery st. </h4>\n",
    "</center>\n",
    "\n",
    "---"
   ]
  },
  {
   "cell_type": "markdown",
   "metadata": {},
   "source": [
    "\n",
    "####  Write a function that takes a pointer to an int as parameter and updates the value it points to to 98.\n",
    "\n",
    "* Prototype: void reset_to_98(int *n);\n",
    "\n",
    "\n",
    "```bash\n",
    "julien@ubuntu:~/0x05$ cat 0-main.c\n",
    "#include \"main.h\"\n",
    "#include <stdio.h>\n",
    "\n",
    "/**\n",
    " * main - check the code \n",
    " *\n",
    " * Return: Always 0.\n",
    " */\n",
    "int main(void)\n",
    "{\n",
    "    int n;\n",
    "\n",
    "    n = 402;\n",
    "    printf(\"n=%d\\n\", n);\n",
    "    reset_to_98(&n);\n",
    "    printf(\"n=%d\\n\", n);\n",
    "    return (0);\n",
    "}\n",
    "julien@ubuntu:~/0x05$ gcc -Wall -pedantic -Werror -Wextra -std=gnu89 0-main.c 0-reset_to_98.c -o 0-98\n",
    "julien@ubuntu:~/0x05$ ./0-98 \n",
    "n=402\n",
    "n=98\n",
    "julien@ubuntu:~/0x05$\n",
    "\n",
    "```\n",
    "\n",
    "#### Repo:\n",
    "* GitHub repository: ``` alx-low_level_programming ```\n",
    "* Directory: ```0x05-pointers_arrays_strings``` \n",
    "* File: ```0-reset_to_98.c```"
   ]
  },
  {
   "cell_type": "code",
   "execution_count": 13,
   "metadata": {},
   "outputs": [
    {
     "name": "stdout",
     "output_type": "stream",
     "text": [
      "Overwriting 0x05-pointers_arrays_strings/0-main.c\n"
     ]
    }
   ],
   "source": [
    "%%file 0x05-pointers_arrays_strings/0-main.c\n",
    "\n",
    "#include \"main.h\"\n",
    "#include <stdio.h>\n",
    "\n",
    "/**\n",
    " * main - check the code \n",
    " *\n",
    " * Return: Always 0.\n",
    " */\n",
    "int main(void)\n",
    "{\n",
    "    int n;\n",
    "\n",
    "    n = 402;\n",
    "    printf(\"n=%d\\n\", n);\n",
    "    reset_to_98(&n);\n",
    "    printf(\"n=%d\\n\", n);\n",
    "    return (0);\n",
    "}"
   ]
  },
  {
   "cell_type": "code",
   "execution_count": 14,
   "metadata": {},
   "outputs": [
    {
     "name": "stdout",
     "output_type": "stream",
     "text": [
      "Overwriting 0x05-pointers_arrays_strings/main.h\n"
     ]
    }
   ],
   "source": [
    "%%file 0x05-pointers_arrays_strings/main.h\n",
    "#ifndef FILE_MAIN\n",
    "#define FILE_MAIN\n",
    "\n",
    "#include <stdio.h>\n",
    "\n",
    "int _putchar(char c);\n",
    "void reset_to_98(int *n);\n",
    "\n",
    "\n",
    "#endif\n"
   ]
  },
  {
   "cell_type": "code",
   "execution_count": 15,
   "metadata": {},
   "outputs": [
    {
     "name": "stdout",
     "output_type": "stream",
     "text": [
      "Overwriting 0x05-pointers_arrays_strings/0-reset_to_98.c\n"
     ]
    }
   ],
   "source": [
    "%%file 0x05-pointers_arrays_strings/0-reset_to_98.c\n",
    "#include \"main.h\"\n",
    "\n",
    "/**\n",
    "* reset_to_98 - takes a pointer to an int as parameter\n",
    "* and updates the value it points to to 98\n",
    "* @n: the int value\n",
    "* Return: 1 if c is uppercase, 0 otherwise\n",
    "*/\n",
    "void reset_to_98(int *n)\n",
    "{\n",
    "*n = 98;\n",
    "}"
   ]
  },
  {
   "cell_type": "code",
   "execution_count": 16,
   "metadata": {},
   "outputs": [
    {
     "name": "stdout",
     "output_type": "stream",
     "text": [
      "Overwriting 0x05-pointers_arrays_strings/_putchar.c\n"
     ]
    }
   ],
   "source": [
    "%%file 0x05-pointers_arrays_strings/_putchar.c\n",
    "#include <unistd.h>\n",
    "#include \"main.h\"\n",
    "/**\n",
    " * _putchar - writes the character c to stdout\n",
    " * @c: The character to print\n",
    " *\n",
    " * Return: On success 1.\n",
    " * On error, -1 is returned, and errno is set appropriately.\n",
    " */\n",
    "int _putchar(char c)\n",
    "{\n",
    "\treturn (write(1, &c, 1));\n",
    "}\n"
   ]
  },
  {
   "cell_type": "code",
   "execution_count": 17,
   "metadata": {},
   "outputs": [
    {
     "name": "stdout",
     "output_type": "stream",
     "text": [
      "\n",
      "========== 0x05-pointers_arrays_strings/0-reset_to_98.c ==========\n",
      "reset_to_98\n",
      "n=402\n",
      "n=98\n"
     ]
    }
   ],
   "source": [
    "%%bash\n",
    "betty 0x05-pointers_arrays_strings/0-reset_to_98.c\n",
    "gcc -Wall -pedantic -Werror -Wextra -std=gnu89 0x05-pointers_arrays_strings/0-main.c 0x05-pointers_arrays_strings/0-reset_to_98.c -o 0x05-pointers_arrays_strings/0-98\n",
    "./0x05-pointers_arrays_strings/0-98"
   ]
  },
  {
   "cell_type": "code",
   "execution_count": 18,
   "metadata": {},
   "outputs": [
    {
     "name": "stdout",
     "output_type": "stream",
     "text": [
      "[main 290f806] alx-low_level_programming/0x04-more_functions_nested_loops\n",
      " 11 files changed, 7311 insertions(+), 2384 deletions(-)\n",
      " create mode 100755 0x05-pointers_arrays_strings/0-98\n",
      " rewrite 0x05-pointers_arrays_strings/0-main.c (85%)\n",
      " create mode 100644 0x05-pointers_arrays_strings/0-reset_to_98.c\n",
      " create mode 100644 0x05-pointers_arrays_strings/100-main.c\n",
      " create mode 100644 0x05-pointers_arrays_strings/_putchar.c\n",
      " create mode 100644 0x05-pointers_arrays_strings/main.h\n",
      " create mode 100755 0x05-pointers_arrays_strings/memory-layout\n",
      " create mode 100644 Resources_DataStructure.ipynb\n",
      " create mode 100644 Resources_Memory.ipynb\n"
     ]
    },
    {
     "name": "stderr",
     "output_type": "stream",
     "text": [
      "To github.com:elkomysara/alx-low_level_programming.git\n",
      "   450b9ee..290f806  main -> main\n"
     ]
    }
   ],
   "source": [
    "%%bash\n",
    "git add .\n",
    "git commit -m \"alx-low_level_programming/0x04-more_functions_nested_loops\"\n",
    "git push"
   ]
  },
  {
   "cell_type": "markdown",
   "metadata": {},
   "source": [
    "###\n",
    "---\n",
    "<center>\n",
    "<h4> 1. 98 Battery st. </h4>\n",
    "</center>\n",
    "\n",
    "---"
   ]
  },
  {
   "cell_type": "markdown",
   "metadata": {},
   "source": [
    "\n",
    "####  Write a function that takes a pointer to an int as parameter and updates the value it points to to 98.\n",
    "\n",
    "* Prototype: void reset_to_98(int *n);\n",
    "\n",
    "\n",
    "```bash\n",
    "julien@ubuntu:~/0x05$ cat 0-main.c\n",
    "#include \"main.h\"\n",
    "#include <stdio.h>\n",
    "\n",
    "/**\n",
    " * main - check the code \n",
    " *\n",
    " * Return: Always 0.\n",
    " */\n",
    "int main(void)\n",
    "{\n",
    "    int n;\n",
    "\n",
    "    n = 402;\n",
    "    printf(\"n=%d\\n\", n);\n",
    "    reset_to_98(&n);\n",
    "    printf(\"n=%d\\n\", n);\n",
    "    return (0);\n",
    "}\n",
    "julien@ubuntu:~/0x05$ gcc -Wall -pedantic -Werror -Wextra -std=gnu89 0-main.c 0-reset_to_98.c -o 0-98\n",
    "julien@ubuntu:~/0x05$ ./0-98 \n",
    "n=402\n",
    "n=98\n",
    "julien@ubuntu:~/0x05$\n",
    "\n",
    "```\n",
    "\n",
    "#### Repo:\n",
    "* GitHub repository: ``` alx-low_level_programming ```\n",
    "* Directory: ```0x05-pointers_arrays_strings``` \n",
    "* File: ```0-reset_to_98.c```"
   ]
  },
  {
   "cell_type": "code",
   "execution_count": null,
   "metadata": {},
   "outputs": [
    {
     "name": "stdout",
     "output_type": "stream",
     "text": [
      "Overwriting 0x05-pointers_arrays_strings/0-main.c\n"
     ]
    }
   ],
   "source": [
    "%%file 0x05-pointers_arrays_strings/0-main.c\n",
    "\n",
    "#include \"main.h\"\n",
    "#include <stdio.h>\n",
    "\n",
    "/**\n",
    " * main - check the code \n",
    " *\n",
    " * Return: Always 0.\n",
    " */\n",
    "int main(void)\n",
    "{\n",
    "    int n;\n",
    "\n",
    "    n = 402;\n",
    "    printf(\"n=%d\\n\", n);\n",
    "    reset_to_98(&n);\n",
    "    printf(\"n=%d\\n\", n);\n",
    "    return (0);\n",
    "}"
   ]
  },
  {
   "cell_type": "code",
   "execution_count": null,
   "metadata": {},
   "outputs": [
    {
     "name": "stdout",
     "output_type": "stream",
     "text": [
      "Overwriting 0x05-pointers_arrays_strings/main.h\n"
     ]
    }
   ],
   "source": [
    "%%file 0x05-pointers_arrays_strings/main.h\n",
    "#ifndef FILE_MAIN\n",
    "#define FILE_MAIN\n",
    "\n",
    "#include <stdio.h>\n",
    "\n",
    "int _putchar(char c);\n",
    "void reset_to_98(int *n);\n",
    "\n",
    "\n",
    "#endif\n"
   ]
  },
  {
   "cell_type": "code",
   "execution_count": null,
   "metadata": {},
   "outputs": [
    {
     "name": "stdout",
     "output_type": "stream",
     "text": [
      "Overwriting 0x05-pointers_arrays_strings/0-reset_to_98.c\n"
     ]
    }
   ],
   "source": [
    "%%file 0x05-pointers_arrays_strings/0-reset_to_98.c\n",
    "#include \"main.h\"\n",
    "\n",
    "/**\n",
    "* reset_to_98 - takes a pointer to an int as parameter\n",
    "* and updates the value it points to to 98\n",
    "* @n: the int value\n",
    "* Return: 1 if c is uppercase, 0 otherwise\n",
    "*/\n",
    "void reset_to_98(int *n)\n",
    "{\n",
    "*n = 98;\n",
    "}"
   ]
  },
  {
   "cell_type": "code",
   "execution_count": null,
   "metadata": {},
   "outputs": [
    {
     "name": "stdout",
     "output_type": "stream",
     "text": [
      "Overwriting 0x05-pointers_arrays_strings/_putchar.c\n"
     ]
    }
   ],
   "source": [
    "%%file 0x05-pointers_arrays_strings/_putchar.c\n",
    "#include <unistd.h>\n",
    "#include \"main.h\"\n",
    "/**\n",
    " * _putchar - writes the character c to stdout\n",
    " * @c: The character to print\n",
    " *\n",
    " * Return: On success 1.\n",
    " * On error, -1 is returned, and errno is set appropriately.\n",
    " */\n",
    "int _putchar(char c)\n",
    "{\n",
    "\treturn (write(1, &c, 1));\n",
    "}\n"
   ]
  },
  {
   "cell_type": "code",
   "execution_count": null,
   "metadata": {},
   "outputs": [
    {
     "name": "stdout",
     "output_type": "stream",
     "text": [
      "\n",
      "========== 0x05-pointers_arrays_strings/0-reset_to_98.c ==========\n",
      "reset_to_98\n",
      "n=402\n",
      "n=98\n"
     ]
    }
   ],
   "source": [
    "%%bash\n",
    "betty 0x05-pointers_arrays_strings/0-reset_to_98.c\n",
    "gcc -Wall -pedantic -Werror -Wextra -std=gnu89 0x05-pointers_arrays_strings/0-main.c 0x05-pointers_arrays_strings/0-reset_to_98.c -o 0x05-pointers_arrays_strings/0-98\n",
    "./0x05-pointers_arrays_strings/0-98"
   ]
  },
  {
   "cell_type": "code",
   "execution_count": null,
   "metadata": {},
   "outputs": [
    {
     "name": "stdout",
     "output_type": "stream",
     "text": [
      "[main 290f806] alx-low_level_programming/0x04-more_functions_nested_loops\n",
      " 11 files changed, 7311 insertions(+), 2384 deletions(-)\n",
      " create mode 100755 0x05-pointers_arrays_strings/0-98\n",
      " rewrite 0x05-pointers_arrays_strings/0-main.c (85%)\n",
      " create mode 100644 0x05-pointers_arrays_strings/0-reset_to_98.c\n",
      " create mode 100644 0x05-pointers_arrays_strings/100-main.c\n",
      " create mode 100644 0x05-pointers_arrays_strings/_putchar.c\n",
      " create mode 100644 0x05-pointers_arrays_strings/main.h\n",
      " create mode 100755 0x05-pointers_arrays_strings/memory-layout\n",
      " create mode 100644 Resources_DataStructure.ipynb\n",
      " create mode 100644 Resources_Memory.ipynb\n"
     ]
    },
    {
     "name": "stderr",
     "output_type": "stream",
     "text": [
      "To github.com:elkomysara/alx-low_level_programming.git\n",
      "   450b9ee..290f806  main -> main\n"
     ]
    }
   ],
   "source": [
    "%%bash\n",
    "git add .\n",
    "git commit -m \"alx-low_level_programming/0x04-more_functions_nested_loops\"\n",
    "git push"
   ]
  }
 ],
 "metadata": {
  "kernelspec": {
   "display_name": "Python 3",
   "language": "python",
   "name": "python3"
  },
  "language_info": {
   "codemirror_mode": {
    "name": "ipython",
    "version": 3
   },
   "file_extension": ".py",
   "mimetype": "text/x-python",
   "name": "python",
   "nbconvert_exporter": "python",
   "pygments_lexer": "ipython3",
   "version": "3.12.3"
  }
 },
 "nbformat": 4,
 "nbformat_minor": 2
}
