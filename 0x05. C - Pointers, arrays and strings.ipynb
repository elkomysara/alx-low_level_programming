{
 "cells": [
  {
   "cell_type": "markdown",
   "metadata": {},
   "source": [
    "---\n",
    "<center>\n",
    "<h1>  alx-low_level_programming </h1>\n",
    "</center>\n",
    "\n",
    "---\n"
   ]
  },
  {
   "cell_type": "code",
   "execution_count": 2,
   "metadata": {},
   "outputs": [],
   "source": [
    "import os\n",
    "# creating 0x02-shell_redirectionss\n",
    "\n",
    "folder_path = r'/home/elkomy/alx/alx-low_level_programming/0x05-pointers_arrays_strings'\n",
    "if not os.path.exists(folder_path):\n",
    "    os.makedirs(folder_path)\n",
    "\n",
    "# Create a README.md inside alx-low_level_programming/0x05-pointers_arrays_strings\n",
    "file_path = os.path.join(folder_path, 'README.md')\n",
    "\n",
    "with open(file_path, 'w') as file:\n",
    "    file.write(\"This is a README.md file inside alx-low_level_programming/0x05-pointers_arrays_strings\")\n",
    "\n"
   ]
  },
  {
   "cell_type": "code",
   "execution_count": 3,
   "metadata": {},
   "outputs": [
    {
     "name": "stdout",
     "output_type": "stream",
     "text": [
      " 0-positive_or_negative\n",
      " 0x00-hello_world\n",
      "'0x00. C - Hello, World.ipynb'\n",
      " 0x01-variables_if_else_while\n",
      "'0x01. C - Variables, if, else, while.ipynb'\n",
      " 0x02-functions_nested_loops\n",
      "'0x02. C - Functions, nested loops.ipynb'\n",
      " 0x03-debugging\n",
      "'0x03. C - Debugging.ipynb'\n",
      " 0x04-more_functions_nested_loops\n",
      "'0x04. C - More functions, more nested loops.ipynb'\n",
      " 0x05-pointers_arrays_strings\n",
      "'0x05. C - Pointers, arrays and strings.ipynb'\n",
      " README.md\n",
      " a.out\n",
      " alx\n",
      " c\n",
      " cisfun\n",
      " comb.txt\n",
      " main.o\n",
      " main.s\n",
      " quote\n",
      " size32\n",
      " size64\n"
     ]
    }
   ],
   "source": [
    "!ls"
   ]
  },
  {
   "cell_type": "code",
   "execution_count": 4,
   "metadata": {},
   "outputs": [
    {
     "name": "stdout",
     "output_type": "stream",
     "text": [
      "Overwriting /home/elkomy/alx/alx-low_level_programming/0x05-pointers_arrays_strings/README.md\n"
     ]
    }
   ],
   "source": [
    "%%file /home/elkomy/alx/alx-low_level_programming/0x05-pointers_arrays_strings/README.md\n",
    "This is a README.md"
   ]
  },
  {
   "cell_type": "code",
   "execution_count": null,
   "metadata": {},
   "outputs": [],
   "source": []
  },
  {
   "cell_type": "markdown",
   "metadata": {},
   "source": [
    "###\n",
    "---\n",
    "<center>\n",
    "<h1> 0x05. C - Pointers, arrays and strings  </h1>\n",
    "</center>\n",
    "\n",
    "---\n"
   ]
  },
  {
   "cell_type": "markdown",
   "metadata": {},
   "source": [
    "###\n",
    "---\n",
    "<center>\n",
    "<h4> 0. 98 Battery st. </h4>\n",
    "</center>\n",
    "\n",
    "---"
   ]
  },
  {
   "cell_type": "markdown",
   "metadata": {},
   "source": [
    "\n",
    "####  Write a function that takes a pointer to an int as parameter and updates the value it points to to 98.\n",
    "\n",
    "* Prototype: void reset_to_98(int *n);\n",
    "\n",
    "\n",
    "```bash\n",
    "julien@ubuntu:~/0x05$ cat 0-main.c\n",
    "#include \"main.h\"\n",
    "#include <stdio.h>\n",
    "\n",
    "/**\n",
    " * main - check the code \n",
    " *\n",
    " * Return: Always 0.\n",
    " */\n",
    "int main(void)\n",
    "{\n",
    "    int n;\n",
    "\n",
    "    n = 402;\n",
    "    printf(\"n=%d\\n\", n);\n",
    "    reset_to_98(&n);\n",
    "    printf(\"n=%d\\n\", n);\n",
    "    return (0);\n",
    "}\n",
    "julien@ubuntu:~/0x05$ gcc -Wall -pedantic -Werror -Wextra -std=gnu89 0-main.c 0-reset_to_98.c -o 0-98\n",
    "julien@ubuntu:~/0x05$ ./0-98 \n",
    "n=402\n",
    "n=98\n",
    "julien@ubuntu:~/0x05$\n",
    "\n",
    "```\n",
    "\n",
    "#### Repo:\n",
    "* GitHub repository: ``` alx-low_level_programming ```\n",
    "* Directory: ```0x05-pointers_arrays_strings``` \n",
    "* File: ```0-reset_to_98.c```"
   ]
  },
  {
   "cell_type": "code",
   "execution_count": 3,
   "metadata": {},
   "outputs": [
    {
     "name": "stdout",
     "output_type": "stream",
     "text": [
      "Overwriting 0x05-pointers_arrays_strings/0-main.c\n"
     ]
    }
   ],
   "source": [
    "%%file 0x05-pointers_arrays_strings/0-main.c\n",
    "\n",
    "#include \"main.h\"\n",
    "#include <stdio.h>\n",
    "\n",
    "/**\n",
    " * main - check the code \n",
    " *\n",
    " * Return: Always 0.\n",
    " */\n",
    "int main(void)\n",
    "{\n",
    "    int n;\n",
    "\n",
    "    n = 402;\n",
    "    printf(\"n=%d\\n\", n);\n",
    "    reset_to_98(&n);\n",
    "    printf(\"n=%d\\n\", n);\n",
    "    return (0);\n",
    "}"
   ]
  },
  {
   "cell_type": "code",
   "execution_count": 6,
   "metadata": {},
   "outputs": [
    {
     "name": "stdout",
     "output_type": "stream",
     "text": [
      "Overwriting 0x05-pointers_arrays_strings/main.h\n"
     ]
    }
   ],
   "source": [
    "%%file 0x05-pointers_arrays_strings/main.h\n",
    "#ifndef FILE_MAIN\n",
    "#define FILE_MAIN\n",
    "\n",
    "#include <stdio.h>\n",
    "\n",
    "int _putchar(char c);\n",
    "void reset_to_98(int *n);\n",
    "\n",
    "\n",
    "#endif\n"
   ]
  },
  {
   "cell_type": "code",
   "execution_count": 5,
   "metadata": {},
   "outputs": [
    {
     "name": "stdout",
     "output_type": "stream",
     "text": [
      "Writing 0x05-pointers_arrays_strings/0-reset_to_98.c\n"
     ]
    }
   ],
   "source": [
    "%%file 0x05-pointers_arrays_strings/0-reset_to_98.c\n",
    "#include \"main.h\"\n",
    "\n",
    "/**\n",
    "* reset_to_98 - takes a pointer to an int as parameter \n",
    "* and updates the value it points to to 98\n",
    "* @n: the character to be checked\n",
    "* Return: 1 if c is uppercase, 0 otherwise\n",
    "*/\n",
    "void reset_to_98(int *n)\n",
    "{\n",
    "return (c >= 'A' && c <= 'Z');\n",
    "}"
   ]
  },
  {
   "cell_type": "code",
   "execution_count": 7,
   "metadata": {},
   "outputs": [
    {
     "name": "stdout",
     "output_type": "stream",
     "text": [
      "Writing 0x05-pointers_arrays_strings/_putchar.c\n"
     ]
    }
   ],
   "source": [
    "%%file 0x05-pointers_arrays_strings/_putchar.c\n",
    "#include <unistd.h>\n",
    "#include \"main.h\"\n",
    "/**\n",
    " * _putchar - writes the character c to stdout\n",
    " * @c: The character to print\n",
    " *\n",
    " * Return: On success 1.\n",
    " * On error, -1 is returned, and errno is set appropriately.\n",
    " */\n",
    "int _putchar(char c)\n",
    "{\n",
    "\treturn (write(1, &c, 1));\n",
    "}\n"
   ]
  },
  {
   "cell_type": "code",
   "execution_count": null,
   "metadata": {},
   "outputs": [
    {
     "name": "stdout",
     "output_type": "stream",
     "text": [
      "\n",
      "========== 0x04-more_functions_nested_loops/0-isupper.c ==========\n",
      "_isupper\n",
      "A: 1\n",
      "a: 0\n"
     ]
    }
   ],
   "source": [
    "%%bash\n",
    "betty 0x05-pointers_arrays_strings/0-isupper.c\n",
    "gcc -Wall -pedantic -Werror -Wextra -std=gnu89 0x05-pointers_arrays_strings/0-main.c 0x04-more_functions_nested_loops/0-isupper.c -o 0x04-more_functions_nested_loops/0-isupper\n",
    "./0x04-more_functions_nested_loops/0-isupper"
   ]
  },
  {
   "cell_type": "code",
   "execution_count": null,
   "metadata": {},
   "outputs": [
    {
     "name": "stdout",
     "output_type": "stream",
     "text": [
      "[main 73a8699] alx-low_level_programming/0x04-more_functions_nested_loops\n",
      " 3 files changed, 233 insertions(+), 279 deletions(-)\n",
      " create mode 100644 0x04-more_functions_nested_loops/1-main.c\n"
     ]
    },
    {
     "name": "stderr",
     "output_type": "stream",
     "text": [
      "To github.com:elkomysara/alx-low_level_programming.git\n",
      "   09a18da..73a8699  main -> main\n"
     ]
    }
   ],
   "source": [
    "%%bash\n",
    "git add .\n",
    "git commit -m \"alx-low_level_programming/0x04-more_functions_nested_loops\"\n",
    "git push"
   ]
  },
  {
   "cell_type": "markdown",
   "metadata": {},
   "source": [
    "#### 1. Types and Memory\n",
    "First, let's look at the sizes of different types in memory:\n",
    "\n",
    "This will display the size of different data types on your machine.\n",
    "##### Pointers and Memory\n",
    "Variable Declaration and Memory Allocation:\n",
    "\n",
    "* When you declare a variable, the computer reserves memory to store its value.\n",
    "* The amount of memory reserved depends on the type of the variable.\n",
    "* For example, on a typical 64-bit Linux machine:\n",
    "    * `char` takes `1` byte.\n",
    "    * `int` takes `4 `bytes.\n",
    "    * `float` takes `4` bytes.\n",
    "\n",
    "The `sizeof` operator is used to determine the size of a type or variable."
   ]
  },
  {
   "cell_type": "code",
   "execution_count": 5,
   "metadata": {},
   "outputs": [
    {
     "name": "stdout",
     "output_type": "stream",
     "text": [
      "Writing 0x05-pointers_arrays_strings/0-main.c\n"
     ]
    }
   ],
   "source": [
    "%%file 0x05-pointers_arrays_strings/0-main.c\n",
    "#include <stdio.h>\n",
    "\n",
    "int main(void)\n",
    "{\n",
    "   int n; \n",
    "\n",
    "   printf(\"Size of type 'char' on my computer: %lu bytes\\n\", sizeof(char));\n",
    "   printf(\"Size of type 'int' on my computer: %lu bytes\\n\", sizeof(int));\n",
    "   printf(\"Size of type 'float' on my computer: %lu bytes\\n\", sizeof(float));\n",
    "   printf(\"Size of type of my variable n on my computer: %lu bytes\\n\", sizeof(n));\n",
    "   return (0);\n",
    "}"
   ]
  },
  {
   "cell_type": "code",
   "execution_count": 6,
   "metadata": {},
   "outputs": [
    {
     "name": "stdout",
     "output_type": "stream",
     "text": [
      "Size of type 'char' on my computer: 1 bytes\n",
      "Size of type 'int' on my computer: 4 bytes\n",
      "Size of type 'float' on my computer: 4 bytes\n",
      "Size of type of my variable n on my computer: 4 bytes\n"
     ]
    }
   ],
   "source": [
    "%%bash\n",
    "gcc -Wall -Wextra -Werror -pedantic -std=gnu89 0x05-pointers_arrays_strings/0-main.c -o 0x05-pointers_arrays_strings/sizeof && ./0x05-pointers_arrays_strings/sizeof\n"
   ]
  },
  {
   "cell_type": "markdown",
   "metadata": {},
   "source": [
    "#### 2. Addresses of Variables\n",
    "To understand how memory addresses work, use this example:\n",
    "\n",
    "This will print the memory addresses of `c` and `n`.\n",
    "##### Memory Address:\n",
    "\n",
    "* Each variable is stored at a specific memory address.\n",
    "* The address of a variable can be obtained using the address-of operator `&`\n",
    "* `%p` in `printf` is used to print memory addresses.\n"
   ]
  },
  {
   "cell_type": "code",
   "execution_count": 7,
   "metadata": {},
   "outputs": [
    {
     "name": "stdout",
     "output_type": "stream",
     "text": [
      "Writing 0x05-pointers_arrays_strings/1-main.c\n"
     ]
    }
   ],
   "source": [
    "%%file 0x05-pointers_arrays_strings/1-main.c\n",
    "#include <stdio.h>\n",
    "\n",
    "int main(void)\n",
    "{\n",
    "   char c;\n",
    "   int n;\n",
    "\n",
    "   printf(\"Address of variable 'c': %p\\n\", &c);\n",
    "   printf(\"Address of variable 'n': %p\\n\", &n);\n",
    "   return (0);\n",
    "}\n"
   ]
  },
  {
   "cell_type": "code",
   "execution_count": 8,
   "metadata": {},
   "outputs": [
    {
     "name": "stdout",
     "output_type": "stream",
     "text": [
      "Address of variable 'c': 0x7ffdbeaa25c3\n",
      "Address of variable 'n': 0x7ffdbeaa25c4\n"
     ]
    }
   ],
   "source": [
    "%%bash\n",
    "gcc 0x05-pointers_arrays_strings/1-main.c -o 0x05-pointers_arrays_strings/address && ./0x05-pointers_arrays_strings//address\n"
   ]
  },
  {
   "cell_type": "markdown",
   "metadata": {},
   "source": [
    "#### 3. Size of a Pointer\n",
    "To see the size of a pointer:\n",
    "\n",
    "This shows the size of a pointer on your machine.\n",
    "##### Understanding Pointers\n",
    "* What is a Pointer?\n",
    "    \n",
    "    A pointer is a variable that contains the memory address of another variable\n",
    "* Example:\n",
    "   \n",
    "     `int *p;`\n",
    "* Here,` p `is a pointer to an `int`."
   ]
  },
  {
   "cell_type": "code",
   "execution_count": 12,
   "metadata": {},
   "outputs": [
    {
     "name": "stdout",
     "output_type": "stream",
     "text": [
      "Overwriting 0x05-pointers_arrays_strings/2-main.c\n"
     ]
    }
   ],
   "source": [
    "%%file 0x05-pointers_arrays_strings/2-main.c\n",
    "#include <stdio.h>\n",
    "\n",
    "int main(void)\n",
    "{\n",
    "   int *p;\n",
    "\n",
    "   printf(\"Size of pointer: %lu\\n\", sizeof(p));\n",
    "   return (0);\n",
    "}\n",
    "\n"
   ]
  },
  {
   "cell_type": "code",
   "execution_count": 13,
   "metadata": {},
   "outputs": [
    {
     "name": "stdout",
     "output_type": "stream",
     "text": [
      "Size of pointer: 8\n"
     ]
    }
   ],
   "source": [
    "%%bash\n",
    "gcc -Wall -Werror -pedantic -Wextra -std=gnu89 0x05-pointers_arrays_strings/2-main.c -o 0x05-pointers_arrays_strings/psize && ./0x05-pointers_arrays_strings/psize\n"
   ]
  },
  {
   "cell_type": "markdown",
   "metadata": {},
   "source": [
    "#### 4. Address of a Pointer\n",
    "To print the address where a pointer is sotred:\n",
    "\n",
    "This prints the address of the pointer variable `p`.\n",
    "##### Pointer Declaration and Initialization:\n",
    "\n",
    "Pointers are declared by specifying the type they point to, followed by an asterisk (*).\n",
    "Example:\n",
    "```bash\n",
    "int n = 10;\n",
    "int *p = &n;  // p now contains the address of n\n",
    "p is initialized to the address of n.\n"
   ]
  },
  {
   "cell_type": "code",
   "execution_count": 15,
   "metadata": {},
   "outputs": [
    {
     "name": "stdout",
     "output_type": "stream",
     "text": [
      "Writing 0x05-pointers_arrays_strings/3-main.c\n"
     ]
    }
   ],
   "source": [
    "%%file 0x05-pointers_arrays_strings/3-main.c\n",
    "#include <stdio.h>\n",
    "\n",
    "int main(void)\n",
    "{\n",
    "  int *p;\n",
    "\n",
    "  printf(\"Address of variable 'p': %p\\n\", &p);\n",
    "  return (0);\n",
    "}\n",
    "\n"
   ]
  },
  {
   "cell_type": "code",
   "execution_count": 16,
   "metadata": {},
   "outputs": [
    {
     "name": "stdout",
     "output_type": "stream",
     "text": [
      "Address of variable 'p': 0x7ffd1a9c35f0\n"
     ]
    }
   ],
   "source": [
    "%%bash\n",
    "gcc 0x05-pointers_arrays_strings/3-main.c -o 0x05-pointers_arrays_strings/paddress && ./0x05-pointers_arrays_strings/paddress\n"
   ]
  },
  {
   "cell_type": "markdown",
   "metadata": {},
   "source": [
    "#### 5. Storing Address of a Variable into a Pointer\n",
    "To store the address of a variable in a pointer:\n",
    "\n",
    "This demostrates storing the address of `n` in `p`."
   ]
  },
  {
   "cell_type": "code",
   "execution_count": 17,
   "metadata": {},
   "outputs": [
    {
     "name": "stdout",
     "output_type": "stream",
     "text": [
      "Writing 0x05-pointers_arrays_strings/4-main.c\n"
     ]
    }
   ],
   "source": [
    "%%file 0x05-pointers_arrays_strings/4-main.c\n",
    "#include <stdio.h>\n",
    "\n",
    "int main(void)\n",
    "{\n",
    "  int n;\n",
    "  int *p;\n",
    "\n",
    "  n = 98;\n",
    "  p = &n;\n",
    "  printf(\"Address of 'n': %p\\n\", &n);\n",
    "  printf(\"Value of 'p': %p\\n\", p);\n",
    "  return (0);\n",
    "}\n",
    "\n"
   ]
  },
  {
   "cell_type": "code",
   "execution_count": 18,
   "metadata": {},
   "outputs": [
    {
     "name": "stdout",
     "output_type": "stream",
     "text": [
      "Address of 'n': 0x7ffe7273cd5c\n",
      "Value of 'p': 0x7ffe7273cd5c\n"
     ]
    }
   ],
   "source": [
    "%%bash\n",
    "gcc 0x05-pointers_arrays_strings/4-main.c -o 0x05-pointers_arrays_strings/pn && ./0x05-pointers_arrays_strings/pn\n"
   ]
  },
  {
   "cell_type": "markdown",
   "metadata": {},
   "source": [
    "#### 6. Dereferencing Pointers\n",
    "To see how derefrencing works:\n",
    "\n",
    "This shows how changing the value of `*p` affects `n`.\n",
    "##### Dereferencing Pointers:\n",
    "Dereferencing a pointer means accessing the value stored at the address contained in the pointer \n",
    "Example\n",
    "printf(\"Value of n: %d\\n\", *p);  // Outputs the value of n using the pointer p\n",
    "*p gives the value at the address p points to.\n"
   ]
  },
  {
   "cell_type": "code",
   "execution_count": 1,
   "metadata": {},
   "outputs": [
    {
     "name": "stdout",
     "output_type": "stream",
     "text": [
      "Writing 0x05-pointers_arrays_strings/5-main.c\n"
     ]
    }
   ],
   "source": [
    "%%file 0x05-pointers_arrays_strings/5-main.c\n",
    "#include <stdio.h>\n",
    "\n",
    "int main(void)\n",
    "{\n",
    "   int n;\n",
    "   int *p;\n",
    "\n",
    "   n = 98;\n",
    "   p = &n;\n",
    "   printf(\"Value of 'n': %d\\n\", n);\n",
    "   printf(\"Address of 'n': %p\\n\", &n);\n",
    "   printf(\"Value of 'p': %p\\n\", p);\n",
    "   *p = 402;\n",
    "   printf(\"Value of 'n': %d\\n\", n);\n",
    "   return (0);\n",
    "}\n",
    "\n",
    "\n"
   ]
  },
  {
   "cell_type": "code",
   "execution_count": 2,
   "metadata": {},
   "outputs": [
    {
     "name": "stdout",
     "output_type": "stream",
     "text": [
      "Value of 'n': 98\n",
      "Address of 'n': 0x7ffc28e2f55c\n",
      "Value of 'p': 0x7ffc28e2f55c\n",
      "Value of 'n': 402\n"
     ]
    }
   ],
   "source": [
    "%%bash\n",
    "gcc 0x05-pointers_arrays_strings/5-main.c -o 0x05-pointers_arrays_strings/dereference && ./0x05-pointers_arrays_strings/dereference\n"
   ]
  },
  {
   "cell_type": "markdown",
   "metadata": {},
   "source": [
    "#### 7. More Dereferencing Examples\n",
    "With multiple types:\n",
    "\n",
    "This covers dereferencing with different data types."
   ]
  },
  {
   "cell_type": "code",
   "execution_count": 3,
   "metadata": {},
   "outputs": [
    {
     "name": "stdout",
     "output_type": "stream",
     "text": [
      "Writing 0x05-pointers_arrays_strings/6-main.c\n"
     ]
    }
   ],
   "source": [
    "%%file 0x05-pointers_arrays_strings/6-main.c\n",
    "#include <stdio.h>\n",
    "\n",
    "int main(void)\n",
    "{\n",
    "   int n;\n",
    "   int *p;\n",
    "   char c;\n",
    "   char *pp;\n",
    "\n",
    "   c = 'H';\n",
    "   pp = &c;\n",
    "   n = 98;\n",
    "   p = &n;\n",
    "   printf(\"Value of 'c': %d ('%c')\\n\", c, c);\n",
    "   printf(\"Address of 'c': %p\\n\", &c);\n",
    "   printf(\"Value of 'pp': %p\\n\", pp);\n",
    "   printf(\"Value of 'n': %d\\n\", n);\n",
    "   printf(\"Address of 'n': %p\\n\", &n);\n",
    "   printf(\"Value of 'p': %p\\n\", p);\n",
    "   *p = 402;\n",
    "   *pp = 'o';\n",
    "   printf(\"Value of 'n': %d\\n\", n);\n",
    "   printf(\"Value of '*pp': %d\\n\", *pp);\n",
    "   printf(\"Value of 'c': %d ('%c')\\n\", c, c);\n",
    "   printf(\"Value of '*pp': %d ('%c')\\n\", *pp, *pp);\n",
    "   return (0);\n",
    "}\n",
    "\n",
    "\n",
    "\n"
   ]
  },
  {
   "cell_type": "code",
   "execution_count": null,
   "metadata": {},
   "outputs": [
    {
     "name": "stdout",
     "output_type": "stream",
     "text": [
      "Value of 'n': 98\n",
      "Address of 'n': 0x7ffc28e2f55c\n",
      "Value of 'p': 0x7ffc28e2f55c\n",
      "Value of 'n': 402\n"
     ]
    }
   ],
   "source": [
    "%%bash\n",
    "gcc 0x05-pointers_arrays_strings/5-main.c -o 0x05-pointers_arrays_strings/dereference && ./0x05-pointers_arrays_strings/dereference\n"
   ]
  },
  {
   "cell_type": "markdown",
   "metadata": {},
   "source": [
    "#### 8. Modifying a Variable from a Function\n",
    "To change a variable value through a funciton using pointers:\n",
    "\n",
    "This illustrates how pointers allow modification of variables inside funcitons."
   ]
  },
  {
   "cell_type": "code",
   "execution_count": 1,
   "metadata": {},
   "outputs": [
    {
     "name": "stdout",
     "output_type": "stream",
     "text": [
      "Writing 0x05-pointers_arrays_strings/7-main.c\n"
     ]
    }
   ],
   "source": [
    "%%file 0x05-pointers_arrays_strings/7-main.c\n",
    "#include <stdio.h>\n",
    "\n",
    "void modif_my_param(int *m)\n",
    "{\n",
    "   printf(\"Value of 'm': %p\\n\", m);\n",
    "   printf(\"Address of 'm': %p\\n\", &m);\n",
    "   *m = 402;\n",
    "}\n",
    "\n",
    "int main(void)\n",
    "{\n",
    "   int n;\n",
    "   int *p;\n",
    "\n",
    "   p = &n;\n",
    "   n = 98;\n",
    "   printf(\"Value of 'n' before the call: %d\\n\", n);\n",
    "   printf(\"Address of 'n': %p\\n\", &n);\n",
    "   printf(\"Value of 'p': %p\\n\", p);\n",
    "   printf(\"Address of 'p': %p\\n\", &p);\n",
    "   modif_my_param(p);\n",
    "   printf(\"Value of 'n' after the call: %d\\n\", n);\n",
    "   return (0);\n",
    "}\n"
   ]
  },
  {
   "cell_type": "code",
   "execution_count": 2,
   "metadata": {},
   "outputs": [
    {
     "name": "stdout",
     "output_type": "stream",
     "text": [
      "Value of 'n' before the call: 98\n",
      "Address of 'n': 0x7ffc7a0c011c\n",
      "Value of 'p': 0x7ffc7a0c011c\n",
      "Address of 'p': 0x7ffc7a0c0120\n",
      "Value of 'm': 0x7ffc7a0c011c\n",
      "Address of 'm': 0x7ffc7a0c00f8\n",
      "Value of 'n' after the call: 402\n"
     ]
    }
   ],
   "source": [
    "%%bash\n",
    "gcc 0x05-pointers_arrays_strings/7-main.c -o 0x05-pointers_arrays_strings/modify_param && ./0x05-pointers_arrays_strings/modify_param\n"
   ]
  },
  {
   "cell_type": "markdown",
   "metadata": {},
   "source": [
    "#### 9. Arrays in C\n",
    "To declare and use arrays:\n",
    "\n",
    "This demonstrates accessing and printing array elements and their addresses."
   ]
  },
  {
   "cell_type": "code",
   "execution_count": 3,
   "metadata": {},
   "outputs": [
    {
     "name": "stdout",
     "output_type": "stream",
     "text": [
      "Writing 0x05-pointers_arrays_strings/9-main.c\n"
     ]
    }
   ],
   "source": [
    "%%file 0x05-pointers_arrays_strings/9-main.c\n",
    "#include <stdio.h>\n",
    "\n",
    "int main(void)\n",
    "{\n",
    "   int a[5];\n",
    "\n",
    "   a[0] = 98;\n",
    "   a[1] = 198;\n",
    "   a[2] = 298;\n",
    "   a[3] = 398;\n",
    "   a[4] = 498;\n",
    "   printf(\"Value of a[0]: %d\\n\", a[0]);\n",
    "   printf(\"Value of a[1]: %d\\n\", a[1]);\n",
    "   printf(\"Value of a[2]: %d\\n\", a[2]);\n",
    "   printf(\"Value of a[3]: %d\\n\", a[3]);\n",
    "   printf(\"Value of a[4]: %d\\n\", a[4]);\n",
    "   printf(\"Address of 'a[0]': %p\\n\", &(a[0]));\n",
    "   printf(\"Address of 'a[1]': %p\\n\", &(a[1]));\n",
    "   printf(\"Address of 'a[2]': %p\\n\", &(a[2]));\n",
    "   printf(\"Address of 'a[3]': %p\\n\", &(a[3]));\n",
    "   printf(\"Address of 'a[4]': %p\\n\", &(a[4]));\n",
    "   return (0);\n",
    "}"
   ]
  },
  {
   "cell_type": "code",
   "execution_count": 4,
   "metadata": {},
   "outputs": [
    {
     "name": "stdout",
     "output_type": "stream",
     "text": [
      "Value of a[0]: 98\n",
      "Value of a[1]: 198\n",
      "Value of a[2]: 298\n",
      "Value of a[3]: 398\n",
      "Value of a[4]: 498\n",
      "Address of 'a[0]': 0x7fffa9f834c0\n",
      "Address of 'a[1]': 0x7fffa9f834c4\n",
      "Address of 'a[2]': 0x7fffa9f834c8\n",
      "Address of 'a[3]': 0x7fffa9f834cc\n",
      "Address of 'a[4]': 0x7fffa9f834d0\n"
     ]
    }
   ],
   "source": [
    "%%bash\n",
    "gcc 0x05-pointers_arrays_strings/9-main.c -o 0x05-pointers_arrays_strings/array && ./0x05-pointers_arrays_strings/array\n"
   ]
  },
  {
   "cell_type": "markdown",
   "metadata": {},
   "source": [
    "#### 10. Arrays vs Pointers\n",
    "To understand the difference between arrays and pointers:\n",
    "\n",
    "This example clarifies how the name of the array and the address of its first element behave similarly."
   ]
  },
  {
   "cell_type": "code",
   "execution_count": 5,
   "metadata": {},
   "outputs": [
    {
     "name": "stdout",
     "output_type": "stream",
     "text": [
      "Writing 0x05-pointers_arrays_strings/16-main.c\n"
     ]
    }
   ],
   "source": [
    "%%file 0x05-pointers_arrays_strings/16-main.c\n",
    "#include <stdio.h>\n",
    "\n",
    "int main(void)\n",
    "{\n",
    "   int a[98]; /* array */\n",
    "\n",
    "   printf(\"a: %p\\n\", a);\n",
    "   printf(\"&a[0]: %p\\n\", &a[0]);\n",
    "   return (0);\n",
    "}\n"
   ]
  },
  {
   "cell_type": "code",
   "execution_count": 6,
   "metadata": {},
   "outputs": [
    {
     "name": "stdout",
     "output_type": "stream",
     "text": [
      "a: 0x7fff16302e30\n",
      "&a[0]: 0x7fff16302e30\n"
     ]
    }
   ],
   "source": [
    "%%bash\n",
    "gcc 0x05-pointers_arrays_strings/16-main.c -o 0x05-pointers_arrays_strings/avsp && ./0x05-pointers_arrays_strings/avsp\n"
   ]
  },
  {
   "cell_type": "markdown",
   "metadata": {},
   "source": [
    "#### 16. This example clarifies how the name of the array and the address of its first element behave similarly."
   ]
  },
  {
   "cell_type": "markdown",
   "metadata": {},
   "source": [
    "#### 17. This example illustrates the automatic conversion of arrays to pointers in expressions."
   ]
  },
  {
   "cell_type": "code",
   "execution_count": 7,
   "metadata": {},
   "outputs": [
    {
     "name": "stdout",
     "output_type": "stream",
     "text": [
      "Writing 0x05-pointers_arrays_strings/17-main.c\n"
     ]
    }
   ],
   "source": [
    "%%file 0x05-pointers_arrays_strings/17-main.c\n",
    "#include <stdio.h>\n",
    "\n",
    "void f(int *a);\n",
    "\n",
    "int main(void)\n",
    "{\n",
    "   int *p;\n",
    "   int t[10];\n",
    "\n",
    "   p = t; /* This works because of the auto implicit conversion to (int *) */\n",
    "   printf(\"t: %p\\n\", t);\n",
    "   printf(\"&t[0]: %p\\n\", &t[0]);\n",
    "   printf(\"p: %p\\n\", p);\n",
    "   f(t);\n",
    "   return (0);\n",
    "}\n",
    "\n",
    "void f(int *a)\n",
    "{\n",
    "   printf(\"a: %p\\n\", a);\n",
    "}\n"
   ]
  },
  {
   "cell_type": "code",
   "execution_count": 8,
   "metadata": {},
   "outputs": [
    {
     "name": "stdout",
     "output_type": "stream",
     "text": [
      "t: 0x7fffe3290db0\n",
      "&t[0]: 0x7fffe3290db0\n",
      "p: 0x7fffe3290db0\n",
      "a: 0x7fffe3290db0\n"
     ]
    }
   ],
   "source": [
    "%%bash\n",
    "gcc 0x05-pointers_arrays_strings/17-main.c -o 0x05-pointers_arrays_strings/a.out && ./0x05-pointers_arrays_strings/a.out\n"
   ]
  },
  {
   "cell_type": "markdown",
   "metadata": {},
   "source": [
    "###\n",
    "---\n",
    "<center>\n",
    "<h1> 0x05-pointers_arrays_strings  </h1>\n",
    "</center>\n",
    "\n",
    "---\n"
   ]
  },
  {
   "cell_type": "markdown",
   "metadata": {},
   "source": [
    "###\n",
    "---\n",
    "<center>\n",
    "<h4> 0. isupper </h4>\n",
    "</center>\n",
    "\n",
    "---"
   ]
  },
  {
   "cell_type": "markdown",
   "metadata": {},
   "source": [
    "\n",
    "####  Write a function that checks for uppercase character.\n",
    "\n",
    "* Prototype: `int _isupper(int c);`\n",
    "* Returns `1` if `c` is uppercase\n",
    "* Returns `0` otherwise\n",
    "FYI: The standard library provides a similar function: `isupper`. Run `man isupper` to learn more.\n",
    "\n",
    "```bash\n",
    "julien@ubuntu:~/0x04$ cat 0-main.c\n",
    "#include \"main.h\"\n",
    "#include <stdio.h>\n",
    "\n",
    "/**\n",
    " * main - check the code.\n",
    " *\n",
    " * Return: Always 0.\n",
    " */\n",
    "int main(void)\n",
    "{\n",
    "    char c;\n",
    "\n",
    "    c = 'A';\n",
    "    printf(\"%c: %d\\n\", c, _isupper(c));\n",
    "    c = 'a';\n",
    "    printf(\"%c: %d\\n\", c, _isupper(c));\n",
    "    return (0);\n",
    "}\n",
    "julien@ubuntu:~/0x04$ gcc -Wall -pedantic -Werror -Wextra -std=gnu89 0-main.c 0-isupper.c -o 0-isuper\n",
    "julien@ubuntu:~/0x04$ ./0-isuper \n",
    "A: 1\n",
    "a: 0\n",
    "julien@ubuntu:~/0x04$ \n",
    "\n",
    "```\n",
    "\n",
    "#### Repo:\n",
    "* GitHub repository: ``` alx-low_level_programming ```\n",
    "* Directory: ```0x05-pointers_arrays_strings``` \n",
    "* File: ```0-isupper.c```"
   ]
  },
  {
   "cell_type": "code",
   "execution_count": 1,
   "metadata": {},
   "outputs": [
    {
     "name": "stdout",
     "output_type": "stream",
     "text": [
      "Overwriting 0x04-more_functions_nested_loops/0-main.c\n"
     ]
    }
   ],
   "source": [
    "%%file 0x05-pointers_arrays_strings/0-main.c\n",
    "#include \"main.h\"\n",
    "#include <stdio.h>\n",
    "\n",
    "/**\n",
    " * main - check the code.\n",
    " *\n",
    " * Return: Always 0.\n",
    " */\n",
    "int main(void)\n",
    "{\n",
    "    char c;\n",
    "\n",
    "    c = 'A';\n",
    "    printf(\"%c: %d\\n\", c, _isupper(c));\n",
    "    c = 'a';\n",
    "    printf(\"%c: %d\\n\", c, _isupper(c));\n",
    "    return (0);\n",
    "}"
   ]
  },
  {
   "cell_type": "code",
   "execution_count": 2,
   "metadata": {},
   "outputs": [
    {
     "name": "stdout",
     "output_type": "stream",
     "text": [
      "Overwriting 0x04-more_functions_nested_loops/main.h\n"
     ]
    }
   ],
   "source": [
    "%%file 0x05-pointers_arrays_strings/main.h\n",
    "#ifndef FILE_MAIN\n",
    "#define FILE_MAIN\n",
    "\n",
    "#include <stdio.h>\n",
    "\n",
    "int _putchar(char c);\n",
    "int _isupper(int c);\n",
    "\n",
    "\n",
    "#endif\n"
   ]
  },
  {
   "cell_type": "code",
   "execution_count": 3,
   "metadata": {},
   "outputs": [
    {
     "name": "stdout",
     "output_type": "stream",
     "text": [
      "Overwriting 0x04-more_functions_nested_loops/0-isupper.c\n"
     ]
    }
   ],
   "source": [
    "%%file 0x05-pointers_arrays_strings/0-isupper.c\n",
    "#include \"main.h\"\n",
    "\n",
    "/**\n",
    "* _isupper - checks for uppercase character\n",
    "* @c: the character to be checked\n",
    "* Return: 1 if c is uppercase, 0 otherwise\n",
    "*/\n",
    "int _isupper(int c)\n",
    "{\n",
    "return (c >= 'A' && c <= 'Z');\n",
    "}"
   ]
  },
  {
   "cell_type": "code",
   "execution_count": 6,
   "metadata": {},
   "outputs": [
    {
     "name": "stdout",
     "output_type": "stream",
     "text": [
      "Overwriting 0x04-more_functions_nested_loops/_putchar.c\n"
     ]
    }
   ],
   "source": [
    "%%file 0x05-pointers_arrays_strings/_putchar.c\n",
    "#include <unistd.h>\n",
    "#include \"main.h\"\n",
    "/**\n",
    " * _putchar - writes the character c to stdout\n",
    " * @c: The character to print\n",
    " *\n",
    " * Return: On success 1.\n",
    " * On error, -1 is returned, and errno is set appropriately.\n",
    " */\n",
    "int _putchar(char c)\n",
    "{\n",
    "\treturn (write(1, &c, 1));\n",
    "}\n"
   ]
  },
  {
   "cell_type": "code",
   "execution_count": null,
   "metadata": {},
   "outputs": [
    {
     "name": "stdout",
     "output_type": "stream",
     "text": [
      "\n",
      "========== 0x04-more_functions_nested_loops/0-isupper.c ==========\n",
      "_isupper\n",
      "A: 1\n",
      "a: 0\n"
     ]
    }
   ],
   "source": [
    "%%bash\n",
    "betty 0x05-pointers_arrays_strings/0-isupper.c\n",
    "gcc -Wall -pedantic -Werror -Wextra -std=gnu89 0x05-pointers_arrays_strings/0-main.c 0x05-pointers_arrays_strings/0-isupper.c -o 0x05-pointers_arrays_strings/0-isupper\n",
    "./0x05-pointers_arrays_strings/0-isupper"
   ]
  },
  {
   "cell_type": "code",
   "execution_count": null,
   "metadata": {},
   "outputs": [
    {
     "name": "stdout",
     "output_type": "stream",
     "text": [
      "[main 73a8699] alx-low_level_programming/0x04-more_functions_nested_loops\n",
      " 3 files changed, 233 insertions(+), 279 deletions(-)\n",
      " create mode 100644 0x04-more_functions_nested_loops/1-main.c\n"
     ]
    },
    {
     "name": "stderr",
     "output_type": "stream",
     "text": [
      "To github.com:elkomysara/alx-low_level_programming.git\n",
      "   09a18da..73a8699  main -> main\n"
     ]
    }
   ],
   "source": [
    "%%bash\n",
    "git add .\n",
    "git commit -m \"alx-low_level_programming/0x05-pointers_arrays_strings\"\n",
    "git push"
   ]
  },
  {
   "cell_type": "markdown",
   "metadata": {},
   "source": [
    "###\n",
    "---\n",
    "<center>\n",
    "<h4> 1. isdigit</h4>\n",
    "</center>\n",
    "\n",
    "---\n"
   ]
  },
  {
   "cell_type": "markdown",
   "metadata": {},
   "source": [
    "##### Write a function that checks for a digit (`0` through `9`).\n",
    "\n",
    "* Prototype: `int _isdigit(int c);`\n",
    "* Returns `1` if `c` is a digit\n",
    "* Returns `0` otherwise\n",
    "\n",
    "FYI: The standard library provides a similar function: isdigit. Run man isdigit to learn more.\n",
    "```bash\n",
    "julien@ubuntu:~/0x04$ cat 1-main.c \n",
    "#include \"main.h\"\n",
    "#include <stdio.h>\n",
    "\n",
    "/**\n",
    " * main - check the code\n",
    " *\n",
    " * Return: Always 0.\n",
    " */\n",
    "int main(void)\n",
    "{\n",
    "    char c;\n",
    "\n",
    "    c = '0';\n",
    "    printf(\"%c: %d\\n\", c, _isdigit(c));\n",
    "    c = 'a';\n",
    "    printf(\"%c: %d\\n\", c, _isdigit(c));\n",
    "    return (0);\n",
    "}\n",
    "julien@ubuntu:~/0x04$ gcc -Wall -pedantic -Werror -Wextra -std=gnu89 1-main.c 1-isdigit.c -o 1-isdigit\n",
    "julien@ubuntu:~/0x04$ ./1-isdigit \n",
    "0: 1\n",
    "a: 0\n",
    "julien@ubuntu:~/0x04$ \n",
    "\n",
    "```\n",
    "\n",
    "\n",
    "* Repo:\n",
    "\n",
    "    * GitHub repository: <code > alx-low_level_programming </code>\n",
    "    * Directory: <code > 0x05-pointers_arrays_strings </code>\n",
    "    * File: <code >  1-isdigit.c </code>\n",
    "   "
   ]
  },
  {
   "cell_type": "code",
   "execution_count": 9,
   "metadata": {},
   "outputs": [
    {
     "name": "stdout",
     "output_type": "stream",
     "text": [
      "Writing 0x04-more_functions_nested_loops/1-isdigit.c\n"
     ]
    }
   ],
   "source": [
    "%%file 0x05-pointers_arrays_strings/1-isdigit.c\n",
    "#include \"main.h\"\n",
    "\n",
    "/**\n",
    "* _isdigit - checks for a digit (0 through 9)\n",
    "* @c: int to be checked\n",
    "* Return: 1 if c is a digit, 0 otherwise\n",
    "*/\n",
    "int _isdigit(int c)\n",
    "{\n",
    "return (c >= '0' && c <= '9');\n",
    "}"
   ]
  },
  {
   "cell_type": "code",
   "execution_count": 14,
   "metadata": {},
   "outputs": [
    {
     "name": "stdout",
     "output_type": "stream",
     "text": [
      "Writing 0x04-more_functions_nested_loops/1-main.c\n"
     ]
    }
   ],
   "source": [
    "%%file 0x05-pointers_arrays_strings/1-main.c\n",
    "#include \"main.h\"\n",
    "#include <stdio.h>\n",
    "\n",
    "/**\n",
    " * main - check the code\n",
    " *\n",
    " * Return: Always 0.\n",
    " */\n",
    "int main(void)\n",
    "{\n",
    "char c;\n",
    "\n",
    "c = '0';\n",
    "printf(\"%c: %d\\n\", c, _isdigit(c));\n",
    "c = 'a';\n",
    "printf(\"%c: %d\\n\", c, _isdigit(c));\n",
    "return (0);\n",
    "}"
   ]
  },
  {
   "cell_type": "code",
   "execution_count": 10,
   "metadata": {},
   "outputs": [
    {
     "name": "stdout",
     "output_type": "stream",
     "text": [
      "Overwriting 0x04-more_functions_nested_loops/main.h\n"
     ]
    }
   ],
   "source": [
    "%%file 0x05-pointers_arrays_strings/main.h\n",
    "#ifndef MAIN_H\n",
    "#define MAIN_H\n",
    "\n",
    "#include <stdio.h>\n",
    "\n",
    "int _putchar(char c);\n",
    "int _isupper(int c);\n",
    "int _isdigit(int c);\n",
    "\n",
    "#endif\n"
   ]
  },
  {
   "cell_type": "code",
   "execution_count": 12,
   "metadata": {},
   "outputs": [
    {
     "name": "stdout",
     "output_type": "stream",
     "text": [
      "\n",
      "========== 0x04-more_functions_nested_loops/1-isdigit.c ==========\n",
      "_isdigit\n",
      "0: 1\n",
      "a: 0\n"
     ]
    }
   ],
   "source": [
    "%%bash\n",
    "betty 0x05-pointers_arrays_strings/1-isdigit.c\n",
    "gcc -Wall -pedantic -Werror -Wextra -std=gnu89 0x05-pointers_arrays_strings/1-main.c 0x05-pointers_arrays_strings/1-isdigit.c -o 0x05-pointers_arrays_strings/1-isdigit\n",
    "./0x05-pointers_arrays_strings/1-isdigit"
   ]
  },
  {
   "cell_type": "code",
   "execution_count": 13,
   "metadata": {},
   "outputs": [
    {
     "name": "stdout",
     "output_type": "stream",
     "text": [
      "[main 202c7fe] alx-low_level_programming/0x04-more_functions_nested_loops\n",
      " 2 files changed, 187 insertions(+), 585 deletions(-)\n",
      " create mode 100755 0x04-more_functions_nested_loops/1-isdigit\n"
     ]
    },
    {
     "name": "stderr",
     "output_type": "stream",
     "text": [
      "To github.com:elkomysara/alx-low_level_programming.git\n",
      "   7fafeb7..202c7fe  main -> main\n"
     ]
    }
   ],
   "source": [
    "%%bash\n",
    "git add .\n",
    "git commit -m \"alx-low_level_programming/0x05-pointers_arrays_strings\"\n",
    "git push"
   ]
  },
  {
   "cell_type": "markdown",
   "metadata": {},
   "source": [
    "###\n",
    "---\n",
    "<center>\n",
    "<h4> 2. Collaboration is multiplication</h4>\n",
    "</center>\n",
    "\n",
    "---\n"
   ]
  },
  {
   "cell_type": "markdown",
   "metadata": {},
   "source": [
    "##### Write a function that multiplies two integers.\n",
    "\n",
    "* Prototype: int mul(int a, int b);\n",
    "\n",
    "```bash\n",
    "julien@ubuntu:~/0x04$ cat 2-main.c\n",
    "#include \"main.h\"\n",
    "#include <stdio.h>\n",
    "\n",
    "/**\n",
    " * main - check the code\n",
    " *\n",
    " * Return: Always 0.\n",
    " */\n",
    "int main(void)\n",
    "{\n",
    "    printf(\"%d\\n\", mul(98, 1024));\n",
    "    printf(\"%d\\n\", mul(-402, 4096));\n",
    "    return (0);\n",
    "}\n",
    "julien@ubuntu:~/0x04$ gcc -Wall -pedantic -Werror -Wextra -std=gnu89 2-main.c 2-mul.c -o 2-mul\n",
    "julien@ubuntu:~/0x04$ ./2-mul \n",
    "100352\n",
    "-1646592\n",
    "julien@ubuntu:~/0x04$\n",
    "\n",
    "```\n",
    "\n",
    "\n",
    "* Repo:\n",
    "\n",
    "    * GitHub repository: <code > alx-low_level_programming </code>\n",
    "    * Directory: <code > 0x05-pointers_arrays_strings </code>\n",
    "    * File: <code > 2-mul.c </code>\n",
    "   "
   ]
  },
  {
   "cell_type": "code",
   "execution_count": 20,
   "metadata": {},
   "outputs": [
    {
     "name": "stdout",
     "output_type": "stream",
     "text": [
      "Overwriting 0x04-more_functions_nested_loops/2-mul.c\n"
     ]
    }
   ],
   "source": [
    "%%file 0x05-pointers_arrays_strings/2-mul.c\n",
    "#include \"main.h\"\n",
    "\n",
    "/**\n",
    "* mul - multiplies two integers\n",
    "* @a: int to be multiplied\n",
    "* @b: int to be multiplied\n",
    "* Return: multiplication\n",
    "*/\n",
    "int mul(int a, int b)\n",
    "{\n",
    "return (a * b);\n",
    "}"
   ]
  },
  {
   "cell_type": "code",
   "execution_count": 21,
   "metadata": {},
   "outputs": [
    {
     "name": "stdout",
     "output_type": "stream",
     "text": [
      "Overwriting 0x04-more_functions_nested_loops/2-main.c\n"
     ]
    }
   ],
   "source": [
    "%%file 0x05-pointers_arrays_strings/2-main.c\n",
    "#include \"main.h\"\n",
    "#include <stdio.h>\n",
    "\n",
    "/**\n",
    " * main - check the code\n",
    " *\n",
    " * Return: Always 0.\n",
    " */\n",
    "int main(void)\n",
    "{\n",
    "    printf(\"%d\\n\", mul(98, 1024));\n",
    "    printf(\"%d\\n\", mul(-402, 4096));\n",
    "    return (0);\n",
    "}"
   ]
  },
  {
   "cell_type": "code",
   "execution_count": 22,
   "metadata": {},
   "outputs": [
    {
     "name": "stdout",
     "output_type": "stream",
     "text": [
      "Overwriting 0x04-more_functions_nested_loops/main.h\n"
     ]
    }
   ],
   "source": [
    "%%file 0x05-pointers_arrays_strings/main.h\n",
    "#ifndef MAIN_H\n",
    "#define MAIN_H\n",
    "\n",
    "#include <stdio.h>\n",
    "\n",
    "int _putchar(char c);\n",
    "int _isupper(int c);\n",
    "int _isdigit(int c);\n",
    "int mul(int a, int b);\n",
    "\n",
    "#endif\n"
   ]
  },
  {
   "cell_type": "code",
   "execution_count": 23,
   "metadata": {},
   "outputs": [
    {
     "name": "stdout",
     "output_type": "stream",
     "text": [
      "\n",
      "========== 0x04-more_functions_nested_loops/2-mul.c ==========\n",
      "mul\n",
      "100352\n",
      "-1646592\n"
     ]
    }
   ],
   "source": [
    "%%bash\n",
    "betty 0x05-pointers_arrays_strings/2-mul.c\n",
    "gcc -Wall -pedantic -Werror -Wextra -std=gnu89 0x05-pointers_arrays_strings/2-main.c 0x05-pointers_arrays_strings/2-mul.c -o 0x05-pointers_arrays_strings/2-mul\n",
    "./0x05-pointers_arrays_strings/2-mul"
   ]
  },
  {
   "cell_type": "code",
   "execution_count": 24,
   "metadata": {},
   "outputs": [
    {
     "name": "stdout",
     "output_type": "stream",
     "text": [
      "[main 11cdfb3] alx-low_level_programming/0x04-more_functions_nested_loops\n",
      " 4 files changed, 27 insertions(+)\n",
      " create mode 100644 0x04-more_functions_nested_loops/2-main.c\n",
      " create mode 100755 0x04-more_functions_nested_loops/2-mul\n",
      " create mode 100644 0x04-more_functions_nested_loops/2-mul.c\n"
     ]
    },
    {
     "name": "stderr",
     "output_type": "stream",
     "text": [
      "To github.com:elkomysara/alx-low_level_programming.git\n",
      "   202c7fe..11cdfb3  main -> main\n"
     ]
    }
   ],
   "source": [
    "%%bash\n",
    "git add .\n",
    "git commit -m \"alx-low_level_programming/0x05-pointers_arrays_strings\"\n",
    "git push"
   ]
  },
  {
   "cell_type": "code",
   "execution_count": null,
   "metadata": {},
   "outputs": [],
   "source": []
  },
  {
   "cell_type": "markdown",
   "metadata": {},
   "source": [
    "###\n",
    "---\n",
    "<center>\n",
    "<h4> 3. The numbers speak for themselves</h4>\n",
    "</center>\n",
    "\n",
    "---\n"
   ]
  },
  {
   "cell_type": "markdown",
   "metadata": {},
   "source": [
    "##### Write a function that prints the numbers, from `0` to `9`, followed by a new line.\n",
    "\n",
    "* Prototype: `void print_numbers(void);`\n",
    "* You can only use` _putchar` twice in your code\n",
    "\n",
    "```bash\n",
    "julien@ubuntu:~/0x04$ cat 3-main.c \n",
    "#include \"main.h\"\n",
    "\n",
    "/**\n",
    " * main - check the code\n",
    " *\n",
    " * Return: Always 0.\n",
    " */\n",
    "int main(void)\n",
    "{\n",
    "    print_numbers();\n",
    "    return (0);\n",
    "}\n",
    "julien@ubuntu:~/0x04$ gcc -Wall -pedantic -Werror -Wextra -std=gnu89 _putchar.c 3-main.c 3-print_numbers.c -o 3-print_numbers\n",
    "julien@ubuntu:~/0x04$ ./3-print_numbers | cat -e\n",
    "0123456789$\n",
    "julien@ubuntu:~/0x04$ \n",
    "\n",
    "```\n",
    "\n",
    "\n",
    "* Repo:\n",
    "\n",
    "    * GitHub repository: <code > alx-low_level_programming </code>\n",
    "    * Directory: <code > 0x05-pointers_arrays_strings </code>\n",
    "    * File: <code > 3-print_numbers.c </code>\n",
    "   "
   ]
  },
  {
   "cell_type": "code",
   "execution_count": 37,
   "metadata": {},
   "outputs": [
    {
     "name": "stdout",
     "output_type": "stream",
     "text": [
      "Overwriting 0x04-more_functions_nested_loops/3-print_numbers.c\n"
     ]
    }
   ],
   "source": [
    "%%file 0x05-pointers_arrays_strings/3-print_numbers.c\n",
    "#include \"main.h\"\n",
    "\n",
    "/**\n",
    "* print_numbers - prints the numbers, from 0 to 9,\n",
    "* followed by a new line\n",
    "*/\n",
    "void print_numbers(void)\n",
    "{\n",
    "int i;\n",
    "for (i = 0; i < 10; i++)\n",
    "{\n",
    "_putchar(i + '0');\n",
    "}\n",
    "_putchar('\\n');\n",
    "}\n"
   ]
  },
  {
   "cell_type": "code",
   "execution_count": 38,
   "metadata": {},
   "outputs": [
    {
     "name": "stdout",
     "output_type": "stream",
     "text": [
      "Overwriting 0x04-more_functions_nested_loops/3-main.c\n"
     ]
    }
   ],
   "source": [
    "%%file 0x05-pointers_arrays_strings/3-main.c\n",
    "#include \"main.h\"\n",
    "\n",
    "/**\n",
    "* main - check the code\n",
    "*\n",
    "* Return: Always 0.\n",
    "*/\n",
    "int main(void)\n",
    "{\n",
    "print_numbers();\n",
    "return (0);\n",
    "}"
   ]
  },
  {
   "cell_type": "code",
   "execution_count": 39,
   "metadata": {},
   "outputs": [
    {
     "name": "stdout",
     "output_type": "stream",
     "text": [
      "Overwriting 0x04-more_functions_nested_loops/main.h\n"
     ]
    }
   ],
   "source": [
    "%%file 0x05-pointers_arrays_strings/main.h\n",
    "#ifndef MAIN_H\n",
    "#define MAIN_H\n",
    "\n",
    "#include <stdio.h>\n",
    "\n",
    "int _putchar(char c);\n",
    "int _isupper(int c);\n",
    "int _isdigit(int c);\n",
    "int mul(int a, int b);\n",
    "void print_numbers(void);\n",
    "\n",
    "#endif\n"
   ]
  },
  {
   "cell_type": "code",
   "execution_count": 52,
   "metadata": {},
   "outputs": [
    {
     "name": "stdout",
     "output_type": "stream",
     "text": [
      "\n",
      "========== 0x04-more_functions_nested_loops/3-print_numbers.c ==========\n",
      "print_numbers\n",
      "0123456789$\n"
     ]
    }
   ],
   "source": [
    "%%bash\n",
    "betty 0x05-pointers_arrays_strings/3-print_numbers.c\n",
    "gcc -Wall -pedantic -Werror -Wextra -std=gnu89 0x05-pointers_arrays_strings/_putchar.c 0x05-pointers_arrays_strings/3-main.c 0x05-pointers_arrays_strings/3-print_numbers.c -o 0x05-pointers_arrays_strings/3-print_numbers\n",
    "./0x05-pointers_arrays_strings/3-print_numbers | cat -e"
   ]
  },
  {
   "cell_type": "code",
   "execution_count": 54,
   "metadata": {},
   "outputs": [
    {
     "name": "stdout",
     "output_type": "stream",
     "text": [
      "print_numbers\n"
     ]
    }
   ],
   "source": [
    "%%bash\n",
    "betty-doc 0x05-pointers_arrays_strings/3-print_numbers.c\n",
    "betty-style 0x05-pointers_arrays_strings/3-print_numbers.c\n"
   ]
  },
  {
   "cell_type": "code",
   "execution_count": 55,
   "metadata": {},
   "outputs": [
    {
     "name": "stdout",
     "output_type": "stream",
     "text": [
      "[main 375df4c] alx-low_level_programming/0x04-more_functions_nested_loops\n",
      " 4 files changed, 26 insertions(+), 10 deletions(-)\n",
      " create mode 100644 0x04-more_functions_nested_loops/4-print_most_numbers.c\n"
     ]
    },
    {
     "name": "stderr",
     "output_type": "stream",
     "text": [
      "To github.com:elkomysara/alx-low_level_programming.git\n",
      "   634e708..375df4c  main -> main\n"
     ]
    }
   ],
   "source": [
    "%%bash\n",
    "git add .\n",
    "git commit -m \"alx-low_level_programming/0x05-pointers_arrays_strings\"\n",
    "git push"
   ]
  },
  {
   "cell_type": "code",
   "execution_count": null,
   "metadata": {},
   "outputs": [],
   "source": []
  },
  {
   "cell_type": "markdown",
   "metadata": {},
   "source": [
    "###\n",
    "---\n",
    "<center>\n",
    "<h4> 4. I believe in numbers and signs</h4>\n",
    "</center>\n",
    "\n",
    "---\n"
   ]
  },
  {
   "cell_type": "markdown",
   "metadata": {},
   "source": [
    "##### Write a function that prints the numbers, from 0 to 9, followed by a new line.\n",
    "\n",
    "* Prototype: `void print_most_numbers(void);`\n",
    "* Do not print `2` and `4`\n",
    "* You can only use `_putchar` twice in your code\n",
    "\n",
    "```bash\n",
    "julien@ubuntu:~/0x04$ cat 4-main.c\n",
    "#include \"main.h\"\n",
    "\n",
    "/**\n",
    " * main - check the code\n",
    " *\n",
    " * Return: Always 0.\n",
    " */\n",
    "int main(void)\n",
    "{\n",
    "    print_most_numbers();\n",
    "    return (0);\n",
    "}\n",
    "julien@ubuntu:~/0x04$ gcc -Wall -pedantic -Werror -Wextra -std=gnu89 _putchar.c 4-main.c 4-print_most_numbers.c -o 4-print_most_numbers\n",
    "julien@ubuntu:~/0x04$ ./4-print_most_numbers \n",
    "01356789\n",
    "julien@ubuntu:~/0x04$\n",
    "\n",
    "```\n",
    "\n",
    "\n",
    "* Repo:\n",
    "\n",
    "    * GitHub repository: <code > alx-low_level_programming </code>\n",
    "    * Directory: <code > 0x05-pointers_arrays_strings </code>\n",
    "    * File: <code > 4-print_most_numbers.c </code>\n",
    "   "
   ]
  },
  {
   "cell_type": "code",
   "execution_count": 5,
   "metadata": {},
   "outputs": [
    {
     "name": "stdout",
     "output_type": "stream",
     "text": [
      "Overwriting 0x04-more_functions_nested_loops/4-print_most_numbers.c\n"
     ]
    }
   ],
   "source": [
    "%%file 0x05-pointers_arrays_strings/4-print_most_numbers.c\n",
    "#include \"main.h\"\n",
    "\n",
    "/**\n",
    " * print_most_numbers - prints the numbers, from 0 to 9,\n",
    " * except 2 and 4, followed by a new line\n",
    " */\n",
    "void print_most_numbers(void)\n",
    "{\n",
    "int i;\n",
    "\n",
    "for (i = 0; i < 10; i++)\n",
    "{\n",
    "if (i != 2 && i != 4)\n",
    "{\n",
    "_putchar(i + '0');\n",
    "}\n",
    "}\n",
    "\n",
    "_putchar('\\n');\n",
    "}\n"
   ]
  },
  {
   "cell_type": "code",
   "execution_count": 6,
   "metadata": {},
   "outputs": [
    {
     "name": "stdout",
     "output_type": "stream",
     "text": [
      "Overwriting 0x04-more_functions_nested_loops/4-main.c\n"
     ]
    }
   ],
   "source": [
    "%%file 0x05-pointers_arrays_strings/4-main.c\n",
    "#include \"main.h\"\n",
    "\n",
    "/**\n",
    " * main - check the code\n",
    " *\n",
    " * Return: Always 0.\n",
    " */\n",
    "int main(void)\n",
    "{\n",
    "    print_most_numbers();\n",
    "    return (0);\n",
    "}"
   ]
  },
  {
   "cell_type": "code",
   "execution_count": 7,
   "metadata": {},
   "outputs": [
    {
     "name": "stdout",
     "output_type": "stream",
     "text": [
      "Overwriting 0x04-more_functions_nested_loops/main.h\n"
     ]
    }
   ],
   "source": [
    "%%file 0x05-pointers_arrays_strings/main.h\n",
    "#ifndef MAIN_H\n",
    "#define MAIN_H\n",
    "\n",
    "#include <stdio.h>\n",
    "\n",
    "int _putchar(char c);\n",
    "int _isupper(int c);\n",
    "int _isdigit(int c);\n",
    "int mul(int a, int b);\n",
    "void print_numbers(void);\n",
    "void print_most_numbers(void);\n",
    "\n",
    "#endif\n"
   ]
  },
  {
   "cell_type": "code",
   "execution_count": 8,
   "metadata": {},
   "outputs": [
    {
     "name": "stdout",
     "output_type": "stream",
     "text": [
      "\n",
      "========== 0x04-more_functions_nested_loops/4-print_most_numbers.c ==========\n"
     ]
    },
    {
     "name": "stdout",
     "output_type": "stream",
     "text": [
      "print_most_numbers\n",
      "01356789\n"
     ]
    }
   ],
   "source": [
    "%%bash\n",
    "betty 0x05-pointers_arrays_strings/4-print_most_numbers.c\n",
    "gcc -Wall -pedantic -Werror -Wextra -std=gnu89 0x05-pointers_arrays_strings/_putchar.c 0x05-pointers_arrays_strings/4-main.c 0x05-pointers_arrays_strings/4-print_most_numbers.c -o 0x05-pointers_arrays_strings/4-print_most_numbers\n",
    "./0x05-pointers_arrays_strings/4-print_most_numbers"
   ]
  },
  {
   "cell_type": "code",
   "execution_count": 9,
   "metadata": {},
   "outputs": [
    {
     "name": "stdout",
     "output_type": "stream",
     "text": [
      "[main 98bf44c] alx-low_level_programming/0x04-more_functions_nested_loops\n",
      " 3 files changed, 21 insertions(+), 4 deletions(-)\n",
      " create mode 100644 0x04-more_functions_nested_loops/4-main.c\n",
      " create mode 100755 0x04-more_functions_nested_loops/4-print_most_numbers\n"
     ]
    },
    {
     "name": "stderr",
     "output_type": "stream",
     "text": [
      "To github.com:elkomysara/alx-low_level_programming.git\n",
      "   375df4c..98bf44c  main -> main\n"
     ]
    }
   ],
   "source": [
    "%%bash\n",
    "git add .\n",
    "git commit -m \"alx-low_level_programming/0x05-pointers_arrays_strings\"\n",
    "git push"
   ]
  },
  {
   "cell_type": "code",
   "execution_count": null,
   "metadata": {},
   "outputs": [],
   "source": []
  },
  {
   "cell_type": "markdown",
   "metadata": {},
   "source": [
    "###\n",
    "---\n",
    "<center>\n",
    "<h4> 5. Numbers constitute the only universal language</h4>\n",
    "</center>\n",
    "\n",
    "---\n"
   ]
  },
  {
   "cell_type": "markdown",
   "metadata": {},
   "source": [
    "##### Write a function that prints 10 times the numbers, from 0 to 14, followed by a new line.\n",
    "\n",
    "* Prototype: void more_numbers(void);\n",
    "* You can only use _putchar three times in your code\n",
    "\n",
    "```bash\n",
    "julien@ubuntu:~/0x04$ cat 5-main.c\n",
    "#include \"main.h\"\n",
    "\n",
    "/**\n",
    " * main - check the code\n",
    " *\n",
    " * Return: Always 0.\n",
    " */\n",
    "int main(void)\n",
    "{\n",
    "    more_numbers();\n",
    "    return (0);\n",
    "}\n",
    "julien@ubuntu:~/0x04$ gcc -Wall -pedantic -Werror -Wextra -std=gnu89 _putchar.c 5-main.c 5-more_numbers.c -o 5-more_numbers\n",
    "julien@ubuntu:~/0x04$ ./5-more_numbers \n",
    "01234567891011121314\n",
    "01234567891011121314\n",
    "01234567891011121314\n",
    "01234567891011121314\n",
    "01234567891011121314\n",
    "01234567891011121314\n",
    "01234567891011121314\n",
    "01234567891011121314\n",
    "01234567891011121314\n",
    "01234567891011121314\n",
    "julien@ubuntu:~/0x04\n",
    "\n",
    "```\n",
    "\n",
    "\n",
    "* Repo:\n",
    "\n",
    "    * GitHub repository: <code > alx-low_level_programming </code>\n",
    "    * Directory: <code > 0x05-pointers_arrays_strings </code>\n",
    "    * File: <code > 5-more_numbers.c </code>\n",
    "   "
   ]
  },
  {
   "cell_type": "code",
   "execution_count": 93,
   "metadata": {},
   "outputs": [
    {
     "name": "stdout",
     "output_type": "stream",
     "text": [
      "Overwriting 0x04-more_functions_nested_loops/5-more_numbers.c\n"
     ]
    }
   ],
   "source": [
    "%%file 0x05-pointers_arrays_strings/5-more_numbers.c\n",
    "#include \"main.h\"\n",
    "\n",
    "/**\n",
    "* more_numbers - prints 10 times the numbers, from 0 to 14\n",
    "* followed by a new line\n",
    "*/\n",
    "void more_numbers(void)\n",
    "{\n",
    "int i, j;\n",
    "\n",
    "for (i = 0; i < 10; i++)\n",
    "{\n",
    "for (j = 0; j < 15; j++)\n",
    "{\n",
    "if (j >= 10)\n",
    "{\n",
    "_putchar(j / 10 + '0');\n",
    "}\n",
    "\n",
    "_putchar(j % 10 + '0');\n",
    "}\n",
    "_putchar('\\n');\n",
    "}\n",
    "}\n",
    "\n",
    "\n"
   ]
  },
  {
   "cell_type": "code",
   "execution_count": 94,
   "metadata": {},
   "outputs": [
    {
     "name": "stdout",
     "output_type": "stream",
     "text": [
      "Overwriting 0x04-more_functions_nested_loops/5-main.c\n"
     ]
    }
   ],
   "source": [
    "%%file 0x05-pointers_arrays_strings/5-main.c\n",
    "#include \"main.h\"\n",
    "\n",
    "/**\n",
    " * main - check the code\n",
    " *\n",
    " * Return: Always 0.\n",
    " */\n",
    "int main(void)\n",
    "{\n",
    "    more_numbers();\n",
    "    return (0);\n",
    "}"
   ]
  },
  {
   "cell_type": "code",
   "execution_count": 95,
   "metadata": {},
   "outputs": [
    {
     "name": "stdout",
     "output_type": "stream",
     "text": [
      "Overwriting 0x04-more_functions_nested_loops/main.h\n"
     ]
    }
   ],
   "source": [
    "%%file 0x05-pointers_arrays_strings/main.h\n",
    "#ifndef MAIN_H\n",
    "#define MAIN_H\n",
    "\n",
    "#include <stdio.h>\n",
    "\n",
    "int _putchar(char c);\n",
    "int _isupper(int c);\n",
    "int _isdigit(int c);\n",
    "int mul(int a, int b);\n",
    "void print_numbers(void);\n",
    "void print_most_numbers(void);\n",
    "void more_numbers(void);\n",
    "\n",
    "#endif\n"
   ]
  },
  {
   "cell_type": "code",
   "execution_count": 96,
   "metadata": {},
   "outputs": [
    {
     "name": "stdout",
     "output_type": "stream",
     "text": [
      "\n",
      "========== 0x04-more_functions_nested_loops/5-more_numbers.c ==========\n",
      "more_numbers\n",
      "01234567891011121314\n",
      "01234567891011121314\n",
      "01234567891011121314\n",
      "01234567891011121314\n",
      "01234567891011121314\n",
      "01234567891011121314\n",
      "01234567891011121314\n",
      "01234567891011121314\n",
      "01234567891011121314\n",
      "01234567891011121314\n"
     ]
    }
   ],
   "source": [
    "%%bash\n",
    "betty 0x05-pointers_arrays_strings/5-more_numbers.c\n",
    "gcc -Wall -pedantic -Werror -Wextra -std=gnu89 0x05-pointers_arrays_strings/_putchar.c 0x05-pointers_arrays_strings/5-main.c 0x05-pointers_arrays_strings/5-more_numbers.c -o 0x05-pointers_arrays_strings/5-more_numbers\n",
    "./0x05-pointers_arrays_strings/5-more_numbers"
   ]
  },
  {
   "cell_type": "code",
   "execution_count": 97,
   "metadata": {},
   "outputs": [
    {
     "name": "stdout",
     "output_type": "stream",
     "text": [
      "[main 03996d1] alx-low_level_programming/0x04-more_functions_nested_loops\n",
      " 1 file changed, 3 insertions(+)\n"
     ]
    },
    {
     "name": "stderr",
     "output_type": "stream",
     "text": [
      "To github.com:elkomysara/alx-low_level_programming.git\n",
      "   d8ae01b..03996d1  main -> main\n"
     ]
    }
   ],
   "source": [
    "%%bash\n",
    "git add .\n",
    "git commit -m \"alx-low_level_programming/0x05-pointers_arrays_strings\"\n",
    "git push"
   ]
  },
  {
   "cell_type": "code",
   "execution_count": null,
   "metadata": {},
   "outputs": [],
   "source": []
  },
  {
   "cell_type": "markdown",
   "metadata": {},
   "source": [
    "###\n",
    "---\n",
    "<center>\n",
    "<h4> 6. The shortest distance between two points is a straight line </h4>\n",
    "</center>\n",
    "\n",
    "---\n"
   ]
  },
  {
   "cell_type": "markdown",
   "metadata": {},
   "source": [
    "##### Write a function that draws a straight line in the terminal.\n",
    "\n",
    "* Prototype:` void print_line(int n);`\n",
    "* You can only use `_putchar` function to print\n",
    "* Where `n` is the number of times the character `_` should be printed\n",
    "* The line should end with a`\\n`\n",
    "* If `n` is `0` or less, the function should only print `\\n`\n",
    "\n",
    "```bash\n",
    "julien@ubuntu:~/0x04$ cat 6-main.c\n",
    "#include \"main.h\"\n",
    "\n",
    "/**\n",
    " * main - check the code\n",
    " *\n",
    " * Return: Always 0.\n",
    " */\n",
    "int main(void)\n",
    "{\n",
    "    print_line(0);\n",
    "    print_line(2);\n",
    "    print_line(10);\n",
    "    print_line(-4);\n",
    "    return (0);\n",
    "}\n",
    "julien@ubuntu:~/0x04$ gcc -Wall -pedantic -Werror -Wextra -std=gnu89 _putchar.c 6-main.c 6-print_line.c -o 6-lines\n",
    "julien@ubuntu:~/0x04$ ./6-lines | cat -e\n",
    "$\n",
    "__$\n",
    "__________$\n",
    "$\n",
    "julien@ubuntu:~/0x04$ \n",
    "\n",
    "```\n",
    "\n",
    "\n",
    "* Repo:\n",
    "\n",
    "    * GitHub repository: <code > alx-low_level_programming </code>\n",
    "    * Directory: <code > 0x05-pointers_arrays_strings </code>\n",
    "    * File: <code > 6-print_line.c </code>\n",
    "   "
   ]
  },
  {
   "cell_type": "code",
   "execution_count": 19,
   "metadata": {},
   "outputs": [
    {
     "name": "stdout",
     "output_type": "stream",
     "text": [
      "Overwriting 0x04-more_functions_nested_loops/6-print_line.c\n"
     ]
    }
   ],
   "source": [
    "%%file 0x05-pointers_arrays_strings/6-print_line.c\n",
    "#include \"main.h\"\n",
    "\n",
    "/**\n",
    "* print_line - draws a straight line in the terminal\n",
    "* @n: the number of times the character _ should be printed\n",
    "*/\n",
    "void print_line(int n)\n",
    "{\n",
    "int i = 1;\n",
    "if (n <= 0)\n",
    "{\n",
    "_putchar('\\n');\n",
    "}\n",
    "else\n",
    "{\n",
    "while (i <= n)\n",
    "{\n",
    "_putchar('_');\n",
    "i++;\n",
    "}\n",
    "_putchar('\\n');\n",
    "}\n",
    "\n",
    "}"
   ]
  },
  {
   "cell_type": "code",
   "execution_count": 20,
   "metadata": {},
   "outputs": [
    {
     "name": "stdout",
     "output_type": "stream",
     "text": [
      "Overwriting 0x04-more_functions_nested_loops/6-main.c\n"
     ]
    }
   ],
   "source": [
    "%%file 0x05-pointers_arrays_strings/6-main.c\n",
    "#include \"main.h\"\n",
    "\n",
    "/**\n",
    " * main - check the code\n",
    " *\n",
    " * Return: Always 0.\n",
    " */\n",
    "int main(void)\n",
    "{\n",
    "    print_line(0);\n",
    "    print_line(2);\n",
    "    print_line(10);\n",
    "    print_line(-4);\n",
    "    return (0);\n",
    "}"
   ]
  },
  {
   "cell_type": "code",
   "execution_count": 21,
   "metadata": {},
   "outputs": [
    {
     "name": "stdout",
     "output_type": "stream",
     "text": [
      "Overwriting 0x04-more_functions_nested_loops/main.h\n"
     ]
    }
   ],
   "source": [
    "%%file 0x05-pointers_arrays_strings/main.h\n",
    "#ifndef MAIN_H\n",
    "#define MAIN_H\n",
    "\n",
    "#include <stdio.h>\n",
    "\n",
    "int _putchar(char c);\n",
    "int _isupper(int c);\n",
    "int _isdigit(int c);\n",
    "int mul(int a, int b);\n",
    "void print_numbers(void);\n",
    "void print_most_numbers(void);\n",
    "void more_numbers(void);\n",
    "void print_line(int n);\n",
    "#endif\n"
   ]
  },
  {
   "cell_type": "code",
   "execution_count": 22,
   "metadata": {},
   "outputs": [
    {
     "name": "stdout",
     "output_type": "stream",
     "text": [
      "\n",
      "========== 0x04-more_functions_nested_loops/6-print_line.c ==========\n",
      "print_line\n",
      "$\n",
      "__$\n",
      "__________$\n",
      "$\n"
     ]
    }
   ],
   "source": [
    "%%bash\n",
    "betty 0x05-pointers_arrays_strings/6-print_line.c\n",
    "gcc -Wall -pedantic -Werror -Wextra -std=gnu89 0x05-pointers_arrays_strings/_putchar.c 0x05-pointers_arrays_strings/6-main.c 0x05-pointers_arrays_strings/6-print_line.c -o 0x05-pointers_arrays_strings/6-print_line\n",
    "./0x05-pointers_arrays_strings/6-print_line | cat -e"
   ]
  },
  {
   "cell_type": "code",
   "execution_count": 23,
   "metadata": {},
   "outputs": [
    {
     "name": "stdout",
     "output_type": "stream",
     "text": [
      "[main 57dddf6] alx-low_level_programming/0x04-more_functions_nested_loops\n",
      " 2 files changed, 4 insertions(+)\n"
     ]
    },
    {
     "name": "stderr",
     "output_type": "stream",
     "text": [
      "To github.com:elkomysara/alx-low_level_programming.git\n",
      "   9d2adc5..57dddf6  main -> main\n"
     ]
    }
   ],
   "source": [
    "%%bash\n",
    "git add .\n",
    "git commit -m \"alx-low_level_programming/0x05-pointers_arrays_strings\"\n",
    "git push"
   ]
  },
  {
   "cell_type": "code",
   "execution_count": null,
   "metadata": {},
   "outputs": [],
   "source": []
  },
  {
   "cell_type": "markdown",
   "metadata": {},
   "source": [
    "###\n",
    "---\n",
    "<center>\n",
    "<h4> 7. I feel like I am diagonally parked in a parallel universe </h4>\n",
    "</center>\n",
    "\n",
    "---\n"
   ]
  },
  {
   "cell_type": "markdown",
   "metadata": {},
   "source": [
    "##### Write a function that draws a diagonal line on the terminal.\n",
    "\n",
    "* Prototype: `void print_diagonal(int n);`\n",
    "* You can only use `_putchar` function to print\n",
    "* Where `n` is the number of times the character `\\` should be printed\n",
    "* The diagonal should end with a `\\n`\n",
    "* If `n` is `0` or less, the function should only print a `\\n`\n",
    "\n",
    "```bash\n",
    "julien@ubuntu:~/0x04$ cat 7-main.c\n",
    "#include \"main.h\"\n",
    "\n",
    "/**\n",
    " * main - check the code\n",
    " *\n",
    " * Return: Always 0.\n",
    " */\n",
    "int main(void)\n",
    "{\n",
    "    print_diagonal(0);\n",
    "    print_diagonal(2);\n",
    "    print_diagonal(10);\n",
    "    print_diagonal(-4);\n",
    "    return (0);\n",
    "}\n",
    "julien@ubuntu:~/0x04$ gcc -Wall -pedantic -Werror -Wextra -std=gnu89 _putchar.c 7-main.c 7-print_diagonal.c -o 7-diagonals\n",
    "julien@ubuntu:~/0x04$ ./7-diagonals | cat -e\n",
    "$\n",
    "\\$\n",
    " \\$\n",
    "\\$\n",
    " \\$\n",
    "  \\$\n",
    "   \\$\n",
    "    \\$\n",
    "     \\$\n",
    "      \\$\n",
    "       \\$\n",
    "        \\$\n",
    "         \\$\n",
    "$\n",
    "julien@ubuntu:~/0x04$ \n",
    "\n",
    "```\n",
    "\n",
    "\n",
    "* Repo:\n",
    "\n",
    "    * GitHub repository: <code > alx-low_level_programming </code>\n",
    "    * Directory: <code > 0x05-pointers_arrays_strings </code>\n",
    "    * File: <code >7-print_diagonal.c </code>\n",
    "   "
   ]
  },
  {
   "cell_type": "code",
   "execution_count": 103,
   "metadata": {},
   "outputs": [
    {
     "name": "stdout",
     "output_type": "stream",
     "text": [
      "Overwriting 0x04-more_functions_nested_loops/7-print_diagonal.c\n"
     ]
    }
   ],
   "source": [
    "%%file 0x05-pointers_arrays_strings/7-print_diagonal.c\n",
    "#include \"main.h\"\n",
    "\n",
    "/**\n",
    "* print_diagonal - draws a diagonal line on the terminal\n",
    "* @n: number of times the character \\ should be printed\n",
    "*/\n",
    "void print_diagonal(int n)\n",
    "{\n",
    "if (n <= 0)\n",
    "{\n",
    "_putchar('\\n');\n",
    "}\n",
    "else\n",
    "{\n",
    "int i, j;\n",
    "\n",
    "for (i = 0; i < n; i++)\n",
    "{\n",
    "for (j = 0; j < n; j++)\n",
    "{\n",
    "if (j == i)\n",
    "_putchar('\\\\');\n",
    "else if (j < i)\n",
    "_putchar(' ');\n",
    "}\n",
    "_putchar('\\n');\n",
    "}\n",
    "}\n",
    "}"
   ]
  },
  {
   "cell_type": "code",
   "execution_count": 6,
   "metadata": {},
   "outputs": [
    {
     "name": "stdout",
     "output_type": "stream",
     "text": [
      "Overwriting 0x04-more_functions_nested_loops/7-print_diagonal.c\n"
     ]
    }
   ],
   "source": [
    "%%file 0x05-pointers_arrays_strings/7-print_diagonal.c\n",
    "#include \"main.h\"\n",
    "\n",
    "/**\n",
    "* print_diagonal - draws a diagonal line on the terminal\n",
    "* @n: number of times the character \\ should be printed\n",
    "*/\n",
    "void print_diagonal(int n)\n",
    "{\n",
    "if (n <= 0)\n",
    "{\n",
    "_putchar('\\n');\n",
    "}\n",
    "else\n",
    "{\n",
    "int i = 0;\n",
    "int j;\n",
    "\n",
    "while (i < n)\n",
    "{\n",
    "j = 0;\n",
    "while (j < n)\n",
    "{\n",
    "if (j == i)\n",
    "{\n",
    "_putchar('\\\\');\n",
    "}\n",
    "\n",
    "else if (j < i)\n",
    "{\n",
    "_putchar(' ');\n",
    "}\n",
    "j++;\n",
    "}\n",
    "_putchar('\\n');\n",
    "i++;\n",
    "}\n",
    "}\n",
    "}"
   ]
  },
  {
   "cell_type": "code",
   "execution_count": 7,
   "metadata": {},
   "outputs": [
    {
     "name": "stdout",
     "output_type": "stream",
     "text": [
      "Overwriting 0x04-more_functions_nested_loops/7-main.c\n"
     ]
    }
   ],
   "source": [
    "%%file 0x05-pointers_arrays_strings/7-main.c\n",
    "#include \"main.h\"\n",
    "\n",
    "/**\n",
    " * main - check the code\n",
    " *\n",
    " * Return: Always 0.\n",
    " */\n",
    "int main(void)\n",
    "{\n",
    "    print_diagonal(0);\n",
    "    print_diagonal(2);\n",
    "    print_diagonal(10);\n",
    "    print_diagonal(-4);\n",
    "    return (0);\n",
    "}"
   ]
  },
  {
   "cell_type": "code",
   "execution_count": 8,
   "metadata": {},
   "outputs": [
    {
     "name": "stdout",
     "output_type": "stream",
     "text": [
      "Overwriting 0x04-more_functions_nested_loops/main.h\n"
     ]
    }
   ],
   "source": [
    "%%file 0x05-pointers_arrays_strings/main.h\n",
    "#ifndef MAIN_H\n",
    "#define MAIN_H\n",
    "\n",
    "#include <stdio.h>\n",
    "\n",
    "int _putchar(char c);\n",
    "int _isupper(int c);\n",
    "int _isdigit(int c);\n",
    "int mul(int a, int b);\n",
    "void print_numbers(void);\n",
    "void print_most_numbers(void);\n",
    "void more_numbers(void);\n",
    "void print_line(int n);\n",
    "void print_diagonal(int n);\n",
    "#endif\n"
   ]
  },
  {
   "cell_type": "code",
   "execution_count": 9,
   "metadata": {},
   "outputs": [
    {
     "name": "stdout",
     "output_type": "stream",
     "text": [
      "\n",
      "========== 0x04-more_functions_nested_loops/7-print_diagonal.c ==========\n",
      "print_diagonal\n",
      "$\n",
      "\\$\n",
      " \\$\n",
      "\\$\n",
      " \\$\n",
      "  \\$\n",
      "   \\$\n",
      "    \\$\n",
      "     \\$\n",
      "      \\$\n",
      "       \\$\n",
      "        \\$\n",
      "         \\$\n",
      "$\n"
     ]
    }
   ],
   "source": [
    "%%bash\n",
    "betty 0x05-pointers_arrays_strings/7-print_diagonal.c\n",
    "gcc -Wall -pedantic -Werror -Wextra -std=gnu89 0x05-pointers_arrays_strings/_putchar.c 0x05-pointers_arrays_strings/7-main.c 0x05-pointers_arrays_strings/7-print_diagonal.c -o 0x05-pointers_arrays_strings/7-print_diagonal\n",
    "./0x05-pointers_arrays_strings/7-print_diagonal | cat -e"
   ]
  },
  {
   "cell_type": "code",
   "execution_count": 10,
   "metadata": {},
   "outputs": [
    {
     "name": "stdout",
     "output_type": "stream",
     "text": [
      "[main 6b1e715] alx-low_level_programming/0x04-more_functions_nested_loops\n",
      " 1 file changed, 3 insertions(+), 3 deletions(-)\n"
     ]
    },
    {
     "name": "stderr",
     "output_type": "stream",
     "text": [
      "To github.com:elkomysara/alx-low_level_programming.git\n",
      "   a169d2f..6b1e715  main -> main\n"
     ]
    }
   ],
   "source": [
    "%%bash\n",
    "git add .\n",
    "git commit -m \"alx-low_level_programming/0x05-pointers_arrays_strings\"\n",
    "git push"
   ]
  },
  {
   "cell_type": "code",
   "execution_count": null,
   "metadata": {},
   "outputs": [],
   "source": []
  },
  {
   "cell_type": "markdown",
   "metadata": {},
   "source": [
    "###\n",
    "---\n",
    "<center>\n",
    "<h4> 8. You are so much sunshine in every square inch </h4>\n",
    "</center>\n",
    "\n",
    "---\n"
   ]
  },
  {
   "cell_type": "markdown",
   "metadata": {},
   "source": [
    "##### Write a function that prints a square, followed by a new line.\n",
    "\n",
    "* Prototype: `void print_square(int size);`\n",
    "* You can only use `_putchar` function to print\n",
    "* Where `size` is the size of the square\n",
    "* If `size` is `0` or less, the function should print only a new line\n",
    "* Use the character `#` to print the square\n",
    "\n",
    "```bash\n",
    "julien@ubuntu:~/0x04$ cat 8-main.c \n",
    "#include \"main.h\"\n",
    "\n",
    "/**\n",
    " * main - check the code\n",
    " *\n",
    " * Return: Always 0.\n",
    " */\n",
    "int main(void)\n",
    "{\n",
    "    print_square(2);\n",
    "    print_square(10);\n",
    "    print_square(0);\n",
    "    return (0);\n",
    "}\n",
    "\n",
    "julien@ubuntu:~/0x04$ gcc -Wall -pedantic -Werror -Wextra -std=gnu89 _putchar.c 8-main.c 8-print_square.c -o 8-squares\n",
    "julien@ubuntu:~/0x04$ ./8-squares \n",
    "##\n",
    "##\n",
    "##########\n",
    "##########\n",
    "##########\n",
    "##########\n",
    "##########\n",
    "##########\n",
    "##########\n",
    "##########\n",
    "##########\n",
    "##########\n",
    "\n",
    "julien@ubuntu:~/0x04$ \n",
    "\n",
    "```\n",
    "\n",
    "\n",
    "* Repo:\n",
    "\n",
    "    * GitHub repository: <code > alx-low_level_programming </code>\n",
    "    * Directory: <code > 0x05-pointers_arrays_strings </code>\n",
    "    * File: <code >8-print_square.c </code>\n",
    "   "
   ]
  },
  {
   "cell_type": "code",
   "execution_count": 30,
   "metadata": {},
   "outputs": [
    {
     "name": "stdout",
     "output_type": "stream",
     "text": [
      "Overwriting 0x04-more_functions_nested_loops/8-print_square.c\n"
     ]
    }
   ],
   "source": [
    "%%file 0x05-pointers_arrays_strings/8-print_square.c\n",
    "#include \"main.h\"\n",
    "\n",
    "/**\n",
    "* print_square - prints a square followed by a new line\n",
    "* @size: is the size of the square\n",
    "*/\n",
    "void print_square(int size)\n",
    "{\n",
    "int i = 0;\n",
    "int j;\n",
    "if (size <= 0)\n",
    "{\n",
    "_putchar('\\n');\n",
    "}\n",
    "else\n",
    "{\n",
    "while (i < size)\n",
    "{\n",
    "j = 0;\n",
    "while (j < size)\n",
    "{\n",
    "_putchar('#');\n",
    "j++;\n",
    "}\n",
    "i++;\n",
    "_putchar('\\n');\n",
    "}\n",
    "}\n",
    "\n",
    "}"
   ]
  },
  {
   "cell_type": "code",
   "execution_count": 31,
   "metadata": {},
   "outputs": [
    {
     "name": "stdout",
     "output_type": "stream",
     "text": [
      "Overwriting 0x04-more_functions_nested_loops/8-main.c\n"
     ]
    }
   ],
   "source": [
    "%%file 0x05-pointers_arrays_strings/8-main.c\n",
    "#include \"main.h\"\n",
    "\n",
    "/**\n",
    " * main - check the code\n",
    " *\n",
    " * Return: Always 0.\n",
    " */\n",
    "int main(void)\n",
    "{\n",
    "    print_square(2);\n",
    "    print_square(10);\n",
    "    print_square(0);\n",
    "    return (0);\n",
    "}"
   ]
  },
  {
   "cell_type": "code",
   "execution_count": 32,
   "metadata": {},
   "outputs": [
    {
     "name": "stdout",
     "output_type": "stream",
     "text": [
      "Overwriting 0x04-more_functions_nested_loops/main.h\n"
     ]
    }
   ],
   "source": [
    "%%file 0x05-pointers_arrays_strings/main.h\n",
    "#ifndef MAIN_H\n",
    "#define MAIN_H\n",
    "\n",
    "#include <stdio.h>\n",
    "\n",
    "int _putchar(char c);\n",
    "int _isupper(int c);\n",
    "int _isdigit(int c);\n",
    "int mul(int a, int b);\n",
    "void print_numbers(void);\n",
    "void print_most_numbers(void);\n",
    "void more_numbers(void);\n",
    "void print_line(int n);\n",
    "void print_diagonal(int n);\n",
    "void print_square(int size);\n",
    "#endif\n"
   ]
  },
  {
   "cell_type": "code",
   "execution_count": 33,
   "metadata": {},
   "outputs": [
    {
     "name": "stdout",
     "output_type": "stream",
     "text": [
      "\n",
      "========== 0x04-more_functions_nested_loops/8-print_square.c ==========\n",
      "print_square\n",
      "##$\n",
      "##$\n",
      "##########$\n",
      "##########$\n",
      "##########$\n",
      "##########$\n",
      "##########$\n",
      "##########$\n",
      "##########$\n",
      "##########$\n",
      "##########$\n",
      "##########$\n",
      "$\n"
     ]
    }
   ],
   "source": [
    "%%bash\n",
    "betty 0x05-pointers_arrays_strings/8-print_square.c\n",
    "gcc -Wall -pedantic -Werror -Wextra -std=gnu89 0x05-pointers_arrays_strings/_putchar.c 0x05-pointers_arrays_strings/8-main.c 0x05-pointers_arrays_strings/8-print_square.c -o 0x05-pointers_arrays_strings/8-print_square\n",
    "./0x05-pointers_arrays_strings/8-print_square | cat -e"
   ]
  },
  {
   "cell_type": "code",
   "execution_count": 34,
   "metadata": {},
   "outputs": [
    {
     "name": "stdout",
     "output_type": "stream",
     "text": [
      "[main e37e890] alx-low_level_programming/0x04-more_functions_nested_loops\n",
      " 4 files changed, 45 insertions(+)\n",
      " create mode 100644 0x04-more_functions_nested_loops/8-main.c\n",
      " create mode 100755 0x04-more_functions_nested_loops/8-print_square\n",
      " create mode 100644 0x04-more_functions_nested_loops/8-print_square.c\n"
     ]
    },
    {
     "name": "stderr",
     "output_type": "stream",
     "text": [
      "To github.com:elkomysara/alx-low_level_programming.git\n",
      "   6b1e715..e37e890  main -> main\n"
     ]
    }
   ],
   "source": [
    "%%bash\n",
    "git add .\n",
    "git commit -m \"alx-low_level_programming/0x05-pointers_arrays_strings\"\n",
    "git push"
   ]
  },
  {
   "cell_type": "code",
   "execution_count": null,
   "metadata": {},
   "outputs": [],
   "source": []
  },
  {
   "cell_type": "markdown",
   "metadata": {},
   "source": [
    "###\n",
    "---\n",
    "<center>\n",
    "<h4> 9. Fizz-Buzz </h4>\n",
    "</center>\n",
    "\n",
    "---\n"
   ]
  },
  {
   "cell_type": "markdown",
   "metadata": {},
   "source": [
    "##### The “Fizz-Buzz test” is an interview question designed to help filter out the 99.5% of programming job candidates who can’t seem to program their way out of a wet paper bag.\n",
    "\n",
    "Write a program that prints the numbers from 1 to 100, followed by a new line. But for multiples of three print Fizz instead of the number and for the multiples of five print Buzz. For numbers which are multiples of both three and five print FizzBuzz.\n",
    "\n",
    "* Each number or word should be separated by a space\n",
    "* You are allowed to use the standard library\n",
    "\n",
    "```bash\n",
    "julien@ubuntu:~/0x04$ gcc -Wall -pedantic -Werror -Wextra -std=gnu89 9-fizz_buzz.c -o 9-fizz_buzz\n",
    "julien@ubuntu:~/0x04$ ./9-fizz_buzz\n",
    "1 2 Fizz 4 Buzz Fizz 7 8 Fizz Buzz 11 Fizz 13 14 FizzBuzz 16 17 Fizz 19 Buzz Fizz 22 23 Fizz Buzz 26 Fizz 28 29 FizzBuzz 31 32 Fizz 34 Buzz Fizz 37 38 Fizz Buzz 41 Fizz 43 44 FizzBuzz 46 47 Fizz 49 Buzz Fizz 52 53 Fizz Buzz 56 Fizz 58 59 FizzBuzz 61 62 Fizz 64 Buzz Fizz 67 68 Fizz Buzz 71 Fizz 73 74 FizzBuzz 76 77 Fizz 79 Buzz Fizz 82 83 Fizz Buzz 86 Fizz 88 89 FizzBuzz 91 92 Fizz 94 Buzz Fizz 97 98 Fizz Buzz\n",
    "julien@ubuntu:~/0x04$ \n",
    "\n",
    "```\n",
    "\n",
    "\n",
    "* Repo:\n",
    "\n",
    "    * GitHub repository: <code > alx-low_level_programming </code>\n",
    "    * Directory: <code > 0x05-pointers_arrays_strings </code>\n",
    "    * File: <code >9-fizz_buzz.c </code>\n",
    "   "
   ]
  },
  {
   "cell_type": "code",
   "execution_count": 74,
   "metadata": {},
   "outputs": [
    {
     "name": "stdout",
     "output_type": "stream",
     "text": [
      "Overwriting 0x04-more_functions_nested_loops/9-fizz_buzz.c\n"
     ]
    }
   ],
   "source": [
    "%%file 0x05-pointers_arrays_strings/9-fizz_buzz.c\n",
    "#include <stdio.h>\n",
    "\n",
    "/**\n",
    " * main - FizzBuzz test\n",
    " *\n",
    " * Return: Always 0.\n",
    " */\n",
    "int main(void)\n",
    "{\n",
    "int i;\n",
    "for (i = 1; i <= 100; i++)\n",
    "{\n",
    "if (i == 1)\n",
    "{\n",
    "printf(\"%d\", i);\n",
    "}\n",
    "else if (i % 3 == 0 && i % 5 == 0)\n",
    "{\n",
    "printf(\" FizzBuzz\");\n",
    "}\n",
    "else if (i % 3 == 0)\n",
    "{\n",
    "printf(\" Fizz\");\n",
    "}\n",
    "else if (i % 5 == 0)\n",
    "{\n",
    "printf(\" Buzz\");\n",
    "}\n",
    "else\n",
    "{\n",
    "printf(\" %d\", i);\n",
    "}\n",
    "}\n",
    "printf(\"\\n\");\n",
    "return (0);\n",
    "}"
   ]
  },
  {
   "cell_type": "code",
   "execution_count": 75,
   "metadata": {},
   "outputs": [
    {
     "name": "stdout",
     "output_type": "stream",
     "text": [
      "\n",
      "========== 0x04-more_functions_nested_loops/9-fizz_buzz.c ==========\n",
      "main\n",
      "1 2 Fizz 4 Buzz Fizz 7 8 Fizz Buzz 11 Fizz 13 14 FizzBuzz 16 17 Fizz 19 Buzz Fizz 22 23 Fizz Buzz 26 Fizz 28 29 FizzBuzz 31 32 Fizz 34 Buzz Fizz 37 38 Fizz Buzz 41 Fizz 43 44 FizzBuzz 46 47 Fizz 49 Buzz Fizz 52 53 Fizz Buzz 56 Fizz 58 59 FizzBuzz 61 62 Fizz 64 Buzz Fizz 67 68 Fizz Buzz 71 Fizz 73 74 FizzBuzz 76 77 Fizz 79 Buzz Fizz 82 83 Fizz Buzz 86 Fizz 88 89 FizzBuzz 91 92 Fizz 94 Buzz Fizz 97 98 Fizz Buzz\n"
     ]
    }
   ],
   "source": [
    "%%bash\n",
    "betty 0x05-pointers_arrays_strings/10-triangles.c\n",
    "gcc -Wall -pedantic -Werror -Wextra -std=gnu89 0x05-pointers_arrays_strings/10-triangles.c -o 0x05-pointers_arrays_strings/10-triangles\n",
    "./0x05-pointers_arrays_strings/10-triangles"
   ]
  },
  {
   "cell_type": "code",
   "execution_count": 77,
   "metadata": {},
   "outputs": [
    {
     "name": "stdout",
     "output_type": "stream",
     "text": [
      "On branch main\n",
      "Your branch is up to date with 'origin/main'.\n",
      "\n",
      "nothing to commit, working tree clean\n"
     ]
    },
    {
     "name": "stderr",
     "output_type": "stream",
     "text": [
      "Everything up-to-date\n"
     ]
    }
   ],
   "source": [
    "%%bash\n",
    "git add .\n",
    "git commit -m \"alx-low_level_programming/0x05-pointers_arrays_strings\"\n",
    "git push"
   ]
  },
  {
   "cell_type": "code",
   "execution_count": null,
   "metadata": {},
   "outputs": [],
   "source": []
  },
  {
   "cell_type": "markdown",
   "metadata": {},
   "source": [
    "###\n",
    "---\n",
    "<center>\n",
    "<h4> 10. Triangles </h4>\n",
    "</center>\n",
    "\n",
    "---\n"
   ]
  },
  {
   "cell_type": "markdown",
   "metadata": {},
   "source": [
    "##### Write a function that prints a triangle, followed by a new line.\n",
    "\n",
    "* Prototype: `void print_triangle(int size);`\n",
    "* You can only use` _putchar` function to print\n",
    "* Where `size` is the size of the triangle\n",
    "* If `size` is `0` or less, the function should print only a new line\n",
    "* Use the character `#` to print the triangle\n",
    "\n",
    "```bash\n",
    "julien@ubuntu:~/0x04$ cat 10-main.c \n",
    "#include \"main.h\"\n",
    "\n",
    "/**\n",
    " * main - check the code\n",
    " *\n",
    " * Return: Always 0.\n",
    " */\n",
    "int main(void)\n",
    "{\n",
    "    print_triangle(2);\n",
    "    print_triangle(10);\n",
    "    print_triangle(1);\n",
    "    print_triangle(0);\n",
    "    return (0);\n",
    "}\n",
    "julien@ubuntu:~/0x04$ gcc -Wall -pedantic -Werror -Wextra -std=gnu89 _putchar.c 10-main.c 10-print_triangle.c -o 10-triangles\n",
    "julien@ubuntu:~/0x04$ ./10-triangles \n",
    " #\n",
    "##\n",
    "         #\n",
    "        ##\n",
    "       ###\n",
    "      ####\n",
    "     #####\n",
    "    ######\n",
    "   #######\n",
    "  ########\n",
    " #########\n",
    "##########\n",
    "#\n",
    "\n",
    "julien@ubuntu:~/0x04$ ./10-triangles | tr ' ' . | cat -e\n",
    ".#$\n",
    "##$\n",
    ".........#$\n",
    "........##$\n",
    ".......###$\n",
    "......####$\n",
    ".....#####$\n",
    "....######$\n",
    "...#######$\n",
    "..########$\n",
    ".#########$\n",
    "##########$\n",
    "#$\n",
    "$\n",
    "julien@ubuntu:~/0x04$\n",
    "\n",
    "```\n",
    "\n",
    "\n",
    "* Repo:\n",
    "\n",
    "    * GitHub repository: <code > alx-low_level_programming </code>\n",
    "    * Directory: <code > 0x05-pointers_arrays_strings </code>\n",
    "    * File: <code >10-print_triangle.c </code>\n",
    "   "
   ]
  },
  {
   "cell_type": "code",
   "execution_count": 128,
   "metadata": {},
   "outputs": [
    {
     "name": "stdout",
     "output_type": "stream",
     "text": [
      "Overwriting 0x04-more_functions_nested_loops/10-print_triangle.c\n"
     ]
    }
   ],
   "source": [
    "%%file 0x05-pointers_arrays_strings/10-print_triangle.c\n",
    "#include \"main.h\"\n",
    "\n",
    "/**\n",
    "* print_triangle - prints a triangle, followed by a new line\n",
    "* @size: size of the triangle\n",
    "*/\n",
    "void print_triangle(int size)\n",
    "{\n",
    "if (size <= 0)\n",
    "{\n",
    "_putchar('\\n');\n",
    "}\n",
    "else\n",
    "{\n",
    "int i, j;\n",
    "\n",
    "for (i = 1; i <= size; i++)\n",
    "{\n",
    "for (j = i; j < size; j++)\n",
    "{\n",
    "_putchar(' ');\n",
    "}\n",
    "\n",
    "for (j = 1; j <= i; j++)\n",
    "{\n",
    "_putchar('#');\n",
    "}\n",
    "\n",
    "_putchar('\\n');\n",
    "}\n",
    "}\n",
    "}"
   ]
  },
  {
   "cell_type": "code",
   "execution_count": 129,
   "metadata": {},
   "outputs": [
    {
     "name": "stdout",
     "output_type": "stream",
     "text": [
      "Overwriting 0x04-more_functions_nested_loops/10-main.c\n"
     ]
    }
   ],
   "source": [
    "%%file 0x05-pointers_arrays_strings/10-main.c\n",
    "#include \"main.h\"\n",
    "\n",
    "/**\n",
    " * main - check the code\n",
    " *\n",
    " * Return: Always 0.\n",
    " */\n",
    "int main(void)\n",
    "{\n",
    "    print_triangle(2);\n",
    "    print_triangle(10);\n",
    "    print_triangle(1);\n",
    "    print_triangle(0);\n",
    "    return (0);\n",
    "}"
   ]
  },
  {
   "cell_type": "code",
   "execution_count": 143,
   "metadata": {},
   "outputs": [
    {
     "name": "stdout",
     "output_type": "stream",
     "text": [
      "Overwriting 0x04-more_functions_nested_loops/main.h\n"
     ]
    }
   ],
   "source": [
    "%%file 0x05-pointers_arrays_strings/main.h\n",
    "#ifndef MAIN_H\n",
    "#define MAIN_H\n",
    "\n",
    "#include <stdio.h>\n",
    "\n",
    "int _putchar(char c);\n",
    "int _isupper(int c);\n",
    "int _isdigit(int c);\n",
    "int mul(int a, int b);\n",
    "void print_numbers(void);\n",
    "void print_most_numbers(void);\n",
    "void more_numbers(void);\n",
    "void print_line(int n);\n",
    "void print_diagonal(int n);\n",
    "void print_square(int size);\n",
    "void print_triangle(int size);\n",
    "\n",
    "#endif\n"
   ]
  },
  {
   "cell_type": "code",
   "execution_count": 131,
   "metadata": {},
   "outputs": [
    {
     "name": "stdout",
     "output_type": "stream",
     "text": [
      "\n",
      "========== 0x04-more_functions_nested_loops/10-print_triangle.c ==========\n",
      "print_triangle\n",
      ".#$\n",
      "##$\n",
      ".........#$\n",
      "........##$\n",
      ".......###$\n",
      "......####$\n",
      ".....#####$\n",
      "....######$\n",
      "...#######$\n",
      "..########$\n",
      ".#########$\n",
      "##########$\n",
      "#$\n",
      "$\n"
     ]
    }
   ],
   "source": [
    "%%bash\n",
    "betty 0x05-pointers_arrays_strings/100-prime_factor.c\n",
    "gcc -Wall -pedantic -Werror -Wextra -std=gnu89 0x05-pointers_arrays_strings/_putchar.c 0x05-pointers_arrays_strings/10-main.c 0x05-pointers_arrays_strings/100-prime_factor.c -o 0x05-pointers_arrays_strings/10-triangles\n",
    "./0x05-pointers_arrays_strings/10-triangles | tr ' ' . | cat -e"
   ]
  },
  {
   "cell_type": "code",
   "execution_count": 134,
   "metadata": {},
   "outputs": [
    {
     "name": "stdout",
     "output_type": "stream",
     "text": [
      "On branch main\n",
      "Your branch is up to date with 'origin/main'.\n",
      "\n",
      "nothing to commit, working tree clean\n"
     ]
    },
    {
     "name": "stderr",
     "output_type": "stream",
     "text": [
      "Everything up-to-date\n"
     ]
    }
   ],
   "source": [
    "%%bash\n",
    "git add .\n",
    "git commit -m \"alx-low_level_programming/0x05-pointers_arrays_strings\"\n",
    "git push"
   ]
  },
  {
   "cell_type": "code",
   "execution_count": null,
   "metadata": {},
   "outputs": [],
   "source": []
  },
  {
   "cell_type": "code",
   "execution_count": null,
   "metadata": {},
   "outputs": [],
   "source": []
  },
  {
   "cell_type": "markdown",
   "metadata": {},
   "source": [
    "###\n",
    "---\n",
    "<center>\n",
    "<h4> 11. The problem of distinguishing prime numbers from composite numbers and of resolving the latter into their prime factors is known to be one of the most important and useful in arithmetic </h4>\n",
    "</center>\n",
    "\n",
    "---\n"
   ]
  },
  {
   "cell_type": "markdown",
   "metadata": {},
   "source": [
    "##### The prime factors of `1231952` are `2, 2, 2, 2, 37` and `2081`.\n",
    "\n",
    "Write a program that finds and prints the largest prime factor of the number `612852475143`, followed by a new line.\n",
    "\n",
    "* You are allowed to use the standard library\n",
    "* Your program will be compiled with this command: `gcc -Wall -pedantic -Werror -Wextra -std=gnu89 100-prime_factor.c -o 100-prime_factor -lm`\n",
    "\n",
    "\n",
    "* Repo:\n",
    "\n",
    "    * GitHub repository: <code > alx-low_level_programming </code>\n",
    "    * Directory: <code > 0x05-pointers_arrays_strings </code>\n",
    "    * File: <code >100-prime_factor.c </code>\n",
    "   "
   ]
  },
  {
   "cell_type": "code",
   "execution_count": 138,
   "metadata": {},
   "outputs": [
    {
     "name": "stdout",
     "output_type": "stream",
     "text": [
      "Overwriting 0x04-more_functions_nested_loops/100-prime_factor.c\n"
     ]
    }
   ],
   "source": [
    "%%file 0x05-pointers_arrays_strings/100-prime_factor.c\n",
    "#include <stdio.h>\n",
    "#include <math.h>\n",
    "\n",
    "/**\n",
    "* main - finds and prints the largest prime factor of the number 612852475143\n",
    "* followed by a new line\n",
    "* Return: Always 0 (Success)\n",
    "*/\n",
    "int main(void)\n",
    "{\n",
    "long int n;\n",
    "long int max;\n",
    "long int i;\n",
    "\n",
    "n = 612852475143;\n",
    "max = -1;\n",
    "\n",
    "while (n % 2 == 0)\n",
    "{\n",
    "max = 2;\n",
    "n /= 2;\n",
    "}\n",
    "\n",
    "for (i = 3; i <= sqrt(n); i = i + 2)\n",
    "{\n",
    "while (n % i == 0)\n",
    "{\n",
    "max = i;\n",
    "n = n / i;\n",
    "}\n",
    "}\n",
    "\n",
    "if (n > 2)\n",
    "max = n;\n",
    "\n",
    "printf(\"%ld\\n\", max);\n",
    "\n",
    "return (0);\n",
    "}"
   ]
  },
  {
   "cell_type": "code",
   "execution_count": 140,
   "metadata": {},
   "outputs": [
    {
     "name": "stdout",
     "output_type": "stream",
     "text": [
      "\n",
      "========== 0x04-more_functions_nested_loops/100-prime_factor.c ==========\n",
      "main\n",
      "50829599$\n"
     ]
    }
   ],
   "source": [
    "%%bash\n",
    "betty 0x05-pointers_arrays_strings/100-prime_factor.c\n",
    "gcc -Wall -pedantic -Werror -Wextra -std=gnu89 0x05-pointers_arrays_strings/100-prime_factor.c -o 0x05-pointers_arrays_strings/100-prime_factor -lm\n",
    "./0x05-pointers_arrays_strings/100-prime_factor | tr ' ' . | cat -e"
   ]
  },
  {
   "cell_type": "code",
   "execution_count": 142,
   "metadata": {},
   "outputs": [
    {
     "name": "stdout",
     "output_type": "stream",
     "text": [
      "On branch main\n",
      "Your branch is up to date with 'origin/main'.\n",
      "\n",
      "nothing to commit, working tree clean\n"
     ]
    },
    {
     "name": "stderr",
     "output_type": "stream",
     "text": [
      "Everything up-to-date\n"
     ]
    }
   ],
   "source": [
    "%%bash\n",
    "git add .\n",
    "git commit -m \"alx-low_level_programming/0x05-pointers_arrays_strings\"\n",
    "git push"
   ]
  },
  {
   "cell_type": "code",
   "execution_count": null,
   "metadata": {},
   "outputs": [],
   "source": []
  },
  {
   "cell_type": "code",
   "execution_count": null,
   "metadata": {},
   "outputs": [],
   "source": []
  },
  {
   "cell_type": "markdown",
   "metadata": {},
   "source": [
    "###\n",
    "---\n",
    "<center>\n",
    "<h4> 12. Numbers have life; they're not just symbols on paper\n",
    " </h4>\n",
    "</center>\n",
    "\n",
    "---\n"
   ]
  },
  {
   "cell_type": "markdown",
   "metadata": {},
   "source": [
    "##### Write a function that prints an integer.\n",
    "\n",
    "* Prototype: void print_number(int n);\n",
    "* You can only use _putchar function to print\n",
    "* You are not allowed to use long\n",
    "* You are not allowed to use arrays or pointers\n",
    "* You are not allowed to hard-code special values\n",
    "\n",
    "```bash\n",
    "julien@ubuntu:~/0x04$ cat 101-main.c\n",
    "#include \"main.h\"\n",
    "\n",
    "/**\n",
    " * main - check the code\n",
    " *\n",
    " * Return: Always 0.\n",
    " */\n",
    "int main(void)\n",
    "{\n",
    "    print_number(98);\n",
    "    _putchar('\\n');\n",
    "    print_number(402);\n",
    "    _putchar('\\n');\n",
    "    print_number(1024);\n",
    "    _putchar('\\n');\n",
    "    print_number(0);\n",
    "    _putchar('\\n');\n",
    "    print_number(-98);\n",
    "    _putchar('\\n');\n",
    "    return (0);\n",
    "}\n",
    "julien@ubuntu:~/0x04$ gcc -Wall -pedantic -Werror -Wextra -std=gnu89 _putchar.c 101-main.c 101-print_number.c -o 101-print_numbers\n",
    "julien@ubuntu:~/0x04$ ./101-print_numbers \n",
    "98\n",
    "402\n",
    "1024\n",
    "0\n",
    "-98\n",
    "julien@ubuntu:~/0x04$ \n",
    "```\n",
    "\n",
    "\n",
    "* Repo:\n",
    "\n",
    "    * GitHub repository: <code > alx-low_level_programming </code>\n",
    "    * Directory: <code > 0x05-pointers_arrays_strings </code>\n",
    "    * File: <code >101-print_number.c </code>\n",
    "   "
   ]
  },
  {
   "cell_type": "code",
   "execution_count": 169,
   "metadata": {},
   "outputs": [
    {
     "name": "stdout",
     "output_type": "stream",
     "text": [
      "Overwriting 0x04-more_functions_nested_loops/101-print_number.c\n"
     ]
    }
   ],
   "source": [
    "%%file 0x05-pointers_arrays_strings/101-print_number.c\n",
    "#include \"main.h\"\n",
    "\n",
    "/**\n",
    "* print_number - prints an integer\n",
    "* @n: integer to be printed\n",
    "*/\n",
    "void print_number(int n)\n",
    "{\n",
    "unsigned int n1;\n",
    "\n",
    "if (n < 0)\n",
    "{\n",
    "n1 = -n;\n",
    "_putchar('-');\n",
    "}\n",
    "else\n",
    "{\n",
    "n1 = n;\n",
    "}\n",
    "\n",
    "if (n1 / 10)\n",
    "{\n",
    "print_number(n1 / 10);\n",
    "}\n",
    "\n",
    "_putchar((n1 % 10) + '0');\n",
    "}"
   ]
  },
  {
   "cell_type": "code",
   "execution_count": 170,
   "metadata": {},
   "outputs": [
    {
     "name": "stdout",
     "output_type": "stream",
     "text": [
      "Overwriting 0x04-more_functions_nested_loops/101-main.c\n"
     ]
    }
   ],
   "source": [
    "%%file 0x05-pointers_arrays_strings/101-main.c\n",
    "#include \"main.h\"\n",
    "\n",
    "/**\n",
    " * main - check the code\n",
    " *\n",
    " * Return: Always 0.\n",
    " */\n",
    "int main(void)\n",
    "{\n",
    "    print_number(98);\n",
    "    _putchar('\\n');\n",
    "    print_number(402);\n",
    "    _putchar('\\n');\n",
    "    print_number(1024);\n",
    "    _putchar('\\n');\n",
    "    print_number(0);\n",
    "    _putchar('\\n');\n",
    "    print_number(-98);\n",
    "    _putchar('\\n');\n",
    "    return (0);\n",
    "}"
   ]
  },
  {
   "cell_type": "code",
   "execution_count": 171,
   "metadata": {},
   "outputs": [
    {
     "name": "stdout",
     "output_type": "stream",
     "text": [
      "Overwriting 0x04-more_functions_nested_loops/main.h\n"
     ]
    }
   ],
   "source": [
    "%%file 0x05-pointers_arrays_strings/main.h\n",
    "#ifndef MAIN_H\n",
    "#define MAIN_H\n",
    "\n",
    "#include <stdio.h>\n",
    "\n",
    "int _putchar(char c);\n",
    "int _isupper(int c);\n",
    "int _isdigit(int c);\n",
    "int mul(int a, int b);\n",
    "void print_numbers(void);\n",
    "void print_most_numbers(void);\n",
    "void more_numbers(void);\n",
    "void print_line(int n);\n",
    "void print_diagonal(int n);\n",
    "void print_square(int size);\n",
    "void print_triangle(int size);\n",
    "void print_number(int n);\n",
    "\n",
    "#endif\n"
   ]
  },
  {
   "cell_type": "code",
   "execution_count": 173,
   "metadata": {},
   "outputs": [
    {
     "name": "stdout",
     "output_type": "stream",
     "text": [
      "\n",
      "========== 0x04-more_functions_nested_loops/101-print_number.c ==========\n",
      "print_number\n",
      "98\n",
      "402\n",
      "1024\n",
      "0\n",
      "-98\n"
     ]
    }
   ],
   "source": [
    "%%bash\n",
    "betty 0x05-pointers_arrays_strings/101-print_number.c\n",
    "gcc -Wall -pedantic -Werror -Wextra -std=gnu89 0x05-pointers_arrays_strings/_putchar.c 0x05-pointers_arrays_strings/101-main.c 0x05-pointers_arrays_strings/101-print_number.c -o 0x05-pointers_arrays_strings/101-print_numbers\n",
    "./0x05-pointers_arrays_strings/101-print_numbers"
   ]
  },
  {
   "cell_type": "code",
   "execution_count": 174,
   "metadata": {},
   "outputs": [
    {
     "name": "stdout",
     "output_type": "stream",
     "text": [
      "[main eb01eaa] alx-low_level_programming/0x04-more_functions_nested_loops\n",
      " 2 files changed, 20 insertions(+), 4 deletions(-)\n",
      " create mode 100755 0x04-more_functions_nested_loops/101-print_numbers\n"
     ]
    },
    {
     "name": "stderr",
     "output_type": "stream",
     "text": [
      "To github.com:elkomysara/alx-low_level_programming.git\n",
      "   6f973a7..eb01eaa  main -> main\n"
     ]
    }
   ],
   "source": [
    "%%bash\n",
    "git add .\n",
    "git commit -m \"alx-low_level_programming/0x05-pointers_arrays_strings\"\n",
    "git push"
   ]
  },
  {
   "cell_type": "code",
   "execution_count": null,
   "metadata": {},
   "outputs": [],
   "source": []
  },
  {
   "cell_type": "code",
   "execution_count": null,
   "metadata": {},
   "outputs": [],
   "source": []
  }
 ],
 "metadata": {
  "kernelspec": {
   "display_name": "Python 3",
   "language": "python",
   "name": "python3"
  },
  "language_info": {
   "codemirror_mode": {
    "name": "ipython",
    "version": 3
   },
   "file_extension": ".py",
   "mimetype": "text/x-python",
   "name": "python",
   "nbconvert_exporter": "python",
   "pygments_lexer": "ipython3",
   "version": "3.12.3"
  }
 },
 "nbformat": 4,
 "nbformat_minor": 2
}
