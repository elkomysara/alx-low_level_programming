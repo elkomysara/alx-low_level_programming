{
 "cells": [
  {
   "cell_type": "markdown",
   "metadata": {},
   "source": [
    "---\n",
    "<center>\n",
    "<h1>  alx-low_level_programming </h1>\n",
    "</center>\n",
    "\n",
    "---\n"
   ]
  },
  {
   "cell_type": "code",
   "execution_count": 1,
   "metadata": {},
   "outputs": [],
   "source": [
    "import os\n",
    "# creating 0x02-shell_redirectionss\n",
    "\n",
    "folder_path = r'/home/elkomy/alx/alx-low_level_programming/0x09-static_libraries'\n",
    "if not os.path.exists(folder_path):\n",
    "    os.makedirs(folder_path)\n",
    "\n",
    "# Create a README.md inside alx-low_level_programming/0x09-static_libraries\n",
    "file_path = os.path.join(folder_path, 'README.md')\n",
    "\n",
    "with open(file_path, 'w') as file:\n",
    "    file.write(\"This is a README.md file inside alx-low_level_programming/0x09-static_libraries\")\n",
    "\n"
   ]
  },
  {
   "cell_type": "code",
   "execution_count": 3,
   "metadata": {},
   "outputs": [
    {
     "name": "stdout",
     "output_type": "stream",
     "text": [
      "Overwriting /home/elkomy/alx/alx-low_level_programming/0x07-pointers_arrays_strings/README.md\n"
     ]
    }
   ],
   "source": [
    "%%file /home/elkomy/alx/alx-low_level_programming/0x09-static_libraries/README.md\n",
    "This is a README.md"
   ]
  },
  {
   "cell_type": "code",
   "execution_count": null,
   "metadata": {},
   "outputs": [],
   "source": []
  },
  {
   "cell_type": "markdown",
   "metadata": {},
   "source": [
    "###\n",
    "---\n",
    "<center>\n",
    "<h1> 0x09. C - Static libraries  </h1>\n",
    "</center>\n",
    "\n",
    "---\n"
   ]
  },
  {
   "cell_type": "code",
   "execution_count": 11,
   "metadata": {},
   "outputs": [
    {
     "name": "stdout",
     "output_type": "stream",
     "text": [
      "Overwriting 0x08-recursion/q1.c\n"
     ]
    }
   ],
   "source": [
    "%%file 0x09-static_libraries/q1.c\n",
    "#include <stdio.h>\n",
    "int print(int nb)\n",
    "{\n",
    "    if (nb < 0) \n",
    "    {\n",
    "        return (0);\n",
    "    }\n",
    "    printf(\"%d\", nb + print(nb - 1));\n",
    "    nb --;\n",
    "    return (nb);\n",
    "}\n",
    "int main(void)\n",
    "{\n",
    "    print(4);\n",
    "    return (0);\n",
    "}"
   ]
  },
  {
   "cell_type": "code",
   "execution_count": 13,
   "metadata": {},
   "outputs": [
    {
     "name": "stdout",
     "output_type": "stream",
     "text": [
      "00246"
     ]
    }
   ],
   "source": [
    "%%bash\n",
    "gcc 0x09-static_libraries/q1.c -o 0x09-static_libraries/q1\n",
    "./0x09-static_libraries/q1"
   ]
  },
  {
   "cell_type": "markdown",
   "metadata": {},
   "source": [
    "###\n",
    "---\n",
    "<center>\n",
    "<h4> 0. A library is not a luxury but one of the necessities of life</h4>\n",
    "</center>\n",
    "\n",
    "---"
   ]
  },
  {
   "cell_type": "markdown",
   "metadata": {},
   "source": [
    "\n",
    "#### Create the static library libmy.a containing all the functions listed below:\n",
    "\n",
    "```bash\n",
    "jint _putchar(char c);\n",
    "int _islower(int c);\n",
    "int _isalpha(int c);\n",
    "int _abs(int n);\n",
    "int _isupper(int c);\n",
    "int _isdigit(int c);\n",
    "int _strlen(char *s);\n",
    "void _puts(char *s);\n",
    "char *_strcpy(char *dest, char *src);\n",
    "int _atoi(char *s);\n",
    "char *_strcat(char *dest, char *src);\n",
    "char *_strncat(char *dest, char *src, int n);\n",
    "char *_strncpy(char *dest, char *src, int n);\n",
    "int _strcmp(char *s1, char *s2);\n",
    "char *_memset(char *s, char b, unsigned int n);\n",
    "char *_memcpy(char *dest, char *src, unsigned int n);\n",
    "char *_strchr(char *s, char c);\n",
    "unsigned int _strspn(char *s, char *accept);\n",
    "char *_strpbrk(char *s, char *accept);\n",
    "char *_strstr(char *haystack, char *needle);\n",
    "```\n",
    "#### If you haven’t coded all of the above functions create empty ones with the right prototype.\n",
    "Don’t forget to push your `main.h` file to your repository. It should at least contain all the prototypes of the above functions.\n",
    "\n",
    "```bash\n",
    "julien@ubuntu:~/0x09. Static Librairies$ ar -t libmy.a \n",
    "0-isupper.o\n",
    "0-memset.o\n",
    "0-strcat.o\n",
    "1-isdigit.o\n",
    "1-memcpy.o\n",
    "1-strncat.o\n",
    "100-atoi.o\n",
    "2-strchr.o\n",
    "2-strlen.o\n",
    "2-strncpy.o\n",
    "3-islower.o\n",
    "3-puts.o\n",
    "3-strcmp.o\n",
    "3-strspn.o\n",
    "4-isalpha.o\n",
    "4-strpbrk.o\n",
    "5-strstr.o\n",
    "6-abs.o\n",
    "9-strcpy.o\n",
    "_putchar.o\n",
    "julien@ubuntu:~/0x09. Static Librairies$ nm libmy.a \n",
    "\n",
    "0-isupper.o:\n",
    "0000000000000000 T _isupper\n",
    "\n",
    "0-memset.o:\n",
    "0000000000000000 T _memset\n",
    "\n",
    "0-strcat.o:\n",
    "0000000000000000 T _strcat\n",
    "\n",
    "1-isdigit.o:\n",
    "0000000000000000 T _isdigit\n",
    "\n",
    "1-memcpy.o:\n",
    "0000000000000000 T _memcpy\n",
    "\n",
    "1-strncat.o:\n",
    "0000000000000000 T _strncat\n",
    "\n",
    "100-atoi.o:\n",
    "0000000000000000 T _atoi\n",
    "\n",
    "2-strchr.o:\n",
    "0000000000000000 T _strchr\n",
    "\n",
    "2-strlen.o:\n",
    "0000000000000000 T _strlen\n",
    "\n",
    "2-strncpy.o:\n",
    "0000000000000000 T _strncpy\n",
    "\n",
    "3-islower.o:\n",
    "0000000000000000 T _islower\n",
    "\n",
    "3-puts.o:\n",
    "                 U _putchar\n",
    "0000000000000000 T _puts\n",
    "\n",
    "3-strcmp.o:\n",
    "0000000000000000 T _strcmp\n",
    "\n",
    "3-strspn.o:\n",
    "0000000000000000 T _strspn\n",
    "\n",
    "4-isalpha.o:\n",
    "0000000000000000 T _isalpha\n",
    "\n",
    "4-strpbrk.o:\n",
    "0000000000000000 T _strpbrk\n",
    "\n",
    "5-strstr.o:\n",
    "0000000000000000 T _strstr\n",
    "\n",
    "6-abs.o:\n",
    "0000000000000000 T _abs\n",
    "\n",
    "9-strcpy.o:\n",
    "0000000000000000 T _strcpy\n",
    "\n",
    "_putchar.o:\n",
    "0000000000000000 T _putchar\n",
    "                 U write\n",
    "julien@ubuntu:~/0x09. Static Librairies$ cat main.c \n",
    "#include \"main.h\"\n",
    "\n",
    "int main(void)\n",
    "{\n",
    "    _puts(\"\\\"At the end of the day, my goal was to be the best hacker\\\"\\n\\t- Kevin Mitnick\");\n",
    "    return (0);\n",
    "}\n",
    "julien@ubuntu:~/0x09. Static Librairies$ gcc -std=gnu89 main.c -L. -lmy -o quote\n",
    "julien@ubuntu:~/0x09. Static Librairies$ ./quote \n",
    "\"At the end of the day, my goal was to be the best hacker\"\n",
    "    - Kevin Mitnick\n",
    "julien@ubuntu:~/0x09. Static Librairies$ \n",
    "```\n",
    "\n",
    "#### Repo:\n",
    "* GitHub repository: ``` alx-low_level_programming ```\n",
    "* Directory: ```0x08-recursion``` \n",
    "* File: ```libmy.a, main.h```"
   ]
  },
  {
   "cell_type": "markdown",
   "metadata": {},
   "source": [
    "##### _putchar"
   ]
  },
  {
   "cell_type": "code",
   "execution_count": 1,
   "metadata": {},
   "outputs": [
    {
     "name": "stdout",
     "output_type": "stream",
     "text": [
      "Writing 0x09-static_libraries/0-putchar.c\n"
     ]
    }
   ],
   "source": [
    "%%file 0x09-static_libraries/0-putchar.c\n",
    "#include \"main.h\"\n",
    "\n",
    "/**\n",
    " * main - Entry point\n",
    " *\n",
    " * Return: Always 0 (Success)\n",
    " */\n",
    "\n",
    "int main(void)\n",
    "{\n",
    "char str[] = \"_putchar\";\n",
    "int x;\n",
    "for (x = 0; x < 8; x++)\n",
    "{\n",
    "_putchar(str[x]);\n",
    "}\n",
    "_putchar('\\n');\n",
    "return (0);\n",
    "}"
   ]
  },
  {
   "cell_type": "code",
   "execution_count": 2,
   "metadata": {},
   "outputs": [
    {
     "name": "stdout",
     "output_type": "stream",
     "text": [
      "Writing 0x09-static_libraries/main.h\n"
     ]
    }
   ],
   "source": [
    "%%file 0x09-static_libraries/main.h\n",
    "#ifndef MAIN_H\n",
    "#define MAIN_H\n",
    "\n",
    "#include <stdio.h>\n",
    "\n",
    "int _putchar(char c);\n",
    "\n",
    "#endif"
   ]
  },
  {
   "cell_type": "code",
   "execution_count": 3,
   "metadata": {},
   "outputs": [
    {
     "name": "stdout",
     "output_type": "stream",
     "text": [
      "Writing 0x09-static_libraries/_putchar.c\n"
     ]
    }
   ],
   "source": [
    "%%file 0x09-static_libraries/_putchar.c\n",
    "#include <unistd.h>\n",
    "#include \"main.h\"\n",
    "/**\n",
    " * _putchar - writes the character c to stdout\n",
    " * @c: The character to print\n",
    " *\n",
    " * Return: On success 1.\n",
    " * On error, -1 is returned, and errno is set appropriately.\n",
    " */\n",
    "int _putchar(char c)\n",
    "{\n",
    "\treturn (write(1, &c, 1));\n",
    "}"
   ]
  },
  {
   "cell_type": "code",
   "execution_count": 4,
   "metadata": {},
   "outputs": [
    {
     "name": "stdout",
     "output_type": "stream",
     "text": [
      "\n",
      "========== 0x09-static_libraries/0-putchar.c ==========\n",
      "main\n",
      "_putchar\n"
     ]
    }
   ],
   "source": [
    "%%bash\n",
    "betty 0x09-static_libraries/0-putchar.c\n",
    "gcc -Wall -pedantic -Werror -Wextra -std=gnu89 0x09-static_libraries/_putchar.c 0x09-static_libraries/0-putchar.c -o 0x09-static_libraries/0-putchar\n",
    "./0x09-static_libraries/0-putchar\n"
   ]
  },
  {
   "cell_type": "code",
   "execution_count": 5,
   "metadata": {},
   "outputs": [
    {
     "name": "stdout",
     "output_type": "stream",
     "text": [
      "On branch main\n",
      "Your branch is up to date with 'origin/main'.\n",
      "\n",
      "nothing to commit, working tree clean\n"
     ]
    },
    {
     "name": "stderr",
     "output_type": "stream",
     "text": [
      "Everything up-to-date\n"
     ]
    }
   ],
   "source": [
    "%%bash\n",
    "git add .\n",
    "git commit -m \"alx-low_level_programming/0x09-static_libraries/0-putchar\"\n",
    "git push"
   ]
  },
  {
   "cell_type": "markdown",
   "metadata": {},
   "source": [
    "##### _islower"
   ]
  },
  {
   "cell_type": "code",
   "execution_count": 39,
   "metadata": {},
   "outputs": [
    {
     "name": "stdout",
     "output_type": "stream",
     "text": [
      "Overwriting 0x09-static_libraries/3-islower.c\n"
     ]
    }
   ],
   "source": [
    "%%file 0x09-static_libraries/3-islower.c\n",
    "#include \"main.h\"\n",
    "/**\n",
    "* _islower - Checks for lowercase character\n",
    "* @c: The character to be checked\n",
    "*\n",
    "* Return: 1 for lowercase character or 0 for anything else\n",
    "*/\n",
    "\n",
    "int _islower(int c)\n",
    "{\n",
    "if (c >= 97 && c <= 122)\n",
    "{\n",
    "return (1);\n",
    "}\n",
    "\n",
    "return (0);\n",
    "}"
   ]
  },
  {
   "cell_type": "code",
   "execution_count": 40,
   "metadata": {},
   "outputs": [
    {
     "name": "stdout",
     "output_type": "stream",
     "text": [
      "Overwriting 0x09-static_libraries/3-main.c\n"
     ]
    }
   ],
   "source": [
    "%%file 0x09-static_libraries/3-main.c \n",
    "#include \"main.h\"\n",
    "\n",
    "/**\n",
    " * main - check the code.\n",
    " *\n",
    " * Return: Always 0.\n",
    " */\n",
    "int main(void)\n",
    "{\n",
    "    int r;\n",
    "\n",
    "    r = _islower('H');\n",
    "    _putchar(r + '0');\n",
    "    r = _islower('o');\n",
    "    _putchar(r + '0');\n",
    "    r = _islower(108);\n",
    "    _putchar(r + '0');\n",
    "    _putchar('\\n');\n",
    "    return (0);\n",
    "}\n"
   ]
  },
  {
   "cell_type": "code",
   "execution_count": 41,
   "metadata": {},
   "outputs": [
    {
     "name": "stdout",
     "output_type": "stream",
     "text": [
      "Overwriting 0x09-static_libraries/main.h\n"
     ]
    }
   ],
   "source": [
    "%%file 0x09-static_libraries/main.h\n",
    "#ifndef MAIN_H\n",
    "#define MAIN_H\n",
    "\n",
    "int _putchar(char x);\n",
    "int _islower(int x);\n",
    "\n",
    "#endif"
   ]
  },
  {
   "cell_type": "code",
   "execution_count": 42,
   "metadata": {},
   "outputs": [
    {
     "name": "stdout",
     "output_type": "stream",
     "text": [
      "\n",
      "========== 0x09-static_libraries/3-islower ==========\n",
      "0x09-static_libraries/3-islower:0: ERROR: Does not appear to be a unified-diff format patch\n",
      "total: 1 errors, 0 warnings, 0 lines checked\n",
      "011\n"
     ]
    }
   ],
   "source": [
    "%%bash\n",
    "betty 0x09-static_libraries/3-islower\n",
    "gcc -Wall -pedantic -Werror -Wextra -std=gnu89 0x09-static_libraries/_putchar.c 0x09-static_libraries/3-main.c 0x09-static_libraries/3-islower.c -o 0x09-static_libraries/3-islower\n",
    "./0x09-static_libraries/3-islower"
   ]
  },
  {
   "cell_type": "code",
   "execution_count": null,
   "metadata": {},
   "outputs": [
    {
     "name": "stdout",
     "output_type": "stream",
     "text": [
      "[main 131aba8] 0x02-functions_nested_loops/3-name\n",
      " 5 files changed, 366 insertions(+), 74 deletions(-)\n",
      " create mode 100755 0x02-functions_nested_loops/3-islower\n",
      " create mode 100644 0x02-functions_nested_loops/3-islower.c\n",
      " create mode 100644 0x02-functions_nested_loops/3-main.c\n",
      "Enumerating objects: 12, done.\n",
      "Counting objects: 100% (12/12), done.\n",
      "Delta compression using up to 12 threads\n",
      "Compressing objects: 100% (8/8), done.\n",
      "Writing objects: 100% (8/8), 7.15 KiB | 3.57 MiB/s, done.\n",
      "Total 8 (delta 4), reused 0 (delta 0)\n",
      "remote: Resolving deltas: 100% (4/4), completed with 4 local objects.\u001b[K\n",
      "To https://github.com/elkomysara/alx-low_level_programming.git\n",
      "   5996486..131aba8  main -> main\n",
      "Branch 'main' set up to track remote branch 'main' from 'origin'.\n"
     ]
    }
   ],
   "source": [
    "!git add .\n",
    "!git commit -m \"0x09-static_libraries/3-name\"\n",
    "!git push -u origin main"
   ]
  },
  {
   "cell_type": "markdown",
   "metadata": {},
   "source": [
    "##### _isalpha"
   ]
  },
  {
   "cell_type": "code",
   "execution_count": 43,
   "metadata": {},
   "outputs": [
    {
     "name": "stdout",
     "output_type": "stream",
     "text": [
      "Writing 0x09-static_libraries/4-isalpha.c\n"
     ]
    }
   ],
   "source": [
    "%%file 0x09-static_libraries/4-isalpha.c\n",
    "#include \"main.h\"\n",
    "\n",
    "/**\n",
    " * _isalpha - checks for alphabetic character\n",
    " * @x: the character to be checked\n",
    " * Return: 1 if x is a letter, 0 otherwise\n",
    " */\n",
    "int _isalpha(int x)\n",
    "{\n",
    "return ((x >= 'a' && x <= 'z') || (x >= 'A' && x <= 'Z'));\n",
    "}"
   ]
  },
  {
   "cell_type": "code",
   "execution_count": 44,
   "metadata": {},
   "outputs": [
    {
     "name": "stdout",
     "output_type": "stream",
     "text": [
      "Writing 0x09-static_libraries/4-main.c\n"
     ]
    }
   ],
   "source": [
    "%%file 0x09-static_libraries/4-main.c \n",
    "#include \"main.h\"\n",
    "\n",
    "/**\n",
    " * main - check the code.\n",
    " *\n",
    " * Return: Always 0.\n",
    " */\n",
    "int main(void)\n",
    "{\n",
    "    int r;\n",
    "\n",
    "    r = _isalpha('H');\n",
    "    _putchar(r + '0');\n",
    "    r = _isalpha('o');\n",
    "    _putchar(r + '0');\n",
    "    r = _isalpha(108);\n",
    "    _putchar(r + '0');\n",
    "    r = _isalpha(';');\n",
    "    _putchar(r + '0');\n",
    "    _putchar('\\n');\n",
    "    return (0);\n",
    "}"
   ]
  },
  {
   "cell_type": "code",
   "execution_count": 46,
   "metadata": {},
   "outputs": [
    {
     "name": "stdout",
     "output_type": "stream",
     "text": [
      "Overwriting 0x09-static_libraries/main.h\n"
     ]
    }
   ],
   "source": [
    "%%file 0x09-static_libraries/main.h\n",
    "#ifndef MAIN_H\n",
    "#define MAIN_H\n",
    "\n",
    "#include <stdio.h>\n",
    "\n",
    "int _putchar(char x);\n",
    "int _islower(int x);\n",
    "int _isalpha(int x);\n",
    "\n",
    "#endif"
   ]
  },
  {
   "cell_type": "code",
   "execution_count": 47,
   "metadata": {},
   "outputs": [
    {
     "name": "stdout",
     "output_type": "stream",
     "text": [
      "\n",
      "========== 0x09-static_libraries/4-isalpha.c ==========\n",
      "_isalpha\n",
      "1110\n"
     ]
    }
   ],
   "source": [
    "%%bash\n",
    "betty 0x09-static_libraries/4-isalpha.c\n",
    "gcc -Wall -pedantic -Werror -Wextra -std=gnu89 0x09-static_libraries/_putchar.c 0x09-static_libraries/4-main.c 0x09-static_libraries/4-isalpha.c -o 0x09-static_libraries/4-isalpha\n",
    "./0x09-static_libraries/4-isalpha"
   ]
  },
  {
   "cell_type": "code",
   "execution_count": 48,
   "metadata": {},
   "outputs": [
    {
     "name": "stdout",
     "output_type": "stream",
     "text": [
      "[main 4b58820] 0x02-shell_redirections/4-lastlines\n",
      " 7 files changed, 73 insertions(+), 1 deletion(-)\n",
      " create mode 100755 0x09-static_libraries/3-islower\n",
      " create mode 100644 0x09-static_libraries/3-islower.c\n",
      " create mode 100644 0x09-static_libraries/3-main.c\n",
      " create mode 100755 0x09-static_libraries/4-isalpha\n",
      " create mode 100644 0x09-static_libraries/4-isalpha.c\n",
      " create mode 100644 0x09-static_libraries/4-main.c\n",
      "Enumerating objects: 8, done.\n",
      "Counting objects: 100% (8/8), done.\n",
      "Delta compression using up to 12 threads\n",
      "Compressing objects: 100% (5/5), done.\n",
      "Writing objects: 100% (5/5), 882 bytes | 882.00 KiB/s, done.\n",
      "Total 5 (delta 1), reused 0 (delta 0)\n",
      "remote: Resolving deltas: 100% (1/1), completed with 1 local object.\u001b[K\n",
      "To https://github.com/elkomysara/alx-low_level_programming.git\n",
      "   da8a2d8..4b58820  main -> main\n",
      "Branch 'main' set up to track remote branch 'main' from 'origin'.\n"
     ]
    }
   ],
   "source": [
    "!git add .\n",
    "!git commit -m \"0x02-shell_redirections/4-lastlines\"\n",
    "!git push -u origin main"
   ]
  },
  {
   "cell_type": "markdown",
   "metadata": {},
   "source": [
    "#### _abs"
   ]
  },
  {
   "cell_type": "code",
   "execution_count": 49,
   "metadata": {},
   "outputs": [
    {
     "name": "stdout",
     "output_type": "stream",
     "text": [
      "Writing 0x09-static_libraries/6-abs.c\n"
     ]
    }
   ],
   "source": [
    "%%file 0x09-static_libraries/6-abs.c\n",
    "#include <stdio.h>\n",
    "/**\n",
    " * _abs - computes the absolute value of an integer\n",
    " * @x: the int to check\n",
    " * return: the absolute value of int\n",
    " * Return: Always 0 (Success)\n",
    "*/\n",
    "int _abs(int x)\n",
    "{\n",
    "if (x <= 0)\n",
    "{\n",
    "x = -x;\n",
    "}\n",
    "return (x);\n",
    "}"
   ]
  },
  {
   "cell_type": "code",
   "execution_count": 50,
   "metadata": {},
   "outputs": [
    {
     "name": "stdout",
     "output_type": "stream",
     "text": [
      "Writing 0x09-static_libraries/6-main.c\n"
     ]
    }
   ],
   "source": [
    "%%file 0x09-static_libraries/6-main.c\n",
    "#include \"main.h\"\n",
    "#include <stdio.h>\n",
    "\n",
    "/**\n",
    " * main - check the code\n",
    " *\n",
    " * Return: Always 0.\n",
    " */\n",
    "int main(void)\n",
    "{\n",
    "    int r;\n",
    "\n",
    "    r = _abs(-1);\n",
    "    printf(\"%d\\n\", r);\n",
    "    r = _abs(0);\n",
    "    printf(\"%d\\n\", r);\n",
    "    r = _abs(1);\n",
    "    printf(\"%d\\n\", r);\n",
    "    r = _abs(-98);\n",
    "    printf(\"%d\\n\", r);\n",
    "    return (0);\n",
    "}"
   ]
  },
  {
   "cell_type": "code",
   "execution_count": 51,
   "metadata": {},
   "outputs": [
    {
     "name": "stdout",
     "output_type": "stream",
     "text": [
      "Overwriting 0x09-static_libraries/main.h\n"
     ]
    }
   ],
   "source": [
    "%%file 0x09-static_libraries/main.h\n",
    "#ifndef MAIN_H\n",
    "#define MAIN_H\n",
    "\n",
    "#include <stdio.h>\n",
    "\n",
    "int _putchar(char x);\n",
    "int _islower(int x);\n",
    "int _isalpha(int x);\n",
    "int _abs(int);\n",
    "#endif"
   ]
  },
  {
   "cell_type": "code",
   "execution_count": 52,
   "metadata": {},
   "outputs": [
    {
     "name": "stdout",
     "output_type": "stream",
     "text": [
      "\n",
      "========== 0x09-static_libraries/6-abs.c ==========\n",
      "_abs\n",
      "1\n",
      "0\n",
      "1\n",
      "98\n"
     ]
    }
   ],
   "source": [
    "%%bash\n",
    "betty 0x09-static_libraries/6-abs.c\n",
    "gcc -Wall -pedantic -Werror -Wextra -std=gnu89 0x09-static_libraries/_putchar.c 0x09-static_libraries/6-main.c 0x09-static_libraries/6-abs.c -o 0x09-static_libraries/6-abs\n",
    "./0x09-static_libraries/6-abs"
   ]
  },
  {
   "cell_type": "code",
   "execution_count": 53,
   "metadata": {},
   "outputs": [
    {
     "name": "stdout",
     "output_type": "stream",
     "text": [
      "[main 8f8e6cb] 6\n",
      " 4 files changed, 38 insertions(+), 1 deletion(-)\n",
      " create mode 100755 0x09-static_libraries/6-abs\n",
      " create mode 100644 0x09-static_libraries/6-abs.c\n",
      " create mode 100644 0x09-static_libraries/6-main.c\n"
     ]
    },
    {
     "name": "stderr",
     "output_type": "stream",
     "text": [
      "To https://github.com/elkomysara/alx-low_level_programming.git\n",
      "   4b58820..8f8e6cb  main -> main\n"
     ]
    }
   ],
   "source": [
    "%%bash\n",
    "git add .\n",
    "git commit -m \"6\"\n",
    "git push"
   ]
  },
  {
   "cell_type": "markdown",
   "metadata": {},
   "source": [
    "##### _isupper"
   ]
  },
  {
   "cell_type": "code",
   "execution_count": 55,
   "metadata": {},
   "outputs": [
    {
     "name": "stdout",
     "output_type": "stream",
     "text": [
      "Writing 0x09-static_libraries/0-main.c\n"
     ]
    }
   ],
   "source": [
    "%%file 0x09-static_libraries/0-main.c\n",
    "#include \"main.h\"\n",
    "#include <stdio.h>\n",
    "\n",
    "/**\n",
    " * main - check the code.\n",
    " *\n",
    " * Return: Always 0.\n",
    " */\n",
    "int main(void)\n",
    "{\n",
    "    char c;\n",
    "\n",
    "    c = 'A';\n",
    "    printf(\"%c: %d\\n\", c, _isupper(c));\n",
    "    c = 'a';\n",
    "    printf(\"%c: %d\\n\", c, _isupper(c));\n",
    "    return (0);\n",
    "}"
   ]
  },
  {
   "cell_type": "code",
   "execution_count": 56,
   "metadata": {},
   "outputs": [
    {
     "name": "stdout",
     "output_type": "stream",
     "text": [
      "Overwriting 0x09-static_libraries/main.h\n"
     ]
    }
   ],
   "source": [
    "%%file 0x09-static_libraries/main.h\n",
    "#ifndef FILE_MAIN\n",
    "#define FILE_MAIN\n",
    "\n",
    "#include <stdio.h>\n",
    "\n",
    "int _putchar(char x);\n",
    "int _islower(int x);\n",
    "int _isalpha(int x);\n",
    "int _abs(int);\n",
    "int _isupper(int c);\n",
    "\n",
    "\n",
    "#endif\n"
   ]
  },
  {
   "cell_type": "code",
   "execution_count": 57,
   "metadata": {},
   "outputs": [
    {
     "name": "stdout",
     "output_type": "stream",
     "text": [
      "Writing 0x09-static_libraries/0-isupper.c\n"
     ]
    }
   ],
   "source": [
    "%%file 0x09-static_libraries/0-isupper.c\n",
    "#include \"main.h\"\n",
    "\n",
    "/**\n",
    "* _isupper - checks for uppercase character\n",
    "* @c: the character to be checked\n",
    "* Return: 1 if c is uppercase, 0 otherwise\n",
    "*/\n",
    "int _isupper(int c)\n",
    "{\n",
    "return (c >= 'A' && c <= 'Z');\n",
    "}"
   ]
  },
  {
   "cell_type": "code",
   "execution_count": 58,
   "metadata": {},
   "outputs": [
    {
     "name": "stdout",
     "output_type": "stream",
     "text": [
      "Overwriting 0x09-static_libraries/_putchar.c\n"
     ]
    }
   ],
   "source": [
    "%%file 0x09-static_libraries/_putchar.c\n",
    "#include <unistd.h>\n",
    "#include \"main.h\"\n",
    "/**\n",
    " * _putchar - writes the character c to stdout\n",
    " * @c: The character to print\n",
    " *\n",
    " * Return: On success 1.\n",
    " * On error, -1 is returned, and errno is set appropriately.\n",
    " */\n",
    "int _putchar(char c)\n",
    "{\n",
    "\treturn (write(1, &c, 1));\n",
    "}\n"
   ]
  },
  {
   "cell_type": "code",
   "execution_count": 59,
   "metadata": {},
   "outputs": [
    {
     "name": "stdout",
     "output_type": "stream",
     "text": [
      "\n",
      "========== 0x09-static_libraries/0-isupper.c ==========\n",
      "_isupper\n",
      "A: 1\n",
      "a: 0\n"
     ]
    }
   ],
   "source": [
    "%%bash\n",
    "betty 0x09-static_libraries/0-isupper.c\n",
    "gcc -Wall -pedantic -Werror -Wextra -std=gnu89 0x09-static_libraries/0-main.c 0x09-static_libraries/0-isupper.c -o 0x09-static_libraries/0-isupper\n",
    "./0x09-static_libraries/0-isupper"
   ]
  },
  {
   "cell_type": "code",
   "execution_count": 60,
   "metadata": {},
   "outputs": [
    {
     "name": "stdout",
     "output_type": "stream",
     "text": [
      "[main 643f43b] alx-low_level_programming/0x09-static_libraries\n",
      " 5 files changed, 41 insertions(+), 15 deletions(-)\n",
      " create mode 100755 0x09-static_libraries/0-isupper\n",
      " create mode 100644 0x09-static_libraries/0-isupper.c\n",
      " create mode 100644 0x09-static_libraries/0-main.c\n"
     ]
    },
    {
     "name": "stderr",
     "output_type": "stream",
     "text": [
      "To https://github.com/elkomysara/alx-low_level_programming.git\n",
      "   8f8e6cb..643f43b  main -> main\n"
     ]
    }
   ],
   "source": [
    "%%bash\n",
    "git add .\n",
    "git commit -m \"alx-low_level_programming/0x09-static_libraries\"\n",
    "git push"
   ]
  },
  {
   "cell_type": "markdown",
   "metadata": {},
   "source": [
    "##### _isdigit"
   ]
  },
  {
   "cell_type": "code",
   "execution_count": 61,
   "metadata": {},
   "outputs": [
    {
     "name": "stdout",
     "output_type": "stream",
     "text": [
      "Writing 0x09-static_libraries/1-isdigit.c\n"
     ]
    }
   ],
   "source": [
    "%%file 0x09-static_libraries/1-isdigit.c\n",
    "#include \"main.h\"\n",
    "\n",
    "/**\n",
    "* _isdigit - checks for a digit (0 through 9)\n",
    "* @c: int to be checked\n",
    "* Return: 1 if c is a digit, 0 otherwise\n",
    "*/\n",
    "int _isdigit(int c)\n",
    "{\n",
    "return (c >= '0' && c <= '9');\n",
    "}"
   ]
  },
  {
   "cell_type": "code",
   "execution_count": 62,
   "metadata": {},
   "outputs": [
    {
     "name": "stdout",
     "output_type": "stream",
     "text": [
      "Writing 0x09-static_libraries/1-main.c\n"
     ]
    }
   ],
   "source": [
    "%%file 0x09-static_libraries/1-main.c\n",
    "#include \"main.h\"\n",
    "#include <stdio.h>\n",
    "\n",
    "/**\n",
    " * main - check the code\n",
    " *\n",
    " * Return: Always 0.\n",
    " */\n",
    "int main(void)\n",
    "{\n",
    "char c;\n",
    "\n",
    "c = '0';\n",
    "printf(\"%c: %d\\n\", c, _isdigit(c));\n",
    "c = 'a';\n",
    "printf(\"%c: %d\\n\", c, _isdigit(c));\n",
    "return (0);\n",
    "}"
   ]
  },
  {
   "cell_type": "code",
   "execution_count": 66,
   "metadata": {},
   "outputs": [
    {
     "name": "stdout",
     "output_type": "stream",
     "text": [
      "Overwriting 0x09-static_libraries/main.h\n"
     ]
    }
   ],
   "source": [
    "%%file 0x09-static_libraries/main.h\n",
    "#ifndef MAIN_H\n",
    "#define MAIN_H\n",
    "\n",
    "#include <stdio.h>\n",
    "\n",
    "int _putchar(char x);\n",
    "int _islower(int x);\n",
    "int _isalpha(int x);\n",
    "int _abs(int);\n",
    "int _isupper(int c);\n",
    "int _isdigit(int c);\n",
    "\n",
    "#endif\n"
   ]
  },
  {
   "cell_type": "code",
   "execution_count": 64,
   "metadata": {},
   "outputs": [
    {
     "name": "stdout",
     "output_type": "stream",
     "text": [
      "\n",
      "========== 0x09-static_libraries/1-isdigit.c ==========\n",
      "_isdigit\n",
      "0: 1\n",
      "a: 0\n"
     ]
    }
   ],
   "source": [
    "%%bash\n",
    "betty 0x09-static_libraries/1-isdigit.c\n",
    "gcc -Wall -pedantic -Werror -Wextra -std=gnu89 0x09-static_libraries/1-main.c 0x09-static_libraries/1-isdigit.c -o 0x09-static_libraries/1-isdigit\n",
    "./0x09-static_libraries/1-isdigit"
   ]
  },
  {
   "cell_type": "code",
   "execution_count": 65,
   "metadata": {},
   "outputs": [
    {
     "name": "stdout",
     "output_type": "stream",
     "text": [
      "[main 2ccca90] alx-low_level_programming/0x09-static_libraries\n",
      " 4 files changed, 33 insertions(+), 7 deletions(-)\n",
      " create mode 100755 0x09-static_libraries/1-isdigit\n",
      " create mode 100644 0x09-static_libraries/1-isdigit.c\n",
      " create mode 100644 0x09-static_libraries/1-main.c\n"
     ]
    },
    {
     "name": "stderr",
     "output_type": "stream",
     "text": [
      "To https://github.com/elkomysara/alx-low_level_programming.git\n",
      "   643f43b..2ccca90  main -> main\n"
     ]
    }
   ],
   "source": [
    "%%bash\n",
    "git add .\n",
    "git commit -m \"alx-low_level_programming/0x09-static_libraries\"\n",
    "git push"
   ]
  },
  {
   "cell_type": "markdown",
   "metadata": {},
   "source": [
    "##### _strlen"
   ]
  },
  {
   "cell_type": "code",
   "execution_count": 82,
   "metadata": {},
   "outputs": [
    {
     "name": "stdout",
     "output_type": "stream",
     "text": [
      "Overwriting 0x09-static_libraries/0-main.c\n"
     ]
    }
   ],
   "source": [
    "%%file 0x09-static_libraries/0-main.c\n",
    "#include \"main.h\"\n",
    "#include <stdio.h>\n",
    "\n",
    "/**\n",
    " * main - check the code\n",
    " *\n",
    " * Return: Always 0.\n",
    " */\n",
    "int main(void)\n",
    "{\n",
    "    char s1[98] = \"Hello \";\n",
    "    char s2[] = \"World!\\n\";\n",
    "    char *ptr;\n",
    "\n",
    "    printf(\"%s\\n\", s1);\n",
    "    printf(\"%s\", s2);\n",
    "    ptr = _strcat(s1, s2);\n",
    "    printf(\"%s\", s1);\n",
    "    printf(\"%s\", s2);\n",
    "    printf(\"%s\", ptr);\n",
    "    return (0);\n",
    "}"
   ]
  },
  {
   "cell_type": "code",
   "execution_count": 83,
   "metadata": {},
   "outputs": [
    {
     "name": "stdout",
     "output_type": "stream",
     "text": [
      "Overwriting 0x09-static_libraries/main.h\n"
     ]
    }
   ],
   "source": [
    "%%file 0x09-static_libraries/main.h\n",
    "#ifndef FILE_MAIN\n",
    "#define FILE_MAIN\n",
    "\n",
    "#include <stdio.h>\n",
    "int _putchar(char x);\n",
    "int _islower(int x);\n",
    "int _isalpha(int x);\n",
    "int _abs(int);\n",
    "int _isupper(int c);\n",
    "int _isdigit(int c);\n",
    "char *_strcat(char *dest, char *src);\n",
    "\n",
    "\n",
    "\n",
    "#endif\n"
   ]
  },
  {
   "cell_type": "code",
   "execution_count": 84,
   "metadata": {},
   "outputs": [
    {
     "name": "stdout",
     "output_type": "stream",
     "text": [
      "Overwriting 0x09-static_libraries/0-strcat.c\n"
     ]
    }
   ],
   "source": [
    "%%file 0x09-static_libraries/0-strcat.c\n",
    "#include \"main.h\"\n",
    "\n",
    "/**\n",
    "* _strcat - concatenates two strings\n",
    "* @dest: destination string\n",
    "* @src: source string\n",
    "*\n",
    "* Return: pointer to the resulting string dest\n",
    "*/\n",
    "char *_strcat(char *dest, char *src)\n",
    "{\n",
    "int i = 0;\n",
    "int j = 0;\n",
    "\n",
    "/* Find the end of dest string*/\n",
    "while (dest[i] != '\\0')\n",
    "{\n",
    "i++;\n",
    "}\n",
    "\n",
    "/* Append src to dest */\n",
    "while (src[j] != '\\0')\n",
    "{\n",
    "dest[i] = src[j];\n",
    "i++;\n",
    "j++;\n",
    "}\n",
    "\n",
    "/* Add the terminating null byte */\n",
    "dest[i] = '\\0';\n",
    "\n",
    "/* Returns a pointer to the resulting string dest */\n",
    "\n",
    "return (dest);\n",
    "}\n"
   ]
  },
  {
   "cell_type": "code",
   "execution_count": 85,
   "metadata": {},
   "outputs": [
    {
     "name": "stdout",
     "output_type": "stream",
     "text": [
      "Overwriting 0x09-static_libraries/_putchar.c\n"
     ]
    }
   ],
   "source": [
    "%%file 0x09-static_libraries/_putchar.c\n",
    "#include <unistd.h>\n",
    "#include \"main.h\"\n",
    "/**\n",
    " * _putchar - writes the character c to stdout\n",
    " * @c: The character to print\n",
    " *\n",
    " * Return: On success 1.\n",
    " * On error, -1 is returned, and errno is set appropriately.\n",
    " */\n",
    "int _putchar(char c)\n",
    "{\n",
    "\treturn (write(1, &c, 1));\n",
    "}\n"
   ]
  },
  {
   "cell_type": "code",
   "execution_count": 86,
   "metadata": {},
   "outputs": [
    {
     "name": "stdout",
     "output_type": "stream",
     "text": [
      "\n",
      "========== 0x09-static_libraries/0-strcat.c ==========\n",
      "_strcat\n",
      "Hello \n",
      "World!\n",
      "Hello World!\n",
      "World!\n",
      "Hello World!\n"
     ]
    }
   ],
   "source": [
    "%%bash\n",
    "betty 0x09-static_libraries/0-strcat.c\n",
    "gcc -Wall -pedantic -Werror -Wextra -std=gnu89 0x09-static_libraries/0-main.c 0x09-static_libraries/0-strcat.c -o 0x09-static_libraries/0-strcat\n",
    "./0x09-static_libraries/0-strcat"
   ]
  },
  {
   "cell_type": "code",
   "execution_count": 87,
   "metadata": {},
   "outputs": [
    {
     "name": "stdout",
     "output_type": "stream",
     "text": [
      "[main 6b8f732] alx-low_level_programming/0x09-static_libraries\n"
     ]
    },
    {
     "name": "stdout",
     "output_type": "stream",
     "text": [
      " 4 files changed, 54 insertions(+), 10 deletions(-)\n",
      " create mode 100755 0x09-static_libraries/0-strcat\n",
      " create mode 100644 0x09-static_libraries/0-strcat.c\n"
     ]
    },
    {
     "name": "stderr",
     "output_type": "stream",
     "text": [
      "To https://github.com/elkomysara/alx-low_level_programming.git\n",
      "   2ccca90..6b8f732  main -> main\n"
     ]
    }
   ],
   "source": [
    "%%bash\n",
    "git add .\n",
    "git commit -m \"alx-low_level_programming/0x09-static_libraries\"\n",
    "git push"
   ]
  },
  {
   "cell_type": "markdown",
   "metadata": {},
   "source": [
    "##### _strncat"
   ]
  },
  {
   "cell_type": "code",
   "execution_count": 88,
   "metadata": {},
   "outputs": [
    {
     "name": "stdout",
     "output_type": "stream",
     "text": [
      "Overwriting 0x09-static_libraries/1-main.c\n"
     ]
    }
   ],
   "source": [
    "%%file 0x09-static_libraries/1-main.c\n",
    "#include \"main.h\"\n",
    "#include <stdio.h>\n",
    "\n",
    "/**\n",
    " * main - check the code\n",
    " *\n",
    " * Return: Always 0.\n",
    " */\n",
    "int main(void)\n",
    "{\n",
    "    char s1[98] = \"Hello \";\n",
    "    char s2[] = \"World!\\n\";\n",
    "    char *ptr;\n",
    "\n",
    "    printf(\"%s\\n\", s1);\n",
    "    printf(\"%s\", s2);\n",
    "    ptr = _strncat(s1, s2, 1);\n",
    "    printf(\"%s\\n\", s1);\n",
    "    printf(\"%s\", s2);\n",
    "    printf(\"%s\\n\", ptr);\n",
    "    ptr = _strncat(s1, s2, 1024);\n",
    "    printf(\"%s\", s1);\n",
    "    printf(\"%s\", s2);\n",
    "    printf(\"%s\", ptr);\n",
    "    return (0);\n",
    "}"
   ]
  },
  {
   "cell_type": "code",
   "execution_count": 89,
   "metadata": {},
   "outputs": [
    {
     "name": "stdout",
     "output_type": "stream",
     "text": [
      "Overwriting 0x09-static_libraries/main.h\n"
     ]
    }
   ],
   "source": [
    "%%file 0x09-static_libraries/main.h\n",
    "#ifndef FILE_MAIN\n",
    "#define FILE_MAIN\n",
    "\n",
    "#include <stdio.h>\n",
    "\n",
    "int _putchar(char x);\n",
    "int _islower(int x);\n",
    "int _isalpha(int x);\n",
    "int _abs(int);\n",
    "int _isupper(int c);\n",
    "int _isdigit(int c);\n",
    "char *_strcat(char *dest, char *src);\n",
    "char *_strncat(char *dest, char *src, int n);\n",
    "\n",
    "\n",
    "#endif\n"
   ]
  },
  {
   "cell_type": "code",
   "execution_count": 90,
   "metadata": {},
   "outputs": [
    {
     "name": "stdout",
     "output_type": "stream",
     "text": [
      "Writing 0x09-static_libraries/1-strncat.c\n"
     ]
    }
   ],
   "source": [
    "%%file 0x09-static_libraries/1-strncat.c\n",
    "#include \"main.h\"\n",
    "\n",
    "/**\n",
    "* _strncat - Concatenates two strings.\n",
    "* @dest: Pointer to the destination string.\n",
    "* @src: Pointer to the source string.\n",
    "* @n:  Maximum number of bytes to append from src.\n",
    "*\n",
    "* Return: A pointer to the resulting string (dest).\n",
    "*/\n",
    "char *_strncat(char *dest, char *src, int n)\n",
    "{\n",
    "char *dest_start = dest;\n",
    "/* Find the end of the destination string */\n",
    "while (*dest)\n",
    "{\n",
    "dest++;\n",
    "}\n",
    "/* loops through the source string, appending characters to dest */\n",
    "while (n > 0 && *src)\n",
    "{\n",
    "*dest = *src;\n",
    "dest++;\n",
    "src++;\n",
    "/* decrement n after each character is copied */\n",
    "n--;\n",
    "}\n",
    "/* Add null terminator if n allows and source string isn;t empty */\n",
    "\n",
    "*dest = '\\0';\n",
    "\n",
    "/* Return a pointer to the resulting string (dest) */\n",
    "return (dest_start);\n",
    "\n",
    "}"
   ]
  },
  {
   "cell_type": "code",
   "execution_count": 91,
   "metadata": {},
   "outputs": [
    {
     "name": "stdout",
     "output_type": "stream",
     "text": [
      "\n",
      "========== 0x09-static_libraries/1-strncat.c ==========\n",
      "_strncat\n",
      "Hello \n",
      "World!\n",
      "Hello W\n",
      "World!\n",
      "Hello W\n",
      "Hello WWorld!\n",
      "World!\n",
      "Hello WWorld!\n"
     ]
    }
   ],
   "source": [
    "%%bash\n",
    "betty 0x09-static_libraries/1-strncat.c\n",
    "gcc -Wall -pedantic -Werror -Wextra -std=gnu89 0x09-static_libraries/1-main.c 0x09-static_libraries/1-strncat.c -o 0x09-static_libraries/1-strncat\n",
    "./0x09-static_libraries/1-strncat"
   ]
  },
  {
   "cell_type": "markdown",
   "metadata": {},
   "source": [
    "##### _strncpy"
   ]
  },
  {
   "cell_type": "code",
   "execution_count": 92,
   "metadata": {},
   "outputs": [
    {
     "name": "stdout",
     "output_type": "stream",
     "text": [
      "Writing 0x09-static_libraries/2-main.c\n"
     ]
    }
   ],
   "source": [
    "%%file 0x09-static_libraries/2-main.c\n",
    "#include \"main.h\"\n",
    "#include <stdio.h>\n",
    "\n",
    "/**\n",
    " * main - check the code\n",
    " *\n",
    " * Return: Always 0.\n",
    " */\n",
    "int main(void)\n",
    "{\n",
    "    char s1[98];\n",
    "    char *ptr;\n",
    "    int i;\n",
    "\n",
    "    for (i = 0; i < 98 - 1; i++)\n",
    "    {\n",
    "        s1[i] = '*';\n",
    "    }\n",
    "    s1[i] = '\\0';\n",
    "    printf(\"%s\\n\", s1);\n",
    "    ptr = _strncpy(s1, \"First, solve the problem. Then, write the code\\n\", 5);\n",
    "    printf(\"%s\\n\", s1);\n",
    "    printf(\"%s\\n\", ptr);\n",
    "    ptr = _strncpy(s1, \"First, solve the problem. Then, write the code\\n\", 90);\n",
    "    printf(\"%s\", s1);\n",
    "    printf(\"%s\", ptr);\n",
    "    for (i = 0; i < 98; i++)\n",
    "    {\n",
    "        if (i % 10)\n",
    "        {\n",
    "            printf(\" \");\n",
    "        }\n",
    "        if (!(i % 10) && i)\n",
    "        {\n",
    "            printf(\"\\n\");\n",
    "        }\n",
    "        printf(\"0x%02x\", s1[i]);\n",
    "    }\n",
    "    printf(\"\\n\");\n",
    "    return (0);\n",
    "}"
   ]
  },
  {
   "cell_type": "code",
   "execution_count": 93,
   "metadata": {},
   "outputs": [
    {
     "name": "stdout",
     "output_type": "stream",
     "text": [
      "Overwriting 0x09-static_libraries/main.h\n"
     ]
    }
   ],
   "source": [
    "%%file 0x09-static_libraries/main.h\n",
    "#ifndef FILE_MAIN\n",
    "#define FILE_MAIN\n",
    "\n",
    "#include <stdio.h>\n",
    "\n",
    "int _putchar(char x);\n",
    "int _islower(int x);\n",
    "int _isalpha(int x);\n",
    "int _abs(int);\n",
    "int _isupper(int c);\n",
    "int _isdigit(int c);\n",
    "char *_strcat(char *dest, char *src);\n",
    "char *_strncat(char *dest, char *src, int n);\n",
    "char *_strncpy(char *dest, char *src, int n);\n",
    "\n",
    "#endif\n"
   ]
  },
  {
   "cell_type": "code",
   "execution_count": 94,
   "metadata": {},
   "outputs": [
    {
     "name": "stdout",
     "output_type": "stream",
     "text": [
      "Writing 0x09-static_libraries/2-strncpy.c\n"
     ]
    }
   ],
   "source": [
    "%%file 0x09-static_libraries/2-strncpy.c\n",
    "#include \"main.h\"\n",
    "\n",
    "/**\n",
    " * _strncpy - Copies a string from src to dest up to n characters.\n",
    " * @dest: Pointer to the destination buffer.\n",
    " * @src: Pointer to the source string.\n",
    " * @n: Maximum number of characters to copy.\n",
    " *\n",
    " * Return: Pointer to the destination string (dest).\n",
    " */\n",
    "char *_strncpy(char *dest, char *src, int n)\n",
    "{\n",
    "int i;\n",
    "for (i = 0; i < n && src[i] != '\\0'; i++)\n",
    "{\n",
    "dest[i] = src[i];\n",
    "}\n",
    "/* Pad with null bytes if n is greater than the length of src */\n",
    "for (; i < n; i++)\n",
    "{\n",
    "dest[i] = '\\0';\n",
    "}\n",
    "return (dest);\n",
    "}"
   ]
  },
  {
   "cell_type": "code",
   "execution_count": 95,
   "metadata": {},
   "outputs": [
    {
     "name": "stdout",
     "output_type": "stream",
     "text": [
      "\n",
      "========== 0x09-static_libraries/2-strcpy.c ==========\n"
     ]
    },
    {
     "name": "stderr",
     "output_type": "stream",
     "text": [
      "diff: 0x09-static_libraries/2-strcpy.c: No such file or directory\n",
      "Error: Cannot open file 0x09-static_libraries/2-strcpy.c\n"
     ]
    },
    {
     "name": "stdout",
     "output_type": "stream",
     "text": [
      "*************************************************************************************************\n",
      "First********************************************************************************************\n",
      "First********************************************************************************************\n",
      "First, solve the problem. Then, write the code\n",
      "First, solve the problem. Then, write the code\n",
      "0x46 0x69 0x72 0x73 0x74 0x2c 0x20 0x73 0x6f 0x6c\n",
      "0x76 0x65 0x20 0x74 0x68 0x65 0x20 0x70 0x72 0x6f\n",
      "0x62 0x6c 0x65 0x6d 0x2e 0x20 0x54 0x68 0x65 0x6e\n",
      "0x2c 0x20 0x77 0x72 0x69 0x74 0x65 0x20 0x74 0x68\n",
      "0x65 0x20 0x63 0x6f 0x64 0x65 0x0a 0x00 0x00 0x00\n",
      "0x00 0x00 0x00 0x00 0x00 0x00 0x00 0x00 0x00 0x00\n",
      "0x00 0x00 0x00 0x00 0x00 0x00 0x00 0x00 0x00 0x00\n",
      "0x00 0x00 0x00 0x00 0x00 0x00 0x00 0x00 0x00 0x00\n",
      "0x00 0x00 0x00 0x00 0x00 0x00 0x00 0x00 0x00 0x00\n",
      "0x2a 0x2a 0x2a 0x2a 0x2a 0x2a 0x2a 0x00\n"
     ]
    }
   ],
   "source": [
    "%%bash\n",
    "betty 0x09-static_libraries/2-strcpy.c\n",
    "gcc -Wall -pedantic -Werror -Wextra -std=gnu89 0x09-static_libraries/2-main.c 0x09-static_libraries/2-strncpy.c -o 0x09-static_libraries/2-strncpy\n",
    "./0x09-static_libraries/2-strncpy"
   ]
  },
  {
   "cell_type": "code",
   "execution_count": 96,
   "metadata": {},
   "outputs": [
    {
     "name": "stdout",
     "output_type": "stream",
     "text": [
      "[main 1a76dfb] alx-low_level_programming/0x09-static_libraries\n"
     ]
    },
    {
     "name": "stdout",
     "output_type": "stream",
     "text": [
      " 7 files changed, 117 insertions(+), 8 deletions(-)\n",
      " create mode 100755 0x09-static_libraries/1-strncat\n",
      " create mode 100644 0x09-static_libraries/1-strncat.c\n",
      " create mode 100644 0x09-static_libraries/2-main.c\n",
      " create mode 100755 0x09-static_libraries/2-strncpy\n",
      " create mode 100644 0x09-static_libraries/2-strncpy.c\n"
     ]
    },
    {
     "name": "stderr",
     "output_type": "stream",
     "text": [
      "To https://github.com/elkomysara/alx-low_level_programming.git\n",
      "   6b8f732..1a76dfb  main -> main\n"
     ]
    }
   ],
   "source": [
    "%%bash\n",
    "git add .\n",
    "git commit -m \"alx-low_level_programming/0x09-static_libraries\"\n",
    "git push"
   ]
  },
  {
   "cell_type": "markdown",
   "metadata": {},
   "source": [
    "##### _strcmp"
   ]
  },
  {
   "cell_type": "code",
   "execution_count": 97,
   "metadata": {},
   "outputs": [
    {
     "name": "stdout",
     "output_type": "stream",
     "text": [
      "Overwriting 0x09-static_libraries/3-main.c\n"
     ]
    }
   ],
   "source": [
    "%%file 0x09-static_libraries/3-main.c\n",
    "#include \"main.h\"\n",
    "#include <stdio.h>\n",
    "\n",
    "/**\n",
    " * main - check the code\n",
    " *\n",
    " * Return: Always 0.\n",
    " */\n",
    "int main(void)\n",
    "{\n",
    "    char s1[] = \"Hello\";\n",
    "    char s2[] = \"World!\";\n",
    "\n",
    "    printf(\"%d\\n\", _strcmp(s1, s2));\n",
    "    printf(\"%d\\n\", _strcmp(s2, s1));\n",
    "    printf(\"%d\\n\", _strcmp(s1, s1));\n",
    "    return (0);\n",
    "}"
   ]
  },
  {
   "cell_type": "code",
   "execution_count": 100,
   "metadata": {},
   "outputs": [
    {
     "name": "stdout",
     "output_type": "stream",
     "text": [
      "Overwriting 0x09-static_libraries/main.h\n"
     ]
    }
   ],
   "source": [
    "%%file 0x09-static_libraries/main.h\n",
    "#ifndef FILE_MAIN\n",
    "#define FILE_MAIN\n",
    "\n",
    "#include <stdio.h>\n",
    "\n",
    "int _putchar(char x);\n",
    "int _islower(int x);\n",
    "int _isalpha(int x);\n",
    "int _abs(int);\n",
    "int _isupper(int c);\n",
    "int _isdigit(int c);\n",
    "char *_strcat(char *dest, char *src);\n",
    "char *_strncat(char *dest, char *src, int n);\n",
    "char *_strncpy(char *dest, char *src, int n);\n",
    "int _strcmp(char *s1, char *s2);\n",
    "\n",
    "\n",
    "#endif\n"
   ]
  },
  {
   "cell_type": "code",
   "execution_count": null,
   "metadata": {},
   "outputs": [
    {
     "name": "stdout",
     "output_type": "stream",
     "text": [
      "Overwriting 0x06-pointers_arrays_strings/3-strcmp.c\n"
     ]
    }
   ],
   "source": [
    "%%file 0x09-static_libraries/3-strcmp.c\n",
    "#include \"main.h\"\n",
    "\n",
    "/**\n",
    "* _strcmp - Compares two strings.\n",
    "* @s1: the first string.\n",
    "* @s2: the second string.\n",
    "*\n",
    "* Return: s2 minus s1\n",
    "*/\n",
    "\n",
    "int _strcmp(char *s1, char *s2)\n",
    "{\n",
    "while (*s1 && (*s1 == *s2))\n",
    "{\n",
    "s1++;\n",
    "s2++;\n",
    "}\n",
    "return (*s1 - *s2);\n",
    "}\n"
   ]
  },
  {
   "cell_type": "code",
   "execution_count": null,
   "metadata": {},
   "outputs": [
    {
     "name": "stdout",
     "output_type": "stream",
     "text": [
      "\n",
      "========== 0x06-pointers_arrays_strings/3-strcmp.c ==========\n"
     ]
    },
    {
     "name": "stdout",
     "output_type": "stream",
     "text": [
      "_strcmp\n",
      "-15\n",
      "15\n",
      "0\n"
     ]
    }
   ],
   "source": [
    "%%bash\n",
    "betty 0x09-static_libraries/3-strcmp.c\n",
    "gcc -Wall -pedantic -Werror -Wextra -std=gnu89 0x09-static_libraries/3-main.c 0x09-static_libraries/3-strcmp.c -o 0x09-static_libraries/3-strcmp\n",
    "./0x09-static_libraries/3-strcmp"
   ]
  },
  {
   "cell_type": "code",
   "execution_count": null,
   "metadata": {},
   "outputs": [
    {
     "name": "stdout",
     "output_type": "stream",
     "text": [
      "[main e2cb608] alx-low_level_programming/0x06-pointers_arrays_strings\n",
      " 1 file changed, 0 insertions(+), 0 deletions(-)\n",
      " create mode 100755 0x06-pointers_arrays_strings/3-strcmp\n"
     ]
    },
    {
     "name": "stderr",
     "output_type": "stream",
     "text": [
      "To github.com:elkomysara/alx-low_level_programming.git\n",
      "   86c5042..e2cb608  main -> main\n"
     ]
    }
   ],
   "source": [
    "%%bash\n",
    "git add .\n",
    "git commit -m \"alx-low_level_programming/0x09-static_libraries\"\n",
    "git push"
   ]
  },
  {
   "cell_type": "markdown",
   "metadata": {},
   "source": [
    "###\n",
    "---\n",
    "<center>\n",
    "<h4> 1. Why is it so important to dream? Because, in my dreams we are together </h4>\n",
    "</center>\n",
    "\n",
    "---"
   ]
  },
  {
   "cell_type": "markdown",
   "metadata": {},
   "source": [
    "\n",
    "#### Write a function that prints a string in reverse.\n",
    "\n",
    "* Prototype: `void _print_rev_recursion(char *s);`\n",
    "\n",
    "```bash\n",
    "julien@ubuntu:~/0x08. Recursion$ cat 1-main.c\n",
    "#include \"main.h\"\n",
    "\n",
    "/**\n",
    " * main - check the code\n",
    " *\n",
    " * Return: Always 0.\n",
    " */\n",
    "int main(void)\n",
    "{\n",
    "    _print_rev_recursion(\"\\nColton Walker\");\n",
    "    return (0);\n",
    "}\n",
    "julien@ubuntu:~/0x08. Recursion$ gcc -Wall -pedantic -Werror -Wextra -std=gnu89 _putchar.c 1-main.c 1-print_rev_recursion.c -o 1-print_rev_recursion\n",
    "julien@ubuntu:~/0x08. Recursion$ ./1-print_rev_recursion \n",
    "reklaW notloC\n",
    "julien@ubuntu:~/0x08. Recursion$ \n",
    "```\n",
    "\n",
    "#### Repo:\n",
    "* GitHub repository: ``` alx-low_level_programming ```\n",
    "* Directory: ```0x08-recursion``` \n",
    "* File: ```1-print_rev_recursion.c```"
   ]
  },
  {
   "cell_type": "code",
   "execution_count": 16,
   "metadata": {},
   "outputs": [
    {
     "name": "stdout",
     "output_type": "stream",
     "text": [
      "Writing 0x08-recursion/1-main.c\n"
     ]
    }
   ],
   "source": [
    "%%file 0x09-static_libraries/1-main.c\n",
    "#include \"main.h\"\n",
    "/**\n",
    " * main - check the code\n",
    " *\n",
    " * Return: Always 0.\n",
    " */\n",
    "int main(void)\n",
    "{\n",
    "    _print_rev_recursion(\"\\nColton Walker\");\n",
    "    return (0);\n",
    "}"
   ]
  },
  {
   "cell_type": "code",
   "execution_count": 17,
   "metadata": {},
   "outputs": [
    {
     "name": "stdout",
     "output_type": "stream",
     "text": [
      "Overwriting 0x08-recursion/main.h\n"
     ]
    }
   ],
   "source": [
    "%%file 0x09-static_libraries/main.h\n",
    "#ifndef FILE_MAIN\n",
    "#define FILE_MAIN\n",
    "\n",
    "#include <stdio.h>\n",
    "int _putchar(char c);\n",
    "void _puts_recursion(char *s);\n",
    "void _print_rev_recursion(char *s);\n",
    "\n",
    "\n",
    "#endif\n"
   ]
  },
  {
   "cell_type": "code",
   "execution_count": 21,
   "metadata": {},
   "outputs": [
    {
     "name": "stdout",
     "output_type": "stream",
     "text": [
      "Overwriting 0x08-recursion/1-print_rev_recursion.c\n"
     ]
    }
   ],
   "source": [
    "%%file 0x09-static_libraries/1-print_rev_recursion.c\n",
    "#include \"main.h\"\n",
    "#include <stdio.h> /* For putchar */\n",
    "\n",
    "/**\n",
    "* _print_rev_recursion - prints a string in reverse.\n",
    "* @s: The string to print in reverse.\n",
    "*/\n",
    "void _print_rev_recursion(char *s)\n",
    "{\n",
    "if (*s == '\\0') /* Base case: if we reach the end of the string */\n",
    "{\n",
    "return;\n",
    "}\n",
    "/* Recursively call the function with the next character */\n",
    "_print_rev_recursion(s + 1);\n",
    "\n",
    "/* Print the current character after the recursive call */\n",
    "putchar(*s);\n",
    "}\n"
   ]
  },
  {
   "cell_type": "code",
   "execution_count": 22,
   "metadata": {},
   "outputs": [
    {
     "name": "stdout",
     "output_type": "stream",
     "text": [
      "Overwriting 0x08-recursion/_putchar.c\n"
     ]
    }
   ],
   "source": [
    "%%file 0x09-static_libraries/_putchar.c\n",
    "#include <unistd.h>\n",
    "#include \"main.h\"\n",
    "/**\n",
    " * _putchar - writes the character c to stdout\n",
    " * @c: The character to print\n",
    " *\n",
    " * Return: On success 1.\n",
    " * On error, -1 is returned, and errno is set appropriately.\n",
    " */\n",
    "int _putchar(char c)\n",
    "{\n",
    "\treturn (write(1, &c, 1));\n",
    "}\n"
   ]
  },
  {
   "cell_type": "code",
   "execution_count": 23,
   "metadata": {},
   "outputs": [
    {
     "name": "stdout",
     "output_type": "stream",
     "text": [
      "\n",
      "========== 0x08-recursion/1-print_rev_recursion.c ==========\n"
     ]
    },
    {
     "name": "stdout",
     "output_type": "stream",
     "text": [
      "_print_rev_recursion\n",
      "reklaW notloC\n"
     ]
    }
   ],
   "source": [
    "%%bash\n",
    "betty 0x09-static_libraries/1-print_rev_recursion.c\n",
    "gcc -Wall -pedantic -Werror -Wextra -std=gnu89 0x09-static_libraries/_putchar.c 0x09-static_libraries/1-main.c 0x09-static_libraries/1-print_rev_recursion.c -o 0x09-static_libraries/1-print_rev_recursion\n",
    "./0x09-static_libraries/1-print_rev_recursion"
   ]
  },
  {
   "cell_type": "code",
   "execution_count": 24,
   "metadata": {},
   "outputs": [
    {
     "name": "stdout",
     "output_type": "stream",
     "text": [
      "[main ac68d3c] alx-low_level_programming/0x08-recursion\n",
      " 4 files changed, 32 insertions(+), 2 deletions(-)\n",
      " create mode 100644 0x08-recursion/1-main.c\n",
      " create mode 100755 0x08-recursion/1-print_rev_recursion\n",
      " create mode 100644 0x08-recursion/1-print_rev_recursion.c\n"
     ]
    },
    {
     "name": "stderr",
     "output_type": "stream",
     "text": [
      "To https://github.com/elkomysara/alx-low_level_programming.git\n",
      "   c6a13b1..ac68d3c  main -> main\n"
     ]
    }
   ],
   "source": [
    "%%bash\n",
    "git add .\n",
    "git commit -m \"alx-low_level_programming/0x09-static_libraries\"\n",
    "git push"
   ]
  },
  {
   "cell_type": "code",
   "execution_count": null,
   "metadata": {},
   "outputs": [],
   "source": []
  },
  {
   "cell_type": "markdown",
   "metadata": {},
   "source": [
    "###\n",
    "---\n",
    "<center>\n",
    "<h4> 2. Dreams feel real while we're in them. It's only when we wake up that we realize something was actually strange </h4>\n",
    "</center>\n",
    "\n",
    "---"
   ]
  },
  {
   "cell_type": "markdown",
   "metadata": {},
   "source": [
    "\n",
    "####  Write a function that returns the length of a string.\n",
    "\n",
    "* Prototype: `int _strlen_recursion(char *s);`\n",
    "\n",
    "FYI: The standard library provides a similar function: `strlen`. Run `man strlen` to learn more.\n",
    "\n",
    "```bash\n",
    "julien@ubuntu:~/0x08. Recursion$ cat 2-main.c \n",
    "#include \"main.h\"\n",
    "#include <stdio.h>\n",
    "\n",
    "/**\n",
    " * main - check the code\n",
    " *\n",
    " * Return: Always 0.\n",
    " */\n",
    "int main(void)\n",
    "{\n",
    "    int n;\n",
    "\n",
    "    n = _strlen_recursion(\"Corbin Coleman\");\n",
    "    printf(\"%d\\n\", n);\n",
    "    return (0);\n",
    "}\n",
    "julien@ubuntu:~/0x08. Recursion$ gcc -Wall -pedantic -Werror -Wextra -std=gnu89  2-main.c 2-strlen_recursion.c -o 2-strlen_recursion\n",
    "julien@ubuntu:~/0x08. Recursion$ ./2-strlen_recursion \n",
    "14\n",
    "julien@ubuntu:~/0x08. Recursion$ \n",
    "```\n",
    "\n",
    "#### Repo:\n",
    "* GitHub repository: ``` alx-low_level_programming ```\n",
    "* Directory: ```0x08-recursion``` \n",
    "* File: ```2-strlen_recursion.c```"
   ]
  },
  {
   "cell_type": "code",
   "execution_count": 31,
   "metadata": {},
   "outputs": [
    {
     "name": "stdout",
     "output_type": "stream",
     "text": [
      "Writing 0x08-recursion/2-main.c\n"
     ]
    }
   ],
   "source": [
    "%%file 0x09-static_libraries/2-main.c\n",
    "#include \"main.h\"\n",
    "#include <stdio.h>\n",
    "\n",
    "/**\n",
    " * main - check the code\n",
    " *\n",
    " * Return: Always 0.\n",
    " */\n",
    "int main(void)\n",
    "{\n",
    "    int n;\n",
    "\n",
    "    n = _strlen_recursion(\"Corbin Coleman\");\n",
    "    printf(\"%d\\n\", n);\n",
    "    return (0);\n",
    "}"
   ]
  },
  {
   "cell_type": "code",
   "execution_count": 35,
   "metadata": {},
   "outputs": [
    {
     "name": "stdout",
     "output_type": "stream",
     "text": [
      "Overwriting 0x08-recursion/main.h\n"
     ]
    }
   ],
   "source": [
    "%%file 0x09-static_libraries/main.h\n",
    "#ifndef FILE_MAIN\n",
    "#define FILE_MAIN\n",
    "\n",
    "#include <stdio.h>\n",
    "int _putchar(char c);\n",
    "void _puts_recursion(char *s);\n",
    "void _print_rev_recursion(char *s);\n",
    "int _strlen_recursion(char *s);\n",
    "#endif\n"
   ]
  },
  {
   "cell_type": "code",
   "execution_count": 36,
   "metadata": {},
   "outputs": [
    {
     "name": "stdout",
     "output_type": "stream",
     "text": [
      "Overwriting 0x08-recursion/2-strlen_recursion.c\n"
     ]
    }
   ],
   "source": [
    "%%file 0x09-static_libraries/2-strlen_recursion.c\n",
    "\n",
    "#include \"main.h\"\n",
    "\n",
    "/**\n",
    "* _strlen_recursion - returns the length of a string.\n",
    "* @s: The string to measure.\n",
    "*\n",
    "* Return: The length of the string.\n",
    "*/\n",
    "int _strlen_recursion(char *s)\n",
    "{\n",
    "/* Base case: if we reach the end of the string */\n",
    "if (*s == '\\0')\n",
    "{\n",
    "return (0);\n",
    "}\n",
    "/* Add 1 for the current character and recurse */\n",
    "return (1 + _strlen_recursion(s + 1));\n",
    "}\n",
    "\n"
   ]
  },
  {
   "cell_type": "code",
   "execution_count": 37,
   "metadata": {},
   "outputs": [
    {
     "name": "stdout",
     "output_type": "stream",
     "text": [
      "\n",
      "========== 0x08-recursion/2-strlen_recursion.c ==========\n",
      "_strlen_recursion\n",
      "14\n"
     ]
    }
   ],
   "source": [
    "%%bash\n",
    "betty 0x09-static_libraries/2-strlen_recursion.c\n",
    "gcc -Wall -pedantic -Werror -Wextra -std=gnu89 0x09-static_libraries/2-main.c 0x09-static_libraries/2-strlen_recursion.c -o 0x09-static_libraries/2-strlen_recursion\n",
    "./0x09-static_libraries/2-strlen_recursion"
   ]
  },
  {
   "cell_type": "code",
   "execution_count": 38,
   "metadata": {},
   "outputs": [
    {
     "name": "stdout",
     "output_type": "stream",
     "text": [
      "[main 6ebeb83] alx-low_level_programming/0x08-recursion\n",
      " 4 files changed, 38 insertions(+), 2 deletions(-)\n",
      " create mode 100644 0x08-recursion/2-main.c\n",
      " create mode 100755 0x08-recursion/2-strlen_recursion\n",
      " create mode 100644 0x08-recursion/2-strlen_recursion.c\n"
     ]
    },
    {
     "name": "stderr",
     "output_type": "stream",
     "text": [
      "To https://github.com/elkomysara/alx-low_level_programming.git\n",
      "   ac68d3c..6ebeb83  main -> main\n"
     ]
    }
   ],
   "source": [
    "%%bash\n",
    "git add .\n",
    "git commit -m \"alx-low_level_programming/0x09-static_libraries\"\n",
    "git push"
   ]
  },
  {
   "cell_type": "code",
   "execution_count": null,
   "metadata": {},
   "outputs": [],
   "source": []
  },
  {
   "cell_type": "markdown",
   "metadata": {},
   "source": [
    "###\n",
    "---\n",
    "<center>\n",
    "<h4> 3. You mustn't be afraid to dream a little bigger, darling\n",
    " </h4>\n",
    "</center>\n",
    "\n",
    "---"
   ]
  },
  {
   "cell_type": "markdown",
   "metadata": {},
   "source": [
    "\n",
    "####  Write a function that returns the factorial of a given number.\n",
    "\n",
    "* Prototype: `int factorial(int n);`\n",
    "* If `n` is lower than `0`, the function should return `-1` to indicate an error\n",
    "* Factorial of `0` is `1`\n",
    "\n",
    "```bash\n",
    "julien@ubuntu:~/0x08. Recursion$ cat 3-main.c\n",
    "#include \"main.h\"\n",
    "#include <stdio.h>\n",
    "\n",
    "/**\n",
    " * main - check the code\n",
    " *\n",
    " * Return: Always 0.\n",
    " */\n",
    "int main(void)\n",
    "{\n",
    "    int r;\n",
    "\n",
    "    r = factorial(1);\n",
    "    printf(\"%d\\n\", r);\n",
    "    r = factorial(5);\n",
    "    printf(\"%d\\n\", r);\n",
    "    r = factorial(10);\n",
    "    printf(\"%d\\n\", r);\n",
    "    r = factorial(-1024);\n",
    "    printf(\"%d\\n\", r);\n",
    "    return (0);\n",
    "}\n",
    "julien@ubuntu:~/0x08. Recursion$ gcc -Wall -pedantic -Werror -Wextra -std=gnu89 3-main.c 3-factorial.c -o 3-factorial\n",
    "julien@ubuntu:~/0x08. Recursion$ ./3-factorial \n",
    "1\n",
    "120\n",
    "3628800\n",
    "-1\n",
    "julien@ubuntu:~/0x08. Recursion$\n",
    "```\n",
    "\n",
    "#### Repo:\n",
    "* GitHub repository: ``` alx-low_level_programming ```\n",
    "* Directory: ```0x08-recursion``` \n",
    "* File: ```3-factorial.c```"
   ]
  },
  {
   "cell_type": "code",
   "execution_count": 1,
   "metadata": {},
   "outputs": [
    {
     "name": "stdout",
     "output_type": "stream",
     "text": [
      "Writing 0x08-recursion/3-main.c\n"
     ]
    }
   ],
   "source": [
    "%%file 0x09-static_libraries/3-main.c\n",
    "#include \"main.h\"\n",
    "#include <stdio.h>\n",
    "\n",
    "/**\n",
    " * main - check the code\n",
    " *\n",
    " * Return: Always 0.\n",
    " */\n",
    "int main(void)\n",
    "{\n",
    "    int r;\n",
    "\n",
    "    r = factorial(1);\n",
    "    printf(\"%d\\n\", r);\n",
    "    r = factorial(5);\n",
    "    printf(\"%d\\n\", r);\n",
    "    r = factorial(10);\n",
    "    printf(\"%d\\n\", r);\n",
    "    r = factorial(-1024);\n",
    "    printf(\"%d\\n\", r);\n",
    "    return (0);\n",
    "}"
   ]
  },
  {
   "cell_type": "code",
   "execution_count": 2,
   "metadata": {},
   "outputs": [
    {
     "name": "stdout",
     "output_type": "stream",
     "text": [
      "Overwriting 0x08-recursion/main.h\n"
     ]
    }
   ],
   "source": [
    "%%file 0x09-static_libraries/main.h\n",
    "#ifndef FILE_MAIN\n",
    "#define FILE_MAIN\n",
    "\n",
    "#include <stdio.h>\n",
    "\n",
    "\n",
    "#include <stdio.h>\n",
    "int _putchar(char c);\n",
    "void _puts_recursion(char *s);\n",
    "void _print_rev_recursion(char *s);\n",
    "int _strlen_recursion(char *s);\n",
    "int factorial(int n);\n",
    "\n",
    "#endif\n"
   ]
  },
  {
   "cell_type": "code",
   "execution_count": 13,
   "metadata": {},
   "outputs": [
    {
     "name": "stdout",
     "output_type": "stream",
     "text": [
      "Overwriting 0x08-recursion/3-factorial.c\n"
     ]
    }
   ],
   "source": [
    "%%file 0x09-static_libraries/3-factorial.c\n",
    "#include \"main.h\"\n",
    "\n",
    "/**\n",
    "* factorial - Returns the factorial of a given number.\n",
    "* @n: The number to compute the factorial of.\n",
    "*\n",
    "* Return: The factorial of n.\n",
    "*/\n",
    "int factorial(int n)\n",
    "{\n",
    "if (n < 0)\n",
    "return (-1);  /* Error case for negative numbers */\n",
    "if (n == 0)\n",
    "return (1);   /* Base case: factorial of 0 is 1 */\n",
    "return (n * factorial(n - 1));  /* Recursive case */\n",
    "}\n"
   ]
  },
  {
   "cell_type": "code",
   "execution_count": 14,
   "metadata": {},
   "outputs": [
    {
     "name": "stdout",
     "output_type": "stream",
     "text": [
      "\n",
      "========== 0x08-recursion/3-factorial.c ==========\n",
      "factorial\n",
      "1\n",
      "120\n",
      "3628800\n",
      "-1\n"
     ]
    }
   ],
   "source": [
    "%%bash\n",
    "betty 0x09-static_libraries/3-factorial.c\n",
    "gcc -Wall -pedantic -Werror -Wextra -std=gnu89 0x09-static_libraries/3-main.c 0x09-static_libraries/3-factorial.c -o 0x09-static_libraries/3-factorial\n",
    "./0x09-static_libraries/3-factorial"
   ]
  },
  {
   "cell_type": "code",
   "execution_count": 15,
   "metadata": {},
   "outputs": [
    {
     "name": "stdout",
     "output_type": "stream",
     "text": [
      "[main 0438ec3] alx-low_level_programming/0x08-recursion\n",
      " 2 files changed, 16 insertions(+)\n",
      " create mode 100755 0x08-recursion/3-factorial\n",
      " create mode 100644 0x08-recursion/3-factorial.c\n"
     ]
    },
    {
     "name": "stderr",
     "output_type": "stream",
     "text": [
      "To https://github.com/elkomysara/alx-low_level_programming.git\n",
      "   53eafa2..0438ec3  main -> main\n"
     ]
    }
   ],
   "source": [
    "%%bash\n",
    "git add .\n",
    "git commit -m \"alx-low_level_programming/0x09-static_libraries\"\n",
    "git push"
   ]
  },
  {
   "cell_type": "markdown",
   "metadata": {},
   "source": [
    "###\n",
    "---\n",
    "<center>\n",
    "<h4> 4. Once an idea has taken hold of the brain it's almost impossible to eradicate\n",
    " </h4>\n",
    "</center>\n",
    "\n",
    "---"
   ]
  },
  {
   "cell_type": "markdown",
   "metadata": {},
   "source": [
    "\n",
    "####  Write a function that returns the value of x raised to the power of y.\n",
    "\n",
    "* Prototype: `int _pow_recursion(int x, int y);`\n",
    "* If `y` is lower than `0`, the function should return `-1`\n",
    "FYI: The standard library provides a different function: `pow`. Run `man pow` to learn more.\n",
    "\n",
    "```bash\n",
    "julien@ubuntu:~/0x08. Recursion$ cat 4-main.c\n",
    "#include \"main.h\"\n",
    "#include <stdio.h>\n",
    "\n",
    "/**\n",
    " * main - check the code\n",
    " *\n",
    " * Return: Always 0.\n",
    " */\n",
    "int main(void)\n",
    "{\n",
    "    int r;\n",
    "\n",
    "    r = _pow_recursion(1, 10);\n",
    "    printf(\"%d\\n\", r);\n",
    "    r = _pow_recursion(1024, 0);\n",
    "    printf(\"%d\\n\", r);\n",
    "    r = _pow_recursion(2, 16);\n",
    "    printf(\"%d\\n\", r);\n",
    "    r = _pow_recursion(5, 2);\n",
    "    printf(\"%d\\n\", r);\n",
    "    r = _pow_recursion(5, -2);\n",
    "    printf(\"%d\\n\", r);\n",
    "    r = _pow_recursion(-5, 3);\n",
    "    printf(\"%d\\n\", r);\n",
    "    return (0);\n",
    "}\n",
    "julien@ubuntu:~/0x08. Recursion$ gcc -Wall -pedantic -Werror -Wextra -std=gnu89 4-main.c 4-pow_recursion.c -o 4-pow\n",
    "julien@ubuntu:~/0x08. Recursion$ ./4-pow \n",
    "1\n",
    "1\n",
    "65536\n",
    "25\n",
    "-1\n",
    "-125\n",
    "julien@ubuntu:~/0x08. Recursion$ \n",
    "```\n",
    "\n",
    "#### Repo:\n",
    "* GitHub repository: ``` alx-low_level_programming ```\n",
    "* Directory: ```0x08-recursion``` \n",
    "* File: ```4-pow_recursion.c```"
   ]
  },
  {
   "cell_type": "code",
   "execution_count": 1,
   "metadata": {},
   "outputs": [
    {
     "name": "stdout",
     "output_type": "stream",
     "text": [
      "Writing 0x08-recursion/4-main.c\n"
     ]
    }
   ],
   "source": [
    "%%file 0x09-static_libraries/4-main.c\n",
    "#include \"main.h\"\n",
    "#include <stdio.h>\n",
    "\n",
    "/**\n",
    " * main - check the code\n",
    " *\n",
    " * Return: Always 0.\n",
    " */\n",
    "int main(void)\n",
    "{\n",
    "    int r;\n",
    "\n",
    "    r = _pow_recursion(1, 10);\n",
    "    printf(\"%d\\n\", r);\n",
    "    r = _pow_recursion(1024, 0);\n",
    "    printf(\"%d\\n\", r);\n",
    "    r = _pow_recursion(2, 16);\n",
    "    printf(\"%d\\n\", r);\n",
    "    r = _pow_recursion(5, 2);\n",
    "    printf(\"%d\\n\", r);\n",
    "    r = _pow_recursion(5, -2);\n",
    "    printf(\"%d\\n\", r);\n",
    "    r = _pow_recursion(-5, 3);\n",
    "    printf(\"%d\\n\", r);\n",
    "    return (0);\n",
    "}"
   ]
  },
  {
   "cell_type": "code",
   "execution_count": 2,
   "metadata": {},
   "outputs": [
    {
     "name": "stdout",
     "output_type": "stream",
     "text": [
      "Overwriting 0x08-recursion/main.h\n"
     ]
    }
   ],
   "source": [
    "%%file 0x09-static_libraries/main.h\n",
    "#ifndef FILE_MAIN\n",
    "#define FILE_MAIN\n",
    "\n",
    "#include <stdio.h>\n",
    "int _putchar(char c);\n",
    "void _puts_recursion(char *s);\n",
    "void _print_rev_recursion(char *s);\n",
    "int _strlen_recursion(char *s);\n",
    "int factorial(int n);\n",
    "int _pow_recursion(int x, int y);\n",
    "#endif\n"
   ]
  },
  {
   "cell_type": "code",
   "execution_count": 5,
   "metadata": {},
   "outputs": [
    {
     "name": "stdout",
     "output_type": "stream",
     "text": [
      "Writing 0x08-recursion/4-pow_recursion.c\n"
     ]
    }
   ],
   "source": [
    "%%file 0x09-static_libraries/4-pow_recursion.c\n",
    "#include \"main.h\"\n",
    "\n",
    "/**\n",
    "* _pow_recursion - returns the value of x raised to the power of y\n",
    "* @x: the base\n",
    "* @y: the exponent\n",
    "*\n",
    "* Return: the result of x raised to the power of y\n",
    "*         if y is lower than 0, return -1\n",
    "*/\n",
    "int _pow_recursion(int x, int y)\n",
    "{\n",
    "if (y < 0)\n",
    "{\n",
    "return (-1);\n",
    "}\n",
    "if (y == 0)\n",
    "{\n",
    "return (1);\n",
    "}\n",
    "return (x * _pow_recursion(x, y - 1));\n",
    "}\n"
   ]
  },
  {
   "cell_type": "code",
   "execution_count": 6,
   "metadata": {},
   "outputs": [
    {
     "name": "stdout",
     "output_type": "stream",
     "text": [
      "Overwriting 0x08-recursion/_putchar.c\n"
     ]
    }
   ],
   "source": [
    "%%file 0x09-static_libraries/_putchar.c\n",
    "#include <unistd.h>\n",
    "#include \"main.h\"\n",
    "/**\n",
    " * _putchar - writes the character c to stdout\n",
    " * @c: The character to print\n",
    " *\n",
    " * Return: On success 1.\n",
    " * On error, -1 is returned, and errno is set appropriately.\n",
    " */\n",
    "int _putchar(char c)\n",
    "{\n",
    "\treturn (write(1, &c, 1));\n",
    "}\n"
   ]
  },
  {
   "cell_type": "code",
   "execution_count": 7,
   "metadata": {},
   "outputs": [
    {
     "name": "stdout",
     "output_type": "stream",
     "text": [
      "\n",
      "========== 0x08-recursion/4-pow_recursion.c ==========\n"
     ]
    },
    {
     "name": "stdout",
     "output_type": "stream",
     "text": [
      "_pow_recursion\n",
      "1\n",
      "1\n",
      "65536\n",
      "25\n",
      "-1\n",
      "-125\n"
     ]
    }
   ],
   "source": [
    "%%bash\n",
    "betty 0x09-static_libraries/4-pow_recursion.c\n",
    "gcc -Wall -pedantic -Werror -Wextra -std=gnu89 0x09-static_libraries/4-main.c 0x09-static_libraries/4-pow_recursion.c -o 0x09-static_libraries/4-pow_recursion\n",
    "./0x09-static_libraries/4-pow_recursion"
   ]
  },
  {
   "cell_type": "code",
   "execution_count": 8,
   "metadata": {},
   "outputs": [
    {
     "name": "stdout",
     "output_type": "stream",
     "text": [
      "[main 48905b5] alx-low_level_programming/0x08-recursion\n",
      " 5 files changed, 105 insertions(+), 58 deletions(-)\n",
      " create mode 100644 0x08-recursion/4-main.c\n",
      " create mode 100755 0x08-recursion/4-pow_recursion\n",
      " create mode 100644 0x08-recursion/4-pow_recursion.c\n"
     ]
    },
    {
     "name": "stderr",
     "output_type": "stream",
     "text": [
      "To https://github.com/elkomysara/alx-low_level_programming.git\n",
      "   0438ec3..48905b5  main -> main\n"
     ]
    }
   ],
   "source": [
    "%%bash\n",
    "git add .\n",
    "git commit -m \"alx-low_level_programming/0x09-static_libraries\"\n",
    "git push"
   ]
  },
  {
   "cell_type": "markdown",
   "metadata": {},
   "source": [
    "###\n",
    "---\n",
    "<center>\n",
    "<h4> 5. Your subconscious is looking for the dreamer\n",
    " </h4>\n",
    "</center>\n",
    "\n",
    "---"
   ]
  },
  {
   "cell_type": "markdown",
   "metadata": {},
   "source": [
    "\n",
    "####  Write a function that returns the natural square root of a number.\n",
    "\n",
    "* Prototype: `int _sqrt_recursion(int n);`\n",
    "* If `n` does not have a natural square root, the function should return `-1`\n",
    "FYI: The standard library provides a different function: `sqrt`. Run `man sqrt` to learn more.\n",
    "\n",
    "```bash\n",
    "julien@ubuntu:~/0x08. Recursion$ cat 5-main.c \n",
    "#include \"main.h\"\n",
    "#include <stdio.h>\n",
    "\n",
    "/**\n",
    " * main - check the code\n",
    " *\n",
    " * Return: Always 0.\n",
    " */\n",
    "int main(void)\n",
    "{\n",
    "    int r;\n",
    "\n",
    "    r = _sqrt_recursion(1);\n",
    "    printf(\"%d\\n\", r);\n",
    "    r = _sqrt_recursion(1024);\n",
    "    printf(\"%d\\n\", r);\n",
    "    r = _sqrt_recursion(16);\n",
    "    printf(\"%d\\n\", r);\n",
    "    r = _sqrt_recursion(17);\n",
    "    printf(\"%d\\n\", r);\n",
    "    r = _sqrt_recursion(25);\n",
    "    printf(\"%d\\n\", r);\n",
    "    r = _sqrt_recursion(-1);\n",
    "    printf(\"%d\\n\", r);\n",
    "    return (0);\n",
    "}\n",
    "julien@ubuntu:~/0x08. gcc -Wall -pedantic -Werror -Wextra -std=gnu89 5-main.c 5-sqrt_recursion.c -o 5-sqrt\n",
    "julien@ubuntu:~/0x08. Recursion$ ./5-sqrt \n",
    "1\n",
    "32\n",
    "4\n",
    "-1\n",
    "5\n",
    "-1\n",
    "julien@ubuntu:~/0x08. Recursion$  \n",
    "\n",
    "```\n",
    "\n",
    "#### Repo:\n",
    "* GitHub repository: ``` alx-low_level_programming ```\n",
    "* Directory: ```0x08-recursion``` \n",
    "* File: ```5-sqrt_recursion.c```"
   ]
  },
  {
   "cell_type": "code",
   "execution_count": 9,
   "metadata": {},
   "outputs": [
    {
     "name": "stdout",
     "output_type": "stream",
     "text": [
      "Writing 0x08-recursion/5-main.c\n"
     ]
    }
   ],
   "source": [
    "%%file 0x09-static_libraries/5-main.c\n",
    "#include \"main.h\"\n",
    "#include <stdio.h>\n",
    "\n",
    "/**\n",
    " * main - check the code\n",
    " *\n",
    " * Return: Always 0.\n",
    " */\n",
    "int main(void)\n",
    "{\n",
    "    int r;\n",
    "\n",
    "    r = _sqrt_recursion(1);\n",
    "    printf(\"%d\\n\", r);\n",
    "    r = _sqrt_recursion(1024);\n",
    "    printf(\"%d\\n\", r);\n",
    "    r = _sqrt_recursion(16);\n",
    "    printf(\"%d\\n\", r);\n",
    "    r = _sqrt_recursion(17);\n",
    "    printf(\"%d\\n\", r);\n",
    "    r = _sqrt_recursion(25);\n",
    "    printf(\"%d\\n\", r);\n",
    "    r = _sqrt_recursion(-1);\n",
    "    printf(\"%d\\n\", r);\n",
    "    return (0);\n",
    "}"
   ]
  },
  {
   "cell_type": "code",
   "execution_count": 10,
   "metadata": {},
   "outputs": [
    {
     "name": "stdout",
     "output_type": "stream",
     "text": [
      "Overwriting 0x08-recursion/main.h\n"
     ]
    }
   ],
   "source": [
    "%%file 0x09-static_libraries/main.h\n",
    "#ifndef FILE_MAIN\n",
    "#define FILE_MAIN\n",
    "\n",
    "#include <stdio.h>\n",
    "int _putchar(char c);\n",
    "void _puts_recursion(char *s);\n",
    "void _print_rev_recursion(char *s);\n",
    "int _strlen_recursion(char *s);\n",
    "int factorial(int n);\n",
    "int _pow_recursion(int x, int y);\n",
    "int _sqrt_recursion(int n);\n",
    "\n",
    "#endif\n"
   ]
  },
  {
   "cell_type": "code",
   "execution_count": 1,
   "metadata": {},
   "outputs": [
    {
     "name": "stdout",
     "output_type": "stream",
     "text": [
      "Overwriting 0x08-recursion/5-sqrt_recursion.c\n"
     ]
    }
   ],
   "source": [
    "%%file 0x09-static_libraries/5-sqrt_recursion.c\n",
    "#include \"main.h\"\n",
    "\n",
    "int _sqrt_helper(int n, int guess);\n",
    "\n",
    "/**\n",
    "* _sqrt_recursion - returns the natural square root of a number\n",
    "* @n: the number to find the square root of\n",
    "*\n",
    "* Return: the natural square root of n\n",
    "*         if n does not have a natural square root, return -1\n",
    "*/\n",
    "int _sqrt_recursion(int n)\n",
    "{\n",
    "if (n < 0)\n",
    "{\n",
    "return (-1);\n",
    "}\n",
    "return (_sqrt_helper(n, 0));\n",
    "}\n",
    "\n",
    "/**\n",
    "* _sqrt_helper - helper function to find the square root\n",
    "* @n: the number to find the square root of\n",
    "* @guess: the current guess for the square root\n",
    "*\n",
    "* Return: the natural square root of n\n",
    "*         if n does not have a natural square root, return -1\n",
    "*/\n",
    "int _sqrt_helper(int n, int guess)\n",
    "{\n",
    "if (guess * guess == n)\n",
    "{\n",
    "return (guess);\n",
    "}\n",
    "if (guess * guess > n)\n",
    "{\n",
    "return (-1);\n",
    "}\n",
    "return (_sqrt_helper(n, guess + 1));\n",
    "}\n",
    "\n"
   ]
  },
  {
   "cell_type": "code",
   "execution_count": 2,
   "metadata": {},
   "outputs": [
    {
     "name": "stdout",
     "output_type": "stream",
     "text": [
      "\n",
      "========== 0x08-recursion/5-sqrt_recursion.c ==========\n",
      "_sqrt_recursion\n",
      "_sqrt_helper\n",
      "1\n",
      "32\n",
      "4\n",
      "-1\n",
      "5\n",
      "-1\n"
     ]
    }
   ],
   "source": [
    "%%bash\n",
    "betty 0x09-static_libraries/5-sqrt_recursion.c\n",
    "gcc -Wall -pedantic -Werror -Wextra -std=gnu89 0x09-static_libraries/5-main.c 0x09-static_libraries/5-sqrt_recursion.c -o 0x09-static_libraries/5-sqrt_recursion\n",
    "./0x09-static_libraries/5-sqrt_recursion"
   ]
  },
  {
   "cell_type": "code",
   "execution_count": 3,
   "metadata": {},
   "outputs": [
    {
     "name": "stdout",
     "output_type": "stream",
     "text": [
      "[main e34991e] alx-low_level_programming/0x08-recursion\n",
      " 5 files changed, 222 insertions(+), 113 deletions(-)\n",
      " create mode 100644 0x08-recursion/5-main.c\n",
      " create mode 100755 0x08-recursion/5-sqrt_recursion\n",
      " create mode 100644 0x08-recursion/5-sqrt_recursion.c\n"
     ]
    },
    {
     "name": "stderr",
     "output_type": "stream",
     "text": [
      "To https://github.com/elkomysara/alx-low_level_programming.git\n",
      "   48905b5..e34991e  main -> main\n"
     ]
    }
   ],
   "source": [
    "%%bash\n",
    "git add .\n",
    "git commit -m \"alx-low_level_programming/0x09-static_libraries\"\n",
    "git push"
   ]
  },
  {
   "cell_type": "code",
   "execution_count": null,
   "metadata": {},
   "outputs": [],
   "source": []
  },
  {
   "cell_type": "markdown",
   "metadata": {},
   "source": [
    "###\n",
    "---\n",
    "<center>\n",
    "<h4>6. Inception. Is it possible?\n",
    " </h4>\n",
    "</center>\n",
    "\n",
    "---"
   ]
  },
  {
   "cell_type": "markdown",
   "metadata": {},
   "source": [
    "\n",
    "####  Write a function that returns `1` if the input integer is a prime number, otherwise return `0`.\n",
    "\n",
    "* Prototype: `int is_prime_number(int n);`\n",
    "\n",
    "```bash\n",
    "julien@ubuntu:~/0x08. Recursion$ cat 6-main.c\n",
    "#include \"main.h\"\n",
    "#include <stdio.h>\n",
    "\n",
    "/**\n",
    " * main - check the code\n",
    " *\n",
    " * Return: Always 0.\n",
    " */\n",
    "int main(void)\n",
    "{\n",
    "    int r;\n",
    "\n",
    "    r = is_prime_number(1);\n",
    "    printf(\"%d\\n\", r);\n",
    "    r = is_prime_number(1024);\n",
    "    printf(\"%d\\n\", r);\n",
    "    r = is_prime_number(16);\n",
    "    printf(\"%d\\n\", r);\n",
    "    r = is_prime_number(17);\n",
    "    printf(\"%d\\n\", r);\n",
    "    r = is_prime_number(25);\n",
    "    printf(\"%d\\n\", r);\n",
    "    r = is_prime_number(-1);\n",
    "    printf(\"%d\\n\", r);\n",
    "    r = is_prime_number(113);\n",
    "    printf(\"%d\\n\", r);\n",
    "    r = is_prime_number(7919);\n",
    "    printf(\"%d\\n\", r);\n",
    "    return (0);\n",
    "}\n",
    "julien@ubuntu:~/0x08. Recursion$ gcc -Wall -pedantic -Werror -Wextra -std=gnu89 6-main.c 6-is_prime_number.c -o 6-prime\n",
    "julien@ubuntu:~/0x08. Recursion$ ./6-prime \n",
    "0\n",
    "0\n",
    "0\n",
    "1\n",
    "0\n",
    "0\n",
    "1\n",
    "1\n",
    "julien@ubuntu:~/0x08. Recursion$ \n",
    "\n",
    "```\n",
    "\n",
    "#### Repo:\n",
    "* GitHub repository: ``` alx-low_level_programming ```\n",
    "* Directory: ```0x08-recursion``` \n",
    "* File: ```6-is_prime_number.c```"
   ]
  },
  {
   "cell_type": "code",
   "execution_count": 5,
   "metadata": {},
   "outputs": [
    {
     "name": "stdout",
     "output_type": "stream",
     "text": [
      "Overwriting 0x08-recursion/6-main.c\n"
     ]
    }
   ],
   "source": [
    "%%file 0x09-static_libraries/6-main.c\n",
    "#include \"main.h\"\n",
    "#include <stdio.h>\n",
    "\n",
    "/**\n",
    " * main - check the code\n",
    " *\n",
    " * Return: Always 0.\n",
    " */\n",
    "int main(void)\n",
    "{\n",
    "    int r;\n",
    "\n",
    "    r = is_prime_number(1);\n",
    "    printf(\"%d\\n\", r);\n",
    "    r = is_prime_number(1024);\n",
    "    printf(\"%d\\n\", r);\n",
    "    r = is_prime_number(16);\n",
    "    printf(\"%d\\n\", r);\n",
    "    r = is_prime_number(17);\n",
    "    printf(\"%d\\n\", r);\n",
    "    r = is_prime_number(25);\n",
    "    printf(\"%d\\n\", r);\n",
    "    r = is_prime_number(-1);\n",
    "    printf(\"%d\\n\", r);\n",
    "    r = is_prime_number(113);\n",
    "    printf(\"%d\\n\", r);\n",
    "    r = is_prime_number(7919);\n",
    "    printf(\"%d\\n\", r);\n",
    "    return (0);\n",
    "}"
   ]
  },
  {
   "cell_type": "code",
   "execution_count": 13,
   "metadata": {},
   "outputs": [
    {
     "name": "stdout",
     "output_type": "stream",
     "text": [
      "Overwriting 0x08-recursion/main.h\n"
     ]
    }
   ],
   "source": [
    "%%file 0x09-static_libraries/main.h\n",
    "#ifndef FILE_MAIN\n",
    "#define FILE_MAIN\n",
    "\n",
    "#include <stdio.h>\n",
    "int _putchar(char c);\n",
    "void _puts_recursion(char *s);\n",
    "void _print_rev_recursion(char *s);\n",
    "int _strlen_recursion(char *s);\n",
    "int factorial(int n);\n",
    "int _pow_recursion(int x, int y);\n",
    "int _sqrt_recursion(int n);\n",
    "int is_prime_number(int n);\n",
    "\n",
    "#endif\n"
   ]
  },
  {
   "cell_type": "code",
   "execution_count": 14,
   "metadata": {},
   "outputs": [
    {
     "name": "stdout",
     "output_type": "stream",
     "text": [
      "Overwriting 0x08-recursion/6-is_prime_number.c\n"
     ]
    }
   ],
   "source": [
    "%%file 0x09-static_libraries/6-is_prime_number.c\n",
    "#include \"main.h\"\n",
    "\n",
    "/**\n",
    "* is_prime_helper - recursively checks if n is divisible by any number\n",
    "* from 2 to sqrt(n)\n",
    "* @n: the number to check\n",
    "* @i: current divisor to check\n",
    "*\n",
    "* Return: 1 if n is prime, otherwise 0\n",
    "*/\n",
    "int is_prime_helper(int n, int i)\n",
    "{\n",
    "if (i * i > n)\n",
    "return (1);\n",
    "if (n % i == 0)\n",
    "return (0);\n",
    "return (is_prime_helper(n, i + 1));\n",
    "}\n",
    "\n",
    "/**\n",
    "* is_prime_number - checks if a number is a prime number\n",
    "* @n: the number to check\n",
    "*\n",
    "* Return: 1 if n is prime, otherwise 0\n",
    "*/\n",
    "int is_prime_number(int n)\n",
    "{\n",
    "if (n <= 1)\n",
    "return (0);\n",
    "return (is_prime_helper(n, 2));\n",
    "}\n"
   ]
  },
  {
   "cell_type": "code",
   "execution_count": 16,
   "metadata": {},
   "outputs": [
    {
     "name": "stdout",
     "output_type": "stream",
     "text": [
      "\n",
      "========== 0x08-recursion/6-is_prime_number.c ==========\n",
      "is_prime_helper\n",
      "is_prime_number\n",
      "0\n",
      "0\n",
      "0\n",
      "1\n",
      "0\n",
      "0\n",
      "1\n",
      "1\n"
     ]
    }
   ],
   "source": [
    "%%bash\n",
    "betty 0x09-static_libraries/6-is_prime_number.c\n",
    "gcc -Wall -pedantic -Werror -Wextra -std=gnu89 0x09-static_libraries/6-main.c 0x09-static_libraries/6-is_prime_number.c -o 0x09-static_libraries/6-prime\n",
    "./0x09-static_libraries/6-prime"
   ]
  },
  {
   "cell_type": "code",
   "execution_count": 17,
   "metadata": {},
   "outputs": [
    {
     "name": "stdout",
     "output_type": "stream",
     "text": [
      "[main 60d53de] alx-low_level_programming/0x08-recursion\n",
      " 2 files changed, 24 insertions(+), 1 deletion(-)\n",
      " create mode 100644 0x08-recursion/100-main.c\n"
     ]
    },
    {
     "name": "stderr",
     "output_type": "stream",
     "text": [
      "To https://github.com/elkomysara/alx-low_level_programming.git\n",
      "   03daa67..60d53de  main -> main\n"
     ]
    }
   ],
   "source": [
    "%%bash\n",
    "git add .\n",
    "git commit -m \"alx-low_level_programming/0x09-static_libraries\"\n",
    "git push"
   ]
  },
  {
   "cell_type": "code",
   "execution_count": null,
   "metadata": {},
   "outputs": [],
   "source": []
  },
  {
   "cell_type": "markdown",
   "metadata": {},
   "source": [
    "###\n",
    "---\n",
    "<center>\n",
    "<h4> 7. They say we only use a fraction of our brain's true potential. Now that's when we're awake. When we're asleep, we can do almost anything\n",
    " </h4>\n",
    "</center>\n",
    "\n",
    "---"
   ]
  },
  {
   "cell_type": "markdown",
   "metadata": {},
   "source": [
    "\n",
    "####  Write a function that returns `1` if a string is a palindrome and `0` if not.\n",
    "\n",
    "* Prototype: `int is_palindrome(char *s);`\n",
    "* An empty string is a palindrome\n",
    "\n",
    "```bash\n",
    "julien@ubuntu:~/0x08. Recursion$ cat 100-main.c\n",
    "#include \"main.h\"\n",
    "#include <stdio.h>\n",
    "\n",
    "/**\n",
    " * main - check the code\n",
    " *\n",
    " * Return: Always 0.\n",
    " */\n",
    "int main(void)\n",
    "{\n",
    "    int r;\n",
    "\n",
    "    r = is_palindrome(\"level\");\n",
    "    printf(\"%d\\n\", r);\n",
    "    r = is_palindrome(\"redder\");\n",
    "    printf(\"%d\\n\", r);\n",
    "    r = is_palindrome(\"test\");\n",
    "    printf(\"%d\\n\", r);\n",
    "    r = is_palindrome(\"step on no pets\");\n",
    "    printf(\"%d\\n\", r);\n",
    "    return (0);\n",
    "}\n",
    "julien@ubuntu:~/0x08. Recursion$ gcc -Wall -pedantic -Werror -Wextra -std=gnu89 100-main.c 100-is_palindrome.c -o 100-palindrome\n",
    "julien@ubuntu:~/0x08. Recursion$ ./100-palindrome \n",
    "1\n",
    "1\n",
    "0\n",
    "1\n",
    "julien@ubuntu:~/0x08. Recursion$\n",
    "  \n",
    "```\n",
    "\n",
    "#### Repo:\n",
    "* GitHub repository: ``` alx-low_level_programming ```\n",
    "* Directory: ```0x08-recursion``` \n",
    "* File: ```100-is_palindrome.c```"
   ]
  },
  {
   "cell_type": "code",
   "execution_count": 24,
   "metadata": {},
   "outputs": [
    {
     "name": "stdout",
     "output_type": "stream",
     "text": [
      "Overwriting 0x08-recursion/100-main.c\n"
     ]
    }
   ],
   "source": [
    "%%file 0x09-static_libraries/100-main.c\n",
    "#include \"main.h\"\n",
    "#include <stdio.h>\n",
    "\n",
    "/**\n",
    " * main - check the code\n",
    " *\n",
    " * Return: Always 0.\n",
    " */\n",
    "int main(void)\n",
    "{\n",
    "    int r;\n",
    "\n",
    "    r = is_palindrome(\"level\");\n",
    "    printf(\"%d\\n\", r);\n",
    "    r = is_palindrome(\"redder\");\n",
    "    printf(\"%d\\n\", r);\n",
    "    r = is_palindrome(\"test\");\n",
    "    printf(\"%d\\n\", r);\n",
    "    r = is_palindrome(\"step on no pets\");\n",
    "    printf(\"%d\\n\", r);\n",
    "    return (0);\n",
    "}"
   ]
  },
  {
   "cell_type": "code",
   "execution_count": 28,
   "metadata": {},
   "outputs": [
    {
     "name": "stdout",
     "output_type": "stream",
     "text": [
      "Overwriting 0x08-recursion/main.h\n"
     ]
    }
   ],
   "source": [
    "%%file 0x09-static_libraries/main.h\n",
    "#ifndef FILE_MAIN\n",
    "#define FILE_MAIN\n",
    "\n",
    "#include <stdio.h>\n",
    "int _putchar(char c);\n",
    "void _puts_recursion(char *s);\n",
    "void _print_rev_recursion(char *s);\n",
    "int _strlen_recursion(char *s);\n",
    "int factorial(int n);\n",
    "int _pow_recursion(int x, int y);\n",
    "int _sqrt_recursion(int n);\n",
    "int is_prime_number(int n);\n",
    "int is_palindrome(char *s);\n",
    "#endif\n"
   ]
  },
  {
   "cell_type": "code",
   "execution_count": 31,
   "metadata": {},
   "outputs": [
    {
     "name": "stdout",
     "output_type": "stream",
     "text": [
      "Overwriting 0x08-recursion/100-is_palindrome.c\n"
     ]
    }
   ],
   "source": [
    "%%file 0x09-static_libraries/100-is_palindrome.c\n",
    "#include \"main.h\"\n",
    "\n",
    "/**\n",
    "* _strlen - returns the length of a string\n",
    "* @s: the string to measure\n",
    "*\n",
    "* Return: the length of the string\n",
    "*/\n",
    "int _strlen(char *s)\n",
    "{\n",
    "if (*s == '\\0')\n",
    "return (0);\n",
    "return (1 + _strlen(s + 1));\n",
    "}\n",
    "\n",
    "/**\n",
    "* check_palindrome - recursively checks if a string is a palindrome\n",
    "* @s: the string to check\n",
    "* @start: the starting index\n",
    "* @end: the ending index\n",
    "*\n",
    "* Return: 1 if the string is a palindrome, otherwise 0\n",
    "*/\n",
    "int check_palindrome(char *s, int start, int end)\n",
    "{\n",
    "if (start >= end)\n",
    "return (1);\n",
    "if (s[start] != s[end])\n",
    "return (0);\n",
    "return (check_palindrome(s, start + 1, end - 1));\n",
    "}\n",
    "\n",
    "/**\n",
    "* is_palindrome - checks if a string is a palindrome\n",
    "* @s: the string to check\n",
    "*\n",
    "* Return: 1 if the string is a palindrome, otherwise 0\n",
    "*/\n",
    "int is_palindrome(char *s)\n",
    "{\n",
    "int len = _strlen(s);\n",
    "if (len == 0)\n",
    "return (1);\n",
    "return (check_palindrome(s, 0, len - 1));\n",
    "}\n"
   ]
  },
  {
   "cell_type": "code",
   "execution_count": 32,
   "metadata": {},
   "outputs": [
    {
     "name": "stdout",
     "output_type": "stream",
     "text": [
      "\n",
      "========== 0x08-recursion/100-is_palindrome.c ==========\n",
      "_strlen\n",
      "check_palindrome\n",
      "is_palindrome\n",
      "1\n",
      "1\n",
      "0\n",
      "1\n"
     ]
    }
   ],
   "source": [
    "%%bash\n",
    "betty 0x09-static_libraries/100-is_palindrome.c \n",
    "gcc -Wall -pedantic -Werror -Wextra -std=gnu89 0x09-static_libraries/100-main.c 0x09-static_libraries/100-is_palindrome.c -o 0x09-static_libraries/100-palindrome\n",
    "./0x09-static_libraries/100-palindrome"
   ]
  },
  {
   "cell_type": "code",
   "execution_count": 33,
   "metadata": {},
   "outputs": [
    {
     "name": "stdout",
     "output_type": "stream",
     "text": [
      "[main df19aac] alx-low_level_programming/0x08-recursion\n",
      " 3 files changed, 46 insertions(+), 1 deletion(-)\n",
      " create mode 100644 0x08-recursion/100-is_palindrome.c\n",
      " create mode 100755 0x08-recursion/100-palindrome\n"
     ]
    },
    {
     "name": "stderr",
     "output_type": "stream",
     "text": [
      "To https://github.com/elkomysara/alx-low_level_programming.git\n",
      "   60d53de..df19aac  main -> main\n"
     ]
    }
   ],
   "source": [
    "%%bash\n",
    "git add .\n",
    "git commit -m \"alx-low_level_programming/0x09-static_libraries\"\n",
    "git push"
   ]
  },
  {
   "cell_type": "markdown",
   "metadata": {},
   "source": [
    "###\n",
    "---\n",
    "<center>\n",
    "<h4> 8. Inception. Now, before you bother telling me it's impossible...\n",
    " </h4>\n",
    "</center>\n",
    "\n",
    "---"
   ]
  },
  {
   "cell_type": "markdown",
   "metadata": {},
   "source": [
    "\n",
    "####  Write a function that compares two strings and returns `1` if the strings can be considered identical, otherwise return `0`.\n",
    "\n",
    "* Prototype: `int wildcmp(char *s1, char *s2);`\n",
    "* `s2` can contain the special character `*`.\n",
    "* The special char `*` can replace any string (including an empty string)\n",
    "\n",
    "```bash\n",
    "julien@ubuntu:~/0x08. Recursion$ cat 101-main.c\n",
    "#include \"main.h\"\n",
    "#include <stdio.h>\n",
    "\n",
    "/**\n",
    " * main - check the code\n",
    " *\n",
    " * Return: Always 0.\n",
    " */\n",
    "int main(void)\n",
    "{\n",
    "    int r;\n",
    "\n",
    "    r = wildcmp(\"main.c\", \"*.c\");\n",
    "    printf(\"%d\\n\", r);\n",
    "    r = wildcmp(\"main.c\", \"m*a*i*n*.*c*\");\n",
    "    printf(\"%d\\n\", r);\n",
    "    r = wildcmp(\"main.c\", \"main.c\");\n",
    "    printf(\"%d\\n\", r);\n",
    "    r = wildcmp(\"main.c\", \"m*c\");\n",
    "    printf(\"%d\\n\", r);\n",
    "    r = wildcmp(\"main.c\", \"ma********************************c\");\n",
    "    printf(\"%d\\n\", r);\n",
    "    r = wildcmp(\"main.c\", \"*\");\n",
    "    printf(\"%d\\n\", r);\n",
    "    r = wildcmp(\"main.c\", \"***\");\n",
    "    printf(\"%d\\n\", r);\n",
    "    r = wildcmp(\"main.c\", \"m.*c\");\n",
    "    printf(\"%d\\n\", r);\n",
    "    r = wildcmp(\"main.c\", \"**.*c\");\n",
    "    printf(\"%d\\n\", r);\n",
    "    r = wildcmp(\"main-main.c\", \"ma*in.c\");\n",
    "    printf(\"%d\\n\", r);\n",
    "    r = wildcmp(\"main\", \"main*d\");\n",
    "    printf(\"%d\\n\", r);\n",
    "    r = wildcmp(\"abc\", \"*b\");\n",
    "    printf(\"%d\\n\", r);\n",
    "    return (0);\n",
    "}\n",
    "julien@ubuntu:~/0x08. Recursion$ gcc -Wall -pedantic -Werror -Wextra -std=gnu89 101-main.c 101-wildcmp.c -o 101-wildcmp\n",
    "julien@ubuntu:~/0x08. Recursion$ ./101-wildcmp \n",
    "1\n",
    "1\n",
    "1\n",
    "1\n",
    "1\n",
    "1\n",
    "1\n",
    "0\n",
    "1\n",
    "1\n",
    "0\n",
    "0\n",
    "julien@ubuntu:~/0x08. Recursion$ \n",
    " ```\n",
    "\n",
    "#### Repo:\n",
    "* GitHub repository: ``` alx-low_level_programming ```\n",
    "* Directory: ```0x08-recursion``` \n",
    "* File: ```101-wildcmp.c```"
   ]
  },
  {
   "cell_type": "code",
   "execution_count": 34,
   "metadata": {},
   "outputs": [
    {
     "name": "stdout",
     "output_type": "stream",
     "text": [
      "Writing 0x08-recursion/101-main.c\n"
     ]
    }
   ],
   "source": [
    "%%file 0x09-static_libraries/101-main.c\n",
    "#include \"main.h\"\n",
    "#include <stdio.h>\n",
    "\n",
    "/**\n",
    " * main - check the code\n",
    " *\n",
    " * Return: Always 0.\n",
    " */\n",
    "int main(void)\n",
    "{\n",
    "    int r;\n",
    "\n",
    "    r = wildcmp(\"main.c\", \"*.c\");\n",
    "    printf(\"%d\\n\", r);\n",
    "    r = wildcmp(\"main.c\", \"m*a*i*n*.*c*\");\n",
    "    printf(\"%d\\n\", r);\n",
    "    r = wildcmp(\"main.c\", \"main.c\");\n",
    "    printf(\"%d\\n\", r);\n",
    "    r = wildcmp(\"main.c\", \"m*c\");\n",
    "    printf(\"%d\\n\", r);\n",
    "    r = wildcmp(\"main.c\", \"ma********************************c\");\n",
    "    printf(\"%d\\n\", r);\n",
    "    r = wildcmp(\"main.c\", \"*\");\n",
    "    printf(\"%d\\n\", r);\n",
    "    r = wildcmp(\"main.c\", \"***\");\n",
    "    printf(\"%d\\n\", r);\n",
    "    r = wildcmp(\"main.c\", \"m.*c\");\n",
    "    printf(\"%d\\n\", r);\n",
    "    r = wildcmp(\"main.c\", \"**.*c\");\n",
    "    printf(\"%d\\n\", r);\n",
    "    r = wildcmp(\"main-main.c\", \"ma*in.c\");\n",
    "    printf(\"%d\\n\", r);\n",
    "    r = wildcmp(\"main\", \"main*d\");\n",
    "    printf(\"%d\\n\", r);\n",
    "    r = wildcmp(\"abc\", \"*b\");\n",
    "    printf(\"%d\\n\", r);\n",
    "    return (0);\n",
    "}"
   ]
  },
  {
   "cell_type": "code",
   "execution_count": 35,
   "metadata": {},
   "outputs": [
    {
     "name": "stdout",
     "output_type": "stream",
     "text": [
      "Overwriting 0x08-recursion/main.h\n"
     ]
    }
   ],
   "source": [
    "%%file 0x09-static_libraries/main.h\n",
    "#ifndef FILE_MAIN\n",
    "#define FILE_MAIN\n",
    "\n",
    "#include <stdio.h>\n",
    "\n",
    "int _putchar(char c);\n",
    "void _puts_recursion(char *s);\n",
    "void _print_rev_recursion(char *s);\n",
    "int _strlen_recursion(char *s);\n",
    "int factorial(int n);\n",
    "int _pow_recursion(int x, int y);\n",
    "int _sqrt_recursion(int n);\n",
    "int is_prime_number(int n);\n",
    "int is_palindrome(char *s);\n",
    "int wildcmp(char *s1, char *s2);\n",
    "#endif\n"
   ]
  },
  {
   "cell_type": "code",
   "execution_count": 36,
   "metadata": {},
   "outputs": [
    {
     "name": "stdout",
     "output_type": "stream",
     "text": [
      "Writing 0x08-recursion/101-wildcmp.c\n"
     ]
    }
   ],
   "source": [
    "%%file 0x09-static_libraries/101-wildcmp.c\n",
    "#include \"main.h\"\n",
    "\n",
    "/**\n",
    "* wildcmp - compares two strings and returns 1 if the strings can be\n",
    "* considered identical, otherwise returns 0.\n",
    "* @s1: the first string\n",
    "* @s2: the second string, which can contain the special character *\n",
    "*\n",
    "* Return: 1 if the strings can be considered identical, otherwise 0\n",
    "*/\n",
    "int wildcmp(char *s1, char *s2)\n",
    "{\n",
    "if (*s2 == '\\0')\n",
    "return (*s1 == '\\0');\n",
    "if (*s2 == '*')\n",
    "{\n",
    "if (wildcmp(s1, s2 + 1))\n",
    "return (1);\n",
    "if (*s1 && wildcmp(s1 + 1, s2))\n",
    "return (1);\n",
    "}\n",
    "else if (*s1 == *s2)\n",
    "{\n",
    "return (wildcmp(s1 + 1, s2 + 1));\n",
    "}\n",
    "return (0);\n",
    "}\n",
    "\n"
   ]
  },
  {
   "cell_type": "code",
   "execution_count": 37,
   "metadata": {},
   "outputs": [
    {
     "name": "stdout",
     "output_type": "stream",
     "text": [
      "\n",
      "========== 0x08-recursion/101-wildcmp.c ==========\n"
     ]
    },
    {
     "name": "stdout",
     "output_type": "stream",
     "text": [
      "wildcmp\n",
      "1\n",
      "1\n",
      "1\n",
      "1\n",
      "1\n",
      "1\n",
      "1\n",
      "0\n",
      "1\n",
      "1\n",
      "0\n",
      "0\n"
     ]
    }
   ],
   "source": [
    "%%bash\n",
    "betty 0x09-static_libraries/101-wildcmp.c\n",
    "gcc -Wall -pedantic -Werror -Wextra -std=gnu89 0x09-static_libraries/101-main.c 0x09-static_libraries/101-wildcmp.c -o 0x09-static_libraries/101-wildcmp\n",
    "./0x09-static_libraries/101-wildcmp"
   ]
  },
  {
   "cell_type": "code",
   "execution_count": 38,
   "metadata": {},
   "outputs": [
    {
     "name": "stdout",
     "output_type": "stream",
     "text": [
      "[main d1d6eaa] alx-low_level_programming/0x08-recursion\n",
      " 4 files changed, 68 insertions(+)\n",
      " create mode 100644 0x08-recursion/101-main.c\n",
      " create mode 100755 0x08-recursion/101-wildcmp\n",
      " create mode 100644 0x08-recursion/101-wildcmp.c\n"
     ]
    },
    {
     "name": "stderr",
     "output_type": "stream",
     "text": [
      "To https://github.com/elkomysara/alx-low_level_programming.git\n",
      "   df19aac..d1d6eaa  main -> main\n"
     ]
    }
   ],
   "source": [
    "%%bash\n",
    "git add .\n",
    "git commit -m \"alx-low_level_programming/0x09-static_libraries\"\n",
    "git push"
   ]
  },
  {
   "cell_type": "code",
   "execution_count": null,
   "metadata": {},
   "outputs": [],
   "source": []
  }
 ],
 "metadata": {
  "kernelspec": {
   "display_name": "Python 3",
   "language": "python",
   "name": "python3"
  },
  "language_info": {
   "codemirror_mode": {
    "name": "ipython",
    "version": 3
   },
   "file_extension": ".py",
   "mimetype": "text/x-python",
   "name": "python",
   "nbconvert_exporter": "python",
   "pygments_lexer": "ipython3",
   "version": "3.12.3"
  }
 },
 "nbformat": 4,
 "nbformat_minor": 2
}
