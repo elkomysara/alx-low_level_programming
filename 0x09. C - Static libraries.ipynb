{
 "cells": [
  {
   "cell_type": "markdown",
   "metadata": {},
   "source": [
    "---\n",
    "<center>\n",
    "<h1>  alx-low_level_programming </h1>\n",
    "</center>\n",
    "\n",
    "---\n"
   ]
  },
  {
   "cell_type": "code",
   "execution_count": 1,
   "metadata": {},
   "outputs": [],
   "source": [
    "import os\n",
    "# creating 0x02-shell_redirectionss\n",
    "\n",
    "folder_path = r'/home/elkomy/alx/alx-low_level_programming/0x09-static_libraries'\n",
    "if not os.path.exists(folder_path):\n",
    "    os.makedirs(folder_path)\n",
    "\n",
    "# Create a README.md inside alx-low_level_programming/0x09-static_libraries\n",
    "file_path = os.path.join(folder_path, 'README.md')\n",
    "\n",
    "with open(file_path, 'w') as file:\n",
    "    file.write(\"This is a README.md file inside alx-low_level_programming/0x09-static_libraries\")\n",
    "\n"
   ]
  },
  {
   "cell_type": "code",
   "execution_count": 3,
   "metadata": {},
   "outputs": [
    {
     "name": "stdout",
     "output_type": "stream",
     "text": [
      "Overwriting /home/elkomy/alx/alx-low_level_programming/0x07-pointers_arrays_strings/README.md\n"
     ]
    }
   ],
   "source": [
    "%%file /home/elkomy/alx/alx-low_level_programming/0x09-static_libraries/README.md\n",
    "This is a README.md"
   ]
  },
  {
   "cell_type": "code",
   "execution_count": null,
   "metadata": {},
   "outputs": [],
   "source": []
  },
  {
   "cell_type": "markdown",
   "metadata": {},
   "source": [
    "###\n",
    "---\n",
    "<center>\n",
    "<h1> 0x09. C - Static libraries  </h1>\n",
    "</center>\n",
    "\n",
    "---\n"
   ]
  },
  {
   "cell_type": "code",
   "execution_count": 11,
   "metadata": {},
   "outputs": [
    {
     "name": "stdout",
     "output_type": "stream",
     "text": [
      "Overwriting 0x08-recursion/q1.c\n"
     ]
    }
   ],
   "source": [
    "%%file 0x09-static_libraries/q1.c\n",
    "#include <stdio.h>\n",
    "int print(int nb)\n",
    "{\n",
    "    if (nb < 0) \n",
    "    {\n",
    "        return (0);\n",
    "    }\n",
    "    printf(\"%d\", nb + print(nb - 1));\n",
    "    nb --;\n",
    "    return (nb);\n",
    "}\n",
    "int main(void)\n",
    "{\n",
    "    print(4);\n",
    "    return (0);\n",
    "}"
   ]
  },
  {
   "cell_type": "code",
   "execution_count": 13,
   "metadata": {},
   "outputs": [
    {
     "name": "stdout",
     "output_type": "stream",
     "text": [
      "00246"
     ]
    }
   ],
   "source": [
    "%%bash\n",
    "gcc 0x09-static_libraries/q1.c -o 0x09-static_libraries/q1\n",
    "./0x09-static_libraries/q1"
   ]
  },
  {
   "cell_type": "markdown",
   "metadata": {},
   "source": [
    "###\n",
    "---\n",
    "<center>\n",
    "<h4> 0. A library is not a luxury but one of the necessities of life</h4>\n",
    "</center>\n",
    "\n",
    "---"
   ]
  },
  {
   "cell_type": "markdown",
   "metadata": {},
   "source": [
    "\n",
    "#### Create the static library libmy.a containing all the functions listed below:\n",
    "\n",
    "```bash\n",
    "jint _putchar(char c);\n",
    "int _islower(int c);\n",
    "int _isalpha(int c);\n",
    "int _abs(int n);\n",
    "int _isupper(int c);\n",
    "int _isdigit(int c);\n",
    "int _strlen(char *s);\n",
    "void _puts(char *s);\n",
    "char *_strcpy(char *dest, char *src);\n",
    "int _atoi(char *s);\n",
    "char *_strcat(char *dest, char *src);\n",
    "char *_strncat(char *dest, char *src, int n);\n",
    "char *_strncpy(char *dest, char *src, int n);\n",
    "int _strcmp(char *s1, char *s2);\n",
    "char *_memset(char *s, char b, unsigned int n);\n",
    "char *_memcpy(char *dest, char *src, unsigned int n);\n",
    "char *_strchr(char *s, char c);\n",
    "unsigned int _strspn(char *s, char *accept);\n",
    "char *_strpbrk(char *s, char *accept);\n",
    "char *_strstr(char *haystack, char *needle);\n",
    "```\n",
    "#### If you haven’t coded all of the above functions create empty ones with the right prototype.\n",
    "Don’t forget to push your `main.h` file to your repository. It should at least contain all the prototypes of the above functions.\n",
    "\n",
    "```bash\n",
    "julien@ubuntu:~/0x09. Static Librairies$ ar -t libmy.a \n",
    "0-isupper.o\n",
    "0-memset.o\n",
    "0-strcat.o\n",
    "1-isdigit.o\n",
    "1-memcpy.o\n",
    "1-strncat.o\n",
    "100-atoi.o\n",
    "2-strchr.o\n",
    "2-strlen.o\n",
    "2-strncpy.o\n",
    "3-islower.o\n",
    "3-puts.o\n",
    "3-strcmp.o\n",
    "3-strspn.o\n",
    "4-isalpha.o\n",
    "4-strpbrk.o\n",
    "5-strstr.o\n",
    "6-abs.o\n",
    "9-strcpy.o\n",
    "_putchar.o\n",
    "julien@ubuntu:~/0x09. Static Librairies$ nm libmy.a \n",
    "\n",
    "0-isupper.o:\n",
    "0000000000000000 T _isupper\n",
    "\n",
    "0-memset.o:\n",
    "0000000000000000 T _memset\n",
    "\n",
    "0-strcat.o:\n",
    "0000000000000000 T _strcat\n",
    "\n",
    "1-isdigit.o:\n",
    "0000000000000000 T _isdigit\n",
    "\n",
    "1-memcpy.o:\n",
    "0000000000000000 T _memcpy\n",
    "\n",
    "1-strncat.o:\n",
    "0000000000000000 T _strncat\n",
    "\n",
    "100-atoi.o:\n",
    "0000000000000000 T _atoi\n",
    "\n",
    "2-strchr.o:\n",
    "0000000000000000 T _strchr\n",
    "\n",
    "2-strlen.o:\n",
    "0000000000000000 T _strlen\n",
    "\n",
    "2-strncpy.o:\n",
    "0000000000000000 T _strncpy\n",
    "\n",
    "3-islower.o:\n",
    "0000000000000000 T _islower\n",
    "\n",
    "3-puts.o:\n",
    "                 U _putchar\n",
    "0000000000000000 T _puts\n",
    "\n",
    "3-strcmp.o:\n",
    "0000000000000000 T _strcmp\n",
    "\n",
    "3-strspn.o:\n",
    "0000000000000000 T _strspn\n",
    "\n",
    "4-isalpha.o:\n",
    "0000000000000000 T _isalpha\n",
    "\n",
    "4-strpbrk.o:\n",
    "0000000000000000 T _strpbrk\n",
    "\n",
    "5-strstr.o:\n",
    "0000000000000000 T _strstr\n",
    "\n",
    "6-abs.o:\n",
    "0000000000000000 T _abs\n",
    "\n",
    "9-strcpy.o:\n",
    "0000000000000000 T _strcpy\n",
    "\n",
    "_putchar.o:\n",
    "0000000000000000 T _putchar\n",
    "                 U write\n",
    "julien@ubuntu:~/0x09. Static Librairies$ cat main.c \n",
    "#include \"main.h\"\n",
    "\n",
    "int main(void)\n",
    "{\n",
    "    _puts(\"\\\"At the end of the day, my goal was to be the best hacker\\\"\\n\\t- Kevin Mitnick\");\n",
    "    return (0);\n",
    "}\n",
    "julien@ubuntu:~/0x09. Static Librairies$ gcc -std=gnu89 main.c -L. -lmy -o quote\n",
    "julien@ubuntu:~/0x09. Static Librairies$ ./quote \n",
    "\"At the end of the day, my goal was to be the best hacker\"\n",
    "    - Kevin Mitnick\n",
    "julien@ubuntu:~/0x09. Static Librairies$ \n",
    "```\n",
    "\n",
    "#### Repo:\n",
    "* GitHub repository: ``` alx-low_level_programming ```\n",
    "* Directory: ```0x09-static_libraries``` \n",
    "* File: ```libmy.a, main.h```"
   ]
  },
  {
   "cell_type": "markdown",
   "metadata": {},
   "source": [
    "##### _putchar"
   ]
  },
  {
   "cell_type": "code",
   "execution_count": 149,
   "metadata": {},
   "outputs": [
    {
     "name": "stdout",
     "output_type": "stream",
     "text": [
      "Overwriting 0x09-static_libraries/0-putchar.c\n"
     ]
    }
   ],
   "source": [
    "%%file 0x09-static_libraries/0-putchar.c\n",
    "#include \"main.h\"\n",
    "\n",
    "/**\n",
    " * main - Entry point\n",
    " *\n",
    " * Return: Always 0 (Success)\n",
    " */\n",
    "\n",
    "int main(void)\n",
    "{\n",
    "char str[] = \"_putchar\";\n",
    "int x;\n",
    "for (x = 0; x < 8; x++)\n",
    "{\n",
    "_putchar(str[x]);\n",
    "}\n",
    "_putchar('\\n');\n",
    "return (0);\n",
    "}"
   ]
  },
  {
   "cell_type": "code",
   "execution_count": 150,
   "metadata": {},
   "outputs": [
    {
     "name": "stdout",
     "output_type": "stream",
     "text": [
      "Overwriting 0x09-static_libraries/main.h\n"
     ]
    }
   ],
   "source": [
    "%%file 0x09-static_libraries/main.h\n",
    "#ifndef MAIN_H\n",
    "#define MAIN_H\n",
    "\n",
    "#include <stdio.h>\n",
    "\n",
    "int _putchar(char c);\n",
    "\n",
    "#endif"
   ]
  },
  {
   "cell_type": "code",
   "execution_count": 151,
   "metadata": {},
   "outputs": [
    {
     "name": "stdout",
     "output_type": "stream",
     "text": [
      "Overwriting 0x09-static_libraries/_putchar.c\n"
     ]
    }
   ],
   "source": [
    "%%file 0x09-static_libraries/_putchar.c\n",
    "#include <unistd.h>\n",
    "#include \"main.h\"\n",
    "/**\n",
    " * _putchar - writes the character c to stdout\n",
    " * @c: The character to print\n",
    " *\n",
    " * Return: On success 1.\n",
    " * On error, -1 is returned, and errno is set appropriately.\n",
    " */\n",
    "int _putchar(char c)\n",
    "{\n",
    "\treturn (write(1, &c, 1));\n",
    "}"
   ]
  },
  {
   "cell_type": "code",
   "execution_count": 152,
   "metadata": {},
   "outputs": [
    {
     "name": "stdout",
     "output_type": "stream",
     "text": [
      "\n",
      "========== 0x09-static_libraries/0-putchar.c ==========\n",
      "main\n"
     ]
    },
    {
     "name": "stdout",
     "output_type": "stream",
     "text": [
      "_putchar\n"
     ]
    }
   ],
   "source": [
    "%%bash\n",
    "betty 0x09-static_libraries/0-putchar.c\n",
    "gcc -Wall -pedantic -Werror -Wextra -std=gnu89 0x09-static_libraries/_putchar.c 0x09-static_libraries/0-putchar.c -o 0x09-static_libraries/0-putchar\n",
    "./0x09-static_libraries/0-putchar\n"
   ]
  },
  {
   "cell_type": "code",
   "execution_count": 153,
   "metadata": {},
   "outputs": [
    {
     "name": "stdout",
     "output_type": "stream",
     "text": [
      "[main f4b7763] alx-low_level_programming/0x09-static_libraries/0-putchar\n",
      " 1 file changed, 2 insertions(+), 7 deletions(-)\n"
     ]
    },
    {
     "name": "stderr",
     "output_type": "stream",
     "text": [
      "To https://github.com/elkomysara/alx-low_level_programming.git\n",
      "   4eb8589..f4b7763  main -> main\n"
     ]
    }
   ],
   "source": [
    "%%bash\n",
    "git add .\n",
    "git commit -m \"alx-low_level_programming/0x09-static_libraries/0-putchar\"\n",
    "git push"
   ]
  },
  {
   "cell_type": "markdown",
   "metadata": {},
   "source": [
    "##### _islower"
   ]
  },
  {
   "cell_type": "code",
   "execution_count": 154,
   "metadata": {},
   "outputs": [
    {
     "name": "stdout",
     "output_type": "stream",
     "text": [
      "Overwriting 0x09-static_libraries/3-islower.c\n"
     ]
    }
   ],
   "source": [
    "%%file 0x09-static_libraries/3-islower.c\n",
    "#include \"main.h\"\n",
    "/**\n",
    "* _islower - Checks for lowercase character\n",
    "* @c: The character to be checked\n",
    "*\n",
    "* Return: 1 for lowercase character or 0 for anything else\n",
    "*/\n",
    "\n",
    "int _islower(int c)\n",
    "{\n",
    "if (c >= 97 && c <= 122)\n",
    "{\n",
    "return (1);\n",
    "}\n",
    "\n",
    "return (0);\n",
    "}"
   ]
  },
  {
   "cell_type": "code",
   "execution_count": 155,
   "metadata": {},
   "outputs": [
    {
     "name": "stdout",
     "output_type": "stream",
     "text": [
      "Overwriting 0x09-static_libraries/3-main.c\n"
     ]
    }
   ],
   "source": [
    "%%file 0x09-static_libraries/3-main.c \n",
    "#include \"main.h\"\n",
    "\n",
    "/**\n",
    " * main - check the code.\n",
    " *\n",
    " * Return: Always 0.\n",
    " */\n",
    "int main(void)\n",
    "{\n",
    "    int r;\n",
    "\n",
    "    r = _islower('H');\n",
    "    _putchar(r + '0');\n",
    "    r = _islower('o');\n",
    "    _putchar(r + '0');\n",
    "    r = _islower(108);\n",
    "    _putchar(r + '0');\n",
    "    _putchar('\\n');\n",
    "    return (0);\n",
    "}\n"
   ]
  },
  {
   "cell_type": "code",
   "execution_count": 156,
   "metadata": {},
   "outputs": [
    {
     "name": "stdout",
     "output_type": "stream",
     "text": [
      "Overwriting 0x09-static_libraries/main.h\n"
     ]
    }
   ],
   "source": [
    "%%file 0x09-static_libraries/main.h\n",
    "#ifndef MAIN_H\n",
    "#define MAIN_H\n",
    "\n",
    "int _putchar(char x);\n",
    "int _islower(int x);\n",
    "\n",
    "#endif"
   ]
  },
  {
   "cell_type": "code",
   "execution_count": 157,
   "metadata": {},
   "outputs": [
    {
     "name": "stdout",
     "output_type": "stream",
     "text": [
      "\n",
      "========== 0x09-static_libraries/3-islower ==========\n",
      "0x09-static_libraries/3-islower:0: ERROR: Does not appear to be a unified-diff format patch\n",
      "total: 1 errors, 0 warnings, 0 lines checked\n",
      "011\n"
     ]
    }
   ],
   "source": [
    "%%bash\n",
    "betty 0x09-static_libraries/3-islower\n",
    "gcc -Wall -pedantic -Werror -Wextra -std=gnu89 0x09-static_libraries/_putchar.c 0x09-static_libraries/3-main.c 0x09-static_libraries/3-islower.c -o 0x09-static_libraries/3-islower\n",
    "./0x09-static_libraries/3-islower"
   ]
  },
  {
   "cell_type": "code",
   "execution_count": 158,
   "metadata": {},
   "outputs": [
    {
     "name": "stdout",
     "output_type": "stream",
     "text": [
      "[main 98d7b2d] 0x09-static_libraries/3-name\n",
      " 2 files changed, 11 insertions(+), 10 deletions(-)\n",
      "Enumerating objects: 7, done.\n",
      "Counting objects: 100% (7/7), done.\n",
      "Delta compression using up to 12 threads\n",
      "Compressing objects: 100% (4/4), done.\n",
      "Writing objects: 100% (4/4), 424 bytes | 424.00 KiB/s, done.\n",
      "Total 4 (delta 2), reused 0 (delta 0)\n",
      "remote: Resolving deltas: 100% (2/2), completed with 2 local objects.\u001b[K\n",
      "To https://github.com/elkomysara/alx-low_level_programming.git\n",
      "   f4b7763..98d7b2d  main -> main\n",
      "Branch 'main' set up to track remote branch 'main' from 'origin'.\n"
     ]
    }
   ],
   "source": [
    "!git add .\n",
    "!git commit -m \"0x09-static_libraries/3-name\"\n",
    "!git push -u origin main"
   ]
  },
  {
   "cell_type": "markdown",
   "metadata": {},
   "source": [
    "##### _isalpha"
   ]
  },
  {
   "cell_type": "code",
   "execution_count": 159,
   "metadata": {},
   "outputs": [
    {
     "name": "stdout",
     "output_type": "stream",
     "text": [
      "Overwriting 0x09-static_libraries/4-isalpha.c\n"
     ]
    }
   ],
   "source": [
    "%%file 0x09-static_libraries/4-isalpha.c\n",
    "#include \"main.h\"\n",
    "\n",
    "/**\n",
    " * _isalpha - checks for alphabetic character\n",
    " * @x: the character to be checked\n",
    " * Return: 1 if x is a letter, 0 otherwise\n",
    " */\n",
    "int _isalpha(int x)\n",
    "{\n",
    "return ((x >= 'a' && x <= 'z') || (x >= 'A' && x <= 'Z'));\n",
    "}"
   ]
  },
  {
   "cell_type": "code",
   "execution_count": 160,
   "metadata": {},
   "outputs": [
    {
     "name": "stdout",
     "output_type": "stream",
     "text": [
      "Overwriting 0x09-static_libraries/4-main.c\n"
     ]
    }
   ],
   "source": [
    "%%file 0x09-static_libraries/4-main.c \n",
    "#include \"main.h\"\n",
    "\n",
    "/**\n",
    " * main - check the code.\n",
    " *\n",
    " * Return: Always 0.\n",
    " */\n",
    "int main(void)\n",
    "{\n",
    "    int r;\n",
    "\n",
    "    r = _isalpha('H');\n",
    "    _putchar(r + '0');\n",
    "    r = _isalpha('o');\n",
    "    _putchar(r + '0');\n",
    "    r = _isalpha(108);\n",
    "    _putchar(r + '0');\n",
    "    r = _isalpha(';');\n",
    "    _putchar(r + '0');\n",
    "    _putchar('\\n');\n",
    "    return (0);\n",
    "}"
   ]
  },
  {
   "cell_type": "code",
   "execution_count": 161,
   "metadata": {},
   "outputs": [
    {
     "name": "stdout",
     "output_type": "stream",
     "text": [
      "Overwriting 0x09-static_libraries/main.h\n"
     ]
    }
   ],
   "source": [
    "%%file 0x09-static_libraries/main.h\n",
    "#ifndef MAIN_H\n",
    "#define MAIN_H\n",
    "\n",
    "#include <stdio.h>\n",
    "\n",
    "int _putchar(char x);\n",
    "int _islower(int x);\n",
    "int _isalpha(int x);\n",
    "\n",
    "#endif"
   ]
  },
  {
   "cell_type": "code",
   "execution_count": 162,
   "metadata": {},
   "outputs": [
    {
     "name": "stdout",
     "output_type": "stream",
     "text": [
      "\n",
      "========== 0x09-static_libraries/4-isalpha.c ==========\n",
      "_isalpha\n",
      "1110\n"
     ]
    }
   ],
   "source": [
    "%%bash\n",
    "betty 0x09-static_libraries/4-isalpha.c\n",
    "gcc -Wall -pedantic -Werror -Wextra -std=gnu89 0x09-static_libraries/_putchar.c 0x09-static_libraries/4-main.c 0x09-static_libraries/4-isalpha.c -o 0x09-static_libraries/4-isalpha\n",
    "./0x09-static_libraries/4-isalpha"
   ]
  },
  {
   "cell_type": "code",
   "execution_count": 163,
   "metadata": {},
   "outputs": [
    {
     "name": "stdout",
     "output_type": "stream",
     "text": [
      "[main 9d78af2] 0x02-shell_redirections/4-lastlines\n",
      " 2 files changed, 14 insertions(+), 7 deletions(-)\n",
      "Enumerating objects: 7, done.\n",
      "Counting objects: 100% (7/7), done.\n",
      "Delta compression using up to 12 threads\n",
      "Compressing objects: 100% (4/4), done.\n",
      "Writing objects: 100% (4/4), 456 bytes | 456.00 KiB/s, done.\n",
      "Total 4 (delta 2), reused 0 (delta 0)\n",
      "remote: Resolving deltas: 100% (2/2), completed with 2 local objects.\u001b[K\n",
      "To https://github.com/elkomysara/alx-low_level_programming.git\n",
      "   98d7b2d..9d78af2  main -> main\n",
      "Branch 'main' set up to track remote branch 'main' from 'origin'.\n"
     ]
    }
   ],
   "source": [
    "!git add .\n",
    "!git commit -m \"0x02-shell_redirections/4-lastlines\"\n",
    "!git push -u origin main"
   ]
  },
  {
   "cell_type": "markdown",
   "metadata": {},
   "source": [
    "##### _abs"
   ]
  },
  {
   "cell_type": "code",
   "execution_count": 164,
   "metadata": {},
   "outputs": [
    {
     "name": "stdout",
     "output_type": "stream",
     "text": [
      "Overwriting 0x09-static_libraries/6-abs.c\n"
     ]
    }
   ],
   "source": [
    "%%file 0x09-static_libraries/6-abs.c\n",
    "#include <stdio.h>\n",
    "/**\n",
    " * _abs - computes the absolute value of an integer\n",
    " * @x: the int to check\n",
    " * return: the absolute value of int\n",
    " * Return: Always 0 (Success)\n",
    "*/\n",
    "int _abs(int x)\n",
    "{\n",
    "if (x <= 0)\n",
    "{\n",
    "x = -x;\n",
    "}\n",
    "return (x);\n",
    "}"
   ]
  },
  {
   "cell_type": "code",
   "execution_count": 165,
   "metadata": {},
   "outputs": [
    {
     "name": "stdout",
     "output_type": "stream",
     "text": [
      "Overwriting 0x09-static_libraries/6-main.c\n"
     ]
    }
   ],
   "source": [
    "%%file 0x09-static_libraries/6-main.c\n",
    "#include \"main.h\"\n",
    "#include <stdio.h>\n",
    "\n",
    "/**\n",
    " * main - check the code\n",
    " *\n",
    " * Return: Always 0.\n",
    " */\n",
    "int main(void)\n",
    "{\n",
    "    int r;\n",
    "\n",
    "    r = _abs(-1);\n",
    "    printf(\"%d\\n\", r);\n",
    "    r = _abs(0);\n",
    "    printf(\"%d\\n\", r);\n",
    "    r = _abs(1);\n",
    "    printf(\"%d\\n\", r);\n",
    "    r = _abs(-98);\n",
    "    printf(\"%d\\n\", r);\n",
    "    return (0);\n",
    "}"
   ]
  },
  {
   "cell_type": "code",
   "execution_count": 166,
   "metadata": {},
   "outputs": [
    {
     "name": "stdout",
     "output_type": "stream",
     "text": [
      "Overwriting 0x09-static_libraries/main.h\n"
     ]
    }
   ],
   "source": [
    "%%file 0x09-static_libraries/main.h\n",
    "#ifndef MAIN_H\n",
    "#define MAIN_H\n",
    "\n",
    "#include <stdio.h>\n",
    "\n",
    "int _putchar(char x);\n",
    "int _islower(int x);\n",
    "int _isalpha(int x);\n",
    "int _abs(int);\n",
    "#endif"
   ]
  },
  {
   "cell_type": "code",
   "execution_count": 167,
   "metadata": {},
   "outputs": [
    {
     "name": "stdout",
     "output_type": "stream",
     "text": [
      "\n",
      "========== 0x09-static_libraries/6-abs.c ==========\n"
     ]
    },
    {
     "name": "stdout",
     "output_type": "stream",
     "text": [
      "_abs\n",
      "1\n",
      "0\n",
      "1\n",
      "98\n"
     ]
    }
   ],
   "source": [
    "%%bash\n",
    "betty 0x09-static_libraries/6-abs.c\n",
    "gcc -Wall -pedantic -Werror -Wextra -std=gnu89 0x09-static_libraries/_putchar.c 0x09-static_libraries/6-main.c 0x09-static_libraries/6-abs.c -o 0x09-static_libraries/6-abs\n",
    "./0x09-static_libraries/6-abs"
   ]
  },
  {
   "cell_type": "code",
   "execution_count": 168,
   "metadata": {},
   "outputs": [
    {
     "name": "stdout",
     "output_type": "stream",
     "text": [
      "[main 677aedf] 6\n",
      " 1 file changed, 1 insertion(+), 1 deletion(-)\n"
     ]
    },
    {
     "name": "stderr",
     "output_type": "stream",
     "text": [
      "To https://github.com/elkomysara/alx-low_level_programming.git\n",
      "   9d78af2..677aedf  main -> main\n"
     ]
    }
   ],
   "source": [
    "%%bash\n",
    "git add .\n",
    "git commit -m \"6\"\n",
    "git push"
   ]
  },
  {
   "cell_type": "markdown",
   "metadata": {},
   "source": [
    "##### _isupper"
   ]
  },
  {
   "cell_type": "code",
   "execution_count": 169,
   "metadata": {},
   "outputs": [
    {
     "name": "stdout",
     "output_type": "stream",
     "text": [
      "Overwriting 0x09-static_libraries/0-main.c\n"
     ]
    }
   ],
   "source": [
    "%%file 0x09-static_libraries/0-main.c\n",
    "#include \"main.h\"\n",
    "#include <stdio.h>\n",
    "\n",
    "/**\n",
    " * main - check the code.\n",
    " *\n",
    " * Return: Always 0.\n",
    " */\n",
    "int main(void)\n",
    "{\n",
    "    char c;\n",
    "\n",
    "    c = 'A';\n",
    "    printf(\"%c: %d\\n\", c, _isupper(c));\n",
    "    c = 'a';\n",
    "    printf(\"%c: %d\\n\", c, _isupper(c));\n",
    "    return (0);\n",
    "}"
   ]
  },
  {
   "cell_type": "code",
   "execution_count": 170,
   "metadata": {},
   "outputs": [
    {
     "name": "stdout",
     "output_type": "stream",
     "text": [
      "Overwriting 0x09-static_libraries/main.h\n"
     ]
    }
   ],
   "source": [
    "%%file 0x09-static_libraries/main.h\n",
    "#ifndef FILE_MAIN\n",
    "#define FILE_MAIN\n",
    "\n",
    "#include <stdio.h>\n",
    "\n",
    "int _putchar(char x);\n",
    "int _islower(int x);\n",
    "int _isalpha(int x);\n",
    "int _abs(int);\n",
    "int _isupper(int c);\n",
    "\n",
    "\n",
    "#endif\n"
   ]
  },
  {
   "cell_type": "code",
   "execution_count": 171,
   "metadata": {},
   "outputs": [
    {
     "name": "stdout",
     "output_type": "stream",
     "text": [
      "Overwriting 0x09-static_libraries/0-isupper.c\n"
     ]
    }
   ],
   "source": [
    "%%file 0x09-static_libraries/0-isupper.c\n",
    "#include \"main.h\"\n",
    "\n",
    "/**\n",
    "* _isupper - checks for uppercase character\n",
    "* @c: the character to be checked\n",
    "* Return: 1 if c is uppercase, 0 otherwise\n",
    "*/\n",
    "int _isupper(int c)\n",
    "{\n",
    "return (c >= 'A' && c <= 'Z');\n",
    "}"
   ]
  },
  {
   "cell_type": "code",
   "execution_count": 172,
   "metadata": {},
   "outputs": [
    {
     "name": "stdout",
     "output_type": "stream",
     "text": [
      "Overwriting 0x09-static_libraries/_putchar.c\n"
     ]
    }
   ],
   "source": [
    "%%file 0x09-static_libraries/_putchar.c\n",
    "#include <unistd.h>\n",
    "#include \"main.h\"\n",
    "/**\n",
    " * _putchar - writes the character c to stdout\n",
    " * @c: The character to print\n",
    " *\n",
    " * Return: On success 1.\n",
    " * On error, -1 is returned, and errno is set appropriately.\n",
    " */\n",
    "int _putchar(char c)\n",
    "{\n",
    "\treturn (write(1, &c, 1));\n",
    "}\n"
   ]
  },
  {
   "cell_type": "code",
   "execution_count": 173,
   "metadata": {},
   "outputs": [
    {
     "name": "stdout",
     "output_type": "stream",
     "text": [
      "\n",
      "========== 0x09-static_libraries/0-isupper.c ==========\n",
      "_isupper\n",
      "A: 1\n",
      "a: 0\n"
     ]
    }
   ],
   "source": [
    "%%bash\n",
    "betty 0x09-static_libraries/0-isupper.c\n",
    "gcc -Wall -pedantic -Werror -Wextra -std=gnu89 0x09-static_libraries/0-main.c 0x09-static_libraries/0-isupper.c -o 0x09-static_libraries/0-isupper\n",
    "./0x09-static_libraries/0-isupper"
   ]
  },
  {
   "cell_type": "code",
   "execution_count": 174,
   "metadata": {},
   "outputs": [
    {
     "name": "stdout",
     "output_type": "stream",
     "text": [
      "[main 7224950] alx-low_level_programming/0x09-static_libraries\n",
      " 2 files changed, 11 insertions(+), 12 deletions(-)\n"
     ]
    },
    {
     "name": "stderr",
     "output_type": "stream",
     "text": [
      "To https://github.com/elkomysara/alx-low_level_programming.git\n",
      "   677aedf..7224950  main -> main\n"
     ]
    }
   ],
   "source": [
    "%%bash\n",
    "git add .\n",
    "git commit -m \"alx-low_level_programming/0x09-static_libraries\"\n",
    "git push"
   ]
  },
  {
   "cell_type": "markdown",
   "metadata": {},
   "source": [
    "##### _isdigit"
   ]
  },
  {
   "cell_type": "code",
   "execution_count": 175,
   "metadata": {},
   "outputs": [
    {
     "name": "stdout",
     "output_type": "stream",
     "text": [
      "Overwriting 0x09-static_libraries/1-isdigit.c\n"
     ]
    }
   ],
   "source": [
    "%%file 0x09-static_libraries/1-isdigit.c\n",
    "#include \"main.h\"\n",
    "\n",
    "/**\n",
    "* _isdigit - checks for a digit (0 through 9)\n",
    "* @c: int to be checked\n",
    "* Return: 1 if c is a digit, 0 otherwise\n",
    "*/\n",
    "int _isdigit(int c)\n",
    "{\n",
    "return (c >= '0' && c <= '9');\n",
    "}"
   ]
  },
  {
   "cell_type": "code",
   "execution_count": 176,
   "metadata": {},
   "outputs": [
    {
     "name": "stdout",
     "output_type": "stream",
     "text": [
      "Overwriting 0x09-static_libraries/1-main.c\n"
     ]
    }
   ],
   "source": [
    "%%file 0x09-static_libraries/1-main.c\n",
    "#include \"main.h\"\n",
    "#include <stdio.h>\n",
    "\n",
    "/**\n",
    " * main - check the code\n",
    " *\n",
    " * Return: Always 0.\n",
    " */\n",
    "int main(void)\n",
    "{\n",
    "char c;\n",
    "\n",
    "c = '0';\n",
    "printf(\"%c: %d\\n\", c, _isdigit(c));\n",
    "c = 'a';\n",
    "printf(\"%c: %d\\n\", c, _isdigit(c));\n",
    "return (0);\n",
    "}"
   ]
  },
  {
   "cell_type": "code",
   "execution_count": 177,
   "metadata": {},
   "outputs": [
    {
     "name": "stdout",
     "output_type": "stream",
     "text": [
      "Overwriting 0x09-static_libraries/main.h\n"
     ]
    }
   ],
   "source": [
    "%%file 0x09-static_libraries/main.h\n",
    "#ifndef MAIN_H\n",
    "#define MAIN_H\n",
    "\n",
    "#include <stdio.h>\n",
    "\n",
    "int _putchar(char x);\n",
    "int _islower(int x);\n",
    "int _isalpha(int x);\n",
    "int _abs(int);\n",
    "int _isupper(int c);\n",
    "int _isdigit(int c);\n",
    "\n",
    "#endif\n"
   ]
  },
  {
   "cell_type": "code",
   "execution_count": 178,
   "metadata": {},
   "outputs": [
    {
     "name": "stdout",
     "output_type": "stream",
     "text": [
      "\n",
      "========== 0x09-static_libraries/1-isdigit.c ==========\n"
     ]
    },
    {
     "name": "stdout",
     "output_type": "stream",
     "text": [
      "_isdigit\n",
      "0: 1\n",
      "a: 0\n"
     ]
    }
   ],
   "source": [
    "%%bash\n",
    "betty 0x09-static_libraries/1-isdigit.c\n",
    "gcc -Wall -pedantic -Werror -Wextra -std=gnu89 0x09-static_libraries/1-main.c 0x09-static_libraries/1-isdigit.c -o 0x09-static_libraries/1-isdigit\n",
    "./0x09-static_libraries/1-isdigit"
   ]
  },
  {
   "cell_type": "code",
   "execution_count": 179,
   "metadata": {},
   "outputs": [
    {
     "name": "stdout",
     "output_type": "stream",
     "text": [
      "[main a1dbd62] alx-low_level_programming/0x09-static_libraries\n",
      " 2 files changed, 21 insertions(+), 29 deletions(-)\n",
      " rewrite 0x09-static_libraries/1-main.c (74%)\n"
     ]
    },
    {
     "name": "stderr",
     "output_type": "stream",
     "text": [
      "To https://github.com/elkomysara/alx-low_level_programming.git\n",
      "   7224950..a1dbd62  main -> main\n"
     ]
    }
   ],
   "source": [
    "%%bash\n",
    "git add .\n",
    "git commit -m \"alx-low_level_programming/0x09-static_libraries\"\n",
    "git push"
   ]
  },
  {
   "cell_type": "markdown",
   "metadata": {},
   "source": [
    "##### _strlen"
   ]
  },
  {
   "cell_type": "code",
   "execution_count": 180,
   "metadata": {},
   "outputs": [
    {
     "name": "stdout",
     "output_type": "stream",
     "text": [
      "Overwriting 0x09-static_libraries/0-main.c\n"
     ]
    }
   ],
   "source": [
    "%%file 0x09-static_libraries/0-main.c\n",
    "#include \"main.h\"\n",
    "#include <stdio.h>\n",
    "\n",
    "/**\n",
    " * main - check the code\n",
    " *\n",
    " * Return: Always 0.\n",
    " */\n",
    "int main(void)\n",
    "{\n",
    "    char s1[98] = \"Hello \";\n",
    "    char s2[] = \"World!\\n\";\n",
    "    char *ptr;\n",
    "\n",
    "    printf(\"%s\\n\", s1);\n",
    "    printf(\"%s\", s2);\n",
    "    ptr = _strcat(s1, s2);\n",
    "    printf(\"%s\", s1);\n",
    "    printf(\"%s\", s2);\n",
    "    printf(\"%s\", ptr);\n",
    "    return (0);\n",
    "}"
   ]
  },
  {
   "cell_type": "code",
   "execution_count": 181,
   "metadata": {},
   "outputs": [
    {
     "name": "stdout",
     "output_type": "stream",
     "text": [
      "Overwriting 0x09-static_libraries/main.h\n"
     ]
    }
   ],
   "source": [
    "%%file 0x09-static_libraries/main.h\n",
    "#ifndef FILE_MAIN\n",
    "#define FILE_MAIN\n",
    "\n",
    "#include <stdio.h>\n",
    "int _putchar(char x);\n",
    "int _islower(int x);\n",
    "int _isalpha(int x);\n",
    "int _abs(int);\n",
    "int _isupper(int c);\n",
    "int _isdigit(int c);\n",
    "char *_strcat(char *dest, char *src);\n",
    "\n",
    "\n",
    "\n",
    "#endif\n"
   ]
  },
  {
   "cell_type": "code",
   "execution_count": 182,
   "metadata": {},
   "outputs": [
    {
     "name": "stdout",
     "output_type": "stream",
     "text": [
      "Overwriting 0x09-static_libraries/0-strcat.c\n"
     ]
    }
   ],
   "source": [
    "%%file 0x09-static_libraries/0-strcat.c\n",
    "#include \"main.h\"\n",
    "\n",
    "/**\n",
    "* _strcat - concatenates two strings\n",
    "* @dest: destination string\n",
    "* @src: source string\n",
    "*\n",
    "* Return: pointer to the resulting string dest\n",
    "*/\n",
    "char *_strcat(char *dest, char *src)\n",
    "{\n",
    "int i = 0;\n",
    "int j = 0;\n",
    "\n",
    "/* Find the end of dest string*/\n",
    "while (dest[i] != '\\0')\n",
    "{\n",
    "i++;\n",
    "}\n",
    "\n",
    "/* Append src to dest */\n",
    "while (src[j] != '\\0')\n",
    "{\n",
    "dest[i] = src[j];\n",
    "i++;\n",
    "j++;\n",
    "}\n",
    "\n",
    "/* Add the terminating null byte */\n",
    "dest[i] = '\\0';\n",
    "\n",
    "/* Returns a pointer to the resulting string dest */\n",
    "\n",
    "return (dest);\n",
    "}\n"
   ]
  },
  {
   "cell_type": "code",
   "execution_count": 183,
   "metadata": {},
   "outputs": [
    {
     "name": "stdout",
     "output_type": "stream",
     "text": [
      "Overwriting 0x09-static_libraries/_putchar.c\n"
     ]
    }
   ],
   "source": [
    "%%file 0x09-static_libraries/_putchar.c\n",
    "#include <unistd.h>\n",
    "#include \"main.h\"\n",
    "/**\n",
    " * _putchar - writes the character c to stdout\n",
    " * @c: The character to print\n",
    " *\n",
    " * Return: On success 1.\n",
    " * On error, -1 is returned, and errno is set appropriately.\n",
    " */\n",
    "int _putchar(char c)\n",
    "{\n",
    "\treturn (write(1, &c, 1));\n",
    "}\n"
   ]
  },
  {
   "cell_type": "code",
   "execution_count": 184,
   "metadata": {},
   "outputs": [
    {
     "name": "stdout",
     "output_type": "stream",
     "text": [
      "\n",
      "========== 0x09-static_libraries/0-strcat.c ==========\n",
      "_strcat\n",
      "Hello \n",
      "World!\n",
      "Hello World!\n",
      "World!\n",
      "Hello World!\n"
     ]
    }
   ],
   "source": [
    "%%bash\n",
    "betty 0x09-static_libraries/0-strcat.c\n",
    "gcc -Wall -pedantic -Werror -Wextra -std=gnu89 0x09-static_libraries/0-main.c 0x09-static_libraries/0-strcat.c -o 0x09-static_libraries/0-strcat\n",
    "./0x09-static_libraries/0-strcat"
   ]
  },
  {
   "cell_type": "code",
   "execution_count": 185,
   "metadata": {},
   "outputs": [
    {
     "name": "stdout",
     "output_type": "stream",
     "text": [
      "[main 01a9794] alx-low_level_programming/0x09-static_libraries\n"
     ]
    },
    {
     "name": "stdout",
     "output_type": "stream",
     "text": [
      " 4 files changed, 50 insertions(+), 40 deletions(-)\n",
      " rewrite 0x09-static_libraries/0-strcat.c (62%)\n"
     ]
    },
    {
     "name": "stderr",
     "output_type": "stream",
     "text": [
      "To https://github.com/elkomysara/alx-low_level_programming.git\n",
      "   a1dbd62..01a9794  main -> main\n"
     ]
    }
   ],
   "source": [
    "%%bash\n",
    "git add .\n",
    "git commit -m \"alx-low_level_programming/0x09-static_libraries\"\n",
    "git push"
   ]
  },
  {
   "cell_type": "markdown",
   "metadata": {},
   "source": [
    "##### _strncat"
   ]
  },
  {
   "cell_type": "code",
   "execution_count": 186,
   "metadata": {},
   "outputs": [
    {
     "name": "stdout",
     "output_type": "stream",
     "text": [
      "Overwriting 0x09-static_libraries/1-main.c\n"
     ]
    }
   ],
   "source": [
    "%%file 0x09-static_libraries/1-main.c\n",
    "#include \"main.h\"\n",
    "#include <stdio.h>\n",
    "\n",
    "/**\n",
    " * main - check the code\n",
    " *\n",
    " * Return: Always 0.\n",
    " */\n",
    "int main(void)\n",
    "{\n",
    "    char s1[98] = \"Hello \";\n",
    "    char s2[] = \"World!\\n\";\n",
    "    char *ptr;\n",
    "\n",
    "    printf(\"%s\\n\", s1);\n",
    "    printf(\"%s\", s2);\n",
    "    ptr = _strncat(s1, s2, 1);\n",
    "    printf(\"%s\\n\", s1);\n",
    "    printf(\"%s\", s2);\n",
    "    printf(\"%s\\n\", ptr);\n",
    "    ptr = _strncat(s1, s2, 1024);\n",
    "    printf(\"%s\", s1);\n",
    "    printf(\"%s\", s2);\n",
    "    printf(\"%s\", ptr);\n",
    "    return (0);\n",
    "}"
   ]
  },
  {
   "cell_type": "code",
   "execution_count": 187,
   "metadata": {},
   "outputs": [
    {
     "name": "stdout",
     "output_type": "stream",
     "text": [
      "Overwriting 0x09-static_libraries/main.h\n"
     ]
    }
   ],
   "source": [
    "%%file 0x09-static_libraries/main.h\n",
    "#ifndef FILE_MAIN\n",
    "#define FILE_MAIN\n",
    "\n",
    "#include <stdio.h>\n",
    "\n",
    "int _putchar(char x);\n",
    "int _islower(int x);\n",
    "int _isalpha(int x);\n",
    "int _abs(int);\n",
    "int _isupper(int c);\n",
    "int _isdigit(int c);\n",
    "char *_strcat(char *dest, char *src);\n",
    "char *_strncat(char *dest, char *src, int n);\n",
    "\n",
    "\n",
    "#endif\n"
   ]
  },
  {
   "cell_type": "code",
   "execution_count": 188,
   "metadata": {},
   "outputs": [
    {
     "name": "stdout",
     "output_type": "stream",
     "text": [
      "Overwriting 0x09-static_libraries/1-strncat.c\n"
     ]
    }
   ],
   "source": [
    "%%file 0x09-static_libraries/1-strncat.c\n",
    "#include \"main.h\"\n",
    "\n",
    "/**\n",
    "* _strncat - Concatenates two strings.\n",
    "* @dest: Pointer to the destination string.\n",
    "* @src: Pointer to the source string.\n",
    "* @n:  Maximum number of bytes to append from src.\n",
    "*\n",
    "* Return: A pointer to the resulting string (dest).\n",
    "*/\n",
    "char *_strncat(char *dest, char *src, int n)\n",
    "{\n",
    "char *dest_start = dest;\n",
    "/* Find the end of the destination string */\n",
    "while (*dest)\n",
    "{\n",
    "dest++;\n",
    "}\n",
    "/* loops through the source string, appending characters to dest */\n",
    "while (n > 0 && *src)\n",
    "{\n",
    "*dest = *src;\n",
    "dest++;\n",
    "src++;\n",
    "/* decrement n after each character is copied */\n",
    "n--;\n",
    "}\n",
    "/* Add null terminator if n allows and source string isn;t empty */\n",
    "\n",
    "*dest = '\\0';\n",
    "\n",
    "/* Return a pointer to the resulting string (dest) */\n",
    "return (dest_start);\n",
    "\n",
    "}"
   ]
  },
  {
   "cell_type": "code",
   "execution_count": 189,
   "metadata": {},
   "outputs": [
    {
     "name": "stdout",
     "output_type": "stream",
     "text": [
      "\n",
      "========== 0x09-static_libraries/1-strncat.c ==========\n"
     ]
    },
    {
     "name": "stdout",
     "output_type": "stream",
     "text": [
      "_strncat\n",
      "Hello \n",
      "World!\n",
      "Hello W\n",
      "World!\n",
      "Hello W\n",
      "Hello WWorld!\n",
      "World!\n",
      "Hello WWorld!\n"
     ]
    }
   ],
   "source": [
    "%%bash\n",
    "betty 0x09-static_libraries/1-strncat.c\n",
    "gcc -Wall -pedantic -Werror -Wextra -std=gnu89 0x09-static_libraries/1-main.c 0x09-static_libraries/1-strncat.c -o 0x09-static_libraries/1-strncat\n",
    "./0x09-static_libraries/1-strncat"
   ]
  },
  {
   "cell_type": "markdown",
   "metadata": {},
   "source": [
    "##### _strncpy"
   ]
  },
  {
   "cell_type": "code",
   "execution_count": 190,
   "metadata": {},
   "outputs": [
    {
     "name": "stdout",
     "output_type": "stream",
     "text": [
      "Overwriting 0x09-static_libraries/2-main.c\n"
     ]
    }
   ],
   "source": [
    "%%file 0x09-static_libraries/2-main.c\n",
    "#include \"main.h\"\n",
    "#include <stdio.h>\n",
    "\n",
    "/**\n",
    " * main - check the code\n",
    " *\n",
    " * Return: Always 0.\n",
    " */\n",
    "int main(void)\n",
    "{\n",
    "    char s1[98];\n",
    "    char *ptr;\n",
    "    int i;\n",
    "\n",
    "    for (i = 0; i < 98 - 1; i++)\n",
    "    {\n",
    "        s1[i] = '*';\n",
    "    }\n",
    "    s1[i] = '\\0';\n",
    "    printf(\"%s\\n\", s1);\n",
    "    ptr = _strncpy(s1, \"First, solve the problem. Then, write the code\\n\", 5);\n",
    "    printf(\"%s\\n\", s1);\n",
    "    printf(\"%s\\n\", ptr);\n",
    "    ptr = _strncpy(s1, \"First, solve the problem. Then, write the code\\n\", 90);\n",
    "    printf(\"%s\", s1);\n",
    "    printf(\"%s\", ptr);\n",
    "    for (i = 0; i < 98; i++)\n",
    "    {\n",
    "        if (i % 10)\n",
    "        {\n",
    "            printf(\" \");\n",
    "        }\n",
    "        if (!(i % 10) && i)\n",
    "        {\n",
    "            printf(\"\\n\");\n",
    "        }\n",
    "        printf(\"0x%02x\", s1[i]);\n",
    "    }\n",
    "    printf(\"\\n\");\n",
    "    return (0);\n",
    "}"
   ]
  },
  {
   "cell_type": "code",
   "execution_count": 191,
   "metadata": {},
   "outputs": [
    {
     "name": "stdout",
     "output_type": "stream",
     "text": [
      "Overwriting 0x09-static_libraries/main.h\n"
     ]
    }
   ],
   "source": [
    "%%file 0x09-static_libraries/main.h\n",
    "#ifndef FILE_MAIN\n",
    "#define FILE_MAIN\n",
    "\n",
    "#include <stdio.h>\n",
    "\n",
    "int _putchar(char x);\n",
    "int _islower(int x);\n",
    "int _isalpha(int x);\n",
    "int _abs(int);\n",
    "int _isupper(int c);\n",
    "int _isdigit(int c);\n",
    "char *_strcat(char *dest, char *src);\n",
    "char *_strncat(char *dest, char *src, int n);\n",
    "char *_strncpy(char *dest, char *src, int n);\n",
    "\n",
    "#endif\n"
   ]
  },
  {
   "cell_type": "code",
   "execution_count": 192,
   "metadata": {},
   "outputs": [
    {
     "name": "stdout",
     "output_type": "stream",
     "text": [
      "Overwriting 0x09-static_libraries/2-strncpy.c\n"
     ]
    }
   ],
   "source": [
    "%%file 0x09-static_libraries/2-strncpy.c\n",
    "#include \"main.h\"\n",
    "\n",
    "/**\n",
    " * _strncpy - Copies a string from src to dest up to n characters.\n",
    " * @dest: Pointer to the destination buffer.\n",
    " * @src: Pointer to the source string.\n",
    " * @n: Maximum number of characters to copy.\n",
    " *\n",
    " * Return: Pointer to the destination string (dest).\n",
    " */\n",
    "char *_strncpy(char *dest, char *src, int n)\n",
    "{\n",
    "int i;\n",
    "for (i = 0; i < n && src[i] != '\\0'; i++)\n",
    "{\n",
    "dest[i] = src[i];\n",
    "}\n",
    "/* Pad with null bytes if n is greater than the length of src */\n",
    "for (; i < n; i++)\n",
    "{\n",
    "dest[i] = '\\0';\n",
    "}\n",
    "return (dest);\n",
    "}"
   ]
  },
  {
   "cell_type": "code",
   "execution_count": 193,
   "metadata": {},
   "outputs": [
    {
     "name": "stdout",
     "output_type": "stream",
     "text": [
      "\n",
      "========== 0x09-static_libraries/2-strcpy.c ==========\n",
      "_strcpy\n",
      "*************************************************************************************************\n",
      "First********************************************************************************************\n",
      "First********************************************************************************************\n",
      "First, solve the problem. Then, write the code\n",
      "First, solve the problem. Then, write the code\n",
      "0x46 0x69 0x72 0x73 0x74 0x2c 0x20 0x73 0x6f 0x6c\n",
      "0x76 0x65 0x20 0x74 0x68 0x65 0x20 0x70 0x72 0x6f\n",
      "0x62 0x6c 0x65 0x6d 0x2e 0x20 0x54 0x68 0x65 0x6e\n",
      "0x2c 0x20 0x77 0x72 0x69 0x74 0x65 0x20 0x74 0x68\n",
      "0x65 0x20 0x63 0x6f 0x64 0x65 0x0a 0x00 0x00 0x00\n",
      "0x00 0x00 0x00 0x00 0x00 0x00 0x00 0x00 0x00 0x00\n",
      "0x00 0x00 0x00 0x00 0x00 0x00 0x00 0x00 0x00 0x00\n",
      "0x00 0x00 0x00 0x00 0x00 0x00 0x00 0x00 0x00 0x00\n",
      "0x00 0x00 0x00 0x00 0x00 0x00 0x00 0x00 0x00 0x00\n",
      "0x2a 0x2a 0x2a 0x2a 0x2a 0x2a 0x2a 0x00\n"
     ]
    }
   ],
   "source": [
    "%%bash\n",
    "betty 0x09-static_libraries/2-strcpy.c\n",
    "gcc -Wall -pedantic -Werror -Wextra -std=gnu89 0x09-static_libraries/2-main.c 0x09-static_libraries/2-strncpy.c -o 0x09-static_libraries/2-strncpy\n",
    "./0x09-static_libraries/2-strncpy"
   ]
  },
  {
   "cell_type": "code",
   "execution_count": 194,
   "metadata": {},
   "outputs": [
    {
     "name": "stdout",
     "output_type": "stream",
     "text": [
      "[main 9be2507] alx-low_level_programming/0x09-static_libraries\n",
      " 3 files changed, 45 insertions(+), 13 deletions(-)\n"
     ]
    },
    {
     "name": "stderr",
     "output_type": "stream",
     "text": [
      "To https://github.com/elkomysara/alx-low_level_programming.git\n",
      "   01a9794..9be2507  main -> main\n"
     ]
    }
   ],
   "source": [
    "%%bash\n",
    "git add .\n",
    "git commit -m \"alx-low_level_programming/0x09-static_libraries\"\n",
    "git push"
   ]
  },
  {
   "cell_type": "markdown",
   "metadata": {},
   "source": [
    "##### _strcmp"
   ]
  },
  {
   "cell_type": "code",
   "execution_count": 195,
   "metadata": {},
   "outputs": [
    {
     "name": "stdout",
     "output_type": "stream",
     "text": [
      "Overwriting 0x09-static_libraries/3-main.c\n"
     ]
    }
   ],
   "source": [
    "%%file 0x09-static_libraries/3-main.c\n",
    "#include \"main.h\"\n",
    "#include <stdio.h>\n",
    "\n",
    "/**\n",
    " * main - check the code\n",
    " *\n",
    " * Return: Always 0.\n",
    " */\n",
    "int main(void)\n",
    "{\n",
    "    char s1[] = \"Hello\";\n",
    "    char s2[] = \"World!\";\n",
    "\n",
    "    printf(\"%d\\n\", _strcmp(s1, s2));\n",
    "    printf(\"%d\\n\", _strcmp(s2, s1));\n",
    "    printf(\"%d\\n\", _strcmp(s1, s1));\n",
    "    return (0);\n",
    "}"
   ]
  },
  {
   "cell_type": "code",
   "execution_count": 196,
   "metadata": {},
   "outputs": [
    {
     "name": "stdout",
     "output_type": "stream",
     "text": [
      "Overwriting 0x09-static_libraries/main.h\n"
     ]
    }
   ],
   "source": [
    "%%file 0x09-static_libraries/main.h\n",
    "#ifndef FILE_MAIN\n",
    "#define FILE_MAIN\n",
    "\n",
    "#include <stdio.h>\n",
    "\n",
    "int _putchar(char x);\n",
    "int _islower(int x);\n",
    "int _isalpha(int x);\n",
    "int _abs(int);\n",
    "int _isupper(int c);\n",
    "int _isdigit(int c);\n",
    "char *_strcat(char *dest, char *src);\n",
    "char *_strncat(char *dest, char *src, int n);\n",
    "char *_strncpy(char *dest, char *src, int n);\n",
    "int _strcmp(char *s1, char *s2);\n",
    "\n",
    "\n",
    "#endif\n"
   ]
  },
  {
   "cell_type": "code",
   "execution_count": 197,
   "metadata": {},
   "outputs": [
    {
     "name": "stdout",
     "output_type": "stream",
     "text": [
      "Overwriting 0x09-static_libraries/3-strcmp.c\n"
     ]
    }
   ],
   "source": [
    "%%file 0x09-static_libraries/3-strcmp.c\n",
    "#include \"main.h\"\n",
    "\n",
    "/**\n",
    "* _strcmp - Compares two strings.\n",
    "* @s1: the first string.\n",
    "* @s2: the second string.\n",
    "*\n",
    "* Return: s2 minus s1\n",
    "*/\n",
    "\n",
    "int _strcmp(char *s1, char *s2)\n",
    "{\n",
    "while (*s1 && (*s1 == *s2))\n",
    "{\n",
    "s1++;\n",
    "s2++;\n",
    "}\n",
    "return (*s1 - *s2);\n",
    "}\n"
   ]
  },
  {
   "cell_type": "code",
   "execution_count": 198,
   "metadata": {},
   "outputs": [
    {
     "name": "stdout",
     "output_type": "stream",
     "text": [
      "\n",
      "========== 0x09-static_libraries/3-strcmp.c ==========\n"
     ]
    },
    {
     "name": "stdout",
     "output_type": "stream",
     "text": [
      "_strcmp\n",
      "-15\n",
      "15\n",
      "0\n"
     ]
    }
   ],
   "source": [
    "%%bash\n",
    "betty 0x09-static_libraries/3-strcmp.c\n",
    "gcc -Wall -pedantic -Werror -Wextra -std=gnu89 0x09-static_libraries/3-main.c 0x09-static_libraries/3-strcmp.c -o 0x09-static_libraries/3-strcmp\n",
    "./0x09-static_libraries/3-strcmp"
   ]
  },
  {
   "cell_type": "code",
   "execution_count": 199,
   "metadata": {},
   "outputs": [
    {
     "name": "stdout",
     "output_type": "stream",
     "text": [
      "[main b70bbc6] alx-low_level_programming/0x09-static_libraries\n",
      " 2 files changed, 9 insertions(+), 9 deletions(-)\n"
     ]
    },
    {
     "name": "stderr",
     "output_type": "stream",
     "text": [
      "To https://github.com/elkomysara/alx-low_level_programming.git\n",
      "   9be2507..b70bbc6  main -> main\n"
     ]
    }
   ],
   "source": [
    "%%bash\n",
    "git add .\n",
    "git commit -m \"alx-low_level_programming/0x09-static_libraries\"\n",
    "git push"
   ]
  },
  {
   "cell_type": "markdown",
   "metadata": {},
   "source": [
    "##### _puts"
   ]
  },
  {
   "cell_type": "code",
   "execution_count": 200,
   "metadata": {},
   "outputs": [
    {
     "name": "stdout",
     "output_type": "stream",
     "text": [
      "Overwriting 0x09-static_libraries/main.h\n"
     ]
    }
   ],
   "source": [
    "%%file 0x09-static_libraries/main.h\n",
    "#ifndef FILE_MAIN\n",
    "#define FILE_MAIN\n",
    "\n",
    "#include <stdio.h>\n",
    "\n",
    "int _putchar(char x);\n",
    "int _islower(int x);\n",
    "int _isalpha(int x);\n",
    "int _abs(int);\n",
    "int _isupper(int c);\n",
    "int _isdigit(int c);\n",
    "char *_strcat(char *dest, char *src);\n",
    "char *_strncat(char *dest, char *src, int n);\n",
    "char *_strncpy(char *dest, char *src, int n);\n",
    "int _strcmp(char *s1, char *s2);\n",
    "void _puts(char *str);\n",
    "\n",
    "\n",
    "#endif\n"
   ]
  },
  {
   "cell_type": "code",
   "execution_count": 201,
   "metadata": {},
   "outputs": [
    {
     "name": "stdout",
     "output_type": "stream",
     "text": [
      "Overwriting 0x09-static_libraries/3-puts.c\n"
     ]
    }
   ],
   "source": [
    "%%file 0x09-static_libraries/3-puts.c\n",
    "#include \"main.h\"\n",
    "\n",
    "/**\n",
    "* _puts - prints a string followed by a new line to stdout.\n",
    "* @str: the string to be printed.\n",
    "*/\n",
    "void _puts(char *str)\n",
    "{\n",
    "while (*str != '\\0') /* Loop until the end of the string */\n",
    "{\n",
    "_putchar(*str); /* Print each character */\n",
    "str++;  /* Move to the next character */\n",
    "}\n",
    "_putchar('\\n'); /* Print a newline character at the end */\n",
    "}\n"
   ]
  },
  {
   "cell_type": "code",
   "execution_count": 202,
   "metadata": {},
   "outputs": [
    {
     "name": "stdout",
     "output_type": "stream",
     "text": [
      "Overwriting 0x09-static_libraries/3-main.c\n"
     ]
    }
   ],
   "source": [
    "%%file 0x09-static_libraries/3-main.c\n",
    "#include \"main.h\"\n",
    "\n",
    "/**\n",
    " * main - check the code\n",
    " *\n",
    " * Return: Always 0.\n",
    "*/\n",
    "int main(void)\n",
    "{\n",
    "char *str;\n",
    "\n",
    "str = \"I do not fear computers. I fear the lack of them - Isaac Asimov\";\n",
    "_puts(str);\n",
    "return (0);\n",
    "}"
   ]
  },
  {
   "cell_type": "code",
   "execution_count": 203,
   "metadata": {},
   "outputs": [
    {
     "name": "stdout",
     "output_type": "stream",
     "text": [
      "\n",
      "========== 0x09-static_libraries/3-puts.c ==========\n",
      "_puts\n",
      "I do not fear computers. I fear the lack of them - Isaac Asimov\n"
     ]
    }
   ],
   "source": [
    "%%bash\n",
    "betty 0x09-static_libraries/3-puts.c\n",
    "gcc -Wall -pedantic -Werror -Wextra -std=gnu89 0x09-static_libraries/_putchar.c 0x09-static_libraries/3-main.c 0x09-static_libraries/3-puts.c -o 0x09-static_libraries/3-puts\n",
    "./0x09-static_libraries/3-puts"
   ]
  },
  {
   "cell_type": "code",
   "execution_count": 204,
   "metadata": {},
   "outputs": [
    {
     "name": "stdout",
     "output_type": "stream",
     "text": [
      "[main d422ce8] alx-low_level_programming/0x04-more_functions_nested_loops\n",
      " 2 files changed, 6 insertions(+), 8 deletions(-)\n"
     ]
    },
    {
     "name": "stderr",
     "output_type": "stream",
     "text": [
      "To https://github.com/elkomysara/alx-low_level_programming.git\n",
      "   b70bbc6..d422ce8  main -> main\n"
     ]
    }
   ],
   "source": [
    "%%bash\n",
    "git add .\n",
    "git commit -m \"alx-low_level_programming/0x04-more_functions_nested_loops\"\n",
    "git push"
   ]
  },
  {
   "cell_type": "markdown",
   "metadata": {},
   "source": [
    "##### _memcpy"
   ]
  },
  {
   "cell_type": "code",
   "execution_count": 205,
   "metadata": {},
   "outputs": [
    {
     "name": "stdout",
     "output_type": "stream",
     "text": [
      "Overwriting 0x09-static_libraries/1-main.c\n"
     ]
    }
   ],
   "source": [
    "%%file 0x09-static_libraries/1-main.c\n",
    "#include \"main.h\"\n",
    "#include <stdio.h>\n",
    "#include <stddef.h>\n",
    "/**\n",
    " * simple_print_buffer - prints buffer in hexa\n",
    " * @buffer: the address of memory to print\n",
    " * @size: the size of the memory to print\n",
    " *\n",
    " * Return: Nothing.\n",
    " */\n",
    "void simple_print_buffer(char *buffer, unsigned int size)\n",
    "{\n",
    "    unsigned int i;\n",
    "\n",
    "    i = 0;\n",
    "    while (i < size)\n",
    "    {\n",
    "        if (i % 10)\n",
    "        {\n",
    "            printf(\" \");\n",
    "        }\n",
    "        if (!(i % 10) && i)\n",
    "        {\n",
    "            printf(\"\\n\");\n",
    "        }\n",
    "        printf(\"0x%02x\", buffer[i]);\n",
    "        i++;\n",
    "    }\n",
    "    printf(\"\\n\");\n",
    "}\n",
    "\n",
    "/**\n",
    " * main - check the code\n",
    " *\n",
    " * Return: Always 0.\n",
    " */\n",
    "int main(void)\n",
    "{\n",
    "    char buffer[98] = {0};\n",
    "    char buffer2[98] = {1, 2, 3, 4, 5, 6, 7, 8, 9, 10, 11, 12, 13, 14};\n",
    "\n",
    "    simple_print_buffer(buffer, 98);\n",
    "    _memcpy(buffer + 50, buffer2, 10);\n",
    "    printf(\"-------------------------------------------------\\n\");\n",
    "    simple_print_buffer(buffer, 98);    \n",
    "    return (0);\n",
    "}"
   ]
  },
  {
   "cell_type": "code",
   "execution_count": 206,
   "metadata": {},
   "outputs": [
    {
     "name": "stdout",
     "output_type": "stream",
     "text": [
      "Overwriting 0x09-static_libraries/main.h\n"
     ]
    }
   ],
   "source": [
    "%%file 0x09-static_libraries/main.h\n",
    "#ifndef FILE_MAIN\n",
    "#define FILE_MAIN\n",
    "\n",
    "#include <stdio.h>\n",
    "\n",
    "int _putchar(char x);\n",
    "int _islower(int x);\n",
    "int _isalpha(int x);\n",
    "int _abs(int);\n",
    "int _isupper(int c);\n",
    "int _isdigit(int c);\n",
    "char *_strcat(char *dest, char *src);\n",
    "char *_strncat(char *dest, char *src, int n);\n",
    "char *_strncpy(char *dest, char *src, int n);\n",
    "int _strcmp(char *s1, char *s2);\n",
    "void _puts(char *str);\n",
    "char *_memcpy(char *dest, char *src, unsigned int n);\n",
    "\n",
    "\n",
    "#endif\n"
   ]
  },
  {
   "cell_type": "code",
   "execution_count": 207,
   "metadata": {},
   "outputs": [
    {
     "name": "stdout",
     "output_type": "stream",
     "text": [
      "Overwriting 0x09-static_libraries/1-memcpy.c\n"
     ]
    }
   ],
   "source": [
    "%%file 0x09-static_libraries/1-memcpy.c\n",
    "#include \"main.h\"\n",
    "\n",
    "/**\n",
    "* _memcpy - copies memory area\n",
    "* @dest: destination memory area\n",
    "* @src: source memory area\n",
    "* @n: number of bytes to copy\n",
    "*\n",
    "* Return: pointer to dest\n",
    "*/\n",
    "\n",
    "char *_memcpy(char *dest, char *src, unsigned int n)\n",
    "{\n",
    "unsigned int i;\n",
    "\n",
    "for (i = 0; i < n; i++)\n",
    "{\n",
    "dest[i] = src[i];\n",
    "}\n",
    "\n",
    "return (dest);\n",
    "}"
   ]
  },
  {
   "cell_type": "code",
   "execution_count": 208,
   "metadata": {},
   "outputs": [
    {
     "name": "stdout",
     "output_type": "stream",
     "text": [
      "Overwriting 0x09-static_libraries/_putchar.c\n"
     ]
    }
   ],
   "source": [
    "%%file 0x09-static_libraries/_putchar.c\n",
    "#include <unistd.h>\n",
    "#include \"main.h\"\n",
    "/**\n",
    " * _putchar - writes the character c to stdout\n",
    " * @c: The character to print\n",
    " *\n",
    " * Return: On success 1.\n",
    " * On error, -1 is returned, and errno is set appropriately.\n",
    " */\n",
    "int _putchar(char c)\n",
    "{\n",
    "\treturn (write(1, &c, 1));\n",
    "}\n"
   ]
  },
  {
   "cell_type": "code",
   "execution_count": 209,
   "metadata": {},
   "outputs": [
    {
     "name": "stdout",
     "output_type": "stream",
     "text": [
      "\n",
      "========== 0x09-static_libraries/1-memcpy.c ==========\n"
     ]
    },
    {
     "name": "stdout",
     "output_type": "stream",
     "text": [
      "_memcpy\n",
      "0x00 0x00 0x00 0x00 0x00 0x00 0x00 0x00 0x00 0x00\n",
      "0x00 0x00 0x00 0x00 0x00 0x00 0x00 0x00 0x00 0x00\n",
      "0x00 0x00 0x00 0x00 0x00 0x00 0x00 0x00 0x00 0x00\n",
      "0x00 0x00 0x00 0x00 0x00 0x00 0x00 0x00 0x00 0x00\n",
      "0x00 0x00 0x00 0x00 0x00 0x00 0x00 0x00 0x00 0x00\n",
      "0x00 0x00 0x00 0x00 0x00 0x00 0x00 0x00 0x00 0x00\n",
      "0x00 0x00 0x00 0x00 0x00 0x00 0x00 0x00 0x00 0x00\n",
      "0x00 0x00 0x00 0x00 0x00 0x00 0x00 0x00 0x00 0x00\n",
      "0x00 0x00 0x00 0x00 0x00 0x00 0x00 0x00 0x00 0x00\n",
      "0x00 0x00 0x00 0x00 0x00 0x00 0x00 0x00\n",
      "-------------------------------------------------\n",
      "0x00 0x00 0x00 0x00 0x00 0x00 0x00 0x00 0x00 0x00\n",
      "0x00 0x00 0x00 0x00 0x00 0x00 0x00 0x00 0x00 0x00\n",
      "0x00 0x00 0x00 0x00 0x00 0x00 0x00 0x00 0x00 0x00\n",
      "0x00 0x00 0x00 0x00 0x00 0x00 0x00 0x00 0x00 0x00\n",
      "0x00 0x00 0x00 0x00 0x00 0x00 0x00 0x00 0x00 0x00\n",
      "0x01 0x02 0x03 0x04 0x05 0x06 0x07 0x08 0x09 0x0a\n",
      "0x00 0x00 0x00 0x00 0x00 0x00 0x00 0x00 0x00 0x00\n",
      "0x00 0x00 0x00 0x00 0x00 0x00 0x00 0x00 0x00 0x00\n",
      "0x00 0x00 0x00 0x00 0x00 0x00 0x00 0x00 0x00 0x00\n",
      "0x00 0x00 0x00 0x00 0x00 0x00 0x00 0x00\n"
     ]
    }
   ],
   "source": [
    "%%bash\n",
    "betty 0x09-static_libraries/1-memcpy.c\n",
    "gcc -Wall -pedantic -Werror -Wextra -std=gnu89 0x09-static_libraries/1-main.c 0x09-static_libraries/1-memcpy.c -o 0x09-static_libraries/1-memcpy\n",
    "./0x09-static_libraries/1-memcpy"
   ]
  },
  {
   "cell_type": "code",
   "execution_count": 210,
   "metadata": {},
   "outputs": [
    {
     "name": "stdout",
     "output_type": "stream",
     "text": [
      "[main 2a101ec] alx-low_level_programming/0x09-static_libraries\n",
      " 2 files changed, 48 insertions(+), 26 deletions(-)\n",
      " rewrite 0x09-static_libraries/1-main.c (70%)\n"
     ]
    },
    {
     "name": "stderr",
     "output_type": "stream",
     "text": [
      "To https://github.com/elkomysara/alx-low_level_programming.git\n",
      "   d422ce8..2a101ec  main -> main\n"
     ]
    }
   ],
   "source": [
    "%%bash\n",
    "git add .\n",
    "git commit -m \"alx-low_level_programming/0x09-static_libraries\"\n",
    "git push"
   ]
  },
  {
   "cell_type": "markdown",
   "metadata": {},
   "source": [
    "##### _memset"
   ]
  },
  {
   "cell_type": "code",
   "execution_count": 211,
   "metadata": {},
   "outputs": [
    {
     "name": "stdout",
     "output_type": "stream",
     "text": [
      "Overwriting 0x09-static_libraries/0-main.c\n"
     ]
    }
   ],
   "source": [
    "%%file 0x09-static_libraries/0-main.c\n",
    "#include \"main.h\"\n",
    "#include <stdio.h>\n",
    "\n",
    "/**\n",
    " * simple_print_buffer - prints buffer in hexa\n",
    " * @buffer: the address of memory to print\n",
    " * @size: the size of the memory to print\n",
    " *\n",
    " * Return: Nothing.\n",
    " */\n",
    "void simple_print_buffer(char *buffer, unsigned int size)\n",
    "{\n",
    "        unsigned int i;\n",
    "\n",
    "        i = 0;\n",
    "        while (i < size)\n",
    "        {\n",
    "                if (i % 10)\n",
    "                {\n",
    "                        printf(\" \");\n",
    "                }\n",
    "                if (!(i % 10) && i)\n",
    "                {\n",
    "                        printf(\"\\n\");\n",
    "                }\n",
    "                printf(\"0x%02x\", buffer[i]);\n",
    "                i++;\n",
    "        }\n",
    "        printf(\"\\n\");\n",
    "}\n",
    "\n",
    "/**\n",
    " * main - check the code\n",
    " *\n",
    " * Return: Always 0.\n",
    " */\n",
    "int main(void)\n",
    "{\n",
    "    char buffer[98] = {0x00};\n",
    "\n",
    "    simple_print_buffer(buffer, 98);\n",
    "    _memset(buffer, 0x01, 95);\n",
    "    printf(\"-------------------------------------------------\\n\");\n",
    "    simple_print_buffer(buffer, 98);    \n",
    "    return (0);\n",
    "}"
   ]
  },
  {
   "cell_type": "code",
   "execution_count": 212,
   "metadata": {},
   "outputs": [
    {
     "name": "stdout",
     "output_type": "stream",
     "text": [
      "Overwriting 0x09-static_libraries/main.h\n"
     ]
    }
   ],
   "source": [
    "%%file 0x09-static_libraries/main.h\n",
    "#ifndef FILE_MAIN\n",
    "#define FILE_MAIN\n",
    "\n",
    "#include <stdio.h>\n",
    "int _putchar(char x);\n",
    "int _islower(int x);\n",
    "int _isalpha(int x);\n",
    "int _abs(int);\n",
    "int _isupper(int c);\n",
    "int _isdigit(int c);\n",
    "char *_strcat(char *dest, char *src);\n",
    "char *_strncat(char *dest, char *src, int n);\n",
    "char *_strncpy(char *dest, char *src, int n);\n",
    "int _strcmp(char *s1, char *s2);\n",
    "void _puts(char *str);\n",
    "char *_memcpy(char *dest, char *src, unsigned int n);\n",
    "char *_memset(char *s, char b, unsigned int n);\n",
    "\n",
    "\n",
    "\n",
    "#endif\n"
   ]
  },
  {
   "cell_type": "code",
   "execution_count": 213,
   "metadata": {},
   "outputs": [
    {
     "name": "stdout",
     "output_type": "stream",
     "text": [
      "Overwriting 0x09-static_libraries/0-memset.c\n"
     ]
    }
   ],
   "source": [
    "%%file 0x09-static_libraries/0-memset.c\n",
    "#include \"main.h\"\n",
    "/**\n",
    "* _memset - fills memory with a constant byte\n",
    "* @s: pointer to the memory area\n",
    "* @b: the byte to fill the memory with\n",
    "* @n: the number of bytes to fill\n",
    "*\n",
    "* Return: a pointer to the memory area s\n",
    "*/\n",
    "\n",
    "char *_memset(char *s, char b, unsigned int n)\n",
    "{\n",
    "unsigned int i;\n",
    "\n",
    "for (i = 0; i < n; i++)\n",
    "{\n",
    "s[i] = b;\n",
    "}\n",
    "\n",
    "return (s);\n",
    "}\n"
   ]
  },
  {
   "cell_type": "code",
   "execution_count": 214,
   "metadata": {},
   "outputs": [
    {
     "name": "stdout",
     "output_type": "stream",
     "text": [
      "\n",
      "========== 0x09-static_libraries/0-memset.c ==========\n"
     ]
    },
    {
     "name": "stdout",
     "output_type": "stream",
     "text": [
      "_memset\n",
      "0x00 0x00 0x00 0x00 0x00 0x00 0x00 0x00 0x00 0x00\n",
      "0x00 0x00 0x00 0x00 0x00 0x00 0x00 0x00 0x00 0x00\n",
      "0x00 0x00 0x00 0x00 0x00 0x00 0x00 0x00 0x00 0x00\n",
      "0x00 0x00 0x00 0x00 0x00 0x00 0x00 0x00 0x00 0x00\n",
      "0x00 0x00 0x00 0x00 0x00 0x00 0x00 0x00 0x00 0x00\n",
      "0x00 0x00 0x00 0x00 0x00 0x00 0x00 0x00 0x00 0x00\n",
      "0x00 0x00 0x00 0x00 0x00 0x00 0x00 0x00 0x00 0x00\n",
      "0x00 0x00 0x00 0x00 0x00 0x00 0x00 0x00 0x00 0x00\n",
      "0x00 0x00 0x00 0x00 0x00 0x00 0x00 0x00 0x00 0x00\n",
      "0x00 0x00 0x00 0x00 0x00 0x00 0x00 0x00\n",
      "-------------------------------------------------\n",
      "0x01 0x01 0x01 0x01 0x01 0x01 0x01 0x01 0x01 0x01\n",
      "0x01 0x01 0x01 0x01 0x01 0x01 0x01 0x01 0x01 0x01\n",
      "0x01 0x01 0x01 0x01 0x01 0x01 0x01 0x01 0x01 0x01\n",
      "0x01 0x01 0x01 0x01 0x01 0x01 0x01 0x01 0x01 0x01\n",
      "0x01 0x01 0x01 0x01 0x01 0x01 0x01 0x01 0x01 0x01\n",
      "0x01 0x01 0x01 0x01 0x01 0x01 0x01 0x01 0x01 0x01\n",
      "0x01 0x01 0x01 0x01 0x01 0x01 0x01 0x01 0x01 0x01\n",
      "0x01 0x01 0x01 0x01 0x01 0x01 0x01 0x01 0x01 0x01\n",
      "0x01 0x01 0x01 0x01 0x01 0x01 0x01 0x01 0x01 0x01\n",
      "0x01 0x01 0x01 0x01 0x01 0x00 0x00 0x00\n"
     ]
    }
   ],
   "source": [
    "%%bash\n",
    "betty 0x09-static_libraries/0-memset.c\n",
    "gcc -Wall -pedantic -Werror -Wextra -std=gnu89 0x09-static_libraries/0-main.c 0x09-static_libraries/0-memset.c -o 0x09-static_libraries/0-memset\n",
    "./0x09-static_libraries/0-memset"
   ]
  },
  {
   "cell_type": "code",
   "execution_count": 215,
   "metadata": {},
   "outputs": [
    {
     "name": "stdout",
     "output_type": "stream",
     "text": [
      "[main ac2a5f3] alx-low_level_programming/0x09-static_libraries\n",
      " 2 files changed, 48 insertions(+), 23 deletions(-)\n"
     ]
    },
    {
     "name": "stdout",
     "output_type": "stream",
     "text": [
      " rewrite 0x09-static_libraries/0-main.c (61%)\n"
     ]
    },
    {
     "name": "stderr",
     "output_type": "stream",
     "text": [
      "To https://github.com/elkomysara/alx-low_level_programming.git\n",
      "   2a101ec..ac2a5f3  main -> main\n"
     ]
    }
   ],
   "source": [
    "%%bash\n",
    "git add .\n",
    "git commit -m \"alx-low_level_programming/0x09-static_libraries\"\n",
    "git push"
   ]
  },
  {
   "cell_type": "markdown",
   "metadata": {},
   "source": [
    "##### strcat"
   ]
  },
  {
   "cell_type": "code",
   "execution_count": 216,
   "metadata": {},
   "outputs": [
    {
     "name": "stdout",
     "output_type": "stream",
     "text": [
      "Overwriting 0x09-static_libraries/0-main.c\n"
     ]
    }
   ],
   "source": [
    "%%file 0x09-static_libraries/0-main.c\n",
    "#include \"main.h\"\n",
    "#include <stdio.h>\n",
    "\n",
    "/**\n",
    " * main - check the code\n",
    " *\n",
    " * Return: Always 0.\n",
    " */\n",
    "int main(void)\n",
    "{\n",
    "    char s1[98] = \"Hello \";\n",
    "    char s2[] = \"World!\\n\";\n",
    "    char *ptr;\n",
    "\n",
    "    printf(\"%s\\n\", s1);\n",
    "    printf(\"%s\", s2);\n",
    "    ptr = _strcat(s1, s2);\n",
    "    printf(\"%s\", s1);\n",
    "    printf(\"%s\", s2);\n",
    "    printf(\"%s\", ptr);\n",
    "    return (0);\n",
    "}"
   ]
  },
  {
   "cell_type": "code",
   "execution_count": 217,
   "metadata": {},
   "outputs": [
    {
     "name": "stdout",
     "output_type": "stream",
     "text": [
      "Overwriting 0x09-static_libraries/main.h\n"
     ]
    }
   ],
   "source": [
    "%%file 0x09-static_libraries/main.h\n",
    "#ifndef FILE_MAIN\n",
    "#define FILE_MAIN\n",
    "\n",
    "#include <stdio.h>\n",
    "int _putchar(char x);\n",
    "int _islower(int x);\n",
    "int _isalpha(int x);\n",
    "int _abs(int);\n",
    "int _isupper(int c);\n",
    "int _isdigit(int c);\n",
    "char *_strcat(char *dest, char *src);\n",
    "char *_strncat(char *dest, char *src, int n);\n",
    "char *_strncpy(char *dest, char *src, int n);\n",
    "int _strcmp(char *s1, char *s2);\n",
    "void _puts(char *str);\n",
    "char *_memcpy(char *dest, char *src, unsigned int n);\n",
    "char *_memset(char *s, char b, unsigned int n);\n",
    "\n",
    "\n",
    "\n",
    "#endif\n"
   ]
  },
  {
   "cell_type": "code",
   "execution_count": 218,
   "metadata": {},
   "outputs": [
    {
     "name": "stdout",
     "output_type": "stream",
     "text": [
      "Overwriting 0x09-static_libraries/0-strcat.c\n"
     ]
    }
   ],
   "source": [
    "%%file 0x09-static_libraries/0-strcat.c\n",
    "#include \"main.h\"\n",
    "\n",
    "/**\n",
    "* _strcat - concatenates two strings\n",
    "* @dest: destination string\n",
    "* @src: source string\n",
    "*\n",
    "* Return: pointer to the resulting string dest\n",
    "*/\n",
    "char *_strcat(char *dest, char *src)\n",
    "{\n",
    "int i = 0;\n",
    "int j = 0;\n",
    "\n",
    "/* Find the end of dest string*/\n",
    "while (dest[i] != '\\0')\n",
    "{\n",
    "i++;\n",
    "}\n",
    "\n",
    "/* Append src to dest */\n",
    "while (src[j] != '\\0')\n",
    "{\n",
    "dest[i] = src[j];\n",
    "i++;\n",
    "j++;\n",
    "}\n",
    "\n",
    "/* Add the terminating null byte */\n",
    "dest[i] = '\\0';\n",
    "\n",
    "/* Returns a pointer to the resulting string dest */\n",
    "\n",
    "return (dest);\n",
    "}\n"
   ]
  },
  {
   "cell_type": "code",
   "execution_count": 219,
   "metadata": {},
   "outputs": [
    {
     "name": "stdout",
     "output_type": "stream",
     "text": [
      "Overwriting 0x09-static_libraries/0-strcat.c\n"
     ]
    }
   ],
   "source": [
    "%%file 0x09-static_libraries/0-strcat.c\n",
    "#include \"main.h\"\n",
    "\n",
    "/**\n",
    "* _strcat - Concatenates two strings.\n",
    "* @dest: The destination string.\n",
    "* @src: The source string to append.\n",
    "*\n",
    "* Return: A pointer to the resulting string (dest).\n",
    "*/\n",
    "char *_strcat(char *dest, char *src)\n",
    "{\n",
    "\n",
    "/* Move to the end of dest */\n",
    "while (*dest)\n",
    "{\n",
    "dest++;\n",
    "}\n",
    "\n",
    "/* Append src to dest */\n",
    "while (*src)\n",
    "{\n",
    "*dest = *src;\n",
    "dest++;\n",
    "src++;\n",
    "}\n",
    "\n",
    "/* Add null terminator */\n",
    "*dest = '\\0';\n",
    "/* Returns a pointer to the resulting string dest */\n",
    "return (dest);\n",
    "}"
   ]
  },
  {
   "cell_type": "code",
   "execution_count": 220,
   "metadata": {},
   "outputs": [
    {
     "name": "stdout",
     "output_type": "stream",
     "text": [
      "Overwriting 0x09-static_libraries/_putchar.c\n"
     ]
    }
   ],
   "source": [
    "%%file 0x09-static_libraries/_putchar.c\n",
    "#include <unistd.h>\n",
    "#include \"main.h\"\n",
    "/**\n",
    " * _putchar - writes the character c to stdout\n",
    " * @c: The character to print\n",
    " *\n",
    " * Return: On success 1.\n",
    " * On error, -1 is returned, and errno is set appropriately.\n",
    " */\n",
    "int _putchar(char c)\n",
    "{\n",
    "\treturn (write(1, &c, 1));\n",
    "}\n"
   ]
  },
  {
   "cell_type": "code",
   "execution_count": 221,
   "metadata": {},
   "outputs": [
    {
     "name": "stdout",
     "output_type": "stream",
     "text": [
      "\n",
      "========== 0x09-static_libraries/0-strcat.c ==========\n",
      "_strcat\n"
     ]
    },
    {
     "name": "stdout",
     "output_type": "stream",
     "text": [
      "Hello \n",
      "World!\n",
      "Hello World!\n",
      "World!\n"
     ]
    }
   ],
   "source": [
    "%%bash\n",
    "betty 0x09-static_libraries/0-strcat.c\n",
    "gcc -Wall -pedantic -Werror -Wextra -std=gnu89 0x09-static_libraries/0-main.c 0x09-static_libraries/0-strcat.c -o 0x09-static_libraries/0-strcat\n",
    "./0x09-static_libraries/0-strcat"
   ]
  },
  {
   "cell_type": "code",
   "execution_count": 222,
   "metadata": {},
   "outputs": [
    {
     "name": "stdout",
     "output_type": "stream",
     "text": [
      "[main 53fbcca] alx-low_level_programming/0x09-static_libraries\n",
      " 3 files changed, 53 insertions(+), 81 deletions(-)\n",
      " rewrite 0x09-static_libraries/0-main.c (86%)\n",
      " rewrite 0x09-static_libraries/0-strcat.c (65%)\n"
     ]
    },
    {
     "name": "stderr",
     "output_type": "stream",
     "text": [
      "To https://github.com/elkomysara/alx-low_level_programming.git\n",
      "   ac2a5f3..53fbcca  main -> main\n"
     ]
    }
   ],
   "source": [
    "%%bash\n",
    "git add .\n",
    "git commit -m \"alx-low_level_programming/0x09-static_libraries\"\n",
    "git push"
   ]
  },
  {
   "cell_type": "markdown",
   "metadata": {},
   "source": [
    "##### strstr"
   ]
  },
  {
   "cell_type": "code",
   "execution_count": 223,
   "metadata": {},
   "outputs": [
    {
     "name": "stdout",
     "output_type": "stream",
     "text": [
      "Overwriting 0x09-static_libraries/5-main.c\n"
     ]
    }
   ],
   "source": [
    "%%file 0x09-static_libraries/5-main.c\n",
    "#include \"main.h\"\n",
    "#include <stdio.h>\n",
    "\n",
    "/**\n",
    " * main - check the code\n",
    " *\n",
    " * Return: Always 0.\n",
    " */\n",
    "int main(void)\n",
    "{\n",
    "    char *s = \"hello, world\";\n",
    "    char *f = \"world\";\n",
    "    char *t;\n",
    "\n",
    "    t = _strstr(s, f);\n",
    "    printf(\"%s\\n\", t);\n",
    "    return (0);\n",
    "}"
   ]
  },
  {
   "cell_type": "code",
   "execution_count": 224,
   "metadata": {},
   "outputs": [
    {
     "name": "stdout",
     "output_type": "stream",
     "text": [
      "Overwriting 0x09-static_libraries/main.h\n"
     ]
    }
   ],
   "source": [
    "%%file 0x09-static_libraries/main.h\n",
    "#ifndef FILE_MAIN\n",
    "#define FILE_MAIN\n",
    "\n",
    "#include <stdio.h>\n",
    "\n",
    "int _putchar(char x);\n",
    "int _islower(int x);\n",
    "int _isalpha(int x);\n",
    "int _abs(int);\n",
    "int _isupper(int c);\n",
    "int _isdigit(int c);\n",
    "char *_strcat(char *dest, char *src);\n",
    "char *_strncat(char *dest, char *src, int n);\n",
    "char *_strncpy(char *dest, char *src, int n);\n",
    "int _strcmp(char *s1, char *s2);\n",
    "void _puts(char *str);\n",
    "char *_memcpy(char *dest, char *src, unsigned int n);\n",
    "char *_memset(char *s, char b, unsigned int n);\n",
    "char *_strstr(char *haystack, char *needle);\n",
    "\n",
    "\n",
    "#endif\n"
   ]
  },
  {
   "cell_type": "code",
   "execution_count": 225,
   "metadata": {},
   "outputs": [
    {
     "name": "stdout",
     "output_type": "stream",
     "text": [
      "Overwriting 0x09-static_libraries/5-strstr.c\n"
     ]
    }
   ],
   "source": [
    "%%file 0x09-static_libraries/5-strstr.c\n",
    "#include \"main.h\"\n",
    "\n",
    "/**\n",
    "* _strstr - locates a substring\n",
    "* @haystack: the string to be searched\n",
    "* @needle: the substring to be found\n",
    "*\n",
    "* Return: a pointer to the beginning of the located substring,\n",
    "*         or NULL if the substring is not found\n",
    "*/\n",
    "\n",
    "char *_strstr(char *haystack, char *needle)\n",
    "{\n",
    "char *h, *n;\n",
    "\n",
    "while (*haystack)\n",
    "{\n",
    "h = haystack;\n",
    "n = needle;\n",
    "\n",
    "while (*n && *h == *n)\n",
    "{\n",
    "h++;\n",
    "n++;\n",
    "}\n",
    "\n",
    "if (!*n)\n",
    "return (haystack);\n",
    "\n",
    "haystack++;\n",
    "}\n",
    "return (NULL);\n",
    "}\n"
   ]
  },
  {
   "cell_type": "code",
   "execution_count": 226,
   "metadata": {},
   "outputs": [
    {
     "name": "stdout",
     "output_type": "stream",
     "text": [
      "\n",
      "========== 0x09-static_libraries/5-strstr.c ==========\n",
      "_strstr\n",
      "world\n"
     ]
    }
   ],
   "source": [
    "%%bash\n",
    "betty 0x09-static_libraries/5-strstr.c\n",
    "gcc -Wall -pedantic -Werror -Wextra -std=gnu89 0x09-static_libraries/5-main.c 0x09-static_libraries/5-strstr.c -o 0x09-static_libraries/5-strstr\n",
    "./0x09-static_libraries/5-strstr"
   ]
  },
  {
   "cell_type": "code",
   "execution_count": 227,
   "metadata": {},
   "outputs": [
    {
     "name": "stdout",
     "output_type": "stream",
     "text": [
      "[main 104186e] alx-low_level_programming/0x09-static_libraries\n",
      " 1 file changed, 2 insertions(+), 1 deletion(-)\n"
     ]
    },
    {
     "name": "stderr",
     "output_type": "stream",
     "text": [
      "To https://github.com/elkomysara/alx-low_level_programming.git\n",
      "   53fbcca..104186e  main -> main\n"
     ]
    }
   ],
   "source": [
    "%%bash\n",
    "git add .\n",
    "git commit -m \"alx-low_level_programming/0x09-static_libraries\"\n",
    "git push"
   ]
  },
  {
   "cell_type": "markdown",
   "metadata": {},
   "source": [
    "##### strpbrk"
   ]
  },
  {
   "cell_type": "code",
   "execution_count": 228,
   "metadata": {},
   "outputs": [
    {
     "name": "stdout",
     "output_type": "stream",
     "text": [
      "Overwriting 0x09-static_libraries/4-main.c\n"
     ]
    }
   ],
   "source": [
    "%%file 0x09-static_libraries/4-main.c\n",
    "#include \"main.h\"\n",
    "#include <stdio.h>\n",
    "\n",
    "/**\n",
    " * main - check the code\n",
    " *\n",
    " * Return: Always 0.\n",
    " */\n",
    "int main(void)\n",
    "{\n",
    "    char *s = \"hello, world\";\n",
    "    char *f = \"world\";\n",
    "    char *t;\n",
    "\n",
    "    t = _strpbrk(s, f);\n",
    "    printf(\"%s\\n\", t);\n",
    "    return (0);\n",
    "}"
   ]
  },
  {
   "cell_type": "code",
   "execution_count": 229,
   "metadata": {},
   "outputs": [
    {
     "name": "stdout",
     "output_type": "stream",
     "text": [
      "Overwriting 0x09-static_libraries/main.h\n"
     ]
    }
   ],
   "source": [
    "%%file 0x09-static_libraries/main.h\n",
    "#ifndef FILE_MAIN\n",
    "#define FILE_MAIN\n",
    "\n",
    "#include <stdio.h>\n",
    "\n",
    "int _putchar(char x);\n",
    "int _islower(int x);\n",
    "int _isalpha(int x);\n",
    "int _abs(int);\n",
    "int _isupper(int c);\n",
    "int _isdigit(int c);\n",
    "char *_strcat(char *dest, char *src);\n",
    "char *_strncat(char *dest, char *src, int n);\n",
    "char *_strncpy(char *dest, char *src, int n);\n",
    "int _strcmp(char *s1, char *s2);\n",
    "void _puts(char *str);\n",
    "char *_memcpy(char *dest, char *src, unsigned int n);\n",
    "char *_memset(char *s, char b, unsigned int n);\n",
    "char *_strstr(char *haystack, char *needle);\n",
    "char *_strpbrk(char *s, char *accept);\n",
    "\n",
    "#endif\n"
   ]
  },
  {
   "cell_type": "code",
   "execution_count": 230,
   "metadata": {},
   "outputs": [
    {
     "name": "stdout",
     "output_type": "stream",
     "text": [
      "Overwriting 0x09-static_libraries/4-strpbrk.c\n"
     ]
    }
   ],
   "source": [
    "%%file 0x09-static_libraries/4-strpbrk.c\n",
    "#include \"main.h\"\n",
    "\n",
    "/**\n",
    "* _strpbrk - searches a string for any of a set of bytes\n",
    "* @s: the string to be searched\n",
    "* @accept: the string containing the list of characters to match in s\n",
    "*\n",
    "* Return: a pointer to the byte in s that matches one of the bytes in accept,\n",
    "*         or NULL if no such byte is found\n",
    "*/\n",
    "\n",
    "char *_strpbrk(char *s, char *accept)\n",
    "{\n",
    "char *a;\n",
    "\n",
    "while (*s)\n",
    "{\n",
    "for (a = accept; *a; a++)\n",
    "{\n",
    "if (*s == *a)\n",
    "{\n",
    "return (s);\n",
    "}\n",
    "}\n",
    "s++;\n",
    "}\n",
    "return (NULL);\n",
    "}\n"
   ]
  },
  {
   "cell_type": "code",
   "execution_count": 231,
   "metadata": {},
   "outputs": [
    {
     "name": "stdout",
     "output_type": "stream",
     "text": [
      "\n",
      "========== 0x09-static_libraries/4-strpbrk.c ==========\n",
      "_strpbrk\n",
      "llo, world\n"
     ]
    }
   ],
   "source": [
    "%%bash\n",
    "betty 0x09-static_libraries/4-strpbrk.c\n",
    "gcc -Wall -pedantic -Werror -Wextra -std=gnu89 0x09-static_libraries/4-main.c 0x09-static_libraries/4-strpbrk.c -o 0x09-static_libraries/4-strpbrk\n",
    "./0x09-static_libraries/4-strpbrk"
   ]
  },
  {
   "cell_type": "code",
   "execution_count": 232,
   "metadata": {},
   "outputs": [
    {
     "name": "stdout",
     "output_type": "stream",
     "text": [
      "[main eccabeb] alx-low_level_programming/0x09-static_libraries\n",
      " 2 files changed, 8 insertions(+), 12 deletions(-)\n"
     ]
    },
    {
     "name": "stderr",
     "output_type": "stream",
     "text": [
      "To https://github.com/elkomysara/alx-low_level_programming.git\n",
      "   104186e..eccabeb  main -> main\n"
     ]
    }
   ],
   "source": [
    "%%bash\n",
    "git add .\n",
    "git commit -m \"alx-low_level_programming/0x09-static_libraries\"\n",
    "git push"
   ]
  },
  {
   "cell_type": "markdown",
   "metadata": {},
   "source": [
    "##### strchr"
   ]
  },
  {
   "cell_type": "code",
   "execution_count": 233,
   "metadata": {},
   "outputs": [
    {
     "name": "stdout",
     "output_type": "stream",
     "text": [
      "Overwriting 0x09-static_libraries/2-main.c\n"
     ]
    }
   ],
   "source": [
    "%%file 0x09-static_libraries/2-main.c\n",
    "#include \"main.h\"\n",
    "#include <stdio.h>\n",
    "\n",
    "/**\n",
    " * main - check the code\n",
    " *\n",
    " * Return: Always 0.\n",
    " */\n",
    "int main(void)\n",
    "{\n",
    "    char *s = \"hello\";\n",
    "    char *f;\n",
    "\n",
    "    f = _strchr(s, 'l');\n",
    "\n",
    "    if (f != NULL)\n",
    "    {\n",
    "        printf(\"%s\\n\", f);\n",
    "    }\n",
    "    return (0);\n",
    "}"
   ]
  },
  {
   "cell_type": "code",
   "execution_count": 234,
   "metadata": {},
   "outputs": [
    {
     "name": "stdout",
     "output_type": "stream",
     "text": [
      "Overwriting 0x09-static_libraries/main.h\n"
     ]
    }
   ],
   "source": [
    "%%file 0x09-static_libraries/main.h\n",
    "#ifndef FILE_MAIN\n",
    "#define FILE_MAIN\n",
    "\n",
    "#include <stdio.h>\n",
    "\n",
    "int _putchar(char x);\n",
    "int _islower(int x);\n",
    "int _isalpha(int x);\n",
    "int _abs(int);\n",
    "int _isupper(int c);\n",
    "int _isdigit(int c);\n",
    "char *_strcat(char *dest, char *src);\n",
    "char *_strncat(char *dest, char *src, int n);\n",
    "char *_strncpy(char *dest, char *src, int n);\n",
    "int _strcmp(char *s1, char *s2);\n",
    "void _puts(char *str);\n",
    "char *_memcpy(char *dest, char *src, unsigned int n);\n",
    "char *_memset(char *s, char b, unsigned int n);\n",
    "char *_strstr(char *haystack, char *needle);\n",
    "char *_strpbrk(char *s, char *accept);\n",
    "char *_strchr(char *s, char c);\n",
    "\n",
    "#endif\n"
   ]
  },
  {
   "cell_type": "code",
   "execution_count": 235,
   "metadata": {},
   "outputs": [
    {
     "name": "stdout",
     "output_type": "stream",
     "text": [
      "Overwriting 0x09-static_libraries/2-strchr.c\n"
     ]
    }
   ],
   "source": [
    "%%file 0x09-static_libraries/2-strchr.c\n",
    "#include \"main.h\"\n",
    "\n",
    "/**\n",
    "* _strchr - locates a character in a string\n",
    "* @s: the string to be searched\n",
    "* @c: the character to be located\n",
    "*\n",
    "* Return: pointer to the first occurrence of the character c in the string s,\n",
    "*         or NULL if the character is not found\n",
    "*/\n",
    "char *_strchr(char *s, char c)\n",
    "{\n",
    "while (*s)\n",
    "{\n",
    "if (*s == c)\n",
    "{\n",
    "return (s);\n",
    "}\n",
    "s++;\n",
    "}\n",
    "if (c == '\\0')\n",
    "{\n",
    "return (s);\n",
    "}\n",
    "return (NULL);\n",
    "}\n"
   ]
  },
  {
   "cell_type": "code",
   "execution_count": 236,
   "metadata": {},
   "outputs": [
    {
     "name": "stdout",
     "output_type": "stream",
     "text": [
      "\n",
      "========== 0x09-static_libraries/2-strchr.c ==========\n",
      "_strchr\n",
      "llo\n"
     ]
    }
   ],
   "source": [
    "%%bash\n",
    "betty 0x09-static_libraries/2-strchr.c\n",
    "gcc -Wall -pedantic -Werror -Wextra -std=gnu89 0x09-static_libraries/2-main.c 0x09-static_libraries/2-strchr.c -o 0x09-static_libraries/2-strchr\n",
    "./0x09-static_libraries/2-strchr"
   ]
  },
  {
   "cell_type": "code",
   "execution_count": 237,
   "metadata": {},
   "outputs": [
    {
     "name": "stdout",
     "output_type": "stream",
     "text": [
      "[main 30470c0] alx-low_level_programming/0x09-static_libraries\n",
      " 2 files changed, 22 insertions(+), 41 deletions(-)\n",
      " rewrite 0x09-static_libraries/2-main.c (81%)\n"
     ]
    },
    {
     "name": "stderr",
     "output_type": "stream",
     "text": [
      "To https://github.com/elkomysara/alx-low_level_programming.git\n",
      "   eccabeb..30470c0  main -> main\n"
     ]
    }
   ],
   "source": [
    "%%bash\n",
    "git add .\n",
    "git commit -m \"alx-low_level_programming/0x09-static_libraries\"\n",
    "git push"
   ]
  },
  {
   "cell_type": "markdown",
   "metadata": {},
   "source": [
    "##### strspn"
   ]
  },
  {
   "cell_type": "code",
   "execution_count": 238,
   "metadata": {},
   "outputs": [
    {
     "name": "stdout",
     "output_type": "stream",
     "text": [
      "Overwriting 0x09-static_libraries/3-main.c\n"
     ]
    }
   ],
   "source": [
    "%%file 0x09-static_libraries/3-main.c\n",
    "#include \"main.h\"\n",
    "#include <stdio.h>\n",
    "\n",
    "/**\n",
    " * main - check the code\n",
    " *\n",
    " * Return: Always 0.\n",
    " */\n",
    "int main(void)\n",
    "{\n",
    "    char *s = \"hello, world\";\n",
    "    char *f = \"oleh\";\n",
    "    unsigned int n;\n",
    "\n",
    "    n = _strspn(s, f);\n",
    "    printf(\"%u\\n\", n);\n",
    "    return (0);\n",
    "}"
   ]
  },
  {
   "cell_type": "code",
   "execution_count": 239,
   "metadata": {},
   "outputs": [
    {
     "name": "stdout",
     "output_type": "stream",
     "text": [
      "Overwriting 0x09-static_libraries/main.h\n"
     ]
    }
   ],
   "source": [
    "%%file 0x09-static_libraries/main.h\n",
    "#ifndef FILE_MAIN\n",
    "#define FILE_MAIN\n",
    "\n",
    "#include <stdio.h>\n",
    "\n",
    "\n",
    "int _putchar(char x);\n",
    "int _islower(int x);\n",
    "int _isalpha(int x);\n",
    "int _abs(int);\n",
    "int _isupper(int c);\n",
    "int _isdigit(int c);\n",
    "char *_strcat(char *dest, char *src);\n",
    "char *_strncat(char *dest, char *src, int n);\n",
    "char *_strncpy(char *dest, char *src, int n);\n",
    "int _strcmp(char *s1, char *s2);\n",
    "void _puts(char *str);\n",
    "char *_memcpy(char *dest, char *src, unsigned int n);\n",
    "char *_memset(char *s, char b, unsigned int n);\n",
    "char *_strstr(char *haystack, char *needle);\n",
    "char *_strpbrk(char *s, char *accept);\n",
    "char *_strchr(char *s, char c);\n",
    "unsigned int _strspn(char *s, char *accept);\n",
    "\n",
    "#endif\n"
   ]
  },
  {
   "cell_type": "code",
   "execution_count": 240,
   "metadata": {},
   "outputs": [
    {
     "name": "stdout",
     "output_type": "stream",
     "text": [
      "Overwriting 0x09-static_libraries/3-strspn.c\n"
     ]
    }
   ],
   "source": [
    "%%file 0x09-static_libraries/3-strspn.c\n",
    "#include \"main.h\"\n",
    "/**\n",
    "* _strspn - gets the length of a prefix substring\n",
    "* @s: the string to be searched\n",
    "* @accept: the string containing the list of characters to match in s\n",
    "*\n",
    "* Return: the number of bytes in the initial segment of s\n",
    "*         which consist only of bytes from accept\n",
    "*/\n",
    "\n",
    "unsigned int _strspn(char *s, char *accept)\n",
    "{\n",
    "unsigned int count = 0;\n",
    "char *a;\n",
    "\n",
    "while (*s)\n",
    "{\n",
    "for (a = accept; *a; a++)\n",
    "{\n",
    "if (*s == *a)\n",
    "{\n",
    "break;\n",
    "}\n",
    "}\n",
    "if (*a == '\\0')\n",
    "{\n",
    "return (count);\n",
    "}\n",
    "count++;\n",
    "s++;\n",
    "}\n",
    "return (count);\n",
    "}\n"
   ]
  },
  {
   "cell_type": "code",
   "execution_count": 241,
   "metadata": {},
   "outputs": [
    {
     "name": "stdout",
     "output_type": "stream",
     "text": [
      "\n",
      "========== 0x09-static_libraries/3-strspn.c ==========\n",
      "_strspn\n",
      "5\n"
     ]
    }
   ],
   "source": [
    "%%bash\n",
    "betty 0x09-static_libraries/3-strspn.c\n",
    "gcc -Wall -pedantic -Werror -Wextra -std=gnu89 0x09-static_libraries/3-main.c 0x09-static_libraries/3-strspn.c -o 0x09-static_libraries/3-strspn\n",
    "./0x09-static_libraries/3-strspn"
   ]
  },
  {
   "cell_type": "code",
   "execution_count": 242,
   "metadata": {},
   "outputs": [
    {
     "name": "stdout",
     "output_type": "stream",
     "text": [
      "[main f8dfb03] alx-low_level_programming/0x09-static_libraries\n",
      " 2 files changed, 10 insertions(+), 5 deletions(-)\n"
     ]
    },
    {
     "name": "stderr",
     "output_type": "stream",
     "text": [
      "To https://github.com/elkomysara/alx-low_level_programming.git\n",
      "   30470c0..f8dfb03  main -> main\n"
     ]
    }
   ],
   "source": [
    "%%bash\n",
    "git add .\n",
    "git commit -m \"alx-low_level_programming/0x09-static_libraries\"\n",
    "git push"
   ]
  },
  {
   "cell_type": "markdown",
   "metadata": {},
   "source": [
    "##### strcpy"
   ]
  },
  {
   "cell_type": "code",
   "execution_count": 243,
   "metadata": {},
   "outputs": [
    {
     "name": "stdout",
     "output_type": "stream",
     "text": [
      "Overwriting 0x09-static_libraries/9-main.c\n"
     ]
    }
   ],
   "source": [
    "%%file 0x09-static_libraries/9-main.c\n",
    "#include \"main.h\"\n",
    "#include <stdio.h>\n",
    "\n",
    "/**\n",
    " * main - check the code\n",
    " *\n",
    " * Return: Always 0.\n",
    " */\n",
    "int main(void)\n",
    "{\n",
    "    char s1[98];\n",
    "    char *ptr;\n",
    "\n",
    "    ptr = _strcpy(s1, \"First, solve the problem. Then, write the code\\n\");\n",
    "    printf(\"%s\", s1);\n",
    "    printf(\"%s\", ptr);\n",
    "    return (0);\n",
    "}"
   ]
  },
  {
   "cell_type": "code",
   "execution_count": 244,
   "metadata": {},
   "outputs": [
    {
     "name": "stdout",
     "output_type": "stream",
     "text": [
      "Overwriting 0x09-static_libraries/main.h\n"
     ]
    }
   ],
   "source": [
    "%%file 0x09-static_libraries/main.h\n",
    "#ifndef FILE_MAIN\n",
    "#define FILE_MAIN\n",
    "\n",
    "#include <stdio.h>\n",
    "\n",
    "int _putchar(char x);\n",
    "int _islower(int x);\n",
    "int _isalpha(int x);\n",
    "int _abs(int);\n",
    "int _isupper(int c);\n",
    "int _isdigit(int c);\n",
    "char *_strcat(char *dest, char *src);\n",
    "char *_strncat(char *dest, char *src, int n);\n",
    "char *_strncpy(char *dest, char *src, int n);\n",
    "int _strcmp(char *s1, char *s2);\n",
    "void _puts(char *str);\n",
    "char *_memcpy(char *dest, char *src, unsigned int n);\n",
    "char *_memset(char *s, char b, unsigned int n);\n",
    "char *_strstr(char *haystack, char *needle);\n",
    "char *_strpbrk(char *s, char *accept);\n",
    "char *_strchr(char *s, char c);\n",
    "unsigned int _strspn(char *s, char *accept);\n",
    "char *_strcpy(char *dest, char *src);\n",
    "\n",
    "\n",
    "#endif\n"
   ]
  },
  {
   "cell_type": "code",
   "execution_count": 245,
   "metadata": {},
   "outputs": [
    {
     "name": "stdout",
     "output_type": "stream",
     "text": [
      "Overwriting 0x09-static_libraries/9-strcpy.c\n"
     ]
    }
   ],
   "source": [
    "%%file 0x09-static_libraries/9-strcpy.c\n",
    "#include <stdio.h>\n",
    "\n",
    "/**\n",
    "* _strcpy - Copies the string pointed to by src,\n",
    "* including the terminating null byte, to the buffer pointed to by dest\n",
    "* @dest: Destination buffer\n",
    "* @src: Source string\n",
    "*\n",
    "* Return: Pointer to dest\n",
    "*/\n",
    "char *_strcpy(char *dest, const char *src)\n",
    "{\n",
    "\n",
    "/* Save the starting point of dest to return later */\n",
    "\n",
    "char *ptr = dest;\n",
    "\n",
    "while (*src) /* Loop until the end of the source string */\n",
    "{\n",
    "*dest++ = *src++;    /* Copy the current character from src to dest */\n",
    "}\n",
    "*dest = '\\0';        /* Add the terminating null byte at the end of dest */\n",
    "\n",
    "return (ptr);          /* Return the original pointer to dest */\n",
    "}\n",
    "\n"
   ]
  },
  {
   "cell_type": "code",
   "execution_count": 246,
   "metadata": {},
   "outputs": [
    {
     "name": "stdout",
     "output_type": "stream",
     "text": [
      "\n",
      "========== 0x09-static_libraries/9-strcpy.c ==========\n"
     ]
    },
    {
     "name": "stdout",
     "output_type": "stream",
     "text": [
      "_strcpy\n",
      "First, solve the problem. Then, write the code\n",
      "First, solve the problem. Then, write the code\n"
     ]
    }
   ],
   "source": [
    "%%bash\n",
    "betty 0x09-static_libraries/9-strcpy.c\n",
    "gcc -Wall -pedantic -Werror -Wextra -std=gnu89 0x09-static_libraries/9-main.c 0x09-static_libraries/9-strcpy.c -o 0x09-static_libraries/9-strcpy\n",
    "./0x09-static_libraries/9-strcpy"
   ]
  },
  {
   "cell_type": "code",
   "execution_count": 247,
   "metadata": {},
   "outputs": [
    {
     "name": "stdout",
     "output_type": "stream",
     "text": [
      "[main 94abe7c] alx-low_level_programming/0x04-more_functions_nested_loops\n",
      " 1 file changed, 2 insertions(+), 1 deletion(-)\n"
     ]
    },
    {
     "name": "stderr",
     "output_type": "stream",
     "text": [
      "To https://github.com/elkomysara/alx-low_level_programming.git\n",
      "   f8dfb03..94abe7c  main -> main\n"
     ]
    }
   ],
   "source": [
    "%%bash\n",
    "git add .\n",
    "git commit -m \"alx-low_level_programming/0x04-more_functions_nested_loops\"\n",
    "git push"
   ]
  },
  {
   "cell_type": "markdown",
   "metadata": {},
   "source": [
    "##### atoi"
   ]
  },
  {
   "cell_type": "code",
   "execution_count": 248,
   "metadata": {},
   "outputs": [
    {
     "name": "stdout",
     "output_type": "stream",
     "text": [
      "Overwriting 0x09-static_libraries/main.h\n"
     ]
    }
   ],
   "source": [
    "%%file 0x09-static_libraries/main.h\n",
    "#ifndef FILE_MAIN\n",
    "#define FILE_MAIN\n",
    "\n",
    "#include <stdio.h>\n",
    "\n",
    "int _putchar(char x);\n",
    "int _islower(int x);\n",
    "int _isalpha(int x);\n",
    "int _abs(int);\n",
    "int _isupper(int c);\n",
    "int _isdigit(int c);\n",
    "char *_strcat(char *dest, char *src);\n",
    "char *_strncat(char *dest, char *src, int n);\n",
    "char *_strncpy(char *dest, char *src, int n);\n",
    "int _strcmp(char *s1, char *s2);\n",
    "void _puts(char *str);\n",
    "char *_memcpy(char *dest, char *src, unsigned int n);\n",
    "char *_memset(char *s, char b, unsigned int n);\n",
    "char *_strstr(char *haystack, char *needle);\n",
    "char *_strpbrk(char *s, char *accept);\n",
    "char *_strchr(char *s, char c);\n",
    "unsigned int _strspn(char *s, char *accept);\n",
    "char *_strcpy(char *dest, char *src);\n",
    "int _atoi(char *s);\n",
    "\n",
    "\n",
    "#endif\n"
   ]
  },
  {
   "cell_type": "code",
   "execution_count": 249,
   "metadata": {},
   "outputs": [
    {
     "name": "stdout",
     "output_type": "stream",
     "text": [
      "Overwriting 0x09-static_libraries/100-main.c\n"
     ]
    }
   ],
   "source": [
    "%%file 0x09-static_libraries/100-main.c\n",
    "#include \"main.h\"\n",
    "#include <stdio.h>\n",
    "\n",
    "/**\n",
    " * main - check the code\n",
    " *\n",
    " * Return: Always 0.\n",
    " */\n",
    "int main(void)\n",
    "{\n",
    "    int nb;\n",
    "\n",
    "    nb = _atoi(\"98\");\n",
    "    printf(\"%d\\n\", nb);\n",
    "    nb = _atoi(\"-402\");\n",
    "    printf(\"%d\\n\", nb);\n",
    "    nb = _atoi(\"          ------++++++-----+++++--98\");\n",
    "    printf(\"%d\\n\", nb);\n",
    "    nb = _atoi(\"214748364\");\n",
    "    printf(\"%d\\n\", nb);\n",
    "    nb = _atoi(\"0\");\n",
    "    printf(\"%d\\n\", nb);\n",
    "    nb = _atoi(\"Suite 402\");\n",
    "    printf(\"%d\\n\", nb);\n",
    "    nb = _atoi(\"         +      +    -    -98 Battery Street; San Francisco, CA 94111 - USA             \");\n",
    "    printf(\"%d\\n\", nb);\n",
    "    nb = _atoi(\"---++++ -++ Sui - te -   402 #cisfun :)\");\n",
    "    printf(\"%d\\n\", nb);\n",
    "    return (0);\n",
    "}"
   ]
  },
  {
   "cell_type": "code",
   "execution_count": 250,
   "metadata": {},
   "outputs": [
    {
     "name": "stdout",
     "output_type": "stream",
     "text": [
      "Overwriting 0x09-static_libraries/100-atoi.c\n"
     ]
    }
   ],
   "source": [
    "%%file 0x09-static_libraries/100-atoi.c\n",
    "#include \"main.h\"\n",
    "#include <limits.h>\n",
    "/**\n",
    "* _atoi - Converts a string to an integer\n",
    "* @s: The string to be converted\n",
    "*\n",
    "* Return: The integer value of the converted string\n",
    "*/\n",
    "\n",
    "int _atoi(char *s)\n",
    "{\n",
    "int i = 0;\n",
    "int sign = 1;\n",
    "int result = 0;\n",
    "int number_started = 0;\n",
    "\n",
    "while (s[i] != '\\0')\n",
    "{\n",
    "int digit; /* Declare digit at the beginning of the block */\n",
    "/* Skip non-numeric characters except sign symbols */\n",
    "if (s[i] == '-' && !number_started)\n",
    "{\n",
    "sign = -sign;\n",
    "}\n",
    "else if (s[i] == '+' && !number_started)\n",
    "{\n",
    "/* Just move to the next character */\n",
    "}\n",
    "else if (s[i] >= '0' && s[i] <= '9')\n",
    "{\n",
    "number_started = 1;\n",
    "digit = s[i] - '0';\n",
    "\n",
    "/* Check for potential overflow */\n",
    "if (result > (INT_MAX - digit) / 10)\n",
    "{\n",
    "/* Overflow detected, return max value or min value based on sign */\n",
    "return (sign > 0 ? INT_MAX : INT_MIN);\n",
    "}\n",
    "\n",
    "result = result * 10 + digit;\n",
    "}\n",
    "else if (number_started)\n",
    "{\n",
    "/* Break on first non-numeric character after starting number */\n",
    "break;\n",
    "}\n",
    "i++;\n",
    "}\n",
    "\n",
    "return (sign *result);\n",
    "}"
   ]
  },
  {
   "cell_type": "code",
   "execution_count": 251,
   "metadata": {},
   "outputs": [
    {
     "name": "stdout",
     "output_type": "stream",
     "text": [
      "\n",
      "========== 0x09-static_libraries/100-atoi.c ==========\n",
      "_atoi\n",
      "98\n",
      "-402\n",
      "-98\n",
      "214748364\n",
      "0\n",
      "402\n",
      "98\n",
      "402\n"
     ]
    }
   ],
   "source": [
    "%%bash\n",
    "betty 0x09-static_libraries/100-atoi.c\n",
    "gcc -Wall -pedantic -Werror -Wextra -std=gnu89 -fsanitize=signed-integer-overflow 0x09-static_libraries/100-main.c 0x09-static_libraries/100-atoi.c -o 0x09-static_libraries/100-atoi\n",
    "./0x09-static_libraries/100-atoi"
   ]
  },
  {
   "cell_type": "code",
   "execution_count": 252,
   "metadata": {},
   "outputs": [
    {
     "name": "stdout",
     "output_type": "stream",
     "text": [
      "[main 65e0c8c] alx-low_level_programming/0x04-more_functions_nested_loops\n",
      " 1 file changed, 1 insertion(+)\n"
     ]
    },
    {
     "name": "stderr",
     "output_type": "stream",
     "text": [
      "To https://github.com/elkomysara/alx-low_level_programming.git\n",
      "   94abe7c..65e0c8c  main -> main\n"
     ]
    }
   ],
   "source": [
    "%%bash\n",
    "git add .\n",
    "git commit -m \"alx-low_level_programming/0x04-more_functions_nested_loops\"\n",
    "git push"
   ]
  },
  {
   "cell_type": "markdown",
   "metadata": {},
   "source": [
    "##### strncat"
   ]
  },
  {
   "cell_type": "code",
   "execution_count": 253,
   "metadata": {},
   "outputs": [
    {
     "name": "stdout",
     "output_type": "stream",
     "text": [
      "Overwriting 0x09-static_libraries/1-main.c\n"
     ]
    }
   ],
   "source": [
    "%%file 0x09-static_libraries/1-main.c\n",
    "#include \"main.h\"\n",
    "#include <stdio.h>\n",
    "\n",
    "/**\n",
    " * main - check the code\n",
    " *\n",
    " * Return: Always 0.\n",
    " */\n",
    "int main(void)\n",
    "{\n",
    "    char s1[98] = \"Hello \";\n",
    "    char s2[] = \"World!\\n\";\n",
    "    char *ptr;\n",
    "\n",
    "    printf(\"%s\\n\", s1);\n",
    "    printf(\"%s\", s2);\n",
    "    ptr = _strncat(s1, s2, 1);\n",
    "    printf(\"%s\\n\", s1);\n",
    "    printf(\"%s\", s2);\n",
    "    printf(\"%s\\n\", ptr);\n",
    "    ptr = _strncat(s1, s2, 1024);\n",
    "    printf(\"%s\", s1);\n",
    "    printf(\"%s\", s2);\n",
    "    printf(\"%s\", ptr);\n",
    "    return (0);\n",
    "}"
   ]
  },
  {
   "cell_type": "code",
   "execution_count": 254,
   "metadata": {},
   "outputs": [
    {
     "name": "stdout",
     "output_type": "stream",
     "text": [
      "Overwriting 0x09-static_libraries/main.h\n"
     ]
    }
   ],
   "source": [
    "%%file 0x09-static_libraries/main.h\n",
    "#ifndef FILE_MAIN\n",
    "#define FILE_MAIN\n",
    "\n",
    "#include <stdio.h>\n",
    "\n",
    "\n",
    "int _putchar(char x);\n",
    "int _islower(int x);\n",
    "int _isalpha(int x);\n",
    "int _abs(int);\n",
    "int _isupper(int c);\n",
    "int _isdigit(int c);\n",
    "char *_strcat(char *dest, char *src);\n",
    "char *_strncat(char *dest, char *src, int n);\n",
    "char *_strncpy(char *dest, char *src, int n);\n",
    "int _strcmp(char *s1, char *s2);\n",
    "void _puts(char *str);\n",
    "char *_memcpy(char *dest, char *src, unsigned int n);\n",
    "char *_memset(char *s, char b, unsigned int n);\n",
    "char *_strstr(char *haystack, char *needle);\n",
    "char *_strpbrk(char *s, char *accept);\n",
    "char *_strchr(char *s, char c);\n",
    "unsigned int _strspn(char *s, char *accept);\n",
    "char *_strcpy(char *dest, char *src);\n",
    "int _atoi(char *s);\n",
    "char *_strncat(char *dest, char *src, int n);\n",
    "\n",
    "\n",
    "#endif\n"
   ]
  },
  {
   "cell_type": "code",
   "execution_count": 255,
   "metadata": {},
   "outputs": [
    {
     "name": "stdout",
     "output_type": "stream",
     "text": [
      "Overwriting 0x09-static_libraries/1-strncat.c\n"
     ]
    }
   ],
   "source": [
    "%%file 0x09-static_libraries/1-strncat.c\n",
    "#include \"main.h\"\n",
    "\n",
    "/**\n",
    "* _strncat - Concatenates two strings.\n",
    "* @dest: Pointer to the destination string.\n",
    "* @src: Pointer to the source string.\n",
    "* @n:  Maximum number of bytes to append from src.\n",
    "*\n",
    "* Return: A pointer to the resulting string (dest).\n",
    "*/\n",
    "char *_strncat(char *dest, char *src, int n)\n",
    "{\n",
    "char *dest_start = dest;\n",
    "/* Find the end of the destination string */\n",
    "while (*dest)\n",
    "{\n",
    "dest++;\n",
    "}\n",
    "/* loops through the source string, appending characters to dest */\n",
    "while (n > 0 && *src)\n",
    "{\n",
    "*dest = *src;\n",
    "dest++;\n",
    "src++;\n",
    "/* decrement n after each character is copied */\n",
    "n--;\n",
    "}\n",
    "/* Add null terminator if n allows and source string isn;t empty */\n",
    "\n",
    "*dest = '\\0';\n",
    "\n",
    "/* Return a pointer to the resulting string (dest) */\n",
    "return (dest_start);\n",
    "\n",
    "}"
   ]
  },
  {
   "cell_type": "code",
   "execution_count": 256,
   "metadata": {},
   "outputs": [
    {
     "name": "stdout",
     "output_type": "stream",
     "text": [
      "Overwriting 0x09-static_libraries/_putchar.c\n"
     ]
    }
   ],
   "source": [
    "%%file 0x09-static_libraries/_putchar.c\n",
    "#include <unistd.h>\n",
    "#include \"main.h\"\n",
    "/**\n",
    " * _putchar - writes the character c to stdout\n",
    " * @c: The character to print\n",
    " *\n",
    " * Return: On success 1.\n",
    " * On error, -1 is returned, and errno is set appropriately.\n",
    " */\n",
    "int _putchar(char c)\n",
    "{\n",
    "\treturn (write(1, &c, 1));\n",
    "}\n"
   ]
  },
  {
   "cell_type": "code",
   "execution_count": 257,
   "metadata": {},
   "outputs": [
    {
     "name": "stdout",
     "output_type": "stream",
     "text": [
      "\n",
      "========== 0x09-static_libraries/1-strncat.c ==========\n",
      "_strncat\n",
      "Hello \n",
      "World!\n",
      "Hello W\n",
      "World!\n",
      "Hello W\n",
      "Hello WWorld!\n",
      "World!\n",
      "Hello WWorld!\n"
     ]
    }
   ],
   "source": [
    "%%bash\n",
    "betty 0x09-static_libraries/1-strncat.c\n",
    "gcc -Wall -pedantic -Werror -Wextra -std=gnu89 0x09-static_libraries/1-main.c 0x09-static_libraries/1-strncat.c -o 0x09-static_libraries/1-strncat\n",
    "./0x09-static_libraries/1-strncat"
   ]
  },
  {
   "cell_type": "code",
   "execution_count": 258,
   "metadata": {},
   "outputs": [
    {
     "name": "stdout",
     "output_type": "stream",
     "text": [
      "[main 2028a8d] alx-low_level_programming/0x09-static_libraries\n",
      " 2 files changed, 28 insertions(+), 47 deletions(-)\n",
      " rewrite 0x09-static_libraries/1-main.c (85%)\n"
     ]
    },
    {
     "name": "stderr",
     "output_type": "stream",
     "text": [
      "To https://github.com/elkomysara/alx-low_level_programming.git\n",
      "   65e0c8c..2028a8d  main -> main\n"
     ]
    }
   ],
   "source": [
    "%%bash\n",
    "git add .\n",
    "git commit -m \"alx-low_level_programming/0x09-static_libraries\"\n",
    "git push"
   ]
  },
  {
   "cell_type": "markdown",
   "metadata": {},
   "source": [
    "##### strlen"
   ]
  },
  {
   "cell_type": "code",
   "execution_count": 259,
   "metadata": {},
   "outputs": [
    {
     "name": "stdout",
     "output_type": "stream",
     "text": [
      "Overwriting 0x09-static_libraries/2-main.c\n"
     ]
    }
   ],
   "source": [
    "%%file 0x09-static_libraries/2-main.c\n",
    "#include \"main.h\"\n",
    "#include <stdio.h>\n",
    "\n",
    "/**\n",
    " * main - check the code\n",
    " *\n",
    " * Return: Always 0.\n",
    " */\n",
    "int main(void)\n",
    "{\n",
    "    char *str;\n",
    "    int len;\n",
    "\n",
    "    str = \"My first strlen!\";\n",
    "    len = _strlen(str);\n",
    "    printf(\"%d\\n\", len);\n",
    "    return (0);\n",
    "}"
   ]
  },
  {
   "cell_type": "code",
   "execution_count": 260,
   "metadata": {},
   "outputs": [
    {
     "name": "stdout",
     "output_type": "stream",
     "text": [
      "Overwriting 0x09-static_libraries/main.h\n"
     ]
    }
   ],
   "source": [
    "%%file 0x09-static_libraries/main.h\n",
    "#ifndef FILE_MAIN\n",
    "#define FILE_MAIN\n",
    "\n",
    "#include <stdio.h>\n",
    "\n",
    "int _putchar(char c);\n",
    "void reset_to_98(int *n);\n",
    "void swap_int(int *a, int *b);\n",
    "int _strlen(char *s);\n",
    "\n",
    "\n",
    "#endif\n"
   ]
  },
  {
   "cell_type": "code",
   "execution_count": 261,
   "metadata": {},
   "outputs": [
    {
     "name": "stdout",
     "output_type": "stream",
     "text": [
      "Overwriting 0x09-static_libraries/2-strlen.c\n"
     ]
    }
   ],
   "source": [
    "%%file 0x09-static_libraries/2-strlen.c\n",
    "#include \"main.h\"\n",
    "\n",
    "/**\n",
    " * _strlen - returns the length of a string.\n",
    " * @s: the string to measure.\n",
    " *\n",
    " * Return: the length of the string.\n",
    " */\n",
    "int _strlen(char *s)\n",
    "{\n",
    "int length = 0;\n",
    "\n",
    "while (*s != '\\0')\n",
    "{\n",
    "length++;\n",
    "s++;\n",
    "}\n",
    "\n",
    "return (length);\n",
    "}"
   ]
  },
  {
   "cell_type": "code",
   "execution_count": 262,
   "metadata": {},
   "outputs": [
    {
     "name": "stdout",
     "output_type": "stream",
     "text": [
      "\n",
      "========== 0x09-static_libraries/2-strlen.c ==========\n"
     ]
    },
    {
     "name": "stdout",
     "output_type": "stream",
     "text": [
      "_strlen\n",
      "16\n"
     ]
    }
   ],
   "source": [
    "%%bash\n",
    "betty 0x09-static_libraries/2-strlen.c\n",
    "gcc -Wall -pedantic -Werror -Wextra -std=gnu89 0x09-static_libraries/2-main.c 0x09-static_libraries/2-strlen.c -o 0x09-static_libraries/2-strlen\n",
    "./0x09-static_libraries/2-strlen"
   ]
  },
  {
   "cell_type": "code",
   "execution_count": 263,
   "metadata": {},
   "outputs": [
    {
     "name": "stdout",
     "output_type": "stream",
     "text": [
      "[main eaf34e7] alx-low_level_programming/0x04-more_functions_nested_loops\n",
      " 2 files changed, 17 insertions(+), 37 deletions(-)\n",
      " rewrite 0x09-static_libraries/main.h (91%)\n"
     ]
    },
    {
     "name": "stderr",
     "output_type": "stream",
     "text": [
      "To https://github.com/elkomysara/alx-low_level_programming.git\n",
      "   2028a8d..eaf34e7  main -> main\n"
     ]
    }
   ],
   "source": [
    "%%bash\n",
    "git add .\n",
    "git commit -m \"alx-low_level_programming/0x04-more_functions_nested_loops\"\n",
    "git push"
   ]
  },
  {
   "cell_type": "markdown",
   "metadata": {},
   "source": [
    "##### strcmp"
   ]
  },
  {
   "cell_type": "code",
   "execution_count": 264,
   "metadata": {},
   "outputs": [
    {
     "name": "stdout",
     "output_type": "stream",
     "text": [
      "Overwriting 0x09-static_libraries/3-main.c\n"
     ]
    }
   ],
   "source": [
    "%%file 0x09-static_libraries/3-main.c\n",
    "#include \"main.h\"\n",
    "#include <stdio.h>\n",
    "\n",
    "/**\n",
    " * main - check the code\n",
    " *\n",
    " * Return: Always 0.\n",
    " */\n",
    "int main(void)\n",
    "{\n",
    "    char s1[] = \"Hello\";\n",
    "    char s2[] = \"World!\";\n",
    "\n",
    "    printf(\"%d\\n\", _strcmp(s1, s2));\n",
    "    printf(\"%d\\n\", _strcmp(s2, s1));\n",
    "    printf(\"%d\\n\", _strcmp(s1, s1));\n",
    "    return (0);\n",
    "}"
   ]
  },
  {
   "cell_type": "code",
   "execution_count": 265,
   "metadata": {},
   "outputs": [
    {
     "name": "stdout",
     "output_type": "stream",
     "text": [
      "Overwriting 0x09-static_libraries/main.h\n"
     ]
    }
   ],
   "source": [
    "%%file 0x09-static_libraries/main.h\n",
    "#ifndef FILE_MAIN\n",
    "#define FILE_MAIN\n",
    "\n",
    "#include <stdio.h>\n",
    "\n",
    "int _putchar(char c);\n",
    "char *_strcat(char *dest, char *src);\n",
    "char *_strncat(char *dest, char *src, int n);\n",
    "char *_strncpy(char *dest, char *src, int n);\n",
    "int _strcmp(char *s1, char *s2);\n",
    "void reverse_array(int *a, int n);\n",
    "\n",
    "#endif\n"
   ]
  },
  {
   "cell_type": "code",
   "execution_count": 266,
   "metadata": {},
   "outputs": [
    {
     "name": "stdout",
     "output_type": "stream",
     "text": [
      "Overwriting 0x09-static_libraries/3-strcmp.c\n"
     ]
    }
   ],
   "source": [
    "%%file 0x09-static_libraries/3-strcmp.c\n",
    "#include \"main.h\"\n",
    "\n",
    "/**\n",
    "* _strcmp - Compares two strings.\n",
    "* @s1: the first string.\n",
    "* @s2: the second string.\n",
    "*\n",
    "* Return: s2 minus s1\n",
    "*/\n",
    "\n",
    "int _strcmp(char *s1, char *s2)\n",
    "{\n",
    "while (*s1 && (*s1 == *s2))\n",
    "{\n",
    "s1++;\n",
    "s2++;\n",
    "}\n",
    "return (*s1 - *s2);\n",
    "}\n"
   ]
  },
  {
   "cell_type": "code",
   "execution_count": 267,
   "metadata": {},
   "outputs": [
    {
     "name": "stdout",
     "output_type": "stream",
     "text": [
      "\n",
      "========== 0x09-static_libraries/3-strcmp.c ==========\n",
      "_strcmp\n",
      "-15\n",
      "15\n",
      "0\n"
     ]
    }
   ],
   "source": [
    "%%bash\n",
    "betty 0x09-static_libraries/3-strcmp.c\n",
    "gcc -Wall -pedantic -Werror -Wextra -std=gnu89 0x09-static_libraries/3-main.c 0x09-static_libraries/3-strcmp.c -o 0x09-static_libraries/3-strcmp\n",
    "./0x09-static_libraries/3-strcmp"
   ]
  },
  {
   "cell_type": "code",
   "execution_count": 268,
   "metadata": {},
   "outputs": [
    {
     "name": "stdout",
     "output_type": "stream",
     "text": [
      "[main fbbef36] alx-low_level_programming/0x09-static_libraries\n",
      " 2 files changed, 10 insertions(+), 9 deletions(-)\n"
     ]
    },
    {
     "name": "stderr",
     "output_type": "stream",
     "text": [
      "To https://github.com/elkomysara/alx-low_level_programming.git\n",
      "   eaf34e7..fbbef36  main -> main\n"
     ]
    }
   ],
   "source": [
    "%%bash\n",
    "git add .\n",
    "git commit -m \"alx-low_level_programming/0x09-static_libraries\"\n",
    "git push"
   ]
  },
  {
   "cell_type": "code",
   "execution_count": 269,
   "metadata": {},
   "outputs": [
    {
     "name": "stderr",
     "output_type": "stream",
     "text": [
      "ls: cannot access '*.o': No such file or directory\n"
     ]
    },
    {
     "name": "stdout",
     "output_type": "stream",
     "text": [
      "0x09-static_libraries/:\n",
      "0-isupper\n",
      "0-isupper.c\n",
      "0-isupper.o\n",
      "0-main.c\n",
      "0-memset\n",
      "0-memset.c\n",
      "0-memset.o\n",
      "0-putchar\n",
      "0-putchar.c\n",
      "0-strcat\n",
      "0-strcat.c\n",
      "0-strcat.o\n",
      "1-isdigit\n",
      "1-isdigit.c\n",
      "1-isdigit.o\n",
      "1-main.c\n",
      "1-memcpy\n",
      "1-memcpy.c\n",
      "1-memcpy.o\n",
      "1-strncat\n",
      "1-strncat.c\n",
      "1-strncat.o\n",
      "100-atoi\n",
      "100-atoi.c\n",
      "100-atoi.o\n",
      "100-main.c\n",
      "2-main.c\n",
      "2-strchr\n",
      "2-strchr.c\n",
      "2-strchr.o\n",
      "2-strcpy\n",
      "2-strcpy.c\n",
      "2-strlen\n",
      "2-strlen.c\n",
      "2-strlen.o\n",
      "2-strncpy\n",
      "2-strncpy.c\n",
      "2-strncpy.o\n",
      "3-islower\n",
      "3-islower.c\n",
      "3-islower.o\n",
      "3-main.c\n",
      "3-puts\n",
      "3-puts.c\n",
      "3-puts.o\n",
      "3-strcmp\n",
      "3-strcmp.c\n",
      "3-strcmp.o\n",
      "3-strspn\n",
      "3-strspn.c\n",
      "3-strspn.o\n",
      "4-isalpha\n",
      "4-isalpha.c\n",
      "4-isalpha.o\n",
      "4-main.c\n",
      "4-strpbrk\n",
      "4-strpbrk.c\n",
      "4-strpbrk.o\n",
      "5-main.c\n",
      "5-strstr\n",
      "5-strstr.c\n",
      "5-strstr.o\n",
      "6-abs\n",
      "6-abs.c\n",
      "6-abs.o\n",
      "6-main.c\n",
      "9-main.c\n",
      "9-strcpy\n",
      "9-strcpy.c\n",
      "9-strcpy.o\n",
      "README.md\n",
      "_putchar.c\n",
      "_putchar.o\n",
      "libmy.a\n",
      "main.h\n"
     ]
    },
    {
     "ename": "CalledProcessError",
     "evalue": "Command 'b'ls 0x09-static_libraries/ *.o\\n'' returned non-zero exit status 2.",
     "output_type": "error",
     "traceback": [
      "\u001b[0;31m---------------------------------------------------------------------------\u001b[0m",
      "\u001b[0;31mCalledProcessError\u001b[0m                        Traceback (most recent call last)",
      "Cell \u001b[0;32mIn[269], line 1\u001b[0m\n\u001b[0;32m----> 1\u001b[0m \u001b[43mget_ipython\u001b[49m\u001b[43m(\u001b[49m\u001b[43m)\u001b[49m\u001b[38;5;241;43m.\u001b[39;49m\u001b[43mrun_cell_magic\u001b[49m\u001b[43m(\u001b[49m\u001b[38;5;124;43m'\u001b[39;49m\u001b[38;5;124;43mbash\u001b[39;49m\u001b[38;5;124;43m'\u001b[39;49m\u001b[43m,\u001b[49m\u001b[43m \u001b[49m\u001b[38;5;124;43m'\u001b[39;49m\u001b[38;5;124;43m'\u001b[39;49m\u001b[43m,\u001b[49m\u001b[43m \u001b[49m\u001b[38;5;124;43m'\u001b[39;49m\u001b[38;5;124;43mls 0x09-static_libraries/ *.o\u001b[39;49m\u001b[38;5;130;43;01m\\n\u001b[39;49;00m\u001b[38;5;124;43m'\u001b[39;49m\u001b[43m)\u001b[49m\n",
      "File \u001b[0;32m~/anaconda3/envs/alxse/lib/python3.12/site-packages/IPython/core/interactiveshell.py:2541\u001b[0m, in \u001b[0;36mInteractiveShell.run_cell_magic\u001b[0;34m(self, magic_name, line, cell)\u001b[0m\n\u001b[1;32m   2539\u001b[0m \u001b[38;5;28;01mwith\u001b[39;00m \u001b[38;5;28mself\u001b[39m\u001b[38;5;241m.\u001b[39mbuiltin_trap:\n\u001b[1;32m   2540\u001b[0m     args \u001b[38;5;241m=\u001b[39m (magic_arg_s, cell)\n\u001b[0;32m-> 2541\u001b[0m     result \u001b[38;5;241m=\u001b[39m \u001b[43mfn\u001b[49m\u001b[43m(\u001b[49m\u001b[38;5;241;43m*\u001b[39;49m\u001b[43margs\u001b[49m\u001b[43m,\u001b[49m\u001b[43m \u001b[49m\u001b[38;5;241;43m*\u001b[39;49m\u001b[38;5;241;43m*\u001b[39;49m\u001b[43mkwargs\u001b[49m\u001b[43m)\u001b[49m\n\u001b[1;32m   2543\u001b[0m \u001b[38;5;66;03m# The code below prevents the output from being displayed\u001b[39;00m\n\u001b[1;32m   2544\u001b[0m \u001b[38;5;66;03m# when using magics with decorator @output_can_be_silenced\u001b[39;00m\n\u001b[1;32m   2545\u001b[0m \u001b[38;5;66;03m# when the last Python token in the expression is a ';'.\u001b[39;00m\n\u001b[1;32m   2546\u001b[0m \u001b[38;5;28;01mif\u001b[39;00m \u001b[38;5;28mgetattr\u001b[39m(fn, magic\u001b[38;5;241m.\u001b[39mMAGIC_OUTPUT_CAN_BE_SILENCED, \u001b[38;5;28;01mFalse\u001b[39;00m):\n",
      "File \u001b[0;32m~/anaconda3/envs/alxse/lib/python3.12/site-packages/IPython/core/magics/script.py:155\u001b[0m, in \u001b[0;36mScriptMagics._make_script_magic.<locals>.named_script_magic\u001b[0;34m(line, cell)\u001b[0m\n\u001b[1;32m    153\u001b[0m \u001b[38;5;28;01melse\u001b[39;00m:\n\u001b[1;32m    154\u001b[0m     line \u001b[38;5;241m=\u001b[39m script\n\u001b[0;32m--> 155\u001b[0m \u001b[38;5;28;01mreturn\u001b[39;00m \u001b[38;5;28;43mself\u001b[39;49m\u001b[38;5;241;43m.\u001b[39;49m\u001b[43mshebang\u001b[49m\u001b[43m(\u001b[49m\u001b[43mline\u001b[49m\u001b[43m,\u001b[49m\u001b[43m \u001b[49m\u001b[43mcell\u001b[49m\u001b[43m)\u001b[49m\n",
      "File \u001b[0;32m~/anaconda3/envs/alxse/lib/python3.12/site-packages/IPython/core/magics/script.py:315\u001b[0m, in \u001b[0;36mScriptMagics.shebang\u001b[0;34m(self, line, cell)\u001b[0m\n\u001b[1;32m    310\u001b[0m \u001b[38;5;28;01mif\u001b[39;00m args\u001b[38;5;241m.\u001b[39mraise_error \u001b[38;5;129;01mand\u001b[39;00m p\u001b[38;5;241m.\u001b[39mreturncode \u001b[38;5;241m!=\u001b[39m \u001b[38;5;241m0\u001b[39m:\n\u001b[1;32m    311\u001b[0m     \u001b[38;5;66;03m# If we get here and p.returncode is still None, we must have\u001b[39;00m\n\u001b[1;32m    312\u001b[0m     \u001b[38;5;66;03m# killed it but not yet seen its return code. We don't wait for it,\u001b[39;00m\n\u001b[1;32m    313\u001b[0m     \u001b[38;5;66;03m# in case it's stuck in uninterruptible sleep. -9 = SIGKILL\u001b[39;00m\n\u001b[1;32m    314\u001b[0m     rc \u001b[38;5;241m=\u001b[39m p\u001b[38;5;241m.\u001b[39mreturncode \u001b[38;5;129;01mor\u001b[39;00m \u001b[38;5;241m-\u001b[39m\u001b[38;5;241m9\u001b[39m\n\u001b[0;32m--> 315\u001b[0m     \u001b[38;5;28;01mraise\u001b[39;00m CalledProcessError(rc, cell)\n",
      "\u001b[0;31mCalledProcessError\u001b[0m: Command 'b'ls 0x09-static_libraries/ *.o\\n'' returned non-zero exit status 2."
     ]
    }
   ],
   "source": [
    "%%bash\n",
    "ls 0x09-static_libraries/ *.o\n"
   ]
  },
  {
   "cell_type": "code",
   "execution_count": null,
   "metadata": {},
   "outputs": [],
   "source": [
    "%%bash\n",
    "cd /home/elkomy/alx/alx-low_level_programming/0x09-static_libraries\n",
    "gcc -c \\\n",
    "/home/elkomy/alx/alx-low_level_programming/0x09-static_libraries/0-isupper.c \\\n",
    "/home/elkomy/alx/alx-low_level_programming/0x09-static_libraries/0-memset.c \\\n",
    "/home/elkomy/alx/alx-low_level_programming/0x09-static_libraries/0-strcat.c \\\n",
    "/home/elkomy/alx/alx-low_level_programming/0x09-static_libraries/1-isdigit.c \\\n",
    "/home/elkomy/alx/alx-low_level_programming/0x09-static_libraries/1-memcpy.c \\\n",
    "/home/elkomy/alx/alx-low_level_programming/0x09-static_libraries/1-strncat.c \\\n",
    "/home/elkomy/alx/alx-low_level_programming/0x09-static_libraries/100-atoi.c \\\n",
    "/home/elkomy/alx/alx-low_level_programming/0x09-static_libraries/2-strchr.c \\\n",
    "/home/elkomy/alx/alx-low_level_programming/0x09-static_libraries/2-strlen.c \\\n",
    "/home/elkomy/alx/alx-low_level_programming/0x09-static_libraries/2-strncpy.c \\\n",
    "/home/elkomy/alx/alx-low_level_programming/0x09-static_libraries/3-islower.c \\\n",
    "/home/elkomy/alx/alx-low_level_programming/0x09-static_libraries/3-puts.c \\\n",
    "/home/elkomy/alx/alx-low_level_programming/0x09-static_libraries/3-strcmp.c \\\n",
    "/home/elkomy/alx/alx-low_level_programming/0x09-static_libraries/3-strspn.c \\\n",
    "/home/elkomy/alx/alx-low_level_programming/0x09-static_libraries/4-isalpha.c \\\n",
    "/home/elkomy/alx/alx-low_level_programming/0x09-static_libraries/4-strpbrk.c \\\n",
    "/home/elkomy/alx/alx-low_level_programming/0x09-static_libraries/5-strstr.c \\\n",
    "/home/elkomy/alx/alx-low_level_programming/0x09-static_libraries/6-abs.c \\\n",
    "/home/elkomy/alx/alx-low_level_programming/0x09-static_libraries/9-strcpy.c \\\n",
    "/home/elkomy/alx/alx-low_level_programming/0x09-static_libraries/_putchar.c\n"
   ]
  },
  {
   "cell_type": "code",
   "execution_count": null,
   "metadata": {},
   "outputs": [],
   "source": [
    "! cd 0x09-static_libraries"
   ]
  },
  {
   "cell_type": "code",
   "execution_count": null,
   "metadata": {},
   "outputs": [],
   "source": [
    "%%bash\n",
    "\n",
    "ar rcs 0x09-static_libraries/libmy.a \\\n",
    "0x09-static_libraries/0-isupper.o \\\n",
    "0x09-static_libraries/0-memset.o \\\n",
    "0x09-static_libraries/0-strcat.o \\\n",
    "0x09-static_libraries/1-isdigit.o \\\n",
    "0x09-static_libraries/1-memcpy.o \\\n",
    "0x09-static_libraries/1-strncat.o \\\n",
    "0x09-static_libraries/100-atoi.o \\\n",
    "0x09-static_libraries/2-strchr.o \\\n",
    "0x09-static_libraries/2-strlen.o \\\n",
    "0x09-static_libraries/2-strncpy.o \\\n",
    "0x09-static_libraries/3-islower.o \\\n",
    "0x09-static_libraries/3-puts.o \\\n",
    "0x09-static_libraries/3-strcmp.o \\\n",
    "0x09-static_libraries/3-strspn.o \\\n",
    "0x09-static_libraries/4-isalpha.o \\\n",
    "0x09-static_libraries/4-strpbrk.o \\\n",
    "0x09-static_libraries/5-strstr.o \\\n",
    "0x09-static_libraries/6-abs.o \\\n",
    "0x09-static_libraries/9-strcpy.o \\\n",
    "0x09-static_libraries/_putchar.o\n"
   ]
  },
  {
   "cell_type": "markdown",
   "metadata": {},
   "source": [
    "###\n",
    "---\n",
    "<center>\n",
    "<h4> 1. Without libraries what have we? We have no past and no future</h4>\n",
    "</center>\n",
    "\n",
    "---"
   ]
  },
  {
   "cell_type": "markdown",
   "metadata": {},
   "source": [
    "\n",
    "#### Create a script called `create_static_lib.sh` that creates a static library called `liball.a` from all the `.c` files that are in the current directory.\n",
    "\n",
    "```bash\n",
    "julien@ubuntu:~/0x09. Static Librairies$ ls *.c\n",
    "0-isupper.c  0-strcat.c  1-isdigit.c  1-strncat.c  2-strlen.c   3-islower.c  3-strcmp.c  4-isalpha.c  5-strstr.c  9-strcpy.c  _putchar.c\n",
    "0-memset.c   100-atoi.c  1-memcpy.c   2-strchr.c   2-strncpy.c  3-puts.c     3-strspn.c  4-strpbrk.c  6-abs.c\n",
    "julien@ubuntu:~/0x09. Static Librairies$ ./create_static_lib.sh \n",
    "julien@ubuntu:~/0x09. Static Librairies$ ls *.a\n",
    "liball.a\n",
    "julien@ubuntu:~/0x09. Static Librairies$ ar -t liball.a\n",
    "0-isupper.o\n",
    "0-memset.o\n",
    "0-strcat.o\n",
    "100-atoi.o\n",
    "1-isdigit.o\n",
    "1-memcpy.o\n",
    "1-strncat.o\n",
    "2-strchr.o\n",
    "2-strlen.o\n",
    "2-strncpy.o\n",
    "3-islower.o\n",
    "3-puts.o\n",
    "3-strcmp.o\n",
    "3-strspn.o\n",
    "4-isalpha.o\n",
    "4-strpbrk.o\n",
    "5-strstr.o\n",
    "6-abs.o\n",
    "9-strcpy.o\n",
    "_putchar.o\n",
    "julien@ubuntu:~/0x09. Static Librairies$\n",
    "\n",
    "```\n",
    "\n",
    "\n",
    "#### Repo:\n",
    "* GitHub repository: ``` alx-low_level_programming ```\n",
    "* Directory: ```0x09-static_libraries``` \n",
    "* File: ```create_static_lib.sh```"
   ]
  },
  {
   "cell_type": "code",
   "execution_count": 290,
   "metadata": {},
   "outputs": [
    {
     "name": "stdout",
     "output_type": "stream",
     "text": [
      "Overwriting 0x09-static_libraries/create_static_lib.sh\n"
     ]
    }
   ],
   "source": [
    "%%file 0x09-static_libraries/create_static_lib.sh\n",
    "#!/bin/bash\n",
    "cd 0x09-static_libraries/\n",
    "gcc -c *.c\n",
    "ar rcs liball.a *.o\n"
   ]
  },
  {
   "cell_type": "code",
   "execution_count": 291,
   "metadata": {},
   "outputs": [],
   "source": [
    "%%bash\n",
    "chmod u+x 0x09-static_libraries/create_static_lib.sh\n"
   ]
  },
  {
   "cell_type": "code",
   "execution_count": 292,
   "metadata": {},
   "outputs": [
    {
     "name": "stderr",
     "output_type": "stream",
     "text": [
      "100-main.c: In function ‘main’:\n",
      "100-main.c:13:10: warning: implicit declaration of function ‘_atoi’ [-Wimplicit-function-declaration]\n",
      "   13 |     nb = _atoi(\"98\");\n",
      "      |          ^~~~~\n",
      "2-main.c: In function ‘main’:\n",
      "2-main.c:15:11: warning: implicit declaration of function ‘_strlen’ [-Wimplicit-function-declaration]\n",
      "   15 |     len = _strlen(str);\n",
      "      |           ^~~~~~~\n",
      "4-main.c: In function ‘main’:\n",
      "4-main.c:15:9: warning: implicit declaration of function ‘_strpbrk’ [-Wimplicit-function-declaration]\n",
      "   15 |     t = _strpbrk(s, f);\n",
      "      |         ^~~~~~~~\n",
      "4-main.c:15:7: warning: assignment to ‘char *’ from ‘int’ makes pointer from integer without a cast [-Wint-conversion]\n",
      "   15 |     t = _strpbrk(s, f);\n",
      "      |       ^\n",
      "5-main.c: In function ‘main’:\n",
      "5-main.c:15:9: warning: implicit declaration of function ‘_strstr’ [-Wimplicit-function-declaration]\n",
      "   15 |     t = _strstr(s, f);\n",
      "      |         ^~~~~~~\n",
      "5-main.c:15:7: warning: assignment to ‘char *’ from ‘int’ makes pointer from integer without a cast [-Wint-conversion]\n",
      "   15 |     t = _strstr(s, f);\n",
      "      |       ^\n",
      "6-main.c: In function ‘main’:\n",
      "6-main.c:13:9: warning: implicit declaration of function ‘_abs’ [-Wimplicit-function-declaration]\n",
      "   13 |     r = _abs(-1);\n",
      "      |         ^~~~\n",
      "9-main.c: In function ‘main’:\n",
      "9-main.c:14:11: warning: implicit declaration of function ‘_strcpy’; did you mean ‘_strncpy’? [-Wimplicit-function-declaration]\n",
      "   14 |     ptr = _strcpy(s1, \"First, solve the problem. Then, write the code\\n\");\n",
      "      |           ^~~~~~~\n",
      "      |           _strncpy\n",
      "9-main.c:14:9: warning: assignment to ‘char *’ from ‘int’ makes pointer from integer without a cast [-Wint-conversion]\n",
      "   14 |     ptr = _strcpy(s1, \"First, solve the problem. Then, write the code\\n\");\n",
      "      |         ^\n"
     ]
    }
   ],
   "source": [
    "%%bash\n",
    "./0x09-static_libraries/create_static_lib.sh\n"
   ]
  },
  {
   "cell_type": "code",
   "execution_count": 293,
   "metadata": {},
   "outputs": [
    {
     "name": "stdout",
     "output_type": "stream",
     "text": [
      "0-isupper.o\n",
      "0-memset.o\n",
      "0-strcat.o\n",
      "1-isdigit.o\n",
      "1-memcpy.o\n",
      "1-strncat.o\n",
      "100-atoi.o\n",
      "2-strchr.o\n",
      "2-strlen.o\n",
      "2-strncpy.o\n",
      "3-islower.o\n",
      "3-puts.o\n",
      "3-strcmp.o\n",
      "3-strspn.o\n",
      "4-isalpha.o\n",
      "4-strpbrk.o\n",
      "5-strstr.o\n",
      "6-abs.o\n",
      "9-strcpy.o\n",
      "_putchar.o\n",
      "0-main.o\n",
      "0-putchar.o\n",
      "1-main.o\n",
      "100-main.o\n",
      "2-main.o\n",
      "2-strcpy.o\n",
      "3-main.o\n",
      "4-main.o\n",
      "5-main.o\n",
      "6-main.o\n",
      "9-main.o\n"
     ]
    }
   ],
   "source": [
    "%%bash\n",
    "ar -t 0x09-static_libraries/liball.a"
   ]
  },
  {
   "cell_type": "code",
   "execution_count": 294,
   "metadata": {},
   "outputs": [
    {
     "name": "stdout",
     "output_type": "stream",
     "text": [
      "[main 7ae364a] alx-low_level_programming/0x09-static_libraries\n",
      " 33 files changed, 3 insertions(+), 3 deletions(-)\n",
      " create mode 100644 0x09-static_libraries/0-isupper.o\n",
      " create mode 100644 0x09-static_libraries/0-main.o\n",
      " create mode 100644 0x09-static_libraries/0-memset.o\n",
      " create mode 100644 0x09-static_libraries/0-putchar.o\n",
      " create mode 100644 0x09-static_libraries/0-strcat.o\n",
      " create mode 100644 0x09-static_libraries/1-isdigit.o\n",
      " create mode 100644 0x09-static_libraries/1-main.o\n",
      " create mode 100644 0x09-static_libraries/1-memcpy.o\n",
      " create mode 100644 0x09-static_libraries/1-strncat.o\n",
      " create mode 100644 0x09-static_libraries/100-atoi.o\n",
      " create mode 100644 0x09-static_libraries/100-main.o\n",
      " create mode 100644 0x09-static_libraries/2-main.o\n",
      " create mode 100644 0x09-static_libraries/2-strchr.o\n",
      " create mode 100644 0x09-static_libraries/2-strcpy.o\n",
      " create mode 100644 0x09-static_libraries/2-strlen.o\n",
      " create mode 100644 0x09-static_libraries/2-strncpy.o\n",
      " create mode 100644 0x09-static_libraries/3-islower.o\n",
      " create mode 100644 0x09-static_libraries/3-main.o\n",
      " create mode 100644 0x09-static_libraries/3-puts.o\n",
      " create mode 100644 0x09-static_libraries/3-strcmp.o\n",
      " create mode 100644 0x09-static_libraries/3-strspn.o\n",
      " create mode 100644 0x09-static_libraries/4-isalpha.o\n",
      " create mode 100644 0x09-static_libraries/4-main.o\n",
      " create mode 100644 0x09-static_libraries/4-strpbrk.o\n",
      " create mode 100644 0x09-static_libraries/5-main.o\n",
      " create mode 100644 0x09-static_libraries/5-strstr.o\n",
      " create mode 100644 0x09-static_libraries/6-abs.o\n",
      " create mode 100644 0x09-static_libraries/6-main.o\n",
      " create mode 100644 0x09-static_libraries/9-main.o\n",
      " create mode 100644 0x09-static_libraries/9-strcpy.o\n",
      " create mode 100644 0x09-static_libraries/_putchar.o\n"
     ]
    },
    {
     "name": "stderr",
     "output_type": "stream",
     "text": [
      "To https://github.com/elkomysara/alx-low_level_programming.git\n",
      "   ceb8313..7ae364a  main -> main\n"
     ]
    }
   ],
   "source": [
    "%%bash\n",
    "git add .\n",
    "git commit -m \"alx-low_level_programming/0x09-static_libraries\"\n",
    "git push"
   ]
  },
  {
   "cell_type": "code",
   "execution_count": null,
   "metadata": {},
   "outputs": [],
   "source": []
  }
 ],
 "metadata": {
  "kernelspec": {
   "display_name": "Python 3",
   "language": "python",
   "name": "python3"
  },
  "language_info": {
   "codemirror_mode": {
    "name": "ipython",
    "version": 3
   },
   "file_extension": ".py",
   "mimetype": "text/x-python",
   "name": "python",
   "nbconvert_exporter": "python",
   "pygments_lexer": "ipython3",
   "version": "3.12.3"
  }
 },
 "nbformat": 4,
 "nbformat_minor": 2
}
