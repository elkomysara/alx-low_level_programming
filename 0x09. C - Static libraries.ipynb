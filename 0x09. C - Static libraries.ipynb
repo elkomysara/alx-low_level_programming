{
 "cells": [
  {
   "cell_type": "markdown",
   "metadata": {},
   "source": [
    "---\n",
    "<center>\n",
    "<h1>  alx-low_level_programming </h1>\n",
    "</center>\n",
    "\n",
    "---\n"
   ]
  },
  {
   "cell_type": "code",
   "execution_count": 1,
   "metadata": {},
   "outputs": [],
   "source": [
    "import os\n",
    "# creating 0x02-shell_redirectionss\n",
    "\n",
    "folder_path = r'/home/elkomy/alx/alx-low_level_programming/0x09-static_libraries'\n",
    "if not os.path.exists(folder_path):\n",
    "    os.makedirs(folder_path)\n",
    "\n",
    "# Create a README.md inside alx-low_level_programming/0x09-static_libraries\n",
    "file_path = os.path.join(folder_path, 'README.md')\n",
    "\n",
    "with open(file_path, 'w') as file:\n",
    "    file.write(\"This is a README.md file inside alx-low_level_programming/0x09-static_libraries\")\n",
    "\n"
   ]
  },
  {
   "cell_type": "code",
   "execution_count": 3,
   "metadata": {},
   "outputs": [
    {
     "name": "stdout",
     "output_type": "stream",
     "text": [
      "Overwriting /home/elkomy/alx/alx-low_level_programming/0x07-pointers_arrays_strings/README.md\n"
     ]
    }
   ],
   "source": [
    "%%file /home/elkomy/alx/alx-low_level_programming/0x09-static_libraries/README.md\n",
    "This is a README.md"
   ]
  },
  {
   "cell_type": "code",
   "execution_count": null,
   "metadata": {},
   "outputs": [],
   "source": []
  },
  {
   "cell_type": "markdown",
   "metadata": {},
   "source": [
    "###\n",
    "---\n",
    "<center>\n",
    "<h1> 0x09. C - Static libraries  </h1>\n",
    "</center>\n",
    "\n",
    "---\n"
   ]
  },
  {
   "cell_type": "code",
   "execution_count": 11,
   "metadata": {},
   "outputs": [
    {
     "name": "stdout",
     "output_type": "stream",
     "text": [
      "Overwriting 0x08-recursion/q1.c\n"
     ]
    }
   ],
   "source": [
    "%%file 0x09-static_libraries/q1.c\n",
    "#include <stdio.h>\n",
    "int print(int nb)\n",
    "{\n",
    "    if (nb < 0) \n",
    "    {\n",
    "        return (0);\n",
    "    }\n",
    "    printf(\"%d\", nb + print(nb - 1));\n",
    "    nb --;\n",
    "    return (nb);\n",
    "}\n",
    "int main(void)\n",
    "{\n",
    "    print(4);\n",
    "    return (0);\n",
    "}"
   ]
  },
  {
   "cell_type": "code",
   "execution_count": 13,
   "metadata": {},
   "outputs": [
    {
     "name": "stdout",
     "output_type": "stream",
     "text": [
      "00246"
     ]
    }
   ],
   "source": [
    "%%bash\n",
    "gcc 0x09-static_libraries/q1.c -o 0x09-static_libraries/q1\n",
    "./0x09-static_libraries/q1"
   ]
  },
  {
   "cell_type": "markdown",
   "metadata": {},
   "source": [
    "###\n",
    "---\n",
    "<center>\n",
    "<h4> 0. A library is not a luxury but one of the necessities of life</h4>\n",
    "</center>\n",
    "\n",
    "---"
   ]
  },
  {
   "cell_type": "markdown",
   "metadata": {},
   "source": [
    "\n",
    "#### Create the static library libmy.a containing all the functions listed below:\n",
    "\n",
    "```bash\n",
    "jint _putchar(char c);\n",
    "int _islower(int c);\n",
    "int _isalpha(int c);\n",
    "int _abs(int n);\n",
    "int _isupper(int c);\n",
    "int _isdigit(int c);\n",
    "int _strlen(char *s);\n",
    "void _puts(char *s);\n",
    "char *_strcpy(char *dest, char *src);\n",
    "int _atoi(char *s);\n",
    "char *_strcat(char *dest, char *src);\n",
    "char *_strncat(char *dest, char *src, int n);\n",
    "char *_strncpy(char *dest, char *src, int n);\n",
    "int _strcmp(char *s1, char *s2);\n",
    "char *_memset(char *s, char b, unsigned int n);\n",
    "char *_memcpy(char *dest, char *src, unsigned int n);\n",
    "char *_strchr(char *s, char c);\n",
    "unsigned int _strspn(char *s, char *accept);\n",
    "char *_strpbrk(char *s, char *accept);\n",
    "char *_strstr(char *haystack, char *needle);\n",
    "```\n",
    "#### If you haven’t coded all of the above functions create empty ones with the right prototype.\n",
    "Don’t forget to push your `main.h` file to your repository. It should at least contain all the prototypes of the above functions.\n",
    "\n",
    "```bash\n",
    "julien@ubuntu:~/0x09. Static Librairies$ ar -t libmy.a \n",
    "0-isupper.o\n",
    "0-memset.o\n",
    "0-strcat.o\n",
    "1-isdigit.o\n",
    "1-memcpy.o\n",
    "1-strncat.o\n",
    "100-atoi.o\n",
    "2-strchr.o\n",
    "2-strlen.o\n",
    "2-strncpy.o\n",
    "3-islower.o\n",
    "3-puts.o\n",
    "3-strcmp.o\n",
    "3-strspn.o\n",
    "4-isalpha.o\n",
    "4-strpbrk.o\n",
    "5-strstr.o\n",
    "6-abs.o\n",
    "9-strcpy.o\n",
    "_putchar.o\n",
    "julien@ubuntu:~/0x09. Static Librairies$ nm libmy.a \n",
    "\n",
    "0-isupper.o:\n",
    "0000000000000000 T _isupper\n",
    "\n",
    "0-memset.o:\n",
    "0000000000000000 T _memset\n",
    "\n",
    "0-strcat.o:\n",
    "0000000000000000 T _strcat\n",
    "\n",
    "1-isdigit.o:\n",
    "0000000000000000 T _isdigit\n",
    "\n",
    "1-memcpy.o:\n",
    "0000000000000000 T _memcpy\n",
    "\n",
    "1-strncat.o:\n",
    "0000000000000000 T _strncat\n",
    "\n",
    "100-atoi.o:\n",
    "0000000000000000 T _atoi\n",
    "\n",
    "2-strchr.o:\n",
    "0000000000000000 T _strchr\n",
    "\n",
    "2-strlen.o:\n",
    "0000000000000000 T _strlen\n",
    "\n",
    "2-strncpy.o:\n",
    "0000000000000000 T _strncpy\n",
    "\n",
    "3-islower.o:\n",
    "0000000000000000 T _islower\n",
    "\n",
    "3-puts.o:\n",
    "                 U _putchar\n",
    "0000000000000000 T _puts\n",
    "\n",
    "3-strcmp.o:\n",
    "0000000000000000 T _strcmp\n",
    "\n",
    "3-strspn.o:\n",
    "0000000000000000 T _strspn\n",
    "\n",
    "4-isalpha.o:\n",
    "0000000000000000 T _isalpha\n",
    "\n",
    "4-strpbrk.o:\n",
    "0000000000000000 T _strpbrk\n",
    "\n",
    "5-strstr.o:\n",
    "0000000000000000 T _strstr\n",
    "\n",
    "6-abs.o:\n",
    "0000000000000000 T _abs\n",
    "\n",
    "9-strcpy.o:\n",
    "0000000000000000 T _strcpy\n",
    "\n",
    "_putchar.o:\n",
    "0000000000000000 T _putchar\n",
    "                 U write\n",
    "julien@ubuntu:~/0x09. Static Librairies$ cat main.c \n",
    "#include \"main.h\"\n",
    "\n",
    "int main(void)\n",
    "{\n",
    "    _puts(\"\\\"At the end of the day, my goal was to be the best hacker\\\"\\n\\t- Kevin Mitnick\");\n",
    "    return (0);\n",
    "}\n",
    "julien@ubuntu:~/0x09. Static Librairies$ gcc -std=gnu89 main.c -L. -lmy -o quote\n",
    "julien@ubuntu:~/0x09. Static Librairies$ ./quote \n",
    "\"At the end of the day, my goal was to be the best hacker\"\n",
    "    - Kevin Mitnick\n",
    "julien@ubuntu:~/0x09. Static Librairies$ \n",
    "```\n",
    "\n",
    "#### Repo:\n",
    "* GitHub repository: ``` alx-low_level_programming ```\n",
    "* Directory: ```0x08-recursion``` \n",
    "* File: ```libmy.a, main.h```"
   ]
  },
  {
   "cell_type": "code",
   "execution_count": 2,
   "metadata": {},
   "outputs": [
    {
     "name": "stdout",
     "output_type": "stream",
     "text": [
      "Overwriting 0x07-pointers_arrays_strings/0-main.c\n"
     ]
    }
   ],
   "source": [
    "%%file 0x09-static_libraries/0-main.c\n",
    "#include \"main.h\"\n",
    "#include <stdio.h>\n",
    "\n",
    "/**\n",
    " * simple_print_buffer - prints buffer in hexa\n",
    " * @buffer: the address of memory to print\n",
    " * @size: the size of the memory to print\n",
    " *\n",
    " * Return: Nothing.\n",
    " */\n",
    "void simple_print_buffer(char *buffer, unsigned int size)\n",
    "{\n",
    "        unsigned int i;\n",
    "\n",
    "        i = 0;\n",
    "        while (i < size)\n",
    "        {\n",
    "                if (i % 10)\n",
    "                {\n",
    "                        printf(\" \");\n",
    "                }\n",
    "                if (!(i % 10) && i)\n",
    "                {\n",
    "                        printf(\"\\n\");\n",
    "                }\n",
    "                printf(\"0x%02x\", buffer[i]);\n",
    "                i++;\n",
    "        }\n",
    "        printf(\"\\n\");\n",
    "}\n",
    "\n",
    "/**\n",
    " * main - check the code\n",
    " *\n",
    " * Return: Always 0.\n",
    " */\n",
    "int main(void)\n",
    "{\n",
    "    char buffer[98] = {0x00};\n",
    "\n",
    "    simple_print_buffer(buffer, 98);\n",
    "    _memset(buffer, 0x01, 95);\n",
    "    printf(\"-------------------------------------------------\\n\");\n",
    "    simple_print_buffer(buffer, 98);    \n",
    "    return (0);\n",
    "}"
   ]
  },
  {
   "cell_type": "code",
   "execution_count": 12,
   "metadata": {},
   "outputs": [
    {
     "name": "stdout",
     "output_type": "stream",
     "text": [
      "Overwriting 0x08-recursion/main.h\n"
     ]
    }
   ],
   "source": [
    "%%file 0x09-static_libraries/main.h\n",
    "#ifndef FILE_MAIN\n",
    "#define FILE_MAIN\n",
    "\n",
    "#include <stdio.h>\n",
    "int _putchar(char c);\n",
    "void _puts_recursion(char *s);\n",
    "\n",
    "\n",
    "#endif\n"
   ]
  },
  {
   "cell_type": "code",
   "execution_count": 10,
   "metadata": {},
   "outputs": [
    {
     "name": "stdout",
     "output_type": "stream",
     "text": [
      "Overwriting 0x08-recursion/0-puts_recursion.c\n"
     ]
    }
   ],
   "source": [
    "%%file 0x09-static_libraries/0-puts_recursion.c\n",
    "#include \"main.h\"\n",
    "#include <stdio.h> /* For putchar */\n",
    "\n",
    "/**\n",
    "* _puts_recursion - prints a string followed by a new line.\n",
    "* @s: The string to print.\n",
    "*/\n",
    "void _puts_recursion(char *s)\n",
    "{\n",
    "if (*s == '\\0') /* Base case: if we reach the end of the string */\n",
    "{\n",
    "putchar('\\n'); /* Print a new line */\n",
    "return;\n",
    "}\n",
    "\n",
    "putchar(*s); /* Print the current character */\n",
    "/* Recursively call the function with the next character */\n",
    "_puts_recursion(s + 1);\n",
    "\n",
    "}\n"
   ]
  },
  {
   "cell_type": "code",
   "execution_count": 11,
   "metadata": {},
   "outputs": [
    {
     "name": "stdout",
     "output_type": "stream",
     "text": [
      "\n",
      "========== 0x08-recursion/0-puts_recursion.c ==========\n",
      "_puts_recursion\n",
      "Puts with recursion\n"
     ]
    }
   ],
   "source": [
    "%%bash\n",
    "betty 0x09-static_libraries/0-puts_recursion.c\n",
    "gcc -Wall -pedantic -Werror -Wextra -std=gnu89 0x09-static_libraries/0-main.c 0x09-static_libraries/0-puts_recursion.c -o 0x09-static_libraries/0-puts_recursion\n",
    "./0x09-static_libraries/0-puts_recursion"
   ]
  },
  {
   "cell_type": "code",
   "execution_count": 12,
   "metadata": {},
   "outputs": [
    {
     "name": "stdout",
     "output_type": "stream",
     "text": [
      "[main c6a13b1] alx-low_level_programming/0x08-recursion\n",
      " 1 file changed, 1 insertion(+), 1 deletion(-)\n"
     ]
    },
    {
     "name": "stderr",
     "output_type": "stream",
     "text": [
      "To https://github.com/elkomysara/alx-low_level_programming.git\n",
      "   c1b955c..c6a13b1  main -> main\n"
     ]
    }
   ],
   "source": [
    "%%bash\n",
    "git add .\n",
    "git commit -m \"alx-low_level_programming/0x09-static_libraries\"\n",
    "git push"
   ]
  },
  {
   "cell_type": "markdown",
   "metadata": {},
   "source": [
    "###\n",
    "---\n",
    "<center>\n",
    "<h4> 1. Why is it so important to dream? Because, in my dreams we are together </h4>\n",
    "</center>\n",
    "\n",
    "---"
   ]
  },
  {
   "cell_type": "markdown",
   "metadata": {},
   "source": [
    "\n",
    "#### Write a function that prints a string in reverse.\n",
    "\n",
    "* Prototype: `void _print_rev_recursion(char *s);`\n",
    "\n",
    "```bash\n",
    "julien@ubuntu:~/0x08. Recursion$ cat 1-main.c\n",
    "#include \"main.h\"\n",
    "\n",
    "/**\n",
    " * main - check the code\n",
    " *\n",
    " * Return: Always 0.\n",
    " */\n",
    "int main(void)\n",
    "{\n",
    "    _print_rev_recursion(\"\\nColton Walker\");\n",
    "    return (0);\n",
    "}\n",
    "julien@ubuntu:~/0x08. Recursion$ gcc -Wall -pedantic -Werror -Wextra -std=gnu89 _putchar.c 1-main.c 1-print_rev_recursion.c -o 1-print_rev_recursion\n",
    "julien@ubuntu:~/0x08. Recursion$ ./1-print_rev_recursion \n",
    "reklaW notloC\n",
    "julien@ubuntu:~/0x08. Recursion$ \n",
    "```\n",
    "\n",
    "#### Repo:\n",
    "* GitHub repository: ``` alx-low_level_programming ```\n",
    "* Directory: ```0x08-recursion``` \n",
    "* File: ```1-print_rev_recursion.c```"
   ]
  },
  {
   "cell_type": "code",
   "execution_count": 16,
   "metadata": {},
   "outputs": [
    {
     "name": "stdout",
     "output_type": "stream",
     "text": [
      "Writing 0x08-recursion/1-main.c\n"
     ]
    }
   ],
   "source": [
    "%%file 0x09-static_libraries/1-main.c\n",
    "#include \"main.h\"\n",
    "/**\n",
    " * main - check the code\n",
    " *\n",
    " * Return: Always 0.\n",
    " */\n",
    "int main(void)\n",
    "{\n",
    "    _print_rev_recursion(\"\\nColton Walker\");\n",
    "    return (0);\n",
    "}"
   ]
  },
  {
   "cell_type": "code",
   "execution_count": 17,
   "metadata": {},
   "outputs": [
    {
     "name": "stdout",
     "output_type": "stream",
     "text": [
      "Overwriting 0x08-recursion/main.h\n"
     ]
    }
   ],
   "source": [
    "%%file 0x09-static_libraries/main.h\n",
    "#ifndef FILE_MAIN\n",
    "#define FILE_MAIN\n",
    "\n",
    "#include <stdio.h>\n",
    "int _putchar(char c);\n",
    "void _puts_recursion(char *s);\n",
    "void _print_rev_recursion(char *s);\n",
    "\n",
    "\n",
    "#endif\n"
   ]
  },
  {
   "cell_type": "code",
   "execution_count": 21,
   "metadata": {},
   "outputs": [
    {
     "name": "stdout",
     "output_type": "stream",
     "text": [
      "Overwriting 0x08-recursion/1-print_rev_recursion.c\n"
     ]
    }
   ],
   "source": [
    "%%file 0x09-static_libraries/1-print_rev_recursion.c\n",
    "#include \"main.h\"\n",
    "#include <stdio.h> /* For putchar */\n",
    "\n",
    "/**\n",
    "* _print_rev_recursion - prints a string in reverse.\n",
    "* @s: The string to print in reverse.\n",
    "*/\n",
    "void _print_rev_recursion(char *s)\n",
    "{\n",
    "if (*s == '\\0') /* Base case: if we reach the end of the string */\n",
    "{\n",
    "return;\n",
    "}\n",
    "/* Recursively call the function with the next character */\n",
    "_print_rev_recursion(s + 1);\n",
    "\n",
    "/* Print the current character after the recursive call */\n",
    "putchar(*s);\n",
    "}\n"
   ]
  },
  {
   "cell_type": "code",
   "execution_count": 22,
   "metadata": {},
   "outputs": [
    {
     "name": "stdout",
     "output_type": "stream",
     "text": [
      "Overwriting 0x08-recursion/_putchar.c\n"
     ]
    }
   ],
   "source": [
    "%%file 0x09-static_libraries/_putchar.c\n",
    "#include <unistd.h>\n",
    "#include \"main.h\"\n",
    "/**\n",
    " * _putchar - writes the character c to stdout\n",
    " * @c: The character to print\n",
    " *\n",
    " * Return: On success 1.\n",
    " * On error, -1 is returned, and errno is set appropriately.\n",
    " */\n",
    "int _putchar(char c)\n",
    "{\n",
    "\treturn (write(1, &c, 1));\n",
    "}\n"
   ]
  },
  {
   "cell_type": "code",
   "execution_count": 23,
   "metadata": {},
   "outputs": [
    {
     "name": "stdout",
     "output_type": "stream",
     "text": [
      "\n",
      "========== 0x08-recursion/1-print_rev_recursion.c ==========\n"
     ]
    },
    {
     "name": "stdout",
     "output_type": "stream",
     "text": [
      "_print_rev_recursion\n",
      "reklaW notloC\n"
     ]
    }
   ],
   "source": [
    "%%bash\n",
    "betty 0x09-static_libraries/1-print_rev_recursion.c\n",
    "gcc -Wall -pedantic -Werror -Wextra -std=gnu89 0x09-static_libraries/_putchar.c 0x09-static_libraries/1-main.c 0x09-static_libraries/1-print_rev_recursion.c -o 0x09-static_libraries/1-print_rev_recursion\n",
    "./0x09-static_libraries/1-print_rev_recursion"
   ]
  },
  {
   "cell_type": "code",
   "execution_count": 24,
   "metadata": {},
   "outputs": [
    {
     "name": "stdout",
     "output_type": "stream",
     "text": [
      "[main ac68d3c] alx-low_level_programming/0x08-recursion\n",
      " 4 files changed, 32 insertions(+), 2 deletions(-)\n",
      " create mode 100644 0x08-recursion/1-main.c\n",
      " create mode 100755 0x08-recursion/1-print_rev_recursion\n",
      " create mode 100644 0x08-recursion/1-print_rev_recursion.c\n"
     ]
    },
    {
     "name": "stderr",
     "output_type": "stream",
     "text": [
      "To https://github.com/elkomysara/alx-low_level_programming.git\n",
      "   c6a13b1..ac68d3c  main -> main\n"
     ]
    }
   ],
   "source": [
    "%%bash\n",
    "git add .\n",
    "git commit -m \"alx-low_level_programming/0x09-static_libraries\"\n",
    "git push"
   ]
  },
  {
   "cell_type": "code",
   "execution_count": null,
   "metadata": {},
   "outputs": [],
   "source": []
  },
  {
   "cell_type": "markdown",
   "metadata": {},
   "source": [
    "###\n",
    "---\n",
    "<center>\n",
    "<h4> 2. Dreams feel real while we're in them. It's only when we wake up that we realize something was actually strange </h4>\n",
    "</center>\n",
    "\n",
    "---"
   ]
  },
  {
   "cell_type": "markdown",
   "metadata": {},
   "source": [
    "\n",
    "####  Write a function that returns the length of a string.\n",
    "\n",
    "* Prototype: `int _strlen_recursion(char *s);`\n",
    "\n",
    "FYI: The standard library provides a similar function: `strlen`. Run `man strlen` to learn more.\n",
    "\n",
    "```bash\n",
    "julien@ubuntu:~/0x08. Recursion$ cat 2-main.c \n",
    "#include \"main.h\"\n",
    "#include <stdio.h>\n",
    "\n",
    "/**\n",
    " * main - check the code\n",
    " *\n",
    " * Return: Always 0.\n",
    " */\n",
    "int main(void)\n",
    "{\n",
    "    int n;\n",
    "\n",
    "    n = _strlen_recursion(\"Corbin Coleman\");\n",
    "    printf(\"%d\\n\", n);\n",
    "    return (0);\n",
    "}\n",
    "julien@ubuntu:~/0x08. Recursion$ gcc -Wall -pedantic -Werror -Wextra -std=gnu89  2-main.c 2-strlen_recursion.c -o 2-strlen_recursion\n",
    "julien@ubuntu:~/0x08. Recursion$ ./2-strlen_recursion \n",
    "14\n",
    "julien@ubuntu:~/0x08. Recursion$ \n",
    "```\n",
    "\n",
    "#### Repo:\n",
    "* GitHub repository: ``` alx-low_level_programming ```\n",
    "* Directory: ```0x08-recursion``` \n",
    "* File: ```2-strlen_recursion.c```"
   ]
  },
  {
   "cell_type": "code",
   "execution_count": 31,
   "metadata": {},
   "outputs": [
    {
     "name": "stdout",
     "output_type": "stream",
     "text": [
      "Writing 0x08-recursion/2-main.c\n"
     ]
    }
   ],
   "source": [
    "%%file 0x09-static_libraries/2-main.c\n",
    "#include \"main.h\"\n",
    "#include <stdio.h>\n",
    "\n",
    "/**\n",
    " * main - check the code\n",
    " *\n",
    " * Return: Always 0.\n",
    " */\n",
    "int main(void)\n",
    "{\n",
    "    int n;\n",
    "\n",
    "    n = _strlen_recursion(\"Corbin Coleman\");\n",
    "    printf(\"%d\\n\", n);\n",
    "    return (0);\n",
    "}"
   ]
  },
  {
   "cell_type": "code",
   "execution_count": 35,
   "metadata": {},
   "outputs": [
    {
     "name": "stdout",
     "output_type": "stream",
     "text": [
      "Overwriting 0x08-recursion/main.h\n"
     ]
    }
   ],
   "source": [
    "%%file 0x09-static_libraries/main.h\n",
    "#ifndef FILE_MAIN\n",
    "#define FILE_MAIN\n",
    "\n",
    "#include <stdio.h>\n",
    "int _putchar(char c);\n",
    "void _puts_recursion(char *s);\n",
    "void _print_rev_recursion(char *s);\n",
    "int _strlen_recursion(char *s);\n",
    "#endif\n"
   ]
  },
  {
   "cell_type": "code",
   "execution_count": 36,
   "metadata": {},
   "outputs": [
    {
     "name": "stdout",
     "output_type": "stream",
     "text": [
      "Overwriting 0x08-recursion/2-strlen_recursion.c\n"
     ]
    }
   ],
   "source": [
    "%%file 0x09-static_libraries/2-strlen_recursion.c\n",
    "\n",
    "#include \"main.h\"\n",
    "\n",
    "/**\n",
    "* _strlen_recursion - returns the length of a string.\n",
    "* @s: The string to measure.\n",
    "*\n",
    "* Return: The length of the string.\n",
    "*/\n",
    "int _strlen_recursion(char *s)\n",
    "{\n",
    "/* Base case: if we reach the end of the string */\n",
    "if (*s == '\\0')\n",
    "{\n",
    "return (0);\n",
    "}\n",
    "/* Add 1 for the current character and recurse */\n",
    "return (1 + _strlen_recursion(s + 1));\n",
    "}\n",
    "\n"
   ]
  },
  {
   "cell_type": "code",
   "execution_count": 37,
   "metadata": {},
   "outputs": [
    {
     "name": "stdout",
     "output_type": "stream",
     "text": [
      "\n",
      "========== 0x08-recursion/2-strlen_recursion.c ==========\n",
      "_strlen_recursion\n",
      "14\n"
     ]
    }
   ],
   "source": [
    "%%bash\n",
    "betty 0x09-static_libraries/2-strlen_recursion.c\n",
    "gcc -Wall -pedantic -Werror -Wextra -std=gnu89 0x09-static_libraries/2-main.c 0x09-static_libraries/2-strlen_recursion.c -o 0x09-static_libraries/2-strlen_recursion\n",
    "./0x09-static_libraries/2-strlen_recursion"
   ]
  },
  {
   "cell_type": "code",
   "execution_count": 38,
   "metadata": {},
   "outputs": [
    {
     "name": "stdout",
     "output_type": "stream",
     "text": [
      "[main 6ebeb83] alx-low_level_programming/0x08-recursion\n",
      " 4 files changed, 38 insertions(+), 2 deletions(-)\n",
      " create mode 100644 0x08-recursion/2-main.c\n",
      " create mode 100755 0x08-recursion/2-strlen_recursion\n",
      " create mode 100644 0x08-recursion/2-strlen_recursion.c\n"
     ]
    },
    {
     "name": "stderr",
     "output_type": "stream",
     "text": [
      "To https://github.com/elkomysara/alx-low_level_programming.git\n",
      "   ac68d3c..6ebeb83  main -> main\n"
     ]
    }
   ],
   "source": [
    "%%bash\n",
    "git add .\n",
    "git commit -m \"alx-low_level_programming/0x09-static_libraries\"\n",
    "git push"
   ]
  },
  {
   "cell_type": "code",
   "execution_count": null,
   "metadata": {},
   "outputs": [],
   "source": []
  },
  {
   "cell_type": "markdown",
   "metadata": {},
   "source": [
    "###\n",
    "---\n",
    "<center>\n",
    "<h4> 3. You mustn't be afraid to dream a little bigger, darling\n",
    " </h4>\n",
    "</center>\n",
    "\n",
    "---"
   ]
  },
  {
   "cell_type": "markdown",
   "metadata": {},
   "source": [
    "\n",
    "####  Write a function that returns the factorial of a given number.\n",
    "\n",
    "* Prototype: `int factorial(int n);`\n",
    "* If `n` is lower than `0`, the function should return `-1` to indicate an error\n",
    "* Factorial of `0` is `1`\n",
    "\n",
    "```bash\n",
    "julien@ubuntu:~/0x08. Recursion$ cat 3-main.c\n",
    "#include \"main.h\"\n",
    "#include <stdio.h>\n",
    "\n",
    "/**\n",
    " * main - check the code\n",
    " *\n",
    " * Return: Always 0.\n",
    " */\n",
    "int main(void)\n",
    "{\n",
    "    int r;\n",
    "\n",
    "    r = factorial(1);\n",
    "    printf(\"%d\\n\", r);\n",
    "    r = factorial(5);\n",
    "    printf(\"%d\\n\", r);\n",
    "    r = factorial(10);\n",
    "    printf(\"%d\\n\", r);\n",
    "    r = factorial(-1024);\n",
    "    printf(\"%d\\n\", r);\n",
    "    return (0);\n",
    "}\n",
    "julien@ubuntu:~/0x08. Recursion$ gcc -Wall -pedantic -Werror -Wextra -std=gnu89 3-main.c 3-factorial.c -o 3-factorial\n",
    "julien@ubuntu:~/0x08. Recursion$ ./3-factorial \n",
    "1\n",
    "120\n",
    "3628800\n",
    "-1\n",
    "julien@ubuntu:~/0x08. Recursion$\n",
    "```\n",
    "\n",
    "#### Repo:\n",
    "* GitHub repository: ``` alx-low_level_programming ```\n",
    "* Directory: ```0x08-recursion``` \n",
    "* File: ```3-factorial.c```"
   ]
  },
  {
   "cell_type": "code",
   "execution_count": 1,
   "metadata": {},
   "outputs": [
    {
     "name": "stdout",
     "output_type": "stream",
     "text": [
      "Writing 0x08-recursion/3-main.c\n"
     ]
    }
   ],
   "source": [
    "%%file 0x09-static_libraries/3-main.c\n",
    "#include \"main.h\"\n",
    "#include <stdio.h>\n",
    "\n",
    "/**\n",
    " * main - check the code\n",
    " *\n",
    " * Return: Always 0.\n",
    " */\n",
    "int main(void)\n",
    "{\n",
    "    int r;\n",
    "\n",
    "    r = factorial(1);\n",
    "    printf(\"%d\\n\", r);\n",
    "    r = factorial(5);\n",
    "    printf(\"%d\\n\", r);\n",
    "    r = factorial(10);\n",
    "    printf(\"%d\\n\", r);\n",
    "    r = factorial(-1024);\n",
    "    printf(\"%d\\n\", r);\n",
    "    return (0);\n",
    "}"
   ]
  },
  {
   "cell_type": "code",
   "execution_count": 2,
   "metadata": {},
   "outputs": [
    {
     "name": "stdout",
     "output_type": "stream",
     "text": [
      "Overwriting 0x08-recursion/main.h\n"
     ]
    }
   ],
   "source": [
    "%%file 0x09-static_libraries/main.h\n",
    "#ifndef FILE_MAIN\n",
    "#define FILE_MAIN\n",
    "\n",
    "#include <stdio.h>\n",
    "\n",
    "\n",
    "#include <stdio.h>\n",
    "int _putchar(char c);\n",
    "void _puts_recursion(char *s);\n",
    "void _print_rev_recursion(char *s);\n",
    "int _strlen_recursion(char *s);\n",
    "int factorial(int n);\n",
    "\n",
    "#endif\n"
   ]
  },
  {
   "cell_type": "code",
   "execution_count": 13,
   "metadata": {},
   "outputs": [
    {
     "name": "stdout",
     "output_type": "stream",
     "text": [
      "Overwriting 0x08-recursion/3-factorial.c\n"
     ]
    }
   ],
   "source": [
    "%%file 0x09-static_libraries/3-factorial.c\n",
    "#include \"main.h\"\n",
    "\n",
    "/**\n",
    "* factorial - Returns the factorial of a given number.\n",
    "* @n: The number to compute the factorial of.\n",
    "*\n",
    "* Return: The factorial of n.\n",
    "*/\n",
    "int factorial(int n)\n",
    "{\n",
    "if (n < 0)\n",
    "return (-1);  /* Error case for negative numbers */\n",
    "if (n == 0)\n",
    "return (1);   /* Base case: factorial of 0 is 1 */\n",
    "return (n * factorial(n - 1));  /* Recursive case */\n",
    "}\n"
   ]
  },
  {
   "cell_type": "code",
   "execution_count": 14,
   "metadata": {},
   "outputs": [
    {
     "name": "stdout",
     "output_type": "stream",
     "text": [
      "\n",
      "========== 0x08-recursion/3-factorial.c ==========\n",
      "factorial\n",
      "1\n",
      "120\n",
      "3628800\n",
      "-1\n"
     ]
    }
   ],
   "source": [
    "%%bash\n",
    "betty 0x09-static_libraries/3-factorial.c\n",
    "gcc -Wall -pedantic -Werror -Wextra -std=gnu89 0x09-static_libraries/3-main.c 0x09-static_libraries/3-factorial.c -o 0x09-static_libraries/3-factorial\n",
    "./0x09-static_libraries/3-factorial"
   ]
  },
  {
   "cell_type": "code",
   "execution_count": 15,
   "metadata": {},
   "outputs": [
    {
     "name": "stdout",
     "output_type": "stream",
     "text": [
      "[main 0438ec3] alx-low_level_programming/0x08-recursion\n",
      " 2 files changed, 16 insertions(+)\n",
      " create mode 100755 0x08-recursion/3-factorial\n",
      " create mode 100644 0x08-recursion/3-factorial.c\n"
     ]
    },
    {
     "name": "stderr",
     "output_type": "stream",
     "text": [
      "To https://github.com/elkomysara/alx-low_level_programming.git\n",
      "   53eafa2..0438ec3  main -> main\n"
     ]
    }
   ],
   "source": [
    "%%bash\n",
    "git add .\n",
    "git commit -m \"alx-low_level_programming/0x09-static_libraries\"\n",
    "git push"
   ]
  },
  {
   "cell_type": "markdown",
   "metadata": {},
   "source": [
    "###\n",
    "---\n",
    "<center>\n",
    "<h4> 4. Once an idea has taken hold of the brain it's almost impossible to eradicate\n",
    " </h4>\n",
    "</center>\n",
    "\n",
    "---"
   ]
  },
  {
   "cell_type": "markdown",
   "metadata": {},
   "source": [
    "\n",
    "####  Write a function that returns the value of x raised to the power of y.\n",
    "\n",
    "* Prototype: `int _pow_recursion(int x, int y);`\n",
    "* If `y` is lower than `0`, the function should return `-1`\n",
    "FYI: The standard library provides a different function: `pow`. Run `man pow` to learn more.\n",
    "\n",
    "```bash\n",
    "julien@ubuntu:~/0x08. Recursion$ cat 4-main.c\n",
    "#include \"main.h\"\n",
    "#include <stdio.h>\n",
    "\n",
    "/**\n",
    " * main - check the code\n",
    " *\n",
    " * Return: Always 0.\n",
    " */\n",
    "int main(void)\n",
    "{\n",
    "    int r;\n",
    "\n",
    "    r = _pow_recursion(1, 10);\n",
    "    printf(\"%d\\n\", r);\n",
    "    r = _pow_recursion(1024, 0);\n",
    "    printf(\"%d\\n\", r);\n",
    "    r = _pow_recursion(2, 16);\n",
    "    printf(\"%d\\n\", r);\n",
    "    r = _pow_recursion(5, 2);\n",
    "    printf(\"%d\\n\", r);\n",
    "    r = _pow_recursion(5, -2);\n",
    "    printf(\"%d\\n\", r);\n",
    "    r = _pow_recursion(-5, 3);\n",
    "    printf(\"%d\\n\", r);\n",
    "    return (0);\n",
    "}\n",
    "julien@ubuntu:~/0x08. Recursion$ gcc -Wall -pedantic -Werror -Wextra -std=gnu89 4-main.c 4-pow_recursion.c -o 4-pow\n",
    "julien@ubuntu:~/0x08. Recursion$ ./4-pow \n",
    "1\n",
    "1\n",
    "65536\n",
    "25\n",
    "-1\n",
    "-125\n",
    "julien@ubuntu:~/0x08. Recursion$ \n",
    "```\n",
    "\n",
    "#### Repo:\n",
    "* GitHub repository: ``` alx-low_level_programming ```\n",
    "* Directory: ```0x08-recursion``` \n",
    "* File: ```4-pow_recursion.c```"
   ]
  },
  {
   "cell_type": "code",
   "execution_count": 1,
   "metadata": {},
   "outputs": [
    {
     "name": "stdout",
     "output_type": "stream",
     "text": [
      "Writing 0x08-recursion/4-main.c\n"
     ]
    }
   ],
   "source": [
    "%%file 0x09-static_libraries/4-main.c\n",
    "#include \"main.h\"\n",
    "#include <stdio.h>\n",
    "\n",
    "/**\n",
    " * main - check the code\n",
    " *\n",
    " * Return: Always 0.\n",
    " */\n",
    "int main(void)\n",
    "{\n",
    "    int r;\n",
    "\n",
    "    r = _pow_recursion(1, 10);\n",
    "    printf(\"%d\\n\", r);\n",
    "    r = _pow_recursion(1024, 0);\n",
    "    printf(\"%d\\n\", r);\n",
    "    r = _pow_recursion(2, 16);\n",
    "    printf(\"%d\\n\", r);\n",
    "    r = _pow_recursion(5, 2);\n",
    "    printf(\"%d\\n\", r);\n",
    "    r = _pow_recursion(5, -2);\n",
    "    printf(\"%d\\n\", r);\n",
    "    r = _pow_recursion(-5, 3);\n",
    "    printf(\"%d\\n\", r);\n",
    "    return (0);\n",
    "}"
   ]
  },
  {
   "cell_type": "code",
   "execution_count": 2,
   "metadata": {},
   "outputs": [
    {
     "name": "stdout",
     "output_type": "stream",
     "text": [
      "Overwriting 0x08-recursion/main.h\n"
     ]
    }
   ],
   "source": [
    "%%file 0x09-static_libraries/main.h\n",
    "#ifndef FILE_MAIN\n",
    "#define FILE_MAIN\n",
    "\n",
    "#include <stdio.h>\n",
    "int _putchar(char c);\n",
    "void _puts_recursion(char *s);\n",
    "void _print_rev_recursion(char *s);\n",
    "int _strlen_recursion(char *s);\n",
    "int factorial(int n);\n",
    "int _pow_recursion(int x, int y);\n",
    "#endif\n"
   ]
  },
  {
   "cell_type": "code",
   "execution_count": 5,
   "metadata": {},
   "outputs": [
    {
     "name": "stdout",
     "output_type": "stream",
     "text": [
      "Writing 0x08-recursion/4-pow_recursion.c\n"
     ]
    }
   ],
   "source": [
    "%%file 0x09-static_libraries/4-pow_recursion.c\n",
    "#include \"main.h\"\n",
    "\n",
    "/**\n",
    "* _pow_recursion - returns the value of x raised to the power of y\n",
    "* @x: the base\n",
    "* @y: the exponent\n",
    "*\n",
    "* Return: the result of x raised to the power of y\n",
    "*         if y is lower than 0, return -1\n",
    "*/\n",
    "int _pow_recursion(int x, int y)\n",
    "{\n",
    "if (y < 0)\n",
    "{\n",
    "return (-1);\n",
    "}\n",
    "if (y == 0)\n",
    "{\n",
    "return (1);\n",
    "}\n",
    "return (x * _pow_recursion(x, y - 1));\n",
    "}\n"
   ]
  },
  {
   "cell_type": "code",
   "execution_count": 6,
   "metadata": {},
   "outputs": [
    {
     "name": "stdout",
     "output_type": "stream",
     "text": [
      "Overwriting 0x08-recursion/_putchar.c\n"
     ]
    }
   ],
   "source": [
    "%%file 0x09-static_libraries/_putchar.c\n",
    "#include <unistd.h>\n",
    "#include \"main.h\"\n",
    "/**\n",
    " * _putchar - writes the character c to stdout\n",
    " * @c: The character to print\n",
    " *\n",
    " * Return: On success 1.\n",
    " * On error, -1 is returned, and errno is set appropriately.\n",
    " */\n",
    "int _putchar(char c)\n",
    "{\n",
    "\treturn (write(1, &c, 1));\n",
    "}\n"
   ]
  },
  {
   "cell_type": "code",
   "execution_count": 7,
   "metadata": {},
   "outputs": [
    {
     "name": "stdout",
     "output_type": "stream",
     "text": [
      "\n",
      "========== 0x08-recursion/4-pow_recursion.c ==========\n"
     ]
    },
    {
     "name": "stdout",
     "output_type": "stream",
     "text": [
      "_pow_recursion\n",
      "1\n",
      "1\n",
      "65536\n",
      "25\n",
      "-1\n",
      "-125\n"
     ]
    }
   ],
   "source": [
    "%%bash\n",
    "betty 0x09-static_libraries/4-pow_recursion.c\n",
    "gcc -Wall -pedantic -Werror -Wextra -std=gnu89 0x09-static_libraries/4-main.c 0x09-static_libraries/4-pow_recursion.c -o 0x09-static_libraries/4-pow_recursion\n",
    "./0x09-static_libraries/4-pow_recursion"
   ]
  },
  {
   "cell_type": "code",
   "execution_count": 8,
   "metadata": {},
   "outputs": [
    {
     "name": "stdout",
     "output_type": "stream",
     "text": [
      "[main 48905b5] alx-low_level_programming/0x08-recursion\n",
      " 5 files changed, 105 insertions(+), 58 deletions(-)\n",
      " create mode 100644 0x08-recursion/4-main.c\n",
      " create mode 100755 0x08-recursion/4-pow_recursion\n",
      " create mode 100644 0x08-recursion/4-pow_recursion.c\n"
     ]
    },
    {
     "name": "stderr",
     "output_type": "stream",
     "text": [
      "To https://github.com/elkomysara/alx-low_level_programming.git\n",
      "   0438ec3..48905b5  main -> main\n"
     ]
    }
   ],
   "source": [
    "%%bash\n",
    "git add .\n",
    "git commit -m \"alx-low_level_programming/0x09-static_libraries\"\n",
    "git push"
   ]
  },
  {
   "cell_type": "markdown",
   "metadata": {},
   "source": [
    "###\n",
    "---\n",
    "<center>\n",
    "<h4> 5. Your subconscious is looking for the dreamer\n",
    " </h4>\n",
    "</center>\n",
    "\n",
    "---"
   ]
  },
  {
   "cell_type": "markdown",
   "metadata": {},
   "source": [
    "\n",
    "####  Write a function that returns the natural square root of a number.\n",
    "\n",
    "* Prototype: `int _sqrt_recursion(int n);`\n",
    "* If `n` does not have a natural square root, the function should return `-1`\n",
    "FYI: The standard library provides a different function: `sqrt`. Run `man sqrt` to learn more.\n",
    "\n",
    "```bash\n",
    "julien@ubuntu:~/0x08. Recursion$ cat 5-main.c \n",
    "#include \"main.h\"\n",
    "#include <stdio.h>\n",
    "\n",
    "/**\n",
    " * main - check the code\n",
    " *\n",
    " * Return: Always 0.\n",
    " */\n",
    "int main(void)\n",
    "{\n",
    "    int r;\n",
    "\n",
    "    r = _sqrt_recursion(1);\n",
    "    printf(\"%d\\n\", r);\n",
    "    r = _sqrt_recursion(1024);\n",
    "    printf(\"%d\\n\", r);\n",
    "    r = _sqrt_recursion(16);\n",
    "    printf(\"%d\\n\", r);\n",
    "    r = _sqrt_recursion(17);\n",
    "    printf(\"%d\\n\", r);\n",
    "    r = _sqrt_recursion(25);\n",
    "    printf(\"%d\\n\", r);\n",
    "    r = _sqrt_recursion(-1);\n",
    "    printf(\"%d\\n\", r);\n",
    "    return (0);\n",
    "}\n",
    "julien@ubuntu:~/0x08. gcc -Wall -pedantic -Werror -Wextra -std=gnu89 5-main.c 5-sqrt_recursion.c -o 5-sqrt\n",
    "julien@ubuntu:~/0x08. Recursion$ ./5-sqrt \n",
    "1\n",
    "32\n",
    "4\n",
    "-1\n",
    "5\n",
    "-1\n",
    "julien@ubuntu:~/0x08. Recursion$  \n",
    "\n",
    "```\n",
    "\n",
    "#### Repo:\n",
    "* GitHub repository: ``` alx-low_level_programming ```\n",
    "* Directory: ```0x08-recursion``` \n",
    "* File: ```5-sqrt_recursion.c```"
   ]
  },
  {
   "cell_type": "code",
   "execution_count": 9,
   "metadata": {},
   "outputs": [
    {
     "name": "stdout",
     "output_type": "stream",
     "text": [
      "Writing 0x08-recursion/5-main.c\n"
     ]
    }
   ],
   "source": [
    "%%file 0x09-static_libraries/5-main.c\n",
    "#include \"main.h\"\n",
    "#include <stdio.h>\n",
    "\n",
    "/**\n",
    " * main - check the code\n",
    " *\n",
    " * Return: Always 0.\n",
    " */\n",
    "int main(void)\n",
    "{\n",
    "    int r;\n",
    "\n",
    "    r = _sqrt_recursion(1);\n",
    "    printf(\"%d\\n\", r);\n",
    "    r = _sqrt_recursion(1024);\n",
    "    printf(\"%d\\n\", r);\n",
    "    r = _sqrt_recursion(16);\n",
    "    printf(\"%d\\n\", r);\n",
    "    r = _sqrt_recursion(17);\n",
    "    printf(\"%d\\n\", r);\n",
    "    r = _sqrt_recursion(25);\n",
    "    printf(\"%d\\n\", r);\n",
    "    r = _sqrt_recursion(-1);\n",
    "    printf(\"%d\\n\", r);\n",
    "    return (0);\n",
    "}"
   ]
  },
  {
   "cell_type": "code",
   "execution_count": 10,
   "metadata": {},
   "outputs": [
    {
     "name": "stdout",
     "output_type": "stream",
     "text": [
      "Overwriting 0x08-recursion/main.h\n"
     ]
    }
   ],
   "source": [
    "%%file 0x09-static_libraries/main.h\n",
    "#ifndef FILE_MAIN\n",
    "#define FILE_MAIN\n",
    "\n",
    "#include <stdio.h>\n",
    "int _putchar(char c);\n",
    "void _puts_recursion(char *s);\n",
    "void _print_rev_recursion(char *s);\n",
    "int _strlen_recursion(char *s);\n",
    "int factorial(int n);\n",
    "int _pow_recursion(int x, int y);\n",
    "int _sqrt_recursion(int n);\n",
    "\n",
    "#endif\n"
   ]
  },
  {
   "cell_type": "code",
   "execution_count": 1,
   "metadata": {},
   "outputs": [
    {
     "name": "stdout",
     "output_type": "stream",
     "text": [
      "Overwriting 0x08-recursion/5-sqrt_recursion.c\n"
     ]
    }
   ],
   "source": [
    "%%file 0x09-static_libraries/5-sqrt_recursion.c\n",
    "#include \"main.h\"\n",
    "\n",
    "int _sqrt_helper(int n, int guess);\n",
    "\n",
    "/**\n",
    "* _sqrt_recursion - returns the natural square root of a number\n",
    "* @n: the number to find the square root of\n",
    "*\n",
    "* Return: the natural square root of n\n",
    "*         if n does not have a natural square root, return -1\n",
    "*/\n",
    "int _sqrt_recursion(int n)\n",
    "{\n",
    "if (n < 0)\n",
    "{\n",
    "return (-1);\n",
    "}\n",
    "return (_sqrt_helper(n, 0));\n",
    "}\n",
    "\n",
    "/**\n",
    "* _sqrt_helper - helper function to find the square root\n",
    "* @n: the number to find the square root of\n",
    "* @guess: the current guess for the square root\n",
    "*\n",
    "* Return: the natural square root of n\n",
    "*         if n does not have a natural square root, return -1\n",
    "*/\n",
    "int _sqrt_helper(int n, int guess)\n",
    "{\n",
    "if (guess * guess == n)\n",
    "{\n",
    "return (guess);\n",
    "}\n",
    "if (guess * guess > n)\n",
    "{\n",
    "return (-1);\n",
    "}\n",
    "return (_sqrt_helper(n, guess + 1));\n",
    "}\n",
    "\n"
   ]
  },
  {
   "cell_type": "code",
   "execution_count": 2,
   "metadata": {},
   "outputs": [
    {
     "name": "stdout",
     "output_type": "stream",
     "text": [
      "\n",
      "========== 0x08-recursion/5-sqrt_recursion.c ==========\n",
      "_sqrt_recursion\n",
      "_sqrt_helper\n",
      "1\n",
      "32\n",
      "4\n",
      "-1\n",
      "5\n",
      "-1\n"
     ]
    }
   ],
   "source": [
    "%%bash\n",
    "betty 0x09-static_libraries/5-sqrt_recursion.c\n",
    "gcc -Wall -pedantic -Werror -Wextra -std=gnu89 0x09-static_libraries/5-main.c 0x09-static_libraries/5-sqrt_recursion.c -o 0x09-static_libraries/5-sqrt_recursion\n",
    "./0x09-static_libraries/5-sqrt_recursion"
   ]
  },
  {
   "cell_type": "code",
   "execution_count": 3,
   "metadata": {},
   "outputs": [
    {
     "name": "stdout",
     "output_type": "stream",
     "text": [
      "[main e34991e] alx-low_level_programming/0x08-recursion\n",
      " 5 files changed, 222 insertions(+), 113 deletions(-)\n",
      " create mode 100644 0x08-recursion/5-main.c\n",
      " create mode 100755 0x08-recursion/5-sqrt_recursion\n",
      " create mode 100644 0x08-recursion/5-sqrt_recursion.c\n"
     ]
    },
    {
     "name": "stderr",
     "output_type": "stream",
     "text": [
      "To https://github.com/elkomysara/alx-low_level_programming.git\n",
      "   48905b5..e34991e  main -> main\n"
     ]
    }
   ],
   "source": [
    "%%bash\n",
    "git add .\n",
    "git commit -m \"alx-low_level_programming/0x09-static_libraries\"\n",
    "git push"
   ]
  },
  {
   "cell_type": "code",
   "execution_count": null,
   "metadata": {},
   "outputs": [],
   "source": []
  },
  {
   "cell_type": "markdown",
   "metadata": {},
   "source": [
    "###\n",
    "---\n",
    "<center>\n",
    "<h4>6. Inception. Is it possible?\n",
    " </h4>\n",
    "</center>\n",
    "\n",
    "---"
   ]
  },
  {
   "cell_type": "markdown",
   "metadata": {},
   "source": [
    "\n",
    "####  Write a function that returns `1` if the input integer is a prime number, otherwise return `0`.\n",
    "\n",
    "* Prototype: `int is_prime_number(int n);`\n",
    "\n",
    "```bash\n",
    "julien@ubuntu:~/0x08. Recursion$ cat 6-main.c\n",
    "#include \"main.h\"\n",
    "#include <stdio.h>\n",
    "\n",
    "/**\n",
    " * main - check the code\n",
    " *\n",
    " * Return: Always 0.\n",
    " */\n",
    "int main(void)\n",
    "{\n",
    "    int r;\n",
    "\n",
    "    r = is_prime_number(1);\n",
    "    printf(\"%d\\n\", r);\n",
    "    r = is_prime_number(1024);\n",
    "    printf(\"%d\\n\", r);\n",
    "    r = is_prime_number(16);\n",
    "    printf(\"%d\\n\", r);\n",
    "    r = is_prime_number(17);\n",
    "    printf(\"%d\\n\", r);\n",
    "    r = is_prime_number(25);\n",
    "    printf(\"%d\\n\", r);\n",
    "    r = is_prime_number(-1);\n",
    "    printf(\"%d\\n\", r);\n",
    "    r = is_prime_number(113);\n",
    "    printf(\"%d\\n\", r);\n",
    "    r = is_prime_number(7919);\n",
    "    printf(\"%d\\n\", r);\n",
    "    return (0);\n",
    "}\n",
    "julien@ubuntu:~/0x08. Recursion$ gcc -Wall -pedantic -Werror -Wextra -std=gnu89 6-main.c 6-is_prime_number.c -o 6-prime\n",
    "julien@ubuntu:~/0x08. Recursion$ ./6-prime \n",
    "0\n",
    "0\n",
    "0\n",
    "1\n",
    "0\n",
    "0\n",
    "1\n",
    "1\n",
    "julien@ubuntu:~/0x08. Recursion$ \n",
    "\n",
    "```\n",
    "\n",
    "#### Repo:\n",
    "* GitHub repository: ``` alx-low_level_programming ```\n",
    "* Directory: ```0x08-recursion``` \n",
    "* File: ```6-is_prime_number.c```"
   ]
  },
  {
   "cell_type": "code",
   "execution_count": 5,
   "metadata": {},
   "outputs": [
    {
     "name": "stdout",
     "output_type": "stream",
     "text": [
      "Overwriting 0x08-recursion/6-main.c\n"
     ]
    }
   ],
   "source": [
    "%%file 0x09-static_libraries/6-main.c\n",
    "#include \"main.h\"\n",
    "#include <stdio.h>\n",
    "\n",
    "/**\n",
    " * main - check the code\n",
    " *\n",
    " * Return: Always 0.\n",
    " */\n",
    "int main(void)\n",
    "{\n",
    "    int r;\n",
    "\n",
    "    r = is_prime_number(1);\n",
    "    printf(\"%d\\n\", r);\n",
    "    r = is_prime_number(1024);\n",
    "    printf(\"%d\\n\", r);\n",
    "    r = is_prime_number(16);\n",
    "    printf(\"%d\\n\", r);\n",
    "    r = is_prime_number(17);\n",
    "    printf(\"%d\\n\", r);\n",
    "    r = is_prime_number(25);\n",
    "    printf(\"%d\\n\", r);\n",
    "    r = is_prime_number(-1);\n",
    "    printf(\"%d\\n\", r);\n",
    "    r = is_prime_number(113);\n",
    "    printf(\"%d\\n\", r);\n",
    "    r = is_prime_number(7919);\n",
    "    printf(\"%d\\n\", r);\n",
    "    return (0);\n",
    "}"
   ]
  },
  {
   "cell_type": "code",
   "execution_count": 13,
   "metadata": {},
   "outputs": [
    {
     "name": "stdout",
     "output_type": "stream",
     "text": [
      "Overwriting 0x08-recursion/main.h\n"
     ]
    }
   ],
   "source": [
    "%%file 0x09-static_libraries/main.h\n",
    "#ifndef FILE_MAIN\n",
    "#define FILE_MAIN\n",
    "\n",
    "#include <stdio.h>\n",
    "int _putchar(char c);\n",
    "void _puts_recursion(char *s);\n",
    "void _print_rev_recursion(char *s);\n",
    "int _strlen_recursion(char *s);\n",
    "int factorial(int n);\n",
    "int _pow_recursion(int x, int y);\n",
    "int _sqrt_recursion(int n);\n",
    "int is_prime_number(int n);\n",
    "\n",
    "#endif\n"
   ]
  },
  {
   "cell_type": "code",
   "execution_count": 14,
   "metadata": {},
   "outputs": [
    {
     "name": "stdout",
     "output_type": "stream",
     "text": [
      "Overwriting 0x08-recursion/6-is_prime_number.c\n"
     ]
    }
   ],
   "source": [
    "%%file 0x09-static_libraries/6-is_prime_number.c\n",
    "#include \"main.h\"\n",
    "\n",
    "/**\n",
    "* is_prime_helper - recursively checks if n is divisible by any number\n",
    "* from 2 to sqrt(n)\n",
    "* @n: the number to check\n",
    "* @i: current divisor to check\n",
    "*\n",
    "* Return: 1 if n is prime, otherwise 0\n",
    "*/\n",
    "int is_prime_helper(int n, int i)\n",
    "{\n",
    "if (i * i > n)\n",
    "return (1);\n",
    "if (n % i == 0)\n",
    "return (0);\n",
    "return (is_prime_helper(n, i + 1));\n",
    "}\n",
    "\n",
    "/**\n",
    "* is_prime_number - checks if a number is a prime number\n",
    "* @n: the number to check\n",
    "*\n",
    "* Return: 1 if n is prime, otherwise 0\n",
    "*/\n",
    "int is_prime_number(int n)\n",
    "{\n",
    "if (n <= 1)\n",
    "return (0);\n",
    "return (is_prime_helper(n, 2));\n",
    "}\n"
   ]
  },
  {
   "cell_type": "code",
   "execution_count": 16,
   "metadata": {},
   "outputs": [
    {
     "name": "stdout",
     "output_type": "stream",
     "text": [
      "\n",
      "========== 0x08-recursion/6-is_prime_number.c ==========\n",
      "is_prime_helper\n",
      "is_prime_number\n",
      "0\n",
      "0\n",
      "0\n",
      "1\n",
      "0\n",
      "0\n",
      "1\n",
      "1\n"
     ]
    }
   ],
   "source": [
    "%%bash\n",
    "betty 0x09-static_libraries/6-is_prime_number.c\n",
    "gcc -Wall -pedantic -Werror -Wextra -std=gnu89 0x09-static_libraries/6-main.c 0x09-static_libraries/6-is_prime_number.c -o 0x09-static_libraries/6-prime\n",
    "./0x09-static_libraries/6-prime"
   ]
  },
  {
   "cell_type": "code",
   "execution_count": 17,
   "metadata": {},
   "outputs": [
    {
     "name": "stdout",
     "output_type": "stream",
     "text": [
      "[main 60d53de] alx-low_level_programming/0x08-recursion\n",
      " 2 files changed, 24 insertions(+), 1 deletion(-)\n",
      " create mode 100644 0x08-recursion/100-main.c\n"
     ]
    },
    {
     "name": "stderr",
     "output_type": "stream",
     "text": [
      "To https://github.com/elkomysara/alx-low_level_programming.git\n",
      "   03daa67..60d53de  main -> main\n"
     ]
    }
   ],
   "source": [
    "%%bash\n",
    "git add .\n",
    "git commit -m \"alx-low_level_programming/0x09-static_libraries\"\n",
    "git push"
   ]
  },
  {
   "cell_type": "code",
   "execution_count": null,
   "metadata": {},
   "outputs": [],
   "source": []
  },
  {
   "cell_type": "markdown",
   "metadata": {},
   "source": [
    "###\n",
    "---\n",
    "<center>\n",
    "<h4> 7. They say we only use a fraction of our brain's true potential. Now that's when we're awake. When we're asleep, we can do almost anything\n",
    " </h4>\n",
    "</center>\n",
    "\n",
    "---"
   ]
  },
  {
   "cell_type": "markdown",
   "metadata": {},
   "source": [
    "\n",
    "####  Write a function that returns `1` if a string is a palindrome and `0` if not.\n",
    "\n",
    "* Prototype: `int is_palindrome(char *s);`\n",
    "* An empty string is a palindrome\n",
    "\n",
    "```bash\n",
    "julien@ubuntu:~/0x08. Recursion$ cat 100-main.c\n",
    "#include \"main.h\"\n",
    "#include <stdio.h>\n",
    "\n",
    "/**\n",
    " * main - check the code\n",
    " *\n",
    " * Return: Always 0.\n",
    " */\n",
    "int main(void)\n",
    "{\n",
    "    int r;\n",
    "\n",
    "    r = is_palindrome(\"level\");\n",
    "    printf(\"%d\\n\", r);\n",
    "    r = is_palindrome(\"redder\");\n",
    "    printf(\"%d\\n\", r);\n",
    "    r = is_palindrome(\"test\");\n",
    "    printf(\"%d\\n\", r);\n",
    "    r = is_palindrome(\"step on no pets\");\n",
    "    printf(\"%d\\n\", r);\n",
    "    return (0);\n",
    "}\n",
    "julien@ubuntu:~/0x08. Recursion$ gcc -Wall -pedantic -Werror -Wextra -std=gnu89 100-main.c 100-is_palindrome.c -o 100-palindrome\n",
    "julien@ubuntu:~/0x08. Recursion$ ./100-palindrome \n",
    "1\n",
    "1\n",
    "0\n",
    "1\n",
    "julien@ubuntu:~/0x08. Recursion$\n",
    "  \n",
    "```\n",
    "\n",
    "#### Repo:\n",
    "* GitHub repository: ``` alx-low_level_programming ```\n",
    "* Directory: ```0x08-recursion``` \n",
    "* File: ```100-is_palindrome.c```"
   ]
  },
  {
   "cell_type": "code",
   "execution_count": 24,
   "metadata": {},
   "outputs": [
    {
     "name": "stdout",
     "output_type": "stream",
     "text": [
      "Overwriting 0x08-recursion/100-main.c\n"
     ]
    }
   ],
   "source": [
    "%%file 0x09-static_libraries/100-main.c\n",
    "#include \"main.h\"\n",
    "#include <stdio.h>\n",
    "\n",
    "/**\n",
    " * main - check the code\n",
    " *\n",
    " * Return: Always 0.\n",
    " */\n",
    "int main(void)\n",
    "{\n",
    "    int r;\n",
    "\n",
    "    r = is_palindrome(\"level\");\n",
    "    printf(\"%d\\n\", r);\n",
    "    r = is_palindrome(\"redder\");\n",
    "    printf(\"%d\\n\", r);\n",
    "    r = is_palindrome(\"test\");\n",
    "    printf(\"%d\\n\", r);\n",
    "    r = is_palindrome(\"step on no pets\");\n",
    "    printf(\"%d\\n\", r);\n",
    "    return (0);\n",
    "}"
   ]
  },
  {
   "cell_type": "code",
   "execution_count": 28,
   "metadata": {},
   "outputs": [
    {
     "name": "stdout",
     "output_type": "stream",
     "text": [
      "Overwriting 0x08-recursion/main.h\n"
     ]
    }
   ],
   "source": [
    "%%file 0x09-static_libraries/main.h\n",
    "#ifndef FILE_MAIN\n",
    "#define FILE_MAIN\n",
    "\n",
    "#include <stdio.h>\n",
    "int _putchar(char c);\n",
    "void _puts_recursion(char *s);\n",
    "void _print_rev_recursion(char *s);\n",
    "int _strlen_recursion(char *s);\n",
    "int factorial(int n);\n",
    "int _pow_recursion(int x, int y);\n",
    "int _sqrt_recursion(int n);\n",
    "int is_prime_number(int n);\n",
    "int is_palindrome(char *s);\n",
    "#endif\n"
   ]
  },
  {
   "cell_type": "code",
   "execution_count": 31,
   "metadata": {},
   "outputs": [
    {
     "name": "stdout",
     "output_type": "stream",
     "text": [
      "Overwriting 0x08-recursion/100-is_palindrome.c\n"
     ]
    }
   ],
   "source": [
    "%%file 0x09-static_libraries/100-is_palindrome.c\n",
    "#include \"main.h\"\n",
    "\n",
    "/**\n",
    "* _strlen - returns the length of a string\n",
    "* @s: the string to measure\n",
    "*\n",
    "* Return: the length of the string\n",
    "*/\n",
    "int _strlen(char *s)\n",
    "{\n",
    "if (*s == '\\0')\n",
    "return (0);\n",
    "return (1 + _strlen(s + 1));\n",
    "}\n",
    "\n",
    "/**\n",
    "* check_palindrome - recursively checks if a string is a palindrome\n",
    "* @s: the string to check\n",
    "* @start: the starting index\n",
    "* @end: the ending index\n",
    "*\n",
    "* Return: 1 if the string is a palindrome, otherwise 0\n",
    "*/\n",
    "int check_palindrome(char *s, int start, int end)\n",
    "{\n",
    "if (start >= end)\n",
    "return (1);\n",
    "if (s[start] != s[end])\n",
    "return (0);\n",
    "return (check_palindrome(s, start + 1, end - 1));\n",
    "}\n",
    "\n",
    "/**\n",
    "* is_palindrome - checks if a string is a palindrome\n",
    "* @s: the string to check\n",
    "*\n",
    "* Return: 1 if the string is a palindrome, otherwise 0\n",
    "*/\n",
    "int is_palindrome(char *s)\n",
    "{\n",
    "int len = _strlen(s);\n",
    "if (len == 0)\n",
    "return (1);\n",
    "return (check_palindrome(s, 0, len - 1));\n",
    "}\n"
   ]
  },
  {
   "cell_type": "code",
   "execution_count": 32,
   "metadata": {},
   "outputs": [
    {
     "name": "stdout",
     "output_type": "stream",
     "text": [
      "\n",
      "========== 0x08-recursion/100-is_palindrome.c ==========\n",
      "_strlen\n",
      "check_palindrome\n",
      "is_palindrome\n",
      "1\n",
      "1\n",
      "0\n",
      "1\n"
     ]
    }
   ],
   "source": [
    "%%bash\n",
    "betty 0x09-static_libraries/100-is_palindrome.c \n",
    "gcc -Wall -pedantic -Werror -Wextra -std=gnu89 0x09-static_libraries/100-main.c 0x09-static_libraries/100-is_palindrome.c -o 0x09-static_libraries/100-palindrome\n",
    "./0x09-static_libraries/100-palindrome"
   ]
  },
  {
   "cell_type": "code",
   "execution_count": 33,
   "metadata": {},
   "outputs": [
    {
     "name": "stdout",
     "output_type": "stream",
     "text": [
      "[main df19aac] alx-low_level_programming/0x08-recursion\n",
      " 3 files changed, 46 insertions(+), 1 deletion(-)\n",
      " create mode 100644 0x08-recursion/100-is_palindrome.c\n",
      " create mode 100755 0x08-recursion/100-palindrome\n"
     ]
    },
    {
     "name": "stderr",
     "output_type": "stream",
     "text": [
      "To https://github.com/elkomysara/alx-low_level_programming.git\n",
      "   60d53de..df19aac  main -> main\n"
     ]
    }
   ],
   "source": [
    "%%bash\n",
    "git add .\n",
    "git commit -m \"alx-low_level_programming/0x09-static_libraries\"\n",
    "git push"
   ]
  },
  {
   "cell_type": "markdown",
   "metadata": {},
   "source": [
    "###\n",
    "---\n",
    "<center>\n",
    "<h4> 8. Inception. Now, before you bother telling me it's impossible...\n",
    " </h4>\n",
    "</center>\n",
    "\n",
    "---"
   ]
  },
  {
   "cell_type": "markdown",
   "metadata": {},
   "source": [
    "\n",
    "####  Write a function that compares two strings and returns `1` if the strings can be considered identical, otherwise return `0`.\n",
    "\n",
    "* Prototype: `int wildcmp(char *s1, char *s2);`\n",
    "* `s2` can contain the special character `*`.\n",
    "* The special char `*` can replace any string (including an empty string)\n",
    "\n",
    "```bash\n",
    "julien@ubuntu:~/0x08. Recursion$ cat 101-main.c\n",
    "#include \"main.h\"\n",
    "#include <stdio.h>\n",
    "\n",
    "/**\n",
    " * main - check the code\n",
    " *\n",
    " * Return: Always 0.\n",
    " */\n",
    "int main(void)\n",
    "{\n",
    "    int r;\n",
    "\n",
    "    r = wildcmp(\"main.c\", \"*.c\");\n",
    "    printf(\"%d\\n\", r);\n",
    "    r = wildcmp(\"main.c\", \"m*a*i*n*.*c*\");\n",
    "    printf(\"%d\\n\", r);\n",
    "    r = wildcmp(\"main.c\", \"main.c\");\n",
    "    printf(\"%d\\n\", r);\n",
    "    r = wildcmp(\"main.c\", \"m*c\");\n",
    "    printf(\"%d\\n\", r);\n",
    "    r = wildcmp(\"main.c\", \"ma********************************c\");\n",
    "    printf(\"%d\\n\", r);\n",
    "    r = wildcmp(\"main.c\", \"*\");\n",
    "    printf(\"%d\\n\", r);\n",
    "    r = wildcmp(\"main.c\", \"***\");\n",
    "    printf(\"%d\\n\", r);\n",
    "    r = wildcmp(\"main.c\", \"m.*c\");\n",
    "    printf(\"%d\\n\", r);\n",
    "    r = wildcmp(\"main.c\", \"**.*c\");\n",
    "    printf(\"%d\\n\", r);\n",
    "    r = wildcmp(\"main-main.c\", \"ma*in.c\");\n",
    "    printf(\"%d\\n\", r);\n",
    "    r = wildcmp(\"main\", \"main*d\");\n",
    "    printf(\"%d\\n\", r);\n",
    "    r = wildcmp(\"abc\", \"*b\");\n",
    "    printf(\"%d\\n\", r);\n",
    "    return (0);\n",
    "}\n",
    "julien@ubuntu:~/0x08. Recursion$ gcc -Wall -pedantic -Werror -Wextra -std=gnu89 101-main.c 101-wildcmp.c -o 101-wildcmp\n",
    "julien@ubuntu:~/0x08. Recursion$ ./101-wildcmp \n",
    "1\n",
    "1\n",
    "1\n",
    "1\n",
    "1\n",
    "1\n",
    "1\n",
    "0\n",
    "1\n",
    "1\n",
    "0\n",
    "0\n",
    "julien@ubuntu:~/0x08. Recursion$ \n",
    " ```\n",
    "\n",
    "#### Repo:\n",
    "* GitHub repository: ``` alx-low_level_programming ```\n",
    "* Directory: ```0x08-recursion``` \n",
    "* File: ```101-wildcmp.c```"
   ]
  },
  {
   "cell_type": "code",
   "execution_count": 34,
   "metadata": {},
   "outputs": [
    {
     "name": "stdout",
     "output_type": "stream",
     "text": [
      "Writing 0x08-recursion/101-main.c\n"
     ]
    }
   ],
   "source": [
    "%%file 0x09-static_libraries/101-main.c\n",
    "#include \"main.h\"\n",
    "#include <stdio.h>\n",
    "\n",
    "/**\n",
    " * main - check the code\n",
    " *\n",
    " * Return: Always 0.\n",
    " */\n",
    "int main(void)\n",
    "{\n",
    "    int r;\n",
    "\n",
    "    r = wildcmp(\"main.c\", \"*.c\");\n",
    "    printf(\"%d\\n\", r);\n",
    "    r = wildcmp(\"main.c\", \"m*a*i*n*.*c*\");\n",
    "    printf(\"%d\\n\", r);\n",
    "    r = wildcmp(\"main.c\", \"main.c\");\n",
    "    printf(\"%d\\n\", r);\n",
    "    r = wildcmp(\"main.c\", \"m*c\");\n",
    "    printf(\"%d\\n\", r);\n",
    "    r = wildcmp(\"main.c\", \"ma********************************c\");\n",
    "    printf(\"%d\\n\", r);\n",
    "    r = wildcmp(\"main.c\", \"*\");\n",
    "    printf(\"%d\\n\", r);\n",
    "    r = wildcmp(\"main.c\", \"***\");\n",
    "    printf(\"%d\\n\", r);\n",
    "    r = wildcmp(\"main.c\", \"m.*c\");\n",
    "    printf(\"%d\\n\", r);\n",
    "    r = wildcmp(\"main.c\", \"**.*c\");\n",
    "    printf(\"%d\\n\", r);\n",
    "    r = wildcmp(\"main-main.c\", \"ma*in.c\");\n",
    "    printf(\"%d\\n\", r);\n",
    "    r = wildcmp(\"main\", \"main*d\");\n",
    "    printf(\"%d\\n\", r);\n",
    "    r = wildcmp(\"abc\", \"*b\");\n",
    "    printf(\"%d\\n\", r);\n",
    "    return (0);\n",
    "}"
   ]
  },
  {
   "cell_type": "code",
   "execution_count": 35,
   "metadata": {},
   "outputs": [
    {
     "name": "stdout",
     "output_type": "stream",
     "text": [
      "Overwriting 0x08-recursion/main.h\n"
     ]
    }
   ],
   "source": [
    "%%file 0x09-static_libraries/main.h\n",
    "#ifndef FILE_MAIN\n",
    "#define FILE_MAIN\n",
    "\n",
    "#include <stdio.h>\n",
    "\n",
    "int _putchar(char c);\n",
    "void _puts_recursion(char *s);\n",
    "void _print_rev_recursion(char *s);\n",
    "int _strlen_recursion(char *s);\n",
    "int factorial(int n);\n",
    "int _pow_recursion(int x, int y);\n",
    "int _sqrt_recursion(int n);\n",
    "int is_prime_number(int n);\n",
    "int is_palindrome(char *s);\n",
    "int wildcmp(char *s1, char *s2);\n",
    "#endif\n"
   ]
  },
  {
   "cell_type": "code",
   "execution_count": 36,
   "metadata": {},
   "outputs": [
    {
     "name": "stdout",
     "output_type": "stream",
     "text": [
      "Writing 0x08-recursion/101-wildcmp.c\n"
     ]
    }
   ],
   "source": [
    "%%file 0x09-static_libraries/101-wildcmp.c\n",
    "#include \"main.h\"\n",
    "\n",
    "/**\n",
    "* wildcmp - compares two strings and returns 1 if the strings can be\n",
    "* considered identical, otherwise returns 0.\n",
    "* @s1: the first string\n",
    "* @s2: the second string, which can contain the special character *\n",
    "*\n",
    "* Return: 1 if the strings can be considered identical, otherwise 0\n",
    "*/\n",
    "int wildcmp(char *s1, char *s2)\n",
    "{\n",
    "if (*s2 == '\\0')\n",
    "return (*s1 == '\\0');\n",
    "if (*s2 == '*')\n",
    "{\n",
    "if (wildcmp(s1, s2 + 1))\n",
    "return (1);\n",
    "if (*s1 && wildcmp(s1 + 1, s2))\n",
    "return (1);\n",
    "}\n",
    "else if (*s1 == *s2)\n",
    "{\n",
    "return (wildcmp(s1 + 1, s2 + 1));\n",
    "}\n",
    "return (0);\n",
    "}\n",
    "\n"
   ]
  },
  {
   "cell_type": "code",
   "execution_count": 37,
   "metadata": {},
   "outputs": [
    {
     "name": "stdout",
     "output_type": "stream",
     "text": [
      "\n",
      "========== 0x08-recursion/101-wildcmp.c ==========\n"
     ]
    },
    {
     "name": "stdout",
     "output_type": "stream",
     "text": [
      "wildcmp\n",
      "1\n",
      "1\n",
      "1\n",
      "1\n",
      "1\n",
      "1\n",
      "1\n",
      "0\n",
      "1\n",
      "1\n",
      "0\n",
      "0\n"
     ]
    }
   ],
   "source": [
    "%%bash\n",
    "betty 0x09-static_libraries/101-wildcmp.c\n",
    "gcc -Wall -pedantic -Werror -Wextra -std=gnu89 0x09-static_libraries/101-main.c 0x09-static_libraries/101-wildcmp.c -o 0x09-static_libraries/101-wildcmp\n",
    "./0x09-static_libraries/101-wildcmp"
   ]
  },
  {
   "cell_type": "code",
   "execution_count": 38,
   "metadata": {},
   "outputs": [
    {
     "name": "stdout",
     "output_type": "stream",
     "text": [
      "[main d1d6eaa] alx-low_level_programming/0x08-recursion\n",
      " 4 files changed, 68 insertions(+)\n",
      " create mode 100644 0x08-recursion/101-main.c\n",
      " create mode 100755 0x08-recursion/101-wildcmp\n",
      " create mode 100644 0x08-recursion/101-wildcmp.c\n"
     ]
    },
    {
     "name": "stderr",
     "output_type": "stream",
     "text": [
      "To https://github.com/elkomysara/alx-low_level_programming.git\n",
      "   df19aac..d1d6eaa  main -> main\n"
     ]
    }
   ],
   "source": [
    "%%bash\n",
    "git add .\n",
    "git commit -m \"alx-low_level_programming/0x09-static_libraries\"\n",
    "git push"
   ]
  },
  {
   "cell_type": "code",
   "execution_count": null,
   "metadata": {},
   "outputs": [],
   "source": []
  }
 ],
 "metadata": {
  "kernelspec": {
   "display_name": "Python 3",
   "language": "python",
   "name": "python3"
  },
  "language_info": {
   "codemirror_mode": {
    "name": "ipython",
    "version": 3
   },
   "file_extension": ".py",
   "mimetype": "text/x-python",
   "name": "python",
   "nbconvert_exporter": "python",
   "pygments_lexer": "ipython3",
   "version": "3.12.3"
  }
 },
 "nbformat": 4,
 "nbformat_minor": 2
}
