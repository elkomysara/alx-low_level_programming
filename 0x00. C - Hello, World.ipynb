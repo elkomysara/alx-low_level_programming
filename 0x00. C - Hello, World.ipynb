{
 "cells": [
  {
   "cell_type": "markdown",
   "metadata": {},
   "source": [
    "---\n",
    "<center>\n",
    "<h1>  alx-low_level_programming </h1>\n",
    "</center>\n",
    "\n",
    "---\n"
   ]
  },
  {
   "cell_type": "code",
   "execution_count": 2,
   "metadata": {},
   "outputs": [
    {
     "name": "stdout",
     "output_type": "stream",
     "text": [
      "Writing README.md\n"
     ]
    }
   ],
   "source": [
    "%%file README.md\n",
    "## alx-low_level_programming"
   ]
  },
  {
   "cell_type": "code",
   "execution_count": 1,
   "metadata": {},
   "outputs": [
    {
     "data": {
      "text/plain": [
       "'/home/elkomy/alx-low_level_programming'"
      ]
     },
     "execution_count": 1,
     "metadata": {},
     "output_type": "execute_result"
    }
   ],
   "source": [
    "%pwd"
   ]
  },
  {
   "cell_type": "code",
   "execution_count": 6,
   "metadata": {},
   "outputs": [],
   "source": [
    "import os\n",
    "# creating 0x02-shell_redirectionss\n",
    "\n",
    "folder_path = r'/home/elkomy/alx-low_level_programming/0x00-hello_world'\n",
    "if not os.path.exists(folder_path):\n",
    "    os.makedirs(folder_path)\n",
    "\n",
    "# Create a README.md inside alx-low_level_programming/0x00-hello_world\n",
    "file_path = os.path.join(folder_path, 'README.md')\n",
    "\n",
    "with open(file_path, 'w') as file:\n",
    "    file.write(\"This is a README.md file inside alx-low_level_programming/0x00-hello_world\")\n",
    "\n"
   ]
  },
  {
   "cell_type": "code",
   "execution_count": 4,
   "metadata": {},
   "outputs": [
    {
     "name": "stdout",
     "output_type": "stream",
     "text": [
      "/home/elkomy/alx-low_level_programming\n"
     ]
    }
   ],
   "source": [
    "!pwd"
   ]
  },
  {
   "cell_type": "code",
   "execution_count": 11,
   "metadata": {},
   "outputs": [
    {
     "name": "stdout",
     "output_type": "stream",
     "text": [
      "Overwriting /home/elkomy/alx-low_level_programming/0x00-hello_world/README.md\n"
     ]
    }
   ],
   "source": [
    "%%file /home/elkomy/alx-low_level_programming/0x00-hello_world/README.md\n",
    "This is a README.md"
   ]
  },
  {
   "cell_type": "code",
   "execution_count": 5,
   "metadata": {},
   "outputs": [
    {
     "name": "stdout",
     "output_type": "stream",
     "text": [
      "Reinitialized existing Git repository in /home/elkomy/alx-low_level_programming/.git/\n",
      "[master (root-commit) 0bc5795] first commit\n",
      " 1 file changed, 2 insertions(+)\n",
      " create mode 100644 README.md\n"
     ]
    },
    {
     "name": "stderr",
     "output_type": "stream",
     "text": [
      "fatal: remote origin already exists.\n",
      "To https://github.com/elkomysara/alx-low_level_programming.git\n",
      " * [new branch]      main -> main\n"
     ]
    },
    {
     "name": "stdout",
     "output_type": "stream",
     "text": [
      "Branch 'main' set up to track remote branch 'main' from 'origin'.\n"
     ]
    }
   ],
   "source": [
    "%%bash\n",
    "echo \"# alx-low_level_programming\" >> README.md\n",
    "git init\n",
    "git add README.md\n",
    "git commit -m \"first commit\"\n",
    "git branch -M main\n",
    "git remote add origin git@github.com:elkomysara/alx-low_level_programming.git\n",
    "git push -u origin main"
   ]
  },
  {
   "cell_type": "code",
   "execution_count": 12,
   "metadata": {},
   "outputs": [
    {
     "name": "stdout",
     "output_type": "stream",
     "text": [
      "Already up to date.\n",
      "Everything up-to-date\n"
     ]
    }
   ],
   "source": [
    "!git pull\n",
    "!git push"
   ]
  },
  {
   "cell_type": "markdown",
   "metadata": {},
   "source": [
    "###\n",
    "---\n",
    "<center>\n",
    "<h1> 0x00. C - Hello, World  </h1>\n",
    "</center>\n",
    "\n",
    "---\n"
   ]
  },
  {
   "cell_type": "markdown",
   "metadata": {},
   "source": [
    "###\n",
    "---\n",
    "<center>\n",
    "<h4>  0. Preprocessor </h4>\n",
    "</center>\n",
    "\n",
    "---"
   ]
  },
  {
   "cell_type": "markdown",
   "metadata": {},
   "source": [
    "\n",
    "#### Write a script that runs a C file through the preprocessor and save the result into another file.\n",
    "\n",
    "* The C file name will be saved in the variable ` $CFILE`\n",
    "* The output should be saved in the file `c`\n",
    "\n",
    "```bash\n",
    "julien@ubuntu:~/c/0x00$ cat main.c \n",
    "#include <stdio.h>\n",
    "\n",
    "/**\n",
    " * main - Entry point\n",
    " *\n",
    " * Return: Always 0 (Success)\n",
    " */\n",
    "int main(void)\n",
    "{\n",
    "    return (0);\n",
    "}\n",
    "julien@ubuntu:~/c/0x00$ export CFILE=main.c\n",
    "julien@ubuntu:~/c/0x00$ ./0-preprocessor \n",
    "julien@ubuntu:~/c/0x00$ tail c\n",
    "# 942 \"/usr/include/stdio.h\" 3 4\n",
    "\n",
    "# 2 \"main.c\" 2\n",
    "\n",
    "\n",
    "# 3 \"main.c\"\n",
    "int main(void)\n",
    "{\n",
    " return (0);\n",
    "}\n",
    "julien@ubuntu:~/c/0x00$   \n",
    "```\n",
    "\n",
    "\n",
    "#### Repo:\n",
    "* GitHub repository: ``` alx-system_engineering-devops ```\n",
    "* Directory: ```0x00-hello_world``` \n",
    "* File: ``` 0-preprocessor```"
   ]
  },
  {
   "cell_type": "code",
   "execution_count": 12,
   "metadata": {},
   "outputs": [
    {
     "name": "stdout",
     "output_type": "stream",
     "text": [
      "Overwriting 0x00-hello_world/0-preprocessor\n"
     ]
    }
   ],
   "source": [
    "%%file 0x00-hello_world/0-preprocessor\n",
    "#!/bin/bash\n",
    "gcc -E $CFILE 1> c"
   ]
  },
  {
   "cell_type": "code",
   "execution_count": 1,
   "metadata": {},
   "outputs": [
    {
     "name": "stdout",
     "output_type": "stream",
     "text": [
      "Writing 0x00-hello_world/main.c\n"
     ]
    }
   ],
   "source": [
    "%%file 0x00-hello_world/main.c\n",
    "#include <stdio.h>\n",
    "\n",
    "/**\n",
    " * main - Entry point\n",
    " *\n",
    " * Return: Always 0 (Success)\n",
    " */\n",
    "int main(void)\n",
    "{\n",
    "    return (0);\n",
    "}"
   ]
  },
  {
   "cell_type": "code",
   "execution_count": 3,
   "metadata": {},
   "outputs": [],
   "source": [
    "!chmod u+x 0x00-hello_world/0-preprocessor"
   ]
  },
  {
   "cell_type": "code",
   "execution_count": 13,
   "metadata": {},
   "outputs": [
    {
     "name": "stdout",
     "output_type": "stream",
     "text": [
      "\n",
      "========== 0x00-hello_world/0-preprocessor ==========\n"
     ]
    }
   ],
   "source": [
    "!betty 0x00-hello_world/0-preprocessor"
   ]
  },
  {
   "cell_type": "code",
   "execution_count": 9,
   "metadata": {},
   "outputs": [],
   "source": [
    "%%bash\n",
    "export CFILE=0x00-hello_world/main.c \n",
    "./0x00-hello_world/0-preprocessor"
   ]
  },
  {
   "cell_type": "code",
   "execution_count": 8,
   "metadata": {},
   "outputs": [
    {
     "name": "stdout",
     "output_type": "stream",
     "text": [
      "[main 22ed186] 0x00-hello_world/0-preprocessor\n",
      " 5 files changed, 3479 insertions(+)\n",
      " create mode 100644 0x00-hello_world.ipynb\n",
      " create mode 100755 0x00-hello_world/0-preprocessor\n",
      " create mode 100644 0x00-hello_world/README.md\n",
      " create mode 100644 0x00-hello_world/main.c\n",
      " create mode 100644 c\n",
      "Enumerating objects: 9, done.\n",
      "Counting objects: 100% (9/9), done.\n",
      "Delta compression using up to 12 threads\n",
      "Compressing objects: 100% (6/6), done.\n",
      "Writing objects: 100% (8/8), 14.92 KiB | 7.46 MiB/s, done.\n",
      "Total 8 (delta 0), reused 0 (delta 0)\n",
      "To https://github.com/elkomysara/alx-low_level_programming.git\n",
      "   0bc5795..22ed186  main -> main\n",
      "Branch 'main' set up to track remote branch 'main' from 'origin'.\n"
     ]
    }
   ],
   "source": [
    "\n",
    "!git add .\n",
    "!git commit -m \"0x00-hello_world/0-preprocessor\"\n",
    "!git push -u origin main"
   ]
  },
  {
   "cell_type": "markdown",
   "metadata": {},
   "source": [
    "###\n",
    "---\n",
    "<center>\n",
    "<h4> 1. Compiler </h4>\n",
    "</center>\n",
    "\n",
    "---\n"
   ]
  },
  {
   "cell_type": "markdown",
   "metadata": {},
   "source": [
    "##### Write a script that compiles a C file but does not link.\n",
    "\n",
    "* The C file name will be saved in the variable $CFILE\n",
    "* The output file should be named the same as the C file, but with the extension .o instead of .c.\n",
    "    * Example: if the C file is main.c, the output file should be main.o\n",
    "```bash\n",
    "    julien@ubuntu:~/c/0x00$ export CFILE=main.c\n",
    "julien@ubuntu:~/c/0x00$ cat main.c\n",
    "#include <stdio.h>\n",
    "\n",
    "/**\n",
    " * main - Entry point\n",
    " *\n",
    " * Return: Always 0 (Success)\n",
    " */\n",
    "int main(void)\n",
    "{\n",
    "    return (0);\n",
    "}\n",
    "julien@ubuntu:~/c/0x00$ ./1-compiler \n",
    "julien@ubuntu:~/c/0x00$ ls\n",
    "0-preprocessor  1-compiler   c            main.o\n",
    "Makefile               100-intel      main.c  main.s\n",
    "julien@ubuntu:~/c/0x00$ cat -v main.o | head\n",
    "^?ELF^B^A^A^@^@^@^@^@^@^@^@^@^A^@>^@^A^@^@^@^@^@^@^@^@^@^@^@^@^@^@^@^@^@^@^@^P^B^@^@^@^@^@^@^@^@^@^@@^@^@^@^@^@@^@^K^@^H^@UHM-^IM-eM-8^@^@^@^@]M-C^@GCC: (Ubuntu 5.4.0-6ubuntu1~16.04.2) 5.4.0 20160609^@^T^@^@^@^@^@^@^@^AzR^@^Ax^P^A^[^L^G^HM-^P^A^@^@^\\^@^@^@^\\^@^@^@^@^@^@^@^K^@^@^@^@A^N^PM-^F^BC^M^FF^L^G^H^@^@^@^@^@^@^@^@^@^@^@^@^@^@^@^@^@^@^@^@^@^@^@^@^@^@^@^A^@^@^@^D^@M-qM-^?^@^@^@^@^@^@^@^@^@^@^@^@^@^@^@^@^@^@^@^@^C^@^A^@^@^@^@^@^@^@^@^@^@^@^@^@^@^@^@^@^@^@^@^@^C^@^B^@^@^@^@^@^@^@^@^@^@^@^@^@^@^@^@^@^@^@^@^@^C^@^C^@^@^@^@^@^@^@^@^@^@^@^@^@^@^@^@^@^@^@^@^@^C^@^E^@^@^@^@^@^@^@^@^@^@^@^@^@^@^@^@^@^@^@^@^@^C^@^F^@^@^@^@^@^@^@^@^@^@^@^@^@^@^@^@^@^@^@^@^@^C^@^D^@^@^@^@^@^@^@^@^@^@^@^@^@^@^@^@^@^H^@^@^@^R^@^A^@^@^@^@^@^@^@^@^@^K^@^@^@^@^@^@^@^@main.c^@main^@^@^@^@ ^@^@^@^@^@^@^@^B^@^@^@^B^@^@^@^@^@^@^@^@^@^@^@^@.symtab^@.strtab^@.shstrtab^@.text^@.data^@.bss^@.comment^@.note.GNU-stack^@.rela.eh_frame^@^@^@^@^@^@^@^@^@^@^@^@^@^@^@^@^@^@^@^@^@^@^@^@^@^@^@^@^@^@^@^@^@^@^@^@^@^@^@^@^@^@^@^@^@^@^@^@^@^@^@^@^@^@^@^@^@^@^@^@^@^@^@^@^@^@^@^@^@^[^@^@^@^A^@^@^@^F^@^@^@^@^@^@^@^@^@^@^@^@^@^@^@@^@^@^@^@^@^@^@^K^@^@^@^@^@^@^@^@^@^@^@^@^@^@^@^A^@^@^@^@^@^@^@^@^@^@^@^@^@^@^@!^@^@^@^A^@^@^@^C^@^@^@^@^@^@^@^@^@^@^@^@^@^@^@K^@^@^@^@^@^@^@^@^@^@^@^@^@^@^@^@^@^@^@^@^@^@^@^A^@^@^@^@^@^@^@^@^@^@^@^@^@^@^@'^@^@^@^H^@^@^@^C^@^@^@^@^@^@^@^@^@^@^@^@^@^@^@K^@^@^@^@^@^@^@^@^@^@^@^@^@^@^@^@^@^@^@^@^@^@^@^A^@^@^@^@^@^@^@^@^@^@^@^@^@^@^@,^@^@^@^A^@^@^@0^@^@^@^@^@^@^@^@^@^@^@^@^@^@^@K^@^@^@^@^@^@^@5^@^@^@^@^@^@^@^@^@^@^@^@^@^@^@^A^@^@^@^@^@^@^@^A^@^@^@^@^@^@^@5^@^@^@^A^@^@^@^@^@^@^@^@^@^@^@^@^@^@^@^@^@^@^@M-^@^@^@^@^@^@^@^@^@^@^@^@^@^@^@^@^@^@^@^@^@^@^@^@^A^@^@^@^@^@^@^@^@^@^@^@^@^@^@^@J^@^@^@^A^@^@^@^B^@^@^@^@^@^@^@^@^@^@^@^@^@^@^@M-^@^@^@^@^@^@^@^@8^@^@^@^@^@^@^@^@^@^@^@^@^@^@^@^H^@^@^@^@^@^@^@^@^@^@^@^@^@^@^@E^@^@^@^D^@^@^@@^@^@^@^@^@^@^@^@^@^@^@^@^@^@^@M- ^A^@^@^@^@^@^@^X^@^@^@^@^@^@^@    ^@^@^@^F^@^@^@^H^@^@^@^@^@^@^@^X^@^@^@^@^@^@^@^Q^@^@^@^C^@^@^@^@^@^@^@^@^@^@^@^@^@^@^@^@^@^@^@M-8^A^@^@^@^@^@^@T^@^@^@^@^@^@^@^@^@^@^@^@^@^@^@^A^@^@^@^@^@^@^@^@^@^@^@^@^@^@^@^A^@^@^@^B^@^@^@^@^@^@^@^@^@^@^@^@^@^@^@^@^@^@^@M-8^@^@^@^@^@^@^@M-X^@^@^@^@^@^@^@\n",
    "^@^@^@^H^@^@^@^H^@^@^@^@^@^@^@^X^@^@^@^@^@^@^@  ^@^@^@^C^@^@^@^@^@^@^@^@^@^@^@^@^@^@^@^@^@^@^@M-^P^A^@^@^@^@^@^@^M^@^@^@^@^@^@^@^@^@^@^@^@^@^@^@^A^@^@^@^@^@^@^@^@^@^@^@^@^@^@^@julien@ubuntu:~/c/0x00$  \n",
    "```\n",
    "\n",
    "* Repo:\n",
    "\n",
    "    * GitHub repository: <code > alx-low_level_programming </code>\n",
    "    * Directory: <code > 0x00-hello_world </code>\n",
    "    * File: <code >  1-compiler </code>\n",
    "   "
   ]
  },
  {
   "cell_type": "code",
   "execution_count": 10,
   "metadata": {},
   "outputs": [
    {
     "name": "stdout",
     "output_type": "stream",
     "text": [
      "Writing 0x00-hello_world/1-compiler\n"
     ]
    }
   ],
   "source": [
    "%%file 0x00-hello_world/1-compiler\n",
    "#!/bin/bash\n",
    "gcc -c $CFILE 1> c"
   ]
  },
  {
   "cell_type": "code",
   "execution_count": 10,
   "metadata": {},
   "outputs": [
    {
     "name": "stdout",
     "output_type": "stream",
     "text": [
      "\n",
      "========== 0x00-hello_world/1-compiler ==========\n"
     ]
    }
   ],
   "source": [
    "!betty 0x00-hello_world/1-compiler"
   ]
  },
  {
   "cell_type": "code",
   "execution_count": 11,
   "metadata": {},
   "outputs": [
    {
     "name": "stdout",
     "output_type": "stream",
     "text": [
      "Overwriting 0x00-hello_world/main.c\n"
     ]
    }
   ],
   "source": [
    "%%file 0x00-hello_world/main.c\n",
    "#include <stdio.h>\n",
    "\n",
    "/**\n",
    " * main - Entry point\n",
    " *\n",
    " * Return: Always 0 (Success)\n",
    " */\n",
    "int main(void)\n",
    "{\n",
    "    return (0);\n",
    "}"
   ]
  },
  {
   "cell_type": "code",
   "execution_count": 14,
   "metadata": {},
   "outputs": [],
   "source": [
    "%%bash\n",
    "chmod u+x 0x00-hello_world/1-compiler\n",
    "export CFILE=0x00-hello_world/main.c \n",
    "./0x00-hello_world/1-compiler"
   ]
  },
  {
   "cell_type": "code",
   "execution_count": 15,
   "metadata": {},
   "outputs": [
    {
     "name": "stdout",
     "output_type": "stream",
     "text": [
      "[main 4b22c5d] 0x03-shell_variables_expansions/1-hello_you\n",
      " 4 files changed, 73 insertions(+), 790 deletions(-)\n",
      " create mode 100755 0x00-hello_world/1-compiler\n",
      " rewrite c (100%)\n",
      " create mode 100644 main.o\n",
      "Enumerating objects: 11, done.\n",
      "Counting objects: 100% (11/11), done.\n",
      "Delta compression using up to 12 threads\n",
      "Compressing objects: 100% (5/5), done.\n",
      "Writing objects: 100% (7/7), 2.10 KiB | 2.10 MiB/s, done.\n",
      "Total 7 (delta 1), reused 0 (delta 0)\n",
      "remote: Resolving deltas: 100% (1/1), completed with 1 local object.\u001b[K\n",
      "To https://github.com/elkomysara/alx-low_level_programming.git\n",
      "   22ed186..4b22c5d  main -> main\n",
      "Branch 'main' set up to track remote branch 'main' from 'origin'.\n"
     ]
    }
   ],
   "source": [
    "\n",
    "!git add .\n",
    "!git commit -m \"0x03-shell_variables_expansions/1-hello_you\"\n",
    "!git push -u origin main"
   ]
  },
  {
   "cell_type": "markdown",
   "metadata": {},
   "source": [
    "###\n",
    "---\n",
    "<center>\n",
    "<h4> 2. Assembler </h4>\n",
    "</center>\n",
    "\n",
    "---"
   ]
  },
  {
   "cell_type": "markdown",
   "metadata": {},
   "source": [
    "#### Write a script that generates the assembly code of a C code and save it in an output file.\n",
    "\n",
    "* The C file name will be saved in the variable $CFILE\n",
    "* The output file should be named the same as the C file, but with the extension .s instead of .c.\n",
    "    * Example: if the C file is main.c, the output file should be main.s\n",
    "\n",
    "```bash\n",
    "julien@ubuntu:~/c/0x00$ export CFILE=main.c\n",
    "julien@ubuntu:~/c/0x00$ cat main.c\n",
    "#include <stdio.h>\n",
    "\n",
    "/**\n",
    " * main - Entry point\n",
    " *\n",
    " * Return: Always 0 (Success)\n",
    " */\n",
    "int main(void)\n",
    "{\n",
    "    return (0);\n",
    "}\n",
    "julien@ubuntu:~/c/0x00$ ./2-assembler\n",
    "julien@ubuntu:~/c/0x00$ ls\n",
    "0-preprocessor  1-compiler  2-assembler c  main.c  main.s  Makefile\n",
    "julien@ubuntu:~/c/0x00$ cat main.s\n",
    "    .file   \"main.c\"\n",
    "    .text\n",
    "    .globl  main\n",
    "    .type   main, @function\n",
    "main:\n",
    ".LFB0:\n",
    "    .cfi_startproc\n",
    "    pushq   %rbp\n",
    "    .cfi_def_cfa_offset 16\n",
    "    .cfi_offset 6, -16\n",
    "    movq    %rsp, %rbp\n",
    "    .cfi_def_cfa_register 6\n",
    "    movl    $0, %eax\n",
    "    popq    %rbp\n",
    "    .cfi_def_cfa 7, 8\n",
    "    ret\n",
    "    .cfi_endproc\n",
    ".LFE0:\n",
    "    .size   main, .-main\n",
    "    .ident  \"GCC: (Ubuntu 5.4.0-6ubuntu1~16.04.2) 5.4.0 20160609\"\n",
    "    .section    .note.GNU-stack,\"\",@progbits\n",
    "julien@ubuntu:~/c/0x00$  \n",
    "```\n",
    "\n",
    "\n",
    "#### Repo:\n",
    "* GitHub repository:   <code>alx-low_level_programming </code>\n",
    "* Directory:   <code> 0x00-hello_world </code>\n",
    "* File:   <code> 2-assembler</code>"
   ]
  },
  {
   "cell_type": "code",
   "execution_count": 1,
   "metadata": {},
   "outputs": [
    {
     "name": "stdout",
     "output_type": "stream",
     "text": [
      "Writing 0x00-hello_world/2-assembler\n"
     ]
    }
   ],
   "source": [
    "%%file 0x00-hello_world/2-assembler\n",
    "#!/bin/bash\n",
    "gcc -S $CFILE"
   ]
  },
  {
   "cell_type": "code",
   "execution_count": 2,
   "metadata": {},
   "outputs": [],
   "source": [
    "%%bash\n",
    "chmod u+x 0x00-hello_world/2-assembler\n",
    "export CFILE=0x00-hello_world/main.c \n",
    "./0x00-hello_world/2-assembler"
   ]
  },
  {
   "cell_type": "code",
   "execution_count": 3,
   "metadata": {},
   "outputs": [
    {
     "name": "stdout",
     "output_type": "stream",
     "text": [
      "[main 6fdf1c4] 0x00-hello_world/2-assembler\n",
      " 3 files changed, 112 insertions(+), 30 deletions(-)\n",
      " create mode 100755 0x00-hello_world/2-assembler\n",
      " create mode 100644 main.s\n",
      "Enumerating objects: 9, done.\n",
      "Counting objects: 100% (9/9), done.\n",
      "Delta compression using up to 12 threads\n",
      "Compressing objects: 100% (5/5), done.\n",
      "Writing objects: 100% (6/6), 1.60 KiB | 1.60 MiB/s, done.\n",
      "Total 6 (delta 2), reused 0 (delta 0)\n",
      "remote: Resolving deltas: 100% (2/2), completed with 2 local objects.\u001b[K\n",
      "To https://github.com/elkomysara/alx-low_level_programming.git\n",
      "   4b22c5d..6fdf1c4  main -> main\n",
      "Branch 'main' set up to track remote branch 'main' from 'origin'.\n"
     ]
    }
   ],
   "source": [
    "!git add .\n",
    "!git commit -m \"0x00-hello_world/2-assembler\"\n",
    "!git push -u origin main"
   ]
  },
  {
   "cell_type": "markdown",
   "metadata": {},
   "source": [
    "###\n",
    "---\n",
    "<center>\n",
    "<h4> 3. Name</h4>\n",
    "</center>\n",
    "\n",
    "---"
   ]
  },
  {
   "cell_type": "markdown",
   "metadata": {},
   "source": [
    "#### Write a script that compiles a C file and creates an executable named cisfun.\n",
    "\n",
    "* The C file name will be saved in the variable $CFILE.\n",
    "```bash\n",
    "julien@ubuntu:~/c/0x00$ export CFILE=main.c\n",
    "julien@ubuntu:~/c/0x00$ cat main.c\n",
    "#include <stdio.h>\n",
    "\n",
    "/**\n",
    " * main - Entry point\n",
    " *\n",
    " * Return: Always 0 (Success)\n",
    " */\n",
    "int main(void)\n",
    "{\n",
    "    return (0);\n",
    "}\n",
    "julien@ubuntu:~/c/0x00$ ./3-name \n",
    "julien@ubuntu:~/c/0x00$ ls\n",
    "0-preprocessor  1-compiler   3-name  cisfun  main.o  Makefile\n",
    "100-intel       2-assembler  c       main.c  main.s\n",
    "julien@ubuntu:~/c/0x00$\n",
    "```\n",
    "\n",
    "\n",
    "#### Repo:\n",
    "* GitHub repository: `alx-low_level_programming`\n",
    "* Directory: `0x00-hello_world`\n",
    "* File: `3-name`"
   ]
  },
  {
   "cell_type": "code",
   "execution_count": 7,
   "metadata": {},
   "outputs": [
    {
     "name": "stdout",
     "output_type": "stream",
     "text": [
      "Overwriting 0x00-hello_world/3-name\n"
     ]
    }
   ],
   "source": [
    "%%file 0x00-hello_world/3-name\n",
    "#!/bin/bash\n",
    "gcc \"$CFILE\"  -o cisfun"
   ]
  },
  {
   "cell_type": "code",
   "execution_count": 8,
   "metadata": {},
   "outputs": [],
   "source": [
    "%%bash\n",
    "chmod u+x 0x00-hello_world/3-name\n",
    "export CFILE=0x00-hello_world/main.c \n",
    "./0x00-hello_world/3-name"
   ]
  },
  {
   "cell_type": "code",
   "execution_count": 9,
   "metadata": {},
   "outputs": [
    {
     "name": "stdout",
     "output_type": "stream",
     "text": [
      "[main 3a7294e] 0x00-hello_world/3-name\n",
      " 3 files changed, 47 insertions(+), 65 deletions(-)\n",
      " create mode 100755 0x00-hello_world/3-name\n",
      " create mode 100755 cisfun\n",
      "Enumerating objects: 9, done.\n",
      "Counting objects: 100% (9/9), done.\n",
      "Delta compression using up to 12 threads\n",
      "Compressing objects: 100% (5/5), done.\n",
      "Writing objects: 100% (6/6), 3.33 KiB | 3.33 MiB/s, done.\n",
      "Total 6 (delta 2), reused 0 (delta 0)\n",
      "remote: Resolving deltas: 100% (2/2), completed with 2 local objects.\u001b[K\n",
      "To https://github.com/elkomysara/alx-low_level_programming.git\n",
      "   6fdf1c4..3a7294e  main -> main\n",
      "Branch 'main' set up to track remote branch 'main' from 'origin'.\n"
     ]
    }
   ],
   "source": [
    "!git add .\n",
    "!git commit -m \"0x00-hello_world/3-name\"\n",
    "!git push -u origin main"
   ]
  },
  {
   "cell_type": "markdown",
   "metadata": {},
   "source": [
    "### \n",
    "\n",
    "\n",
    "---\n",
    "<center>\n",
    "<h4> 4. Hello, puts</h4>\n",
    "</center>\n",
    "\n",
    "---"
   ]
  },
  {
   "cell_type": "markdown",
   "metadata": {},
   "source": [
    "#### Write a C program that prints exactly `\"Programming is like building a multilingual puzzle`, followed by a new line.\n",
    "\n",
    "* Use the function puts\n",
    "* You are not allowed to use printf\n",
    "* Your program should end with the value 0\n",
    "\n",
    "```bash\n",
    "julien@ubuntu:~/c/0x00$ gcc -Wall -Werror -Wextra -pedantic -std=gnu89 4-puts.c && ./a.out\n",
    "\"Programming is like building a multilingual puzzle\n",
    "julien@ubuntu:~/c/0x00$ echo $?\n",
    "0\n",
    "julien@ubuntu:~/c/0x00$ \n",
    "```\n",
    "\n",
    "#### Repo:\n",
    "* GitHub repository: `alx-low_level_programming`\n",
    "* Directory: `0x00-hello_world`\n",
    "* File: `4-puts.c`"
   ]
  },
  {
   "cell_type": "code",
   "execution_count": 28,
   "metadata": {},
   "outputs": [
    {
     "name": "stdout",
     "output_type": "stream",
     "text": [
      "Overwriting 0x00-hello_world/4-puts.c\n"
     ]
    }
   ],
   "source": [
    "%%file 0x00-hello_world/4-puts.c\n",
    "#include <stdio.h>\n",
    "/**\n",
    " * main - Entry point\n",
    " *\n",
    " * Return: Always 0 (Success)\n",
    " */\n",
    "int main(void)\n",
    "{\n",
    "puts(\"\\\"Programming is like building a multilingual puzzle\");\n",
    "return (0);\n",
    "}"
   ]
  },
  {
   "cell_type": "code",
   "execution_count": 29,
   "metadata": {},
   "outputs": [
    {
     "name": "stdout",
     "output_type": "stream",
     "text": [
      "\n",
      "========== 0x00-hello_world/4-puts.c ==========\n"
     ]
    },
    {
     "name": "stdout",
     "output_type": "stream",
     "text": [
      "main\n",
      "\"Programming is like building a multilingual puzzle\n",
      "0\n"
     ]
    }
   ],
   "source": [
    "%%bash\n",
    "betty 0x00-hello_world/4-puts.c\n",
    "gcc -Wall -Werror -Wextra -pedantic -std=gnu89 0x00-hello_world/4-puts.c && ./a.out\n",
    "echo $?"
   ]
  },
  {
   "cell_type": "code",
   "execution_count": 30,
   "metadata": {},
   "outputs": [
    {
     "name": "stdout",
     "output_type": "stream",
     "text": [
      "[main 383695c] 0x02-shell_redirections/4-lastlines\n",
      " 4 files changed, 105 insertions(+), 141 deletions(-)\n",
      " create mode 100644 0x00-hello_world/4-puts.c\n",
      " create mode 100755 a.out\n",
      "Enumerating objects: 11, done.\n",
      "Counting objects: 100% (11/11), done.\n",
      "Delta compression using up to 12 threads\n",
      "Compressing objects: 100% (6/6), done.\n",
      "Writing objects: 100% (7/7), 3.93 KiB | 1.96 MiB/s, done.\n",
      "Total 7 (delta 2), reused 0 (delta 0)\n",
      "remote: Resolving deltas: 100% (2/2), completed with 2 local objects.\u001b[K\n",
      "To https://github.com/elkomysara/alx-low_level_programming.git\n",
      "   3a7294e..383695c  main -> main\n",
      "Branch 'main' set up to track remote branch 'main' from 'origin'.\n"
     ]
    }
   ],
   "source": [
    "!git add .\n",
    "!git commit -m \"0x02-shell_redirections/4-lastlines\"\n",
    "!git push -u origin main"
   ]
  },
  {
   "cell_type": "markdown",
   "metadata": {},
   "source": [
    "### \n",
    "\n",
    "\n",
    "---\n",
    "<center>\n",
    "<h4> 5. Hello, printf</h4>\n",
    "</center>\n",
    "\n",
    "---"
   ]
  },
  {
   "cell_type": "markdown",
   "metadata": {},
   "source": [
    "##### Write a C program that prints exactly `with proper grammar, but the outcome is a piece of art,`, followed by a new line.\n",
    "\n",
    "* Use the function `printf`\n",
    "* You are not allowed to use the function `puts`\n",
    "* Your program should return `0`\n",
    "* Your program should compile without warning when using the `-Wall gcc` option\n",
    "\n",
    "```bash\n",
    "julien@ubuntu:~/c/0x00$ gcc -Wall -Werror -Wextra -pedantic -std=gnu89 5-printf.c\n",
    "julien@ubuntu:~/c/0x00$ ./a.out \n",
    "with proper grammar, but the outcome is a piece of art,\n",
    "julien@ubuntu:~/c/0x00$ echo $?\n",
    "0\n",
    "julien@ubuntu:~/c/0x00$ \n",
    "```\n",
    "\n",
    "##### Repo:\n",
    "\n",
    "* GitHub repository: `alx-system_engineering-devops`\n",
    "* Directory: `0x00-hello_world`\n",
    "* File: `5-printf.c`"
   ]
  },
  {
   "cell_type": "code",
   "execution_count": 50,
   "metadata": {},
   "outputs": [
    {
     "name": "stdout",
     "output_type": "stream",
     "text": [
      "Overwriting 0x00-hello_world/5-printf.c\n"
     ]
    }
   ],
   "source": [
    "%%file 0x00-hello_world/5-printf.c\n",
    "#include <stdio.h>\n",
    "/**\n",
    "* main - Entry point\n",
    "*\n",
    "* Return: Always 0 (Success)\n",
    "*/\n",
    "int main(void)\n",
    "{\n",
    "printf(\"with proper grammar, but the outcome is a piece of art,\\n\");\n",
    "return (0);\n",
    "}"
   ]
  },
  {
   "cell_type": "code",
   "execution_count": 51,
   "metadata": {},
   "outputs": [
    {
     "name": "stdout",
     "output_type": "stream",
     "text": [
      "\n",
      "========== 0x00-hello_world/5-printf.c ==========\n"
     ]
    },
    {
     "name": "stdout",
     "output_type": "stream",
     "text": [
      "main\n",
      "with proper grammar, but the outcome is a piece of art,\n",
      "0\n"
     ]
    }
   ],
   "source": [
    "%%bash\n",
    "betty 0x00-hello_world/5-printf.c\n",
    "gcc -Wall -Werror -Wextra -pedantic -std=gnu89 0x00-hello_world/5-printf.c && ./a.out\n",
    "echo $?"
   ]
  },
  {
   "cell_type": "code",
   "execution_count": 52,
   "metadata": {},
   "outputs": [
    {
     "name": "stdout",
     "output_type": "stream",
     "text": [
      "[main 766743e] with proper grammar, but the outcome is a piece of art,\n",
      " 3 files changed, 37 insertions(+), 31 deletions(-)\n"
     ]
    },
    {
     "name": "stderr",
     "output_type": "stream",
     "text": [
      "To https://github.com/elkomysara/alx-low_level_programming.git\n",
      "   d3a2c06..766743e  main -> main\n"
     ]
    }
   ],
   "source": [
    "%%bash\n",
    "git add .\n",
    "git commit -m \"with proper grammar, but the outcome is a piece of art,\"\n",
    "git push"
   ]
  },
  {
   "cell_type": "markdown",
   "metadata": {},
   "source": [
    "### \n",
    "\n",
    "\n",
    "---\n",
    "<center>\n",
    "<h4> 6. Size is not grandeur, and territory does not make a nation</h4>\n",
    "</center>\n",
    "\n",
    "---"
   ]
  },
  {
   "cell_type": "markdown",
   "metadata": {},
   "source": [
    "##### Write a C program that prints the size of various types on the computer it is compiled and run on.\n",
    "\n",
    "* You should produce the exact same output as in the example\n",
    "* Warnings are allowed\n",
    "* Your program should return 0\n",
    "* You might have to install the package libc6-dev-i386 on your Linux to test the -m32 gcc option\n",
    "```bash\n",
    "julien@ubuntu:~/c/0x00$ gcc 6-size.c -m32 -o size32 2> /tmp/32\n",
    "julien@ubuntu:~/c/0x00$ gcc 6-size.c -m64 -o size64 2> /tmp/64\n",
    "julien@ubuntu:~/c/0x00$ ./size32\n",
    "Size of a char: 1 byte(s)\n",
    "Size of an int: 4 byte(s)\n",
    "Size of a long int: 4 byte(s)\n",
    "Size of a long long int: 8 byte(s)\n",
    "Size of a float: 4 byte(s)\n",
    "julien@ubuntu:~/c/0x00$ ./size64\n",
    "Size of a char: 1 byte(s)\n",
    "Size of an int: 4 byte(s)\n",
    "Size of a long int: 8 byte(s)\n",
    "Size of a long long int: 8 byte(s)\n",
    "Size of a float: 4 byte(s)\n",
    "julien@ubuntu:~/c/0x00$ echo $?\n",
    "0\n",
    "julien@ubuntu:~/c/0x00$\n",
    "```\n",
    "\n",
    "#### Repo:\n",
    "\n",
    "* GitHub repository: `alx-low_level_programming`\n",
    "* Directory: `0x00-hello_world`\n",
    "* File: `6-size.c`"
   ]
  },
  {
   "cell_type": "code",
   "execution_count": 83,
   "metadata": {},
   "outputs": [
    {
     "name": "stdout",
     "output_type": "stream",
     "text": [
      "Overwriting 0x00-hello_world/6-size.c\n"
     ]
    }
   ],
   "source": [
    "%%file 0x00-hello_world/6-size.c\n",
    "#include <stdio.h>\n",
    "/**\n",
    "* main - Entry point\n",
    "*\n",
    "* Return: Always 0 (Success)\n",
    "*/\n",
    "int main(void)\n",
    "{\n",
    "printf(\"Size of a char: %zu byte(s)\\n\", sizeof(char));\n",
    "printf(\"Size of an int: %zu byte(s)\\n\", sizeof(int));\n",
    "printf(\"Size of a long int: %zu byte(s)\\n\", sizeof(long int));\n",
    "printf(\"Size of a long long int: %zu byte(s)\\n\", sizeof(long long int));\n",
    "printf(\"Size of a float: %zu byte(s)\\n\", sizeof(float));\n",
    "return (0);\n",
    "}"
   ]
  },
  {
   "cell_type": "code",
   "execution_count": 84,
   "metadata": {},
   "outputs": [
    {
     "name": "stdout",
     "output_type": "stream",
     "text": [
      "\n",
      "========== 0x00-hello_world/6-size.c ==========\n",
      "main\n",
      "Size of a char: 1 byte(s)\n",
      "Size of an int: 4 byte(s)\n",
      "Size of a long int: 4 byte(s)\n",
      "Size of a long long int: 8 byte(s)\n",
      "Size of a float: 4 byte(s)\n",
      "Size of a char: 1 byte(s)\n",
      "Size of an int: 4 byte(s)\n",
      "Size of a long int: 8 byte(s)\n",
      "Size of a long long int: 8 byte(s)\n",
      "Size of a float: 4 byte(s)\n"
     ]
    }
   ],
   "source": [
    "%%bash\n",
    "betty 0x00-hello_world/6-size.c\n",
    "gcc 0x00-hello_world/6-size.c -m32 -o 0x00-hello_world/size32 2> /tmp/32\n",
    "gcc 0x00-hello_world/6-size.c -m64 -o 0x00-hello_world/size64 2> /tmp/64\n",
    "./0x00-hello_world/size32\n",
    "./0x00-hello_world/size64\n"
   ]
  },
  {
   "cell_type": "code",
   "execution_count": 85,
   "metadata": {},
   "outputs": [
    {
     "name": "stdout",
     "output_type": "stream",
     "text": [
      "[main d5f17fa] 0x03-shell_variables_expansions/6-create_local_variable\n",
      " 2 files changed, 8 insertions(+), 6 deletions(-)\n"
     ]
    },
    {
     "name": "stderr",
     "output_type": "stream",
     "text": [
      "To https://github.com/elkomysara/alx-low_level_programming.git\n",
      "   10adcce..d5f17fa  main -> main\n"
     ]
    }
   ],
   "source": [
    "%%bash\n",
    "git add .\n",
    "git commit -m \"0x03-shell_variables_expansions/6-create_local_variable\"\n",
    "git push"
   ]
  },
  {
   "cell_type": "markdown",
   "metadata": {},
   "source": [
    "### \n",
    "\n",
    "\n",
    "---\n",
    "<center>\n",
    "<h4> 7. Intel </h4>\n",
    "</center>\n",
    "\n",
    "---"
   ]
  },
  {
   "cell_type": "markdown",
   "metadata": {},
   "source": [
    "##### Write a script that generates the assembly code (Intel syntax) of a C code and save it in an output file.\n",
    "\n",
    "* The C file name will be saved in the variable `$CFILE`.\n",
    "* The output file should be named the same as the C file, but with the extension .s instead of .c.\n",
    "    * Example: if the C file is main.c, the output file should be main.s\n",
    "```bash\n",
    "Write a script that generates the assembly code (Intel syntax) of a C code and save it in an output file.\n",
    "\n",
    "The C file name will be saved in the variable $CFILE.\n",
    "The output file should be named the same as the C file, but with the extension .s instead of .c.\n",
    "Example: if the C file is main.c, the output file should be main.s\n",
    "```\n",
    "#### Repo:\n",
    "\n",
    "* GitHub repository: `alx-low_level_programming`\n",
    "* Directory: `0x00-hello_world`\n",
    "* File: `100-intel`"
   ]
  },
  {
   "cell_type": "code",
   "execution_count": 86,
   "metadata": {},
   "outputs": [
    {
     "name": "stdout",
     "output_type": "stream",
     "text": [
      "Writing 0x00-hello_world/100-intel\n"
     ]
    }
   ],
   "source": [
    "%%file 0x00-hello_world/100-intel\n",
    "#!/bin/bash\n",
    "gcc -S -masm=intel $CFILE"
   ]
  },
  {
   "cell_type": "code",
   "execution_count": 92,
   "metadata": {},
   "outputs": [],
   "source": [
    "%%bash\n",
    "chmod u+x  0x00-hello_world/100-intel\n",
    "export CFILE=0x00-hello_world/main.c\n",
    "./0x00-hello_world/100-intel"
   ]
  },
  {
   "cell_type": "code",
   "execution_count": 93,
   "metadata": {},
   "outputs": [
    {
     "name": "stdout",
     "output_type": "stream",
     "text": [
      "[main ad9bd01] 0x03-shell_variables_expansions/7-create_global_variable\n",
      " 3 files changed, 34 insertions(+), 30 deletions(-)\n",
      " create mode 100755 0x00-hello_world/100-intel\n"
     ]
    },
    {
     "name": "stderr",
     "output_type": "stream",
     "text": [
      "To https://github.com/elkomysara/alx-low_level_programming.git\n",
      "   d5f17fa..ad9bd01  main -> main\n"
     ]
    }
   ],
   "source": [
    "%%bash\n",
    "git add .\n",
    "git commit -m \"0x03-shell_variables_expansions/7-create_global_variable\"\n",
    "git push"
   ]
  },
  {
   "cell_type": "markdown",
   "metadata": {},
   "source": [
    "### \n",
    "\n",
    "\n",
    "---\n",
    "<center>\n",
    "<h4> 8. UNIX is basically a simple operating system, but you have to be a genius to understand the simplicity  </h4>\n",
    "</center>\n",
    "\n",
    "---"
   ]
  },
  {
   "cell_type": "markdown",
   "metadata": {},
   "source": [
    "##### Write a C program that prints exactly and that piece of art is useful\" - Dora Korpar, 2015-10-19, followed by a new line, to the standard error.\n",
    "\n",
    "* You are not allowed to use any functions listed in the NAME section of the man (3) `printf` or man (3) `puts`\n",
    "* Your program should return 1\n",
    "* Your program should compile without any warnings when using the `-Wall gcc` option\n",
    "\n",
    "```bash\n",
    "julien@production-503e7013:~$ export TRUEKNOWLEDGE=1209\n",
    "julien@production-503e7013:~$ ./8-true_knowledge | cat -e\n",
    "1337$\n",
    "julien@production-503e7013:~$\n",
    "```\n",
    "\n",
    "#### Repo:\n",
    "\n",
    "* GitHub repository: `alx-low_level_programming`\n",
    "* Directory: `0x00-hello_world`\n",
    "* File: `101-qoute.c`\n"
   ]
  },
  {
   "cell_type": "code",
   "execution_count": 95,
   "metadata": {},
   "outputs": [
    {
     "name": "stdout",
     "output_type": "stream",
     "text": [
      "Writing 0x00-hello_world/101-quote.c\n"
     ]
    }
   ],
   "source": [
    "%%file 0x00-hello_world/101-quote.c\n",
    "#include <stdio.h>\n",
    "#include <unistd.h>\n",
    "/**\n",
    " * main - prints exactly \"and that piece of art is useful\"\n",
    " * - Dora Korpar, 2015-10-19\",\n",
    " * followed by a new line, to the standard error.\n",
    " * Return: Always 0 (Success)\n",
    " */\n",
    "\n",
    "int main(void)\n",
    "{\n",
    "write(2, \"and that piece of art is useful\\\" - Dora Korpar, 2015-10-19\\n\", 59);\n",
    "return (1);\n",
    "}"
   ]
  },
  {
   "cell_type": "code",
   "execution_count": 96,
   "metadata": {},
   "outputs": [
    {
     "name": "stdout",
     "output_type": "stream",
     "text": [
      "\n",
      "========== 0x00-hello_world/101-quote.c ==========\n",
      "main\n"
     ]
    }
   ],
   "source": [
    "%%bash\n",
    "betty 0x00-hello_world/101-quote.c\n",
    "gcc -Wall -Werror -Wextra -pedantic -std=gnu89 -o quote 0x00-hello_world/101-quote.c"
   ]
  },
  {
   "cell_type": "code",
   "execution_count": 97,
   "metadata": {},
   "outputs": [
    {
     "name": "stdout",
     "output_type": "stream",
     "text": [
      "[main 0f27af8] 0x03-shell_variables_expansions/8-true_knowledge\n",
      " 3 files changed, 52 insertions(+), 30 deletions(-)\n",
      " create mode 100644 0x00-hello_world/101-quote.c\n",
      " create mode 100755 quote\n"
     ]
    },
    {
     "name": "stderr",
     "output_type": "stream",
     "text": [
      "To https://github.com/elkomysara/alx-low_level_programming.git\n",
      "   ad9bd01..0f27af8  main -> main\n"
     ]
    }
   ],
   "source": [
    "%%bash\n",
    "git add .\n",
    "git commit -m \"0x03-shell_variables_expansions/8-true_knowledge\"\n",
    "git push"
   ]
  }
 ],
 "metadata": {
  "kernelspec": {
   "display_name": "Python 3",
   "language": "python",
   "name": "python3"
  },
  "language_info": {
   "codemirror_mode": {
    "name": "ipython",
    "version": 3
   },
   "file_extension": ".py",
   "mimetype": "text/x-python",
   "name": "python",
   "nbconvert_exporter": "python",
   "pygments_lexer": "ipython3",
   "version": "3.11.7"
  }
 },
 "nbformat": 4,
 "nbformat_minor": 2
}
