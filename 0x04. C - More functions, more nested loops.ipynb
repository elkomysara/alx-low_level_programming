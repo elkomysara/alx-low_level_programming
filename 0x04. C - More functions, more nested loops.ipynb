{
 "cells": [
  {
   "cell_type": "markdown",
   "metadata": {},
   "source": [
    "---\n",
    "<center>\n",
    "<h1>  alx-low_level_programming </h1>\n",
    "</center>\n",
    "\n",
    "---\n"
   ]
  },
  {
   "cell_type": "code",
   "execution_count": 2,
   "metadata": {},
   "outputs": [
    {
     "name": "stdout",
     "output_type": "stream",
     "text": [
      "Writing README.md\n"
     ]
    }
   ],
   "source": [
    "%%file README.md\n",
    "## alx-low_level_programming"
   ]
  },
  {
   "cell_type": "code",
   "execution_count": 1,
   "metadata": {},
   "outputs": [],
   "source": [
    "import os\n",
    "# creating 0x02-shell_redirectionss\n",
    "\n",
    "folder_path = r'/home/elkomy/alx/alx-low_level_programming/0x04-more_functions_nested_loops'\n",
    "if not os.path.exists(folder_path):\n",
    "    os.makedirs(folder_path)\n",
    "\n",
    "# Create a README.md inside alx-low_level_programming/0x04-more_functions_nested_loops\n",
    "file_path = os.path.join(folder_path, 'README.md')\n",
    "\n",
    "with open(file_path, 'w') as file:\n",
    "    file.write(\"This is a README.md file inside alx-low_level_programming/0x04-more_functions_nested_loops\")\n",
    "\n"
   ]
  },
  {
   "cell_type": "code",
   "execution_count": 4,
   "metadata": {},
   "outputs": [
    {
     "name": "stdout",
     "output_type": "stream",
     "text": [
      " 0-positive_or_negative\t\t\t   '0x03. C - Debugging.ipynb'\t main.o\n",
      " 0x00-hello_world\t\t\t    README.md\t\t\t main.s\n",
      " 0x00-hello_world.ipynb\t\t\t    a.out\t\t\t quote\n",
      " 0x01-variables_if_else_while\t\t    alx\t\t\t\t size32\n",
      " 0x01-variables_if_else_while.ipynb\t    c\t\t\t\t size64\n",
      " 0x02-functions_nested_loops\t\t    cisfun\n",
      "'0x02. C - Functions, nested loops.ipynb'   comb.txt\n"
     ]
    }
   ],
   "source": [
    "!ls"
   ]
  },
  {
   "cell_type": "code",
   "execution_count": 7,
   "metadata": {},
   "outputs": [
    {
     "name": "stdout",
     "output_type": "stream",
     "text": [
      "Overwriting /home/elkomy/alx/alx-low_level_programming/0x03-debugging/README.md\n"
     ]
    }
   ],
   "source": [
    "%%file /home/elkomy/alx/alx-low_level_programming/0x04-more_functions_nested_loops/README.md\n",
    "This is a README.md"
   ]
  },
  {
   "cell_type": "markdown",
   "metadata": {},
   "source": [
    "###\n",
    "---\n",
    "<center>\n",
    "<h1> 0x04-more_functions_nested_loops  </h1>\n",
    "</center>\n",
    "\n",
    "---\n"
   ]
  },
  {
   "cell_type": "markdown",
   "metadata": {},
   "source": [
    "###\n",
    "---\n",
    "<center>\n",
    "<h4> 0. isupper </h4>\n",
    "</center>\n",
    "\n",
    "---"
   ]
  },
  {
   "cell_type": "markdown",
   "metadata": {},
   "source": [
    "\n",
    "####  Write a function that checks for uppercase character.\n",
    "\n",
    "* Prototype: `int _isupper(int c);`\n",
    "* Returns `1` if `c` is uppercase\n",
    "* Returns `0` otherwise\n",
    "FYI: The standard library provides a similar function: `isupper`. Run `man isupper` to learn more.\n",
    "\n",
    "```bash\n",
    "julien@ubuntu:~/0x04$ cat 0-main.c\n",
    "#include \"main.h\"\n",
    "#include <stdio.h>\n",
    "\n",
    "/**\n",
    " * main - check the code.\n",
    " *\n",
    " * Return: Always 0.\n",
    " */\n",
    "int main(void)\n",
    "{\n",
    "    char c;\n",
    "\n",
    "    c = 'A';\n",
    "    printf(\"%c: %d\\n\", c, _isupper(c));\n",
    "    c = 'a';\n",
    "    printf(\"%c: %d\\n\", c, _isupper(c));\n",
    "    return (0);\n",
    "}\n",
    "julien@ubuntu:~/0x04$ gcc -Wall -pedantic -Werror -Wextra -std=gnu89 0-main.c 0-isupper.c -o 0-isuper\n",
    "julien@ubuntu:~/0x04$ ./0-isuper \n",
    "A: 1\n",
    "a: 0\n",
    "julien@ubuntu:~/0x04$ \n",
    "\n",
    "```\n",
    "\n",
    "#### Repo:\n",
    "* GitHub repository: ``` alx-low_level_programming ```\n",
    "* Directory: ```0x04-more_functions_nested_loops``` \n",
    "* File: ```0-isupper.c```"
   ]
  },
  {
   "cell_type": "code",
   "execution_count": 1,
   "metadata": {},
   "outputs": [
    {
     "name": "stdout",
     "output_type": "stream",
     "text": [
      "Overwriting 0x04-more_functions_nested_loops/0-main.c\n"
     ]
    }
   ],
   "source": [
    "%%file 0x04-more_functions_nested_loops/0-main.c\n",
    "#include \"main.h\"\n",
    "#include <stdio.h>\n",
    "\n",
    "/**\n",
    " * main - check the code.\n",
    " *\n",
    " * Return: Always 0.\n",
    " */\n",
    "int main(void)\n",
    "{\n",
    "    char c;\n",
    "\n",
    "    c = 'A';\n",
    "    printf(\"%c: %d\\n\", c, _isupper(c));\n",
    "    c = 'a';\n",
    "    printf(\"%c: %d\\n\", c, _isupper(c));\n",
    "    return (0);\n",
    "}"
   ]
  },
  {
   "cell_type": "code",
   "execution_count": 2,
   "metadata": {},
   "outputs": [
    {
     "name": "stdout",
     "output_type": "stream",
     "text": [
      "Overwriting 0x04-more_functions_nested_loops/main.h\n"
     ]
    }
   ],
   "source": [
    "%%file 0x04-more_functions_nested_loops/main.h\n",
    "#ifndef FILE_MAIN\n",
    "#define FILE_MAIN\n",
    "\n",
    "#include <stdio.h>\n",
    "\n",
    "int _putchar(char c);\n",
    "int _isupper(int c);\n",
    "\n",
    "\n",
    "#endif\n"
   ]
  },
  {
   "cell_type": "code",
   "execution_count": 3,
   "metadata": {},
   "outputs": [
    {
     "name": "stdout",
     "output_type": "stream",
     "text": [
      "Overwriting 0x04-more_functions_nested_loops/0-isupper.c\n"
     ]
    }
   ],
   "source": [
    "%%file 0x04-more_functions_nested_loops/0-isupper.c\n",
    "#include \"main.h\"\n",
    "\n",
    "/**\n",
    "* _isupper - checks for uppercase character\n",
    "* @c: the character to be checked\n",
    "* Return: 1 if c is uppercase, 0 otherwise\n",
    "*/\n",
    "int _isupper(int c)\n",
    "{\n",
    "return (c >= 'A' && c <= 'Z');\n",
    "}"
   ]
  },
  {
   "cell_type": "code",
   "execution_count": 6,
   "metadata": {},
   "outputs": [
    {
     "name": "stdout",
     "output_type": "stream",
     "text": [
      "Overwriting 0x04-more_functions_nested_loops/_putchar.c\n"
     ]
    }
   ],
   "source": [
    "%%file 0x04-more_functions_nested_loops/_putchar.c\n",
    "#include <unistd.h>\n",
    "#include \"main.h\"\n",
    "/**\n",
    " * _putchar - writes the character c to stdout\n",
    " * @c: The character to print\n",
    " *\n",
    " * Return: On success 1.\n",
    " * On error, -1 is returned, and errno is set appropriately.\n",
    " */\n",
    "int _putchar(char c)\n",
    "{\n",
    "\treturn (write(1, &c, 1));\n",
    "}\n"
   ]
  },
  {
   "cell_type": "code",
   "execution_count": null,
   "metadata": {},
   "outputs": [
    {
     "name": "stdout",
     "output_type": "stream",
     "text": [
      "\n",
      "========== 0x04-more_functions_nested_loops/0-isupper.c ==========\n",
      "_isupper\n",
      "A: 1\n",
      "a: 0\n"
     ]
    }
   ],
   "source": [
    "%%bash\n",
    "betty 0x04-more_functions_nested_loops/0-isupper.c\n",
    "gcc -Wall -pedantic -Werror -Wextra -std=gnu89 0x04-more_functions_nested_loops/0-main.c 0x04-more_functions_nested_loops/0-isupper.c -o 0x04-more_functions_nested_loops/0-isupper\n",
    "./0x04-more_functions_nested_loops/0-isupper"
   ]
  },
  {
   "cell_type": "code",
   "execution_count": null,
   "metadata": {},
   "outputs": [
    {
     "name": "stdout",
     "output_type": "stream",
     "text": [
      "[main 73a8699] alx-low_level_programming/0x04-more_functions_nested_loops\n",
      " 3 files changed, 233 insertions(+), 279 deletions(-)\n",
      " create mode 100644 0x04-more_functions_nested_loops/1-main.c\n"
     ]
    },
    {
     "name": "stderr",
     "output_type": "stream",
     "text": [
      "To github.com:elkomysara/alx-low_level_programming.git\n",
      "   09a18da..73a8699  main -> main\n"
     ]
    }
   ],
   "source": [
    "%%bash\n",
    "git add .\n",
    "git commit -m \"alx-low_level_programming/0x04-more_functions_nested_loops\"\n",
    "git push"
   ]
  },
  {
   "cell_type": "markdown",
   "metadata": {},
   "source": [
    "###\n",
    "---\n",
    "<center>\n",
    "<h4> 1. isdigit</h4>\n",
    "</center>\n",
    "\n",
    "---\n"
   ]
  },
  {
   "cell_type": "markdown",
   "metadata": {},
   "source": [
    "##### Write a function that checks for a digit (`0` through `9`).\n",
    "\n",
    "* Prototype: `int _isdigit(int c);`\n",
    "* Returns `1` if `c` is a digit\n",
    "* Returns `0` otherwise\n",
    "\n",
    "FYI: The standard library provides a similar function: isdigit. Run man isdigit to learn more.\n",
    "```bash\n",
    "julien@ubuntu:~/0x04$ cat 1-main.c \n",
    "#include \"main.h\"\n",
    "#include <stdio.h>\n",
    "\n",
    "/**\n",
    " * main - check the code\n",
    " *\n",
    " * Return: Always 0.\n",
    " */\n",
    "int main(void)\n",
    "{\n",
    "    char c;\n",
    "\n",
    "    c = '0';\n",
    "    printf(\"%c: %d\\n\", c, _isdigit(c));\n",
    "    c = 'a';\n",
    "    printf(\"%c: %d\\n\", c, _isdigit(c));\n",
    "    return (0);\n",
    "}\n",
    "julien@ubuntu:~/0x04$ gcc -Wall -pedantic -Werror -Wextra -std=gnu89 1-main.c 1-isdigit.c -o 1-isdigit\n",
    "julien@ubuntu:~/0x04$ ./1-isdigit \n",
    "0: 1\n",
    "a: 0\n",
    "julien@ubuntu:~/0x04$ \n",
    "\n",
    "```\n",
    "\n",
    "\n",
    "* Repo:\n",
    "\n",
    "    * GitHub repository: <code > alx-low_level_programming </code>\n",
    "    * Directory: <code > 0x04-more_functions_nested_loops </code>\n",
    "    * File: <code >  1-isdigit.c </code>\n",
    "   "
   ]
  },
  {
   "cell_type": "code",
   "execution_count": 9,
   "metadata": {},
   "outputs": [
    {
     "name": "stdout",
     "output_type": "stream",
     "text": [
      "Writing 0x04-more_functions_nested_loops/1-isdigit.c\n"
     ]
    }
   ],
   "source": [
    "%%file 0x04-more_functions_nested_loops/1-isdigit.c\n",
    "#include \"main.h\"\n",
    "\n",
    "/**\n",
    "* _isdigit - checks for a digit (0 through 9)\n",
    "* @c: int to be checked\n",
    "* Return: 1 if c is a digit, 0 otherwise\n",
    "*/\n",
    "int _isdigit(int c)\n",
    "{\n",
    "return (c >= '0' && c <= '9');\n",
    "}"
   ]
  },
  {
   "cell_type": "code",
   "execution_count": 14,
   "metadata": {},
   "outputs": [
    {
     "name": "stdout",
     "output_type": "stream",
     "text": [
      "Writing 0x04-more_functions_nested_loops/1-main.c\n"
     ]
    }
   ],
   "source": [
    "%%file 0x04-more_functions_nested_loops/1-main.c\n",
    "#include \"main.h\"\n",
    "#include <stdio.h>\n",
    "\n",
    "/**\n",
    " * main - check the code\n",
    " *\n",
    " * Return: Always 0.\n",
    " */\n",
    "int main(void)\n",
    "{\n",
    "char c;\n",
    "\n",
    "c = '0';\n",
    "printf(\"%c: %d\\n\", c, _isdigit(c));\n",
    "c = 'a';\n",
    "printf(\"%c: %d\\n\", c, _isdigit(c));\n",
    "return (0);\n",
    "}"
   ]
  },
  {
   "cell_type": "code",
   "execution_count": 10,
   "metadata": {},
   "outputs": [
    {
     "name": "stdout",
     "output_type": "stream",
     "text": [
      "Overwriting 0x04-more_functions_nested_loops/main.h\n"
     ]
    }
   ],
   "source": [
    "%%file 0x04-more_functions_nested_loops/main.h\n",
    "#ifndef MAIN_H\n",
    "#define MAIN_H\n",
    "\n",
    "#include <stdio.h>\n",
    "\n",
    "int _putchar(char c);\n",
    "int _isupper(int c);\n",
    "int _isdigit(int c);\n",
    "\n",
    "#endif\n"
   ]
  },
  {
   "cell_type": "code",
   "execution_count": 4,
   "metadata": {},
   "outputs": [
    {
     "name": "stdout",
     "output_type": "stream",
     "text": [
      "\n",
      "========== 0x04-more_functions_nested_loops/0-isupper.c ==========\n",
      "_isupper\n",
      "A: 1\n",
      "a: 0\n"
     ]
    }
   ],
   "source": [
    "%%bash\n",
    "betty 0x04-more_functions_nested_loops/1-isdigit.c\n",
    "gcc -Wall -pedantic -Werror -Wextra -std=gnu89 0x04-more_functions_nested_loops/0-main.c 0x04-more_functions_nested_loops/0-isupper.c -o 0x04-more_functions_nested_loops/0-isupper\n",
    "./0x04-more_functions_nested_loops/0-isupper"
   ]
  },
  {
   "cell_type": "code",
   "execution_count": 11,
   "metadata": {},
   "outputs": [
    {
     "name": "stdout",
     "output_type": "stream",
     "text": [
      "[main 7fafeb7] alx-low_level_programming/0x04-more_functions_nested_loops\n",
      " 2 files changed, 14 insertions(+), 3 deletions(-)\n",
      " create mode 100644 0x04-more_functions_nested_loops/1-isdigit.c\n"
     ]
    },
    {
     "name": "stderr",
     "output_type": "stream",
     "text": [
      "To github.com:elkomysara/alx-low_level_programming.git\n",
      "   73a8699..7fafeb7  main -> main\n"
     ]
    }
   ],
   "source": [
    "%%bash\n",
    "git add .\n",
    "git commit -m \"alx-low_level_programming/0x04-more_functions_nested_loops\"\n",
    "git push"
   ]
  },
  {
   "cell_type": "code",
   "execution_count": null,
   "metadata": {},
   "outputs": [],
   "source": []
  },
  {
   "cell_type": "markdown",
   "metadata": {},
   "source": [
    "###\n",
    "---\n",
    "<center>\n",
    "<h4> 2. isdigit</h4>\n",
    "</center>\n",
    "\n",
    "---\n"
   ]
  },
  {
   "cell_type": "markdown",
   "metadata": {},
   "source": [
    "##### Write a function that checks for a digit (`0` through `9`).\n",
    "\n",
    "* Prototype: `int _isdigit(int c);`\n",
    "* Returns `1` if `c` is a digit\n",
    "* Returns `0` otherwise\n",
    "\n",
    "FYI: The standard library provides a similar function: isdigit. Run man isdigit to learn more.\n",
    "```bash\n",
    "julien@ubuntu:~/0x04$ cat 1-main.c \n",
    "#include \"main.h\"\n",
    "#include <stdio.h>\n",
    "\n",
    "/**\n",
    " * main - check the code\n",
    " *\n",
    " * Return: Always 0.\n",
    " */\n",
    "int main(void)\n",
    "{\n",
    "    char c;\n",
    "\n",
    "    c = '0';\n",
    "    printf(\"%c: %d\\n\", c, _isdigit(c));\n",
    "    c = 'a';\n",
    "    printf(\"%c: %d\\n\", c, _isdigit(c));\n",
    "    return (0);\n",
    "}\n",
    "julien@ubuntu:~/0x04$ gcc -Wall -pedantic -Werror -Wextra -std=gnu89 1-main.c 1-isdigit.c -o 1-isdigit\n",
    "julien@ubuntu:~/0x04$ ./1-isdigit \n",
    "0: 1\n",
    "a: 0\n",
    "julien@ubuntu:~/0x04$ \n",
    "\n",
    "```\n",
    "\n",
    "\n",
    "* Repo:\n",
    "\n",
    "    * GitHub repository: <code > alx-low_level_programming </code>\n",
    "    * Directory: <code > 0x04-more_functions_nested_loops </code>\n",
    "    * File: <code >  1-isdigit.c </code>\n",
    "   "
   ]
  },
  {
   "cell_type": "code",
   "execution_count": null,
   "metadata": {},
   "outputs": [
    {
     "name": "stdout",
     "output_type": "stream",
     "text": [
      "Writing 0x04-more_functions_nested_loops/1-isdigit.c\n"
     ]
    }
   ],
   "source": [
    "%%file 0x04-more_functions_nested_loops/1-isdigit.c\n",
    "#include \"main.h\"\n",
    "\n",
    "/**\n",
    "* _isdigit - checks for a digit (0 through 9)\n",
    "* @c: int to be checked\n",
    "* Return: 1 if c is a digit, 0 otherwise\n",
    "*/\n",
    "int _isdigit(int c)\n",
    "{\n",
    "return (c >= '0' && c <= '9');\n",
    "}"
   ]
  },
  {
   "cell_type": "code",
   "execution_count": null,
   "metadata": {},
   "outputs": [
    {
     "name": "stdout",
     "output_type": "stream",
     "text": [
      "Writing 0x04-more_functions_nested_loops/1-main.c\n"
     ]
    }
   ],
   "source": [
    "%%file 0x04-more_functions_nested_loops/1-main.c\n",
    "#include \"main.h\"\n",
    "#include <stdio.h>\n",
    "\n",
    "/**\n",
    " * main - check the code\n",
    " *\n",
    " * Return: Always 0.\n",
    " */\n",
    "int main(void)\n",
    "{\n",
    "char c;\n",
    "\n",
    "c = '0';\n",
    "printf(\"%c: %d\\n\", c, _isdigit(c));\n",
    "c = 'a';\n",
    "printf(\"%c: %d\\n\", c, _isdigit(c));\n",
    "return (0);\n",
    "}"
   ]
  },
  {
   "cell_type": "code",
   "execution_count": null,
   "metadata": {},
   "outputs": [
    {
     "name": "stdout",
     "output_type": "stream",
     "text": [
      "Overwriting 0x04-more_functions_nested_loops/main.h\n"
     ]
    }
   ],
   "source": [
    "%%file 0x04-more_functions_nested_loops/main.h\n",
    "#ifndef MAIN_H\n",
    "#define MAIN_H\n",
    "\n",
    "#include <stdio.h>\n",
    "\n",
    "int _putchar(char c);\n",
    "int _isupper(int c);\n",
    "int _isdigit(int c);\n",
    "\n",
    "#endif\n"
   ]
  },
  {
   "cell_type": "code",
   "execution_count": null,
   "metadata": {},
   "outputs": [
    {
     "name": "stdout",
     "output_type": "stream",
     "text": [
      "\n",
      "========== 0x04-more_functions_nested_loops/0-isupper.c ==========\n",
      "_isupper\n",
      "A: 1\n",
      "a: 0\n"
     ]
    }
   ],
   "source": [
    "%%bash\n",
    "betty 0x04-more_functions_nested_loops/0-isupper.c\n",
    "gcc -Wall -pedantic -Werror -Wextra -std=gnu89 0x04-more_functions_nested_loops/0-main.c 0x04-more_functions_nested_loops/0-isupper.c -o 0x04-more_functions_nested_loops/0-isupper\n",
    "./0x04-more_functions_nested_loops/0-isupper"
   ]
  },
  {
   "cell_type": "code",
   "execution_count": null,
   "metadata": {},
   "outputs": [
    {
     "name": "stdout",
     "output_type": "stream",
     "text": [
      "[main 7fafeb7] alx-low_level_programming/0x04-more_functions_nested_loops\n",
      " 2 files changed, 14 insertions(+), 3 deletions(-)\n",
      " create mode 100644 0x04-more_functions_nested_loops/1-isdigit.c\n"
     ]
    },
    {
     "name": "stderr",
     "output_type": "stream",
     "text": [
      "To github.com:elkomysara/alx-low_level_programming.git\n",
      "   73a8699..7fafeb7  main -> main\n"
     ]
    }
   ],
   "source": [
    "%%bash\n",
    "git add .\n",
    "git commit -m \"alx-low_level_programming/0x04-more_functions_nested_loops\"\n",
    "git push"
   ]
  }
 ],
 "metadata": {
  "kernelspec": {
   "display_name": "Python 3",
   "language": "python",
   "name": "python3"
  },
  "language_info": {
   "codemirror_mode": {
    "name": "ipython",
    "version": 3
   },
   "file_extension": ".py",
   "mimetype": "text/x-python",
   "name": "python",
   "nbconvert_exporter": "python",
   "pygments_lexer": "ipython3",
   "version": "3.12.3"
  }
 },
 "nbformat": 4,
 "nbformat_minor": 2
}
