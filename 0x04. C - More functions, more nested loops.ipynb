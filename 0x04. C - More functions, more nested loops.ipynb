{
 "cells": [
  {
   "cell_type": "markdown",
   "metadata": {},
   "source": [
    "---\n",
    "<center>\n",
    "<h1>  alx-low_level_programming </h1>\n",
    "</center>\n",
    "\n",
    "---\n"
   ]
  },
  {
   "cell_type": "code",
   "execution_count": 2,
   "metadata": {},
   "outputs": [
    {
     "name": "stdout",
     "output_type": "stream",
     "text": [
      "Writing README.md\n"
     ]
    }
   ],
   "source": [
    "%%file README.md\n",
    "## alx-low_level_programming"
   ]
  },
  {
   "cell_type": "code",
   "execution_count": 1,
   "metadata": {},
   "outputs": [],
   "source": [
    "import os\n",
    "# creating 0x02-shell_redirectionss\n",
    "\n",
    "folder_path = r'/home/elkomy/alx/alx-low_level_programming/0x04-more_functions_nested_loops'\n",
    "if not os.path.exists(folder_path):\n",
    "    os.makedirs(folder_path)\n",
    "\n",
    "# Create a README.md inside alx-low_level_programming/0x04-more_functions_nested_loops\n",
    "file_path = os.path.join(folder_path, 'README.md')\n",
    "\n",
    "with open(file_path, 'w') as file:\n",
    "    file.write(\"This is a README.md file inside alx-low_level_programming/0x04-more_functions_nested_loops\")\n",
    "\n"
   ]
  },
  {
   "cell_type": "code",
   "execution_count": 4,
   "metadata": {},
   "outputs": [
    {
     "name": "stdout",
     "output_type": "stream",
     "text": [
      " 0-positive_or_negative\t\t\t   '0x03. C - Debugging.ipynb'\t main.o\n",
      " 0x00-hello_world\t\t\t    README.md\t\t\t main.s\n",
      " 0x00-hello_world.ipynb\t\t\t    a.out\t\t\t quote\n",
      " 0x01-variables_if_else_while\t\t    alx\t\t\t\t size32\n",
      " 0x01-variables_if_else_while.ipynb\t    c\t\t\t\t size64\n",
      " 0x02-functions_nested_loops\t\t    cisfun\n",
      "'0x02. C - Functions, nested loops.ipynb'   comb.txt\n"
     ]
    }
   ],
   "source": [
    "!ls"
   ]
  },
  {
   "cell_type": "code",
   "execution_count": 7,
   "metadata": {},
   "outputs": [
    {
     "name": "stdout",
     "output_type": "stream",
     "text": [
      "Overwriting /home/elkomy/alx/alx-low_level_programming/0x03-debugging/README.md\n"
     ]
    }
   ],
   "source": [
    "%%file /home/elkomy/alx/alx-low_level_programming/0x04-more_functions_nested_loops/README.md\n",
    "This is a README.md"
   ]
  },
  {
   "cell_type": "markdown",
   "metadata": {},
   "source": [
    "###\n",
    "---\n",
    "<center>\n",
    "<h1> 0x04-more_functions_nested_loops  </h1>\n",
    "</center>\n",
    "\n",
    "---\n"
   ]
  },
  {
   "cell_type": "markdown",
   "metadata": {},
   "source": [
    "###\n",
    "---\n",
    "<center>\n",
    "<h4> 0. isupper </h4>\n",
    "</center>\n",
    "\n",
    "---"
   ]
  },
  {
   "cell_type": "markdown",
   "metadata": {},
   "source": [
    "\n",
    "####  Write a function that checks for uppercase character.\n",
    "\n",
    "* Prototype: `int _isupper(int c);`\n",
    "* Returns `1` if `c` is uppercase\n",
    "* Returns `0` otherwise\n",
    "FYI: The standard library provides a similar function: `isupper`. Run `man isupper` to learn more.\n",
    "\n",
    "```bash\n",
    "julien@ubuntu:~/0x04$ cat 0-main.c\n",
    "#include \"main.h\"\n",
    "#include <stdio.h>\n",
    "\n",
    "/**\n",
    " * main - check the code.\n",
    " *\n",
    " * Return: Always 0.\n",
    " */\n",
    "int main(void)\n",
    "{\n",
    "    char c;\n",
    "\n",
    "    c = 'A';\n",
    "    printf(\"%c: %d\\n\", c, _isupper(c));\n",
    "    c = 'a';\n",
    "    printf(\"%c: %d\\n\", c, _isupper(c));\n",
    "    return (0);\n",
    "}\n",
    "julien@ubuntu:~/0x04$ gcc -Wall -pedantic -Werror -Wextra -std=gnu89 0-main.c 0-isupper.c -o 0-isuper\n",
    "julien@ubuntu:~/0x04$ ./0-isuper \n",
    "A: 1\n",
    "a: 0\n",
    "julien@ubuntu:~/0x04$ \n",
    "\n",
    "```\n",
    "\n",
    "#### Repo:\n",
    "* GitHub repository: ``` alx-low_level_programming ```\n",
    "* Directory: ```0x04-more_functions_nested_loops``` \n",
    "* File: ```0-isupper.c```"
   ]
  },
  {
   "cell_type": "code",
   "execution_count": 1,
   "metadata": {},
   "outputs": [
    {
     "name": "stdout",
     "output_type": "stream",
     "text": [
      "Overwriting 0x04-more_functions_nested_loops/0-main.c\n"
     ]
    }
   ],
   "source": [
    "%%file 0x04-more_functions_nested_loops/0-main.c\n",
    "#include \"main.h\"\n",
    "#include <stdio.h>\n",
    "\n",
    "/**\n",
    " * main - check the code.\n",
    " *\n",
    " * Return: Always 0.\n",
    " */\n",
    "int main(void)\n",
    "{\n",
    "    char c;\n",
    "\n",
    "    c = 'A';\n",
    "    printf(\"%c: %d\\n\", c, _isupper(c));\n",
    "    c = 'a';\n",
    "    printf(\"%c: %d\\n\", c, _isupper(c));\n",
    "    return (0);\n",
    "}"
   ]
  },
  {
   "cell_type": "code",
   "execution_count": 2,
   "metadata": {},
   "outputs": [
    {
     "name": "stdout",
     "output_type": "stream",
     "text": [
      "Overwriting 0x04-more_functions_nested_loops/main.h\n"
     ]
    }
   ],
   "source": [
    "%%file 0x04-more_functions_nested_loops/main.h\n",
    "#ifndef FILE_MAIN\n",
    "#define FILE_MAIN\n",
    "\n",
    "#include <stdio.h>\n",
    "\n",
    "int _putchar(char c);\n",
    "int _isupper(int c);\n",
    "\n",
    "\n",
    "#endif\n"
   ]
  },
  {
   "cell_type": "code",
   "execution_count": null,
   "metadata": {},
   "outputs": [
    {
     "name": "stdout",
     "output_type": "stream",
     "text": [
      "Overwriting 0x04-more_functions_nested_loops/0-main.c\n"
     ]
    }
   ],
   "source": [
    "%%file 0x04-more_functions_nested_loops/0-main.c\n",
    "#include \"main.h\"\n",
    "#include <stdio.h>\n",
    "\n",
    "/**\n",
    " * main - check the code.\n",
    " *\n",
    " * Return: Always 0.\n",
    " */\n",
    "int main(void)\n",
    "{\n",
    "    char c;\n",
    "\n",
    "    c = 'A';\n",
    "    printf(\"%c: %d\\n\", c, _isupper(c));\n",
    "    c = 'a';\n",
    "    printf(\"%c: %d\\n\", c, _isupper(c));\n",
    "    return (0);\n",
    "}"
   ]
  },
  {
   "cell_type": "code",
   "execution_count": null,
   "metadata": {},
   "outputs": [],
   "source": []
  },
  {
   "cell_type": "markdown",
   "metadata": {},
   "source": [
    "###\n",
    "---\n",
    "<center>\n",
    "<h4> 1. isdigit</h4>\n",
    "</center>\n",
    "\n",
    "---\n"
   ]
  },
  {
   "cell_type": "markdown",
   "metadata": {},
   "source": [
    "##### Write a function that checks for a digit (`0` through `9`).\n",
    "\n",
    "* Prototype: `int _isdigit(int c);`\n",
    "* Returns `1` if `c` is a digit\n",
    "* Returns `0` otherwise\n",
    "FYI: The standard library provides a similar function: isdigit. Run man isdigit to learn more.\n",
    "```bash\n",
    "julien@ubuntu:~/0x04$ cat 1-main.c \n",
    "#include \"main.h\"\n",
    "#include <stdio.h>\n",
    "\n",
    "/**\n",
    " * main - check the code\n",
    " *\n",
    " * Return: Always 0.\n",
    " */\n",
    "int main(void)\n",
    "{\n",
    "    char c;\n",
    "\n",
    "    c = '0';\n",
    "    printf(\"%c: %d\\n\", c, _isdigit(c));\n",
    "    c = 'a';\n",
    "    printf(\"%c: %d\\n\", c, _isdigit(c));\n",
    "    return (0);\n",
    "}\n",
    "julien@ubuntu:~/0x04$ gcc -Wall -pedantic -Werror -Wextra -std=gnu89 1-main.c 1-isdigit.c -o 1-isdigit\n",
    "julien@ubuntu:~/0x04$ ./1-isdigit \n",
    "0: 1\n",
    "a: 0\n",
    "julien@ubuntu:~/0x04$ \n",
    "\n",
    "```\n",
    "\n",
    "\n",
    "* Repo:\n",
    "\n",
    "    * GitHub repository: <code > alx-low_level_programming </code>\n",
    "    * Directory: <code > 0x04-more_functions_nested_loops </code>\n",
    "    * File: <code >  1-isdigit.c </code>\n",
    "   "
   ]
  },
  {
   "cell_type": "code",
   "execution_count": 47,
   "metadata": {},
   "outputs": [
    {
     "name": "stdout",
     "output_type": "stream",
     "text": [
      "Writing 0x03-debugging/1-main.c\n"
     ]
    }
   ],
   "source": [
    "%%file 0x04-more_functions_nested_loops/1-isdigit.c\n",
    "#include <stdio.h>\n",
    "\n",
    "/**\n",
    "* main - causes an infinite loop\n",
    "* Return: 0\n",
    "*/\n",
    "\n",
    "int main(void)\n",
    "{\n",
    "int i;\n",
    "\n",
    "printf(\"Infinite loop incoming :(\\n\");\n",
    "\n",
    "i = 0;\n",
    "\n",
    "/*while (i < 10)*/\n",
    "/*{*/\n",
    "/*putchar(i);*/\n",
    "/*}*/\n",
    "\n",
    "printf(\"Infinite loop avoided! \\\\o/\\n\");\n",
    "\n",
    "return (0);\n",
    "}"
   ]
  },
  {
   "cell_type": "markdown",
   "metadata": {},
   "source": [
    "#### This program prints the largest of three integers.\n",
    "\n",
    "```bash\n",
    "carrie@ubuntu:/debugging$ cat 2-main.c\n",
    "#include <stdio.h>\n",
    "#include \"main.h\"\n",
    "\n",
    "/**\n",
    "* main - prints the largest of 3 integers\n",
    "* Return: 0\n",
    "*/\n",
    "\n",
    "int main(void)\n",
    "{\n",
    "        int a, b, c;\n",
    "        int largest;\n",
    "\n",
    "        a = 972;\n",
    "        b = -98;\n",
    "        c = 0;\n",
    "\n",
    "        largest = largest_number(a, b, c);\n",
    "\n",
    "        printf(\"%d is the largest number\\n\", largest);\n",
    "\n",
    "        return (0);\n",
    "}\n",
    "carrie@ubuntu:/debugging$ \n",
    "```\n",
    "```bash\n",
    "carrie@ubuntu:/debugging$ cat 2-largest_number.c\n",
    "#include \"main.h\"\n",
    "\n",
    "/**\n",
    " * largest_number - returns the largest of 3 numbers\n",
    " * @a: first integer\n",
    " * @b: second integer\n",
    " * @c: third integer\n",
    " * Return: largest number\n",
    " */\n",
    "\n",
    "int largest_number(int a, int b, int c)\n",
    "{\n",
    "    int largest;\n",
    "\n",
    "    if (a > b && b > c)\n",
    "    {\n",
    "        largest = a;\n",
    "    }\n",
    "    else if (b > a && a > c)\n",
    "    {\n",
    "        largest = b;\n",
    "    }\n",
    "    else\n",
    "    {\n",
    "        largest = c;\n",
    "    }\n",
    "\n",
    "    return (largest);\n",
    "}\n",
    "\n",
    "carrie@ubuntu:/debugging$ \n",
    "```\n",
    "\n",
    "```bash\n",
    "carrie@ubuntu:/debugging$ gcc -Wall -Werror -Wextra -pedantic -std=gnu89 2-largest_number.c 2-main.c -o 2-main\n",
    "carrie@ubuntu:/debugging$ ./2-main\n",
    "0 is the largest number\n",
    "carrie@ubuntu:/debugging$\n",
    "```\n",
    "\n",
    "? That’s definitely not right.\n",
    "\n",
    "Fix the code in 2-largest_number.c so that it correctly prints out the largest of three numbers, no matter the case.\n",
    "\n",
    "* Line count will not be checked for this task.\n",
    "\n",
    "#### Repo:\n",
    "* GitHub repository:   <code>alx-low_level_programming </code>\n",
    "* Directory:   <code> 0x04-more_functions_nested_loops </code>\n",
    "* File:   <code> 2-largest_number.c, main.h</code>"
   ]
  },
  {
   "cell_type": "code",
   "execution_count": null,
   "metadata": {},
   "outputs": [
    {
     "name": "stdout",
     "output_type": "stream",
     "text": [
      "Overwriting 0x04-more_functions_nested_loops/0-isupper.c\n"
     ]
    }
   ],
   "source": [
    "%%file 0x04-more_functions_nested_loops/1-isdigit.c\n",
    "#include \"main.h\"\n",
    "\n",
    "/**\n",
    "* _isupper - checks for uppercase character\n",
    "* @c: the character to be checked\n",
    "* Return: 1 if c is uppercase, 0 otherwise\n",
    "*/\n",
    "int _isupper(int c)\n",
    "{\n",
    "return (c >= 'A' && c <= 'Z');\n",
    "}\n"
   ]
  },
  {
   "cell_type": "code",
   "execution_count": 14,
   "metadata": {},
   "outputs": [
    {
     "name": "stdout",
     "output_type": "stream",
     "text": [
      "Writing 0x04-more_functions_nested_loops/1-main.c\n"
     ]
    }
   ],
   "source": [
    "%%file 0x04-more_functions_nested_loops/1-main.c\n",
    "#include \"main.h\"\n",
    "#include <stdio.h>\n",
    "\n",
    "/**\n",
    " * main - check the code\n",
    " *\n",
    " * Return: Always 0.\n",
    " */\n",
    "int main(void)\n",
    "{\n",
    "char c;\n",
    "\n",
    "c = '0';\n",
    "printf(\"%c: %d\\n\", c, _isdigit(c));\n",
    "c = 'a';\n",
    "printf(\"%c: %d\\n\", c, _isdigit(c));\n",
    "return (0);\n",
    "}"
   ]
  },
  {
   "cell_type": "code",
   "execution_count": null,
   "metadata": {},
   "outputs": [
    {
     "name": "stdout",
     "output_type": "stream",
     "text": [
      "Overwriting 0x04-more_functions_nested_loops/main.h\n"
     ]
    }
   ],
   "source": [
    "%%file 0x04-more_functions_nested_loops/main.h\n",
    "#ifndef MAIN_H\n",
    "#define MAIN_H\n",
    "\n",
    "#include <stdio.h>\n",
    "\n",
    "int _putchar(char c);\n",
    "int _isupper(int c);\n",
    "\n",
    "#endif\n"
   ]
  },
  {
   "cell_type": "code",
   "execution_count": null,
   "metadata": {},
   "outputs": [
    {
     "name": "stdout",
     "output_type": "stream",
     "text": [
      "Overwriting 0x04-more_functions_nested_loops/_putchar.c\n"
     ]
    }
   ],
   "source": [
    "%%file 0x04-more_functions_nested_loops/_putchar.c\n",
    "#include <unistd.h>\n",
    "#include \"main.h\"\n",
    "/**\n",
    " * _putchar - writes the character c to stdout\n",
    " * @c: The character to print\n",
    " *\n",
    " * Return: On success 1.\n",
    " * On error, -1 is returned, and errno is set appropriately.\n",
    " */\n",
    "int _putchar(char c)\n",
    "{\n",
    "\treturn (write(1, &c, 1));\n",
    "}\n"
   ]
  },
  {
   "cell_type": "code",
   "execution_count": null,
   "metadata": {},
   "outputs": [
    {
     "name": "stdout",
     "output_type": "stream",
     "text": [
      "\n",
      "========== 0x04-more_functions_nested_loops/0-isupper.c ==========\n",
      "_isupper\n",
      "A: 1\n",
      "a: 0\n"
     ]
    }
   ],
   "source": [
    "%%bash\n",
    "betty 0x04-more_functions_nested_loops/0-isupper.c\n",
    "gcc -Wall -pedantic -Werror -Wextra -std=gnu89 0x04-more_functions_nested_loops/0-main.c 0x04-more_functions_nested_loops/0-isupper.c -o 0x04-more_functions_nested_loops/0-isupper\n",
    "./0x04-more_functions_nested_loops/0-isupper"
   ]
  },
  {
   "cell_type": "code",
   "execution_count": null,
   "metadata": {},
   "outputs": [
    {
     "name": "stdout",
     "output_type": "stream",
     "text": [
      "[main 09a18da] alx-low_level_programming/0x04-more_functions_nested_loops\n",
      " 10 files changed, 2538 insertions(+), 5900 deletions(-)\n",
      " rename 0x00-hello_world.ipynb => 0x00. C - Hello, World.ipynb (100%)\n",
      " rename 0x01-variables_if_else_while.ipynb => 0x01. C - Variables, if, else, while.ipynb (100%)\n",
      " rewrite 0x03. C - Debugging.ipynb (92%)\n",
      " create mode 100755 0x04-more_functions_nested_loops/0-isupper\n",
      " create mode 100644 0x04-more_functions_nested_loops/0-isupper.c\n",
      " create mode 100644 0x04-more_functions_nested_loops/0-main.c\n",
      " create mode 100644 0x04-more_functions_nested_loops/README.md\n",
      " create mode 100644 0x04-more_functions_nested_loops/_putchar.c\n",
      " create mode 100644 0x04-more_functions_nested_loops/main.h\n",
      " create mode 100644 0x04. C - More functions, more nested loops.ipynb\n"
     ]
    },
    {
     "name": "stderr",
     "output_type": "stream",
     "text": [
      "To github.com:elkomysara/alx-low_level_programming.git\n",
      "   380c5ec..09a18da  main -> main\n"
     ]
    }
   ],
   "source": [
    "%%bash\n",
    "git add .\n",
    "git commit -m \"alx-low_level_programming/0x04-more_functions_nested_loops\"\n",
    "git push"
   ]
  },
  {
   "cell_type": "markdown",
   "metadata": {},
   "source": [
    "###\n",
    "---\n",
    "<center>\n",
    "<h4> 3. Leap year</h4>\n",
    "</center>\n",
    "\n",
    "---"
   ]
  },
  {
   "cell_type": "markdown",
   "metadata": {},
   "source": [
    "#### This program converts a date to the day of year and determines how many days are left in the year, taking leap year into consideration.\n",
    "\n",
    "```bash\n",
    "carrie@ubuntu:/debugging$ cat 3-main_a.c\n",
    "#include <stdio.h>\n",
    "#include \"main.h\"\n",
    "\n",
    "/**\n",
    "* main - takes a date and prints how many days are left in the year, taking\n",
    "* leap years into account\n",
    "* Return: 0\n",
    "*/\n",
    "\n",
    "int main(void)\n",
    "{\n",
    "    int month;\n",
    "    int day;\n",
    "    int year;\n",
    "\n",
    "    month = 4;\n",
    "    day = 01;\n",
    "    year = 1997;\n",
    "\n",
    "    printf(\"Date: %02d/%02d/%04d\\n\", month, day, year);\n",
    "\n",
    "    day = convert_day(month, day);\n",
    "\n",
    "    print_remaining_days(month, day, year);\n",
    "\n",
    "    return (0);\n",
    "}\n",
    "\n",
    "carrie@ubuntu:/debugging$\n",
    "```\n",
    "```bash\n",
    "carrie@ubuntu:/debugging$ cat 3-convert_day.c\n",
    "#include \"main.h\"\n",
    "\n",
    "/**\n",
    "* convert_day - converts day of month to day of year, without accounting\n",
    "* for leap year\n",
    "* @month: month in number format\n",
    "* @day: day of month\n",
    "* Return: day of year\n",
    "*/\n",
    "\n",
    "int convert_day(int month, int day)\n",
    "{\n",
    "    switch (month)\n",
    "    {\n",
    "        case 2:\n",
    "            day = 31 + day;\n",
    "            break;\n",
    "        case 3:\n",
    "            day = 59 + day;\n",
    "            break;\n",
    "        case 4:\n",
    "            day = 90 + day;\n",
    "            break;\n",
    "        case 5:\n",
    "            day = 120 + day;\n",
    "            break;\n",
    "        case 6:\n",
    "            day = 151 + day;\n",
    "            break;\n",
    "        case 7:\n",
    "            day = 181 + day;\n",
    "            break;\n",
    "        case 8:\n",
    "            day = 212 + day;\n",
    "            break;\n",
    "        case 9:\n",
    "            day = 243 + day;\n",
    "            break;\n",
    "        case 10:\n",
    "            day = 273 + day;\n",
    "            break;\n",
    "        case 11:\n",
    "            day = 304 + day;\n",
    "            break;\n",
    "        case 12:\n",
    "            day = 334 + day;\n",
    "            break;\n",
    "        default:\n",
    "            break;\n",
    "    }\n",
    "    return (day);\n",
    "}\n",
    "\n",
    "carrie@ubuntu:/debugging$\n",
    "```\n",
    "```bash\n",
    "carrie@ubuntu:/debugging$ cat 3-print_remaining_days.c\n",
    "#include <stdio.h>\n",
    "#include \"main.h\"\n",
    "\n",
    "/**\n",
    "* print_remaining_days - takes a date and prints how many days are\n",
    "* left in the year, taking leap years into account\n",
    "* @month: month in number format\n",
    "* @day: day of month\n",
    "* @year: year\n",
    "* Return: void\n",
    "*/\n",
    "\n",
    "void print_remaining_days(int month, int day, int year)\n",
    "{\n",
    "    if ((year % 4 == 0 || year % 400 == 0) && !(year % 100 == 0))\n",
    "    {\n",
    "        if (month >= 2 && day >= 60)\n",
    "        {\n",
    "            day++;\n",
    "        }\n",
    "\n",
    "        printf(\"Day of the year: %d\\n\", day);\n",
    "        printf(\"Remaining days: %d\\n\", 366 - day);\n",
    "    }\n",
    "    else\n",
    "    {\n",
    "        if (month == 2 && day == 60)\n",
    "        {\n",
    "            printf(\"Invalid date: %02d/%02d/%04d\\n\", month, day - 31, year);\n",
    "        }\n",
    "        else\n",
    "        {\n",
    "            printf(\"Day of the year: %d\\n\", day);\n",
    "            printf(\"Remaining days: %d\\n\", 365 - day);\n",
    "        }\n",
    "    }\n",
    "}\n",
    "\n",
    "carrie@ubuntu:/debugging$ \n",
    "```\n",
    "```bash\n",
    "carrie@ubuntu:/debugging$ gcc -Wall -Werror -Wextra -pedantic -std=gnu89 3-convert_day.c 3-print_remaining_days.c 3-main_a.c -o 3-main_a \n",
    "carrie@ubuntu:/debugging$ ./3-main_a\n",
    "Date: 04/01/1997\n",
    "Day of the year: 91\n",
    "Remaining days: 274\n",
    "carrie@ubuntu:/debugging$\n",
    "```\n",
    "Output looks good for `04/01/1997!` Let’s make a new main file `3-main_b.c` to try a case that is a leap year: `02/29/2000`.\n",
    "\n",
    "```bash\n",
    "carrie@ubuntu:/debugging$ gcc -Wall -Werror -Wextra -pedantic -std=gnu89 3-convert_day.c 3-print_remaining_days.c 3-main_b.c -o 3-main_b \n",
    "carrie@ubuntu:/debugging$ ./3-main_b\n",
    "Date: 02/29/2000\n",
    "Invalid date: 02/29/2000\n",
    "carrie@ubuntu:/debugging$\n",
    "```\n",
    "? That doesn’t seem right.\n",
    "\n",
    "Fix the `print_remaining_days()` function so that the output works correctly for all dates and all leap years.\n",
    "\n",
    "* Line count will not be checked for this task.\n",
    "* You can assume that all test cases have valid months (i.e. the value of `month` will never be less than `1` or greater than `12`) and valid days (i.e. the value of `day` will never be less than `1` or greater than `31`).\n",
    "* You can assume that all test cases have valid month/day combinations (i.e. there will never be a June 31st or November 31st, etc.), but not all month/day/year combinations are valid (i.e. February 29, 1991 or February 29, 2427).\n",
    "\n",
    "#### Repo:\n",
    "* GitHub repository: `alx-low_level_programming`\n",
    "* Directory: `0x04-more_functions_nested_loops`\n",
    "* File: `3-print_remaining_days.c, main.h`"
   ]
  },
  {
   "cell_type": "code",
   "execution_count": 21,
   "metadata": {},
   "outputs": [
    {
     "name": "stdout",
     "output_type": "stream",
     "text": [
      "Overwriting 0x03-debugging/3-print_remaining_days.c\n"
     ]
    }
   ],
   "source": [
    "%%file 0x04-more_functions_nested_loops/3-print_remaining_days.c\n",
    "#include <stdio.h>\n",
    "#include \"main.h\"\n",
    "\n",
    "/**\n",
    "* print_remaining_days - takes a date and prints how many days are\n",
    "* left in the year, taking leap years into account\n",
    "* @month: month in number format\n",
    "* @day: day of year\n",
    "* @year: year\n",
    "* Return: void\n",
    "*/\n",
    "void print_remaining_days(int month, int day, int year)\n",
    "{\n",
    "if (((year % 4 == 0) && (year % 100 != 0)) || (year % 400 == 0))\n",
    "{\n",
    "if (month > 2)\n",
    "day++;\n",
    "printf(\"Day of the year: %d\\n\", day);\n",
    "printf(\"Remaining days: %d\\n\", 366 - day);\n",
    "}\n",
    "else\n",
    "{\n",
    "if (month == 2 && day == 60)\n",
    "{\n",
    "printf(\"Invalid date: %02d/%02d/%04d\\n\", month, day - 31, year);\n",
    "}\n",
    "else\n",
    "{\n",
    "printf(\"Day of the year: %d\\n\", day);\n",
    "printf(\"Remaining days: %d\\n\", 365 - day);\n",
    "}\n",
    "}\n",
    "}"
   ]
  },
  {
   "cell_type": "code",
   "execution_count": 22,
   "metadata": {},
   "outputs": [
    {
     "name": "stdout",
     "output_type": "stream",
     "text": [
      "Overwriting 0x03-debugging/3-convert_day.c\n"
     ]
    }
   ],
   "source": [
    "%%file 0x04-more_functions_nested_loops/3-convert_day.c\n",
    "#include \"main.h\"\n",
    "\n",
    "/**\n",
    "* convert_day - converts day of month to day of year, without accounting\n",
    "* for leap year\n",
    "* @month: month in number format\n",
    "* @day: day of month\n",
    "* Return: day of year\n",
    "*/\n",
    "\n",
    "int convert_day(int month, int day)\n",
    "{\n",
    "switch (month)\n",
    "{\n",
    "case 2:\n",
    "day = 31 + day;\n",
    "break;\n",
    "case 3:\n",
    "day = 59 + day;\n",
    "break;\n",
    "case 4:\n",
    "day = 90 + day;\n",
    "break;\n",
    "case 5:\n",
    "day = 120 + day;\n",
    "break;\n",
    "case 6:\n",
    "day = 151 + day;\n",
    "break;\n",
    "case 7:\n",
    "day = 181 + day;\n",
    "break;\n",
    "case 8:\n",
    "day = 212 + day;\n",
    "break;\n",
    "case 9:\n",
    "day = 243 + day;\n",
    "break;\n",
    "case 10:\n",
    "day = 273 + day;\n",
    "break;\n",
    "case 11:\n",
    "day = 304 + day;\n",
    "break;\n",
    "case 12:\n",
    "day = 334 + day;\n",
    "break;\n",
    "default:\n",
    "break;\n",
    "}\n",
    "return (day);\n",
    "}"
   ]
  },
  {
   "cell_type": "code",
   "execution_count": 23,
   "metadata": {},
   "outputs": [
    {
     "name": "stdout",
     "output_type": "stream",
     "text": [
      "Overwriting 0x03-debugging/3-main_a.c\n"
     ]
    }
   ],
   "source": [
    "%%file 0x04-more_functions_nested_loops/3-main_a.c\n",
    "#include <stdio.h>\n",
    "#include \"main.h\"\n",
    "\n",
    "/**\n",
    "* main - takes a date and prints how many days are left in the year, taking\n",
    "* leap years into account\n",
    "* Return: 0\n",
    "*/\n",
    "\n",
    "int main(void)\n",
    "{\n",
    "int month;\n",
    "int day;\n",
    "int year;\n",
    "\n",
    "month = 4;\n",
    "day = 01;\n",
    "year = 1997;\n",
    "\n",
    "printf(\"Date: %02d/%02d/%04d\\n\", month, day, year);\n",
    "\n",
    "day = convert_day(month, day);\n",
    "\n",
    "print_remaining_days(month, day, year);\n",
    "\n",
    "return (0);\n",
    "}"
   ]
  },
  {
   "cell_type": "code",
   "execution_count": 24,
   "metadata": {},
   "outputs": [
    {
     "name": "stdout",
     "output_type": "stream",
     "text": [
      "Overwriting 0x03-debugging/3-main_b.c\n"
     ]
    }
   ],
   "source": [
    "%%file 0x04-more_functions_nested_loops/3-main_b.c\n",
    "#include <stdio.h>\n",
    "#include \"main.h\"\n",
    "\n",
    "/**\n",
    "* main - takes a date and prints how many days are left in the year, taking\n",
    "* leap years into account\n",
    "* Return: 0\n",
    "*/\n",
    "\n",
    "int main(void)\n",
    "{\n",
    "int month;\n",
    "int day;\n",
    "int year;\n",
    "\n",
    "month = 02;\n",
    "day = 29;\n",
    "year = 2000;\n",
    "\n",
    "printf(\"Date: %02d/%02d/%04d\\n\", month, day, year);\n",
    "\n",
    "day = convert_day(month, day);\n",
    "\n",
    "print_remaining_days(month, day, year);\n",
    "\n",
    "return (0);\n",
    "}"
   ]
  },
  {
   "cell_type": "code",
   "execution_count": 25,
   "metadata": {},
   "outputs": [
    {
     "name": "stdout",
     "output_type": "stream",
     "text": [
      "Overwriting 0x03-debugging/main.h\n"
     ]
    }
   ],
   "source": [
    "%%file 0x04-more_functions_nested_loops/main.h\n",
    "#ifndef MAIN_H\n",
    "#define MAIN_H\n",
    "\n",
    "#include <stdio.h>\n",
    "\n",
    "void positive_or_negative(int i);\n",
    "int largest_number(int a, int b, int c);\n",
    "int convert_day(int month, int day);\n",
    "void print_remaining_days(int month, int day, int year);\n",
    "#endif /* MAIN_H */"
   ]
  },
  {
   "cell_type": "code",
   "execution_count": 26,
   "metadata": {},
   "outputs": [
    {
     "name": "stdout",
     "output_type": "stream",
     "text": [
      "\n",
      "========== 0x03-debugging/3-print_remaining_days.c ==========\n"
     ]
    },
    {
     "name": "stdout",
     "output_type": "stream",
     "text": [
      "print_remaining_days\n",
      "\n",
      "========== 0x03-debugging/3-convert_day.c ==========\n",
      "convert_day\n",
      "Date: 04/01/1997\n",
      "Day of the year: 91\n",
      "Remaining days: 274\n"
     ]
    }
   ],
   "source": [
    "%%bash\n",
    "betty 0x04-more_functions_nested_loops/3-print_remaining_days.c\n",
    "betty 0x04-more_functions_nested_loops/3-convert_day.c\n",
    "gcc -Wall -Werror -Wextra -pedantic -std=gnu89 0x04-more_functions_nested_loops/3-convert_day.c 0x04-more_functions_nested_loops/3-print_remaining_days.c 0x04-more_functions_nested_loops/3-main_a.c -o 0x04-more_functions_nested_loops/3-main_a \n",
    "./0x04-more_functions_nested_loops/3-main_a"
   ]
  },
  {
   "cell_type": "code",
   "execution_count": 27,
   "metadata": {},
   "outputs": [
    {
     "name": "stdout",
     "output_type": "stream",
     "text": [
      "\n",
      "========== 0x03-debugging/3-print_remaining_days.c ==========\n",
      "print_remaining_days\n",
      "\n",
      "========== 0x03-debugging/3-convert_day.c ==========\n",
      "convert_day\n",
      "Date: 02/29/2000\n",
      "Day of the year: 60\n",
      "Remaining days: 306\n"
     ]
    }
   ],
   "source": [
    "%%bash\n",
    "betty 0x04-more_functions_nested_loops/3-print_remaining_days.c\n",
    "betty 0x04-more_functions_nested_loops/3-convert_day.c\n",
    "gcc -Wall -Werror -Wextra -pedantic -std=gnu89 0x04-more_functions_nested_loops/3-convert_day.c 0x04-more_functions_nested_loops/3-print_remaining_days.c 0x04-more_functions_nested_loops/3-main_b.c -o 0x04-more_functions_nested_loops/3-main_b \n",
    "./0x04-more_functions_nested_loops/3-main_b"
   ]
  },
  {
   "cell_type": "code",
   "execution_count": 28,
   "metadata": {},
   "outputs": [
    {
     "name": "stdout",
     "output_type": "stream",
     "text": [
      "[main 380c5ec] 0x03-debugging/3-name\n",
      " 7 files changed, 141 insertions(+), 1 deletion(-)\n",
      " create mode 100644 0x03-debugging/3-convert_day.c\n",
      " create mode 100755 0x03-debugging/3-main_a\n",
      " create mode 100644 0x03-debugging/3-main_a.c\n",
      " create mode 100755 0x03-debugging/3-main_b\n",
      " create mode 100644 0x03-debugging/3-main_b.c\n",
      " create mode 100644 0x03-debugging/3-print_remaining_days.c\n",
      "Enumerating objects: 13, done.\n",
      "Counting objects: 100% (13/13), done.\n",
      "Delta compression using up to 12 threads\n",
      "Compressing objects: 100% (10/10), done.\n",
      "Writing objects: 100% (10/10), 4.70 KiB | 1.57 MiB/s, done.\n",
      "Total 10 (delta 3), reused 0 (delta 0)\n",
      "remote: Resolving deltas: 100% (3/3), completed with 1 local object.\u001b[K\n",
      "To github.com:elkomysara/alx-low_level_programming.git\n",
      "   306241e..380c5ec  main -> main\n",
      "Branch 'main' set up to track remote branch 'main' from 'origin'.\n"
     ]
    }
   ],
   "source": [
    "!git add .\n",
    "!git commit -m \"0x04-more_functions_nested_loops/3-name\"\n",
    "!git push -u origin main"
   ]
  }
 ],
 "metadata": {
  "kernelspec": {
   "display_name": "Python 3",
   "language": "python",
   "name": "python3"
  },
  "language_info": {
   "codemirror_mode": {
    "name": "ipython",
    "version": 3
   },
   "file_extension": ".py",
   "mimetype": "text/x-python",
   "name": "python",
   "nbconvert_exporter": "python",
   "pygments_lexer": "ipython3",
   "version": "3.12.3"
  }
 },
 "nbformat": 4,
 "nbformat_minor": 2
}
