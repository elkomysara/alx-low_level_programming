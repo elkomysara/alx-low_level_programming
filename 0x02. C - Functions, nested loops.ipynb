{
 "cells": [
  {
   "cell_type": "markdown",
   "metadata": {},
   "source": [
    "---\n",
    "<center>\n",
    "<h1>  alx-low_level_programming </h1>\n",
    "</center>\n",
    "\n",
    "---\n"
   ]
  },
  {
   "cell_type": "code",
   "execution_count": 2,
   "metadata": {},
   "outputs": [
    {
     "name": "stdout",
     "output_type": "stream",
     "text": [
      "Writing README.md\n"
     ]
    }
   ],
   "source": [
    "%%file README.md\n",
    "## alx-low_level_programming"
   ]
  },
  {
   "cell_type": "code",
   "execution_count": 2,
   "metadata": {},
   "outputs": [],
   "source": [
    "import os\n",
    "# creating 0x02-shell_redirectionss\n",
    "\n",
    "folder_path = r'/home/elkomy/alx-low_level_programming/0x02-functions_nested_loops'\n",
    "if not os.path.exists(folder_path):\n",
    "    os.makedirs(folder_path)\n",
    "\n",
    "# Create a README.md inside alx-low_level_programming/0x02-functions_nested_loops\n",
    "file_path = os.path.join(folder_path, 'README.md')\n",
    "\n",
    "with open(file_path, 'w') as file:\n",
    "    file.write(\"This is a README.md file inside alx-low_level_programming/0x02-functions_nested_loops\")\n",
    "\n"
   ]
  },
  {
   "cell_type": "code",
   "execution_count": 4,
   "metadata": {},
   "outputs": [
    {
     "name": "stdout",
     "output_type": "stream",
     "text": [
      "/home/elkomy/alx-low_level_programming\n"
     ]
    }
   ],
   "source": [
    "!pwd"
   ]
  },
  {
   "cell_type": "code",
   "execution_count": 3,
   "metadata": {},
   "outputs": [
    {
     "name": "stdout",
     "output_type": "stream",
     "text": [
      "Overwriting /home/elkomy/alx-low_level_programming/0x02-functions_nested_loops/README.md\n"
     ]
    }
   ],
   "source": [
    "%%file /home/elkomy/alx-low_level_programming/0x02-functions_nested_loops/README.md\n",
    "This is a README.md"
   ]
  },
  {
   "cell_type": "markdown",
   "metadata": {},
   "source": [
    "###\n",
    "---\n",
    "<center>\n",
    "<h1> 0x02-functions_nested_loops  </h1>\n",
    "</center>\n",
    "\n",
    "---\n"
   ]
  },
  {
   "cell_type": "markdown",
   "metadata": {},
   "source": [
    "###\n",
    "---\n",
    "<center>\n",
    "<h4> 0. _putchar </h4>\n",
    "</center>\n",
    "\n",
    "---"
   ]
  },
  {
   "cell_type": "markdown",
   "metadata": {},
   "source": [
    "\n",
    "####  Write a program that prints `_putchar`, followed by a new line.\n",
    "\n",
    "* The program should return `0`\n",
    "\n",
    "```bash\n",
    "julien@ubuntu:~/0x02$  gcc -Wall -pedantic -Werror -Wextra -std=gnu89 _putchar.c 0-putchar.c -o 0-putchar\n",
    "julien@ubuntu:~/0x02$ ./0-putchar \n",
    "_putchar\n",
    "julien@ubuntu:~/0x02$  \n",
    "```\n",
    "\n",
    "\n",
    "#### Repo:\n",
    "* GitHub repository: ``` alx-low_level_programming ```\n",
    "* Directory: ```0x02-functions_nested_loops``` \n",
    "* File: ```0-putchar.c```"
   ]
  },
  {
   "cell_type": "code",
   "execution_count": 17,
   "metadata": {},
   "outputs": [
    {
     "name": "stdout",
     "output_type": "stream",
     "text": [
      "Overwriting 0x02-functions_nested_loops/0-putchar.c\n"
     ]
    }
   ],
   "source": [
    "%%file 0x02-functions_nested_loops/0-putchar.c\n",
    "#include \"main.h\"\n",
    "\n",
    "/**\n",
    " * main - Entry point\n",
    " *\n",
    " * Return: Always 0 (Success)\n",
    " */\n",
    "\n",
    "int main(void)\n",
    "{\n",
    "char str[] = \"_putchar\";\n",
    "int x;\n",
    "for (x = 0; x < 8; x++)\n",
    "{\n",
    "_putchar(str[x]);\n",
    "}\n",
    "_putchar('\\n');\n",
    "return (0);\n",
    "}"
   ]
  },
  {
   "cell_type": "code",
   "execution_count": 18,
   "metadata": {},
   "outputs": [
    {
     "name": "stdout",
     "output_type": "stream",
     "text": [
      "Overwriting 0x02-functions_nested_loops/main.h\n"
     ]
    }
   ],
   "source": [
    "%%file 0x02-functions_nested_loops/main.h\n",
    "#ifndef MAIN_H\n",
    "#define MAIN_H\n",
    "\n",
    "#include <stdio.h>\n",
    "\n",
    "int _putchar(char c);\n",
    "\n",
    "#endif"
   ]
  },
  {
   "cell_type": "code",
   "execution_count": 19,
   "metadata": {},
   "outputs": [
    {
     "name": "stdout",
     "output_type": "stream",
     "text": [
      "Overwriting 0x02-functions_nested_loops/_putchar.c\n"
     ]
    }
   ],
   "source": [
    "%%file 0x02-functions_nested_loops/_putchar.c\n",
    "#include <unistd.h>\n",
    "#include \"main.h\"\n",
    "/**\n",
    " * _putchar - writes the character c to stdout\n",
    " * @c: The character to print\n",
    " *\n",
    " * Return: On success 1.\n",
    " * On error, -1 is returned, and errno is set appropriately.\n",
    " */\n",
    "int _putchar(char c)\n",
    "{\n",
    "\treturn (write(1, &c, 1));\n",
    "}"
   ]
  },
  {
   "cell_type": "code",
   "execution_count": 22,
   "metadata": {},
   "outputs": [
    {
     "name": "stdout",
     "output_type": "stream",
     "text": [
      "\n",
      "========== 0x02-functions_nested_loops/0-putchar.c ==========\n",
      "main\n",
      "_putchar\n"
     ]
    }
   ],
   "source": [
    "%%bash\n",
    "betty 0x02-functions_nested_loops/0-putchar.c\n",
    "gcc -Wall -pedantic -Werror -Wextra -std=gnu89 0x02-functions_nested_loops/_putchar.c 0x02-functions_nested_loops/0-putchar.c -o 0x02-functions_nested_loops/0-putchar\n",
    "./0x02-functions_nested_loops/0-putchar\n"
   ]
  },
  {
   "cell_type": "code",
   "execution_count": 23,
   "metadata": {},
   "outputs": [
    {
     "name": "stdout",
     "output_type": "stream",
     "text": [
      "[main 6e94247] alx-low_level_programming/0x02-functions_nested_loops/0-putchar\n",
      " 7 files changed, 2377 insertions(+), 5 deletions(-)\n",
      " create mode 100755 0x02-functions_nested_loops/0-putchar\n",
      " create mode 100644 0x02-functions_nested_loops/0-putchar.c\n",
      " create mode 100644 0x02-functions_nested_loops/README.md\n",
      " create mode 100644 0x02-functions_nested_loops/_putchar.c\n",
      " create mode 100644 0x02-functions_nested_loops/main.h\n",
      " create mode 100644 0x02. C - Functions, nested loops.ipynb\n"
     ]
    },
    {
     "name": "stderr",
     "output_type": "stream",
     "text": [
      "To https://github.com/elkomysara/alx-low_level_programming.git\n",
      "   43282e3..6e94247  main -> main\n"
     ]
    }
   ],
   "source": [
    "%%bash\n",
    "git add .\n",
    "git commit -m \"alx-low_level_programming/0x02-functions_nested_loops/0-putchar\"\n",
    "git push"
   ]
  },
  {
   "cell_type": "markdown",
   "metadata": {},
   "source": [
    "###\n",
    "---\n",
    "<center>\n",
    "<h4> 1. I sometimes suffer from insomnia. And when I can't fall asleep, I play what I call the alphabet game </h4>\n",
    "</center>\n",
    "\n",
    "---\n"
   ]
  },
  {
   "cell_type": "markdown",
   "metadata": {},
   "source": [
    "##### Write a function that prints the alphabet, in lowercase, followed by a new line.\n",
    "\n",
    "* Prototype: `void print_alphabet(void);`\n",
    "* You can only use `_putchar` twice in your code\n",
    "\n",
    "```bash\n",
    "julien@ubuntu:~/0x02$ cat 1-main.c\n",
    "#include \"main.h\"\n",
    "\n",
    "/**\n",
    " * main - check the code\n",
    " *\n",
    " * Return: Always 0.\n",
    " */\n",
    "int main(void)\n",
    "{\n",
    "    print_alphabet();\n",
    "    return (0);\n",
    "}\n",
    "julien@ubuntu:~/0x02$ gcc -Wall -pedantic -Werror -Wextra -std=gnu89 _putchar.c 1-main.c 1-alphabet.c -o 1-alphabet\n",
    "julien@ubuntu:~/0x02$ ./1-alphabet \n",
    "abcdefghijklmnopqrstuvwxyz\n",
    "julien@ubuntu:~/0x02$\n",
    "\n",
    "```\n",
    "\n",
    "* Repo:\n",
    "\n",
    "    * GitHub repository: <code > alx-low_level_programming </code>\n",
    "    * Directory: <code > 0x02-functions_nested_loops </code>\n",
    "    * File: <code >  1-alphabet.c </code>\n",
    "   "
   ]
  },
  {
   "cell_type": "code",
   "execution_count": 15,
   "metadata": {},
   "outputs": [
    {
     "name": "stdout",
     "output_type": "stream",
     "text": [
      "Overwriting 0x02-functions_nested_loops/1-alphabet.c\n"
     ]
    }
   ],
   "source": [
    "%%file 0x02-functions_nested_loops/1-alphabet.c\n",
    "#include \"main.h\"\n",
    "\n",
    "/**\n",
    " * print_alphabet - Entry point\n",
    " * Return:0\n",
    " */\n",
    "void print_alphabet(void)\n",
    "{\n",
    "int x = 'a';\n",
    "while (x <= 'z')\n",
    "{\n",
    "_putchar(x);\n",
    "x++;\n",
    "}\n",
    "_putchar('\\n');\n",
    "}"
   ]
  },
  {
   "cell_type": "code",
   "execution_count": 59,
   "metadata": {},
   "outputs": [
    {
     "name": "stdout",
     "output_type": "stream",
     "text": [
      "Writing 0x02-functions_nested_loops/main.c\n"
     ]
    }
   ],
   "source": [
    "%%file 0x02-functions_nested_loops/main.c\n",
    "#include \"main.h\"\n",
    "\n",
    "/**\n",
    " * main - check the code for Holberton School students.\n",
    " *\n",
    " * Return: Always 0.\n",
    " */\n",
    "int main(void)\n",
    "{\n",
    "\tprint_alphabet();\n",
    "\treturn (0);\n",
    "}"
   ]
  },
  {
   "cell_type": "code",
   "execution_count": 16,
   "metadata": {},
   "outputs": [
    {
     "name": "stdout",
     "output_type": "stream",
     "text": [
      "Overwriting 0x02-functions_nested_loops/1-main.c\n"
     ]
    }
   ],
   "source": [
    "%%file 0x02-functions_nested_loops/1-main.c\n",
    "#include \"main.h\"\n",
    "\n",
    "/**\n",
    " * main - check the code\n",
    " *\n",
    " * Return: Always 0.\n",
    " */\n",
    "int main(void)\n",
    "{\n",
    "    print_alphabet();\n",
    "    return (0);\n",
    "}"
   ]
  },
  {
   "cell_type": "code",
   "execution_count": 17,
   "metadata": {},
   "outputs": [
    {
     "name": "stdout",
     "output_type": "stream",
     "text": [
      "Overwriting 0x02-functions_nested_loops/main.h\n"
     ]
    }
   ],
   "source": [
    "%%file 0x02-functions_nested_loops/main.h\n",
    "#ifndef MAIN_H\n",
    "#define MAIN_H\n",
    "\n",
    "#include <stdio.h>\n",
    "\n",
    "int _putchar(char c);\n",
    "void print_alphabet(void);\n",
    "\n",
    "#endif"
   ]
  },
  {
   "cell_type": "code",
   "execution_count": 18,
   "metadata": {},
   "outputs": [
    {
     "name": "stdout",
     "output_type": "stream",
     "text": [
      "\n",
      "========== 0x02-functions_nested_loops/1-alphabet.c ==========\n"
     ]
    },
    {
     "name": "stdout",
     "output_type": "stream",
     "text": [
      "print_alphabet\n"
     ]
    }
   ],
   "source": [
    "%%bash\n",
    "betty 0x02-functions_nested_loops/1-alphabet.c"
   ]
  },
  {
   "cell_type": "code",
   "execution_count": 20,
   "metadata": {},
   "outputs": [
    {
     "name": "stdout",
     "output_type": "stream",
     "text": [
      "\n",
      "========== 0x02-functions_nested_loops/1-alphabet.c ==========\n",
      "print_alphabet\n",
      "abcdefghijklmnopqrstuvwxyz\n"
     ]
    }
   ],
   "source": [
    "%%bash\n",
    "betty 0x02-functions_nested_loops/1-alphabet.c\n",
    "gcc -Wall -pedantic -Werror -Wextra -std=gnu89 0x02-functions_nested_loops/_putchar.c 0x02-functions_nested_loops/1-main.c 0x02-functions_nested_loops/1-alphabet.c -o 0x02-functions_nested_loops/1-alphabet\n",
    "./0x02-functions_nested_loops/1-alphabet"
   ]
  },
  {
   "cell_type": "code",
   "execution_count": 21,
   "metadata": {},
   "outputs": [
    {
     "name": "stdout",
     "output_type": "stream",
     "text": [
      "[main de2816c] alx-low_level_programming/0x02-functions_nested_loops/0-putchar\n",
      " 5 files changed, 158 insertions(+), 93 deletions(-)\n",
      " create mode 100755 0x02-functions_nested_loops/1-alphabet\n",
      " create mode 100644 0x02-functions_nested_loops/1-alphabet.c\n",
      " create mode 100644 0x02-functions_nested_loops/1-main.c\n"
     ]
    },
    {
     "name": "stderr",
     "output_type": "stream",
     "text": [
      "To https://github.com/elkomysara/alx-low_level_programming.git\n",
      "   6e94247..de2816c  main -> main\n"
     ]
    }
   ],
   "source": [
    "%%bash\n",
    "git add .\n",
    "git commit -m \"alx-low_level_programming/0x02-functions_nested_loops/0-putchar\"\n",
    "git push"
   ]
  },
  {
   "cell_type": "markdown",
   "metadata": {},
   "source": [
    "###\n",
    "---\n",
    "<center>\n",
    "<h4> 2. 10 x alphabet</h4>\n",
    "</center>\n",
    "\n",
    "---"
   ]
  },
  {
   "cell_type": "markdown",
   "metadata": {},
   "source": [
    "#### Write a function that prints 10 times the alphabet, in lowercase, followed by a new line.\n",
    "\n",
    "* Prototype: `void print_alphabet_x10(void)`;\n",
    "* You can only use `_putchar` twice in your code\n",
    "\n",
    "```bash\n",
    "julien@ubuntu:~/0x02$ cat 2-main.c\n",
    "#include \"main.h\"\n",
    "\n",
    "/**\n",
    " * main - check the code.\n",
    " *\n",
    " * Return: Always 0.\n",
    " */\n",
    "int main(void)\n",
    "{\n",
    "    print_alphabet_x10();\n",
    "    return (0);\n",
    "}\n",
    "julien@ubuntu:~/0x02$ gcc -Wall -pedantic -Werror -Wextra -std=gnu89 _putchar.c 2-main.c 2-print_alphabet_x10.c -o 2-alphabet_x10\n",
    "julien@ubuntu:~/0x02$ ./2-alphabet_x10 \n",
    "abcdefghijklmnopqrstuvwxyz\n",
    "abcdefghijklmnopqrstuvwxyz\n",
    "abcdefghijklmnopqrstuvwxyz\n",
    "abcdefghijklmnopqrstuvwxyz\n",
    "abcdefghijklmnopqrstuvwxyz\n",
    "abcdefghijklmnopqrstuvwxyz\n",
    "abcdefghijklmnopqrstuvwxyz\n",
    "abcdefghijklmnopqrstuvwxyz\n",
    "abcdefghijklmnopqrstuvwxyz\n",
    "abcdefghijklmnopqrstuvwxyz\n",
    "julien@ubuntu:~/0x02$ \n",
    "```\n",
    "\n",
    "\n",
    "#### Repo:\n",
    "* GitHub repository:   <code>alx-low_level_programming </code>\n",
    "* Directory:   <code> 0x02-functions_nested_loops </code>\n",
    "* File:   <code> 2-print_alphabet_x10.c</code>"
   ]
  },
  {
   "cell_type": "code",
   "execution_count": 69,
   "metadata": {},
   "outputs": [
    {
     "name": "stdout",
     "output_type": "stream",
     "text": [
      "Overwriting 0x02-functions_nested_loops/2-print_alphabet_x10.c\n"
     ]
    }
   ],
   "source": [
    "%%file 0x02-functions_nested_loops/2-print_alphabet_x10.c\n",
    "#include \"main.h\"\n",
    "/**\n",
    " * print_alphabet_x10 - prints 10 times the alphabet,\n",
    " * in lowercase,\n",
    " * followed by a new line\n",
    " */\n",
    "\n",
    "void print_alphabet_x10(void)\n",
    "{\n",
    "int x;\n",
    "int y;\n",
    "\n",
    "for (y = 0; y < 10; y++)\n",
    "{\n",
    "x = 'a';\n",
    "while (x <= 'z')\n",
    "{\n",
    "_putchar(x);\n",
    "x++;\n",
    "}\n",
    "_putchar('\\n');\n",
    "}\n",
    "}\n"
   ]
  },
  {
   "cell_type": "code",
   "execution_count": 70,
   "metadata": {},
   "outputs": [
    {
     "name": "stdout",
     "output_type": "stream",
     "text": [
      "Overwriting 0x02-functions_nested_loops/2-main.c\n"
     ]
    }
   ],
   "source": [
    "%%file 0x02-functions_nested_loops/2-main.c\n",
    "#include \"main.h\"\n",
    "\n",
    "/**\n",
    " * main - check the code.\n",
    " *\n",
    " * Return: Always 0.\n",
    " */\n",
    "int main(void)\n",
    "{\n",
    "print_alphabet_x10();\n",
    "return (0);\n",
    "}\n"
   ]
  },
  {
   "cell_type": "code",
   "execution_count": 71,
   "metadata": {},
   "outputs": [
    {
     "name": "stdout",
     "output_type": "stream",
     "text": [
      "Overwriting 0x02-functions_nested_loops/main.h\n"
     ]
    }
   ],
   "source": [
    "%%file 0x02-functions_nested_loops/main.h\n",
    "#ifndef MAIN_H\n",
    "#define MAIN_H\n",
    "\n",
    "#include <stdio.h>\n",
    "\n",
    "int _putchar(char c);\n",
    "void print_alphabet(void);\n",
    "void print_alphabet_x10(void);\n",
    "\n",
    "#endif"
   ]
  },
  {
   "cell_type": "code",
   "execution_count": 73,
   "metadata": {},
   "outputs": [
    {
     "name": "stdout",
     "output_type": "stream",
     "text": [
      "\n",
      "========== 0x02-functions_nested_loops/2-print_alphabet_x10.c ==========\n",
      "print_alphabet_x10\n",
      "abcdefghijklmnopqrstuvwxyz\n",
      "abcdefghijklmnopqrstuvwxyz\n",
      "abcdefghijklmnopqrstuvwxyz\n",
      "abcdefghijklmnopqrstuvwxyz\n",
      "abcdefghijklmnopqrstuvwxyz\n",
      "abcdefghijklmnopqrstuvwxyz\n",
      "abcdefghijklmnopqrstuvwxyz\n",
      "abcdefghijklmnopqrstuvwxyz\n",
      "abcdefghijklmnopqrstuvwxyz\n",
      "abcdefghijklmnopqrstuvwxyz\n"
     ]
    }
   ],
   "source": [
    "%%bash\n",
    "betty 0x02-functions_nested_loops/2-print_alphabet_x10.c\n",
    "gcc -Wall -pedantic -Werror -Wextra -std=gnu89 0x02-functions_nested_loops/_putchar.c 0x02-functions_nested_loops/2-main.c 0x02-functions_nested_loops/2-print_alphabet_x10.c -o 0x02-functions_nested_loops/2-print_alphabet_x10\n",
    "./0x02-functions_nested_loops/2-print_alphabet_x10"
   ]
  },
  {
   "cell_type": "code",
   "execution_count": 74,
   "metadata": {},
   "outputs": [
    {
     "name": "stdout",
     "output_type": "stream",
     "text": [
      "[main 5996486] 0x02-functions_nested_loops/2-assembler\n",
      " 5 files changed, 130 insertions(+), 234 deletions(-)\n",
      " create mode 100644 0x02-functions_nested_loops/2-main.c\n",
      " create mode 100755 0x02-functions_nested_loops/2-print_alphabet_x10\n",
      " create mode 100644 0x02-functions_nested_loops/2-print_alphabet_x10.c\n",
      "Enumerating objects: 12, done.\n",
      "Counting objects: 100% (12/12), done.\n",
      "Delta compression using up to 12 threads\n",
      "Compressing objects: 100% (8/8), done.\n",
      "Writing objects: 100% (8/8), 3.97 KiB | 3.97 MiB/s, done.\n",
      "Total 8 (delta 4), reused 0 (delta 0)\n",
      "remote: Resolving deltas: 100% (4/4), completed with 4 local objects.\u001b[K\n",
      "To https://github.com/elkomysara/alx-low_level_programming.git\n",
      "   de2816c..5996486  main -> main\n",
      "Branch 'main' set up to track remote branch 'main' from 'origin'.\n"
     ]
    }
   ],
   "source": [
    "!git add .\n",
    "!git commit -m \"0x02-functions_nested_loops/2-assembler\"\n",
    "!git push -u origin main"
   ]
  },
  {
   "cell_type": "markdown",
   "metadata": {},
   "source": [
    "###\n",
    "---\n",
    "<center>\n",
    "<h4> 3. islower</h4>\n",
    "</center>\n",
    "\n",
    "---"
   ]
  },
  {
   "cell_type": "markdown",
   "metadata": {},
   "source": [
    "#### Write a function that checks for lowercase character.\n",
    "* Prototype: `int _islower(int c);`\n",
    "* Returns `1` if `c` is lowercase\n",
    "* Returns `0` otherwise\n",
    "FYI: The standard library provides a similar function: `islower`. Run `man islower` to learn more.\n",
    "\n",
    "```bash\n",
    "julien@ubuntu:~/0x02$ cat 3-main.c \n",
    "#include \"main.h\"\n",
    "\n",
    "/**\n",
    " * main - check the code.\n",
    " *\n",
    " * Return: Always 0.\n",
    " */\n",
    "int main(void)\n",
    "{\n",
    "    int r;\n",
    "\n",
    "    r = _islower('H');\n",
    "    _putchar(r + '0');\n",
    "    r = _islower('o');\n",
    "    _putchar(r + '0');\n",
    "    r = _islower(108);\n",
    "    _putchar(r + '0');\n",
    "    _putchar('\\n');\n",
    "    return (0);\n",
    "}\n",
    "julien@ubuntu:~/0x02$ gcc -Wall -pedantic -Werror -Wextra -std=gnu89 _putchar.c 3-main.c 3-islower.c -o 3-islower\n",
    "julien@ubuntu:~/0x02$ ./3-islower \n",
    "011\n",
    "julien@ubuntu:~/0x02$\n",
    "\n",
    "```\n",
    "\n",
    "\n",
    "#### Repo:\n",
    "* GitHub repository: `alx-low_level_programming`\n",
    "* Directory: `0x02-functions_nested_loops`\n",
    "* File: `3-islower.c`"
   ]
  },
  {
   "cell_type": "code",
   "execution_count": 77,
   "metadata": {},
   "outputs": [
    {
     "name": "stdout",
     "output_type": "stream",
     "text": [
      "ISALPHA(3)                 Linux Programmer's Manual                ISALPHA(3)\n",
      "\n",
      "NAME\n",
      "       isalnum, isalpha, isascii, isblank, iscntrl, isdigit, isgraph, islower,\n",
      "       isprint, ispunct, isspace,  isupper,  isxdigit,  isalnum_l,  isalpha_l,\n",
      "       isascii_l,  isblank_l,  iscntrl_l, isdigit_l, isgraph_l, islower_l, is‐\n",
      "       print_l, ispunct_l, isspace_l, isupper_l, isxdigit_l - character  clas‐\n",
      "       sification functions\n",
      "\n",
      "SYNOPSIS\n",
      "       #include <ctype.h>\n",
      "\n",
      "       int isalnum(int c);\n",
      "       int isalpha(int c);\n",
      "       int iscntrl(int c);\n",
      "       int isdigit(int c);\n",
      "       int isgraph(int c);\n",
      "       int islower(int c);\n",
      "       int isprint(int c);\n",
      "       int ispunct(int c);\n",
      "       int isspace(int c);\n",
      "       int isupper(int c);\n",
      "       int isxdigit(int c);\n",
      "\n",
      "       int isascii(int c);\n",
      "       int isblank(int c);\n",
      "\n",
      "       int isalnum_l(int c, locale_t locale);\n",
      "       int isalpha_l(int c, locale_t locale);\n",
      "       int isblank_l(int c, locale_t locale);\n",
      "       int iscntrl_l(int c, locale_t locale);\n",
      "       int isdigit_l(int c, locale_t locale);\n",
      "       int isgraph_l(int c, locale_t locale);\n",
      "       int islower_l(int c, locale_t locale);\n",
      "       int isprint_l(int c, locale_t locale);\n",
      "       int ispunct_l(int c, locale_t locale);\n",
      "       int isspace_l(int c, locale_t locale);\n",
      "       int isupper_l(int c, locale_t locale);\n",
      "       int isxdigit_l(int c, locale_t locale);\n",
      "\n",
      "       int isascii_l(int c, locale_t locale);\n",
      "\n",
      "   Feature Test Macro Requirements for glibc (see feature_test_macros(7)):\n",
      "\n",
      "       isascii():\n",
      "           _XOPEN_SOURCE\n",
      "               || /* Glibc since 2.19: */ _DEFAULT_SOURCE\n",
      "               || /* Glibc versions <= 2.19: */ _SVID_SOURCE\n",
      "\n",
      "       isblank():\n",
      "           _ISOC99_SOURCE || _POSIX_C_SOURCE >= 200112L\n",
      "\n",
      "       isalnum_l(), isalpha_l(), isblank_l(), iscntrl_l(), isdigit_l(), is‐\n",
      "       graph_l(), islower_l(), isprint_l(), ispunct_l(), isspace_l(), isup‐\n",
      "       per_l(), isxdigit_l():\n",
      "           Since glibc 2.10:\n",
      "                  _XOPEN_SOURCE >= 700\n",
      "           Before glibc 2.10:\n",
      "                  _GNU_SOURCE\n",
      "\n",
      "       isascii_l():\n",
      "           Since glibc 2.10:\n",
      "                  _XOPEN_SOURCE >= 700 && (_SVID_SOURCE || _BSD_SOURCE)\n",
      "           Before glibc 2.10:\n",
      "                  _GNU_SOURCE\n",
      "\n",
      "DESCRIPTION\n",
      "       These  functions  check  whether c, which must have the value of an un‐\n",
      "       signed char or EOF, falls into a certain character class  according  to\n",
      "       the  specified  locale.   The functions without the \"_l\" suffix perform\n",
      "       the check based on the current locale.\n",
      "\n",
      "       The functions with the \"_l\" suffix perform the check based on  the  lo‐\n",
      "       cale  specified  by  the  locale  object locale.  The behavior of these\n",
      "       functions  is  undefined  if  locale  is  the  special  locale   object\n",
      "       LC_GLOBAL_LOCALE  (see  duplocale(3))  or  is not a valid locale object\n",
      "       handle.\n",
      "\n",
      "       The list below explains the operation of the functions without the \"_l\"\n",
      "       suffix; the functions with the \"_l\" suffix differ only in using the lo‐\n",
      "       cale object locale instead of the current locale.\n",
      "\n",
      "       isalnum()\n",
      "              checks for an alphanumeric character; it is equivalent to (isal‐\n",
      "              pha(c) || isdigit(c)).\n",
      "\n",
      "       isalpha()\n",
      "              checks  for an alphabetic character; in the standard \"C\" locale,\n",
      "              it is equivalent to (isupper(c) ||  islower(c)).   In  some  lo‐\n",
      "              cales, there may be additional characters for which isalpha() is\n",
      "              true—letters which are neither uppercase nor lowercase.\n",
      "\n",
      "       isascii()\n",
      "              checks whether c is a 7-bit unsigned char value that  fits  into\n",
      "              the ASCII character set.\n",
      "\n",
      "       isblank()\n",
      "              checks for a blank character; that is, a space or a tab.\n",
      "\n",
      "       iscntrl()\n",
      "              checks for a control character.\n",
      "\n",
      "       isdigit()\n",
      "              checks for a digit (0 through 9).\n",
      "\n",
      "       isgraph()\n",
      "              checks for any printable character except space.\n",
      "\n",
      "       islower()\n",
      "              checks for a lowercase character.\n",
      "\n",
      "       isprint()\n",
      "              checks for any printable character including space.\n",
      "\n",
      "       ispunct()\n",
      "              checks  for  any  printable character which is not a space or an\n",
      "              alphanumeric character.\n",
      "\n",
      "       isspace()\n",
      "              checks for white-space characters.  In the \"C\" and  \"POSIX\"  lo‐\n",
      "              cales,  these are: space, form-feed ('\\f'), newline ('\\n'), car‐\n",
      "              riage return ('\\r'), horizontal tab  ('\\t'),  and  vertical  tab\n",
      "              ('\\v').\n",
      "\n",
      "       isupper()\n",
      "              checks for an uppercase letter.\n",
      "\n",
      "       isxdigit()\n",
      "              checks for hexadecimal digits, that is, one of\n",
      "              0 1 2 3 4 5 6 7 8 9 a b c d e f A B C D E F.\n",
      "\n",
      "RETURN VALUE\n",
      "       The  values  returned  are  nonzero  if  the character c falls into the\n",
      "       tested class, and zero if not.\n",
      "\n",
      "VERSIONS\n",
      "       isalnum_l(), isalpha_l(), isblank_l(),  iscntrl_l(),  isdigit_l(),  is‐\n",
      "       graph_l(),  islower_l(),  isprint_l(),  ispunct_l(), isspace_l(), isup‐\n",
      "       per_l(), isxdigit_l(), and isascii_l() are available since glibc 2.3.\n",
      "\n",
      "ATTRIBUTES\n",
      "       For an  explanation  of  the  terms  used  in  this  section,  see  at‐\n",
      "       tributes(7).\n",
      "\n",
      "       ┌─────────────────────────────────┬───────────────┬─────────┐\n",
      "       │Interface                        │ Attribute     │ Value   │\n",
      "       ├─────────────────────────────────┼───────────────┼─────────┤\n",
      "       │isalnum(), isalpha(), isascii(), │ Thread safety │ MT-Safe │\n",
      "       │isblank(), iscntrl(), isdigit(), │               │         │\n",
      "       │isgraph(), islower(), isprint(), │               │         │\n",
      "       │ispunct(), isspace(), isupper(), │               │         │\n",
      "       │isxdigit()                       │               │         │\n",
      "       └─────────────────────────────────┴───────────────┴─────────┘\n",
      "CONFORMING TO\n",
      "       C89  specifies  isalnum(),  isalpha(), iscntrl(), isdigit(), isgraph(),\n",
      "       islower(), isprint(), ispunct(), isspace(), isupper(), and  isxdigit(),\n",
      "       but  not  isascii()  and  isblank().  POSIX.1-2001 also specifies those\n",
      "       functions, and also isascii() (as an XSI extension) and isblank().  C99\n",
      "       specifies all of the preceding functions, except isascii().\n",
      "\n",
      "       POSIX.1-2008 marks isascii() as obsolete, noting that it cannot be used\n",
      "       portably in a localized application.\n",
      "\n",
      "       POSIX.1-2008 specifies  isalnum_l(),  isalpha_l(),  isblank_l(),  iscn‐\n",
      "       trl_l(),   isdigit_l(),   isgraph_l(),  islower_l(),  isprint_l(),  is‐\n",
      "       punct_l(), isspace_l(), isupper_l(), and isxdigit_l().\n",
      "\n",
      "       isascii_l() is a GNU extension.\n",
      "\n",
      "NOTES\n",
      "       The standards require that the argument c for these functions is either\n",
      "       EOF or a value that is representable in the type unsigned char.  If the\n",
      "       argument c is of type char, it must be cast to unsigned char, as in the\n",
      "       following example:\n",
      "\n",
      "           char c;\n",
      "           ...\n",
      "           res = toupper((unsigned char) c);\n",
      "\n",
      "       This is necessary because char may be the equivalent of signed char, in\n",
      "       which case a byte where the top bit is set would be sign extended  when\n",
      "       converting  to  int,  yielding a value that is outside the range of un‐\n",
      "       signed char.\n",
      "\n",
      "       The details of what characters belong to which class depend on the  lo‐\n",
      "       cale.   For example, isupper() will not recognize an A-umlaut (Ä) as an\n",
      "       uppercase letter in the default C locale.\n",
      "\n",
      "SEE ALSO\n",
      "       iswalnum(3), iswalpha(3), iswblank(3), iswcntrl(3),  iswdigit(3),  isw‐\n",
      "       graph(3),  iswlower(3),  iswprint(3),  iswpunct(3), iswspace(3), iswup‐\n",
      "       per(3),   iswxdigit(3),   newlocale(3),    setlocale(3),    toascii(3),\n",
      "       tolower(3), toupper(3), uselocale(3), ascii(7), locale(7)\n",
      "\n",
      "COLOPHON\n",
      "       This  page  is  part of release 5.05 of the Linux man-pages project.  A\n",
      "       description of the project, information about reporting bugs,  and  the\n",
      "       latest     version     of     this    page,    can    be    found    at\n",
      "       https://www.kernel.org/doc/man-pages/.\n",
      "\n",
      "GNU                               2017-09-15                        ISALPHA(3)\n"
     ]
    }
   ],
   "source": [
    "! man islower"
   ]
  },
  {
   "cell_type": "code",
   "execution_count": 90,
   "metadata": {},
   "outputs": [
    {
     "name": "stdout",
     "output_type": "stream",
     "text": [
      "Overwriting 0x02-functions_nested_loops/3-islower.c\n"
     ]
    }
   ],
   "source": [
    "%%file 0x02-functions_nested_loops/3-islower.c\n",
    "#include \"main.h\"\n",
    "/**\n",
    " * _islower - checks for lowercase character\n",
    " * @c: the character to check\n",
    " * Return: 1 if c is lowercase, 0 otherwise\n",
    " */\n",
    "\n",
    "int _islower(int x)\n",
    "{\n",
    "return (x >= 'a' && x <= 'z');\n",
    "}\n"
   ]
  },
  {
   "cell_type": "code",
   "execution_count": 60,
   "metadata": {},
   "outputs": [
    {
     "name": "stdout",
     "output_type": "stream",
     "text": [
      "Writing 0x02-functions_nested_loops/main_0.c\n"
     ]
    }
   ],
   "source": [
    "%%file 0x02-functions_nested_loops/main_0.c\n",
    "#include \"main.h\"\n",
    "\n",
    "/**\n",
    " * test_islower - Test the _islower function\n",
    " *\n",
    " * @n: Number to pass to _islower function\n",
    " */\n",
    "void test_islower(int n)\n",
    "{\n",
    "\tint r;\n",
    "\n",
    "\tr = _islower(n);\n",
    "\t_putchar(r + '0');\n",
    "\t_putchar('\\n');\n",
    "}\n",
    "\n",
    "/**\n",
    " * main - check the code for Holberton School students.\n",
    " *\n",
    " * Return: Always 0.\n",
    " */\n",
    "int main(void)\n",
    "{\n",
    "\ttest_islower('H');\n",
    "\treturn (0);\n",
    "}"
   ]
  },
  {
   "cell_type": "code",
   "execution_count": 61,
   "metadata": {},
   "outputs": [
    {
     "name": "stdout",
     "output_type": "stream",
     "text": [
      "Writing 0x02-functions_nested_loops/main_1.c\n"
     ]
    }
   ],
   "source": [
    "%%file 0x02-functions_nested_loops/main_1.c\n",
    "#include \"main.h\"\n",
    "\n",
    "/**\n",
    " * test_islower - Test the _islower function\n",
    " *\n",
    " * @n: Number to pass to _islower function\n",
    " */\n",
    "void test_islower(int n)\n",
    "{\n",
    "\tint r;\n",
    "\n",
    "\tr = _islower(n);\n",
    "\t_putchar(r + '0');\n",
    "\t_putchar('\\n');\n",
    "}\n",
    "\n",
    "/**\n",
    " * main - check the code for Holberton School students.\n",
    " *\n",
    " * Return: Always 0.\n",
    " */\n",
    "int main(void)\n",
    "{\n",
    "\ttest_islower('o');\n",
    "\treturn (0);\n",
    "}"
   ]
  },
  {
   "cell_type": "code",
   "execution_count": 62,
   "metadata": {},
   "outputs": [
    {
     "name": "stdout",
     "output_type": "stream",
     "text": [
      "Writing 0x02-functions_nested_loops/main_2.c\n"
     ]
    }
   ],
   "source": [
    "%%file 0x02-functions_nested_loops/main_2.c\n",
    "#include \"main.h\"\n",
    "\n",
    "/**\n",
    " * test_islower - Test the _islower function\n",
    " *\n",
    " * @n: Number to pass to _islower function\n",
    " */\n",
    "void test_islower(int n)\n",
    "{\n",
    "\tint r;\n",
    "\n",
    "\tr = _islower(n);\n",
    "\t_putchar(r + '0');\n",
    "\t_putchar('\\n');\n",
    "}\n",
    "\n",
    "/**\n",
    " * main - check the code for Holberton School students.\n",
    " *\n",
    " * Return: Always 0.\n",
    " */\n",
    "int main(void)\n",
    "{\n",
    "\ttest_islower(108);\n",
    "\treturn (0);"
   ]
  },
  {
   "cell_type": "code",
   "execution_count": 63,
   "metadata": {},
   "outputs": [
    {
     "name": "stdout",
     "output_type": "stream",
     "text": [
      "Writing 0x02-functions_nested_loops/main_3.c\n"
     ]
    }
   ],
   "source": [
    "%%file 0x02-functions_nested_loops/main_3.c\n",
    "#include \"main.h\"\n",
    "\n",
    "/**\n",
    " * test_islower - Test the _islower function\n",
    " *\n",
    " * @n: Number to pass to _islower function\n",
    " */\n",
    "void test_islower(int n)\n",
    "{\n",
    "\tint r;\n",
    "\n",
    "\tr = _islower(n);\n",
    "\t_putchar(r + '0');\n",
    "\t_putchar('\\n');\n",
    "}\n",
    "\n",
    "/**\n",
    " * main - check the code for Holberton School students.\n",
    " *\n",
    " * Return: Always 0.\n",
    " */\n",
    "int main(void)\n",
    "{\n",
    "\ttest_islower('c');\n",
    "\treturn (0);\n",
    "}"
   ]
  },
  {
   "cell_type": "code",
   "execution_count": 64,
   "metadata": {},
   "outputs": [
    {
     "name": "stdout",
     "output_type": "stream",
     "text": [
      "Writing 0x02-functions_nested_loops/main_4.c\n"
     ]
    }
   ],
   "source": [
    "%%file 0x02-functions_nested_loops/main_4.c\n",
    "#include \"main.h\"\n",
    "\n",
    "/**\n",
    " * test_islower - Test the _islower function\n",
    " *\n",
    " * @n: Number to pass to _islower function\n",
    " */\n",
    "void test_islower(int n)\n",
    "{\n",
    "\tint r;\n",
    "\n",
    "\tr = _islower(n);\n",
    "\t_putchar(r + '0');\n",
    "\t_putchar('\\n');\n",
    "}\n",
    "\n",
    "/**\n",
    " * main - check the code for Holberton School students.\n",
    " *\n",
    " * Return: Always 0.\n",
    " */\n",
    "int main(void)\n",
    "{\n",
    "\ttest_islower('I');\n",
    "\treturn (0);\n",
    "}"
   ]
  },
  {
   "cell_type": "code",
   "execution_count": 65,
   "metadata": {},
   "outputs": [
    {
     "name": "stdout",
     "output_type": "stream",
     "text": [
      "Writing 0x02-functions_nested_loops/main_5.c\n"
     ]
    }
   ],
   "source": [
    "%%file 0x02-functions_nested_loops/main_5.c\n",
    "#include \"main.h\"\n",
    "\n",
    "/**\n",
    " * test_islower - Test the _islower function\n",
    " *\n",
    " * @n: Number to pass to _islower function\n",
    " */\n",
    "void test_islower(int n)\n",
    "{\n",
    "\tint r;\n",
    "\n",
    "\tr = _islower(n);\n",
    "\t_putchar(r + '0');\n",
    "\t_putchar('\\n');\n",
    "}\n",
    "\n",
    "/**\n",
    " * main - check the code for Holberton School students.\n",
    " *\n",
    " * Return: Always 0.\n",
    " */\n",
    "int main(void)\n",
    "{\n",
    "\ttest_islower('s');\n",
    "\treturn (0);\n",
    "}"
   ]
  },
  {
   "cell_type": "code",
   "execution_count": 91,
   "metadata": {},
   "outputs": [
    {
     "name": "stdout",
     "output_type": "stream",
     "text": [
      "Overwriting 0x02-functions_nested_loops/3-main.c\n"
     ]
    }
   ],
   "source": [
    "%%file 0x02-functions_nested_loops/3-main.c \n",
    "#include \"main.h\"\n",
    "\n",
    "/**\n",
    " * main - check the code.\n",
    " *\n",
    " * Return: Always 0.\n",
    " */\n",
    "int main(void)\n",
    "{\n",
    "    int r;\n",
    "\n",
    "    r = _islower('H');\n",
    "    _putchar(r + '0');\n",
    "    r = _islower('o');\n",
    "    _putchar(r + '0');\n",
    "    r = _islower(108);\n",
    "    _putchar(r + '0');\n",
    "    _putchar('\\n');\n",
    "    return (0);\n",
    "}\n"
   ]
  },
  {
   "cell_type": "code",
   "execution_count": 67,
   "metadata": {},
   "outputs": [
    {
     "name": "stdout",
     "output_type": "stream",
     "text": [
      "Overwriting 0x02-functions_nested_loops/main_6.c\n"
     ]
    }
   ],
   "source": [
    "%%file 0x02-functions_nested_loops/main_6.c\n",
    "#include \"main.h\"\n",
    "\n",
    "/**\n",
    " * test_islower - Test the _islower function\n",
    " *\n",
    " * @n: Number to pass to _islower function\n",
    " */\n",
    "void test_islower(int n)\n",
    "{\n",
    "\tint r;\n",
    "\n",
    "\tr = _islower(n);\n",
    "\t_putchar(r + '0');\n",
    "\t_putchar('\\n');\n",
    "}\n",
    "\n",
    "/**\n",
    " * main - check the code for Holberton School students.\n",
    " *\n",
    " * Return: Always 0.\n",
    " */\n",
    "int main(void)\n",
    "{\n",
    "\ttest_islower(70);\n",
    "\treturn (0);\n",
    "}\n"
   ]
  },
  {
   "cell_type": "code",
   "execution_count": 68,
   "metadata": {},
   "outputs": [
    {
     "name": "stdout",
     "output_type": "stream",
     "text": [
      "Writing 0x02-functions_nested_loops/main_7.c\n"
     ]
    }
   ],
   "source": [
    "%%file 0x02-functions_nested_loops/main_7.c\n",
    "\n",
    "\n",
    "#include \"main.h\"\n",
    "\n",
    "/**\n",
    " * test_islower - Test the _islower function\n",
    " *\n",
    " * @n: Number to pass to _islower function\n",
    " */\n",
    "void test_islower(int n)\n",
    "{\n",
    "\tint r;\n",
    "\n",
    "\tr = _islower(n);\n",
    "\t_putchar(r + '0');\n",
    "\t_putchar('\\n');\n",
    "}\n",
    "\n",
    "/**\n",
    " * main - check the code for Holberton School students.\n",
    " *\n",
    " * Return: Always 0.\n",
    " */\n",
    "int main(void)\n",
    "{\n",
    "\ttest_islower(20);\n",
    "\treturn (0);\n",
    "}\n"
   ]
  },
  {
   "cell_type": "code",
   "execution_count": 69,
   "metadata": {},
   "outputs": [
    {
     "name": "stdout",
     "output_type": "stream",
     "text": [
      "Writing 0x02-functions_nested_loops/main_8.c\n"
     ]
    }
   ],
   "source": [
    "%%file 0x02-functions_nested_loops/main_8.c\n",
    "#include \"main.h\"\n",
    "\n",
    "/**\n",
    " * test_islower - Test the _islower function\n",
    " *\n",
    " * @n: Number to pass to _islower function\n",
    " */\n",
    "void test_islower(int n)\n",
    "{\n",
    "\tint r;\n",
    "\n",
    "\tr = _islower(n);\n",
    "\t_putchar(r + '0');\n",
    "\t_putchar('\\n');\n",
    "}\n",
    "\n",
    "/**\n",
    " * main - check the code for Holberton School students.\n",
    " *\n",
    " * Return: Always 0.\n",
    " */\n",
    "int main(void)\n",
    "{\n",
    "\ttest_islower('U');\n",
    "\treturn (0);\n",
    "}\n"
   ]
  },
  {
   "cell_type": "code",
   "execution_count": 70,
   "metadata": {},
   "outputs": [
    {
     "name": "stdout",
     "output_type": "stream",
     "text": [
      "Writing 0x02-functions_nested_loops/main_9.c\n"
     ]
    }
   ],
   "source": [
    "%%file 0x02-functions_nested_loops/main_9.c\n",
    "#include \"main.h\"\n",
    "\n",
    "/**\n",
    " * test_islower - Test the _islower function\n",
    " *\n",
    " * @n: Number to pass to _islower function\n",
    " */\n",
    "void test_islower(int n)\n",
    "{\n",
    "\tint r;\n",
    "\n",
    "\tr = _islower(n);\n",
    "\t_putchar(r + '0');\n",
    "\t_putchar('\\n');\n",
    "}\n",
    "\n",
    "/**\n",
    " * main - check the code for Holberton School students.\n",
    " *\n",
    " * Return: Always 0.\n",
    " */\n",
    "int main(void)\n",
    "{\n",
    "\ttest_islower('n');\n",
    "\treturn (0);\n",
    "}\n"
   ]
  },
  {
   "cell_type": "code",
   "execution_count": 71,
   "metadata": {},
   "outputs": [
    {
     "name": "stdout",
     "output_type": "stream",
     "text": [
      "Writing 0x02-functions_nested_loops/main_10.c\n"
     ]
    }
   ],
   "source": [
    "%%file 0x02-functions_nested_loops/main_10.c\n",
    "#include \"main.h\"\n",
    "\n",
    "/**\n",
    " * test_islower - Test the _islower function\n",
    " *\n",
    " * @n: Number to pass to _islower function\n",
    " */\n",
    "void test_islower(int n)\n",
    "{\n",
    "\tint r;\n",
    "\n",
    "\tr = _islower(n);\n",
    "\t_putchar(r + '0');\n",
    "\t_putchar('\\n');\n",
    "}\n",
    "\n",
    "/**\n",
    " * main - check the code for Holberton School students.\n",
    " *\n",
    " * Return: Always 0.\n",
    " */\n",
    "int main(void)\n",
    "{\n",
    "\ttest_islower(0);\n",
    "\treturn (0);\n",
    "}\n"
   ]
  },
  {
   "cell_type": "code",
   "execution_count": 92,
   "metadata": {},
   "outputs": [
    {
     "name": "stdout",
     "output_type": "stream",
     "text": [
      "Overwriting 0x02-functions_nested_loops/main.h\n"
     ]
    }
   ],
   "source": [
    "%%file 0x02-functions_nested_loops/main.h\n",
    "#ifndef MAIN_H\n",
    "#define MAIN_H\n",
    "\n",
    "#include <stdio.h>\n",
    "\n",
    "int _putchar(char x);\n",
    "void print_alphabet(void);\n",
    "void print_alphabet_x10(void);\n",
    "int _islower(int x);\n",
    "\n",
    "#endif"
   ]
  },
  {
   "cell_type": "code",
   "execution_count": 93,
   "metadata": {},
   "outputs": [
    {
     "name": "stdout",
     "output_type": "stream",
     "text": [
      "\n",
      "========== 0x02-functions_nested_loops/3-islower ==========\n"
     ]
    },
    {
     "name": "stdout",
     "output_type": "stream",
     "text": [
      "0x02-functions_nested_loops/3-islower:0: ERROR: Does not appear to be a unified-diff format patch\n",
      "total: 1 errors, 0 warnings, 0 lines checked\n",
      "011\n"
     ]
    }
   ],
   "source": [
    "%%bash\n",
    "betty 0x02-functions_nested_loops/3-islower\n",
    "gcc -Wall -pedantic -Werror -Wextra -std=gnu89 0x02-functions_nested_loops/_putchar.c 0x02-functions_nested_loops/3-main.c 0x02-functions_nested_loops/3-islower.c -o 0x02-functions_nested_loops/3-islower\n",
    "./0x02-functions_nested_loops/3-islower"
   ]
  },
  {
   "cell_type": "code",
   "execution_count": 89,
   "metadata": {},
   "outputs": [
    {
     "name": "stdout",
     "output_type": "stream",
     "text": [
      "[main 131aba8] 0x02-functions_nested_loops/3-name\n",
      " 5 files changed, 366 insertions(+), 74 deletions(-)\n",
      " create mode 100755 0x02-functions_nested_loops/3-islower\n",
      " create mode 100644 0x02-functions_nested_loops/3-islower.c\n",
      " create mode 100644 0x02-functions_nested_loops/3-main.c\n",
      "Enumerating objects: 12, done.\n",
      "Counting objects: 100% (12/12), done.\n",
      "Delta compression using up to 12 threads\n",
      "Compressing objects: 100% (8/8), done.\n",
      "Writing objects: 100% (8/8), 7.15 KiB | 3.57 MiB/s, done.\n",
      "Total 8 (delta 4), reused 0 (delta 0)\n",
      "remote: Resolving deltas: 100% (4/4), completed with 4 local objects.\u001b[K\n",
      "To https://github.com/elkomysara/alx-low_level_programming.git\n",
      "   5996486..131aba8  main -> main\n",
      "Branch 'main' set up to track remote branch 'main' from 'origin'.\n"
     ]
    }
   ],
   "source": [
    "!git add .\n",
    "!git commit -m \"0x02-functions_nested_loops/3-name\"\n",
    "!git push -u origin main"
   ]
  },
  {
   "cell_type": "markdown",
   "metadata": {},
   "source": [
    "### \n",
    "\n",
    "\n",
    "---\n",
    "<center>\n",
    "<h4> 4. isalpha</h4>\n",
    "</center>\n",
    "\n",
    "---"
   ]
  },
  {
   "cell_type": "markdown",
   "metadata": {},
   "source": [
    "#### Write a function that checks for alphabetic character.\n",
    "\n",
    "* Prototype: int _isalpha(int c);\n",
    "* Returns 1 if c is a letter, lowercase or uppercase\n",
    "* Returns 0 otherwise\n",
    "FYI: The standard library provides a similar function: isalpha. Run man isalpha to learn more.\n",
    "\n",
    "```bash\n",
    "julien@ubuntu:~/0x02$ cat 4-main.c \n",
    "#include \"main.h\"\n",
    "\n",
    "/**\n",
    " * main - check the code.\n",
    " *\n",
    " * Return: Always 0.\n",
    " */\n",
    "int main(void)\n",
    "{\n",
    "    int r;\n",
    "\n",
    "    r = _isalpha('H');\n",
    "    _putchar(r + '0');\n",
    "    r = _isalpha('o');\n",
    "    _putchar(r + '0');\n",
    "    r = _isalpha(108);\n",
    "    _putchar(r + '0');\n",
    "    r = _isalpha(';');\n",
    "    _putchar(r + '0');\n",
    "    _putchar('\\n');\n",
    "    return (0);\n",
    "}\n",
    "julien@ubuntu:~/0x02$ gcc -Wall -pedantic -Werror -Wextra -std=gnu89 _putchar.c 4-main.c 4-isalpha.c -o 4-isalpha\n",
    "julien@ubuntu:~/0x02$ ./4-isalpha \n",
    "1110\n",
    "julien@ubuntu:~/0x02$ \n",
    "\n",
    "```\n",
    "\n",
    "#### Repo:\n",
    "* GitHub repository: `alx-low_level_programming`\n",
    "* Directory: `0x02-functions_nested_loops`\n",
    "* File: `4-isalpha.c`"
   ]
  },
  {
   "cell_type": "code",
   "execution_count": 112,
   "metadata": {},
   "outputs": [
    {
     "name": "stdout",
     "output_type": "stream",
     "text": [
      "Overwriting 0x02-functions_nested_loops/4-isalpha.c\n"
     ]
    }
   ],
   "source": [
    "%%file 0x02-functions_nested_loops/4-isalpha.c\n",
    "#include \"main.h\"\n",
    "\n",
    "/**\n",
    " * _isalpha - checks for alphabetic character\n",
    " * @x: the character to be checked\n",
    " * Return: 1 if x is a letter, 0 otherwise\n",
    " */\n",
    "int _isalpha(int x)\n",
    "{\n",
    "return ((x >= 'a' && x <= 'z') || (x >= 'A' && x <= 'Z'));\n",
    "}"
   ]
  },
  {
   "cell_type": "code",
   "execution_count": 72,
   "metadata": {},
   "outputs": [
    {
     "name": "stdout",
     "output_type": "stream",
     "text": [
      "Overwriting 0x02-functions_nested_loops/main_0.c\n"
     ]
    }
   ],
   "source": [
    "%%file 0x02-functions_nested_loops/main_0.c\n",
    "#include \"main.h\"\n",
    "\n",
    "/**\n",
    " * test_isalpha - Test the _isalpha function\n",
    " *\n",
    " * @n: Number to pass to _isalpha function\n",
    " */\n",
    "void test_isalpha(int n)\n",
    "{\n",
    "\tint r;\n",
    "\n",
    "\tr = _isalpha(n);\n",
    "\t_putchar(r + '0');\n",
    "\t_putchar('\\n');\n",
    "}\n",
    "\n",
    "/**\n",
    " * main - check the code for Holberton School students.\n",
    " *\n",
    " * Return: Always 0.\n",
    " */\n",
    "int main(void)\n",
    "{\n",
    "\ttest_isalpha('H');\n",
    "\treturn (0);\n",
    "}"
   ]
  },
  {
   "cell_type": "code",
   "execution_count": 73,
   "metadata": {},
   "outputs": [
    {
     "name": "stdout",
     "output_type": "stream",
     "text": [
      "Overwriting 0x02-functions_nested_loops/main_1.c\n"
     ]
    }
   ],
   "source": [
    "%%file 0x02-functions_nested_loops/main_1.c\n",
    "#include \"main.h\"\n",
    "\n",
    "/**\n",
    " * test_isalpha - Test the _isalpha function\n",
    " *\n",
    " * @n: Number to pass to _isalpha function\n",
    " */\n",
    "void test_isalpha(int n)\n",
    "{\n",
    "\tint r;\n",
    "\n",
    "\tr = _isalpha(n);\n",
    "\t_putchar(r + '0');\n",
    "\t_putchar('\\n');\n",
    "}\n",
    "\n",
    "/**\n",
    " * main - check the code for Holberton School students.\n",
    " *\n",
    " * Return: Always 0.\n",
    " */\n",
    "int main(void)\n",
    "{\n",
    "\ttest_isalpha('o');\n",
    "\treturn (0);\n",
    "}"
   ]
  },
  {
   "cell_type": "code",
   "execution_count": 74,
   "metadata": {},
   "outputs": [
    {
     "name": "stdout",
     "output_type": "stream",
     "text": [
      "Overwriting 0x02-functions_nested_loops/main_2.c\n"
     ]
    }
   ],
   "source": [
    "%%file 0x02-functions_nested_loops/main_2.c\n",
    "#include \"main.h\"\n",
    "\n",
    "/**\n",
    " * test_isalpha - Test the _isalpha function\n",
    " *\n",
    " * @n: Number to pass to _isalpha function\n",
    " */\n",
    "void test_isalpha(int n)\n",
    "{\n",
    "\tint r;\n",
    "\n",
    "\tr = _isalpha(n);\n",
    "\t_putchar(r + '0');\n",
    "\t_putchar('\\n');\n",
    "}\n",
    "\n",
    "/**\n",
    " * main - check the code for Holberton School students.\n",
    " *\n",
    " * Return: Always 0.\n",
    " */\n",
    "int main(void)\n",
    "{\n",
    "\ttest_isalpha(108);\n",
    "\treturn (0);\n",
    "}"
   ]
  },
  {
   "cell_type": "code",
   "execution_count": 75,
   "metadata": {},
   "outputs": [
    {
     "name": "stdout",
     "output_type": "stream",
     "text": [
      "Overwriting 0x02-functions_nested_loops/main_3.c\n"
     ]
    }
   ],
   "source": [
    "%%file 0x02-functions_nested_loops/main_3.c\n",
    "#include \"main.h\"\n",
    "\n",
    "/**\n",
    " * test_isalpha - Test the _isalpha function\n",
    " *\n",
    " * @n: Number to pass to _isalpha function\n",
    " */\n",
    "void test_isalpha(int n)\n",
    "{\n",
    "\tint r;\n",
    "\n",
    "\tr = _isalpha(n);\n",
    "\t_putchar(r + '0');\n",
    "\t_putchar('\\n');\n",
    "}\n",
    "\n",
    "/**\n",
    " * main - check the code for Holberton School students.\n",
    " *\n",
    " * Return: Always 0.\n",
    " */\n",
    "int main(void)\n",
    "{\n",
    "\ttest_isalpha(';');\n",
    "\treturn (0);\n",
    "}"
   ]
  },
  {
   "cell_type": "code",
   "execution_count": 76,
   "metadata": {},
   "outputs": [
    {
     "name": "stdout",
     "output_type": "stream",
     "text": [
      "Overwriting 0x02-functions_nested_loops/main_4.c\n"
     ]
    }
   ],
   "source": [
    "%%file 0x02-functions_nested_loops/main_4.c\n",
    "#include \"main.h\"\n",
    "\n",
    "/**\n",
    " * test_isalpha - Test the _isalpha function\n",
    " *\n",
    " * @n: Number to pass to _isalpha function\n",
    " */\n",
    "void test_isalpha(int n)\n",
    "{\n",
    "\tint r;\n",
    "\n",
    "\tr = _isalpha(n);\n",
    "\t_putchar(r + '0');\n",
    "\t_putchar('\\n');\n",
    "}\n",
    "\n",
    "/**\n",
    " * main - check the code for Holberton School students.\n",
    " *\n",
    " * Return: Always 0.\n",
    " */\n",
    "int main(void)\n",
    "{\n",
    "\ttest_isalpha('C');\n",
    "\treturn (0);\n",
    "}"
   ]
  },
  {
   "cell_type": "code",
   "execution_count": 77,
   "metadata": {},
   "outputs": [
    {
     "name": "stdout",
     "output_type": "stream",
     "text": [
      "Overwriting 0x02-functions_nested_loops/main_5.c\n"
     ]
    }
   ],
   "source": [
    "%%file 0x02-functions_nested_loops/main_5.c\n",
    "#include \"main.h\"\n",
    "\n",
    "/**\n",
    " * test_isalpha - Test the _isalpha function\n",
    " *\n",
    " * @n: Number to pass to _isalpha function\n",
    " */\n",
    "void test_isalpha(int n)\n",
    "{\n",
    "\tint r;\n",
    "\n",
    "\tr = _isalpha(n);\n",
    "\t_putchar(r + '0');\n",
    "\t_putchar('\\n');\n",
    "}\n",
    "\n",
    "/**\n",
    " * main - check the code for Holberton School students.\n",
    " *\n",
    " * Return: Always 0.\n",
    " */\n",
    "int main(void)\n",
    "{\n",
    "\ttest_isalpha('i');\n",
    "\treturn (0);\n",
    "}"
   ]
  },
  {
   "cell_type": "code",
   "execution_count": 78,
   "metadata": {},
   "outputs": [
    {
     "name": "stdout",
     "output_type": "stream",
     "text": [
      "Overwriting 0x02-functions_nested_loops/main_6.c\n"
     ]
    }
   ],
   "source": [
    "%%file 0x02-functions_nested_loops/main_6.c\n",
    "#include \"main.h\"\n",
    "\n",
    "/**\n",
    " * test_isalpha - Test the _isalpha function\n",
    " *\n",
    " * @n: Number to pass to _isalpha function\n",
    " */\n",
    "void test_isalpha(int n)\n",
    "{\n",
    "\tint r;\n",
    "\n",
    "\tr = _isalpha(n);\n",
    "\t_putchar(r + '0');\n",
    "\t_putchar('\\n');\n",
    "}\n",
    "\n",
    "/**\n",
    " * main - check the code for Holberton School students.\n",
    " *\n",
    " * Return: Always 0.\n",
    " */\n",
    "int main(void)\n",
    "{\n",
    "\ttest_isalpha('s');\n",
    "\treturn (0);\n",
    "}"
   ]
  },
  {
   "cell_type": "code",
   "execution_count": null,
   "metadata": {},
   "outputs": [],
   "source": [
    "%%file 0x02-functions_nested_loops/main_7.c\n",
    "#include \"main.h\"\n",
    "\n",
    "/**\n",
    " * test_isalpha - Test the _isalpha function\n",
    " *\n",
    " * @n: Number to pass to _isalpha function\n",
    " */\n",
    "void test_isalpha(int n)\n",
    "{\n",
    "\tint r;\n",
    "\n",
    "\tr = _isalpha(n);\n",
    "\t_putchar(r + '0');\n",
    "\t_putchar('\\n');\n",
    "}\n",
    "\n",
    "/**\n",
    " * main - check the code for Holberton School students.\n",
    " *\n",
    " * Return: Always 0.\n",
    " */\n",
    "int main(void)\n",
    "{\n",
    "\ttest_isalpha('F');\n",
    "\treturn (0);\n",
    "}"
   ]
  },
  {
   "cell_type": "code",
   "execution_count": 79,
   "metadata": {},
   "outputs": [
    {
     "name": "stdout",
     "output_type": "stream",
     "text": [
      "Overwriting 0x02-functions_nested_loops/main_8.c\n"
     ]
    }
   ],
   "source": [
    "%%file 0x02-functions_nested_loops/main_8.c\n",
    "#include \"main.h\"\n",
    "\n",
    "/**\n",
    " * test_isalpha - Test the _isalpha function\n",
    " *\n",
    " * @n: Number to pass to _isalpha function\n",
    " */\n",
    "void test_isalpha(int n)\n",
    "{\n",
    "\tint r;\n",
    "\n",
    "\tr = _isalpha(n);\n",
    "\t_putchar(r + '0');\n",
    "\t_putchar('\\n');\n",
    "}\n",
    "\n",
    "/**\n",
    " * main - check the code for Holberton School students.\n",
    " *\n",
    " * Return: Always 0.\n",
    " */\n",
    "int main(void)\n",
    "{\n",
    "\ttest_isalpha('9');\n",
    "\treturn (0);\n",
    "}"
   ]
  },
  {
   "cell_type": "code",
   "execution_count": 80,
   "metadata": {},
   "outputs": [
    {
     "name": "stdout",
     "output_type": "stream",
     "text": [
      "Overwriting 0x02-functions_nested_loops/main_9.c\n"
     ]
    }
   ],
   "source": [
    "%%file 0x02-functions_nested_loops/main_9.c\n",
    "#include \"main.h\"\n",
    "\n",
    "/**\n",
    " * test_isalpha - Test the _isalpha function\n",
    " *\n",
    " * @n: Number to pass to _isalpha function\n",
    " */\n",
    "void test_isalpha(int n)\n",
    "{\n",
    "\tint r;\n",
    "\n",
    "\tr = _isalpha(n);\n",
    "\t_putchar(r + '0');\n",
    "\t_putchar('\\n');\n",
    "}\n",
    "\n",
    "/**\n",
    " * main - check the code for Holberton School students.\n",
    " *\n",
    " * Return: Always 0.\n",
    " */\n",
    "int main(void)\n",
    "{\n",
    "\ttest_isalpha('M');\n",
    "\treturn (0);\n",
    "}"
   ]
  },
  {
   "cell_type": "code",
   "execution_count": 81,
   "metadata": {},
   "outputs": [
    {
     "name": "stdout",
     "output_type": "stream",
     "text": [
      "Overwriting 0x02-functions_nested_loops/main_10.c\n"
     ]
    }
   ],
   "source": [
    "%%file 0x02-functions_nested_loops/main_10.c\n",
    "#include \"main.h\"\n",
    "\n",
    "/**\n",
    " * test_isalpha - Test the _isalpha function\n",
    " *\n",
    " * @n: Number to pass to _isalpha function\n",
    " */\n",
    "void test_isalpha(int n)\n",
    "{\n",
    "\tint r;\n",
    "\n",
    "\tr = _isalpha(n);\n",
    "\t_putchar(r + '0');\n",
    "\t_putchar('\\n');\n",
    "}\n",
    "\n",
    "/**\n",
    " * main - check the code for Holberton School students.\n",
    " *\n",
    " * Return: Always 0.\n",
    " */\n",
    "int main(void)\n",
    "{\n",
    "\ttest_isalpha('&');\n",
    "\treturn (0);\n",
    "}"
   ]
  },
  {
   "cell_type": "code",
   "execution_count": 82,
   "metadata": {},
   "outputs": [
    {
     "name": "stdout",
     "output_type": "stream",
     "text": [
      "Overwriting 0x02-functions_nested_loops/main_0.c\n"
     ]
    }
   ],
   "source": [
    "%%file 0x02-functions_nested_loops/main_0.c\n",
    "#include \"main.h\"\n",
    "\n",
    "/**\n",
    " * test_isalpha - Test the _isalpha function\n",
    " *\n",
    " * @n: Number to pass to _isalpha function\n",
    " */\n",
    "void test_isalpha(int n)\n",
    "{\n",
    "\tint r;\n",
    "\n",
    "\tr = _isalpha(n);\n",
    "\t_putchar(r + '0');\n",
    "\t_putchar('\\n');\n",
    "}\n",
    "\n",
    "/**\n",
    " * main - check the code for Holberton School students.\n",
    " *\n",
    " * Return: Always 0.\n",
    " */\n",
    "int main(void)\n",
    "{\n",
    "\ttest_isalpha('H');\n",
    "\treturn (0);\n",
    "}"
   ]
  },
  {
   "cell_type": "code",
   "execution_count": 113,
   "metadata": {},
   "outputs": [
    {
     "name": "stdout",
     "output_type": "stream",
     "text": [
      "Overwriting 0x02-functions_nested_loops/4-main.c\n"
     ]
    }
   ],
   "source": [
    "%%file 0x02-functions_nested_loops/4-main.c \n",
    "#include \"main.h\"\n",
    "\n",
    "/**\n",
    " * main - check the code.\n",
    " *\n",
    " * Return: Always 0.\n",
    " */\n",
    "int main(void)\n",
    "{\n",
    "    int r;\n",
    "\n",
    "    r = _isalpha('H');\n",
    "    _putchar(r + '0');\n",
    "    r = _isalpha('o');\n",
    "    _putchar(r + '0');\n",
    "    r = _isalpha(108);\n",
    "    _putchar(r + '0');\n",
    "    r = _isalpha(';');\n",
    "    _putchar(r + '0');\n",
    "    _putchar('\\n');\n",
    "    return (0);\n",
    "}"
   ]
  },
  {
   "cell_type": "code",
   "execution_count": 114,
   "metadata": {},
   "outputs": [
    {
     "name": "stdout",
     "output_type": "stream",
     "text": [
      "Overwriting 0x02-functions_nested_loops/main.h\n"
     ]
    }
   ],
   "source": [
    "%%file 0x02-functions_nested_loops/main.h\n",
    "#ifndef MAIN_H\n",
    "#define MAIN_H\n",
    "\n",
    "#include <stdio.h>\n",
    "\n",
    "int _putchar(char x);\n",
    "void print_alphabet(void);\n",
    "void print_alphabet_x10(void);\n",
    "int _islower(int x);\n",
    "int _isalpha(int x);\n",
    "\n",
    "#endif"
   ]
  },
  {
   "cell_type": "code",
   "execution_count": 116,
   "metadata": {},
   "outputs": [
    {
     "name": "stdout",
     "output_type": "stream",
     "text": [
      "\n",
      "========== 0x02-functions_nested_loops/4-isalpha.c ==========\n"
     ]
    },
    {
     "name": "stdout",
     "output_type": "stream",
     "text": [
      "_isalpha\n",
      "1110\n"
     ]
    }
   ],
   "source": [
    "%%bash\n",
    "betty 0x02-functions_nested_loops/4-isalpha.c\n",
    "gcc -Wall -pedantic -Werror -Wextra -std=gnu89 0x02-functions_nested_loops/_putchar.c 0x02-functions_nested_loops/4-main.c 0x02-functions_nested_loops/4-isalpha.c -o 0x02-functions_nested_loops/4-isalpha\n",
    "./0x02-functions_nested_loops/4-isalpha"
   ]
  },
  {
   "cell_type": "code",
   "execution_count": 83,
   "metadata": {},
   "outputs": [
    {
     "name": "stdout",
     "output_type": "stream",
     "text": [
      "[main d115788] 0x02-shell_redirections/4-lastlines\n",
      " 13 files changed, 1422 insertions(+), 101 deletions(-)\n",
      " create mode 100644 0x02-functions_nested_loops/main.c\n",
      " create mode 100644 0x02-functions_nested_loops/main_0.c\n",
      " create mode 100644 0x02-functions_nested_loops/main_1.c\n",
      " create mode 100644 0x02-functions_nested_loops/main_10.c\n",
      " create mode 100644 0x02-functions_nested_loops/main_2.c\n",
      " create mode 100644 0x02-functions_nested_loops/main_3.c\n",
      " create mode 100644 0x02-functions_nested_loops/main_4.c\n",
      " create mode 100644 0x02-functions_nested_loops/main_5.c\n",
      " create mode 100644 0x02-functions_nested_loops/main_6.c\n",
      " create mode 100644 0x02-functions_nested_loops/main_7.c\n",
      " create mode 100644 0x02-functions_nested_loops/main_8.c\n",
      " create mode 100644 0x02-functions_nested_loops/main_9.c\n",
      "Enumerating objects: 19, done.\n",
      "Counting objects: 100% (19/19), done.\n",
      "Delta compression using up to 12 threads\n",
      "Compressing objects: 100% (16/16), done.\n",
      "Writing objects: 100% (16/16), 2.30 KiB | 1.15 MiB/s, done.\n",
      "Total 16 (delta 13), reused 0 (delta 0)\n",
      "remote: Resolving deltas: 100% (13/13), completed with 3 local objects.\u001b[K\n",
      "To https://github.com/elkomysara/alx-low_level_programming.git\n",
      "   9ac6183..d115788  main -> main\n",
      "Branch 'main' set up to track remote branch 'main' from 'origin'.\n"
     ]
    }
   ],
   "source": [
    "!git add .\n",
    "!git commit -m \"0x02-shell_redirections/4-lastlines\"\n",
    "!git push -u origin main"
   ]
  },
  {
   "cell_type": "markdown",
   "metadata": {},
   "source": [
    "### \n",
    "\n",
    "\n",
    "---\n",
    "<center>\n",
    "<h4> 5. Sign</h4>\n",
    "</center>\n",
    "\n",
    "---"
   ]
  },
  {
   "cell_type": "markdown",
   "metadata": {},
   "source": [
    "##### Write a function that prints the sign of a number.\n",
    "\n",
    "* Prototype: `int print_sign(int n)`;\n",
    "* Returns `1` and prints `+` if `n` is greater than zero\n",
    "* Returns `0` and prints `0` if `n` is zero\n",
    "* Returns `-1` and prints `-` if `n` is less than zero\n",
    "\n",
    "```bash\n",
    "julien@ubuntu:~/0x02$ cat 5-main.c\n",
    "#include \"main.h\"\n",
    "\n",
    "/**\n",
    " * main - check the code.\n",
    " *\n",
    " * Return: Always 0.\n",
    " */\n",
    "int main(void)\n",
    "{\n",
    "    int r;\n",
    "\n",
    "    r = print_sign(98);\n",
    "    _putchar(',');\n",
    "    _putchar(' ');\n",
    "    _putchar(r + '0');\n",
    "    _putchar('\\n');\n",
    "    r = print_sign(0);\n",
    "    _putchar(',');\n",
    "    _putchar(' ');\n",
    "    _putchar(r + '0');\n",
    "    _putchar('\\n');\n",
    "    r = print_sign(0xff);\n",
    "    _putchar(',');\n",
    "    _putchar(' ');\n",
    "    _putchar(r + '0');\n",
    "    _putchar('\\n');\n",
    "    r = print_sign(-1);\n",
    "    _putchar(',');\n",
    "    _putchar(' ');\n",
    "    _putchar(r + '0');\n",
    "    _putchar('\\n');\n",
    "    return (0);\n",
    "}\n",
    "julien@ubuntu:~/0x02$ gcc -Wall -pedantic -Werror -Wextra -std=gnu89 _putchar.c 5-main.c 5-sign.c -o 5-sign\n",
    "julien@ubuntu:~/0x02$ ./5-sign \n",
    "+, 1\n",
    "0, 0\n",
    "+, 1\n",
    "-, /\n",
    "julien@ubuntu:~/0x02$   \n",
    "```\n",
    "\n",
    "##### Repo:\n",
    "\n",
    "* GitHub repository: `alx-low_level_programming`\n",
    "* Directory: `0x02-functions_nested_loops`\n",
    "* File: `5-sign.c`"
   ]
  },
  {
   "cell_type": "code",
   "execution_count": 142,
   "metadata": {},
   "outputs": [
    {
     "name": "stdout",
     "output_type": "stream",
     "text": [
      "Overwriting 0x02-functions_nested_loops/5-sign.c\n"
     ]
    }
   ],
   "source": [
    "%%file 0x02-functions_nested_loops/5-sign.c\n",
    "#include \"main.h\"\n",
    "/**\n",
    "* print_sign - Entry point\n",
    "* @x: parameter\n",
    "* Return: Always 0 (Success)\n",
    "*/\n",
    "\n",
    "int print_sign(int x)\n",
    "{\n",
    "if (x > 0)\n",
    "{\n",
    "_putchar('+');\n",
    "return (1);\n",
    "}\n",
    "else if (x == 0)\n",
    "{\n",
    "_putchar(0 + '0');\n",
    "return (0);\n",
    "}\n",
    "else if (x < 0)\n",
    "{\n",
    "_putchar('-');\n",
    "\n",
    "}\n",
    "return (-1);\n",
    "}\n",
    "\n"
   ]
  },
  {
   "cell_type": "code",
   "execution_count": 143,
   "metadata": {},
   "outputs": [
    {
     "name": "stdout",
     "output_type": "stream",
     "text": [
      "Overwriting 0x02-functions_nested_loops/5-main.c\n"
     ]
    }
   ],
   "source": [
    "%%file 0x02-functions_nested_loops/5-main.c\n",
    "#include \"main.h\"\n",
    "\n",
    "/**\n",
    " * main - check the code.\n",
    " *\n",
    " * Return: Always 0.\n",
    " */\n",
    "int main(void)\n",
    "{\n",
    "    int r;\n",
    "\n",
    "    r = print_sign(98);\n",
    "    _putchar(',');\n",
    "    _putchar(' ');\n",
    "    _putchar(r + '0');\n",
    "    _putchar('\\n');\n",
    "    r = print_sign(0);\n",
    "    _putchar(',');\n",
    "    _putchar(' ');\n",
    "    _putchar(r + '0');\n",
    "    _putchar('\\n');\n",
    "    r = print_sign(0xff);\n",
    "    _putchar(',');\n",
    "    _putchar(' ');\n",
    "    _putchar(r + '0');\n",
    "    _putchar('\\n');\n",
    "    r = print_sign(-1);\n",
    "    _putchar(',');\n",
    "    _putchar(' ');\n",
    "    _putchar(r + '0');\n",
    "    _putchar('\\n');\n",
    "    return (0);\n",
    "}"
   ]
  },
  {
   "cell_type": "code",
   "execution_count": 144,
   "metadata": {},
   "outputs": [
    {
     "name": "stdout",
     "output_type": "stream",
     "text": [
      "Overwriting 0x02-functions_nested_loops/main.h\n"
     ]
    }
   ],
   "source": [
    "%%file 0x02-functions_nested_loops/main.h\n",
    "#ifndef MAIN_H\n",
    "#define MAIN_H\n",
    "\n",
    "#include <stdio.h>\n",
    "\n",
    "int _putchar(char x);\n",
    "void print_alphabet(void);\n",
    "void print_alphabet_x10(void);\n",
    "int _islower(int x);\n",
    "int _isalpha(int x);\n",
    "int print_sign(int x);\n",
    "\n",
    "#endif"
   ]
  },
  {
   "cell_type": "code",
   "execution_count": 145,
   "metadata": {},
   "outputs": [
    {
     "name": "stdout",
     "output_type": "stream",
     "text": [
      "\n",
      "========== 0x02-functions_nested_loops/5-sign.c ==========\n",
      "print_sign\n",
      "+, 1\n",
      "0, 0\n",
      "+, 1\n",
      "-, /\n"
     ]
    }
   ],
   "source": [
    "%%bash\n",
    "betty 0x02-functions_nested_loops/5-sign.c\n",
    "gcc -Wall -pedantic -Werror -Wextra -std=gnu89 0x02-functions_nested_loops/_putchar.c 0x02-functions_nested_loops/5-main.c 0x02-functions_nested_loops/5-sign.c -o 0x02-functions_nested_loops/5-sign\n",
    "./0x02-functions_nested_loops/5-sign"
   ]
  },
  {
   "cell_type": "code",
   "execution_count": 146,
   "metadata": {},
   "outputs": [
    {
     "name": "stdout",
     "output_type": "stream",
     "text": [
      "[main d97edee] 0x02-functions_nested_loops/5-print_numbers.c\n",
      " 3 files changed, 31 insertions(+), 50 deletions(-)\n",
      " create mode 100755 0x02-functions_nested_loops/5-sign\n"
     ]
    },
    {
     "name": "stderr",
     "output_type": "stream",
     "text": [
      "To https://github.com/elkomysara/alx-low_level_programming.git\n",
      "   3fce7fc..d97edee  main -> main\n"
     ]
    }
   ],
   "source": [
    "%%bash\n",
    "git add .\n",
    "git commit -m \"0x02-functions_nested_loops/5-print_numbers.c\"\n",
    "git push"
   ]
  },
  {
   "cell_type": "code",
   "execution_count": 84,
   "metadata": {},
   "outputs": [
    {
     "name": "stdout",
     "output_type": "stream",
     "text": [
      "Overwriting 0x02-functions_nested_loops/main_0.c\n"
     ]
    }
   ],
   "source": [
    "%%file 0x02-functions_nested_loops/main_0.c\n",
    "#include <limits.h>\n",
    "#include \"main.h\"\n",
    "\n",
    "/**\n",
    " * main - check the code for Holberton School students.\n",
    " *\n",
    " * Return: Always 0.\n",
    " */\n",
    "int main(void)\n",
    "{\n",
    "\tint r;\n",
    "\n",
    "\tr = print_sign(98);\n",
    "\tif (r < 0)\n",
    "\t\tr *= -1;\n",
    "\t_putchar(r + '0');\n",
    "\t_putchar('\\n');\n",
    "\treturn (0);\n",
    "}"
   ]
  },
  {
   "cell_type": "code",
   "execution_count": null,
   "metadata": {},
   "outputs": [
    {
     "name": "stdout",
     "output_type": "stream",
     "text": [
      "Overwriting 0x02-functions_nested_loops/main_0.c\n"
     ]
    }
   ],
   "source": [
    "%%file 0x02-functions_nested_loops/main_0.c\n",
    "#include <limits.h>\n",
    "#include \"main.h\"\n",
    "\n",
    "/**\n",
    " * main - check the code for Holberton School students.\n",
    " *\n",
    " * Return: Always 0.\n",
    " */\n",
    "int main(void)\n",
    "{\n",
    "\tint r;\n",
    "\n",
    "\tr = print_sign(98);\n",
    "\tif (r < 0)\n",
    "\t\tr *= -1;\n",
    "\t_putchar(r + '0');\n",
    "\t_putchar('\\n');\n",
    "\treturn (0);\n",
    "}"
   ]
  },
  {
   "cell_type": "code",
   "execution_count": 85,
   "metadata": {},
   "outputs": [
    {
     "name": "stdout",
     "output_type": "stream",
     "text": [
      "Overwriting 0x02-functions_nested_loops/main_1.c\n"
     ]
    }
   ],
   "source": [
    "%%file 0x02-functions_nested_loops/main_1.c\n",
    "#include <limits.h>\n",
    "#include \"main.h\"\n",
    "\n",
    "/**\n",
    " * main - check the code for Holberton School students.\n",
    " *\n",
    " * Return: Always 0.\n",
    " */\n",
    "int main(void)\n",
    "{\n",
    "\tint r;\n",
    "\n",
    "\tr = print_sign(0);\n",
    "\tif (r < 0)\n",
    "\t\tr *= -1;\n",
    "\t_putchar(r + '0');\n",
    "\t_putchar('\\n');\n",
    "\treturn (0);\n",
    "}"
   ]
  },
  {
   "cell_type": "code",
   "execution_count": 86,
   "metadata": {},
   "outputs": [
    {
     "name": "stdout",
     "output_type": "stream",
     "text": [
      "Overwriting 0x02-functions_nested_loops/main_2.c\n"
     ]
    }
   ],
   "source": [
    "%%file 0x02-functions_nested_loops/main_2.c\n",
    "#include <limits.h>\n",
    "#include \"main.h\"\n",
    "\n",
    "/**\n",
    " * main - check the code for Holberton School students.\n",
    " *\n",
    " * Return: Always 0.\n",
    " */\n",
    "int main(void)\n",
    "{\n",
    "\tint r;\n",
    "\n",
    "\tr = print_sign(0xff);\n",
    "\tif (r < 0)\n",
    "\t\tr *= -1;\n",
    "\t_putchar(r + '0');\n",
    "\t_putchar('\\n');\n",
    "\treturn (0);\n",
    "}"
   ]
  },
  {
   "cell_type": "code",
   "execution_count": 87,
   "metadata": {},
   "outputs": [
    {
     "name": "stdout",
     "output_type": "stream",
     "text": [
      "Overwriting 0x02-functions_nested_loops/main_3.c\n"
     ]
    }
   ],
   "source": [
    "%%file 0x02-functions_nested_loops/main_3.c\n",
    "#include <limits.h>\n",
    "#include \"main.h\"\n",
    "\n",
    "/**\n",
    " * main - check the code for Holberton School students.\n",
    " *\n",
    " * Return: Always 0.\n",
    " */\n",
    "int main(void)\n",
    "{\n",
    "\tint r;\n",
    "\n",
    "\tr = print_sign(-1);\n",
    "\tif (r < 0)\n",
    "\t\tr *= -1;\n",
    "\t_putchar(r + '0');\n",
    "\t_putchar('\\n');\n",
    "\treturn (0);\n",
    "}"
   ]
  },
  {
   "cell_type": "code",
   "execution_count": null,
   "metadata": {},
   "outputs": [
    {
     "name": "stdout",
     "output_type": "stream",
     "text": [
      "Overwriting 0x02-functions_nested_loops/main_3.c\n"
     ]
    }
   ],
   "source": [
    "%%file 0x02-functions_nested_loops/main_4.c\n",
    "#include <limits.h>\n",
    "#include \"main.h\"\n",
    "\n",
    "/**\n",
    " * main - check the code for Holberton School students.\n",
    " *\n",
    " * Return: Always 0.\n",
    " */\n",
    "int main(void)\n",
    "{\n",
    "\tint r;\n",
    "\n",
    "\tr = print_sign(99);\n",
    "\tif (r < 0)\n",
    "\t\tr *= -1;\n",
    "\t_putchar(r + '0');\n",
    "\t_putchar('\\n');\n",
    "\treturn (0);\n",
    "}"
   ]
  },
  {
   "cell_type": "code",
   "execution_count": null,
   "metadata": {},
   "outputs": [
    {
     "name": "stdout",
     "output_type": "stream",
     "text": [
      "Overwriting 0x02-functions_nested_loops/main_3.c\n"
     ]
    }
   ],
   "source": [
    "%%file 0x02-functions_nested_loops/main_4.c\n",
    "#include <limits.h>\n",
    "#include \"main.h\"\n",
    "\n",
    "/**\n",
    " * main - check the code for Holberton School students.\n",
    " *\n",
    " * Return: Always 0.\n",
    " */\n",
    "int main(void)\n",
    "{\n",
    "\tint r;\n",
    "\n",
    "\tr = print_sign(99);\n",
    "\tif (r < 0)\n",
    "\t\tr *= -1;\n",
    "\t_putchar(r + '0');\n",
    "\t_putchar('\\n');\n",
    "\treturn (0);\n",
    "}"
   ]
  },
  {
   "cell_type": "code",
   "execution_count": 88,
   "metadata": {},
   "outputs": [
    {
     "name": "stdout",
     "output_type": "stream",
     "text": [
      "Overwriting 0x02-functions_nested_loops/main_5.c\n"
     ]
    }
   ],
   "source": [
    "%%file 0x02-functions_nested_loops/main_5.c\n",
    "#include <limits.h>\n",
    "#include \"main.h\"\n",
    "\n",
    "/**\n",
    " * main - check the code for Holberton School students.\n",
    " *\n",
    " * Return: Always 0.\n",
    " */\n",
    "int main(void)\n",
    "{\n",
    "\tint r;\n",
    "\n",
    "\tr = print_sign(INT_MAX);\n",
    "\tif (r < 0)\n",
    "\t\tr *= -1;\n",
    "\t_putchar(r + '0');\n",
    "\t_putchar('\\n');\n",
    "\treturn (0);\n",
    "}"
   ]
  },
  {
   "cell_type": "code",
   "execution_count": null,
   "metadata": {},
   "outputs": [
    {
     "name": "stdout",
     "output_type": "stream",
     "text": [
      "Overwriting 0x02-functions_nested_loops/main_5.c\n"
     ]
    }
   ],
   "source": [
    "%%file 0x02-functions_nested_loops/main_6.c\n",
    "#include <limits.h>\n",
    "#include \"main.h\"\n",
    "\n",
    "/**\n",
    " * main - check the code for Holberton School students.\n",
    " *\n",
    " * Return: Always 0.\n",
    " */\n",
    "int main(void)\n",
    "{\n",
    "\tint r;\n",
    "\n",
    "\tr = print_sign(INT_MAX);\n",
    "\tif (r < 0)\n",
    "\t\tr *= -1;\n",
    "\t_putchar(r + '0');\n",
    "\t_putchar('\\n');\n",
    "\treturn (0);\n",
    "}"
   ]
  },
  {
   "cell_type": "code",
   "execution_count": 89,
   "metadata": {},
   "outputs": [
    {
     "name": "stdout",
     "output_type": "stream",
     "text": [
      "Overwriting 0x02-functions_nested_loops/main_6.c\n"
     ]
    }
   ],
   "source": [
    "%%file 0x02-functions_nested_loops/main_6.c\n",
    "#include <limits.h>\n",
    "#include \"main.h\"\n",
    "\n",
    "/**\n",
    " * main - check the code for Holberton School students.\n",
    " *\n",
    " * Return: Always 0.\n",
    " */\n",
    "int main(void)\n",
    "{\n",
    "\tint r;\n",
    "\n",
    "\tr = print_sign(INT_MAX);\n",
    "\tif (r < 0)\n",
    "\t\tr *= -1;\n",
    "\t_putchar(r + '0');\n",
    "\t_putchar('\\n');\n",
    "\treturn (0);\n",
    "}"
   ]
  },
  {
   "cell_type": "code",
   "execution_count": 90,
   "metadata": {},
   "outputs": [
    {
     "name": "stdout",
     "output_type": "stream",
     "text": [
      "Overwriting 0x02-functions_nested_loops/main_7.c\n"
     ]
    }
   ],
   "source": [
    "%%file 0x02-functions_nested_loops/main_7.c\n",
    "#include <limits.h>\n",
    "#include \"main.h\"\n",
    "\n",
    "/**\n",
    " * main - check the code for Holberton School students.\n",
    " *\n",
    " * Return: Always 0.\n",
    " */\n",
    "int main(void)\n",
    "{\n",
    "\tint r;\n",
    "\n",
    "\tr = print_sign(-4);\n",
    "\tif (r < 0)\n",
    "\t\tr *= -1;\n",
    "\t_putchar(r + '0');\n",
    "\t_putchar('\\n');\n",
    "\treturn (0);\n",
    "}"
   ]
  },
  {
   "cell_type": "code",
   "execution_count": null,
   "metadata": {},
   "outputs": [],
   "source": []
  },
  {
   "cell_type": "markdown",
   "metadata": {},
   "source": [
    "### \n",
    "\n",
    "\n",
    "---\n",
    "<center>\n",
    "<h4> 6. There is no such thing as absolute value in this world. You can only estimate what a thing is worth to you </h4>\n",
    "</center>\n",
    "\n",
    "---"
   ]
  },
  {
   "cell_type": "markdown",
   "metadata": {},
   "source": [
    "##### Write a function that computes the absolute value of an integer.\n",
    "\n",
    "* Prototype: `int _abs(int);`\n",
    "\n",
    "FYI: The standard library provides a similar function: `abs.` Run `man abs` to learn more.\n",
    "\n",
    "```bash\n",
    "julien@ubuntu:~/0x02$ cat 6-main.c\n",
    "#include \"main.h\"\n",
    "#include <stdio.h>\n",
    "\n",
    "/**\n",
    " * main - check the code\n",
    " *\n",
    " * Return: Always 0.\n",
    " */\n",
    "int main(void)\n",
    "{\n",
    "    int r;\n",
    "\n",
    "    r = _abs(-1);\n",
    "    printf(\"%d\\n\", r);\n",
    "    r = _abs(0);\n",
    "    printf(\"%d\\n\", r);\n",
    "    r = _abs(1);\n",
    "    printf(\"%d\\n\", r);\n",
    "    r = _abs(-98);\n",
    "    printf(\"%d\\n\", r);\n",
    "    return (0);\n",
    "}\n",
    "julien@ubuntu:~/0x02$ gcc -Wall -pedantic -Werror -Wextra -std=gnu89 _putchar.c 6-main.c 6-abs.c -o 6-abs\n",
    "julien@ubuntu:~/0x02$ ./6-abs \n",
    "1\n",
    "0\n",
    "1\n",
    "98\n",
    "julien@ubuntu:~/0x02$ \n",
    "\n",
    "```\n",
    "\n",
    "#### Repo:\n",
    "\n",
    "* GitHub repository: `alx-low_level_programming`\n",
    "* Directory: `0x02-functions_nested_loops`\n",
    "* File: `6-abs.c`"
   ]
  },
  {
   "cell_type": "code",
   "execution_count": 38,
   "metadata": {},
   "outputs": [
    {
     "name": "stdout",
     "output_type": "stream",
     "text": [
      "Overwriting 0x02-functions_nested_loops/6-abs.c\n"
     ]
    }
   ],
   "source": [
    "%%file 0x02-functions_nested_loops/6-abs.c\n",
    "#include <stdio.h>\n",
    "/**\n",
    " * _abs - computes the absolute value of an integer\n",
    " * @x: the int to check\n",
    " * return: the absolute value of int\n",
    " * Return: Always 0 (Success)\n",
    "*/\n",
    "int _abs(int x)\n",
    "{\n",
    "if (x <= 0)\n",
    "{\n",
    "x = -x;\n",
    "}\n",
    "return (x);\n",
    "}"
   ]
  },
  {
   "cell_type": "code",
   "execution_count": 39,
   "metadata": {},
   "outputs": [
    {
     "name": "stdout",
     "output_type": "stream",
     "text": [
      "Overwriting 0x02-functions_nested_loops/6-main.c\n"
     ]
    }
   ],
   "source": [
    "%%file 0x02-functions_nested_loops/6-main.c\n",
    "#include \"main.h\"\n",
    "#include <stdio.h>\n",
    "\n",
    "/**\n",
    " * main - check the code\n",
    " *\n",
    " * Return: Always 0.\n",
    " */\n",
    "int main(void)\n",
    "{\n",
    "    int r;\n",
    "\n",
    "    r = _abs(-1);\n",
    "    printf(\"%d\\n\", r);\n",
    "    r = _abs(0);\n",
    "    printf(\"%d\\n\", r);\n",
    "    r = _abs(1);\n",
    "    printf(\"%d\\n\", r);\n",
    "    r = _abs(-98);\n",
    "    printf(\"%d\\n\", r);\n",
    "    return (0);\n",
    "}"
   ]
  },
  {
   "cell_type": "code",
   "execution_count": 40,
   "metadata": {},
   "outputs": [
    {
     "name": "stdout",
     "output_type": "stream",
     "text": [
      "Overwriting 0x02-functions_nested_loops/main.h\n"
     ]
    }
   ],
   "source": [
    "%%file 0x02-functions_nested_loops/main.h\n",
    "#ifndef MAIN_H\n",
    "#define MAIN_H\n",
    "\n",
    "#include <stdio.h>\n",
    "\n",
    "int _putchar(char x);\n",
    "void print_alphabet(void);\n",
    "void print_alphabet_x10(void);\n",
    "int _islower(int x);\n",
    "int _isalpha(int x);\n",
    "int print_sign(int x);\n",
    "int _abs(int);\n",
    "#endif"
   ]
  },
  {
   "cell_type": "code",
   "execution_count": 41,
   "metadata": {},
   "outputs": [
    {
     "name": "stdout",
     "output_type": "stream",
     "text": [
      "\n",
      "========== 0x02-functions_nested_loops/6-abs.c ==========\n"
     ]
    },
    {
     "name": "stdout",
     "output_type": "stream",
     "text": [
      "_abs\n",
      "1\n",
      "0\n",
      "1\n",
      "98\n"
     ]
    }
   ],
   "source": [
    "%%bash\n",
    "betty 0x02-functions_nested_loops/6-abs.c\n",
    "gcc -Wall -pedantic -Werror -Wextra -std=gnu89 0x02-functions_nested_loops/_putchar.c 0x02-functions_nested_loops/6-main.c 0x02-functions_nested_loops/6-abs.c -o 0x02-functions_nested_loops/6-abs\n",
    "./0x02-functions_nested_loops/6-abs"
   ]
  },
  {
   "cell_type": "code",
   "execution_count": 42,
   "metadata": {},
   "outputs": [
    {
     "name": "stdout",
     "output_type": "stream",
     "text": [
      "[main 7a241fe] 6\n",
      " 5 files changed, 163 insertions(+), 58 deletions(-)\n",
      " create mode 100755 0x02-functions_nested_loops/6-abs\n",
      " create mode 100644 0x02-functions_nested_loops/6-abs.c\n",
      " create mode 100644 0x02-functions_nested_loops/6-main.c\n"
     ]
    },
    {
     "name": "stderr",
     "output_type": "stream",
     "text": [
      "To https://github.com/elkomysara/alx-low_level_programming.git\n",
      "   d97edee..7a241fe  main -> main\n"
     ]
    }
   ],
   "source": [
    "%%bash\n",
    "git add .\n",
    "git commit -m \"6\"\n",
    "git push"
   ]
  },
  {
   "cell_type": "code",
   "execution_count": 91,
   "metadata": {},
   "outputs": [
    {
     "name": "stdout",
     "output_type": "stream",
     "text": [
      "Overwriting 0x02-functions_nested_loops/main_0.c\n"
     ]
    }
   ],
   "source": [
    "%%file 0x02-functions_nested_loops/main_0.c\n",
    "#include <stdio.h>\n",
    "#include <limits.h>\n",
    "#include \"main.h\"\n",
    "\n",
    "/**\n",
    " * main - check the code for Holberton School students.\n",
    " *\n",
    " * Return: Always 0.\n",
    " */\n",
    "int main(void)\n",
    "{\n",
    "\tint r;\n",
    "\n",
    "\tr = _abs(-1);\n",
    "\tprintf(\"%d\\n\", r);\n",
    "\treturn (0);\n",
    "}"
   ]
  },
  {
   "cell_type": "code",
   "execution_count": 92,
   "metadata": {},
   "outputs": [
    {
     "name": "stdout",
     "output_type": "stream",
     "text": [
      "Overwriting 0x02-functions_nested_loops/main_0.c\n"
     ]
    }
   ],
   "source": [
    "%%file 0x02-functions_nested_loops/main_0.c\n",
    "#include <stdio.h>\n",
    "#include <limits.h>\n",
    "#include \"main.h\"\n",
    "\n",
    "/**\n",
    " * main - check the code for Holberton School students.\n",
    " *\n",
    " * Return: Always 0.\n",
    " */\n",
    "int main(void)\n",
    "{\n",
    "\tint r;\n",
    "\n",
    "\tr = _abs(-1);\n",
    "\tprintf(\"%d\\n\", r);\n",
    "\treturn (0);\n",
    "}"
   ]
  },
  {
   "cell_type": "code",
   "execution_count": 93,
   "metadata": {},
   "outputs": [
    {
     "name": "stdout",
     "output_type": "stream",
     "text": [
      "Overwriting 0x02-functions_nested_loops/main_1.c\n"
     ]
    }
   ],
   "source": [
    "%%file 0x02-functions_nested_loops/main_1.c\n",
    "#include <stdio.h>\n",
    "#include <limits.h>\n",
    "#include \"main.h\"\n",
    "\n",
    "/**\n",
    " * main - check the code for Holberton School students.\n",
    " *\n",
    " * Return: Always 0.\n",
    " */\n",
    "int main(void)\n",
    "{\n",
    "\tint r;\n",
    "\n",
    "\tr = _abs(0);\n",
    "\tprintf(\"%d\\n\", r);\n",
    "\treturn (0);\n",
    "}"
   ]
  },
  {
   "cell_type": "code",
   "execution_count": 94,
   "metadata": {},
   "outputs": [
    {
     "name": "stdout",
     "output_type": "stream",
     "text": [
      "Overwriting 0x02-functions_nested_loops/main_2.c\n"
     ]
    }
   ],
   "source": [
    "%%file 0x02-functions_nested_loops/main_2.c\n",
    "#include <stdio.h>\n",
    "#include <limits.h>\n",
    "#include \"main.h\"\n",
    "\n",
    "/**\n",
    " * main - check the code for Holberton School students.\n",
    " *\n",
    " * Return: Always 0.\n",
    " */\n",
    "int main(void)\n",
    "{\n",
    "\tint r;\n",
    "\n",
    "\tr = _abs(1);\n",
    "\tprintf(\"%d\\n\", r);\n",
    "\treturn (0);\n",
    "}"
   ]
  },
  {
   "cell_type": "code",
   "execution_count": 95,
   "metadata": {},
   "outputs": [
    {
     "name": "stdout",
     "output_type": "stream",
     "text": [
      "Overwriting 0x02-functions_nested_loops/main_3.c\n"
     ]
    }
   ],
   "source": [
    "%%file 0x02-functions_nested_loops/main_3.c\n",
    "#include <stdio.h>\n",
    "#include <limits.h>\n",
    "#include \"main.h\"\n",
    "\n",
    "/**\n",
    " * main - check the code for Holberton School students.\n",
    " *\n",
    " * Return: Always 0.\n",
    " */\n",
    "int main(void)\n",
    "{\n",
    "\tint r;\n",
    "\n",
    "\tr = _abs(-98);\n",
    "\tprintf(\"%d\\n\", r);\n",
    "\treturn (0);\n",
    "}"
   ]
  },
  {
   "cell_type": "code",
   "execution_count": 96,
   "metadata": {},
   "outputs": [
    {
     "name": "stdout",
     "output_type": "stream",
     "text": [
      "Overwriting 0x02-functions_nested_loops/main_4.c\n"
     ]
    }
   ],
   "source": [
    "%%file 0x02-functions_nested_loops/main_4.c\n",
    "#include <stdio.h>\n",
    "#include <limits.h>\n",
    "#include \"main.h\"\n",
    "\n",
    "/**\n",
    " * main - check the code for Holberton School students.\n",
    " *\n",
    " * Return: Always 0.\n",
    " */\n",
    "int main(void)\n",
    "{\n",
    "\tint r;\n",
    "\n",
    "\tr = _abs(INT_MAX);\n",
    "\tprintf(\"%d\\n\", r);\n",
    "\treturn (0);\n",
    "}"
   ]
  },
  {
   "cell_type": "code",
   "execution_count": 97,
   "metadata": {},
   "outputs": [
    {
     "name": "stdout",
     "output_type": "stream",
     "text": [
      "Overwriting 0x02-functions_nested_loops/main_5.c\n"
     ]
    }
   ],
   "source": [
    "%%file 0x02-functions_nested_loops/main_5.c\n",
    "#include <stdio.h>\n",
    "#include <limits.h>\n",
    "#include \"main.h\"\n",
    "\n",
    "/**\n",
    " * main - check the code for Holberton School students.\n",
    " *\n",
    " * Return: Always 0.\n",
    " */\n",
    "int main(void)\n",
    "{\n",
    "\tint r;\n",
    "\n",
    "\tr = _abs(INT_MIN);\n",
    "\tprintf(\"%d\\n\", r);\n",
    "\treturn (0);\n",
    "}"
   ]
  },
  {
   "cell_type": "code",
   "execution_count": 98,
   "metadata": {},
   "outputs": [
    {
     "name": "stdout",
     "output_type": "stream",
     "text": [
      "Overwriting 0x02-functions_nested_loops/main_6.c\n"
     ]
    }
   ],
   "source": [
    "%%file 0x02-functions_nested_loops/main_6.c\n",
    "#include <stdio.h>\n",
    "#include <limits.h>\n",
    "#include \"main.h\"\n",
    "\n",
    "/**\n",
    " * main - check the code for Holberton School students.\n",
    " *\n",
    " * Return: Always 0.\n",
    " */\n",
    "int main(void)\n",
    "{\n",
    "\tint r;\n",
    "\n",
    "\tr = _abs(12);\n",
    "\tprintf(\"%d\\n\", r);\n",
    "\treturn (0);\n",
    "}"
   ]
  },
  {
   "cell_type": "code",
   "execution_count": 99,
   "metadata": {},
   "outputs": [
    {
     "name": "stdout",
     "output_type": "stream",
     "text": [
      "Overwriting 0x02-functions_nested_loops/main_7.c\n"
     ]
    }
   ],
   "source": [
    "%%file 0x02-functions_nested_loops/main_7.c\n",
    "#include <stdio.h>\n",
    "#include <limits.h>\n",
    "#include \"main.h\"\n",
    "\n",
    "/**\n",
    " * main - check the code for Holberton School students.\n",
    " *\n",
    " * Return: Always 0.\n",
    " */\n",
    "int main(void)\n",
    "{\n",
    "\tint r;\n",
    "\n",
    "\tr = _abs(0x0F02);\n",
    "\tprintf(\"%d\\n\", r);\n",
    "\treturn (0);\n",
    "}"
   ]
  },
  {
   "cell_type": "markdown",
   "metadata": {},
   "source": [
    "### \n",
    "\n",
    "\n",
    "---\n",
    "<center>\n",
    "<h4> 7. There are only 3 colors, 10 digits, and 7 notes; it's what we do with them that's important </h4>\n",
    "</center>\n",
    "\n",
    "---"
   ]
  },
  {
   "cell_type": "markdown",
   "metadata": {},
   "source": [
    "##### Write a function that prints the last digit of a number.\n",
    "\n",
    "* Prototype: `int print_last_digit(int);`\n",
    "* Returns the value of the last digit\n",
    "\n",
    "```bash\n",
    "julien@ubuntu:~/0x02$ cat 7-main.c\n",
    "#include \"main.h\"\n",
    "/**\n",
    " * main - check the code\n",
    " *\n",
    " * Return: Always 0.\n",
    " */\n",
    "int main(void)\n",
    "{\n",
    "    int r;\n",
    "\n",
    "    print_last_digit(98);\n",
    "    print_last_digit(0);\n",
    "    r = print_last_digit(-1024);\n",
    "    _putchar('0' + r);\n",
    "    _putchar('\\n');\n",
    "    return (0);\n",
    "}\n",
    "julien@ubuntu:~/0x02$ gcc -Wall -pedantic -Werror -Wextra -std=gnu89 _putchar.c 7-main.c 7-print_last_digit.c -o 7-last_digit\n",
    "julien@ubuntu:~/0x02$ ./7-last_digit \n",
    "8044\n",
    "julien@ubuntu:~/0x02$ \n",
    "\n",
    "```\n",
    "#### Repo:\n",
    "\n",
    "* GitHub repository: `alx-low_level_programming`\n",
    "* Directory: `0x02-functions_nested_loops`\n",
    "* File: `7-print_last_digit.c`"
   ]
  },
  {
   "cell_type": "code",
   "execution_count": 54,
   "metadata": {},
   "outputs": [
    {
     "name": "stdout",
     "output_type": "stream",
     "text": [
      "Overwriting 0x02-functions_nested_loops/7-print_last_digit.c\n"
     ]
    }
   ],
   "source": [
    "%%file 0x02-functions_nested_loops/7-print_last_digit.c\n",
    "#include \"main.h\"\n",
    "\n",
    "/**\n",
    " * print_last_digit - prints the last digit of an integer\n",
    " * @x: The int to extract the last digit from\n",
    " * Return: The last digit of x\n",
    " */\n",
    "\n",
    "int print_last_digit(int x)\n",
    "{\n",
    "\n",
    "if (x < 0)\n",
    "{\n",
    "x = -x;\n",
    "}\n",
    "x = x % 10;\n",
    "if (x < 0)\n",
    "{\n",
    "x = -x;\n",
    "}\n",
    "_putchar('0' + x);\n",
    "return (x);\n",
    "}\n"
   ]
  },
  {
   "cell_type": "code",
   "execution_count": 55,
   "metadata": {},
   "outputs": [
    {
     "name": "stdout",
     "output_type": "stream",
     "text": [
      "Overwriting 0x02-functions_nested_loops/7-main.c\n"
     ]
    }
   ],
   "source": [
    "%%file 0x02-functions_nested_loops/7-main.c\n",
    "#include \"main.h\"\n",
    "\n",
    "/**\n",
    " * main - check the code\n",
    " *\n",
    " * Return: Always 0.\n",
    " */\n",
    "int main(void)\n",
    "{\n",
    "    int r;\n",
    "\n",
    "    print_last_digit(98);\n",
    "    print_last_digit(0);\n",
    "    r = print_last_digit(-1024);\n",
    "    _putchar('0' + r);\n",
    "    _putchar('\\n');\n",
    "    return (0);\n",
    "}"
   ]
  },
  {
   "cell_type": "code",
   "execution_count": 56,
   "metadata": {},
   "outputs": [
    {
     "name": "stdout",
     "output_type": "stream",
     "text": [
      "Overwriting 0x02-functions_nested_loops/main.h\n"
     ]
    }
   ],
   "source": [
    "%%file 0x02-functions_nested_loops/main.h\n",
    "#ifndef MAIN_H\n",
    "#define MAIN_H\n",
    "\n",
    "#include <stdio.h>\n",
    "\n",
    "int _putchar(char x);\n",
    "void print_alphabet(void);\n",
    "void print_alphabet_x10(void);\n",
    "int _islower(int x);\n",
    "int _isalpha(int x);\n",
    "int print_sign(int x);\n",
    "int _abs(int);\n",
    "int print_last_digit(int);\n",
    "#endif"
   ]
  },
  {
   "cell_type": "code",
   "execution_count": 57,
   "metadata": {},
   "outputs": [
    {
     "name": "stdout",
     "output_type": "stream",
     "text": [
      "\n",
      "========== 0x02-functions_nested_loops/7-print_last_digit.c ==========\n"
     ]
    },
    {
     "name": "stdout",
     "output_type": "stream",
     "text": [
      "print_last_digit\n",
      "8044\n"
     ]
    }
   ],
   "source": [
    "%%bash\n",
    "betty 0x02-functions_nested_loops/7-print_last_digit.c\n",
    "gcc -Wall -pedantic -Werror -Wextra -std=gnu89 0x02-functions_nested_loops/_putchar.c 0x02-functions_nested_loops/7-main.c 0x02-functions_nested_loops/7-print_last_digit.c -o 0x02-functions_nested_loops/7-print_last_digit\n",
    "./0x02-functions_nested_loops/7-print_last_digit"
   ]
  },
  {
   "cell_type": "code",
   "execution_count": 58,
   "metadata": {},
   "outputs": [
    {
     "name": "stdout",
     "output_type": "stream",
     "text": [
      "[main 9ac6183] 6\n",
      " 3 files changed, 16 insertions(+), 11 deletions(-)\n"
     ]
    },
    {
     "name": "stderr",
     "output_type": "stream",
     "text": [
      "To https://github.com/elkomysara/alx-low_level_programming.git\n",
      "   28c71fd..9ac6183  main -> main\n"
     ]
    }
   ],
   "source": [
    "%%bash\n",
    "git add .\n",
    "git commit -m \"6\"\n",
    "git push"
   ]
  },
  {
   "cell_type": "code",
   "execution_count": 6,
   "metadata": {},
   "outputs": [
    {
     "name": "stdout",
     "output_type": "stream",
     "text": [
      "\n",
      "========== 0x01-variables_if_else_while/7-print_tebahpla.c ==========\n"
     ]
    },
    {
     "name": "stdout",
     "output_type": "stream",
     "text": [
      "main\n",
      "zyxwvutsrqponmlkjihgfedcba\n"
     ]
    }
   ],
   "source": [
    "%%bash\n",
    "betty 0x02-functions_nested_loops/7-print_tebahpla.c\n",
    "gcc -Wall -pedantic -Werror -Wextra -std=gnu89 0x02-functions_nested_loops/7-print_tebahpla.c -o 0x02-functions_nested_loops/7-print_tebahpla\n",
    "./0x02-functions_nested_loops/7-print_tebahpla"
   ]
  },
  {
   "cell_type": "code",
   "execution_count": 7,
   "metadata": {},
   "outputs": [
    {
     "name": "stdout",
     "output_type": "stream",
     "text": [
      "[main bf15c2e] 0x03-shell_variables_expansions/7-create_global_variable\n",
      " 5 files changed, 151 insertions(+), 76 deletions(-)\n",
      " create mode 100755 0x01-variables_if_else_while/6-print_numberz\n",
      " create mode 100644 0x01-variables_if_else_while/6-print_numberz.c\n",
      " create mode 100755 0x01-variables_if_else_while/7-print_tebahpla\n",
      " create mode 100644 0x01-variables_if_else_while/7-print_tebahpla.c\n"
     ]
    },
    {
     "name": "stderr",
     "output_type": "stream",
     "text": [
      "To https://github.com/elkomysara/alx-low_level_programming.git\n",
      "   b54ea56..bf15c2e  main -> main\n"
     ]
    }
   ],
   "source": [
    "%%bash\n",
    "git add .\n",
    "git commit -m \"0x03-shell_variables_expansions/7-create_global_variable\"\n",
    "git push"
   ]
  },
  {
   "cell_type": "code",
   "execution_count": 100,
   "metadata": {},
   "outputs": [
    {
     "name": "stdout",
     "output_type": "stream",
     "text": [
      "Overwriting 0x02-functions_nested_loops/main_0.c\n"
     ]
    }
   ],
   "source": [
    "%%file 0x02-functions_nested_loops/main_0.c\n",
    "#include <limits.h>\n",
    "#include \"main.h\"\n",
    "\n",
    "/**\n",
    " * main - check the code for Holberton School students.\n",
    " *\n",
    " * Return: Always 0.\n",
    " */\n",
    "int main(void)\n",
    "{\n",
    "\tint r;\n",
    "\n",
    "\tr = print_last_digit(98);\n",
    "\t_putchar('0' + r);\n",
    "\t_putchar('\\n');\n",
    "\treturn (0);\n",
    "}"
   ]
  },
  {
   "cell_type": "code",
   "execution_count": 101,
   "metadata": {},
   "outputs": [
    {
     "name": "stdout",
     "output_type": "stream",
     "text": [
      "Overwriting 0x02-functions_nested_loops/main_1.c\n"
     ]
    }
   ],
   "source": [
    "%%file 0x02-functions_nested_loops/main_1.c\n",
    "#include <limits.h>\n",
    "#include \"main.h\"\n",
    "\n",
    "/**\n",
    " * main - check the code for Holberton School students.\n",
    " *\n",
    " * Return: Always 0.\n",
    " */\n",
    "int main(void)\n",
    "{\n",
    "\tint r;\n",
    "\n",
    "\tr = print_last_digit(0);\n",
    "\t_putchar('0' + r);\n",
    "\t_putchar('\\n');\n",
    "\treturn (0);\n",
    "}"
   ]
  },
  {
   "cell_type": "code",
   "execution_count": 102,
   "metadata": {},
   "outputs": [
    {
     "name": "stdout",
     "output_type": "stream",
     "text": [
      "Overwriting 0x02-functions_nested_loops/main_2.c\n"
     ]
    }
   ],
   "source": [
    "%%file 0x02-functions_nested_loops/main_2.c\n",
    "#include <limits.h>\n",
    "#include \"main.h\"\n",
    "\n",
    "/**\n",
    " * main - check the code for Holberton School students.\n",
    " *\n",
    " * Return: Always 0.\n",
    " */\n",
    "int main(void)\n",
    "{\n",
    "\tint r;\n",
    "\n",
    "\tr = print_last_digit(-1024);\n",
    "\t_putchar('0' + r);\n",
    "\t_putchar('\\n');\n",
    "\treturn (0);\n",
    "}"
   ]
  },
  {
   "cell_type": "code",
   "execution_count": 103,
   "metadata": {},
   "outputs": [
    {
     "name": "stdout",
     "output_type": "stream",
     "text": [
      "Overwriting 0x02-functions_nested_loops/main_3.c\n"
     ]
    }
   ],
   "source": [
    "%%file 0x02-functions_nested_loops/main_3.c\n",
    "#include <limits.h>\n",
    "#include \"main.h\"\n",
    "\n",
    "/**\n",
    " * main - check the code for Holberton School students.\n",
    " *\n",
    " * Return: Always 0.\n",
    " */\n",
    "int main(void)\n",
    "{\n",
    "\tint r;\n",
    "\n",
    "\tr = print_last_digit(INT_MAX);\n",
    "\t_putchar('0' + r);\n",
    "\t_putchar('\\n');\n",
    "\treturn (0);\n",
    "}"
   ]
  },
  {
   "cell_type": "code",
   "execution_count": 104,
   "metadata": {},
   "outputs": [
    {
     "name": "stdout",
     "output_type": "stream",
     "text": [
      "Overwriting 0x02-functions_nested_loops/main_4.c\n"
     ]
    }
   ],
   "source": [
    "%%file 0x02-functions_nested_loops/main_4.c\n",
    "#include <limits.h>\n",
    "#include \"main.h\"\n",
    "\n",
    "/**\n",
    " * main - check the code for Holberton School students.\n",
    " *\n",
    " * Return: Always 0.\n",
    " */\n",
    "int main(void)\n",
    "{\n",
    "\tint r;\n",
    "\n",
    "\tr = print_last_digit(INT_MIN);\n",
    "\t_putchar('0' + r);\n",
    "\t_putchar('\\n');\n",
    "\treturn (0);\n",
    "}"
   ]
  },
  {
   "cell_type": "code",
   "execution_count": 105,
   "metadata": {},
   "outputs": [
    {
     "name": "stdout",
     "output_type": "stream",
     "text": [
      "Overwriting 0x02-functions_nested_loops/main_5.c\n"
     ]
    }
   ],
   "source": [
    "%%file 0x02-functions_nested_loops/main_5.c\n",
    "#include <limits.h>\n",
    "#include \"main.h\"\n",
    "\n",
    "/**\n",
    " * main - check the code for Holberton School students.\n",
    " *\n",
    " * Return: Always 0.\n",
    " */\n",
    "int main(void)\n",
    "{\n",
    "\tint r;\n",
    "\n",
    "\tr = print_last_digit(1);\n",
    "\t_putchar('0' + r);\n",
    "\t_putchar('\\n');\n",
    "\treturn (0);\n",
    "}"
   ]
  },
  {
   "cell_type": "code",
   "execution_count": null,
   "metadata": {},
   "outputs": [],
   "source": []
  },
  {
   "cell_type": "markdown",
   "metadata": {},
   "source": [
    "### \n",
    "\n",
    "\n",
    "---\n",
    "<center>\n",
    "<h4> 8. I'm federal agent Jack Bauer, and today is the longest day of my life  </h4>\n",
    "</center>\n",
    "\n",
    "---"
   ]
  },
  {
   "cell_type": "markdown",
   "metadata": {},
   "source": [
    "##### Write a function that prints every minute of the day of Jack Bauer, starting from 00:00 to 23:59.\n",
    "\n",
    "* Prototype: `void jack_bauer(void);`\n",
    "* You can listen to this[ sound track](https://www.youtube.com/watch?v=btAfXqgMkPs) while coding :)\n",
    "\n",
    "```bash\n",
    "julien@ubuntu:~/0x02$ cat 8-main.c\n",
    "#include \"main.h\"\n",
    "\n",
    "/**\n",
    " * main - check the code\n",
    " *\n",
    " * Return: Always 0.\n",
    " */\n",
    "int main(void)\n",
    "{\n",
    "    jack_bauer();\n",
    "    return (0);\n",
    "}\n",
    "julien@ubuntu:~/0x02$ gcc -Wall -pedantic -Werror -Wextra -std=gnu89 _putchar.c 8-main.c 8-24_hours.c -o 8-24\n",
    "julien@ubuntu:~/0x02$ ./8-24 | head\n",
    "00:00\n",
    "00:01\n",
    "00:02\n",
    "00:03\n",
    "00:04\n",
    "00:05\n",
    "00:06\n",
    "00:07\n",
    "00:08\n",
    "00:09\n",
    "julien@ubuntu:~/0x02$ ./8-24 | tail\n",
    "23:50\n",
    "23:51\n",
    "23:52\n",
    "23:53\n",
    "23:54\n",
    "23:55\n",
    "23:56\n",
    "23:57\n",
    "23:58\n",
    "23:59\n",
    "julien@ubuntu:~/0x02$ ./8-24 | wc -l\n",
    "1440\n",
    "julien@ubuntu:~/0x02$ \n",
    "\n",
    "```\n",
    "\n",
    "#### Repo:\n",
    "\n",
    "* GitHub repository: `alx-low_level_programming`\n",
    "* Directory: `0x02-functions_nested_loops`\n",
    "* File: `8-24_hours.c`\n"
   ]
  },
  {
   "cell_type": "code",
   "execution_count": 159,
   "metadata": {},
   "outputs": [
    {
     "name": "stdout",
     "output_type": "stream",
     "text": [
      "Overwriting 0x02-functions_nested_loops/8-24_hours.c\n"
     ]
    }
   ],
   "source": [
    "%%file 0x02-functions_nested_loops/8-24_hours.c\n",
    "#include <stdio.h>\n",
    "\n",
    "/**\n",
    " * jack_bauer - a function that prints\n",
    " * every minute of the day of Jack Bauer,\n",
    " * starting from 00:00 to 23:59\n",
    " * Return: Always 0 (Success)\n",
    " */\n",
    "\n",
    "void jack_bauer(void)\n",
    "{\n",
    "int x = 0; /* hour */\n",
    "int y = 0; /* minutes */\n",
    "\n",
    "while (x < 24)\n",
    "{\n",
    "while (y < 60)\n",
    "{\n",
    "printf(\"%02d:%02d\\n\", x, y);\n",
    "y++;\n",
    "}\n",
    "y = 0; /* Reset minutes after reaching 59 */\n",
    "x++;\n",
    "}\n",
    "}"
   ]
  },
  {
   "cell_type": "code",
   "execution_count": 160,
   "metadata": {},
   "outputs": [
    {
     "name": "stdout",
     "output_type": "stream",
     "text": [
      "Overwriting 0x02-functions_nested_loops/8-main.c\n"
     ]
    }
   ],
   "source": [
    "%%file 0x02-functions_nested_loops/8-main.c\n",
    "#include \"main.h\"\n",
    "\n",
    "/**\n",
    " * main - check the code\n",
    " *\n",
    " * Return: Always 0.\n",
    " */\n",
    "int main(void)\n",
    "{\n",
    "    jack_bauer();\n",
    "    return (0);\n",
    "}"
   ]
  },
  {
   "cell_type": "code",
   "execution_count": 161,
   "metadata": {},
   "outputs": [
    {
     "name": "stdout",
     "output_type": "stream",
     "text": [
      "Overwriting 0x02-functions_nested_loops/main.h\n"
     ]
    }
   ],
   "source": [
    "%%file 0x02-functions_nested_loops/main.h\n",
    "#ifndef MAIN_H\n",
    "#define MAIN_H\n",
    "\n",
    "#include <stdio.h>\n",
    "\n",
    "int _putchar(char x);\n",
    "void print_alphabet(void);\n",
    "void print_alphabet_x10(void);\n",
    "int _islower(int x);\n",
    "int _isalpha(int x);\n",
    "int print_sign(int x);\n",
    "int _abs(int);\n",
    "int print_last_digit(int);\n",
    "void jack_bauer(void);\n",
    "#endif"
   ]
  },
  {
   "cell_type": "code",
   "execution_count": 162,
   "metadata": {},
   "outputs": [
    {
     "name": "stdout",
     "output_type": "stream",
     "text": [
      "\n",
      "========== 0x02-functions_nested_loops/8-24_hours.c ==========\n",
      "jack_bauer\n",
      "00:00\n",
      "00:01\n",
      "00:02\n",
      "00:03\n",
      "00:04\n",
      "00:05\n",
      "00:06\n",
      "00:07\n",
      "00:08\n",
      "00:09\n",
      "23:50\n",
      "23:51\n",
      "23:52\n",
      "23:53\n",
      "23:54\n",
      "23:55\n",
      "23:56\n",
      "23:57\n",
      "23:58\n",
      "23:59\n"
     ]
    }
   ],
   "source": [
    "%%bash\n",
    "betty 0x02-functions_nested_loops/8-24_hours.c\n",
    "gcc -Wall -pedantic -Werror -Wextra -std=gnu89 0x02-functions_nested_loops/_putchar.c 0x02-functions_nested_loops/8-main.c 0x02-functions_nested_loops/8-24_hours.c -o 0x02-functions_nested_loops/8-24\n",
    "./0x02-functions_nested_loops/8-24 | head\n",
    "./0x02-functions_nested_loops/8-24 | tail"
   ]
  },
  {
   "cell_type": "code",
   "execution_count": 154,
   "metadata": {},
   "outputs": [
    {
     "name": "stdout",
     "output_type": "stream",
     "text": [
      "[main 29eb3a6] 0x03-shell_variables_expansions/8-true_knowledge\n",
      " 13 files changed, 1515 insertions(+), 482 deletions(-)\n",
      " create mode 100755 0x02-functions_nested_loops/8-24\n",
      " create mode 100644 0x02-functions_nested_loops/8-24_hours.c\n",
      " create mode 100644 0x02-functions_nested_loops/8-main.c\n"
     ]
    },
    {
     "name": "stderr",
     "output_type": "stream",
     "text": [
      "To https://github.com/elkomysara/alx-low_level_programming.git\n",
      "   d115788..29eb3a6  main -> main\n"
     ]
    }
   ],
   "source": [
    "%%bash\n",
    "git add .\n",
    "git commit -m \"0x03-shell_variables_expansions/8-true_knowledge\"\n",
    "git push"
   ]
  },
  {
   "cell_type": "markdown",
   "metadata": {},
   "source": [
    "### \n",
    "\n",
    "\n",
    "---\n",
    "<center>\n",
    "<h4> 9.Learn your times table  </h4>\n",
    "</center>\n",
    "\n",
    "---"
   ]
  },
  {
   "cell_type": "markdown",
   "metadata": {},
   "source": [
    "##### Write a function that prints the 9 times table, starting with 0.\n",
    "\n",
    "* Prototype: `void times_table(void);`\n",
    "* Format: see example\n",
    "\n",
    "```bash\n",
    "julien@ubuntu:~/0x02$ cat 9-main.c\n",
    "#include \"main.h\"\n",
    "\n",
    "/**\n",
    " * main - check the code\n",
    " *\n",
    " * Return: Always 0.\n",
    " */\n",
    "int main(void)\n",
    "{\n",
    "    times_table();\n",
    "    return (0);\n",
    "}\n",
    "julien@ubuntu:~/0x02$ gcc -Wall -pedantic -Werror -Wextra -std=gnu89 _putchar.c 9-main.c 9-times_table.c -o 9-times_table\n",
    "ulien@ubuntu:~/0x02$ ./9-times_table | cat -e\n",
    "0,  0,  0,  0,  0,  0,  0,  0,  0,  0$\n",
    "0,  1,  2,  3,  4,  5,  6,  7,  8,  9$\n",
    "0,  2,  4,  6,  8, 10, 12, 14, 16, 18$\n",
    "0,  3,  6,  9, 12, 15, 18, 21, 24, 27$\n",
    "0,  4,  8, 12, 16, 20, 24, 28, 32, 36$\n",
    "0,  5, 10, 15, 20, 25, 30, 35, 40, 45$\n",
    "0,  6, 12, 18, 24, 30, 36, 42, 48, 54$\n",
    "0,  7, 14, 21, 28, 35, 42, 49, 56, 63$\n",
    "0,  8, 16, 24, 32, 40, 48, 56, 64, 72$\n",
    "0,  9, 18, 27, 36, 45, 54, 63, 72, 81$\n",
    "julien@ubuntu:~/0x02$ ./9-times_table | tr ' ' . | cat -e\n",
    "0,..0,..0,..0,..0,..0,..0,..0,..0,..0$\n",
    "0,..1,..2,..3,..4,..5,..6,..7,..8,..9$\n",
    "0,..2,..4,..6,..8,.10,.12,.14,.16,.18$\n",
    "0,..3,..6,..9,.12,.15,.18,.21,.24,.27$\n",
    "0,..4,..8,.12,.16,.20,.24,.28,.32,.36$\n",
    "0,..5,.10,.15,.20,.25,.30,.35,.40,.45$\n",
    "0,..6,.12,.18,.24,.30,.36,.42,.48,.54$\n",
    "0,..7,.14,.21,.28,.35,.42,.49,.56,.63$\n",
    "0,..8,.16,.24,.32,.40,.48,.56,.64,.72$\n",
    "0,..9,.18,.27,.36,.45,.54,.63,.72,.81$\n",
    "julien@ubuntu:~/0x02$ \n",
    "```\n",
    "\n",
    "#### Repo:\n",
    "\n",
    "* GitHub repository: `alx-low_level_programming`\n",
    "* Directory: `0x02-functions_nested_loops`\n",
    "* File: `9-times_table.c`\n"
   ]
  },
  {
   "cell_type": "code",
   "execution_count": 1,
   "metadata": {},
   "outputs": [
    {
     "name": "stdout",
     "output_type": "stream",
     "text": [
      "Writing 0x02-functions_nested_loops/9-time_table.c\n"
     ]
    }
   ],
   "source": [
    "%%file 0x02-functions_nested_loops/9-time_table.c\n",
    "#include \"main.h\"\n",
    "\n",
    "/**\n",
    " * times_table - prints the 9 times table, starting with 0\n",
    " */\n",
    "void times_table(void)\n",
    "{\n",
    "int i, j, k;\n",
    "\n",
    "for (i = 0; i < 10; i++)\n",
    "{\n",
    "for (j = 0; j < 10; j++)\n",
    "{\n",
    "k = j * i;\n",
    "if (j == 0)\n",
    "{\n",
    "_putchar(k + '0');\n",
    "}\n",
    "\n",
    "if (k < 10 && j != 0)\n",
    "{\n",
    "_putchar(',');\n",
    "_putchar(' ');\n",
    "_putchar(' ');\n",
    "_putchar(k + '0');\n",
    "} else if (k >= 10)\n",
    "{\n",
    "_putchar(',');\n",
    "_putchar(' ');\n",
    "_putchar((k / 10) + '0');\n",
    "_putchar((k % 10) + '0');\n",
    "}\n",
    "}\n",
    "_putchar('\\n');\n",
    "}\n",
    "}\n"
   ]
  },
  {
   "cell_type": "code",
   "execution_count": null,
   "metadata": {},
   "outputs": [
    {
     "name": "stdout",
     "output_type": "stream",
     "text": [
      "Overwriting 0x02-functions_nested_loops/8-main.c\n"
     ]
    }
   ],
   "source": [
    "%%file 0x02-functions_nested_loops/9-main.c\n",
    "#include \"main.h\"\n",
    "\n",
    "/**\n",
    " * main - check the code\n",
    " *\n",
    " * Return: Always 0.\n",
    " */\n",
    "int main(void)\n",
    "{\n",
    "    times_table();\n",
    "    return (0);\n",
    "}"
   ]
  },
  {
   "cell_type": "code",
   "execution_count": 4,
   "metadata": {},
   "outputs": [
    {
     "name": "stdout",
     "output_type": "stream",
     "text": [
      "Overwriting 0x02-functions_nested_loops/main.h\n"
     ]
    }
   ],
   "source": [
    "%%file 0x02-functions_nested_loops/main.h\n",
    "#ifndef MAIN_H\n",
    "#define MAIN_H\n",
    "\n",
    "#include <stdio.h>\n",
    "\n",
    "int _putchar(char x);\n",
    "void print_alphabet(void);\n",
    "void print_alphabet_x10(void);\n",
    "int _islower(int x);\n",
    "int _isalpha(int x);\n",
    "int print_sign(int x);\n",
    "int _abs(int);\n",
    "int print_last_digit(int);\n",
    "void jack_bauer(void);\n",
    "void times_table(void);\n",
    "#endif"
   ]
  },
  {
   "cell_type": "code",
   "execution_count": 5,
   "metadata": {},
   "outputs": [
    {
     "name": "stdout",
     "output_type": "stream",
     "text": [
      "\n",
      "========== 0x02-functions_nested_loops/9-times_table.c ==========\n"
     ]
    },
    {
     "name": "stdout",
     "output_type": "stream",
     "text": [
      "times_table\n",
      "0,  0,  0,  0,  0,  0,  0,  0,  0,  0$\n",
      "0,  1,  2,  3,  4,  5,  6,  7,  8,  9$\n",
      "0,  2,  4,  6,  8, 10, 12, 14, 16, 18$\n",
      "0,  3,  6,  9, 12, 15, 18, 21, 24, 27$\n",
      "0,  4,  8, 12, 16, 20, 24, 28, 32, 36$\n",
      "0,  5, 10, 15, 20, 25, 30, 35, 40, 45$\n",
      "0,  6, 12, 18, 24, 30, 36, 42, 48, 54$\n",
      "0,  7, 14, 21, 28, 35, 42, 49, 56, 63$\n",
      "0,  8, 16, 24, 32, 40, 48, 56, 64, 72$\n",
      "0,  9, 18, 27, 36, 45, 54, 63, 72, 81$\n",
      "0,..0,..0,..0,..0,..0,..0,..0,..0,..0$\n",
      "0,..1,..2,..3,..4,..5,..6,..7,..8,..9$\n",
      "0,..2,..4,..6,..8,.10,.12,.14,.16,.18$\n",
      "0,..3,..6,..9,.12,.15,.18,.21,.24,.27$\n",
      "0,..4,..8,.12,.16,.20,.24,.28,.32,.36$\n",
      "0,..5,.10,.15,.20,.25,.30,.35,.40,.45$\n",
      "0,..6,.12,.18,.24,.30,.36,.42,.48,.54$\n",
      "0,..7,.14,.21,.28,.35,.42,.49,.56,.63$\n",
      "0,..8,.16,.24,.32,.40,.48,.56,.64,.72$\n",
      "0,..9,.18,.27,.36,.45,.54,.63,.72,.81$\n"
     ]
    }
   ],
   "source": [
    "%%bash\n",
    "betty 0x02-functions_nested_loops/9-times_table.c\n",
    "gcc -Wall -pedantic -Werror -Wextra -std=gnu89 0x02-functions_nested_loops/_putchar.c 0x02-functions_nested_loops/9-main.c 0x02-functions_nested_loops/9-times_table.c -o 0x02-functions_nested_loops/9-times_table\n",
    "./0x02-functions_nested_loops/9-times_table | cat -e\n",
    "./0x02-functions_nested_loops/9-times_table | tr ' ' . | cat -e"
   ]
  },
  {
   "cell_type": "code",
   "execution_count": 6,
   "metadata": {},
   "outputs": [
    {
     "name": "stdout",
     "output_type": "stream",
     "text": [
      "[main fdb45e8] 0x02\n",
      " 2 files changed, 66 insertions(+), 18 deletions(-)\n"
     ]
    },
    {
     "name": "stderr",
     "output_type": "stream",
     "text": [
      "To github.com:elkomysara/alx-low_level_programming.git\n",
      "   2d70b6e..fdb45e8  main -> main\n"
     ]
    }
   ],
   "source": [
    "%%bash\n",
    "git add .\n",
    "git commit -m \"0x02\"\n",
    "git push"
   ]
  },
  {
   "cell_type": "markdown",
   "metadata": {},
   "source": [
    "### \n",
    "\n",
    "\n",
    "---\n",
    "<center>\n",
    "<h4> 10. a + b  </h4>\n",
    "</center>\n",
    "\n",
    "---"
   ]
  },
  {
   "cell_type": "markdown",
   "metadata": {},
   "source": [
    "##### Write a function that adds two integers and returns the result.\n",
    "\n",
    "* Prototype: `int add(int, int);`\n",
    "\n",
    "```bash\n",
    "julien@ubuntu:~/$ cat 10-main.c\n",
    "#include \"main.h\"\n",
    "#include <stdio.h>\n",
    "\n",
    "/**\n",
    " * main - check the code\n",
    " *\n",
    " * Return: Always 0.\n",
    " */\n",
    "int main(void)\n",
    "{\n",
    "    int n;\n",
    "\n",
    "    n = add(89, 9);\n",
    "    printf(\"%d\\n\", n);\n",
    "    return (0);\n",
    "}\n",
    "julien@ubuntu:~/0x02$ gcc -Wall -pedantic -Werror -Wextra -std=gnu89 _putchar.c 10-main.c 10-add.c -o 10-add\n",
    "julien@ubuntu:~/0x02$ ./10-add \n",
    "98\n",
    "julien@ubuntu:~/0x02$ \n",
    "```\n",
    "\n",
    "#### Repo:\n",
    "\n",
    "* GitHub repository: `alx-low_level_programming`\n",
    "* Directory: `0x02-functions_nested_loops`\n",
    "* File: `10-add.c`\n"
   ]
  },
  {
   "cell_type": "code",
   "execution_count": 7,
   "metadata": {},
   "outputs": [
    {
     "name": "stdout",
     "output_type": "stream",
     "text": [
      "Overwriting 0x02-functions_nested_loops/10-add.c\n"
     ]
    }
   ],
   "source": [
    "%%file 0x02-functions_nested_loops/10-add.c\n",
    "\n",
    "#include \"main.h\"\n",
    "\n",
    "/**\n",
    " * add - adds two integers and returns the result\n",
    " * @a: int to be added to b\n",
    " * @b: int to be added to a\n",
    " * Return: sum of a and b\n",
    " */\n",
    "int add(int a, int b)\n",
    "{\n",
    "\tint c;\n",
    "\n",
    "\tc = a + b;\n",
    "\n",
    "\treturn (c);\n",
    "}\n"
   ]
  },
  {
   "cell_type": "code",
   "execution_count": 8,
   "metadata": {},
   "outputs": [
    {
     "name": "stdout",
     "output_type": "stream",
     "text": [
      "Overwriting 0x02-functions_nested_loops/10-main.c\n"
     ]
    }
   ],
   "source": [
    "%%file 0x02-functions_nested_loops/10-main.c\n",
    "#include \"main.h\"\n",
    "#include <stdio.h>\n",
    "\n",
    "/**\n",
    " * main - check the code\n",
    " *\n",
    " * Return: Always 0.\n",
    " */\n",
    "int main(void)\n",
    "{\n",
    "    int n;\n",
    "\n",
    "    n = add(89, 9);\n",
    "    printf(\"%d\\n\", n);\n",
    "    return (0);\n",
    "}"
   ]
  },
  {
   "cell_type": "code",
   "execution_count": 9,
   "metadata": {},
   "outputs": [
    {
     "name": "stdout",
     "output_type": "stream",
     "text": [
      "Overwriting 0x02-functions_nested_loops/main.h\n"
     ]
    }
   ],
   "source": [
    "%%file 0x02-functions_nested_loops/main.h\n",
    "#ifndef MAIN_H\n",
    "#define MAIN_H\n",
    "\n",
    "#include <stdio.h>\n",
    "\n",
    "int _putchar(char x);\n",
    "void print_alphabet(void);\n",
    "void print_alphabet_x10(void);\n",
    "int _islower(int x);\n",
    "int _isalpha(int x);\n",
    "int print_sign(int x);\n",
    "int _abs(int);\n",
    "int print_last_digit(int);\n",
    "void jack_bauer(void);\n",
    "void times_table(void);\n",
    "int add(int, int);\n",
    "#endif"
   ]
  },
  {
   "cell_type": "code",
   "execution_count": 10,
   "metadata": {},
   "outputs": [
    {
     "name": "stdout",
     "output_type": "stream",
     "text": [
      "\n",
      "========== 0x02-functions_nested_loops/10-add.c ==========\n",
      "add\n",
      "98\n"
     ]
    }
   ],
   "source": [
    "%%bash\n",
    "betty 0x02-functions_nested_loops/10-add.c\n",
    "gcc -Wall -pedantic -Werror -Wextra -std=gnu89 0x02-functions_nested_loops/_putchar.c 0x02-functions_nested_loops/10-main.c 0x02-functions_nested_loops/10-add.c -o 0x02-functions_nested_loops/10-add\n",
    "./0x02-functions_nested_loops/10-add\n"
   ]
  },
  {
   "cell_type": "code",
   "execution_count": 11,
   "metadata": {},
   "outputs": [
    {
     "name": "stdout",
     "output_type": "stream",
     "text": [
      "[main f6a3cdb] 0x02\n",
      " 3 files changed, 10 insertions(+), 7 deletions(-)\n"
     ]
    },
    {
     "name": "stderr",
     "output_type": "stream",
     "text": [
      "To github.com:elkomysara/alx-low_level_programming.git\n",
      "   fdb45e8..f6a3cdb  main -> main\n"
     ]
    }
   ],
   "source": [
    "%%bash\n",
    "git add .\n",
    "git commit -m \"0x02\"\n",
    "git push"
   ]
  },
  {
   "cell_type": "code",
   "execution_count": null,
   "metadata": {},
   "outputs": [],
   "source": []
  },
  {
   "cell_type": "markdown",
   "metadata": {},
   "source": [
    "### \n",
    "\n",
    "\n",
    "---\n",
    "<center>\n",
    "<h4> 11. 98 Battery Street, the OG  </h4>\n",
    "</center>\n",
    "\n",
    "---"
   ]
  },
  {
   "cell_type": "markdown",
   "metadata": {},
   "source": [
    "##### Write a function that prints all natural numbers from n to 98, followed by a new line.\n",
    "\n",
    "* Prototype: `void print_to_98(int n);`\n",
    "* Numbers must be separated by a comma, followed by a space\n",
    "* Numbers should be printed in order\n",
    "* The first printed number should be the number passed to your function\n",
    "* The last printed number should be `98`\n",
    "* You are allowed to use the standard library\n",
    "\n",
    "```bash\n",
    "julien@ubuntu:~/0x02$ cat 11-main.c\n",
    "#include \"main.h\"\n",
    "\n",
    "/**\n",
    " * main - check the code\n",
    " *\n",
    " * Return: Always 0.\n",
    " */\n",
    "int main(void)\n",
    "{\n",
    "    print_to_98(0);\n",
    "    print_to_98(98);\n",
    "    print_to_98(111);\n",
    "    print_to_98(81);\n",
    "    print_to_98(-10);\n",
    "    return (0);\n",
    "}\n",
    "julien@ubuntu:~/0x02$ gcc -Wall -pedantic -Werror -Wextra -std=gnu89 _putchar.c 11-main.c 11-print_to_98.c -o 11-98\n",
    "julien@ubuntu:~/0x02$ ./11-98 \n",
    "0, 1, 2, 3, 4, 5, 6, 7, 8, 9, 10, 11, 12, 13, 14, 15, 16, 17, 18, 19, 20, 21, 22, 23, 24, 25, 26, 27, 28, 29, 30, 31, 32, 33, 34, 35, 36, 37, 38, 39, 40, 41, 42, 43, 44, 45, 46, 47, 48, 49, 50, 51, 52, 53, 54, 55, 56, 57, 58, 59, 60, 61, 62, 63, 64, 65, 66, 67, 68, 69, 70, 71, 72, 73, 74, 75, 76, 77, 78, 79, 80, 81, 82, 83, 84, 85, 86, 87, 88, 89, 90, 91, 92, 93, 94, 95, 96, 97, 98\n",
    "98\n",
    "111, 110, 109, 108, 107, 106, 105, 104, 103, 102, 101, 100, 99, 98\n",
    "81, 82, 83, 84, 85, 86, 87, 88, 89, 90, 91, 92, 93, 94, 95, 96, 97, 98\n",
    "-10, -9, -8, -7, -6, -5, -4, -3, -2, -1, 0, 1, 2, 3, 4, 5, 6, 7, 8, 9, 10, 11, 12, 13, 14, 15, 16, 17, 18, 19, 20, 21, 22, 23, 24, 25, 26, 27, 28, 29, 30, 31, 32, 33, 34, 35, 36, 37, 38, 39, 40, 41, 42, 43, 44, 45, 46, 47, 48, 49, 50, 51, 52, 53, 54, 55, 56, 57, 58, 59, 60, 61, 62, 63, 64, 65, 66, 67, 68, 69, 70, 71, 72, 73, 74, 75, 76, 77, 78, 79, 80, 81, 82, 83, 84, 85, 86, 87, 88, 89, 90, 91, 92, 93, 94, 95, 96, 97, 98\n",
    "julien@ubuntu:~/0x02$  \n",
    "```\n",
    "\n",
    "#### Repo:\n",
    "\n",
    "* GitHub repository: `alx-low_level_programming`\n",
    "* Directory: `0x02-functions_nested_loops`\n",
    "* File: `11-print_to_98.c`\n"
   ]
  },
  {
   "cell_type": "code",
   "execution_count": 13,
   "metadata": {},
   "outputs": [
    {
     "name": "stdout",
     "output_type": "stream",
     "text": [
      "Overwriting 0x02-functions_nested_loops/11-print_to_98.c\n"
     ]
    }
   ],
   "source": [
    "%%file 0x02-functions_nested_loops/11-print_to_98.c\n",
    "\n",
    "#include <stdio.h>\n",
    "#include \"main.h\"\n",
    "\n",
    "/**\n",
    "* print_to_98 - prints all natural numbers from n to 98,\n",
    "* followed by a new line\n",
    "* @n: print from this number\n",
    "*/\n",
    "void print_to_98(int n)\n",
    "{\n",
    "int i, j;\n",
    "\n",
    "if (n <= 98)\n",
    "{\n",
    "for (i = n; i <= 98; i++)\n",
    "{\n",
    "if (i != 98)\n",
    "printf(\"%d, \", i);\n",
    "else if (i == 98)\n",
    "printf(\"%d\\n\", i);\n",
    "}\n",
    "} else if (n >= 98)\n",
    "{\n",
    "for (j = n; j >= 98; j--)\n",
    "{\n",
    "if (j != 98)\n",
    "printf(\"%d, \", j);\n",
    "else if (j == 98)\n",
    "printf(\"%d\\n\", j);\n",
    "}\n",
    "}\n",
    "}"
   ]
  },
  {
   "cell_type": "code",
   "execution_count": null,
   "metadata": {},
   "outputs": [
    {
     "name": "stdout",
     "output_type": "stream",
     "text": [
      "Overwriting 0x02-functions_nested_loops/10-main.c\n"
     ]
    }
   ],
   "source": [
    "%%file 0x02-functions_nested_loops/11-main.c\n",
    "#include \"main.h\"\n",
    "\n",
    "/**\n",
    " * main - check the code\n",
    " *\n",
    " * Return: Always 0.\n",
    " */\n",
    "int main(void)\n",
    "{\n",
    "    print_to_98(0);\n",
    "    print_to_98(98);\n",
    "    print_to_98(111);\n",
    "    print_to_98(81);\n",
    "    print_to_98(-10);\n",
    "    return (0);\n",
    "}"
   ]
  },
  {
   "cell_type": "code",
   "execution_count": null,
   "metadata": {},
   "outputs": [
    {
     "name": "stdout",
     "output_type": "stream",
     "text": [
      "Overwriting 0x02-functions_nested_loops/main.h\n"
     ]
    }
   ],
   "source": [
    "%%file 0x02-functions_nested_loops/main.h\n",
    "#ifndef MAIN_H\n",
    "#define MAIN_H\n",
    "\n",
    "#include <stdio.h>\n",
    "\n",
    "int _putchar(char x);\n",
    "void print_alphabet(void);\n",
    "void print_alphabet_x10(void);\n",
    "int _islower(int x);\n",
    "int _isalpha(int x);\n",
    "int print_sign(int x);\n",
    "int _abs(int);\n",
    "int print_last_digit(int);\n",
    "void jack_bauer(void);\n",
    "void times_table(void);\n",
    "int add(int, int);\n",
    "#endif"
   ]
  },
  {
   "cell_type": "code",
   "execution_count": null,
   "metadata": {},
   "outputs": [
    {
     "name": "stdout",
     "output_type": "stream",
     "text": [
      "\n",
      "========== 0x02-functions_nested_loops/10-add.c ==========\n",
      "add\n",
      "98\n"
     ]
    }
   ],
   "source": [
    "%%bash\n",
    "betty 0x02-functions_nested_loops/10-add.c\n",
    "gcc -Wall -pedantic -Werror -Wextra -std=gnu89 0x02-functions_nested_loops/_putchar.c 0x02-functions_nested_loops/10-main.c 0x02-functions_nested_loops/10-add.c -o 0x02-functions_nested_loops/10-add\n",
    "./0x02-functions_nested_loops/10-add\n"
   ]
  },
  {
   "cell_type": "code",
   "execution_count": null,
   "metadata": {},
   "outputs": [
    {
     "name": "stdout",
     "output_type": "stream",
     "text": [
      "[main f6a3cdb] 0x02\n",
      " 3 files changed, 10 insertions(+), 7 deletions(-)\n"
     ]
    },
    {
     "name": "stderr",
     "output_type": "stream",
     "text": [
      "To github.com:elkomysara/alx-low_level_programming.git\n",
      "   fdb45e8..f6a3cdb  main -> main\n"
     ]
    }
   ],
   "source": [
    "%%bash\n",
    "git add .\n",
    "git commit -m \"0x02\"\n",
    "git push"
   ]
  }
 ],
 "metadata": {
  "kernelspec": {
   "display_name": "Python 3",
   "language": "python",
   "name": "python3"
  },
  "language_info": {
   "codemirror_mode": {
    "name": "ipython",
    "version": 3
   },
   "file_extension": ".py",
   "mimetype": "text/x-python",
   "name": "python",
   "nbconvert_exporter": "python",
   "pygments_lexer": "ipython3",
   "version": "3.12.3"
  }
 },
 "nbformat": 4,
 "nbformat_minor": 2
}
