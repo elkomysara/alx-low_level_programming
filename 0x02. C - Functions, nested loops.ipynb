{
 "cells": [
  {
   "cell_type": "markdown",
   "metadata": {},
   "source": [
    "---\n",
    "<center>\n",
    "<h1>  alx-low_level_programming </h1>\n",
    "</center>\n",
    "\n",
    "---\n"
   ]
  },
  {
   "cell_type": "code",
   "execution_count": 2,
   "metadata": {},
   "outputs": [
    {
     "name": "stdout",
     "output_type": "stream",
     "text": [
      "Writing README.md\n"
     ]
    }
   ],
   "source": [
    "%%file README.md\n",
    "## alx-low_level_programming"
   ]
  },
  {
   "cell_type": "code",
   "execution_count": 1,
   "metadata": {},
   "outputs": [
    {
     "data": {
      "text/plain": [
       "'/home/elkomy/alx-low_level_programming'"
      ]
     },
     "execution_count": 1,
     "metadata": {},
     "output_type": "execute_result"
    }
   ],
   "source": [
    "%pwd"
   ]
  },
  {
   "cell_type": "code",
   "execution_count": 2,
   "metadata": {},
   "outputs": [],
   "source": [
    "import os\n",
    "# creating 0x02-shell_redirectionss\n",
    "\n",
    "folder_path = r'/home/elkomy/alx-low_level_programming/0x02-functions_nested_loops'\n",
    "if not os.path.exists(folder_path):\n",
    "    os.makedirs(folder_path)\n",
    "\n",
    "# Create a README.md inside alx-low_level_programming/0x02-functions_nested_loops\n",
    "file_path = os.path.join(folder_path, 'README.md')\n",
    "\n",
    "with open(file_path, 'w') as file:\n",
    "    file.write(\"This is a README.md file inside alx-low_level_programming/0x02-functions_nested_loops\")\n",
    "\n"
   ]
  },
  {
   "cell_type": "code",
   "execution_count": 4,
   "metadata": {},
   "outputs": [
    {
     "name": "stdout",
     "output_type": "stream",
     "text": [
      "/home/elkomy/alx-low_level_programming\n"
     ]
    }
   ],
   "source": [
    "!pwd"
   ]
  },
  {
   "cell_type": "code",
   "execution_count": 3,
   "metadata": {},
   "outputs": [
    {
     "name": "stdout",
     "output_type": "stream",
     "text": [
      "Overwriting /home/elkomy/alx-low_level_programming/0x02-functions_nested_loops/README.md\n"
     ]
    }
   ],
   "source": [
    "%%file /home/elkomy/alx-low_level_programming/0x02-functions_nested_loops/README.md\n",
    "This is a README.md"
   ]
  },
  {
   "cell_type": "markdown",
   "metadata": {},
   "source": [
    "###\n",
    "---\n",
    "<center>\n",
    "<h1> 0x02-functions_nested_loops  </h1>\n",
    "</center>\n",
    "\n",
    "---\n"
   ]
  },
  {
   "cell_type": "markdown",
   "metadata": {},
   "source": [
    "###\n",
    "---\n",
    "<center>\n",
    "<h4> 0. _putchar </h4>\n",
    "</center>\n",
    "\n",
    "---"
   ]
  },
  {
   "cell_type": "markdown",
   "metadata": {},
   "source": [
    "\n",
    "####  Write a program that prints `_putchar`, followed by a new line.\n",
    "\n",
    "* The program should return `0`\n",
    "\n",
    "```bash\n",
    "julien@ubuntu:~/0x02$  gcc -Wall -pedantic -Werror -Wextra -std=gnu89 _putchar.c 0-putchar.c -o 0-putchar\n",
    "julien@ubuntu:~/0x02$ ./0-putchar \n",
    "_putchar\n",
    "julien@ubuntu:~/0x02$  \n",
    "```\n",
    "\n",
    "\n",
    "#### Repo:\n",
    "* GitHub repository: ``` alx-low_level_programming ```\n",
    "* Directory: ```0x02-functions_nested_loops``` \n",
    "* File: ```0-putchar.c```"
   ]
  },
  {
   "cell_type": "code",
   "execution_count": 17,
   "metadata": {},
   "outputs": [
    {
     "name": "stdout",
     "output_type": "stream",
     "text": [
      "Overwriting 0x02-functions_nested_loops/0-putchar.c\n"
     ]
    }
   ],
   "source": [
    "%%file 0x02-functions_nested_loops/0-putchar.c\n",
    "#include \"main.h\"\n",
    "\n",
    "/**\n",
    " * main - Entry point\n",
    " *\n",
    " * Return: Always 0 (Success)\n",
    " */\n",
    "\n",
    "int main(void)\n",
    "{\n",
    "char str[] = \"_putchar\";\n",
    "int x;\n",
    "for (x = 0; x < 8; x++)\n",
    "{\n",
    "_putchar(str[x]);\n",
    "}\n",
    "_putchar('\\n');\n",
    "return (0);\n",
    "}"
   ]
  },
  {
   "cell_type": "code",
   "execution_count": 18,
   "metadata": {},
   "outputs": [
    {
     "name": "stdout",
     "output_type": "stream",
     "text": [
      "Overwriting 0x02-functions_nested_loops/main.h\n"
     ]
    }
   ],
   "source": [
    "%%file 0x02-functions_nested_loops/main.h\n",
    "#ifndef MAIN_H\n",
    "#define MAIN_H\n",
    "\n",
    "#include <stdio.h>\n",
    "\n",
    "int _putchar(char c);\n",
    "\n",
    "#endif"
   ]
  },
  {
   "cell_type": "code",
   "execution_count": 19,
   "metadata": {},
   "outputs": [
    {
     "name": "stdout",
     "output_type": "stream",
     "text": [
      "Overwriting 0x02-functions_nested_loops/_putchar.c\n"
     ]
    }
   ],
   "source": [
    "%%file 0x02-functions_nested_loops/_putchar.c\n",
    "#include <unistd.h>\n",
    "#include \"main.h\"\n",
    "/**\n",
    " * _putchar - writes the character c to stdout\n",
    " * @c: The character to print\n",
    " *\n",
    " * Return: On success 1.\n",
    " * On error, -1 is returned, and errno is set appropriately.\n",
    " */\n",
    "int _putchar(char c)\n",
    "{\n",
    "\treturn (write(1, &c, 1));\n",
    "}"
   ]
  },
  {
   "cell_type": "code",
   "execution_count": 22,
   "metadata": {},
   "outputs": [
    {
     "name": "stdout",
     "output_type": "stream",
     "text": [
      "\n",
      "========== 0x02-functions_nested_loops/0-putchar.c ==========\n",
      "main\n",
      "_putchar\n"
     ]
    }
   ],
   "source": [
    "%%bash\n",
    "betty 0x02-functions_nested_loops/0-putchar.c\n",
    "gcc -Wall -pedantic -Werror -Wextra -std=gnu89 0x02-functions_nested_loops/_putchar.c 0x02-functions_nested_loops/0-putchar.c -o 0x02-functions_nested_loops/0-putchar\n",
    "./0x02-functions_nested_loops/0-putchar\n"
   ]
  },
  {
   "cell_type": "code",
   "execution_count": 23,
   "metadata": {},
   "outputs": [
    {
     "name": "stdout",
     "output_type": "stream",
     "text": [
      "[main 6e94247] alx-low_level_programming/0x02-functions_nested_loops/0-putchar\n",
      " 7 files changed, 2377 insertions(+), 5 deletions(-)\n",
      " create mode 100755 0x02-functions_nested_loops/0-putchar\n",
      " create mode 100644 0x02-functions_nested_loops/0-putchar.c\n",
      " create mode 100644 0x02-functions_nested_loops/README.md\n",
      " create mode 100644 0x02-functions_nested_loops/_putchar.c\n",
      " create mode 100644 0x02-functions_nested_loops/main.h\n",
      " create mode 100644 0x02. C - Functions, nested loops.ipynb\n"
     ]
    },
    {
     "name": "stderr",
     "output_type": "stream",
     "text": [
      "To https://github.com/elkomysara/alx-low_level_programming.git\n",
      "   43282e3..6e94247  main -> main\n"
     ]
    }
   ],
   "source": [
    "%%bash\n",
    "git add .\n",
    "git commit -m \"alx-low_level_programming/0x02-functions_nested_loops/0-putchar\"\n",
    "git push"
   ]
  },
  {
   "cell_type": "markdown",
   "metadata": {},
   "source": [
    "###\n",
    "---\n",
    "<center>\n",
    "<h4> 1. I sometimes suffer from insomnia. And when I can't fall asleep, I play what I call the alphabet game </h4>\n",
    "</center>\n",
    "\n",
    "---\n"
   ]
  },
  {
   "cell_type": "markdown",
   "metadata": {},
   "source": [
    "##### Write a function that prints the alphabet, in lowercase, followed by a new line.\n",
    "\n",
    "* Prototype: `void print_alphabet(void);`\n",
    "* You can only use `_putchar` twice in your code\n",
    "\n",
    "```bash\n",
    "julien@ubuntu:~/0x02$ cat 1-main.c\n",
    "#include \"main.h\"\n",
    "\n",
    "/**\n",
    " * main - check the code\n",
    " *\n",
    " * Return: Always 0.\n",
    " */\n",
    "int main(void)\n",
    "{\n",
    "    print_alphabet();\n",
    "    return (0);\n",
    "}\n",
    "julien@ubuntu:~/0x02$ gcc -Wall -pedantic -Werror -Wextra -std=gnu89 _putchar.c 1-main.c 1-alphabet.c -o 1-alphabet\n",
    "julien@ubuntu:~/0x02$ ./1-alphabet \n",
    "abcdefghijklmnopqrstuvwxyz\n",
    "julien@ubuntu:~/0x02$\n",
    "```\n",
    "\n",
    "* Repo:\n",
    "\n",
    "    * GitHub repository: <code > alx-low_level_programming </code>\n",
    "    * Directory: <code > 0x02-functions_nested_loops </code>\n",
    "    * File: <code >  1-alphabet.c </code>\n",
    "   "
   ]
  },
  {
   "cell_type": "code",
   "execution_count": 15,
   "metadata": {},
   "outputs": [
    {
     "name": "stdout",
     "output_type": "stream",
     "text": [
      "Overwriting 0x02-functions_nested_loops/1-alphabet.c\n"
     ]
    }
   ],
   "source": [
    "%%file 0x02-functions_nested_loops/1-alphabet.c\n",
    "#include \"main.h\"\n",
    "\n",
    "/**\n",
    " * print_alphabet - Entry point\n",
    " * Return:0\n",
    " */\n",
    "void print_alphabet(void)\n",
    "{\n",
    "int x = 'a';\n",
    "while (x <= 'z')\n",
    "{\n",
    "_putchar(x);\n",
    "x++;\n",
    "}\n",
    "_putchar('\\n');\n",
    "}"
   ]
  },
  {
   "cell_type": "code",
   "execution_count": 16,
   "metadata": {},
   "outputs": [
    {
     "name": "stdout",
     "output_type": "stream",
     "text": [
      "Overwriting 0x02-functions_nested_loops/1-main.c\n"
     ]
    }
   ],
   "source": [
    "%%file 0x02-functions_nested_loops/1-main.c\n",
    "#include \"main.h\"\n",
    "\n",
    "/**\n",
    " * main - check the code\n",
    " *\n",
    " * Return: Always 0.\n",
    " */\n",
    "int main(void)\n",
    "{\n",
    "    print_alphabet();\n",
    "    return (0);\n",
    "}"
   ]
  },
  {
   "cell_type": "code",
   "execution_count": 17,
   "metadata": {},
   "outputs": [
    {
     "name": "stdout",
     "output_type": "stream",
     "text": [
      "Overwriting 0x02-functions_nested_loops/main.h\n"
     ]
    }
   ],
   "source": [
    "%%file 0x02-functions_nested_loops/main.h\n",
    "#ifndef MAIN_H\n",
    "#define MAIN_H\n",
    "\n",
    "#include <stdio.h>\n",
    "\n",
    "int _putchar(char c);\n",
    "void print_alphabet(void);\n",
    "\n",
    "#endif"
   ]
  },
  {
   "cell_type": "code",
   "execution_count": 18,
   "metadata": {},
   "outputs": [
    {
     "name": "stdout",
     "output_type": "stream",
     "text": [
      "\n",
      "========== 0x02-functions_nested_loops/1-alphabet.c ==========\n"
     ]
    },
    {
     "name": "stdout",
     "output_type": "stream",
     "text": [
      "print_alphabet\n"
     ]
    }
   ],
   "source": [
    "%%bash\n",
    "betty 0x02-functions_nested_loops/1-alphabet.c"
   ]
  },
  {
   "cell_type": "code",
   "execution_count": 20,
   "metadata": {},
   "outputs": [
    {
     "name": "stdout",
     "output_type": "stream",
     "text": [
      "\n",
      "========== 0x02-functions_nested_loops/1-alphabet.c ==========\n",
      "print_alphabet\n",
      "abcdefghijklmnopqrstuvwxyz\n"
     ]
    }
   ],
   "source": [
    "%%bash\n",
    "betty 0x02-functions_nested_loops/1-alphabet.c\n",
    "gcc -Wall -pedantic -Werror -Wextra -std=gnu89 0x02-functions_nested_loops/_putchar.c 0x02-functions_nested_loops/1-main.c 0x02-functions_nested_loops/1-alphabet.c -o 0x02-functions_nested_loops/1-alphabet\n",
    "./0x02-functions_nested_loops/1-alphabet"
   ]
  },
  {
   "cell_type": "code",
   "execution_count": 21,
   "metadata": {},
   "outputs": [
    {
     "name": "stdout",
     "output_type": "stream",
     "text": [
      "[main de2816c] alx-low_level_programming/0x02-functions_nested_loops/0-putchar\n",
      " 5 files changed, 158 insertions(+), 93 deletions(-)\n",
      " create mode 100755 0x02-functions_nested_loops/1-alphabet\n",
      " create mode 100644 0x02-functions_nested_loops/1-alphabet.c\n",
      " create mode 100644 0x02-functions_nested_loops/1-main.c\n"
     ]
    },
    {
     "name": "stderr",
     "output_type": "stream",
     "text": [
      "To https://github.com/elkomysara/alx-low_level_programming.git\n",
      "   6e94247..de2816c  main -> main\n"
     ]
    }
   ],
   "source": [
    "%%bash\n",
    "git add .\n",
    "git commit -m \"alx-low_level_programming/0x02-functions_nested_loops/0-putchar\"\n",
    "git push"
   ]
  },
  {
   "cell_type": "markdown",
   "metadata": {},
   "source": [
    "###\n",
    "---\n",
    "<center>\n",
    "<h4> 2. 10 x alphabet</h4>\n",
    "</center>\n",
    "\n",
    "---"
   ]
  },
  {
   "cell_type": "markdown",
   "metadata": {},
   "source": [
    "#### Write a function that prints 10 times the alphabet, in lowercase, followed by a new line.\n",
    "\n",
    "* Prototype: `void print_alphabet_x10(void)`;\n",
    "* You can only use `_putchar` twice in your code\n",
    "\n",
    "```bash\n",
    "julien@ubuntu:~/0x02$ cat 2-main.c\n",
    "#include \"main.h\"\n",
    "\n",
    "/**\n",
    " * main - check the code.\n",
    " *\n",
    " * Return: Always 0.\n",
    " */\n",
    "int main(void)\n",
    "{\n",
    "    print_alphabet_x10();\n",
    "    return (0);\n",
    "}\n",
    "julien@ubuntu:~/0x02$ gcc -Wall -pedantic -Werror -Wextra -std=gnu89 _putchar.c 2-main.c 2-print_alphabet_x10.c -o 2-alphabet_x10\n",
    "julien@ubuntu:~/0x02$ ./2-alphabet_x10 \n",
    "abcdefghijklmnopqrstuvwxyz\n",
    "abcdefghijklmnopqrstuvwxyz\n",
    "abcdefghijklmnopqrstuvwxyz\n",
    "abcdefghijklmnopqrstuvwxyz\n",
    "abcdefghijklmnopqrstuvwxyz\n",
    "abcdefghijklmnopqrstuvwxyz\n",
    "abcdefghijklmnopqrstuvwxyz\n",
    "abcdefghijklmnopqrstuvwxyz\n",
    "abcdefghijklmnopqrstuvwxyz\n",
    "abcdefghijklmnopqrstuvwxyz\n",
    "julien@ubuntu:~/0x02$ \n",
    "```\n",
    "\n",
    "\n",
    "#### Repo:\n",
    "* GitHub repository:   <code>alx-low_level_programming </code>\n",
    "* Directory:   <code> 0x02-functions_nested_loops </code>\n",
    "* File:   <code> 2-print_alphabet_x10.c</code>"
   ]
  },
  {
   "cell_type": "code",
   "execution_count": 69,
   "metadata": {},
   "outputs": [
    {
     "name": "stdout",
     "output_type": "stream",
     "text": [
      "Overwriting 0x02-functions_nested_loops/2-print_alphabet_x10.c\n"
     ]
    }
   ],
   "source": [
    "%%file 0x02-functions_nested_loops/2-print_alphabet_x10.c\n",
    "#include \"main.h\"\n",
    "/**\n",
    " * print_alphabet_x10 - prints 10 times the alphabet,\n",
    " * in lowercase,\n",
    " * followed by a new line\n",
    " */\n",
    "\n",
    "void print_alphabet_x10(void)\n",
    "{\n",
    "int x;\n",
    "int y;\n",
    "\n",
    "for (y = 0; y < 10; y++)\n",
    "{\n",
    "x = 'a';\n",
    "while (x <= 'z')\n",
    "{\n",
    "_putchar(x);\n",
    "x++;\n",
    "}\n",
    "_putchar('\\n');\n",
    "}\n",
    "}\n"
   ]
  },
  {
   "cell_type": "code",
   "execution_count": 70,
   "metadata": {},
   "outputs": [
    {
     "name": "stdout",
     "output_type": "stream",
     "text": [
      "Overwriting 0x02-functions_nested_loops/2-main.c\n"
     ]
    }
   ],
   "source": [
    "%%file 0x02-functions_nested_loops/2-main.c\n",
    "#include \"main.h\"\n",
    "\n",
    "/**\n",
    " * main - check the code.\n",
    " *\n",
    " * Return: Always 0.\n",
    " */\n",
    "int main(void)\n",
    "{\n",
    "print_alphabet_x10();\n",
    "return (0);\n",
    "}\n"
   ]
  },
  {
   "cell_type": "code",
   "execution_count": 71,
   "metadata": {},
   "outputs": [
    {
     "name": "stdout",
     "output_type": "stream",
     "text": [
      "Overwriting 0x02-functions_nested_loops/main.h\n"
     ]
    }
   ],
   "source": [
    "%%file 0x02-functions_nested_loops/main.h\n",
    "#ifndef MAIN_H\n",
    "#define MAIN_H\n",
    "\n",
    "#include <stdio.h>\n",
    "\n",
    "int _putchar(char c);\n",
    "void print_alphabet(void);\n",
    "void print_alphabet_x10(void);\n",
    "\n",
    "#endif"
   ]
  },
  {
   "cell_type": "code",
   "execution_count": 73,
   "metadata": {},
   "outputs": [
    {
     "name": "stdout",
     "output_type": "stream",
     "text": [
      "\n",
      "========== 0x02-functions_nested_loops/2-print_alphabet_x10.c ==========\n",
      "print_alphabet_x10\n",
      "abcdefghijklmnopqrstuvwxyz\n",
      "abcdefghijklmnopqrstuvwxyz\n",
      "abcdefghijklmnopqrstuvwxyz\n",
      "abcdefghijklmnopqrstuvwxyz\n",
      "abcdefghijklmnopqrstuvwxyz\n",
      "abcdefghijklmnopqrstuvwxyz\n",
      "abcdefghijklmnopqrstuvwxyz\n",
      "abcdefghijklmnopqrstuvwxyz\n",
      "abcdefghijklmnopqrstuvwxyz\n",
      "abcdefghijklmnopqrstuvwxyz\n"
     ]
    }
   ],
   "source": [
    "%%bash\n",
    "betty 0x02-functions_nested_loops/2-print_alphabet_x10.c\n",
    "gcc -Wall -pedantic -Werror -Wextra -std=gnu89 0x02-functions_nested_loops/_putchar.c 0x02-functions_nested_loops/2-main.c 0x02-functions_nested_loops/2-print_alphabet_x10.c -o 0x02-functions_nested_loops/2-print_alphabet_x10\n",
    "./0x02-functions_nested_loops/2-print_alphabet_x10"
   ]
  },
  {
   "cell_type": "code",
   "execution_count": 74,
   "metadata": {},
   "outputs": [
    {
     "name": "stdout",
     "output_type": "stream",
     "text": [
      "[main 5996486] 0x02-functions_nested_loops/2-assembler\n",
      " 5 files changed, 130 insertions(+), 234 deletions(-)\n",
      " create mode 100644 0x02-functions_nested_loops/2-main.c\n",
      " create mode 100755 0x02-functions_nested_loops/2-print_alphabet_x10\n",
      " create mode 100644 0x02-functions_nested_loops/2-print_alphabet_x10.c\n",
      "Enumerating objects: 12, done.\n",
      "Counting objects: 100% (12/12), done.\n",
      "Delta compression using up to 12 threads\n",
      "Compressing objects: 100% (8/8), done.\n",
      "Writing objects: 100% (8/8), 3.97 KiB | 3.97 MiB/s, done.\n",
      "Total 8 (delta 4), reused 0 (delta 0)\n",
      "remote: Resolving deltas: 100% (4/4), completed with 4 local objects.\u001b[K\n",
      "To https://github.com/elkomysara/alx-low_level_programming.git\n",
      "   de2816c..5996486  main -> main\n",
      "Branch 'main' set up to track remote branch 'main' from 'origin'.\n"
     ]
    }
   ],
   "source": [
    "!git add .\n",
    "!git commit -m \"0x02-functions_nested_loops/2-assembler\"\n",
    "!git push -u origin main"
   ]
  },
  {
   "cell_type": "markdown",
   "metadata": {},
   "source": [
    "###\n",
    "---\n",
    "<center>\n",
    "<h4> 3. islower</h4>\n",
    "</center>\n",
    "\n",
    "---"
   ]
  },
  {
   "cell_type": "markdown",
   "metadata": {},
   "source": [
    "#### Write a function that checks for lowercase character.\n",
    "* Prototype: `int _islower(int c);`\n",
    "* Returns `1` if `c` is lowercase\n",
    "* Returns `0` otherwise\n",
    "FYI: The standard library provides a similar function: `islower`. Run `man islower` to learn more.\n",
    "\n",
    "```bash\n",
    "julien@ubuntu:~/0x02$ cat 3-main.c \n",
    "#include \"main.h\"\n",
    "\n",
    "/**\n",
    " * main - check the code.\n",
    " *\n",
    " * Return: Always 0.\n",
    " */\n",
    "int main(void)\n",
    "{\n",
    "    int r;\n",
    "\n",
    "    r = _islower('H');\n",
    "    _putchar(r + '0');\n",
    "    r = _islower('o');\n",
    "    _putchar(r + '0');\n",
    "    r = _islower(108);\n",
    "    _putchar(r + '0');\n",
    "    _putchar('\\n');\n",
    "    return (0);\n",
    "}\n",
    "julien@ubuntu:~/0x02$ gcc -Wall -pedantic -Werror -Wextra -std=gnu89 _putchar.c 3-main.c 3-islower.c -o 3-islower\n",
    "julien@ubuntu:~/0x02$ ./3-islower \n",
    "011\n",
    "julien@ubuntu:~/0x02$\n",
    "```\n",
    "\n",
    "\n",
    "#### Repo:\n",
    "* GitHub repository: `alx-low_level_programming`\n",
    "* Directory: `0x02-functions_nested_loops`\n",
    "* File: `3-islower.c`"
   ]
  },
  {
   "cell_type": "code",
   "execution_count": 77,
   "metadata": {},
   "outputs": [
    {
     "name": "stdout",
     "output_type": "stream",
     "text": [
      "ISALPHA(3)                 Linux Programmer's Manual                ISALPHA(3)\n",
      "\n",
      "NAME\n",
      "       isalnum, isalpha, isascii, isblank, iscntrl, isdigit, isgraph, islower,\n",
      "       isprint, ispunct, isspace,  isupper,  isxdigit,  isalnum_l,  isalpha_l,\n",
      "       isascii_l,  isblank_l,  iscntrl_l, isdigit_l, isgraph_l, islower_l, is‐\n",
      "       print_l, ispunct_l, isspace_l, isupper_l, isxdigit_l - character  clas‐\n",
      "       sification functions\n",
      "\n",
      "SYNOPSIS\n",
      "       #include <ctype.h>\n",
      "\n",
      "       int isalnum(int c);\n",
      "       int isalpha(int c);\n",
      "       int iscntrl(int c);\n",
      "       int isdigit(int c);\n",
      "       int isgraph(int c);\n",
      "       int islower(int c);\n",
      "       int isprint(int c);\n",
      "       int ispunct(int c);\n",
      "       int isspace(int c);\n",
      "       int isupper(int c);\n",
      "       int isxdigit(int c);\n",
      "\n",
      "       int isascii(int c);\n",
      "       int isblank(int c);\n",
      "\n",
      "       int isalnum_l(int c, locale_t locale);\n",
      "       int isalpha_l(int c, locale_t locale);\n",
      "       int isblank_l(int c, locale_t locale);\n",
      "       int iscntrl_l(int c, locale_t locale);\n",
      "       int isdigit_l(int c, locale_t locale);\n",
      "       int isgraph_l(int c, locale_t locale);\n",
      "       int islower_l(int c, locale_t locale);\n",
      "       int isprint_l(int c, locale_t locale);\n",
      "       int ispunct_l(int c, locale_t locale);\n",
      "       int isspace_l(int c, locale_t locale);\n",
      "       int isupper_l(int c, locale_t locale);\n",
      "       int isxdigit_l(int c, locale_t locale);\n",
      "\n",
      "       int isascii_l(int c, locale_t locale);\n",
      "\n",
      "   Feature Test Macro Requirements for glibc (see feature_test_macros(7)):\n",
      "\n",
      "       isascii():\n",
      "           _XOPEN_SOURCE\n",
      "               || /* Glibc since 2.19: */ _DEFAULT_SOURCE\n",
      "               || /* Glibc versions <= 2.19: */ _SVID_SOURCE\n",
      "\n",
      "       isblank():\n",
      "           _ISOC99_SOURCE || _POSIX_C_SOURCE >= 200112L\n",
      "\n",
      "       isalnum_l(), isalpha_l(), isblank_l(), iscntrl_l(), isdigit_l(), is‐\n",
      "       graph_l(), islower_l(), isprint_l(), ispunct_l(), isspace_l(), isup‐\n",
      "       per_l(), isxdigit_l():\n",
      "           Since glibc 2.10:\n",
      "                  _XOPEN_SOURCE >= 700\n",
      "           Before glibc 2.10:\n",
      "                  _GNU_SOURCE\n",
      "\n",
      "       isascii_l():\n",
      "           Since glibc 2.10:\n",
      "                  _XOPEN_SOURCE >= 700 && (_SVID_SOURCE || _BSD_SOURCE)\n",
      "           Before glibc 2.10:\n",
      "                  _GNU_SOURCE\n",
      "\n",
      "DESCRIPTION\n",
      "       These  functions  check  whether c, which must have the value of an un‐\n",
      "       signed char or EOF, falls into a certain character class  according  to\n",
      "       the  specified  locale.   The functions without the \"_l\" suffix perform\n",
      "       the check based on the current locale.\n",
      "\n",
      "       The functions with the \"_l\" suffix perform the check based on  the  lo‐\n",
      "       cale  specified  by  the  locale  object locale.  The behavior of these\n",
      "       functions  is  undefined  if  locale  is  the  special  locale   object\n",
      "       LC_GLOBAL_LOCALE  (see  duplocale(3))  or  is not a valid locale object\n",
      "       handle.\n",
      "\n",
      "       The list below explains the operation of the functions without the \"_l\"\n",
      "       suffix; the functions with the \"_l\" suffix differ only in using the lo‐\n",
      "       cale object locale instead of the current locale.\n",
      "\n",
      "       isalnum()\n",
      "              checks for an alphanumeric character; it is equivalent to (isal‐\n",
      "              pha(c) || isdigit(c)).\n",
      "\n",
      "       isalpha()\n",
      "              checks  for an alphabetic character; in the standard \"C\" locale,\n",
      "              it is equivalent to (isupper(c) ||  islower(c)).   In  some  lo‐\n",
      "              cales, there may be additional characters for which isalpha() is\n",
      "              true—letters which are neither uppercase nor lowercase.\n",
      "\n",
      "       isascii()\n",
      "              checks whether c is a 7-bit unsigned char value that  fits  into\n",
      "              the ASCII character set.\n",
      "\n",
      "       isblank()\n",
      "              checks for a blank character; that is, a space or a tab.\n",
      "\n",
      "       iscntrl()\n",
      "              checks for a control character.\n",
      "\n",
      "       isdigit()\n",
      "              checks for a digit (0 through 9).\n",
      "\n",
      "       isgraph()\n",
      "              checks for any printable character except space.\n",
      "\n",
      "       islower()\n",
      "              checks for a lowercase character.\n",
      "\n",
      "       isprint()\n",
      "              checks for any printable character including space.\n",
      "\n",
      "       ispunct()\n",
      "              checks  for  any  printable character which is not a space or an\n",
      "              alphanumeric character.\n",
      "\n",
      "       isspace()\n",
      "              checks for white-space characters.  In the \"C\" and  \"POSIX\"  lo‐\n",
      "              cales,  these are: space, form-feed ('\\f'), newline ('\\n'), car‐\n",
      "              riage return ('\\r'), horizontal tab  ('\\t'),  and  vertical  tab\n",
      "              ('\\v').\n",
      "\n",
      "       isupper()\n",
      "              checks for an uppercase letter.\n",
      "\n",
      "       isxdigit()\n",
      "              checks for hexadecimal digits, that is, one of\n",
      "              0 1 2 3 4 5 6 7 8 9 a b c d e f A B C D E F.\n",
      "\n",
      "RETURN VALUE\n",
      "       The  values  returned  are  nonzero  if  the character c falls into the\n",
      "       tested class, and zero if not.\n",
      "\n",
      "VERSIONS\n",
      "       isalnum_l(), isalpha_l(), isblank_l(),  iscntrl_l(),  isdigit_l(),  is‐\n",
      "       graph_l(),  islower_l(),  isprint_l(),  ispunct_l(), isspace_l(), isup‐\n",
      "       per_l(), isxdigit_l(), and isascii_l() are available since glibc 2.3.\n",
      "\n",
      "ATTRIBUTES\n",
      "       For an  explanation  of  the  terms  used  in  this  section,  see  at‐\n",
      "       tributes(7).\n",
      "\n",
      "       ┌─────────────────────────────────┬───────────────┬─────────┐\n",
      "       │Interface                        │ Attribute     │ Value   │\n",
      "       ├─────────────────────────────────┼───────────────┼─────────┤\n",
      "       │isalnum(), isalpha(), isascii(), │ Thread safety │ MT-Safe │\n",
      "       │isblank(), iscntrl(), isdigit(), │               │         │\n",
      "       │isgraph(), islower(), isprint(), │               │         │\n",
      "       │ispunct(), isspace(), isupper(), │               │         │\n",
      "       │isxdigit()                       │               │         │\n",
      "       └─────────────────────────────────┴───────────────┴─────────┘\n",
      "CONFORMING TO\n",
      "       C89  specifies  isalnum(),  isalpha(), iscntrl(), isdigit(), isgraph(),\n",
      "       islower(), isprint(), ispunct(), isspace(), isupper(), and  isxdigit(),\n",
      "       but  not  isascii()  and  isblank().  POSIX.1-2001 also specifies those\n",
      "       functions, and also isascii() (as an XSI extension) and isblank().  C99\n",
      "       specifies all of the preceding functions, except isascii().\n",
      "\n",
      "       POSIX.1-2008 marks isascii() as obsolete, noting that it cannot be used\n",
      "       portably in a localized application.\n",
      "\n",
      "       POSIX.1-2008 specifies  isalnum_l(),  isalpha_l(),  isblank_l(),  iscn‐\n",
      "       trl_l(),   isdigit_l(),   isgraph_l(),  islower_l(),  isprint_l(),  is‐\n",
      "       punct_l(), isspace_l(), isupper_l(), and isxdigit_l().\n",
      "\n",
      "       isascii_l() is a GNU extension.\n",
      "\n",
      "NOTES\n",
      "       The standards require that the argument c for these functions is either\n",
      "       EOF or a value that is representable in the type unsigned char.  If the\n",
      "       argument c is of type char, it must be cast to unsigned char, as in the\n",
      "       following example:\n",
      "\n",
      "           char c;\n",
      "           ...\n",
      "           res = toupper((unsigned char) c);\n",
      "\n",
      "       This is necessary because char may be the equivalent of signed char, in\n",
      "       which case a byte where the top bit is set would be sign extended  when\n",
      "       converting  to  int,  yielding a value that is outside the range of un‐\n",
      "       signed char.\n",
      "\n",
      "       The details of what characters belong to which class depend on the  lo‐\n",
      "       cale.   For example, isupper() will not recognize an A-umlaut (Ä) as an\n",
      "       uppercase letter in the default C locale.\n",
      "\n",
      "SEE ALSO\n",
      "       iswalnum(3), iswalpha(3), iswblank(3), iswcntrl(3),  iswdigit(3),  isw‐\n",
      "       graph(3),  iswlower(3),  iswprint(3),  iswpunct(3), iswspace(3), iswup‐\n",
      "       per(3),   iswxdigit(3),   newlocale(3),    setlocale(3),    toascii(3),\n",
      "       tolower(3), toupper(3), uselocale(3), ascii(7), locale(7)\n",
      "\n",
      "COLOPHON\n",
      "       This  page  is  part of release 5.05 of the Linux man-pages project.  A\n",
      "       description of the project, information about reporting bugs,  and  the\n",
      "       latest     version     of     this    page,    can    be    found    at\n",
      "       https://www.kernel.org/doc/man-pages/.\n",
      "\n",
      "GNU                               2017-09-15                        ISALPHA(3)\n"
     ]
    }
   ],
   "source": [
    "! man islower"
   ]
  },
  {
   "cell_type": "code",
   "execution_count": 90,
   "metadata": {},
   "outputs": [
    {
     "name": "stdout",
     "output_type": "stream",
     "text": [
      "Overwriting 0x02-functions_nested_loops/3-islower.c\n"
     ]
    }
   ],
   "source": [
    "%%file 0x02-functions_nested_loops/3-islower.c\n",
    "#include \"main.h\"\n",
    "/**\n",
    " * _islower - checks for lowercase character\n",
    " * @c: the character to check\n",
    " * Return: 1 if c is lowercase, 0 otherwise\n",
    " */\n",
    "\n",
    "int _islower(int x)\n",
    "{\n",
    "return (x >= 'a' && x <= 'z');\n",
    "}\n"
   ]
  },
  {
   "cell_type": "code",
   "execution_count": 91,
   "metadata": {},
   "outputs": [
    {
     "name": "stdout",
     "output_type": "stream",
     "text": [
      "Overwriting 0x02-functions_nested_loops/3-main.c\n"
     ]
    }
   ],
   "source": [
    "%%file 0x02-functions_nested_loops/3-main.c \n",
    "#include \"main.h\"\n",
    "\n",
    "/**\n",
    " * main - check the code.\n",
    " *\n",
    " * Return: Always 0.\n",
    " */\n",
    "int main(void)\n",
    "{\n",
    "    int r;\n",
    "\n",
    "    r = _islower('H');\n",
    "    _putchar(r + '0');\n",
    "    r = _islower('o');\n",
    "    _putchar(r + '0');\n",
    "    r = _islower(108);\n",
    "    _putchar(r + '0');\n",
    "    _putchar('\\n');\n",
    "    return (0);\n",
    "}\n"
   ]
  },
  {
   "cell_type": "code",
   "execution_count": 92,
   "metadata": {},
   "outputs": [
    {
     "name": "stdout",
     "output_type": "stream",
     "text": [
      "Overwriting 0x02-functions_nested_loops/main.h\n"
     ]
    }
   ],
   "source": [
    "%%file 0x02-functions_nested_loops/main.h\n",
    "#ifndef MAIN_H\n",
    "#define MAIN_H\n",
    "\n",
    "#include <stdio.h>\n",
    "\n",
    "int _putchar(char c);\n",
    "void print_alphabet(void);\n",
    "void print_alphabet_x10(void);\n",
    "int _islower(int c);\n",
    "\n",
    "#endif"
   ]
  },
  {
   "cell_type": "code",
   "execution_count": 93,
   "metadata": {},
   "outputs": [
    {
     "name": "stdout",
     "output_type": "stream",
     "text": [
      "\n",
      "========== 0x02-functions_nested_loops/3-islower ==========\n"
     ]
    },
    {
     "name": "stdout",
     "output_type": "stream",
     "text": [
      "0x02-functions_nested_loops/3-islower:0: ERROR: Does not appear to be a unified-diff format patch\n",
      "total: 1 errors, 0 warnings, 0 lines checked\n",
      "011\n"
     ]
    }
   ],
   "source": [
    "%%bash\n",
    "betty 0x02-functions_nested_loops/3-islower\n",
    "gcc -Wall -pedantic -Werror -Wextra -std=gnu89 0x02-functions_nested_loops/_putchar.c 0x02-functions_nested_loops/3-main.c 0x02-functions_nested_loops/3-islower.c -o 0x02-functions_nested_loops/3-islower\n",
    "./0x02-functions_nested_loops/3-islower"
   ]
  },
  {
   "cell_type": "code",
   "execution_count": 89,
   "metadata": {},
   "outputs": [
    {
     "name": "stdout",
     "output_type": "stream",
     "text": [
      "[main 131aba8] 0x02-functions_nested_loops/3-name\n",
      " 5 files changed, 366 insertions(+), 74 deletions(-)\n",
      " create mode 100755 0x02-functions_nested_loops/3-islower\n",
      " create mode 100644 0x02-functions_nested_loops/3-islower.c\n",
      " create mode 100644 0x02-functions_nested_loops/3-main.c\n",
      "Enumerating objects: 12, done.\n",
      "Counting objects: 100% (12/12), done.\n",
      "Delta compression using up to 12 threads\n",
      "Compressing objects: 100% (8/8), done.\n",
      "Writing objects: 100% (8/8), 7.15 KiB | 3.57 MiB/s, done.\n",
      "Total 8 (delta 4), reused 0 (delta 0)\n",
      "remote: Resolving deltas: 100% (4/4), completed with 4 local objects.\u001b[K\n",
      "To https://github.com/elkomysara/alx-low_level_programming.git\n",
      "   5996486..131aba8  main -> main\n",
      "Branch 'main' set up to track remote branch 'main' from 'origin'.\n"
     ]
    }
   ],
   "source": [
    "!git add .\n",
    "!git commit -m \"0x02-functions_nested_loops/3-name\"\n",
    "!git push -u origin main"
   ]
  },
  {
   "cell_type": "markdown",
   "metadata": {},
   "source": [
    "### \n",
    "\n",
    "\n",
    "---\n",
    "<center>\n",
    "<h4> 4. isalpha</h4>\n",
    "</center>\n",
    "\n",
    "---"
   ]
  },
  {
   "cell_type": "markdown",
   "metadata": {},
   "source": [
    "#### Write a function that checks for alphabetic character.\n",
    "\n",
    "* Prototype: int _isalpha(int c);\n",
    "* Returns 1 if c is a letter, lowercase or uppercase\n",
    "* Returns 0 otherwise\n",
    "FYI: The standard library provides a similar function: isalpha. Run man isalpha to learn more.\n",
    "\n",
    "```bash\n",
    "julien@ubuntu:~/0x02$ cat 4-main.c \n",
    "#include \"main.h\"\n",
    "\n",
    "/**\n",
    " * main - check the code.\n",
    " *\n",
    " * Return: Always 0.\n",
    " */\n",
    "int main(void)\n",
    "{\n",
    "    int r;\n",
    "\n",
    "    r = _isalpha('H');\n",
    "    _putchar(r + '0');\n",
    "    r = _isalpha('o');\n",
    "    _putchar(r + '0');\n",
    "    r = _isalpha(108);\n",
    "    _putchar(r + '0');\n",
    "    r = _isalpha(';');\n",
    "    _putchar(r + '0');\n",
    "    _putchar('\\n');\n",
    "    return (0);\n",
    "}\n",
    "julien@ubuntu:~/0x02$ gcc -Wall -pedantic -Werror -Wextra -std=gnu89 _putchar.c 4-main.c 4-isalpha.c -o 4-isalpha\n",
    "julien@ubuntu:~/0x02$ ./4-isalpha \n",
    "1110\n",
    "julien@ubuntu:~/0x02$ \n",
    "```\n",
    "\n",
    "#### Repo:\n",
    "* GitHub repository: `alx-low_level_programming`\n",
    "* Directory: `0x02-functions_nested_loops`\n",
    "* File: `4-isalpha.c`"
   ]
  },
  {
   "cell_type": "code",
   "execution_count": 112,
   "metadata": {},
   "outputs": [
    {
     "name": "stdout",
     "output_type": "stream",
     "text": [
      "Overwriting 0x02-functions_nested_loops/4-isalpha.c\n"
     ]
    }
   ],
   "source": [
    "%%file 0x02-functions_nested_loops/4-isalpha.c\n",
    "#include \"main.h\"\n",
    "\n",
    "/**\n",
    " * _isalpha - checks for alphabetic character\n",
    " * @x: the character to be checked\n",
    " * Return: 1 if x is a letter, 0 otherwise\n",
    " */\n",
    "int _isalpha(int x)\n",
    "{\n",
    "return ((x >= 'a' && x <= 'z') || (x >= 'A' && x <= 'Z'));\n",
    "}"
   ]
  },
  {
   "cell_type": "code",
   "execution_count": 113,
   "metadata": {},
   "outputs": [
    {
     "name": "stdout",
     "output_type": "stream",
     "text": [
      "Overwriting 0x02-functions_nested_loops/4-main.c\n"
     ]
    }
   ],
   "source": [
    "%%file 0x02-functions_nested_loops/4-main.c \n",
    "#include \"main.h\"\n",
    "\n",
    "/**\n",
    " * main - check the code.\n",
    " *\n",
    " * Return: Always 0.\n",
    " */\n",
    "int main(void)\n",
    "{\n",
    "    int r;\n",
    "\n",
    "    r = _isalpha('H');\n",
    "    _putchar(r + '0');\n",
    "    r = _isalpha('o');\n",
    "    _putchar(r + '0');\n",
    "    r = _isalpha(108);\n",
    "    _putchar(r + '0');\n",
    "    r = _isalpha(';');\n",
    "    _putchar(r + '0');\n",
    "    _putchar('\\n');\n",
    "    return (0);\n",
    "}"
   ]
  },
  {
   "cell_type": "code",
   "execution_count": 114,
   "metadata": {},
   "outputs": [
    {
     "name": "stdout",
     "output_type": "stream",
     "text": [
      "Overwriting 0x02-functions_nested_loops/main.h\n"
     ]
    }
   ],
   "source": [
    "%%file 0x02-functions_nested_loops/main.h\n",
    "#ifndef MAIN_H\n",
    "#define MAIN_H\n",
    "\n",
    "#include <stdio.h>\n",
    "\n",
    "int _putchar(char x);\n",
    "void print_alphabet(void);\n",
    "void print_alphabet_x10(void);\n",
    "int _islower(int x);\n",
    "int _isalpha(int x);\n",
    "\n",
    "#endif"
   ]
  },
  {
   "cell_type": "code",
   "execution_count": 116,
   "metadata": {},
   "outputs": [
    {
     "name": "stdout",
     "output_type": "stream",
     "text": [
      "\n",
      "========== 0x02-functions_nested_loops/4-isalpha.c ==========\n"
     ]
    },
    {
     "name": "stdout",
     "output_type": "stream",
     "text": [
      "_isalpha\n",
      "1110\n"
     ]
    }
   ],
   "source": [
    "%%bash\n",
    "betty 0x02-functions_nested_loops/4-isalpha.c\n",
    "gcc -Wall -pedantic -Werror -Wextra -std=gnu89 0x02-functions_nested_loops/_putchar.c 0x02-functions_nested_loops/4-main.c 0x02-functions_nested_loops/4-isalpha.c -o 0x02-functions_nested_loops/4-isalpha\n",
    "./0x02-functions_nested_loops/4-isalpha"
   ]
  },
  {
   "cell_type": "code",
   "execution_count": 117,
   "metadata": {},
   "outputs": [
    {
     "name": "stdout",
     "output_type": "stream",
     "text": [
      "[main 4cd60ab] 0x02-shell_redirections/4-lastlines\n",
      " 6 files changed, 180 insertions(+), 63 deletions(-)\n",
      " create mode 100755 0x02-functions_nested_loops/4-isalpha\n",
      " create mode 100644 0x02-functions_nested_loops/4-isalpha.c\n",
      " create mode 100644 0x02-functions_nested_loops/4-main.c\n",
      "Enumerating objects: 14, done.\n",
      "Counting objects: 100% (14/14), done.\n",
      "Delta compression using up to 12 threads\n",
      "Compressing objects: 100% (9/9), done.\n",
      "Writing objects: 100% (9/9), 4.31 KiB | 2.16 MiB/s, done.\n",
      "Total 9 (delta 5), reused 0 (delta 0)\n",
      "remote: Resolving deltas: 100% (5/5), completed with 5 local objects.\u001b[K\n",
      "To https://github.com/elkomysara/alx-low_level_programming.git\n",
      "   131aba8..4cd60ab  main -> main\n",
      "Branch 'main' set up to track remote branch 'main' from 'origin'.\n"
     ]
    }
   ],
   "source": [
    "!git add .\n",
    "!git commit -m \"0x02-shell_redirections/4-lastlines\"\n",
    "!git push -u origin main"
   ]
  },
  {
   "cell_type": "markdown",
   "metadata": {},
   "source": [
    "### \n",
    "\n",
    "\n",
    "---\n",
    "<center>\n",
    "<h4> 5. Sign</h4>\n",
    "</center>\n",
    "\n",
    "---"
   ]
  },
  {
   "cell_type": "markdown",
   "metadata": {},
   "source": [
    "##### Write a function that prints the sign of a number.\n",
    "\n",
    "* Prototype: `int print_sign(int n)`;\n",
    "* Returns `1` and prints `+` if `n` is greater than zero\n",
    "* Returns `0` and prints `0` if `n` is zero\n",
    "* Returns `-1` and prints `-` if `n` is less than zero\n",
    "\n",
    "```bash\n",
    "julien@ubuntu:~/0x02$ cat 5-main.c\n",
    "#include \"main.h\"\n",
    "\n",
    "/**\n",
    " * main - check the code.\n",
    " *\n",
    " * Return: Always 0.\n",
    " */\n",
    "int main(void)\n",
    "{\n",
    "    int r;\n",
    "\n",
    "    r = print_sign(98);\n",
    "    _putchar(',');\n",
    "    _putchar(' ');\n",
    "    _putchar(r + '0');\n",
    "    _putchar('\\n');\n",
    "    r = print_sign(0);\n",
    "    _putchar(',');\n",
    "    _putchar(' ');\n",
    "    _putchar(r + '0');\n",
    "    _putchar('\\n');\n",
    "    r = print_sign(0xff);\n",
    "    _putchar(',');\n",
    "    _putchar(' ');\n",
    "    _putchar(r + '0');\n",
    "    _putchar('\\n');\n",
    "    r = print_sign(-1);\n",
    "    _putchar(',');\n",
    "    _putchar(' ');\n",
    "    _putchar(r + '0');\n",
    "    _putchar('\\n');\n",
    "    return (0);\n",
    "}\n",
    "julien@ubuntu:~/0x02$ gcc -Wall -pedantic -Werror -Wextra -std=gnu89 _putchar.c 5-main.c 5-sign.c -o 5-sign\n",
    "julien@ubuntu:~/0x02$ ./5-sign \n",
    "+, 1\n",
    "0, 0\n",
    "+, 1\n",
    "-, /\n",
    "julien@ubuntu:~/0x02$   \n",
    "```\n",
    "\n",
    "##### Repo:\n",
    "\n",
    "* GitHub repository: `alx-low_level_programming`\n",
    "* Directory: `0x02-functions_nested_loops`\n",
    "* File: `5-sign.c`"
   ]
  },
  {
   "cell_type": "code",
   "execution_count": 142,
   "metadata": {},
   "outputs": [
    {
     "name": "stdout",
     "output_type": "stream",
     "text": [
      "Overwriting 0x02-functions_nested_loops/5-sign.c\n"
     ]
    }
   ],
   "source": [
    "%%file 0x02-functions_nested_loops/5-sign.c\n",
    "#include \"main.h\"\n",
    "/**\n",
    "* print_sign - Entry point\n",
    "* @x: parameter\n",
    "* Return: Always 0 (Success)\n",
    "*/\n",
    "\n",
    "int print_sign(int x)\n",
    "{\n",
    "if (x > 0)\n",
    "{\n",
    "_putchar('+');\n",
    "return (1);\n",
    "}\n",
    "else if (x == 0)\n",
    "{\n",
    "_putchar(0 + '0');\n",
    "return (0);\n",
    "}\n",
    "else if (x < 0)\n",
    "{\n",
    "_putchar('-');\n",
    "\n",
    "}\n",
    "return (-1);\n",
    "}\n",
    "\n"
   ]
  },
  {
   "cell_type": "code",
   "execution_count": 143,
   "metadata": {},
   "outputs": [
    {
     "name": "stdout",
     "output_type": "stream",
     "text": [
      "Overwriting 0x02-functions_nested_loops/5-main.c\n"
     ]
    }
   ],
   "source": [
    "%%file 0x02-functions_nested_loops/5-main.c\n",
    "#include \"main.h\"\n",
    "\n",
    "/**\n",
    " * main - check the code.\n",
    " *\n",
    " * Return: Always 0.\n",
    " */\n",
    "int main(void)\n",
    "{\n",
    "    int r;\n",
    "\n",
    "    r = print_sign(98);\n",
    "    _putchar(',');\n",
    "    _putchar(' ');\n",
    "    _putchar(r + '0');\n",
    "    _putchar('\\n');\n",
    "    r = print_sign(0);\n",
    "    _putchar(',');\n",
    "    _putchar(' ');\n",
    "    _putchar(r + '0');\n",
    "    _putchar('\\n');\n",
    "    r = print_sign(0xff);\n",
    "    _putchar(',');\n",
    "    _putchar(' ');\n",
    "    _putchar(r + '0');\n",
    "    _putchar('\\n');\n",
    "    r = print_sign(-1);\n",
    "    _putchar(',');\n",
    "    _putchar(' ');\n",
    "    _putchar(r + '0');\n",
    "    _putchar('\\n');\n",
    "    return (0);\n",
    "}"
   ]
  },
  {
   "cell_type": "code",
   "execution_count": 144,
   "metadata": {},
   "outputs": [
    {
     "name": "stdout",
     "output_type": "stream",
     "text": [
      "Overwriting 0x02-functions_nested_loops/main.h\n"
     ]
    }
   ],
   "source": [
    "%%file 0x02-functions_nested_loops/main.h\n",
    "#ifndef MAIN_H\n",
    "#define MAIN_H\n",
    "\n",
    "#include <stdio.h>\n",
    "\n",
    "int _putchar(char x);\n",
    "void print_alphabet(void);\n",
    "void print_alphabet_x10(void);\n",
    "int _islower(int x);\n",
    "int _isalpha(int x);\n",
    "int print_sign(int x);\n",
    "\n",
    "#endif"
   ]
  },
  {
   "cell_type": "code",
   "execution_count": 145,
   "metadata": {},
   "outputs": [
    {
     "name": "stdout",
     "output_type": "stream",
     "text": [
      "\n",
      "========== 0x02-functions_nested_loops/5-sign.c ==========\n",
      "print_sign\n",
      "+, 1\n",
      "0, 0\n",
      "+, 1\n",
      "-, /\n"
     ]
    }
   ],
   "source": [
    "%%bash\n",
    "betty 0x02-functions_nested_loops/5-sign.c\n",
    "gcc -Wall -pedantic -Werror -Wextra -std=gnu89 0x02-functions_nested_loops/_putchar.c 0x02-functions_nested_loops/5-main.c 0x02-functions_nested_loops/5-sign.c -o 0x02-functions_nested_loops/5-sign\n",
    "./0x02-functions_nested_loops/5-sign"
   ]
  },
  {
   "cell_type": "code",
   "execution_count": 125,
   "metadata": {},
   "outputs": [
    {
     "name": "stdout",
     "output_type": "stream",
     "text": [
      "[main 3fce7fc] 0x02-functions_nested_loops/5-print_numbers.c\n",
      " 4 files changed, 254 insertions(+), 38 deletions(-)\n",
      " create mode 100644 0x02-functions_nested_loops/5-main.c\n",
      " create mode 100644 0x02-functions_nested_loops/5-sign.c\n"
     ]
    },
    {
     "name": "stderr",
     "output_type": "stream",
     "text": [
      "To https://github.com/elkomysara/alx-low_level_programming.git\n",
      "   4cd60ab..3fce7fc  main -> main\n"
     ]
    }
   ],
   "source": [
    "%%bash\n",
    "git add .\n",
    "git commit -m \"0x02-functions_nested_loops/5-print_numbers.c\"\n",
    "git push"
   ]
  },
  {
   "cell_type": "markdown",
   "metadata": {},
   "source": [
    "### \n",
    "\n",
    "\n",
    "---\n",
    "<center>\n",
    "<h4> 6. Numberz</h4>\n",
    "</center>\n",
    "\n",
    "---"
   ]
  },
  {
   "cell_type": "markdown",
   "metadata": {},
   "source": [
    "##### Write a program that prints all single digit numbers of base 10 starting from `0`, followed by a new line.\n",
    "\n",
    "You are not allowed to use any variable of type `char`\n",
    "You can only use the `putchar` function (every other function (`printf`, `puts`, etc…) is forbidden)\n",
    "You can only use `putchar` twice in your code\n",
    "All your code should be in the `main` function\n",
    "```bash\n",
    "julien@ubuntu:~/0x01$ gcc -Wall -pedantic -Werror -Wextra -std=gnu89 6-print_numberz.c -o 6-print_numberz\n",
    "julien@ubuntu:~/0x01$ ./6-print_numberz \n",
    "0123456789\n",
    "julien@ubuntu:~/0x01$ \n",
    "\n",
    "```\n",
    "\n",
    "#### Repo:\n",
    "\n",
    "* GitHub repository: `alx-low_level_programming`\n",
    "* Directory: `0x02-functions_nested_loops`\n",
    "* File: `6-print_numberz.c`"
   ]
  },
  {
   "cell_type": "code",
   "execution_count": 25,
   "metadata": {},
   "outputs": [
    {
     "name": "stdout",
     "output_type": "stream",
     "text": [
      "Overwriting 0x01-variables_if_else_while/6-print_numberz.c\n"
     ]
    }
   ],
   "source": [
    "%%file 0x02-functions_nested_loops/6-print_numberz.c\n",
    "#include <stdio.h>\n",
    "/**\n",
    "* main - Entry point\n",
    "*\n",
    "* Return: Always 0 (Success)\n",
    "*/\n",
    "int main(void)\n",
    "{\n",
    "int x;\n",
    "for (x = 0; x < 10; x++)\n",
    "{\n",
    "putchar(x + '0');\n",
    "}\n",
    "putchar('\\n');\n",
    "return (0);\n",
    "}"
   ]
  },
  {
   "cell_type": "code",
   "execution_count": 23,
   "metadata": {},
   "outputs": [
    {
     "name": "stdout",
     "output_type": "stream",
     "text": [
      "Overwriting 0x01-variables_if_else_while/6-print_numberz.c\n"
     ]
    }
   ],
   "source": [
    "%%file 0x02-functions_nested_loops/6-print_numberz.c\n",
    "#include <stdio.h>\n",
    "\n",
    "/**\n",
    " * main - prints all single digit numbers of base 10 starting from 0,\n",
    " * followed by a new line, using putchar \n",
    " * Return: Always 0 (Success)\n",
    " */\n",
    "int main(void)\n",
    "{\n",
    "\tint n;\n",
    "\n",
    "\tfor (n = 48; n < 58; n++)\n",
    "\t{\n",
    "\t\tputchar(n);\n",
    "\t}\n",
    "\tputchar('\\n');\n",
    "\treturn (0);\n",
    "}"
   ]
  },
  {
   "cell_type": "code",
   "execution_count": 26,
   "metadata": {},
   "outputs": [
    {
     "name": "stdout",
     "output_type": "stream",
     "text": [
      "\n",
      "========== 0x01-variables_if_else_while/6-print_numberz.c ==========\n",
      "main\n",
      "0123456789\n"
     ]
    }
   ],
   "source": [
    "%%bash\n",
    "betty 0x02-functions_nested_loops/6-print_numberz.c\n",
    "gcc -Wall -pedantic -Werror -Wextra -std=gnu89 0x02-functions_nested_loops/6-print_numberz.c -o 0x02-functions_nested_loops/6-print_numberz\n",
    "./0x02-functions_nested_loops/6-print_numberz\n"
   ]
  },
  {
   "cell_type": "code",
   "execution_count": 85,
   "metadata": {},
   "outputs": [
    {
     "name": "stdout",
     "output_type": "stream",
     "text": [
      "[main d5f17fa] 0x03-shell_variables_expansions/6-create_local_variable\n",
      " 2 files changed, 8 insertions(+), 6 deletions(-)\n"
     ]
    },
    {
     "name": "stderr",
     "output_type": "stream",
     "text": [
      "To https://github.com/elkomysara/alx-low_level_programming.git\n",
      "   10adcce..d5f17fa  main -> main\n"
     ]
    }
   ],
   "source": [
    "%%bash\n",
    "git add .\n",
    "git commit -m \"0x03-shell_variables_expansions/6-create_local_variable\"\n",
    "git push"
   ]
  },
  {
   "cell_type": "markdown",
   "metadata": {},
   "source": [
    "### \n",
    "\n",
    "\n",
    "---\n",
    "<center>\n",
    "<h4> 7. Smile in the mirror </h4>\n",
    "</center>\n",
    "\n",
    "---"
   ]
  },
  {
   "cell_type": "markdown",
   "metadata": {},
   "source": [
    "##### Write a program that prints the lowercase alphabet in reverse, followed by a new line.\n",
    "\n",
    "* You can only use the `putchar` function (every other function (`printf`, `puts`, etc…) is forbidden)\n",
    "* All your code should be in the `main` function\n",
    "* You can only use `putchar` twice in your code\n",
    "```bash\n",
    "julien@ubuntu:~/0x01$ gcc -Wall -pedantic -Werror -Wextra -std=gnu89 7-print_tebahpla.c -o 7-print_tebahpla\n",
    "julien@ubuntu:~/0x01$ ./7-print_tebahpla\n",
    "zyxwvutsrqponmlkjihgfedcba\n",
    "julien@ubuntu:~/0x01$\n",
    "```\n",
    "#### Repo:\n",
    "\n",
    "* GitHub repository: `alx-low_level_programming`\n",
    "* Directory: `0x02-functions_nested_loops`\n",
    "* File: `7-print_tebahpla.c`"
   ]
  },
  {
   "cell_type": "code",
   "execution_count": 5,
   "metadata": {},
   "outputs": [
    {
     "name": "stdout",
     "output_type": "stream",
     "text": [
      "Overwriting 0x01-variables_if_else_while/7-print_tebahpla.c\n"
     ]
    }
   ],
   "source": [
    "%%file 0x02-functions_nested_loops/7-print_tebahpla.c\n",
    "#include <stdio.h>\n",
    "\n",
    "/**\n",
    " * main - prints the lowercase alphabet in reverse\n",
    " * followed by a new line\n",
    " * Return: Always 0 (Success)\n",
    " */\n",
    "int main(void)\n",
    "{\n",
    "char x;\n",
    "for (x = 'z'; x >= 'a'; x--)\n",
    "{\n",
    "putchar(x);\n",
    "}\n",
    "putchar('\\n');\n",
    "return (0);\n",
    "}"
   ]
  },
  {
   "cell_type": "code",
   "execution_count": 6,
   "metadata": {},
   "outputs": [
    {
     "name": "stdout",
     "output_type": "stream",
     "text": [
      "\n",
      "========== 0x01-variables_if_else_while/7-print_tebahpla.c ==========\n"
     ]
    },
    {
     "name": "stdout",
     "output_type": "stream",
     "text": [
      "main\n",
      "zyxwvutsrqponmlkjihgfedcba\n"
     ]
    }
   ],
   "source": [
    "%%bash\n",
    "betty 0x02-functions_nested_loops/7-print_tebahpla.c\n",
    "gcc -Wall -pedantic -Werror -Wextra -std=gnu89 0x02-functions_nested_loops/7-print_tebahpla.c -o 0x02-functions_nested_loops/7-print_tebahpla\n",
    "./0x02-functions_nested_loops/7-print_tebahpla"
   ]
  },
  {
   "cell_type": "code",
   "execution_count": 7,
   "metadata": {},
   "outputs": [
    {
     "name": "stdout",
     "output_type": "stream",
     "text": [
      "[main bf15c2e] 0x03-shell_variables_expansions/7-create_global_variable\n",
      " 5 files changed, 151 insertions(+), 76 deletions(-)\n",
      " create mode 100755 0x01-variables_if_else_while/6-print_numberz\n",
      " create mode 100644 0x01-variables_if_else_while/6-print_numberz.c\n",
      " create mode 100755 0x01-variables_if_else_while/7-print_tebahpla\n",
      " create mode 100644 0x01-variables_if_else_while/7-print_tebahpla.c\n"
     ]
    },
    {
     "name": "stderr",
     "output_type": "stream",
     "text": [
      "To https://github.com/elkomysara/alx-low_level_programming.git\n",
      "   b54ea56..bf15c2e  main -> main\n"
     ]
    }
   ],
   "source": [
    "%%bash\n",
    "git add .\n",
    "git commit -m \"0x03-shell_variables_expansions/7-create_global_variable\"\n",
    "git push"
   ]
  },
  {
   "cell_type": "markdown",
   "metadata": {},
   "source": [
    "### \n",
    "\n",
    "\n",
    "---\n",
    "<center>\n",
    "<h4> 8.Hexadecimal  </h4>\n",
    "</center>\n",
    "\n",
    "---"
   ]
  },
  {
   "cell_type": "markdown",
   "metadata": {},
   "source": [
    "##### Write a program that prints all the numbers of base 16 in lowercase, followed by a new line.\n",
    "\n",
    "* You can only use the putchar function (every other function (printf, puts, etc…) is forbidden)\n",
    "* All your code should be in the main function\n",
    "* You can only use putchar three times in your code\n",
    "\n",
    "```bash\n",
    "julien@ubuntu:~/0x01$ gcc -Wall -pedantic -Werror -Wextra -std=gnu89 8-print_base16.c -o 8-print_base16\n",
    "julien@ubuntu:~/0x01$ ./8-print_base16\n",
    "0123456789abcdef\n",
    "julien@ubuntu:~/0x01$\n",
    "```\n",
    "\n",
    "#### Repo:\n",
    "\n",
    "* GitHub repository: `alx-low_level_programming`\n",
    "* Directory: `0x02-functions_nested_loops`\n",
    "* File: `8-print_base16.c`\n"
   ]
  },
  {
   "cell_type": "code",
   "execution_count": 33,
   "metadata": {},
   "outputs": [
    {
     "name": "stdout",
     "output_type": "stream",
     "text": [
      "Overwriting 0x01-variables_if_else_while/8-print_base16.c\n"
     ]
    }
   ],
   "source": [
    "%%file 0x02-functions_nested_loops/8-print_base16.c\n",
    "#include <stdio.h>\n",
    "\n",
    "/**\n",
    " * main - prints all\n",
    " * the numbers of base 16 in lowercase,\n",
    " * followed by a new line\n",
    " * Return: Always 0 (Success)\n",
    " */\n",
    "\n",
    "int main(void)\n",
    "{\n",
    "int x;\n",
    "for (x = 0; x <= 9; x++)\n",
    "{\n",
    "putchar(x + '0');\n",
    "}\n",
    "for (x = 'a'; x <= 'f'; x++)\n",
    "{\n",
    "putchar(x);\n",
    "}\n",
    "putchar('\\n');\n",
    "return (0);\n",
    "}"
   ]
  },
  {
   "cell_type": "code",
   "execution_count": 34,
   "metadata": {},
   "outputs": [
    {
     "name": "stdout",
     "output_type": "stream",
     "text": [
      "\n",
      "========== 0x01-variables_if_else_while/8-print_base16.c ==========\n",
      "main\n",
      "0123456789abcdef\n"
     ]
    }
   ],
   "source": [
    "%%bash\n",
    "betty 0x02-functions_nested_loops/8-print_base16.c\n",
    "gcc -Wall -pedantic -Werror -Wextra -std=gnu89 0x02-functions_nested_loops/8-print_base16.c -o 0x02-functions_nested_loops/8-print_base16\n",
    "./0x02-functions_nested_loops/8-print_base16"
   ]
  },
  {
   "cell_type": "code",
   "execution_count": 17,
   "metadata": {},
   "outputs": [
    {
     "name": "stdout",
     "output_type": "stream",
     "text": [
      "[main 28f038a] 0x03-shell_variables_expansions/8-true_knowledge\n",
      " 3 files changed, 72 insertions(+), 29 deletions(-)\n",
      " create mode 100755 0x01-variables_if_else_while/8-print_base16\n",
      " create mode 100644 0x01-variables_if_else_while/8-print_base16.c\n"
     ]
    },
    {
     "name": "stderr",
     "output_type": "stream",
     "text": [
      "To https://github.com/elkomysara/alx-low_level_programming.git\n",
      "   bf15c2e..28f038a  main -> main\n"
     ]
    }
   ],
   "source": [
    "%%bash\n",
    "git add .\n",
    "git commit -m \"0x03-shell_variables_expansions/8-true_knowledge\"\n",
    "git push"
   ]
  },
  {
   "cell_type": "markdown",
   "metadata": {},
   "source": [
    "### \n",
    "\n",
    "\n",
    "---\n",
    "<center>\n",
    "<h4> 9.Patience, persistence and perspiration make an unbeatable combination for success  </h4>\n",
    "</center>\n",
    "\n",
    "---"
   ]
  },
  {
   "cell_type": "markdown",
   "metadata": {},
   "source": [
    "##### Write a program that prints all possible combinations of single-digit numbers.\n",
    "\n",
    "* Numbers must be separated by `,`, followed by a space\n",
    "* Numbers should be printed in ascending order\n",
    "* You can only use the `putchar` function (every other function (`printf`,` puts`, etc…) is forbidden)\n",
    "* All your code should be in the `main` function\n",
    "* You can only use `putchar` four times maximum in your code\n",
    "* You are not allowed to use any variable of type `char`\n",
    "\n",
    "```bash\n",
    "julien@ubuntu:~/0x01$ gcc -Wall -pedantic -Werror -Wextra -std=gnu89 9-print_comb.c -o 9-print_comb\n",
    "julien@ubuntu:~/0x01$ ./9-print_comb | cat -e\n",
    "0, 1, 2, 3, 4, 5, 6, 7, 8, 9$\n",
    "julien@ubuntu:~/0x01$ \n",
    "```\n",
    "\n",
    "#### Repo:\n",
    "\n",
    "* GitHub repository: `alx-low_level_programming`\n",
    "* Directory: `0x02-functions_nested_loops`\n",
    "* File: `9-print_comb.c`\n"
   ]
  },
  {
   "cell_type": "code",
   "execution_count": 32,
   "metadata": {},
   "outputs": [
    {
     "name": "stdout",
     "output_type": "stream",
     "text": [
      "Overwriting 0x01-variables_if_else_while/9-print_comb.c\n"
     ]
    }
   ],
   "source": [
    "%%file 0x02-functions_nested_loops/9-print_comb.c\n",
    "#include <stdio.h>\n",
    "\n",
    "/**\n",
    " * main -  prints all\n",
    " * possible combinations of single-digit numbers.\n",
    " * Return: Always 0 (Success)\n",
    " */\n",
    "\n",
    "int main(void)\n",
    "{\n",
    "int x;\n",
    "x = 0;\n",
    "while (x <= 9)\n",
    "{\n",
    "putchar(x + '0');\n",
    "if (x != 9)\n",
    "{\n",
    "putchar(',');\n",
    "putchar(' ');\n",
    "}\n",
    "x++;\n",
    "}\n",
    "putchar('\\n');\n",
    "return (0);\n",
    "}"
   ]
  },
  {
   "cell_type": "code",
   "execution_count": 34,
   "metadata": {},
   "outputs": [
    {
     "name": "stdout",
     "output_type": "stream",
     "text": [
      "\n",
      "========== 0x01-variables_if_else_while/9-print_comb.c ==========\n",
      "main\n",
      "0, 1, 2, 3, 4, 5, 6, 7, 8, 9\n"
     ]
    }
   ],
   "source": [
    "%%bash\n",
    "betty 0x02-functions_nested_loops/9-print_comb.c\n",
    "gcc -Wall -pedantic -Werror -Wextra -std=gnu89 0x02-functions_nested_loops/9-print_comb.c -o 0x02-functions_nested_loops/9-print_comb\n",
    "./0x02-functions_nested_loops/9-print_comb"
   ]
  },
  {
   "cell_type": "code",
   "execution_count": 35,
   "metadata": {},
   "outputs": [
    {
     "name": "stdout",
     "output_type": "stream",
     "text": [
      "[main e03b4a6] 0x03-shell_variables_expansions/8-true_knowledge\n",
      " 3 files changed, 586 insertions(+), 6 deletions(-)\n",
      " create mode 100755 0x01-variables_if_else_while/9-print_comb\n",
      " create mode 100644 0x01-variables_if_else_while/9-print_comb.c\n"
     ]
    },
    {
     "name": "stderr",
     "output_type": "stream",
     "text": [
      "To https://github.com/elkomysara/alx-low_level_programming.git\n",
      "   28f038a..e03b4a6  main -> main\n"
     ]
    }
   ],
   "source": [
    "%%bash\n",
    "git add .\n",
    "git commit -m \"0x03-shell_variables_expansions/8-true_knowledge\"\n",
    "git push"
   ]
  },
  {
   "cell_type": "markdown",
   "metadata": {},
   "source": [
    "### \n",
    "\n",
    "\n",
    "---\n",
    "<center>\n",
    "<h4> 10. Inventing is a combination of brains and materials. The more brains you use, the less material you need  </h4>\n",
    "</center>\n",
    "\n",
    "---"
   ]
  },
  {
   "cell_type": "markdown",
   "metadata": {},
   "source": [
    "##### Write a program that prints all possible different combinations of two digits.\n",
    "\n",
    "* Numbers must be separated by ,, followed by a space\n",
    "* The two digits must be different\n",
    "* 01 and 10 are considered the same combination of the two digits 0 and 1\n",
    "* Print only the smallest combination of two digits\n",
    "* Numbers should be printed in ascending order, with two digits\n",
    "* You can only use the putchar function (every other function (printf, puts, etc…) is forbidden)\n",
    "* You can only use putchar five times maximum in your code\n",
    "* You are not allowed to use any variable of type char\n",
    "* All your code should be in the main function\n",
    "\n",
    "```bash\n",
    "julien@ubuntu:~/0x01$ gcc -Wall -pedantic -Werror -Wextra -std=gnu89 100-print_comb3.c -o 100-print_comb3\n",
    "julien@ubuntu:~/0x01$ ./100-print_comb3\n",
    "01, 02, 03, 04, 05, 06, 07, 08, 09, 12, 13, 14, 15, 16, 17, 18, 19, 23, 24, 25, 26, 27, 28, 29, 34, 35, 36, 37, 38, 39, 45, 46, 47, 48, 49, 56, 57, 58, 59, 67, 68, 69, 78, 79, 89\n",
    "julien@ubuntu:~/0x01$\n",
    "```\n",
    "\n",
    "#### Repo:\n",
    "\n",
    "* GitHub repository: `alx-low_level_programming`\n",
    "* Directory: `0x02-functions_nested_loops`\n",
    "* File: `100-print_comb3`\n"
   ]
  },
  {
   "cell_type": "code",
   "execution_count": 17,
   "metadata": {},
   "outputs": [
    {
     "name": "stdout",
     "output_type": "stream",
     "text": [
      "Overwriting 0x01-variables_if_else_while/100-print_comb3.c\n"
     ]
    }
   ],
   "source": [
    "%%file 0x02-functions_nested_loops/100-print_comb3.c\n",
    "#include <stdio.h>\n",
    "\n",
    "/**\n",
    " * main - prints all possible\n",
    " * different combinations of two digits.\n",
    " * Return: Always 0 (Success)\n",
    " */\n",
    "\n",
    "int main(void)\n",
    "{\n",
    "int x;\n",
    "int y;\n",
    "\n",
    "y = 0;\n",
    "for (x = 0; x <= 8; x++)\n",
    "{\n",
    "for (y = 1; y <= 9; y++)\n",
    "{\n",
    "if (y > x)\n",
    "{\n",
    "putchar(x + '0');\n",
    "putchar(y + '0');\n",
    "if (x < 8 || y < 9)\n",
    "{\n",
    "putchar(',');\n",
    "putchar(' ');\n",
    "}\n",
    "\n",
    "}\n",
    "\n",
    "}\n",
    "}\n",
    "putchar('\\n');\n",
    "return (0);\n",
    "}"
   ]
  },
  {
   "cell_type": "code",
   "execution_count": 18,
   "metadata": {},
   "outputs": [
    {
     "name": "stdout",
     "output_type": "stream",
     "text": [
      "\n",
      "========== 0x01-variables_if_else_while/100-print_comb3.c ==========\n",
      "main\n",
      "01, 02, 03, 04, 05, 06, 07, 08, 09, 12, 13, 14, 15, 16, 17, 18, 19, 23, 24, 25, 26, 27, 28, 29, 34, 35, 36, 37, 38, 39, 45, 46, 47, 48, 49, 56, 57, 58, 59, 67, 68, 69, 78, 79, 89\n"
     ]
    }
   ],
   "source": [
    "%%bash\n",
    "betty 0x02-functions_nested_loops/100-print_comb3.c\n",
    "gcc -Wall -pedantic -Werror -Wextra -std=gnu89 0x02-functions_nested_loops/100-print_comb3.c -o 0x02-functions_nested_loops/100-print_comb3\n",
    "./0x02-functions_nested_loops/100-print_comb3"
   ]
  },
  {
   "cell_type": "code",
   "execution_count": 19,
   "metadata": {},
   "outputs": [
    {
     "name": "stdout",
     "output_type": "stream",
     "text": [
      "[main 196a13d] 0x03-shell_variables_expansions/8-true_knowledge\n",
      " 3 files changed, 77 insertions(+), 37 deletions(-)\n",
      " create mode 100755 0x01-variables_if_else_while/100-print_comb3\n",
      " create mode 100644 0x01-variables_if_else_while/100-print_comb3.c\n"
     ]
    },
    {
     "name": "stderr",
     "output_type": "stream",
     "text": [
      "To https://github.com/elkomysara/alx-low_level_programming.git\n",
      "   e03b4a6..196a13d  main -> main\n"
     ]
    }
   ],
   "source": [
    "%%bash\n",
    "git add .\n",
    "git commit -m \"0x03-shell_variables_expansions/8-true_knowledge\"\n",
    "git push"
   ]
  },
  {
   "cell_type": "markdown",
   "metadata": {},
   "source": [
    "### \n",
    "\n",
    "\n",
    "---\n",
    "<center>\n",
    "<h4> 11. The success combination in business is: Do what you do better... and: do more of what you do...  </h4>\n",
    "</center>\n",
    "\n",
    "---"
   ]
  },
  {
   "cell_type": "markdown",
   "metadata": {},
   "source": [
    "##### Write a program that prints all possible different combinations of three digits.\n",
    "\n",
    "* Numbers must be separated by `,`, followed by a space\n",
    "* The three digits must be different\n",
    "* `012, 120, 102, 021, 201, 210 `are considered the same combination of the three digits `0`, `1` and `2`\n",
    "* Print only the smallest combination of three digits\n",
    "* Numbers should be printed in ascending order, with three digits\n",
    "* You can only use the putchar function (every other function (`printf, puts,` etc…) is forbidden)\n",
    "* You can only use `putchar` six times maximum in your code\n",
    "* You are not allowed to use any variable of type `char`\n",
    "* All your code should be in the `main` function\n",
    "\n",
    "```bash\n",
    "julien@ubuntu:~/0x01$ gcc -Wall -pedantic -Werror -Wextra -std=gnu89 101-print_comb4.c -o 101-print_comb4\n",
    "julien@ubuntu:~/0x01$ ./101-print_comb4\n",
    "012, 013, 014, 015, 016, 017, 018, 019, 023, 024, 025, 026, 027, 028, 029, 034, 035, 036, 037, 038, 039, 045, 046, 047, 048, 049, 056, 057, 058, 059, 067, 068, 069, 078, 079, 089, 123, 124, 125, 126, 127, 128, 129, 134, 135, 136, 137, 138, 139, 145, 146, 147, 148, 149, 156, 157, 158, 159, 167, 168, 169, 178, 179, 189, 234, 235, 236, 237, 238, 239, 245, 246, 247, 248, 249, 256, 257, 258, 259, 267, 268, 269, 278, 279, 289, 345, 346, 347, 348, 349, 356, 357, 358, 359, 367, 368, 369, 378, 379, 389, 456, 457, 458, 459, 467, 468, 469, 478, 479, 489, 567, 568, 569, 578, 579, 589, 678, 679, 689, 789\n",
    "julien@ubuntu:~/0x01$\n",
    "```\n",
    "\n",
    "#### Repo:\n",
    "\n",
    "* GitHub repository: `alx-low_level_programming`\n",
    "* Directory: `0x02-functions_nested_loops`\n",
    "* File: `101-print_comb4.c`\n"
   ]
  },
  {
   "cell_type": "code",
   "execution_count": 35,
   "metadata": {},
   "outputs": [
    {
     "name": "stdout",
     "output_type": "stream",
     "text": [
      "Writing 0x01-variables_if_else_while/101-print_comb4.c\n"
     ]
    }
   ],
   "source": [
    "%%file 0x02-functions_nested_loops/101-print_comb4.c\n",
    "#include <stdio.h>\n",
    "\n",
    "/**\n",
    " * main - prints all possible\n",
    " * different combinations of two digits.\n",
    " * Return: Always 0 (Success)\n",
    " */\n",
    "\n",
    "int main(void)\n",
    "{\n",
    "int x;\n",
    "int y;\n",
    "int z;\n",
    "\n",
    "y = 0;\n",
    "for (x = 0; x <= 7; x++)\n",
    "{\n",
    "for (y = 1; y <= 8; y++)\n",
    "{\n",
    "for (z = 2; z <= 9; z++)\n",
    "{\n",
    "if (z > y && y > x)\n",
    "{\n",
    "putchar(x + '0');\n",
    "putchar(y + '0');\n",
    "putchar(z + '0');\n",
    "if (x < 7 || y < 8 || z < 9)\n",
    "{\n",
    "putchar(',');\n",
    "putchar(' ');\n",
    "}\n",
    "}\n",
    "}\n",
    "}\n",
    "}\n",
    "putchar('\\n');\n",
    "return (0);\n",
    "}"
   ]
  },
  {
   "cell_type": "code",
   "execution_count": 36,
   "metadata": {},
   "outputs": [
    {
     "name": "stdout",
     "output_type": "stream",
     "text": [
      "\n",
      "========== 0x01-variables_if_else_while/101-print_comb4.c ==========\n",
      "main\n",
      "012, 013, 014, 015, 016, 017, 018, 019, 023, 024, 025, 026, 027, 028, 029, 034, 035, 036, 037, 038, 039, 045, 046, 047, 048, 049, 056, 057, 058, 059, 067, 068, 069, 078, 079, 089, 123, 124, 125, 126, 127, 128, 129, 134, 135, 136, 137, 138, 139, 145, 146, 147, 148, 149, 156, 157, 158, 159, 167, 168, 169, 178, 179, 189, 234, 235, 236, 237, 238, 239, 245, 246, 247, 248, 249, 256, 257, 258, 259, 267, 268, 269, 278, 279, 289, 345, 346, 347, 348, 349, 356, 357, 358, 359, 367, 368, 369, 378, 379, 389, 456, 457, 458, 459, 467, 468, 469, 478, 479, 489, 567, 568, 569, 578, 579, 589, 678, 679, 689, 789\n"
     ]
    }
   ],
   "source": [
    "%%bash\n",
    "betty 0x02-functions_nested_loops/101-print_comb4.c\n",
    "gcc -Wall -pedantic -Werror -Wextra -std=gnu89 0x02-functions_nested_loops/101-print_comb4.c -o 0x02-functions_nested_loops/101-print_comb4\n",
    "./0x02-functions_nested_loops/101-print_comb4"
   ]
  },
  {
   "cell_type": "code",
   "execution_count": 37,
   "metadata": {},
   "outputs": [
    {
     "name": "stdout",
     "output_type": "stream",
     "text": [
      "[main 64a3abb] 0x01-variables_if_else_while/101-print_comb4.c\n",
      " 4 files changed, 23 insertions(+), 38 deletions(-)\n",
      " create mode 100755 0x01-variables_if_else_while/101-print_comb4\n",
      " copy 0x01-variables_if_else_while/{8-print_base16.c => 101-print_comb4.c} (100%)\n",
      " rewrite 0x01-variables_if_else_while/8-print_base16.c (67%)\n"
     ]
    },
    {
     "name": "stderr",
     "output_type": "stream",
     "text": [
      "To https://github.com/elkomysara/alx-low_level_programming.git\n",
      "   859f0ac..64a3abb  main -> main\n"
     ]
    }
   ],
   "source": [
    "%%bash\n",
    "git add .\n",
    "git commit -m \"0x02-functions_nested_loops/101-print_comb4.c\"\n",
    "git push"
   ]
  },
  {
   "cell_type": "markdown",
   "metadata": {},
   "source": [
    "### \n",
    "\n",
    "\n",
    "---\n",
    "<center>\n",
    "<h4> 12. Software is eating the World  </h4>\n",
    "</center>\n",
    "\n",
    "---"
   ]
  },
  {
   "cell_type": "markdown",
   "metadata": {},
   "source": [
    "##### Write a program that prints all possible combinations of two two-digit numbers.\n",
    "\n",
    "* The numbers should range from `0` to `99`\n",
    "* The two numbers should be separated by a space\n",
    "* All numbers should be printed with two digits. `1` should be printed as `01`\n",
    "* The combination of numbers must be separated by comma, followed by a space\n",
    "* The combinations of numbers should be printed in ascending order\n",
    "* `00 01` and `01 00` are considered as the same combination of the numbers `0` and `1`\n",
    "* You can only use the `putchar` function (every other function (`printf, puts`, etc…) is forbidden)\n",
    "* You can only use `putchar `eight times maximum in your code\n",
    "* You are not allowed to use any variable of type `char`\n",
    "* All your code should be in the `main `function\n",
    "\n",
    "```bash\n",
    "julien@ubuntu:~/0x01$ gcc -Wall -pedantic -Werror -Wextra -std=gnu89 102-print_comb5.c -o 102-print_comb5\n",
    "julien@ubuntu:~/0x01$ ./102-print_comb5\n",
    "00 01, 00 02, 00 03, 00 04, 00 05, 00 06, 00 07, 00 08, 00 09, 00 10, 00 11, [...] 40 91, 40 92, 40 93, 40 94, 40 95, 40 96, 40 97, 40 98, 40 99, 41 42, 41 43, 41 44, 41 45, 41 46, 41 47, 41 48, 41 49, 41 50, 41 51, 41 52, 41 53 [...] 93 95, 93 96, 93 97, 93 98, 93 99, 94 95, 94 96, 94 97, 94 98, 94 99, 95 96, 95 97, 95 98, 95 99, 96 97, 96 98, 96 99, 97 98, 97 99, 98 99\n",
    "```\n",
    "\n",
    "#### Repo:\n",
    "\n",
    "* GitHub repository: `alx-low_level_programming`\n",
    "* Directory: `0x02-functions_nested_loops`\n",
    "* File: `102-print_comb5.c`\n"
   ]
  },
  {
   "cell_type": "code",
   "execution_count": 68,
   "metadata": {},
   "outputs": [
    {
     "name": "stdout",
     "output_type": "stream",
     "text": [
      "Overwriting 0x01-variables_if_else_while/102-print_comb5.c\n"
     ]
    }
   ],
   "source": [
    "%%file 0x02-functions_nested_loops/102-print_comb5.c\n",
    "#include <stdio.h>\n",
    "\n",
    "/**\n",
    " * main - prints all\n",
    " * the numbers of base 16 in lowercase,\n",
    " * followed by a new line\n",
    " * Return: Always 0 (Success)\n",
    " */\n",
    "\n",
    "int main(void)\n",
    "{\n",
    "\n",
    "int x;\n",
    "int y;\n",
    "\n",
    "for (x = 0; x <= 98; x++)\n",
    "{\n",
    "for (y = x + 1; y <= 99; y++)\n",
    "{\n",
    "putchar((x / 10) + '0');\n",
    "putchar((x % 10) + '0');\n",
    "putchar(' ');\n",
    "putchar((y / 10) + '0');\n",
    "putchar((y % 10) + '0');\n",
    "if (x != 98 || y != 99)\n",
    "{\n",
    "putchar(',');\n",
    "putchar(' ');\n",
    "}\n",
    "\n",
    "}\n",
    "}\n",
    "\n",
    "putchar('\\n');\n",
    "return (0);\n",
    "}"
   ]
  },
  {
   "cell_type": "code",
   "execution_count": 69,
   "metadata": {},
   "outputs": [
    {
     "name": "stdout",
     "output_type": "stream",
     "text": [
      "\n",
      "========== 0x01-variables_if_else_while/102-print_comb5.c ==========\n",
      "main\n",
      "4950 comb.txt\n",
      "4950\n"
     ]
    }
   ],
   "source": [
    "%%bash\n",
    "betty 0x02-functions_nested_loops/102-print_comb5.c\n",
    "gcc -Wall -pedantic -Werror -Wextra -std=gnu89 0x02-functions_nested_loops/102-print_comb5.c -o 0x02-functions_nested_loops/102-print_comb5\n",
    "./0x02-functions_nested_loops/102-print_comb5 | tr ',' '\\n' > comb.txt\n",
    "wc -l comb.txt\n",
    "echo $((50*99))\n",
    "sed -n '4951p' comb.txt"
   ]
  },
  {
   "cell_type": "code",
   "execution_count": 70,
   "metadata": {},
   "outputs": [
    {
     "name": "stdout",
     "output_type": "stream",
     "text": [
      "[main 43282e3] 0x03-shell_variables_expansions/8-true_knowledge\n",
      " 4 files changed, 18 insertions(+), 19 deletions(-)\n"
     ]
    },
    {
     "name": "stderr",
     "output_type": "stream",
     "text": [
      "To https://github.com/elkomysara/alx-low_level_programming.git\n",
      "   86145fa..43282e3  main -> main\n"
     ]
    }
   ],
   "source": [
    "%%bash\n",
    "git add .\n",
    "git commit -m \"0x03-shell_variables_expansions/8-true_knowledge\"\n",
    "git push"
   ]
  },
  {
   "cell_type": "code",
   "execution_count": null,
   "metadata": {},
   "outputs": [],
   "source": []
  }
 ],
 "metadata": {
  "kernelspec": {
   "display_name": "Python 3",
   "language": "python",
   "name": "python3"
  },
  "language_info": {
   "codemirror_mode": {
    "name": "ipython",
    "version": 3
   },
   "file_extension": ".py",
   "mimetype": "text/x-python",
   "name": "python",
   "nbconvert_exporter": "python",
   "pygments_lexer": "ipython3",
   "version": "3.11.7"
  }
 },
 "nbformat": 4,
 "nbformat_minor": 2
}
