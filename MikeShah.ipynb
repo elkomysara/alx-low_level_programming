{
 "cells": [
  {
   "cell_type": "markdown",
   "metadata": {},
   "source": [
    "---\n",
    "<center>\n",
    "<h1>  MikeShah's Code </h1>\n",
    "</center>\n",
    "\n",
    "---\n"
   ]
  },
  {
   "cell_type": "code",
   "execution_count": 6,
   "metadata": {},
   "outputs": [],
   "source": [
    "import os\n",
    "# creating 0x02-shell_redirectionss\n",
    "\n",
    "folder_path = r\"/home/elkomy/alx/alx-low_level_programming/MikeShah's/day1\"\n",
    "if not os.path.exists(folder_path):\n",
    "    os.makedirs(folder_path)\n",
    "\n",
    "# Create a README.md inside alx-low_level_programming/0x05-pointers_arrays_strings\n",
    "file_path = os.path.join(folder_path, 'README.md')\n",
    "\n",
    "with open(file_path, 'w') as file:\n",
    "    file.write(\"This is a README.md file inside alx-low_level_programming/0x05-pointers_arrays_strings\")\n",
    "\n"
   ]
  },
  {
   "cell_type": "code",
   "execution_count": 9,
   "metadata": {},
   "outputs": [
    {
     "name": "stdout",
     "output_type": "stream",
     "text": [
      "Writing /alx-low_level_programming/MikeShah's/day1/d1.c\n"
     ]
    },
    {
     "ename": "FileNotFoundError",
     "evalue": "[Errno 2] No such file or directory: \"/alx-low_level_programming/MikeShah's/day1/d1.c\"",
     "output_type": "error",
     "traceback": [
      "\u001b[0;31m---------------------------------------------------------------------------\u001b[0m",
      "\u001b[0;31mFileNotFoundError\u001b[0m                         Traceback (most recent call last)",
      "Cell \u001b[0;32mIn[9], line 1\u001b[0m\n\u001b[0;32m----> 1\u001b[0m \u001b[43mget_ipython\u001b[49m\u001b[43m(\u001b[49m\u001b[43m)\u001b[49m\u001b[38;5;241;43m.\u001b[39;49m\u001b[43mrun_cell_magic\u001b[49m\u001b[43m(\u001b[49m\u001b[38;5;124;43m'\u001b[39;49m\u001b[38;5;124;43mfile\u001b[39;49m\u001b[38;5;124;43m'\u001b[39;49m\u001b[43m,\u001b[49m\u001b[43m \u001b[49m\u001b[38;5;124;43m\"\u001b[39;49m\u001b[38;5;124;43m/alx-low_level_programming/MikeShah\u001b[39;49m\u001b[38;5;124;43m'\u001b[39;49m\u001b[38;5;124;43ms/day1/d1.c\u001b[39;49m\u001b[38;5;124;43m\"\u001b[39;49m\u001b[43m,\u001b[49m\u001b[43m \u001b[49m\u001b[38;5;124;43m'\u001b[39;49m\u001b[38;5;124;43mhi\u001b[39;49m\u001b[38;5;130;43;01m\\n\u001b[39;49;00m\u001b[38;5;124;43m'\u001b[39;49m\u001b[43m)\u001b[49m\n",
      "File \u001b[0;32m~/anaconda3/envs/alxse/lib/python3.12/site-packages/IPython/core/interactiveshell.py:2541\u001b[0m, in \u001b[0;36mInteractiveShell.run_cell_magic\u001b[0;34m(self, magic_name, line, cell)\u001b[0m\n\u001b[1;32m   2539\u001b[0m \u001b[38;5;28;01mwith\u001b[39;00m \u001b[38;5;28mself\u001b[39m\u001b[38;5;241m.\u001b[39mbuiltin_trap:\n\u001b[1;32m   2540\u001b[0m     args \u001b[38;5;241m=\u001b[39m (magic_arg_s, cell)\n\u001b[0;32m-> 2541\u001b[0m     result \u001b[38;5;241m=\u001b[39m \u001b[43mfn\u001b[49m\u001b[43m(\u001b[49m\u001b[38;5;241;43m*\u001b[39;49m\u001b[43margs\u001b[49m\u001b[43m,\u001b[49m\u001b[43m \u001b[49m\u001b[38;5;241;43m*\u001b[39;49m\u001b[38;5;241;43m*\u001b[39;49m\u001b[43mkwargs\u001b[49m\u001b[43m)\u001b[49m\n\u001b[1;32m   2543\u001b[0m \u001b[38;5;66;03m# The code below prevents the output from being displayed\u001b[39;00m\n\u001b[1;32m   2544\u001b[0m \u001b[38;5;66;03m# when using magics with decorator @output_can_be_silenced\u001b[39;00m\n\u001b[1;32m   2545\u001b[0m \u001b[38;5;66;03m# when the last Python token in the expression is a ';'.\u001b[39;00m\n\u001b[1;32m   2546\u001b[0m \u001b[38;5;28;01mif\u001b[39;00m \u001b[38;5;28mgetattr\u001b[39m(fn, magic\u001b[38;5;241m.\u001b[39mMAGIC_OUTPUT_CAN_BE_SILENCED, \u001b[38;5;28;01mFalse\u001b[39;00m):\n",
      "File \u001b[0;32m~/anaconda3/envs/alxse/lib/python3.12/site-packages/IPython/core/magic.py:757\u001b[0m, in \u001b[0;36mMagicAlias.__call__\u001b[0;34m(self, *args, **kwargs)\u001b[0m\n\u001b[1;32m    755\u001b[0m         args_list[\u001b[38;5;241m0\u001b[39m] \u001b[38;5;241m=\u001b[39m \u001b[38;5;28mself\u001b[39m\u001b[38;5;241m.\u001b[39mmagic_params \u001b[38;5;241m+\u001b[39m \u001b[38;5;124m\"\u001b[39m\u001b[38;5;124m \u001b[39m\u001b[38;5;124m\"\u001b[39m \u001b[38;5;241m+\u001b[39m args[\u001b[38;5;241m0\u001b[39m]\n\u001b[1;32m    756\u001b[0m         args \u001b[38;5;241m=\u001b[39m \u001b[38;5;28mtuple\u001b[39m(args_list)\n\u001b[0;32m--> 757\u001b[0m     \u001b[38;5;28;01mreturn\u001b[39;00m \u001b[43mfn\u001b[49m\u001b[43m(\u001b[49m\u001b[38;5;241;43m*\u001b[39;49m\u001b[43margs\u001b[49m\u001b[43m,\u001b[49m\u001b[43m \u001b[49m\u001b[38;5;241;43m*\u001b[39;49m\u001b[38;5;241;43m*\u001b[39;49m\u001b[43mkwargs\u001b[49m\u001b[43m)\u001b[49m\n\u001b[1;32m    758\u001b[0m \u001b[38;5;28;01mfinally\u001b[39;00m:\n\u001b[1;32m    759\u001b[0m     \u001b[38;5;28mself\u001b[39m\u001b[38;5;241m.\u001b[39m_in_call \u001b[38;5;241m=\u001b[39m \u001b[38;5;28;01mFalse\u001b[39;00m\n",
      "File \u001b[0;32m~/anaconda3/envs/alxse/lib/python3.12/site-packages/IPython/core/magics/osm.py:854\u001b[0m, in \u001b[0;36mOSMagics.writefile\u001b[0;34m(self, line, cell)\u001b[0m\n\u001b[1;32m    851\u001b[0m     \u001b[38;5;28mprint\u001b[39m(\u001b[38;5;124m\"\u001b[39m\u001b[38;5;124mWriting \u001b[39m\u001b[38;5;132;01m%s\u001b[39;00m\u001b[38;5;124m\"\u001b[39m \u001b[38;5;241m%\u001b[39m filename)\n\u001b[1;32m    853\u001b[0m mode \u001b[38;5;241m=\u001b[39m \u001b[38;5;124m'\u001b[39m\u001b[38;5;124ma\u001b[39m\u001b[38;5;124m'\u001b[39m \u001b[38;5;28;01mif\u001b[39;00m args\u001b[38;5;241m.\u001b[39mappend \u001b[38;5;28;01melse\u001b[39;00m \u001b[38;5;124m'\u001b[39m\u001b[38;5;124mw\u001b[39m\u001b[38;5;124m'\u001b[39m\n\u001b[0;32m--> 854\u001b[0m \u001b[38;5;28;01mwith\u001b[39;00m \u001b[43mio\u001b[49m\u001b[38;5;241;43m.\u001b[39;49m\u001b[43mopen\u001b[49m\u001b[43m(\u001b[49m\u001b[43mfilename\u001b[49m\u001b[43m,\u001b[49m\u001b[43m \u001b[49m\u001b[43mmode\u001b[49m\u001b[43m,\u001b[49m\u001b[43m \u001b[49m\u001b[43mencoding\u001b[49m\u001b[38;5;241;43m=\u001b[39;49m\u001b[38;5;124;43m'\u001b[39;49m\u001b[38;5;124;43mutf-8\u001b[39;49m\u001b[38;5;124;43m'\u001b[39;49m\u001b[43m)\u001b[49m \u001b[38;5;28;01mas\u001b[39;00m f:\n\u001b[1;32m    855\u001b[0m     f\u001b[38;5;241m.\u001b[39mwrite(cell)\n",
      "\u001b[0;31mFileNotFoundError\u001b[0m: [Errno 2] No such file or directory: \"/alx-low_level_programming/MikeShah's/day1/d1.c\""
     ]
    }
   ],
   "source": [
    "%%file /home/elkomy/alx/alx-low_level_programming/MikeShah's/day1/d1.c\n"
   ]
  },
  {
   "cell_type": "markdown",
   "metadata": {},
   "source": [
    "###\n",
    "---\n",
    "<center>\n",
    "<h1> Resources </h1>\n",
    "</center>\n",
    "\n",
    "---\n"
   ]
  },
  {
   "cell_type": "markdown",
   "metadata": {},
   "source": [
    "#### 1. Types and Memory\n",
    "First, let's look at the sizes of different types in memory:\n",
    "When you declare a variable in a program, the computer allocates (reserves) a specific amount of memory to store that variable's value. The amount of memory reserved depends on the type of the variable.\n",
    "##### Memory and Variable Types\n",
    "* Memory: Memory is divided into units called bytes, and each byte is made up of 8 bits. A bit is the smallest unit of data in a computer and can be either 0 or 1.\n",
    "* Types: Different types of variables require different amounts of memory. For example:\n",
    "    * char (character) typically uses 1 byte of memory.\n",
    "    * int (integer) typically uses 4 bytes of memory.\n",
    "    * float (floating-point number) typically uses 4 bytes of memory.\n",
    "\n",
    "This will display the size of different data types on your machine."
   ]
  },
  {
   "cell_type": "code",
   "execution_count": 1,
   "metadata": {},
   "outputs": [
    {
     "name": "stdout",
     "output_type": "stream",
     "text": [
      "Overwriting 0x05-pointers_arrays_strings/0-main.c\n"
     ]
    }
   ],
   "source": [
    "%%file 0x05-pointers_arrays_strings/0-main.c\n",
    "#include <stdio.h>\n",
    "\n",
    "/**\n",
    " * main - using sizeof to dynamically determine the size of types char, int and float\n",
    " *\n",
    " * Return: Always 0.\n",
    " */\n",
    "int main(void)\n",
    "{\n",
    "   int n; \n",
    "\n",
    "   printf(\"Size of type 'char' on my computer: %lu bytes\\n\", sizeof(char));\n",
    "   printf(\"Size of type 'int' on my computer: %lu bytes\\n\", sizeof(int));\n",
    "   printf(\"Size of type 'float' on my computer: %lu bytes\\n\", sizeof(float));\n",
    "   printf(\"Size of type of my variable n on my computer: %lu bytes\\n\", sizeof(n));\n",
    "   return (0);\n",
    "}\n"
   ]
  },
  {
   "cell_type": "code",
   "execution_count": 6,
   "metadata": {},
   "outputs": [
    {
     "name": "stdout",
     "output_type": "stream",
     "text": [
      "Size of type 'char' on my computer: 1 bytes\n",
      "Size of type 'int' on my computer: 4 bytes\n",
      "Size of type 'float' on my computer: 4 bytes\n",
      "Size of type of my variable n on my computer: 4 bytes\n"
     ]
    }
   ],
   "source": [
    "%%bash\n",
    "gcc -Wall -Wextra -Werror -pedantic -std=gnu89 0x05-pointers_arrays_strings/0-main.c -o 0x05-pointers_arrays_strings/sizeof && ./0x05-pointers_arrays_strings/sizeof\n"
   ]
  },
  {
   "cell_type": "markdown",
   "metadata": {},
   "source": [
    "#### Explanation of the Program\n",
    "* `#include <stdio.h>`: This line includes the standard input-output library, which is necessary for using the `printf` function.\n",
    "* `int main(void)`: This is the main function where the program starts executing.\n",
    "* `int n;`: Declares a variable `n` of type `int`.\n",
    "* `printf` lines: These lines use the `sizeof` operator to print the size of various types and the variable `n` in bytes.\n",
    "#### Compilation and Execution\n",
    "* Compilation Command: `gcc -Wall -Wextra -Werror -pedantic -std=gnu89 0-main.c -o sizeof`\n",
    "    * `gcc`: The GNU Compiler Collection, used to compile the C program.\n",
    "    * `-Wall -Wextra -Werror -pedantic -std=gnu89`: Compiler options that enforce strict standards and warnings.\n",
    "    * `0-main.c`: The name of the source file.\n",
    "    * `-o sizeof`: Specifies the output file name.\n",
    "* Execution Command: `./sizeof`\n",
    "    * This runs the compiled program.\n",
    "#### Output\n",
    "When the program runs, it outputs the sizes of different types:\n",
    "\n",
    "* Size of type 'char' on my computer: 1 byte\n",
    "* Size of type 'int' on my computer: 4 bytes\n",
    "* Size of type 'float' on my computer: 4 bytes\n",
    "* Size of type of my variable n on my computer: 4 bytes\n",
    "### Size and Range of Values\n",
    " #### why 2 is raised to the power of 8 for `char` and to the power of 32 for `int`?\n",
    "\n",
    "### Bits and Possible Values\n",
    "The number of different values a variable can hold is determined by the number of bits allocated to that variable. Each bit has 2 possible states: 0 or 1.\n",
    "\n",
    "- **1 bit**: 2 possible values (0 or 1)\n",
    "- **2 bits**: 2 × 2 = 4 possible values\n",
    "- **3 bits**: 2 × 2 × 2 = 8 possible values\n",
    "- **n bits**: 2^n possible values\n",
    "\n",
    "### `char` Type\n",
    "A `char` type typically uses 1 byte of memory. Since 1 byte equals 8 bits, a `char` type has 8 bits.\n",
    "\n",
    "- **Equation for `char`:**\n",
    "  \\[\n",
    "  2^8 = 256\n",
    "  \\]\n",
    "  This means a `char` type can represent 256 different values.\n",
    "\n",
    "### `int` Type\n",
    "An `int` type typically uses 4 bytes of memory. Since 1 byte equals 8 bits, 4 bytes equal 32 bits.\n",
    "\n",
    "- **Equation for `int`:**\n",
    "  \\[\n",
    "  2^{32} = 4,294,967,296\n",
    "  \\]\n",
    "  This means an `int` type can represent 4,294,967,296 different values.\n",
    "\n",
    "### Range of Values\n",
    "- **Unsigned Types:** When we consider unsigned types (only non-negative values):\n",
    "  - `char`: 0 to 255 (256 values)\n",
    "  - `int`: 0 to 4,294,967,295 (4,294,967,296 values)\n",
    "\n",
    "- **Signed Types:** When we consider signed types (both positive and negative values):\n",
    "  - `char`: -128 to 127\n",
    "    - The range is from -128 to 127 because 256 values are split between negative and positive, including 0.\n",
    "  - `int`: -2,147,483,648 to 2,147,483,647\n",
    "    - The range is from -2,147,483,648 to 2,147,483,647 because 4,294,967,296 values are split between negative and positive, including 0.\n",
    "\n",
    "### Summary\n",
    "- **`char` (1 byte = 8 bits):** 2^8 = 256 possible values\n",
    "  - For signed `char`: -128 to 127\n",
    "  - For unsigned `char`: 0 to 255\n",
    "\n",
    "- **`int` (4 bytes = 32 bits):** 2^32 = 4,294,967,296 possible values\n",
    "  - For signed `int`: -2,147,483,648 to 2,147,483,647\n",
    "  - For unsigned `int`: 0 to 4,294,967,295\n",
    "\n",
    "By raising 2 to the power of the number of bits, we calculate the total number of different possible values that can be represented by those bits.\n",
    "* `char`: 1 byte (8 bits) can represent 256 different values (2^8), typically ranging from -128 to 127.\n",
    "* `int`: 4 bytes (32 bits) can represent 4,294,967,296 different values (2^32), typically ranging from -2,147,483,648 to 2,147,483,647.\n",
    "#### Memory Address\n",
    "* When you declare a variable like char c;, the computer reserves a specific memory address for it.\n",
    "* Initially, the value of c is unknown because it depends on what was previously stored at that memory address.\n",
    "#### Important Note\n",
    "* Uninitialized Variables: You should not assume that an uninitialized variable (like `c` before assigning a value) contains 0. It may contain any random value that was previously at that memory address."
   ]
  },
  {
   "cell_type": "markdown",
   "metadata": {},
   "source": [
    "### 2. Addresses of Variables\n",
    "#### Address-of Operator (&)\n",
    "You cannot control where a variable is stored in memory, but you can find out its address using the address-of operator &.\n",
    "\n",
    "#### Explanation:\n",
    "* `printf(\"Address of variable 'c': %p\\n\", &c);`: This line prints the address of the variable c using the %p format specifier, which is used for printing pointers (addresses).\n",
    "* `printf(\"Address of variable 'n': %p\\n\", &n);`: This line prints the address of the variable n.\n",
    "To understand how memory addresses work, use this example:\n",
    "\n",
    "This will print the memory addresses of `c` and `n`."
   ]
  },
  {
   "cell_type": "code",
   "execution_count": 2,
   "metadata": {},
   "outputs": [
    {
     "name": "stdout",
     "output_type": "stream",
     "text": [
      "Overwriting 0x05-pointers_arrays_strings/1-main.c\n"
     ]
    }
   ],
   "source": [
    "%%file 0x05-pointers_arrays_strings/1-main.c\n",
    "#include <stdio.h>\n",
    "\n",
    "/**\n",
    " * main - addresses of variables\n",
    " *\n",
    " * Return: Always 0.\n",
    " */\n",
    "int main(void)\n",
    "{\n",
    "   char c;\n",
    "   int n;\n",
    "\n",
    "   printf(\"Address of variable 'c': %p\\n\", &c);\n",
    "   printf(\"Address of variable 'n': %p\\n\", &n);\n",
    "   return (0);\n",
    "}\n"
   ]
  },
  {
   "cell_type": "code",
   "execution_count": 8,
   "metadata": {},
   "outputs": [
    {
     "name": "stdout",
     "output_type": "stream",
     "text": [
      "Address of variable 'c': 0x7ffdbeaa25c3\n",
      "Address of variable 'n': 0x7ffdbeaa25c4\n"
     ]
    }
   ],
   "source": [
    "%%bash\n",
    "gcc 0x05-pointers_arrays_strings/1-main.c -o 0x05-pointers_arrays_strings/address && ./0x05-pointers_arrays_strings//address\n"
   ]
  },
  {
   "cell_type": "markdown",
   "metadata": {},
   "source": [
    "#### 3. Size of a Pointer\n",
    "##### What is a Pointer?\n",
    "A pointer is a variable that stores the memory address of another variable. It \"points to\" the location in memory where the value of that variable is stored.\n",
    "\n",
    "##### Declaring a Pointer\n",
    "To declare a pointer, you use the asterisk (*) symbol before the pointer's name. The general form is:\n",
    "`var_type *var;`\n",
    "* `var_type` is the type of the variable that the pointer will point to.\n",
    "* `var` is the name of the pointer variable.\n",
    "##### Examples\n",
    "\n",
    "* `int *ptr; `     // ptr is a pointer to an integer\n",
    "* `char *ptr2;`    // ptr2 is a pointer to a char\n",
    "In these examples:\n",
    "\n",
    "* int *ptr; declares ptr as a pointer to an integer.\n",
    "* char *ptr2; declares ptr2 as a pointer to a character.\n",
    "##### To see the size of a pointer:\n",
    "#### Pointer Size\n",
    "\n",
    "Pointers themselves occupy memory to store the address. On most 64-bit machines, a pointer is 8 bytes in size.\n",
    "\n",
    "##### Example Program to Print Pointer Size\n",
    "Here’s a program to print the size of a pointer:\n",
    "\n",
    "This shows the size of a pointer on your machine.\n",
    "##### Explanation:\n",
    "* `int *p;` declares a pointer p to an integer.\n",
    "* `sizeof(p)` returns the size of the pointer p in bytes.\n",
    "* The output will typically be `8 bytes` on a 64-bit machine."
   ]
  },
  {
   "cell_type": "code",
   "execution_count": 2,
   "metadata": {},
   "outputs": [
    {
     "name": "stdout",
     "output_type": "stream",
     "text": [
      "Overwriting 0x05-pointers_arrays_strings/2-main.c\n"
     ]
    }
   ],
   "source": [
    "%%file 0x05-pointers_arrays_strings/2-main.c\n",
    "#include <stdio.h>\n",
    "\n",
    "/**\n",
    " * main - printing the size, in bytes, of a pointer\n",
    " *\n",
    " * Return: Always 0.\n",
    " */\n",
    "int main(void)\n",
    "{\n",
    "   int *p;\n",
    "\n",
    "   printf(\"Size of pointer: %lu bytes\\n\", sizeof(p));\n",
    "   return (0);\n",
    "}\n",
    "\n",
    "\n"
   ]
  },
  {
   "cell_type": "code",
   "execution_count": 3,
   "metadata": {},
   "outputs": [
    {
     "name": "stdout",
     "output_type": "stream",
     "text": [
      "Size of pointer: 8 bytes\n"
     ]
    }
   ],
   "source": [
    "%%bash\n",
    "gcc -Wall -Werror -pedantic -Wextra -std=gnu89 0x05-pointers_arrays_strings/2-main.c -o 0x05-pointers_arrays_strings/psize && ./0x05-pointers_arrays_strings/psize\n"
   ]
  },
  {
   "cell_type": "code",
   "execution_count": 4,
   "metadata": {},
   "outputs": [
    {
     "name": "stdout",
     "output_type": "stream",
     "text": [
      "Overwriting 0x05-pointers_arrays_strings/3-main.c\n"
     ]
    }
   ],
   "source": [
    "%%file 0x05-pointers_arrays_strings/3-main.c\n",
    "#include <stdio.h>\n",
    "\n",
    "/**\n",
    " * main - printing the address of a pointer\n",
    " *\n",
    " * Return: Always 0.\n",
    " */\n",
    "int main(void)\n",
    "{\n",
    "  int *p;\n",
    "\n",
    "  printf(\"Address of variable 'p': %p\\n\", &p);\n",
    "  return (0);\n",
    "}\n",
    "\n"
   ]
  },
  {
   "cell_type": "code",
   "execution_count": 5,
   "metadata": {},
   "outputs": [
    {
     "name": "stdout",
     "output_type": "stream",
     "text": [
      "Address of variable 'p': 0x7ffdea52bc60\n"
     ]
    }
   ],
   "source": [
    "%%bash\n",
    "gcc 0x05-pointers_arrays_strings/3-main.c -o 0x05-pointers_arrays_strings/paddress && ./0x05-pointers_arrays_strings/paddress\n"
   ]
  },
  {
   "cell_type": "markdown",
   "metadata": {},
   "source": [
    "#### 4. Address of a Pointer\n",
    "##### Storing an Address in a Pointer\n",
    "You can store the address of a variable in a pointer using the address-of operator (&).\n",
    "\n",
    "Example of Storing an Address in a Pointer\n",
    "```bash \n",
    "int n;\n",
    "int *p; \n",
    "\n",
    "n = 98;\n",
    "p = &n; \n",
    "\n",
    "```\n",
    "\n",
    "Explanation:\n",
    "* `int n;` declares an integer variable `n`.\n",
    "* `int *p;`declares a pointer `p` to an integer.\n",
    "* `n = 98;` assigns the value `98` to `n`.\n",
    "* `p = &n;` assigns the address of `n` to `p`. Now, `p` points to `n`.\n",
    "To print the address where a pointer is sotred:\n",
    "\n",
    "This prints the address of the pointer variable `p`.\n",
    "To store the address of a variable in a pointer:\n",
    "\n",
    "This demostrates storing the address of `n` in `p`."
   ]
  },
  {
   "cell_type": "code",
   "execution_count": 17,
   "metadata": {},
   "outputs": [
    {
     "name": "stdout",
     "output_type": "stream",
     "text": [
      "Writing 0x05-pointers_arrays_strings/4-main.c\n"
     ]
    }
   ],
   "source": [
    "%%file 0x05-pointers_arrays_strings/4-main.c\n",
    "#include <stdio.h>\n",
    "\n",
    "int main(void)\n",
    "{\n",
    "  int n;\n",
    "  int *p;\n",
    "\n",
    "  n = 98;\n",
    "  p = &n;\n",
    "  printf(\"Address of 'n': %p\\n\", &n);\n",
    "  printf(\"Value of 'p': %p\\n\", p);\n",
    "  return (0);\n",
    "}\n",
    "\n"
   ]
  },
  {
   "cell_type": "code",
   "execution_count": 18,
   "metadata": {},
   "outputs": [
    {
     "name": "stdout",
     "output_type": "stream",
     "text": [
      "Address of 'n': 0x7ffe7273cd5c\n",
      "Value of 'p': 0x7ffe7273cd5c\n"
     ]
    }
   ],
   "source": [
    "%%bash\n",
    "gcc 0x05-pointers_arrays_strings/4-main.c -o 0x05-pointers_arrays_strings/pn && ./0x05-pointers_arrays_strings/pn\n"
   ]
  },
  {
   "cell_type": "markdown",
   "metadata": {},
   "source": [
    "### 6. Dereferencing Pointers\n",
    "\n",
    "#### Understanding Pointers and Dereferencing\n",
    "#### What is a Pointer?\n",
    "A pointer is a variable that stores the memory address of another variable.\n",
    "\n",
    "#### What is Dereferencing?\n",
    "Dereferencing is the process of accessing or manipulating the value stored at the memory address a pointer is pointing to.\n",
    "\n",
    "#### The Dereference Operator (*)\n",
    "The dereference operator (*) is used to access the value at the address stored in a pointer.\n",
    "\n",
    "#### Explanation\n",
    "1. Declaration of Pointer:\n",
    "```bash\n",
    "int *p;\n",
    "```\n",
    "* ` p` is a pointer to an integer.\n",
    "\n",
    "2. Assigning the Address of `n` to `p`:\n",
    "\n",
    "\n",
    "`p = &n;`\n",
    "* `&n` gives the address of `n`.\n",
    "* `p` now stores the address of` n`.\n",
    "\n",
    "3. Printing Values and Addresses:\n",
    "\n",
    "```bash\n",
    "printf(\"Value of 'n': %d\\n\", n);\n",
    "printf(\"Address of 'n': %p\\n\", &n);\n",
    "printf(\"Value of 'p': %p\\n\", p);\n",
    "```\n",
    "\n",
    "* Prints the value of `n`, the address of `n`, and the value of `p`.\n",
    "* Since `p` stores the address of `n`, the value of `p` and the address of `n` will be the same.\n",
    "\n",
    "4. Dereferencing Pointer to Change Value:\n",
    "\n",
    "```C\n",
    "*p = 402;\n",
    "```\n",
    "\n",
    "* `*p` accesses the value at the address stored in `p`.\n",
    "* This is equivalent to `n = 402` because `p` points to `n`.\n",
    "* Changing `*p` changes the value of `n`.\n",
    "\n",
    "5. Printing the Updated Value of `n`:\n",
    "\n",
    "```C\n",
    "printf(\"Value of 'n': %d\\n\", n);\n",
    "```\n",
    "\n",
    "* Prints the updated value of n, which is now 402.\n",
    "\n",
    "#### What Happens in Memory\n",
    "Initially:\n",
    "\n",
    "* `n` has the value `98`.\n",
    "* `p` stores the address of `n`.\n",
    "\n",
    "After `*p = 402`:\n",
    "\n",
    "* `n` is updated to `402`.\n",
    "* `*p` (dereferencing p) allows us to change the value stored at the address p points to.\n",
    "\n",
    "Example to Illustrate Dereferencing\n",
    "Let's walk through an example step by step.\n",
    "To see how derefrencing works:\n",
    "\n",
    "This shows how changing the value of `*p` affects `n`."
   ]
  },
  {
   "cell_type": "code",
   "execution_count": 1,
   "metadata": {},
   "outputs": [
    {
     "name": "stdout",
     "output_type": "stream",
     "text": [
      "Overwriting 0x05-pointers_arrays_strings/5-main.c\n"
     ]
    }
   ],
   "source": [
    "%%file 0x05-pointers_arrays_strings/5-main.c\n",
    "#include <stdio.h>\n",
    "\n",
    "/**\n",
    " * main - dereferencing pointers\n",
    " *\n",
    " * Return: Always 0.\n",
    " */\n",
    "int main(void)\n",
    "{\n",
    "    int n;\n",
    "    int *p;\n",
    "\n",
    "    n = 98;\n",
    "    p = &n;\n",
    "    printf(\"Value of 'n': %d\\n\", n);\n",
    "    printf(\"Address of 'n': %p\\n\", &n);\n",
    "    printf(\"Value of 'p': %p\\n\", p);\n",
    "    *p = 402;\n",
    "    printf(\"Value of 'n': %d\\n\", n);\n",
    "    return (0);\n",
    "}\n",
    "\n",
    "\n"
   ]
  },
  {
   "cell_type": "code",
   "execution_count": 2,
   "metadata": {},
   "outputs": [
    {
     "name": "stdout",
     "output_type": "stream",
     "text": [
      "Value of 'n': 98\n",
      "Address of 'n': 0x7fffa1c9d65c\n",
      "Value of 'p': 0x7fffa1c9d65c\n",
      "Value of 'n': 402\n"
     ]
    }
   ],
   "source": [
    "%%bash\n",
    "gcc 0x05-pointers_arrays_strings/5-main.c -o 0x05-pointers_arrays_strings/dereference && ./0x05-pointers_arrays_strings/dereference\n"
   ]
  },
  {
   "cell_type": "markdown",
   "metadata": {},
   "source": [
    "#### 7. More Dereferencing Examples\n",
    "\n",
    "#### Explanation\n",
    "1. Declaration and Initialization:\n",
    "    ```C\n",
    "    int n;\n",
    "    int *p;\n",
    "    char c;\n",
    "    char *pp;\n",
    "    ```\n",
    "2. Assigning Addresses to Pointers:\n",
    "\n",
    "    ```C\n",
    "    pp = &c;\n",
    "    p = &n;\n",
    "    ```\n",
    "\n",
    "3. Printing Initial Values and Addresses:\n",
    "\n",
    "* Prints values and addresses of `c`, `pp`, `n`, and `p`.\n",
    "\n",
    "4. Dereferencing Pointers to Change Values:\n",
    "\n",
    "* `*p = 402;` changes `n` to `402`.\n",
    "* `*pp = 'o';` changes `c` to `'o'`.\n",
    "\n",
    "5. Printing Updated Values:\n",
    "\n",
    "* Prints updated values of `n`, `*pp`, and `c`.\n",
    "\n",
    "#### Key Points\n",
    "* Declaration of a Pointer: `int *p;` declares `p` as a pointer to an integer.\n",
    "* Assigning Address to Pointer: `p = &n;` assigns the address of `n` to `p`.\n",
    "* Dereferencing Pointer: `*p = 402;` changes the value at the address `p` points to, which is the value of `n`.\n",
    "* Different Contexts for *:\n",
    "    * Declaration (`int *p;`) indicates `p` is a pointer.\n",
    "    * Dereferencing (`*p = 402;`) accesses or changes the value at the address `p` points to.\n",
    "\n",
    "#### Visualizing Memory Changes\n",
    "1. Initial State:\n",
    "```less\n",
    "n (value: 98) -> address: 0x7ffd9c1969a4\n",
    "p (value: 0x7ffd9c1969a4) -> address: 0x7ffd9c1969a8\n",
    "```\n",
    "2. After *p = 402:\n",
    "\n",
    "```less\n",
    "n (value: 402) -> address: 0x7ffd9c1969a4\n",
    "p (value: 0x7ffd9c1969a4) -> address: 0x7ffd9c1969a8\n",
    "```\n",
    "This covers dereferencing with different data types."
   ]
  },
  {
   "cell_type": "code",
   "execution_count": 1,
   "metadata": {},
   "outputs": [
    {
     "name": "stdout",
     "output_type": "stream",
     "text": [
      "Overwriting 0x05-pointers_arrays_strings/6-main.c\n"
     ]
    }
   ],
   "source": [
    "%%file 0x05-pointers_arrays_strings/6-main.c\n",
    "#include <stdio.h>\n",
    "\n",
    "/**\n",
    " * main - dereferencing pointers, example with int and char types\n",
    " *\n",
    " * Return: Always 0.\n",
    " */\n",
    "int main(void)\n",
    "{\n",
    "    int n;\n",
    "    int *p;\n",
    "    char c;\n",
    "    char *pp;\n",
    "\n",
    "    c = 'H';\n",
    "    pp = &c;\n",
    "    n = 98;\n",
    "    p = &n;\n",
    "    printf(\"Value of 'c': %d ('%c')\\n\", c, c);\n",
    "    printf(\"Address of 'c': %p\\n\", &c);\n",
    "    printf(\"Value of 'pp': %p\\n\", pp);\n",
    "    printf(\"Value of 'n': %d\\n\", n);\n",
    "    printf(\"Address of 'n': %p\\n\", &n);\n",
    "    printf(\"Value of 'p': %p\\n\", p);\n",
    "    *p = 402;\n",
    "    *pp = 'o';\n",
    "    printf(\"Value of 'n': %d\\n\", n);\n",
    "    printf(\"Value of '*pp': %d\\n\", *pp);\n",
    "    printf(\"Value of 'c': %d ('%c')\\n\", c, c);\n",
    "    printf(\"Value of '*pp': %d ('%c')\\n\", *pp, *pp);\n",
    "    return (0);\n",
    "}\n",
    "\n",
    "\n",
    "\n",
    "\n"
   ]
  },
  {
   "cell_type": "code",
   "execution_count": 2,
   "metadata": {},
   "outputs": [
    {
     "name": "stdout",
     "output_type": "stream",
     "text": [
      "Value of 'c': 72 ('H')\n",
      "Address of 'c': 0x7ffc85522b93\n",
      "Value of 'pp': 0x7ffc85522b93\n",
      "Value of 'n': 98\n",
      "Address of 'n': 0x7ffc85522b94\n",
      "Value of 'p': 0x7ffc85522b94\n",
      "Value of 'n': 402\n",
      "Value of '*pp': 111\n",
      "Value of 'c': 111 ('o')\n",
      "Value of '*pp': 111 ('o')\n"
     ]
    }
   ],
   "source": [
    "%%bash\n",
    "gcc 0x05-pointers_arrays_strings/6-main.c -o 0x05-pointers_arrays_strings/moredef && ./0x05-pointers_arrays_strings/moredef\n"
   ]
  },
  {
   "cell_type": "markdown",
   "metadata": {},
   "source": [
    "#### Functions parameters are passed by value\n",
    "Let's take another look at the situation and clarify why `m` is modified to 402 and how this affects (or doesn't affect) `n`.\n",
    "\n",
    "### Step-by-Step Clarification\n",
    "\n",
    "1. **Initial State in `main`**:\n",
    "   - `n` is declared and initialized to 98.\n",
    "   - The initial state in `main` is:\n",
    "     ```\n",
    "     int n = 98;\n",
    "     ```\n",
    "\n",
    "2. **Function Call**:\n",
    "   - `modif_my_param(n);` is called.\n",
    "   - The value of `n` (which is 98) is passed to the function `modif_my_param`.\n",
    "   - At this point, a copy of the value 98 is made, and this copy is used as the argument to the function. Inside the function, this copied value is stored in a new variable `m`.\n",
    "\n",
    "3. **Inside the Function**:\n",
    "   - The function `modif_my_param` receives the copied value 98 and stores it in `m`.\n",
    "     ```c\n",
    "     void modif_my_param(int m)\n",
    "     {\n",
    "         // m is now 98 (copied from n)\n",
    "     }\n",
    "     ```\n",
    "   - The local variable `m` is created and initialized to 98.\n",
    "\n",
    "4. **Modification Inside the Function**:\n",
    "   - Inside `modif_my_param`, we have the line `m = 402;`.\n",
    "   - This changes the value of `m` to 402.\n",
    "     ```c\n",
    "     void modif_my_param(int m)\n",
    "     {\n",
    "         m = 402; // m is modified to 402\n",
    "     }\n",
    "     ```\n",
    "   - The variable `m` now holds the value 402, but this change only affects `m`, not `n`.\n",
    "\n",
    "5. **Returning to `main`**:\n",
    "   - When the function `modif_my_param` finishes, the local variable `m` is discarded because it was only used within the scope of the function.\n",
    "   - The original variable `n` in `main` remains unchanged because only a copy of its value was passed to the function.\n",
    "   - Back in `main`, `n` still holds the value 98.\n",
    "\n",
    "### Visual Representation\n",
    "\n",
    "#### Before Function Call:\n",
    "```\n",
    "+---+\n",
    "| n |\n",
    "+---+\n",
    "| 98|\n",
    "+---+\n",
    "```\n",
    "\n",
    "#### During Function Call:\n",
    "- `n` is copied to `m`.\n",
    "```\n",
    "+---+       +---+\n",
    "| n |       | m |\n",
    "+---+       +---+\n",
    "| 98|  ->   | 98|\n",
    "+---+       +---+\n",
    "```\n",
    "\n",
    "#### Inside the Function (Modification):\n",
    "- `m` is modified to 402.\n",
    "```\n",
    "+---+       +---+\n",
    "| n |       | m |\n",
    "+---+       +---+\n",
    "| 98|       |402|\n",
    "+---+       +---+\n",
    "```\n",
    "\n",
    "#### After Function Call:\n",
    "- `m` is discarded, `n` remains 98.\n",
    "```\n",
    "+---+\n",
    "| n |\n",
    "+---+\n",
    "| 98|\n",
    "+---+\n",
    "```\n",
    "\n",
    "### Detailed Walkthrough\n",
    "\n",
    "1. **Declaration in `main`**:\n",
    "   ```c\n",
    "   int n = 98; // n is initialized to 98\n",
    "   ```\n",
    "\n",
    "2. **Function Call**:\n",
    "   ```c\n",
    "   modif_my_param(n); // n (which is 98) is passed to the function\n",
    "   ```\n",
    "\n",
    "3. **Inside `modif_my_param`**:\n",
    "   ```c\n",
    "   void modif_my_param(int m)\n",
    "   {\n",
    "       // m is now 98, copied from n\n",
    "       m = 402; // m is modified to 402, but this does not affect n\n",
    "   }\n",
    "   ```\n",
    "\n",
    "4. **Back in `main`**:\n",
    "   ```c\n",
    "   // n is still 98 after the function call\n",
    "   ```\n",
    "\n",
    "### Key Points to Understand\n",
    "\n",
    "- **Copy of the Value**: The function `modif_my_param` works with a copy of `n`'s value, not `n` itself.\n",
    "- **Local Scope of `m`**: The variable `m` exists only within the function and any modifications to `m` do not affect `n`.\n",
    "- **Isolation of Changes**: Changing `m` to 402 only affects `m` within the function. When the function ends, `m` is discarded, and `n` remains unchanged.\n",
    "\n",
    "### Summary\n",
    "\n",
    "The confusion might stem from thinking that `m` and `n` are the same variable. Remember, `m` is just a local copy of `n`'s value. Whatever happens to `m` inside the function does not affect `n` outside the function.\n",
    "\n",
    "### Practical Demonstration\n",
    "\n",
    "To see this in action, you can compile and run the following code, which includes print statements to show the values of `n` and `m` at different stages:\n",
    "\n",
    "```c\n",
    "#include <stdio.h>\n",
    "\n",
    "void modif_my_param(int m)\n",
    "{\n",
    "    printf(\"Inside function before modification: m = %d\\n\", m);\n",
    "    m = 402;\n",
    "    printf(\"Inside function after modification: m = %d\\n\", m);\n",
    "}\n",
    "\n",
    "int main(void)\n",
    "{\n",
    "    int n = 98;\n",
    "    printf(\"Before function call: n = %d\\n\", n);\n",
    "    modif_my_param(n);\n",
    "    printf(\"After function call: n = %d\\n\", n);\n",
    "\n",
    "    return 0;\n",
    "}\n",
    "```\n",
    "\n",
    "When you run this program, you'll see that `n` remains 98 before and after the function call, demonstrating that the function only works with a copy of `n`'s value.\n",
    "\n",
    "If you still have questions or need further clarification, please let me know!"
   ]
  },
  {
   "cell_type": "code",
   "execution_count": 1,
   "metadata": {},
   "outputs": [
    {
     "name": "stdout",
     "output_type": "stream",
     "text": [
      "Overwriting 0x05-pointers_arrays_strings/7-main.c\n"
     ]
    }
   ],
   "source": [
    "%%file 0x05-pointers_arrays_strings/7-main.c\n",
    "#include <stdio.h>\n",
    "\n",
    "void modif_my_param(int m)\n",
    "{\n",
    "    printf(\"Inside function before modification: m = %d\\n\", m);\n",
    "    m = 402;\n",
    "    printf(\"Inside function after modification: m = %d\\n\", m);\n",
    "}\n",
    "\n",
    "int main(void)\n",
    "{\n",
    "    int n = 98;\n",
    "    printf(\"Before function call: n = %d\\n\", n);\n",
    "    modif_my_param(n);\n",
    "    printf(\"After function call: n = %d\\n\", n);\n",
    "\n",
    "    return 0;\n",
    "}\n"
   ]
  },
  {
   "cell_type": "code",
   "execution_count": 2,
   "metadata": {},
   "outputs": [
    {
     "name": "stdout",
     "output_type": "stream",
     "text": [
      "Before function call: n = 98\n",
      "Inside function before modification: m = 98\n",
      "Inside function after modification: m = 402\n",
      "After function call: n = 98\n"
     ]
    }
   ],
   "source": [
    "%%bash\n",
    "gcc 0x05-pointers_arrays_strings/7-main.c -o 0x05-pointers_arrays_strings/passbyval && ./0x05-pointers_arrays_strings/passbyval"
   ]
  },
  {
   "cell_type": "markdown",
   "metadata": {},
   "source": [
    "Let's go through the provided text and examples step by step to make it clear. We'll start with the concept of \"passing by value\" and then move on to using pointers to modify values outside the function.\n",
    "\n",
    "### Concept: Passing Parameters by Value\n",
    "\n",
    "In C, when you call a function and pass parameters to it, the values of those parameters are copied into new variables inside the function. This is called \"passing by value\". It means that the function works with copies of the original values, not the original variables themselves.\n",
    "\n",
    "#### Example 1: Passing by Value\n",
    "\n",
    "```c\n",
    "/**\n",
    " * modif_my_param - this function does not modify n\n",
    " * @m: a useless integer\n",
    " *\n",
    " * Return: nothing.\n",
    " */\n",
    "void modif_my_param(int m)\n",
    "{\n",
    "   m = 402;\n",
    "}\n",
    "\n",
    "/**\n",
    " * main - parameters are passed by value\n",
    " *\n",
    " * Return: Always 0.\n",
    " */\n",
    "int main(void)\n",
    "{\n",
    "   int n;\n",
    "\n",
    "   n = 98;\n",
    "   modif_my_param(n);\n",
    "   return (0);\n",
    "}\n",
    "```\n",
    "\n",
    "**Explanation:**\n",
    "\n",
    "1. **Declaration:**\n",
    "    ```c\n",
    "    int n;\n",
    "    n = 98;\n",
    "    ```\n",
    "    - A variable `n` is declared and assigned the value `98`.\n",
    "\n",
    "2. **Function Call:**\n",
    "    ```c\n",
    "    modif_my_param(n);\n",
    "    ```\n",
    "    - The function `modif_my_param` is called with `n` as an argument.\n",
    "    - The value `98` is copied into the function's parameter `m`.\n",
    "\n",
    "3. **Inside the Function:**\n",
    "    ```c\n",
    "    void modif_my_param(int m)\n",
    "    {\n",
    "       m = 402;\n",
    "    }\n",
    "    ```\n",
    "    - A new variable `m` is created inside the function with the copied value `98`.\n",
    "    - `m` is then set to `402`, but this does not affect `n` outside the function.\n",
    "\n",
    "4. **After Function Call:**\n",
    "    - When `modif_my_param` returns, `m` is destroyed, and the original `n` in `main` is still `98`.\n",
    "\n",
    "### Visualization Before and After Function Call\n",
    "\n",
    "- **Before `m = 402`:**\n",
    "\n",
    "  | Variable | Value |\n",
    "  |----------|-------|\n",
    "  | `n` (main) | 98    |\n",
    "  | `m` (modif_my_param) | 98    |\n",
    "\n",
    "- **After `m = 402`:**\n",
    "\n",
    "  | Variable | Value |\n",
    "  |----------|-------|\n",
    "  | `n` (main) | 98    |\n",
    "  | `m` (modif_my_param) | 402   |\n",
    "\n",
    "- **After Function Returns:**\n",
    "\n",
    "  | Variable | Value |\n",
    "  |----------|-------|\n",
    "  | `n` (main) | 98    |\n",
    "\n",
    "### Concept: Modifying Values Using Pointers\n",
    "\n",
    "Pointers allow functions to modify variables outside their own scope. When you pass a pointer to a function, you give the function the ability to access and modify the variable that the pointer points to.\n",
    "\n",
    "#### Example 2: Using Pointers\n",
    "\n",
    "```c\n",
    "#include <stdio.h>\n",
    "\n",
    "/**\n",
    " * modif_my_param - set the integer to 402\n",
    " * @m: a pointer the integer we want to set to 402\n",
    " *\n",
    " * Return: nothing\n",
    " */\n",
    "void modif_my_param(int *m)\n",
    "{\n",
    "   *m = 402;\n",
    "}\n",
    "\n",
    "/**\n",
    " * main - how to change the value of a variable from outside the function\n",
    " * it is declared in, using a pointer.\n",
    " *\n",
    " * Return: Always 0.\n",
    " */\n",
    "int main(void)\n",
    "{\n",
    "   int n;\n",
    "   int *p;\n",
    "\n",
    "   p = &n;\n",
    "   n = 98;\n",
    "   modif_my_param(p);\n",
    "   return (0);\n",
    "}\n",
    "```\n",
    "\n",
    "**Explanation:**\n",
    "\n",
    "1. **Declaration:**\n",
    "    ```c\n",
    "    int n;\n",
    "    int *p;\n",
    "    ```\n",
    "    - A variable `n` and a pointer `p` are declared.\n",
    "\n",
    "2. **Assigning Address:**\n",
    "    ```c\n",
    "    p = &n;\n",
    "    n = 98;\n",
    "    ```\n",
    "    - `p` is assigned the address of `n`, making `p` point to `n`.\n",
    "    - `n` is assigned the value `98`.\n",
    "\n",
    "3. **Function Call:**\n",
    "    ```c\n",
    "    modif_my_param(p);\n",
    "    ```\n",
    "    - The function `modif_my_param` is called with `p` (the address of `n`) as an argument.\n",
    "\n",
    "4. **Inside the Function:**\n",
    "    ```c\n",
    "    void modif_my_param(int *m)\n",
    "    {\n",
    "       *m = 402;\n",
    "    }\n",
    "    ```\n",
    "    - A pointer `m` is created, pointing to the same address as `p` (which points to `n`).\n",
    "    - The value at the address `m` points to is set to `402`, effectively changing `n` to `402`.\n",
    "\n",
    "5. **After Function Call:**\n",
    "    - When `modif_my_param` returns, `n` in `main` now holds `402`.\n",
    "\n",
    "### Visualization Before and After Function Call\n",
    "\n",
    "- **Before `*m = 402`:**\n",
    "\n",
    "  | Variable | Value | Address  |\n",
    "  |----------|-------|----------|\n",
    "  | `n` (main) | 98    | 0x...   |\n",
    "  | `p` (main) | 0x... | 0x...   |\n",
    "  | `m` (modif_my_param) | 0x... | 0x...   |\n",
    "\n",
    "- **After `*m = 402`:**\n",
    "\n",
    "  | Variable | Value | Address  |\n",
    "  |----------|-------|----------|\n",
    "  | `n` (main) | 402   | 0x...   |\n",
    "  | `p` (main) | 0x... | 0x...   |\n",
    "  | `m` (modif_my_param) | 0x... | 0x...   |\n",
    "\n",
    "- **After Function Returns:**\n",
    "\n",
    "  | Variable | Value | Address  |\n",
    "  |----------|-------|----------|\n",
    "  | `n` (main) | 402   | 0x...   |\n",
    "  | `p` (main) | 0x... | 0x...   |\n",
    "\n",
    "### Summary\n",
    "- When parameters are passed by value, the function works with a copy of the variable, so changes inside the function do not affect the original variable.\n",
    "- When using pointers, the function can modify the original variable because it has access to the variable's memory address.\n",
    "\n",
    "By understanding these concepts and using the provided examples, you should now have a clear understanding of how parameter passing works in C and how pointers can be used to modify variables outside of their own scope."
   ]
  },
  {
   "cell_type": "code",
   "execution_count": 3,
   "metadata": {},
   "outputs": [
    {
     "name": "stdout",
     "output_type": "stream",
     "text": [
      "Overwriting 0x05-pointers_arrays_strings/8-main.c\n"
     ]
    }
   ],
   "source": [
    "%%file 0x05-pointers_arrays_strings/8-main.c\n",
    "#include <stdio.h>\n",
    "\n",
    "void modif_my_param(int *m)\n",
    "{\n",
    "    *m = 402;\n",
    "}\n",
    "\n",
    "int main(void)\n",
    "{\n",
    "    int n;\n",
    "    int *p;\n",
    "\n",
    "    p = &n;\n",
    "    n = 98;\n",
    "    modif_my_param(p);\n",
    "    printf(\"n = %d\\n\", n); // This will print: n = 402\n",
    "    return 0;\n",
    "}\n"
   ]
  },
  {
   "cell_type": "code",
   "execution_count": 5,
   "metadata": {},
   "outputs": [
    {
     "name": "stdout",
     "output_type": "stream",
     "text": [
      "n = 402\n"
     ]
    }
   ],
   "source": [
    "%%bash\n",
    "gcc 0x05-pointers_arrays_strings/8-main.c -o 0x05-pointers_arrays_strings/passbyvalpointer && ./0x05-pointers_arrays_strings/passbyvalpointer"
   ]
  },
  {
   "cell_type": "markdown",
   "metadata": {},
   "source": [
    "#### 8. Modifying a Variable from a Function\n",
    "To change a variable value through a funciton using pointers:\n",
    "\n",
    "This illustrates how pointers allow modification of variables inside funcitons."
   ]
  },
  {
   "cell_type": "code",
   "execution_count": 6,
   "metadata": {},
   "outputs": [
    {
     "name": "stdout",
     "output_type": "stream",
     "text": [
      "Overwriting 0x05-pointers_arrays_strings/8-main.c\n"
     ]
    }
   ],
   "source": [
    "%%file 0x05-pointers_arrays_strings/8-main.c\n",
    "#include <stdio.h>\n",
    "/**\n",
    " * modif_my_param - set the integer to 402\n",
    " * @m: a pointer the integer we want to set to 402\n",
    " *\n",
    " * Return: nothing\n",
    " */\n",
    "\n",
    "void modif_my_param(int *m)\n",
    "{\n",
    "   printf(\"Value of 'm': %p\\n\", m);\n",
    "   printf(\"Address of 'm': %p\\n\", &m);\n",
    "   *m = 402;\n",
    "}\n",
    "\n",
    "/**\n",
    " * main - how to change the value of a variable from outside the function\n",
    " * it is declared in, using a pointer.\n",
    " *\n",
    " * Return: Always 0.\n",
    " */\n",
    "int main(void)\n",
    "{\n",
    "   int n;\n",
    "   int *p;\n",
    "\n",
    "   p = &n;\n",
    "   n = 98;\n",
    "   printf(\"Value of 'n' before the call: %d\\n\", n);\n",
    "   printf(\"Address of 'n': %p\\n\", &n);\n",
    "   printf(\"Value of 'p': %p\\n\", p);\n",
    "   printf(\"Address of 'p': %p\\n\", &p);\n",
    "   modif_my_param(p);\n",
    "   printf(\"Value of 'n' after the call: %d\\n\", n);\n",
    "   return (0);\n",
    "}\n"
   ]
  },
  {
   "cell_type": "code",
   "execution_count": 7,
   "metadata": {},
   "outputs": [
    {
     "name": "stdout",
     "output_type": "stream",
     "text": [
      "Value of 'n' before the call: 98\n",
      "Address of 'n': 0x7fff04e6660c\n",
      "Value of 'p': 0x7fff04e6660c\n",
      "Address of 'p': 0x7fff04e66610\n",
      "Value of 'm': 0x7fff04e6660c\n",
      "Address of 'm': 0x7fff04e665e8\n",
      "Value of 'n' after the call: 402\n"
     ]
    }
   ],
   "source": [
    "%%bash\n",
    "gcc 0x05-pointers_arrays_strings/8-main.c -o 0x05-pointers_arrays_strings/modify_param && ./0x05-pointers_arrays_strings/modify_param\n"
   ]
  },
  {
   "cell_type": "markdown",
   "metadata": {},
   "source": [
    "#### Step-by-Step Analysis\n",
    "To change a variable value through a funciton using pointers:\n",
    "\n",
    "This illustrates how pointers allow modification of variables inside funcitons."
   ]
  },
  {
   "cell_type": "code",
   "execution_count": 4,
   "metadata": {},
   "outputs": [
    {
     "name": "stdout",
     "output_type": "stream",
     "text": [
      "Overwriting 0x05-pointers_arrays_strings/8-main.c\n"
     ]
    }
   ],
   "source": [
    "%%file 0x05-pointers_arrays_strings/8-main.c\n",
    "#include <stdio.h>\n",
    "\n",
    "/**\n",
    " * modif_my_char_var - modifies a char variable through a pointer\n",
    " *\n",
    " * Return: nothing.\n",
    " */\n",
    "void modif_my_char_var(char *cc, char ccc)\n",
    "{\n",
    "    *cc = 'o';\n",
    "    ccc = 'l';\n",
    "}\n",
    "\n",
    "/**\n",
    " * main - testing the modification of char variables\n",
    " *\n",
    " * Return: Always 0.\n",
    " */\n",
    "int main(void)\n",
    "{\n",
    "    char c;\n",
    "    char *p;\n",
    "\n",
    "    p = &c;\n",
    "    c = 'H';\n",
    "    modif_my_char_var(p, c);\n",
    "    return (0);\n",
    "}\n"
   ]
  },
  {
   "cell_type": "code",
   "execution_count": 2,
   "metadata": {},
   "outputs": [
    {
     "name": "stdout",
     "output_type": "stream",
     "text": [
      "Before function call: c = H\n",
      "Inside function before modification: *cc = H, ccc = H\n",
      "Inside function after modification: *cc = o, ccc = l\n",
      "After function call: c = o\n"
     ]
    }
   ],
   "source": [
    "%%bash\n",
    "gcc 0x05-pointers_arrays_strings/8-main.c -o 0x05-pointers_arrays_strings/modify_param && ./0x05-pointers_arrays_strings/modify_param\n"
   ]
  },
  {
   "cell_type": "code",
   "execution_count": 7,
   "metadata": {},
   "outputs": [
    {
     "name": "stdout",
     "output_type": "stream",
     "text": [
      "Overwriting 0x05-pointers_arrays_strings/8-main.c\n"
     ]
    }
   ],
   "source": [
    "%%file 0x05-pointers_arrays_strings/8-main.c\n",
    "#include <stdio.h>\n",
    "\n",
    "/**\n",
    " * modif_my_char_var - Solve me\n",
    " *\n",
    " * Return: nothing.\n",
    " */\n",
    "void modif_my_char_var(char *cc, char ccc)\n",
    "{\n",
    "   printf(\"Inside function before modification: *cc = %c, ccc = %c\\n\", *cc, ccc);\n",
    "   printf(\"Inside function before modification: cc = %p, ccc = %p\\n\", cc, &ccc);\n",
    "\n",
    "   *cc = 'o';\n",
    "   ccc = 'l';\n",
    "   printf(\"Inside function after modification: *cc = %c, ccc = %c\\n\", *cc, ccc);\n",
    "   printf(\"Inside function before modification: cc = %p, ccc = %p\\n\", cc, &ccc);\n",
    "\n",
    "}\n",
    "\n",
    "/**\n",
    " * main - Solve me\n",
    " *\n",
    " * Return: Always 0.\n",
    " */\n",
    "int main(void)\n",
    "{\n",
    "   char c;\n",
    "   char *p;\n",
    "\n",
    "   p = &c;\n",
    "   c = 'H';\n",
    "   printf(\"Before function call: p = %p\\n\", p);\n",
    "   printf(\"Before function call: &c = %p\\n\", &c);\n",
    "   printf(\"Before function call: c = %c\\n\", c);\n",
    "   modif_my_char_var(p, c);\n",
    "   printf(\"After function call: p = %p\\n\", p);\n",
    "   printf(\"After function call: &c = %p\\n\", &c);\n",
    "   printf(\"After function call: c = %c\\n\", c);\n",
    "\n",
    "   return (0);\n",
    "}\n"
   ]
  },
  {
   "cell_type": "code",
   "execution_count": 8,
   "metadata": {},
   "outputs": [
    {
     "name": "stdout",
     "output_type": "stream",
     "text": [
      "Before function call: p = 0x7ffe187159af\n",
      "Before function call: &c = 0x7ffe187159af\n",
      "Before function call: c = H\n",
      "Inside function before modification: *cc = H, ccc = H\n",
      "Inside function before modification: cc = 0x7ffe187159af, ccc = 0x7ffe18715984\n",
      "Inside function after modification: *cc = o, ccc = l\n",
      "Inside function before modification: cc = 0x7ffe187159af, ccc = 0x7ffe18715984\n",
      "After function call: p = 0x7ffe187159af\n",
      "After function call: &c = 0x7ffe187159af\n",
      "After function call: c = o\n"
     ]
    }
   ],
   "source": [
    "%%bash\n",
    "gcc 0x05-pointers_arrays_strings/8-main.c -o 0x05-pointers_arrays_strings/modify_param && ./0x05-pointers_arrays_strings/modify_param\n"
   ]
  },
  {
   "cell_type": "markdown",
   "metadata": {},
   "source": [
    "#### Adding Print Statements\n",
    "Let's add printf statements to visualize the memory changes and values."
   ]
  },
  {
   "cell_type": "code",
   "execution_count": 9,
   "metadata": {},
   "outputs": [
    {
     "name": "stdout",
     "output_type": "stream",
     "text": [
      "Overwriting 0x05-pointers_arrays_strings/8-main.c\n"
     ]
    }
   ],
   "source": [
    "%%file 0x05-pointers_arrays_strings/8-main.c\n",
    "#include <stdio.h>\n",
    "\n",
    "/**\n",
    " * modif_my_char_var - modifies a char variable through a pointer\n",
    " *\n",
    " * Return: nothing.\n",
    " */\n",
    "void modif_my_char_var(char *cc, char ccc)\n",
    "{\n",
    "    printf(\"Inside modif_my_char_var - Address of 'cc': %p\\n\", (void*)&cc);\n",
    "    printf(\"Inside modif_my_char_var - Value of 'cc': %p\\n\", (void*)cc);\n",
    "    printf(\"Inside modif_my_char_var - Address of 'ccc': %p\\n\", (void*)&ccc);\n",
    "    printf(\"Inside modif_my_char_var - Value of 'ccc': %c\\n\", ccc);\n",
    "\n",
    "    *cc = 'o';\n",
    "    ccc = 'l';\n",
    "\n",
    "    printf(\"Inside modif_my_char_var - After modification - Value of '*cc': %c\\n\", *cc);\n",
    "    printf(\"Inside modif_my_char_var - After modification - Value of 'ccc': %c\\n\", ccc);\n",
    "}\n",
    "\n",
    "/**\n",
    " * main - testing the modification of char variables\n",
    " *\n",
    " * Return: Always 0.\n",
    " */\n",
    "int main(void)\n",
    "{\n",
    "    char c;\n",
    "    char *p;\n",
    "\n",
    "    p = &c;\n",
    "    c = 'H';\n",
    "\n",
    "    printf(\"Before modif_my_char_var - Value of 'c': %c\\n\", c);\n",
    "    printf(\"Before modif_my_char_var - Address of 'c': %p\\n\", (void*)&c);\n",
    "    printf(\"Before modif_my_char_var - Value of 'p': %p\\n\", (void*)p);\n",
    "    printf(\"Before modif_my_char_var - Address of 'p': %p\\n\", (void*)&p);\n",
    "\n",
    "    modif_my_char_var(p, c);\n",
    "\n",
    "    printf(\"After modif_my_char_var - Value of 'c': %c\\n\", c);\n",
    "    printf(\"After modif_my_char_var - Address of 'c': %p\\n\", (void*)&c);\n",
    "    printf(\"After modif_my_char_var - Value of 'p': %p\\n\", (void*)p);\n",
    "    printf(\"After modif_my_char_var - Address of 'p': %p\\n\", (void*)&p);\n",
    "\n",
    "    return (0);\n",
    "}\n"
   ]
  },
  {
   "cell_type": "code",
   "execution_count": 10,
   "metadata": {},
   "outputs": [
    {
     "name": "stdout",
     "output_type": "stream",
     "text": [
      "Before modif_my_char_var - Value of 'c': H\n",
      "Before modif_my_char_var - Address of 'c': 0x7ffdff424f0f\n",
      "Before modif_my_char_var - Value of 'p': 0x7ffdff424f0f\n",
      "Before modif_my_char_var - Address of 'p': 0x7ffdff424f10\n",
      "Inside modif_my_char_var - Address of 'cc': 0x7ffdff424ee8\n",
      "Inside modif_my_char_var - Value of 'cc': 0x7ffdff424f0f\n",
      "Inside modif_my_char_var - Address of 'ccc': 0x7ffdff424ee4\n",
      "Inside modif_my_char_var - Value of 'ccc': H\n",
      "Inside modif_my_char_var - After modification - Value of '*cc': o\n",
      "Inside modif_my_char_var - After modification - Value of 'ccc': l\n",
      "After modif_my_char_var - Value of 'c': o\n",
      "After modif_my_char_var - Address of 'c': 0x7ffdff424f0f\n",
      "After modif_my_char_var - Value of 'p': 0x7ffdff424f0f\n",
      "After modif_my_char_var - Address of 'p': 0x7ffdff424f10\n"
     ]
    }
   ],
   "source": [
    "%%bash\n",
    "gcc 0x05-pointers_arrays_strings/8-main.c -o 0x05-pointers_arrays_strings/modify_char\n",
    "./0x05-pointers_arrays_strings/modify_char\n"
   ]
  },
  {
   "attachments": {
    "image.png": {
     "image/png": "[encoded data removed]"
    }
   },
   "cell_type": "markdown",
   "metadata": {},
   "source": [
    "#### 9. Arrays in C\n",
    "### Understanding Arrays in C\n",
    "\n",
    "Arrays in C are contiguous ( next or touching each other - sharing a common border or exist in common proximity) memory areas that hold a number of values of the same type. Each element in an array can be accessed using its index. Let's break down this concept step by step.\n",
    "\n",
    "### Declaring an Array\n",
    "\n",
    "To declare an array, you use the following syntax:\n",
    "```c\n",
    "type var_name[number_of_elements];\n",
    "```\n",
    "- `type`: The data type of the elements in the array (e.g., `int`, `char`, `float`).\n",
    "- `var_name`: The name of the array.\n",
    "- `number_of_elements`: The number of elements the array will hold.\n",
    "\n",
    "**Example:**\n",
    "```c\n",
    "int t[5];\n",
    "```\n",
    "This declares an array named `t` that can hold 5 integers.\n",
    "\n",
    "### Memory Layout of an Array\n",
    "\n",
    "When you declare an array, the computer reserves a contiguous block of memory large enough to hold all the elements of the array. For example, if each `int` takes 4 bytes of memory, then `t[5]` will take 20 bytes of memory.\n",
    "![image.png](attachment:image.png)\n",
    "\n",
    "### Accessing Array Elements\n",
    "\n",
    "You can access each element of an array using its index. The index starts from 0.\n",
    "\n",
    "- `t[0]`: Accesses the first element.\n",
    "- `t[1]`: Accesses the second element.\n",
    "- And so on...\n",
    "\n",
    "### Example Program\n",
    "\n",
    "Let's look at an example program that declares an array, assigns values to it, and prints these values along with their addresses.\n",
    "\n",
    "**Code:**\n",
    "```c\n",
    "#include <stdio.h>\n",
    "\n",
    "/**\n",
    " * main - Accessing the different elements of an array\n",
    " *\n",
    " * Return: Always 0.\n",
    " */\n",
    "int main(void)\n",
    "{\n",
    "    int a[5];\n",
    "\n",
    "    a[0] = 98;\n",
    "    a[1] = 198;\n",
    "    a[2] = 298;\n",
    "    a[3] = 398;\n",
    "    a[4] = 498;\n",
    "\n",
    "    printf(\"Value of a[0]: %d\\n\", a[0]);\n",
    "    printf(\"Value of a[1]: %d\\n\", a[1]);\n",
    "    printf(\"Value of a[2]: %d\\n\", a[2]);\n",
    "    printf(\"Value of a[3]: %d\\n\", a[3]);\n",
    "    printf(\"Value of a[4]: %d\\n\", a[4]);\n",
    "\n",
    "    printf(\"Address of 'a[0]': %p\\n\", (void *)&(a[0]));\n",
    "    printf(\"Address of 'a[1]': %p\\n\", (void *)&(a[1]));\n",
    "    printf(\"Address of 'a[2]': %p\\n\", (void *)&(a[2]));\n",
    "    printf(\"Address of 'a[3]': %p\\n\", (void *)&(a[3]));\n",
    "    printf(\"Address of 'a[4]': %p\\n\", (void *)&(a[4]));\n",
    "\n",
    "    return (0);\n",
    "}\n",
    "```\n",
    "\n",
    "**Explanation:**\n",
    "\n",
    "1. **Declaration:**\n",
    "    ```c\n",
    "    int a[5];\n",
    "    ```\n",
    "    - Declares an array `a` of 5 integers.\n",
    "\n",
    "2. **Assigning Values:**\n",
    "    ```c\n",
    "    a[0] = 98;\n",
    "    a[1] = 198;\n",
    "    a[2] = 298;\n",
    "    a[3] = 398;\n",
    "    a[4] = 498;\n",
    "    ```\n",
    "    - Assigns values to each element of the array.\n",
    "\n",
    "3. **Printing Values:**\n",
    "    ```c\n",
    "    printf(\"Value of a[0]: %d\\n\", a[0]);\n",
    "    printf(\"Value of a[1]: %d\\n\", a[1]);\n",
    "    printf(\"Value of a[2]: %d\\n\", a[2]);\n",
    "    printf(\"Value of a[3]: %d\\n\", a[3]);\n",
    "    printf(\"Value of a[4]: %d\\n\", a[4]);\n",
    "    ```\n",
    "    - Prints the values of each element in the array.\n",
    "\n",
    "4. **Printing Addresses:**\n",
    "    ```c\n",
    "    printf(\"Address of 'a[0]': %p\\n\", (void *)&(a[0]));\n",
    "    printf(\"Address of 'a[1]': %p\\n\", (void *)&(a[1]));\n",
    "    printf(\"Address of 'a[2]': %p\\n\", (void *)&(a[2]));\n",
    "    printf(\"Address of 'a[3]': %p\\n\", (void *)&(a[3]));\n",
    "    printf(\"Address of 'a[4]': %p\\n\", (void *)&(a[4]));\n",
    "    ```\n",
    "    - Prints the addresses of each element in the array.\n",
    "\n",
    "### Compilation and Execution\n",
    "\n",
    "To compile and run the program, you can use the following command:\n",
    "\n",
    "```sh\n",
    "gcc 0x05-pointers_arrays_strings/9-main.c -o 0x05-pointers_arrays_strings/array && ./0x05-pointers_arrays_strings/array\n",
    "```\n",
    "\n",
    "### Expected Output\n",
    "\n",
    "When you run the program, you will see the following output:\n",
    "\n",
    "```sh\n",
    "Value of a[0]: 98\n",
    "Value of a[1]: 198\n",
    "Value of a[2]: 298\n",
    "Value of a[3]: 398\n",
    "Value of a[4]: 498\n",
    "Address of 'a[0]': 0x7ffcbca77dd0\n",
    "Address of 'a[1]': 0x7ffcbca77dd4\n",
    "Address of 'a[2]': 0x7ffcbca77dd8\n",
    "Address of 'a[3]': 0x7ffcbca77ddc\n",
    "Address of 'a[4]': 0x7ffcbca77de0\n",
    "```\n",
    "\n",
    "### Memory Layout Visualization\n",
    "\n",
    "Before exiting the `main` function, the memory layout of the array `a` would look like this:\n",
    "\n",
    "- Each element is stored in contiguous memory locations.\n",
    "- If the base address of `a[0]` is `0x7ffcbca77dd0`, then:\n",
    "  - `a[1]` is at `0x7ffcbca77dd4`\n",
    "  - `a[2]` is at `0x7ffcbca77dd8`\n",
    "  - `a[3]` is at `0x7ffcbca77ddc`\n",
    "  - `a[4]` is at `0x7ffcbca77de0`\n",
    "\n",
    "Each element's address is 4 bytes apart (assuming `int` is 4 bytes on your system).\n",
    "\n",
    "By understanding this, you can see how arrays are laid out in memory and how you can access and manipulate their elements. This foundational knowledge is crucial as you advance in C programming.\n",
    "To declare and use arrays:\n",
    "\n",
    "This demonstrates accessing and printing array elements and their addresses."
   ]
  },
  {
   "cell_type": "code",
   "execution_count": 3,
   "metadata": {},
   "outputs": [
    {
     "name": "stdout",
     "output_type": "stream",
     "text": [
      "Writing 0x05-pointers_arrays_strings/9-main.c\n"
     ]
    }
   ],
   "source": [
    "%%file 0x05-pointers_arrays_strings/9-main.c\n",
    "#include <stdio.h>\n",
    "\n",
    "/**\n",
    " * main - Accessing the different elements of an array\n",
    " *\n",
    " * Return: Always 0.\n",
    " */\n",
    "int main(void)\n",
    "{\n",
    "    int a[5];\n",
    "\n",
    "    a[0] = 98;\n",
    "    a[1] = 198;\n",
    "    a[2] = 298;\n",
    "    a[3] = 398;\n",
    "    a[4] = 498;\n",
    "\n",
    "    printf(\"Value of a[0]: %d\\n\", a[0]);\n",
    "    printf(\"Value of a[1]: %d\\n\", a[1]);\n",
    "    printf(\"Value of a[2]: %d\\n\", a[2]);\n",
    "    printf(\"Value of a[3]: %d\\n\", a[3]);\n",
    "    printf(\"Value of a[4]: %d\\n\", a[4]);\n",
    "\n",
    "    printf(\"Address of 'a[0]': %p\\n\", (void *)&(a[0]));\n",
    "    printf(\"Address of 'a[1]': %p\\n\", (void *)&(a[1]));\n",
    "    printf(\"Address of 'a[2]': %p\\n\", (void *)&(a[2]));\n",
    "    printf(\"Address of 'a[3]': %p\\n\", (void *)&(a[3]));\n",
    "    printf(\"Address of 'a[4]': %p\\n\", (void *)&(a[4]));\n",
    "\n",
    "    return (0);\n",
    "}\n"
   ]
  },
  {
   "cell_type": "code",
   "execution_count": 4,
   "metadata": {},
   "outputs": [
    {
     "name": "stdout",
     "output_type": "stream",
     "text": [
      "Value of a[0]: 98\n",
      "Value of a[1]: 198\n",
      "Value of a[2]: 298\n",
      "Value of a[3]: 398\n",
      "Value of a[4]: 498\n",
      "Address of 'a[0]': 0x7fffa9f834c0\n",
      "Address of 'a[1]': 0x7fffa9f834c4\n",
      "Address of 'a[2]': 0x7fffa9f834c8\n",
      "Address of 'a[3]': 0x7fffa9f834cc\n",
      "Address of 'a[4]': 0x7fffa9f834d0\n"
     ]
    }
   ],
   "source": [
    "%%bash\n",
    "gcc 0x05-pointers_arrays_strings/9-main.c -o 0x05-pointers_arrays_strings/array && ./0x05-pointers_arrays_strings/array\n"
   ]
  },
  {
   "cell_type": "markdown",
   "metadata": {},
   "source": [
    "#### 10. Arrays vs Pointers\n",
    "### Pointers vs Arrays in C\n",
    "\n",
    "Understanding the differences between arrays and pointers in C can be tricky, but it's crucial for mastering the language. Let's break it down step by step.\n",
    "\n",
    "#### Arrays are Not Pointers\n",
    "\n",
    "When you declare an array, the name of the array is not a pointer. Instead, it is an identifier for the entire array object.\n",
    "\n",
    "### Example 1: Invalid Array Assignments\n",
    "```c\n",
    "/**\n",
    " * main - You can not modify an array name\n",
    " *\n",
    " * Return: Always 0.\n",
    " */\n",
    "int main(void)\n",
    "{\n",
    "    int a[5];\n",
    "    int b;\n",
    "    int c[5];\n",
    "\n",
    "    a = 0; /* invalid */\n",
    "    a = &b; /* invalid */\n",
    "    a = c; /* invalid */\n",
    "    return (0);\n",
    "}\n",
    "```\n",
    "```c\n",
    "julien@ubuntu:~/c/$ cat 10-main.c\n",
    "/**\n",
    " * main - You can not modify a \n",
    " *\n",
    " * Return: Always 0.\n",
    " */\n",
    "int main(void)\n",
    "{\n",
    "    int a[5];\n",
    "    int b;\n",
    "    int c[5];\n",
    "\n",
    "    a = 0; /* nop */\n",
    "    a = &b; /* nop */\n",
    "    a = c; /* nop */\n",
    "    return (0);\n",
    "}\n",
    "julien@ubuntu:~/c/ideas_tests$ gcc 10-main.c\n",
    "10-main.c: In function ‘main’:\n",
    "10-main.c:12:4: error: assignment to expression with array type\n",
    "  a = 0; /* nop */\n",
    "    ^\n",
    "10-main.c:13:4: error: assignment to expression with array type\n",
    "  a = &b; /* nop */\n",
    "    ^\n",
    "10-main.c:14:4: error: assignment to expression with array type\n",
    "  a = c; /* nop */\n",
    "    ^\n",
    "julien@ubuntu:~/c$ \n",
    "```\n",
    "**Explanation:**\n",
    "- The above assignments are invalid because you cannot assign a new value to an array name. Array names are constant pointers to the first element, and their values (addresses) cannot be changed."
   ]
  },
  {
   "cell_type": "code",
   "execution_count": 3,
   "metadata": {},
   "outputs": [
    {
     "name": "stdout",
     "output_type": "stream",
     "text": [
      "Writing 0x05-pointers_arrays_strings/10-main.c\n"
     ]
    }
   ],
   "source": [
    "%%file 0x05-pointers_arrays_strings/10-main.c\n",
    "#include <stdio.h>\n",
    "/**\n",
    " * main - You can not modify a \n",
    " *\n",
    " * Return: Always 0.\n",
    " */\n",
    "int main(void)\n",
    "{\n",
    "    int a[5];\n",
    "    int b;\n",
    "    int c[5];\n",
    "\n",
    "    a = 0; /* nop */\n",
    "    a = &b; /* nop */\n",
    "    a = c; /* nop */\n",
    "    return (0);\n",
    "}\n"
   ]
  },
  {
   "cell_type": "code",
   "execution_count": 4,
   "metadata": {},
   "outputs": [
    {
     "name": "stderr",
     "output_type": "stream",
     "text": [
      "0x05-pointers_arrays_strings/10-main.c: In function ‘main’:\n",
      "0x05-pointers_arrays_strings/10-main.c:13:7: error: assignment to expression with array type\n",
      "   13 |     a = 0; /* nop */\n",
      "      |       ^\n",
      "0x05-pointers_arrays_strings/10-main.c:14:7: error: assignment to expression with array type\n",
      "   14 |     a = &b; /* nop */\n",
      "      |       ^\n",
      "0x05-pointers_arrays_strings/10-main.c:15:7: error: assignment to expression with array type\n",
      "   15 |     a = c; /* nop */\n",
      "      |       ^\n"
     ]
    },
    {
     "ename": "CalledProcessError",
     "evalue": "Command 'b'gcc 0x05-pointers_arrays_strings/10-main.c -o 0x05-pointers_arrays_strings/nop && ./0x05-pointers_arrays_strings/nop\\n'' returned non-zero exit status 1.",
     "output_type": "error",
     "traceback": [
      "\u001b[0;31m---------------------------------------------------------------------------\u001b[0m",
      "\u001b[0;31mCalledProcessError\u001b[0m                        Traceback (most recent call last)",
      "Cell \u001b[0;32mIn[4], line 1\u001b[0m\n\u001b[0;32m----> 1\u001b[0m \u001b[43mget_ipython\u001b[49m\u001b[43m(\u001b[49m\u001b[43m)\u001b[49m\u001b[38;5;241;43m.\u001b[39;49m\u001b[43mrun_cell_magic\u001b[49m\u001b[43m(\u001b[49m\u001b[38;5;124;43m'\u001b[39;49m\u001b[38;5;124;43mbash\u001b[39;49m\u001b[38;5;124;43m'\u001b[39;49m\u001b[43m,\u001b[49m\u001b[43m \u001b[49m\u001b[38;5;124;43m'\u001b[39;49m\u001b[38;5;124;43m'\u001b[39;49m\u001b[43m,\u001b[49m\u001b[43m \u001b[49m\u001b[38;5;124;43m'\u001b[39;49m\u001b[38;5;124;43mgcc 0x05-pointers_arrays_strings/10-main.c -o 0x05-pointers_arrays_strings/nop && ./0x05-pointers_arrays_strings/nop\u001b[39;49m\u001b[38;5;130;43;01m\\n\u001b[39;49;00m\u001b[38;5;124;43m'\u001b[39;49m\u001b[43m)\u001b[49m\n",
      "File \u001b[0;32m~/anaconda3/envs/alxse/lib/python3.12/site-packages/IPython/core/interactiveshell.py:2541\u001b[0m, in \u001b[0;36mInteractiveShell.run_cell_magic\u001b[0;34m(self, magic_name, line, cell)\u001b[0m\n\u001b[1;32m   2539\u001b[0m \u001b[38;5;28;01mwith\u001b[39;00m \u001b[38;5;28mself\u001b[39m\u001b[38;5;241m.\u001b[39mbuiltin_trap:\n\u001b[1;32m   2540\u001b[0m     args \u001b[38;5;241m=\u001b[39m (magic_arg_s, cell)\n\u001b[0;32m-> 2541\u001b[0m     result \u001b[38;5;241m=\u001b[39m \u001b[43mfn\u001b[49m\u001b[43m(\u001b[49m\u001b[38;5;241;43m*\u001b[39;49m\u001b[43margs\u001b[49m\u001b[43m,\u001b[49m\u001b[43m \u001b[49m\u001b[38;5;241;43m*\u001b[39;49m\u001b[38;5;241;43m*\u001b[39;49m\u001b[43mkwargs\u001b[49m\u001b[43m)\u001b[49m\n\u001b[1;32m   2543\u001b[0m \u001b[38;5;66;03m# The code below prevents the output from being displayed\u001b[39;00m\n\u001b[1;32m   2544\u001b[0m \u001b[38;5;66;03m# when using magics with decorator @output_can_be_silenced\u001b[39;00m\n\u001b[1;32m   2545\u001b[0m \u001b[38;5;66;03m# when the last Python token in the expression is a ';'.\u001b[39;00m\n\u001b[1;32m   2546\u001b[0m \u001b[38;5;28;01mif\u001b[39;00m \u001b[38;5;28mgetattr\u001b[39m(fn, magic\u001b[38;5;241m.\u001b[39mMAGIC_OUTPUT_CAN_BE_SILENCED, \u001b[38;5;28;01mFalse\u001b[39;00m):\n",
      "File \u001b[0;32m~/anaconda3/envs/alxse/lib/python3.12/site-packages/IPython/core/magics/script.py:155\u001b[0m, in \u001b[0;36mScriptMagics._make_script_magic.<locals>.named_script_magic\u001b[0;34m(line, cell)\u001b[0m\n\u001b[1;32m    153\u001b[0m \u001b[38;5;28;01melse\u001b[39;00m:\n\u001b[1;32m    154\u001b[0m     line \u001b[38;5;241m=\u001b[39m script\n\u001b[0;32m--> 155\u001b[0m \u001b[38;5;28;01mreturn\u001b[39;00m \u001b[38;5;28;43mself\u001b[39;49m\u001b[38;5;241;43m.\u001b[39;49m\u001b[43mshebang\u001b[49m\u001b[43m(\u001b[49m\u001b[43mline\u001b[49m\u001b[43m,\u001b[49m\u001b[43m \u001b[49m\u001b[43mcell\u001b[49m\u001b[43m)\u001b[49m\n",
      "File \u001b[0;32m~/anaconda3/envs/alxse/lib/python3.12/site-packages/IPython/core/magics/script.py:315\u001b[0m, in \u001b[0;36mScriptMagics.shebang\u001b[0;34m(self, line, cell)\u001b[0m\n\u001b[1;32m    310\u001b[0m \u001b[38;5;28;01mif\u001b[39;00m args\u001b[38;5;241m.\u001b[39mraise_error \u001b[38;5;129;01mand\u001b[39;00m p\u001b[38;5;241m.\u001b[39mreturncode \u001b[38;5;241m!=\u001b[39m \u001b[38;5;241m0\u001b[39m:\n\u001b[1;32m    311\u001b[0m     \u001b[38;5;66;03m# If we get here and p.returncode is still None, we must have\u001b[39;00m\n\u001b[1;32m    312\u001b[0m     \u001b[38;5;66;03m# killed it but not yet seen its return code. We don't wait for it,\u001b[39;00m\n\u001b[1;32m    313\u001b[0m     \u001b[38;5;66;03m# in case it's stuck in uninterruptible sleep. -9 = SIGKILL\u001b[39;00m\n\u001b[1;32m    314\u001b[0m     rc \u001b[38;5;241m=\u001b[39m p\u001b[38;5;241m.\u001b[39mreturncode \u001b[38;5;129;01mor\u001b[39;00m \u001b[38;5;241m-\u001b[39m\u001b[38;5;241m9\u001b[39m\n\u001b[0;32m--> 315\u001b[0m     \u001b[38;5;28;01mraise\u001b[39;00m CalledProcessError(rc, cell)\n",
      "\u001b[0;31mCalledProcessError\u001b[0m: Command 'b'gcc 0x05-pointers_arrays_strings/10-main.c -o 0x05-pointers_arrays_strings/nop && ./0x05-pointers_arrays_strings/nop\\n'' returned non-zero exit status 1."
     ]
    }
   ],
   "source": [
    "%%bash\n",
    "gcc 0x05-pointers_arrays_strings/10-main.c -o 0x05-pointers_arrays_strings/nop && ./0x05-pointers_arrays_strings/nop\n"
   ]
  },
  {
   "cell_type": "markdown",
   "metadata": {},
   "source": [
    "But, you can still use the name of the array in your code, and its value will be… the address of the first element of the array. Wait… WAT?\n",
    "### Example 2: Array Name as Address of First Element\n",
    "```c\n",
    "#include <stdio.h>\n",
    "\n",
    "/**\n",
    " * main - An array is not a pointer, but...\n",
    " *\n",
    " * Return: Always 0.\n",
    " */\n",
    "int main(void)\n",
    "{\n",
    "    int a[98]; /* array */\n",
    "\n",
    "    printf(\"a: %p\\n\", a);\n",
    "    printf(\"&a[0]: %p\\n\", &a[0]);\n",
    "    return (0);\n",
    "}\n",
    "```\n",
    "**Output:**\n",
    "```\n",
    "a: 0x7fffc211caa0\n",
    "&a[0]: 0x7fffc211caa0\n",
    "```\n",
    "**Explanation:**\n",
    "- `a`: The name of the array, when used in an expression, is converted to a pointer to the first element.\n",
    "- `&a[0]`: The address of the first element of the array.\n",
    "- Both print the same address, but the array name `a` itself is not a pointer."
   ]
  },
  {
   "cell_type": "code",
   "execution_count": null,
   "metadata": {},
   "outputs": [
    {
     "name": "stdout",
     "output_type": "stream",
     "text": [
      "Overwriting 0x05-pointers_arrays_strings/16-main.c\n"
     ]
    }
   ],
   "source": [
    "%%file 0x05-pointers_arrays_strings/16-main.c\n",
    "#include <stdio.h>\n",
    "\n",
    "/**\n",
    " * main - An array is not a pointer, but...\n",
    " *\n",
    " * Return: Always 0.\n",
    " */\n",
    "int main(void)\n",
    "{\n",
    "    int a[98]; /* array */\n",
    "\n",
    "    printf(\"a: %p\\n\", a);\n",
    "    printf(\"&a[0]: %p\\n\", &a[0]);\n",
    "    return (0);\n",
    "}\n",
    "\n"
   ]
  },
  {
   "cell_type": "code",
   "execution_count": 2,
   "metadata": {},
   "outputs": [
    {
     "name": "stdout",
     "output_type": "stream",
     "text": [
      "a: 0x7fff2ff657c0\n",
      "&a[0]: 0x7fff2ff657c0\n"
     ]
    }
   ],
   "source": [
    "%%bash\n",
    "gcc 0x05-pointers_arrays_strings/16-main.c -o 0x05-pointers_arrays_strings/avsp && ./0x05-pointers_arrays_strings/avsp\n"
   ]
  },
  {
   "cell_type": "markdown",
   "metadata": {},
   "source": [
    "So what is happening here? If arrays are not pointers, why is it that the value of an array is the address of the first element of the same array. Isn’t this the definition of a pointer: “a variable which contains the address”? Well… YES, this is a pointer, but the variable a (the array) is NOT. This is why:\n",
    "\n",
    "When the name of an array is used in an expression, the array type gets automatically implicitly converted to pointer-to-element type in almost all contexts (this is often referred to as “array type decay”). The resultant pointer is a completely independent temporary value, that is the address of the first element of the array."
   ]
  },
  {
   "cell_type": "markdown",
   "metadata": {},
   "source": [
    "\n",
    "### Array Type Decay\n",
    "\n",
    "When you use the name of an array in an expression, it gets automatically converted to a pointer to the first element. This is called \"array type decay\".\n",
    "\n",
    "### Example 3: Illustrating Array Type Decay\n",
    "```c\n",
    "#include <stdio.h>\n",
    "\n",
    "void f(int *a);\n",
    "\n",
    "/**\n",
    " * main - Illustrating the array type decay\n",
    " *\n",
    " * Return: Always 0.\n",
    " */\n",
    "int main(void)\n",
    "{\n",
    "    int *p;\n",
    "    int t[10];\n",
    "\n",
    "    p = t; /* This works because of the auto implicit conversion to (int *) */\n",
    "    printf(\"t: %p\\n\", t);\n",
    "    printf(\"&t[0]: %p\\n\", &t[0]);\n",
    "    printf(\"p: %p\\n\", p);\n",
    "    f(t);\n",
    "    return (0);\n",
    "}\n",
    "\n",
    "/**\n",
    " * f - prints the value of a pointer of type int\n",
    " * @a: address of an integer we need to print\n",
    " *\n",
    " * Return: Nothing.\n",
    " */\n",
    "void f(int *a)\n",
    "{\n",
    "    printf(\"a: %p\\n\", a);\n",
    "    return;\n",
    "}\n",
    "```\n",
    "**Output:**\n",
    "```\n",
    "t: 0x7ffd553e7380\n",
    "&t[0]: 0x7ffd553e7380\n",
    "p: 0x7ffd553e7380\n",
    "a: 0x7ffd553e7380\n",
    "```\n",
    "**Explanation:**\n",
    "- `t`: The name of the array, decayed to a pointer to the first element.\n",
    "- `&t[0]`: The address of the first element.\n",
    "- `p`: Assigned the address of the first element of `t`.\n",
    "- The function `f` receives `t` as a pointer, showing the same address.\n",
    "Sure, let's break down the concept of array type decay and the provided example step-by-step.\n",
    "\n",
    "### Array Type Decay\n",
    "\n",
    "Array type decay refers to the automatic conversion of an array name to a pointer to its first element when used in an expression. This means that the array name itself is not a pointer, but it can be used as if it were a pointer to the first element of the array.\n",
    "\n",
    "### Example Breakdown\n",
    "\n",
    "Let's look at the provided code and understand how array type decay works:\n",
    "\n",
    "```c\n",
    "#include <stdio.h>\n",
    "\n",
    "void f(int *a);\n",
    "\n",
    "/**\n",
    " * main - Illustrating the array type decay\n",
    " *\n",
    " * Return: Always 0.\n",
    " */\n",
    "int main(void)\n",
    "{\n",
    "    int *p;\n",
    "    int t[10];\n",
    "\n",
    "    p = t; /* This works because of the auto implicit conversion to (int *) */\n",
    "    printf(\"t: %p\\n\", t);\n",
    "    printf(\"&t[0]: %p\\n\", &t[0]);\n",
    "    printf(\"p: %p\\n\", p);\n",
    "    f(t);\n",
    "    return (0);\n",
    "}\n",
    "\n",
    "/**\n",
    " * f - prints the value of a pointer of type int\n",
    " * @a: address of an integer we need to print\n",
    " *\n",
    " * Return: Nothing.\n",
    " */\n",
    "void f(int *a)\n",
    "{\n",
    "    printf(\"a: %p\\n\", a);\n",
    "    return;\n",
    "}\n",
    "```\n",
    "\n",
    "### Detailed Explanation\n",
    "\n",
    "1. **Array Declaration**:\n",
    "   ```c\n",
    "   int t[10];\n",
    "   ```\n",
    "   - `t` is an array of 10 integers.\n",
    "\n",
    "2. **Pointer Declaration and Assignment**:\n",
    "   ```c\n",
    "   int *p;\n",
    "   p = t; /* This works because of the auto implicit conversion to (int *) */\n",
    "   ```\n",
    "   - `p` is a pointer to an integer.\n",
    "   - `p = t;` works because the array name `t` decays to a pointer to its first element. So, `p` now points to the first element of `t`.\n",
    "\n",
    "3. **Printing Addresses**:\n",
    "   ```c\n",
    "   printf(\"t: %p\\n\", t);\n",
    "   printf(\"&t[0]: %p\\n\", &t[0]);\n",
    "   printf(\"p: %p\\n\", p);\n",
    "   ```\n",
    "   - `t` prints the address of the first element of the array.\n",
    "   - `&t[0]` prints the address of the first element of the array.\n",
    "   - `p` prints the address stored in `p`, which is the same as `t` (the address of the first element of the array).\n",
    "\n",
    "4. **Function Call**:\n",
    "   ```c\n",
    "   f(t);\n",
    "   ```\n",
    "   - The function `f` is called with `t` as an argument. Because of array type decay, `t` is passed as a pointer to the first element of the array.\n",
    "\n",
    "5. **Function Definition**:\n",
    "   ```c\n",
    "   void f(int *a)\n",
    "   {\n",
    "       printf(\"a: %p\\n\", a);\n",
    "       return;\n",
    "   }\n",
    "   ```\n",
    "   - `f` takes an `int *` (a pointer to an integer) as its parameter.\n",
    "   - `a` inside `f` receives the same address as `t`, which is the address of the first element of the array.\n",
    "\n",
    "### Memory and Output\n",
    "\n",
    "Here's how the memory and output look like:\n",
    "\n",
    "- **Memory Layout**:\n",
    "  ```\n",
    "  +-----+-----+-----+-----+-----+-----+-----+-----+-----+-----+\n",
    "  | t[0]| t[1]| t[2]| t[3]| t[4]| t[5]| t[6]| t[7]| t[8]| t[9]|\n",
    "  +-----+-----+-----+-----+-----+-----+-----+-----+-----+-----+\n",
    "  ^\n",
    "  |\n",
    "  t (decays to &t[0])\n",
    "  ```\n",
    "\n",
    "- **Output**:\n",
    "  ```\n",
    "  t: 0x7ffd553e7380\n",
    "  &t[0]: 0x7ffd553e7380\n",
    "  p: 0x7ffd553e7380\n",
    "  a: 0x7ffd553e7380\n",
    "  ```\n",
    "\n",
    "  - `t`, `&t[0]`, `p`, and `a` all point to the same address, which is the starting address of the array `t`.\n",
    "\n",
    "### Summary\n",
    "\n",
    "1. **Array Decay**: When `t` is used in an expression, it decays to a pointer to the first element of the array (`&t[0]`).\n",
    "2. **Pointer Assignment**: `p = t;` assigns the address of the first element of `t` to `p`.\n",
    "3. **Function Parameter**: The function `f` takes a pointer `a` and prints its value, which is the address of the first element of `t`.\n",
    "\n",
    "By understanding array type decay, we see that arrays and pointers are closely related in C, but they are not the same. Arrays can be used as pointers in expressions, allowing functions to manipulate array elements directly through pointers."
   ]
  },
  {
   "cell_type": "code",
   "execution_count": 7,
   "metadata": {},
   "outputs": [
    {
     "name": "stdout",
     "output_type": "stream",
     "text": [
      "Overwriting 0x05-pointers_arrays_strings/17-main.c\n"
     ]
    }
   ],
   "source": [
    "%%file 0x05-pointers_arrays_strings/17-main.c\n",
    "#include <stdio.h>\n",
    "void f(int *a);\n",
    "\n",
    "/**\n",
    " * main - Illustrating the array type decay\n",
    " *\n",
    " * Return: Always 0.\n",
    " */\n",
    "int main(void)\n",
    "{\n",
    "   int *p;\n",
    "   int t[10];\n",
    "\n",
    "   p = t; /* This works because of the auto implicit conversion to (int *) */\n",
    "   printf(\"t: %p\\n\", t);\n",
    "   printf(\"&t[0]: %p\\n\", &t[0]);\n",
    "   printf(\"p: %p\\n\", p);\n",
    "   f(t);\n",
    "   return (0);\n",
    "}\n",
    "\n",
    "/**\n",
    " * f - prints the value of a pointer of type int\n",
    " * @a: address of an integer we need to print\n",
    " *\n",
    " * Return: Nothing.\n",
    " */\n",
    "void f(int *a)\n",
    "{\n",
    "   printf(\"a: %p\\n\", a);\n",
    "   return;\n",
    "}"
   ]
  },
  {
   "cell_type": "code",
   "execution_count": 8,
   "metadata": {},
   "outputs": [
    {
     "name": "stdout",
     "output_type": "stream",
     "text": [
      "t: 0x7ffc5069aa50\n",
      "&t[0]: 0x7ffc5069aa50\n",
      "p: 0x7ffc5069aa50\n",
      "a: 0x7ffc5069aa50\n"
     ]
    }
   ],
   "source": [
    "%%bash\n",
    "gcc 0x05-pointers_arrays_strings/17-main.c -o 0x05-pointers_arrays_strings/arraydecay && ./0x05-pointers_arrays_strings/arraydecay\n"
   ]
  },
  {
   "cell_type": "markdown",
   "metadata": {},
   "source": [
    "### Exceptions to Array Type Decay\n",
    "\n",
    "1. **`sizeof` Operator:**\n",
    "   - `sizeof` returns the total size of the array.\n",
    "   - The name of the array is not decayed to a pointer here.\n",
    "\n",
    "```c\n",
    "#include <stdio.h>\n",
    "\n",
    "/**\n",
    " * main - printing the sizeof an array \n",
    " *\n",
    " * Return: Always 0.\n",
    " */\n",
    "int main(void)\n",
    "{\n",
    "    int array[10];\n",
    "\n",
    "    printf(\"sizeof array: %lu\\n\", sizeof(array));\n",
    "    return (0);  \n",
    "}\n",
    "```\n",
    "**Output:**\n",
    "```\n",
    "sizeof array: 40\n",
    "```\n",
    "**Explanation:**\n",
    "- `sizeof(array)`: Gives the total size of the array (10 elements * 4 bytes each = 40 bytes).\n",
    "\n",
    "2. **Address-of (`&`) Operator:**\n",
    "   - `&array` gives the address of the entire array object.\n",
    "   - This is different from `&array[0]`.\n",
    "\n",
    "```c\n",
    "#include <stdio.h>\n",
    "\n",
    "/**\n",
    " * main - prints the address of an array\n",
    " *\n",
    " * Return: Always 0.\n",
    " */\n",
    "int main(void)\n",
    "{\n",
    "    char b[98];\n",
    "\n",
    "    printf(\"b: %p\\n\", b);\n",
    "    printf(\"&b: %p\\n\", &b);\n",
    "    return (0);\n",
    "}\n",
    "```\n",
    "**Output:**\n",
    "```\n",
    "b: 0x7ffe0b9c62f0\n",
    "&b: 0x7ffe0b9c62f0\n",
    "```\n",
    "**Explanation:**\n",
    "- `b`: The address of the first element.\n",
    "- `&b`: The address of the entire array object.\n",
    "- Both addresses are the same, but the types are different:\n",
    "  - `b` is of type `char *`.\n",
    "  - `&b` is of type `char (*)[98]`.\n",
    "\n",
    "### `char *`\n",
    "\n",
    "- **Definition**: `char *` is a pointer to a `char`. This type of pointer can point to a single character or the first character in a string (a null-terminated array of characters).\n",
    "- **Usage**: It's typically used for string manipulation, dynamic memory allocation for characters, and passing strings to functions.\n",
    "\n",
    "Example:\n",
    "```c\n",
    "char *p;\n",
    "char c = 'A';\n",
    "p = &c; // p now points to the character c\n",
    "```\n",
    "\n",
    "When used with strings:\n",
    "```c\n",
    "char *str = \"Hello, World!\";\n",
    "printf(\"%s\\n\", str); // Prints \"Hello, World!\"\n",
    "```\n",
    "\n",
    "### `char (*)[98]`\n",
    "\n",
    "- **Definition**: `char (*)[98]` is a pointer to an array of 98 characters. This means it points to the entire array and knows the size of the array it points to.\n",
    "- **Usage**: It's used when you want to point to an array of a fixed size. This is particularly useful when dealing with functions that need to operate on fixed-size arrays.\n",
    "\n",
    "Example:\n",
    "```c\n",
    "char arr[98];\n",
    "char (*p)[98] = &arr; // p now points to the array arr of size 98\n",
    "```\n",
    "\n",
    "When passed to a function:\n",
    "```c\n",
    "void func(char (*p)[98]) {\n",
    "    // p points to an array of 98 characters\n",
    "}\n",
    "\n",
    "int main() {\n",
    "    char arr[98];\n",
    "    func(&arr); // Pass the address of the array\n",
    "    return 0;\n",
    "}\n",
    "```\n",
    "\n",
    "### Differences in Usage and Context\n",
    "\n",
    "1. **Memory Layout and Access**:\n",
    "   - `char *`: Points to a single character or the first character of a string. Pointer arithmetic can be used to access subsequent characters.\n",
    "   - `char (*)[98]`: Points to the entire array of 98 characters. Pointer arithmetic can be used to move to different arrays of 98 characters (if you have a 2D array, for example).\n",
    "\n",
    "2. **Function Parameters**:\n",
    "   - `char *`: When you pass a `char *` to a function, you're passing a pointer to a character (or the start of a string).\n",
    "   - `char (*)[98]`: When you pass a `char (*)[98]` to a function, you're passing a pointer to an array of 98 characters, ensuring the function knows the size of the array.\n",
    "\n",
    "3. **Pointer Arithmetic**:\n",
    "   - `char *`: Pointer arithmetic increments/decrements the pointer by the size of a `char` (usually 1 byte).\n",
    "   - `char (*)[98]`: Pointer arithmetic increments/decrements the pointer by the size of the entire array (98 bytes).\n",
    "\n",
    "### Examples to Illustrate Differences\n",
    "\n",
    "1. **Using `char *`**:\n",
    "   ```c\n",
    "   char str[100] = \"Hello\";\n",
    "   char *p = str;\n",
    "   printf(\"%c\\n\", *p);     // Prints 'H'\n",
    "   printf(\"%c\\n\", *(p+1)); // Prints 'e'\n",
    "   ```\n",
    "\n",
    "2. **Using `char (*)[98]`**:\n",
    "   ```c\n",
    "   char arr[98] = \"Hello\";\n",
    "   char (*p)[98] = &arr;\n",
    "   printf(\"%c\\n\", (*p)[0]);    // Prints 'H'\n",
    "   printf(\"%c\\n\", (*p)[1]);    // Prints 'e'\n",
    "   ```\n",
    "\n",
    "3. **Function Parameter with `char *`**:\n",
    "   ```c\n",
    "   void printString(char *s) {\n",
    "       printf(\"%s\\n\", s);\n",
    "   }\n",
    "\n",
    "   int main() {\n",
    "       char str[100] = \"Hello\";\n",
    "       printString(str); // Passes pointer to the first character of str\n",
    "       return 0;\n",
    "   }\n",
    "   ```\n",
    "\n",
    "4. **Function Parameter with `char (*)[98]`**:\n",
    "   ```c\n",
    "   void processArray(char (*p)[98]) {\n",
    "       printf(\"%s\\n\", *p);\n",
    "   }\n",
    "\n",
    "   int main() {\n",
    "       char arr[98] = \"Hello\";\n",
    "       processArray(&arr); // Passes pointer to the entire array of 98 characters\n",
    "       return 0;\n",
    "   }\n",
    "   ```\n",
    "\n",
    "### Summary\n",
    "\n",
    "- **`char *`**: A pointer to a character. Commonly used for strings and dynamic memory allocation of characters.\n",
    "- **`char (*)[98]`**: A pointer to an array of 98 characters. Useful for ensuring functions operate on arrays of a fixed size.\n",
    "\n",
    "These distinctions are important for understanding how memory is managed and accessed in C, particularly when dealing with arrays and pointers.\n",
    "\n",
    "\n",
    "### Example 5: Size Differences\n",
    "\n",
    "```c\n",
    "#include <stdio.h>\n",
    "\n",
    "/**\n",
    " * main - prints the size of an array and the address of an array\n",
    " *\n",
    " * Return: Always 0.\n",
    " */\n",
    "int main(void)\n",
    "{\n",
    "    char b[98];\n",
    "\n",
    "    printf(\"b: %p\\n\", b);\n",
    "    printf(\"&b: %p\\n\", &b);\n",
    "    printf(\"sizeof(b): %lu\\n\", sizeof(b));\n",
    "    printf(\"sizeof(&b): %lu\\n\", sizeof(&b));\n",
    "    return (0);\n",
    "}\n",
    "```\n",
    "**Output:**\n",
    "```\n",
    "b: 0x7ffe0b9c62f0\n",
    "&b: 0x7ffe0b9c62f0\n",
    "sizeof(b): 98\n",
    "sizeof(&b): 8\n",
    "```\n",
    "**Explanation:**\n",
    "- `sizeof(b)`: Size of the array (98 bytes).\n",
    "- `sizeof(&b)`: Size of a pointer to the array (8 bytes on a 64-bit machine).\n",
    "\n",
    "### Summary\n",
    "\n",
    "- **Array names** are not pointers but can be used in expressions where they decay to pointers to the first element.\n",
    "- **Array assignments** are invalid because array names are constant pointers.\n",
    "- **Exceptions** to decay: `sizeof` and `&` (address-of).\n",
    "- Understanding these distinctions helps in avoiding common pitfalls in C programming.\n",
    "\n",
    "This should help you grasp the differences between arrays and pointers in C. If you have further questions or need more examples, feel free to ask!"
   ]
  },
  {
   "cell_type": "code",
   "execution_count": 11,
   "metadata": {},
   "outputs": [
    {
     "name": "stdout",
     "output_type": "stream",
     "text": [
      "Overwriting 0x05-pointers_arrays_strings/14-main.c\n"
     ]
    }
   ],
   "source": [
    "%%file 0x05-pointers_arrays_strings/14-main.c\n",
    "#include <stdio.h>\n",
    "\n",
    "/**\n",
    " * main - printing the sizeof an array \n",
    " *\n",
    " * Return: Always 0.\n",
    " */\n",
    "int main(void)\n",
    "{\n",
    "   int array[10];\n",
    "\n",
    "   printf(\"sizeof array: %lu\\n\", sizeof(array));\n",
    "   return (0);  \n",
    "}"
   ]
  },
  {
   "cell_type": "code",
   "execution_count": 12,
   "metadata": {},
   "outputs": [
    {
     "name": "stdout",
     "output_type": "stream",
     "text": [
      "sizeof array: 40\n"
     ]
    }
   ],
   "source": [
    "%%bash\n",
    "gcc -Wall -Werror -Wextra -pedantic -o 0x05-pointers_arrays_strings/sizeofarray 0x05-pointers_arrays_strings/14-main.c && ./0x05-pointers_arrays_strings/sizeofarray"
   ]
  },
  {
   "cell_type": "code",
   "execution_count": 13,
   "metadata": {},
   "outputs": [
    {
     "name": "stdout",
     "output_type": "stream",
     "text": [
      "Overwriting 0x05-pointers_arrays_strings/18-main.c\n"
     ]
    }
   ],
   "source": [
    "%%file 0x05-pointers_arrays_strings/18-main.c\n",
    "#include <stdio.h>\n",
    "\n",
    "/**\n",
    " * main - prints the address of an array\n",
    " *\n",
    " * Return: Always 0.\n",
    " */\n",
    "int main(void)\n",
    "{\n",
    "   char b[98];\n",
    "\n",
    "   printf(\"b: %p\\n\", b);\n",
    "   printf(\"&b: %p\\n\", &b);\n",
    "   return (0);\n",
    "}"
   ]
  },
  {
   "cell_type": "code",
   "execution_count": 14,
   "metadata": {},
   "outputs": [
    {
     "name": "stdout",
     "output_type": "stream",
     "text": [
      "t: 0x7ffe86c99ad0\n",
      "&t[0]: 0x7ffe86c99ad0\n",
      "p: 0x7ffe86c99ad0\n",
      "a: 0x7ffe86c99ad0\n"
     ]
    }
   ],
   "source": [
    "%%bash\n",
    "gcc 0x05-pointers_arrays_strings/18-main.c && ./0x05-pointers_arrays_strings/a.out"
   ]
  },
  {
   "cell_type": "code",
   "execution_count": 14,
   "metadata": {},
   "outputs": [
    {
     "name": "stdout",
     "output_type": "stream",
     "text": [
      "Writing 0x05-pointers_arrays_strings/19-main.c\n"
     ]
    }
   ],
   "source": [
    "%%file 0x05-pointers_arrays_strings/19-main.c\n",
    "#include <stdio.h>\n",
    "\n",
    "/**\n",
    " * main - prints the size of an array and the address of an array\n",
    " *\n",
    " * Return: Always 0.\n",
    " */\n",
    "int main(void)\n",
    "{\n",
    "   char b[98];\n",
    "\n",
    "   printf(\"b: %p\\n\", b);\n",
    "   printf(\"&b: %p\\n\", &b);\n",
    "   printf(\"sizeof(b): %lu\\n\", sizeof(b));\n",
    "   printf(\"sizeof(&b): %lu\\n\", sizeof(&b));\n",
    "   return (0);\n",
    "}"
   ]
  },
  {
   "cell_type": "code",
   "execution_count": 15,
   "metadata": {},
   "outputs": [
    {
     "name": "stdout",
     "output_type": "stream",
     "text": [
      "t: 0x7fff73fccff0\n",
      "&t[0]: 0x7fff73fccff0\n",
      "p: 0x7fff73fccff0\n",
      "a: 0x7fff73fccff0\n"
     ]
    }
   ],
   "source": [
    "%%bash\n",
    "gcc 0x05-pointers_arrays_strings/19-main.c && ./0x05-pointers_arrays_strings/a.out"
   ]
  },
  {
   "cell_type": "markdown",
   "metadata": {},
   "source": [
    "### Pointer Arithmetic in C\n",
    "\n",
    "Pointer arithmetic allows you to access elements of an array or traverse memory locations efficiently. Here's a detailed look at how it works.\n",
    "\n",
    "Another way to access different elements of an array, is to use this other notation: *(var + x), where var is the name of an array, and x is the (x+1)th element (starting counting elements at 0 of course) of this array. For instance if we declare:\n",
    "\n",
    "int i[10];  \n",
    "then, when we will use i in the code, i[5] will be the same as *(i + 5). We already knew that i is evaluated as a pointer to the first element of the array, since i is an array. But now, we also know that i + 5 will be evaluated as a pointer to the 6th element of the array i.\n",
    "\n",
    "#### Accessing Array Elements Using Pointer Arithmetic\n",
    "\n",
    "Instead of using the array subscript notation (e.g., `a[i]`), you can use pointer arithmetic to access array elements.\n",
    "\n",
    "### Example 1: Array Access with Pointers\n",
    "```c\n",
    "#include <stdio.h>\n",
    "\n",
    "/**\n",
    " * main - illustrates pointers arithmetic\n",
    " *\n",
    " * Return: Always 0.\n",
    " */\n",
    "int main(void)\n",
    "{\n",
    "    int a[5];\n",
    "\n",
    "    *a = 98;          /* same as *(a + 0) */\n",
    "    *(a + 1) = 198;   /* access second element */\n",
    "    *(a + 2) = 298;   /* access third element */\n",
    "    *(a + 3) = 398;   /* access fourth element */\n",
    "    *(a + 4) = 498;   /* access fifth element */\n",
    "\n",
    "    printf(\"Value of a[0]: %d\\n\", *a);\n",
    "    printf(\"Value of a[1]: %d\\n\", *(a + 1));\n",
    "    printf(\"Value of a[2]: %d\\n\", *(a + 2));\n",
    "    printf(\"Value of a[3]: %d\\n\", *(a + 3));\n",
    "    printf(\"Value of a[4]: %d\\n\", *(a + 4));\n",
    "\n",
    "    printf(\"----------------\\n\");\n",
    "\n",
    "    printf(\"Value of 'a' (also address of a[0]): %p\\n\", a);\n",
    "    printf(\"Address of 'a[1]': %p\\n\", (a + 1));\n",
    "    printf(\"Address of 'a[1]': %p\\n\", &(*(a + 1)));\n",
    "\n",
    "    return 0;\n",
    "}\n",
    "```\n",
    "**Output:**\n",
    "```\n",
    "Value of a[0]: 98\n",
    "Value of a[1]: 198\n",
    "Value of a[2]: 298\n",
    "Value of a[3]: 398\n",
    "Value of a[4]: 498\n",
    "----------------\n",
    "Value of 'a' (also address of a[0]): 0x7ffff8f19240\n",
    "Address of 'a[1]': 0x7ffff8f19244\n",
    "Address of 'a[1]': 0x7ffff8f19244\n",
    "```\n",
    "**Explanation:**\n",
    "- `*a` is the same as `a[0]`.\n",
    "- `*(a + 1)` is the same as `a[1]`, and so on.\n",
    "- The address increments by `sizeof(int)` (typically 4 bytes) because the array contains integers.\n",
    "\n"
   ]
  },
  {
   "cell_type": "code",
   "execution_count": 16,
   "metadata": {},
   "outputs": [
    {
     "name": "stdout",
     "output_type": "stream",
     "text": [
      "Overwriting 0x05-pointers_arrays_strings/10-main.c\n"
     ]
    }
   ],
   "source": [
    "%%file 0x05-pointers_arrays_strings/10-main.c\n",
    "#include <stdio.h>\n",
    "\n",
    "/**\n",
    " * main - illustrates pointers arithmetic\n",
    " *\n",
    " * Return: Always 0.\n",
    " */\n",
    "int main(void)\n",
    "{\n",
    "   int a[5];\n",
    "\n",
    "   *a = 98; /* same as *(a + 0) */\n",
    "   *(a + 1) = 198;\n",
    "   *(a + 2) = 298;\n",
    "   *(a + 3) = 398;\n",
    "   *(a + 4) = 498;\n",
    "   printf(\"Value of a[0]: %d\\n\", *a);\n",
    "   printf(\"Value of a[1]: %d\\n\", *(a + 1));\n",
    "   printf(\"Value of a[2]: %d\\n\", *(a + 2));\n",
    "   printf(\"Value of a[3]: %d\\n\", *(a + 3));\n",
    "   printf(\"Value of a[4]: %d\\n\", *(a + 4));\n",
    "   printf(\"----------------\\n\");\n",
    "   printf(\"Value of 'a' (also address of a[0]): %p\\n\", a);\n",
    "   printf(\"Address of 'a[1]': %p\\n\", (a + 1));\n",
    "   printf(\"Address of 'a[1]': %p\\n\", &(*(a + 1)));\n",
    "   return (0);\n",
    "}"
   ]
  },
  {
   "cell_type": "code",
   "execution_count": 17,
   "metadata": {},
   "outputs": [
    {
     "name": "stdout",
     "output_type": "stream",
     "text": [
      "Value of a[0]: 98\n",
      "Value of a[1]: 198\n",
      "Value of a[2]: 298\n",
      "Value of a[3]: 398\n",
      "Value of a[4]: 498\n",
      "----------------\n",
      "Value of 'a' (also address of a[0]): 0x7ffc42e86be0\n",
      "Address of 'a[1]': 0x7ffc42e86be4\n",
      "Address of 'a[1]': 0x7ffc42e86be4\n"
     ]
    }
   ],
   "source": [
    "%%bash\n",
    "gcc 0x05-pointers_arrays_strings/10-main.c -o 0x05-pointers_arrays_strings/array && ./0x05-pointers_arrays_strings/array"
   ]
  },
  {
   "attachments": {
    "image.png": {
     "image/png": "[encoded data removed]"
    }
   },
   "cell_type": "markdown",
   "metadata": {},
   "source": [
    "But wait a second, if the value of a is 0x7ffff8f19240, how come a + 1 == 0x7ffff8f19244 and not 0x7ffff8f19241?\n",
    "This is the pointers arithmetic. The computer knows that a points to an integer. The computer also knows that the size of an integer in memory is sizeof(int) bytes - in this case 4 bytes - and concludes that the next element of this type will be stored 4 bytes later in memory.\n",
    "\n",
    "![image.png](attachment:image.png)\n",
    "\n",
    "If this works for arrays, which are evaluated as pointers in this context, this means that this arithmetic also works for “regular” pointers."
   ]
  },
  {
   "cell_type": "markdown",
   "metadata": {},
   "source": [
    "### Pointer Arithmetic with Regular Pointers\n",
    "\n",
    "Pointer arithmetic can be applied to regular pointers as well, not just arrays.\n",
    "\n",
    "### Example 2: Pointer Arithmetic with Regular Pointers\n",
    "```c\n",
    "#include <stdio.h>\n",
    "\n",
    "/**\n",
    " * main - pointers arithmetic\n",
    " *\n",
    " * Return: Always 0.\n",
    " */\n",
    "int main(void)\n",
    "{\n",
    "    int *p;\n",
    "    int a[2];\n",
    "    int n;\n",
    "\n",
    "    p = &n;\n",
    "    printf(\"p = &n;\\np: %p\\n\", p);\n",
    "    printf(\"p + 1: %p\\n\", p + 1);\n",
    "    printf(\"p + 2: %p\\n\", p + 2);\n",
    "    printf(\"p + 10: %p\\n\", p + 10);\n",
    "\n",
    "    p = a;\n",
    "    printf(\"p = a;\\np: %p\\np + 1: %p\\n\", p, p + 1);\n",
    "\n",
    "    return 0;\n",
    "}\n",
    "```\n",
    "**Output:**\n",
    "```\n",
    "p = &n;\n",
    "p: 0x7ffd90a8cd2c\n",
    "p + 1: 0x7ffd90a8cd30\n",
    "p + 2: 0x7ffd90a8cd34\n",
    "p + 10: 0x7ffd90a8cd54\n",
    "p = a;\n",
    "p: 0x7ffd90a8cd30\n",
    "p + 1: 0x7ffd90a8cd34\n",
    "```\n",
    "**Explanation:**\n",
    "- `p + 1` increases the address by `sizeof(int)` (4 bytes) because `p` points to an integer.\n",
    "- `p + 10` increases the address by 10 times `sizeof(int)` (40 bytes)."
   ]
  },
  {
   "cell_type": "code",
   "execution_count": null,
   "metadata": {},
   "outputs": [],
   "source": []
  },
  {
   "cell_type": "code",
   "execution_count": null,
   "metadata": {},
   "outputs": [],
   "source": []
  },
  {
   "cell_type": "markdown",
   "metadata": {},
   "source": [
    "### Understanding Memory State Through an Example\n",
    "\n",
    "Try to understand and visualize the memory state at each step of the following program:\n",
    "\n",
    "### Example 3: Memory State\n",
    "```c\n",
    "#include <stdio.h>\n",
    "\n",
    "/**\n",
    " * main - Solve me\n",
    " *\n",
    " * Return: Always 0.\n",
    " */\n",
    "int main(void)\n",
    "{\n",
    "    int a[5];\n",
    "    int *p;\n",
    "    int *p2;\n",
    "\n",
    "    *a = 98;\n",
    "    *(a + 1) = 198;\n",
    "    *(a + 2) = 298;\n",
    "    a[3] = 398;\n",
    "    *(a + 4) = 498;\n",
    "\n",
    "    p = a + 1;\n",
    "    *p = 98;\n",
    "\n",
    "    p2 = a + 3;\n",
    "    *p2 = *p + 1337;\n",
    "\n",
    "    return 0;\n",
    "}\n",
    "```\n",
    "**Explanation:**\n",
    "1. `*a = 98;` initializes the first element of `a` to 98.\n",
    "2. `*(a + 1) = 198;` initializes the second element to 198.\n",
    "3. `*(a + 2) = 298;` initializes the third element to 298.\n",
    "4. `a[3] = 398;` initializes the fourth element to 398.\n",
    "5. `*(a + 4) = 498;` initializes the fifth element to 498.\n",
    "6. `p = a + 1;` sets `p` to point to the second element.\n",
    "7. `*p = 98;` changes the value of the second element to 98.\n",
    "8. `p2 = a + 3;` sets `p2` to point to the fourth element.\n",
    "9. `*p2 = *p + 1337;` changes the value of the fourth element to 1435 (98 + 1337).\n",
    "\n",
    "### Visualizing Memory State\n",
    "\n",
    "| Address         | Value | Variable/Expression |\n",
    "|-----------------|-------|---------------------|\n",
    "| `0x...`         | 98    | `a[0]`, `*a`        |\n",
    "| `0x... + 4`     | 98    | `a[1]`, `*(a + 1)`  |\n",
    "| `0x... + 8`     | 298   | `a[2]`, `*(a + 2)`  |\n",
    "| `0x... + 12`    | 1435  | `a[3]`, `*(a + 3)`  |\n",
    "| `0x... + 16`    | 498   | `a[4]`, `*(a + 4)`  |\n",
    "\n",
    "This should provide a solid understanding of how pointer arithmetic works in C and how it can be used to manipulate arrays and regular pointers efficiently. "
   ]
  },
  {
   "cell_type": "markdown",
   "metadata": {},
   "source": [
    "###\n",
    "---\n",
    "<center>\n",
    "<h1> 0x05-pointers_arrays_strings  </h1>\n",
    "</center>\n",
    "\n",
    "---\n"
   ]
  },
  {
   "cell_type": "markdown",
   "metadata": {},
   "source": [
    "###\n",
    "---\n",
    "<center>\n",
    "<h4> 0. isupper </h4>\n",
    "</center>\n",
    "\n",
    "---"
   ]
  },
  {
   "cell_type": "markdown",
   "metadata": {},
   "source": [
    "\n",
    "####  Write a function that checks for uppercase character.\n",
    "\n",
    "* Prototype: `int _isupper(int c);`\n",
    "* Returns `1` if `c` is uppercase\n",
    "* Returns `0` otherwise\n",
    "FYI: The standard library provides a similar function: `isupper`. Run `man isupper` to learn more.\n",
    "\n",
    "```bash\n",
    "julien@ubuntu:~/0x04$ cat 0-main.c\n",
    "#include \"main.h\"\n",
    "#include <stdio.h>\n",
    "\n",
    "/**\n",
    " * main - check the code.\n",
    " *\n",
    " * Return: Always 0.\n",
    " */\n",
    "int main(void)\n",
    "{\n",
    "    char c;\n",
    "\n",
    "    c = 'A';\n",
    "    printf(\"%c: %d\\n\", c, _isupper(c));\n",
    "    c = 'a';\n",
    "    printf(\"%c: %d\\n\", c, _isupper(c));\n",
    "    return (0);\n",
    "}\n",
    "julien@ubuntu:~/0x04$ gcc -Wall -pedantic -Werror -Wextra -std=gnu89 0-main.c 0-isupper.c -o 0-isuper\n",
    "julien@ubuntu:~/0x04$ ./0-isuper \n",
    "A: 1\n",
    "a: 0\n",
    "julien@ubuntu:~/0x04$ \n",
    "\n",
    "```\n",
    "\n",
    "#### Repo:\n",
    "* GitHub repository: ``` alx-low_level_programming ```\n",
    "* Directory: ```0x05-pointers_arrays_strings``` \n",
    "* File: ```0-isupper.c```"
   ]
  },
  {
   "cell_type": "code",
   "execution_count": 1,
   "metadata": {},
   "outputs": [
    {
     "name": "stdout",
     "output_type": "stream",
     "text": [
      "Overwriting 0x04-more_functions_nested_loops/0-main.c\n"
     ]
    }
   ],
   "source": [
    "%%file 0x05-pointers_arrays_strings/0-main.c\n",
    "#include \"main.h\"\n",
    "#include <stdio.h>\n",
    "\n",
    "/**\n",
    " * main - check the code.\n",
    " *\n",
    " * Return: Always 0.\n",
    " */\n",
    "int main(void)\n",
    "{\n",
    "    char c;\n",
    "\n",
    "    c = 'A';\n",
    "    printf(\"%c: %d\\n\", c, _isupper(c));\n",
    "    c = 'a';\n",
    "    printf(\"%c: %d\\n\", c, _isupper(c));\n",
    "    return (0);\n",
    "}"
   ]
  },
  {
   "cell_type": "code",
   "execution_count": 2,
   "metadata": {},
   "outputs": [
    {
     "name": "stdout",
     "output_type": "stream",
     "text": [
      "Overwriting 0x04-more_functions_nested_loops/main.h\n"
     ]
    }
   ],
   "source": [
    "%%file 0x05-pointers_arrays_strings/main.h\n",
    "#ifndef FILE_MAIN\n",
    "#define FILE_MAIN\n",
    "\n",
    "#include <stdio.h>\n",
    "\n",
    "int _putchar(char c);\n",
    "int _isupper(int c);\n",
    "\n",
    "\n",
    "#endif\n"
   ]
  },
  {
   "cell_type": "code",
   "execution_count": 3,
   "metadata": {},
   "outputs": [
    {
     "name": "stdout",
     "output_type": "stream",
     "text": [
      "Overwriting 0x04-more_functions_nested_loops/0-isupper.c\n"
     ]
    }
   ],
   "source": [
    "%%file 0x05-pointers_arrays_strings/0-isupper.c\n",
    "#include \"main.h\"\n",
    "\n",
    "/**\n",
    "* _isupper - checks for uppercase character\n",
    "* @c: the character to be checked\n",
    "* Return: 1 if c is uppercase, 0 otherwise\n",
    "*/\n",
    "int _isupper(int c)\n",
    "{\n",
    "return (c >= 'A' && c <= 'Z');\n",
    "}"
   ]
  },
  {
   "cell_type": "code",
   "execution_count": 6,
   "metadata": {},
   "outputs": [
    {
     "name": "stdout",
     "output_type": "stream",
     "text": [
      "Overwriting 0x04-more_functions_nested_loops/_putchar.c\n"
     ]
    }
   ],
   "source": [
    "%%file 0x05-pointers_arrays_strings/_putchar.c\n",
    "#include <unistd.h>\n",
    "#include \"main.h\"\n",
    "/**\n",
    " * _putchar - writes the character c to stdout\n",
    " * @c: The character to print\n",
    " *\n",
    " * Return: On success 1.\n",
    " * On error, -1 is returned, and errno is set appropriately.\n",
    " */\n",
    "int _putchar(char c)\n",
    "{\n",
    "\treturn (write(1, &c, 1));\n",
    "}\n"
   ]
  },
  {
   "cell_type": "code",
   "execution_count": null,
   "metadata": {},
   "outputs": [
    {
     "name": "stdout",
     "output_type": "stream",
     "text": [
      "\n",
      "========== 0x04-more_functions_nested_loops/0-isupper.c ==========\n",
      "_isupper\n",
      "A: 1\n",
      "a: 0\n"
     ]
    }
   ],
   "source": [
    "%%bash\n",
    "betty 0x05-pointers_arrays_strings/0-isupper.c\n",
    "gcc -Wall -pedantic -Werror -Wextra -std=gnu89 0x05-pointers_arrays_strings/0-main.c 0x05-pointers_arrays_strings/0-isupper.c -o 0x05-pointers_arrays_strings/0-isupper\n",
    "./0x05-pointers_arrays_strings/0-isupper"
   ]
  },
  {
   "cell_type": "code",
   "execution_count": null,
   "metadata": {},
   "outputs": [
    {
     "name": "stdout",
     "output_type": "stream",
     "text": [
      "[main 73a8699] alx-low_level_programming/0x04-more_functions_nested_loops\n",
      " 3 files changed, 233 insertions(+), 279 deletions(-)\n",
      " create mode 100644 0x04-more_functions_nested_loops/1-main.c\n"
     ]
    },
    {
     "name": "stderr",
     "output_type": "stream",
     "text": [
      "To github.com:elkomysara/alx-low_level_programming.git\n",
      "   09a18da..73a8699  main -> main\n"
     ]
    }
   ],
   "source": [
    "%%bash\n",
    "git add .\n",
    "git commit -m \"alx-low_level_programming/0x05-pointers_arrays_strings\"\n",
    "git push"
   ]
  },
  {
   "cell_type": "markdown",
   "metadata": {},
   "source": [
    "###\n",
    "---\n",
    "<center>\n",
    "<h4> 1. isdigit</h4>\n",
    "</center>\n",
    "\n",
    "---\n"
   ]
  },
  {
   "cell_type": "markdown",
   "metadata": {},
   "source": [
    "##### Write a function that checks for a digit (`0` through `9`).\n",
    "\n",
    "* Prototype: `int _isdigit(int c);`\n",
    "* Returns `1` if `c` is a digit\n",
    "* Returns `0` otherwise\n",
    "\n",
    "FYI: The standard library provides a similar function: isdigit. Run man isdigit to learn more.\n",
    "```bash\n",
    "julien@ubuntu:~/0x04$ cat 1-main.c \n",
    "#include \"main.h\"\n",
    "#include <stdio.h>\n",
    "\n",
    "/**\n",
    " * main - check the code\n",
    " *\n",
    " * Return: Always 0.\n",
    " */\n",
    "int main(void)\n",
    "{\n",
    "    char c;\n",
    "\n",
    "    c = '0';\n",
    "    printf(\"%c: %d\\n\", c, _isdigit(c));\n",
    "    c = 'a';\n",
    "    printf(\"%c: %d\\n\", c, _isdigit(c));\n",
    "    return (0);\n",
    "}\n",
    "julien@ubuntu:~/0x04$ gcc -Wall -pedantic -Werror -Wextra -std=gnu89 1-main.c 1-isdigit.c -o 1-isdigit\n",
    "julien@ubuntu:~/0x04$ ./1-isdigit \n",
    "0: 1\n",
    "a: 0\n",
    "julien@ubuntu:~/0x04$ \n",
    "\n",
    "```\n",
    "\n",
    "\n",
    "* Repo:\n",
    "\n",
    "    * GitHub repository: <code > alx-low_level_programming </code>\n",
    "    * Directory: <code > 0x05-pointers_arrays_strings </code>\n",
    "    * File: <code >  1-isdigit.c </code>\n",
    "   "
   ]
  },
  {
   "cell_type": "code",
   "execution_count": 9,
   "metadata": {},
   "outputs": [
    {
     "name": "stdout",
     "output_type": "stream",
     "text": [
      "Writing 0x04-more_functions_nested_loops/1-isdigit.c\n"
     ]
    }
   ],
   "source": [
    "%%file 0x05-pointers_arrays_strings/1-isdigit.c\n",
    "#include \"main.h\"\n",
    "\n",
    "/**\n",
    "* _isdigit - checks for a digit (0 through 9)\n",
    "* @c: int to be checked\n",
    "* Return: 1 if c is a digit, 0 otherwise\n",
    "*/\n",
    "int _isdigit(int c)\n",
    "{\n",
    "return (c >= '0' && c <= '9');\n",
    "}"
   ]
  },
  {
   "cell_type": "code",
   "execution_count": 14,
   "metadata": {},
   "outputs": [
    {
     "name": "stdout",
     "output_type": "stream",
     "text": [
      "Writing 0x04-more_functions_nested_loops/1-main.c\n"
     ]
    }
   ],
   "source": [
    "%%file 0x05-pointers_arrays_strings/1-main.c\n",
    "#include \"main.h\"\n",
    "#include <stdio.h>\n",
    "\n",
    "/**\n",
    " * main - check the code\n",
    " *\n",
    " * Return: Always 0.\n",
    " */\n",
    "int main(void)\n",
    "{\n",
    "char c;\n",
    "\n",
    "c = '0';\n",
    "printf(\"%c: %d\\n\", c, _isdigit(c));\n",
    "c = 'a';\n",
    "printf(\"%c: %d\\n\", c, _isdigit(c));\n",
    "return (0);\n",
    "}"
   ]
  },
  {
   "cell_type": "code",
   "execution_count": 10,
   "metadata": {},
   "outputs": [
    {
     "name": "stdout",
     "output_type": "stream",
     "text": [
      "Overwriting 0x04-more_functions_nested_loops/main.h\n"
     ]
    }
   ],
   "source": [
    "%%file 0x05-pointers_arrays_strings/main.h\n",
    "#ifndef MAIN_H\n",
    "#define MAIN_H\n",
    "\n",
    "#include <stdio.h>\n",
    "\n",
    "int _putchar(char c);\n",
    "int _isupper(int c);\n",
    "int _isdigit(int c);\n",
    "\n",
    "#endif\n"
   ]
  },
  {
   "cell_type": "code",
   "execution_count": 12,
   "metadata": {},
   "outputs": [
    {
     "name": "stdout",
     "output_type": "stream",
     "text": [
      "\n",
      "========== 0x04-more_functions_nested_loops/1-isdigit.c ==========\n",
      "_isdigit\n",
      "0: 1\n",
      "a: 0\n"
     ]
    }
   ],
   "source": [
    "%%bash\n",
    "betty 0x05-pointers_arrays_strings/1-isdigit.c\n",
    "gcc -Wall -pedantic -Werror -Wextra -std=gnu89 0x05-pointers_arrays_strings/1-main.c 0x05-pointers_arrays_strings/1-isdigit.c -o 0x05-pointers_arrays_strings/1-isdigit\n",
    "./0x05-pointers_arrays_strings/1-isdigit"
   ]
  },
  {
   "cell_type": "code",
   "execution_count": 13,
   "metadata": {},
   "outputs": [
    {
     "name": "stdout",
     "output_type": "stream",
     "text": [
      "[main 202c7fe] alx-low_level_programming/0x04-more_functions_nested_loops\n",
      " 2 files changed, 187 insertions(+), 585 deletions(-)\n",
      " create mode 100755 0x04-more_functions_nested_loops/1-isdigit\n"
     ]
    },
    {
     "name": "stderr",
     "output_type": "stream",
     "text": [
      "To github.com:elkomysara/alx-low_level_programming.git\n",
      "   7fafeb7..202c7fe  main -> main\n"
     ]
    }
   ],
   "source": [
    "%%bash\n",
    "git add .\n",
    "git commit -m \"alx-low_level_programming/0x05-pointers_arrays_strings\"\n",
    "git push"
   ]
  },
  {
   "cell_type": "markdown",
   "metadata": {},
   "source": [
    "###\n",
    "---\n",
    "<center>\n",
    "<h4> 2. Collaboration is multiplication</h4>\n",
    "</center>\n",
    "\n",
    "---\n"
   ]
  },
  {
   "cell_type": "markdown",
   "metadata": {},
   "source": [
    "##### Write a function that multiplies two integers.\n",
    "\n",
    "* Prototype: int mul(int a, int b);\n",
    "\n",
    "```bash\n",
    "julien@ubuntu:~/0x04$ cat 2-main.c\n",
    "#include \"main.h\"\n",
    "#include <stdio.h>\n",
    "\n",
    "/**\n",
    " * main - check the code\n",
    " *\n",
    " * Return: Always 0.\n",
    " */\n",
    "int main(void)\n",
    "{\n",
    "    printf(\"%d\\n\", mul(98, 1024));\n",
    "    printf(\"%d\\n\", mul(-402, 4096));\n",
    "    return (0);\n",
    "}\n",
    "julien@ubuntu:~/0x04$ gcc -Wall -pedantic -Werror -Wextra -std=gnu89 2-main.c 2-mul.c -o 2-mul\n",
    "julien@ubuntu:~/0x04$ ./2-mul \n",
    "100352\n",
    "-1646592\n",
    "julien@ubuntu:~/0x04$\n",
    "\n",
    "```\n",
    "\n",
    "\n",
    "* Repo:\n",
    "\n",
    "    * GitHub repository: <code > alx-low_level_programming </code>\n",
    "    * Directory: <code > 0x05-pointers_arrays_strings </code>\n",
    "    * File: <code > 2-mul.c </code>\n",
    "   "
   ]
  },
  {
   "cell_type": "code",
   "execution_count": 20,
   "metadata": {},
   "outputs": [
    {
     "name": "stdout",
     "output_type": "stream",
     "text": [
      "Overwriting 0x04-more_functions_nested_loops/2-mul.c\n"
     ]
    }
   ],
   "source": [
    "%%file 0x05-pointers_arrays_strings/2-mul.c\n",
    "#include \"main.h\"\n",
    "\n",
    "/**\n",
    "* mul - multiplies two integers\n",
    "* @a: int to be multiplied\n",
    "* @b: int to be multiplied\n",
    "* Return: multiplication\n",
    "*/\n",
    "int mul(int a, int b)\n",
    "{\n",
    "return (a * b);\n",
    "}"
   ]
  },
  {
   "cell_type": "code",
   "execution_count": 21,
   "metadata": {},
   "outputs": [
    {
     "name": "stdout",
     "output_type": "stream",
     "text": [
      "Overwriting 0x04-more_functions_nested_loops/2-main.c\n"
     ]
    }
   ],
   "source": [
    "%%file 0x05-pointers_arrays_strings/2-main.c\n",
    "#include \"main.h\"\n",
    "#include <stdio.h>\n",
    "\n",
    "/**\n",
    " * main - check the code\n",
    " *\n",
    " * Return: Always 0.\n",
    " */\n",
    "int main(void)\n",
    "{\n",
    "    printf(\"%d\\n\", mul(98, 1024));\n",
    "    printf(\"%d\\n\", mul(-402, 4096));\n",
    "    return (0);\n",
    "}"
   ]
  },
  {
   "cell_type": "code",
   "execution_count": 22,
   "metadata": {},
   "outputs": [
    {
     "name": "stdout",
     "output_type": "stream",
     "text": [
      "Overwriting 0x04-more_functions_nested_loops/main.h\n"
     ]
    }
   ],
   "source": [
    "%%file 0x05-pointers_arrays_strings/main.h\n",
    "#ifndef MAIN_H\n",
    "#define MAIN_H\n",
    "\n",
    "#include <stdio.h>\n",
    "\n",
    "int _putchar(char c);\n",
    "int _isupper(int c);\n",
    "int _isdigit(int c);\n",
    "int mul(int a, int b);\n",
    "\n",
    "#endif\n"
   ]
  },
  {
   "cell_type": "code",
   "execution_count": 23,
   "metadata": {},
   "outputs": [
    {
     "name": "stdout",
     "output_type": "stream",
     "text": [
      "\n",
      "========== 0x04-more_functions_nested_loops/2-mul.c ==========\n",
      "mul\n",
      "100352\n",
      "-1646592\n"
     ]
    }
   ],
   "source": [
    "%%bash\n",
    "betty 0x05-pointers_arrays_strings/2-mul.c\n",
    "gcc -Wall -pedantic -Werror -Wextra -std=gnu89 0x05-pointers_arrays_strings/2-main.c 0x05-pointers_arrays_strings/2-mul.c -o 0x05-pointers_arrays_strings/2-mul\n",
    "./0x05-pointers_arrays_strings/2-mul"
   ]
  },
  {
   "cell_type": "code",
   "execution_count": 24,
   "metadata": {},
   "outputs": [
    {
     "name": "stdout",
     "output_type": "stream",
     "text": [
      "[main 11cdfb3] alx-low_level_programming/0x04-more_functions_nested_loops\n",
      " 4 files changed, 27 insertions(+)\n",
      " create mode 100644 0x04-more_functions_nested_loops/2-main.c\n",
      " create mode 100755 0x04-more_functions_nested_loops/2-mul\n",
      " create mode 100644 0x04-more_functions_nested_loops/2-mul.c\n"
     ]
    },
    {
     "name": "stderr",
     "output_type": "stream",
     "text": [
      "To github.com:elkomysara/alx-low_level_programming.git\n",
      "   202c7fe..11cdfb3  main -> main\n"
     ]
    }
   ],
   "source": [
    "%%bash\n",
    "git add .\n",
    "git commit -m \"alx-low_level_programming/0x05-pointers_arrays_strings\"\n",
    "git push"
   ]
  },
  {
   "cell_type": "code",
   "execution_count": null,
   "metadata": {},
   "outputs": [],
   "source": []
  },
  {
   "cell_type": "markdown",
   "metadata": {},
   "source": [
    "###\n",
    "---\n",
    "<center>\n",
    "<h4> 3. The numbers speak for themselves</h4>\n",
    "</center>\n",
    "\n",
    "---\n"
   ]
  },
  {
   "cell_type": "markdown",
   "metadata": {},
   "source": [
    "##### Write a function that prints the numbers, from `0` to `9`, followed by a new line.\n",
    "\n",
    "* Prototype: `void print_numbers(void);`\n",
    "* You can only use` _putchar` twice in your code\n",
    "\n",
    "```bash\n",
    "julien@ubuntu:~/0x04$ cat 3-main.c \n",
    "#include \"main.h\"\n",
    "\n",
    "/**\n",
    " * main - check the code\n",
    " *\n",
    " * Return: Always 0.\n",
    " */\n",
    "int main(void)\n",
    "{\n",
    "    print_numbers();\n",
    "    return (0);\n",
    "}\n",
    "julien@ubuntu:~/0x04$ gcc -Wall -pedantic -Werror -Wextra -std=gnu89 _putchar.c 3-main.c 3-print_numbers.c -o 3-print_numbers\n",
    "julien@ubuntu:~/0x04$ ./3-print_numbers | cat -e\n",
    "0123456789$\n",
    "julien@ubuntu:~/0x04$ \n",
    "\n",
    "```\n",
    "\n",
    "\n",
    "* Repo:\n",
    "\n",
    "    * GitHub repository: <code > alx-low_level_programming </code>\n",
    "    * Directory: <code > 0x05-pointers_arrays_strings </code>\n",
    "    * File: <code > 3-print_numbers.c </code>\n",
    "   "
   ]
  },
  {
   "cell_type": "code",
   "execution_count": 37,
   "metadata": {},
   "outputs": [
    {
     "name": "stdout",
     "output_type": "stream",
     "text": [
      "Overwriting 0x04-more_functions_nested_loops/3-print_numbers.c\n"
     ]
    }
   ],
   "source": [
    "%%file 0x05-pointers_arrays_strings/3-print_numbers.c\n",
    "#include \"main.h\"\n",
    "\n",
    "/**\n",
    "* print_numbers - prints the numbers, from 0 to 9,\n",
    "* followed by a new line\n",
    "*/\n",
    "void print_numbers(void)\n",
    "{\n",
    "int i;\n",
    "for (i = 0; i < 10; i++)\n",
    "{\n",
    "_putchar(i + '0');\n",
    "}\n",
    "_putchar('\\n');\n",
    "}\n"
   ]
  },
  {
   "cell_type": "code",
   "execution_count": 38,
   "metadata": {},
   "outputs": [
    {
     "name": "stdout",
     "output_type": "stream",
     "text": [
      "Overwriting 0x04-more_functions_nested_loops/3-main.c\n"
     ]
    }
   ],
   "source": [
    "%%file 0x05-pointers_arrays_strings/3-main.c\n",
    "#include \"main.h\"\n",
    "\n",
    "/**\n",
    "* main - check the code\n",
    "*\n",
    "* Return: Always 0.\n",
    "*/\n",
    "int main(void)\n",
    "{\n",
    "print_numbers();\n",
    "return (0);\n",
    "}"
   ]
  },
  {
   "cell_type": "code",
   "execution_count": 39,
   "metadata": {},
   "outputs": [
    {
     "name": "stdout",
     "output_type": "stream",
     "text": [
      "Overwriting 0x04-more_functions_nested_loops/main.h\n"
     ]
    }
   ],
   "source": [
    "%%file 0x05-pointers_arrays_strings/main.h\n",
    "#ifndef MAIN_H\n",
    "#define MAIN_H\n",
    "\n",
    "#include <stdio.h>\n",
    "\n",
    "int _putchar(char c);\n",
    "int _isupper(int c);\n",
    "int _isdigit(int c);\n",
    "int mul(int a, int b);\n",
    "void print_numbers(void);\n",
    "\n",
    "#endif\n"
   ]
  },
  {
   "cell_type": "code",
   "execution_count": 52,
   "metadata": {},
   "outputs": [
    {
     "name": "stdout",
     "output_type": "stream",
     "text": [
      "\n",
      "========== 0x04-more_functions_nested_loops/3-print_numbers.c ==========\n",
      "print_numbers\n",
      "0123456789$\n"
     ]
    }
   ],
   "source": [
    "%%bash\n",
    "betty 0x05-pointers_arrays_strings/3-print_numbers.c\n",
    "gcc -Wall -pedantic -Werror -Wextra -std=gnu89 0x05-pointers_arrays_strings/_putchar.c 0x05-pointers_arrays_strings/3-main.c 0x05-pointers_arrays_strings/3-print_numbers.c -o 0x05-pointers_arrays_strings/3-print_numbers\n",
    "./0x05-pointers_arrays_strings/3-print_numbers | cat -e"
   ]
  },
  {
   "cell_type": "code",
   "execution_count": 54,
   "metadata": {},
   "outputs": [
    {
     "name": "stdout",
     "output_type": "stream",
     "text": [
      "print_numbers\n"
     ]
    }
   ],
   "source": [
    "%%bash\n",
    "betty-doc 0x05-pointers_arrays_strings/3-print_numbers.c\n",
    "betty-style 0x05-pointers_arrays_strings/3-print_numbers.c\n"
   ]
  },
  {
   "cell_type": "code",
   "execution_count": 55,
   "metadata": {},
   "outputs": [
    {
     "name": "stdout",
     "output_type": "stream",
     "text": [
      "[main 375df4c] alx-low_level_programming/0x04-more_functions_nested_loops\n",
      " 4 files changed, 26 insertions(+), 10 deletions(-)\n",
      " create mode 100644 0x04-more_functions_nested_loops/4-print_most_numbers.c\n"
     ]
    },
    {
     "name": "stderr",
     "output_type": "stream",
     "text": [
      "To github.com:elkomysara/alx-low_level_programming.git\n",
      "   634e708..375df4c  main -> main\n"
     ]
    }
   ],
   "source": [
    "%%bash\n",
    "git add .\n",
    "git commit -m \"alx-low_level_programming/0x05-pointers_arrays_strings\"\n",
    "git push"
   ]
  },
  {
   "cell_type": "code",
   "execution_count": null,
   "metadata": {},
   "outputs": [],
   "source": []
  },
  {
   "cell_type": "markdown",
   "metadata": {},
   "source": [
    "###\n",
    "---\n",
    "<center>\n",
    "<h4> 4. I believe in numbers and signs</h4>\n",
    "</center>\n",
    "\n",
    "---\n"
   ]
  },
  {
   "cell_type": "markdown",
   "metadata": {},
   "source": [
    "##### Write a function that prints the numbers, from 0 to 9, followed by a new line.\n",
    "\n",
    "* Prototype: `void print_most_numbers(void);`\n",
    "* Do not print `2` and `4`\n",
    "* You can only use `_putchar` twice in your code\n",
    "\n",
    "```bash\n",
    "julien@ubuntu:~/0x04$ cat 4-main.c\n",
    "#include \"main.h\"\n",
    "\n",
    "/**\n",
    " * main - check the code\n",
    " *\n",
    " * Return: Always 0.\n",
    " */\n",
    "int main(void)\n",
    "{\n",
    "    print_most_numbers();\n",
    "    return (0);\n",
    "}\n",
    "julien@ubuntu:~/0x04$ gcc -Wall -pedantic -Werror -Wextra -std=gnu89 _putchar.c 4-main.c 4-print_most_numbers.c -o 4-print_most_numbers\n",
    "julien@ubuntu:~/0x04$ ./4-print_most_numbers \n",
    "01356789\n",
    "julien@ubuntu:~/0x04$\n",
    "\n",
    "```\n",
    "\n",
    "\n",
    "* Repo:\n",
    "\n",
    "    * GitHub repository: <code > alx-low_level_programming </code>\n",
    "    * Directory: <code > 0x05-pointers_arrays_strings </code>\n",
    "    * File: <code > 4-print_most_numbers.c </code>\n",
    "   "
   ]
  },
  {
   "cell_type": "code",
   "execution_count": 5,
   "metadata": {},
   "outputs": [
    {
     "name": "stdout",
     "output_type": "stream",
     "text": [
      "Overwriting 0x04-more_functions_nested_loops/4-print_most_numbers.c\n"
     ]
    }
   ],
   "source": [
    "%%file 0x05-pointers_arrays_strings/4-print_most_numbers.c\n",
    "#include \"main.h\"\n",
    "\n",
    "/**\n",
    " * print_most_numbers - prints the numbers, from 0 to 9,\n",
    " * except 2 and 4, followed by a new line\n",
    " */\n",
    "void print_most_numbers(void)\n",
    "{\n",
    "int i;\n",
    "\n",
    "for (i = 0; i < 10; i++)\n",
    "{\n",
    "if (i != 2 && i != 4)\n",
    "{\n",
    "_putchar(i + '0');\n",
    "}\n",
    "}\n",
    "\n",
    "_putchar('\\n');\n",
    "}\n"
   ]
  },
  {
   "cell_type": "code",
   "execution_count": 6,
   "metadata": {},
   "outputs": [
    {
     "name": "stdout",
     "output_type": "stream",
     "text": [
      "Overwriting 0x04-more_functions_nested_loops/4-main.c\n"
     ]
    }
   ],
   "source": [
    "%%file 0x05-pointers_arrays_strings/4-main.c\n",
    "#include \"main.h\"\n",
    "\n",
    "/**\n",
    " * main - check the code\n",
    " *\n",
    " * Return: Always 0.\n",
    " */\n",
    "int main(void)\n",
    "{\n",
    "    print_most_numbers();\n",
    "    return (0);\n",
    "}"
   ]
  },
  {
   "cell_type": "code",
   "execution_count": 7,
   "metadata": {},
   "outputs": [
    {
     "name": "stdout",
     "output_type": "stream",
     "text": [
      "Overwriting 0x04-more_functions_nested_loops/main.h\n"
     ]
    }
   ],
   "source": [
    "%%file 0x05-pointers_arrays_strings/main.h\n",
    "#ifndef MAIN_H\n",
    "#define MAIN_H\n",
    "\n",
    "#include <stdio.h>\n",
    "\n",
    "int _putchar(char c);\n",
    "int _isupper(int c);\n",
    "int _isdigit(int c);\n",
    "int mul(int a, int b);\n",
    "void print_numbers(void);\n",
    "void print_most_numbers(void);\n",
    "\n",
    "#endif\n"
   ]
  },
  {
   "cell_type": "code",
   "execution_count": 8,
   "metadata": {},
   "outputs": [
    {
     "name": "stdout",
     "output_type": "stream",
     "text": [
      "\n",
      "========== 0x04-more_functions_nested_loops/4-print_most_numbers.c ==========\n"
     ]
    },
    {
     "name": "stdout",
     "output_type": "stream",
     "text": [
      "print_most_numbers\n",
      "01356789\n"
     ]
    }
   ],
   "source": [
    "%%bash\n",
    "betty 0x05-pointers_arrays_strings/4-print_most_numbers.c\n",
    "gcc -Wall -pedantic -Werror -Wextra -std=gnu89 0x05-pointers_arrays_strings/_putchar.c 0x05-pointers_arrays_strings/4-main.c 0x05-pointers_arrays_strings/4-print_most_numbers.c -o 0x05-pointers_arrays_strings/4-print_most_numbers\n",
    "./0x05-pointers_arrays_strings/4-print_most_numbers"
   ]
  },
  {
   "cell_type": "code",
   "execution_count": 9,
   "metadata": {},
   "outputs": [
    {
     "name": "stdout",
     "output_type": "stream",
     "text": [
      "[main 98bf44c] alx-low_level_programming/0x04-more_functions_nested_loops\n",
      " 3 files changed, 21 insertions(+), 4 deletions(-)\n",
      " create mode 100644 0x04-more_functions_nested_loops/4-main.c\n",
      " create mode 100755 0x04-more_functions_nested_loops/4-print_most_numbers\n"
     ]
    },
    {
     "name": "stderr",
     "output_type": "stream",
     "text": [
      "To github.com:elkomysara/alx-low_level_programming.git\n",
      "   375df4c..98bf44c  main -> main\n"
     ]
    }
   ],
   "source": [
    "%%bash\n",
    "git add .\n",
    "git commit -m \"alx-low_level_programming/0x05-pointers_arrays_strings\"\n",
    "git push"
   ]
  },
  {
   "cell_type": "code",
   "execution_count": null,
   "metadata": {},
   "outputs": [],
   "source": []
  },
  {
   "cell_type": "markdown",
   "metadata": {},
   "source": [
    "###\n",
    "---\n",
    "<center>\n",
    "<h4> 5. Numbers constitute the only universal language</h4>\n",
    "</center>\n",
    "\n",
    "---\n"
   ]
  },
  {
   "cell_type": "markdown",
   "metadata": {},
   "source": [
    "##### Write a function that prints 10 times the numbers, from 0 to 14, followed by a new line.\n",
    "\n",
    "* Prototype: void more_numbers(void);\n",
    "* You can only use _putchar three times in your code\n",
    "\n",
    "```bash\n",
    "julien@ubuntu:~/0x04$ cat 5-main.c\n",
    "#include \"main.h\"\n",
    "\n",
    "/**\n",
    " * main - check the code\n",
    " *\n",
    " * Return: Always 0.\n",
    " */\n",
    "int main(void)\n",
    "{\n",
    "    more_numbers();\n",
    "    return (0);\n",
    "}\n",
    "julien@ubuntu:~/0x04$ gcc -Wall -pedantic -Werror -Wextra -std=gnu89 _putchar.c 5-main.c 5-more_numbers.c -o 5-more_numbers\n",
    "julien@ubuntu:~/0x04$ ./5-more_numbers \n",
    "01234567891011121314\n",
    "01234567891011121314\n",
    "01234567891011121314\n",
    "01234567891011121314\n",
    "01234567891011121314\n",
    "01234567891011121314\n",
    "01234567891011121314\n",
    "01234567891011121314\n",
    "01234567891011121314\n",
    "01234567891011121314\n",
    "julien@ubuntu:~/0x04\n",
    "\n",
    "```\n",
    "\n",
    "\n",
    "* Repo:\n",
    "\n",
    "    * GitHub repository: <code > alx-low_level_programming </code>\n",
    "    * Directory: <code > 0x05-pointers_arrays_strings </code>\n",
    "    * File: <code > 5-more_numbers.c </code>\n",
    "   "
   ]
  },
  {
   "cell_type": "code",
   "execution_count": 93,
   "metadata": {},
   "outputs": [
    {
     "name": "stdout",
     "output_type": "stream",
     "text": [
      "Overwriting 0x04-more_functions_nested_loops/5-more_numbers.c\n"
     ]
    }
   ],
   "source": [
    "%%file 0x05-pointers_arrays_strings/5-more_numbers.c\n",
    "#include \"main.h\"\n",
    "\n",
    "/**\n",
    "* more_numbers - prints 10 times the numbers, from 0 to 14\n",
    "* followed by a new line\n",
    "*/\n",
    "void more_numbers(void)\n",
    "{\n",
    "int i, j;\n",
    "\n",
    "for (i = 0; i < 10; i++)\n",
    "{\n",
    "for (j = 0; j < 15; j++)\n",
    "{\n",
    "if (j >= 10)\n",
    "{\n",
    "_putchar(j / 10 + '0');\n",
    "}\n",
    "\n",
    "_putchar(j % 10 + '0');\n",
    "}\n",
    "_putchar('\\n');\n",
    "}\n",
    "}\n",
    "\n",
    "\n"
   ]
  },
  {
   "cell_type": "code",
   "execution_count": 94,
   "metadata": {},
   "outputs": [
    {
     "name": "stdout",
     "output_type": "stream",
     "text": [
      "Overwriting 0x04-more_functions_nested_loops/5-main.c\n"
     ]
    }
   ],
   "source": [
    "%%file 0x05-pointers_arrays_strings/5-main.c\n",
    "#include \"main.h\"\n",
    "\n",
    "/**\n",
    " * main - check the code\n",
    " *\n",
    " * Return: Always 0.\n",
    " */\n",
    "int main(void)\n",
    "{\n",
    "    more_numbers();\n",
    "    return (0);\n",
    "}"
   ]
  },
  {
   "cell_type": "code",
   "execution_count": 95,
   "metadata": {},
   "outputs": [
    {
     "name": "stdout",
     "output_type": "stream",
     "text": [
      "Overwriting 0x04-more_functions_nested_loops/main.h\n"
     ]
    }
   ],
   "source": [
    "%%file 0x05-pointers_arrays_strings/main.h\n",
    "#ifndef MAIN_H\n",
    "#define MAIN_H\n",
    "\n",
    "#include <stdio.h>\n",
    "\n",
    "int _putchar(char c);\n",
    "int _isupper(int c);\n",
    "int _isdigit(int c);\n",
    "int mul(int a, int b);\n",
    "void print_numbers(void);\n",
    "void print_most_numbers(void);\n",
    "void more_numbers(void);\n",
    "\n",
    "#endif\n"
   ]
  },
  {
   "cell_type": "code",
   "execution_count": 96,
   "metadata": {},
   "outputs": [
    {
     "name": "stdout",
     "output_type": "stream",
     "text": [
      "\n",
      "========== 0x04-more_functions_nested_loops/5-more_numbers.c ==========\n",
      "more_numbers\n",
      "01234567891011121314\n",
      "01234567891011121314\n",
      "01234567891011121314\n",
      "01234567891011121314\n",
      "01234567891011121314\n",
      "01234567891011121314\n",
      "01234567891011121314\n",
      "01234567891011121314\n",
      "01234567891011121314\n",
      "01234567891011121314\n"
     ]
    }
   ],
   "source": [
    "%%bash\n",
    "betty 0x05-pointers_arrays_strings/5-more_numbers.c\n",
    "gcc -Wall -pedantic -Werror -Wextra -std=gnu89 0x05-pointers_arrays_strings/_putchar.c 0x05-pointers_arrays_strings/5-main.c 0x05-pointers_arrays_strings/5-more_numbers.c -o 0x05-pointers_arrays_strings/5-more_numbers\n",
    "./0x05-pointers_arrays_strings/5-more_numbers"
   ]
  },
  {
   "cell_type": "code",
   "execution_count": 97,
   "metadata": {},
   "outputs": [
    {
     "name": "stdout",
     "output_type": "stream",
     "text": [
      "[main 03996d1] alx-low_level_programming/0x04-more_functions_nested_loops\n",
      " 1 file changed, 3 insertions(+)\n"
     ]
    },
    {
     "name": "stderr",
     "output_type": "stream",
     "text": [
      "To github.com:elkomysara/alx-low_level_programming.git\n",
      "   d8ae01b..03996d1  main -> main\n"
     ]
    }
   ],
   "source": [
    "%%bash\n",
    "git add .\n",
    "git commit -m \"alx-low_level_programming/0x05-pointers_arrays_strings\"\n",
    "git push"
   ]
  },
  {
   "cell_type": "code",
   "execution_count": null,
   "metadata": {},
   "outputs": [],
   "source": []
  },
  {
   "cell_type": "markdown",
   "metadata": {},
   "source": [
    "###\n",
    "---\n",
    "<center>\n",
    "<h4> 6. The shortest distance between two points is a straight line </h4>\n",
    "</center>\n",
    "\n",
    "---\n"
   ]
  },
  {
   "cell_type": "markdown",
   "metadata": {},
   "source": [
    "##### Write a function that draws a straight line in the terminal.\n",
    "\n",
    "* Prototype:` void print_line(int n);`\n",
    "* You can only use `_putchar` function to print\n",
    "* Where `n` is the number of times the character `_` should be printed\n",
    "* The line should end with a`\\n`\n",
    "* If `n` is `0` or less, the function should only print `\\n`\n",
    "\n",
    "```bash\n",
    "julien@ubuntu:~/0x04$ cat 6-main.c\n",
    "#include \"main.h\"\n",
    "\n",
    "/**\n",
    " * main - check the code\n",
    " *\n",
    " * Return: Always 0.\n",
    " */\n",
    "int main(void)\n",
    "{\n",
    "    print_line(0);\n",
    "    print_line(2);\n",
    "    print_line(10);\n",
    "    print_line(-4);\n",
    "    return (0);\n",
    "}\n",
    "julien@ubuntu:~/0x04$ gcc -Wall -pedantic -Werror -Wextra -std=gnu89 _putchar.c 6-main.c 6-print_line.c -o 6-lines\n",
    "julien@ubuntu:~/0x04$ ./6-lines | cat -e\n",
    "$\n",
    "__$\n",
    "__________$\n",
    "$\n",
    "julien@ubuntu:~/0x04$ \n",
    "\n",
    "```\n",
    "\n",
    "\n",
    "* Repo:\n",
    "\n",
    "    * GitHub repository: <code > alx-low_level_programming </code>\n",
    "    * Directory: <code > 0x05-pointers_arrays_strings </code>\n",
    "    * File: <code > 6-print_line.c </code>\n",
    "   "
   ]
  },
  {
   "cell_type": "code",
   "execution_count": 19,
   "metadata": {},
   "outputs": [
    {
     "name": "stdout",
     "output_type": "stream",
     "text": [
      "Overwriting 0x04-more_functions_nested_loops/6-print_line.c\n"
     ]
    }
   ],
   "source": [
    "%%file 0x05-pointers_arrays_strings/6-print_line.c\n",
    "#include \"main.h\"\n",
    "\n",
    "/**\n",
    "* print_line - draws a straight line in the terminal\n",
    "* @n: the number of times the character _ should be printed\n",
    "*/\n",
    "void print_line(int n)\n",
    "{\n",
    "int i = 1;\n",
    "if (n <= 0)\n",
    "{\n",
    "_putchar('\\n');\n",
    "}\n",
    "else\n",
    "{\n",
    "while (i <= n)\n",
    "{\n",
    "_putchar('_');\n",
    "i++;\n",
    "}\n",
    "_putchar('\\n');\n",
    "}\n",
    "\n",
    "}"
   ]
  },
  {
   "cell_type": "code",
   "execution_count": 20,
   "metadata": {},
   "outputs": [
    {
     "name": "stdout",
     "output_type": "stream",
     "text": [
      "Overwriting 0x04-more_functions_nested_loops/6-main.c\n"
     ]
    }
   ],
   "source": [
    "%%file 0x05-pointers_arrays_strings/6-main.c\n",
    "#include \"main.h\"\n",
    "\n",
    "/**\n",
    " * main - check the code\n",
    " *\n",
    " * Return: Always 0.\n",
    " */\n",
    "int main(void)\n",
    "{\n",
    "    print_line(0);\n",
    "    print_line(2);\n",
    "    print_line(10);\n",
    "    print_line(-4);\n",
    "    return (0);\n",
    "}"
   ]
  },
  {
   "cell_type": "code",
   "execution_count": 21,
   "metadata": {},
   "outputs": [
    {
     "name": "stdout",
     "output_type": "stream",
     "text": [
      "Overwriting 0x04-more_functions_nested_loops/main.h\n"
     ]
    }
   ],
   "source": [
    "%%file 0x05-pointers_arrays_strings/main.h\n",
    "#ifndef MAIN_H\n",
    "#define MAIN_H\n",
    "\n",
    "#include <stdio.h>\n",
    "\n",
    "int _putchar(char c);\n",
    "int _isupper(int c);\n",
    "int _isdigit(int c);\n",
    "int mul(int a, int b);\n",
    "void print_numbers(void);\n",
    "void print_most_numbers(void);\n",
    "void more_numbers(void);\n",
    "void print_line(int n);\n",
    "#endif\n"
   ]
  },
  {
   "cell_type": "code",
   "execution_count": 22,
   "metadata": {},
   "outputs": [
    {
     "name": "stdout",
     "output_type": "stream",
     "text": [
      "\n",
      "========== 0x04-more_functions_nested_loops/6-print_line.c ==========\n",
      "print_line\n",
      "$\n",
      "__$\n",
      "__________$\n",
      "$\n"
     ]
    }
   ],
   "source": [
    "%%bash\n",
    "betty 0x05-pointers_arrays_strings/6-print_line.c\n",
    "gcc -Wall -pedantic -Werror -Wextra -std=gnu89 0x05-pointers_arrays_strings/_putchar.c 0x05-pointers_arrays_strings/6-main.c 0x05-pointers_arrays_strings/6-print_line.c -o 0x05-pointers_arrays_strings/6-print_line\n",
    "./0x05-pointers_arrays_strings/6-print_line | cat -e"
   ]
  },
  {
   "cell_type": "code",
   "execution_count": 23,
   "metadata": {},
   "outputs": [
    {
     "name": "stdout",
     "output_type": "stream",
     "text": [
      "[main 57dddf6] alx-low_level_programming/0x04-more_functions_nested_loops\n",
      " 2 files changed, 4 insertions(+)\n"
     ]
    },
    {
     "name": "stderr",
     "output_type": "stream",
     "text": [
      "To github.com:elkomysara/alx-low_level_programming.git\n",
      "   9d2adc5..57dddf6  main -> main\n"
     ]
    }
   ],
   "source": [
    "%%bash\n",
    "git add .\n",
    "git commit -m \"alx-low_level_programming/0x05-pointers_arrays_strings\"\n",
    "git push"
   ]
  },
  {
   "cell_type": "code",
   "execution_count": null,
   "metadata": {},
   "outputs": [],
   "source": []
  },
  {
   "cell_type": "markdown",
   "metadata": {},
   "source": [
    "###\n",
    "---\n",
    "<center>\n",
    "<h4> 7. I feel like I am diagonally parked in a parallel universe </h4>\n",
    "</center>\n",
    "\n",
    "---\n"
   ]
  },
  {
   "cell_type": "markdown",
   "metadata": {},
   "source": [
    "##### Write a function that draws a diagonal line on the terminal.\n",
    "\n",
    "* Prototype: `void print_diagonal(int n);`\n",
    "* You can only use `_putchar` function to print\n",
    "* Where `n` is the number of times the character `\\` should be printed\n",
    "* The diagonal should end with a `\\n`\n",
    "* If `n` is `0` or less, the function should only print a `\\n`\n",
    "\n",
    "```bash\n",
    "julien@ubuntu:~/0x04$ cat 7-main.c\n",
    "#include \"main.h\"\n",
    "\n",
    "/**\n",
    " * main - check the code\n",
    " *\n",
    " * Return: Always 0.\n",
    " */\n",
    "int main(void)\n",
    "{\n",
    "    print_diagonal(0);\n",
    "    print_diagonal(2);\n",
    "    print_diagonal(10);\n",
    "    print_diagonal(-4);\n",
    "    return (0);\n",
    "}\n",
    "julien@ubuntu:~/0x04$ gcc -Wall -pedantic -Werror -Wextra -std=gnu89 _putchar.c 7-main.c 7-print_diagonal.c -o 7-diagonals\n",
    "julien@ubuntu:~/0x04$ ./7-diagonals | cat -e\n",
    "$\n",
    "\\$\n",
    " \\$\n",
    "\\$\n",
    " \\$\n",
    "  \\$\n",
    "   \\$\n",
    "    \\$\n",
    "     \\$\n",
    "      \\$\n",
    "       \\$\n",
    "        \\$\n",
    "         \\$\n",
    "$\n",
    "julien@ubuntu:~/0x04$ \n",
    "\n",
    "```\n",
    "\n",
    "\n",
    "* Repo:\n",
    "\n",
    "    * GitHub repository: <code > alx-low_level_programming </code>\n",
    "    * Directory: <code > 0x05-pointers_arrays_strings </code>\n",
    "    * File: <code >7-print_diagonal.c </code>\n",
    "   "
   ]
  },
  {
   "cell_type": "code",
   "execution_count": 103,
   "metadata": {},
   "outputs": [
    {
     "name": "stdout",
     "output_type": "stream",
     "text": [
      "Overwriting 0x04-more_functions_nested_loops/7-print_diagonal.c\n"
     ]
    }
   ],
   "source": [
    "%%file 0x05-pointers_arrays_strings/7-print_diagonal.c\n",
    "#include \"main.h\"\n",
    "\n",
    "/**\n",
    "* print_diagonal - draws a diagonal line on the terminal\n",
    "* @n: number of times the character \\ should be printed\n",
    "*/\n",
    "void print_diagonal(int n)\n",
    "{\n",
    "if (n <= 0)\n",
    "{\n",
    "_putchar('\\n');\n",
    "}\n",
    "else\n",
    "{\n",
    "int i, j;\n",
    "\n",
    "for (i = 0; i < n; i++)\n",
    "{\n",
    "for (j = 0; j < n; j++)\n",
    "{\n",
    "if (j == i)\n",
    "_putchar('\\\\');\n",
    "else if (j < i)\n",
    "_putchar(' ');\n",
    "}\n",
    "_putchar('\\n');\n",
    "}\n",
    "}\n",
    "}"
   ]
  },
  {
   "cell_type": "code",
   "execution_count": 6,
   "metadata": {},
   "outputs": [
    {
     "name": "stdout",
     "output_type": "stream",
     "text": [
      "Overwriting 0x04-more_functions_nested_loops/7-print_diagonal.c\n"
     ]
    }
   ],
   "source": [
    "%%file 0x05-pointers_arrays_strings/7-print_diagonal.c\n",
    "#include \"main.h\"\n",
    "\n",
    "/**\n",
    "* print_diagonal - draws a diagonal line on the terminal\n",
    "* @n: number of times the character \\ should be printed\n",
    "*/\n",
    "void print_diagonal(int n)\n",
    "{\n",
    "if (n <= 0)\n",
    "{\n",
    "_putchar('\\n');\n",
    "}\n",
    "else\n",
    "{\n",
    "int i = 0;\n",
    "int j;\n",
    "\n",
    "while (i < n)\n",
    "{\n",
    "j = 0;\n",
    "while (j < n)\n",
    "{\n",
    "if (j == i)\n",
    "{\n",
    "_putchar('\\\\');\n",
    "}\n",
    "\n",
    "else if (j < i)\n",
    "{\n",
    "_putchar(' ');\n",
    "}\n",
    "j++;\n",
    "}\n",
    "_putchar('\\n');\n",
    "i++;\n",
    "}\n",
    "}\n",
    "}"
   ]
  },
  {
   "cell_type": "code",
   "execution_count": 7,
   "metadata": {},
   "outputs": [
    {
     "name": "stdout",
     "output_type": "stream",
     "text": [
      "Overwriting 0x04-more_functions_nested_loops/7-main.c\n"
     ]
    }
   ],
   "source": [
    "%%file 0x05-pointers_arrays_strings/7-main.c\n",
    "#include \"main.h\"\n",
    "\n",
    "/**\n",
    " * main - check the code\n",
    " *\n",
    " * Return: Always 0.\n",
    " */\n",
    "int main(void)\n",
    "{\n",
    "    print_diagonal(0);\n",
    "    print_diagonal(2);\n",
    "    print_diagonal(10);\n",
    "    print_diagonal(-4);\n",
    "    return (0);\n",
    "}"
   ]
  },
  {
   "cell_type": "code",
   "execution_count": 8,
   "metadata": {},
   "outputs": [
    {
     "name": "stdout",
     "output_type": "stream",
     "text": [
      "Overwriting 0x04-more_functions_nested_loops/main.h\n"
     ]
    }
   ],
   "source": [
    "%%file 0x05-pointers_arrays_strings/main.h\n",
    "#ifndef MAIN_H\n",
    "#define MAIN_H\n",
    "\n",
    "#include <stdio.h>\n",
    "\n",
    "int _putchar(char c);\n",
    "int _isupper(int c);\n",
    "int _isdigit(int c);\n",
    "int mul(int a, int b);\n",
    "void print_numbers(void);\n",
    "void print_most_numbers(void);\n",
    "void more_numbers(void);\n",
    "void print_line(int n);\n",
    "void print_diagonal(int n);\n",
    "#endif\n"
   ]
  },
  {
   "cell_type": "code",
   "execution_count": 9,
   "metadata": {},
   "outputs": [
    {
     "name": "stdout",
     "output_type": "stream",
     "text": [
      "\n",
      "========== 0x04-more_functions_nested_loops/7-print_diagonal.c ==========\n",
      "print_diagonal\n",
      "$\n",
      "\\$\n",
      " \\$\n",
      "\\$\n",
      " \\$\n",
      "  \\$\n",
      "   \\$\n",
      "    \\$\n",
      "     \\$\n",
      "      \\$\n",
      "       \\$\n",
      "        \\$\n",
      "         \\$\n",
      "$\n"
     ]
    }
   ],
   "source": [
    "%%bash\n",
    "betty 0x05-pointers_arrays_strings/7-print_diagonal.c\n",
    "gcc -Wall -pedantic -Werror -Wextra -std=gnu89 0x05-pointers_arrays_strings/_putchar.c 0x05-pointers_arrays_strings/7-main.c 0x05-pointers_arrays_strings/7-print_diagonal.c -o 0x05-pointers_arrays_strings/7-print_diagonal\n",
    "./0x05-pointers_arrays_strings/7-print_diagonal | cat -e"
   ]
  },
  {
   "cell_type": "code",
   "execution_count": 10,
   "metadata": {},
   "outputs": [
    {
     "name": "stdout",
     "output_type": "stream",
     "text": [
      "[main 6b1e715] alx-low_level_programming/0x04-more_functions_nested_loops\n",
      " 1 file changed, 3 insertions(+), 3 deletions(-)\n"
     ]
    },
    {
     "name": "stderr",
     "output_type": "stream",
     "text": [
      "To github.com:elkomysara/alx-low_level_programming.git\n",
      "   a169d2f..6b1e715  main -> main\n"
     ]
    }
   ],
   "source": [
    "%%bash\n",
    "git add .\n",
    "git commit -m \"alx-low_level_programming/0x05-pointers_arrays_strings\"\n",
    "git push"
   ]
  },
  {
   "cell_type": "code",
   "execution_count": null,
   "metadata": {},
   "outputs": [],
   "source": []
  },
  {
   "cell_type": "markdown",
   "metadata": {},
   "source": [
    "###\n",
    "---\n",
    "<center>\n",
    "<h4> 8. You are so much sunshine in every square inch </h4>\n",
    "</center>\n",
    "\n",
    "---\n"
   ]
  },
  {
   "cell_type": "markdown",
   "metadata": {},
   "source": [
    "##### Write a function that prints a square, followed by a new line.\n",
    "\n",
    "* Prototype: `void print_square(int size);`\n",
    "* You can only use `_putchar` function to print\n",
    "* Where `size` is the size of the square\n",
    "* If `size` is `0` or less, the function should print only a new line\n",
    "* Use the character `#` to print the square\n",
    "\n",
    "```bash\n",
    "julien@ubuntu:~/0x04$ cat 8-main.c \n",
    "#include \"main.h\"\n",
    "\n",
    "/**\n",
    " * main - check the code\n",
    " *\n",
    " * Return: Always 0.\n",
    " */\n",
    "int main(void)\n",
    "{\n",
    "    print_square(2);\n",
    "    print_square(10);\n",
    "    print_square(0);\n",
    "    return (0);\n",
    "}\n",
    "\n",
    "julien@ubuntu:~/0x04$ gcc -Wall -pedantic -Werror -Wextra -std=gnu89 _putchar.c 8-main.c 8-print_square.c -o 8-squares\n",
    "julien@ubuntu:~/0x04$ ./8-squares \n",
    "##\n",
    "##\n",
    "##########\n",
    "##########\n",
    "##########\n",
    "##########\n",
    "##########\n",
    "##########\n",
    "##########\n",
    "##########\n",
    "##########\n",
    "##########\n",
    "\n",
    "julien@ubuntu:~/0x04$ \n",
    "\n",
    "```\n",
    "\n",
    "\n",
    "* Repo:\n",
    "\n",
    "    * GitHub repository: <code > alx-low_level_programming </code>\n",
    "    * Directory: <code > 0x05-pointers_arrays_strings </code>\n",
    "    * File: <code >8-print_square.c </code>\n",
    "   "
   ]
  },
  {
   "cell_type": "code",
   "execution_count": 30,
   "metadata": {},
   "outputs": [
    {
     "name": "stdout",
     "output_type": "stream",
     "text": [
      "Overwriting 0x04-more_functions_nested_loops/8-print_square.c\n"
     ]
    }
   ],
   "source": [
    "%%file 0x05-pointers_arrays_strings/8-print_square.c\n",
    "#include \"main.h\"\n",
    "\n",
    "/**\n",
    "* print_square - prints a square followed by a new line\n",
    "* @size: is the size of the square\n",
    "*/\n",
    "void print_square(int size)\n",
    "{\n",
    "int i = 0;\n",
    "int j;\n",
    "if (size <= 0)\n",
    "{\n",
    "_putchar('\\n');\n",
    "}\n",
    "else\n",
    "{\n",
    "while (i < size)\n",
    "{\n",
    "j = 0;\n",
    "while (j < size)\n",
    "{\n",
    "_putchar('#');\n",
    "j++;\n",
    "}\n",
    "i++;\n",
    "_putchar('\\n');\n",
    "}\n",
    "}\n",
    "\n",
    "}"
   ]
  },
  {
   "cell_type": "code",
   "execution_count": 31,
   "metadata": {},
   "outputs": [
    {
     "name": "stdout",
     "output_type": "stream",
     "text": [
      "Overwriting 0x04-more_functions_nested_loops/8-main.c\n"
     ]
    }
   ],
   "source": [
    "%%file 0x05-pointers_arrays_strings/8-main.c\n",
    "#include \"main.h\"\n",
    "\n",
    "/**\n",
    " * main - check the code\n",
    " *\n",
    " * Return: Always 0.\n",
    " */\n",
    "int main(void)\n",
    "{\n",
    "    print_square(2);\n",
    "    print_square(10);\n",
    "    print_square(0);\n",
    "    return (0);\n",
    "}"
   ]
  },
  {
   "cell_type": "code",
   "execution_count": 32,
   "metadata": {},
   "outputs": [
    {
     "name": "stdout",
     "output_type": "stream",
     "text": [
      "Overwriting 0x04-more_functions_nested_loops/main.h\n"
     ]
    }
   ],
   "source": [
    "%%file 0x05-pointers_arrays_strings/main.h\n",
    "#ifndef MAIN_H\n",
    "#define MAIN_H\n",
    "\n",
    "#include <stdio.h>\n",
    "\n",
    "int _putchar(char c);\n",
    "int _isupper(int c);\n",
    "int _isdigit(int c);\n",
    "int mul(int a, int b);\n",
    "void print_numbers(void);\n",
    "void print_most_numbers(void);\n",
    "void more_numbers(void);\n",
    "void print_line(int n);\n",
    "void print_diagonal(int n);\n",
    "void print_square(int size);\n",
    "#endif\n"
   ]
  },
  {
   "cell_type": "code",
   "execution_count": 33,
   "metadata": {},
   "outputs": [
    {
     "name": "stdout",
     "output_type": "stream",
     "text": [
      "\n",
      "========== 0x04-more_functions_nested_loops/8-print_square.c ==========\n",
      "print_square\n",
      "##$\n",
      "##$\n",
      "##########$\n",
      "##########$\n",
      "##########$\n",
      "##########$\n",
      "##########$\n",
      "##########$\n",
      "##########$\n",
      "##########$\n",
      "##########$\n",
      "##########$\n",
      "$\n"
     ]
    }
   ],
   "source": [
    "%%bash\n",
    "betty 0x05-pointers_arrays_strings/8-print_square.c\n",
    "gcc -Wall -pedantic -Werror -Wextra -std=gnu89 0x05-pointers_arrays_strings/_putchar.c 0x05-pointers_arrays_strings/8-main.c 0x05-pointers_arrays_strings/8-print_square.c -o 0x05-pointers_arrays_strings/8-print_square\n",
    "./0x05-pointers_arrays_strings/8-print_square | cat -e"
   ]
  },
  {
   "cell_type": "code",
   "execution_count": 34,
   "metadata": {},
   "outputs": [
    {
     "name": "stdout",
     "output_type": "stream",
     "text": [
      "[main e37e890] alx-low_level_programming/0x04-more_functions_nested_loops\n",
      " 4 files changed, 45 insertions(+)\n",
      " create mode 100644 0x04-more_functions_nested_loops/8-main.c\n",
      " create mode 100755 0x04-more_functions_nested_loops/8-print_square\n",
      " create mode 100644 0x04-more_functions_nested_loops/8-print_square.c\n"
     ]
    },
    {
     "name": "stderr",
     "output_type": "stream",
     "text": [
      "To github.com:elkomysara/alx-low_level_programming.git\n",
      "   6b1e715..e37e890  main -> main\n"
     ]
    }
   ],
   "source": [
    "%%bash\n",
    "git add .\n",
    "git commit -m \"alx-low_level_programming/0x05-pointers_arrays_strings\"\n",
    "git push"
   ]
  },
  {
   "cell_type": "code",
   "execution_count": null,
   "metadata": {},
   "outputs": [],
   "source": []
  },
  {
   "cell_type": "markdown",
   "metadata": {},
   "source": [
    "###\n",
    "---\n",
    "<center>\n",
    "<h4> 9. Fizz-Buzz </h4>\n",
    "</center>\n",
    "\n",
    "---\n"
   ]
  },
  {
   "cell_type": "markdown",
   "metadata": {},
   "source": [
    "##### The “Fizz-Buzz test” is an interview question designed to help filter out the 99.5% of programming job candidates who can’t seem to program their way out of a wet paper bag.\n",
    "\n",
    "Write a program that prints the numbers from 1 to 100, followed by a new line. But for multiples of three print Fizz instead of the number and for the multiples of five print Buzz. For numbers which are multiples of both three and five print FizzBuzz.\n",
    "\n",
    "* Each number or word should be separated by a space\n",
    "* You are allowed to use the standard library\n",
    "\n",
    "```bash\n",
    "julien@ubuntu:~/0x04$ gcc -Wall -pedantic -Werror -Wextra -std=gnu89 9-fizz_buzz.c -o 9-fizz_buzz\n",
    "julien@ubuntu:~/0x04$ ./9-fizz_buzz\n",
    "1 2 Fizz 4 Buzz Fizz 7 8 Fizz Buzz 11 Fizz 13 14 FizzBuzz 16 17 Fizz 19 Buzz Fizz 22 23 Fizz Buzz 26 Fizz 28 29 FizzBuzz 31 32 Fizz 34 Buzz Fizz 37 38 Fizz Buzz 41 Fizz 43 44 FizzBuzz 46 47 Fizz 49 Buzz Fizz 52 53 Fizz Buzz 56 Fizz 58 59 FizzBuzz 61 62 Fizz 64 Buzz Fizz 67 68 Fizz Buzz 71 Fizz 73 74 FizzBuzz 76 77 Fizz 79 Buzz Fizz 82 83 Fizz Buzz 86 Fizz 88 89 FizzBuzz 91 92 Fizz 94 Buzz Fizz 97 98 Fizz Buzz\n",
    "julien@ubuntu:~/0x04$ \n",
    "\n",
    "```\n",
    "\n",
    "\n",
    "* Repo:\n",
    "\n",
    "    * GitHub repository: <code > alx-low_level_programming </code>\n",
    "    * Directory: <code > 0x05-pointers_arrays_strings </code>\n",
    "    * File: <code >9-fizz_buzz.c </code>\n",
    "   "
   ]
  },
  {
   "cell_type": "code",
   "execution_count": 74,
   "metadata": {},
   "outputs": [
    {
     "name": "stdout",
     "output_type": "stream",
     "text": [
      "Overwriting 0x04-more_functions_nested_loops/9-fizz_buzz.c\n"
     ]
    }
   ],
   "source": [
    "%%file 0x05-pointers_arrays_strings/9-fizz_buzz.c\n",
    "#include <stdio.h>\n",
    "\n",
    "/**\n",
    " * main - FizzBuzz test\n",
    " *\n",
    " * Return: Always 0.\n",
    " */\n",
    "int main(void)\n",
    "{\n",
    "int i;\n",
    "for (i = 1; i <= 100; i++)\n",
    "{\n",
    "if (i == 1)\n",
    "{\n",
    "printf(\"%d\", i);\n",
    "}\n",
    "else if (i % 3 == 0 && i % 5 == 0)\n",
    "{\n",
    "printf(\" FizzBuzz\");\n",
    "}\n",
    "else if (i % 3 == 0)\n",
    "{\n",
    "printf(\" Fizz\");\n",
    "}\n",
    "else if (i % 5 == 0)\n",
    "{\n",
    "printf(\" Buzz\");\n",
    "}\n",
    "else\n",
    "{\n",
    "printf(\" %d\", i);\n",
    "}\n",
    "}\n",
    "printf(\"\\n\");\n",
    "return (0);\n",
    "}"
   ]
  },
  {
   "cell_type": "code",
   "execution_count": 75,
   "metadata": {},
   "outputs": [
    {
     "name": "stdout",
     "output_type": "stream",
     "text": [
      "\n",
      "========== 0x04-more_functions_nested_loops/9-fizz_buzz.c ==========\n",
      "main\n",
      "1 2 Fizz 4 Buzz Fizz 7 8 Fizz Buzz 11 Fizz 13 14 FizzBuzz 16 17 Fizz 19 Buzz Fizz 22 23 Fizz Buzz 26 Fizz 28 29 FizzBuzz 31 32 Fizz 34 Buzz Fizz 37 38 Fizz Buzz 41 Fizz 43 44 FizzBuzz 46 47 Fizz 49 Buzz Fizz 52 53 Fizz Buzz 56 Fizz 58 59 FizzBuzz 61 62 Fizz 64 Buzz Fizz 67 68 Fizz Buzz 71 Fizz 73 74 FizzBuzz 76 77 Fizz 79 Buzz Fizz 82 83 Fizz Buzz 86 Fizz 88 89 FizzBuzz 91 92 Fizz 94 Buzz Fizz 97 98 Fizz Buzz\n"
     ]
    }
   ],
   "source": [
    "%%bash\n",
    "betty 0x05-pointers_arrays_strings/10-triangles.c\n",
    "gcc -Wall -pedantic -Werror -Wextra -std=gnu89 0x05-pointers_arrays_strings/10-triangles.c -o 0x05-pointers_arrays_strings/10-triangles\n",
    "./0x05-pointers_arrays_strings/10-triangles"
   ]
  },
  {
   "cell_type": "code",
   "execution_count": 77,
   "metadata": {},
   "outputs": [
    {
     "name": "stdout",
     "output_type": "stream",
     "text": [
      "On branch main\n",
      "Your branch is up to date with 'origin/main'.\n",
      "\n",
      "nothing to commit, working tree clean\n"
     ]
    },
    {
     "name": "stderr",
     "output_type": "stream",
     "text": [
      "Everything up-to-date\n"
     ]
    }
   ],
   "source": [
    "%%bash\n",
    "git add .\n",
    "git commit -m \"alx-low_level_programming/0x05-pointers_arrays_strings\"\n",
    "git push"
   ]
  },
  {
   "cell_type": "code",
   "execution_count": null,
   "metadata": {},
   "outputs": [],
   "source": []
  },
  {
   "cell_type": "markdown",
   "metadata": {},
   "source": [
    "###\n",
    "---\n",
    "<center>\n",
    "<h4> 10. Triangles </h4>\n",
    "</center>\n",
    "\n",
    "---\n"
   ]
  },
  {
   "cell_type": "markdown",
   "metadata": {},
   "source": [
    "##### Write a function that prints a triangle, followed by a new line.\n",
    "\n",
    "* Prototype: `void print_triangle(int size);`\n",
    "* You can only use` _putchar` function to print\n",
    "* Where `size` is the size of the triangle\n",
    "* If `size` is `0` or less, the function should print only a new line\n",
    "* Use the character `#` to print the triangle\n",
    "\n",
    "```bash\n",
    "julien@ubuntu:~/0x04$ cat 10-main.c \n",
    "#include \"main.h\"\n",
    "\n",
    "/**\n",
    " * main - check the code\n",
    " *\n",
    " * Return: Always 0.\n",
    " */\n",
    "int main(void)\n",
    "{\n",
    "    print_triangle(2);\n",
    "    print_triangle(10);\n",
    "    print_triangle(1);\n",
    "    print_triangle(0);\n",
    "    return (0);\n",
    "}\n",
    "julien@ubuntu:~/0x04$ gcc -Wall -pedantic -Werror -Wextra -std=gnu89 _putchar.c 10-main.c 10-print_triangle.c -o 10-triangles\n",
    "julien@ubuntu:~/0x04$ ./10-triangles \n",
    " #\n",
    "##\n",
    "         #\n",
    "        ##\n",
    "       ###\n",
    "      ####\n",
    "     #####\n",
    "    ######\n",
    "   #######\n",
    "  ########\n",
    " #########\n",
    "##########\n",
    "#\n",
    "\n",
    "julien@ubuntu:~/0x04$ ./10-triangles | tr ' ' . | cat -e\n",
    ".#$\n",
    "##$\n",
    ".........#$\n",
    "........##$\n",
    ".......###$\n",
    "......####$\n",
    ".....#####$\n",
    "....######$\n",
    "...#######$\n",
    "..########$\n",
    ".#########$\n",
    "##########$\n",
    "#$\n",
    "$\n",
    "julien@ubuntu:~/0x04$\n",
    "\n",
    "```\n",
    "\n",
    "\n",
    "* Repo:\n",
    "\n",
    "    * GitHub repository: <code > alx-low_level_programming </code>\n",
    "    * Directory: <code > 0x05-pointers_arrays_strings </code>\n",
    "    * File: <code >10-print_triangle.c </code>\n",
    "   "
   ]
  },
  {
   "cell_type": "code",
   "execution_count": 128,
   "metadata": {},
   "outputs": [
    {
     "name": "stdout",
     "output_type": "stream",
     "text": [
      "Overwriting 0x04-more_functions_nested_loops/10-print_triangle.c\n"
     ]
    }
   ],
   "source": [
    "%%file 0x05-pointers_arrays_strings/10-print_triangle.c\n",
    "#include \"main.h\"\n",
    "\n",
    "/**\n",
    "* print_triangle - prints a triangle, followed by a new line\n",
    "* @size: size of the triangle\n",
    "*/\n",
    "void print_triangle(int size)\n",
    "{\n",
    "if (size <= 0)\n",
    "{\n",
    "_putchar('\\n');\n",
    "}\n",
    "else\n",
    "{\n",
    "int i, j;\n",
    "\n",
    "for (i = 1; i <= size; i++)\n",
    "{\n",
    "for (j = i; j < size; j++)\n",
    "{\n",
    "_putchar(' ');\n",
    "}\n",
    "\n",
    "for (j = 1; j <= i; j++)\n",
    "{\n",
    "_putchar('#');\n",
    "}\n",
    "\n",
    "_putchar('\\n');\n",
    "}\n",
    "}\n",
    "}"
   ]
  },
  {
   "cell_type": "code",
   "execution_count": 129,
   "metadata": {},
   "outputs": [
    {
     "name": "stdout",
     "output_type": "stream",
     "text": [
      "Overwriting 0x04-more_functions_nested_loops/10-main.c\n"
     ]
    }
   ],
   "source": [
    "%%file 0x05-pointers_arrays_strings/10-main.c\n",
    "#include \"main.h\"\n",
    "\n",
    "/**\n",
    " * main - check the code\n",
    " *\n",
    " * Return: Always 0.\n",
    " */\n",
    "int main(void)\n",
    "{\n",
    "    print_triangle(2);\n",
    "    print_triangle(10);\n",
    "    print_triangle(1);\n",
    "    print_triangle(0);\n",
    "    return (0);\n",
    "}"
   ]
  },
  {
   "cell_type": "code",
   "execution_count": 143,
   "metadata": {},
   "outputs": [
    {
     "name": "stdout",
     "output_type": "stream",
     "text": [
      "Overwriting 0x04-more_functions_nested_loops/main.h\n"
     ]
    }
   ],
   "source": [
    "%%file 0x05-pointers_arrays_strings/main.h\n",
    "#ifndef MAIN_H\n",
    "#define MAIN_H\n",
    "\n",
    "#include <stdio.h>\n",
    "\n",
    "int _putchar(char c);\n",
    "int _isupper(int c);\n",
    "int _isdigit(int c);\n",
    "int mul(int a, int b);\n",
    "void print_numbers(void);\n",
    "void print_most_numbers(void);\n",
    "void more_numbers(void);\n",
    "void print_line(int n);\n",
    "void print_diagonal(int n);\n",
    "void print_square(int size);\n",
    "void print_triangle(int size);\n",
    "\n",
    "#endif\n"
   ]
  },
  {
   "cell_type": "code",
   "execution_count": 131,
   "metadata": {},
   "outputs": [
    {
     "name": "stdout",
     "output_type": "stream",
     "text": [
      "\n",
      "========== 0x04-more_functions_nested_loops/10-print_triangle.c ==========\n",
      "print_triangle\n",
      ".#$\n",
      "##$\n",
      ".........#$\n",
      "........##$\n",
      ".......###$\n",
      "......####$\n",
      ".....#####$\n",
      "....######$\n",
      "...#######$\n",
      "..########$\n",
      ".#########$\n",
      "##########$\n",
      "#$\n",
      "$\n"
     ]
    }
   ],
   "source": [
    "%%bash\n",
    "betty 0x05-pointers_arrays_strings/100-prime_factor.c\n",
    "gcc -Wall -pedantic -Werror -Wextra -std=gnu89 0x05-pointers_arrays_strings/_putchar.c 0x05-pointers_arrays_strings/10-main.c 0x05-pointers_arrays_strings/100-prime_factor.c -o 0x05-pointers_arrays_strings/10-triangles\n",
    "./0x05-pointers_arrays_strings/10-triangles | tr ' ' . | cat -e"
   ]
  },
  {
   "cell_type": "code",
   "execution_count": 134,
   "metadata": {},
   "outputs": [
    {
     "name": "stdout",
     "output_type": "stream",
     "text": [
      "On branch main\n",
      "Your branch is up to date with 'origin/main'.\n",
      "\n",
      "nothing to commit, working tree clean\n"
     ]
    },
    {
     "name": "stderr",
     "output_type": "stream",
     "text": [
      "Everything up-to-date\n"
     ]
    }
   ],
   "source": [
    "%%bash\n",
    "git add .\n",
    "git commit -m \"alx-low_level_programming/0x05-pointers_arrays_strings\"\n",
    "git push"
   ]
  },
  {
   "cell_type": "code",
   "execution_count": null,
   "metadata": {},
   "outputs": [],
   "source": []
  },
  {
   "cell_type": "code",
   "execution_count": null,
   "metadata": {},
   "outputs": [],
   "source": []
  },
  {
   "cell_type": "markdown",
   "metadata": {},
   "source": [
    "###\n",
    "---\n",
    "<center>\n",
    "<h4> 11. The problem of distinguishing prime numbers from composite numbers and of resolving the latter into their prime factors is known to be one of the most important and useful in arithmetic </h4>\n",
    "</center>\n",
    "\n",
    "---\n"
   ]
  },
  {
   "cell_type": "markdown",
   "metadata": {},
   "source": [
    "##### The prime factors of `1231952` are `2, 2, 2, 2, 37` and `2081`.\n",
    "\n",
    "Write a program that finds and prints the largest prime factor of the number `612852475143`, followed by a new line.\n",
    "\n",
    "* You are allowed to use the standard library\n",
    "* Your program will be compiled with this command: `gcc -Wall -pedantic -Werror -Wextra -std=gnu89 100-prime_factor.c -o 100-prime_factor -lm`\n",
    "\n",
    "\n",
    "* Repo:\n",
    "\n",
    "    * GitHub repository: <code > alx-low_level_programming </code>\n",
    "    * Directory: <code > 0x05-pointers_arrays_strings </code>\n",
    "    * File: <code >100-prime_factor.c </code>\n",
    "   "
   ]
  },
  {
   "cell_type": "code",
   "execution_count": 138,
   "metadata": {},
   "outputs": [
    {
     "name": "stdout",
     "output_type": "stream",
     "text": [
      "Overwriting 0x04-more_functions_nested_loops/100-prime_factor.c\n"
     ]
    }
   ],
   "source": [
    "%%file 0x05-pointers_arrays_strings/100-prime_factor.c\n",
    "#include <stdio.h>\n",
    "#include <math.h>\n",
    "\n",
    "/**\n",
    "* main - finds and prints the largest prime factor of the number 612852475143\n",
    "* followed by a new line\n",
    "* Return: Always 0 (Success)\n",
    "*/\n",
    "int main(void)\n",
    "{\n",
    "long int n;\n",
    "long int max;\n",
    "long int i;\n",
    "\n",
    "n = 612852475143;\n",
    "max = -1;\n",
    "\n",
    "while (n % 2 == 0)\n",
    "{\n",
    "max = 2;\n",
    "n /= 2;\n",
    "}\n",
    "\n",
    "for (i = 3; i <= sqrt(n); i = i + 2)\n",
    "{\n",
    "while (n % i == 0)\n",
    "{\n",
    "max = i;\n",
    "n = n / i;\n",
    "}\n",
    "}\n",
    "\n",
    "if (n > 2)\n",
    "max = n;\n",
    "\n",
    "printf(\"%ld\\n\", max);\n",
    "\n",
    "return (0);\n",
    "}"
   ]
  },
  {
   "cell_type": "code",
   "execution_count": 140,
   "metadata": {},
   "outputs": [
    {
     "name": "stdout",
     "output_type": "stream",
     "text": [
      "\n",
      "========== 0x04-more_functions_nested_loops/100-prime_factor.c ==========\n",
      "main\n",
      "50829599$\n"
     ]
    }
   ],
   "source": [
    "%%bash\n",
    "betty 0x05-pointers_arrays_strings/100-prime_factor.c\n",
    "gcc -Wall -pedantic -Werror -Wextra -std=gnu89 0x05-pointers_arrays_strings/100-prime_factor.c -o 0x05-pointers_arrays_strings/100-prime_factor -lm\n",
    "./0x05-pointers_arrays_strings/100-prime_factor | tr ' ' . | cat -e"
   ]
  },
  {
   "cell_type": "code",
   "execution_count": 142,
   "metadata": {},
   "outputs": [
    {
     "name": "stdout",
     "output_type": "stream",
     "text": [
      "On branch main\n",
      "Your branch is up to date with 'origin/main'.\n",
      "\n",
      "nothing to commit, working tree clean\n"
     ]
    },
    {
     "name": "stderr",
     "output_type": "stream",
     "text": [
      "Everything up-to-date\n"
     ]
    }
   ],
   "source": [
    "%%bash\n",
    "git add .\n",
    "git commit -m \"alx-low_level_programming/0x05-pointers_arrays_strings\"\n",
    "git push"
   ]
  },
  {
   "cell_type": "code",
   "execution_count": null,
   "metadata": {},
   "outputs": [],
   "source": []
  },
  {
   "cell_type": "code",
   "execution_count": null,
   "metadata": {},
   "outputs": [],
   "source": []
  },
  {
   "cell_type": "markdown",
   "metadata": {},
   "source": [
    "###\n",
    "---\n",
    "<center>\n",
    "<h4> 12. Numbers have life; they're not just symbols on paper\n",
    " </h4>\n",
    "</center>\n",
    "\n",
    "---\n"
   ]
  },
  {
   "cell_type": "markdown",
   "metadata": {},
   "source": [
    "##### Write a function that prints an integer.\n",
    "\n",
    "* Prototype: void print_number(int n);\n",
    "* You can only use _putchar function to print\n",
    "* You are not allowed to use long\n",
    "* You are not allowed to use arrays or pointers\n",
    "* You are not allowed to hard-code special values\n",
    "\n",
    "```bash\n",
    "julien@ubuntu:~/0x04$ cat 101-main.c\n",
    "#include \"main.h\"\n",
    "\n",
    "/**\n",
    " * main - check the code\n",
    " *\n",
    " * Return: Always 0.\n",
    " */\n",
    "int main(void)\n",
    "{\n",
    "    print_number(98);\n",
    "    _putchar('\\n');\n",
    "    print_number(402);\n",
    "    _putchar('\\n');\n",
    "    print_number(1024);\n",
    "    _putchar('\\n');\n",
    "    print_number(0);\n",
    "    _putchar('\\n');\n",
    "    print_number(-98);\n",
    "    _putchar('\\n');\n",
    "    return (0);\n",
    "}\n",
    "julien@ubuntu:~/0x04$ gcc -Wall -pedantic -Werror -Wextra -std=gnu89 _putchar.c 101-main.c 101-print_number.c -o 101-print_numbers\n",
    "julien@ubuntu:~/0x04$ ./101-print_numbers \n",
    "98\n",
    "402\n",
    "1024\n",
    "0\n",
    "-98\n",
    "julien@ubuntu:~/0x04$ \n",
    "```\n",
    "\n",
    "\n",
    "* Repo:\n",
    "\n",
    "    * GitHub repository: <code > alx-low_level_programming </code>\n",
    "    * Directory: <code > 0x05-pointers_arrays_strings </code>\n",
    "    * File: <code >101-print_number.c </code>\n",
    "   "
   ]
  },
  {
   "cell_type": "code",
   "execution_count": 169,
   "metadata": {},
   "outputs": [
    {
     "name": "stdout",
     "output_type": "stream",
     "text": [
      "Overwriting 0x04-more_functions_nested_loops/101-print_number.c\n"
     ]
    }
   ],
   "source": [
    "%%file 0x05-pointers_arrays_strings/101-print_number.c\n",
    "#include \"main.h\"\n",
    "\n",
    "/**\n",
    "* print_number - prints an integer\n",
    "* @n: integer to be printed\n",
    "*/\n",
    "void print_number(int n)\n",
    "{\n",
    "unsigned int n1;\n",
    "\n",
    "if (n < 0)\n",
    "{\n",
    "n1 = -n;\n",
    "_putchar('-');\n",
    "}\n",
    "else\n",
    "{\n",
    "n1 = n;\n",
    "}\n",
    "\n",
    "if (n1 / 10)\n",
    "{\n",
    "print_number(n1 / 10);\n",
    "}\n",
    "\n",
    "_putchar((n1 % 10) + '0');\n",
    "}"
   ]
  },
  {
   "cell_type": "code",
   "execution_count": 170,
   "metadata": {},
   "outputs": [
    {
     "name": "stdout",
     "output_type": "stream",
     "text": [
      "Overwriting 0x04-more_functions_nested_loops/101-main.c\n"
     ]
    }
   ],
   "source": [
    "%%file 0x05-pointers_arrays_strings/101-main.c\n",
    "#include \"main.h\"\n",
    "\n",
    "/**\n",
    " * main - check the code\n",
    " *\n",
    " * Return: Always 0.\n",
    " */\n",
    "int main(void)\n",
    "{\n",
    "    print_number(98);\n",
    "    _putchar('\\n');\n",
    "    print_number(402);\n",
    "    _putchar('\\n');\n",
    "    print_number(1024);\n",
    "    _putchar('\\n');\n",
    "    print_number(0);\n",
    "    _putchar('\\n');\n",
    "    print_number(-98);\n",
    "    _putchar('\\n');\n",
    "    return (0);\n",
    "}"
   ]
  },
  {
   "cell_type": "code",
   "execution_count": 171,
   "metadata": {},
   "outputs": [
    {
     "name": "stdout",
     "output_type": "stream",
     "text": [
      "Overwriting 0x04-more_functions_nested_loops/main.h\n"
     ]
    }
   ],
   "source": [
    "%%file 0x05-pointers_arrays_strings/main.h\n",
    "#ifndef MAIN_H\n",
    "#define MAIN_H\n",
    "\n",
    "#include <stdio.h>\n",
    "\n",
    "int _putchar(char c);\n",
    "int _isupper(int c);\n",
    "int _isdigit(int c);\n",
    "int mul(int a, int b);\n",
    "void print_numbers(void);\n",
    "void print_most_numbers(void);\n",
    "void more_numbers(void);\n",
    "void print_line(int n);\n",
    "void print_diagonal(int n);\n",
    "void print_square(int size);\n",
    "void print_triangle(int size);\n",
    "void print_number(int n);\n",
    "\n",
    "#endif\n"
   ]
  },
  {
   "cell_type": "code",
   "execution_count": 173,
   "metadata": {},
   "outputs": [
    {
     "name": "stdout",
     "output_type": "stream",
     "text": [
      "\n",
      "========== 0x04-more_functions_nested_loops/101-print_number.c ==========\n",
      "print_number\n",
      "98\n",
      "402\n",
      "1024\n",
      "0\n",
      "-98\n"
     ]
    }
   ],
   "source": [
    "%%bash\n",
    "betty 0x05-pointers_arrays_strings/101-print_number.c\n",
    "gcc -Wall -pedantic -Werror -Wextra -std=gnu89 0x05-pointers_arrays_strings/_putchar.c 0x05-pointers_arrays_strings/101-main.c 0x05-pointers_arrays_strings/101-print_number.c -o 0x05-pointers_arrays_strings/101-print_numbers\n",
    "./0x05-pointers_arrays_strings/101-print_numbers"
   ]
  },
  {
   "cell_type": "code",
   "execution_count": 174,
   "metadata": {},
   "outputs": [
    {
     "name": "stdout",
     "output_type": "stream",
     "text": [
      "[main eb01eaa] alx-low_level_programming/0x04-more_functions_nested_loops\n",
      " 2 files changed, 20 insertions(+), 4 deletions(-)\n",
      " create mode 100755 0x04-more_functions_nested_loops/101-print_numbers\n"
     ]
    },
    {
     "name": "stderr",
     "output_type": "stream",
     "text": [
      "To github.com:elkomysara/alx-low_level_programming.git\n",
      "   6f973a7..eb01eaa  main -> main\n"
     ]
    }
   ],
   "source": [
    "%%bash\n",
    "git add .\n",
    "git commit -m \"alx-low_level_programming/0x05-pointers_arrays_strings\"\n",
    "git push"
   ]
  },
  {
   "cell_type": "code",
   "execution_count": null,
   "metadata": {},
   "outputs": [],
   "source": []
  },
  {
   "cell_type": "code",
   "execution_count": null,
   "metadata": {},
   "outputs": [],
   "source": []
  }
 ],
 "metadata": {
  "kernelspec": {
   "display_name": "Python 3",
   "language": "python",
   "name": "python3"
  },
  "language_info": {
   "codemirror_mode": {
    "name": "ipython",
    "version": 3
   },
   "file_extension": ".py",
   "mimetype": "text/x-python",
   "name": "python",
   "nbconvert_exporter": "python",
   "pygments_lexer": "ipython3",
   "version": "3.12.3"
  }
 },
 "nbformat": 4,
 "nbformat_minor": 2
}
