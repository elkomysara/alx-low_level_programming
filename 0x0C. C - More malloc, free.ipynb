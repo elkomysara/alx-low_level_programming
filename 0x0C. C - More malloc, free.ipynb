{
 "cells": [
  {
   "cell_type": "markdown",
   "metadata": {},
   "source": [
    "---\n",
    "<center>\n",
    "<h1>  alx-low_level_programming </h1>\n",
    "</center>\n",
    "\n",
    "---\n"
   ]
  },
  {
   "cell_type": "code",
   "execution_count": 1,
   "metadata": {},
   "outputs": [],
   "source": [
    "import os\n",
    "# creating 0x02-shell_redirectionss\n",
    "\n",
    "folder_path = r'/home/elkomy/alx/alx-low_level_programming/0x0B-malloc_free'\n",
    "if not os.path.exists(folder_path):\n",
    "    os.makedirs(folder_path)\n",
    "\n",
    "# Create a README.md inside alx-low_level_programming/0x0B-malloc_free\n",
    "file_path = os.path.join(folder_path, 'README.md')\n",
    "\n",
    "with open(file_path, 'w') as file:\n",
    "    file.write(\"This is a README.md file inside alx-low_level_programming/0x0B-malloc_free\")\n",
    "\n"
   ]
  },
  {
   "cell_type": "code",
   "execution_count": 3,
   "metadata": {},
   "outputs": [
    {
     "name": "stdout",
     "output_type": "stream",
     "text": [
      "Overwriting /home/elkomy/alx/alx-low_level_programming/0x07-pointers_arrays_strings/README.md\n"
     ]
    }
   ],
   "source": [
    "%%file /home/elkomy/alx/alx-low_level_programming/0x0B-malloc_free/README.md\n",
    "This is a README.md"
   ]
  },
  {
   "cell_type": "markdown",
   "metadata": {},
   "source": [
    "###\n",
    "---\n",
    "<center>\n",
    "<h1> 0x0B. C - malloc, free  </h1>\n",
    "</center>\n",
    "\n",
    "---\n"
   ]
  },
  {
   "cell_type": "markdown",
   "metadata": {},
   "source": [
    "###\n",
    "---\n",
    "<center>\n",
    "<h4> 0. Float like a butterfly, sting like a bee</h4>\n",
    "</center>\n",
    "\n",
    "---"
   ]
  },
  {
   "cell_type": "markdown",
   "metadata": {},
   "source": [
    "\n",
    "#### Write a function that creates an array of chars, and initializes it with a specific char.\n",
    "\n",
    "* Prototype: `char *create_array(unsigned int size, char c);`\n",
    "* Returns `NULL` if size = `0`\n",
    "* Returns a pointer to the array, or `NULL` if it fails\n",
    "```bash\n",
    "julien@ubuntu:~/0x0a. malloc, free$ cat 0-main.c \n",
    "#include \"main.h\"\n",
    "#include <stdio.h>\n",
    "#include <stdlib.h>\n",
    "\n",
    "/**\n",
    " * simple_print_buffer - prints buffer in hexa\n",
    " * @buffer: the address of memory to print\n",
    " * @size: the size of the memory to print\n",
    " *\n",
    " * Return: Nothing.\n",
    " */\n",
    "void simple_print_buffer(char *buffer, unsigned int size)\n",
    "{\n",
    "    unsigned int i;\n",
    "\n",
    "    i = 0;\n",
    "    while (i < size)\n",
    "    {\n",
    "        if (i % 10)\n",
    "        {\n",
    "            printf(\" \");\n",
    "        }\n",
    "        if (!(i % 10) && i)\n",
    "        {\n",
    "            printf(\"\\n\");\n",
    "        }\n",
    "        printf(\"0x%02x\", buffer[i]);\n",
    "        i++;\n",
    "    }\n",
    "    printf(\"\\n\");\n",
    "}\n",
    "\n",
    "/**\n",
    " * main - check the code for ALX School students.\n",
    " *\n",
    " * Return: Always 0.\n",
    " */\n",
    "int main(void)\n",
    "{\n",
    "    char *buffer;\n",
    "\n",
    "    buffer = create_array(98, 'H');\n",
    "    if  (buffer == NULL)\n",
    "    {\n",
    "        printf(\"failed to allocate memory\\n\");\n",
    "        return (1);\n",
    "    }\n",
    "    simple_print_buffer(buffer, 98);\n",
    "    free(buffer);\n",
    "    return (0);\n",
    "}\n",
    "julien@ubuntu:~/0x0a. malloc, free$ gcc -Wall -pedantic -Werror -Wextra -std=gnu89 0-main.c 0-create_array.c -o a\n",
    "julien@ubuntu:~/0x0a. malloc, free$ ./a \n",
    "0x48 0x48 0x48 0x48 0x48 0x48 0x48 0x48 0x48 0x48\n",
    "0x48 0x48 0x48 0x48 0x48 0x48 0x48 0x48 0x48 0x48\n",
    "0x48 0x48 0x48 0x48 0x48 0x48 0x48 0x48 0x48 0x48\n",
    "0x48 0x48 0x48 0x48 0x48 0x48 0x48 0x48 0x48 0x48\n",
    "0x48 0x48 0x48 0x48 0x48 0x48 0x48 0x48 0x48 0x48\n",
    "0x48 0x48 0x48 0x48 0x48 0x48 0x48 0x48 0x48 0x48\n",
    "0x48 0x48 0x48 0x48 0x48 0x48 0x48 0x48 0x48 0x48\n",
    "0x48 0x48 0x48 0x48 0x48 0x48 0x48 0x48 0x48 0x48\n",
    "0x48 0x48 0x48 0x48 0x48 0x48 0x48 0x48 0x48 0x48\n",
    "0x48 0x48 0x48 0x48 0x48 0x48 0x48 0x48\n",
    "julien@ubuntu:~/0x0a. malloc, free$ \n",
    "```\n",
    "#### Repo:\n",
    "* GitHub repository: ``` alx-low_level_programming ```\n",
    "* Directory: ```0x0B-malloc_free``` \n",
    "* File: ```0-create_array.c```"
   ]
  },
  {
   "cell_type": "code",
   "execution_count": 16,
   "metadata": {},
   "outputs": [
    {
     "name": "stdout",
     "output_type": "stream",
     "text": [
      "Overwriting 0x0B-malloc_free/0-create_array.c\n"
     ]
    }
   ],
   "source": [
    "%%file 0x0B-malloc_free/0-create_array.c\n",
    "#include \"main.h\"\n",
    "#include <stdlib.h>\n",
    "\n",
    "/**\n",
    "* create_array - Creates an array of chars\n",
    "* and initializes it with a specific char\n",
    "* @size: The size of the array to create\n",
    "* @c: The char to initialize the array with\n",
    "*\n",
    "* Return: Pointer to the created array (Success), NULL (Failure)\n",
    "*/\n",
    "char *create_array(unsigned int size, char c)\n",
    "{\n",
    "char *array;\n",
    "unsigned int i;\n",
    "\n",
    "if (size == 0)\n",
    "return (NULL);\n",
    "\n",
    "array = malloc(size * sizeof(char));\n",
    "if (array == NULL)\n",
    "return (NULL);\n",
    "\n",
    "for (i = 0; i < size; i++)\n",
    "array[i] = c;\n",
    "\n",
    "return (array);\n",
    "}\n"
   ]
  },
  {
   "cell_type": "code",
   "execution_count": 17,
   "metadata": {},
   "outputs": [
    {
     "name": "stdout",
     "output_type": "stream",
     "text": [
      "Overwriting 0x0B-malloc_free/0-main.c\n"
     ]
    }
   ],
   "source": [
    "%%file 0x0B-malloc_free/0-main.c\n",
    "#include \"main.h\"\n",
    "#include <stdio.h>\n",
    "#include <stdlib.h>\n",
    "\n",
    "/**\n",
    "* simple_print_buffer - prints buffer in hexa\n",
    "* @buffer: the address of memory to print\n",
    "* @size: the size of the memory to print\n",
    "*\n",
    "* Return: Nothing.\n",
    "*/\n",
    "void simple_print_buffer(char *buffer, unsigned int size)\n",
    "{\n",
    "unsigned int i;\n",
    "\n",
    "i = 0;\n",
    "while (i < size)\n",
    "{\n",
    "if (i % 10)\n",
    "{\n",
    "printf(\" \");\n",
    "}\n",
    "if (!(i % 10) && i)\n",
    "{\n",
    "printf(\"\\n\");\n",
    "}\n",
    "printf(\"0x%02x\", buffer[i]);\n",
    "i++;\n",
    "}\n",
    "printf(\"\\n\");\n",
    "}\n",
    "\n",
    "/**\n",
    "* main - check the code for ALX School students.\n",
    "*\n",
    "* Return: Always 0.\n",
    "*/\n",
    "int main(void)\n",
    "{\n",
    "char *buffer;\n",
    "\n",
    "buffer = create_array(98, 'H');\n",
    "if  (buffer == NULL)\n",
    "{\n",
    "printf(\"failed to allocate memory\\n\");\n",
    "return (1);\n",
    "}\n",
    "simple_print_buffer(buffer, 98);\n",
    "free(buffer);\n",
    "return (0);\n",
    "}\n"
   ]
  },
  {
   "cell_type": "code",
   "execution_count": 18,
   "metadata": {},
   "outputs": [
    {
     "name": "stdout",
     "output_type": "stream",
     "text": [
      "Overwriting 0x0B-malloc_free/main.h\n"
     ]
    }
   ],
   "source": [
    "%%file 0x0B-malloc_free/main.h\n",
    "#ifndef MAIN_H\n",
    "#define MAIN_H\n",
    "\n",
    "#include <stdio.h>\n",
    "\n",
    "int _putchar(char c);\n",
    "char *create_array(unsigned int size, char c);\n",
    "\n",
    "#endif /* MAIN_H */"
   ]
  },
  {
   "cell_type": "code",
   "execution_count": 19,
   "metadata": {},
   "outputs": [
    {
     "name": "stdout",
     "output_type": "stream",
     "text": [
      "Overwriting 0x0B-malloc_free/_putchar.c\n"
     ]
    }
   ],
   "source": [
    "%%file 0x0B-malloc_free/_putchar.c\n",
    "#include <unistd.h>\n",
    "#include \"main.h\"\n",
    "/**\n",
    " * _putchar - writes the character c to stdout\n",
    " * @c: The character to print\n",
    " *\n",
    " * Return: On success 1.\n",
    " * On error, -1 is returned, and errno is set appropriately.\n",
    " */\n",
    "int _putchar(char c)\n",
    "{\n",
    "\treturn (write(1, &c, 1));\n",
    "}"
   ]
  },
  {
   "cell_type": "code",
   "execution_count": 20,
   "metadata": {},
   "outputs": [
    {
     "name": "stdout",
     "output_type": "stream",
     "text": [
      "\n",
      "========== 0x0B-malloc_free/0-create_array.c ==========\n",
      "create_array\n",
      "0x48 0x48 0x48 0x48 0x48 0x48 0x48 0x48 0x48 0x48\n",
      "0x48 0x48 0x48 0x48 0x48 0x48 0x48 0x48 0x48 0x48\n",
      "0x48 0x48 0x48 0x48 0x48 0x48 0x48 0x48 0x48 0x48\n",
      "0x48 0x48 0x48 0x48 0x48 0x48 0x48 0x48 0x48 0x48\n",
      "0x48 0x48 0x48 0x48 0x48 0x48 0x48 0x48 0x48 0x48\n",
      "0x48 0x48 0x48 0x48 0x48 0x48 0x48 0x48 0x48 0x48\n",
      "0x48 0x48 0x48 0x48 0x48 0x48 0x48 0x48 0x48 0x48\n",
      "0x48 0x48 0x48 0x48 0x48 0x48 0x48 0x48 0x48 0x48\n",
      "0x48 0x48 0x48 0x48 0x48 0x48 0x48 0x48 0x48 0x48\n",
      "0x48 0x48 0x48 0x48 0x48 0x48 0x48 0x48\n"
     ]
    }
   ],
   "source": [
    "%%bash\n",
    "betty 0x0B-malloc_free/0-create_array.c\n",
    "gcc -Wall -pedantic -Werror -Wextra -std=gnu89 0x0B-malloc_free/0-main.c 0x0B-malloc_free/0-create_array.c -o 0x0B-malloc_free/a\n",
    "./0x0B-malloc_free/a\n"
   ]
  },
  {
   "cell_type": "code",
   "execution_count": 21,
   "metadata": {},
   "outputs": [
    {
     "name": "stdout",
     "output_type": "stream",
     "text": [
      "[main 22ca5b8] alx-low_level_programming/0x0B-malloc_free/0-putchar\n",
      " 7 files changed, 377 insertions(+)\n",
      " create mode 100644 0x0B-malloc_free/0-create_array.c\n",
      " create mode 100644 0x0B-malloc_free/0-main.c\n",
      " create mode 100644 0x0B-malloc_free/README.md\n",
      " create mode 100644 0x0B-malloc_free/_putchar.c\n",
      " create mode 100755 0x0B-malloc_free/a\n",
      " create mode 100644 0x0B-malloc_free/main.h\n",
      " create mode 100644 0x0B. C - malloc, free.ipynb\n"
     ]
    },
    {
     "name": "stderr",
     "output_type": "stream",
     "text": [
      "To https://github.com/elkomysara/alx-low_level_programming.git\n",
      "   4f08716..22ca5b8  main -> main\n"
     ]
    }
   ],
   "source": [
    "%%bash\n",
    "git add .\n",
    "git commit -m \"alx-low_level_programming/0x0B-malloc_free/0-putchar\"\n",
    "git push"
   ]
  },
  {
   "cell_type": "code",
   "execution_count": null,
   "metadata": {},
   "outputs": [],
   "source": []
  },
  {
   "cell_type": "markdown",
   "metadata": {},
   "source": [
    "###\n",
    "---\n",
    "<center>\n",
    "<h4>1. The woman who has no imagination has no wings</h4>\n",
    "</center>\n",
    "\n",
    "---"
   ]
  },
  {
   "cell_type": "markdown",
   "metadata": {},
   "source": [
    "\n",
    "#### Write a function that returns a pointer to a newly allocated space in memory, which contains a copy of the string given as a parameter.\n",
    "\n",
    "* Prototype: `char *_strdup(char *str);`\n",
    "* The `_strdup()` function returns a pointer to a new string which is a duplicate of the string `str`. Memory for the new string is obtained with `malloc`, and can be freed with `free`.\n",
    "* Returns `NULL` if str = NULL\n",
    "* On success, the `_strdup` function returns a pointer to the duplicated string. It returns `NULL` if insufficient memory was available\n",
    "FYI: The standard library provides a similar function: `strdup`. `Run man strdup` to learn more.\n",
    "```bash\n",
    "julien@ubuntu:~/0x0a. malloc, free$ cat 1-main.c\n",
    "#include \"main.h\"\n",
    "#include <stdio.h>\n",
    "#include <stdlib.h>\n",
    "\n",
    "/**\n",
    " * main - check the code for ALX School students.\n",
    " *\n",
    " * Return: Always 0.\n",
    " */\n",
    "int main(void)\n",
    "{\n",
    "    char *s;\n",
    "\n",
    "    s = _strdup(\"ALX SE\");\n",
    "    if (s == NULL)\n",
    "    {\n",
    "        printf(\"failed to allocate memory\\n\");\n",
    "        return (1);\n",
    "    }\n",
    "    printf(\"%s\\n\", s);\n",
    "    free(s);\n",
    "    return (0);\n",
    "}\n",
    "julien@ubuntu:~/0x0a. malloc, free$ gcc -Wall -pedantic -Werror -Wextra -std=gnu89 1-main.c 1-strdup.c -o s\n",
    "julien@ubuntu:~/0x0a. malloc, free$ ./s \n",
    "ALX SE\n",
    "julien@ubuntu:~/0x0a. malloc, free$  \n",
    "```\n",
    "#### Repo:\n",
    "* GitHub repository: ``` alx-low_level_programming ```\n",
    "* Directory: ```0x0B-malloc_free``` \n",
    "* File: ```1-strdup.c```"
   ]
  },
  {
   "cell_type": "code",
   "execution_count": 27,
   "metadata": {},
   "outputs": [
    {
     "name": "stdout",
     "output_type": "stream",
     "text": [
      "Overwriting 0x0B-malloc_free/1-strdup.c\n"
     ]
    }
   ],
   "source": [
    "%%file 0x0B-malloc_free/1-strdup.c\n",
    "#include \"main.h\"\n",
    "#include <stdlib.h>\n",
    "#include <string.h>\n",
    "\n",
    "/**\n",
    "* _strdup - returns a pointer to a newly allocated space in memory,\n",
    "*           which contains a copy of the string given as a parameter.\n",
    "* @str: the string to duplicate\n",
    "*\n",
    "* Return: pointer to the duplicated string, or NULL if insufficient memory\n",
    "*         was available or str is NULL.\n",
    "*/\n",
    "char *_strdup(char *str)\n",
    "{\n",
    "char *dup_str;\n",
    "int len;\n",
    "\n",
    "if (str == NULL)\n",
    "{\n",
    "return (NULL);\n",
    "}\n",
    "\n",
    "len = strlen(str);\n",
    "dup_str = malloc((len + 1) * sizeof(char));\n",
    "/* Allocate memory for the new string */\n",
    "\n",
    "if (dup_str == NULL)\n",
    "{\n",
    "return (NULL);\n",
    "/* Return NULL if malloc fails */\n",
    "}\n",
    "\n",
    "strcpy(dup_str, str);\n",
    "/* Copy the string to the newly allocated memory */\n",
    "return (dup_str);\n",
    "}\n"
   ]
  },
  {
   "cell_type": "code",
   "execution_count": 35,
   "metadata": {},
   "outputs": [
    {
     "name": "stdout",
     "output_type": "stream",
     "text": [
      "Overwriting 0x0B-malloc_free/1-main.c\n"
     ]
    }
   ],
   "source": [
    "%%file 0x0B-malloc_free/1-main.c\n",
    "#include <stdlib.h>\n",
    "#include <string.h>\n",
    "#include \"main.h\"\n",
    "\n",
    "/**\n",
    "* main - check the code for ALX School students.\n",
    "*\n",
    "* Return: Always 0.\n",
    "*/\n",
    "int main(void)\n",
    "{\n",
    "char *s;\n",
    "\n",
    "s = _strdup(\"ALX SE\");\n",
    "if (s == NULL)\n",
    "{\n",
    "printf(\"failed to allocate memory\\n\");\n",
    "return (1);\n",
    "}\n",
    "printf(\"%s\\n\", s);\n",
    "free(s);\n",
    "return (0);\n",
    "}"
   ]
  },
  {
   "cell_type": "code",
   "execution_count": 39,
   "metadata": {},
   "outputs": [
    {
     "name": "stdout",
     "output_type": "stream",
     "text": [
      "Overwriting 0x0B-malloc_free/main.h\n"
     ]
    }
   ],
   "source": [
    "%%file 0x0B-malloc_free/main.h\n",
    "#ifndef MAIN_H\n",
    "#define MAIN_H\n",
    "\n",
    "#include <stdio.h>\n",
    "\n",
    "int _putchar(char c);\n",
    "char *create_array(unsigned int size, char c);\n",
    "char *_strdup(char *str);\n",
    "\n",
    "#endif /* MAIN_H */"
   ]
  },
  {
   "cell_type": "code",
   "execution_count": 40,
   "metadata": {},
   "outputs": [
    {
     "name": "stdout",
     "output_type": "stream",
     "text": [
      "Overwriting 0x0B-malloc_free/_putchar.c\n"
     ]
    }
   ],
   "source": [
    "%%file 0x0B-malloc_free/_putchar.c\n",
    "#include <unistd.h>\n",
    "#include \"main.h\"\n",
    "/**\n",
    " * _putchar - writes the character c to stdout\n",
    " * @c: The character to print\n",
    " *\n",
    " * Return: On success 1.\n",
    " * On error, -1 is returned, and errno is set appropriately.\n",
    " */\n",
    "int _putchar(char c)\n",
    "{\n",
    "\treturn (write(1, &c, 1));\n",
    "}"
   ]
  },
  {
   "cell_type": "code",
   "execution_count": 41,
   "metadata": {},
   "outputs": [
    {
     "name": "stdout",
     "output_type": "stream",
     "text": [
      "\n",
      "========== 0x0B-malloc_free/1-strdup.c ==========\n",
      "_strdup\n",
      "ALX SE\n"
     ]
    }
   ],
   "source": [
    "%%bash\n",
    "betty 0x0B-malloc_free/1-strdup.c\n",
    "gcc -Wall -pedantic -Werror -Wextra -std=gnu89 0x0B-malloc_free/1-main.c 0x0B-malloc_free/1-strdup.c -o 0x0B-malloc_free/s\n",
    "./0x0B-malloc_free/s\n"
   ]
  },
  {
   "cell_type": "code",
   "execution_count": 42,
   "metadata": {},
   "outputs": [
    {
     "name": "stdout",
     "output_type": "stream",
     "text": [
      "[main b8f1727] alx-low_level_programming/0x0B-malloc_free/0-putchar\n",
      " 6 files changed, 1331 insertions(+), 80 deletions(-)\n",
      " rewrite 0x0B-malloc_free/0-main.c (91%)\n",
      " create mode 100644 0x0B-malloc_free/1-main.c\n",
      " create mode 100644 0x0B-malloc_free/1-strdup.c\n",
      " create mode 100755 0x0B-malloc_free/s\n"
     ]
    },
    {
     "name": "stderr",
     "output_type": "stream",
     "text": [
      "To https://github.com/elkomysara/alx-low_level_programming.git\n",
      "   fc78b4b..b8f1727  main -> main\n"
     ]
    }
   ],
   "source": [
    "%%bash\n",
    "git add .\n",
    "git commit -m \"alx-low_level_programming/0x0B-malloc_free/0-putchar\"\n",
    "git push"
   ]
  },
  {
   "cell_type": "markdown",
   "metadata": {},
   "source": [
    "###\n",
    "---\n",
    "<center>\n",
    "<h4> 2. He who is not courageous enough to take risks will accomplish nothing in life</h4>\n",
    "</center>\n",
    "\n",
    "---"
   ]
  },
  {
   "cell_type": "markdown",
   "metadata": {},
   "source": [
    "\n",
    "#### Write a function that concatenates two strings.\n",
    "\n",
    "* Prototype: `char *str_concat(char *s1, char *s2);`\n",
    "* The returned pointer should point to a newly allocated space in memory which contains the contents of `s1`, followed by the contents of `s2`, and null terminated\n",
    "* if `NULL` is passed, treat it as an empty string\n",
    "* The function should return` NULL` on failure\n",
    "```bash\n",
    "julien@ubuntu:~/0x0a. malloc, free$ cat 2-main.c\n",
    "#include \"main.h\"\n",
    "#include <stdio.h>\n",
    "#include <stdlib.h>\n",
    "\n",
    "/**\n",
    " * main - check the code for ALX School students.\n",
    " *\n",
    " * Return: Always 0.\n",
    " */\n",
    "int main(void)\n",
    "{\n",
    "    char *s;\n",
    "\n",
    "    s = str_concat(\"Betty \", \"Holberton\");\n",
    "    if (s == NULL)\n",
    "    {\n",
    "        printf(\"failed\\n\");\n",
    "        return (1);\n",
    "    }\n",
    "    printf(\"%s\\n\", s);\n",
    "    free(s);\n",
    "    return (0);\n",
    "}\n",
    "julien@ubuntu:~/0x0a. malloc, free$ gcc -Wall -pedantic -Werror -Wextra -std=gnu89 2-main.c 2-str_concat.c -o c\n",
    "julien@ubuntu:~/c/curriculum_by_julien/holbertonschool-low_level_programming/0x0a. malloc, free$ ./c | cat -e\n",
    "Betty Holberton$\n",
    "julien@ubuntu:~/c/curriculum_by_julien/holbertonschool-low_level_programming/0x0a. malloc, free$  \n",
    "```\n",
    "#### Repo:\n",
    "* GitHub repository: ``` alx-low_level_programming ```\n",
    "* Directory: ```0x0B-malloc_free``` \n",
    "* File: ```2-str_concat.c```"
   ]
  },
  {
   "cell_type": "code",
   "execution_count": 12,
   "metadata": {},
   "outputs": [
    {
     "name": "stdout",
     "output_type": "stream",
     "text": [
      "Overwriting 0x0B-malloc_free/2-str_concat.c\n"
     ]
    }
   ],
   "source": [
    "%%file 0x0B-malloc_free/2-str_concat.c\n",
    "#include <stdlib.h>\n",
    "#include <stdio.h>\n",
    "#include \"main.h\"\n",
    "/**\n",
    "* str_concat - Concatenates two strings.\n",
    "* @s1: The first string.\n",
    "* @s2: The second string.\n",
    "*\n",
    "* Return: A pointer to the newly allocated space in memory containing the\n",
    "* concatenated strings. NULL on failure.\n",
    "*/\n",
    "char *str_concat(char *s1, char *s2)\n",
    "{\n",
    "char *concat_str;\n",
    "int len1 = 0, len2 = 0, i, j;\n",
    "\n",
    "if (s1 == NULL)\n",
    "s1 = \"\";\n",
    "if (s2 == NULL)\n",
    "s2 = \"\";\n",
    "\n",
    "while (s1[len1] != '\\0')\n",
    "len1++;\n",
    "while (s2[len2] != '\\0')\n",
    "len2++;\n",
    "\n",
    "concat_str = malloc(sizeof(char) * (len1 + len2 + 1));\n",
    "if (concat_str == NULL)\n",
    "return (NULL);\n",
    "\n",
    "for (i = 0; i < len1; i++)\n",
    "concat_str[i] = s1[i];\n",
    "\n",
    "for (j = 0; j < len2; j++)\n",
    "concat_str[i + j] = s2[j];\n",
    "\n",
    "concat_str[i + j] = '\\0';\n",
    "\n",
    "return (concat_str);\n",
    "}\n"
   ]
  },
  {
   "cell_type": "code",
   "execution_count": 13,
   "metadata": {},
   "outputs": [
    {
     "name": "stdout",
     "output_type": "stream",
     "text": [
      "Overwriting 0x0B-malloc_free/2-main.c\n"
     ]
    }
   ],
   "source": [
    "%%file 0x0B-malloc_free/2-main.c\n",
    "#include \"main.h\"\n",
    "#include <stdio.h>\n",
    "#include <stdlib.h>\n",
    "\n",
    "/**\n",
    " * main - check the code for ALX School students.\n",
    " *\n",
    " * Return: Always 0.\n",
    " */\n",
    "int main(void)\n",
    "{\n",
    "    char *s;\n",
    "\n",
    "    s = str_concat(\"Betty \", \"Holberton\");\n",
    "    if (s == NULL)\n",
    "    {\n",
    "        printf(\"failed\\n\");\n",
    "        return (1);\n",
    "    }\n",
    "    printf(\"%s\\n\", s);\n",
    "    free(s);\n",
    "    return (0);\n",
    "}"
   ]
  },
  {
   "cell_type": "code",
   "execution_count": 17,
   "metadata": {},
   "outputs": [
    {
     "name": "stdout",
     "output_type": "stream",
     "text": [
      "Overwriting 0x0B-malloc_free/main.h\n"
     ]
    }
   ],
   "source": [
    "%%file 0x0B-malloc_free/main.h\n",
    "#ifndef MAIN_H\n",
    "#define MAIN_H\n",
    "\n",
    "#include <stdio.h>\n",
    "\n",
    "int _putchar(char c);\n",
    "char *create_array(unsigned int size, char c);\n",
    "char *_strdup(char *str);\n",
    "char *str_concat(char *s1, char *s2);\n",
    "\n",
    "#endif /* MAIN_H */"
   ]
  },
  {
   "cell_type": "code",
   "execution_count": 18,
   "metadata": {},
   "outputs": [
    {
     "name": "stdout",
     "output_type": "stream",
     "text": [
      "Overwriting 0x0B-malloc_free/_putchar.c\n"
     ]
    }
   ],
   "source": [
    "%%file 0x0B-malloc_free/_putchar.c\n",
    "#include <unistd.h>\n",
    "#include \"main.h\"\n",
    "/**\n",
    " * _putchar - writes the character c to stdout\n",
    " * @c: The character to print\n",
    " *\n",
    " * Return: On success 1.\n",
    " * On error, -1 is returned, and errno is set appropriately.\n",
    " */\n",
    "int _putchar(char c)\n",
    "{\n",
    "\treturn (write(1, &c, 1));\n",
    "}"
   ]
  },
  {
   "cell_type": "code",
   "execution_count": 20,
   "metadata": {},
   "outputs": [
    {
     "name": "stdout",
     "output_type": "stream",
     "text": [
      "\n",
      "========== 0x0B-malloc_free/2-str_concat.c ==========\n",
      "str_concat\n",
      "Betty Holberton$\n"
     ]
    }
   ],
   "source": [
    "%%bash\n",
    "betty 0x0B-malloc_free/2-str_concat.c\n",
    "gcc -Wall -pedantic -Werror -Wextra -std=gnu89 0x0B-malloc_free/2-main.c 0x0B-malloc_free/2-str_concat.c -o 0x0B-malloc_free/c\n",
    "./0x0B-malloc_free/c | cat -e\n"
   ]
  },
  {
   "cell_type": "code",
   "execution_count": 21,
   "metadata": {},
   "outputs": [
    {
     "name": "stdout",
     "output_type": "stream",
     "text": [
      "[main 2ec8390] alx-low_level_programming/0x0B-malloc_free/0-putchar\n",
      " 5 files changed, 119 insertions(+), 86 deletions(-)\n",
      " create mode 100644 0x0B-malloc_free/2-main.c\n",
      " create mode 100644 0x0B-malloc_free/2-str_concat.c\n",
      " create mode 100755 0x0B-malloc_free/c\n"
     ]
    },
    {
     "name": "stderr",
     "output_type": "stream",
     "text": [
      "To https://github.com/elkomysara/alx-low_level_programming.git\n",
      "   b8f1727..2ec8390  main -> main\n"
     ]
    }
   ],
   "source": [
    "%%bash\n",
    "git add .\n",
    "git commit -m \"alx-low_level_programming/0x0B-malloc_free/0-putchar\"\n",
    "git push"
   ]
  },
  {
   "cell_type": "code",
   "execution_count": null,
   "metadata": {},
   "outputs": [],
   "source": []
  },
  {
   "cell_type": "markdown",
   "metadata": {},
   "source": [
    "###\n",
    "---\n",
    "<center>\n",
    "<h4>3. If you even dream of beating me you'd better wake up and apologize</h4>\n",
    "</center>\n",
    "\n",
    "---"
   ]
  },
  {
   "cell_type": "markdown",
   "metadata": {},
   "source": [
    "\n",
    "#### Write a function that returns a pointer to a 2 dimensional array of integers.\n",
    "\n",
    "* Prototype: `int **alloc_grid(int width, int height);`\n",
    "* Each element of the grid should be initialized to `0`\n",
    "* The function should return `NULL` on failure\n",
    "* If `width` or `height` is `0 `or negative, return `NULL`\n",
    "```bash\n",
    "julien@ubuntu:~/0x0a. malloc, free$ cat 3-main.c\n",
    "#include \"main.h\"\n",
    "#include <stdio.h>\n",
    "#include <stdlib.h>\n",
    "\n",
    "/**\n",
    " * print_grid - prints a grid of integers\n",
    " * @grid: the address of the two dimensional grid\n",
    " * @width: width of the grid\n",
    " * @height: height of the grid\n",
    " *\n",
    " * Return: Nothing.\n",
    " */\n",
    "void print_grid(int **grid, int width, int height)\n",
    "{\n",
    "    int w;\n",
    "    int h;\n",
    "\n",
    "    h = 0;\n",
    "    while (h < height)\n",
    "    {\n",
    "        w = 0;\n",
    "        while (w < width)\n",
    "        {\n",
    "            printf(\"%d \", grid[h][w]);\n",
    "            w++;\n",
    "        }\n",
    "        printf(\"\\n\");\n",
    "        h++;\n",
    "    }   \n",
    "}\n",
    "\n",
    "/**\n",
    " * main - check the code for ALX School students.\n",
    " *\n",
    " * Return: Always 0.\n",
    " */\n",
    "int main(void)\n",
    "{\n",
    "    int **grid;\n",
    "\n",
    "    grid = alloc_grid(6, 4);\n",
    "    if (grid == NULL)\n",
    "    {\n",
    "        return (1);\n",
    "    }\n",
    "    print_grid(grid, 6, 4);\n",
    "    printf(\"\\n\");\n",
    "    grid[0][3] = 98;\n",
    "    grid[3][4] = 402;\n",
    "    print_grid(grid, 6, 4);\n",
    "    return (0);\n",
    "}\n",
    "julien@ubuntu:~/0x0a. malloc, free$ gcc -Wall -pedantic -Werror -Wextra -std=gnu89 3-main.c 3-alloc_grid.c -o g\n",
    "julien@ubuntu:~/0x0a. malloc, free$ ./g\n",
    "0 0 0 0 0 0 \n",
    "0 0 0 0 0 0 \n",
    "0 0 0 0 0 0 \n",
    "0 0 0 0 0 0 \n",
    "\n",
    "0 0 0 98 0 0 \n",
    "0 0 0 0 0 0 \n",
    "0 0 0 0 0 0 \n",
    "0 0 0 0 402 0 \n",
    "julien@ubuntu:~/0x0a. malloc, free$\n",
    " \n",
    "```\n",
    "#### Repo:\n",
    "* GitHub repository: ``` alx-low_level_programming ```\n",
    "* Directory: ```0x0B-malloc_free``` \n",
    "* File: ```3-alloc_grid.c```"
   ]
  },
  {
   "cell_type": "code",
   "execution_count": 23,
   "metadata": {},
   "outputs": [
    {
     "name": "stdout",
     "output_type": "stream",
     "text": [
      "Writing 0x0B-malloc_free/3-alloc_grid.c\n"
     ]
    }
   ],
   "source": [
    "%%file 0x0B-malloc_free/3-alloc_grid.c\n",
    "#include <stdlib.h>\n",
    "#include \"main.h\"\n",
    "\n",
    "/**\n",
    "* alloc_grid - Allocates memory for a 2-dimensional array of integers.\n",
    "* @width: The width of the grid.\n",
    "* @height: The height of the grid.\n",
    "*\n",
    "* Return: A pointer to the allocated 2D array, or NULL on failure.\n",
    "*/\n",
    "int **alloc_grid(int width, int height)\n",
    "{\n",
    "int **grid;\n",
    "int i, j;\n",
    "\n",
    "if (width <= 0 || height <= 0)\n",
    "return (NULL);\n",
    "\n",
    "grid = malloc(height * sizeof(int *));\n",
    "if (grid == NULL)\n",
    "return (NULL);\n",
    "\n",
    "for (i = 0; i < height; i++)\n",
    "{\n",
    "grid[i] = malloc(width * sizeof(int));\n",
    "if (grid[i] == NULL)\n",
    "{\n",
    "for (j = 0; j < i; j++)\n",
    "free(grid[j]);\n",
    "free(grid);\n",
    "return (NULL);\n",
    "}\n",
    "}\n",
    "\n",
    "for (i = 0; i < height; i++)\n",
    "{\n",
    "for (j = 0; j < width; j++)\n",
    "grid[i][j] = 0;\n",
    "}\n",
    "\n",
    "return (grid);\n",
    "}"
   ]
  },
  {
   "cell_type": "code",
   "execution_count": 24,
   "metadata": {},
   "outputs": [
    {
     "name": "stdout",
     "output_type": "stream",
     "text": [
      "Overwriting 0x0B-malloc_free/3-main.c\n"
     ]
    }
   ],
   "source": [
    "%%file 0x0B-malloc_free/3-main.c\n",
    "#include \"main.h\"\n",
    "#include <stdio.h>\n",
    "#include <stdlib.h>\n",
    "\n",
    "/**\n",
    " * print_grid - prints a grid of integers\n",
    " * @grid: the address of the two dimensional grid\n",
    " * @width: width of the grid\n",
    " * @height: height of the grid\n",
    " *\n",
    " * Return: Nothing.\n",
    " */\n",
    "void print_grid(int **grid, int width, int height)\n",
    "{\n",
    "    int w;\n",
    "    int h;\n",
    "\n",
    "    h = 0;\n",
    "    while (h < height)\n",
    "    {\n",
    "        w = 0;\n",
    "        while (w < width)\n",
    "        {\n",
    "            printf(\"%d \", grid[h][w]);\n",
    "            w++;\n",
    "        }\n",
    "        printf(\"\\n\");\n",
    "        h++;\n",
    "    }   \n",
    "}\n",
    "\n",
    "/**\n",
    " * main - check the code for ALX School students.\n",
    " *\n",
    " * Return: Always 0.\n",
    " */\n",
    "int main(void)\n",
    "{\n",
    "    int **grid;\n",
    "\n",
    "    grid = alloc_grid(6, 4);\n",
    "    if (grid == NULL)\n",
    "    {\n",
    "        return (1);\n",
    "    }\n",
    "    print_grid(grid, 6, 4);\n",
    "    printf(\"\\n\");\n",
    "    grid[0][3] = 98;\n",
    "    grid[3][4] = 402;\n",
    "    print_grid(grid, 6, 4);\n",
    "    return (0);\n",
    "}"
   ]
  },
  {
   "cell_type": "code",
   "execution_count": 30,
   "metadata": {},
   "outputs": [
    {
     "name": "stdout",
     "output_type": "stream",
     "text": [
      "Overwriting 0x0B-malloc_free/main.h\n"
     ]
    }
   ],
   "source": [
    "%%file 0x0B-malloc_free/main.h\n",
    "#ifndef MAIN_H\n",
    "#define MAIN_H\n",
    "\n",
    "#include <stdio.h>\n",
    "\n",
    "int _putchar(char c);\n",
    "char *create_array(unsigned int size, char c);\n",
    "char *_strdup(char *str);\n",
    "char *str_concat(char *s1, char *s2);\n",
    "int **alloc_grid(int width, int height);\n",
    "#endif /* MAIN_H */"
   ]
  },
  {
   "cell_type": "code",
   "execution_count": 31,
   "metadata": {},
   "outputs": [
    {
     "name": "stdout",
     "output_type": "stream",
     "text": [
      "Overwriting 0x0B-malloc_free/_putchar.c\n"
     ]
    }
   ],
   "source": [
    "%%file 0x0B-malloc_free/_putchar.c\n",
    "#include <unistd.h>\n",
    "#include \"main.h\"\n",
    "/**\n",
    " * _putchar - writes the character c to stdout\n",
    " * @c: The character to print\n",
    " *\n",
    " * Return: On success 1.\n",
    " * On error, -1 is returned, and errno is set appropriately.\n",
    " */\n",
    "int _putchar(char c)\n",
    "{\n",
    "\treturn (write(1, &c, 1));\n",
    "}"
   ]
  },
  {
   "cell_type": "code",
   "execution_count": 32,
   "metadata": {},
   "outputs": [
    {
     "name": "stdout",
     "output_type": "stream",
     "text": [
      "\n",
      "========== 0x0B-malloc_free/3-alloc_grid.c ==========\n",
      "alloc_grid\n",
      "0 0 0 0 0 0 \n",
      "0 0 0 0 0 0 \n",
      "0 0 0 0 0 0 \n",
      "0 0 0 0 0 0 \n",
      "\n",
      "0 0 0 98 0 0 \n",
      "0 0 0 0 0 0 \n",
      "0 0 0 0 0 0 \n",
      "0 0 0 0 402 0 \n"
     ]
    }
   ],
   "source": [
    "%%bash\n",
    "betty 0x0B-malloc_free/3-alloc_grid.c\n",
    "gcc -Wall -pedantic -Werror -Wextra -std=gnu89 0x0B-malloc_free/3-main.c 0x0B-malloc_free/3-alloc_grid.c -o 0x0B-malloc_free/g\n",
    "./0x0B-malloc_free/g\n"
   ]
  },
  {
   "cell_type": "code",
   "execution_count": 33,
   "metadata": {},
   "outputs": [
    {
     "name": "stdout",
     "output_type": "stream",
     "text": [
      "[main 2519a7e] alx-low_level_programming/0x0B-malloc_free/0-putchar\n",
      " 4 files changed, 95 insertions(+), 1 deletion(-)\n",
      " create mode 100644 0x0B-malloc_free/3-alloc_grid.c\n",
      " create mode 100644 0x0B-malloc_free/3-main.c\n",
      " create mode 100755 0x0B-malloc_free/g\n"
     ]
    },
    {
     "name": "stderr",
     "output_type": "stream",
     "text": [
      "To https://github.com/elkomysara/alx-low_level_programming.git\n",
      "   2ec8390..2519a7e  main -> main\n"
     ]
    }
   ],
   "source": [
    "%%bash\n",
    "git add .\n",
    "git commit -m \"alx-low_level_programming/0x0B-malloc_free/0-putchar\"\n",
    "git push"
   ]
  },
  {
   "cell_type": "code",
   "execution_count": null,
   "metadata": {},
   "outputs": [],
   "source": []
  },
  {
   "cell_type": "markdown",
   "metadata": {},
   "source": [
    "###\n",
    "---\n",
    "<center>\n",
    "<h4>4. It's not bragging if you can back it up</h4>\n",
    "</center>\n",
    "\n",
    "---"
   ]
  },
  {
   "cell_type": "markdown",
   "metadata": {},
   "source": [
    "\n",
    "#### Write a function that frees a 2 dimensional grid previously created by your `alloc_grid` function.\n",
    "\n",
    "* Prototype: `void free_grid(int **grid, int height);`\n",
    "* Note that we will compile with your `alloc_grid.c` file. Make sure it compiles.\n",
    "```bash\n",
    "julien@ubuntu:~/0x0a. malloc, free$ cat 4-main.c\n",
    "#include \"main.h\"\n",
    "#include <stdio.h>\n",
    "#include <stdlib.h>\n",
    "\n",
    "/**\n",
    " * print_grid - prints a grid of integers\n",
    " * @grid: the address of the two dimensional grid\n",
    " * @width: width of the grid\n",
    " * @height: height of the grid\n",
    " *\n",
    " * Return: Nothing.\n",
    " */\n",
    "void print_grid(int **grid, int width, int height)\n",
    "{\n",
    "    int w;\n",
    "    int h;\n",
    "\n",
    "    h = 0;\n",
    "    while (h < height)\n",
    "    {\n",
    "        w = 0;\n",
    "        while (w < width)\n",
    "        {\n",
    "            printf(\"%d \", grid[h][w]);\n",
    "            w++;\n",
    "        }\n",
    "        printf(\"\\n\");\n",
    "        h++;\n",
    "    }   \n",
    "}\n",
    "\n",
    "/**\n",
    " * main - check the code for ALX School students.\n",
    " *\n",
    " * Return: Always 0.\n",
    " */\n",
    "int main(void)\n",
    "{\n",
    "    int **grid;\n",
    "\n",
    "    grid = alloc_grid(6, 4);\n",
    "    if (grid == NULL)\n",
    "    {\n",
    "        return (1);\n",
    "    }\n",
    "    print_grid(grid, 6, 4);\n",
    "    printf(\"\\n\");\n",
    "    grid[0][3] = 98;\n",
    "    grid[3][4] = 402;\n",
    "    print_grid(grid, 6, 4);\n",
    "    free_grid(grid, 4);\n",
    "    return (0);\n",
    "}\n",
    "julien@ubuntu:~/0x0a. malloc, free$ gcc -Wall -pedantic -Werror -Wextra -std=gnu89 4-main.c 3-alloc_grid.c 4-free_grid.c -o f\n",
    "julien@ubuntu:~/0x0a. malloc, free$ valgrind ./f\n",
    "==5013== Memcheck, a memory error detector\n",
    "==5013== Copyright (C) 2002-2015, and GNU GPL'd, by Julian Seward et al.\n",
    "==5013== Using Valgrind-3.11.0 and LibVEX; rerun with -h for copyright info\n",
    "==5013== Command: ./f\n",
    "==5013== \n",
    "0 0 0 0 0 0 \n",
    "0 0 0 0 0 0 \n",
    "0 0 0 0 0 0 \n",
    "0 0 0 0 0 0 \n",
    "\n",
    "0 0 0 98 0 0 \n",
    "0 0 0 0 0 0 \n",
    "0 0 0 0 0 0 \n",
    "0 0 0 0 402 0 \n",
    "==5013== \n",
    "==5013== HEAP SUMMARY:\n",
    "==5013==     in use at exit: 0 bytes in 0 blocks\n",
    "==5013==   total heap usage: 6 allocs, 6 frees, 1,248 bytes allocated\n",
    "==5013== \n",
    "==5013== All heap blocks were freed -- no leaks are possible\n",
    "==5013== \n",
    "==5013== For counts of detected and suppressed errors, rerun with: -v\n",
    "==5013== ERROR SUMMARY: 0 errors from 0 contexts (suppressed: 0 from 0)\n",
    "julien@ubuntu:~/0x0a. malloc, free$ \n",
    "```\n",
    "#### Repo:\n",
    "* GitHub repository: ``` alx-low_level_programming ```\n",
    "* Directory: ```0x0B-malloc_free``` \n",
    "* File: ```4-free_grid.c```"
   ]
  },
  {
   "cell_type": "code",
   "execution_count": 34,
   "metadata": {},
   "outputs": [
    {
     "name": "stdout",
     "output_type": "stream",
     "text": [
      "Writing 0x0B-malloc_free/4-free_grid.c\n"
     ]
    }
   ],
   "source": [
    "%%file 0x0B-malloc_free/4-free_grid.c\n",
    "#include <stdlib.h>\n",
    "#include \"main.h\"\n",
    "\n",
    "/**\n",
    "* free_grid - Frees a 2-dimensional grid previously created by alloc_grid.\n",
    "* @grid: The grid to be freed.\n",
    "* @height: The height of the grid.\n",
    "*\n",
    "* Return: Nothing.\n",
    "*/\n",
    "void free_grid(int **grid, int height)\n",
    "{\n",
    "int i;\n",
    "\n",
    "if (grid == NULL || height <= 0)\n",
    "return;\n",
    "\n",
    "for (i = 0; i < height; i++)\n",
    "{\n",
    "free(grid[i]);\n",
    "}\n",
    "free(grid);\n",
    "}"
   ]
  },
  {
   "cell_type": "code",
   "execution_count": 37,
   "metadata": {},
   "outputs": [
    {
     "name": "stdout",
     "output_type": "stream",
     "text": [
      "Writing 0x0B-malloc_free/4-main.c\n"
     ]
    }
   ],
   "source": [
    "%%file 0x0B-malloc_free/4-main.c\n",
    "#include \"main.h\"\n",
    "#include <stdio.h>\n",
    "#include <stdlib.h>\n",
    "\n",
    "/**\n",
    " * print_grid - prints a grid of integers\n",
    " * @grid: the address of the two dimensional grid\n",
    " * @width: width of the grid\n",
    " * @height: height of the grid\n",
    " *\n",
    " * Return: Nothing.\n",
    " */\n",
    "void print_grid(int **grid, int width, int height)\n",
    "{\n",
    "    int w;\n",
    "    int h;\n",
    "\n",
    "    h = 0;\n",
    "    while (h < height)\n",
    "    {\n",
    "        w = 0;\n",
    "        while (w < width)\n",
    "        {\n",
    "            printf(\"%d \", grid[h][w]);\n",
    "            w++;\n",
    "        }\n",
    "        printf(\"\\n\");\n",
    "        h++;\n",
    "    }   \n",
    "}\n",
    "\n",
    "/**\n",
    " * main - check the code for ALX School students.\n",
    " *\n",
    " * Return: Always 0.\n",
    " */\n",
    "int main(void)\n",
    "{\n",
    "    int **grid;\n",
    "\n",
    "    grid = alloc_grid(6, 4);\n",
    "    if (grid == NULL)\n",
    "    {\n",
    "        return (1);\n",
    "    }\n",
    "    print_grid(grid, 6, 4);\n",
    "    printf(\"\\n\");\n",
    "    grid[0][3] = 98;\n",
    "    grid[3][4] = 402;\n",
    "    print_grid(grid, 6, 4);\n",
    "    free_grid(grid, 4);\n",
    "    return (0);\n",
    "}"
   ]
  },
  {
   "cell_type": "code",
   "execution_count": 38,
   "metadata": {},
   "outputs": [
    {
     "name": "stdout",
     "output_type": "stream",
     "text": [
      "Overwriting 0x0B-malloc_free/main.h\n"
     ]
    }
   ],
   "source": [
    "%%file 0x0B-malloc_free/main.h\n",
    "#ifndef MAIN_H\n",
    "#define MAIN_H\n",
    "\n",
    "#include <stdio.h>\n",
    "int _putchar(char c);\n",
    "char *create_array(unsigned int size, char c);\n",
    "char *_strdup(char *str);\n",
    "char *str_concat(char *s1, char *s2);\n",
    "int **alloc_grid(int width, int height);\n",
    "void free_grid(int **grid, int height);\n",
    "\n",
    "\n",
    "#endif /* MAIN_H */"
   ]
  },
  {
   "cell_type": "code",
   "execution_count": 39,
   "metadata": {},
   "outputs": [
    {
     "name": "stdout",
     "output_type": "stream",
     "text": [
      "Overwriting 0x0B-malloc_free/_putchar.c\n"
     ]
    }
   ],
   "source": [
    "%%file 0x0B-malloc_free/_putchar.c\n",
    "#include <unistd.h>\n",
    "#include \"main.h\"\n",
    "/**\n",
    " * _putchar - writes the character c to stdout\n",
    " * @c: The character to print\n",
    " *\n",
    " * Return: On success 1.\n",
    " * On error, -1 is returned, and errno is set appropriately.\n",
    " */\n",
    "int _putchar(char c)\n",
    "{\n",
    "\treturn (write(1, &c, 1));\n",
    "}"
   ]
  },
  {
   "cell_type": "code",
   "execution_count": 41,
   "metadata": {},
   "outputs": [
    {
     "name": "stdout",
     "output_type": "stream",
     "text": [
      "\n",
      "========== 0x0B-malloc_free/4-free_grid.c ==========\n",
      "free_grid\n",
      "0 0 0 0 0 0 \n",
      "0 0 0 0 0 0 \n",
      "0 0 0 0 0 0 \n",
      "0 0 0 0 0 0 \n",
      "\n",
      "0 0 0 98 0 0 \n",
      "0 0 0 0 0 0 \n",
      "0 0 0 0 0 0 \n",
      "0 0 0 0 402 0 \n"
     ]
    }
   ],
   "source": [
    "%%bash\n",
    "betty 0x0B-malloc_free/4-free_grid.c\n",
    "gcc -Wall -pedantic -Werror -Wextra -std=gnu89 0x0B-malloc_free/4-main.c 0x0B-malloc_free/3-alloc_grid.c 0x0B-malloc_free/4-free_grid.c -o 0x0B-malloc_free/f\n",
    "./0x0B-malloc_free/f\n"
   ]
  },
  {
   "cell_type": "code",
   "execution_count": 42,
   "metadata": {},
   "outputs": [
    {
     "name": "stdout",
     "output_type": "stream",
     "text": [
      "[main 2f28958] alx-low_level_programming/0x0B-malloc_free/0-putchar\n",
      " 4 files changed, 79 insertions(+), 1 deletion(-)\n",
      " create mode 100644 0x0B-malloc_free/4-free_grid.c\n",
      " create mode 100644 0x0B-malloc_free/4-main.c\n",
      " create mode 100755 0x0B-malloc_free/f\n"
     ]
    },
    {
     "name": "stderr",
     "output_type": "stream",
     "text": [
      "To https://github.com/elkomysara/alx-low_level_programming.git\n",
      "   2519a7e..2f28958  main -> main\n"
     ]
    }
   ],
   "source": [
    "%%bash\n",
    "git add .\n",
    "git commit -m \"alx-low_level_programming/0x0B-malloc_free/0-putchar\"\n",
    "git push"
   ]
  },
  {
   "cell_type": "code",
   "execution_count": null,
   "metadata": {},
   "outputs": [],
   "source": []
  },
  {
   "cell_type": "markdown",
   "metadata": {},
   "source": [
    "###\n",
    "---\n",
    "<center>\n",
    "<h4>5. It isn't the mountains ahead to climb that wear you out; it's the pebble in your shoe</h4>\n",
    "</center>\n",
    "\n",
    "---"
   ]
  },
  {
   "cell_type": "markdown",
   "metadata": {},
   "source": [
    "\n",
    "#### Write a function that concatenates all the arguments of your program.\n",
    "\n",
    "* Prototype: `char *argstostr(int ac, char **av);`\n",
    "* Returns `NULL` if `ac == 0` or `av == NULL`\n",
    "* Returns a pointer to a new string, or `NULL` if it fails\n",
    "* Each argument should be followed by a `\\n` in the new string\n",
    "```bash\n",
    "julien@ubuntu:~/0x0a. malloc, free$ cat 100-main.c\n",
    "#include \"main.h\"\n",
    "#include <stdio.h>\n",
    "#include <stdlib.h>\n",
    "\n",
    "/**\n",
    " * main - check the code for ALX School students.\n",
    " *\n",
    " * Return: Always 0.\n",
    " */\n",
    "int main(int ac, char *av[])\n",
    "{\n",
    "    char *s;\n",
    "\n",
    "    s = argstostr(ac, av);\n",
    "    if (s == NULL)\n",
    "    {\n",
    "        return (1);\n",
    "    }\n",
    "    printf(\"%s\", s);\n",
    "    free(s);\n",
    "    return (0);\n",
    "}\n",
    "julien@ubuntu:~/0x0a. malloc, free$ gcc -Wall -pedantic -Werror -Wextra -std=gnu89 100-main.c 100-argstostr.c -o args\n",
    "julien@ubuntu:~/0x0a. malloc, free$ ./args I will \"show you\" how great I am\n",
    "./args\n",
    "I\n",
    "will\n",
    "show you\n",
    "how\n",
    "great\n",
    "I\n",
    "am\n",
    "julien@ubuntu:~/0x0a. malloc, free$\n",
    "```\n",
    "#### Repo:\n",
    "* GitHub repository: ``` alx-low_level_programming ```\n",
    "* Directory: ```0x0B-malloc_free``` \n",
    "* File: ```100-argstostr.c```"
   ]
  },
  {
   "cell_type": "code",
   "execution_count": 45,
   "metadata": {},
   "outputs": [
    {
     "name": "stdout",
     "output_type": "stream",
     "text": [
      "Overwriting 0x0B-malloc_free/100-argstostr.c\n"
     ]
    }
   ],
   "source": [
    "%%file 0x0B-malloc_free/100-argstostr.c\n",
    "#include <stdlib.h>\n",
    "#include \"main.h\"\n",
    "\n",
    "/**\n",
    "* argstostr - Concatenates all the arguments of the program.\n",
    "* @ac: The number of arguments.\n",
    "* @av: The array of arguments.\n",
    "*\n",
    "* Return: A pointer to the new string, or NULL if it fails.\n",
    "*/\n",
    "char *argstostr(int ac, char **av)\n",
    "{\n",
    "char *str;\n",
    "int i, j, k = 0, length = 0;\n",
    "\n",
    "if (ac == 0 || av == NULL)\n",
    "return (NULL);\n",
    "\n",
    "for (i = 0; i < ac; i++)\n",
    "{\n",
    "for (j = 0; av[i][j]; j++)\n",
    "length++;\n",
    "length++;  /* For the newline character */\n",
    "}\n",
    "\n",
    "str = malloc(sizeof(char) * (length + 1));\n",
    "if (str == NULL)\n",
    "return (NULL);\n",
    "\n",
    "for (i = 0; i < ac; i++)\n",
    "{\n",
    "for (j = 0; av[i][j]; j++)\n",
    "str[k++] = av[i][j];\n",
    "str[k++] = '\\n';\n",
    "}\n",
    "\n",
    "str[k] = '\\0';\n",
    "return (str);\n",
    "}\n"
   ]
  },
  {
   "cell_type": "code",
   "execution_count": 48,
   "metadata": {},
   "outputs": [
    {
     "name": "stdout",
     "output_type": "stream",
     "text": [
      "Writing 0x0B-malloc_free/100-main.c\n"
     ]
    }
   ],
   "source": [
    "%%file 0x0B-malloc_free/100-main.c\n",
    "#include \"main.h\"\n",
    "#include <stdio.h>\n",
    "#include <stdlib.h>\n",
    "\n",
    "/**\n",
    " * main - check the code for ALX School students.\n",
    " *\n",
    " * Return: Always 0.\n",
    " */\n",
    "int main(int ac, char *av[])\n",
    "{\n",
    "    char *s;\n",
    "\n",
    "    s = argstostr(ac, av);\n",
    "    if (s == NULL)\n",
    "    {\n",
    "        return (1);\n",
    "    }\n",
    "    printf(\"%s\", s);\n",
    "    free(s);\n",
    "    return (0);\n",
    "}"
   ]
  },
  {
   "cell_type": "code",
   "execution_count": 49,
   "metadata": {},
   "outputs": [
    {
     "name": "stdout",
     "output_type": "stream",
     "text": [
      "Overwriting 0x0B-malloc_free/main.h\n"
     ]
    }
   ],
   "source": [
    "%%file 0x0B-malloc_free/main.h\n",
    "#ifndef MAIN_H\n",
    "#define MAIN_H\n",
    "\n",
    "#include <stdio.h>\n",
    "int _putchar(char c);\n",
    "char *create_array(unsigned int size, char c);\n",
    "char *_strdup(char *str);\n",
    "char *str_concat(char *s1, char *s2);\n",
    "int **alloc_grid(int width, int height);\n",
    "void free_grid(int **grid, int height);\n",
    "char *argstostr(int ac, char **av);\n",
    "\n",
    "#endif /* MAIN_H */"
   ]
  },
  {
   "cell_type": "code",
   "execution_count": 50,
   "metadata": {},
   "outputs": [
    {
     "name": "stdout",
     "output_type": "stream",
     "text": [
      "Overwriting 0x0B-malloc_free/_putchar.c\n"
     ]
    }
   ],
   "source": [
    "%%file 0x0B-malloc_free/_putchar.c\n",
    "#include <unistd.h>\n",
    "#include \"main.h\"\n",
    "/**\n",
    " * _putchar - writes the character c to stdout\n",
    " * @c: The character to print\n",
    " *\n",
    " * Return: On success 1.\n",
    " * On error, -1 is returned, and errno is set appropriately.\n",
    " */\n",
    "int _putchar(char c)\n",
    "{\n",
    "\treturn (write(1, &c, 1));\n",
    "}"
   ]
  },
  {
   "cell_type": "code",
   "execution_count": 53,
   "metadata": {},
   "outputs": [
    {
     "name": "stdout",
     "output_type": "stream",
     "text": [
      "\n",
      "========== 0x0B-malloc_free/100-argstostr.c ==========\n",
      "argstostr\n",
      "./0x0B-malloc_free/args\n"
     ]
    }
   ],
   "source": [
    "%%bash\n",
    "betty 0x0B-malloc_free/100-argstostr.c\n",
    "gcc -Wall -pedantic -Werror -Wextra -std=gnu89 0x0B-malloc_free/100-main.c 0x0B-malloc_free/100-argstostr.c -o 0x0B-malloc_free/args\n",
    "./0x0B-malloc_free/args\n"
   ]
  },
  {
   "cell_type": "code",
   "execution_count": 54,
   "metadata": {},
   "outputs": [
    {
     "name": "stdout",
     "output_type": "stream",
     "text": [
      "[main 38a0c98] alx-low_level_programming/0x0B-malloc_free/0-putchar\n",
      " 4 files changed, 62 insertions(+), 1 deletion(-)\n",
      " create mode 100644 0x0B-malloc_free/100-argstostr.c\n",
      " create mode 100644 0x0B-malloc_free/100-main.c\n",
      " create mode 100755 0x0B-malloc_free/args\n"
     ]
    },
    {
     "name": "stderr",
     "output_type": "stream",
     "text": [
      "To https://github.com/elkomysara/alx-low_level_programming.git\n",
      "   2f28958..38a0c98  main -> main\n"
     ]
    }
   ],
   "source": [
    "%%bash\n",
    "git add .\n",
    "git commit -m \"alx-low_level_programming/0x0B-malloc_free/0-putchar\"\n",
    "git push"
   ]
  },
  {
   "cell_type": "code",
   "execution_count": null,
   "metadata": {},
   "outputs": [],
   "source": []
  },
  {
   "cell_type": "markdown",
   "metadata": {},
   "source": [
    "###\n",
    "---\n",
    "<center>\n",
    "<h4>6. I will show you how great I am</h4>\n",
    "</center>\n",
    "\n",
    "---"
   ]
  },
  {
   "cell_type": "markdown",
   "metadata": {},
   "source": [
    "\n",
    "#### Write a function that splits a string into words.\n",
    "\n",
    "* Prototype: `char **strtow(char *str);`\n",
    "* The function returns a pointer to an array of strings (words)\n",
    "* Each element of this array should contain a single word, null-terminated\n",
    "* The last element of the returned array should be `NULL`\n",
    "* Words are separated by spaces\n",
    "* Returns `NULL` if `str == NULL` or `str == \"\"`\n",
    "* If your function fails, it should return `NULL`\n",
    "```bash\n",
    "julien@ubuntu:~/0x0a. malloc, free$ cat 101-main.c\n",
    "#include \"main.h\"\n",
    "#include <stdio.h>\n",
    "#include <stdlib.h>\n",
    "\n",
    "/**\n",
    " * print_tab - Prints an array of string\n",
    " * @tab: The array to print\n",
    " *\n",
    " * Return: nothing\n",
    " */\n",
    "void print_tab(char **tab)\n",
    "{\n",
    "    int i;\n",
    "\n",
    "    for (i = 0; tab[i] != NULL; ++i)\n",
    "    {\n",
    "        printf(\"%s\\n\", tab[i]);\n",
    "    }\n",
    "}\n",
    "\n",
    "/**\n",
    " * main - check the code for ALX School students.\n",
    " *\n",
    " * Return: 1 if an error occurred, 0 otherwise\n",
    " */\n",
    "int main(void)\n",
    "{\n",
    "    char **tab;\n",
    "\n",
    "    tab = strtow(\"      ALX School         #cisfun      \");\n",
    "    if (tab == NULL)\n",
    "    {\n",
    "        printf(\"Failed\\n\");\n",
    "        return (1);\n",
    "    }\n",
    "    print_tab(tab);\n",
    "    return (0);\n",
    "}\n",
    "julien@ubuntu:~/0x0a. malloc, free$ gcc -Wall -pedantic -Werror -Wextra -std=gnu89 101-main.c 101-strtow.c -o strtow\n",
    "julien@ubuntu:~/0x0a. malloc, free$ ./strtow | cat -e\n",
    "ALX$\n",
    "School$\n",
    "#cisfun$\n",
    "julien@ubuntu:~/0x0a. malloc, free$  \n",
    "```\n",
    "#### Repo:\n",
    "* GitHub repository: ``` alx-low_level_programming ```\n",
    "* Directory: ```0x0B-malloc_free``` \n",
    "* File: ```101-strtow.c```"
   ]
  },
  {
   "cell_type": "code",
   "execution_count": 94,
   "metadata": {},
   "outputs": [
    {
     "name": "stdout",
     "output_type": "stream",
     "text": [
      "Overwriting 0x0B-malloc_free/101-strtow.c\n"
     ]
    }
   ],
   "source": [
    "%%file 0x0B-malloc_free/101-strtow.c\n",
    "#include <stdlib.h>\n",
    "#include \"main.h\"\n",
    "\n",
    "/**\n",
    "* count_words - Counts the number of words in a string.\n",
    "* @str: The string to count words in.\n",
    "*\n",
    "* Return: The number of words in the string.\n",
    "*/\n",
    "int count_words(char *str)\n",
    "{\n",
    "int count = 0, in_word = 0;\n",
    "\n",
    "while (*str)\n",
    "{\n",
    "if (*str == ' ')\n",
    "in_word = 0;\n",
    "else if (in_word == 0)\n",
    "{\n",
    "in_word = 1;\n",
    "count++;\n",
    "}\n",
    "str++;\n",
    "}\n",
    "\n",
    "return (count);\n",
    "}\n",
    "\n",
    "/**\n",
    "* word_length - Finds the length of the next word in a string.\n",
    "* @str: The string to search.\n",
    "*\n",
    "* Return: The length of the next word.\n",
    "*/\n",
    "int word_length(char *str)\n",
    "{\n",
    "int length = 0;\n",
    "\n",
    "while (str[length] && str[length] != ' ')\n",
    "length++;\n",
    "\n",
    "return (length);\n",
    "}\n",
    "\n",
    "/**\n",
    "* allocate_word - Allocates memory for a word and copies it.\n",
    "* @str: The string containing the word.\n",
    "* @word_len: The length of the word.\n",
    "*\n",
    "* Return: A pointer to the allocated word, or NULL if it fails.\n",
    "*/\n",
    "char *allocate_word(char *str, int word_len)\n",
    "{\n",
    "char *word = malloc((word_len + 1) * sizeof(char));\n",
    "int k;\n",
    "\n",
    "if (word == NULL)\n",
    "return (NULL);\n",
    "\n",
    "for (k = 0; k < word_len; k++)\n",
    "word[k] = str[k];\n",
    "word[k] = '\\0';\n",
    "\n",
    "return (word);\n",
    "}\n",
    "\n",
    "/**\n",
    "* free_words - Frees an array of words.\n",
    "* @words: The array of words to free.\n",
    "* @count: The number of words in the array.\n",
    "*/\n",
    "void free_words(char **words, int count)\n",
    "{\n",
    "int j;\n",
    "\n",
    "for (j = 0; j < count; j++)\n",
    "free(words[j]);\n",
    "free(words);\n",
    "}\n",
    "\n",
    "/**\n",
    "* strtow - Splits a string into words.\n",
    "* @str: The string to split.\n",
    "*\n",
    "* Return: A pointer to an array of strings (words), or NULL if it fails.\n",
    "*/\n",
    "char **strtow(char *str)\n",
    "{\n",
    "char **words;\n",
    "int i = 0, num_words, word_len;\n",
    "\n",
    "if (str == NULL || *str == '\\0')\n",
    "return (NULL);\n",
    "\n",
    "num_words = count_words(str);\n",
    "if (num_words == 0)\n",
    "return (NULL);\n",
    "\n",
    "words = malloc((num_words + 1) * sizeof(char *));\n",
    "if (words == NULL)\n",
    "return (NULL);\n",
    "\n",
    "while (*str)\n",
    "{\n",
    "if (*str == ' ')\n",
    "{\n",
    "str++;\n",
    "continue;\n",
    "}\n",
    "\n",
    "word_len = word_length(str);\n",
    "words[i] = allocate_word(str, word_len);\n",
    "if (words[i] == NULL)\n",
    "{\n",
    "free_words(words, i);\n",
    "return (NULL);\n",
    "}\n",
    "\n",
    "str += word_len;\n",
    "i++;\n",
    "}\n",
    "words[i] = NULL;\n",
    "\n",
    "return (words);\n",
    "}"
   ]
  },
  {
   "cell_type": "code",
   "execution_count": 95,
   "metadata": {},
   "outputs": [
    {
     "name": "stdout",
     "output_type": "stream",
     "text": [
      "Overwriting 0x0B-malloc_free/101-main.c\n"
     ]
    }
   ],
   "source": [
    "%%file 0x0B-malloc_free/101-main.c\n",
    "#include \"main.h\"\n",
    "#include <stdio.h>\n",
    "#include <stdlib.h>\n",
    "\n",
    "/**\n",
    " * print_tab - Prints an array of string\n",
    " * @tab: The array to print\n",
    " *\n",
    " * Return: nothing\n",
    " */\n",
    "void print_tab(char **tab)\n",
    "{\n",
    "    int i;\n",
    "\n",
    "    for (i = 0; tab[i] != NULL; ++i)\n",
    "    {\n",
    "        printf(\"%s\\n\", tab[i]);\n",
    "    }\n",
    "}\n",
    "\n",
    "/**\n",
    " * main - check the code for ALX School students.\n",
    " *\n",
    " * Return: 1 if an error occurred, 0 otherwise\n",
    " */\n",
    "int main(void)\n",
    "{\n",
    "    char **tab;\n",
    "\n",
    "    tab = strtow(\"      ALX School         #cisfun      \");\n",
    "    if (tab == NULL)\n",
    "    {\n",
    "        printf(\"Failed\\n\");\n",
    "        return (1);\n",
    "    }\n",
    "    print_tab(tab);\n",
    "    return (0);\n",
    "}"
   ]
  },
  {
   "cell_type": "code",
   "execution_count": 96,
   "metadata": {},
   "outputs": [
    {
     "name": "stdout",
     "output_type": "stream",
     "text": [
      "Overwriting 0x0B-malloc_free/main.h\n"
     ]
    }
   ],
   "source": [
    "%%file 0x0B-malloc_free/main.h\n",
    "#ifndef MAIN_H\n",
    "#define MAIN_H\n",
    "\n",
    "#include <stdio.h>\n",
    "int _putchar(char c);\n",
    "char *create_array(unsigned int size, char c);\n",
    "char *_strdup(char *str);\n",
    "char *str_concat(char *s1, char *s2);\n",
    "int **alloc_grid(int width, int height);\n",
    "void free_grid(int **grid, int height);\n",
    "char *argstostr(int ac, char **av);\n",
    "char **strtow(char *str);\n",
    "\n",
    "#endif /* MAIN_H */"
   ]
  },
  {
   "cell_type": "code",
   "execution_count": 97,
   "metadata": {},
   "outputs": [
    {
     "name": "stdout",
     "output_type": "stream",
     "text": [
      "Overwriting 0x0B-malloc_free/_putchar.c\n"
     ]
    }
   ],
   "source": [
    "%%file 0x0B-malloc_free/_putchar.c\n",
    "#include <unistd.h>\n",
    "#include \"main.h\"\n",
    "/**\n",
    " * _putchar - writes the character c to stdout\n",
    " * @c: The character to print\n",
    " *\n",
    " * Return: On success 1.\n",
    " * On error, -1 is returned, and errno is set appropriately.\n",
    " */\n",
    "int _putchar(char c)\n",
    "{\n",
    "\treturn (write(1, &c, 1));\n",
    "}"
   ]
  },
  {
   "cell_type": "code",
   "execution_count": 98,
   "metadata": {},
   "outputs": [
    {
     "name": "stdout",
     "output_type": "stream",
     "text": [
      "\n",
      "========== 0x0B-malloc_free/101-strtow.c ==========\n",
      "count_words\n",
      "word_length\n",
      "allocate_word\n",
      "free_words\n",
      "strtow\n",
      "ALX$\n",
      "School$\n",
      "#cisfun$\n"
     ]
    }
   ],
   "source": [
    "%%bash\n",
    "betty 0x0B-malloc_free/101-strtow.c\n",
    "gcc -Wall -pedantic -Werror -Wextra -std=gnu89 0x0B-malloc_free/101-main.c 0x0B-malloc_free/101-strtow.c -o 0x0B-malloc_free/strtow\n",
    "./0x0B-malloc_free/strtow | cat -e\n"
   ]
  },
  {
   "cell_type": "code",
   "execution_count": 99,
   "metadata": {},
   "outputs": [
    {
     "name": "stdout",
     "output_type": "stream",
     "text": [
      "[main 1b3310b] alx-low_level_programming/0x0B-malloc_free/0-putchar\n",
      " 2 files changed, 60 insertions(+), 21 deletions(-)\n"
     ]
    },
    {
     "name": "stderr",
     "output_type": "stream",
     "text": [
      "To https://github.com/elkomysara/alx-low_level_programming.git\n",
      "   abbd926..1b3310b  main -> main\n"
     ]
    }
   ],
   "source": [
    "%%bash\n",
    "git add .\n",
    "git commit -m \"alx-low_level_programming/0x0B-malloc_free/0-putchar\"\n",
    "git push"
   ]
  },
  {
   "cell_type": "code",
   "execution_count": null,
   "metadata": {},
   "outputs": [],
   "source": []
  }
 ],
 "metadata": {
  "kernelspec": {
   "display_name": "Python 3",
   "language": "python",
   "name": "python3"
  },
  "language_info": {
   "codemirror_mode": {
    "name": "ipython",
    "version": 3
   },
   "file_extension": ".py",
   "mimetype": "text/x-python",
   "name": "python",
   "nbconvert_exporter": "python",
   "pygments_lexer": "ipython3",
   "version": "3.12.3"
  }
 },
 "nbformat": 4,
 "nbformat_minor": 2
}
