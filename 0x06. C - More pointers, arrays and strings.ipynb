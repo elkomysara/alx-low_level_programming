{
 "cells": [
  {
   "cell_type": "markdown",
   "metadata": {},
   "source": [
    "---\n",
    "<center>\n",
    "<h1>  alx-low_level_programming </h1>\n",
    "</center>\n",
    "\n",
    "---\n"
   ]
  },
  {
   "cell_type": "code",
   "execution_count": 1,
   "metadata": {},
   "outputs": [],
   "source": [
    "import os\n",
    "# creating 0x02-shell_redirectionss\n",
    "\n",
    "folder_path = r'/home/elkomy/alx/alx-low_level_programming/0x06-pointers_arrays_strings'\n",
    "if not os.path.exists(folder_path):\n",
    "    os.makedirs(folder_path)\n",
    "\n",
    "# Create a README.md inside alx-low_level_programming/0x06-pointers_arrays_strings\n",
    "file_path = os.path.join(folder_path, 'README.md')\n",
    "\n",
    "with open(file_path, 'w') as file:\n",
    "    file.write(\"This is a README.md file inside alx-low_level_programming/0x06-pointers_arrays_strings\")\n",
    "\n"
   ]
  },
  {
   "cell_type": "code",
   "execution_count": 8,
   "metadata": {},
   "outputs": [
    {
     "name": "stdout",
     "output_type": "stream",
     "text": [
      "Overwriting /home/elkomy/alx/alx-low_level_programming/0x06-pointers_arrays_strings/README.md\n"
     ]
    }
   ],
   "source": [
    "%%file /home/elkomy/alx/alx-low_level_programming/0x06-pointers_arrays_strings/README.md\n",
    "This is a README.md"
   ]
  },
  {
   "cell_type": "markdown",
   "metadata": {},
   "source": [
    "###\n",
    "---\n",
    "<center>\n",
    "<h1> 0x06. C - More pointers, arrays and strings  </h1>\n",
    "</center>\n",
    "\n",
    "---\n"
   ]
  },
  {
   "cell_type": "markdown",
   "metadata": {},
   "source": [
    "###\n",
    "---\n",
    "<center>\n",
    "<h4> 0. strcat</h4>\n",
    "</center>\n",
    "\n",
    "---"
   ]
  },
  {
   "cell_type": "markdown",
   "metadata": {},
   "source": [
    "\n",
    "#### Write a function that concatenates two strings.\n",
    "\n",
    "* Prototype: `char *_strcat(char *dest, char *src);`\n",
    "* This function appends the `src` string to the `dest` string, overwriting the terminating null byte (`\\0`) at the end of `dest`, and then adds a terminating null byte\n",
    "* Returns a pointer to the resulting string `dest`\n",
    "FYI: The standard library provides a similar function: `strcat`. Run `man strcat` to learn more.\n",
    "\n",
    "```bash\n",
    "\n",
    "julien@ubuntu:~/0x06$ cat 0-main.c\n",
    "#include \"main.h\"\n",
    "#include <stdio.h>\n",
    "\n",
    "/**\n",
    " * main - check the code\n",
    " *\n",
    " * Return: Always 0.\n",
    " */\n",
    "int main(void)\n",
    "{\n",
    "    char s1[98] = \"Hello \";\n",
    "    char s2[] = \"World!\\n\";\n",
    "    char *ptr;\n",
    "\n",
    "    printf(\"%s\\n\", s1);\n",
    "    printf(\"%s\", s2);\n",
    "    ptr = _strcat(s1, s2);\n",
    "    printf(\"%s\", s1);\n",
    "    printf(\"%s\", s2);\n",
    "    printf(\"%s\", ptr);\n",
    "    return (0);\n",
    "}\n",
    "julien@ubuntu:~/0x06$ gcc -Wall -pedantic -Werror -Wextra -std=gnu89 0-main.c 0-strcat.c -o 0-strcat\n",
    "julien@ubuntu:~/0x06$ ./0-strcat \n",
    "Hello \n",
    "World!\n",
    "Hello World!\n",
    "World!\n",
    "Hello World!\n",
    "julien@ubuntu:~/0x06$ \n",
    "\n",
    "```\n",
    "\n",
    "#### Repo:\n",
    "* GitHub repository: ``` alx-low_level_programming ```\n",
    "* Directory: ```0x06-pointers_arrays_strings``` \n",
    "* File: ```0-strcat.c```"
   ]
  },
  {
   "cell_type": "code",
   "execution_count": 6,
   "metadata": {},
   "outputs": [
    {
     "name": "stdout",
     "output_type": "stream",
     "text": [
      "Overwriting 0x06-pointers_arrays_strings/0-main.c\n"
     ]
    }
   ],
   "source": [
    "%%file 0x06-pointers_arrays_strings/0-main.c\n",
    "#include \"main.h\"\n",
    "#include <stdio.h>\n",
    "\n",
    "/**\n",
    " * main - check the code\n",
    " *\n",
    " * Return: Always 0.\n",
    " */\n",
    "int main(void)\n",
    "{\n",
    "    char s1[98] = \"Hello \";\n",
    "    char s2[] = \"World!\\n\";\n",
    "    char *ptr;\n",
    "\n",
    "    printf(\"%s\\n\", s1);\n",
    "    printf(\"%s\", s2);\n",
    "    ptr = _strcat(s1, s2);\n",
    "    printf(\"%s\", s1);\n",
    "    printf(\"%s\", s2);\n",
    "    printf(\"%s\", ptr);\n",
    "    return (0);\n",
    "}"
   ]
  },
  {
   "cell_type": "code",
   "execution_count": 39,
   "metadata": {},
   "outputs": [
    {
     "name": "stdout",
     "output_type": "stream",
     "text": [
      "Overwriting 0x06-pointers_arrays_strings/main.h\n"
     ]
    }
   ],
   "source": [
    "%%file 0x06-pointers_arrays_strings/main.h\n",
    "#ifndef FILE_MAIN\n",
    "#define FILE_MAIN\n",
    "\n",
    "#include <stdio.h>\n",
    "\n",
    "char *_strcat(char *dest, char *src);\n",
    "\n",
    "\n",
    "\n",
    "#endif\n"
   ]
  },
  {
   "cell_type": "code",
   "execution_count": 45,
   "metadata": {},
   "outputs": [
    {
     "name": "stdout",
     "output_type": "stream",
     "text": [
      "Overwriting 0x06-pointers_arrays_strings/0-strcat.c\n"
     ]
    }
   ],
   "source": [
    "%%file 0x06-pointers_arrays_strings/0-strcat.c\n",
    "#include \"main.h\"\n",
    "\n",
    "/**\n",
    "* _strcat - concatenates two strings\n",
    "* @dest: destination string\n",
    "* @src: source string\n",
    "*\n",
    "* Return: pointer to the resulting string dest\n",
    "*/\n",
    "char *_strcat(char *dest, char *src)\n",
    "{\n",
    "int i = 0;\n",
    "int j = 0;\n",
    "\n",
    "/* Find the end of dest string*/\n",
    "while (dest[i] != '\\0')\n",
    "{\n",
    "i++;\n",
    "}\n",
    "\n",
    "/* Append src to dest */\n",
    "while (src[j] != '\\0')\n",
    "{\n",
    "dest[i] = src[j];\n",
    "i++;\n",
    "j++;\n",
    "}\n",
    "\n",
    "/* Add the terminating null byte */\n",
    "dest[i] = '\\0';\n",
    "\n",
    "/* Returns a pointer to the resulting string dest */\n",
    "\n",
    "return (dest);\n",
    "}\n"
   ]
  },
  {
   "cell_type": "code",
   "execution_count": 41,
   "metadata": {},
   "outputs": [
    {
     "name": "stdout",
     "output_type": "stream",
     "text": [
      "Overwriting 0x06-pointers_arrays_strings/0-strcat.c\n"
     ]
    }
   ],
   "source": [
    "%%file 0x06-pointers_arrays_strings/0-strcat.c\n",
    "#include \"main.h\"\n",
    "\n",
    "/**\n",
    "* _strcat - Concatenates two strings.\n",
    "* @dest: The destination string.\n",
    "* @src: The source string to append.\n",
    "*\n",
    "* Return: A pointer to the resulting string (dest).\n",
    "*/\n",
    "char *_strcat(char *dest, char *src)\n",
    "{\n",
    "\n",
    "/* Move to the end of dest */\n",
    "while (*dest)\n",
    "{\n",
    "dest++;\n",
    "}\n",
    "\n",
    "/* Append src to dest */\n",
    "while (*src)\n",
    "{\n",
    "*dest = *src;\n",
    "dest++;\n",
    "src++;\n",
    "}\n",
    "\n",
    "/* Add null terminator */\n",
    "*dest = '\\0';\n",
    "/* Returns a pointer to the resulting string dest */\n",
    "return (dest);\n",
    "}"
   ]
  },
  {
   "cell_type": "code",
   "execution_count": 42,
   "metadata": {},
   "outputs": [
    {
     "name": "stdout",
     "output_type": "stream",
     "text": [
      "Overwriting 0x06-pointers_arrays_strings/_putchar.c\n"
     ]
    }
   ],
   "source": [
    "%%file 0x06-pointers_arrays_strings/_putchar.c\n",
    "#include <unistd.h>\n",
    "#include \"main.h\"\n",
    "/**\n",
    " * _putchar - writes the character c to stdout\n",
    " * @c: The character to print\n",
    " *\n",
    " * Return: On success 1.\n",
    " * On error, -1 is returned, and errno is set appropriately.\n",
    " */\n",
    "int _putchar(char c)\n",
    "{\n",
    "\treturn (write(1, &c, 1));\n",
    "}\n"
   ]
  },
  {
   "cell_type": "code",
   "execution_count": 46,
   "metadata": {},
   "outputs": [
    {
     "name": "stdout",
     "output_type": "stream",
     "text": [
      "\n",
      "========== 0x06-pointers_arrays_strings/0-strcat.c ==========\n"
     ]
    },
    {
     "name": "stdout",
     "output_type": "stream",
     "text": [
      "_strcat\n",
      "Hello \n",
      "World!\n",
      "Hello World!\n",
      "World!\n",
      "Hello World!\n"
     ]
    }
   ],
   "source": [
    "%%bash\n",
    "betty 0x06-pointers_arrays_strings/0-strcat.c\n",
    "gcc -Wall -pedantic -Werror -Wextra -std=gnu89 0x06-pointers_arrays_strings/0-main.c 0x06-pointers_arrays_strings/0-strcat.c -o 0x06-pointers_arrays_strings/0-strcat\n",
    "./0x06-pointers_arrays_strings/0-strcat"
   ]
  },
  {
   "cell_type": "code",
   "execution_count": 47,
   "metadata": {},
   "outputs": [
    {
     "name": "stdout",
     "output_type": "stream",
     "text": [
      "[main 4ed57dc] alx-low_level_programming/0x06-pointers_arrays_strings\n",
      " 2 files changed, 35 insertions(+), 31 deletions(-)\n",
      " rewrite 0x06-pointers_arrays_strings/0-strcat.c (62%)\n"
     ]
    },
    {
     "name": "stderr",
     "output_type": "stream",
     "text": [
      "To https://github.com/elkomysara/alx-low_level_programming.git\n",
      "   e066d24..4ed57dc  main -> main\n"
     ]
    }
   ],
   "source": [
    "%%bash\n",
    "git add .\n",
    "git commit -m \"alx-low_level_programming/0x06-pointers_arrays_strings\"\n",
    "git push"
   ]
  },
  {
   "cell_type": "markdown",
   "metadata": {},
   "source": [
    "###\n",
    "---\n",
    "<center>\n",
    "<h4> 1. strncat </h4>\n",
    "</center>\n",
    "\n",
    "---"
   ]
  },
  {
   "cell_type": "markdown",
   "metadata": {},
   "source": [
    "\n",
    "####  Write a function that concatenates two strings.\n",
    "\n",
    "* Prototype: `char *_strncat(char *dest, char *src, int n);`\n",
    "* The `_strncat` function is similar to the `_strcat` function, except that\n",
    "    * it will use at most `n` bytes from `src`; and\n",
    "    * `src` does not need to be null-terminated if it contains `n` or more bytes\n",
    "* Return a pointer to the resulting string `dest`\n",
    "FYI: The standard library provides a similar function: `strncat`. Run `man strncat` to learn more.\n",
    "\n",
    "\n",
    "```bash\n",
    "\n",
    "ulien@ubuntu:~/0x06$ cat 1-main.c\n",
    "#include \"main.h\"\n",
    "#include <stdio.h>\n",
    "\n",
    "/**\n",
    " * main - check the code\n",
    " *\n",
    " * Return: Always 0.\n",
    " */\n",
    "int main(void)\n",
    "{\n",
    "    char s1[98] = \"Hello \";\n",
    "    char s2[] = \"World!\\n\";\n",
    "    char *ptr;\n",
    "\n",
    "    printf(\"%s\\n\", s1);\n",
    "    printf(\"%s\", s2);\n",
    "    ptr = _strncat(s1, s2, 1);\n",
    "    printf(\"%s\\n\", s1);\n",
    "    printf(\"%s\", s2);\n",
    "    printf(\"%s\\n\", ptr);\n",
    "    ptr = _strncat(s1, s2, 1024);\n",
    "    printf(\"%s\", s1);\n",
    "    printf(\"%s\", s2);\n",
    "    printf(\"%s\", ptr);\n",
    "    return (0);\n",
    "}\n",
    "julien@ubuntu:~/0x06$ gcc -Wall -pedantic -Werror -Wextra -std=gnu89 1-main.c 1-strncat.c -o 1-strncat\n",
    "julien@ubuntu:~/0x06$ ./1-strncat \n",
    "Hello \n",
    "World!\n",
    "Hello W\n",
    "World!\n",
    "Hello W\n",
    "Hello WWorld!\n",
    "World!\n",
    "Hello WWorld!\n",
    "julien@ubuntu:~/0x06$ \n",
    "\n",
    "```\n",
    "\n",
    "#### Repo:\n",
    "* GitHub repository: ``` alx-low_level_programming ```\n",
    "* Directory: ```0x06-pointers_arrays_strings``` \n",
    "* File: ```1-strncat.c```"
   ]
  },
  {
   "cell_type": "code",
   "execution_count": 23,
   "metadata": {},
   "outputs": [
    {
     "name": "stdout",
     "output_type": "stream",
     "text": [
      "Overwriting 0x06-pointers_arrays_strings/1-main.c\n"
     ]
    }
   ],
   "source": [
    "%%file 0x06-pointers_arrays_strings/1-main.c\n",
    "#include \"main.h\"\n",
    "#include <stdio.h>\n",
    "\n",
    "/**\n",
    " * main - check the code\n",
    " *\n",
    " * Return: Always 0.\n",
    " */\n",
    "int main(void)\n",
    "{\n",
    "    char s1[98] = \"Hello \";\n",
    "    char s2[] = \"World!\\n\";\n",
    "    char *ptr;\n",
    "\n",
    "    printf(\"%s\\n\", s1);\n",
    "    printf(\"%s\", s2);\n",
    "    ptr = _strncat(s1, s2, 1);\n",
    "    printf(\"%s\\n\", s1);\n",
    "    printf(\"%s\", s2);\n",
    "    printf(\"%s\\n\", ptr);\n",
    "    ptr = _strncat(s1, s2, 1024);\n",
    "    printf(\"%s\", s1);\n",
    "    printf(\"%s\", s2);\n",
    "    printf(\"%s\", ptr);\n",
    "    return (0);\n",
    "}"
   ]
  },
  {
   "cell_type": "code",
   "execution_count": 25,
   "metadata": {},
   "outputs": [
    {
     "name": "stdout",
     "output_type": "stream",
     "text": [
      "Overwriting 0x06-pointers_arrays_strings/main.h\n"
     ]
    }
   ],
   "source": [
    "%%file 0x06-pointers_arrays_strings/main.h\n",
    "#ifndef FILE_MAIN\n",
    "#define FILE_MAIN\n",
    "\n",
    "#include <stdio.h>\n",
    "\n",
    "int _putchar(char c);\n",
    "char *_strcat(char *dest, char *src);\n",
    "char *_strncat(char *dest, char *src, int n);\n",
    "\n",
    "\n",
    "#endif\n"
   ]
  },
  {
   "cell_type": "code",
   "execution_count": 82,
   "metadata": {},
   "outputs": [
    {
     "name": "stdout",
     "output_type": "stream",
     "text": [
      "Overwriting 0x06-pointers_arrays_strings/1-strncat.c\n"
     ]
    }
   ],
   "source": [
    "%%file 0x06-pointers_arrays_strings/1-strncat.c\n",
    "#include \"main.h\"\n",
    "\n",
    "/**\n",
    "* _strncat - Concatenates two strings.\n",
    "* @dest: Pointer to the destination string.\n",
    "* @src: Pointer to the source string.\n",
    "* @n:  Maximum number of bytes to append from src.\n",
    "*\n",
    "* Return: A pointer to the resulting string (dest).\n",
    "*/\n",
    "char *_strncat(char *dest, char *src, int n)\n",
    "{\n",
    "char *dest_start = dest;\n",
    "/* Find the end of the destination string */\n",
    "while (*dest)\n",
    "{\n",
    "dest++;\n",
    "}\n",
    "/* loops through the source string, appending characters to dest */\n",
    "while (n > 0 && *src)\n",
    "{\n",
    "*dest = *src;\n",
    "dest++;\n",
    "src++;\n",
    "/* decrement n after each character is copied */\n",
    "n--;\n",
    "}\n",
    "/* Add null terminator if n allows and source string isn;t empty */\n",
    "\n",
    "*dest = '\\0';\n",
    "\n",
    "/* Return a pointer to the resulting string (dest) */\n",
    "return (dest_start);\n",
    "\n",
    "}"
   ]
  },
  {
   "cell_type": "code",
   "execution_count": 83,
   "metadata": {},
   "outputs": [
    {
     "name": "stdout",
     "output_type": "stream",
     "text": [
      "Overwriting 0x06-pointers_arrays_strings/_putchar.c\n"
     ]
    }
   ],
   "source": [
    "%%file 0x06-pointers_arrays_strings/_putchar.c\n",
    "#include <unistd.h>\n",
    "#include \"main.h\"\n",
    "/**\n",
    " * _putchar - writes the character c to stdout\n",
    " * @c: The character to print\n",
    " *\n",
    " * Return: On success 1.\n",
    " * On error, -1 is returned, and errno is set appropriately.\n",
    " */\n",
    "int _putchar(char c)\n",
    "{\n",
    "\treturn (write(1, &c, 1));\n",
    "}\n"
   ]
  },
  {
   "cell_type": "code",
   "execution_count": 84,
   "metadata": {},
   "outputs": [
    {
     "name": "stdout",
     "output_type": "stream",
     "text": [
      "\n",
      "========== 0x06-pointers_arrays_strings/1-strncat.c ==========\n",
      "_strncat\n",
      "Hello \n",
      "World!\n",
      "Hello W\n",
      "World!\n",
      "Hello W\n",
      "Hello WWorld!\n",
      "World!\n",
      "Hello WWorld!\n"
     ]
    }
   ],
   "source": [
    "%%bash\n",
    "betty 0x06-pointers_arrays_strings/1-strncat.c\n",
    "gcc -Wall -pedantic -Werror -Wextra -std=gnu89 0x06-pointers_arrays_strings/1-main.c 0x06-pointers_arrays_strings/1-strncat.c -o 0x06-pointers_arrays_strings/1-strncat\n",
    "./0x06-pointers_arrays_strings/1-strncat"
   ]
  },
  {
   "cell_type": "code",
   "execution_count": 85,
   "metadata": {},
   "outputs": [
    {
     "name": "stdout",
     "output_type": "stream",
     "text": [
      "[main 15c924b] alx-low_level_programming/0x06-pointers_arrays_strings\n",
      " 4 files changed, 465 insertions(+), 234 deletions(-)\n",
      " create mode 100755 0x06-pointers_arrays_strings/1-strncat\n",
      " create mode 100644 0x06-pointers_arrays_strings/1-strncat.c\n"
     ]
    },
    {
     "name": "stderr",
     "output_type": "stream",
     "text": [
      "To github.com:elkomysara/alx-low_level_programming.git\n",
      "   ef66630..15c924b  main -> main\n"
     ]
    }
   ],
   "source": [
    "%%bash\n",
    "git add .\n",
    "git commit -m \"alx-low_level_programming/0x06-pointers_arrays_strings\"\n",
    "git push"
   ]
  },
  {
   "cell_type": "code",
   "execution_count": null,
   "metadata": {},
   "outputs": [],
   "source": []
  },
  {
   "cell_type": "markdown",
   "metadata": {},
   "source": [
    "###\n",
    "---\n",
    "<center>\n",
    "<h4> 2. strncpy </h4>\n",
    "</center>\n",
    "\n",
    "---"
   ]
  },
  {
   "cell_type": "markdown",
   "metadata": {},
   "source": [
    "\n",
    "####  Write a function that copies a string.\n",
    "\n",
    "* Prototype: `char *_strncpy(char *dest, char *src, int n);`\n",
    "* Your function should work exactly like `strncpy`\n",
    "FYI: The standard library provides a similar function: `strncpy`. Run `man strncpy` to learn more.\n",
    "\n",
    "```bash\n",
    "\n",
    "julien@ubuntu:~/0x06$ cat 2-main.c\n",
    "#include \"main.h\"\n",
    "#include <stdio.h>\n",
    "\n",
    "/**\n",
    " * main - check the code\n",
    " *\n",
    " * Return: Always 0.\n",
    " */\n",
    "int main(void)\n",
    "{\n",
    "    char s1[98];\n",
    "    char *ptr;\n",
    "    int i;\n",
    "\n",
    "    for (i = 0; i < 98 - 1; i++)\n",
    "    {\n",
    "        s1[i] = '*';\n",
    "    }\n",
    "    s1[i] = '\\0';\n",
    "    printf(\"%s\\n\", s1);\n",
    "    ptr = _strncpy(s1, \"First, solve the problem. Then, write the code\\n\", 5);\n",
    "    printf(\"%s\\n\", s1);\n",
    "    printf(\"%s\\n\", ptr);\n",
    "    ptr = _strncpy(s1, \"First, solve the problem. Then, write the code\\n\", 90);\n",
    "    printf(\"%s\", s1);\n",
    "    printf(\"%s\", ptr);\n",
    "    for (i = 0; i < 98; i++)\n",
    "    {\n",
    "        if (i % 10)\n",
    "        {\n",
    "            printf(\" \");\n",
    "        }\n",
    "        if (!(i % 10) && i)\n",
    "        {\n",
    "            printf(\"\\n\");\n",
    "        }\n",
    "        printf(\"0x%02x\", s1[i]);\n",
    "    }\n",
    "    printf(\"\\n\");\n",
    "    return (0);\n",
    "}\n",
    "julien@ubuntu:~/0x06$ gcc -Wall -pedantic -Werror -Wextra -std=gnu89 2-main.c 2-strncpy.c -o 2-strncpy\n",
    "julien@ubuntu:~/0x06$ ./2-strncpy \n",
    "*************************************************************************************************\n",
    "First********************************************************************************************\n",
    "First********************************************************************************************\n",
    "First, solve the problem. Then, write the code\n",
    "First, solve the problem. Then, write the code\n",
    "0x46 0x69 0x72 0x73 0x74 0x2c 0x20 0x73 0x6f 0x6c\n",
    "0x76 0x65 0x20 0x74 0x68 0x65 0x20 0x70 0x72 0x6f\n",
    "0x62 0x6c 0x65 0x6d 0x2e 0x20 0x54 0x68 0x65 0x6e\n",
    "0x2c 0x20 0x77 0x72 0x69 0x74 0x65 0x20 0x74 0x68\n",
    "0x65 0x20 0x63 0x6f 0x64 0x65 0x0a 0x00 0x00 0x00\n",
    "0x00 0x00 0x00 0x00 0x00 0x00 0x00 0x00 0x00 0x00\n",
    "0x00 0x00 0x00 0x00 0x00 0x00 0x00 0x00 0x00 0x00\n",
    "0x00 0x00 0x00 0x00 0x00 0x00 0x00 0x00 0x00 0x00\n",
    "0x00 0x00 0x00 0x00 0x00 0x00 0x00 0x00 0x00 0x00\n",
    "0x2a 0x2a 0x2a 0x2a 0x2a 0x2a 0x2a 0x00\n",
    "julien@ubuntu:~/0x06$ \n",
    "\n",
    "```\n",
    "\n",
    "#### Repo:\n",
    "* GitHub repository: ``` alx-low_level_programming ```\n",
    "* Directory: ```0x06-pointers_arrays_strings``` \n",
    "* File: ```2-strncpy.c```"
   ]
  },
  {
   "cell_type": "code",
   "execution_count": 87,
   "metadata": {},
   "outputs": [
    {
     "name": "stdout",
     "output_type": "stream",
     "text": [
      "Writing 0x06-pointers_arrays_strings/2-main.c\n"
     ]
    }
   ],
   "source": [
    "%%file 0x06-pointers_arrays_strings/2-main.c\n",
    "#include \"main.h\"\n",
    "#include <stdio.h>\n",
    "\n",
    "/**\n",
    " * main - check the code\n",
    " *\n",
    " * Return: Always 0.\n",
    " */\n",
    "int main(void)\n",
    "{\n",
    "    char s1[98];\n",
    "    char *ptr;\n",
    "    int i;\n",
    "\n",
    "    for (i = 0; i < 98 - 1; i++)\n",
    "    {\n",
    "        s1[i] = '*';\n",
    "    }\n",
    "    s1[i] = '\\0';\n",
    "    printf(\"%s\\n\", s1);\n",
    "    ptr = _strncpy(s1, \"First, solve the problem. Then, write the code\\n\", 5);\n",
    "    printf(\"%s\\n\", s1);\n",
    "    printf(\"%s\\n\", ptr);\n",
    "    ptr = _strncpy(s1, \"First, solve the problem. Then, write the code\\n\", 90);\n",
    "    printf(\"%s\", s1);\n",
    "    printf(\"%s\", ptr);\n",
    "    for (i = 0; i < 98; i++)\n",
    "    {\n",
    "        if (i % 10)\n",
    "        {\n",
    "            printf(\" \");\n",
    "        }\n",
    "        if (!(i % 10) && i)\n",
    "        {\n",
    "            printf(\"\\n\");\n",
    "        }\n",
    "        printf(\"0x%02x\", s1[i]);\n",
    "    }\n",
    "    printf(\"\\n\");\n",
    "    return (0);\n",
    "}"
   ]
  },
  {
   "cell_type": "code",
   "execution_count": 103,
   "metadata": {},
   "outputs": [
    {
     "name": "stdout",
     "output_type": "stream",
     "text": [
      "Overwriting 0x06-pointers_arrays_strings/main.h\n"
     ]
    }
   ],
   "source": [
    "%%file 0x06-pointers_arrays_strings/main.h\n",
    "#ifndef FILE_MAIN\n",
    "#define FILE_MAIN\n",
    "\n",
    "#include <stdio.h>\n",
    "\n",
    "int _putchar(char c);\n",
    "char *_strcat(char *dest, char *src);\n",
    "char *_strncat(char *dest, char *src, int n);\n",
    "char *_strncpy(char *dest, char *src, int n);\n",
    "\n",
    "#endif\n"
   ]
  },
  {
   "cell_type": "code",
   "execution_count": 4,
   "metadata": {},
   "outputs": [
    {
     "name": "stdout",
     "output_type": "stream",
     "text": [
      "Overwriting 0x06-pointers_arrays_strings/2-strncpy.c\n"
     ]
    }
   ],
   "source": [
    "%%file 0x06-pointers_arrays_strings/2-strncpy.c\n",
    "#include \"main.h\"\n",
    "\n",
    "/**\n",
    " * _strncpy - Copies a string from src to dest up to n characters.\n",
    " * @dest: Pointer to the destination buffer.\n",
    " * @src: Pointer to the source string.\n",
    " * @n: Maximum number of characters to copy.\n",
    " *\n",
    " * Return: Pointer to the destination string (dest).\n",
    " */\n",
    "char *_strncpy(char *dest, char *src, int n)\n",
    "{\n",
    "int i;\n",
    "for (i = 0; i < n && src[i] != '\\0'; i++)\n",
    "{\n",
    "dest[i] = src[i];\n",
    "}\n",
    "/* Pad with null bytes if n is greater than the length of src */\n",
    "for (; i < n; i++)\n",
    "{\n",
    "dest[i] = '\\0';\n",
    "}\n",
    "return (dest);\n",
    "}"
   ]
  },
  {
   "cell_type": "code",
   "execution_count": 5,
   "metadata": {},
   "outputs": [
    {
     "name": "stdout",
     "output_type": "stream",
     "text": [
      "\n",
      "========== 0x06-pointers_arrays_strings/2-strncpy.c ==========\n",
      "_strncpy\n",
      "*************************************************************************************************\n",
      "First********************************************************************************************\n",
      "First********************************************************************************************\n",
      "First, solve the problem. Then, write the code\n",
      "First, solve the problem. Then, write the code\n",
      "0x46 0x69 0x72 0x73 0x74 0x2c 0x20 0x73 0x6f 0x6c\n",
      "0x76 0x65 0x20 0x74 0x68 0x65 0x20 0x70 0x72 0x6f\n",
      "0x62 0x6c 0x65 0x6d 0x2e 0x20 0x54 0x68 0x65 0x6e\n",
      "0x2c 0x20 0x77 0x72 0x69 0x74 0x65 0x20 0x74 0x68\n",
      "0x65 0x20 0x63 0x6f 0x64 0x65 0x0a 0x00 0x00 0x00\n",
      "0x00 0x00 0x00 0x00 0x00 0x00 0x00 0x00 0x00 0x00\n",
      "0x00 0x00 0x00 0x00 0x00 0x00 0x00 0x00 0x00 0x00\n",
      "0x00 0x00 0x00 0x00 0x00 0x00 0x00 0x00 0x00 0x00\n",
      "0x00 0x00 0x00 0x00 0x00 0x00 0x00 0x00 0x00 0x00\n",
      "0x2a 0x2a 0x2a 0x2a 0x2a 0x2a 0x2a 0x00\n"
     ]
    }
   ],
   "source": [
    "%%bash\n",
    "betty 0x06-pointers_arrays_strings/2-strncpy.c\n",
    "gcc -Wall -pedantic -Werror -Wextra -std=gnu89 0x06-pointers_arrays_strings/2-main.c 0x06-pointers_arrays_strings/2-strncpy.c -o 0x06-pointers_arrays_strings/2-strncpy\n",
    "./0x06-pointers_arrays_strings/2-strncpy"
   ]
  },
  {
   "cell_type": "code",
   "execution_count": 105,
   "metadata": {},
   "outputs": [
    {
     "name": "stdout",
     "output_type": "stream",
     "text": [
      "[main bfadc57] alx-low_level_programming/0x06-pointers_arrays_strings\n",
      " 6 files changed, 114 insertions(+), 1 deletion(-)\n",
      " create mode 100644 0x06-pointers_arrays_strings/2-main.c\n",
      " create mode 100644 0x06-pointers_arrays_strings/2-strcpy.c\n",
      " create mode 100644 0x06-pointers_arrays_strings/2-strlen.c\n",
      " create mode 100755 0x06-pointers_arrays_strings/2-strncpy\n",
      " create mode 100644 0x06-pointers_arrays_strings/2-strncpy.c\n"
     ]
    },
    {
     "name": "stderr",
     "output_type": "stream",
     "text": [
      "To github.com:elkomysara/alx-low_level_programming.git\n",
      "   15c924b..bfadc57  main -> main\n"
     ]
    }
   ],
   "source": [
    "%%bash\n",
    "git add .\n",
    "git commit -m \"alx-low_level_programming/0x06-pointers_arrays_strings\"\n",
    "git push"
   ]
  },
  {
   "cell_type": "code",
   "execution_count": null,
   "metadata": {},
   "outputs": [],
   "source": []
  },
  {
   "cell_type": "markdown",
   "metadata": {},
   "source": [
    "###\n",
    "---\n",
    "<center>\n",
    "<h4> 3. strcmp\n",
    " </h4>\n",
    "</center>\n",
    "\n",
    "---"
   ]
  },
  {
   "cell_type": "markdown",
   "metadata": {},
   "source": [
    "\n",
    "####  Write a function that compares two strings.\n",
    "\n",
    "* Prototype: `int _strcmp(char *s1, char *s2);`\n",
    "* Your function should work exactly like `strcmp`\n",
    "\n",
    "FYI: The standard library provides a similar function: `strcmp.` Run `man strcmp` to learn more.\n",
    "\n",
    "```bash\n",
    "julien@ubuntu:~/0x06$ cat 3-main.c\n",
    "#include \"main.h\"\n",
    "#include <stdio.h>\n",
    "\n",
    "/**\n",
    " * main - check the code\n",
    " *\n",
    " * Return: Always 0.\n",
    " */\n",
    "int main(void)\n",
    "{\n",
    "    char s1[] = \"Hello\";\n",
    "    char s2[] = \"World!\";\n",
    "\n",
    "    printf(\"%d\\n\", _strcmp(s1, s2));\n",
    "    printf(\"%d\\n\", _strcmp(s2, s1));\n",
    "    printf(\"%d\\n\", _strcmp(s1, s1));\n",
    "    return (0);\n",
    "}\n",
    "julien@ubuntu:~/0x06$ gcc -Wall -pedantic -Werror -Wextra -std=gnu89 3-main.c 3-strcmp.c -o 3-strcmp\n",
    "julien@ubuntu:~/0x06$ ./3-strcmp \n",
    "-15\n",
    "15\n",
    "0\n",
    "julien@ubuntu:~/0x06$\n",
    "```\n",
    "\n",
    "#### Repo:\n",
    "* GitHub repository: ``` alx-low_level_programming ```\n",
    "* Directory: ```0x06-pointers_arrays_strings``` \n",
    "* File: ```3-strcmp.c```"
   ]
  },
  {
   "cell_type": "code",
   "execution_count": 106,
   "metadata": {},
   "outputs": [
    {
     "name": "stdout",
     "output_type": "stream",
     "text": [
      "Writing 0x06-pointers_arrays_strings/3-main.c\n"
     ]
    }
   ],
   "source": [
    "%%file 0x06-pointers_arrays_strings/3-main.c\n",
    "#include \"main.h\"\n",
    "#include <stdio.h>\n",
    "\n",
    "/**\n",
    " * main - check the code\n",
    " *\n",
    " * Return: Always 0.\n",
    " */\n",
    "int main(void)\n",
    "{\n",
    "    char s1[] = \"Hello\";\n",
    "    char s2[] = \"World!\";\n",
    "\n",
    "    printf(\"%d\\n\", _strcmp(s1, s2));\n",
    "    printf(\"%d\\n\", _strcmp(s2, s1));\n",
    "    printf(\"%d\\n\", _strcmp(s1, s1));\n",
    "    return (0);\n",
    "}"
   ]
  },
  {
   "cell_type": "code",
   "execution_count": 7,
   "metadata": {},
   "outputs": [
    {
     "name": "stdout",
     "output_type": "stream",
     "text": [
      "Overwriting 0x06-pointers_arrays_strings/main.h\n"
     ]
    }
   ],
   "source": [
    "%%file 0x06-pointers_arrays_strings/main.h\n",
    "#ifndef FILE_MAIN\n",
    "#define FILE_MAIN\n",
    "\n",
    "#include <stdio.h>\n",
    "\n",
    "int _putchar(char c);\n",
    "char *_strcat(char *dest, char *src);\n",
    "char *_strncat(char *dest, char *src, int n);\n",
    "char *_strncpy(char *dest, char *src, int n);\n",
    "int _strcmp(char *s1, char *s2);\n",
    "void reverse_array(int *a, int n);\n",
    "\n",
    "#endif\n"
   ]
  },
  {
   "cell_type": "code",
   "execution_count": 3,
   "metadata": {},
   "outputs": [
    {
     "name": "stdout",
     "output_type": "stream",
     "text": [
      "Overwriting 0x06-pointers_arrays_strings/3-strcmp.c\n"
     ]
    }
   ],
   "source": [
    "%%file 0x06-pointers_arrays_strings/3-strcmp.c\n",
    "#include \"main.h\"\n",
    "\n",
    "/**\n",
    "* _strcmp - Compares two strings.\n",
    "* @s1: the first string.\n",
    "* @s2: the second string.\n",
    "*\n",
    "* Return: s2 minus s1\n",
    "*/\n",
    "\n",
    "int _strcmp(char *s1, char *s2)\n",
    "{\n",
    "while (*s1 && (*s1 == *s2))\n",
    "{\n",
    "s1++;\n",
    "s2++;\n",
    "}\n",
    "return (*s1 - *s2);\n",
    "}\n"
   ]
  },
  {
   "cell_type": "code",
   "execution_count": 1,
   "metadata": {},
   "outputs": [
    {
     "name": "stdout",
     "output_type": "stream",
     "text": [
      "\n",
      "========== 0x06-pointers_arrays_strings/3-strcmp.c ==========\n"
     ]
    },
    {
     "name": "stdout",
     "output_type": "stream",
     "text": [
      "_strcmp\n",
      "-15\n",
      "15\n",
      "0\n"
     ]
    }
   ],
   "source": [
    "%%bash\n",
    "betty 0x06-pointers_arrays_strings/3-strcmp.c\n",
    "gcc -Wall -pedantic -Werror -Wextra -std=gnu89 0x06-pointers_arrays_strings/3-main.c 0x06-pointers_arrays_strings/3-strcmp.c -o 0x06-pointers_arrays_strings/3-strcmp\n",
    "./0x06-pointers_arrays_strings/3-strcmp"
   ]
  },
  {
   "cell_type": "code",
   "execution_count": 2,
   "metadata": {},
   "outputs": [
    {
     "name": "stdout",
     "output_type": "stream",
     "text": [
      "[main e2cb608] alx-low_level_programming/0x06-pointers_arrays_strings\n",
      " 1 file changed, 0 insertions(+), 0 deletions(-)\n",
      " create mode 100755 0x06-pointers_arrays_strings/3-strcmp\n"
     ]
    },
    {
     "name": "stderr",
     "output_type": "stream",
     "text": [
      "To github.com:elkomysara/alx-low_level_programming.git\n",
      "   86c5042..e2cb608  main -> main\n"
     ]
    }
   ],
   "source": [
    "%%bash\n",
    "git add .\n",
    "git commit -m \"alx-low_level_programming/0x06-pointers_arrays_strings\"\n",
    "git push"
   ]
  },
  {
   "cell_type": "markdown",
   "metadata": {},
   "source": [
    "###\n",
    "---\n",
    "<center>\n",
    "<h4> 4. I am a kind of paranoid in reverse. I suspect people of plotting to make me happy\n",
    " </h4>\n",
    "</center>\n",
    "\n",
    "---"
   ]
  },
  {
   "cell_type": "markdown",
   "metadata": {},
   "source": [
    "\n",
    "####  Write a function that reverses the content of an array of integers.\n",
    "\n",
    "* Prototype: `void reverse_array(int *a, int n);`\n",
    "* Where `n` is the number of elements of the array\n",
    "\n",
    "```bash\n",
    "julien@ubuntu:~/0x06$ cat 4-main.c\n",
    "#include \"main.h\"\n",
    "#include <stdio.h>\n",
    "\n",
    "/**\n",
    " * main - check the code\n",
    " * @a: an array of integers\n",
    " * @n: the number of elements to swap\n",
    " *\n",
    " * Return: nothing.\n",
    " */\n",
    "void print_array(int *a, int n)\n",
    "{\n",
    "    int i;\n",
    "\n",
    "    i = 0;\n",
    "    while (i < n)\n",
    "    {\n",
    "        if (i != 0)\n",
    "        {\n",
    "            printf(\", \");\n",
    "        }\n",
    "        printf(\"%d\", a[i]);\n",
    "        i++;\n",
    "    }\n",
    "    printf(\"\\n\");\n",
    "}\n",
    "\n",
    "/**\n",
    " * main - check the code\n",
    " *\n",
    " * Return: Always 0.\n",
    " */\n",
    "int main(void)\n",
    "{\n",
    "    int a[] = {0, 1, 2, 3, 4, 5, 6, 7, 8, 9, 98, 1024, 1337};\n",
    "\n",
    "    print_array(a, sizeof(a) / sizeof(int));\n",
    "    reverse_array(a, sizeof(a) / sizeof(int));\n",
    "    print_array(a, sizeof(a) / sizeof(int));\n",
    "    return (0);\n",
    "}\n",
    "julien@ubuntu:~/0x06$ gcc -Wall -pedantic -Werror -Wextra -std=gnu89 4-main.c 4-rev_array.c -o 4-rev_array\n",
    "julien@ubuntu:~/0x06$ ./4-rev_array \n",
    "0, 1, 2, 3, 4, 5, 6, 7, 8, 9, 98, 1024, 1337\n",
    "1337, 1024, 98, 9, 8, 7, 6, 5, 4, 3, 2, 1, 0\n",
    "julien@ubuntu:~/0x06$ \n",
    "```\n",
    "\n",
    "#### Repo:\n",
    "* GitHub repository: ``` alx-low_level_programming ```\n",
    "* Directory: ```0x06-pointers_arrays_strings``` \n",
    "* File: ```4-print_rev.c```"
   ]
  },
  {
   "cell_type": "code",
   "execution_count": 4,
   "metadata": {},
   "outputs": [
    {
     "name": "stdout",
     "output_type": "stream",
     "text": [
      "Overwriting 0x06-pointers_arrays_strings/4-main.c\n"
     ]
    }
   ],
   "source": [
    "%%file 0x06-pointers_arrays_strings/4-main.c\n",
    "#include \"main.h\"\n",
    "#include <stdio.h>\n",
    "\n",
    "/**\n",
    " * main - check the code\n",
    " * @a: an array of integers\n",
    " * @n: the number of elements to swap\n",
    " *\n",
    " * Return: nothing.\n",
    " */\n",
    "void print_array(int *a, int n)\n",
    "{\n",
    "    int i;\n",
    "\n",
    "    i = 0;\n",
    "    while (i < n)\n",
    "    {\n",
    "        if (i != 0)\n",
    "        {\n",
    "            printf(\", \");\n",
    "        }\n",
    "        printf(\"%d\", a[i]);\n",
    "        i++;\n",
    "    }\n",
    "    printf(\"\\n\");\n",
    "}\n",
    "\n",
    "/**\n",
    " * main - check the code\n",
    " *\n",
    " * Return: Always 0.\n",
    " */\n",
    "int main(void)\n",
    "{\n",
    "    int a[] = {0, 1, 2, 3, 4, 5, 6, 7, 8, 9, 98, 1024, 1337};\n",
    "\n",
    "    print_array(a, sizeof(a) / sizeof(int));\n",
    "    reverse_array(a, sizeof(a) / sizeof(int));\n",
    "    print_array(a, sizeof(a) / sizeof(int));\n",
    "    return (0);\n",
    "}"
   ]
  },
  {
   "cell_type": "code",
   "execution_count": 6,
   "metadata": {},
   "outputs": [
    {
     "name": "stdout",
     "output_type": "stream",
     "text": [
      "Overwriting 0x06-pointers_arrays_strings/main.h\n"
     ]
    }
   ],
   "source": [
    "%%file 0x06-pointers_arrays_strings/main.h\n",
    "#ifndef FILE_MAIN\n",
    "#define FILE_MAIN\n",
    "\n",
    "#include <stdio.h>\n",
    "\n",
    "int _putchar(char c);\n",
    "char *_strcat(char *dest, char *src);\n",
    "char *_strncat(char *dest, char *src, int n);\n",
    "char *_strncpy(char *dest, char *src, int n);\n",
    "int _strcmp(char *s1, char *s2);\n",
    "void reverse_array(int *a, int n);\n",
    "\n",
    "#endif\n"
   ]
  },
  {
   "cell_type": "code",
   "execution_count": 18,
   "metadata": {},
   "outputs": [
    {
     "name": "stdout",
     "output_type": "stream",
     "text": [
      "Overwriting 0x06-pointers_arrays_strings/4-rev_array.c\n"
     ]
    }
   ],
   "source": [
    "%%file 0x06-pointers_arrays_strings/4-rev_array.c\n",
    "#include \"main.h\"\n",
    "\n",
    "/**\n",
    " * reverse_array - Reverses the content of an array of integers\n",
    " * @a: Pointer to the array of integers\n",
    " * @n: The number of elements in the array\n",
    " */\n",
    "\n",
    "void reverse_array(int *a, int n)\n",
    "{\n",
    "\n",
    "int i;\n",
    "int temp;\n",
    "\n",
    "/* Loop from the start of th earray to the middle */\n",
    "\n",
    "for (i = 0; i < n / 2; i++)\n",
    "{\n",
    "/* Swap elements from the start and the end */\n",
    "temp = a[i];\n",
    "a[i] = a[n - 1 - i];\n",
    "a[n - 1 - i] = temp;\n",
    "\n",
    "}\n",
    "\n",
    "}\n"
   ]
  },
  {
   "cell_type": "code",
   "execution_count": 19,
   "metadata": {},
   "outputs": [
    {
     "name": "stdout",
     "output_type": "stream",
     "text": [
      "Overwriting 0x06-pointers_arrays_strings/4-rev_array.c\n"
     ]
    }
   ],
   "source": [
    "%%file 0x06-pointers_arrays_strings/4-rev_array.c\n",
    "#include \"main.h\"\n",
    "\n",
    "/**\n",
    "* reverse_array - Reverses the content of an array of integers\n",
    "* @a: Pointer to the array of integers\n",
    "* @n: The number of elements in the array\n",
    "*/\n",
    "\n",
    "void reverse_array(int *a, int n)\n",
    "{\n",
    "int left = 0;\n",
    "int right = n - 1;\n",
    "\n",
    "/* Loop until left and right pointers meet or cross */\n",
    "while (left < right)\n",
    "{\n",
    "/* Swap elements at left and right indices */\n",
    "int temp = a[left];\n",
    "a[left] = a[right];\n",
    "a[right] = temp;\n",
    "\n",
    "/* Move pointers towards the middle */\n",
    "\n",
    "left++;\n",
    "right--;\n",
    "}\n",
    "}\n"
   ]
  },
  {
   "cell_type": "code",
   "execution_count": 20,
   "metadata": {},
   "outputs": [
    {
     "name": "stdout",
     "output_type": "stream",
     "text": [
      "Overwriting 0x06-pointers_arrays_strings/_putchar.c\n"
     ]
    }
   ],
   "source": [
    "%%file 0x06-pointers_arrays_strings/_putchar.c\n",
    "#include <unistd.h>\n",
    "#include \"main.h\"\n",
    "/**\n",
    " * _putchar - writes the character c to stdout\n",
    " * @c: The character to print\n",
    " *\n",
    " * Return: On success 1.\n",
    " * On error, -1 is returned, and errno is set appropriately.\n",
    " */\n",
    "int _putchar(char c)\n",
    "{\n",
    "\treturn (write(1, &c, 1));\n",
    "}\n"
   ]
  },
  {
   "cell_type": "code",
   "execution_count": 21,
   "metadata": {},
   "outputs": [
    {
     "name": "stdout",
     "output_type": "stream",
     "text": [
      "\n",
      "========== 0x06-pointers_arrays_strings/4-rev_array.c ==========\n",
      "reverse_array\n",
      "0, 1, 2, 3, 4, 5, 6, 7, 8, 9, 98, 1024, 1337\n",
      "1337, 1024, 98, 9, 8, 7, 6, 5, 4, 3, 2, 1, 0\n"
     ]
    }
   ],
   "source": [
    "%%bash\n",
    "betty 0x06-pointers_arrays_strings/4-rev_array.c\n",
    "gcc -Wall -pedantic -Werror -Wextra -std=gnu89 0x06-pointers_arrays_strings/4-main.c 0x06-pointers_arrays_strings/4-rev_array.c -o 0x06-pointers_arrays_strings/4-rev_array\n",
    "./0x06-pointers_arrays_strings/4-rev_array"
   ]
  },
  {
   "cell_type": "code",
   "execution_count": 22,
   "metadata": {},
   "outputs": [
    {
     "name": "stdout",
     "output_type": "stream",
     "text": [
      "[main 710a1b0] alx-low_level_programming/0x06-pointers_arrays_strings\n",
      " 4 files changed, 69 insertions(+)\n",
      " create mode 100644 0x06-pointers_arrays_strings/4-main.c\n",
      " create mode 100755 0x06-pointers_arrays_strings/4-rev_array\n",
      " create mode 100644 0x06-pointers_arrays_strings/4-rev_array.c\n"
     ]
    },
    {
     "name": "stderr",
     "output_type": "stream",
     "text": [
      "To github.com:elkomysara/alx-low_level_programming.git\n",
      "   e2cb608..710a1b0  main -> main\n"
     ]
    }
   ],
   "source": [
    "%%bash\n",
    "git add .\n",
    "git commit -m \"alx-low_level_programming/0x06-pointers_arrays_strings\"\n",
    "git push"
   ]
  },
  {
   "cell_type": "markdown",
   "metadata": {},
   "source": [
    "###\n",
    "---\n",
    "<center>\n",
    "<h4> 5. Always look up\n",
    " </h4>\n",
    "</center>\n",
    "\n",
    "---"
   ]
  },
  {
   "cell_type": "markdown",
   "metadata": {},
   "source": [
    "\n",
    "####  Write a function that changes all lowercase letters of a string to uppercase.\n",
    "\n",
    "* Prototype: `char *string_toupper(char *);`\n",
    "\n",
    "```bash\n",
    "julien@ubuntu:~/0x06$ cat 5-main.c\n",
    "#include \"main.h\"\n",
    "#include <stdio.h>\n",
    "\n",
    "/**\n",
    " * main - check the code\n",
    " *\n",
    " * Return: Always 0.\n",
    " */\n",
    "int main(void)\n",
    "{\n",
    "    char str[] = \"Look up!\\n\";\n",
    "    char *ptr;\n",
    "\n",
    "    ptr = string_toupper(str);\n",
    "    printf(\"%s\", ptr);\n",
    "    printf(\"%s\", str);\n",
    "    return (0);\n",
    "}\n",
    "julien@ubuntu:~/0x06$ gcc -Wall -pedantic -Werror -Wextra -std=gnu89 5-main.c 5-string_toupper.c -o 5-string_toupper\n",
    "julien@ubuntu:~/0x06$ ./5-string_toupper \n",
    "LOOK UP!\n",
    "LOOK UP!\n",
    "julien@ubuntu:~/0x06$ \n",
    "```\n",
    "\n",
    "#### Repo:\n",
    "* GitHub repository: ``` alx-low_level_programming ```\n",
    "* Directory: ```0x06-pointers_arrays_strings``` \n",
    "* File: ```5-string_toupper.c```"
   ]
  },
  {
   "cell_type": "code",
   "execution_count": 30,
   "metadata": {},
   "outputs": [
    {
     "name": "stdout",
     "output_type": "stream",
     "text": [
      "Overwriting 0x06-pointers_arrays_strings/5-main.c\n"
     ]
    }
   ],
   "source": [
    "%%file 0x06-pointers_arrays_strings/5-main.c\n",
    "#include \"main.h\"\n",
    "#include <stdio.h>\n",
    "\n",
    "/**\n",
    " * main - check the code\n",
    " *\n",
    " * Return: Always 0.\n",
    " */\n",
    "int main(void)\n",
    "{\n",
    "    char str[] = \"Look up!\\n\";\n",
    "    char *ptr;\n",
    "\n",
    "    ptr = string_toupper(str);\n",
    "    printf(\"%s\", ptr);\n",
    "    printf(\"%s\", str);\n",
    "    return (0);\n",
    "}"
   ]
  },
  {
   "cell_type": "code",
   "execution_count": 25,
   "metadata": {},
   "outputs": [
    {
     "name": "stdout",
     "output_type": "stream",
     "text": [
      "Overwriting 0x06-pointers_arrays_strings/main.h\n"
     ]
    }
   ],
   "source": [
    "%%file 0x06-pointers_arrays_strings/main.h\n",
    "#ifndef FILE_MAIN\n",
    "#define FILE_MAIN\n",
    "\n",
    "#include <stdio.h>\n",
    "\n",
    "int _putchar(char c);\n",
    "void reset_to_98(int *n);\n",
    "void swap_int(int *a, int *b);\n",
    "int _strlen(char *s);\n",
    "void _puts(char *str);\n",
    "void print_rev(char *s);\n",
    "void rev_string(char *s);\n",
    "char *string_toupper(char *);\n",
    "char *cap_string(char *);\n",
    "\n",
    "#endif\n"
   ]
  },
  {
   "cell_type": "code",
   "execution_count": 13,
   "metadata": {},
   "outputs": [
    {
     "name": "stdout",
     "output_type": "stream",
     "text": [
      "Overwriting 0x06-pointers_arrays_strings/5-string_toupper.c\n"
     ]
    }
   ],
   "source": [
    "%%file 0x06-pointers_arrays_strings/5-string_toupper.c\n",
    "#include \"main.h\"\n",
    "\n",
    "/**\n",
    "* string_toupper - Changes all lowercase letters of a string to uppercase\n",
    "* @str: The string to be converted\n",
    "*\n",
    "* Return: A pointer to the converted string\n",
    "*/\n",
    "\n",
    "char *string_toupper(char *str)\n",
    "{\n",
    "char *ptr = str;\n",
    "while (*ptr)\n",
    "{\n",
    "\n",
    "if (*ptr >= 'a' && *ptr <= 'z')\n",
    "{\n",
    "/* *ptr = *ptr - ('a' - 'A'); */\n",
    "*ptr -= 'a' - 'A';\n",
    "}\n",
    "\n",
    "ptr++;\n",
    "}\n",
    "return (str);\n",
    "}\n"
   ]
  },
  {
   "cell_type": "code",
   "execution_count": 14,
   "metadata": {},
   "outputs": [
    {
     "name": "stdout",
     "output_type": "stream",
     "text": [
      "\n",
      "========== 0x06-pointers_arrays_strings/5-string_toupper.c ==========\n",
      "string_toupper\n",
      "LOOK UP!\n",
      "LOOK UP!\n"
     ]
    }
   ],
   "source": [
    "%%bash\n",
    "betty 0x06-pointers_arrays_strings/5-string_toupper.c\n",
    "gcc -Wall -pedantic -Werror -Wextra -std=gnu89 0x06-pointers_arrays_strings/5-main.c 0x06-pointers_arrays_strings/5-string_toupper.c -o 0x06-pointers_arrays_strings/5-string_toupper\n",
    "./0x06-pointers_arrays_strings/5-string_toupper"
   ]
  },
  {
   "cell_type": "code",
   "execution_count": 15,
   "metadata": {},
   "outputs": [
    {
     "name": "stdout",
     "output_type": "stream",
     "text": [
      "[main d932b0e] alx-low_level_programming/0x06-pointers_arrays_strings\n",
      " 1 file changed, 1 insertion(+), 1 deletion(-)\n"
     ]
    },
    {
     "name": "stderr",
     "output_type": "stream",
     "text": [
      "To github.com:elkomysara/alx-low_level_programming.git\n",
      "   ee4ac65..d932b0e  main -> main\n"
     ]
    }
   ],
   "source": [
    "%%bash\n",
    "git add .\n",
    "git commit -m \"alx-low_level_programming/0x06-pointers_arrays_strings\"\n",
    "git push"
   ]
  },
  {
   "cell_type": "code",
   "execution_count": null,
   "metadata": {},
   "outputs": [],
   "source": []
  },
  {
   "cell_type": "markdown",
   "metadata": {},
   "source": [
    "###\n",
    "---\n",
    "<center>\n",
    "<h4> 6. Expect the best. Prepare for the worst. Capitalize on what comes\n",
    " </h4>\n",
    "</center>\n",
    "\n",
    "---"
   ]
  },
  {
   "cell_type": "markdown",
   "metadata": {},
   "source": [
    "\n",
    "####  Write a function that capitalizes all words of a string.\n",
    "\n",
    "* Prototype: `char *cap_string(char *);`\n",
    "* Separators of words: space, tabulation, new line, `,`, `;`, `.`, `!`, `?`, `\"`, `(`, `)`, `{`, and `}`\n",
    "\n",
    "```bash\n",
    "julien@ubuntu:~/0x06$ cat 6-main.c\n",
    "#include \"main.h\"\n",
    "#include <stdio.h>\n",
    "\n",
    "/**\n",
    " * main - check the code\n",
    " *\n",
    " * Return: Always 0.\n",
    " */\n",
    "int main(void)\n",
    "{\n",
    "    char str[] = \"Expect the best. Prepare for the worst. Capitalize on what comes.\\nhello world! hello-world 0123456hello world\\thello world.hello world\\n\";\n",
    "    char *ptr;\n",
    "\n",
    "    ptr = cap_string(str);\n",
    "    printf(\"%s\", ptr);\n",
    "    printf(\"%s\", str);\n",
    "    return (0);\n",
    "}\n",
    "julien@ubuntu:~/0x06$ gcc -Wall -pedantic -Werror -Wextra -std=gnu89 6-main.c 6-cap_string.c -o 6-cap\n",
    "julien@ubuntu:~/0x06$ ./6-cap \n",
    "Expect The Best. Prepare For The Worst. Capitalize On What Comes.\n",
    "Hello World! Hello-world 0123456hello World Hello World.Hello World\n",
    "Expect The Best. Prepare For The Worst. Capitalize On What Comes.\n",
    "Hello World! Hello-world 0123456hello World Hello World.Hello World\n",
    "julien@ubuntu:~/0x06$   \n",
    "```\n",
    "\n",
    "#### Repo:\n",
    "* GitHub repository: ``` alx-low_level_programming ```\n",
    "* Directory: ```0x06-pointers_arrays_strings``` \n",
    "* File: ```6-cap_string.c```"
   ]
  },
  {
   "cell_type": "code",
   "execution_count": 1,
   "metadata": {},
   "outputs": [
    {
     "name": "stdout",
     "output_type": "stream",
     "text": [
      "Writing 0x06-pointers_arrays_strings/6-main.c\n"
     ]
    }
   ],
   "source": [
    "%%file 0x06-pointers_arrays_strings/6-main.c\n",
    "#include \"main.h\"\n",
    "#include <stdio.h>\n",
    "\n",
    "/**\n",
    " * main - check the code\n",
    " *\n",
    " * Return: Always 0.\n",
    " */\n",
    "int main(void)\n",
    "{\n",
    "    char str[] = \"Expect the best. Prepare for the worst. Capitalize on what comes.\\nhello world! hello-world 0123456hello world\\thello world.hello world\\n\";\n",
    "    char *ptr;\n",
    "\n",
    "    ptr = cap_string(str);\n",
    "    printf(\"%s\", ptr);\n",
    "    printf(\"%s\", str);\n",
    "    return (0);\n",
    "}"
   ]
  },
  {
   "cell_type": "code",
   "execution_count": 2,
   "metadata": {},
   "outputs": [
    {
     "name": "stdout",
     "output_type": "stream",
     "text": [
      "Overwriting 0x06-pointers_arrays_strings/main.h\n"
     ]
    }
   ],
   "source": [
    "%%file 0x06-pointers_arrays_strings/main.h\n",
    "#ifndef FILE_MAIN\n",
    "#define FILE_MAIN\n",
    "\n",
    "#include <stdio.h>\n",
    "\n",
    "int _putchar(char c);\n",
    "void reset_to_98(int *n);\n",
    "void swap_int(int *a, int *b);\n",
    "int _strlen(char *s);\n",
    "void _puts(char *str);\n",
    "void print_rev(char *s);\n",
    "void rev_string(char *s);\n",
    "char *string_toupper(char *);\n",
    "char *cap_string(char *);\n",
    "\n",
    "#endif\n"
   ]
  },
  {
   "cell_type": "code",
   "execution_count": 5,
   "metadata": {},
   "outputs": [
    {
     "name": "stdout",
     "output_type": "stream",
     "text": [
      "Overwriting 0x06-pointers_arrays_strings/6-cap_string.c\n"
     ]
    }
   ],
   "source": [
    "%%file 0x06-pointers_arrays_strings/6-cap_string.c\n",
    "#include \"main.h\"\n",
    "\n",
    "int is_separator(char c);\n",
    "\n",
    "/**\n",
    "* cap_string - Capitalizes all words of a string\n",
    "* @s: The string to be modified\n",
    "*\n",
    "* Return: A pointer to the modified string\n",
    "*/\n",
    "char *cap_string(char *s)\n",
    "{\n",
    "int i = 0;\n",
    "\n",
    "/* Capitalize the first character if it is a lowercase letter */\n",
    "if (s[i] >= 'a' && s[i] <= 'z')\n",
    "{\n",
    "s[i] -= 'a' - 'A';\n",
    "}\n",
    "\n",
    "/* Iterate through the string */\n",
    "for (i = 1; s[i] != '\\0'; i++)\n",
    "{\n",
    "/* If the character is a separator and the next character  */\n",
    "/* is a lowercase letter, capitalize it */\n",
    "if (is_separator(s[i - 1]) && (s[i] >= 'a' && s[i] <= 'z'))\n",
    "{\n",
    "s[i] -= 'a' - 'A';\n",
    "}\n",
    "}\n",
    "\n",
    "return (s);\n",
    "}\n",
    "\n",
    "/**\n",
    "* is_separator - Checks if a character is a word separator\n",
    "* @c: The character to be checked\n",
    "*\n",
    "* Return: 1 if the character is a separator, 0 otherwise\n",
    "*/\n",
    "int is_separator(char c)\n",
    "{\n",
    "char separators[] = \" \\t\\n,;.!?\\\"(){}\";\n",
    "int i;\n",
    "\n",
    "for (i = 0; separators[i] != '\\0'; i++)\n",
    "{\n",
    "if (c == separators[i])\n",
    "{\n",
    "return (1);\n",
    "}\n",
    "}\n",
    "\n",
    "return (0);\n",
    "}\n",
    "\n",
    "\n"
   ]
  },
  {
   "cell_type": "code",
   "execution_count": 6,
   "metadata": {},
   "outputs": [
    {
     "name": "stdout",
     "output_type": "stream",
     "text": [
      "\n",
      "========== 0x06-pointers_arrays_strings/6-cap_string.c ==========\n",
      "cap_string\n",
      "is_separator\n",
      "Expect The Best. Prepare For The Worst. Capitalize On What Comes.\n",
      "Hello World! Hello-world 0123456hello World\tHello World.Hello World\n",
      "Expect The Best. Prepare For The Worst. Capitalize On What Comes.\n",
      "Hello World! Hello-world 0123456hello World\tHello World.Hello World\n"
     ]
    }
   ],
   "source": [
    "%%bash\n",
    "betty 0x06-pointers_arrays_strings/6-cap_string.c\n",
    "gcc -Wall -pedantic -Werror -Wextra -std=gnu89 0x06-pointers_arrays_strings/6-main.c 0x06-pointers_arrays_strings/6-cap_string.c -o 0x06-pointers_arrays_strings/6-cap_string\n",
    "./0x06-pointers_arrays_strings/6-cap_string"
   ]
  },
  {
   "cell_type": "code",
   "execution_count": 7,
   "metadata": {},
   "outputs": [
    {
     "name": "stdout",
     "output_type": "stream",
     "text": [
      "[main 0cbf964] alx-low_level_programming/0x06-pointers_arrays_strings\n",
      " 3 files changed, 161 insertions(+), 139 deletions(-)\n",
      " create mode 100755 0x06-pointers_arrays_strings/6-cap_string\n",
      " rewrite 0x06-pointers_arrays_strings/6-cap_string.c (93%)\n"
     ]
    },
    {
     "name": "stderr",
     "output_type": "stream",
     "text": [
      "To github.com:elkomysara/alx-low_level_programming.git\n",
      "   d932b0e..0cbf964  main -> main\n"
     ]
    }
   ],
   "source": [
    "%%bash\n",
    "git add .\n",
    "git commit -m \"alx-low_level_programming/0x06-pointers_arrays_strings\"\n",
    "git push"
   ]
  },
  {
   "cell_type": "code",
   "execution_count": null,
   "metadata": {},
   "outputs": [],
   "source": []
  },
  {
   "cell_type": "markdown",
   "metadata": {},
   "source": [
    "###\n",
    "---\n",
    "<center>\n",
    "<h4> 7. Mozart composed his music not for the elite, but for everybody\n",
    " </h4>\n",
    "</center>\n",
    "\n",
    "---"
   ]
  },
  {
   "cell_type": "markdown",
   "metadata": {},
   "source": [
    "\n",
    "####  Write a function that encodes a string into `1337`.\n",
    "\n",
    "Letters `a` and `A` should be replaced by `4`\n",
    "Letters `e` and `E` should be replaced by `3`\n",
    "Letters `o` and `O` should be replaced by `0`\n",
    "Letters `t` and `T` should be replaced by `7`\n",
    "Letters `l` and `L` should be replaced by `1`\n",
    "Prototype: `char *leet(char *);`\n",
    "You can only use one `if` in your code\n",
    "You can only use two loops in your code\n",
    "You are not allowed to use `switch`\n",
    "You are not allowed to use any ternary operation\n",
    "\n",
    "```bash\n",
    "julien@ubuntu:~/0x06$ cat 7-main.c\n",
    "#include \"main.h\"\n",
    "#include <stdio.h>\n",
    "\n",
    "/**\n",
    " * main - check the code for\n",
    " *\n",
    " * Return: Always 0.\n",
    " */\n",
    "int main(void)\n",
    "{\n",
    "    char s[] = \"Expect the best. Prepare for the worst. Capitalize on what comes.\\n\";\n",
    "    char *p;\n",
    "\n",
    "    p = leet(s);\n",
    "    printf(\"%s\", p);\n",
    "    printf(\"%s\", s);\n",
    "    return (0);\n",
    "}\n",
    "julien@ubuntu:~/0x06$ gcc -Wall -pedantic -Werror -Wextra -std=gnu89 7-main.c 7-leet.c -o 7-1337\n",
    "julien@ubuntu:~/0x06$ ./7-1337 \n",
    "3xp3c7 7h3 b3s7. Pr3p4r3 f0r 7h3 w0rs7. C4pi741iz3 0n wh47 c0m3s.\n",
    "3xp3c7 7h3 b3s7. Pr3p4r3 f0r 7h3 w0rs7. C4pi741iz3 0n wh47 c0m3s.\n",
    "julien@ubuntu:~/0x06$ \n",
    "```\n",
    "\n",
    "#### Repo:\n",
    "* GitHub repository: ``` alx-low_level_programming ```\n",
    "* Directory: ```0x06-pointers_arrays_strings``` \n",
    "* File: ```7-leet.c```"
   ]
  },
  {
   "cell_type": "code",
   "execution_count": 9,
   "metadata": {},
   "outputs": [
    {
     "name": "stdout",
     "output_type": "stream",
     "text": [
      "Overwriting 0x06-pointers_arrays_strings/7-main.c\n"
     ]
    }
   ],
   "source": [
    "%%file 0x06-pointers_arrays_strings/7-main.c\n",
    "#include \"main.h\"\n",
    "#include <stdio.h>\n",
    "\n",
    "/**\n",
    " * main - check the code for\n",
    " *\n",
    " * Return: Always 0.\n",
    " */\n",
    "int main(void)\n",
    "{\n",
    "    char s[] = \"Expect the best. Prepare for the worst. Capitalize on what comes.\\n\";\n",
    "    char *p;\n",
    "\n",
    "    p = leet(s);\n",
    "    printf(\"%s\", p);\n",
    "    printf(\"%s\", s);\n",
    "    return (0);\n",
    "}"
   ]
  },
  {
   "cell_type": "code",
   "execution_count": 19,
   "metadata": {},
   "outputs": [
    {
     "name": "stdout",
     "output_type": "stream",
     "text": [
      "Overwriting 0x06-pointers_arrays_strings/main.h\n"
     ]
    }
   ],
   "source": [
    "%%file 0x06-pointers_arrays_strings/main.h\n",
    "#ifndef FILE_MAIN\n",
    "#define FILE_MAIN\n",
    "\n",
    "#include <stdio.h>\n",
    "\n",
    "int _putchar(char c);\n",
    "void reset_to_98(int *n);\n",
    "void swap_int(int *a, int *b);\n",
    "int _strlen(char *s);\n",
    "void _puts(char *str);\n",
    "void print_rev(char *s);\n",
    "void rev_string(char *s);\n",
    "void puts2(char *str);\n",
    "void puts_half(char *str);\n",
    "char *leet(char *);\n",
    "#endif\n"
   ]
  },
  {
   "cell_type": "code",
   "execution_count": 26,
   "metadata": {},
   "outputs": [
    {
     "name": "stdout",
     "output_type": "stream",
     "text": [
      "Overwriting 0x06-pointers_arrays_strings/7-leet.c\n"
     ]
    }
   ],
   "source": [
    "%%file 0x06-pointers_arrays_strings/7-leet.c\n",
    "#include \"main.h\"\n",
    "/**\n",
    "* leet - encodes a string into 1337\n",
    "* @str: input string\n",
    "*\n",
    "* Return: string\n",
    "*/\n",
    "char *leet(char *str)\n",
    "{\n",
    "char *ptr = str;\n",
    "unsigned char leet_map[256] = {0};  /* Initialize all elements to 0 */\n",
    "\n",
    "/* Map lowercase and uppercase letters to their 1337 equivalents */\n",
    "leet_map['a'] = leet_map['A'] = '4';\n",
    "leet_map['e'] = leet_map['E'] = '3';\n",
    "leet_map['o'] = leet_map['O'] = '0';\n",
    "leet_map['t'] = leet_map['T'] = '7';\n",
    "leet_map['l'] = leet_map['L'] = '1';\n",
    "\n",
    "/* First loop: traverse the string */\n",
    "while (*ptr)\n",
    "{\n",
    "/* Second loop: only happens if the current character is a mapped character */\n",
    "if (leet_map[(unsigned char)*ptr])\n",
    "{\n",
    "*ptr = leet_map[(unsigned char)*ptr];\n",
    "}\n",
    "ptr++;\n",
    "}\n",
    "\n",
    "return (str);\n",
    "}"
   ]
  },
  {
   "cell_type": "code",
   "execution_count": 27,
   "metadata": {},
   "outputs": [
    {
     "name": "stdout",
     "output_type": "stream",
     "text": [
      "\n",
      "========== 0x06-pointers_arrays_strings/7-leet.c ==========\n"
     ]
    },
    {
     "name": "stdout",
     "output_type": "stream",
     "text": [
      "leet\n",
      "3xp3c7 7h3 b3s7. Pr3p4r3 f0r 7h3 w0rs7. C4pi741iz3 0n wh47 c0m3s.\n",
      "3xp3c7 7h3 b3s7. Pr3p4r3 f0r 7h3 w0rs7. C4pi741iz3 0n wh47 c0m3s.\n"
     ]
    }
   ],
   "source": [
    "%%bash\n",
    "betty 0x06-pointers_arrays_strings/7-leet.c\n",
    "gcc -Wall -pedantic -Werror -Wextra -std=gnu89 0x06-pointers_arrays_strings/7-main.c 0x06-pointers_arrays_strings/7-leet.c -o 0x06-pointers_arrays_strings/7-leet\n",
    "./0x06-pointers_arrays_strings/7-leet"
   ]
  },
  {
   "cell_type": "code",
   "execution_count": 28,
   "metadata": {},
   "outputs": [
    {
     "name": "stdout",
     "output_type": "stream",
     "text": [
      "[main 698c6be] alx-low_level_programming/0x06-pointers_arrays_strings\n",
      " 4 files changed, 53 insertions(+), 3 deletions(-)\n",
      " create mode 100755 0x06-pointers_arrays_strings/7-leet\n",
      " create mode 100644 0x06-pointers_arrays_strings/7-leet.c\n",
      " create mode 100644 0x06-pointers_arrays_strings/7-main.c\n"
     ]
    },
    {
     "name": "stderr",
     "output_type": "stream",
     "text": [
      "To github.com:elkomysara/alx-low_level_programming.git\n",
      "   0cbf964..698c6be  main -> main\n"
     ]
    }
   ],
   "source": [
    "%%bash\n",
    "git add .\n",
    "git commit -m \"alx-low_level_programming/0x06-pointers_arrays_strings\"\n",
    "git push"
   ]
  },
  {
   "cell_type": "markdown",
   "metadata": {},
   "source": [
    "###\n",
    "---\n",
    "<center>\n",
    "<h4> 8. rot13\n",
    " </h4>\n",
    "</center>\n",
    "\n",
    "---"
   ]
  },
  {
   "cell_type": "markdown",
   "metadata": {},
   "source": [
    "\n",
    "####  Write a function that encodes a string using rot13.\n",
    "\n",
    "* Prototype: `char *rot13(char *);`\n",
    "* You can only use `if` statement once in your code\n",
    "* You can only use two loops in your code\n",
    "* You are not allowed to use `switch`\n",
    "* You are not allowed to use any ternary operation\n",
    "\n",
    "```bash\n",
    "julien@ubuntu:~/0x06$ cat 100-main.c\n",
    "#include \"main.h\"\n",
    "#include <stdio.h>\n",
    "\n",
    "/**\n",
    " * main - check the code\n",
    " *\n",
    " * Return: Always 0.\n",
    " */\n",
    "int main(void)\n",
    "{\n",
    "    char s[] = \"ROT13 (\\\"rotate by 13 places\\\", sometimes hyphenated ROT-13) is a simple letter substitution cipher.\\n\";\n",
    "    char *p;\n",
    "\n",
    "    p = rot13(s);\n",
    "    printf(\"%s\", p);\n",
    "    printf(\"------------------------------------\\n\");\n",
    "    printf(\"%s\", s);\n",
    "    printf(\"------------------------------------\\n\");\n",
    "    p = rot13(s);\n",
    "    printf(\"%s\", p);\n",
    "    printf(\"------------------------------------\\n\");\n",
    "    printf(\"%s\", s);\n",
    "    printf(\"------------------------------------\\n\");\n",
    "    p = rot13(s);\n",
    "    printf(\"%s\", p);\n",
    "    printf(\"------------------------------------\\n\");\n",
    "    printf(\"%s\", s);\n",
    "    return (0);\n",
    "}\n",
    "julien@ubuntu:~/0x06$ gcc -Wall -pedantic -Werror -Wextra -std=gnu89 100-main.c 100-rot13.c -o 100-rot13\n",
    "julien@ubuntu:~/0x06$ ./100-rot13 \n",
    "EBG13 (\"ebgngr ol 13 cynprf\", fbzrgvzrf ulcurangrq EBG-13) vf n fvzcyr yrggre fhofgvghgvba pvcure.\n",
    "------------------------------------\n",
    "EBG13 (\"ebgngr ol 13 cynprf\", fbzrgvzrf ulcurangrq EBG-13) vf n fvzcyr yrggre fhofgvghgvba pvcure.\n",
    "------------------------------------\n",
    "ROT13 (\"rotate by 13 places\", sometimes hyphenated ROT-13) is a simple letter substitution cipher.\n",
    "------------------------------------\n",
    "ROT13 (\"rotate by 13 places\", sometimes hyphenated ROT-13) is a simple letter substitution cipher.\n",
    "------------------------------------\n",
    "EBG13 (\"ebgngr ol 13 cynprf\", fbzrgvzrf ulcurangrq EBG-13) vf n fvzcyr yrggre fhofgvghgvba pvcure.\n",
    "------------------------------------\n",
    "EBG13 (\"ebgngr ol 13 cynprf\", fbzrgvzrf ulcurangrq EBG-13) vf n fvzcyr yrggre fhofgvghgvba pvcure.\n",
    "julien@ubuntu:~/0x06$ ```\n",
    "\n",
    "#### Repo:\n",
    "* GitHub repository: ``` alx-low_level_programming ```\n",
    "* Directory: ```0x06-pointers_arrays_strings``` \n",
    "* File: ```100-rot13.c```"
   ]
  },
  {
   "cell_type": "code",
   "execution_count": 1,
   "metadata": {},
   "outputs": [
    {
     "name": "stdout",
     "output_type": "stream",
     "text": [
      "Overwriting 0x06-pointers_arrays_strings/100-main.c\n"
     ]
    }
   ],
   "source": [
    "%%file 0x06-pointers_arrays_strings/100-main.c\n",
    "#include \"main.h\"\n",
    "#include <stdio.h>\n",
    "\n",
    "/**\n",
    " * main - check the code\n",
    " *\n",
    " * Return: Always 0.\n",
    " */\n",
    "int main(void)\n",
    "{\n",
    "    char s[] = \"ROT13 (\\\"rotate by 13 places\\\", sometimes hyphenated ROT-13) is a simple letter substitution cipher.\\n\";\n",
    "    char *p;\n",
    "\n",
    "    p = rot13(s);\n",
    "    printf(\"%s\", p);\n",
    "    printf(\"------------------------------------\\n\");\n",
    "    printf(\"%s\", s);\n",
    "    printf(\"------------------------------------\\n\");\n",
    "    p = rot13(s);\n",
    "    printf(\"%s\", p);\n",
    "    printf(\"------------------------------------\\n\");\n",
    "    printf(\"%s\", s);\n",
    "    printf(\"------------------------------------\\n\");\n",
    "    p = rot13(s);\n",
    "    printf(\"%s\", p);\n",
    "    printf(\"------------------------------------\\n\");\n",
    "    printf(\"%s\", s);\n",
    "    return (0);\n",
    "}"
   ]
  },
  {
   "cell_type": "code",
   "execution_count": 2,
   "metadata": {},
   "outputs": [
    {
     "name": "stdout",
     "output_type": "stream",
     "text": [
      "Overwriting 0x06-pointers_arrays_strings/main.h\n"
     ]
    }
   ],
   "source": [
    "%%file 0x06-pointers_arrays_strings/main.h\n",
    "#ifndef FILE_MAIN\n",
    "#define FILE_MAIN\n",
    "\n",
    "#include <stdio.h>\n",
    "\n",
    "int _putchar(char c);\n",
    "void reset_to_98(int *n);\n",
    "void swap_int(int *a, int *b);\n",
    "int _strlen(char *s);\n",
    "void _puts(char *str);\n",
    "void print_rev(char *s);\n",
    "void rev_string(char *s);\n",
    "void puts2(char *str);\n",
    "void puts_half(char *str);\n",
    "void print_array(int *a, int n);\n",
    "char *rot13(char *);\n",
    "\n",
    "#endif\n"
   ]
  },
  {
   "cell_type": "code",
   "execution_count": 3,
   "metadata": {},
   "outputs": [
    {
     "name": "stdout",
     "output_type": "stream",
     "text": [
      "Overwriting 0x06-pointers_arrays_strings/100-rot13.c\n"
     ]
    }
   ],
   "source": [
    "%%file 0x06-pointers_arrays_strings/100-rot13.c\n",
    "#include \"main.h\"\n",
    "#include <stdio.h>\n",
    "\n",
    "/**\n",
    "* rot13 - encodes a string using rot13\n",
    "* @str: the input string to be encoded\n",
    "*\n",
    "* Description: This function encodes a string using the ROT13 cipher.\n",
    "*              ROT13 is a simple letter substitution cipher that replaces\n",
    "*              a letter with the letter 13 letters after it in the alphabet.\n",
    "*              It is primarily used for obfuscation.\n",
    "*              This implementation uses a single 'if' statement\n",
    "*              and two loops, adhering to specific constraints.\n",
    "*\n",
    "* Return: The encoded string\n",
    "*/\n",
    "\n",
    "char *rot13(char *str)\n",
    "{\n",
    "char *ptr = str;\n",
    "char rot13_map[256] = {0};\n",
    "int i;\n",
    "/* populate the ROT13 mapping array */\n",
    "\n",
    "for (i = 0; i < 26; i++)\n",
    "{\n",
    "rot13_map['a' + i] = 'a' + (i + 13) % 26;\n",
    "rot13_map['A' + i] = 'A' + (i + 13) % 26;\n",
    "}\n",
    "\n",
    "/* Traverse the string and apply the ROT13 transformation */\n",
    "while (*ptr)\n",
    "{\n",
    "if (rot13_map[(unsigned char)*ptr])\n",
    "{\n",
    "*ptr = rot13_map[(unsigned char)*ptr];\n",
    "}\n",
    "ptr++;\n",
    "}\n",
    "\n",
    "return (str);\n",
    "\n",
    "}\n",
    "\n"
   ]
  },
  {
   "cell_type": "code",
   "execution_count": 4,
   "metadata": {},
   "outputs": [
    {
     "name": "stdout",
     "output_type": "stream",
     "text": [
      "\n",
      "========== 0x06-pointers_arrays_strings/100-rot13.c ==========\n"
     ]
    },
    {
     "name": "stdout",
     "output_type": "stream",
     "text": [
      "rot13\n",
      "EBG13 (\"ebgngr ol 13 cynprf\", fbzrgvzrf ulcurangrq EBG-13) vf n fvzcyr yrggre fhofgvghgvba pvcure.\n",
      "------------------------------------\n",
      "EBG13 (\"ebgngr ol 13 cynprf\", fbzrgvzrf ulcurangrq EBG-13) vf n fvzcyr yrggre fhofgvghgvba pvcure.\n",
      "------------------------------------\n",
      "ROT13 (\"rotate by 13 places\", sometimes hyphenated ROT-13) is a simple letter substitution cipher.\n",
      "------------------------------------\n",
      "ROT13 (\"rotate by 13 places\", sometimes hyphenated ROT-13) is a simple letter substitution cipher.\n",
      "------------------------------------\n",
      "EBG13 (\"ebgngr ol 13 cynprf\", fbzrgvzrf ulcurangrq EBG-13) vf n fvzcyr yrggre fhofgvghgvba pvcure.\n",
      "------------------------------------\n",
      "EBG13 (\"ebgngr ol 13 cynprf\", fbzrgvzrf ulcurangrq EBG-13) vf n fvzcyr yrggre fhofgvghgvba pvcure.\n"
     ]
    }
   ],
   "source": [
    "%%bash\n",
    "betty 0x06-pointers_arrays_strings/100-rot13.c\n",
    "gcc -Wall -pedantic -Werror -Wextra -std=gnu89 0x06-pointers_arrays_strings/100-main.c 0x06-pointers_arrays_strings/100-rot13.c -o 0x06-pointers_arrays_strings/100-rot13 && ./0x06-pointers_arrays_strings/100-rot13"
   ]
  },
  {
   "cell_type": "code",
   "execution_count": 5,
   "metadata": {},
   "outputs": [
    {
     "name": "stdout",
     "output_type": "stream",
     "text": [
      "[main bb7feb3] alx-low_level_programming/0x06-pointers_arrays_strings\n",
      " 2 files changed, 19 insertions(+), 12 deletions(-)\n"
     ]
    },
    {
     "name": "stderr",
     "output_type": "stream",
     "text": [
      "To https://github.com/elkomysara/alx-low_level_programming.git\n",
      "   cf7ea63..bb7feb3  main -> main\n"
     ]
    }
   ],
   "source": [
    "%%bash\n",
    "git add .\n",
    "git commit -m \"alx-low_level_programming/0x06-pointers_arrays_strings\"\n",
    "git push"
   ]
  },
  {
   "cell_type": "code",
   "execution_count": null,
   "metadata": {},
   "outputs": [],
   "source": []
  },
  {
   "cell_type": "markdown",
   "metadata": {},
   "source": [
    "###\n",
    "---\n",
    "<center>\n",
    "<h4> 9. Numbers have life; they're not just symbols on paper\n",
    " </h4>\n",
    "</center>\n",
    "\n",
    "---"
   ]
  },
  {
   "cell_type": "markdown",
   "metadata": {},
   "source": [
    "\n",
    "#### Write a function that prints an integer.\n",
    "\n",
    "* Prototype: `void print_number(int n);`\n",
    "* You can only use `_putchar` function to print\n",
    "* You are not allowed to use `long`\n",
    "* You are not allowed to use arrays or pointers\n",
    "* You are not allowed to hard-code special values\n",
    "\n",
    "```bash\n",
    "\n",
    "julien@ubuntu:~/0x06$ cat 101-main.c\n",
    "#include \"main.h\"\n",
    "\n",
    "/**\n",
    " * main - check the code\n",
    " *\n",
    " * Return: Always 0.\n",
    " */\n",
    "int main(void)\n",
    "{\n",
    "    print_number(98);\n",
    "    _putchar('\\n');\n",
    "    print_number(402);\n",
    "    _putchar('\\n');\n",
    "    print_number(1024);\n",
    "    _putchar('\\n');\n",
    "    print_number(0);\n",
    "    _putchar('\\n');\n",
    "    print_number(-98);\n",
    "    _putchar('\\n');\n",
    "    return (0);\n",
    "}\n",
    "julien@ubuntu:~/0x06$ gcc -Wall -pedantic -Werror -Wextra -std=gnu89 _putchar.c 101-main.c 101-print_number.c -o 101-print_numbers\n",
    "julien@ubuntu:~/0x06$ ./101-print_numbers \n",
    "98\n",
    "402\n",
    "1024\n",
    "0\n",
    "-98\n",
    "julien@ubuntu:~/0x06$ \n",
    "```\n",
    "\n",
    "#### Repo:\n",
    "* GitHub repository: ``` alx-low_level_programming ```\n",
    "* Directory: ```0x06-pointers_arrays_strings``` \n",
    "* File: ```101-print_number.c```"
   ]
  },
  {
   "cell_type": "code",
   "execution_count": 6,
   "metadata": {},
   "outputs": [
    {
     "name": "stdout",
     "output_type": "stream",
     "text": [
      "Overwriting 0x06-pointers_arrays_strings/101-main.c\n"
     ]
    }
   ],
   "source": [
    "%%file 0x06-pointers_arrays_strings/101-main.c\n",
    "#include \"main.h\"\n",
    "\n",
    "/**\n",
    " * main - check the code\n",
    " *\n",
    " * Return: Always 0.\n",
    " */\n",
    "int main(void)\n",
    "{\n",
    "    print_number(98);\n",
    "    _putchar('\\n');\n",
    "    print_number(402);\n",
    "    _putchar('\\n');\n",
    "    print_number(1024);\n",
    "    _putchar('\\n');\n",
    "    print_number(0);\n",
    "    _putchar('\\n');\n",
    "    print_number(-98);\n",
    "    _putchar('\\n');\n",
    "    return (0);\n",
    "}"
   ]
  },
  {
   "cell_type": "code",
   "execution_count": 25,
   "metadata": {},
   "outputs": [
    {
     "name": "stdout",
     "output_type": "stream",
     "text": [
      "Overwriting 0x06-pointers_arrays_strings/main.h\n"
     ]
    }
   ],
   "source": [
    "%%file 0x06-pointers_arrays_strings/main.h\n",
    "#ifndef FILE_MAIN\n",
    "#define FILE_MAIN\n",
    "\n",
    "#include <stdio.h>\n",
    "\n",
    "int _putchar(char c);\n",
    "void reset_to_98(int *n);\n",
    "void swap_int(int *a, int *b);\n",
    "int _strlen(char *s);\n",
    "void _puts(char *str);\n",
    "void print_rev(char *s);\n",
    "void rev_string(char *s);\n",
    "void puts2(char *str);\n",
    "void puts_half(char *str);\n",
    "void print_array(int *a, int n);\n",
    "char *_strcpy(char *dest, char *src);\n",
    "void print_number(int n);\n",
    "\n",
    "\n",
    "#endif\n"
   ]
  },
  {
   "cell_type": "code",
   "execution_count": 26,
   "metadata": {},
   "outputs": [
    {
     "name": "stdout",
     "output_type": "stream",
     "text": [
      "Overwriting 0x06-pointers_arrays_strings/101-print_number.c\n"
     ]
    }
   ],
   "source": [
    "%%file 0x06-pointers_arrays_strings/101-print_number.c\n",
    "#include <stdio.h>\n",
    "#include \"main.h\"\n",
    "/**\n",
    "* print_number - Prints integers.\n",
    "* @n: The integer to be printed\n",
    "*/\n",
    "void print_number(int n)\n",
    "{\n",
    "unsigned int num = n;\n",
    "if (n < 0)\n",
    "{\n",
    "_putchar('-');\n",
    "num = -num;\n",
    "}\n",
    "\n",
    "if (num / 10)  /* if (n / 10 != 0) */\n",
    "{\n",
    "print_number(num / 10);\n",
    "}\n",
    "_putchar((num % 10) + '0');\n",
    "}\n",
    "\n"
   ]
  },
  {
   "cell_type": "code",
   "execution_count": 9,
   "metadata": {},
   "outputs": [
    {
     "name": "stdout",
     "output_type": "stream",
     "text": [
      "Overwriting 0x06-pointers_arrays_strings/_putchar.c\n"
     ]
    }
   ],
   "source": [
    "%%file 0x06-pointers_arrays_strings/_putchar.c\n",
    "#include <unistd.h>\n",
    "#include \"main.h\"\n",
    "/**\n",
    " * _putchar - writes the character c to stdout\n",
    " * @c: The character to print\n",
    " *\n",
    " * Return: On success 1.\n",
    " * On error, -1 is returned, and errno is set appropriately.\n",
    " */\n",
    "int _putchar(char c)\n",
    "{\n",
    "\treturn (write(1, &c, 1));\n",
    "}\n"
   ]
  },
  {
   "cell_type": "code",
   "execution_count": 27,
   "metadata": {},
   "outputs": [
    {
     "name": "stdout",
     "output_type": "stream",
     "text": [
      "\n",
      "========== 0x06-pointers_arrays_strings/101-print_number.c ==========\n"
     ]
    },
    {
     "name": "stdout",
     "output_type": "stream",
     "text": [
      "print_number\n",
      "98\n",
      "402\n",
      "1024\n",
      "0\n",
      "-98\n"
     ]
    }
   ],
   "source": [
    "%%bash\n",
    "betty 0x06-pointers_arrays_strings/101-print_number.c\n",
    "gcc -Wall -pedantic -Werror -Wextra -std=gnu89 0x06-pointers_arrays_strings/_putchar.c 0x06-pointers_arrays_strings/101-main.c 0x06-pointers_arrays_strings/101-print_number.c -o 0x06-pointers_arrays_strings/101-print_number\n",
    "./0x06-pointers_arrays_strings/101-print_number"
   ]
  },
  {
   "cell_type": "code",
   "execution_count": 28,
   "metadata": {},
   "outputs": [
    {
     "name": "stdout",
     "output_type": "stream",
     "text": [
      "[main 0aedeff] alx-low_level_programming/0x06-pointers_arrays_strings\n",
      " 1 file changed, 1 insertion(+), 2 deletions(-)\n"
     ]
    },
    {
     "name": "stderr",
     "output_type": "stream",
     "text": [
      "To https://github.com/elkomysara/alx-low_level_programming.git\n",
      "   f020be8..0aedeff  main -> main\n"
     ]
    }
   ],
   "source": [
    "%%bash\n",
    "git add .\n",
    "git commit -m \"alx-low_level_programming/0x06-pointers_arrays_strings\"\n",
    "git push"
   ]
  },
  {
   "cell_type": "code",
   "execution_count": null,
   "metadata": {},
   "outputs": [],
   "source": []
  },
  {
   "cell_type": "markdown",
   "metadata": {},
   "source": [
    "###\n",
    "---\n",
    "<center>\n",
    "<h4> 10. A dream doesn't become reality through magic; it takes sweat, determination and hard work\n",
    " </h4>\n",
    "</center>\n",
    "\n",
    "---"
   ]
  },
  {
   "cell_type": "markdown",
   "metadata": {},
   "source": [
    "#### Add one line to [this code](https://github.com/alx-tools/make_magic_happen/blob/master/magic.c), so that the program prints `a[2] = 98`, followed by a new line.\n",
    "\n",
    "* You are not allowed to use the variable `a` in your new line of code\n",
    "* You are not allowed to modify the variable `p`\n",
    "* You can only write one statement\n",
    "* You are not allowed to use `,`\n",
    "* You are not allowed to code anything else than the line of expected line of code at the expected line\n",
    "* Your code should be written at line 19, before the `;`\n",
    "* Do not remove anything from the initial code (not even the comments)\n",
    "and don’t change anything but the line of code you are adding (don’t change the spaces to tabs!)\n",
    "* You are allowed to use the standard library\n",
    "\n",
    "\n",
    "#### Repo:\n",
    "* GitHub repository: ``` alx-low_level_programming ```\n",
    "* Directory: ```0x06-pointers_arrays_strings``` \n",
    "* File: ```102-magic.c```"
   ]
  },
  {
   "cell_type": "code",
   "execution_count": 12,
   "metadata": {},
   "outputs": [
    {
     "name": "stdout",
     "output_type": "stream",
     "text": [
      "Overwriting 0x06-pointers_arrays_strings/102-magic.c\n"
     ]
    }
   ],
   "source": [
    "%%file 0x06-pointers_arrays_strings/102-magic.c\n",
    "#include <stdio.h>\n",
    "\n",
    "int main(void)\n",
    "{\n",
    "  int n;\n",
    "  int a[5];\n",
    "  int *p;\n",
    "\n",
    "  a[2] = 1024;\n",
    "  p = &n;\n",
    "  /*\n",
    "   * write your line of code here...\n",
    "   * Remember:\n",
    "   * - you are not allowed to use a\n",
    "   * - you are not allowed to modify p\n",
    "   * - only one statement\n",
    "   * - you are not allowed to code anything else than this line of code\n",
    "   */\n",
    "  *(p + 5) = 98;\n",
    "  /* ...so that this prints 98\\n */\n",
    "  printf(\"a[2] = %d\\n\", a[2]);\n",
    "  return (0);\n",
    "}"
   ]
  },
  {
   "cell_type": "code",
   "execution_count": 13,
   "metadata": {},
   "outputs": [
    {
     "name": "stdout",
     "output_type": "stream",
     "text": [
      "\n",
      "========== 0x06-pointers_arrays_strings/102-magic.c ==========\n"
     ]
    },
    {
     "name": "stdout",
     "output_type": "stream",
     "text": [
      "0x06-pointers_arrays_strings/102-magic.c:5: WARNING: please, no spaces at the start of a line\n",
      "0x06-pointers_arrays_strings/102-magic.c:6: WARNING: please, no spaces at the start of a line\n",
      "0x06-pointers_arrays_strings/102-magic.c:7: WARNING: please, no spaces at the start of a line\n",
      "0x06-pointers_arrays_strings/102-magic.c:9: WARNING: please, no spaces at the start of a line\n",
      "0x06-pointers_arrays_strings/102-magic.c:10: WARNING: please, no spaces at the start of a line\n",
      "0x06-pointers_arrays_strings/102-magic.c:19: WARNING: please, no spaces at the start of a line\n",
      "0x06-pointers_arrays_strings/102-magic.c:21: WARNING: please, no spaces at the start of a line\n",
      "0x06-pointers_arrays_strings/102-magic.c:22: WARNING: please, no spaces at the start of a line\n",
      "total: 0 errors, 8 warnings, 23 lines checked\n"
     ]
    },
    {
     "name": "stderr",
     "output_type": "stream",
     "text": [
      "0x06-pointers_arrays_strings/102-magic.c:3: warning: no description found for function main\n"
     ]
    },
    {
     "name": "stdout",
     "output_type": "stream",
     "text": [
      "a[2] = 98\n"
     ]
    }
   ],
   "source": [
    "%%bash\n",
    "betty 0x06-pointers_arrays_strings/102-magic.c\n",
    "gcc -Wall -pedantic -Werror -Wextra -std=gnu89 -fsanitize=signed-integer-overflow  0x06-pointers_arrays_strings/102-magic.c -o 0x06-pointers_arrays_strings/magic\n",
    "./0x06-pointers_arrays_strings/magic"
   ]
  },
  {
   "cell_type": "code",
   "execution_count": 14,
   "metadata": {},
   "outputs": [
    {
     "name": "stdout",
     "output_type": "stream",
     "text": [
      "On branch main\n",
      "Your branch is up to date with 'origin/main'.\n"
     ]
    },
    {
     "name": "stdout",
     "output_type": "stream",
     "text": [
      "\n",
      "nothing to commit, working tree clean\n"
     ]
    },
    {
     "name": "stderr",
     "output_type": "stream",
     "text": [
      "Everything up-to-date\n"
     ]
    }
   ],
   "source": [
    "%%bash\n",
    "git add .\n",
    "git commit -m \"alx-low_level_programming/0x06-pointers_arrays_strings\"\n",
    "git push"
   ]
  },
  {
   "cell_type": "code",
   "execution_count": null,
   "metadata": {},
   "outputs": [],
   "source": []
  },
  {
   "cell_type": "markdown",
   "metadata": {},
   "source": [
    "###\n",
    "---\n",
    "<center>\n",
    "<h4> 11. It is the addition of strangeness to beauty that constitutes the romantic character in art\n",
    " </h4>\n",
    "</center>\n",
    "\n",
    "---"
   ]
  },
  {
   "cell_type": "markdown",
   "metadata": {},
   "source": [
    "#### CWrite a function that adds two numbers.\n",
    "\n",
    "* Prototype: `char *infinite_add(char *n1, char *n2, char *r, int size_r);`\n",
    "* Where `n1` and `n2` are the two numbers\n",
    "* `r` is the buffer that the function will use to store the result\n",
    "* `size_r` is the buffer size\n",
    "* The function returns a pointer to the result\n",
    "* You can assume that you will always get positive numbers, or `0`\n",
    "* You can assume that there will be only digits in the strings `n1` and `n2`\n",
    "* `n1` and `n2` will never be empty\n",
    "* If the result can not be stored in `r` the function must return `0`\n",
    "\n",
    "```bash\n",
    "julien@ubuntu:~/0x06$ cat 103-main.c\n",
    "#include \"main.h\"\n",
    "#include <stdio.h>\n",
    "\n",
    "/**\n",
    " * main - check the code\n",
    " *\n",
    " * Return: Always 0.\n",
    " */\n",
    "int main(void)\n",
    "{\n",
    "        char *n = \"1234567892434574367823574575678477685785645685876876774586734734563456453743756756784458\";\n",
    "        char *m = \"9034790663470697234682914569346259634958693246597324659762347956349265983465962349569346\";\n",
    "        char r[100];\n",
    "        char r2[10];\n",
    "        char r3[11];\n",
    "        char *res;\n",
    "\n",
    "        res = infinite_add(n, m, r, 100);\n",
    "        if (res == 0)\n",
    "        {\n",
    "                printf(\"Error\\n\");\n",
    "        }\n",
    "        else\n",
    "        {\n",
    "                printf(\"%s + %s = %s\\n\", n, m, res);\n",
    "        }\n",
    "        n = \"1234567890\";\n",
    "        m = \"1\";\n",
    "        res = infinite_add(n, m, r2, 10);\n",
    "        if (res == 0)\n",
    "        {\n",
    "                printf(\"Error\\n\");\n",
    "        }\n",
    "        else\n",
    "        {\n",
    "                printf(\"%s + %s = %s\\n\", n, m, res);\n",
    "        }\n",
    "        n = \"999999999\";\n",
    "        m = \"1\";\n",
    "        res = infinite_add(n, m, r2, 10);\n",
    "        if (res == 0)\n",
    "        {\n",
    "                printf(\"Error\\n\");\n",
    "        }\n",
    "        else\n",
    "        {\n",
    "                printf(\"%s + %s = %s\\n\", n, m, res);\n",
    "        }\n",
    "        res = infinite_add(n, m, r3, 11);\n",
    "        if (res == 0)\n",
    "        {\n",
    "                printf(\"Error\\n\");\n",
    "        }\n",
    "        else\n",
    "        {\n",
    "                printf(\"%s + %s = %s\\n\", n, m, res);\n",
    "        }\n",
    "        return (0);\n",
    "}\n",
    "julien@ubuntu:~/0x06$ gcc -Wall -pedantic -Werror -Wextra -std=gnu89 103-main.c 103-infinite_add.c -o 103-add\n",
    "julien@ubuntu:~/0x06$ ./103-add \n",
    "1234567892434574367823574575678477685785645685876876774586734734563456453743756756784458 + 9034790663470697234682914569346259634958693246597324659762347956349265983465962349569346 = 10269358555905271602506489145024737320744338932474201434349082690912722437209719106353804\n",
    "Error\n",
    "Error\n",
    "999999999 + 1 = 1000000000\n",
    "julien@ubuntu:~/0x06$ \n",
    "```\n",
    "\n",
    "#### Repo:\n",
    "* GitHub repository: ``` alx-low_level_programming ```\n",
    "* Directory: ```0x06-pointers_arrays_strings``` \n",
    "* File: ```103-infinite_add.c```"
   ]
  },
  {
   "cell_type": "code",
   "execution_count": 29,
   "metadata": {},
   "outputs": [
    {
     "name": "stdout",
     "output_type": "stream",
     "text": [
      "Overwriting 0x06-pointers_arrays_strings/103-infinite_add.c\n"
     ]
    }
   ],
   "source": [
    "%%file 0x06-pointers_arrays_strings/103-infinite_add.c\n",
    "\n",
    "#include \"main.h\"\n",
    "#include <string.h>\n",
    "\n",
    "/**\n",
    "* infinite_add - Adds two numbers stored as strings.\n",
    "* @n1: First number string.\n",
    "* @n2: Second number string.\n",
    "* @r: Buffer to store the result.\n",
    "* @size_r: Buffer size.\n",
    "*\n",
    "* Return: Pointer to the result, or 0 if it can't be stored in r.\n",
    "*/\n",
    "char *infinite_add(char *n1, char *n2, char *r, int size_r)\n",
    "{\n",
    "int len1 = strlen(n1);\n",
    "int len2 = strlen(n2);\n",
    "int carry = 0, sum = 0;\n",
    "int i = len1 - 1, j = len2 - 1, k = 0;\n",
    "int start;\n",
    "int end;\n",
    "\n",
    "if (size_r <= 0)\n",
    "return (0);\n",
    "\n",
    "while (i >= 0 || j >= 0 || carry)\n",
    "{\n",
    "if (k >= size_r - 1)\n",
    "return (0);\n",
    "sum = carry;\n",
    "if (i >= 0)\n",
    "sum += n1[i--] - '0';\n",
    "if (j >= 0)\n",
    "sum += n2[j--] - '0';\n",
    "carry = sum / 10;\n",
    "r[k++] = (sum % 10) + '0';\n",
    "}\n",
    "r[k] = '\\0';\n",
    "\n",
    "/* Reverse the result string */\n",
    "\n",
    "for (start = 0, end = k - 1; start < end; start++, end--)\n",
    "{\n",
    "char temp = r[start];\n",
    "r[start] = r[end];\n",
    "r[end] = temp;\n",
    "}\n",
    "\n",
    "return (r);\n",
    "}\n",
    "\n"
   ]
  },
  {
   "cell_type": "code",
   "execution_count": 30,
   "metadata": {},
   "outputs": [
    {
     "name": "stdout",
     "output_type": "stream",
     "text": [
      "Overwriting 0x06-pointers_arrays_strings/103-main.c\n"
     ]
    }
   ],
   "source": [
    "%%file 0x06-pointers_arrays_strings/103-main.c\n",
    "#include \"main.h\"\n",
    "#include <stdio.h>\n",
    "\n",
    "/**\n",
    " * main - check the code\n",
    " *\n",
    " * Return: Always 0.\n",
    " */\n",
    "int main(void)\n",
    "{\n",
    "        char *n = \"1234567892434574367823574575678477685785645685876876774586734734563456453743756756784458\";\n",
    "        char *m = \"9034790663470697234682914569346259634958693246597324659762347956349265983465962349569346\";\n",
    "        char r[100];\n",
    "        char r2[10];\n",
    "        char r3[11];\n",
    "        char *res;\n",
    "\n",
    "        res = infinite_add(n, m, r, 100);\n",
    "        if (res == 0)\n",
    "        {\n",
    "                printf(\"Error\\n\");\n",
    "        }\n",
    "        else\n",
    "        {\n",
    "                printf(\"%s + %s = %s\\n\", n, m, res);\n",
    "        }\n",
    "        n = \"1234567890\";\n",
    "        m = \"1\";\n",
    "        res = infinite_add(n, m, r2, 10);\n",
    "        if (res == 0)\n",
    "        {\n",
    "                printf(\"Error\\n\");\n",
    "        }\n",
    "        else\n",
    "        {\n",
    "                printf(\"%s + %s = %s\\n\", n, m, res);\n",
    "        }\n",
    "        n = \"999999999\";\n",
    "        m = \"1\";\n",
    "        res = infinite_add(n, m, r2, 10);\n",
    "        if (res == 0)\n",
    "        {\n",
    "                printf(\"Error\\n\");\n",
    "        }\n",
    "        else\n",
    "        {\n",
    "                printf(\"%s + %s = %s\\n\", n, m, res);\n",
    "        }\n",
    "        res = infinite_add(n, m, r3, 11);\n",
    "        if (res == 0)\n",
    "        {\n",
    "                printf(\"Error\\n\");\n",
    "        }\n",
    "        else\n",
    "        {\n",
    "                printf(\"%s + %s = %s\\n\", n, m, res);\n",
    "        }\n",
    "        return (0);\n",
    "}"
   ]
  },
  {
   "cell_type": "code",
   "execution_count": 31,
   "metadata": {},
   "outputs": [
    {
     "name": "stdout",
     "output_type": "stream",
     "text": [
      "Overwriting 0x06-pointers_arrays_strings/main.h\n"
     ]
    }
   ],
   "source": [
    "%%file 0x06-pointers_arrays_strings/main.h\n",
    "#ifndef FILE_MAIN\n",
    "#define FILE_MAIN\n",
    "\n",
    "#include <stdio.h>\n",
    "\n",
    "int _putchar(char c);\n",
    "void reset_to_98(int *n);\n",
    "void swap_int(int *a, int *b);\n",
    "int _strlen(char *s);\n",
    "void _puts(char *str);\n",
    "void print_rev(char *s);\n",
    "void rev_string(char *s);\n",
    "void puts2(char *str);\n",
    "void puts_half(char *str);\n",
    "void print_array(int *a, int n);\n",
    "char *_strcpy(char *dest, char *src);\n",
    "void print_number(int n);\n",
    "char *infinite_add(char *n1, char *n2, char *r, int size_r);\n",
    "\n",
    "#endif\n"
   ]
  },
  {
   "cell_type": "code",
   "execution_count": 32,
   "metadata": {},
   "outputs": [
    {
     "name": "stdout",
     "output_type": "stream",
     "text": [
      "\n",
      "========== 0x06-pointers_arrays_strings/103-infinite_add.c ==========\n"
     ]
    },
    {
     "name": "stdout",
     "output_type": "stream",
     "text": [
      "infinite_add\n",
      "1234567892434574367823574575678477685785645685876876774586734734563456453743756756784458 + 9034790663470697234682914569346259634958693246597324659762347956349265983465962349569346 = 10269358555905271602506489145024737320744338932474201434349082690912722437209719106353804\n",
      "Error\n",
      "Error\n",
      "999999999 + 1 = 1000000000\n"
     ]
    }
   ],
   "source": [
    "%%bash\n",
    "betty 0x06-pointers_arrays_strings/103-infinite_add.c\n",
    "gcc -Wall -pedantic -Werror -Wextra -std=gnu89 0x06-pointers_arrays_strings/103-main.c 0x06-pointers_arrays_strings/103-infinite_add.c -o 0x06-pointers_arrays_strings/103-add\n",
    "./0x06-pointers_arrays_strings/103-add"
   ]
  },
  {
   "cell_type": "code",
   "execution_count": 33,
   "metadata": {},
   "outputs": [
    {
     "name": "stdout",
     "output_type": "stream",
     "text": [
      "[main 09ee6b0] alx-low_level_programming/0x06-pointers_arrays_strings\n",
      " 1 file changed, 1 insertion(+), 1 deletion(-)\n"
     ]
    },
    {
     "name": "stderr",
     "output_type": "stream",
     "text": [
      "To https://github.com/elkomysara/alx-low_level_programming.git\n",
      "   0aedeff..09ee6b0  main -> main\n"
     ]
    }
   ],
   "source": [
    "%%bash\n",
    "git add .\n",
    "git commit -m \"alx-low_level_programming/0x06-pointers_arrays_strings\"\n",
    "git push"
   ]
  },
  {
   "cell_type": "code",
   "execution_count": null,
   "metadata": {},
   "outputs": [],
   "source": [
    "\n"
   ]
  },
  {
   "cell_type": "markdown",
   "metadata": {},
   "source": [
    "###\n",
    "---\n",
    "<center>\n",
    "<h4> 12. Noise is a buffer, more effective than cubicles or booth walls\n",
    " </h4>\n",
    "</center>\n",
    "\n",
    "---"
   ]
  },
  {
   "cell_type": "markdown",
   "metadata": {},
   "source": [
    "#### Write a function that prints a buffer.\n",
    "\n",
    "* Prototype: `void print_buffer(char *b, int size);`\n",
    "* The function must print the content of `size` bytes of the buffer pointed by `b`\n",
    "* The output should print 10 bytes per line\n",
    "* Each line starts with the position of the first byte of the line in hexadecimal (8 chars), starting with `0`\n",
    "* Each line shows the hexadecimal content (2 chars) of the buffer, 2 bytes at a time, separated by a space\n",
    "* Each line shows the content of the buffer. If the byte is a printable character, print the letter, if not, print .\n",
    "* Each line ends with a new line `\\n`\n",
    "If `size` is 0 or less, the output should be a new line only `\\n`\n",
    "* You are allowed to use the standard library\n",
    "The output should look like the following example, and formatted exactly the same way:\n",
    "```bash\n",
    "julien@ubuntu:~/0x06$ cat 104-main.c\n",
    "#include \"main.h\"\n",
    "#include <stdio.h>\n",
    "\n",
    "/**\n",
    " * main - check the code\n",
    " *\n",
    " * Return: Always 0.\n",
    " */\n",
    "int main(void)\n",
    "{\n",
    "    char buffer[] = \"This is a string!\\0And this is the rest of the #buffer :)\\1\\2\\3\\4\\5\\6\\7#cisfun\\n\\0\\0\\0\\0\\0\\0\\0\\0\\0\\0\\0\\0\\0\\0\\0\\0\\0\\0\\0\\x20\\x21\\x34\\x56#pointersarefun #infernumisfun\\n\";\n",
    "\n",
    "    printf(\"%s\\n\", buffer);\n",
    "    printf(\"---------------------------------\\n\");\n",
    "    print_buffer(buffer, sizeof(buffer));\n",
    "    return (0);\n",
    "}\n",
    "julien@ubuntu:~/0x06$ gcc -Wall -pedantic -Werror -Wextra -std=gnu89 104-main.c 104-print_buffer.c -o 104-buffer\n",
    "julien@ubuntu:~/0x06$ ./104-buffer \n",
    "This is a string!\n",
    "---------------------------------\n",
    "00000000: 5468 6973 2069 7320 6120 This is a \n",
    "0000000a: 7374 7269 6e67 2100 416e string!.An\n",
    "00000014: 6420 7468 6973 2069 7320 d this is \n",
    "0000001e: 7468 6520 7265 7374 206f the rest o\n",
    "00000028: 6620 7468 6520 2362 7566 f the #buf\n",
    "00000032: 6665 7220 3a29 0102 0304 fer :)....\n",
    "0000003c: 0506 0723 6369 7366 756e ...#cisfun\n",
    "00000046: 0a00 0000 0000 0000 0000 ..........\n",
    "00000050: 0000 0000 0000 0000 0000 ..........\n",
    "0000005a: 2021 3456 2370 6f69 6e74  !4V#point\n",
    "00000064: 6572 7361 7265 6675 6e20 ersarefun \n",
    "0000006e: 2369 6e66 6572 6e75 6d69 #infernumi\n",
    "00000078: 7366 756e 0a00           sfun..\n",
    "julien@ubuntu:~/0x06$ \n",
    "```\n",
    "\n",
    "#### Repo:\n",
    "* GitHub repository: ``` alx-low_level_programming ```\n",
    "* Directory: ```0x06-pointers_arrays_strings``` \n",
    "* File: ```104-print_buffer.c```"
   ]
  },
  {
   "cell_type": "code",
   "execution_count": 20,
   "metadata": {},
   "outputs": [
    {
     "name": "stdout",
     "output_type": "stream",
     "text": [
      "Overwriting 0x06-pointers_arrays_strings/104-print_buffer.c\n"
     ]
    }
   ],
   "source": [
    "%%file 0x06-pointers_arrays_strings/104-print_buffer.c\n",
    "\n",
    "#include \"main.h\"\n",
    "#include <stdio.h>\n",
    "\n",
    "/**\n",
    "* print_buffer - Prints a buffer.\n",
    "* @b: The buffer to be printed.\n",
    "* @size: The size of the buffer.\n",
    "*/\n",
    "void print_buffer(char *b, int size)\n",
    "{\n",
    "int i, j;\n",
    "\n",
    "if (size <= 0)\n",
    "{\n",
    "printf(\"\\n\");\n",
    "return;\n",
    "}\n",
    "\n",
    "for (i = 0; i < size; i += 10)\n",
    "{\n",
    "printf(\"%08x: \", i);\n",
    "\n",
    "for (j = 0; j < 10; j++)\n",
    "{\n",
    "if ((i + j) < size)\n",
    "printf(\"%02x\", b[i + j]);\n",
    "else\n",
    "printf(\"  \");\n",
    "if (j % 2)\n",
    "printf(\" \");\n",
    "}\n",
    "\n",
    "for (j = 0; j < 10 && (i + j) < size; j++)\n",
    "{\n",
    "if (b[i + j] >= 32 && b[i + j] <= 126)\n",
    "printf(\"%c\", b[i + j]);\n",
    "else\n",
    "printf(\".\");\n",
    "}\n",
    "\n",
    "printf(\"\\n\");\n",
    "}\n",
    "}\n",
    "\n"
   ]
  },
  {
   "cell_type": "code",
   "execution_count": 21,
   "metadata": {},
   "outputs": [
    {
     "name": "stdout",
     "output_type": "stream",
     "text": [
      "Overwriting 0x06-pointers_arrays_strings/main.h\n"
     ]
    }
   ],
   "source": [
    "%%file 0x06-pointers_arrays_strings/main.h\n",
    "#ifndef FILE_MAIN\n",
    "#define FILE_MAIN\n",
    "\n",
    "#include <stdio.h>\n",
    "\n",
    "int _putchar(char c);\n",
    "void reset_to_98(int *n);\n",
    "void swap_int(int *a, int *b);\n",
    "int _strlen(char *s);\n",
    "void _puts(char *str);\n",
    "void print_rev(char *s);\n",
    "void rev_string(char *s);\n",
    "void puts2(char *str);\n",
    "void puts_half(char *str);\n",
    "void print_array(int *a, int n);\n",
    "char *_strcpy(char *dest, char *src);\n",
    "void print_number(int n);\n",
    "char *infinite_add(char *n1, char *n2, char *r, int size_r);\n",
    "void print_buffer(char *b, int size);\n",
    "\n",
    "#endif\n"
   ]
  },
  {
   "cell_type": "code",
   "execution_count": 22,
   "metadata": {},
   "outputs": [
    {
     "name": "stdout",
     "output_type": "stream",
     "text": [
      "Overwriting 0x06-pointers_arrays_strings/104-main.c\n"
     ]
    }
   ],
   "source": [
    "%%file 0x06-pointers_arrays_strings/104-main.c\n",
    "#include \"main.h\"\n",
    "#include <stdio.h>\n",
    "\n",
    "/**\n",
    " * main - check the code\n",
    " *\n",
    " * Return: Always 0.\n",
    " */\n",
    "int main(void)\n",
    "{\n",
    "    char buffer[] = \"This is a string!\\0And this is the rest of the #buffer :)\\1\\2\\3\\4\\5\\6\\7#cisfun\\n\\0\\0\\0\\0\\0\\0\\0\\0\\0\\0\\0\\0\\0\\0\\0\\0\\0\\0\\0\\x20\\x21\\x34\\x56#pointersarefun #infernumisfun\\n\";\n",
    "\n",
    "    printf(\"%s\\n\", buffer);\n",
    "    printf(\"---------------------------------\\n\");\n",
    "    print_buffer(buffer, sizeof(buffer));\n",
    "    return (0);\n",
    "}"
   ]
  },
  {
   "cell_type": "code",
   "execution_count": 23,
   "metadata": {},
   "outputs": [
    {
     "name": "stdout",
     "output_type": "stream",
     "text": [
      "\n",
      "========== 0x06-pointers_arrays_strings/104-print_buffer.c ==========\n"
     ]
    },
    {
     "name": "stdout",
     "output_type": "stream",
     "text": [
      "print_buffer\n",
      "This is a string!\n",
      "---------------------------------\n",
      "00000000: 5468 6973 2069 7320 6120 This is a \n",
      "0000000a: 7374 7269 6e67 2100 416e string!.An\n",
      "00000014: 6420 7468 6973 2069 7320 d this is \n",
      "0000001e: 7468 6520 7265 7374 206f the rest o\n",
      "00000028: 6620 7468 6520 2362 7566 f the #buf\n",
      "00000032: 6665 7220 3a29 0102 0304 fer :)....\n",
      "0000003c: 0506 0723 6369 7366 756e ...#cisfun\n",
      "00000046: 0a00 0000 0000 0000 0000 ..........\n",
      "00000050: 0000 0000 0000 0000 0000 ..........\n",
      "0000005a: 2021 3456 2370 6f69 6e74  !4V#point\n",
      "00000064: 6572 7361 7265 6675 6e20 ersarefun \n",
      "0000006e: 2369 6e66 6572 6e75 6d69 #infernumi\n",
      "00000078: 7366 756e 0a00           sfun..\n"
     ]
    }
   ],
   "source": [
    "%%bash\n",
    "betty 0x06-pointers_arrays_strings/104-print_buffer.c\n",
    "gcc -Wall -pedantic -Werror -Wextra -std=gnu89 0x06-pointers_arrays_strings/104-main.c 0x06-pointers_arrays_strings/104-print_buffer.c -o 0x06-pointers_arrays_strings/104-buffer\n",
    "./0x06-pointers_arrays_strings/104-buffer"
   ]
  },
  {
   "cell_type": "code",
   "execution_count": 24,
   "metadata": {},
   "outputs": [
    {
     "name": "stdout",
     "output_type": "stream",
     "text": [
      "[main f020be8] alx-low_level_programming/0x06-pointers_arrays_strings\n",
      " 1 file changed, 1 insertion(+)\n"
     ]
    },
    {
     "name": "stderr",
     "output_type": "stream",
     "text": [
      "To https://github.com/elkomysara/alx-low_level_programming.git\n",
      "   1cd1f96..f020be8  main -> main\n"
     ]
    }
   ],
   "source": [
    "%%bash\n",
    "git add .\n",
    "git commit -m \"alx-low_level_programming/0x06-pointers_arrays_strings\"\n",
    "git push"
   ]
  },
  {
   "cell_type": "code",
   "execution_count": null,
   "metadata": {},
   "outputs": [],
   "source": []
  }
 ],
 "metadata": {
  "kernelspec": {
   "display_name": "Python 3",
   "language": "python",
   "name": "python3"
  },
  "language_info": {
   "codemirror_mode": {
    "name": "ipython",
    "version": 3
   },
   "file_extension": ".py",
   "mimetype": "text/x-python",
   "name": "python",
   "nbconvert_exporter": "python",
   "pygments_lexer": "ipython3",
   "version": "3.12.3"
  }
 },
 "nbformat": 4,
 "nbformat_minor": 2
}
