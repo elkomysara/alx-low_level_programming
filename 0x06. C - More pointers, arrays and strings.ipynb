{
 "cells": [
  {
   "cell_type": "markdown",
   "metadata": {},
   "source": [
    "---\n",
    "<center>\n",
    "<h1>  alx-low_level_programming </h1>\n",
    "</center>\n",
    "\n",
    "---\n"
   ]
  },
  {
   "cell_type": "code",
   "execution_count": 1,
   "metadata": {},
   "outputs": [],
   "source": [
    "import os\n",
    "# creating 0x02-shell_redirectionss\n",
    "\n",
    "folder_path = r'/home/elkomy/alx/alx-low_level_programming/0x06-pointers_arrays_strings'\n",
    "if not os.path.exists(folder_path):\n",
    "    os.makedirs(folder_path)\n",
    "\n",
    "# Create a README.md inside alx-low_level_programming/0x06-pointers_arrays_strings\n",
    "file_path = os.path.join(folder_path, 'README.md')\n",
    "\n",
    "with open(file_path, 'w') as file:\n",
    "    file.write(\"This is a README.md file inside alx-low_level_programming/0x06-pointers_arrays_strings\")\n",
    "\n"
   ]
  },
  {
   "cell_type": "code",
   "execution_count": 8,
   "metadata": {},
   "outputs": [
    {
     "name": "stdout",
     "output_type": "stream",
     "text": [
      "Overwriting /home/elkomy/alx/alx-low_level_programming/0x06-pointers_arrays_strings/README.md\n"
     ]
    }
   ],
   "source": [
    "%%file /home/elkomy/alx/alx-low_level_programming/0x06-pointers_arrays_strings/README.md\n",
    "This is a README.md"
   ]
  },
  {
   "cell_type": "markdown",
   "metadata": {},
   "source": [
    "###\n",
    "---\n",
    "<center>\n",
    "<h1> 0x06. C - More pointers, arrays and strings  </h1>\n",
    "</center>\n",
    "\n",
    "---\n"
   ]
  },
  {
   "cell_type": "markdown",
   "metadata": {},
   "source": [
    "###\n",
    "---\n",
    "<center>\n",
    "<h4> 0. strcat</h4>\n",
    "</center>\n",
    "\n",
    "---"
   ]
  },
  {
   "cell_type": "markdown",
   "metadata": {},
   "source": [
    "\n",
    "#### Write a function that concatenates two strings.\n",
    "\n",
    "* Prototype: `char *_strcat(char *dest, char *src);`\n",
    "* This function appends the `src` string to the `dest` string, overwriting the terminating null byte (`\\0`) at the end of `dest`, and then adds a terminating null byte\n",
    "* Returns a pointer to the resulting string `dest`\n",
    "FYI: The standard library provides a similar function: `strcat`. Run `man strcat` to learn more.\n",
    "\n",
    "```bash\n",
    "julien@ubuntu:~/0x06$ cat 0-main.c\n",
    "#include \"main.h\"\n",
    "#include <stdio.h>\n",
    "\n",
    "/**\n",
    " * main - check the code\n",
    " *\n",
    " * Return: Always 0.\n",
    " */\n",
    "int main(void)\n",
    "{\n",
    "    char s1[98] = \"Hello \";\n",
    "    char s2[] = \"World!\\n\";\n",
    "    char *ptr;\n",
    "\n",
    "    printf(\"%s\\n\", s1);\n",
    "    printf(\"%s\", s2);\n",
    "    ptr = _strcat(s1, s2);\n",
    "    printf(\"%s\", s1);\n",
    "    printf(\"%s\", s2);\n",
    "    printf(\"%s\", ptr);\n",
    "    return (0);\n",
    "}\n",
    "julien@ubuntu:~/0x06$ gcc -Wall -pedantic -Werror -Wextra -std=gnu89 0-main.c 0-strcat.c -o 0-strcat\n",
    "julien@ubuntu:~/0x06$ ./0-strcat \n",
    "Hello \n",
    "World!\n",
    "Hello World!\n",
    "World!\n",
    "Hello World!\n",
    "julien@ubuntu:~/0x06$ \n",
    "```\n",
    "\n",
    "#### Repo:\n",
    "* GitHub repository: ``` alx-low_level_programming ```\n",
    "* Directory: ```0x06-pointers_arrays_strings``` \n",
    "* File: ```0-strcat.c```"
   ]
  },
  {
   "cell_type": "code",
   "execution_count": 3,
   "metadata": {},
   "outputs": [
    {
     "name": "stdout",
     "output_type": "stream",
     "text": [
      "Writing 0x06-pointers_arrays_strings/0-main.c\n"
     ]
    }
   ],
   "source": [
    "%%file 0x06-pointers_arrays_strings/0-main.c\n",
    "#include \"main.h\"\n",
    "#include <stdio.h>\n",
    "\n",
    "/**\n",
    " * main - check the code\n",
    " *\n",
    " * Return: Always 0.\n",
    " */\n",
    "int main(void)\n",
    "{\n",
    "    char s1[98] = \"Hello \";\n",
    "    char s2[] = \"World!\\n\";\n",
    "    char *ptr;\n",
    "\n",
    "    printf(\"%s\\n\", s1);\n",
    "    printf(\"%s\", s2);\n",
    "    ptr = _strcat(s1, s2);\n",
    "    printf(\"%s\", s1);\n",
    "    printf(\"%s\", s2);\n",
    "    printf(\"%s\", ptr);\n",
    "    return (0);\n",
    "}"
   ]
  },
  {
   "cell_type": "code",
   "execution_count": 2,
   "metadata": {},
   "outputs": [
    {
     "name": "stdout",
     "output_type": "stream",
     "text": [
      "Writing 0x06-pointers_arrays_strings/main.h\n"
     ]
    }
   ],
   "source": [
    "%%file 0x06-pointers_arrays_strings/main.h\n",
    "#ifndef FILE_MAIN\n",
    "#define FILE_MAIN\n",
    "\n",
    "#include <stdio.h>\n",
    "\n",
    "char *_strcat(char *dest, char *src);\n",
    "\n",
    "\n",
    "\n",
    "#endif\n"
   ]
  },
  {
   "cell_type": "code",
   "execution_count": 18,
   "metadata": {},
   "outputs": [
    {
     "name": "stdout",
     "output_type": "stream",
     "text": [
      "Overwriting 0x06-pointers_arrays_strings/0-strcat.c\n"
     ]
    }
   ],
   "source": [
    "%%file 0x06-pointers_arrays_strings/0-strcat.c\n",
    "#include \"main.h\"\n",
    "\n",
    "/**\n",
    "* _strcat - concatenates two strings\n",
    "* @dest: destination string\n",
    "* @src: source string\n",
    "*\n",
    "* Return: pointer to the resulting string dest\n",
    "*/\n",
    "char *_strcat(char *dest, char *src)\n",
    "{\n",
    "int i = 0;\n",
    "int j = 0;\n",
    "\n",
    "/* Find the end of dest string*/\n",
    "while (dest[i] != '\\0')\n",
    "{\n",
    "i++;\n",
    "}\n",
    "\n",
    "/* Append src to dest */\n",
    "while (src[j] != '\\0')\n",
    "{\n",
    "dest[i] = src[j];\n",
    "i++;\n",
    "j++;\n",
    "}\n",
    "\n",
    "/* Add the terminating null byte */\n",
    "dest[i] = '\\0';\n",
    "\n",
    "/* Returns a pointer to the resulting string dest */\n",
    "\n",
    "return (dest);\n",
    "}\n"
   ]
  },
  {
   "cell_type": "code",
   "execution_count": 15,
   "metadata": {},
   "outputs": [
    {
     "name": "stdout",
     "output_type": "stream",
     "text": [
      "Overwriting 0x06-pointers_arrays_strings/0-strcat.c\n"
     ]
    }
   ],
   "source": [
    "%%file 0x06-pointers_arrays_strings/0-strcat.c\n",
    "#include \"main.h\"\n",
    "\n",
    "/**\n",
    "* _strcat - Concatenates two strings.\n",
    "* @dest: The destination string.\n",
    "* @src: The source string to append.\n",
    "*\n",
    "* Return: A pointer to the resulting string (dest).\n",
    "*/\n",
    "char *_strcat(char *dest, char *src)\n",
    "{\n",
    "\n",
    "/* Move to the end of dest */\n",
    "while (*dest)\n",
    "{\n",
    "dest++;\n",
    "}\n",
    "\n",
    "/* Append src to dest */\n",
    "while (*src)\n",
    "{\n",
    "*dest = *src;\n",
    "dest++;\n",
    "src++;\n",
    "}\n",
    "\n",
    "/* Add null terminator */\n",
    "*dest = '\\0';\n",
    "/* Returns a pointer to the resulting string dest */\n",
    "return (dest);\n",
    "}"
   ]
  },
  {
   "cell_type": "code",
   "execution_count": 19,
   "metadata": {},
   "outputs": [
    {
     "name": "stdout",
     "output_type": "stream",
     "text": [
      "Overwriting 0x06-pointers_arrays_strings/_putchar.c\n"
     ]
    }
   ],
   "source": [
    "%%file 0x06-pointers_arrays_strings/_putchar.c\n",
    "#include <unistd.h>\n",
    "#include \"main.h\"\n",
    "/**\n",
    " * _putchar - writes the character c to stdout\n",
    " * @c: The character to print\n",
    " *\n",
    " * Return: On success 1.\n",
    " * On error, -1 is returned, and errno is set appropriately.\n",
    " */\n",
    "int _putchar(char c)\n",
    "{\n",
    "\treturn (write(1, &c, 1));\n",
    "}\n"
   ]
  },
  {
   "cell_type": "code",
   "execution_count": 21,
   "metadata": {},
   "outputs": [
    {
     "name": "stdout",
     "output_type": "stream",
     "text": [
      "\n",
      "========== 0x06-pointers_arrays_strings/0-strcat.c ==========\n",
      "_strcat\n",
      "Hello \n",
      "World!\n",
      "Hello World!\n",
      "World!\n",
      "Hello World!\n"
     ]
    }
   ],
   "source": [
    "%%bash\n",
    "betty 0x06-pointers_arrays_strings/0-strcat.c\n",
    "gcc -Wall -pedantic -Werror -Wextra -std=gnu89 0x06-pointers_arrays_strings/0-main.c 0x06-pointers_arrays_strings/0-strcat.c -o 0x06-pointers_arrays_strings/0-strcat\n",
    "./0x06-pointers_arrays_strings/0-strcat"
   ]
  },
  {
   "cell_type": "code",
   "execution_count": 22,
   "metadata": {},
   "outputs": [
    {
     "name": "stdout",
     "output_type": "stream",
     "text": [
      "[main ef66630] alx-low_level_programming/0x06-pointers_arrays_strings\n",
      " 10 files changed, 3608 insertions(+), 70 deletions(-)\n",
      " create mode 100644 0x06-pointers_arrays_strings/0-main.c\n",
      " create mode 100755 0x06-pointers_arrays_strings/0-strcat\n",
      " create mode 100644 0x06-pointers_arrays_strings/0-strcat.c\n",
      " create mode 100644 0x06-pointers_arrays_strings/1-main.c\n",
      " create mode 100644 0x06-pointers_arrays_strings/README.md\n",
      " create mode 100644 0x06-pointers_arrays_strings/_putchar.c\n",
      " create mode 100644 0x06-pointers_arrays_strings/main.h\n",
      " create mode 100644 0x06. C - More pointers, arrays and strings.ipynb\n"
     ]
    },
    {
     "name": "stderr",
     "output_type": "stream",
     "text": [
      "To github.com:elkomysara/alx-low_level_programming.git\n",
      "   8c216ae..ef66630  main -> main\n"
     ]
    }
   ],
   "source": [
    "%%bash\n",
    "git add .\n",
    "git commit -m \"alx-low_level_programming/0x06-pointers_arrays_strings\"\n",
    "git push"
   ]
  },
  {
   "cell_type": "markdown",
   "metadata": {},
   "source": [
    "###\n",
    "---\n",
    "<center>\n",
    "<h4> 1. strncat </h4>\n",
    "</center>\n",
    "\n",
    "---"
   ]
  },
  {
   "cell_type": "markdown",
   "metadata": {},
   "source": [
    "\n",
    "####  Write a function that concatenates two strings.\n",
    "\n",
    "* Prototype: `char *_strncat(char *dest, char *src, int n);`\n",
    "* The `_strncat` function is similar to the `_strcat` function, except that\n",
    "    * it will use at most `n` bytes from `src`; and\n",
    "    * `src` does not need to be null-terminated if it contains `n` or more bytes\n",
    "* Return a pointer to the resulting string `dest`\n",
    "FYI: The standard library provides a similar function: `strncat`. Run `man strncat` to learn more.\n",
    "\n",
    "\n",
    "```bash\n",
    "ulien@ubuntu:~/0x06$ cat 1-main.c\n",
    "#include \"main.h\"\n",
    "#include <stdio.h>\n",
    "\n",
    "/**\n",
    " * main - check the code\n",
    " *\n",
    " * Return: Always 0.\n",
    " */\n",
    "int main(void)\n",
    "{\n",
    "    char s1[98] = \"Hello \";\n",
    "    char s2[] = \"World!\\n\";\n",
    "    char *ptr;\n",
    "\n",
    "    printf(\"%s\\n\", s1);\n",
    "    printf(\"%s\", s2);\n",
    "    ptr = _strncat(s1, s2, 1);\n",
    "    printf(\"%s\\n\", s1);\n",
    "    printf(\"%s\", s2);\n",
    "    printf(\"%s\\n\", ptr);\n",
    "    ptr = _strncat(s1, s2, 1024);\n",
    "    printf(\"%s\", s1);\n",
    "    printf(\"%s\", s2);\n",
    "    printf(\"%s\", ptr);\n",
    "    return (0);\n",
    "}\n",
    "julien@ubuntu:~/0x06$ gcc -Wall -pedantic -Werror -Wextra -std=gnu89 1-main.c 1-strncat.c -o 1-strncat\n",
    "julien@ubuntu:~/0x06$ ./1-strncat \n",
    "Hello \n",
    "World!\n",
    "Hello W\n",
    "World!\n",
    "Hello W\n",
    "Hello WWorld!\n",
    "World!\n",
    "Hello WWorld!\n",
    "julien@ubuntu:~/0x06$ \n",
    "```\n",
    "\n",
    "#### Repo:\n",
    "* GitHub repository: ``` alx-low_level_programming ```\n",
    "* Directory: ```0x06-pointers_arrays_strings``` \n",
    "* File: ```1-strncat.c```"
   ]
  },
  {
   "cell_type": "code",
   "execution_count": 23,
   "metadata": {},
   "outputs": [
    {
     "name": "stdout",
     "output_type": "stream",
     "text": [
      "Overwriting 0x06-pointers_arrays_strings/1-main.c\n"
     ]
    }
   ],
   "source": [
    "%%file 0x06-pointers_arrays_strings/1-main.c\n",
    "#include \"main.h\"\n",
    "#include <stdio.h>\n",
    "\n",
    "/**\n",
    " * main - check the code\n",
    " *\n",
    " * Return: Always 0.\n",
    " */\n",
    "int main(void)\n",
    "{\n",
    "    char s1[98] = \"Hello \";\n",
    "    char s2[] = \"World!\\n\";\n",
    "    char *ptr;\n",
    "\n",
    "    printf(\"%s\\n\", s1);\n",
    "    printf(\"%s\", s2);\n",
    "    ptr = _strncat(s1, s2, 1);\n",
    "    printf(\"%s\\n\", s1);\n",
    "    printf(\"%s\", s2);\n",
    "    printf(\"%s\\n\", ptr);\n",
    "    ptr = _strncat(s1, s2, 1024);\n",
    "    printf(\"%s\", s1);\n",
    "    printf(\"%s\", s2);\n",
    "    printf(\"%s\", ptr);\n",
    "    return (0);\n",
    "}"
   ]
  },
  {
   "cell_type": "code",
   "execution_count": 25,
   "metadata": {},
   "outputs": [
    {
     "name": "stdout",
     "output_type": "stream",
     "text": [
      "Overwriting 0x06-pointers_arrays_strings/main.h\n"
     ]
    }
   ],
   "source": [
    "%%file 0x06-pointers_arrays_strings/main.h\n",
    "#ifndef FILE_MAIN\n",
    "#define FILE_MAIN\n",
    "\n",
    "#include <stdio.h>\n",
    "\n",
    "int _putchar(char c);\n",
    "char *_strcat(char *dest, char *src);\n",
    "char *_strncat(char *dest, char *src, int n);\n",
    "\n",
    "\n",
    "#endif\n"
   ]
  },
  {
   "cell_type": "code",
   "execution_count": 82,
   "metadata": {},
   "outputs": [
    {
     "name": "stdout",
     "output_type": "stream",
     "text": [
      "Overwriting 0x06-pointers_arrays_strings/1-strncat.c\n"
     ]
    }
   ],
   "source": [
    "%%file 0x06-pointers_arrays_strings/1-strncat.c\n",
    "#include \"main.h\"\n",
    "\n",
    "/**\n",
    "* _strncat - Concatenates two strings.\n",
    "* @dest: Pointer to the destination string.\n",
    "* @src: Pointer to the source string.\n",
    "* @n:  Maximum number of bytes to append from src.\n",
    "*\n",
    "* Return: A pointer to the resulting string (dest).\n",
    "*/\n",
    "char *_strncat(char *dest, char *src, int n)\n",
    "{\n",
    "char *dest_start = dest;\n",
    "/* Find the end of the destination string */\n",
    "while (*dest)\n",
    "{\n",
    "dest++;\n",
    "}\n",
    "/* loops through the source string, appending characters to dest */\n",
    "while (n > 0 && *src)\n",
    "{\n",
    "*dest = *src;\n",
    "dest++;\n",
    "src++;\n",
    "/* decrement n after each character is copied */\n",
    "n--;\n",
    "}\n",
    "/* Add null terminator if n allows and source string isn;t empty */\n",
    "\n",
    "*dest = '\\0';\n",
    "\n",
    "/* Return a pointer to the resulting string (dest) */\n",
    "return (dest_start);\n",
    "\n",
    "}"
   ]
  },
  {
   "cell_type": "code",
   "execution_count": 83,
   "metadata": {},
   "outputs": [
    {
     "name": "stdout",
     "output_type": "stream",
     "text": [
      "Overwriting 0x06-pointers_arrays_strings/_putchar.c\n"
     ]
    }
   ],
   "source": [
    "%%file 0x06-pointers_arrays_strings/_putchar.c\n",
    "#include <unistd.h>\n",
    "#include \"main.h\"\n",
    "/**\n",
    " * _putchar - writes the character c to stdout\n",
    " * @c: The character to print\n",
    " *\n",
    " * Return: On success 1.\n",
    " * On error, -1 is returned, and errno is set appropriately.\n",
    " */\n",
    "int _putchar(char c)\n",
    "{\n",
    "\treturn (write(1, &c, 1));\n",
    "}\n"
   ]
  },
  {
   "cell_type": "code",
   "execution_count": 84,
   "metadata": {},
   "outputs": [
    {
     "name": "stdout",
     "output_type": "stream",
     "text": [
      "\n",
      "========== 0x06-pointers_arrays_strings/1-strncat.c ==========\n",
      "_strncat\n",
      "Hello \n",
      "World!\n",
      "Hello W\n",
      "World!\n",
      "Hello W\n",
      "Hello WWorld!\n",
      "World!\n",
      "Hello WWorld!\n"
     ]
    }
   ],
   "source": [
    "%%bash\n",
    "betty 0x06-pointers_arrays_strings/1-strncat.c\n",
    "gcc -Wall -pedantic -Werror -Wextra -std=gnu89 0x06-pointers_arrays_strings/1-main.c 0x06-pointers_arrays_strings/1-strncat.c -o 0x06-pointers_arrays_strings/1-strncat\n",
    "./0x06-pointers_arrays_strings/1-strncat"
   ]
  },
  {
   "cell_type": "code",
   "execution_count": 85,
   "metadata": {},
   "outputs": [
    {
     "name": "stdout",
     "output_type": "stream",
     "text": [
      "[main 15c924b] alx-low_level_programming/0x06-pointers_arrays_strings\n",
      " 4 files changed, 465 insertions(+), 234 deletions(-)\n",
      " create mode 100755 0x06-pointers_arrays_strings/1-strncat\n",
      " create mode 100644 0x06-pointers_arrays_strings/1-strncat.c\n"
     ]
    },
    {
     "name": "stderr",
     "output_type": "stream",
     "text": [
      "To github.com:elkomysara/alx-low_level_programming.git\n",
      "   ef66630..15c924b  main -> main\n"
     ]
    }
   ],
   "source": [
    "%%bash\n",
    "git add .\n",
    "git commit -m \"alx-low_level_programming/0x06-pointers_arrays_strings\"\n",
    "git push"
   ]
  },
  {
   "cell_type": "code",
   "execution_count": null,
   "metadata": {},
   "outputs": [],
   "source": []
  },
  {
   "cell_type": "markdown",
   "metadata": {},
   "source": [
    "###\n",
    "---\n",
    "<center>\n",
    "<h4> 2. strncpy </h4>\n",
    "</center>\n",
    "\n",
    "---"
   ]
  },
  {
   "cell_type": "markdown",
   "metadata": {},
   "source": [
    "\n",
    "####  Write a function that copies a string.\n",
    "\n",
    "* Prototype: `char *_strncpy(char *dest, char *src, int n);`\n",
    "* Your function should work exactly like `strncpy`\n",
    "FYI: The standard library provides a similar function: `strncpy`. Run `man strncpy` to learn more.\n",
    "\n",
    "```bash\n",
    "julien@ubuntu:~/0x06$ cat 2-main.c\n",
    "#include \"main.h\"\n",
    "#include <stdio.h>\n",
    "\n",
    "/**\n",
    " * main - check the code\n",
    " *\n",
    " * Return: Always 0.\n",
    " */\n",
    "int main(void)\n",
    "{\n",
    "    char s1[98];\n",
    "    char *ptr;\n",
    "    int i;\n",
    "\n",
    "    for (i = 0; i < 98 - 1; i++)\n",
    "    {\n",
    "        s1[i] = '*';\n",
    "    }\n",
    "    s1[i] = '\\0';\n",
    "    printf(\"%s\\n\", s1);\n",
    "    ptr = _strncpy(s1, \"First, solve the problem. Then, write the code\\n\", 5);\n",
    "    printf(\"%s\\n\", s1);\n",
    "    printf(\"%s\\n\", ptr);\n",
    "    ptr = _strncpy(s1, \"First, solve the problem. Then, write the code\\n\", 90);\n",
    "    printf(\"%s\", s1);\n",
    "    printf(\"%s\", ptr);\n",
    "    for (i = 0; i < 98; i++)\n",
    "    {\n",
    "        if (i % 10)\n",
    "        {\n",
    "            printf(\" \");\n",
    "        }\n",
    "        if (!(i % 10) && i)\n",
    "        {\n",
    "            printf(\"\\n\");\n",
    "        }\n",
    "        printf(\"0x%02x\", s1[i]);\n",
    "    }\n",
    "    printf(\"\\n\");\n",
    "    return (0);\n",
    "}\n",
    "julien@ubuntu:~/0x06$ gcc -Wall -pedantic -Werror -Wextra -std=gnu89 2-main.c 2-strncpy.c -o 2-strncpy\n",
    "julien@ubuntu:~/0x06$ ./2-strncpy \n",
    "*************************************************************************************************\n",
    "First********************************************************************************************\n",
    "First********************************************************************************************\n",
    "First, solve the problem. Then, write the code\n",
    "First, solve the problem. Then, write the code\n",
    "0x46 0x69 0x72 0x73 0x74 0x2c 0x20 0x73 0x6f 0x6c\n",
    "0x76 0x65 0x20 0x74 0x68 0x65 0x20 0x70 0x72 0x6f\n",
    "0x62 0x6c 0x65 0x6d 0x2e 0x20 0x54 0x68 0x65 0x6e\n",
    "0x2c 0x20 0x77 0x72 0x69 0x74 0x65 0x20 0x74 0x68\n",
    "0x65 0x20 0x63 0x6f 0x64 0x65 0x0a 0x00 0x00 0x00\n",
    "0x00 0x00 0x00 0x00 0x00 0x00 0x00 0x00 0x00 0x00\n",
    "0x00 0x00 0x00 0x00 0x00 0x00 0x00 0x00 0x00 0x00\n",
    "0x00 0x00 0x00 0x00 0x00 0x00 0x00 0x00 0x00 0x00\n",
    "0x00 0x00 0x00 0x00 0x00 0x00 0x00 0x00 0x00 0x00\n",
    "0x2a 0x2a 0x2a 0x2a 0x2a 0x2a 0x2a 0x00\n",
    "julien@ubuntu:~/0x06$ \n",
    "```\n",
    "\n",
    "#### Repo:\n",
    "* GitHub repository: ``` alx-low_level_programming ```\n",
    "* Directory: ```0x06-pointers_arrays_strings``` \n",
    "* File: ```2-strcpy.c```"
   ]
  },
  {
   "cell_type": "code",
   "execution_count": 87,
   "metadata": {},
   "outputs": [
    {
     "name": "stdout",
     "output_type": "stream",
     "text": [
      "Writing 0x06-pointers_arrays_strings/2-main.c\n"
     ]
    }
   ],
   "source": [
    "%%file 0x06-pointers_arrays_strings/2-main.c\n",
    "#include \"main.h\"\n",
    "#include <stdio.h>\n",
    "\n",
    "/**\n",
    " * main - check the code\n",
    " *\n",
    " * Return: Always 0.\n",
    " */\n",
    "int main(void)\n",
    "{\n",
    "    char s1[98];\n",
    "    char *ptr;\n",
    "    int i;\n",
    "\n",
    "    for (i = 0; i < 98 - 1; i++)\n",
    "    {\n",
    "        s1[i] = '*';\n",
    "    }\n",
    "    s1[i] = '\\0';\n",
    "    printf(\"%s\\n\", s1);\n",
    "    ptr = _strncpy(s1, \"First, solve the problem. Then, write the code\\n\", 5);\n",
    "    printf(\"%s\\n\", s1);\n",
    "    printf(\"%s\\n\", ptr);\n",
    "    ptr = _strncpy(s1, \"First, solve the problem. Then, write the code\\n\", 90);\n",
    "    printf(\"%s\", s1);\n",
    "    printf(\"%s\", ptr);\n",
    "    for (i = 0; i < 98; i++)\n",
    "    {\n",
    "        if (i % 10)\n",
    "        {\n",
    "            printf(\" \");\n",
    "        }\n",
    "        if (!(i % 10) && i)\n",
    "        {\n",
    "            printf(\"\\n\");\n",
    "        }\n",
    "        printf(\"0x%02x\", s1[i]);\n",
    "    }\n",
    "    printf(\"\\n\");\n",
    "    return (0);\n",
    "}"
   ]
  },
  {
   "cell_type": "code",
   "execution_count": 103,
   "metadata": {},
   "outputs": [
    {
     "name": "stdout",
     "output_type": "stream",
     "text": [
      "Overwriting 0x06-pointers_arrays_strings/main.h\n"
     ]
    }
   ],
   "source": [
    "%%file 0x06-pointers_arrays_strings/main.h\n",
    "#ifndef FILE_MAIN\n",
    "#define FILE_MAIN\n",
    "\n",
    "#include <stdio.h>\n",
    "\n",
    "int _putchar(char c);\n",
    "char *_strcat(char *dest, char *src);\n",
    "char *_strncat(char *dest, char *src, int n);\n",
    "char *_strncpy(char *dest, char *src, int n);\n",
    "\n",
    "#endif\n"
   ]
  },
  {
   "cell_type": "code",
   "execution_count": 100,
   "metadata": {},
   "outputs": [
    {
     "name": "stdout",
     "output_type": "stream",
     "text": [
      "Overwriting 0x06-pointers_arrays_strings/2-strncpy.c\n"
     ]
    }
   ],
   "source": [
    "%%file 0x06-pointers_arrays_strings/2-strncpy.c\n",
    "#include \"main.h\"\n",
    "\n",
    "/**\n",
    " * _strncpy - Copies a string from src to dest up to n characters.\n",
    " * @dest: Pointer to the destination buffer.\n",
    " * @src: Pointer to the source string.\n",
    " * @n: Maximum number of characters to copy.\n",
    " *\n",
    " * Return: Pointer to the destination string (dest).\n",
    " */\n",
    "char *_strncpy(char *dest, char *src, int n)\n",
    "{\n",
    "int i;\n",
    "for (i = 0; i < n && src[i] != '\\0'; i++)\n",
    "{\n",
    "dest[i] = src[i];\n",
    "}\n",
    "/* Pad with null bytes if n is greater than the length of src */\n",
    "for (; i < n; i++)\n",
    "{\n",
    "dest[i] = '\\0';\n",
    "}\n",
    "return (dest);\n",
    "}"
   ]
  },
  {
   "cell_type": "code",
   "execution_count": 104,
   "metadata": {},
   "outputs": [
    {
     "name": "stdout",
     "output_type": "stream",
     "text": [
      "\n",
      "========== 0x06-pointers_arrays_strings/2-strcpy.c ==========\n",
      "_strcpy\n",
      "*************************************************************************************************\n",
      "First********************************************************************************************\n",
      "First********************************************************************************************\n",
      "First, solve the problem. Then, write the code\n",
      "First, solve the problem. Then, write the code\n",
      "0x46 0x69 0x72 0x73 0x74 0x2c 0x20 0x73 0x6f 0x6c\n",
      "0x76 0x65 0x20 0x74 0x68 0x65 0x20 0x70 0x72 0x6f\n",
      "0x62 0x6c 0x65 0x6d 0x2e 0x20 0x54 0x68 0x65 0x6e\n",
      "0x2c 0x20 0x77 0x72 0x69 0x74 0x65 0x20 0x74 0x68\n",
      "0x65 0x20 0x63 0x6f 0x64 0x65 0x0a 0x00 0x00 0x00\n",
      "0x00 0x00 0x00 0x00 0x00 0x00 0x00 0x00 0x00 0x00\n",
      "0x00 0x00 0x00 0x00 0x00 0x00 0x00 0x00 0x00 0x00\n",
      "0x00 0x00 0x00 0x00 0x00 0x00 0x00 0x00 0x00 0x00\n",
      "0x00 0x00 0x00 0x00 0x00 0x00 0x00 0x00 0x00 0x00\n",
      "0x2a 0x2a 0x2a 0x2a 0x2a 0x2a 0x2a 0x00\n"
     ]
    }
   ],
   "source": [
    "%%bash\n",
    "betty 0x06-pointers_arrays_strings/2-strcpy.c\n",
    "gcc -Wall -pedantic -Werror -Wextra -std=gnu89 0x06-pointers_arrays_strings/2-main.c 0x06-pointers_arrays_strings/2-strncpy.c -o 0x06-pointers_arrays_strings/2-strncpy\n",
    "./0x06-pointers_arrays_strings/2-strncpy"
   ]
  },
  {
   "cell_type": "code",
   "execution_count": 105,
   "metadata": {},
   "outputs": [
    {
     "name": "stdout",
     "output_type": "stream",
     "text": [
      "[main bfadc57] alx-low_level_programming/0x06-pointers_arrays_strings\n",
      " 6 files changed, 114 insertions(+), 1 deletion(-)\n",
      " create mode 100644 0x06-pointers_arrays_strings/2-main.c\n",
      " create mode 100644 0x06-pointers_arrays_strings/2-strcpy.c\n",
      " create mode 100644 0x06-pointers_arrays_strings/2-strlen.c\n",
      " create mode 100755 0x06-pointers_arrays_strings/2-strncpy\n",
      " create mode 100644 0x06-pointers_arrays_strings/2-strncpy.c\n"
     ]
    },
    {
     "name": "stderr",
     "output_type": "stream",
     "text": [
      "To github.com:elkomysara/alx-low_level_programming.git\n",
      "   15c924b..bfadc57  main -> main\n"
     ]
    }
   ],
   "source": [
    "%%bash\n",
    "git add .\n",
    "git commit -m \"alx-low_level_programming/0x06-pointers_arrays_strings\"\n",
    "git push"
   ]
  },
  {
   "cell_type": "code",
   "execution_count": null,
   "metadata": {},
   "outputs": [],
   "source": []
  },
  {
   "cell_type": "markdown",
   "metadata": {},
   "source": [
    "###\n",
    "---\n",
    "<center>\n",
    "<h4> 3. strcmp\n",
    " </h4>\n",
    "</center>\n",
    "\n",
    "---"
   ]
  },
  {
   "cell_type": "markdown",
   "metadata": {},
   "source": [
    "\n",
    "####  Write a function that compares two strings.\n",
    "\n",
    "* Prototype: `int _strcmp(char *s1, char *s2);`\n",
    "* Your function should work exactly like `strcmp`\n",
    "\n",
    "FYI: The standard library provides a similar function: `strcmp.` Run `man strcmp` to learn more.\n",
    "\n",
    "```bash\n",
    "julien@ubuntu:~/0x06$ cat 3-main.c\n",
    "#include \"main.h\"\n",
    "#include <stdio.h>\n",
    "\n",
    "/**\n",
    " * main - check the code\n",
    " *\n",
    " * Return: Always 0.\n",
    " */\n",
    "int main(void)\n",
    "{\n",
    "    char s1[] = \"Hello\";\n",
    "    char s2[] = \"World!\";\n",
    "\n",
    "    printf(\"%d\\n\", _strcmp(s1, s2));\n",
    "    printf(\"%d\\n\", _strcmp(s2, s1));\n",
    "    printf(\"%d\\n\", _strcmp(s1, s1));\n",
    "    return (0);\n",
    "}\n",
    "julien@ubuntu:~/0x06$ gcc -Wall -pedantic -Werror -Wextra -std=gnu89 3-main.c 3-strcmp.c -o 3-strcmp\n",
    "julien@ubuntu:~/0x06$ ./3-strcmp \n",
    "-15\n",
    "15\n",
    "0\n",
    "julien@ubuntu:~/0x06$\n",
    "```\n",
    "\n",
    "#### Repo:\n",
    "* GitHub repository: ``` alx-low_level_programming ```\n",
    "* Directory: ```0x06-pointers_arrays_strings``` \n",
    "* File: ```3-strcmp.c```"
   ]
  },
  {
   "cell_type": "code",
   "execution_count": 106,
   "metadata": {},
   "outputs": [
    {
     "name": "stdout",
     "output_type": "stream",
     "text": [
      "Writing 0x06-pointers_arrays_strings/3-main.c\n"
     ]
    }
   ],
   "source": [
    "%%file 0x06-pointers_arrays_strings/3-main.c\n",
    "#include \"main.h\"\n",
    "#include <stdio.h>\n",
    "\n",
    "/**\n",
    " * main - check the code\n",
    " *\n",
    " * Return: Always 0.\n",
    " */\n",
    "int main(void)\n",
    "{\n",
    "    char s1[] = \"Hello\";\n",
    "    char s2[] = \"World!\";\n",
    "\n",
    "    printf(\"%d\\n\", _strcmp(s1, s2));\n",
    "    printf(\"%d\\n\", _strcmp(s2, s1));\n",
    "    printf(\"%d\\n\", _strcmp(s1, s1));\n",
    "    return (0);\n",
    "}"
   ]
  },
  {
   "cell_type": "code",
   "execution_count": 7,
   "metadata": {},
   "outputs": [
    {
     "name": "stdout",
     "output_type": "stream",
     "text": [
      "Overwriting 0x06-pointers_arrays_strings/main.h\n"
     ]
    }
   ],
   "source": [
    "%%file 0x06-pointers_arrays_strings/main.h\n",
    "#ifndef FILE_MAIN\n",
    "#define FILE_MAIN\n",
    "\n",
    "#include <stdio.h>\n",
    "\n",
    "int _putchar(char c);\n",
    "char *_strcat(char *dest, char *src);\n",
    "char *_strncat(char *dest, char *src, int n);\n",
    "char *_strncpy(char *dest, char *src, int n);\n",
    "int _strcmp(char *s1, char *s2);\n",
    "void reverse_array(int *a, int n);\n",
    "\n",
    "#endif\n"
   ]
  },
  {
   "cell_type": "code",
   "execution_count": 3,
   "metadata": {},
   "outputs": [
    {
     "name": "stdout",
     "output_type": "stream",
     "text": [
      "Overwriting 0x06-pointers_arrays_strings/3-strcmp.c\n"
     ]
    }
   ],
   "source": [
    "%%file 0x06-pointers_arrays_strings/3-strcmp.c\n",
    "#include \"main.h\"\n",
    "\n",
    "/**\n",
    "* _strcmp - Compares two strings.\n",
    "* @s1: the first string.\n",
    "* @s2: the second string.\n",
    "*\n",
    "* Return: s2 minus s1\n",
    "*/\n",
    "\n",
    "int _strcmp(char *s1, char *s2)\n",
    "{\n",
    "while (*s1 && (*s1 == *s2))\n",
    "{\n",
    "s1++;\n",
    "s2++;\n",
    "}\n",
    "return (*s1 - *s2);\n",
    "}\n"
   ]
  },
  {
   "cell_type": "code",
   "execution_count": 1,
   "metadata": {},
   "outputs": [
    {
     "name": "stdout",
     "output_type": "stream",
     "text": [
      "\n",
      "========== 0x06-pointers_arrays_strings/3-strcmp.c ==========\n"
     ]
    },
    {
     "name": "stdout",
     "output_type": "stream",
     "text": [
      "_strcmp\n",
      "-15\n",
      "15\n",
      "0\n"
     ]
    }
   ],
   "source": [
    "%%bash\n",
    "betty 0x06-pointers_arrays_strings/3-strcmp.c\n",
    "gcc -Wall -pedantic -Werror -Wextra -std=gnu89 0x06-pointers_arrays_strings/3-main.c 0x06-pointers_arrays_strings/3-strcmp.c -o 0x06-pointers_arrays_strings/3-strcmp\n",
    "./0x06-pointers_arrays_strings/3-strcmp"
   ]
  },
  {
   "cell_type": "code",
   "execution_count": 2,
   "metadata": {},
   "outputs": [
    {
     "name": "stdout",
     "output_type": "stream",
     "text": [
      "[main e2cb608] alx-low_level_programming/0x06-pointers_arrays_strings\n",
      " 1 file changed, 0 insertions(+), 0 deletions(-)\n",
      " create mode 100755 0x06-pointers_arrays_strings/3-strcmp\n"
     ]
    },
    {
     "name": "stderr",
     "output_type": "stream",
     "text": [
      "To github.com:elkomysara/alx-low_level_programming.git\n",
      "   86c5042..e2cb608  main -> main\n"
     ]
    }
   ],
   "source": [
    "%%bash\n",
    "git add .\n",
    "git commit -m \"alx-low_level_programming/0x06-pointers_arrays_strings\"\n",
    "git push"
   ]
  },
  {
   "cell_type": "markdown",
   "metadata": {},
   "source": [
    "###\n",
    "---\n",
    "<center>\n",
    "<h4> 4. I am a kind of paranoid in reverse. I suspect people of plotting to make me happy\n",
    " </h4>\n",
    "</center>\n",
    "\n",
    "---"
   ]
  },
  {
   "cell_type": "markdown",
   "metadata": {},
   "source": [
    "\n",
    "####  Write a function that reverses the content of an array of integers.\n",
    "\n",
    "* Prototype: `void reverse_array(int *a, int n);`\n",
    "* Where `n` is the number of elements of the array\n",
    "\n",
    "```bash\n",
    "julien@ubuntu:~/0x06$ cat 4-main.c\n",
    "#include \"main.h\"\n",
    "#include <stdio.h>\n",
    "\n",
    "/**\n",
    " * main - check the code\n",
    " * @a: an array of integers\n",
    " * @n: the number of elements to swap\n",
    " *\n",
    " * Return: nothing.\n",
    " */\n",
    "void print_array(int *a, int n)\n",
    "{\n",
    "    int i;\n",
    "\n",
    "    i = 0;\n",
    "    while (i < n)\n",
    "    {\n",
    "        if (i != 0)\n",
    "        {\n",
    "            printf(\", \");\n",
    "        }\n",
    "        printf(\"%d\", a[i]);\n",
    "        i++;\n",
    "    }\n",
    "    printf(\"\\n\");\n",
    "}\n",
    "\n",
    "/**\n",
    " * main - check the code\n",
    " *\n",
    " * Return: Always 0.\n",
    " */\n",
    "int main(void)\n",
    "{\n",
    "    int a[] = {0, 1, 2, 3, 4, 5, 6, 7, 8, 9, 98, 1024, 1337};\n",
    "\n",
    "    print_array(a, sizeof(a) / sizeof(int));\n",
    "    reverse_array(a, sizeof(a) / sizeof(int));\n",
    "    print_array(a, sizeof(a) / sizeof(int));\n",
    "    return (0);\n",
    "}\n",
    "julien@ubuntu:~/0x06$ gcc -Wall -pedantic -Werror -Wextra -std=gnu89 4-main.c 4-rev_array.c -o 4-rev_array\n",
    "julien@ubuntu:~/0x06$ ./4-rev_array \n",
    "0, 1, 2, 3, 4, 5, 6, 7, 8, 9, 98, 1024, 1337\n",
    "1337, 1024, 98, 9, 8, 7, 6, 5, 4, 3, 2, 1, 0\n",
    "julien@ubuntu:~/0x06$ \n",
    "```\n",
    "\n",
    "#### Repo:\n",
    "* GitHub repository: ``` alx-low_level_programming ```\n",
    "* Directory: ```0x06-pointers_arrays_strings``` \n",
    "* File: ```4-print_rev.c```"
   ]
  },
  {
   "cell_type": "code",
   "execution_count": 4,
   "metadata": {},
   "outputs": [
    {
     "name": "stdout",
     "output_type": "stream",
     "text": [
      "Overwriting 0x06-pointers_arrays_strings/4-main.c\n"
     ]
    }
   ],
   "source": [
    "%%file 0x06-pointers_arrays_strings/4-main.c\n",
    "#include \"main.h\"\n",
    "#include <stdio.h>\n",
    "\n",
    "/**\n",
    " * main - check the code\n",
    " * @a: an array of integers\n",
    " * @n: the number of elements to swap\n",
    " *\n",
    " * Return: nothing.\n",
    " */\n",
    "void print_array(int *a, int n)\n",
    "{\n",
    "    int i;\n",
    "\n",
    "    i = 0;\n",
    "    while (i < n)\n",
    "    {\n",
    "        if (i != 0)\n",
    "        {\n",
    "            printf(\", \");\n",
    "        }\n",
    "        printf(\"%d\", a[i]);\n",
    "        i++;\n",
    "    }\n",
    "    printf(\"\\n\");\n",
    "}\n",
    "\n",
    "/**\n",
    " * main - check the code\n",
    " *\n",
    " * Return: Always 0.\n",
    " */\n",
    "int main(void)\n",
    "{\n",
    "    int a[] = {0, 1, 2, 3, 4, 5, 6, 7, 8, 9, 98, 1024, 1337};\n",
    "\n",
    "    print_array(a, sizeof(a) / sizeof(int));\n",
    "    reverse_array(a, sizeof(a) / sizeof(int));\n",
    "    print_array(a, sizeof(a) / sizeof(int));\n",
    "    return (0);\n",
    "}"
   ]
  },
  {
   "cell_type": "code",
   "execution_count": 6,
   "metadata": {},
   "outputs": [
    {
     "name": "stdout",
     "output_type": "stream",
     "text": [
      "Overwriting 0x06-pointers_arrays_strings/main.h\n"
     ]
    }
   ],
   "source": [
    "%%file 0x06-pointers_arrays_strings/main.h\n",
    "#ifndef FILE_MAIN\n",
    "#define FILE_MAIN\n",
    "\n",
    "#include <stdio.h>\n",
    "\n",
    "int _putchar(char c);\n",
    "char *_strcat(char *dest, char *src);\n",
    "char *_strncat(char *dest, char *src, int n);\n",
    "char *_strncpy(char *dest, char *src, int n);\n",
    "int _strcmp(char *s1, char *s2);\n",
    "void reverse_array(int *a, int n);\n",
    "\n",
    "#endif\n"
   ]
  },
  {
   "cell_type": "code",
   "execution_count": 18,
   "metadata": {},
   "outputs": [
    {
     "name": "stdout",
     "output_type": "stream",
     "text": [
      "Overwriting 0x06-pointers_arrays_strings/4-rev_array.c\n"
     ]
    }
   ],
   "source": [
    "%%file 0x06-pointers_arrays_strings/4-rev_array.c\n",
    "#include \"main.h\"\n",
    "\n",
    "/**\n",
    " * reverse_array - Reverses the content of an array of integers\n",
    " * @a: Pointer to the array of integers\n",
    " * @n: The number of elements in the array\n",
    " */\n",
    "\n",
    "void reverse_array(int *a, int n)\n",
    "{\n",
    "\n",
    "int i;\n",
    "int temp;\n",
    "\n",
    "/* Loop from the start of th earray to the middle */\n",
    "\n",
    "for (i = 0; i < n / 2; i++)\n",
    "{\n",
    "/* Swap elements from the start and the end */\n",
    "temp = a[i];\n",
    "a[i] = a[n - 1 - i];\n",
    "a[n - 1 - i] = temp;\n",
    "\n",
    "}\n",
    "\n",
    "}\n"
   ]
  },
  {
   "cell_type": "code",
   "execution_count": 19,
   "metadata": {},
   "outputs": [
    {
     "name": "stdout",
     "output_type": "stream",
     "text": [
      "Overwriting 0x06-pointers_arrays_strings/4-rev_array.c\n"
     ]
    }
   ],
   "source": [
    "%%file 0x06-pointers_arrays_strings/4-rev_array.c\n",
    "#include \"main.h\"\n",
    "\n",
    "/**\n",
    "* reverse_array - Reverses the content of an array of integers\n",
    "* @a: Pointer to the array of integers\n",
    "* @n: The number of elements in the array\n",
    "*/\n",
    "\n",
    "void reverse_array(int *a, int n)\n",
    "{\n",
    "int left = 0;\n",
    "int right = n - 1;\n",
    "\n",
    "/* Loop until left and right pointers meet or cross */\n",
    "while (left < right)\n",
    "{\n",
    "/* Swap elements at left and right indices */\n",
    "int temp = a[left];\n",
    "a[left] = a[right];\n",
    "a[right] = temp;\n",
    "\n",
    "/* Move pointers towards the middle */\n",
    "\n",
    "left++;\n",
    "right--;\n",
    "}\n",
    "}\n"
   ]
  },
  {
   "cell_type": "code",
   "execution_count": 20,
   "metadata": {},
   "outputs": [
    {
     "name": "stdout",
     "output_type": "stream",
     "text": [
      "Overwriting 0x06-pointers_arrays_strings/_putchar.c\n"
     ]
    }
   ],
   "source": [
    "%%file 0x06-pointers_arrays_strings/_putchar.c\n",
    "#include <unistd.h>\n",
    "#include \"main.h\"\n",
    "/**\n",
    " * _putchar - writes the character c to stdout\n",
    " * @c: The character to print\n",
    " *\n",
    " * Return: On success 1.\n",
    " * On error, -1 is returned, and errno is set appropriately.\n",
    " */\n",
    "int _putchar(char c)\n",
    "{\n",
    "\treturn (write(1, &c, 1));\n",
    "}\n"
   ]
  },
  {
   "cell_type": "code",
   "execution_count": 21,
   "metadata": {},
   "outputs": [
    {
     "name": "stdout",
     "output_type": "stream",
     "text": [
      "\n",
      "========== 0x06-pointers_arrays_strings/4-rev_array.c ==========\n",
      "reverse_array\n",
      "0, 1, 2, 3, 4, 5, 6, 7, 8, 9, 98, 1024, 1337\n",
      "1337, 1024, 98, 9, 8, 7, 6, 5, 4, 3, 2, 1, 0\n"
     ]
    }
   ],
   "source": [
    "%%bash\n",
    "betty 0x06-pointers_arrays_strings/4-rev_array.c\n",
    "gcc -Wall -pedantic -Werror -Wextra -std=gnu89 0x06-pointers_arrays_strings/4-main.c 0x06-pointers_arrays_strings/4-rev_array.c -o 0x06-pointers_arrays_strings/4-rev_array\n",
    "./0x06-pointers_arrays_strings/4-rev_array"
   ]
  },
  {
   "cell_type": "code",
   "execution_count": 22,
   "metadata": {},
   "outputs": [
    {
     "name": "stdout",
     "output_type": "stream",
     "text": [
      "[main 710a1b0] alx-low_level_programming/0x06-pointers_arrays_strings\n",
      " 4 files changed, 69 insertions(+)\n",
      " create mode 100644 0x06-pointers_arrays_strings/4-main.c\n",
      " create mode 100755 0x06-pointers_arrays_strings/4-rev_array\n",
      " create mode 100644 0x06-pointers_arrays_strings/4-rev_array.c\n"
     ]
    },
    {
     "name": "stderr",
     "output_type": "stream",
     "text": [
      "To github.com:elkomysara/alx-low_level_programming.git\n",
      "   e2cb608..710a1b0  main -> main\n"
     ]
    }
   ],
   "source": [
    "%%bash\n",
    "git add .\n",
    "git commit -m \"alx-low_level_programming/0x06-pointers_arrays_strings\"\n",
    "git push"
   ]
  },
  {
   "cell_type": "markdown",
   "metadata": {},
   "source": [
    "###\n",
    "---\n",
    "<center>\n",
    "<h4> 5. Always look up\n",
    " </h4>\n",
    "</center>\n",
    "\n",
    "---"
   ]
  },
  {
   "cell_type": "markdown",
   "metadata": {},
   "source": [
    "\n",
    "####  Write a function that changes all lowercase letters of a string to uppercase.\n",
    "\n",
    "* Prototype: `char *string_toupper(char *);`\n",
    "\n",
    "```bash\n",
    "julien@ubuntu:~/0x06$ cat 5-main.c\n",
    "#include \"main.h\"\n",
    "#include <stdio.h>\n",
    "\n",
    "/**\n",
    " * main - check the code\n",
    " *\n",
    " * Return: Always 0.\n",
    " */\n",
    "int main(void)\n",
    "{\n",
    "    char str[] = \"Look up!\\n\";\n",
    "    char *ptr;\n",
    "\n",
    "    ptr = string_toupper(str);\n",
    "    printf(\"%s\", ptr);\n",
    "    printf(\"%s\", str);\n",
    "    return (0);\n",
    "}\n",
    "julien@ubuntu:~/0x06$ gcc -Wall -pedantic -Werror -Wextra -std=gnu89 5-main.c 5-string_toupper.c -o 5-string_toupper\n",
    "julien@ubuntu:~/0x06$ ./5-string_toupper \n",
    "LOOK UP!\n",
    "LOOK UP!\n",
    "julien@ubuntu:~/0x06$ \n",
    "```\n",
    "\n",
    "#### Repo:\n",
    "* GitHub repository: ``` alx-low_level_programming ```\n",
    "* Directory: ```0x06-pointers_arrays_strings``` \n",
    "* File: ```5-string_toupper.c```"
   ]
  },
  {
   "cell_type": "code",
   "execution_count": 30,
   "metadata": {},
   "outputs": [
    {
     "name": "stdout",
     "output_type": "stream",
     "text": [
      "Overwriting 0x06-pointers_arrays_strings/5-main.c\n"
     ]
    }
   ],
   "source": [
    "%%file 0x06-pointers_arrays_strings/5-main.c\n",
    "#include \"main.h\"\n",
    "#include <stdio.h>\n",
    "\n",
    "/**\n",
    " * main - check the code\n",
    " *\n",
    " * Return: Always 0.\n",
    " */\n",
    "int main(void)\n",
    "{\n",
    "    char str[] = \"Look up!\\n\";\n",
    "    char *ptr;\n",
    "\n",
    "    ptr = string_toupper(str);\n",
    "    printf(\"%s\", ptr);\n",
    "    printf(\"%s\", str);\n",
    "    return (0);\n",
    "}"
   ]
  },
  {
   "cell_type": "code",
   "execution_count": 25,
   "metadata": {},
   "outputs": [
    {
     "name": "stdout",
     "output_type": "stream",
     "text": [
      "Overwriting 0x06-pointers_arrays_strings/main.h\n"
     ]
    }
   ],
   "source": [
    "%%file 0x06-pointers_arrays_strings/main.h\n",
    "#ifndef FILE_MAIN\n",
    "#define FILE_MAIN\n",
    "\n",
    "#include <stdio.h>\n",
    "\n",
    "int _putchar(char c);\n",
    "void reset_to_98(int *n);\n",
    "void swap_int(int *a, int *b);\n",
    "int _strlen(char *s);\n",
    "void _puts(char *str);\n",
    "void print_rev(char *s);\n",
    "void rev_string(char *s);\n",
    "char *string_toupper(char *);\n",
    "char *cap_string(char *);\n",
    "\n",
    "#endif\n"
   ]
  },
  {
   "cell_type": "code",
   "execution_count": 13,
   "metadata": {},
   "outputs": [
    {
     "name": "stdout",
     "output_type": "stream",
     "text": [
      "Overwriting 0x06-pointers_arrays_strings/5-string_toupper.c\n"
     ]
    }
   ],
   "source": [
    "%%file 0x06-pointers_arrays_strings/5-string_toupper.c\n",
    "#include \"main.h\"\n",
    "\n",
    "/**\n",
    "* string_toupper - Changes all lowercase letters of a string to uppercase\n",
    "* @str: The string to be converted\n",
    "*\n",
    "* Return: A pointer to the converted string\n",
    "*/\n",
    "\n",
    "char *string_toupper(char *str)\n",
    "{\n",
    "char *ptr = str;\n",
    "while (*ptr)\n",
    "{\n",
    "\n",
    "if (*ptr >= 'a' && *ptr <= 'z')\n",
    "{\n",
    "/* *ptr = *ptr - ('a' - 'A'); */\n",
    "*ptr -= 'a' - 'A';\n",
    "}\n",
    "\n",
    "ptr++;\n",
    "}\n",
    "return (str);\n",
    "}\n"
   ]
  },
  {
   "cell_type": "code",
   "execution_count": 14,
   "metadata": {},
   "outputs": [
    {
     "name": "stdout",
     "output_type": "stream",
     "text": [
      "\n",
      "========== 0x06-pointers_arrays_strings/5-string_toupper.c ==========\n",
      "string_toupper\n",
      "LOOK UP!\n",
      "LOOK UP!\n"
     ]
    }
   ],
   "source": [
    "%%bash\n",
    "betty 0x06-pointers_arrays_strings/5-string_toupper.c\n",
    "gcc -Wall -pedantic -Werror -Wextra -std=gnu89 0x06-pointers_arrays_strings/5-main.c 0x06-pointers_arrays_strings/5-string_toupper.c -o 0x06-pointers_arrays_strings/5-string_toupper\n",
    "./0x06-pointers_arrays_strings/5-string_toupper"
   ]
  },
  {
   "cell_type": "code",
   "execution_count": 15,
   "metadata": {},
   "outputs": [
    {
     "name": "stdout",
     "output_type": "stream",
     "text": [
      "[main d932b0e] alx-low_level_programming/0x06-pointers_arrays_strings\n",
      " 1 file changed, 1 insertion(+), 1 deletion(-)\n"
     ]
    },
    {
     "name": "stderr",
     "output_type": "stream",
     "text": [
      "To github.com:elkomysara/alx-low_level_programming.git\n",
      "   ee4ac65..d932b0e  main -> main\n"
     ]
    }
   ],
   "source": [
    "%%bash\n",
    "git add .\n",
    "git commit -m \"alx-low_level_programming/0x06-pointers_arrays_strings\"\n",
    "git push"
   ]
  },
  {
   "cell_type": "code",
   "execution_count": null,
   "metadata": {},
   "outputs": [],
   "source": []
  },
  {
   "cell_type": "markdown",
   "metadata": {},
   "source": [
    "###\n",
    "---\n",
    "<center>\n",
    "<h4> 6. Expect the best. Prepare for the worst. Capitalize on what comes\n",
    " </h4>\n",
    "</center>\n",
    "\n",
    "---"
   ]
  },
  {
   "cell_type": "markdown",
   "metadata": {},
   "source": [
    "\n",
    "####  Write a function that capitalizes all words of a string.\n",
    "\n",
    "* Prototype: `char *cap_string(char *);`\n",
    "* Separators of words: space, tabulation, new line, `,`, `;`, `.`, `!`, `?`, `\"`, `(`, `)`, `{`, and `}`\n",
    "\n",
    "```bash\n",
    "julien@ubuntu:~/0x06$ cat 6-main.c\n",
    "#include \"main.h\"\n",
    "#include <stdio.h>\n",
    "\n",
    "/**\n",
    " * main - check the code\n",
    " *\n",
    " * Return: Always 0.\n",
    " */\n",
    "int main(void)\n",
    "{\n",
    "    char str[] = \"Expect the best. Prepare for the worst. Capitalize on what comes.\\nhello world! hello-world 0123456hello world\\thello world.hello world\\n\";\n",
    "    char *ptr;\n",
    "\n",
    "    ptr = cap_string(str);\n",
    "    printf(\"%s\", ptr);\n",
    "    printf(\"%s\", str);\n",
    "    return (0);\n",
    "}\n",
    "julien@ubuntu:~/0x06$ gcc -Wall -pedantic -Werror -Wextra -std=gnu89 6-main.c 6-cap_string.c -o 6-cap\n",
    "julien@ubuntu:~/0x06$ ./6-cap \n",
    "Expect The Best. Prepare For The Worst. Capitalize On What Comes.\n",
    "Hello World! Hello-world 0123456hello World Hello World.Hello World\n",
    "Expect The Best. Prepare For The Worst. Capitalize On What Comes.\n",
    "Hello World! Hello-world 0123456hello World Hello World.Hello World\n",
    "julien@ubuntu:~/0x06$   \n",
    "```\n",
    "\n",
    "#### Repo:\n",
    "* GitHub repository: ``` alx-low_level_programming ```\n",
    "* Directory: ```0x06-pointers_arrays_strings``` \n",
    "* File: ```6-cap_string.c```"
   ]
  },
  {
   "cell_type": "code",
   "execution_count": 1,
   "metadata": {},
   "outputs": [
    {
     "name": "stdout",
     "output_type": "stream",
     "text": [
      "Writing 0x06-pointers_arrays_strings/6-main.c\n"
     ]
    }
   ],
   "source": [
    "%%file 0x06-pointers_arrays_strings/6-main.c\n",
    "#include \"main.h\"\n",
    "#include <stdio.h>\n",
    "\n",
    "/**\n",
    " * main - check the code\n",
    " *\n",
    " * Return: Always 0.\n",
    " */\n",
    "int main(void)\n",
    "{\n",
    "    char str[] = \"Expect the best. Prepare for the worst. Capitalize on what comes.\\nhello world! hello-world 0123456hello world\\thello world.hello world\\n\";\n",
    "    char *ptr;\n",
    "\n",
    "    ptr = cap_string(str);\n",
    "    printf(\"%s\", ptr);\n",
    "    printf(\"%s\", str);\n",
    "    return (0);\n",
    "}"
   ]
  },
  {
   "cell_type": "code",
   "execution_count": 2,
   "metadata": {},
   "outputs": [
    {
     "name": "stdout",
     "output_type": "stream",
     "text": [
      "Overwriting 0x06-pointers_arrays_strings/main.h\n"
     ]
    }
   ],
   "source": [
    "%%file 0x06-pointers_arrays_strings/main.h\n",
    "#ifndef FILE_MAIN\n",
    "#define FILE_MAIN\n",
    "\n",
    "#include <stdio.h>\n",
    "\n",
    "int _putchar(char c);\n",
    "void reset_to_98(int *n);\n",
    "void swap_int(int *a, int *b);\n",
    "int _strlen(char *s);\n",
    "void _puts(char *str);\n",
    "void print_rev(char *s);\n",
    "void rev_string(char *s);\n",
    "char *string_toupper(char *);\n",
    "char *cap_string(char *);\n",
    "\n",
    "#endif\n"
   ]
  },
  {
   "cell_type": "code",
   "execution_count": 3,
   "metadata": {},
   "outputs": [
    {
     "name": "stdout",
     "output_type": "stream",
     "text": [
      "Writing 0x06-pointers_arrays_strings/6-cap_string.c\n"
     ]
    }
   ],
   "source": [
    "%%file 0x06-pointers_arrays_strings/6-cap_string.c\n",
    "#include \"main.h\"\n",
    "\n",
    "int is_separator(char c);\n",
    "\n",
    "/**\n",
    "* cap_string - Capitalizes all words of a string\n",
    "* @s: The string to be modified\n",
    "*\n",
    "* Return: A pointer to the modified string\n",
    "*/\n",
    "char *cap_string(char *s)\n",
    "{\n",
    "int i = 0;\n",
    "\n",
    "/* Capitalize the first character if it is a lowercase letter */\n",
    "if (s[i] >= 'a' && s[i] <= 'z')\n",
    "{\n",
    "s[i] -= 'a' - 'A';\n",
    "}\n",
    "\n",
    "/* Iterate through the string */\n",
    "for (i = 1; s[i] != '\\0'; i++)\n",
    "{\n",
    "/* If the character is a separator and the next character is a lowercase letter, capitalize it */\n",
    "if (is_separator(s[i - 1]) && (s[i] >= 'a' && s[i] <= 'z'))\n",
    "{\n",
    "s[i] -= 'a' - 'A';\n",
    "}\n",
    "}\n",
    "\n",
    "    return s;\n",
    "}\n",
    "\n",
    "/**\n",
    " * is_separator - Checks if a character is a word separator\n",
    " * @c: The character to be checked\n",
    " *\n",
    " * Return: 1 if the character is a separator, 0 otherwise\n",
    " */\n",
    "int is_separator(char c)\n",
    "{\n",
    "    char separators[] = \" \\t\\n,;.!?\\\"(){}\";\n",
    "    int i;\n",
    "\n",
    "    for (i = 0; separators[i] != '\\0'; i++)\n",
    "    {\n",
    "        if (c == separators[i])\n",
    "        {\n",
    "            return 1;\n",
    "        }\n",
    "    }\n",
    "\n",
    "    return 0;\n",
    "}\n",
    "\n",
    "\n"
   ]
  },
  {
   "cell_type": "code",
   "execution_count": 16,
   "metadata": {},
   "outputs": [
    {
     "name": "stdout",
     "output_type": "stream",
     "text": [
      "\n",
      "========== 0x06-pointers_arrays_strings/6-cap_string.c ==========\n",
      "0x06-pointers_arrays_strings/6-cap_string.c:9: ERROR: trailing whitespace\n",
      "0x06-pointers_arrays_strings/6-cap_string.c:9: WARNING: please, no spaces at the start of a line\n",
      "0x06-pointers_arrays_strings/6-cap_string.c:12: WARNING: please, no spaces at the start of a line\n",
      "0x06-pointers_arrays_strings/6-cap_string.c:13: WARNING: please, no spaces at the start of a line\n",
      "0x06-pointers_arrays_strings/6-cap_string.c:15: WARNING: please, no spaces at the start of a line\n",
      "0x06-pointers_arrays_strings/6-cap_string.c:16: WARNING: please, no spaces at the start of a line\n",
      "0x06-pointers_arrays_strings/6-cap_string.c:17: ERROR: code indent should use tabs where possible\n",
      "0x06-pointers_arrays_strings/6-cap_string.c:17: WARNING: please, no spaces at the start of a line\n",
      "0x06-pointers_arrays_strings/6-cap_string.c:17: WARNING: suspect code indent for conditional statements (8, 12)\n",
      "0x06-pointers_arrays_strings/6-cap_string.c:18: ERROR: code indent should use tabs where possible\n",
      "0x06-pointers_arrays_strings/6-cap_string.c:18: WARNING: please, no spaces at the start of a line\n",
      "0x06-pointers_arrays_strings/6-cap_string.c:19: ERROR: code indent should use tabs where possible\n",
      "0x06-pointers_arrays_strings/6-cap_string.c:19: WARNING: please, no spaces at the start of a line\n",
      "0x06-pointers_arrays_strings/6-cap_string.c:19: ERROR: parentheses are required on a return statement\n",
      "0x06-pointers_arrays_strings/6-cap_string.c:20: ERROR: code indent should use tabs where possible\n",
      "0x06-pointers_arrays_strings/6-cap_string.c:20: WARNING: please, no spaces at the start of a line\n",
      "0x06-pointers_arrays_strings/6-cap_string.c:21: WARNING: please, no spaces at the start of a line\n",
      "0x06-pointers_arrays_strings/6-cap_string.c:22: WARNING: please, no spaces at the start of a line\n",
      "0x06-pointers_arrays_strings/6-cap_string.c:22: ERROR: parentheses are required on a return statement\n",
      "0x06-pointers_arrays_strings/6-cap_string.c:33: WARNING: please, no spaces at the start of a line\n",
      "0x06-pointers_arrays_strings/6-cap_string.c:36: WARNING: please, no spaces at the start of a line\n",
      "0x06-pointers_arrays_strings/6-cap_string.c:37: WARNING: please, no spaces at the start of a line\n",
      "0x06-pointers_arrays_strings/6-cap_string.c:38: ERROR: code indent should use tabs where possible\n",
      "0x06-pointers_arrays_strings/6-cap_string.c:38: WARNING: please, no spaces at the start of a line\n",
      "0x06-pointers_arrays_strings/6-cap_string.c:39: WARNING: please, no spaces at the start of a line\n",
      "0x06-pointers_arrays_strings/6-cap_string.c:42: WARNING: please, no spaces at the start of a line\n",
      "0x06-pointers_arrays_strings/6-cap_string.c:43: WARNING: please, no spaces at the start of a line\n",
      "0x06-pointers_arrays_strings/6-cap_string.c:44: WARNING: line over 80 characters (102)\n",
      "0x06-pointers_arrays_strings/6-cap_string.c:44: ERROR: code indent should use tabs where possible\n",
      "0x06-pointers_arrays_strings/6-cap_string.c:45: ERROR: code indent should use tabs where possible\n",
      "0x06-pointers_arrays_strings/6-cap_string.c:45: WARNING: please, no spaces at the start of a line\n",
      "total: 10 errors, 21 warnings, 47 lines checked\n",
      "is_separator\n",
      "cap_string\n"
     ]
    },
    {
     "name": "stderr",
     "output_type": "stream",
     "text": [
      "0x06-pointers_arrays_strings/6-cap_string.c: In function ‘cap_string’:\n",
      "0x06-pointers_arrays_strings/6-cap_string.c:45:9: error: expected expression at end of input\n",
      "   45 |         if (str[i] >= 'a' && str[i] <=\n",
      "      |         ^~\n",
      "0x06-pointers_arrays_strings/6-cap_string.c:45:9: error: this ‘if’ clause does not guard... [-Werror=misleading-indentation]\n",
      "0x06-pointers_arrays_strings/6-cap_string.c:47: note: ...this statement, but the latter is misleadingly indented as if it were guarded by the ‘if’\n",
      "   47 | \n",
      "      | \n",
      "0x06-pointers_arrays_strings/6-cap_string.c:45:9: error: expected declaration or statement at end of input\n",
      "   45 |         if (str[i] >= 'a' && str[i] <=\n",
      "      |         ^~\n",
      "0x06-pointers_arrays_strings/6-cap_string.c:45:9: error: expected declaration or statement at end of input\n",
      "0x06-pointers_arrays_strings/6-cap_string.c:47: error: control reaches end of non-void function [-Werror=return-type]\n",
      "   47 | \n",
      "      | \n",
      "cc1: all warnings being treated as errors\n",
      "bash: line 3: ./0x06-pointers_arrays_strings/6-cap_string: No such file or directory\n"
     ]
    },
    {
     "ename": "CalledProcessError",
     "evalue": "Command 'b'betty 0x06-pointers_arrays_strings/6-cap_string.c\\ngcc -Wall -pedantic -Werror -Wextra -std=gnu89 0x06-pointers_arrays_strings/6-main.c 0x06-pointers_arrays_strings/6-cap_string.c -o 0x06-pointers_arrays_strings/6-cap_string\\n./0x06-pointers_arrays_strings/6-cap_string\\n'' returned non-zero exit status 127.",
     "output_type": "error",
     "traceback": [
      "\u001b[0;31m---------------------------------------------------------------------------\u001b[0m",
      "\u001b[0;31mCalledProcessError\u001b[0m                        Traceback (most recent call last)",
      "Cell \u001b[0;32mIn[16], line 1\u001b[0m\n\u001b[0;32m----> 1\u001b[0m \u001b[43mget_ipython\u001b[49m\u001b[43m(\u001b[49m\u001b[43m)\u001b[49m\u001b[38;5;241;43m.\u001b[39;49m\u001b[43mrun_cell_magic\u001b[49m\u001b[43m(\u001b[49m\u001b[38;5;124;43m'\u001b[39;49m\u001b[38;5;124;43mbash\u001b[39;49m\u001b[38;5;124;43m'\u001b[39;49m\u001b[43m,\u001b[49m\u001b[43m \u001b[49m\u001b[38;5;124;43m'\u001b[39;49m\u001b[38;5;124;43m'\u001b[39;49m\u001b[43m,\u001b[49m\u001b[43m \u001b[49m\u001b[38;5;124;43m'\u001b[39;49m\u001b[38;5;124;43mbetty 0x06-pointers_arrays_strings/6-cap_string.c\u001b[39;49m\u001b[38;5;130;43;01m\\n\u001b[39;49;00m\u001b[38;5;124;43mgcc -Wall -pedantic -Werror -Wextra -std=gnu89 0x06-pointers_arrays_strings/6-main.c 0x06-pointers_arrays_strings/6-cap_string.c -o 0x06-pointers_arrays_strings/6-cap_string\u001b[39;49m\u001b[38;5;130;43;01m\\n\u001b[39;49;00m\u001b[38;5;124;43m./0x06-pointers_arrays_strings/6-cap_string\u001b[39;49m\u001b[38;5;130;43;01m\\n\u001b[39;49;00m\u001b[38;5;124;43m'\u001b[39;49m\u001b[43m)\u001b[49m\n",
      "File \u001b[0;32m~/anaconda3/envs/alxse/lib/python3.12/site-packages/IPython/core/interactiveshell.py:2541\u001b[0m, in \u001b[0;36mInteractiveShell.run_cell_magic\u001b[0;34m(self, magic_name, line, cell)\u001b[0m\n\u001b[1;32m   2539\u001b[0m \u001b[38;5;28;01mwith\u001b[39;00m \u001b[38;5;28mself\u001b[39m\u001b[38;5;241m.\u001b[39mbuiltin_trap:\n\u001b[1;32m   2540\u001b[0m     args \u001b[38;5;241m=\u001b[39m (magic_arg_s, cell)\n\u001b[0;32m-> 2541\u001b[0m     result \u001b[38;5;241m=\u001b[39m \u001b[43mfn\u001b[49m\u001b[43m(\u001b[49m\u001b[38;5;241;43m*\u001b[39;49m\u001b[43margs\u001b[49m\u001b[43m,\u001b[49m\u001b[43m \u001b[49m\u001b[38;5;241;43m*\u001b[39;49m\u001b[38;5;241;43m*\u001b[39;49m\u001b[43mkwargs\u001b[49m\u001b[43m)\u001b[49m\n\u001b[1;32m   2543\u001b[0m \u001b[38;5;66;03m# The code below prevents the output from being displayed\u001b[39;00m\n\u001b[1;32m   2544\u001b[0m \u001b[38;5;66;03m# when using magics with decorator @output_can_be_silenced\u001b[39;00m\n\u001b[1;32m   2545\u001b[0m \u001b[38;5;66;03m# when the last Python token in the expression is a ';'.\u001b[39;00m\n\u001b[1;32m   2546\u001b[0m \u001b[38;5;28;01mif\u001b[39;00m \u001b[38;5;28mgetattr\u001b[39m(fn, magic\u001b[38;5;241m.\u001b[39mMAGIC_OUTPUT_CAN_BE_SILENCED, \u001b[38;5;28;01mFalse\u001b[39;00m):\n",
      "File \u001b[0;32m~/anaconda3/envs/alxse/lib/python3.12/site-packages/IPython/core/magics/script.py:155\u001b[0m, in \u001b[0;36mScriptMagics._make_script_magic.<locals>.named_script_magic\u001b[0;34m(line, cell)\u001b[0m\n\u001b[1;32m    153\u001b[0m \u001b[38;5;28;01melse\u001b[39;00m:\n\u001b[1;32m    154\u001b[0m     line \u001b[38;5;241m=\u001b[39m script\n\u001b[0;32m--> 155\u001b[0m \u001b[38;5;28;01mreturn\u001b[39;00m \u001b[38;5;28;43mself\u001b[39;49m\u001b[38;5;241;43m.\u001b[39;49m\u001b[43mshebang\u001b[49m\u001b[43m(\u001b[49m\u001b[43mline\u001b[49m\u001b[43m,\u001b[49m\u001b[43m \u001b[49m\u001b[43mcell\u001b[49m\u001b[43m)\u001b[49m\n",
      "File \u001b[0;32m~/anaconda3/envs/alxse/lib/python3.12/site-packages/IPython/core/magics/script.py:315\u001b[0m, in \u001b[0;36mScriptMagics.shebang\u001b[0;34m(self, line, cell)\u001b[0m\n\u001b[1;32m    310\u001b[0m \u001b[38;5;28;01mif\u001b[39;00m args\u001b[38;5;241m.\u001b[39mraise_error \u001b[38;5;129;01mand\u001b[39;00m p\u001b[38;5;241m.\u001b[39mreturncode \u001b[38;5;241m!=\u001b[39m \u001b[38;5;241m0\u001b[39m:\n\u001b[1;32m    311\u001b[0m     \u001b[38;5;66;03m# If we get here and p.returncode is still None, we must have\u001b[39;00m\n\u001b[1;32m    312\u001b[0m     \u001b[38;5;66;03m# killed it but not yet seen its return code. We don't wait for it,\u001b[39;00m\n\u001b[1;32m    313\u001b[0m     \u001b[38;5;66;03m# in case it's stuck in uninterruptible sleep. -9 = SIGKILL\u001b[39;00m\n\u001b[1;32m    314\u001b[0m     rc \u001b[38;5;241m=\u001b[39m p\u001b[38;5;241m.\u001b[39mreturncode \u001b[38;5;129;01mor\u001b[39;00m \u001b[38;5;241m-\u001b[39m\u001b[38;5;241m9\u001b[39m\n\u001b[0;32m--> 315\u001b[0m     \u001b[38;5;28;01mraise\u001b[39;00m CalledProcessError(rc, cell)\n",
      "\u001b[0;31mCalledProcessError\u001b[0m: Command 'b'betty 0x06-pointers_arrays_strings/6-cap_string.c\\ngcc -Wall -pedantic -Werror -Wextra -std=gnu89 0x06-pointers_arrays_strings/6-main.c 0x06-pointers_arrays_strings/6-cap_string.c -o 0x06-pointers_arrays_strings/6-cap_string\\n./0x06-pointers_arrays_strings/6-cap_string\\n'' returned non-zero exit status 127."
     ]
    }
   ],
   "source": [
    "%%bash\n",
    "betty 0x06-pointers_arrays_strings/6-cap_string.c\n",
    "gcc -Wall -pedantic -Werror -Wextra -std=gnu89 0x06-pointers_arrays_strings/6-main.c 0x06-pointers_arrays_strings/6-cap_string.c -o 0x06-pointers_arrays_strings/6-cap_string\n",
    "./0x06-pointers_arrays_strings/6-cap_string"
   ]
  },
  {
   "cell_type": "code",
   "execution_count": 12,
   "metadata": {},
   "outputs": [
    {
     "name": "stdout",
     "output_type": "stream",
     "text": [
      "[main 2fd2147] alx-low_level_programming/0x04-more_functions_nested_loops\n",
      " 3 files changed, 44 insertions(+), 39 deletions(-)\n",
      " rewrite 0x05-pointers_arrays_strings/6-main.c (90%)\n",
      " create mode 100644 0x05-pointers_arrays_strings/6-puts2.c\n"
     ]
    },
    {
     "name": "stderr",
     "output_type": "stream",
     "text": [
      "To github.com:elkomysara/alx-low_level_programming.git\n",
      "   68e08b8..2fd2147  main -> main\n"
     ]
    }
   ],
   "source": [
    "%%bash\n",
    "git add .\n",
    "git commit -m \"alx-low_level_programming/0x06-pointers_arrays_strings\"\n",
    "git push"
   ]
  },
  {
   "cell_type": "code",
   "execution_count": null,
   "metadata": {},
   "outputs": [],
   "source": []
  },
  {
   "cell_type": "markdown",
   "metadata": {},
   "source": [
    "###\n",
    "---\n",
    "<center>\n",
    "<h4> 7. Mozart composed his music not for the elite, but for everybody\n",
    " </h4>\n",
    "</center>\n",
    "\n",
    "---"
   ]
  },
  {
   "cell_type": "markdown",
   "metadata": {},
   "source": [
    "\n",
    "####  Write a function that prints half of a string, followed by a new line.\n",
    "\n",
    "* Prototype: `void puts_half(char *str);`\n",
    "* The function should print the second half of the string\n",
    "* If the number of characters is odd, the function should print the last n characters of the string, where `n = (length_of_the_string - 1) / 2`\n",
    "\n",
    "```bash\n",
    "julien@ubuntu:~/0x05$ cat 7-main.c\n",
    "#include \"main.h\"\n",
    "\n",
    "/**\n",
    " * main - check the code\n",
    " *\n",
    " * Return: Always 0.\n",
    " */\n",
    "int main(void)\n",
    "{\n",
    "    char *str;\n",
    "\n",
    "    str = \"0123456789\";\n",
    "    puts_half(str);\n",
    "    return (0);\n",
    "}\n",
    "julien@ubuntu:~/0x05$ gcc -Wall -pedantic -Werror -Wextra -std=gnu89 _putchar.c 7-main.c 7-puts_half.c -o 7-puts_half\n",
    "julien@ubuntu:~/0x05$ ./7-puts_half \n",
    "56789\n",
    "julien@ubuntu:~/0x05$\n",
    "\n",
    "```\n",
    "\n",
    "#### Repo:\n",
    "* GitHub repository: ``` alx-low_level_programming ```\n",
    "* Directory: ```0x05-pointers_arrays_strings``` \n",
    "* File: ```7-puts_half.c```"
   ]
  },
  {
   "cell_type": "code",
   "execution_count": 16,
   "metadata": {},
   "outputs": [
    {
     "name": "stdout",
     "output_type": "stream",
     "text": [
      "Overwriting 0x05-pointers_arrays_strings/7-main.c\n"
     ]
    }
   ],
   "source": [
    "%%file 0x06-pointers_arrays_strings/7-main.c\n",
    "#include \"main.h\"\n",
    "\n",
    "/**\n",
    " * main - check the code\n",
    " *\n",
    " * Return: Always 0.\n",
    " */\n",
    "int main(void)\n",
    "{\n",
    "    char *str;\n",
    "\n",
    "    str = \"0123456789\";\n",
    "    puts_half(str);\n",
    "    return (0);\n",
    "}"
   ]
  },
  {
   "cell_type": "code",
   "execution_count": 17,
   "metadata": {},
   "outputs": [
    {
     "name": "stdout",
     "output_type": "stream",
     "text": [
      "Overwriting 0x05-pointers_arrays_strings/main.h\n"
     ]
    }
   ],
   "source": [
    "%%file 0x06-pointers_arrays_strings/main.h\n",
    "#ifndef FILE_MAIN\n",
    "#define FILE_MAIN\n",
    "\n",
    "#include <stdio.h>\n",
    "\n",
    "int _putchar(char c);\n",
    "void reset_to_98(int *n);\n",
    "void swap_int(int *a, int *b);\n",
    "int _strlen(char *s);\n",
    "void _puts(char *str);\n",
    "void print_rev(char *s);\n",
    "void rev_string(char *s);\n",
    "void puts2(char *str);\n",
    "void puts_half(char *str);\n",
    "#endif\n"
   ]
  },
  {
   "cell_type": "code",
   "execution_count": 22,
   "metadata": {},
   "outputs": [
    {
     "name": "stdout",
     "output_type": "stream",
     "text": [
      "Overwriting 0x05-pointers_arrays_strings/7-puts_half.c\n"
     ]
    }
   ],
   "source": [
    "%%file 0x06-pointers_arrays_strings/7-puts_half.c\n",
    "#include \"main.h\"\n",
    "\n",
    "/**\n",
    "* puts_half - prints every other character of a string,\n",
    "* starting with the first character, followed by a new line.\n",
    "* @str: the string to be printed.\n",
    "*/\n",
    "void puts_half(char *str)\n",
    "{\n",
    "int i = 0; /* printing counter*/\n",
    "int length = 0; /* counter for the if condition*/\n",
    "\n",
    "/* Calculate the length of the string */\n",
    "while (str[length] != '\\0')\n",
    "{\n",
    "length++;\n",
    "}\n",
    "\n",
    "/* Determine the starting point for the printing */\n",
    "if (length % 2 == 0)\n",
    "{\n",
    "i = length / 2;\n",
    "}\n",
    "else\n",
    "/* printing the last n characters of the string */\n",
    "/* n = (length_of_the_string -1)/2 */\n",
    "{\n",
    "i = (length - 1) / 2 + 1;\n",
    "}\n",
    "\n",
    "/* Print the second half of the string */\n",
    "while (i < length)\n",
    "{\n",
    "_putchar(str[i]);\n",
    "i++;\n",
    "}\n",
    "\n",
    "/* Print a newline character */\n",
    "_putchar('\\n');\n",
    "}\n",
    "\n"
   ]
  },
  {
   "cell_type": "code",
   "execution_count": 23,
   "metadata": {},
   "outputs": [
    {
     "name": "stdout",
     "output_type": "stream",
     "text": [
      "Overwriting 0x05-pointers_arrays_strings/_putchar.c\n"
     ]
    }
   ],
   "source": [
    "%%file 0x06-pointers_arrays_strings/_putchar.c\n",
    "#include <unistd.h>\n",
    "#include \"main.h\"\n",
    "/**\n",
    " * _putchar - writes the character c to stdout\n",
    " * @c: The character to print\n",
    " *\n",
    " * Return: On success 1.\n",
    " * On error, -1 is returned, and errno is set appropriately.\n",
    " */\n",
    "int _putchar(char c)\n",
    "{\n",
    "\treturn (write(1, &c, 1));\n",
    "}\n"
   ]
  },
  {
   "cell_type": "code",
   "execution_count": 24,
   "metadata": {},
   "outputs": [
    {
     "name": "stdout",
     "output_type": "stream",
     "text": [
      "\n",
      "========== 0x05-pointers_arrays_strings/7-puts_half.c ==========\n",
      "puts_half\n"
     ]
    },
    {
     "name": "stderr",
     "output_type": "stream",
     "text": [
      "/usr/bin/ld: /tmp/ccyjhSEJ.o: in function `puts_half':\n",
      "7-puts_half.c:(.text+0x0): multiple definition of `puts_half'; /tmp/ccNXJE3L.o:7-puts_half.c:(.text+0x0): first defined here\n",
      "/usr/bin/ld: /usr/lib/gcc/x86_64-linux-gnu/9/../../../x86_64-linux-gnu/Scrt1.o: in function `_start':\n",
      "(.text+0x24): undefined reference to `main'\n",
      "/usr/bin/ld: /tmp/ccNXJE3L.o: in function `puts_half':\n",
      "7-puts_half.c:(.text+0x80): undefined reference to `_putchar'\n",
      "/usr/bin/ld: 7-puts_half.c:(.text+0x96): undefined reference to `_putchar'\n",
      "/usr/bin/ld: /tmp/ccyjhSEJ.o: in function `puts_half':\n",
      "7-puts_half.c:(.text+0x80): undefined reference to `_putchar'\n",
      "/usr/bin/ld: 7-puts_half.c:(.text+0x96): undefined reference to `_putchar'\n",
      "collect2: error: ld returned 1 exit status\n",
      "bash: line 3: ./0x05-pointers_arrays_strings/7-puts_half: No such file or directory\n"
     ]
    },
    {
     "ename": "CalledProcessError",
     "evalue": "Command 'b'betty 0x05-pointers_arrays_strings/7-puts_half.c\\ngcc -Wall -pedantic -Werror -Wextra -std=gnu89 0x05-pointers_arrays_strings/7-puts_half.c 0x05-pointers_arrays_strings/7-puts_half.c -o 0x05-pointers_arrays_strings/7-puts_half\\n./0x05-pointers_arrays_strings/7-puts_half\\n'' returned non-zero exit status 127.",
     "output_type": "error",
     "traceback": [
      "\u001b[0;31m---------------------------------------------------------------------------\u001b[0m",
      "\u001b[0;31mCalledProcessError\u001b[0m                        Traceback (most recent call last)",
      "Cell \u001b[0;32mIn[24], line 1\u001b[0m\n\u001b[0;32m----> 1\u001b[0m \u001b[43mget_ipython\u001b[49m\u001b[43m(\u001b[49m\u001b[43m)\u001b[49m\u001b[38;5;241;43m.\u001b[39;49m\u001b[43mrun_cell_magic\u001b[49m\u001b[43m(\u001b[49m\u001b[38;5;124;43m'\u001b[39;49m\u001b[38;5;124;43mbash\u001b[39;49m\u001b[38;5;124;43m'\u001b[39;49m\u001b[43m,\u001b[49m\u001b[43m \u001b[49m\u001b[38;5;124;43m'\u001b[39;49m\u001b[38;5;124;43m'\u001b[39;49m\u001b[43m,\u001b[49m\u001b[43m \u001b[49m\u001b[38;5;124;43m'\u001b[39;49m\u001b[38;5;124;43mbetty 0x05-pointers_arrays_strings/7-puts_half.c\u001b[39;49m\u001b[38;5;130;43;01m\\n\u001b[39;49;00m\u001b[38;5;124;43mgcc -Wall -pedantic -Werror -Wextra -std=gnu89 0x05-pointers_arrays_strings/7-puts_half.c 0x05-pointers_arrays_strings/7-puts_half.c -o 0x05-pointers_arrays_strings/7-puts_half\u001b[39;49m\u001b[38;5;130;43;01m\\n\u001b[39;49;00m\u001b[38;5;124;43m./0x05-pointers_arrays_strings/7-puts_half\u001b[39;49m\u001b[38;5;130;43;01m\\n\u001b[39;49;00m\u001b[38;5;124;43m'\u001b[39;49m\u001b[43m)\u001b[49m\n",
      "File \u001b[0;32m~/anaconda3/envs/alxse/lib/python3.12/site-packages/IPython/core/interactiveshell.py:2541\u001b[0m, in \u001b[0;36mInteractiveShell.run_cell_magic\u001b[0;34m(self, magic_name, line, cell)\u001b[0m\n\u001b[1;32m   2539\u001b[0m \u001b[38;5;28;01mwith\u001b[39;00m \u001b[38;5;28mself\u001b[39m\u001b[38;5;241m.\u001b[39mbuiltin_trap:\n\u001b[1;32m   2540\u001b[0m     args \u001b[38;5;241m=\u001b[39m (magic_arg_s, cell)\n\u001b[0;32m-> 2541\u001b[0m     result \u001b[38;5;241m=\u001b[39m \u001b[43mfn\u001b[49m\u001b[43m(\u001b[49m\u001b[38;5;241;43m*\u001b[39;49m\u001b[43margs\u001b[49m\u001b[43m,\u001b[49m\u001b[43m \u001b[49m\u001b[38;5;241;43m*\u001b[39;49m\u001b[38;5;241;43m*\u001b[39;49m\u001b[43mkwargs\u001b[49m\u001b[43m)\u001b[49m\n\u001b[1;32m   2543\u001b[0m \u001b[38;5;66;03m# The code below prevents the output from being displayed\u001b[39;00m\n\u001b[1;32m   2544\u001b[0m \u001b[38;5;66;03m# when using magics with decorator @output_can_be_silenced\u001b[39;00m\n\u001b[1;32m   2545\u001b[0m \u001b[38;5;66;03m# when the last Python token in the expression is a ';'.\u001b[39;00m\n\u001b[1;32m   2546\u001b[0m \u001b[38;5;28;01mif\u001b[39;00m \u001b[38;5;28mgetattr\u001b[39m(fn, magic\u001b[38;5;241m.\u001b[39mMAGIC_OUTPUT_CAN_BE_SILENCED, \u001b[38;5;28;01mFalse\u001b[39;00m):\n",
      "File \u001b[0;32m~/anaconda3/envs/alxse/lib/python3.12/site-packages/IPython/core/magics/script.py:155\u001b[0m, in \u001b[0;36mScriptMagics._make_script_magic.<locals>.named_script_magic\u001b[0;34m(line, cell)\u001b[0m\n\u001b[1;32m    153\u001b[0m \u001b[38;5;28;01melse\u001b[39;00m:\n\u001b[1;32m    154\u001b[0m     line \u001b[38;5;241m=\u001b[39m script\n\u001b[0;32m--> 155\u001b[0m \u001b[38;5;28;01mreturn\u001b[39;00m \u001b[38;5;28;43mself\u001b[39;49m\u001b[38;5;241;43m.\u001b[39;49m\u001b[43mshebang\u001b[49m\u001b[43m(\u001b[49m\u001b[43mline\u001b[49m\u001b[43m,\u001b[49m\u001b[43m \u001b[49m\u001b[43mcell\u001b[49m\u001b[43m)\u001b[49m\n",
      "File \u001b[0;32m~/anaconda3/envs/alxse/lib/python3.12/site-packages/IPython/core/magics/script.py:315\u001b[0m, in \u001b[0;36mScriptMagics.shebang\u001b[0;34m(self, line, cell)\u001b[0m\n\u001b[1;32m    310\u001b[0m \u001b[38;5;28;01mif\u001b[39;00m args\u001b[38;5;241m.\u001b[39mraise_error \u001b[38;5;129;01mand\u001b[39;00m p\u001b[38;5;241m.\u001b[39mreturncode \u001b[38;5;241m!=\u001b[39m \u001b[38;5;241m0\u001b[39m:\n\u001b[1;32m    311\u001b[0m     \u001b[38;5;66;03m# If we get here and p.returncode is still None, we must have\u001b[39;00m\n\u001b[1;32m    312\u001b[0m     \u001b[38;5;66;03m# killed it but not yet seen its return code. We don't wait for it,\u001b[39;00m\n\u001b[1;32m    313\u001b[0m     \u001b[38;5;66;03m# in case it's stuck in uninterruptible sleep. -9 = SIGKILL\u001b[39;00m\n\u001b[1;32m    314\u001b[0m     rc \u001b[38;5;241m=\u001b[39m p\u001b[38;5;241m.\u001b[39mreturncode \u001b[38;5;129;01mor\u001b[39;00m \u001b[38;5;241m-\u001b[39m\u001b[38;5;241m9\u001b[39m\n\u001b[0;32m--> 315\u001b[0m     \u001b[38;5;28;01mraise\u001b[39;00m CalledProcessError(rc, cell)\n",
      "\u001b[0;31mCalledProcessError\u001b[0m: Command 'b'betty 0x05-pointers_arrays_strings/7-puts_half.c\\ngcc -Wall -pedantic -Werror -Wextra -std=gnu89 0x05-pointers_arrays_strings/7-puts_half.c 0x05-pointers_arrays_strings/7-puts_half.c -o 0x05-pointers_arrays_strings/7-puts_half\\n./0x05-pointers_arrays_strings/7-puts_half\\n'' returned non-zero exit status 127."
     ]
    }
   ],
   "source": [
    "%%bash\n",
    "betty 0x06-pointers_arrays_strings/7-puts_half.c\n",
    "gcc -Wall -pedantic -Werror -Wextra -std=gnu89 0x06-pointers_arrays_strings/7-puts_half.c 0x06-pointers_arrays_strings/7-puts_half.c -o 0x06-pointers_arrays_strings/7-puts_half\n",
    "./0x06-pointers_arrays_strings/7-puts_half"
   ]
  },
  {
   "cell_type": "code",
   "execution_count": 25,
   "metadata": {},
   "outputs": [
    {
     "name": "stdout",
     "output_type": "stream",
     "text": [
      "[main 1c16e17] alx-low_level_programming/0x04-more_functions_nested_loops\n",
      " 1 file changed, 1 insertion(+), 1 deletion(-)\n"
     ]
    },
    {
     "name": "stderr",
     "output_type": "stream",
     "text": [
      "To github.com:elkomysara/alx-low_level_programming.git\n",
      "   2f04d72..1c16e17  main -> main\n"
     ]
    }
   ],
   "source": [
    "%%bash\n",
    "git add .\n",
    "git commit -m \"alx-low_level_programming/0x06-pointers_arrays_strings\"\n",
    "git push"
   ]
  },
  {
   "cell_type": "markdown",
   "metadata": {},
   "source": [
    "###\n",
    "---\n",
    "<center>\n",
    "<h4> 8. rot13\n",
    " </h4>\n",
    "</center>\n",
    "\n",
    "---"
   ]
  },
  {
   "cell_type": "markdown",
   "metadata": {},
   "source": [
    "\n",
    "####  Write a function that prints n elements of an array of integers, followed by a new line.\n",
    "\n",
    "* Prototype: `void print_array(int *a, int n);`\n",
    "* where `n` is the number of elements of the array to be printed\n",
    "* Numbers must be separated by comma, followed by a space\n",
    "* The numbers should be displayed in the same order as they are stored in the array\n",
    "* You are allowed to use `printf`\n",
    "\n",
    "```bash\n",
    "julien@ubuntu:~/0x05$ cat 8-main.c\n",
    "#include \"main.h\"\n",
    "\n",
    "/**\n",
    " * main - check the code for\n",
    " *\n",
    " * Return: Always 0.\n",
    " */\n",
    "int main(void)\n",
    "{\n",
    "    int array[5];\n",
    "\n",
    "    array[0] = 98;\n",
    "    array[1] = 402;\n",
    "    array[2] = -198;\n",
    "    array[3] = 298;\n",
    "    array[4] = -1024;\n",
    "    print_array(array, 5);\n",
    "    return (0);\n",
    "}\n",
    "julien@ubuntu:~/0x05$ gcc -Wall -pedantic -Werror -Wextra -std=gnu89 8-main.c 8-print_array.c -o 8-print_array\n",
    "julien@ubuntu:~/0x05$ ./8-print_array \n",
    "98, 402, -198, 298, -1024\n",
    "julien@ubuntu:~/0x05$\n",
    "\n",
    "```\n",
    "\n",
    "#### Repo:\n",
    "* GitHub repository: ``` alx-low_level_programming ```\n",
    "* Directory: ```0x05-pointers_arrays_strings``` \n",
    "* File: ```8-print_array.c```"
   ]
  },
  {
   "cell_type": "code",
   "execution_count": 26,
   "metadata": {},
   "outputs": [
    {
     "name": "stdout",
     "output_type": "stream",
     "text": [
      "Overwriting 0x05-pointers_arrays_strings/8-main.c\n"
     ]
    }
   ],
   "source": [
    "%%file 0x06-pointers_arrays_strings/8-main.c\n",
    "#include \"main.h\"\n",
    "\n",
    "/**\n",
    " * main - check the code for\n",
    " *\n",
    " * Return: Always 0.\n",
    " */\n",
    "int main(void)\n",
    "{\n",
    "    int array[5];\n",
    "\n",
    "    array[0] = 98;\n",
    "    array[1] = 402;\n",
    "    array[2] = -198;\n",
    "    array[3] = 298;\n",
    "    array[4] = -1024;\n",
    "    print_array(array, 5);\n",
    "    return (0);\n",
    "}"
   ]
  },
  {
   "cell_type": "code",
   "execution_count": 27,
   "metadata": {},
   "outputs": [
    {
     "name": "stdout",
     "output_type": "stream",
     "text": [
      "Overwriting 0x05-pointers_arrays_strings/main.h\n"
     ]
    }
   ],
   "source": [
    "%%file 0x06-pointers_arrays_strings/main.h\n",
    "#ifndef FILE_MAIN\n",
    "#define FILE_MAIN\n",
    "\n",
    "#include <stdio.h>\n",
    "\n",
    "int _putchar(char c);\n",
    "void reset_to_98(int *n);\n",
    "void swap_int(int *a, int *b);\n",
    "int _strlen(char *s);\n",
    "void _puts(char *str);\n",
    "void print_rev(char *s);\n",
    "void rev_string(char *s);\n",
    "void puts2(char *str);\n",
    "void puts_half(char *str);\n",
    "void print_array(int *a, int n);\n",
    "\n",
    "#endif\n"
   ]
  },
  {
   "cell_type": "code",
   "execution_count": 45,
   "metadata": {},
   "outputs": [
    {
     "name": "stdout",
     "output_type": "stream",
     "text": [
      "Overwriting 0x05-pointers_arrays_strings/8-print_array.c\n"
     ]
    }
   ],
   "source": [
    "%%file 0x06-pointers_arrays_strings/8-print_array.c\n",
    "#include \"main.h\"\n",
    "#include <stdio.h>\n",
    "\n",
    "/**\n",
    " * print_array - prints n elements of an array of integers\n",
    " * @a: array of integers\n",
    " * @n: number of elements to print\n",
    " */\n",
    "\n",
    "void print_array(int *a, int n)\n",
    "{\n",
    "int i;\n",
    "\n",
    "/* for loop for the array */\n",
    "for (i = 0; i < n; i++)\n",
    "{\n",
    "/* sperate numbers by comma, followed by a space */\n",
    "if (i != 0)\n",
    "{\n",
    "printf(\", \");\n",
    "}\n",
    "/* displayed in the same order as they are stored in the array */\n",
    "printf(\"%d\", a[i]);\n",
    "}\n",
    "\n",
    "/* Print a newline character */\n",
    "printf(\"\\n\");\n",
    "}\n",
    "\n"
   ]
  },
  {
   "cell_type": "code",
   "execution_count": 46,
   "metadata": {},
   "outputs": [
    {
     "name": "stdout",
     "output_type": "stream",
     "text": [
      "Overwriting 0x05-pointers_arrays_strings/_putchar.c\n"
     ]
    }
   ],
   "source": [
    "%%file 0x06-pointers_arrays_strings/_putchar.c\n",
    "#include <unistd.h>\n",
    "#include \"main.h\"\n",
    "/**\n",
    " * _putchar - writes the character c to stdout\n",
    " * @c: The character to print\n",
    " *\n",
    " * Return: On success 1.\n",
    " * On error, -1 is returned, and errno is set appropriately.\n",
    " */\n",
    "int _putchar(char c)\n",
    "{\n",
    "\treturn (write(1, &c, 1));\n",
    "}\n"
   ]
  },
  {
   "cell_type": "code",
   "execution_count": 47,
   "metadata": {},
   "outputs": [
    {
     "name": "stdout",
     "output_type": "stream",
     "text": [
      "\n",
      "========== 0x05-pointers_arrays_strings/8-print_array.c ==========\n",
      "print_array\n",
      "98, 402, -198, 298, -1024\n"
     ]
    }
   ],
   "source": [
    "%%bash\n",
    "betty 0x06-pointers_arrays_strings/8-print_array.c\n",
    "gcc -Wall -pedantic -Werror -Wextra -std=gnu89 0x06-pointers_arrays_strings/8-main.c 0x06-pointers_arrays_strings/8-print_array.c -o 0x06-pointers_arrays_strings/8-print_array && ./0x06-pointers_arrays_strings/8-print_array"
   ]
  },
  {
   "cell_type": "code",
   "execution_count": 48,
   "metadata": {},
   "outputs": [
    {
     "name": "stdout",
     "output_type": "stream",
     "text": [
      "[main c7ae3d0] alx-low_level_programming/0x04-more_functions_nested_loops\n",
      " 1 file changed, 1 insertion(+), 1 deletion(-)\n"
     ]
    },
    {
     "name": "stderr",
     "output_type": "stream",
     "text": [
      "To github.com:elkomysara/alx-low_level_programming.git\n",
      "   77f6606..c7ae3d0  main -> main\n"
     ]
    }
   ],
   "source": [
    "%%bash\n",
    "git add .\n",
    "git commit -m \"alx-low_level_programming/0x06-pointers_arrays_strings\"\n",
    "git push"
   ]
  },
  {
   "cell_type": "code",
   "execution_count": null,
   "metadata": {},
   "outputs": [],
   "source": []
  },
  {
   "cell_type": "markdown",
   "metadata": {},
   "source": [
    "###\n",
    "---\n",
    "<center>\n",
    "<h4> 9. Numbers have life; they're not just symbols on paper\n",
    " </h4>\n",
    "</center>\n",
    "\n",
    "---"
   ]
  },
  {
   "cell_type": "markdown",
   "metadata": {},
   "source": [
    "\n",
    "* Prototype: `char *_strcpy(char *dest, char *src);`\n",
    "Write a function that copies the string pointed to by `src`, including the terminating null byte (`\\0`), to the buffer pointed to by `dest`.\n",
    "\n",
    "* Return value: the pointer to `dest`\n",
    "FYI: The standard library provides a similar function: `strcpy`. Run `man strcpy` to learn more.\n",
    "\n",
    "```bash\n",
    "julien@ubuntu:~/0x05$ cat 9-main.c\n",
    "#include \"main.h\"\n",
    "#include <stdio.h>\n",
    "\n",
    "/**\n",
    " * main - check the code\n",
    " *\n",
    " * Return: Always 0.\n",
    " */\n",
    "int main(void)\n",
    "{\n",
    "    char s1[98];\n",
    "    char *ptr;\n",
    "\n",
    "    ptr = _strcpy(s1, \"First, solve the problem. Then, write the code\\n\");\n",
    "    printf(\"%s\", s1);\n",
    "    printf(\"%s\", ptr);\n",
    "    return (0);\n",
    "}\n",
    "julien@ubuntu:~/0x05$ gcc -Wall -pedantic -Werror -Wextra -std=gnu89 9-main.c 9-strcpy.c -o 9-strcpy\n",
    "julien@ubuntu:~/0x05$ ./9-strcpy \n",
    "First, solve the problem. Then, write the code\n",
    "First, solve the problem. Then, write the code\n",
    "julien@ubuntu:~/0x05$ \n",
    "```\n",
    "\n",
    "#### Repo:\n",
    "* GitHub repository: ``` alx-low_level_programming ```\n",
    "* Directory: ```0x05-pointers_arrays_strings``` \n",
    "* File: ```9-strcpy.c```"
   ]
  },
  {
   "cell_type": "code",
   "execution_count": 49,
   "metadata": {},
   "outputs": [
    {
     "name": "stdout",
     "output_type": "stream",
     "text": [
      "Overwriting 0x05-pointers_arrays_strings/9-main.c\n"
     ]
    }
   ],
   "source": [
    "%%file 0x06-pointers_arrays_strings/9-main.c\n",
    "#include \"main.h\"\n",
    "#include <stdio.h>\n",
    "\n",
    "/**\n",
    " * main - check the code\n",
    " *\n",
    " * Return: Always 0.\n",
    " */\n",
    "int main(void)\n",
    "{\n",
    "    char s1[98];\n",
    "    char *ptr;\n",
    "\n",
    "    ptr = _strcpy(s1, \"First, solve the problem. Then, write the code\\n\");\n",
    "    printf(\"%s\", s1);\n",
    "    printf(\"%s\", ptr);\n",
    "    return (0);\n",
    "}"
   ]
  },
  {
   "cell_type": "code",
   "execution_count": 50,
   "metadata": {},
   "outputs": [
    {
     "name": "stdout",
     "output_type": "stream",
     "text": [
      "Overwriting 0x05-pointers_arrays_strings/main.h\n"
     ]
    }
   ],
   "source": [
    "%%file 0x06-pointers_arrays_strings/main.h\n",
    "#ifndef FILE_MAIN\n",
    "#define FILE_MAIN\n",
    "\n",
    "#include <stdio.h>\n",
    "\n",
    "int _putchar(char c);\n",
    "void reset_to_98(int *n);\n",
    "void swap_int(int *a, int *b);\n",
    "int _strlen(char *s);\n",
    "void _puts(char *str);\n",
    "void print_rev(char *s);\n",
    "void rev_string(char *s);\n",
    "void puts2(char *str);\n",
    "void puts_half(char *str);\n",
    "void print_array(int *a, int n);\n",
    "char *_strcpy(char *dest, char *src);\n",
    "\n",
    "\n",
    "#endif\n"
   ]
  },
  {
   "cell_type": "code",
   "execution_count": 1,
   "metadata": {},
   "outputs": [
    {
     "name": "stdout",
     "output_type": "stream",
     "text": [
      "Overwriting 0x05-pointers_arrays_strings/9-strcpy.c\n"
     ]
    }
   ],
   "source": [
    "%%file 0x06-pointers_arrays_strings/9-strcpy.c\n",
    "#include <stdio.h>\n",
    "\n",
    "/**\n",
    "* _strcpy - Copies the string pointed to by src,\n",
    "* including the terminating null byte, to the buffer pointed to by dest\n",
    "* @dest: Destination buffer\n",
    "* @src: Source string\n",
    "*\n",
    "* Return: Pointer to dest\n",
    "*/\n",
    "char *_strcpy(char *dest, const char *src)\n",
    "{\n",
    "\n",
    "/* Save the starting point of dest to return later */\n",
    "\n",
    "char *ptr = dest;\n",
    "\n",
    "while (*src) /* Loop until the end of the source string */\n",
    "{\n",
    "*dest++ = *src++;    /* Copy the current character from src to dest */\n",
    "}\n",
    "*dest = '\\0';        /* Add the terminating null byte at the end of dest */\n",
    "\n",
    "return (ptr);          /* Return the original pointer to dest */\n",
    "}\n",
    "\n"
   ]
  },
  {
   "cell_type": "code",
   "execution_count": 2,
   "metadata": {},
   "outputs": [
    {
     "name": "stdout",
     "output_type": "stream",
     "text": [
      "Overwriting 0x05-pointers_arrays_strings/_putchar.c\n"
     ]
    }
   ],
   "source": [
    "%%file 0x06-pointers_arrays_strings/_putchar.c\n",
    "#include <unistd.h>\n",
    "#include \"main.h\"\n",
    "/**\n",
    " * _putchar - writes the character c to stdout\n",
    " * @c: The character to print\n",
    " *\n",
    " * Return: On success 1.\n",
    " * On error, -1 is returned, and errno is set appropriately.\n",
    " */\n",
    "int _putchar(char c)\n",
    "{\n",
    "\treturn (write(1, &c, 1));\n",
    "}\n"
   ]
  },
  {
   "cell_type": "code",
   "execution_count": 3,
   "metadata": {},
   "outputs": [
    {
     "name": "stdout",
     "output_type": "stream",
     "text": [
      "\n",
      "========== 0x05-pointers_arrays_strings/9-strcpy.c ==========\n"
     ]
    },
    {
     "name": "stdout",
     "output_type": "stream",
     "text": [
      "_strcpy\n",
      "First, solve the problem. Then, write the code\n",
      "First, solve the problem. Then, write the code\n"
     ]
    }
   ],
   "source": [
    "%%bash\n",
    "betty 0x06-pointers_arrays_strings/9-strcpy.c\n",
    "gcc -Wall -pedantic -Werror -Wextra -std=gnu89 0x06-pointers_arrays_strings/9-main.c 0x06-pointers_arrays_strings/9-strcpy.c -o 0x06-pointers_arrays_strings/9-strcpy\n",
    "./0x06-pointers_arrays_strings/9-strcpy"
   ]
  },
  {
   "cell_type": "code",
   "execution_count": 4,
   "metadata": {},
   "outputs": [
    {
     "name": "stdout",
     "output_type": "stream",
     "text": [
      "[main 4cbcf23] alx-low_level_programming/0x04-more_functions_nested_loops\n"
     ]
    },
    {
     "name": "stdout",
     "output_type": "stream",
     "text": [
      " 5 files changed, 355 insertions(+), 24 deletions(-)\n",
      " create mode 100644 0x05-pointers_arrays_strings/100-atoi.c\n"
     ]
    },
    {
     "name": "stderr",
     "output_type": "stream",
     "text": [
      "To github.com:elkomysara/alx-low_level_programming.git\n",
      "   1cefe73..4cbcf23  main -> main\n"
     ]
    }
   ],
   "source": [
    "%%bash\n",
    "git add .\n",
    "git commit -m \"alx-low_level_programming/0x06-pointers_arrays_strings\"\n",
    "git push"
   ]
  },
  {
   "cell_type": "code",
   "execution_count": null,
   "metadata": {},
   "outputs": [],
   "source": []
  },
  {
   "cell_type": "markdown",
   "metadata": {},
   "source": [
    "###\n",
    "---\n",
    "<center>\n",
    "<h4> 10. A dream doesn't become reality through magic; it takes sweat, determination and hard work\n",
    " </h4>\n",
    "</center>\n",
    "\n",
    "---"
   ]
  },
  {
   "cell_type": "markdown",
   "metadata": {},
   "source": [
    "#### Write a function that convert a string to an integer.\n",
    "\n",
    "* Prototype: `int _atoi(char *s);`\n",
    "* The number in the string can be preceded by an infinite number of characters\n",
    "* You need to take into account all the `-` and `+` signs before the number\n",
    "* If there are no numbers in the string, the function must return `0`\n",
    "* You are not allowed to use `long`\n",
    "* You are not allowed to declare new variables of “type” array\n",
    "* You are not allowed to hard-code special values\n",
    "* We will use the `-fsanitize=signed-integer-overflow` gcc flag to compile your code.\n",
    "FYI: The standard library provides a similar function: `atoi.` Run `man atoi` to learn more.\n",
    "\n",
    "```bash\n",
    "julien@ubuntu:~/0x05$ cat 100-main.c\n",
    "#include \"main.h\"\n",
    "#include <stdio.h>\n",
    "\n",
    "/**\n",
    " * main - check the code\n",
    " *\n",
    " * Return: Always 0.\n",
    " */\n",
    "int main(void)\n",
    "{\n",
    "    int nb;\n",
    "\n",
    "    nb = _atoi(\"98\");\n",
    "    printf(\"%d\\n\", nb);\n",
    "    nb = _atoi(\"-402\");\n",
    "    printf(\"%d\\n\", nb);\n",
    "    nb = _atoi(\"          ------++++++-----+++++--98\");\n",
    "    printf(\"%d\\n\", nb);\n",
    "    nb = _atoi(\"214748364\");\n",
    "    printf(\"%d\\n\", nb);\n",
    "    nb = _atoi(\"0\");\n",
    "    printf(\"%d\\n\", nb);\n",
    "    nb = _atoi(\"Suite 402\");\n",
    "    printf(\"%d\\n\", nb);\n",
    "    nb = _atoi(\"         +      +    -    -98 Battery Street; San Francisco, CA 94111 - USA             \");\n",
    "    printf(\"%d\\n\", nb);\n",
    "    nb = _atoi(\"---++++ -++ Sui - te -   402 #cisfun :)\");\n",
    "    printf(\"%d\\n\", nb);\n",
    "    return (0);\n",
    "}\n",
    "julien@ubuntu:~/0x05$ gcc -Wall -pedantic -Werror -Wextra -std=gnu89 -fsanitize=signed-integer-overflow 100-main.c 100-atoi.c -o 100-atoi\n",
    "julien@ubuntu:~/0x05$ ./100-atoi \n",
    "98\n",
    "-402\n",
    "-98\n",
    "214748364\n",
    "0\n",
    "402\n",
    "98\n",
    "402\n",
    "julien@ubuntu:~/0x05$\n",
    "```\n",
    "\n",
    "#### Repo:\n",
    "* GitHub repository: ``` alx-low_level_programming ```\n",
    "* Directory: ```0x05-pointers_arrays_strings``` \n",
    "* File: ```100-atoi.c```"
   ]
  },
  {
   "cell_type": "code",
   "execution_count": 5,
   "metadata": {},
   "outputs": [
    {
     "name": "stdout",
     "output_type": "stream",
     "text": [
      "Overwriting 0x05-pointers_arrays_strings/100-main.c\n"
     ]
    }
   ],
   "source": [
    "%%file 0x06-pointers_arrays_strings/100-main.c\n",
    "#include \"main.h\"\n",
    "#include <stdio.h>\n",
    "\n",
    "/**\n",
    " * main - check the code\n",
    " *\n",
    " * Return: Always 0.\n",
    " */\n",
    "int main(void)\n",
    "{\n",
    "    int nb;\n",
    "\n",
    "    nb = _atoi(\"98\");\n",
    "    printf(\"%d\\n\", nb);\n",
    "    nb = _atoi(\"-402\");\n",
    "    printf(\"%d\\n\", nb);\n",
    "    nb = _atoi(\"          ------++++++-----+++++--98\");\n",
    "    printf(\"%d\\n\", nb);\n",
    "    nb = _atoi(\"214748364\");\n",
    "    printf(\"%d\\n\", nb);\n",
    "    nb = _atoi(\"0\");\n",
    "    printf(\"%d\\n\", nb);\n",
    "    nb = _atoi(\"Suite 402\");\n",
    "    printf(\"%d\\n\", nb);\n",
    "    nb = _atoi(\"         +      +    -    -98 Battery Street; San Francisco, CA 94111 - USA             \");\n",
    "    printf(\"%d\\n\", nb);\n",
    "    nb = _atoi(\"---++++ -++ Sui - te -   402 #cisfun :)\");\n",
    "    printf(\"%d\\n\", nb);\n",
    "    return (0);\n",
    "}"
   ]
  },
  {
   "cell_type": "code",
   "execution_count": 6,
   "metadata": {},
   "outputs": [
    {
     "name": "stdout",
     "output_type": "stream",
     "text": [
      "Overwriting 0x05-pointers_arrays_strings/main.h\n"
     ]
    }
   ],
   "source": [
    "%%file 0x06-pointers_arrays_strings/main.h\n",
    "#ifndef FILE_MAIN\n",
    "#define FILE_MAIN\n",
    "\n",
    "#include <stdio.h>\n",
    "\n",
    "int _putchar(char c);\n",
    "void reset_to_98(int *n);\n",
    "void swap_int(int *a, int *b);\n",
    "int _strlen(char *s);\n",
    "void _puts(char *str);\n",
    "void print_rev(char *s);\n",
    "void rev_string(char *s);\n",
    "void puts2(char *str);\n",
    "void puts_half(char *str);\n",
    "void print_array(int *a, int n);\n",
    "char *_strcpy(char *dest, char *src);\n",
    "int _atoi(char *s);\n",
    "\n",
    "\n",
    "#endif\n"
   ]
  },
  {
   "cell_type": "code",
   "execution_count": 84,
   "metadata": {},
   "outputs": [
    {
     "name": "stdout",
     "output_type": "stream",
     "text": [
      "Overwriting 0x05-pointers_arrays_strings/100-atoi.c\n"
     ]
    }
   ],
   "source": [
    "%%file 0x06-pointers_arrays_strings/100-atoi.c\n",
    "#include \"main.h\"\n",
    "#include <limits.h>\n",
    "/**\n",
    "* _atoi - Converts a string to an integer\n",
    "* @s: The string to be converted\n",
    "*\n",
    "* Return: The integer value of the converted string\n",
    "*/\n",
    "\n",
    "int _atoi(char *s)\n",
    "{\n",
    "int i = 0;\n",
    "int sign = 1;\n",
    "int result = 0;\n",
    "int number_started = 0;\n",
    "\n",
    "while (s[i] != '\\0')\n",
    "{\n",
    "int digit; /* Declare digit at the beginning of the block */\n",
    "/* Skip non-numeric characters except sign symbols */\n",
    "if (s[i] == '-' && !number_started)\n",
    "{\n",
    "sign = -sign;\n",
    "}\n",
    "else if (s[i] == '+' && !number_started)\n",
    "{\n",
    "/* Just move to the next character */\n",
    "}\n",
    "else if (s[i] >= '0' && s[i] <= '9')\n",
    "{\n",
    "number_started = 1;\n",
    "digit = s[i] - '0';\n",
    "\n",
    "/* Check for potential overflow */\n",
    "if (result > (INT_MAX - digit) / 10)\n",
    "{\n",
    "/* Overflow detected, return max value or min value based on sign */\n",
    "return (sign > 0 ? INT_MAX : INT_MIN);\n",
    "}\n",
    "\n",
    "result = result * 10 + digit;\n",
    "}\n",
    "else if (number_started)\n",
    "{\n",
    "/* Break on first non-numeric character after starting number */\n",
    "break;\n",
    "}\n",
    "i++;\n",
    "}\n",
    "\n",
    "return (sign *result);\n",
    "}"
   ]
  },
  {
   "cell_type": "code",
   "execution_count": 85,
   "metadata": {},
   "outputs": [
    {
     "name": "stdout",
     "output_type": "stream",
     "text": [
      "Overwriting 0x05-pointers_arrays_strings/_putchar.c\n"
     ]
    }
   ],
   "source": [
    "%%file 0x06-pointers_arrays_strings/_putchar.c\n",
    "#include <unistd.h>\n",
    "#include \"main.h\"\n",
    "/**\n",
    " * _putchar - writes the character c to stdout\n",
    " * @c: The character to print\n",
    " *\n",
    " * Return: On success 1.\n",
    " * On error, -1 is returned, and errno is set appropriately.\n",
    " */\n",
    "int _putchar(char c)\n",
    "{\n",
    "\treturn (write(1, &c, 1));\n",
    "}\n"
   ]
  },
  {
   "cell_type": "code",
   "execution_count": 86,
   "metadata": {},
   "outputs": [
    {
     "name": "stdout",
     "output_type": "stream",
     "text": [
      "\n",
      "========== 0x05-pointers_arrays_strings/100-atoi.c ==========\n",
      "_atoi\n",
      "98\n",
      "-402\n",
      "-98\n",
      "214748364\n",
      "0\n",
      "402\n",
      "98\n",
      "402\n"
     ]
    }
   ],
   "source": [
    "%%bash\n",
    "betty 0x06-pointers_arrays_strings/100-atoi.c\n",
    "gcc -Wall -pedantic -Werror -Wextra -std=gnu89 -fsanitize=signed-integer-overflow 0x06-pointers_arrays_strings/100-main.c 0x06-pointers_arrays_strings/100-atoi.c -o 0x06-pointers_arrays_strings/100-atoi\n",
    "./0x06-pointers_arrays_strings/100-atoi"
   ]
  },
  {
   "cell_type": "code",
   "execution_count": 87,
   "metadata": {},
   "outputs": [
    {
     "name": "stdout",
     "output_type": "stream",
     "text": [
      "[main 0178411] alx-low_level_programming/0x04-more_functions_nested_loops\n",
      " 2 files changed, 11 insertions(+), 1 deletion(-)\n"
     ]
    },
    {
     "name": "stderr",
     "output_type": "stream",
     "text": [
      "To github.com:elkomysara/alx-low_level_programming.git\n",
      "   780c477..0178411  main -> main\n"
     ]
    }
   ],
   "source": [
    "%%bash\n",
    "git add .\n",
    "git commit -m \"alx-low_level_programming/0x06-pointers_arrays_strings\"\n",
    "git push"
   ]
  },
  {
   "cell_type": "code",
   "execution_count": null,
   "metadata": {},
   "outputs": [],
   "source": []
  },
  {
   "cell_type": "markdown",
   "metadata": {},
   "source": [
    "###\n",
    "---\n",
    "<center>\n",
    "<h4> 11. It is the addition of strangeness to beauty that constitutes the romantic character in art\n",
    " </h4>\n",
    "</center>\n",
    "\n",
    "---"
   ]
  },
  {
   "cell_type": "markdown",
   "metadata": {},
   "source": [
    "#### Create a program that generates random valid passwords for the program [101-crackme](https://github.com/alx-tools/0x04.c).\n",
    "\n",
    "* You are allowed to use the standard library\n",
    "* You don’t have to pass the `betty-style` tests (you still need to pass the `betty-doc` tests)\n",
    "* man `srand`, `rand`, `time`\n",
    "* `gdb` and `objdump` can help\n",
    "\n",
    "```bash\n",
    "julien@ubuntu:~/0x05$ gcc -Wall -pedantic -Werror -Wextra 101-keygen.c -o 101-keygen\n",
    "julien@ubuntu:~/0x05$ ./101-crackme \"`./101-keygen`\"\n",
    "Tada! Congrats\n",
    "julien@ubuntu:~/0x05$\n",
    "```\n",
    "\n",
    "#### Repo:\n",
    "* GitHub repository: ``` alx-low_level_programming ```\n",
    "* Directory: ```0x05-pointers_arrays_strings``` \n",
    "* File: ```101-keygen.c```"
   ]
  },
  {
   "cell_type": "code",
   "execution_count": 149,
   "metadata": {},
   "outputs": [
    {
     "name": "stdout",
     "output_type": "stream",
     "text": [
      "Overwriting 0x05-pointers_arrays_strings/101-keygen.c\n"
     ]
    }
   ],
   "source": [
    "%%file 0x06-pointers_arrays_strings/101-keygen.c\n",
    "\n",
    "#include <stdio.h>\n",
    "#include <stdlib.h>\n",
    "#include <time.h>\n",
    "\n",
    "/**\n",
    "* main - generates random valid passwords for the program 101-crackme.\n",
    "*\n",
    "* Return: Always 0\n",
    "*/\n",
    "int main(void)\n",
    "{\n",
    "/* declares an array called 'pass with a size of 100 integers' */\n",
    "int pass[100];\n",
    "int i;\n",
    "int sum;\n",
    "int n;\n",
    "sum = 0;\n",
    "\n",
    "srand(time(NULL));\n",
    "\n",
    "for (i = 0; i < 100; i++)\n",
    "{\n",
    "pass[i] = rand() % 78;\n",
    "sum += (pass[i] + '0');\n",
    "putchar(pass[i] + '0');\n",
    "if ((2772 - sum) -'0' < 78)\n",
    "{\n",
    "n = 2772 - sum - '0';\n",
    "sum += n;\n",
    "putchar(n + '0');\n",
    "break;\n",
    "}\n",
    "}\n",
    "return (0);\n",
    "}\n"
   ]
  },
  {
   "cell_type": "code",
   "execution_count": 150,
   "metadata": {},
   "outputs": [
    {
     "name": "stdout",
     "output_type": "stream",
     "text": [
      "\n",
      "========== 0x05-pointers_arrays_strings/101-keygen.c ==========\n",
      "main\n"
     ]
    }
   ],
   "source": [
    "%%bash\n",
    "betty 0x06-pointers_arrays_strings/101-keygen.c\n",
    "gcc -Wall -pedantic -Werror -Wextra 0x06-pointers_arrays_strings/101-keygen.c -o 0x06-pointers_arrays_strings/1101-keygen"
   ]
  },
  {
   "cell_type": "code",
   "execution_count": 119,
   "metadata": {},
   "outputs": [
    {
     "name": "stdout",
     "output_type": "stream",
     "text": [
      "[main 8c216ae] alx-low_level_programming/0x04-more_functions_nested_loops\n",
      " 2 files changed, 33 insertions(+), 32 deletions(-)\n",
      " rewrite 0x05-pointers_arrays_strings/101-keygen.c (80%)\n"
     ]
    },
    {
     "name": "stderr",
     "output_type": "stream",
     "text": [
      "To github.com:elkomysara/alx-low_level_programming.git\n",
      "   86f0bc9..8c216ae  main -> main\n"
     ]
    }
   ],
   "source": [
    "%%bash\n",
    "git add .\n",
    "git commit -m \"alx-low_level_programming/0x06-pointers_arrays_strings\"\n",
    "git push"
   ]
  },
  {
   "cell_type": "code",
   "execution_count": null,
   "metadata": {},
   "outputs": [],
   "source": [
    "\n"
   ]
  },
  {
   "cell_type": "markdown",
   "metadata": {},
   "source": [
    "###\n",
    "---\n",
    "<center>\n",
    "<h4> 12. Noise is a buffer, more effective than cubicles or booth walls\n",
    " </h4>\n",
    "</center>\n",
    "\n",
    "---"
   ]
  },
  {
   "cell_type": "markdown",
   "metadata": {},
   "source": [
    "#### Create a program that generates random valid passwords for the program [101-crackme](https://github.com/alx-tools/0x04.c).\n",
    "\n",
    "* You are allowed to use the standard library\n",
    "* You don’t have to pass the `betty-style` tests (you still need to pass the `betty-doc` tests)\n",
    "* man `srand`, `rand`, `time`\n",
    "* `gdb` and `objdump` can help\n",
    "\n",
    "```bash\n",
    "julien@ubuntu:~/0x05$ gcc -Wall -pedantic -Werror -Wextra 101-keygen.c -o 101-keygen\n",
    "julien@ubuntu:~/0x05$ ./101-crackme \"`./101-keygen`\"\n",
    "Tada! Congrats\n",
    "julien@ubuntu:~/0x05$\n",
    "```\n",
    "\n",
    "#### Repo:\n",
    "* GitHub repository: ``` alx-low_level_programming ```\n",
    "* Directory: ```0x05-pointers_arrays_strings``` \n",
    "* File: ```101-keygen.c```"
   ]
  },
  {
   "cell_type": "code",
   "execution_count": null,
   "metadata": {},
   "outputs": [
    {
     "name": "stdout",
     "output_type": "stream",
     "text": [
      "Overwriting 0x05-pointers_arrays_strings/101-keygen.c\n"
     ]
    }
   ],
   "source": [
    "%%file 0x06-pointers_arrays_strings/101-keygen.c\n",
    "\n",
    "#include <stdio.h>\n",
    "#include <stdlib.h>\n",
    "#include <time.h>\n",
    "\n",
    "/**\n",
    "* main - generates random valid passwords for the program 101-crackme.\n",
    "*\n",
    "* Return: Always 0\n",
    "*/\n",
    "int main(void)\n",
    "{\n",
    "/* declares an array called 'pass with a size of 100 integers' */\n",
    "int pass[100];\n",
    "int i;\n",
    "int sum;\n",
    "int n;\n",
    "sum = 0;\n",
    "\n",
    "srand(time(NULL));\n",
    "\n",
    "for (i = 0; i < 100; i++)\n",
    "{\n",
    "pass[i] = rand() % 78;\n",
    "sum += (pass[i] + '0');\n",
    "putchar(pass[i] + '0');\n",
    "if ((2772 - sum) -'0' < 78)\n",
    "{\n",
    "n = 2772 - sum - '0';\n",
    "sum += n;\n",
    "putchar(n + '0');\n",
    "break;\n",
    "}\n",
    "}\n",
    "return (0);\n",
    "}\n"
   ]
  },
  {
   "cell_type": "code",
   "execution_count": null,
   "metadata": {},
   "outputs": [
    {
     "name": "stdout",
     "output_type": "stream",
     "text": [
      "\n",
      "========== 0x05-pointers_arrays_strings/101-keygen.c ==========\n",
      "main\n"
     ]
    }
   ],
   "source": [
    "%%bash\n",
    "betty 0x06-pointers_arrays_strings/101-keygen.c\n",
    "gcc -Wall -pedantic -Werror -Wextra 0x06-pointers_arrays_strings/101-keygen.c -o 0x06-pointers_arrays_strings/1101-keygen"
   ]
  },
  {
   "cell_type": "code",
   "execution_count": null,
   "metadata": {},
   "outputs": [
    {
     "name": "stdout",
     "output_type": "stream",
     "text": [
      "[main 8c216ae] alx-low_level_programming/0x04-more_functions_nested_loops\n",
      " 2 files changed, 33 insertions(+), 32 deletions(-)\n",
      " rewrite 0x05-pointers_arrays_strings/101-keygen.c (80%)\n"
     ]
    },
    {
     "name": "stderr",
     "output_type": "stream",
     "text": [
      "To github.com:elkomysara/alx-low_level_programming.git\n",
      "   86f0bc9..8c216ae  main -> main\n"
     ]
    }
   ],
   "source": [
    "%%bash\n",
    "git add .\n",
    "git commit -m \"alx-low_level_programming/0x06-pointers_arrays_strings\"\n",
    "git push"
   ]
  },
  {
   "cell_type": "code",
   "execution_count": null,
   "metadata": {},
   "outputs": [],
   "source": []
  }
 ],
 "metadata": {
  "kernelspec": {
   "display_name": "Python 3",
   "language": "python",
   "name": "python3"
  },
  "language_info": {
   "codemirror_mode": {
    "name": "ipython",
    "version": 3
   },
   "file_extension": ".py",
   "mimetype": "text/x-python",
   "name": "python",
   "nbconvert_exporter": "python",
   "pygments_lexer": "ipython3",
   "version": "3.12.3"
  }
 },
 "nbformat": 4,
 "nbformat_minor": 2
}
