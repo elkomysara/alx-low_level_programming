{
 "cells": [
  {
   "cell_type": "markdown",
   "metadata": {},
   "source": [
    "---\n",
    "<center>\n",
    "<h1>  alx-low_level_programming </h1>\n",
    "</center>\n",
    "\n",
    "---\n"
   ]
  },
  {
   "cell_type": "code",
   "execution_count": 1,
   "metadata": {},
   "outputs": [],
   "source": [
    "import os\n",
    "# creating 0x02-shell_redirectionss\n",
    "\n",
    "folder_path = r'/home/elkomy/alx/alx-low_level_programming/0x06-pointers_arrays_strings'\n",
    "if not os.path.exists(folder_path):\n",
    "    os.makedirs(folder_path)\n",
    "\n",
    "# Create a README.md inside alx-low_level_programming/0x06-pointers_arrays_strings\n",
    "file_path = os.path.join(folder_path, 'README.md')\n",
    "\n",
    "with open(file_path, 'w') as file:\n",
    "    file.write(\"This is a README.md file inside alx-low_level_programming/0x06-pointers_arrays_strings\")\n",
    "\n"
   ]
  },
  {
   "cell_type": "code",
   "execution_count": 8,
   "metadata": {},
   "outputs": [
    {
     "name": "stdout",
     "output_type": "stream",
     "text": [
      "Overwriting /home/elkomy/alx/alx-low_level_programming/0x06-pointers_arrays_strings/README.md\n"
     ]
    }
   ],
   "source": [
    "%%file /home/elkomy/alx/alx-low_level_programming/0x06-pointers_arrays_strings/README.md\n",
    "This is a README.md"
   ]
  },
  {
   "cell_type": "markdown",
   "metadata": {},
   "source": [
    "###\n",
    "---\n",
    "<center>\n",
    "<h1> 0x06. C - More pointers, arrays and strings  </h1>\n",
    "</center>\n",
    "\n",
    "---\n"
   ]
  },
  {
   "cell_type": "markdown",
   "metadata": {},
   "source": [
    "###\n",
    "---\n",
    "<center>\n",
    "<h4> 0. strcat</h4>\n",
    "</center>\n",
    "\n",
    "---"
   ]
  },
  {
   "cell_type": "markdown",
   "metadata": {},
   "source": [
    "\n",
    "#### Write a function that concatenates two strings.\n",
    "\n",
    "* Prototype: `char *_strcat(char *dest, char *src);`\n",
    "* This function appends the `src` string to the `dest` string, overwriting the terminating null byte (`\\0`) at the end of `dest`, and then adds a terminating null byte\n",
    "* Returns a pointer to the resulting string `dest`\n",
    "FYI: The standard library provides a similar function: `strcat`. Run `man strcat` to learn more.\n",
    "\n",
    "```bash\n",
    "julien@ubuntu:~/0x06$ cat 0-main.c\n",
    "#include \"main.h\"\n",
    "#include <stdio.h>\n",
    "\n",
    "/**\n",
    " * main - check the code\n",
    " *\n",
    " * Return: Always 0.\n",
    " */\n",
    "int main(void)\n",
    "{\n",
    "    char s1[98] = \"Hello \";\n",
    "    char s2[] = \"World!\\n\";\n",
    "    char *ptr;\n",
    "\n",
    "    printf(\"%s\\n\", s1);\n",
    "    printf(\"%s\", s2);\n",
    "    ptr = _strcat(s1, s2);\n",
    "    printf(\"%s\", s1);\n",
    "    printf(\"%s\", s2);\n",
    "    printf(\"%s\", ptr);\n",
    "    return (0);\n",
    "}\n",
    "julien@ubuntu:~/0x06$ gcc -Wall -pedantic -Werror -Wextra -std=gnu89 0-main.c 0-strcat.c -o 0-strcat\n",
    "julien@ubuntu:~/0x06$ ./0-strcat \n",
    "Hello \n",
    "World!\n",
    "Hello World!\n",
    "World!\n",
    "Hello World!\n",
    "julien@ubuntu:~/0x06$ \n",
    "```\n",
    "\n",
    "#### Repo:\n",
    "* GitHub repository: ``` alx-low_level_programming ```\n",
    "* Directory: ```0x06-pointers_arrays_strings``` \n",
    "* File: ```0-strcat.c```"
   ]
  },
  {
   "cell_type": "code",
   "execution_count": 3,
   "metadata": {},
   "outputs": [
    {
     "name": "stdout",
     "output_type": "stream",
     "text": [
      "Writing 0x06-pointers_arrays_strings/0-main.c\n"
     ]
    }
   ],
   "source": [
    "%%file 0x06-pointers_arrays_strings/0-main.c\n",
    "#include \"main.h\"\n",
    "#include <stdio.h>\n",
    "\n",
    "/**\n",
    " * main - check the code\n",
    " *\n",
    " * Return: Always 0.\n",
    " */\n",
    "int main(void)\n",
    "{\n",
    "    char s1[98] = \"Hello \";\n",
    "    char s2[] = \"World!\\n\";\n",
    "    char *ptr;\n",
    "\n",
    "    printf(\"%s\\n\", s1);\n",
    "    printf(\"%s\", s2);\n",
    "    ptr = _strcat(s1, s2);\n",
    "    printf(\"%s\", s1);\n",
    "    printf(\"%s\", s2);\n",
    "    printf(\"%s\", ptr);\n",
    "    return (0);\n",
    "}"
   ]
  },
  {
   "cell_type": "code",
   "execution_count": 2,
   "metadata": {},
   "outputs": [
    {
     "name": "stdout",
     "output_type": "stream",
     "text": [
      "Writing 0x06-pointers_arrays_strings/main.h\n"
     ]
    }
   ],
   "source": [
    "%%file 0x06-pointers_arrays_strings/main.h\n",
    "#ifndef FILE_MAIN\n",
    "#define FILE_MAIN\n",
    "\n",
    "#include <stdio.h>\n",
    "\n",
    "char *_strcat(char *dest, char *src);\n",
    "\n",
    "\n",
    "\n",
    "#endif\n"
   ]
  },
  {
   "cell_type": "code",
   "execution_count": 18,
   "metadata": {},
   "outputs": [
    {
     "name": "stdout",
     "output_type": "stream",
     "text": [
      "Overwriting 0x06-pointers_arrays_strings/0-strcat.c\n"
     ]
    }
   ],
   "source": [
    "%%file 0x06-pointers_arrays_strings/0-strcat.c\n",
    "#include \"main.h\"\n",
    "\n",
    "/**\n",
    "* _strcat - concatenates two strings\n",
    "* @dest: destination string\n",
    "* @src: source string\n",
    "*\n",
    "* Return: pointer to the resulting string dest\n",
    "*/\n",
    "char *_strcat(char *dest, char *src)\n",
    "{\n",
    "int i = 0;\n",
    "int j = 0;\n",
    "\n",
    "/* Find the end of dest string*/\n",
    "while (dest[i] != '\\0')\n",
    "{\n",
    "i++;\n",
    "}\n",
    "\n",
    "/* Append src to dest */\n",
    "while (src[j] != '\\0')\n",
    "{\n",
    "dest[i] = src[j];\n",
    "i++;\n",
    "j++;\n",
    "}\n",
    "\n",
    "/* Add the terminating null byte */\n",
    "dest[i] = '\\0';\n",
    "\n",
    "/* Returns a pointer to the resulting string dest */\n",
    "\n",
    "return (dest);\n",
    "}\n"
   ]
  },
  {
   "cell_type": "code",
   "execution_count": 15,
   "metadata": {},
   "outputs": [
    {
     "name": "stdout",
     "output_type": "stream",
     "text": [
      "Overwriting 0x06-pointers_arrays_strings/0-strcat.c\n"
     ]
    }
   ],
   "source": [
    "%%file 0x06-pointers_arrays_strings/0-strcat.c\n",
    "#include \"main.h\"\n",
    "\n",
    "/**\n",
    "* _strcat - Concatenates two strings.\n",
    "* @dest: The destination string.\n",
    "* @src: The source string to append.\n",
    "*\n",
    "* Return: A pointer to the resulting string (dest).\n",
    "*/\n",
    "char *_strcat(char *dest, char *src)\n",
    "{\n",
    "\n",
    "/* Move to the end of dest */\n",
    "while (*dest)\n",
    "{\n",
    "dest++;\n",
    "}\n",
    "\n",
    "/* Append src to dest */\n",
    "while (*src)\n",
    "{\n",
    "*dest = *src;\n",
    "dest++;\n",
    "src++;\n",
    "}\n",
    "\n",
    "/* Add null terminator */\n",
    "*dest = '\\0';\n",
    "/* Returns a pointer to the resulting string dest */\n",
    "return (dest);\n",
    "}"
   ]
  },
  {
   "cell_type": "code",
   "execution_count": 19,
   "metadata": {},
   "outputs": [
    {
     "name": "stdout",
     "output_type": "stream",
     "text": [
      "Overwriting 0x06-pointers_arrays_strings/_putchar.c\n"
     ]
    }
   ],
   "source": [
    "%%file 0x06-pointers_arrays_strings/_putchar.c\n",
    "#include <unistd.h>\n",
    "#include \"main.h\"\n",
    "/**\n",
    " * _putchar - writes the character c to stdout\n",
    " * @c: The character to print\n",
    " *\n",
    " * Return: On success 1.\n",
    " * On error, -1 is returned, and errno is set appropriately.\n",
    " */\n",
    "int _putchar(char c)\n",
    "{\n",
    "\treturn (write(1, &c, 1));\n",
    "}\n"
   ]
  },
  {
   "cell_type": "code",
   "execution_count": 21,
   "metadata": {},
   "outputs": [
    {
     "name": "stdout",
     "output_type": "stream",
     "text": [
      "\n",
      "========== 0x06-pointers_arrays_strings/0-strcat.c ==========\n",
      "_strcat\n",
      "Hello \n",
      "World!\n",
      "Hello World!\n",
      "World!\n",
      "Hello World!\n"
     ]
    }
   ],
   "source": [
    "%%bash\n",
    "betty 0x06-pointers_arrays_strings/0-strcat.c\n",
    "gcc -Wall -pedantic -Werror -Wextra -std=gnu89 0x06-pointers_arrays_strings/0-main.c 0x06-pointers_arrays_strings/0-strcat.c -o 0x06-pointers_arrays_strings/0-strcat\n",
    "./0x06-pointers_arrays_strings/0-strcat"
   ]
  },
  {
   "cell_type": "code",
   "execution_count": 22,
   "metadata": {},
   "outputs": [
    {
     "name": "stdout",
     "output_type": "stream",
     "text": [
      "[main ef66630] alx-low_level_programming/0x06-pointers_arrays_strings\n",
      " 10 files changed, 3608 insertions(+), 70 deletions(-)\n",
      " create mode 100644 0x06-pointers_arrays_strings/0-main.c\n",
      " create mode 100755 0x06-pointers_arrays_strings/0-strcat\n",
      " create mode 100644 0x06-pointers_arrays_strings/0-strcat.c\n",
      " create mode 100644 0x06-pointers_arrays_strings/1-main.c\n",
      " create mode 100644 0x06-pointers_arrays_strings/README.md\n",
      " create mode 100644 0x06-pointers_arrays_strings/_putchar.c\n",
      " create mode 100644 0x06-pointers_arrays_strings/main.h\n",
      " create mode 100644 0x06. C - More pointers, arrays and strings.ipynb\n"
     ]
    },
    {
     "name": "stderr",
     "output_type": "stream",
     "text": [
      "To github.com:elkomysara/alx-low_level_programming.git\n",
      "   8c216ae..ef66630  main -> main\n"
     ]
    }
   ],
   "source": [
    "%%bash\n",
    "git add .\n",
    "git commit -m \"alx-low_level_programming/0x06-pointers_arrays_strings\"\n",
    "git push"
   ]
  },
  {
   "cell_type": "markdown",
   "metadata": {},
   "source": [
    "###\n",
    "---\n",
    "<center>\n",
    "<h4> 1. strncat </h4>\n",
    "</center>\n",
    "\n",
    "---"
   ]
  },
  {
   "cell_type": "markdown",
   "metadata": {},
   "source": [
    "\n",
    "####  Write a function that concatenates two strings.\n",
    "\n",
    "* Prototype: `char *_strncat(char *dest, char *src, int n);`\n",
    "* The `_strncat` function is similar to the `_strcat` function, except that\n",
    "    * it will use at most `n` bytes from `src`; and\n",
    "    * `src` does not need to be null-terminated if it contains `n` or more bytes\n",
    "* Return a pointer to the resulting string `dest`\n",
    "FYI: The standard library provides a similar function: `strncat`. Run `man strncat` to learn more.\n",
    "\n",
    "\n",
    "```bash\n",
    "ulien@ubuntu:~/0x06$ cat 1-main.c\n",
    "#include \"main.h\"\n",
    "#include <stdio.h>\n",
    "\n",
    "/**\n",
    " * main - check the code\n",
    " *\n",
    " * Return: Always 0.\n",
    " */\n",
    "int main(void)\n",
    "{\n",
    "    char s1[98] = \"Hello \";\n",
    "    char s2[] = \"World!\\n\";\n",
    "    char *ptr;\n",
    "\n",
    "    printf(\"%s\\n\", s1);\n",
    "    printf(\"%s\", s2);\n",
    "    ptr = _strncat(s1, s2, 1);\n",
    "    printf(\"%s\\n\", s1);\n",
    "    printf(\"%s\", s2);\n",
    "    printf(\"%s\\n\", ptr);\n",
    "    ptr = _strncat(s1, s2, 1024);\n",
    "    printf(\"%s\", s1);\n",
    "    printf(\"%s\", s2);\n",
    "    printf(\"%s\", ptr);\n",
    "    return (0);\n",
    "}\n",
    "julien@ubuntu:~/0x06$ gcc -Wall -pedantic -Werror -Wextra -std=gnu89 1-main.c 1-strncat.c -o 1-strncat\n",
    "julien@ubuntu:~/0x06$ ./1-strncat \n",
    "Hello \n",
    "World!\n",
    "Hello W\n",
    "World!\n",
    "Hello W\n",
    "Hello WWorld!\n",
    "World!\n",
    "Hello WWorld!\n",
    "julien@ubuntu:~/0x06$ \n",
    "```\n",
    "\n",
    "#### Repo:\n",
    "* GitHub repository: ``` alx-low_level_programming ```\n",
    "* Directory: ```0x06-pointers_arrays_strings``` \n",
    "* File: ```1-strncat.c```"
   ]
  },
  {
   "cell_type": "code",
   "execution_count": 1,
   "metadata": {},
   "outputs": [
    {
     "name": "stdout",
     "output_type": "stream",
     "text": [
      "Overwriting 0x05-pointers_arrays_strings/1-main.c\n"
     ]
    }
   ],
   "source": [
    "%%file 0x06-pointers_arrays_strings/1-main.c\n",
    "#include \"main.h\"\n",
    "#include <stdio.h>\n",
    "\n",
    "/**\n",
    " * main - check the code\n",
    " *\n",
    " * Return: Always 0.\n",
    " */\n",
    "int main(void)\n",
    "{\n",
    "    int a;\n",
    "    int b;\n",
    "\n",
    "    a = 98;\n",
    "    b = 42;\n",
    "    printf(\"a=%d, b=%d\\n\", a, b);\n",
    "    swap_int(&a, &b);\n",
    "    printf(\"a=%d, b=%d\\n\", a, b);\n",
    "    return (0);\n",
    "}"
   ]
  },
  {
   "cell_type": "code",
   "execution_count": 2,
   "metadata": {},
   "outputs": [
    {
     "name": "stdout",
     "output_type": "stream",
     "text": [
      "Overwriting 0x05-pointers_arrays_strings/main.h\n"
     ]
    }
   ],
   "source": [
    "%%file 0x06-pointers_arrays_strings/main.h\n",
    "#ifndef FILE_MAIN\n",
    "#define FILE_MAIN\n",
    "\n",
    "#include <stdio.h>\n",
    "\n",
    "int _putchar(char c);\n",
    "void reset_to_98(int *n);\n",
    "void swap_int(int *a, int *b);\n",
    "\n",
    "\n",
    "#endif\n"
   ]
  },
  {
   "cell_type": "code",
   "execution_count": 7,
   "metadata": {},
   "outputs": [
    {
     "name": "stdout",
     "output_type": "stream",
     "text": [
      "Overwriting 0x05-pointers_arrays_strings/1-swap.c\n"
     ]
    }
   ],
   "source": [
    "%%file 0x06-pointers_arrays_strings/1-swap.c\n",
    "#include \"main.h\"\n",
    "\n",
    "/**\n",
    "* swap_int - swaps the values of two integers.\n",
    "* @a: the int value\n",
    "* @b: another int value\n",
    "*/\n",
    "void swap_int(int *a, int *b)\n",
    "{\n",
    "int temp;\n",
    "\n",
    "temp = *a;\n",
    "*a = *b;\n",
    "*b = temp;\n",
    "\n",
    "}"
   ]
  },
  {
   "cell_type": "code",
   "execution_count": 8,
   "metadata": {},
   "outputs": [
    {
     "name": "stdout",
     "output_type": "stream",
     "text": [
      "Overwriting 0x05-pointers_arrays_strings/_putchar.c\n"
     ]
    }
   ],
   "source": [
    "%%file 0x06-pointers_arrays_strings/_putchar.c\n",
    "#include <unistd.h>\n",
    "#include \"main.h\"\n",
    "/**\n",
    " * _putchar - writes the character c to stdout\n",
    " * @c: The character to print\n",
    " *\n",
    " * Return: On success 1.\n",
    " * On error, -1 is returned, and errno is set appropriately.\n",
    " */\n",
    "int _putchar(char c)\n",
    "{\n",
    "\treturn (write(1, &c, 1));\n",
    "}\n"
   ]
  },
  {
   "cell_type": "code",
   "execution_count": 9,
   "metadata": {},
   "outputs": [
    {
     "name": "stdout",
     "output_type": "stream",
     "text": [
      "\n",
      "========== 0x05-pointers_arrays_strings/1-swap.c ==========\n",
      "swap_int\n",
      "a=98, b=42\n",
      "a=42, b=98\n"
     ]
    }
   ],
   "source": [
    "%%bash\n",
    "betty 0x06-pointers_arrays_strings/1-swap.c\n",
    "gcc -Wall -pedantic -Werror -Wextra -std=gnu89 0x06-pointers_arrays_strings/1-main.c 0x06-pointers_arrays_strings/1-swap.c -o 0x06-pointers_arrays_strings/1-swap\n",
    "./0x06-pointers_arrays_strings/1-swap"
   ]
  },
  {
   "cell_type": "code",
   "execution_count": 10,
   "metadata": {},
   "outputs": [
    {
     "name": "stdout",
     "output_type": "stream",
     "text": [
      "[main b7655ea] alx-low_level_programming/0x04-more_functions_nested_loops\n",
      " 5 files changed, 645 insertions(+), 4088 deletions(-)\n",
      " create mode 100755 0x05-pointers_arrays_strings/1-swap\n",
      " create mode 100644 0x05-pointers_arrays_strings/1-swap.c\n",
      " rewrite 0x05. C - Pointers, arrays and strings.ipynb (88%)\n"
     ]
    },
    {
     "name": "stderr",
     "output_type": "stream",
     "text": [
      "To github.com:elkomysara/alx-low_level_programming.git\n",
      "   290f806..b7655ea  main -> main\n"
     ]
    }
   ],
   "source": [
    "%%bash\n",
    "git add .\n",
    "git commit -m \"alx-low_level_programming/0x06-pointers_arrays_strings\"\n",
    "git push"
   ]
  },
  {
   "cell_type": "code",
   "execution_count": null,
   "metadata": {},
   "outputs": [],
   "source": []
  },
  {
   "cell_type": "markdown",
   "metadata": {},
   "source": [
    "###\n",
    "---\n",
    "<center>\n",
    "<h4> 2. strncpy </h4>\n",
    "</center>\n",
    "\n",
    "---"
   ]
  },
  {
   "cell_type": "markdown",
   "metadata": {},
   "source": [
    "\n",
    "####  Write a function that returns the length of a string.\n",
    "\n",
    "* Prototype: `int _strlen(char *s);`\n",
    "FYI: The standard library provides a similar function: strlen. Run man strlen to learn more.\n",
    "\n",
    "```bash\n",
    "julien@ubuntu:~/0x05$ cat 2-main.c\n",
    "#include \"main.h\"\n",
    "#include <stdio.h>\n",
    "\n",
    "/**\n",
    " * main - check the code\n",
    " *\n",
    " * Return: Always 0.\n",
    " */\n",
    "int main(void)\n",
    "{\n",
    "    char *str;\n",
    "    int len;\n",
    "\n",
    "    str = \"My first strlen!\";\n",
    "    len = _strlen(str);\n",
    "    printf(\"%d\\n\", len);\n",
    "    return (0);\n",
    "}\n",
    "julien@ubuntu:~/0x05$ gcc -Wall -pedantic -Werror -Wextra -std=gnu89 2-main.c 2-strlen.c -o 2-strlen\n",
    "julien@ubuntu:~/0x05$ ./2-strlen \n",
    "16\n",
    "julien@ubuntu:~/0x05$ \n",
    "\n",
    "```\n",
    "\n",
    "#### Repo:\n",
    "* GitHub repository: ``` alx-low_level_programming ```\n",
    "* Directory: ```0x05-pointers_arrays_strings``` \n",
    "* File: ```2-strlen.c```"
   ]
  },
  {
   "cell_type": "code",
   "execution_count": 20,
   "metadata": {},
   "outputs": [
    {
     "name": "stdout",
     "output_type": "stream",
     "text": [
      "Overwriting 0x05-pointers_arrays_strings/2-main.c\n"
     ]
    }
   ],
   "source": [
    "%%file 0x06-pointers_arrays_strings/2-main.c\n",
    "#include \"main.h\"\n",
    "#include <stdio.h>\n",
    "\n",
    "/**\n",
    " * main - check the code\n",
    " *\n",
    " * Return: Always 0.\n",
    " */\n",
    "int main(void)\n",
    "{\n",
    "    char *str;\n",
    "    int len;\n",
    "\n",
    "    str = \"My first strlen!\";\n",
    "    len = _strlen(str);\n",
    "    printf(\"%d\\n\", len);\n",
    "    return (0);\n",
    "}"
   ]
  },
  {
   "cell_type": "code",
   "execution_count": 21,
   "metadata": {},
   "outputs": [
    {
     "name": "stdout",
     "output_type": "stream",
     "text": [
      "Overwriting 0x05-pointers_arrays_strings/main.h\n"
     ]
    }
   ],
   "source": [
    "%%file 0x06-pointers_arrays_strings/main.h\n",
    "#ifndef FILE_MAIN\n",
    "#define FILE_MAIN\n",
    "\n",
    "#include <stdio.h>\n",
    "\n",
    "int _putchar(char c);\n",
    "void reset_to_98(int *n);\n",
    "void swap_int(int *a, int *b);\n",
    "int _strlen(char *s);\n",
    "\n",
    "\n",
    "#endif\n"
   ]
  },
  {
   "cell_type": "code",
   "execution_count": 22,
   "metadata": {},
   "outputs": [
    {
     "name": "stdout",
     "output_type": "stream",
     "text": [
      "Overwriting 0x05-pointers_arrays_strings/2-strlen.c\n"
     ]
    }
   ],
   "source": [
    "%%file 0x06-pointers_arrays_strings/2-strlen.c\n",
    "#include \"main.h\"\n",
    "\n",
    "/**\n",
    " * _strlen - returns the length of a string.\n",
    " * @s: the string to measure.\n",
    " *\n",
    " * Return: the length of the string.\n",
    " */\n",
    "int _strlen(char *s)\n",
    "{\n",
    "int length = 0;\n",
    "\n",
    "while (*s != '\\0')\n",
    "{\n",
    "length++;\n",
    "s++;\n",
    "}\n",
    "\n",
    "return (length);\n",
    "}"
   ]
  },
  {
   "cell_type": "code",
   "execution_count": 23,
   "metadata": {},
   "outputs": [
    {
     "name": "stdout",
     "output_type": "stream",
     "text": [
      "Overwriting 0x05-pointers_arrays_strings/_putchar.c\n"
     ]
    }
   ],
   "source": [
    "%%file 0x06-pointers_arrays_strings/_putchar.c\n",
    "#include <unistd.h>\n",
    "#include \"main.h\"\n",
    "/**\n",
    " * _putchar - writes the character c to stdout\n",
    " * @c: The character to print\n",
    " *\n",
    " * Return: On success 1.\n",
    " * On error, -1 is returned, and errno is set appropriately.\n",
    " */\n",
    "int _putchar(char c)\n",
    "{\n",
    "\treturn (write(1, &c, 1));\n",
    "}\n"
   ]
  },
  {
   "cell_type": "code",
   "execution_count": 24,
   "metadata": {},
   "outputs": [
    {
     "name": "stdout",
     "output_type": "stream",
     "text": [
      "\n",
      "========== 0x05-pointers_arrays_strings/2-strlen.c ==========\n"
     ]
    },
    {
     "name": "stdout",
     "output_type": "stream",
     "text": [
      "_strlen\n",
      "16\n"
     ]
    }
   ],
   "source": [
    "%%bash\n",
    "betty 0x06-pointers_arrays_strings/2-strlen.c\n",
    "gcc -Wall -pedantic -Werror -Wextra -std=gnu89 0x06-pointers_arrays_strings/2-main.c 0x06-pointers_arrays_strings/2-strlen.c -o 0x06-pointers_arrays_strings/2-strlen\n",
    "./0x06-pointers_arrays_strings/2-strlen"
   ]
  },
  {
   "cell_type": "code",
   "execution_count": 25,
   "metadata": {},
   "outputs": [
    {
     "name": "stdout",
     "output_type": "stream",
     "text": [
      "On branch main\n",
      "Your branch is up to date with 'origin/main'.\n",
      "\n",
      "nothing to commit, working tree clean\n"
     ]
    },
    {
     "name": "stderr",
     "output_type": "stream",
     "text": [
      "Everything up-to-date\n"
     ]
    }
   ],
   "source": [
    "%%bash\n",
    "git add .\n",
    "git commit -m \"alx-low_level_programming/0x06-pointers_arrays_strings\"\n",
    "git push"
   ]
  },
  {
   "cell_type": "code",
   "execution_count": null,
   "metadata": {},
   "outputs": [],
   "source": []
  },
  {
   "cell_type": "markdown",
   "metadata": {},
   "source": [
    "###\n",
    "---\n",
    "<center>\n",
    "<h4> 3. strcmp\n",
    " </h4>\n",
    "</center>\n",
    "\n",
    "---"
   ]
  },
  {
   "cell_type": "markdown",
   "metadata": {},
   "source": [
    "\n",
    "####  Write a function that prints a string, followed by a new line, to stdout.\n",
    "\n",
    "* Prototype: `void _puts(char *str);`\n",
    "FYI: The standard library provides a similar function: puts. Run man puts to learn more\n",
    "\n",
    "```bash\n",
    "julien@ubuntu:~/0x05$ cat 3-main.c\n",
    "#include \"main.h\"\n",
    "\n",
    "/**\n",
    " * main - check the code\n",
    " *\n",
    " * Return: Always 0.\n",
    " */\n",
    "int main(void)\n",
    "{\n",
    "    char *str;\n",
    "\n",
    "    str = \"I do not fear computers. I fear the lack of them - Isaac Asimov\";\n",
    "    _puts(str);\n",
    "    return (0);\n",
    "}\n",
    "julien@ubuntu:~/0x05$ gcc -Wall -pedantic -Werror -Wextra -std=gnu89 _putchar.c 3-main.c 3-puts.c -o 3-puts\n",
    "julien@ubuntu:~/0x05$ ./3-puts \n",
    "I do not fear computers. I fear the lack of them - Isaac Asimov\n",
    "julien@ubuntu:~/0x05$ \n",
    "\n",
    "```\n",
    "\n",
    "#### Repo:\n",
    "* GitHub repository: ``` alx-low_level_programming ```\n",
    "* Directory: ```0x05-pointers_arrays_strings``` \n",
    "* File: ```3-puts.c```"
   ]
  },
  {
   "cell_type": "code",
   "execution_count": 27,
   "metadata": {},
   "outputs": [
    {
     "name": "stdout",
     "output_type": "stream",
     "text": [
      "Overwriting 0x05-pointers_arrays_strings/3-main.c\n"
     ]
    }
   ],
   "source": [
    "%%file 0x06-pointers_arrays_strings/3-main.c\n",
    "#include \"main.h\"\n",
    "\n",
    "/**\n",
    " * main - check the code\n",
    " *\n",
    " * Return: Always 0.\n",
    "*/\n",
    "int main(void)\n",
    "{\n",
    "char *str;\n",
    "\n",
    "str = \"I do not fear computers. I fear the lack of them - Isaac Asimov\";\n",
    "_puts(str);\n",
    "return (0);\n",
    "}"
   ]
  },
  {
   "cell_type": "code",
   "execution_count": 32,
   "metadata": {},
   "outputs": [
    {
     "name": "stdout",
     "output_type": "stream",
     "text": [
      "Overwriting 0x05-pointers_arrays_strings/main.h\n"
     ]
    }
   ],
   "source": [
    "%%file 0x06-pointers_arrays_strings/main.h\n",
    "#ifndef FILE_MAIN\n",
    "#define FILE_MAIN\n",
    "\n",
    "#include <stdio.h>\n",
    "\n",
    "int _putchar(char c);\n",
    "void reset_to_98(int *n);\n",
    "void swap_int(int *a, int *b);\n",
    "int _strlen(char *s);\n",
    "void _puts(char *str);\n",
    "\n",
    "\n",
    "#endif\n"
   ]
  },
  {
   "cell_type": "code",
   "execution_count": 33,
   "metadata": {},
   "outputs": [
    {
     "name": "stdout",
     "output_type": "stream",
     "text": [
      "Overwriting 0x05-pointers_arrays_strings/3-puts.c\n"
     ]
    }
   ],
   "source": [
    "%%file 0x06-pointers_arrays_strings/3-puts.c\n",
    "#include \"main.h\"\n",
    "\n",
    "/**\n",
    "* _puts - prints a string followed by a new line to stdout.\n",
    "* @str: the string to be printed.\n",
    "*/\n",
    "void _puts(char *str)\n",
    "{\n",
    "while (*str != '\\0') /* Loop until the end of the string */\n",
    "{\n",
    "_putchar(*str); /* Print each character */\n",
    "str++;  /* Move to the next character */\n",
    "}\n",
    "_putchar('\\n'); /* Print a newline character at the end */\n",
    "}\n"
   ]
  },
  {
   "cell_type": "code",
   "execution_count": 34,
   "metadata": {},
   "outputs": [
    {
     "name": "stdout",
     "output_type": "stream",
     "text": [
      "Overwriting 0x05-pointers_arrays_strings/_putchar.c\n"
     ]
    }
   ],
   "source": [
    "%%file 0x06-pointers_arrays_strings/_putchar.c\n",
    "#include <unistd.h>\n",
    "#include \"main.h\"\n",
    "/**\n",
    " * _putchar - writes the character c to stdout\n",
    " * @c: The character to print\n",
    " *\n",
    " * Return: On success 1.\n",
    " * On error, -1 is returned, and errno is set appropriately.\n",
    " */\n",
    "int _putchar(char c)\n",
    "{\n",
    "\treturn (write(1, &c, 1));\n",
    "}\n"
   ]
  },
  {
   "cell_type": "code",
   "execution_count": 35,
   "metadata": {},
   "outputs": [
    {
     "name": "stdout",
     "output_type": "stream",
     "text": [
      "\n",
      "========== 0x05-pointers_arrays_strings/3-puts.c ==========\n",
      "_puts\n"
     ]
    },
    {
     "name": "stderr",
     "output_type": "stream",
     "text": [
      "/usr/bin/ld: /tmp/ccEohDpk.o: in function `_puts':\n",
      "3-puts.c:(.text+0x0): multiple definition of `_puts'; /tmp/ccXYWbwm.o:3-puts.c:(.text+0x0): first defined here\n",
      "/usr/bin/ld: /usr/lib/gcc/x86_64-linux-gnu/9/../../../x86_64-linux-gnu/Scrt1.o: in function `_start':\n",
      "(.text+0x24): undefined reference to `main'\n",
      "/usr/bin/ld: /tmp/ccXYWbwm.o: in function `_puts':\n",
      "3-puts.c:(.text+0x1f): undefined reference to `_putchar'\n",
      "/usr/bin/ld: 3-puts.c:(.text+0x39): undefined reference to `_putchar'\n",
      "/usr/bin/ld: /tmp/ccEohDpk.o: in function `_puts':\n",
      "3-puts.c:(.text+0x1f): undefined reference to `_putchar'\n",
      "/usr/bin/ld: 3-puts.c:(.text+0x39): undefined reference to `_putchar'\n",
      "collect2: error: ld returned 1 exit status\n",
      "bash: line 3: ./0x05-pointers_arrays_strings/3-puts: No such file or directory\n"
     ]
    },
    {
     "ename": "CalledProcessError",
     "evalue": "Command 'b'betty 0x05-pointers_arrays_strings/3-puts.c\\ngcc -Wall -pedantic -Werror -Wextra -std=gnu89 0x05-pointers_arrays_strings/3-puts.c 0x05-pointers_arrays_strings/3-puts.c -o 0x05-pointers_arrays_strings/3-puts\\n./0x05-pointers_arrays_strings/3-puts\\n'' returned non-zero exit status 127.",
     "output_type": "error",
     "traceback": [
      "\u001b[0;31m---------------------------------------------------------------------------\u001b[0m",
      "\u001b[0;31mCalledProcessError\u001b[0m                        Traceback (most recent call last)",
      "Cell \u001b[0;32mIn[35], line 1\u001b[0m\n\u001b[0;32m----> 1\u001b[0m \u001b[43mget_ipython\u001b[49m\u001b[43m(\u001b[49m\u001b[43m)\u001b[49m\u001b[38;5;241;43m.\u001b[39;49m\u001b[43mrun_cell_magic\u001b[49m\u001b[43m(\u001b[49m\u001b[38;5;124;43m'\u001b[39;49m\u001b[38;5;124;43mbash\u001b[39;49m\u001b[38;5;124;43m'\u001b[39;49m\u001b[43m,\u001b[49m\u001b[43m \u001b[49m\u001b[38;5;124;43m'\u001b[39;49m\u001b[38;5;124;43m'\u001b[39;49m\u001b[43m,\u001b[49m\u001b[43m \u001b[49m\u001b[38;5;124;43m'\u001b[39;49m\u001b[38;5;124;43mbetty 0x05-pointers_arrays_strings/3-puts.c\u001b[39;49m\u001b[38;5;130;43;01m\\n\u001b[39;49;00m\u001b[38;5;124;43mgcc -Wall -pedantic -Werror -Wextra -std=gnu89 0x05-pointers_arrays_strings/3-puts.c 0x05-pointers_arrays_strings/3-puts.c -o 0x05-pointers_arrays_strings/3-puts\u001b[39;49m\u001b[38;5;130;43;01m\\n\u001b[39;49;00m\u001b[38;5;124;43m./0x05-pointers_arrays_strings/3-puts\u001b[39;49m\u001b[38;5;130;43;01m\\n\u001b[39;49;00m\u001b[38;5;124;43m'\u001b[39;49m\u001b[43m)\u001b[49m\n",
      "File \u001b[0;32m~/anaconda3/envs/alxse/lib/python3.12/site-packages/IPython/core/interactiveshell.py:2541\u001b[0m, in \u001b[0;36mInteractiveShell.run_cell_magic\u001b[0;34m(self, magic_name, line, cell)\u001b[0m\n\u001b[1;32m   2539\u001b[0m \u001b[38;5;28;01mwith\u001b[39;00m \u001b[38;5;28mself\u001b[39m\u001b[38;5;241m.\u001b[39mbuiltin_trap:\n\u001b[1;32m   2540\u001b[0m     args \u001b[38;5;241m=\u001b[39m (magic_arg_s, cell)\n\u001b[0;32m-> 2541\u001b[0m     result \u001b[38;5;241m=\u001b[39m \u001b[43mfn\u001b[49m\u001b[43m(\u001b[49m\u001b[38;5;241;43m*\u001b[39;49m\u001b[43margs\u001b[49m\u001b[43m,\u001b[49m\u001b[43m \u001b[49m\u001b[38;5;241;43m*\u001b[39;49m\u001b[38;5;241;43m*\u001b[39;49m\u001b[43mkwargs\u001b[49m\u001b[43m)\u001b[49m\n\u001b[1;32m   2543\u001b[0m \u001b[38;5;66;03m# The code below prevents the output from being displayed\u001b[39;00m\n\u001b[1;32m   2544\u001b[0m \u001b[38;5;66;03m# when using magics with decorator @output_can_be_silenced\u001b[39;00m\n\u001b[1;32m   2545\u001b[0m \u001b[38;5;66;03m# when the last Python token in the expression is a ';'.\u001b[39;00m\n\u001b[1;32m   2546\u001b[0m \u001b[38;5;28;01mif\u001b[39;00m \u001b[38;5;28mgetattr\u001b[39m(fn, magic\u001b[38;5;241m.\u001b[39mMAGIC_OUTPUT_CAN_BE_SILENCED, \u001b[38;5;28;01mFalse\u001b[39;00m):\n",
      "File \u001b[0;32m~/anaconda3/envs/alxse/lib/python3.12/site-packages/IPython/core/magics/script.py:155\u001b[0m, in \u001b[0;36mScriptMagics._make_script_magic.<locals>.named_script_magic\u001b[0;34m(line, cell)\u001b[0m\n\u001b[1;32m    153\u001b[0m \u001b[38;5;28;01melse\u001b[39;00m:\n\u001b[1;32m    154\u001b[0m     line \u001b[38;5;241m=\u001b[39m script\n\u001b[0;32m--> 155\u001b[0m \u001b[38;5;28;01mreturn\u001b[39;00m \u001b[38;5;28;43mself\u001b[39;49m\u001b[38;5;241;43m.\u001b[39;49m\u001b[43mshebang\u001b[49m\u001b[43m(\u001b[49m\u001b[43mline\u001b[49m\u001b[43m,\u001b[49m\u001b[43m \u001b[49m\u001b[43mcell\u001b[49m\u001b[43m)\u001b[49m\n",
      "File \u001b[0;32m~/anaconda3/envs/alxse/lib/python3.12/site-packages/IPython/core/magics/script.py:315\u001b[0m, in \u001b[0;36mScriptMagics.shebang\u001b[0;34m(self, line, cell)\u001b[0m\n\u001b[1;32m    310\u001b[0m \u001b[38;5;28;01mif\u001b[39;00m args\u001b[38;5;241m.\u001b[39mraise_error \u001b[38;5;129;01mand\u001b[39;00m p\u001b[38;5;241m.\u001b[39mreturncode \u001b[38;5;241m!=\u001b[39m \u001b[38;5;241m0\u001b[39m:\n\u001b[1;32m    311\u001b[0m     \u001b[38;5;66;03m# If we get here and p.returncode is still None, we must have\u001b[39;00m\n\u001b[1;32m    312\u001b[0m     \u001b[38;5;66;03m# killed it but not yet seen its return code. We don't wait for it,\u001b[39;00m\n\u001b[1;32m    313\u001b[0m     \u001b[38;5;66;03m# in case it's stuck in uninterruptible sleep. -9 = SIGKILL\u001b[39;00m\n\u001b[1;32m    314\u001b[0m     rc \u001b[38;5;241m=\u001b[39m p\u001b[38;5;241m.\u001b[39mreturncode \u001b[38;5;129;01mor\u001b[39;00m \u001b[38;5;241m-\u001b[39m\u001b[38;5;241m9\u001b[39m\n\u001b[0;32m--> 315\u001b[0m     \u001b[38;5;28;01mraise\u001b[39;00m CalledProcessError(rc, cell)\n",
      "\u001b[0;31mCalledProcessError\u001b[0m: Command 'b'betty 0x05-pointers_arrays_strings/3-puts.c\\ngcc -Wall -pedantic -Werror -Wextra -std=gnu89 0x05-pointers_arrays_strings/3-puts.c 0x05-pointers_arrays_strings/3-puts.c -o 0x05-pointers_arrays_strings/3-puts\\n./0x05-pointers_arrays_strings/3-puts\\n'' returned non-zero exit status 127."
     ]
    }
   ],
   "source": [
    "%%bash\n",
    "betty 0x06-pointers_arrays_strings/3-puts.c\n",
    "gcc -Wall -pedantic -Werror -Wextra -std=gnu89 0x06-pointers_arrays_strings/3-puts.c 0x06-pointers_arrays_strings/3-puts.c -o 0x06-pointers_arrays_strings/3-puts\n",
    "./0x06-pointers_arrays_strings/3-puts"
   ]
  },
  {
   "cell_type": "code",
   "execution_count": 36,
   "metadata": {},
   "outputs": [
    {
     "name": "stdout",
     "output_type": "stream",
     "text": [
      "[main 9fa24b7] alx-low_level_programming/0x04-more_functions_nested_loops\n",
      " 3 files changed, 22 insertions(+), 6 deletions(-)\n",
      " create mode 100644 0x05-pointers_arrays_strings/3-puts.c\n"
     ]
    },
    {
     "name": "stderr",
     "output_type": "stream",
     "text": [
      "To github.com:elkomysara/alx-low_level_programming.git\n",
      "   b9fac48..9fa24b7  main -> main\n"
     ]
    }
   ],
   "source": [
    "%%bash\n",
    "git add .\n",
    "git commit -m \"alx-low_level_programming/0x06-pointers_arrays_strings\"\n",
    "git push"
   ]
  },
  {
   "cell_type": "code",
   "execution_count": null,
   "metadata": {},
   "outputs": [],
   "source": []
  },
  {
   "cell_type": "markdown",
   "metadata": {},
   "source": [
    "###\n",
    "---\n",
    "<center>\n",
    "<h4> 4. I am a kind of paranoid in reverse. I suspect people of plotting to make me happy\n",
    " </h4>\n",
    "</center>\n",
    "\n",
    "---"
   ]
  },
  {
   "cell_type": "markdown",
   "metadata": {},
   "source": [
    "\n",
    "####  Write a function that prints a string, in reverse, followed by a new line.\n",
    "\n",
    "* Prototype: void print_rev(char *s);\n",
    "\n",
    "```bash\n",
    "julien@ubuntu:~/0x05$ cat 4-main.c\n",
    "#include \"main.h\"\n",
    "\n",
    "/**\n",
    " * main - check the code\n",
    " *\n",
    " * Return: Always 0.\n",
    " */\n",
    "int main(void)\n",
    "{\n",
    "    char *str;\n",
    "\n",
    "    str = \"I do not fear computers. I fear the lack of them - Isaac Asimov\";\n",
    "    print_rev(str);\n",
    "    return (0);\n",
    "}\n",
    "julien@ubuntu:~/0x05$ gcc -Wall -pedantic -Werror -Wextra -std=gnu89 _putchar.c 4-main.c 4-print_rev.c -o 4-print_rev\n",
    "julien@ubuntu:~/0x05$ ./4-print_rev \n",
    "vomisA caasI - meht fo kcal eht raef I .sretupmoc raef ton od I\n",
    "julien@ubuntu:~/0x05$ \n",
    "```\n",
    "\n",
    "#### Repo:\n",
    "* GitHub repository: ``` alx-low_level_programming ```\n",
    "* Directory: ```0x05-pointers_arrays_strings``` \n",
    "* File: ```4-print_rev.c```"
   ]
  },
  {
   "cell_type": "code",
   "execution_count": 37,
   "metadata": {},
   "outputs": [
    {
     "name": "stdout",
     "output_type": "stream",
     "text": [
      "Overwriting 0x05-pointers_arrays_strings/4-main.c\n"
     ]
    }
   ],
   "source": [
    "%%file 0x06-pointers_arrays_strings/4-main.c\n",
    "#include \"main.h\"\n",
    "\n",
    "/**\n",
    " * main - check the code\n",
    " *\n",
    " * Return: Always 0.\n",
    " */\n",
    "int main(void)\n",
    "{\n",
    "    char *str;\n",
    "\n",
    "    str = \"I do not fear computers. I fear the lack of them - Isaac Asimov\";\n",
    "    print_rev(str);\n",
    "    return (0);\n",
    "}"
   ]
  },
  {
   "cell_type": "code",
   "execution_count": null,
   "metadata": {},
   "outputs": [
    {
     "name": "stdout",
     "output_type": "stream",
     "text": [
      "Overwriting 0x05-pointers_arrays_strings/main.h\n"
     ]
    }
   ],
   "source": [
    "%%file 0x06-pointers_arrays_strings/main.h\n",
    "#ifndef FILE_MAIN\n",
    "#define FILE_MAIN\n",
    "\n",
    "#include <stdio.h>\n",
    "\n",
    "int _putchar(char c);\n",
    "void reset_to_98(int *n);\n",
    "void swap_int(int *a, int *b);\n",
    "int _strlen(char *s);\n",
    "void _puts(char *str);\n",
    "void print_rev(char *s);\n",
    "\n",
    "#endif\n"
   ]
  },
  {
   "cell_type": "code",
   "execution_count": 40,
   "metadata": {},
   "outputs": [
    {
     "name": "stdout",
     "output_type": "stream",
     "text": [
      "Overwriting 0x05-pointers_arrays_strings/4-print_rev.c\n"
     ]
    }
   ],
   "source": [
    "%%file 0x06-pointers_arrays_strings/4-print_rev.c\n",
    "#include \"main.h\"\n",
    "\n",
    "/**\n",
    "* print_rev - prints a string in reverse, followed by a new line.\n",
    "* @s: the string to be printed.\n",
    "*/\n",
    "void print_rev(char *s)\n",
    "{\n",
    "int length = 0;\n",
    "int i;\n",
    "\n",
    "/* Calculate the length of the string */\n",
    "while (s[length] != '\\0')\n",
    "{\n",
    "length++;\n",
    "}\n",
    "\n",
    "/* Print the string in reverse */\n",
    "for (i = length - 1; i >= 0; i--)\n",
    "{\n",
    "_putchar(s[i]);\n",
    "}\n",
    "\n",
    "_putchar('\\n'); /* Print a newline character */\n",
    "}\n"
   ]
  },
  {
   "cell_type": "code",
   "execution_count": 41,
   "metadata": {},
   "outputs": [
    {
     "name": "stdout",
     "output_type": "stream",
     "text": [
      "Overwriting 0x05-pointers_arrays_strings/_putchar.c\n"
     ]
    }
   ],
   "source": [
    "%%file 0x06-pointers_arrays_strings/_putchar.c\n",
    "#include <unistd.h>\n",
    "#include \"main.h\"\n",
    "/**\n",
    " * _putchar - writes the character c to stdout\n",
    " * @c: The character to print\n",
    " *\n",
    " * Return: On success 1.\n",
    " * On error, -1 is returned, and errno is set appropriately.\n",
    " */\n",
    "int _putchar(char c)\n",
    "{\n",
    "\treturn (write(1, &c, 1));\n",
    "}\n"
   ]
  },
  {
   "cell_type": "code",
   "execution_count": 42,
   "metadata": {},
   "outputs": [
    {
     "name": "stdout",
     "output_type": "stream",
     "text": [
      "\n",
      "========== 0x05-pointers_arrays_strings/4-print_rev.c ==========\n",
      "print_rev\n"
     ]
    },
    {
     "name": "stderr",
     "output_type": "stream",
     "text": [
      "/usr/bin/ld: /tmp/ccZdMCxK.o: in function `print_rev':\n",
      "4-print_rev.c:(.text+0x0): multiple definition of `print_rev'; /tmp/cchBlCjJ.o:4-print_rev.c:(.text+0x0): first defined here\n",
      "/usr/bin/ld: /usr/lib/gcc/x86_64-linux-gnu/9/../../../x86_64-linux-gnu/Scrt1.o: in function `_start':\n",
      "(.text+0x24): undefined reference to `main'\n",
      "/usr/bin/ld: /tmp/cchBlCjJ.o: in function `print_rev':\n",
      "4-print_rev.c:(.text+0x52): undefined reference to `_putchar'\n",
      "/usr/bin/ld: 4-print_rev.c:(.text+0x66): undefined reference to `_putchar'\n",
      "/usr/bin/ld: /tmp/ccZdMCxK.o: in function `print_rev':\n",
      "4-print_rev.c:(.text+0x52): undefined reference to `_putchar'\n",
      "/usr/bin/ld: 4-print_rev.c:(.text+0x66): undefined reference to `_putchar'\n",
      "collect2: error: ld returned 1 exit status\n",
      "bash: line 3: ./0x05-pointers_arrays_strings/4-print_rev: No such file or directory\n"
     ]
    },
    {
     "ename": "CalledProcessError",
     "evalue": "Command 'b'betty 0x05-pointers_arrays_strings/4-print_rev.c\\ngcc -Wall -pedantic -Werror -Wextra -std=gnu89 0x05-pointers_arrays_strings/4-print_rev.c 0x05-pointers_arrays_strings/4-print_rev.c -o 0x05-pointers_arrays_strings/4-print_rev\\n./0x05-pointers_arrays_strings/4-print_rev\\n'' returned non-zero exit status 127.",
     "output_type": "error",
     "traceback": [
      "\u001b[0;31m---------------------------------------------------------------------------\u001b[0m",
      "\u001b[0;31mCalledProcessError\u001b[0m                        Traceback (most recent call last)",
      "Cell \u001b[0;32mIn[42], line 1\u001b[0m\n\u001b[0;32m----> 1\u001b[0m \u001b[43mget_ipython\u001b[49m\u001b[43m(\u001b[49m\u001b[43m)\u001b[49m\u001b[38;5;241;43m.\u001b[39;49m\u001b[43mrun_cell_magic\u001b[49m\u001b[43m(\u001b[49m\u001b[38;5;124;43m'\u001b[39;49m\u001b[38;5;124;43mbash\u001b[39;49m\u001b[38;5;124;43m'\u001b[39;49m\u001b[43m,\u001b[49m\u001b[43m \u001b[49m\u001b[38;5;124;43m'\u001b[39;49m\u001b[38;5;124;43m'\u001b[39;49m\u001b[43m,\u001b[49m\u001b[43m \u001b[49m\u001b[38;5;124;43m'\u001b[39;49m\u001b[38;5;124;43mbetty 0x05-pointers_arrays_strings/4-print_rev.c\u001b[39;49m\u001b[38;5;130;43;01m\\n\u001b[39;49;00m\u001b[38;5;124;43mgcc -Wall -pedantic -Werror -Wextra -std=gnu89 0x05-pointers_arrays_strings/4-print_rev.c 0x05-pointers_arrays_strings/4-print_rev.c -o 0x05-pointers_arrays_strings/4-print_rev\u001b[39;49m\u001b[38;5;130;43;01m\\n\u001b[39;49;00m\u001b[38;5;124;43m./0x05-pointers_arrays_strings/4-print_rev\u001b[39;49m\u001b[38;5;130;43;01m\\n\u001b[39;49;00m\u001b[38;5;124;43m'\u001b[39;49m\u001b[43m)\u001b[49m\n",
      "File \u001b[0;32m~/anaconda3/envs/alxse/lib/python3.12/site-packages/IPython/core/interactiveshell.py:2541\u001b[0m, in \u001b[0;36mInteractiveShell.run_cell_magic\u001b[0;34m(self, magic_name, line, cell)\u001b[0m\n\u001b[1;32m   2539\u001b[0m \u001b[38;5;28;01mwith\u001b[39;00m \u001b[38;5;28mself\u001b[39m\u001b[38;5;241m.\u001b[39mbuiltin_trap:\n\u001b[1;32m   2540\u001b[0m     args \u001b[38;5;241m=\u001b[39m (magic_arg_s, cell)\n\u001b[0;32m-> 2541\u001b[0m     result \u001b[38;5;241m=\u001b[39m \u001b[43mfn\u001b[49m\u001b[43m(\u001b[49m\u001b[38;5;241;43m*\u001b[39;49m\u001b[43margs\u001b[49m\u001b[43m,\u001b[49m\u001b[43m \u001b[49m\u001b[38;5;241;43m*\u001b[39;49m\u001b[38;5;241;43m*\u001b[39;49m\u001b[43mkwargs\u001b[49m\u001b[43m)\u001b[49m\n\u001b[1;32m   2543\u001b[0m \u001b[38;5;66;03m# The code below prevents the output from being displayed\u001b[39;00m\n\u001b[1;32m   2544\u001b[0m \u001b[38;5;66;03m# when using magics with decorator @output_can_be_silenced\u001b[39;00m\n\u001b[1;32m   2545\u001b[0m \u001b[38;5;66;03m# when the last Python token in the expression is a ';'.\u001b[39;00m\n\u001b[1;32m   2546\u001b[0m \u001b[38;5;28;01mif\u001b[39;00m \u001b[38;5;28mgetattr\u001b[39m(fn, magic\u001b[38;5;241m.\u001b[39mMAGIC_OUTPUT_CAN_BE_SILENCED, \u001b[38;5;28;01mFalse\u001b[39;00m):\n",
      "File \u001b[0;32m~/anaconda3/envs/alxse/lib/python3.12/site-packages/IPython/core/magics/script.py:155\u001b[0m, in \u001b[0;36mScriptMagics._make_script_magic.<locals>.named_script_magic\u001b[0;34m(line, cell)\u001b[0m\n\u001b[1;32m    153\u001b[0m \u001b[38;5;28;01melse\u001b[39;00m:\n\u001b[1;32m    154\u001b[0m     line \u001b[38;5;241m=\u001b[39m script\n\u001b[0;32m--> 155\u001b[0m \u001b[38;5;28;01mreturn\u001b[39;00m \u001b[38;5;28;43mself\u001b[39;49m\u001b[38;5;241;43m.\u001b[39;49m\u001b[43mshebang\u001b[49m\u001b[43m(\u001b[49m\u001b[43mline\u001b[49m\u001b[43m,\u001b[49m\u001b[43m \u001b[49m\u001b[43mcell\u001b[49m\u001b[43m)\u001b[49m\n",
      "File \u001b[0;32m~/anaconda3/envs/alxse/lib/python3.12/site-packages/IPython/core/magics/script.py:315\u001b[0m, in \u001b[0;36mScriptMagics.shebang\u001b[0;34m(self, line, cell)\u001b[0m\n\u001b[1;32m    310\u001b[0m \u001b[38;5;28;01mif\u001b[39;00m args\u001b[38;5;241m.\u001b[39mraise_error \u001b[38;5;129;01mand\u001b[39;00m p\u001b[38;5;241m.\u001b[39mreturncode \u001b[38;5;241m!=\u001b[39m \u001b[38;5;241m0\u001b[39m:\n\u001b[1;32m    311\u001b[0m     \u001b[38;5;66;03m# If we get here and p.returncode is still None, we must have\u001b[39;00m\n\u001b[1;32m    312\u001b[0m     \u001b[38;5;66;03m# killed it but not yet seen its return code. We don't wait for it,\u001b[39;00m\n\u001b[1;32m    313\u001b[0m     \u001b[38;5;66;03m# in case it's stuck in uninterruptible sleep. -9 = SIGKILL\u001b[39;00m\n\u001b[1;32m    314\u001b[0m     rc \u001b[38;5;241m=\u001b[39m p\u001b[38;5;241m.\u001b[39mreturncode \u001b[38;5;129;01mor\u001b[39;00m \u001b[38;5;241m-\u001b[39m\u001b[38;5;241m9\u001b[39m\n\u001b[0;32m--> 315\u001b[0m     \u001b[38;5;28;01mraise\u001b[39;00m CalledProcessError(rc, cell)\n",
      "\u001b[0;31mCalledProcessError\u001b[0m: Command 'b'betty 0x05-pointers_arrays_strings/4-print_rev.c\\ngcc -Wall -pedantic -Werror -Wextra -std=gnu89 0x05-pointers_arrays_strings/4-print_rev.c 0x05-pointers_arrays_strings/4-print_rev.c -o 0x05-pointers_arrays_strings/4-print_rev\\n./0x05-pointers_arrays_strings/4-print_rev\\n'' returned non-zero exit status 127."
     ]
    }
   ],
   "source": [
    "%%bash\n",
    "betty 0x06-pointers_arrays_strings/4-print_rev.c\n",
    "gcc -Wall -pedantic -Werror -Wextra -std=gnu89 0x06-pointers_arrays_strings/4-print_rev.c 0x06-pointers_arrays_strings/4-print_rev.c -o 0x06-pointers_arrays_strings/4-print_rev\n",
    "./0x06-pointers_arrays_strings/4-print_rev"
   ]
  },
  {
   "cell_type": "code",
   "execution_count": 43,
   "metadata": {},
   "outputs": [
    {
     "name": "stdout",
     "output_type": "stream",
     "text": [
      "[main d4362f4] alx-low_level_programming/0x04-more_functions_nested_loops\n",
      " 2 files changed, 35 insertions(+), 9 deletions(-)\n",
      " create mode 100644 0x05-pointers_arrays_strings/4-print_rev.c\n"
     ]
    },
    {
     "name": "stderr",
     "output_type": "stream",
     "text": [
      "To github.com:elkomysara/alx-low_level_programming.git\n",
      "   9fa24b7..d4362f4  main -> main\n"
     ]
    }
   ],
   "source": [
    "%%bash\n",
    "git add .\n",
    "git commit -m \"alx-low_level_programming/0x06-pointers_arrays_strings\"\n",
    "git push"
   ]
  },
  {
   "cell_type": "code",
   "execution_count": null,
   "metadata": {},
   "outputs": [],
   "source": []
  },
  {
   "cell_type": "markdown",
   "metadata": {},
   "source": [
    "###\n",
    "---\n",
    "<center>\n",
    "<h4> 5. Always look up\n",
    " </h4>\n",
    "</center>\n",
    "\n",
    "---"
   ]
  },
  {
   "cell_type": "markdown",
   "metadata": {},
   "source": [
    "\n",
    "####  Write a function that reverses a string.\n",
    "\n",
    "* Prototype: `void rev_string(char *s);`\n",
    "\n",
    "```bash\n",
    "julien@ubuntu:~/0x05$ cat 5-main.c\n",
    "#include \"main.h\"\n",
    "#include <stdio.h>\n",
    "\n",
    "/**\n",
    " * main - check the code\n",
    " *\n",
    " * Return: Always 0.\n",
    " */\n",
    "int main(void)\n",
    "{\n",
    "    char s[10] = \"My School\";\n",
    "\n",
    "    printf(\"%s\\n\", s);\n",
    "    rev_string(s);\n",
    "    printf(\"%s\\n\", s);\n",
    "    return (0);\n",
    "}\n",
    "julien@ubuntu:~/0x05$ gcc -Wall -pedantic -Werror -Wextra -std=gnu89 5-main.c 5-rev_string.c -o 5-rev_string\n",
    "julien@ubuntu:~/0x05$ ./5-rev_string \n",
    "My School\n",
    "loohcS yM\n",
    "julien@ubuntu:~/0x05$ \n",
    "```\n",
    "\n",
    "#### Repo:\n",
    "* GitHub repository: ``` alx-low_level_programming ```\n",
    "* Directory: ```0x05-pointers_arrays_strings``` \n",
    "* File: ```5-rev_string.c```"
   ]
  },
  {
   "cell_type": "code",
   "execution_count": 44,
   "metadata": {},
   "outputs": [
    {
     "name": "stdout",
     "output_type": "stream",
     "text": [
      "Overwriting 0x05-pointers_arrays_strings/5-main.c\n"
     ]
    }
   ],
   "source": [
    "%%file 0x06-pointers_arrays_strings/5-main.c\n",
    "#include \"main.h\"\n",
    "#include <stdio.h>\n",
    "\n",
    "/**\n",
    " * main - check the code\n",
    " *\n",
    " * Return: Always 0.\n",
    " */\n",
    "int main(void)\n",
    "{\n",
    "    char s[10] = \"My School\";\n",
    "\n",
    "    printf(\"%s\\n\", s);\n",
    "    rev_string(s);\n",
    "    printf(\"%s\\n\", s);\n",
    "    return (0);\n",
    "}"
   ]
  },
  {
   "cell_type": "code",
   "execution_count": null,
   "metadata": {},
   "outputs": [
    {
     "name": "stdout",
     "output_type": "stream",
     "text": [
      "Overwriting 0x05-pointers_arrays_strings/main.h\n"
     ]
    }
   ],
   "source": [
    "%%file 0x06-pointers_arrays_strings/main.h\n",
    "#ifndef FILE_MAIN\n",
    "#define FILE_MAIN\n",
    "\n",
    "#include <stdio.h>\n",
    "\n",
    "int _putchar(char c);\n",
    "void reset_to_98(int *n);\n",
    "void swap_int(int *a, int *b);\n",
    "int _strlen(char *s);\n",
    "void _puts(char *str);\n",
    "void print_rev(char *s);\n",
    "void rev_string(char *s);\n",
    "#endif\n"
   ]
  },
  {
   "cell_type": "code",
   "execution_count": 1,
   "metadata": {},
   "outputs": [
    {
     "name": "stdout",
     "output_type": "stream",
     "text": [
      "Writing 0x05-pointers_arrays_strings/5-rev_string.c\n"
     ]
    }
   ],
   "source": [
    "%%file 0x06-pointers_arrays_strings/5-rev_string.c\n",
    "#include \"main.h\"\n",
    "\n",
    "/**\n",
    "* rev_string - reverses a string.\n",
    "* @s: the string to be reversed.\n",
    "*/\n",
    "void rev_string(char *s)\n",
    "{\n",
    "int length = 0;\n",
    "int i;\n",
    "char temp;\n",
    "\n",
    "/* Calculate the length of the string */\n",
    "while (s[length] != '\\0')\n",
    "{\n",
    "length++;\n",
    "}\n",
    "\n",
    "/* Swap characters from the start and end of the string */\n",
    "for (i = 0; i < length / 2; i++)\n",
    "{\n",
    "temp = s[i];\n",
    "s[i] = s[length - 1 - i];\n",
    "s[length - 1 - i] = temp;\n",
    "}\n",
    "}\n"
   ]
  },
  {
   "cell_type": "code",
   "execution_count": 2,
   "metadata": {},
   "outputs": [
    {
     "name": "stdout",
     "output_type": "stream",
     "text": [
      "Overwriting 0x05-pointers_arrays_strings/_putchar.c\n"
     ]
    }
   ],
   "source": [
    "%%file 0x06-pointers_arrays_strings/_putchar.c\n",
    "#include <unistd.h>\n",
    "#include \"main.h\"\n",
    "/**\n",
    " * _putchar - writes the character c to stdout\n",
    " * @c: The character to print\n",
    " *\n",
    " * Return: On success 1.\n",
    " * On error, -1 is returned, and errno is set appropriately.\n",
    " */\n",
    "int _putchar(char c)\n",
    "{\n",
    "\treturn (write(1, &c, 1));\n",
    "}\n"
   ]
  },
  {
   "cell_type": "code",
   "execution_count": 3,
   "metadata": {},
   "outputs": [
    {
     "name": "stdout",
     "output_type": "stream",
     "text": [
      "\n",
      "========== 0x05-pointers_arrays_strings/5-rev_string.c ==========\n",
      "rev_string\n"
     ]
    },
    {
     "name": "stderr",
     "output_type": "stream",
     "text": [
      "/usr/bin/ld: /tmp/ccQfjzuo.o: in function `rev_string':\n",
      "5-rev_string.c:(.text+0x0): multiple definition of `rev_string'; /tmp/ccYEp5wq.o:5-rev_string.c:(.text+0x0): first defined here\n",
      "/usr/bin/ld: /usr/lib/gcc/x86_64-linux-gnu/9/../../../x86_64-linux-gnu/Scrt1.o: in function `_start':\n",
      "(.text+0x24): undefined reference to `main'\n",
      "collect2: error: ld returned 1 exit status\n",
      "bash: line 3: ./0x05-pointers_arrays_strings/5-rev_string: No such file or directory\n"
     ]
    },
    {
     "ename": "CalledProcessError",
     "evalue": "Command 'b'betty 0x05-pointers_arrays_strings/5-rev_string.c\\ngcc -Wall -pedantic -Werror -Wextra -std=gnu89 0x05-pointers_arrays_strings/5-rev_string.c 0x05-pointers_arrays_strings/5-rev_string.c -o 0x05-pointers_arrays_strings/5-rev_string\\n./0x05-pointers_arrays_strings/5-rev_string\\n'' returned non-zero exit status 127.",
     "output_type": "error",
     "traceback": [
      "\u001b[0;31m---------------------------------------------------------------------------\u001b[0m",
      "\u001b[0;31mCalledProcessError\u001b[0m                        Traceback (most recent call last)",
      "Cell \u001b[0;32mIn[3], line 1\u001b[0m\n\u001b[0;32m----> 1\u001b[0m \u001b[43mget_ipython\u001b[49m\u001b[43m(\u001b[49m\u001b[43m)\u001b[49m\u001b[38;5;241;43m.\u001b[39;49m\u001b[43mrun_cell_magic\u001b[49m\u001b[43m(\u001b[49m\u001b[38;5;124;43m'\u001b[39;49m\u001b[38;5;124;43mbash\u001b[39;49m\u001b[38;5;124;43m'\u001b[39;49m\u001b[43m,\u001b[49m\u001b[43m \u001b[49m\u001b[38;5;124;43m'\u001b[39;49m\u001b[38;5;124;43m'\u001b[39;49m\u001b[43m,\u001b[49m\u001b[43m \u001b[49m\u001b[38;5;124;43m'\u001b[39;49m\u001b[38;5;124;43mbetty 0x05-pointers_arrays_strings/5-rev_string.c\u001b[39;49m\u001b[38;5;130;43;01m\\n\u001b[39;49;00m\u001b[38;5;124;43mgcc -Wall -pedantic -Werror -Wextra -std=gnu89 0x05-pointers_arrays_strings/5-rev_string.c 0x05-pointers_arrays_strings/5-rev_string.c -o 0x05-pointers_arrays_strings/5-rev_string\u001b[39;49m\u001b[38;5;130;43;01m\\n\u001b[39;49;00m\u001b[38;5;124;43m./0x05-pointers_arrays_strings/5-rev_string\u001b[39;49m\u001b[38;5;130;43;01m\\n\u001b[39;49;00m\u001b[38;5;124;43m'\u001b[39;49m\u001b[43m)\u001b[49m\n",
      "File \u001b[0;32m~/anaconda3/envs/alxse/lib/python3.12/site-packages/IPython/core/interactiveshell.py:2541\u001b[0m, in \u001b[0;36mInteractiveShell.run_cell_magic\u001b[0;34m(self, magic_name, line, cell)\u001b[0m\n\u001b[1;32m   2539\u001b[0m \u001b[38;5;28;01mwith\u001b[39;00m \u001b[38;5;28mself\u001b[39m\u001b[38;5;241m.\u001b[39mbuiltin_trap:\n\u001b[1;32m   2540\u001b[0m     args \u001b[38;5;241m=\u001b[39m (magic_arg_s, cell)\n\u001b[0;32m-> 2541\u001b[0m     result \u001b[38;5;241m=\u001b[39m \u001b[43mfn\u001b[49m\u001b[43m(\u001b[49m\u001b[38;5;241;43m*\u001b[39;49m\u001b[43margs\u001b[49m\u001b[43m,\u001b[49m\u001b[43m \u001b[49m\u001b[38;5;241;43m*\u001b[39;49m\u001b[38;5;241;43m*\u001b[39;49m\u001b[43mkwargs\u001b[49m\u001b[43m)\u001b[49m\n\u001b[1;32m   2543\u001b[0m \u001b[38;5;66;03m# The code below prevents the output from being displayed\u001b[39;00m\n\u001b[1;32m   2544\u001b[0m \u001b[38;5;66;03m# when using magics with decorator @output_can_be_silenced\u001b[39;00m\n\u001b[1;32m   2545\u001b[0m \u001b[38;5;66;03m# when the last Python token in the expression is a ';'.\u001b[39;00m\n\u001b[1;32m   2546\u001b[0m \u001b[38;5;28;01mif\u001b[39;00m \u001b[38;5;28mgetattr\u001b[39m(fn, magic\u001b[38;5;241m.\u001b[39mMAGIC_OUTPUT_CAN_BE_SILENCED, \u001b[38;5;28;01mFalse\u001b[39;00m):\n",
      "File \u001b[0;32m~/anaconda3/envs/alxse/lib/python3.12/site-packages/IPython/core/magics/script.py:155\u001b[0m, in \u001b[0;36mScriptMagics._make_script_magic.<locals>.named_script_magic\u001b[0;34m(line, cell)\u001b[0m\n\u001b[1;32m    153\u001b[0m \u001b[38;5;28;01melse\u001b[39;00m:\n\u001b[1;32m    154\u001b[0m     line \u001b[38;5;241m=\u001b[39m script\n\u001b[0;32m--> 155\u001b[0m \u001b[38;5;28;01mreturn\u001b[39;00m \u001b[38;5;28;43mself\u001b[39;49m\u001b[38;5;241;43m.\u001b[39;49m\u001b[43mshebang\u001b[49m\u001b[43m(\u001b[49m\u001b[43mline\u001b[49m\u001b[43m,\u001b[49m\u001b[43m \u001b[49m\u001b[43mcell\u001b[49m\u001b[43m)\u001b[49m\n",
      "File \u001b[0;32m~/anaconda3/envs/alxse/lib/python3.12/site-packages/IPython/core/magics/script.py:315\u001b[0m, in \u001b[0;36mScriptMagics.shebang\u001b[0;34m(self, line, cell)\u001b[0m\n\u001b[1;32m    310\u001b[0m \u001b[38;5;28;01mif\u001b[39;00m args\u001b[38;5;241m.\u001b[39mraise_error \u001b[38;5;129;01mand\u001b[39;00m p\u001b[38;5;241m.\u001b[39mreturncode \u001b[38;5;241m!=\u001b[39m \u001b[38;5;241m0\u001b[39m:\n\u001b[1;32m    311\u001b[0m     \u001b[38;5;66;03m# If we get here and p.returncode is still None, we must have\u001b[39;00m\n\u001b[1;32m    312\u001b[0m     \u001b[38;5;66;03m# killed it but not yet seen its return code. We don't wait for it,\u001b[39;00m\n\u001b[1;32m    313\u001b[0m     \u001b[38;5;66;03m# in case it's stuck in uninterruptible sleep. -9 = SIGKILL\u001b[39;00m\n\u001b[1;32m    314\u001b[0m     rc \u001b[38;5;241m=\u001b[39m p\u001b[38;5;241m.\u001b[39mreturncode \u001b[38;5;129;01mor\u001b[39;00m \u001b[38;5;241m-\u001b[39m\u001b[38;5;241m9\u001b[39m\n\u001b[0;32m--> 315\u001b[0m     \u001b[38;5;28;01mraise\u001b[39;00m CalledProcessError(rc, cell)\n",
      "\u001b[0;31mCalledProcessError\u001b[0m: Command 'b'betty 0x05-pointers_arrays_strings/5-rev_string.c\\ngcc -Wall -pedantic -Werror -Wextra -std=gnu89 0x05-pointers_arrays_strings/5-rev_string.c 0x05-pointers_arrays_strings/5-rev_string.c -o 0x05-pointers_arrays_strings/5-rev_string\\n./0x05-pointers_arrays_strings/5-rev_string\\n'' returned non-zero exit status 127."
     ]
    }
   ],
   "source": [
    "%%bash\n",
    "betty 0x06-pointers_arrays_strings/5-rev_string.c\n",
    "gcc -Wall -pedantic -Werror -Wextra -std=gnu89 0x06-pointers_arrays_strings/5-rev_string.c 0x06-pointers_arrays_strings/5-rev_string.c -o 0x06-pointers_arrays_strings/5-rev_string\n",
    "./0x06-pointers_arrays_strings/5-rev_string"
   ]
  },
  {
   "cell_type": "code",
   "execution_count": 4,
   "metadata": {},
   "outputs": [
    {
     "name": "stdout",
     "output_type": "stream",
     "text": [
      "[main 68e08b8] alx-low_level_programming/0x04-more_functions_nested_loops\n",
      " 3 files changed, 1190 insertions(+), 69 deletions(-)\n",
      " create mode 100644 0x05-pointers_arrays_strings/5-rev_string.c\n"
     ]
    },
    {
     "name": "stderr",
     "output_type": "stream",
     "text": [
      "To github.com:elkomysara/alx-low_level_programming.git\n",
      "   d4362f4..68e08b8  main -> main\n"
     ]
    }
   ],
   "source": [
    "%%bash\n",
    "git add .\n",
    "git commit -m \"alx-low_level_programming/0x06-pointers_arrays_strings\"\n",
    "git push"
   ]
  },
  {
   "cell_type": "code",
   "execution_count": null,
   "metadata": {},
   "outputs": [],
   "source": []
  },
  {
   "cell_type": "markdown",
   "metadata": {},
   "source": [
    "###\n",
    "---\n",
    "<center>\n",
    "<h4> 6. Expect the best. Prepare for the worst. Capitalize on what comes\n",
    " </h4>\n",
    "</center>\n",
    "\n",
    "---"
   ]
  },
  {
   "cell_type": "markdown",
   "metadata": {},
   "source": [
    "\n",
    "####  Write a function that prints every other character of a string, starting with the first character, followed by a new line.\n",
    "\n",
    "Prototype: `void puts2(char *str);`\n",
    "\n",
    "```bash\n",
    "julien@ubuntu:~/0x05$ cat 6-main.c\n",
    "#include \"main.h\"\n",
    "\n",
    "/**\n",
    " * main - check the code\n",
    " *\n",
    " * Return: Always 0.\n",
    " */\n",
    "int main(void)\n",
    "{\n",
    "    char *str;\n",
    "\n",
    "    str = \"0123456789\";\n",
    "    puts2(str);\n",
    "    return (0);\n",
    "}\n",
    "julien@ubuntu:~/0x05$ gcc -Wall -pedantic -Werror -Wextra -std=gnu89 _putchar.c 6-main.c 6-puts2.c -o 6-puts2\n",
    "julien@ubuntu:~/0x05$ ./6-puts2 \n",
    "02468\n",
    "julien@ubuntu:~/0x05$  \n",
    "```\n",
    "\n",
    "#### Repo:\n",
    "* GitHub repository: ``` alx-low_level_programming ```\n",
    "* Directory: ```0x05-pointers_arrays_strings``` \n",
    "* File: ```6-puts2.c```"
   ]
  },
  {
   "cell_type": "code",
   "execution_count": 5,
   "metadata": {},
   "outputs": [
    {
     "name": "stdout",
     "output_type": "stream",
     "text": [
      "Overwriting 0x05-pointers_arrays_strings/6-main.c\n"
     ]
    }
   ],
   "source": [
    "%%file 0x06-pointers_arrays_strings/6-main.c\n",
    "#include \"main.h\"\n",
    "\n",
    "/**\n",
    " * main - check the code\n",
    " *\n",
    " * Return: Always 0.\n",
    " */\n",
    "int main(void)\n",
    "{\n",
    "    char *str;\n",
    "\n",
    "    str = \"0123456789\";\n",
    "    puts2(str);\n",
    "    return (0);\n",
    "}"
   ]
  },
  {
   "cell_type": "code",
   "execution_count": 7,
   "metadata": {},
   "outputs": [
    {
     "name": "stdout",
     "output_type": "stream",
     "text": [
      "Overwriting 0x05-pointers_arrays_strings/main.h\n"
     ]
    }
   ],
   "source": [
    "%%file 0x06-pointers_arrays_strings/main.h\n",
    "#ifndef FILE_MAIN\n",
    "#define FILE_MAIN\n",
    "\n",
    "#include <stdio.h>\n",
    "\n",
    "int _putchar(char c);\n",
    "void reset_to_98(int *n);\n",
    "void swap_int(int *a, int *b);\n",
    "int _strlen(char *s);\n",
    "void _puts(char *str);\n",
    "void print_rev(char *s);\n",
    "void rev_string(char *s);\n",
    "void puts2(char *str);\n",
    "#endif\n"
   ]
  },
  {
   "cell_type": "code",
   "execution_count": 9,
   "metadata": {},
   "outputs": [
    {
     "name": "stdout",
     "output_type": "stream",
     "text": [
      "Overwriting 0x05-pointers_arrays_strings/6-puts2.c\n"
     ]
    }
   ],
   "source": [
    "%%file 0x06-pointers_arrays_strings/6-puts2.c\n",
    "#include \"main.h\"\n",
    "\n",
    "/**\n",
    "* puts2 - prints every other character of a string,\n",
    "* starting with the first character, followed by a new line.\n",
    "* @str: the string to be printed.\n",
    "*/\n",
    "void puts2(char *str)\n",
    "{\n",
    "int i = 0;\n",
    "\n",
    "/* Loop through the string */\n",
    "while (str[i] != '\\0')\n",
    "{\n",
    "/* Print every other character */\n",
    "if (i % 2 == 0)\n",
    "{\n",
    "_putchar(str[i]);\n",
    "}\n",
    "i++;\n",
    "}\n",
    "\n",
    "_putchar('\\n'); /* Print a newline character */\n",
    "}\n",
    "\n"
   ]
  },
  {
   "cell_type": "code",
   "execution_count": 10,
   "metadata": {},
   "outputs": [
    {
     "name": "stdout",
     "output_type": "stream",
     "text": [
      "Overwriting 0x05-pointers_arrays_strings/_putchar.c\n"
     ]
    }
   ],
   "source": [
    "%%file 0x06-pointers_arrays_strings/_putchar.c\n",
    "#include <unistd.h>\n",
    "#include \"main.h\"\n",
    "/**\n",
    " * _putchar - writes the character c to stdout\n",
    " * @c: The character to print\n",
    " *\n",
    " * Return: On success 1.\n",
    " * On error, -1 is returned, and errno is set appropriately.\n",
    " */\n",
    "int _putchar(char c)\n",
    "{\n",
    "\treturn (write(1, &c, 1));\n",
    "}\n"
   ]
  },
  {
   "cell_type": "code",
   "execution_count": 11,
   "metadata": {},
   "outputs": [
    {
     "name": "stdout",
     "output_type": "stream",
     "text": [
      "\n",
      "========== 0x05-pointers_arrays_strings/6-puts2.c ==========\n"
     ]
    },
    {
     "name": "stdout",
     "output_type": "stream",
     "text": [
      "puts2\n"
     ]
    },
    {
     "name": "stderr",
     "output_type": "stream",
     "text": [
      "/usr/bin/ld: /tmp/ccdFfebM.o: in function `puts2':\n",
      "6-puts2.c:(.text+0x0): multiple definition of `puts2'; /tmp/ccliuvDP.o:6-puts2.c:(.text+0x0): first defined here\n",
      "/usr/bin/ld: /usr/lib/gcc/x86_64-linux-gnu/9/../../../x86_64-linux-gnu/Scrt1.o: in function `_start':\n",
      "(.text+0x24): undefined reference to `main'\n",
      "/usr/bin/ld: /tmp/ccliuvDP.o: in function `puts2':\n",
      "6-puts2.c:(.text+0x39): undefined reference to `_putchar'\n",
      "/usr/bin/ld: 6-puts2.c:(.text+0x5b): undefined reference to `_putchar'\n",
      "/usr/bin/ld: /tmp/ccdFfebM.o: in function `puts2':\n",
      "6-puts2.c:(.text+0x39): undefined reference to `_putchar'\n",
      "/usr/bin/ld: 6-puts2.c:(.text+0x5b): undefined reference to `_putchar'\n",
      "collect2: error: ld returned 1 exit status\n",
      "bash: line 3: ./0x05-pointers_arrays_strings/6-puts2: No such file or directory\n"
     ]
    },
    {
     "ename": "CalledProcessError",
     "evalue": "Command 'b'betty 0x05-pointers_arrays_strings/6-puts2.c\\ngcc -Wall -pedantic -Werror -Wextra -std=gnu89 0x05-pointers_arrays_strings/6-puts2.c 0x05-pointers_arrays_strings/6-puts2.c -o 0x05-pointers_arrays_strings/6-puts2\\n./0x05-pointers_arrays_strings/6-puts2\\n'' returned non-zero exit status 127.",
     "output_type": "error",
     "traceback": [
      "\u001b[0;31m---------------------------------------------------------------------------\u001b[0m",
      "\u001b[0;31mCalledProcessError\u001b[0m                        Traceback (most recent call last)",
      "Cell \u001b[0;32mIn[11], line 1\u001b[0m\n\u001b[0;32m----> 1\u001b[0m \u001b[43mget_ipython\u001b[49m\u001b[43m(\u001b[49m\u001b[43m)\u001b[49m\u001b[38;5;241;43m.\u001b[39;49m\u001b[43mrun_cell_magic\u001b[49m\u001b[43m(\u001b[49m\u001b[38;5;124;43m'\u001b[39;49m\u001b[38;5;124;43mbash\u001b[39;49m\u001b[38;5;124;43m'\u001b[39;49m\u001b[43m,\u001b[49m\u001b[43m \u001b[49m\u001b[38;5;124;43m'\u001b[39;49m\u001b[38;5;124;43m'\u001b[39;49m\u001b[43m,\u001b[49m\u001b[43m \u001b[49m\u001b[38;5;124;43m'\u001b[39;49m\u001b[38;5;124;43mbetty 0x05-pointers_arrays_strings/6-puts2.c\u001b[39;49m\u001b[38;5;130;43;01m\\n\u001b[39;49;00m\u001b[38;5;124;43mgcc -Wall -pedantic -Werror -Wextra -std=gnu89 0x05-pointers_arrays_strings/6-puts2.c 0x05-pointers_arrays_strings/6-puts2.c -o 0x05-pointers_arrays_strings/6-puts2\u001b[39;49m\u001b[38;5;130;43;01m\\n\u001b[39;49;00m\u001b[38;5;124;43m./0x05-pointers_arrays_strings/6-puts2\u001b[39;49m\u001b[38;5;130;43;01m\\n\u001b[39;49;00m\u001b[38;5;124;43m'\u001b[39;49m\u001b[43m)\u001b[49m\n",
      "File \u001b[0;32m~/anaconda3/envs/alxse/lib/python3.12/site-packages/IPython/core/interactiveshell.py:2541\u001b[0m, in \u001b[0;36mInteractiveShell.run_cell_magic\u001b[0;34m(self, magic_name, line, cell)\u001b[0m\n\u001b[1;32m   2539\u001b[0m \u001b[38;5;28;01mwith\u001b[39;00m \u001b[38;5;28mself\u001b[39m\u001b[38;5;241m.\u001b[39mbuiltin_trap:\n\u001b[1;32m   2540\u001b[0m     args \u001b[38;5;241m=\u001b[39m (magic_arg_s, cell)\n\u001b[0;32m-> 2541\u001b[0m     result \u001b[38;5;241m=\u001b[39m \u001b[43mfn\u001b[49m\u001b[43m(\u001b[49m\u001b[38;5;241;43m*\u001b[39;49m\u001b[43margs\u001b[49m\u001b[43m,\u001b[49m\u001b[43m \u001b[49m\u001b[38;5;241;43m*\u001b[39;49m\u001b[38;5;241;43m*\u001b[39;49m\u001b[43mkwargs\u001b[49m\u001b[43m)\u001b[49m\n\u001b[1;32m   2543\u001b[0m \u001b[38;5;66;03m# The code below prevents the output from being displayed\u001b[39;00m\n\u001b[1;32m   2544\u001b[0m \u001b[38;5;66;03m# when using magics with decorator @output_can_be_silenced\u001b[39;00m\n\u001b[1;32m   2545\u001b[0m \u001b[38;5;66;03m# when the last Python token in the expression is a ';'.\u001b[39;00m\n\u001b[1;32m   2546\u001b[0m \u001b[38;5;28;01mif\u001b[39;00m \u001b[38;5;28mgetattr\u001b[39m(fn, magic\u001b[38;5;241m.\u001b[39mMAGIC_OUTPUT_CAN_BE_SILENCED, \u001b[38;5;28;01mFalse\u001b[39;00m):\n",
      "File \u001b[0;32m~/anaconda3/envs/alxse/lib/python3.12/site-packages/IPython/core/magics/script.py:155\u001b[0m, in \u001b[0;36mScriptMagics._make_script_magic.<locals>.named_script_magic\u001b[0;34m(line, cell)\u001b[0m\n\u001b[1;32m    153\u001b[0m \u001b[38;5;28;01melse\u001b[39;00m:\n\u001b[1;32m    154\u001b[0m     line \u001b[38;5;241m=\u001b[39m script\n\u001b[0;32m--> 155\u001b[0m \u001b[38;5;28;01mreturn\u001b[39;00m \u001b[38;5;28;43mself\u001b[39;49m\u001b[38;5;241;43m.\u001b[39;49m\u001b[43mshebang\u001b[49m\u001b[43m(\u001b[49m\u001b[43mline\u001b[49m\u001b[43m,\u001b[49m\u001b[43m \u001b[49m\u001b[43mcell\u001b[49m\u001b[43m)\u001b[49m\n",
      "File \u001b[0;32m~/anaconda3/envs/alxse/lib/python3.12/site-packages/IPython/core/magics/script.py:315\u001b[0m, in \u001b[0;36mScriptMagics.shebang\u001b[0;34m(self, line, cell)\u001b[0m\n\u001b[1;32m    310\u001b[0m \u001b[38;5;28;01mif\u001b[39;00m args\u001b[38;5;241m.\u001b[39mraise_error \u001b[38;5;129;01mand\u001b[39;00m p\u001b[38;5;241m.\u001b[39mreturncode \u001b[38;5;241m!=\u001b[39m \u001b[38;5;241m0\u001b[39m:\n\u001b[1;32m    311\u001b[0m     \u001b[38;5;66;03m# If we get here and p.returncode is still None, we must have\u001b[39;00m\n\u001b[1;32m    312\u001b[0m     \u001b[38;5;66;03m# killed it but not yet seen its return code. We don't wait for it,\u001b[39;00m\n\u001b[1;32m    313\u001b[0m     \u001b[38;5;66;03m# in case it's stuck in uninterruptible sleep. -9 = SIGKILL\u001b[39;00m\n\u001b[1;32m    314\u001b[0m     rc \u001b[38;5;241m=\u001b[39m p\u001b[38;5;241m.\u001b[39mreturncode \u001b[38;5;129;01mor\u001b[39;00m \u001b[38;5;241m-\u001b[39m\u001b[38;5;241m9\u001b[39m\n\u001b[0;32m--> 315\u001b[0m     \u001b[38;5;28;01mraise\u001b[39;00m CalledProcessError(rc, cell)\n",
      "\u001b[0;31mCalledProcessError\u001b[0m: Command 'b'betty 0x05-pointers_arrays_strings/6-puts2.c\\ngcc -Wall -pedantic -Werror -Wextra -std=gnu89 0x05-pointers_arrays_strings/6-puts2.c 0x05-pointers_arrays_strings/6-puts2.c -o 0x05-pointers_arrays_strings/6-puts2\\n./0x05-pointers_arrays_strings/6-puts2\\n'' returned non-zero exit status 127."
     ]
    }
   ],
   "source": [
    "%%bash\n",
    "betty 0x06-pointers_arrays_strings/6-puts2.c\n",
    "gcc -Wall -pedantic -Werror -Wextra -std=gnu89 0x06-pointers_arrays_strings/6-puts2.c 0x06-pointers_arrays_strings/6-puts2.c -o 0x06-pointers_arrays_strings/6-puts2\n",
    "./0x06-pointers_arrays_strings/6-puts2"
   ]
  },
  {
   "cell_type": "code",
   "execution_count": 12,
   "metadata": {},
   "outputs": [
    {
     "name": "stdout",
     "output_type": "stream",
     "text": [
      "[main 2fd2147] alx-low_level_programming/0x04-more_functions_nested_loops\n",
      " 3 files changed, 44 insertions(+), 39 deletions(-)\n",
      " rewrite 0x05-pointers_arrays_strings/6-main.c (90%)\n",
      " create mode 100644 0x05-pointers_arrays_strings/6-puts2.c\n"
     ]
    },
    {
     "name": "stderr",
     "output_type": "stream",
     "text": [
      "To github.com:elkomysara/alx-low_level_programming.git\n",
      "   68e08b8..2fd2147  main -> main\n"
     ]
    }
   ],
   "source": [
    "%%bash\n",
    "git add .\n",
    "git commit -m \"alx-low_level_programming/0x06-pointers_arrays_strings\"\n",
    "git push"
   ]
  },
  {
   "cell_type": "code",
   "execution_count": null,
   "metadata": {},
   "outputs": [],
   "source": []
  },
  {
   "cell_type": "markdown",
   "metadata": {},
   "source": [
    "###\n",
    "---\n",
    "<center>\n",
    "<h4> 7. Mozart composed his music not for the elite, but for everybody\n",
    " </h4>\n",
    "</center>\n",
    "\n",
    "---"
   ]
  },
  {
   "cell_type": "markdown",
   "metadata": {},
   "source": [
    "\n",
    "####  Write a function that prints half of a string, followed by a new line.\n",
    "\n",
    "* Prototype: `void puts_half(char *str);`\n",
    "* The function should print the second half of the string\n",
    "* If the number of characters is odd, the function should print the last n characters of the string, where `n = (length_of_the_string - 1) / 2`\n",
    "\n",
    "```bash\n",
    "julien@ubuntu:~/0x05$ cat 7-main.c\n",
    "#include \"main.h\"\n",
    "\n",
    "/**\n",
    " * main - check the code\n",
    " *\n",
    " * Return: Always 0.\n",
    " */\n",
    "int main(void)\n",
    "{\n",
    "    char *str;\n",
    "\n",
    "    str = \"0123456789\";\n",
    "    puts_half(str);\n",
    "    return (0);\n",
    "}\n",
    "julien@ubuntu:~/0x05$ gcc -Wall -pedantic -Werror -Wextra -std=gnu89 _putchar.c 7-main.c 7-puts_half.c -o 7-puts_half\n",
    "julien@ubuntu:~/0x05$ ./7-puts_half \n",
    "56789\n",
    "julien@ubuntu:~/0x05$\n",
    "\n",
    "```\n",
    "\n",
    "#### Repo:\n",
    "* GitHub repository: ``` alx-low_level_programming ```\n",
    "* Directory: ```0x05-pointers_arrays_strings``` \n",
    "* File: ```7-puts_half.c```"
   ]
  },
  {
   "cell_type": "code",
   "execution_count": 16,
   "metadata": {},
   "outputs": [
    {
     "name": "stdout",
     "output_type": "stream",
     "text": [
      "Overwriting 0x05-pointers_arrays_strings/7-main.c\n"
     ]
    }
   ],
   "source": [
    "%%file 0x06-pointers_arrays_strings/7-main.c\n",
    "#include \"main.h\"\n",
    "\n",
    "/**\n",
    " * main - check the code\n",
    " *\n",
    " * Return: Always 0.\n",
    " */\n",
    "int main(void)\n",
    "{\n",
    "    char *str;\n",
    "\n",
    "    str = \"0123456789\";\n",
    "    puts_half(str);\n",
    "    return (0);\n",
    "}"
   ]
  },
  {
   "cell_type": "code",
   "execution_count": 17,
   "metadata": {},
   "outputs": [
    {
     "name": "stdout",
     "output_type": "stream",
     "text": [
      "Overwriting 0x05-pointers_arrays_strings/main.h\n"
     ]
    }
   ],
   "source": [
    "%%file 0x06-pointers_arrays_strings/main.h\n",
    "#ifndef FILE_MAIN\n",
    "#define FILE_MAIN\n",
    "\n",
    "#include <stdio.h>\n",
    "\n",
    "int _putchar(char c);\n",
    "void reset_to_98(int *n);\n",
    "void swap_int(int *a, int *b);\n",
    "int _strlen(char *s);\n",
    "void _puts(char *str);\n",
    "void print_rev(char *s);\n",
    "void rev_string(char *s);\n",
    "void puts2(char *str);\n",
    "void puts_half(char *str);\n",
    "#endif\n"
   ]
  },
  {
   "cell_type": "code",
   "execution_count": 22,
   "metadata": {},
   "outputs": [
    {
     "name": "stdout",
     "output_type": "stream",
     "text": [
      "Overwriting 0x05-pointers_arrays_strings/7-puts_half.c\n"
     ]
    }
   ],
   "source": [
    "%%file 0x06-pointers_arrays_strings/7-puts_half.c\n",
    "#include \"main.h\"\n",
    "\n",
    "/**\n",
    "* puts_half - prints every other character of a string,\n",
    "* starting with the first character, followed by a new line.\n",
    "* @str: the string to be printed.\n",
    "*/\n",
    "void puts_half(char *str)\n",
    "{\n",
    "int i = 0; /* printing counter*/\n",
    "int length = 0; /* counter for the if condition*/\n",
    "\n",
    "/* Calculate the length of the string */\n",
    "while (str[length] != '\\0')\n",
    "{\n",
    "length++;\n",
    "}\n",
    "\n",
    "/* Determine the starting point for the printing */\n",
    "if (length % 2 == 0)\n",
    "{\n",
    "i = length / 2;\n",
    "}\n",
    "else\n",
    "/* printing the last n characters of the string */\n",
    "/* n = (length_of_the_string -1)/2 */\n",
    "{\n",
    "i = (length - 1) / 2 + 1;\n",
    "}\n",
    "\n",
    "/* Print the second half of the string */\n",
    "while (i < length)\n",
    "{\n",
    "_putchar(str[i]);\n",
    "i++;\n",
    "}\n",
    "\n",
    "/* Print a newline character */\n",
    "_putchar('\\n');\n",
    "}\n",
    "\n"
   ]
  },
  {
   "cell_type": "code",
   "execution_count": 23,
   "metadata": {},
   "outputs": [
    {
     "name": "stdout",
     "output_type": "stream",
     "text": [
      "Overwriting 0x05-pointers_arrays_strings/_putchar.c\n"
     ]
    }
   ],
   "source": [
    "%%file 0x06-pointers_arrays_strings/_putchar.c\n",
    "#include <unistd.h>\n",
    "#include \"main.h\"\n",
    "/**\n",
    " * _putchar - writes the character c to stdout\n",
    " * @c: The character to print\n",
    " *\n",
    " * Return: On success 1.\n",
    " * On error, -1 is returned, and errno is set appropriately.\n",
    " */\n",
    "int _putchar(char c)\n",
    "{\n",
    "\treturn (write(1, &c, 1));\n",
    "}\n"
   ]
  },
  {
   "cell_type": "code",
   "execution_count": 24,
   "metadata": {},
   "outputs": [
    {
     "name": "stdout",
     "output_type": "stream",
     "text": [
      "\n",
      "========== 0x05-pointers_arrays_strings/7-puts_half.c ==========\n",
      "puts_half\n"
     ]
    },
    {
     "name": "stderr",
     "output_type": "stream",
     "text": [
      "/usr/bin/ld: /tmp/ccyjhSEJ.o: in function `puts_half':\n",
      "7-puts_half.c:(.text+0x0): multiple definition of `puts_half'; /tmp/ccNXJE3L.o:7-puts_half.c:(.text+0x0): first defined here\n",
      "/usr/bin/ld: /usr/lib/gcc/x86_64-linux-gnu/9/../../../x86_64-linux-gnu/Scrt1.o: in function `_start':\n",
      "(.text+0x24): undefined reference to `main'\n",
      "/usr/bin/ld: /tmp/ccNXJE3L.o: in function `puts_half':\n",
      "7-puts_half.c:(.text+0x80): undefined reference to `_putchar'\n",
      "/usr/bin/ld: 7-puts_half.c:(.text+0x96): undefined reference to `_putchar'\n",
      "/usr/bin/ld: /tmp/ccyjhSEJ.o: in function `puts_half':\n",
      "7-puts_half.c:(.text+0x80): undefined reference to `_putchar'\n",
      "/usr/bin/ld: 7-puts_half.c:(.text+0x96): undefined reference to `_putchar'\n",
      "collect2: error: ld returned 1 exit status\n",
      "bash: line 3: ./0x05-pointers_arrays_strings/7-puts_half: No such file or directory\n"
     ]
    },
    {
     "ename": "CalledProcessError",
     "evalue": "Command 'b'betty 0x05-pointers_arrays_strings/7-puts_half.c\\ngcc -Wall -pedantic -Werror -Wextra -std=gnu89 0x05-pointers_arrays_strings/7-puts_half.c 0x05-pointers_arrays_strings/7-puts_half.c -o 0x05-pointers_arrays_strings/7-puts_half\\n./0x05-pointers_arrays_strings/7-puts_half\\n'' returned non-zero exit status 127.",
     "output_type": "error",
     "traceback": [
      "\u001b[0;31m---------------------------------------------------------------------------\u001b[0m",
      "\u001b[0;31mCalledProcessError\u001b[0m                        Traceback (most recent call last)",
      "Cell \u001b[0;32mIn[24], line 1\u001b[0m\n\u001b[0;32m----> 1\u001b[0m \u001b[43mget_ipython\u001b[49m\u001b[43m(\u001b[49m\u001b[43m)\u001b[49m\u001b[38;5;241;43m.\u001b[39;49m\u001b[43mrun_cell_magic\u001b[49m\u001b[43m(\u001b[49m\u001b[38;5;124;43m'\u001b[39;49m\u001b[38;5;124;43mbash\u001b[39;49m\u001b[38;5;124;43m'\u001b[39;49m\u001b[43m,\u001b[49m\u001b[43m \u001b[49m\u001b[38;5;124;43m'\u001b[39;49m\u001b[38;5;124;43m'\u001b[39;49m\u001b[43m,\u001b[49m\u001b[43m \u001b[49m\u001b[38;5;124;43m'\u001b[39;49m\u001b[38;5;124;43mbetty 0x05-pointers_arrays_strings/7-puts_half.c\u001b[39;49m\u001b[38;5;130;43;01m\\n\u001b[39;49;00m\u001b[38;5;124;43mgcc -Wall -pedantic -Werror -Wextra -std=gnu89 0x05-pointers_arrays_strings/7-puts_half.c 0x05-pointers_arrays_strings/7-puts_half.c -o 0x05-pointers_arrays_strings/7-puts_half\u001b[39;49m\u001b[38;5;130;43;01m\\n\u001b[39;49;00m\u001b[38;5;124;43m./0x05-pointers_arrays_strings/7-puts_half\u001b[39;49m\u001b[38;5;130;43;01m\\n\u001b[39;49;00m\u001b[38;5;124;43m'\u001b[39;49m\u001b[43m)\u001b[49m\n",
      "File \u001b[0;32m~/anaconda3/envs/alxse/lib/python3.12/site-packages/IPython/core/interactiveshell.py:2541\u001b[0m, in \u001b[0;36mInteractiveShell.run_cell_magic\u001b[0;34m(self, magic_name, line, cell)\u001b[0m\n\u001b[1;32m   2539\u001b[0m \u001b[38;5;28;01mwith\u001b[39;00m \u001b[38;5;28mself\u001b[39m\u001b[38;5;241m.\u001b[39mbuiltin_trap:\n\u001b[1;32m   2540\u001b[0m     args \u001b[38;5;241m=\u001b[39m (magic_arg_s, cell)\n\u001b[0;32m-> 2541\u001b[0m     result \u001b[38;5;241m=\u001b[39m \u001b[43mfn\u001b[49m\u001b[43m(\u001b[49m\u001b[38;5;241;43m*\u001b[39;49m\u001b[43margs\u001b[49m\u001b[43m,\u001b[49m\u001b[43m \u001b[49m\u001b[38;5;241;43m*\u001b[39;49m\u001b[38;5;241;43m*\u001b[39;49m\u001b[43mkwargs\u001b[49m\u001b[43m)\u001b[49m\n\u001b[1;32m   2543\u001b[0m \u001b[38;5;66;03m# The code below prevents the output from being displayed\u001b[39;00m\n\u001b[1;32m   2544\u001b[0m \u001b[38;5;66;03m# when using magics with decorator @output_can_be_silenced\u001b[39;00m\n\u001b[1;32m   2545\u001b[0m \u001b[38;5;66;03m# when the last Python token in the expression is a ';'.\u001b[39;00m\n\u001b[1;32m   2546\u001b[0m \u001b[38;5;28;01mif\u001b[39;00m \u001b[38;5;28mgetattr\u001b[39m(fn, magic\u001b[38;5;241m.\u001b[39mMAGIC_OUTPUT_CAN_BE_SILENCED, \u001b[38;5;28;01mFalse\u001b[39;00m):\n",
      "File \u001b[0;32m~/anaconda3/envs/alxse/lib/python3.12/site-packages/IPython/core/magics/script.py:155\u001b[0m, in \u001b[0;36mScriptMagics._make_script_magic.<locals>.named_script_magic\u001b[0;34m(line, cell)\u001b[0m\n\u001b[1;32m    153\u001b[0m \u001b[38;5;28;01melse\u001b[39;00m:\n\u001b[1;32m    154\u001b[0m     line \u001b[38;5;241m=\u001b[39m script\n\u001b[0;32m--> 155\u001b[0m \u001b[38;5;28;01mreturn\u001b[39;00m \u001b[38;5;28;43mself\u001b[39;49m\u001b[38;5;241;43m.\u001b[39;49m\u001b[43mshebang\u001b[49m\u001b[43m(\u001b[49m\u001b[43mline\u001b[49m\u001b[43m,\u001b[49m\u001b[43m \u001b[49m\u001b[43mcell\u001b[49m\u001b[43m)\u001b[49m\n",
      "File \u001b[0;32m~/anaconda3/envs/alxse/lib/python3.12/site-packages/IPython/core/magics/script.py:315\u001b[0m, in \u001b[0;36mScriptMagics.shebang\u001b[0;34m(self, line, cell)\u001b[0m\n\u001b[1;32m    310\u001b[0m \u001b[38;5;28;01mif\u001b[39;00m args\u001b[38;5;241m.\u001b[39mraise_error \u001b[38;5;129;01mand\u001b[39;00m p\u001b[38;5;241m.\u001b[39mreturncode \u001b[38;5;241m!=\u001b[39m \u001b[38;5;241m0\u001b[39m:\n\u001b[1;32m    311\u001b[0m     \u001b[38;5;66;03m# If we get here and p.returncode is still None, we must have\u001b[39;00m\n\u001b[1;32m    312\u001b[0m     \u001b[38;5;66;03m# killed it but not yet seen its return code. We don't wait for it,\u001b[39;00m\n\u001b[1;32m    313\u001b[0m     \u001b[38;5;66;03m# in case it's stuck in uninterruptible sleep. -9 = SIGKILL\u001b[39;00m\n\u001b[1;32m    314\u001b[0m     rc \u001b[38;5;241m=\u001b[39m p\u001b[38;5;241m.\u001b[39mreturncode \u001b[38;5;129;01mor\u001b[39;00m \u001b[38;5;241m-\u001b[39m\u001b[38;5;241m9\u001b[39m\n\u001b[0;32m--> 315\u001b[0m     \u001b[38;5;28;01mraise\u001b[39;00m CalledProcessError(rc, cell)\n",
      "\u001b[0;31mCalledProcessError\u001b[0m: Command 'b'betty 0x05-pointers_arrays_strings/7-puts_half.c\\ngcc -Wall -pedantic -Werror -Wextra -std=gnu89 0x05-pointers_arrays_strings/7-puts_half.c 0x05-pointers_arrays_strings/7-puts_half.c -o 0x05-pointers_arrays_strings/7-puts_half\\n./0x05-pointers_arrays_strings/7-puts_half\\n'' returned non-zero exit status 127."
     ]
    }
   ],
   "source": [
    "%%bash\n",
    "betty 0x06-pointers_arrays_strings/7-puts_half.c\n",
    "gcc -Wall -pedantic -Werror -Wextra -std=gnu89 0x06-pointers_arrays_strings/7-puts_half.c 0x06-pointers_arrays_strings/7-puts_half.c -o 0x06-pointers_arrays_strings/7-puts_half\n",
    "./0x06-pointers_arrays_strings/7-puts_half"
   ]
  },
  {
   "cell_type": "code",
   "execution_count": 25,
   "metadata": {},
   "outputs": [
    {
     "name": "stdout",
     "output_type": "stream",
     "text": [
      "[main 1c16e17] alx-low_level_programming/0x04-more_functions_nested_loops\n",
      " 1 file changed, 1 insertion(+), 1 deletion(-)\n"
     ]
    },
    {
     "name": "stderr",
     "output_type": "stream",
     "text": [
      "To github.com:elkomysara/alx-low_level_programming.git\n",
      "   2f04d72..1c16e17  main -> main\n"
     ]
    }
   ],
   "source": [
    "%%bash\n",
    "git add .\n",
    "git commit -m \"alx-low_level_programming/0x06-pointers_arrays_strings\"\n",
    "git push"
   ]
  },
  {
   "cell_type": "markdown",
   "metadata": {},
   "source": [
    "###\n",
    "---\n",
    "<center>\n",
    "<h4> 8. rot13\n",
    " </h4>\n",
    "</center>\n",
    "\n",
    "---"
   ]
  },
  {
   "cell_type": "markdown",
   "metadata": {},
   "source": [
    "\n",
    "####  Write a function that prints n elements of an array of integers, followed by a new line.\n",
    "\n",
    "* Prototype: `void print_array(int *a, int n);`\n",
    "* where `n` is the number of elements of the array to be printed\n",
    "* Numbers must be separated by comma, followed by a space\n",
    "* The numbers should be displayed in the same order as they are stored in the array\n",
    "* You are allowed to use `printf`\n",
    "\n",
    "```bash\n",
    "julien@ubuntu:~/0x05$ cat 8-main.c\n",
    "#include \"main.h\"\n",
    "\n",
    "/**\n",
    " * main - check the code for\n",
    " *\n",
    " * Return: Always 0.\n",
    " */\n",
    "int main(void)\n",
    "{\n",
    "    int array[5];\n",
    "\n",
    "    array[0] = 98;\n",
    "    array[1] = 402;\n",
    "    array[2] = -198;\n",
    "    array[3] = 298;\n",
    "    array[4] = -1024;\n",
    "    print_array(array, 5);\n",
    "    return (0);\n",
    "}\n",
    "julien@ubuntu:~/0x05$ gcc -Wall -pedantic -Werror -Wextra -std=gnu89 8-main.c 8-print_array.c -o 8-print_array\n",
    "julien@ubuntu:~/0x05$ ./8-print_array \n",
    "98, 402, -198, 298, -1024\n",
    "julien@ubuntu:~/0x05$\n",
    "\n",
    "```\n",
    "\n",
    "#### Repo:\n",
    "* GitHub repository: ``` alx-low_level_programming ```\n",
    "* Directory: ```0x05-pointers_arrays_strings``` \n",
    "* File: ```8-print_array.c```"
   ]
  },
  {
   "cell_type": "code",
   "execution_count": 26,
   "metadata": {},
   "outputs": [
    {
     "name": "stdout",
     "output_type": "stream",
     "text": [
      "Overwriting 0x05-pointers_arrays_strings/8-main.c\n"
     ]
    }
   ],
   "source": [
    "%%file 0x06-pointers_arrays_strings/8-main.c\n",
    "#include \"main.h\"\n",
    "\n",
    "/**\n",
    " * main - check the code for\n",
    " *\n",
    " * Return: Always 0.\n",
    " */\n",
    "int main(void)\n",
    "{\n",
    "    int array[5];\n",
    "\n",
    "    array[0] = 98;\n",
    "    array[1] = 402;\n",
    "    array[2] = -198;\n",
    "    array[3] = 298;\n",
    "    array[4] = -1024;\n",
    "    print_array(array, 5);\n",
    "    return (0);\n",
    "}"
   ]
  },
  {
   "cell_type": "code",
   "execution_count": 27,
   "metadata": {},
   "outputs": [
    {
     "name": "stdout",
     "output_type": "stream",
     "text": [
      "Overwriting 0x05-pointers_arrays_strings/main.h\n"
     ]
    }
   ],
   "source": [
    "%%file 0x06-pointers_arrays_strings/main.h\n",
    "#ifndef FILE_MAIN\n",
    "#define FILE_MAIN\n",
    "\n",
    "#include <stdio.h>\n",
    "\n",
    "int _putchar(char c);\n",
    "void reset_to_98(int *n);\n",
    "void swap_int(int *a, int *b);\n",
    "int _strlen(char *s);\n",
    "void _puts(char *str);\n",
    "void print_rev(char *s);\n",
    "void rev_string(char *s);\n",
    "void puts2(char *str);\n",
    "void puts_half(char *str);\n",
    "void print_array(int *a, int n);\n",
    "\n",
    "#endif\n"
   ]
  },
  {
   "cell_type": "code",
   "execution_count": 45,
   "metadata": {},
   "outputs": [
    {
     "name": "stdout",
     "output_type": "stream",
     "text": [
      "Overwriting 0x05-pointers_arrays_strings/8-print_array.c\n"
     ]
    }
   ],
   "source": [
    "%%file 0x06-pointers_arrays_strings/8-print_array.c\n",
    "#include \"main.h\"\n",
    "#include <stdio.h>\n",
    "\n",
    "/**\n",
    " * print_array - prints n elements of an array of integers\n",
    " * @a: array of integers\n",
    " * @n: number of elements to print\n",
    " */\n",
    "\n",
    "void print_array(int *a, int n)\n",
    "{\n",
    "int i;\n",
    "\n",
    "/* for loop for the array */\n",
    "for (i = 0; i < n; i++)\n",
    "{\n",
    "/* sperate numbers by comma, followed by a space */\n",
    "if (i != 0)\n",
    "{\n",
    "printf(\", \");\n",
    "}\n",
    "/* displayed in the same order as they are stored in the array */\n",
    "printf(\"%d\", a[i]);\n",
    "}\n",
    "\n",
    "/* Print a newline character */\n",
    "printf(\"\\n\");\n",
    "}\n",
    "\n"
   ]
  },
  {
   "cell_type": "code",
   "execution_count": 46,
   "metadata": {},
   "outputs": [
    {
     "name": "stdout",
     "output_type": "stream",
     "text": [
      "Overwriting 0x05-pointers_arrays_strings/_putchar.c\n"
     ]
    }
   ],
   "source": [
    "%%file 0x06-pointers_arrays_strings/_putchar.c\n",
    "#include <unistd.h>\n",
    "#include \"main.h\"\n",
    "/**\n",
    " * _putchar - writes the character c to stdout\n",
    " * @c: The character to print\n",
    " *\n",
    " * Return: On success 1.\n",
    " * On error, -1 is returned, and errno is set appropriately.\n",
    " */\n",
    "int _putchar(char c)\n",
    "{\n",
    "\treturn (write(1, &c, 1));\n",
    "}\n"
   ]
  },
  {
   "cell_type": "code",
   "execution_count": 47,
   "metadata": {},
   "outputs": [
    {
     "name": "stdout",
     "output_type": "stream",
     "text": [
      "\n",
      "========== 0x05-pointers_arrays_strings/8-print_array.c ==========\n",
      "print_array\n",
      "98, 402, -198, 298, -1024\n"
     ]
    }
   ],
   "source": [
    "%%bash\n",
    "betty 0x06-pointers_arrays_strings/8-print_array.c\n",
    "gcc -Wall -pedantic -Werror -Wextra -std=gnu89 0x06-pointers_arrays_strings/8-main.c 0x06-pointers_arrays_strings/8-print_array.c -o 0x06-pointers_arrays_strings/8-print_array && ./0x06-pointers_arrays_strings/8-print_array"
   ]
  },
  {
   "cell_type": "code",
   "execution_count": 48,
   "metadata": {},
   "outputs": [
    {
     "name": "stdout",
     "output_type": "stream",
     "text": [
      "[main c7ae3d0] alx-low_level_programming/0x04-more_functions_nested_loops\n",
      " 1 file changed, 1 insertion(+), 1 deletion(-)\n"
     ]
    },
    {
     "name": "stderr",
     "output_type": "stream",
     "text": [
      "To github.com:elkomysara/alx-low_level_programming.git\n",
      "   77f6606..c7ae3d0  main -> main\n"
     ]
    }
   ],
   "source": [
    "%%bash\n",
    "git add .\n",
    "git commit -m \"alx-low_level_programming/0x06-pointers_arrays_strings\"\n",
    "git push"
   ]
  },
  {
   "cell_type": "code",
   "execution_count": null,
   "metadata": {},
   "outputs": [],
   "source": []
  },
  {
   "cell_type": "markdown",
   "metadata": {},
   "source": [
    "###\n",
    "---\n",
    "<center>\n",
    "<h4> 9. Numbers have life; they're not just symbols on paper\n",
    " </h4>\n",
    "</center>\n",
    "\n",
    "---"
   ]
  },
  {
   "cell_type": "markdown",
   "metadata": {},
   "source": [
    "\n",
    "* Prototype: `char *_strcpy(char *dest, char *src);`\n",
    "Write a function that copies the string pointed to by `src`, including the terminating null byte (`\\0`), to the buffer pointed to by `dest`.\n",
    "\n",
    "* Return value: the pointer to `dest`\n",
    "FYI: The standard library provides a similar function: `strcpy`. Run `man strcpy` to learn more.\n",
    "\n",
    "```bash\n",
    "julien@ubuntu:~/0x05$ cat 9-main.c\n",
    "#include \"main.h\"\n",
    "#include <stdio.h>\n",
    "\n",
    "/**\n",
    " * main - check the code\n",
    " *\n",
    " * Return: Always 0.\n",
    " */\n",
    "int main(void)\n",
    "{\n",
    "    char s1[98];\n",
    "    char *ptr;\n",
    "\n",
    "    ptr = _strcpy(s1, \"First, solve the problem. Then, write the code\\n\");\n",
    "    printf(\"%s\", s1);\n",
    "    printf(\"%s\", ptr);\n",
    "    return (0);\n",
    "}\n",
    "julien@ubuntu:~/0x05$ gcc -Wall -pedantic -Werror -Wextra -std=gnu89 9-main.c 9-strcpy.c -o 9-strcpy\n",
    "julien@ubuntu:~/0x05$ ./9-strcpy \n",
    "First, solve the problem. Then, write the code\n",
    "First, solve the problem. Then, write the code\n",
    "julien@ubuntu:~/0x05$ \n",
    "```\n",
    "\n",
    "#### Repo:\n",
    "* GitHub repository: ``` alx-low_level_programming ```\n",
    "* Directory: ```0x05-pointers_arrays_strings``` \n",
    "* File: ```9-strcpy.c```"
   ]
  },
  {
   "cell_type": "code",
   "execution_count": 49,
   "metadata": {},
   "outputs": [
    {
     "name": "stdout",
     "output_type": "stream",
     "text": [
      "Overwriting 0x05-pointers_arrays_strings/9-main.c\n"
     ]
    }
   ],
   "source": [
    "%%file 0x06-pointers_arrays_strings/9-main.c\n",
    "#include \"main.h\"\n",
    "#include <stdio.h>\n",
    "\n",
    "/**\n",
    " * main - check the code\n",
    " *\n",
    " * Return: Always 0.\n",
    " */\n",
    "int main(void)\n",
    "{\n",
    "    char s1[98];\n",
    "    char *ptr;\n",
    "\n",
    "    ptr = _strcpy(s1, \"First, solve the problem. Then, write the code\\n\");\n",
    "    printf(\"%s\", s1);\n",
    "    printf(\"%s\", ptr);\n",
    "    return (0);\n",
    "}"
   ]
  },
  {
   "cell_type": "code",
   "execution_count": 50,
   "metadata": {},
   "outputs": [
    {
     "name": "stdout",
     "output_type": "stream",
     "text": [
      "Overwriting 0x05-pointers_arrays_strings/main.h\n"
     ]
    }
   ],
   "source": [
    "%%file 0x06-pointers_arrays_strings/main.h\n",
    "#ifndef FILE_MAIN\n",
    "#define FILE_MAIN\n",
    "\n",
    "#include <stdio.h>\n",
    "\n",
    "int _putchar(char c);\n",
    "void reset_to_98(int *n);\n",
    "void swap_int(int *a, int *b);\n",
    "int _strlen(char *s);\n",
    "void _puts(char *str);\n",
    "void print_rev(char *s);\n",
    "void rev_string(char *s);\n",
    "void puts2(char *str);\n",
    "void puts_half(char *str);\n",
    "void print_array(int *a, int n);\n",
    "char *_strcpy(char *dest, char *src);\n",
    "\n",
    "\n",
    "#endif\n"
   ]
  },
  {
   "cell_type": "code",
   "execution_count": 1,
   "metadata": {},
   "outputs": [
    {
     "name": "stdout",
     "output_type": "stream",
     "text": [
      "Overwriting 0x05-pointers_arrays_strings/9-strcpy.c\n"
     ]
    }
   ],
   "source": [
    "%%file 0x06-pointers_arrays_strings/9-strcpy.c\n",
    "#include <stdio.h>\n",
    "\n",
    "/**\n",
    "* _strcpy - Copies the string pointed to by src,\n",
    "* including the terminating null byte, to the buffer pointed to by dest\n",
    "* @dest: Destination buffer\n",
    "* @src: Source string\n",
    "*\n",
    "* Return: Pointer to dest\n",
    "*/\n",
    "char *_strcpy(char *dest, const char *src)\n",
    "{\n",
    "\n",
    "/* Save the starting point of dest to return later */\n",
    "\n",
    "char *ptr = dest;\n",
    "\n",
    "while (*src) /* Loop until the end of the source string */\n",
    "{\n",
    "*dest++ = *src++;    /* Copy the current character from src to dest */\n",
    "}\n",
    "*dest = '\\0';        /* Add the terminating null byte at the end of dest */\n",
    "\n",
    "return (ptr);          /* Return the original pointer to dest */\n",
    "}\n",
    "\n"
   ]
  },
  {
   "cell_type": "code",
   "execution_count": 2,
   "metadata": {},
   "outputs": [
    {
     "name": "stdout",
     "output_type": "stream",
     "text": [
      "Overwriting 0x05-pointers_arrays_strings/_putchar.c\n"
     ]
    }
   ],
   "source": [
    "%%file 0x06-pointers_arrays_strings/_putchar.c\n",
    "#include <unistd.h>\n",
    "#include \"main.h\"\n",
    "/**\n",
    " * _putchar - writes the character c to stdout\n",
    " * @c: The character to print\n",
    " *\n",
    " * Return: On success 1.\n",
    " * On error, -1 is returned, and errno is set appropriately.\n",
    " */\n",
    "int _putchar(char c)\n",
    "{\n",
    "\treturn (write(1, &c, 1));\n",
    "}\n"
   ]
  },
  {
   "cell_type": "code",
   "execution_count": 3,
   "metadata": {},
   "outputs": [
    {
     "name": "stdout",
     "output_type": "stream",
     "text": [
      "\n",
      "========== 0x05-pointers_arrays_strings/9-strcpy.c ==========\n"
     ]
    },
    {
     "name": "stdout",
     "output_type": "stream",
     "text": [
      "_strcpy\n",
      "First, solve the problem. Then, write the code\n",
      "First, solve the problem. Then, write the code\n"
     ]
    }
   ],
   "source": [
    "%%bash\n",
    "betty 0x06-pointers_arrays_strings/9-strcpy.c\n",
    "gcc -Wall -pedantic -Werror -Wextra -std=gnu89 0x06-pointers_arrays_strings/9-main.c 0x06-pointers_arrays_strings/9-strcpy.c -o 0x06-pointers_arrays_strings/9-strcpy\n",
    "./0x06-pointers_arrays_strings/9-strcpy"
   ]
  },
  {
   "cell_type": "code",
   "execution_count": 4,
   "metadata": {},
   "outputs": [
    {
     "name": "stdout",
     "output_type": "stream",
     "text": [
      "[main 4cbcf23] alx-low_level_programming/0x04-more_functions_nested_loops\n"
     ]
    },
    {
     "name": "stdout",
     "output_type": "stream",
     "text": [
      " 5 files changed, 355 insertions(+), 24 deletions(-)\n",
      " create mode 100644 0x05-pointers_arrays_strings/100-atoi.c\n"
     ]
    },
    {
     "name": "stderr",
     "output_type": "stream",
     "text": [
      "To github.com:elkomysara/alx-low_level_programming.git\n",
      "   1cefe73..4cbcf23  main -> main\n"
     ]
    }
   ],
   "source": [
    "%%bash\n",
    "git add .\n",
    "git commit -m \"alx-low_level_programming/0x06-pointers_arrays_strings\"\n",
    "git push"
   ]
  },
  {
   "cell_type": "code",
   "execution_count": null,
   "metadata": {},
   "outputs": [],
   "source": []
  },
  {
   "cell_type": "markdown",
   "metadata": {},
   "source": [
    "###\n",
    "---\n",
    "<center>\n",
    "<h4> 10. A dream doesn't become reality through magic; it takes sweat, determination and hard work\n",
    " </h4>\n",
    "</center>\n",
    "\n",
    "---"
   ]
  },
  {
   "cell_type": "markdown",
   "metadata": {},
   "source": [
    "#### Write a function that convert a string to an integer.\n",
    "\n",
    "* Prototype: `int _atoi(char *s);`\n",
    "* The number in the string can be preceded by an infinite number of characters\n",
    "* You need to take into account all the `-` and `+` signs before the number\n",
    "* If there are no numbers in the string, the function must return `0`\n",
    "* You are not allowed to use `long`\n",
    "* You are not allowed to declare new variables of “type” array\n",
    "* You are not allowed to hard-code special values\n",
    "* We will use the `-fsanitize=signed-integer-overflow` gcc flag to compile your code.\n",
    "FYI: The standard library provides a similar function: `atoi.` Run `man atoi` to learn more.\n",
    "\n",
    "```bash\n",
    "julien@ubuntu:~/0x05$ cat 100-main.c\n",
    "#include \"main.h\"\n",
    "#include <stdio.h>\n",
    "\n",
    "/**\n",
    " * main - check the code\n",
    " *\n",
    " * Return: Always 0.\n",
    " */\n",
    "int main(void)\n",
    "{\n",
    "    int nb;\n",
    "\n",
    "    nb = _atoi(\"98\");\n",
    "    printf(\"%d\\n\", nb);\n",
    "    nb = _atoi(\"-402\");\n",
    "    printf(\"%d\\n\", nb);\n",
    "    nb = _atoi(\"          ------++++++-----+++++--98\");\n",
    "    printf(\"%d\\n\", nb);\n",
    "    nb = _atoi(\"214748364\");\n",
    "    printf(\"%d\\n\", nb);\n",
    "    nb = _atoi(\"0\");\n",
    "    printf(\"%d\\n\", nb);\n",
    "    nb = _atoi(\"Suite 402\");\n",
    "    printf(\"%d\\n\", nb);\n",
    "    nb = _atoi(\"         +      +    -    -98 Battery Street; San Francisco, CA 94111 - USA             \");\n",
    "    printf(\"%d\\n\", nb);\n",
    "    nb = _atoi(\"---++++ -++ Sui - te -   402 #cisfun :)\");\n",
    "    printf(\"%d\\n\", nb);\n",
    "    return (0);\n",
    "}\n",
    "julien@ubuntu:~/0x05$ gcc -Wall -pedantic -Werror -Wextra -std=gnu89 -fsanitize=signed-integer-overflow 100-main.c 100-atoi.c -o 100-atoi\n",
    "julien@ubuntu:~/0x05$ ./100-atoi \n",
    "98\n",
    "-402\n",
    "-98\n",
    "214748364\n",
    "0\n",
    "402\n",
    "98\n",
    "402\n",
    "julien@ubuntu:~/0x05$\n",
    "```\n",
    "\n",
    "#### Repo:\n",
    "* GitHub repository: ``` alx-low_level_programming ```\n",
    "* Directory: ```0x05-pointers_arrays_strings``` \n",
    "* File: ```100-atoi.c```"
   ]
  },
  {
   "cell_type": "code",
   "execution_count": 5,
   "metadata": {},
   "outputs": [
    {
     "name": "stdout",
     "output_type": "stream",
     "text": [
      "Overwriting 0x05-pointers_arrays_strings/100-main.c\n"
     ]
    }
   ],
   "source": [
    "%%file 0x06-pointers_arrays_strings/100-main.c\n",
    "#include \"main.h\"\n",
    "#include <stdio.h>\n",
    "\n",
    "/**\n",
    " * main - check the code\n",
    " *\n",
    " * Return: Always 0.\n",
    " */\n",
    "int main(void)\n",
    "{\n",
    "    int nb;\n",
    "\n",
    "    nb = _atoi(\"98\");\n",
    "    printf(\"%d\\n\", nb);\n",
    "    nb = _atoi(\"-402\");\n",
    "    printf(\"%d\\n\", nb);\n",
    "    nb = _atoi(\"          ------++++++-----+++++--98\");\n",
    "    printf(\"%d\\n\", nb);\n",
    "    nb = _atoi(\"214748364\");\n",
    "    printf(\"%d\\n\", nb);\n",
    "    nb = _atoi(\"0\");\n",
    "    printf(\"%d\\n\", nb);\n",
    "    nb = _atoi(\"Suite 402\");\n",
    "    printf(\"%d\\n\", nb);\n",
    "    nb = _atoi(\"         +      +    -    -98 Battery Street; San Francisco, CA 94111 - USA             \");\n",
    "    printf(\"%d\\n\", nb);\n",
    "    nb = _atoi(\"---++++ -++ Sui - te -   402 #cisfun :)\");\n",
    "    printf(\"%d\\n\", nb);\n",
    "    return (0);\n",
    "}"
   ]
  },
  {
   "cell_type": "code",
   "execution_count": 6,
   "metadata": {},
   "outputs": [
    {
     "name": "stdout",
     "output_type": "stream",
     "text": [
      "Overwriting 0x05-pointers_arrays_strings/main.h\n"
     ]
    }
   ],
   "source": [
    "%%file 0x06-pointers_arrays_strings/main.h\n",
    "#ifndef FILE_MAIN\n",
    "#define FILE_MAIN\n",
    "\n",
    "#include <stdio.h>\n",
    "\n",
    "int _putchar(char c);\n",
    "void reset_to_98(int *n);\n",
    "void swap_int(int *a, int *b);\n",
    "int _strlen(char *s);\n",
    "void _puts(char *str);\n",
    "void print_rev(char *s);\n",
    "void rev_string(char *s);\n",
    "void puts2(char *str);\n",
    "void puts_half(char *str);\n",
    "void print_array(int *a, int n);\n",
    "char *_strcpy(char *dest, char *src);\n",
    "int _atoi(char *s);\n",
    "\n",
    "\n",
    "#endif\n"
   ]
  },
  {
   "cell_type": "code",
   "execution_count": 84,
   "metadata": {},
   "outputs": [
    {
     "name": "stdout",
     "output_type": "stream",
     "text": [
      "Overwriting 0x05-pointers_arrays_strings/100-atoi.c\n"
     ]
    }
   ],
   "source": [
    "%%file 0x06-pointers_arrays_strings/100-atoi.c\n",
    "#include \"main.h\"\n",
    "#include <limits.h>\n",
    "/**\n",
    "* _atoi - Converts a string to an integer\n",
    "* @s: The string to be converted\n",
    "*\n",
    "* Return: The integer value of the converted string\n",
    "*/\n",
    "\n",
    "int _atoi(char *s)\n",
    "{\n",
    "int i = 0;\n",
    "int sign = 1;\n",
    "int result = 0;\n",
    "int number_started = 0;\n",
    "\n",
    "while (s[i] != '\\0')\n",
    "{\n",
    "int digit; /* Declare digit at the beginning of the block */\n",
    "/* Skip non-numeric characters except sign symbols */\n",
    "if (s[i] == '-' && !number_started)\n",
    "{\n",
    "sign = -sign;\n",
    "}\n",
    "else if (s[i] == '+' && !number_started)\n",
    "{\n",
    "/* Just move to the next character */\n",
    "}\n",
    "else if (s[i] >= '0' && s[i] <= '9')\n",
    "{\n",
    "number_started = 1;\n",
    "digit = s[i] - '0';\n",
    "\n",
    "/* Check for potential overflow */\n",
    "if (result > (INT_MAX - digit) / 10)\n",
    "{\n",
    "/* Overflow detected, return max value or min value based on sign */\n",
    "return (sign > 0 ? INT_MAX : INT_MIN);\n",
    "}\n",
    "\n",
    "result = result * 10 + digit;\n",
    "}\n",
    "else if (number_started)\n",
    "{\n",
    "/* Break on first non-numeric character after starting number */\n",
    "break;\n",
    "}\n",
    "i++;\n",
    "}\n",
    "\n",
    "return (sign *result);\n",
    "}"
   ]
  },
  {
   "cell_type": "code",
   "execution_count": 85,
   "metadata": {},
   "outputs": [
    {
     "name": "stdout",
     "output_type": "stream",
     "text": [
      "Overwriting 0x05-pointers_arrays_strings/_putchar.c\n"
     ]
    }
   ],
   "source": [
    "%%file 0x06-pointers_arrays_strings/_putchar.c\n",
    "#include <unistd.h>\n",
    "#include \"main.h\"\n",
    "/**\n",
    " * _putchar - writes the character c to stdout\n",
    " * @c: The character to print\n",
    " *\n",
    " * Return: On success 1.\n",
    " * On error, -1 is returned, and errno is set appropriately.\n",
    " */\n",
    "int _putchar(char c)\n",
    "{\n",
    "\treturn (write(1, &c, 1));\n",
    "}\n"
   ]
  },
  {
   "cell_type": "code",
   "execution_count": 86,
   "metadata": {},
   "outputs": [
    {
     "name": "stdout",
     "output_type": "stream",
     "text": [
      "\n",
      "========== 0x05-pointers_arrays_strings/100-atoi.c ==========\n",
      "_atoi\n",
      "98\n",
      "-402\n",
      "-98\n",
      "214748364\n",
      "0\n",
      "402\n",
      "98\n",
      "402\n"
     ]
    }
   ],
   "source": [
    "%%bash\n",
    "betty 0x06-pointers_arrays_strings/100-atoi.c\n",
    "gcc -Wall -pedantic -Werror -Wextra -std=gnu89 -fsanitize=signed-integer-overflow 0x06-pointers_arrays_strings/100-main.c 0x06-pointers_arrays_strings/100-atoi.c -o 0x06-pointers_arrays_strings/100-atoi\n",
    "./0x06-pointers_arrays_strings/100-atoi"
   ]
  },
  {
   "cell_type": "code",
   "execution_count": 87,
   "metadata": {},
   "outputs": [
    {
     "name": "stdout",
     "output_type": "stream",
     "text": [
      "[main 0178411] alx-low_level_programming/0x04-more_functions_nested_loops\n",
      " 2 files changed, 11 insertions(+), 1 deletion(-)\n"
     ]
    },
    {
     "name": "stderr",
     "output_type": "stream",
     "text": [
      "To github.com:elkomysara/alx-low_level_programming.git\n",
      "   780c477..0178411  main -> main\n"
     ]
    }
   ],
   "source": [
    "%%bash\n",
    "git add .\n",
    "git commit -m \"alx-low_level_programming/0x06-pointers_arrays_strings\"\n",
    "git push"
   ]
  },
  {
   "cell_type": "code",
   "execution_count": null,
   "metadata": {},
   "outputs": [],
   "source": []
  },
  {
   "cell_type": "markdown",
   "metadata": {},
   "source": [
    "###\n",
    "---\n",
    "<center>\n",
    "<h4> 11. It is the addition of strangeness to beauty that constitutes the romantic character in art\n",
    " </h4>\n",
    "</center>\n",
    "\n",
    "---"
   ]
  },
  {
   "cell_type": "markdown",
   "metadata": {},
   "source": [
    "#### Create a program that generates random valid passwords for the program [101-crackme](https://github.com/alx-tools/0x04.c).\n",
    "\n",
    "* You are allowed to use the standard library\n",
    "* You don’t have to pass the `betty-style` tests (you still need to pass the `betty-doc` tests)\n",
    "* man `srand`, `rand`, `time`\n",
    "* `gdb` and `objdump` can help\n",
    "\n",
    "```bash\n",
    "julien@ubuntu:~/0x05$ gcc -Wall -pedantic -Werror -Wextra 101-keygen.c -o 101-keygen\n",
    "julien@ubuntu:~/0x05$ ./101-crackme \"`./101-keygen`\"\n",
    "Tada! Congrats\n",
    "julien@ubuntu:~/0x05$\n",
    "```\n",
    "\n",
    "#### Repo:\n",
    "* GitHub repository: ``` alx-low_level_programming ```\n",
    "* Directory: ```0x05-pointers_arrays_strings``` \n",
    "* File: ```101-keygen.c```"
   ]
  },
  {
   "cell_type": "code",
   "execution_count": 149,
   "metadata": {},
   "outputs": [
    {
     "name": "stdout",
     "output_type": "stream",
     "text": [
      "Overwriting 0x05-pointers_arrays_strings/101-keygen.c\n"
     ]
    }
   ],
   "source": [
    "%%file 0x06-pointers_arrays_strings/101-keygen.c\n",
    "\n",
    "#include <stdio.h>\n",
    "#include <stdlib.h>\n",
    "#include <time.h>\n",
    "\n",
    "/**\n",
    "* main - generates random valid passwords for the program 101-crackme.\n",
    "*\n",
    "* Return: Always 0\n",
    "*/\n",
    "int main(void)\n",
    "{\n",
    "/* declares an array called 'pass with a size of 100 integers' */\n",
    "int pass[100];\n",
    "int i;\n",
    "int sum;\n",
    "int n;\n",
    "sum = 0;\n",
    "\n",
    "srand(time(NULL));\n",
    "\n",
    "for (i = 0; i < 100; i++)\n",
    "{\n",
    "pass[i] = rand() % 78;\n",
    "sum += (pass[i] + '0');\n",
    "putchar(pass[i] + '0');\n",
    "if ((2772 - sum) -'0' < 78)\n",
    "{\n",
    "n = 2772 - sum - '0';\n",
    "sum += n;\n",
    "putchar(n + '0');\n",
    "break;\n",
    "}\n",
    "}\n",
    "return (0);\n",
    "}\n"
   ]
  },
  {
   "cell_type": "code",
   "execution_count": 150,
   "metadata": {},
   "outputs": [
    {
     "name": "stdout",
     "output_type": "stream",
     "text": [
      "\n",
      "========== 0x05-pointers_arrays_strings/101-keygen.c ==========\n",
      "main\n"
     ]
    }
   ],
   "source": [
    "%%bash\n",
    "betty 0x06-pointers_arrays_strings/101-keygen.c\n",
    "gcc -Wall -pedantic -Werror -Wextra 0x06-pointers_arrays_strings/101-keygen.c -o 0x06-pointers_arrays_strings/1101-keygen"
   ]
  },
  {
   "cell_type": "code",
   "execution_count": 119,
   "metadata": {},
   "outputs": [
    {
     "name": "stdout",
     "output_type": "stream",
     "text": [
      "[main 8c216ae] alx-low_level_programming/0x04-more_functions_nested_loops\n",
      " 2 files changed, 33 insertions(+), 32 deletions(-)\n",
      " rewrite 0x05-pointers_arrays_strings/101-keygen.c (80%)\n"
     ]
    },
    {
     "name": "stderr",
     "output_type": "stream",
     "text": [
      "To github.com:elkomysara/alx-low_level_programming.git\n",
      "   86f0bc9..8c216ae  main -> main\n"
     ]
    }
   ],
   "source": [
    "%%bash\n",
    "git add .\n",
    "git commit -m \"alx-low_level_programming/0x06-pointers_arrays_strings\"\n",
    "git push"
   ]
  },
  {
   "cell_type": "code",
   "execution_count": null,
   "metadata": {},
   "outputs": [],
   "source": [
    "\n"
   ]
  },
  {
   "cell_type": "markdown",
   "metadata": {},
   "source": [
    "###\n",
    "---\n",
    "<center>\n",
    "<h4> 12. Noise is a buffer, more effective than cubicles or booth walls\n",
    " </h4>\n",
    "</center>\n",
    "\n",
    "---"
   ]
  },
  {
   "cell_type": "markdown",
   "metadata": {},
   "source": [
    "#### Create a program that generates random valid passwords for the program [101-crackme](https://github.com/alx-tools/0x04.c).\n",
    "\n",
    "* You are allowed to use the standard library\n",
    "* You don’t have to pass the `betty-style` tests (you still need to pass the `betty-doc` tests)\n",
    "* man `srand`, `rand`, `time`\n",
    "* `gdb` and `objdump` can help\n",
    "\n",
    "```bash\n",
    "julien@ubuntu:~/0x05$ gcc -Wall -pedantic -Werror -Wextra 101-keygen.c -o 101-keygen\n",
    "julien@ubuntu:~/0x05$ ./101-crackme \"`./101-keygen`\"\n",
    "Tada! Congrats\n",
    "julien@ubuntu:~/0x05$\n",
    "```\n",
    "\n",
    "#### Repo:\n",
    "* GitHub repository: ``` alx-low_level_programming ```\n",
    "* Directory: ```0x05-pointers_arrays_strings``` \n",
    "* File: ```101-keygen.c```"
   ]
  },
  {
   "cell_type": "code",
   "execution_count": null,
   "metadata": {},
   "outputs": [
    {
     "name": "stdout",
     "output_type": "stream",
     "text": [
      "Overwriting 0x05-pointers_arrays_strings/101-keygen.c\n"
     ]
    }
   ],
   "source": [
    "%%file 0x06-pointers_arrays_strings/101-keygen.c\n",
    "\n",
    "#include <stdio.h>\n",
    "#include <stdlib.h>\n",
    "#include <time.h>\n",
    "\n",
    "/**\n",
    "* main - generates random valid passwords for the program 101-crackme.\n",
    "*\n",
    "* Return: Always 0\n",
    "*/\n",
    "int main(void)\n",
    "{\n",
    "/* declares an array called 'pass with a size of 100 integers' */\n",
    "int pass[100];\n",
    "int i;\n",
    "int sum;\n",
    "int n;\n",
    "sum = 0;\n",
    "\n",
    "srand(time(NULL));\n",
    "\n",
    "for (i = 0; i < 100; i++)\n",
    "{\n",
    "pass[i] = rand() % 78;\n",
    "sum += (pass[i] + '0');\n",
    "putchar(pass[i] + '0');\n",
    "if ((2772 - sum) -'0' < 78)\n",
    "{\n",
    "n = 2772 - sum - '0';\n",
    "sum += n;\n",
    "putchar(n + '0');\n",
    "break;\n",
    "}\n",
    "}\n",
    "return (0);\n",
    "}\n"
   ]
  },
  {
   "cell_type": "code",
   "execution_count": null,
   "metadata": {},
   "outputs": [
    {
     "name": "stdout",
     "output_type": "stream",
     "text": [
      "\n",
      "========== 0x05-pointers_arrays_strings/101-keygen.c ==========\n",
      "main\n"
     ]
    }
   ],
   "source": [
    "%%bash\n",
    "betty 0x06-pointers_arrays_strings/101-keygen.c\n",
    "gcc -Wall -pedantic -Werror -Wextra 0x06-pointers_arrays_strings/101-keygen.c -o 0x06-pointers_arrays_strings/1101-keygen"
   ]
  },
  {
   "cell_type": "code",
   "execution_count": null,
   "metadata": {},
   "outputs": [
    {
     "name": "stdout",
     "output_type": "stream",
     "text": [
      "[main 8c216ae] alx-low_level_programming/0x04-more_functions_nested_loops\n",
      " 2 files changed, 33 insertions(+), 32 deletions(-)\n",
      " rewrite 0x05-pointers_arrays_strings/101-keygen.c (80%)\n"
     ]
    },
    {
     "name": "stderr",
     "output_type": "stream",
     "text": [
      "To github.com:elkomysara/alx-low_level_programming.git\n",
      "   86f0bc9..8c216ae  main -> main\n"
     ]
    }
   ],
   "source": [
    "%%bash\n",
    "git add .\n",
    "git commit -m \"alx-low_level_programming/0x06-pointers_arrays_strings\"\n",
    "git push"
   ]
  },
  {
   "cell_type": "code",
   "execution_count": null,
   "metadata": {},
   "outputs": [],
   "source": []
  }
 ],
 "metadata": {
  "kernelspec": {
   "display_name": "Python 3",
   "language": "python",
   "name": "python3"
  },
  "language_info": {
   "codemirror_mode": {
    "name": "ipython",
    "version": 3
   },
   "file_extension": ".py",
   "mimetype": "text/x-python",
   "name": "python",
   "nbconvert_exporter": "python",
   "pygments_lexer": "ipython3",
   "version": "3.12.3"
  }
 },
 "nbformat": 4,
 "nbformat_minor": 2
}
