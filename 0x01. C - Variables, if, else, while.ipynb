{
 "cells": [
  {
   "cell_type": "markdown",
   "metadata": {},
   "source": [
    "---\n",
    "<center>\n",
    "<h1>  alx-low_level_programming </h1>\n",
    "</center>\n",
    "\n",
    "---\n"
   ]
  },
  {
   "cell_type": "code",
   "execution_count": 2,
   "metadata": {},
   "outputs": [
    {
     "name": "stdout",
     "output_type": "stream",
     "text": [
      "Writing README.md\n"
     ]
    }
   ],
   "source": [
    "%%file README.md\n",
    "## alx-low_level_programming"
   ]
  },
  {
   "cell_type": "code",
   "execution_count": 1,
   "metadata": {},
   "outputs": [
    {
     "data": {
      "text/plain": [
       "'/home/elkomy/alx-low_level_programming'"
      ]
     },
     "execution_count": 1,
     "metadata": {},
     "output_type": "execute_result"
    }
   ],
   "source": [
    "%pwd"
   ]
  },
  {
   "cell_type": "code",
   "execution_count": 1,
   "metadata": {},
   "outputs": [],
   "source": [
    "import os\n",
    "# creating 0x02-shell_redirectionss\n",
    "\n",
    "folder_path = r'/home/elkomy/alx-low_level_programming/0x01-variables_if_else_while'\n",
    "if not os.path.exists(folder_path):\n",
    "    os.makedirs(folder_path)\n",
    "\n",
    "# Create a README.md inside alx-low_level_programming/0x01-variables_if_else_while\n",
    "file_path = os.path.join(folder_path, 'README.md')\n",
    "\n",
    "with open(file_path, 'w') as file:\n",
    "    file.write(\"This is a README.md file inside alx-low_level_programming/0x01-variables_if_else_while\")\n",
    "\n"
   ]
  },
  {
   "cell_type": "code",
   "execution_count": 4,
   "metadata": {},
   "outputs": [
    {
     "name": "stdout",
     "output_type": "stream",
     "text": [
      "/home/elkomy/alx-low_level_programming\n"
     ]
    }
   ],
   "source": [
    "!pwd"
   ]
  },
  {
   "cell_type": "code",
   "execution_count": 2,
   "metadata": {},
   "outputs": [
    {
     "name": "stdout",
     "output_type": "stream",
     "text": [
      "Overwriting /home/elkomy/alx-low_level_programming/0x01-variables_if_else_while/README.md\n"
     ]
    }
   ],
   "source": [
    "%%file /home/elkomy/alx-low_level_programming/0x01-variables_if_else_while/README.md\n",
    "This is a README.md"
   ]
  },
  {
   "cell_type": "markdown",
   "metadata": {},
   "source": [
    "###\n",
    "---\n",
    "<center>\n",
    "<h1> 0x01-variables_if_else_while  </h1>\n",
    "</center>\n",
    "\n",
    "---\n"
   ]
  },
  {
   "cell_type": "markdown",
   "metadata": {},
   "source": [
    "###\n",
    "---\n",
    "<center>\n",
    "<h4> 0-positive_or_negative.c </h4>\n",
    "</center>\n",
    "\n",
    "---"
   ]
  },
  {
   "cell_type": "markdown",
   "metadata": {},
   "source": [
    "\n",
    "#### This program will assign a random number to the variable n each time it is executed. Complete the source code in order to print whether the number stored in the variable n is positive or negative.\n",
    "\n",
    "* You can find the source code [here](https://github.com/alx-tools/0x01.c/blob/master/0-positive_or_negative_c)\n",
    "* The variable n will store a different value every time you will run this program\n",
    "* You don’t have to understand what rand, srand, RAND_MAX do. Please do not touch this code\n",
    "* The output of the program should be:\n",
    "* The number, followed by\n",
    "    * if the number is greater than 0: is positive\n",
    "    * if the number is 0: is zero\n",
    "    * if the number is less than 0: is negative\n",
    "    followed by a new line\n",
    "\n",
    "```bash\n",
    "julien@ubuntu:~/0x01$ gcc -Wall -pedantic -Werror -Wextra -std=gnu89 0-positive_or_negative.c -o 0-positive_or_negative\n",
    "julien@ubuntu:~/0x01$ ./0-positive_or_negative \n",
    "-520693284 is negative\n",
    "julien@ubuntu:~/0x01$ ./0-positive_or_negative \n",
    "-973398895 is negative\n",
    "julien@ubuntu:~/0x01$ ./0-positive_or_negative \n",
    "-199220452 is negative\n",
    "julien@ubuntu:~/0x01$ ./0-positive_or_negative \n",
    "561319348 is positive\n",
    "julien@ubuntu:~/0x01$ ./0-positive_or_negative \n",
    "561319348 is positive\n",
    "julien@ubuntu:~/0x01$ ./0-positive_or_negative \n",
    "266853958 is positive\n",
    "julien@ubuntu:~/0x01$ ./0-positive_or_negative \n",
    "-48147767 is negative\n",
    "julien@ubuntu:~/0x01$ ./0-positive_or_negative \n",
    "0 is zero\n",
    "julien@ubuntu:~/0x01$ \n",
    "```\n",
    "\n",
    "\n",
    "#### Repo:\n",
    "* GitHub repository: ``` alx-low_level_programming ```\n",
    "* Directory: ```0x01-variables_if_else_while``` \n",
    "* File: ```0-positive_or_negative.c```"
   ]
  },
  {
   "cell_type": "code",
   "execution_count": 42,
   "metadata": {},
   "outputs": [
    {
     "name": "stdout",
     "output_type": "stream",
     "text": [
      "Overwriting 0x01-variables_if_else_while/0-positive_or_negative.c\n"
     ]
    }
   ],
   "source": [
    "%%file 0x01-variables_if_else_while/0-positive_or_negative.c\n",
    "#include <stdlib.h>\n",
    "#include <time.h>\n",
    "#include <stdio.h>\n",
    "\n",
    "/**\n",
    " * main - Entry point\n",
    " *\n",
    " * Return: Always 0 (Success)\n",
    " */\n",
    "\n",
    "int main(void)\n",
    "{\n",
    "int n;\n",
    "\n",
    "srand(time(0));\n",
    "n = rand() - RAND_MAX / 2;\n",
    "printf(\"%d \", n);\n",
    "if (n > 0)\n",
    "{\n",
    "printf(\"is positive\\n\");\n",
    "}\n",
    "else if (n < 0)\n",
    "{\n",
    "printf(\"is negative\\n\");\n",
    "}\n",
    "else\n",
    "{\n",
    "printf(\"is zero\\n\");\n",
    "}\n",
    "return (0);\n",
    "}"
   ]
  },
  {
   "cell_type": "code",
   "execution_count": 44,
   "metadata": {},
   "outputs": [
    {
     "name": "stdout",
     "output_type": "stream",
     "text": [
      "\n",
      "========== 0x01-variables_if_else_while/0-positive_or_negative.c ==========\n",
      "main\n"
     ]
    }
   ],
   "source": [
    "!betty 0x01-variables_if_else_while/0-positive_or_negative.c"
   ]
  },
  {
   "cell_type": "code",
   "execution_count": 45,
   "metadata": {},
   "outputs": [],
   "source": [
    "%%bash\n",
    "gcc -Wall -pedantic -Werror -Wextra -std=gnu89 0x01-variables_if_else_while/0-positive_or_negative.c -o 0x01-variables_if_else_while/0-positive_or_negative"
   ]
  },
  {
   "cell_type": "code",
   "execution_count": 46,
   "metadata": {},
   "outputs": [
    {
     "name": "stdout",
     "output_type": "stream",
     "text": [
      "-644688801 is negative\n"
     ]
    }
   ],
   "source": [
    "!./0x01-variables_if_else_while/0-positive_or_negative"
   ]
  },
  {
   "cell_type": "code",
   "execution_count": 47,
   "metadata": {},
   "outputs": [
    {
     "name": "stdout",
     "output_type": "stream",
     "text": [
      "[main 47b41e8] 0x01-variables_if_else_while/\n",
      " 1 file changed, 17 insertions(+), 16 deletions(-)\n",
      "Enumerating objects: 5, done.\n",
      "Counting objects: 100% (5/5), done.\n",
      "Delta compression using up to 12 threads\n",
      "Compressing objects: 100% (3/3), done.\n",
      "Writing objects: 100% (3/3), 569 bytes | 569.00 KiB/s, done.\n",
      "Total 3 (delta 2), reused 0 (delta 0)\n",
      "remote: Resolving deltas: 100% (2/2), completed with 2 local objects.\u001b[K\n",
      "To https://github.com/elkomysara/alx-low_level_programming.git\n",
      "   24a68be..47b41e8  main -> main\n",
      "Branch 'main' set up to track remote branch 'main' from 'origin'.\n"
     ]
    }
   ],
   "source": [
    "\n",
    "!git add .\n",
    "!git commit -m \"0x01-variables_if_else_while/\"\n",
    "!git push -u origin main"
   ]
  },
  {
   "cell_type": "markdown",
   "metadata": {},
   "source": [
    "###\n",
    "---\n",
    "<center>\n",
    "<h4> 1. The last digit </h4>\n",
    "</center>\n",
    "\n",
    "---\n"
   ]
  },
  {
   "cell_type": "markdown",
   "metadata": {},
   "source": [
    "##### This program will assign a random number to the variable `n` each time it is executed. Complete the source code in order to print the last digit of the number stored in the variable `n`.\n",
    "\n",
    "* You can find the source code [here](https://github.com/alx-tools/0x01.c/blob/master/1-last_digit_c)\n",
    "* The variable n will store a different value every time you run this program\n",
    "* You don’t have to understand what `rand`, `srand`, and `RAND_MAX` do. Please do not touch this code\n",
    "* The output of the program should be:\n",
    "    * The string `Last digit of`, followed by\n",
    "    * `n`, followed by\n",
    "    * the string `is`, followed by\n",
    "        * if the last digit of `n` is greater than 5: the string `and is greater than 5`\n",
    "        * if the last digit of `n` is 0: the string `and is 0`\n",
    "        * if the last digit of `n` is less than 6 and not 0: the string `and is less than 6 and not 0`\n",
    "    * followed by a new line\n",
    "```bash\n",
    "julien@ubuntu:~/0x01$ gcc -Wall -pedantic -Werror -Wextra -std=gnu89 1-last_digit.c -o 1-last_digit\n",
    "julien@ubuntu:~/0x01$ ./1-last_digit \n",
    "Last digit of 629438752 is 2 and is less than 6 and not 0\n",
    "julien@ubuntu:~/0x01$ ./1-last_digit \n",
    "Last digit of -748255693 is -3 and is less than 6 and not 0\n",
    "julien@ubuntu:~/0x01$ ./1-last_digit \n",
    "Last digit of -1052791662 is -2 and is less than 6 and not 0\n",
    "julien@ubuntu:~/0x01$ ./1-last_digit \n",
    "Last digit of -284805734 is -4 and is less than 6 and not 0\n",
    "julien@ubuntu:~/0x01$ ./1-last_digit \n",
    "Last digit of -284805734 is -4 and is less than 6 and not 0\n",
    "julien@ubuntu:~/0x01$ ./1-last_digit \n",
    "Last digit of 491506926 is 6 and is greater than 5\n",
    "julien@ubuntu:~/0x01$ ./1-last_digit \n",
    "Last digit of 954249937 is 7 and is greater than 5\n",
    "julien@ubuntu:~/0x01$ ./1-last_digit \n",
    "Last digit of 652334952 is 2 and is less than 6 and not 0\n",
    "julien@ubuntu:~/0x01$ ./1-last_digit \n",
    "Last digit of -729688197 is -7 and is less than 6 and not 0\n",
    "julien@ubuntu:~/0x01$ ./1-last_digit \n",
    "Last digit of -729688197 is -7 and is less than 6 and not 0\n",
    "julien@ubuntu:~/0x01$ ./1-last_digit \n",
    "Last digit of 45528266 is 6 and is greater than 5\n",
    "julien@ubuntu:~/0x01$ ./1-last_digit \n",
    "Last digit of 45528266 is 6 and is greater than 5\n",
    "julien@ubuntu:~/0x01$ ./1-last_digit \n",
    "Last digit of 809065140 is 0 and is 0\n",
    "julien@ubuntu:~/0x01$\n",
    "```\n",
    "\n",
    "* Repo:\n",
    "\n",
    "    * GitHub repository: <code > alx-low_level_programming </code>\n",
    "    * Directory: <code > 0x01-variables_if_else_while </code>\n",
    "    * File: <code >  1-last_digit.c </code>\n",
    "   "
   ]
  },
  {
   "cell_type": "code",
   "execution_count": 97,
   "metadata": {},
   "outputs": [
    {
     "name": "stdout",
     "output_type": "stream",
     "text": [
      "Overwriting 0x01-variables_if_else_while/1-last_digit.c\n"
     ]
    }
   ],
   "source": [
    "%%file 0x01-variables_if_else_while/1-last_digit.c\n",
    "#include <stdlib.h>\n",
    "#include <time.h>\n",
    "#include <stdio.h>\n",
    "\n",
    "/**\n",
    " * main - Entry point\n",
    " *\n",
    " * Return: Always 0 (Success)\n",
    " */\n",
    "int main(void)\n",
    "{\n",
    "int n;\n",
    "\n",
    "srand(time(0));\n",
    "n = rand() - RAND_MAX / 2;\n",
    "/* your code goes there */\n",
    "printf(\"Last digit of %d is %d \", n, n % 10);\n",
    "if (n % 10 < 6 && n % 10  != 0)\n",
    "{\n",
    "printf(\"and is less than 6 and not 0\\n\");\n",
    "}\n",
    "else if (n % 10 > 5 && n % 10 != 0)\n",
    "{\n",
    "printf(\"and is greater than 5\\n\");\n",
    "}\n",
    "else\n",
    "{\n",
    "printf(\"and is 0\\n\");\n",
    "}\n",
    "return (0);\n",
    "}"
   ]
  },
  {
   "cell_type": "code",
   "execution_count": 98,
   "metadata": {},
   "outputs": [
    {
     "name": "stdout",
     "output_type": "stream",
     "text": [
      "\n",
      "========== 0x01-variables_if_else_while/1-last_digit.c ==========\n",
      "main\n"
     ]
    }
   ],
   "source": [
    "!betty 0x01-variables_if_else_while/1-last_digit.c"
   ]
  },
  {
   "cell_type": "code",
   "execution_count": 99,
   "metadata": {},
   "outputs": [
    {
     "name": "stdout",
     "output_type": "stream",
     "text": [
      "Last digit of -794466804 is -4 and is less than 6 and not 0\n"
     ]
    }
   ],
   "source": [
    "%%bash\n",
    "gcc -Wall -pedantic -Werror -Wextra -std=gnu89 0x01-variables_if_else_while/1-last_digit.c -o 0x01-variables_if_else_while/1-last_digit\n",
    "./0x01-variables_if_else_while/1-last_digit"
   ]
  },
  {
   "cell_type": "code",
   "execution_count": 100,
   "metadata": {},
   "outputs": [
    {
     "name": "stdout",
     "output_type": "stream",
     "text": [
      "[main 6a91912] 0x03-shell_variables_expansions/1-hello_you\n",
      " 3 files changed, 11 insertions(+), 11 deletions(-)\n",
      "Enumerating objects: 11, done.\n",
      "Counting objects: 100% (11/11), done.\n",
      "Delta compression using up to 12 threads\n",
      "Compressing objects: 100% (6/6), done.\n",
      "Writing objects: 100% (6/6), 995 bytes | 995.00 KiB/s, done.\n",
      "Total 6 (delta 5), reused 0 (delta 0)\n",
      "remote: Resolving deltas: 100% (5/5), completed with 5 local objects.\u001b[K\n",
      "To https://github.com/elkomysara/alx-low_level_programming.git\n",
      "   8d78d36..6a91912  main -> main\n",
      "Branch 'main' set up to track remote branch 'main' from 'origin'.\n"
     ]
    }
   ],
   "source": [
    "\n",
    "!git add .\n",
    "!git commit -m \"0x03-shell_variables_expansions/1-hello_you\"\n",
    "!git push -u origin main"
   ]
  },
  {
   "cell_type": "markdown",
   "metadata": {},
   "source": [
    "###\n",
    "---\n",
    "<center>\n",
    "<h4> 2. I sometimes suffer from insomnia. And when I can't fall asleep, I play what I call the alphabet game</h4>\n",
    "</center>\n",
    "\n",
    "---"
   ]
  },
  {
   "cell_type": "markdown",
   "metadata": {},
   "source": [
    "#### Write a program that prints the alphabet in lowercase, followed by a new line.\n",
    "\n",
    "* You can only use the putchar function (every other function (printf, puts, etc…) is forbidden)\n",
    "* All your code should be in the main function\n",
    "* You can only use putchar twice in your code\n",
    "\n",
    "```bash\n",
    " julien@ubuntu:~/0x01$ gcc -Wall -pedantic -Werror -Wextra -std=gnu89 2-print_alphabet.c -o 2-print_alphabet\n",
    "julien@ubuntu:~/0x01$ ./2-print_alphabet \n",
    "abcdefghijklmnopqrstuvwxyz\n",
    "julien@ubuntu:~/0x01$\n",
    "```\n",
    "\n",
    "\n",
    "#### Repo:\n",
    "* GitHub repository:   <code>alx-low_level_programming </code>\n",
    "* Directory:   <code> 0x01-variables_if_else_while </code>\n",
    "* File:   <code> 2-print_alphabet.c</code>"
   ]
  },
  {
   "cell_type": "code",
   "execution_count": 164,
   "metadata": {},
   "outputs": [
    {
     "name": "stdout",
     "output_type": "stream",
     "text": [
      "Overwriting 0x01-variables_if_else_while/print_alphabet.c\n"
     ]
    }
   ],
   "source": [
    "%%file 0x01-variables_if_else_while/print_alphabet.c\n",
    "#include <stdlib.h>\n",
    "#include <stdio.h>\n",
    "#include <ctype.h>\n",
    "\n",
    "/**\n",
    "* main - Entry point\n",
    "* putchar\n",
    "* Return: Always 0 (sucess)\n",
    "*/\n",
    "\n",
    "int main(void)\n",
    "{\n",
    "int x;\n",
    "int y;\n",
    "for (x = 'A'; x <= 'Z'; x++)\n",
    "{\n",
    "printf(\"%c\\n\", tolower(x));\n",
    "}\n",
    "for (y = 'a'; y <= 'z'; y++)\n",
    "{\n",
    "printf(\"%c\\n\", toupper(y));\n",
    "}\n",
    "return (0);\n",
    "}\n"
   ]
  },
  {
   "cell_type": "code",
   "execution_count": 165,
   "metadata": {},
   "outputs": [
    {
     "name": "stdout",
     "output_type": "stream",
     "text": [
      "\n",
      "========== 0x01-variables_if_else_while/print_alphabet.c ==========\n",
      "main\n",
      "a\n",
      "b\n",
      "c\n",
      "d\n",
      "e\n",
      "f\n",
      "g\n",
      "h\n",
      "i\n",
      "j\n",
      "k\n",
      "l\n",
      "m\n",
      "n\n",
      "o\n",
      "p\n",
      "q\n",
      "r\n",
      "s\n",
      "t\n",
      "u\n",
      "v\n",
      "w\n",
      "x\n",
      "y\n",
      "z\n",
      "A\n",
      "B\n",
      "C\n",
      "D\n",
      "E\n",
      "F\n",
      "G\n",
      "H\n",
      "I\n",
      "J\n",
      "K\n",
      "L\n",
      "M\n",
      "N\n",
      "O\n",
      "P\n",
      "Q\n",
      "R\n",
      "S\n",
      "T\n",
      "U\n",
      "V\n",
      "W\n",
      "X\n",
      "Y\n",
      "Z\n"
     ]
    }
   ],
   "source": [
    "%%bash\n",
    "betty 0x01-variables_if_else_while/print_alphabet.c\n",
    "gcc -Wall -pedantic -Werror -Wextra -std=gnu89 0x01-variables_if_else_while/print_alphabet.c -o 0x01-variables_if_else_while/print_alphabet\n",
    "./0x01-variables_if_else_while/print_alphabet"
   ]
  },
  {
   "cell_type": "code",
   "execution_count": 172,
   "metadata": {},
   "outputs": [
    {
     "name": "stdout",
     "output_type": "stream",
     "text": [
      "Overwriting 0x01-variables_if_else_while/EoF.c\n"
     ]
    }
   ],
   "source": [
    "%%file 0x01-variables_if_else_while/EoF.c\n",
    "#include <stdio.h>\n",
    "#include <ctype.h>\n",
    "\n",
    "/**\n",
    "* main - Entry point\n",
    "* putchar\n",
    "* Return: Always 0 (sucess)\n",
    "*/\n",
    "\n",
    "int main(void)\n",
    "{\n",
    "int ch;\n",
    "\n",
    "/* Read characters until EOF is encountered */\n",
    "while ((ch = getchar()) != EOF)\n",
    "{\n",
    "/* Convert to uppercase and print */\n",
    "putchar(toupper(ch));\n",
    "putchar('\\n'); /* Add a newline to flush the output buffer */\n",
    "}\n",
    "\n",
    "return (0);\n",
    "}"
   ]
  },
  {
   "cell_type": "code",
   "execution_count": 173,
   "metadata": {},
   "outputs": [
    {
     "name": "stdout",
     "output_type": "stream",
     "text": [
      "\n",
      "========== 0x01-variables_if_else_while/EoF.c ==========\n",
      "main\n"
     ]
    }
   ],
   "source": [
    "%%bash\n",
    "betty 0x01-variables_if_else_while/EoF.c\n",
    "gcc -Wall -pedantic -Werror -Wextra -std=gnu89 0x01-variables_if_else_while/EoF.c -o 0x01-variables_if_else_while/EoF\n"
   ]
  },
  {
   "cell_type": "code",
   "execution_count": 175,
   "metadata": {},
   "outputs": [
    {
     "name": "stdout",
     "output_type": "stream",
     "text": [
      "^C\n"
     ]
    }
   ],
   "source": [
    "!./0x01-variables_if_else_while/EoF"
   ]
  },
  {
   "cell_type": "code",
   "execution_count": 195,
   "metadata": {},
   "outputs": [
    {
     "name": "stdout",
     "output_type": "stream",
     "text": [
      "Overwriting 0x01-variables_if_else_while/2-print_alphabet.c\n"
     ]
    }
   ],
   "source": [
    "%%file 0x01-variables_if_else_while/2-print_alphabet.c\n",
    "#include <stdlib.h>\n",
    "#include <stdio.h>\n",
    "#include <ctype.h>\n",
    "\n",
    "/**\n",
    "* main - Entry point\n",
    "* putchar\n",
    "* Return: Always 0 (sucess)\n",
    "*/\n",
    "\n",
    "int main(void)\n",
    "{\n",
    "int x;\n",
    "for (x = 'A'; x <= 'Z'; x++)\n",
    "{\n",
    "putchar(tolower(x));\n",
    "}\n",
    "putchar('\\n');\n",
    "return (0);\n",
    "}\n"
   ]
  },
  {
   "cell_type": "code",
   "execution_count": 221,
   "metadata": {},
   "outputs": [
    {
     "name": "stdout",
     "output_type": "stream",
     "text": [
      "Overwriting 0x01-variables_if_else_while/2-print_alphabet.c\n"
     ]
    }
   ],
   "source": [
    "%%file 0x01-variables_if_else_while/2-print_alphabet.c\n",
    "#include <stdlib.h>\n",
    "#include <stdio.h>\n",
    "#include <ctype.h>\n",
    "\n",
    "/**\n",
    "* main - Entry point\n",
    "* putchar\n",
    "* Return: Always 0 (sucess)\n",
    "*/\n",
    "\n",
    "int main(void)\n",
    "{\n",
    "int x;\n",
    "for (x = 'a'; x <= 'z'; x++)\n",
    "{\n",
    "putchar(x);\n",
    "}\n",
    "putchar('\\n');\n",
    "return (0);\n",
    "}"
   ]
  },
  {
   "cell_type": "code",
   "execution_count": 222,
   "metadata": {},
   "outputs": [
    {
     "name": "stdout",
     "output_type": "stream",
     "text": [
      "\n",
      "========== 0x01-variables_if_else_while/2-print_alphabet.c ==========\n",
      "main\n",
      "abcdefghijklmnopqrstuvwxyz\n"
     ]
    }
   ],
   "source": [
    "%%bash\n",
    "betty 0x01-variables_if_else_while/2-print_alphabet.c\n",
    "gcc -Wall -pedantic -Werror -Wextra -std=gnu89 0x01-variables_if_else_while/2-print_alphabet.c -o 0x01-variables_if_else_while/2-print_alphabet\n",
    "./0x01-variables_if_else_while/2-print_alphabet"
   ]
  },
  {
   "cell_type": "code",
   "execution_count": 197,
   "metadata": {},
   "outputs": [
    {
     "name": "stdout",
     "output_type": "stream",
     "text": [
      "[main f5410be] 0x01-variables_if_else_while/2-assembler\n",
      " 3 files changed, 21 insertions(+), 15 deletions(-)\n",
      "Enumerating objects: 11, done.\n",
      "Counting objects: 100% (11/11), done.\n",
      "Delta compression using up to 12 threads\n",
      "Compressing objects: 100% (6/6), done.\n",
      "Writing objects: 100% (6/6), 1.06 KiB | 1.06 MiB/s, done.\n",
      "Total 6 (delta 5), reused 0 (delta 0)\n",
      "remote: Resolving deltas: 100% (5/5), completed with 5 local objects.\u001b[K\n",
      "To https://github.com/elkomysara/alx-low_level_programming.git\n",
      "   4c75349..f5410be  main -> main\n",
      "Branch 'main' set up to track remote branch 'main' from 'origin'.\n"
     ]
    }
   ],
   "source": [
    "!git add .\n",
    "!git commit -m \"0x01-variables_if_else_while/2-assembler\"\n",
    "!git push -u origin main"
   ]
  },
  {
   "cell_type": "markdown",
   "metadata": {},
   "source": [
    "###\n",
    "---\n",
    "<center>\n",
    "<h4> 3. alphABET</h4>\n",
    "</center>\n",
    "\n",
    "---"
   ]
  },
  {
   "cell_type": "markdown",
   "metadata": {},
   "source": [
    "#### Write a program that prints the alphabet in lowercase, and then in uppercase, followed by a new line.\n",
    "\n",
    "* You can only use the putchar function (every other function (printf, puts, etc…) is forbidden)\n",
    "* All your code should be in the main function\n",
    "* You can only use putchar three times in your code\n",
    "\n",
    "```bash\n",
    "julien@ubuntu:~/0x01$ gcc -Wall -pedantic -Werror -Wextra -std=gnu89 3-print_alphabets.c -o 3-print_alphabets\n",
    "julien@ubuntu:~/0x01$ ./3-print_alphabets | cat -e\n",
    "abcdefghijklmnopqrstuvwxyzABCDEFGHIJKLMNOPQRSTUVWXYZ$\n",
    "julien@ubuntu:~/0x01$\n",
    "```\n",
    "\n",
    "\n",
    "#### Repo:\n",
    "* GitHub repository: `alx-low_level_programming`\n",
    "* Directory: `0x01-variables_if_else_while`\n",
    "* File: `3-print_alphabets.c`"
   ]
  },
  {
   "cell_type": "code",
   "execution_count": 223,
   "metadata": {},
   "outputs": [
    {
     "name": "stdout",
     "output_type": "stream",
     "text": [
      "Overwriting 0x01-variables_if_else_while/3-print_alphabets.c\n"
     ]
    }
   ],
   "source": [
    "%%file 0x01-variables_if_else_while/3-print_alphabets.c\n",
    "#include <stdio.h>\n",
    "#include <stdlib.h>\n",
    "#include <ctype.h>\n",
    "\n",
    "/**\n",
    "* main - Entry point\n",
    "* putchar\n",
    "* Return: Always 0 (sucess)\n",
    "*/\n",
    "\n",
    "int main(void)\n",
    "{\n",
    "int x;\n",
    "for (x = 'a'; x <= 'z'; x++)\n",
    "{\n",
    "putchar(x);\n",
    "}\n",
    "for (x = 'A'; x <= 'Z'; x++)\n",
    "{\n",
    "putchar(x);\n",
    "}\n",
    "putchar('\\n');\n",
    "return (0);\n",
    "}\n"
   ]
  },
  {
   "cell_type": "code",
   "execution_count": null,
   "metadata": {},
   "outputs": [],
   "source": [
    "%%file 0x01-variables_if_else_while/3-print_alphabets.c\n",
    "#include <stdio.h>\n",
    "#include <stdlib.h>\n",
    "#include <ctype.h>\n",
    "\n",
    "/**\n",
    "* main - Entry point\n",
    "* putchar\n",
    "* Return: Always 0 (sucess)\n",
    "*/\n",
    "\n",
    "int main(void)\n",
    "{\n",
    "int x;\n",
    "int y;\n",
    "for (x = 'a'; x <= 'z'; x++)\n",
    "{\n",
    "putchar(x);\n",
    "}\n",
    "for (x = 'A'; x <= 'Z'; x++)\n",
    "{\n",
    "putchar(x);\n",
    "}\n",
    "putchar('\\n');\n",
    "return (0);\n",
    "}\n"
   ]
  },
  {
   "cell_type": "code",
   "execution_count": 224,
   "metadata": {},
   "outputs": [
    {
     "name": "stdout",
     "output_type": "stream",
     "text": [
      "\n",
      "========== 0x01-variables_if_else_while/3-print_alphabets.c ==========\n"
     ]
    },
    {
     "name": "stdout",
     "output_type": "stream",
     "text": [
      "main\n",
      "abcdefghijklmnopqrstuvwxyzABCDEFGHIJKLMNOPQRSTUVWXYZ\n"
     ]
    }
   ],
   "source": [
    "%%bash\n",
    "betty 0x01-variables_if_else_while/3-print_alphabets.c\n",
    "gcc -Wall -pedantic -Werror -Wextra -std=gnu89 0x01-variables_if_else_while/3-print_alphabets.c -o 0x01-variables_if_else_while/3-print_alphabets\n",
    "./0x01-variables_if_else_while/3-print_alphabets"
   ]
  },
  {
   "cell_type": "code",
   "execution_count": 225,
   "metadata": {},
   "outputs": [
    {
     "name": "stdout",
     "output_type": "stream",
     "text": [
      "[main 7eb55c0] 0x01-variables_if_else_while/3-name\n",
      " 5 files changed, 140 insertions(+), 50 deletions(-)\n",
      " create mode 100755 0x01-variables_if_else_while/3-print_alphabets\n",
      " create mode 100644 0x01-variables_if_else_while/3-print_alphabets.c\n",
      "Enumerating objects: 13, done.\n",
      "Counting objects: 100% (13/13), done.\n",
      "Delta compression using up to 12 threads\n",
      "Compressing objects: 100% (8/8), done.\n",
      "Writing objects: 100% (8/8), 4.13 KiB | 4.13 MiB/s, done.\n",
      "Total 8 (delta 5), reused 0 (delta 0)\n",
      "remote: Resolving deltas: 100% (5/5), completed with 4 local objects.\u001b[K\n",
      "To https://github.com/elkomysara/alx-low_level_programming.git\n",
      "   f5410be..7eb55c0  main -> main\n",
      "Branch 'main' set up to track remote branch 'main' from 'origin'.\n"
     ]
    }
   ],
   "source": [
    "!git add .\n",
    "!git commit -m \"0x01-variables_if_else_while/3-name\"\n",
    "!git push -u origin main"
   ]
  },
  {
   "cell_type": "markdown",
   "metadata": {},
   "source": [
    "### \n",
    "\n",
    "\n",
    "---\n",
    "<center>\n",
    "<h4> 4. When I was having that alphabet soup, I never thought that it would pay off</h4>\n",
    "</center>\n",
    "\n",
    "---"
   ]
  },
  {
   "cell_type": "markdown",
   "metadata": {},
   "source": [
    "#### Write a program that prints the alphabet in lowercase, followed by a new line.\n",
    "\n",
    "Print all the letters except `q` and `e`\n",
    "You can only use the `putchar` function (every other function (`printf`, `puts`, etc…) is forbidden)\n",
    "All your code should be in the `main` function\n",
    "You can only use `putchar` twice in your code\n",
    "\n",
    "```bash\n",
    "julien@ubuntu:~/0x01$ gcc -Wall -pedantic -Werror -Wextra -std=gnu89 4-print_alphabt.c -o 4-print_alphabt\n",
    "julien@ubuntu:~/0x01$ ./4-print_alphabt \n",
    "abcdfghijklmnoprstuvwxyz\n",
    "julien@ubuntu:~/0x01$ ./4-print_alphabt | grep [eq]\n",
    "julien@ubuntu:~/0x01$\n",
    "```\n",
    "\n",
    "#### Repo:\n",
    "* GitHub repository: `alx-low_level_programming`\n",
    "* Directory: `0x01-variables_if_else_while`\n",
    "* File: `4-print_alphabt.c`"
   ]
  },
  {
   "cell_type": "code",
   "execution_count": 256,
   "metadata": {},
   "outputs": [
    {
     "name": "stdout",
     "output_type": "stream",
     "text": [
      "Overwriting 0x01-variables_if_else_while/4-print_alphabt.c\n"
     ]
    }
   ],
   "source": [
    "%%file 0x01-variables_if_else_while/4-print_alphabt.c\n",
    "#include <stdio.h>\n",
    "#include <stdlib.h>\n",
    "#include <ctype.h>\n",
    "\n",
    "/**\n",
    " * main - Entry point\n",
    " *\n",
    " * Return: Always 0 (Success)\n",
    " */\n",
    "int main(void)\n",
    "{\n",
    "int x = 'a';\n",
    "\n",
    "while (x <= 'z')\n",
    "{\n",
    "if (x != 'q' && x != 'e')\n",
    "{\n",
    "putchar(x);\n",
    "}\n",
    "\n",
    "x++;\n",
    "}\n",
    "putchar('\\n');\n",
    "return (0);\n",
    "}"
   ]
  },
  {
   "cell_type": "code",
   "execution_count": 257,
   "metadata": {},
   "outputs": [
    {
     "name": "stdout",
     "output_type": "stream",
     "text": [
      "\n",
      "========== 0x01-variables_if_else_while/4-print_alphabt.c ==========\n",
      "main\n",
      "abcdfghijklmnoprstuvwxyz\n"
     ]
    }
   ],
   "source": [
    "%%bash\n",
    "betty 0x01-variables_if_else_while/4-print_alphabt.c\n",
    "gcc -Wall -pedantic -Werror -Wextra -std=gnu89 0x01-variables_if_else_while/4-print_alphabt.c -o 0x01-variables_if_else_while/4-print_alphabt\n",
    "./0x01-variables_if_else_while/4-print_alphabt"
   ]
  },
  {
   "cell_type": "code",
   "execution_count": 258,
   "metadata": {},
   "outputs": [
    {
     "name": "stdout",
     "output_type": "stream",
     "text": [
      "[main cd19b37] 0x02-shell_redirections/4-lastlines\n",
      " 3 files changed, 101 insertions(+), 41 deletions(-)\n",
      " create mode 100755 0x01-variables_if_else_while/4-print_alphabt\n",
      " create mode 100644 0x01-variables_if_else_while/4-print_alphabt.c\n",
      "Enumerating objects: 9, done.\n",
      "Counting objects: 100% (9/9), done.\n",
      "Delta compression using up to 12 threads\n",
      "Compressing objects: 100% (6/6), done.\n",
      "Writing objects: 100% (6/6), 3.71 KiB | 3.71 MiB/s, done.\n",
      "Total 6 (delta 3), reused 0 (delta 0)\n",
      "remote: Resolving deltas: 100% (3/3), completed with 3 local objects.\u001b[K\n",
      "To https://github.com/elkomysara/alx-low_level_programming.git\n",
      "   7eb55c0..cd19b37  main -> main\n",
      "Branch 'main' set up to track remote branch 'main' from 'origin'.\n"
     ]
    }
   ],
   "source": [
    "!git add .\n",
    "!git commit -m \"0x02-shell_redirections/4-lastlines\"\n",
    "!git push -u origin main"
   ]
  },
  {
   "cell_type": "markdown",
   "metadata": {},
   "source": [
    "### \n",
    "\n",
    "\n",
    "---\n",
    "<center>\n",
    "<h4> 5. Numbers</h4>\n",
    "</center>\n",
    "\n",
    "---"
   ]
  },
  {
   "cell_type": "markdown",
   "metadata": {},
   "source": [
    "##### Write a program that prints all single digit  numbers of base 10 starting from `0`, followed by a new line.\n",
    "* All your code should be in the `main` function\n",
    "\n",
    "```bash\n",
    "julien@ubuntu:~/0x01$ gcc -Wall -pedantic -Werror -Wextra -std=gnu89 5-print_numbers.c -o 5-print_numbers\n",
    "julien@ubuntu:~/0x01$ ./5-print_numbers \n",
    "0123456789\n",
    "julien@ubuntu:~/0x01$  \n",
    "```\n",
    "\n",
    "##### Repo:\n",
    "\n",
    "* GitHub repository: `alx-low_level_programming`\n",
    "* Directory: `0x01-variables_if_else_while`\n",
    "* File: `5-print_numbers.c`"
   ]
  },
  {
   "cell_type": "code",
   "execution_count": 13,
   "metadata": {},
   "outputs": [
    {
     "name": "stdout",
     "output_type": "stream",
     "text": [
      "Overwriting 0x01-variables_if_else_while/5-print_numbers.c\n"
     ]
    }
   ],
   "source": [
    "%%file 0x01-variables_if_else_while/5-print_numbers.c\n",
    "#include <stdio.h>\n",
    "#include <stdlib.h>\n",
    "/**\n",
    "* main - Entry point\n",
    "*\n",
    "* Return: Always 0 (Success)\n",
    "*/\n",
    "int main(void)\n",
    "{\n",
    "int x;\n",
    "for (x = 0; x < 10; x++)\n",
    "{\n",
    "printf(\"%d\", x);\n",
    "}\n",
    "printf(\"\\n\");\n",
    "return (0);\n",
    "}\n",
    "\n"
   ]
  },
  {
   "cell_type": "code",
   "execution_count": 14,
   "metadata": {},
   "outputs": [
    {
     "name": "stdout",
     "output_type": "stream",
     "text": [
      "\n",
      "========== 0x01-variables_if_else_while/5-print_numbers.c ==========\n",
      "main\n",
      "0123456789\n"
     ]
    }
   ],
   "source": [
    "%%bash\n",
    "betty 0x01-variables_if_else_while/5-print_numbers.c\n",
    "gcc -Wall -pedantic -Werror -Wextra -std=gnu89 0x01-variables_if_else_while/5-print_numbers.c -o 0x01-variables_if_else_while/5-print_numbers\n",
    "./0x01-variables_if_else_while/5-print_numbers"
   ]
  },
  {
   "cell_type": "code",
   "execution_count": 15,
   "metadata": {},
   "outputs": [
    {
     "name": "stdout",
     "output_type": "stream",
     "text": [
      "[main b54ea56] 0x01-variables_if_else_while/5-print_numbers.c\n",
      " 3 files changed, 12 insertions(+), 8 deletions(-)\n"
     ]
    },
    {
     "name": "stderr",
     "output_type": "stream",
     "text": [
      "To https://github.com/elkomysara/alx-low_level_programming.git\n",
      "   45e0a4f..b54ea56  main -> main\n"
     ]
    }
   ],
   "source": [
    "%%bash\n",
    "git add .\n",
    "git commit -m \"0x01-variables_if_else_while/5-print_numbers.c\"\n",
    "git push"
   ]
  },
  {
   "cell_type": "markdown",
   "metadata": {},
   "source": [
    "### \n",
    "\n",
    "\n",
    "---\n",
    "<center>\n",
    "<h4> 6. Numberz</h4>\n",
    "</center>\n",
    "\n",
    "---"
   ]
  },
  {
   "cell_type": "markdown",
   "metadata": {},
   "source": [
    "##### Write a program that prints all single digit numbers of base 10 starting from `0`, followed by a new line.\n",
    "\n",
    "You are not allowed to use any variable of type `char`\n",
    "You can only use the `putchar` function (every other function (`printf`, `puts`, etc…) is forbidden)\n",
    "You can only use `putchar` twice in your code\n",
    "All your code should be in the `main` function\n",
    "```bash\n",
    "julien@ubuntu:~/0x01$ gcc -Wall -pedantic -Werror -Wextra -std=gnu89 6-print_numberz.c -o 6-print_numberz\n",
    "julien@ubuntu:~/0x01$ ./6-print_numberz \n",
    "0123456789\n",
    "julien@ubuntu:~/0x01$ \n",
    "\n",
    "```\n",
    "\n",
    "#### Repo:\n",
    "\n",
    "* GitHub repository: `alx-low_level_programming`\n",
    "* Directory: `0x01-variables_if_else_while`\n",
    "* File: `6-print_numberz.c`"
   ]
  },
  {
   "cell_type": "code",
   "execution_count": 25,
   "metadata": {},
   "outputs": [
    {
     "name": "stdout",
     "output_type": "stream",
     "text": [
      "Overwriting 0x01-variables_if_else_while/6-print_numberz.c\n"
     ]
    }
   ],
   "source": [
    "%%file 0x01-variables_if_else_while/6-print_numberz.c\n",
    "#include <stdio.h>\n",
    "/**\n",
    "* main - Entry point\n",
    "*\n",
    "* Return: Always 0 (Success)\n",
    "*/\n",
    "int main(void)\n",
    "{\n",
    "int x;\n",
    "for (x = 0; x < 10; x++)\n",
    "{\n",
    "putchar(x + '0');\n",
    "}\n",
    "putchar('\\n');\n",
    "return (0);\n",
    "}"
   ]
  },
  {
   "cell_type": "code",
   "execution_count": 23,
   "metadata": {},
   "outputs": [
    {
     "name": "stdout",
     "output_type": "stream",
     "text": [
      "Overwriting 0x01-variables_if_else_while/6-print_numberz.c\n"
     ]
    }
   ],
   "source": [
    "%%file 0x01-variables_if_else_while/6-print_numberz.c\n",
    "#include <stdio.h>\n",
    "\n",
    "/**\n",
    " * main - prints all single digit numbers of base 10 starting from 0,\n",
    " * followed by a new line, using putchar \n",
    " * Return: Always 0 (Success)\n",
    " */\n",
    "int main(void)\n",
    "{\n",
    "\tint n;\n",
    "\n",
    "\tfor (n = 48; n < 58; n++)\n",
    "\t{\n",
    "\t\tputchar(n);\n",
    "\t}\n",
    "\tputchar('\\n');\n",
    "\treturn (0);\n",
    "}"
   ]
  },
  {
   "cell_type": "code",
   "execution_count": 26,
   "metadata": {},
   "outputs": [
    {
     "name": "stdout",
     "output_type": "stream",
     "text": [
      "\n",
      "========== 0x01-variables_if_else_while/6-print_numberz.c ==========\n",
      "main\n",
      "0123456789\n"
     ]
    }
   ],
   "source": [
    "%%bash\n",
    "betty 0x01-variables_if_else_while/6-print_numberz.c\n",
    "gcc -Wall -pedantic -Werror -Wextra -std=gnu89 0x01-variables_if_else_while/6-print_numberz.c -o 0x01-variables_if_else_while/6-print_numberz\n",
    "./0x01-variables_if_else_while/6-print_numberz\n"
   ]
  },
  {
   "cell_type": "code",
   "execution_count": 85,
   "metadata": {},
   "outputs": [
    {
     "name": "stdout",
     "output_type": "stream",
     "text": [
      "[main d5f17fa] 0x03-shell_variables_expansions/6-create_local_variable\n",
      " 2 files changed, 8 insertions(+), 6 deletions(-)\n"
     ]
    },
    {
     "name": "stderr",
     "output_type": "stream",
     "text": [
      "To https://github.com/elkomysara/alx-low_level_programming.git\n",
      "   10adcce..d5f17fa  main -> main\n"
     ]
    }
   ],
   "source": [
    "%%bash\n",
    "git add .\n",
    "git commit -m \"0x03-shell_variables_expansions/6-create_local_variable\"\n",
    "git push"
   ]
  },
  {
   "cell_type": "markdown",
   "metadata": {},
   "source": [
    "### \n",
    "\n",
    "\n",
    "---\n",
    "<center>\n",
    "<h4> 7. Smile in the mirror </h4>\n",
    "</center>\n",
    "\n",
    "---"
   ]
  },
  {
   "cell_type": "markdown",
   "metadata": {},
   "source": [
    "##### Write a program that prints the lowercase alphabet in reverse, followed by a new line.\n",
    "\n",
    "* You can only use the `putchar` function (every other function (`printf`, `puts`, etc…) is forbidden)\n",
    "* All your code should be in the `main` function\n",
    "* You can only use `putchar` twice in your code\n",
    "```bash\n",
    "julien@ubuntu:~/0x01$ gcc -Wall -pedantic -Werror -Wextra -std=gnu89 7-print_tebahpla.c -o 7-print_tebahpla\n",
    "julien@ubuntu:~/0x01$ ./7-print_tebahpla\n",
    "zyxwvutsrqponmlkjihgfedcba\n",
    "julien@ubuntu:~/0x01$\n",
    "```\n",
    "#### Repo:\n",
    "\n",
    "* GitHub repository: `alx-low_level_programming`\n",
    "* Directory: `0x01-variables_if_else_while`\n",
    "* File: `7-print_tebahpla.c`"
   ]
  },
  {
   "cell_type": "code",
   "execution_count": 5,
   "metadata": {},
   "outputs": [
    {
     "name": "stdout",
     "output_type": "stream",
     "text": [
      "Overwriting 0x01-variables_if_else_while/7-print_tebahpla.c\n"
     ]
    }
   ],
   "source": [
    "%%file 0x01-variables_if_else_while/7-print_tebahpla.c\n",
    "#include <stdio.h>\n",
    "\n",
    "/**\n",
    " * main - prints the lowercase alphabet in reverse\n",
    " * followed by a new line\n",
    " * Return: Always 0 (Success)\n",
    " */\n",
    "int main(void)\n",
    "{\n",
    "char x;\n",
    "for (x = 'z'; x >= 'a'; x--)\n",
    "{\n",
    "putchar(x);\n",
    "}\n",
    "putchar('\\n');\n",
    "return (0);\n",
    "}"
   ]
  },
  {
   "cell_type": "code",
   "execution_count": 6,
   "metadata": {},
   "outputs": [
    {
     "name": "stdout",
     "output_type": "stream",
     "text": [
      "\n",
      "========== 0x01-variables_if_else_while/7-print_tebahpla.c ==========\n"
     ]
    },
    {
     "name": "stdout",
     "output_type": "stream",
     "text": [
      "main\n",
      "zyxwvutsrqponmlkjihgfedcba\n"
     ]
    }
   ],
   "source": [
    "%%bash\n",
    "betty 0x01-variables_if_else_while/7-print_tebahpla.c\n",
    "gcc -Wall -pedantic -Werror -Wextra -std=gnu89 0x01-variables_if_else_while/7-print_tebahpla.c -o 0x01-variables_if_else_while/7-print_tebahpla\n",
    "./0x01-variables_if_else_while/7-print_tebahpla"
   ]
  },
  {
   "cell_type": "code",
   "execution_count": 7,
   "metadata": {},
   "outputs": [
    {
     "name": "stdout",
     "output_type": "stream",
     "text": [
      "[main bf15c2e] 0x03-shell_variables_expansions/7-create_global_variable\n",
      " 5 files changed, 151 insertions(+), 76 deletions(-)\n",
      " create mode 100755 0x01-variables_if_else_while/6-print_numberz\n",
      " create mode 100644 0x01-variables_if_else_while/6-print_numberz.c\n",
      " create mode 100755 0x01-variables_if_else_while/7-print_tebahpla\n",
      " create mode 100644 0x01-variables_if_else_while/7-print_tebahpla.c\n"
     ]
    },
    {
     "name": "stderr",
     "output_type": "stream",
     "text": [
      "To https://github.com/elkomysara/alx-low_level_programming.git\n",
      "   b54ea56..bf15c2e  main -> main\n"
     ]
    }
   ],
   "source": [
    "%%bash\n",
    "git add .\n",
    "git commit -m \"0x03-shell_variables_expansions/7-create_global_variable\"\n",
    "git push"
   ]
  },
  {
   "cell_type": "markdown",
   "metadata": {},
   "source": [
    "### \n",
    "\n",
    "\n",
    "---\n",
    "<center>\n",
    "<h4> 8.Hexadecimal  </h4>\n",
    "</center>\n",
    "\n",
    "---"
   ]
  },
  {
   "cell_type": "markdown",
   "metadata": {},
   "source": [
    "##### Write a program that prints all the numbers of base 16 in lowercase, followed by a new line.\n",
    "\n",
    "* You can only use the putchar function (every other function (printf, puts, etc…) is forbidden)\n",
    "* All your code should be in the main function\n",
    "* You can only use putchar three times in your code\n",
    "\n",
    "```bash\n",
    "julien@ubuntu:~/0x01$ gcc -Wall -pedantic -Werror -Wextra -std=gnu89 8-print_base16.c -o 8-print_base16\n",
    "julien@ubuntu:~/0x01$ ./8-print_base16\n",
    "0123456789abcdef\n",
    "julien@ubuntu:~/0x01$\n",
    "```\n",
    "\n",
    "#### Repo:\n",
    "\n",
    "* GitHub repository: `alx-low_level_programming`\n",
    "* Directory: `0x01-variables_if_else_while`\n",
    "* File: `8-print_base16.c`\n"
   ]
  },
  {
   "cell_type": "code",
   "execution_count": 33,
   "metadata": {},
   "outputs": [
    {
     "name": "stdout",
     "output_type": "stream",
     "text": [
      "Overwriting 0x01-variables_if_else_while/8-print_base16.c\n"
     ]
    }
   ],
   "source": [
    "%%file 0x01-variables_if_else_while/8-print_base16.c\n",
    "#include <stdio.h>\n",
    "\n",
    "/**\n",
    " * main - prints all\n",
    " * the numbers of base 16 in lowercase,\n",
    " * followed by a new line\n",
    " * Return: Always 0 (Success)\n",
    " */\n",
    "\n",
    "int main(void)\n",
    "{\n",
    "int x;\n",
    "for (x = 0; x <= 9; x++)\n",
    "{\n",
    "putchar(x + '0');\n",
    "}\n",
    "for (x = 'a'; x <= 'f'; x++)\n",
    "{\n",
    "putchar(x);\n",
    "}\n",
    "putchar('\\n');\n",
    "return (0);\n",
    "}"
   ]
  },
  {
   "cell_type": "code",
   "execution_count": 34,
   "metadata": {},
   "outputs": [
    {
     "name": "stdout",
     "output_type": "stream",
     "text": [
      "\n",
      "========== 0x01-variables_if_else_while/8-print_base16.c ==========\n",
      "main\n",
      "0123456789abcdef\n"
     ]
    }
   ],
   "source": [
    "%%bash\n",
    "betty 0x01-variables_if_else_while/8-print_base16.c\n",
    "gcc -Wall -pedantic -Werror -Wextra -std=gnu89 0x01-variables_if_else_while/8-print_base16.c -o 0x01-variables_if_else_while/8-print_base16\n",
    "./0x01-variables_if_else_while/8-print_base16"
   ]
  },
  {
   "cell_type": "code",
   "execution_count": 17,
   "metadata": {},
   "outputs": [
    {
     "name": "stdout",
     "output_type": "stream",
     "text": [
      "[main 28f038a] 0x03-shell_variables_expansions/8-true_knowledge\n",
      " 3 files changed, 72 insertions(+), 29 deletions(-)\n",
      " create mode 100755 0x01-variables_if_else_while/8-print_base16\n",
      " create mode 100644 0x01-variables_if_else_while/8-print_base16.c\n"
     ]
    },
    {
     "name": "stderr",
     "output_type": "stream",
     "text": [
      "To https://github.com/elkomysara/alx-low_level_programming.git\n",
      "   bf15c2e..28f038a  main -> main\n"
     ]
    }
   ],
   "source": [
    "%%bash\n",
    "git add .\n",
    "git commit -m \"0x03-shell_variables_expansions/8-true_knowledge\"\n",
    "git push"
   ]
  },
  {
   "cell_type": "markdown",
   "metadata": {},
   "source": [
    "### \n",
    "\n",
    "\n",
    "---\n",
    "<center>\n",
    "<h4> 9.Patience, persistence and perspiration make an unbeatable combination for success  </h4>\n",
    "</center>\n",
    "\n",
    "---"
   ]
  },
  {
   "cell_type": "markdown",
   "metadata": {},
   "source": [
    "##### Write a program that prints all possible combinations of single-digit numbers.\n",
    "\n",
    "* Numbers must be separated by `,`, followed by a space\n",
    "* Numbers should be printed in ascending order\n",
    "* You can only use the `putchar` function (every other function (`printf`,` puts`, etc…) is forbidden)\n",
    "* All your code should be in the `main` function\n",
    "* You can only use `putchar` four times maximum in your code\n",
    "* You are not allowed to use any variable of type `char`\n",
    "\n",
    "```bash\n",
    "julien@ubuntu:~/0x01$ gcc -Wall -pedantic -Werror -Wextra -std=gnu89 9-print_comb.c -o 9-print_comb\n",
    "julien@ubuntu:~/0x01$ ./9-print_comb | cat -e\n",
    "0, 1, 2, 3, 4, 5, 6, 7, 8, 9$\n",
    "julien@ubuntu:~/0x01$ \n",
    "```\n",
    "\n",
    "#### Repo:\n",
    "\n",
    "* GitHub repository: `alx-low_level_programming`\n",
    "* Directory: `0x01-variables_if_else_while`\n",
    "* File: `9-print_comb.c`\n"
   ]
  },
  {
   "cell_type": "code",
   "execution_count": 32,
   "metadata": {},
   "outputs": [
    {
     "name": "stdout",
     "output_type": "stream",
     "text": [
      "Overwriting 0x01-variables_if_else_while/9-print_comb.c\n"
     ]
    }
   ],
   "source": [
    "%%file 0x01-variables_if_else_while/9-print_comb.c\n",
    "#include <stdio.h>\n",
    "\n",
    "/**\n",
    " * main -  prints all\n",
    " * possible combinations of single-digit numbers.\n",
    " * Return: Always 0 (Success)\n",
    " */\n",
    "\n",
    "int main(void)\n",
    "{\n",
    "int x;\n",
    "x = 0;\n",
    "while (x <= 9)\n",
    "{\n",
    "putchar(x + '0');\n",
    "if (x != 9)\n",
    "{\n",
    "putchar(',');\n",
    "putchar(' ');\n",
    "}\n",
    "x++;\n",
    "}\n",
    "putchar('\\n');\n",
    "return (0);\n",
    "}"
   ]
  },
  {
   "cell_type": "code",
   "execution_count": 34,
   "metadata": {},
   "outputs": [
    {
     "name": "stdout",
     "output_type": "stream",
     "text": [
      "\n",
      "========== 0x01-variables_if_else_while/9-print_comb.c ==========\n",
      "main\n",
      "0, 1, 2, 3, 4, 5, 6, 7, 8, 9\n"
     ]
    }
   ],
   "source": [
    "%%bash\n",
    "betty 0x01-variables_if_else_while/9-print_comb.c\n",
    "gcc -Wall -pedantic -Werror -Wextra -std=gnu89 0x01-variables_if_else_while/9-print_comb.c -o 0x01-variables_if_else_while/9-print_comb\n",
    "./0x01-variables_if_else_while/9-print_comb"
   ]
  },
  {
   "cell_type": "code",
   "execution_count": 35,
   "metadata": {},
   "outputs": [
    {
     "name": "stdout",
     "output_type": "stream",
     "text": [
      "[main e03b4a6] 0x03-shell_variables_expansions/8-true_knowledge\n",
      " 3 files changed, 586 insertions(+), 6 deletions(-)\n",
      " create mode 100755 0x01-variables_if_else_while/9-print_comb\n",
      " create mode 100644 0x01-variables_if_else_while/9-print_comb.c\n"
     ]
    },
    {
     "name": "stderr",
     "output_type": "stream",
     "text": [
      "To https://github.com/elkomysara/alx-low_level_programming.git\n",
      "   28f038a..e03b4a6  main -> main\n"
     ]
    }
   ],
   "source": [
    "%%bash\n",
    "git add .\n",
    "git commit -m \"0x03-shell_variables_expansions/8-true_knowledge\"\n",
    "git push"
   ]
  },
  {
   "cell_type": "markdown",
   "metadata": {},
   "source": [
    "### \n",
    "\n",
    "\n",
    "---\n",
    "<center>\n",
    "<h4> 10. Inventing is a combination of brains and materials. The more brains you use, the less material you need  </h4>\n",
    "</center>\n",
    "\n",
    "---"
   ]
  },
  {
   "cell_type": "markdown",
   "metadata": {},
   "source": [
    "##### Write a program that prints all possible different combinations of two digits.\n",
    "\n",
    "* Numbers must be separated by ,, followed by a space\n",
    "* The two digits must be different\n",
    "* 01 and 10 are considered the same combination of the two digits 0 and 1\n",
    "* Print only the smallest combination of two digits\n",
    "* Numbers should be printed in ascending order, with two digits\n",
    "* You can only use the putchar function (every other function (printf, puts, etc…) is forbidden)\n",
    "* You can only use putchar five times maximum in your code\n",
    "* You are not allowed to use any variable of type char\n",
    "* All your code should be in the main function\n",
    "\n",
    "```bash\n",
    "julien@ubuntu:~/0x01$ gcc -Wall -pedantic -Werror -Wextra -std=gnu89 100-print_comb3.c -o 100-print_comb3\n",
    "julien@ubuntu:~/0x01$ ./100-print_comb3\n",
    "01, 02, 03, 04, 05, 06, 07, 08, 09, 12, 13, 14, 15, 16, 17, 18, 19, 23, 24, 25, 26, 27, 28, 29, 34, 35, 36, 37, 38, 39, 45, 46, 47, 48, 49, 56, 57, 58, 59, 67, 68, 69, 78, 79, 89\n",
    "julien@ubuntu:~/0x01$\n",
    "```\n",
    "\n",
    "#### Repo:\n",
    "\n",
    "* GitHub repository: `alx-low_level_programming`\n",
    "* Directory: `0x01-variables_if_else_while`\n",
    "* File: `100-print_comb3`\n"
   ]
  },
  {
   "cell_type": "code",
   "execution_count": 17,
   "metadata": {},
   "outputs": [
    {
     "name": "stdout",
     "output_type": "stream",
     "text": [
      "Overwriting 0x01-variables_if_else_while/100-print_comb3.c\n"
     ]
    }
   ],
   "source": [
    "%%file 0x01-variables_if_else_while/100-print_comb3.c\n",
    "#include <stdio.h>\n",
    "\n",
    "/**\n",
    " * main - prints all possible\n",
    " * different combinations of two digits.\n",
    " * Return: Always 0 (Success)\n",
    " */\n",
    "\n",
    "int main(void)\n",
    "{\n",
    "int x;\n",
    "int y;\n",
    "\n",
    "y = 0;\n",
    "for (x = 0; x <= 8; x++)\n",
    "{\n",
    "for (y = 1; y <= 9; y++)\n",
    "{\n",
    "if (y > x)\n",
    "{\n",
    "putchar(x + '0');\n",
    "putchar(y + '0');\n",
    "if (x < 8 || y < 9)\n",
    "{\n",
    "putchar(',');\n",
    "putchar(' ');\n",
    "}\n",
    "\n",
    "}\n",
    "\n",
    "}\n",
    "}\n",
    "putchar('\\n');\n",
    "return (0);\n",
    "}"
   ]
  },
  {
   "cell_type": "code",
   "execution_count": 18,
   "metadata": {},
   "outputs": [
    {
     "name": "stdout",
     "output_type": "stream",
     "text": [
      "\n",
      "========== 0x01-variables_if_else_while/100-print_comb3.c ==========\n",
      "main\n",
      "01, 02, 03, 04, 05, 06, 07, 08, 09, 12, 13, 14, 15, 16, 17, 18, 19, 23, 24, 25, 26, 27, 28, 29, 34, 35, 36, 37, 38, 39, 45, 46, 47, 48, 49, 56, 57, 58, 59, 67, 68, 69, 78, 79, 89\n"
     ]
    }
   ],
   "source": [
    "%%bash\n",
    "betty 0x01-variables_if_else_while/100-print_comb3.c\n",
    "gcc -Wall -pedantic -Werror -Wextra -std=gnu89 0x01-variables_if_else_while/100-print_comb3.c -o 0x01-variables_if_else_while/100-print_comb3\n",
    "./0x01-variables_if_else_while/100-print_comb3"
   ]
  },
  {
   "cell_type": "code",
   "execution_count": 19,
   "metadata": {},
   "outputs": [
    {
     "name": "stdout",
     "output_type": "stream",
     "text": [
      "[main 196a13d] 0x03-shell_variables_expansions/8-true_knowledge\n",
      " 3 files changed, 77 insertions(+), 37 deletions(-)\n",
      " create mode 100755 0x01-variables_if_else_while/100-print_comb3\n",
      " create mode 100644 0x01-variables_if_else_while/100-print_comb3.c\n"
     ]
    },
    {
     "name": "stderr",
     "output_type": "stream",
     "text": [
      "To https://github.com/elkomysara/alx-low_level_programming.git\n",
      "   e03b4a6..196a13d  main -> main\n"
     ]
    }
   ],
   "source": [
    "%%bash\n",
    "git add .\n",
    "git commit -m \"0x03-shell_variables_expansions/8-true_knowledge\"\n",
    "git push"
   ]
  },
  {
   "cell_type": "markdown",
   "metadata": {},
   "source": [
    "### \n",
    "\n",
    "\n",
    "---\n",
    "<center>\n",
    "<h4> 11. The success combination in business is: Do what you do better... and: do more of what you do...  </h4>\n",
    "</center>\n",
    "\n",
    "---"
   ]
  },
  {
   "cell_type": "markdown",
   "metadata": {},
   "source": [
    "##### Write a program that prints all possible different combinations of three digits.\n",
    "\n",
    "* Numbers must be separated by `,`, followed by a space\n",
    "* The three digits must be different\n",
    "* `012, 120, 102, 021, 201, 210 `are considered the same combination of the three digits `0`, `1` and `2`\n",
    "* Print only the smallest combination of three digits\n",
    "* Numbers should be printed in ascending order, with three digits\n",
    "* You can only use the putchar function (every other function (`printf, puts,` etc…) is forbidden)\n",
    "* You can only use `putchar` six times maximum in your code\n",
    "* You are not allowed to use any variable of type `char`\n",
    "* All your code should be in the `main` function\n",
    "\n",
    "```bash\n",
    "julien@ubuntu:~/0x01$ gcc -Wall -pedantic -Werror -Wextra -std=gnu89 101-print_comb4.c -o 101-print_comb4\n",
    "julien@ubuntu:~/0x01$ ./101-print_comb4\n",
    "012, 013, 014, 015, 016, 017, 018, 019, 023, 024, 025, 026, 027, 028, 029, 034, 035, 036, 037, 038, 039, 045, 046, 047, 048, 049, 056, 057, 058, 059, 067, 068, 069, 078, 079, 089, 123, 124, 125, 126, 127, 128, 129, 134, 135, 136, 137, 138, 139, 145, 146, 147, 148, 149, 156, 157, 158, 159, 167, 168, 169, 178, 179, 189, 234, 235, 236, 237, 238, 239, 245, 246, 247, 248, 249, 256, 257, 258, 259, 267, 268, 269, 278, 279, 289, 345, 346, 347, 348, 349, 356, 357, 358, 359, 367, 368, 369, 378, 379, 389, 456, 457, 458, 459, 467, 468, 469, 478, 479, 489, 567, 568, 569, 578, 579, 589, 678, 679, 689, 789\n",
    "julien@ubuntu:~/0x01$\n",
    "```\n",
    "\n",
    "#### Repo:\n",
    "\n",
    "* GitHub repository: `alx-low_level_programming`\n",
    "* Directory: `0x01-variables_if_else_while`\n",
    "* File: `101-print_comb4.c`\n"
   ]
  },
  {
   "cell_type": "code",
   "execution_count": 35,
   "metadata": {},
   "outputs": [
    {
     "name": "stdout",
     "output_type": "stream",
     "text": [
      "Writing 0x01-variables_if_else_while/101-print_comb4.c\n"
     ]
    }
   ],
   "source": [
    "%%file 0x01-variables_if_else_while/101-print_comb4.c\n",
    "#include <stdio.h>\n",
    "\n",
    "/**\n",
    " * main - prints all possible\n",
    " * different combinations of two digits.\n",
    " * Return: Always 0 (Success)\n",
    " */\n",
    "\n",
    "int main(void)\n",
    "{\n",
    "int x;\n",
    "int y;\n",
    "int z;\n",
    "\n",
    "y = 0;\n",
    "for (x = 0; x <= 7; x++)\n",
    "{\n",
    "for (y = 1; y <= 8; y++)\n",
    "{\n",
    "for (z = 2; z <= 9; z++)\n",
    "{\n",
    "if (z > y && y > x)\n",
    "{\n",
    "putchar(x + '0');\n",
    "putchar(y + '0');\n",
    "putchar(z + '0');\n",
    "if (x < 7 || y < 8 || z < 9)\n",
    "{\n",
    "putchar(',');\n",
    "putchar(' ');\n",
    "}\n",
    "}\n",
    "}\n",
    "}\n",
    "}\n",
    "putchar('\\n');\n",
    "return (0);\n",
    "}"
   ]
  },
  {
   "cell_type": "code",
   "execution_count": 36,
   "metadata": {},
   "outputs": [
    {
     "name": "stdout",
     "output_type": "stream",
     "text": [
      "\n",
      "========== 0x01-variables_if_else_while/101-print_comb4.c ==========\n",
      "main\n",
      "012, 013, 014, 015, 016, 017, 018, 019, 023, 024, 025, 026, 027, 028, 029, 034, 035, 036, 037, 038, 039, 045, 046, 047, 048, 049, 056, 057, 058, 059, 067, 068, 069, 078, 079, 089, 123, 124, 125, 126, 127, 128, 129, 134, 135, 136, 137, 138, 139, 145, 146, 147, 148, 149, 156, 157, 158, 159, 167, 168, 169, 178, 179, 189, 234, 235, 236, 237, 238, 239, 245, 246, 247, 248, 249, 256, 257, 258, 259, 267, 268, 269, 278, 279, 289, 345, 346, 347, 348, 349, 356, 357, 358, 359, 367, 368, 369, 378, 379, 389, 456, 457, 458, 459, 467, 468, 469, 478, 479, 489, 567, 568, 569, 578, 579, 589, 678, 679, 689, 789\n"
     ]
    }
   ],
   "source": [
    "%%bash\n",
    "betty 0x01-variables_if_else_while/101-print_comb4.c\n",
    "gcc -Wall -pedantic -Werror -Wextra -std=gnu89 0x01-variables_if_else_while/101-print_comb4.c -o 0x01-variables_if_else_while/101-print_comb4\n",
    "./0x01-variables_if_else_while/101-print_comb4"
   ]
  },
  {
   "cell_type": "code",
   "execution_count": 37,
   "metadata": {},
   "outputs": [
    {
     "name": "stdout",
     "output_type": "stream",
     "text": [
      "[main 64a3abb] 0x01-variables_if_else_while/101-print_comb4.c\n",
      " 4 files changed, 23 insertions(+), 38 deletions(-)\n",
      " create mode 100755 0x01-variables_if_else_while/101-print_comb4\n",
      " copy 0x01-variables_if_else_while/{8-print_base16.c => 101-print_comb4.c} (100%)\n",
      " rewrite 0x01-variables_if_else_while/8-print_base16.c (67%)\n"
     ]
    },
    {
     "name": "stderr",
     "output_type": "stream",
     "text": [
      "To https://github.com/elkomysara/alx-low_level_programming.git\n",
      "   859f0ac..64a3abb  main -> main\n"
     ]
    }
   ],
   "source": [
    "%%bash\n",
    "git add .\n",
    "git commit -m \"0x01-variables_if_else_while/101-print_comb4.c\"\n",
    "git push"
   ]
  },
  {
   "cell_type": "markdown",
   "metadata": {},
   "source": [
    "### \n",
    "\n",
    "\n",
    "---\n",
    "<center>\n",
    "<h4> 12. Software is eating the World  </h4>\n",
    "</center>\n",
    "\n",
    "---"
   ]
  },
  {
   "cell_type": "markdown",
   "metadata": {},
   "source": [
    "##### Write a program that prints all possible combinations of two two-digit numbers.\n",
    "\n",
    "* The numbers should range from `0` to `99`\n",
    "* The two numbers should be separated by a space\n",
    "* All numbers should be printed with two digits. `1` should be printed as `01`\n",
    "* The combination of numbers must be separated by comma, followed by a space\n",
    "* The combinations of numbers should be printed in ascending order\n",
    "* `00 01` and `01 00` are considered as the same combination of the numbers `0` and `1`\n",
    "* You can only use the `putchar` function (every other function (`printf, puts`, etc…) is forbidden)\n",
    "* You can only use `putchar `eight times maximum in your code\n",
    "* You are not allowed to use any variable of type `char`\n",
    "* All your code should be in the `main `function\n",
    "\n",
    "```bash\n",
    "julien@ubuntu:~/0x01$ gcc -Wall -pedantic -Werror -Wextra -std=gnu89 102-print_comb5.c -o 102-print_comb5\n",
    "julien@ubuntu:~/0x01$ ./102-print_comb5\n",
    "00 01, 00 02, 00 03, 00 04, 00 05, 00 06, 00 07, 00 08, 00 09, 00 10, 00 11, [...] 40 91, 40 92, 40 93, 40 94, 40 95, 40 96, 40 97, 40 98, 40 99, 41 42, 41 43, 41 44, 41 45, 41 46, 41 47, 41 48, 41 49, 41 50, 41 51, 41 52, 41 53 [...] 93 95, 93 96, 93 97, 93 98, 93 99, 94 95, 94 96, 94 97, 94 98, 94 99, 95 96, 95 97, 95 98, 95 99, 96 97, 96 98, 96 99, 97 98, 97 99, 98 99\n",
    "```\n",
    "\n",
    "#### Repo:\n",
    "\n",
    "* GitHub repository: `alx-low_level_programming`\n",
    "* Directory: `0x01-variables_if_else_while`\n",
    "* File: `102-print_comb5.c`\n"
   ]
  },
  {
   "cell_type": "code",
   "execution_count": 68,
   "metadata": {},
   "outputs": [
    {
     "name": "stdout",
     "output_type": "stream",
     "text": [
      "Overwriting 0x01-variables_if_else_while/102-print_comb5.c\n"
     ]
    }
   ],
   "source": [
    "%%file 0x01-variables_if_else_while/102-print_comb5.c\n",
    "#include <stdio.h>\n",
    "\n",
    "/**\n",
    " * main - prints all\n",
    " * the numbers of base 16 in lowercase,\n",
    " * followed by a new line\n",
    " * Return: Always 0 (Success)\n",
    " */\n",
    "\n",
    "int main(void)\n",
    "{\n",
    "\n",
    "int x;\n",
    "int y;\n",
    "\n",
    "for (x = 0; x <= 98; x++)\n",
    "{\n",
    "for (y = x + 1; y <= 99; y++)\n",
    "{\n",
    "putchar((x / 10) + '0');\n",
    "putchar((x % 10) + '0');\n",
    "putchar(' ');\n",
    "putchar((y / 10) + '0');\n",
    "putchar((y % 10) + '0');\n",
    "if (x != 98 || y != 99)\n",
    "{\n",
    "putchar(',');\n",
    "putchar(' ');\n",
    "}\n",
    "\n",
    "}\n",
    "}\n",
    "\n",
    "putchar('\\n');\n",
    "return (0);\n",
    "}"
   ]
  },
  {
   "cell_type": "code",
   "execution_count": 69,
   "metadata": {},
   "outputs": [
    {
     "name": "stdout",
     "output_type": "stream",
     "text": [
      "\n",
      "========== 0x01-variables_if_else_while/102-print_comb5.c ==========\n",
      "main\n",
      "4950 comb.txt\n",
      "4950\n"
     ]
    }
   ],
   "source": [
    "%%bash\n",
    "betty 0x01-variables_if_else_while/102-print_comb5.c\n",
    "gcc -Wall -pedantic -Werror -Wextra -std=gnu89 0x01-variables_if_else_while/102-print_comb5.c -o 0x01-variables_if_else_while/102-print_comb5\n",
    "./0x01-variables_if_else_while/102-print_comb5 | tr ',' '\\n' > comb.txt\n",
    "wc -l comb.txt\n",
    "echo $((50*99))\n",
    "sed -n '4951p' comb.txt"
   ]
  },
  {
   "cell_type": "code",
   "execution_count": 70,
   "metadata": {},
   "outputs": [
    {
     "name": "stdout",
     "output_type": "stream",
     "text": [
      "[main 43282e3] 0x03-shell_variables_expansions/8-true_knowledge\n",
      " 4 files changed, 18 insertions(+), 19 deletions(-)\n"
     ]
    },
    {
     "name": "stderr",
     "output_type": "stream",
     "text": [
      "To https://github.com/elkomysara/alx-low_level_programming.git\n",
      "   86145fa..43282e3  main -> main\n"
     ]
    }
   ],
   "source": [
    "%%bash\n",
    "git add .\n",
    "git commit -m \"0x03-shell_variables_expansions/8-true_knowledge\"\n",
    "git push"
   ]
  },
  {
   "cell_type": "code",
   "execution_count": null,
   "metadata": {},
   "outputs": [],
   "source": []
  }
 ],
 "metadata": {
  "kernelspec": {
   "display_name": "Python 3",
   "language": "python",
   "name": "python3"
  },
  "language_info": {
   "codemirror_mode": {
    "name": "ipython",
    "version": 3
   },
   "file_extension": ".py",
   "mimetype": "text/x-python",
   "name": "python",
   "nbconvert_exporter": "python",
   "pygments_lexer": "ipython3",
   "version": "3.11.7"
  }
 },
 "nbformat": 4,
 "nbformat_minor": 2
}
