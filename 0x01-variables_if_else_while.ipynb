{
 "cells": [
  {
   "cell_type": "markdown",
   "metadata": {},
   "source": [
    "---\n",
    "<center>\n",
    "<h1>  alx-low_level_programming </h1>\n",
    "</center>\n",
    "\n",
    "---\n"
   ]
  },
  {
   "cell_type": "code",
   "execution_count": 2,
   "metadata": {},
   "outputs": [
    {
     "name": "stdout",
     "output_type": "stream",
     "text": [
      "Writing README.md\n"
     ]
    }
   ],
   "source": [
    "%%file README.md\n",
    "## alx-low_level_programming"
   ]
  },
  {
   "cell_type": "code",
   "execution_count": 1,
   "metadata": {},
   "outputs": [
    {
     "data": {
      "text/plain": [
       "'/home/elkomy/alx-low_level_programming'"
      ]
     },
     "execution_count": 1,
     "metadata": {},
     "output_type": "execute_result"
    }
   ],
   "source": [
    "%pwd"
   ]
  },
  {
   "cell_type": "code",
   "execution_count": 1,
   "metadata": {},
   "outputs": [],
   "source": [
    "import os\n",
    "# creating 0x02-shell_redirectionss\n",
    "\n",
    "folder_path = r'/home/elkomy/alx-low_level_programming/0x01-variables_if_else_while'\n",
    "if not os.path.exists(folder_path):\n",
    "    os.makedirs(folder_path)\n",
    "\n",
    "# Create a README.md inside alx-low_level_programming/0x01-variables_if_else_while\n",
    "file_path = os.path.join(folder_path, 'README.md')\n",
    "\n",
    "with open(file_path, 'w') as file:\n",
    "    file.write(\"This is a README.md file inside alx-low_level_programming/0x01-variables_if_else_while\")\n",
    "\n"
   ]
  },
  {
   "cell_type": "code",
   "execution_count": 4,
   "metadata": {},
   "outputs": [
    {
     "name": "stdout",
     "output_type": "stream",
     "text": [
      "/home/elkomy/alx-low_level_programming\n"
     ]
    }
   ],
   "source": [
    "!pwd"
   ]
  },
  {
   "cell_type": "code",
   "execution_count": 2,
   "metadata": {},
   "outputs": [
    {
     "name": "stdout",
     "output_type": "stream",
     "text": [
      "Overwriting /home/elkomy/alx-low_level_programming/0x01-variables_if_else_while/README.md\n"
     ]
    }
   ],
   "source": [
    "%%file /home/elkomy/alx-low_level_programming/0x01-variables_if_else_while/README.md\n",
    "This is a README.md"
   ]
  },
  {
   "cell_type": "markdown",
   "metadata": {},
   "source": [
    "###\n",
    "---\n",
    "<center>\n",
    "<h1> 0x01-variables_if_else_while  </h1>\n",
    "</center>\n",
    "\n",
    "---\n"
   ]
  },
  {
   "cell_type": "markdown",
   "metadata": {},
   "source": [
    "###\n",
    "---\n",
    "<center>\n",
    "<h4> 0-positive_or_negative.c </h4>\n",
    "</center>\n",
    "\n",
    "---"
   ]
  },
  {
   "cell_type": "markdown",
   "metadata": {},
   "source": [
    "\n",
    "#### This program will assign a random number to the variable n each time it is executed. Complete the source code in order to print whether the number stored in the variable n is positive or negative.\n",
    "\n",
    "* You can find the source code [here](https://github.com/alx-tools/0x01.c/blob/master/0-positive_or_negative_c)\n",
    "* The variable n will store a different value every time you will run this program\n",
    "* You don’t have to understand what rand, srand, RAND_MAX do. Please do not touch this code\n",
    "* The output of the program should be:\n",
    "* The number, followed by\n",
    "    * if the number is greater than 0: is positive\n",
    "    * if the number is 0: is zero\n",
    "    * if the number is less than 0: is negative\n",
    "    followed by a new line\n",
    "\n",
    "```bash\n",
    "julien@ubuntu:~/0x01$ gcc -Wall -pedantic -Werror -Wextra -std=gnu89 0-positive_or_negative.c -o 0-positive_or_negative\n",
    "julien@ubuntu:~/0x01$ ./0-positive_or_negative \n",
    "-520693284 is negative\n",
    "julien@ubuntu:~/0x01$ ./0-positive_or_negative \n",
    "-973398895 is negative\n",
    "julien@ubuntu:~/0x01$ ./0-positive_or_negative \n",
    "-199220452 is negative\n",
    "julien@ubuntu:~/0x01$ ./0-positive_or_negative \n",
    "561319348 is positive\n",
    "julien@ubuntu:~/0x01$ ./0-positive_or_negative \n",
    "561319348 is positive\n",
    "julien@ubuntu:~/0x01$ ./0-positive_or_negative \n",
    "266853958 is positive\n",
    "julien@ubuntu:~/0x01$ ./0-positive_or_negative \n",
    "-48147767 is negative\n",
    "julien@ubuntu:~/0x01$ ./0-positive_or_negative \n",
    "0 is zero\n",
    "julien@ubuntu:~/0x01$ \n",
    "```\n",
    "\n",
    "\n",
    "#### Repo:\n",
    "* GitHub repository: ``` alx-low_level_programming ```\n",
    "* Directory: ```0x01-variables_if_else_while``` \n",
    "* File: ```0-positive_or_negative.c```"
   ]
  },
  {
   "cell_type": "code",
   "execution_count": 42,
   "metadata": {},
   "outputs": [
    {
     "name": "stdout",
     "output_type": "stream",
     "text": [
      "Overwriting 0x01-variables_if_else_while/0-positive_or_negative.c\n"
     ]
    }
   ],
   "source": [
    "%%file 0x01-variables_if_else_while/0-positive_or_negative.c\n",
    "#include <stdlib.h>\n",
    "#include <time.h>\n",
    "#include <stdio.h>\n",
    "\n",
    "/**\n",
    " * main - Entry point\n",
    " *\n",
    " * Return: Always 0 (Success)\n",
    " */\n",
    "\n",
    "int main(void)\n",
    "{\n",
    "int n;\n",
    "\n",
    "srand(time(0));\n",
    "n = rand() - RAND_MAX / 2;\n",
    "printf(\"%d \", n);\n",
    "if (n > 0)\n",
    "{\n",
    "printf(\"is positive\\n\");\n",
    "}\n",
    "else if (n < 0)\n",
    "{\n",
    "printf(\"is negative\\n\");\n",
    "}\n",
    "else\n",
    "{\n",
    "printf(\"is zero\\n\");\n",
    "}\n",
    "return (0);\n",
    "}"
   ]
  },
  {
   "cell_type": "code",
   "execution_count": 44,
   "metadata": {},
   "outputs": [
    {
     "name": "stdout",
     "output_type": "stream",
     "text": [
      "\n",
      "========== 0x01-variables_if_else_while/0-positive_or_negative.c ==========\n",
      "main\n"
     ]
    }
   ],
   "source": [
    "!betty 0x01-variables_if_else_while/0-positive_or_negative.c"
   ]
  },
  {
   "cell_type": "code",
   "execution_count": 45,
   "metadata": {},
   "outputs": [],
   "source": [
    "%%bash\n",
    "gcc -Wall -pedantic -Werror -Wextra -std=gnu89 0x01-variables_if_else_while/0-positive_or_negative.c -o 0x01-variables_if_else_while/0-positive_or_negative"
   ]
  },
  {
   "cell_type": "code",
   "execution_count": 46,
   "metadata": {},
   "outputs": [
    {
     "name": "stdout",
     "output_type": "stream",
     "text": [
      "-644688801 is negative\n"
     ]
    }
   ],
   "source": [
    "!./0x01-variables_if_else_while/0-positive_or_negative"
   ]
  },
  {
   "cell_type": "code",
   "execution_count": 47,
   "metadata": {},
   "outputs": [
    {
     "name": "stdout",
     "output_type": "stream",
     "text": [
      "[main 47b41e8] 0x01-variables_if_else_while/\n",
      " 1 file changed, 17 insertions(+), 16 deletions(-)\n",
      "Enumerating objects: 5, done.\n",
      "Counting objects: 100% (5/5), done.\n",
      "Delta compression using up to 12 threads\n",
      "Compressing objects: 100% (3/3), done.\n",
      "Writing objects: 100% (3/3), 569 bytes | 569.00 KiB/s, done.\n",
      "Total 3 (delta 2), reused 0 (delta 0)\n",
      "remote: Resolving deltas: 100% (2/2), completed with 2 local objects.\u001b[K\n",
      "To https://github.com/elkomysara/alx-low_level_programming.git\n",
      "   24a68be..47b41e8  main -> main\n",
      "Branch 'main' set up to track remote branch 'main' from 'origin'.\n"
     ]
    }
   ],
   "source": [
    "\n",
    "!git add .\n",
    "!git commit -m \"0x01-variables_if_else_while/\"\n",
    "!git push -u origin main"
   ]
  },
  {
   "cell_type": "markdown",
   "metadata": {},
   "source": [
    "###\n",
    "---\n",
    "<center>\n",
    "<h4> 1. The last digit </h4>\n",
    "</center>\n",
    "\n",
    "---\n"
   ]
  },
  {
   "cell_type": "markdown",
   "metadata": {},
   "source": [
    "##### This program will assign a random number to the variable `n` each time it is executed. Complete the source code in order to print the last digit of the number stored in the variable `n`.\n",
    "\n",
    "* You can find the source code [here](https://github.com/alx-tools/0x01.c/blob/master/1-last_digit_c)\n",
    "* The variable n will store a different value every time you run this program\n",
    "* You don’t have to understand what `rand`, `srand`, and `RAND_MAX` do. Please do not touch this code\n",
    "* The output of the program should be:\n",
    "    * The string `Last digit of`, followed by\n",
    "    * `n`, followed by\n",
    "    * the string `is`, followed by\n",
    "        * if the last digit of `n` is greater than 5: the string `and is greater than 5`\n",
    "        * if the last digit of `n` is 0: the string `and is 0`\n",
    "        * if the last digit of `n` is less than 6 and not 0: the string `and is less than 6 and not 0`\n",
    "    * followed by a new line\n",
    "```bash\n",
    "julien@ubuntu:~/0x01$ gcc -Wall -pedantic -Werror -Wextra -std=gnu89 1-last_digit.c -o 1-last_digit\n",
    "julien@ubuntu:~/0x01$ ./1-last_digit \n",
    "Last digit of 629438752 is 2 and is less than 6 and not 0\n",
    "julien@ubuntu:~/0x01$ ./1-last_digit \n",
    "Last digit of -748255693 is -3 and is less than 6 and not 0\n",
    "julien@ubuntu:~/0x01$ ./1-last_digit \n",
    "Last digit of -1052791662 is -2 and is less than 6 and not 0\n",
    "julien@ubuntu:~/0x01$ ./1-last_digit \n",
    "Last digit of -284805734 is -4 and is less than 6 and not 0\n",
    "julien@ubuntu:~/0x01$ ./1-last_digit \n",
    "Last digit of -284805734 is -4 and is less than 6 and not 0\n",
    "julien@ubuntu:~/0x01$ ./1-last_digit \n",
    "Last digit of 491506926 is 6 and is greater than 5\n",
    "julien@ubuntu:~/0x01$ ./1-last_digit \n",
    "Last digit of 954249937 is 7 and is greater than 5\n",
    "julien@ubuntu:~/0x01$ ./1-last_digit \n",
    "Last digit of 652334952 is 2 and is less than 6 and not 0\n",
    "julien@ubuntu:~/0x01$ ./1-last_digit \n",
    "Last digit of -729688197 is -7 and is less than 6 and not 0\n",
    "julien@ubuntu:~/0x01$ ./1-last_digit \n",
    "Last digit of -729688197 is -7 and is less than 6 and not 0\n",
    "julien@ubuntu:~/0x01$ ./1-last_digit \n",
    "Last digit of 45528266 is 6 and is greater than 5\n",
    "julien@ubuntu:~/0x01$ ./1-last_digit \n",
    "Last digit of 45528266 is 6 and is greater than 5\n",
    "julien@ubuntu:~/0x01$ ./1-last_digit \n",
    "Last digit of 809065140 is 0 and is 0\n",
    "julien@ubuntu:~/0x01$\n",
    "```\n",
    "\n",
    "* Repo:\n",
    "\n",
    "    * GitHub repository: <code > alx-low_level_programming </code>\n",
    "    * Directory: <code > 0x01-variables_if_else_while </code>\n",
    "    * File: <code >  1-last_digit.c </code>\n",
    "   "
   ]
  },
  {
   "cell_type": "code",
   "execution_count": 97,
   "metadata": {},
   "outputs": [
    {
     "name": "stdout",
     "output_type": "stream",
     "text": [
      "Overwriting 0x01-variables_if_else_while/1-last_digit.c\n"
     ]
    }
   ],
   "source": [
    "%%file 0x01-variables_if_else_while/1-last_digit.c\n",
    "#include <stdlib.h>\n",
    "#include <time.h>\n",
    "#include <stdio.h>\n",
    "\n",
    "/**\n",
    " * main - Entry point\n",
    " *\n",
    " * Return: Always 0 (Success)\n",
    " */\n",
    "int main(void)\n",
    "{\n",
    "int n;\n",
    "\n",
    "srand(time(0));\n",
    "n = rand() - RAND_MAX / 2;\n",
    "/* your code goes there */\n",
    "printf(\"Last digit of %d is %d \", n, n % 10);\n",
    "if (n % 10 < 6 && n % 10  != 0)\n",
    "{\n",
    "printf(\"and is less than 6 and not 0\\n\");\n",
    "}\n",
    "else if (n % 10 > 5 && n % 10 != 0)\n",
    "{\n",
    "printf(\"and is greater than 5\\n\");\n",
    "}\n",
    "else\n",
    "{\n",
    "printf(\"and is 0\\n\");\n",
    "}\n",
    "return (0);\n",
    "}"
   ]
  },
  {
   "cell_type": "code",
   "execution_count": 98,
   "metadata": {},
   "outputs": [
    {
     "name": "stdout",
     "output_type": "stream",
     "text": [
      "\n",
      "========== 0x01-variables_if_else_while/1-last_digit.c ==========\n",
      "main\n"
     ]
    }
   ],
   "source": [
    "!betty 0x01-variables_if_else_while/1-last_digit.c"
   ]
  },
  {
   "cell_type": "code",
   "execution_count": 99,
   "metadata": {},
   "outputs": [
    {
     "name": "stdout",
     "output_type": "stream",
     "text": [
      "Last digit of -794466804 is -4 and is less than 6 and not 0\n"
     ]
    }
   ],
   "source": [
    "%%bash\n",
    "gcc -Wall -pedantic -Werror -Wextra -std=gnu89 0x01-variables_if_else_while/1-last_digit.c -o 0x01-variables_if_else_while/1-last_digit\n",
    "./0x01-variables_if_else_while/1-last_digit"
   ]
  },
  {
   "cell_type": "code",
   "execution_count": 100,
   "metadata": {},
   "outputs": [
    {
     "name": "stdout",
     "output_type": "stream",
     "text": [
      "[main 6a91912] 0x03-shell_variables_expansions/1-hello_you\n",
      " 3 files changed, 11 insertions(+), 11 deletions(-)\n",
      "Enumerating objects: 11, done.\n",
      "Counting objects: 100% (11/11), done.\n",
      "Delta compression using up to 12 threads\n",
      "Compressing objects: 100% (6/6), done.\n",
      "Writing objects: 100% (6/6), 995 bytes | 995.00 KiB/s, done.\n",
      "Total 6 (delta 5), reused 0 (delta 0)\n",
      "remote: Resolving deltas: 100% (5/5), completed with 5 local objects.\u001b[K\n",
      "To https://github.com/elkomysara/alx-low_level_programming.git\n",
      "   8d78d36..6a91912  main -> main\n",
      "Branch 'main' set up to track remote branch 'main' from 'origin'.\n"
     ]
    }
   ],
   "source": [
    "\n",
    "!git add .\n",
    "!git commit -m \"0x03-shell_variables_expansions/1-hello_you\"\n",
    "!git push -u origin main"
   ]
  },
  {
   "cell_type": "markdown",
   "metadata": {},
   "source": [
    "###\n",
    "---\n",
    "<center>\n",
    "<h4> 2. I sometimes suffer from insomnia. And when I can't fall asleep, I play what I call the alphabet game</h4>\n",
    "</center>\n",
    "\n",
    "---"
   ]
  },
  {
   "cell_type": "markdown",
   "metadata": {},
   "source": [
    "#### Write a program that prints the alphabet in lowercase, followed by a new line.\n",
    "\n",
    "* You can only use the putchar function (every other function (printf, puts, etc…) is forbidden)\n",
    "* All your code should be in the main function\n",
    "* You can only use putchar twice in your code\n",
    "\n",
    "```bash\n",
    " julien@ubuntu:~/0x01$ gcc -Wall -pedantic -Werror -Wextra -std=gnu89 2-print_alphabet.c -o 2-print_alphabet\n",
    "julien@ubuntu:~/0x01$ ./2-print_alphabet \n",
    "abcdefghijklmnopqrstuvwxyz\n",
    "julien@ubuntu:~/0x01$\n",
    "```\n",
    "\n",
    "\n",
    "#### Repo:\n",
    "* GitHub repository:   <code>alx-low_level_programming </code>\n",
    "* Directory:   <code> 0x01-variables_if_else_while </code>\n",
    "* File:   <code> 2-print_alphabet.c</code>"
   ]
  },
  {
   "cell_type": "code",
   "execution_count": 164,
   "metadata": {},
   "outputs": [
    {
     "name": "stdout",
     "output_type": "stream",
     "text": [
      "Overwriting 0x01-variables_if_else_while/print_alphabet.c\n"
     ]
    }
   ],
   "source": [
    "%%file 0x01-variables_if_else_while/print_alphabet.c\n",
    "#include <stdlib.h>\n",
    "#include <stdio.h>\n",
    "#include <ctype.h>\n",
    "\n",
    "/**\n",
    "* main - Entry point\n",
    "* putchar\n",
    "* Return: Always 0 (sucess)\n",
    "*/\n",
    "\n",
    "int main(void)\n",
    "{\n",
    "int x;\n",
    "int y;\n",
    "for (x = 'A'; x <= 'Z'; x++)\n",
    "{\n",
    "printf(\"%c\\n\", tolower(x));\n",
    "}\n",
    "for (y = 'a'; y <= 'z'; y++)\n",
    "{\n",
    "printf(\"%c\\n\", toupper(y));\n",
    "}\n",
    "return (0);\n",
    "}\n"
   ]
  },
  {
   "cell_type": "code",
   "execution_count": 165,
   "metadata": {},
   "outputs": [
    {
     "name": "stdout",
     "output_type": "stream",
     "text": [
      "\n",
      "========== 0x01-variables_if_else_while/print_alphabet.c ==========\n",
      "main\n",
      "a\n",
      "b\n",
      "c\n",
      "d\n",
      "e\n",
      "f\n",
      "g\n",
      "h\n",
      "i\n",
      "j\n",
      "k\n",
      "l\n",
      "m\n",
      "n\n",
      "o\n",
      "p\n",
      "q\n",
      "r\n",
      "s\n",
      "t\n",
      "u\n",
      "v\n",
      "w\n",
      "x\n",
      "y\n",
      "z\n",
      "A\n",
      "B\n",
      "C\n",
      "D\n",
      "E\n",
      "F\n",
      "G\n",
      "H\n",
      "I\n",
      "J\n",
      "K\n",
      "L\n",
      "M\n",
      "N\n",
      "O\n",
      "P\n",
      "Q\n",
      "R\n",
      "S\n",
      "T\n",
      "U\n",
      "V\n",
      "W\n",
      "X\n",
      "Y\n",
      "Z\n"
     ]
    }
   ],
   "source": [
    "%%bash\n",
    "betty 0x01-variables_if_else_while/print_alphabet.c\n",
    "gcc -Wall -pedantic -Werror -Wextra -std=gnu89 0x01-variables_if_else_while/print_alphabet.c -o 0x01-variables_if_else_while/print_alphabet\n",
    "./0x01-variables_if_else_while/print_alphabet"
   ]
  },
  {
   "cell_type": "code",
   "execution_count": 172,
   "metadata": {},
   "outputs": [
    {
     "name": "stdout",
     "output_type": "stream",
     "text": [
      "Overwriting 0x01-variables_if_else_while/EoF.c\n"
     ]
    }
   ],
   "source": [
    "%%file 0x01-variables_if_else_while/EoF.c\n",
    "#include <stdio.h>\n",
    "#include <ctype.h>\n",
    "\n",
    "/**\n",
    "* main - Entry point\n",
    "* putchar\n",
    "* Return: Always 0 (sucess)\n",
    "*/\n",
    "\n",
    "int main(void)\n",
    "{\n",
    "int ch;\n",
    "\n",
    "/* Read characters until EOF is encountered */\n",
    "while ((ch = getchar()) != EOF)\n",
    "{\n",
    "/* Convert to uppercase and print */\n",
    "putchar(toupper(ch));\n",
    "putchar('\\n'); /* Add a newline to flush the output buffer */\n",
    "}\n",
    "\n",
    "return (0);\n",
    "}"
   ]
  },
  {
   "cell_type": "code",
   "execution_count": 173,
   "metadata": {},
   "outputs": [
    {
     "name": "stdout",
     "output_type": "stream",
     "text": [
      "\n",
      "========== 0x01-variables_if_else_while/EoF.c ==========\n",
      "main\n"
     ]
    }
   ],
   "source": [
    "%%bash\n",
    "betty 0x01-variables_if_else_while/EoF.c\n",
    "gcc -Wall -pedantic -Werror -Wextra -std=gnu89 0x01-variables_if_else_while/EoF.c -o 0x01-variables_if_else_while/EoF\n"
   ]
  },
  {
   "cell_type": "code",
   "execution_count": 175,
   "metadata": {},
   "outputs": [
    {
     "name": "stdout",
     "output_type": "stream",
     "text": [
      "^C\n"
     ]
    }
   ],
   "source": [
    "!./0x01-variables_if_else_while/EoF"
   ]
  },
  {
   "cell_type": "code",
   "execution_count": 195,
   "metadata": {},
   "outputs": [
    {
     "name": "stdout",
     "output_type": "stream",
     "text": [
      "Overwriting 0x01-variables_if_else_while/2-print_alphabet.c\n"
     ]
    }
   ],
   "source": [
    "%%file 0x01-variables_if_else_while/2-print_alphabet.c\n",
    "#include <stdlib.h>\n",
    "#include <stdio.h>\n",
    "#include <ctype.h>\n",
    "\n",
    "/**\n",
    "* main - Entry point\n",
    "* putchar\n",
    "* Return: Always 0 (sucess)\n",
    "*/\n",
    "\n",
    "int main(void)\n",
    "{\n",
    "int x;\n",
    "for (x = 'A'; x <= 'Z'; x++)\n",
    "{\n",
    "putchar(tolower(x));\n",
    "}\n",
    "putchar('\\n');\n",
    "return (0);\n",
    "}\n"
   ]
  },
  {
   "cell_type": "code",
   "execution_count": 221,
   "metadata": {},
   "outputs": [
    {
     "name": "stdout",
     "output_type": "stream",
     "text": [
      "Overwriting 0x01-variables_if_else_while/2-print_alphabet.c\n"
     ]
    }
   ],
   "source": [
    "%%file 0x01-variables_if_else_while/2-print_alphabet.c\n",
    "#include <stdlib.h>\n",
    "#include <stdio.h>\n",
    "#include <ctype.h>\n",
    "\n",
    "/**\n",
    "* main - Entry point\n",
    "* putchar\n",
    "* Return: Always 0 (sucess)\n",
    "*/\n",
    "\n",
    "int main(void)\n",
    "{\n",
    "int x;\n",
    "for (x = 'a'; x <= 'z'; x++)\n",
    "{\n",
    "putchar(x);\n",
    "}\n",
    "putchar('\\n');\n",
    "return (0);\n",
    "}"
   ]
  },
  {
   "cell_type": "code",
   "execution_count": 222,
   "metadata": {},
   "outputs": [
    {
     "name": "stdout",
     "output_type": "stream",
     "text": [
      "\n",
      "========== 0x01-variables_if_else_while/2-print_alphabet.c ==========\n",
      "main\n",
      "abcdefghijklmnopqrstuvwxyz\n"
     ]
    }
   ],
   "source": [
    "%%bash\n",
    "betty 0x01-variables_if_else_while/2-print_alphabet.c\n",
    "gcc -Wall -pedantic -Werror -Wextra -std=gnu89 0x01-variables_if_else_while/2-print_alphabet.c -o 0x01-variables_if_else_while/2-print_alphabet\n",
    "./0x01-variables_if_else_while/2-print_alphabet"
   ]
  },
  {
   "cell_type": "code",
   "execution_count": 197,
   "metadata": {},
   "outputs": [
    {
     "name": "stdout",
     "output_type": "stream",
     "text": [
      "[main f5410be] 0x01-variables_if_else_while/2-assembler\n",
      " 3 files changed, 21 insertions(+), 15 deletions(-)\n",
      "Enumerating objects: 11, done.\n",
      "Counting objects: 100% (11/11), done.\n",
      "Delta compression using up to 12 threads\n",
      "Compressing objects: 100% (6/6), done.\n",
      "Writing objects: 100% (6/6), 1.06 KiB | 1.06 MiB/s, done.\n",
      "Total 6 (delta 5), reused 0 (delta 0)\n",
      "remote: Resolving deltas: 100% (5/5), completed with 5 local objects.\u001b[K\n",
      "To https://github.com/elkomysara/alx-low_level_programming.git\n",
      "   4c75349..f5410be  main -> main\n",
      "Branch 'main' set up to track remote branch 'main' from 'origin'.\n"
     ]
    }
   ],
   "source": [
    "!git add .\n",
    "!git commit -m \"0x01-variables_if_else_while/2-assembler\"\n",
    "!git push -u origin main"
   ]
  },
  {
   "cell_type": "markdown",
   "metadata": {},
   "source": [
    "###\n",
    "---\n",
    "<center>\n",
    "<h4> 3. alphABET</h4>\n",
    "</center>\n",
    "\n",
    "---"
   ]
  },
  {
   "cell_type": "markdown",
   "metadata": {},
   "source": [
    "#### Write a program that prints the alphabet in lowercase, and then in uppercase, followed by a new line.\n",
    "\n",
    "* You can only use the putchar function (every other function (printf, puts, etc…) is forbidden)\n",
    "* All your code should be in the main function\n",
    "* You can only use putchar three times in your code\n",
    "\n",
    "```bash\n",
    "julien@ubuntu:~/0x01$ gcc -Wall -pedantic -Werror -Wextra -std=gnu89 3-print_alphabets.c -o 3-print_alphabets\n",
    "julien@ubuntu:~/0x01$ ./3-print_alphabets | cat -e\n",
    "abcdefghijklmnopqrstuvwxyzABCDEFGHIJKLMNOPQRSTUVWXYZ$\n",
    "julien@ubuntu:~/0x01$\n",
    "```\n",
    "\n",
    "\n",
    "#### Repo:\n",
    "* GitHub repository: `alx-low_level_programming`\n",
    "* Directory: `0x01-variables_if_else_while`\n",
    "* File: `3-print_alphabets.c`"
   ]
  },
  {
   "cell_type": "code",
   "execution_count": 223,
   "metadata": {},
   "outputs": [
    {
     "name": "stdout",
     "output_type": "stream",
     "text": [
      "Overwriting 0x01-variables_if_else_while/3-print_alphabets.c\n"
     ]
    }
   ],
   "source": [
    "%%file 0x01-variables_if_else_while/3-print_alphabets.c\n",
    "#include <stdio.h>\n",
    "#include <stdlib.h>\n",
    "#include <ctype.h>\n",
    "\n",
    "/**\n",
    "* main - Entry point\n",
    "* putchar\n",
    "* Return: Always 0 (sucess)\n",
    "*/\n",
    "\n",
    "int main(void)\n",
    "{\n",
    "int x;\n",
    "for (x = 'a'; x <= 'z'; x++)\n",
    "{\n",
    "putchar(x);\n",
    "}\n",
    "for (x = 'A'; x <= 'Z'; x++)\n",
    "{\n",
    "putchar(x);\n",
    "}\n",
    "putchar('\\n');\n",
    "return (0);\n",
    "}\n"
   ]
  },
  {
   "cell_type": "code",
   "execution_count": null,
   "metadata": {},
   "outputs": [],
   "source": [
    "%%file 0x01-variables_if_else_while/3-print_alphabets.c\n",
    "#include <stdio.h>\n",
    "#include <stdlib.h>\n",
    "#include <ctype.h>\n",
    "\n",
    "/**\n",
    "* main - Entry point\n",
    "* putchar\n",
    "* Return: Always 0 (sucess)\n",
    "*/\n",
    "\n",
    "int main(void)\n",
    "{\n",
    "int x;\n",
    "int y;\n",
    "for (x = 'a'; x <= 'z'; x++)\n",
    "{\n",
    "putchar(x);\n",
    "}\n",
    "for (x = 'A'; x <= 'Z'; x++)\n",
    "{\n",
    "putchar(x);\n",
    "}\n",
    "putchar('\\n');\n",
    "return (0);\n",
    "}\n"
   ]
  },
  {
   "cell_type": "code",
   "execution_count": 224,
   "metadata": {},
   "outputs": [
    {
     "name": "stdout",
     "output_type": "stream",
     "text": [
      "\n",
      "========== 0x01-variables_if_else_while/3-print_alphabets.c ==========\n"
     ]
    },
    {
     "name": "stdout",
     "output_type": "stream",
     "text": [
      "main\n",
      "abcdefghijklmnopqrstuvwxyzABCDEFGHIJKLMNOPQRSTUVWXYZ\n"
     ]
    }
   ],
   "source": [
    "%%bash\n",
    "betty 0x01-variables_if_else_while/3-print_alphabets.c\n",
    "gcc -Wall -pedantic -Werror -Wextra -std=gnu89 0x01-variables_if_else_while/3-print_alphabets.c -o 0x01-variables_if_else_while/3-print_alphabets\n",
    "./0x01-variables_if_else_while/3-print_alphabets"
   ]
  },
  {
   "cell_type": "code",
   "execution_count": 225,
   "metadata": {},
   "outputs": [
    {
     "name": "stdout",
     "output_type": "stream",
     "text": [
      "[main 7eb55c0] 0x01-variables_if_else_while/3-name\n",
      " 5 files changed, 140 insertions(+), 50 deletions(-)\n",
      " create mode 100755 0x01-variables_if_else_while/3-print_alphabets\n",
      " create mode 100644 0x01-variables_if_else_while/3-print_alphabets.c\n",
      "Enumerating objects: 13, done.\n",
      "Counting objects: 100% (13/13), done.\n",
      "Delta compression using up to 12 threads\n",
      "Compressing objects: 100% (8/8), done.\n",
      "Writing objects: 100% (8/8), 4.13 KiB | 4.13 MiB/s, done.\n",
      "Total 8 (delta 5), reused 0 (delta 0)\n",
      "remote: Resolving deltas: 100% (5/5), completed with 4 local objects.\u001b[K\n",
      "To https://github.com/elkomysara/alx-low_level_programming.git\n",
      "   f5410be..7eb55c0  main -> main\n",
      "Branch 'main' set up to track remote branch 'main' from 'origin'.\n"
     ]
    }
   ],
   "source": [
    "!git add .\n",
    "!git commit -m \"0x01-variables_if_else_while/3-name\"\n",
    "!git push -u origin main"
   ]
  },
  {
   "cell_type": "markdown",
   "metadata": {},
   "source": [
    "### \n",
    "\n",
    "\n",
    "---\n",
    "<center>\n",
    "<h4> 4. When I was having that alphabet soup, I never thought that it would pay off</h4>\n",
    "</center>\n",
    "\n",
    "---"
   ]
  },
  {
   "cell_type": "markdown",
   "metadata": {},
   "source": [
    "#### Write a program that prints the alphabet in lowercase, followed by a new line.\n",
    "\n",
    "Print all the letters except `q` and `e`\n",
    "You can only use the `putchar` function (every other function (`printf`, `puts`, etc…) is forbidden)\n",
    "All your code should be in the `main` function\n",
    "You can only use `putchar` twice in your code\n",
    "\n",
    "```bash\n",
    "julien@ubuntu:~/0x01$ gcc -Wall -pedantic -Werror -Wextra -std=gnu89 4-print_alphabt.c -o 4-print_alphabt\n",
    "julien@ubuntu:~/0x01$ ./4-print_alphabt \n",
    "abcdfghijklmnoprstuvwxyz\n",
    "julien@ubuntu:~/0x01$ ./4-print_alphabt | grep [eq]\n",
    "julien@ubuntu:~/0x01$\n",
    "```\n",
    "\n",
    "#### Repo:\n",
    "* GitHub repository: `alx-low_level_programming`\n",
    "* Directory: `0x01-variables_if_else_while`\n",
    "* File: `4-print_alphabt.c`"
   ]
  },
  {
   "cell_type": "code",
   "execution_count": 256,
   "metadata": {},
   "outputs": [
    {
     "name": "stdout",
     "output_type": "stream",
     "text": [
      "Overwriting 0x01-variables_if_else_while/4-print_alphabt.c\n"
     ]
    }
   ],
   "source": [
    "%%file 0x01-variables_if_else_while/4-print_alphabt.c\n",
    "#include <stdio.h>\n",
    "#include <stdlib.h>\n",
    "#include <ctype.h>\n",
    "\n",
    "/**\n",
    " * main - Entry point\n",
    " *\n",
    " * Return: Always 0 (Success)\n",
    " */\n",
    "int main(void)\n",
    "{\n",
    "int x = 'a';\n",
    "\n",
    "while (x <= 'z')\n",
    "{\n",
    "if (x != 'q' && x != 'e')\n",
    "{\n",
    "putchar(x);\n",
    "}\n",
    "\n",
    "x++;\n",
    "}\n",
    "putchar('\\n');\n",
    "return (0);\n",
    "}"
   ]
  },
  {
   "cell_type": "code",
   "execution_count": 257,
   "metadata": {},
   "outputs": [
    {
     "name": "stdout",
     "output_type": "stream",
     "text": [
      "\n",
      "========== 0x01-variables_if_else_while/4-print_alphabt.c ==========\n",
      "main\n",
      "abcdfghijklmnoprstuvwxyz\n"
     ]
    }
   ],
   "source": [
    "%%bash\n",
    "betty 0x01-variables_if_else_while/4-print_alphabt.c\n",
    "gcc -Wall -pedantic -Werror -Wextra -std=gnu89 0x01-variables_if_else_while/4-print_alphabt.c -o 0x01-variables_if_else_while/4-print_alphabt\n",
    "./0x01-variables_if_else_while/4-print_alphabt"
   ]
  },
  {
   "cell_type": "code",
   "execution_count": 258,
   "metadata": {},
   "outputs": [
    {
     "name": "stdout",
     "output_type": "stream",
     "text": [
      "[main cd19b37] 0x02-shell_redirections/4-lastlines\n",
      " 3 files changed, 101 insertions(+), 41 deletions(-)\n",
      " create mode 100755 0x01-variables_if_else_while/4-print_alphabt\n",
      " create mode 100644 0x01-variables_if_else_while/4-print_alphabt.c\n",
      "Enumerating objects: 9, done.\n",
      "Counting objects: 100% (9/9), done.\n",
      "Delta compression using up to 12 threads\n",
      "Compressing objects: 100% (6/6), done.\n",
      "Writing objects: 100% (6/6), 3.71 KiB | 3.71 MiB/s, done.\n",
      "Total 6 (delta 3), reused 0 (delta 0)\n",
      "remote: Resolving deltas: 100% (3/3), completed with 3 local objects.\u001b[K\n",
      "To https://github.com/elkomysara/alx-low_level_programming.git\n",
      "   7eb55c0..cd19b37  main -> main\n",
      "Branch 'main' set up to track remote branch 'main' from 'origin'.\n"
     ]
    }
   ],
   "source": [
    "!git add .\n",
    "!git commit -m \"0x02-shell_redirections/4-lastlines\"\n",
    "!git push -u origin main"
   ]
  },
  {
   "cell_type": "markdown",
   "metadata": {},
   "source": [
    "### \n",
    "\n",
    "\n",
    "---\n",
    "<center>\n",
    "<h4> 5. Numbers</h4>\n",
    "</center>\n",
    "\n",
    "---"
   ]
  },
  {
   "cell_type": "markdown",
   "metadata": {},
   "source": [
    "##### Write a program that prints all single digit  numbers of base 10 starting from `0`, followed by a new line.\n",
    "* All your code should be in the `main` function\n",
    "\n",
    "```bash\n",
    "julien@ubuntu:~/0x01$ gcc -Wall -pedantic -Werror -Wextra -std=gnu89 5-print_numbers.c -o 5-print_numbers\n",
    "julien@ubuntu:~/0x01$ ./5-print_numbers \n",
    "0123456789\n",
    "julien@ubuntu:~/0x01$  \n",
    "```\n",
    "\n",
    "##### Repo:\n",
    "\n",
    "* GitHub repository: `alx-low_level_programming`\n",
    "* Directory: `0x01-variables_if_else_while`\n",
    "* File: `5-print_numbers.c`"
   ]
  },
  {
   "cell_type": "code",
   "execution_count": 13,
   "metadata": {},
   "outputs": [
    {
     "name": "stdout",
     "output_type": "stream",
     "text": [
      "Overwriting 0x01-variables_if_else_while/5-print_numbers.c\n"
     ]
    }
   ],
   "source": [
    "%%file 0x01-variables_if_else_while/5-print_numbers.c\n",
    "#include <stdio.h>\n",
    "#include <stdlib.h>\n",
    "/**\n",
    "* main - Entry point\n",
    "*\n",
    "* Return: Always 0 (Success)\n",
    "*/\n",
    "int main(void)\n",
    "{\n",
    "int x;\n",
    "for (x = 0; x < 10; x++)\n",
    "{\n",
    "printf(\"%d\", x);\n",
    "}\n",
    "printf(\"\\n\");\n",
    "return (0);\n",
    "}\n",
    "\n"
   ]
  },
  {
   "cell_type": "code",
   "execution_count": 14,
   "metadata": {},
   "outputs": [
    {
     "name": "stdout",
     "output_type": "stream",
     "text": [
      "\n",
      "========== 0x01-variables_if_else_while/5-print_numbers.c ==========\n",
      "main\n",
      "0123456789\n"
     ]
    }
   ],
   "source": [
    "%%bash\n",
    "betty 0x01-variables_if_else_while/5-print_numbers.c\n",
    "gcc -Wall -pedantic -Werror -Wextra -std=gnu89 0x01-variables_if_else_while/5-print_numbers.c -o 0x01-variables_if_else_while/5-print_numbers\n",
    "./0x01-variables_if_else_while/5-print_numbers"
   ]
  },
  {
   "cell_type": "code",
   "execution_count": 15,
   "metadata": {},
   "outputs": [
    {
     "name": "stdout",
     "output_type": "stream",
     "text": [
      "[main b54ea56] 0x01-variables_if_else_while/5-print_numbers.c\n",
      " 3 files changed, 12 insertions(+), 8 deletions(-)\n"
     ]
    },
    {
     "name": "stderr",
     "output_type": "stream",
     "text": [
      "To https://github.com/elkomysara/alx-low_level_programming.git\n",
      "   45e0a4f..b54ea56  main -> main\n"
     ]
    }
   ],
   "source": [
    "%%bash\n",
    "git add .\n",
    "git commit -m \"0x01-variables_if_else_while/5-print_numbers.c\"\n",
    "git push"
   ]
  },
  {
   "cell_type": "markdown",
   "metadata": {},
   "source": [
    "### \n",
    "\n",
    "\n",
    "---\n",
    "<center>\n",
    "<h4> 6. Numberz</h4>\n",
    "</center>\n",
    "\n",
    "---"
   ]
  },
  {
   "cell_type": "markdown",
   "metadata": {},
   "source": [
    "##### Write a program that prints all single digit numbers of base 10 starting from `0`, followed by a new line.\n",
    "\n",
    "You are not allowed to use any variable of type `char`\n",
    "You can only use the `putchar` function (every other function (`printf`, `puts`, etc…) is forbidden)\n",
    "You can only use `putchar` twice in your code\n",
    "All your code should be in the `main` function\n",
    "```bash\n",
    "julien@ubuntu:~/0x01$ gcc -Wall -pedantic -Werror -Wextra -std=gnu89 6-print_numberz.c -o 6-print_numberz\n",
    "julien@ubuntu:~/0x01$ ./6-print_numberz \n",
    "0123456789\n",
    "julien@ubuntu:~/0x01$ \n",
    "\n",
    "```\n",
    "\n",
    "#### Repo:\n",
    "\n",
    "* GitHub repository: `alx-low_level_programming`\n",
    "* Directory: `0x01-variables_if_else_while`\n",
    "* File: `6-print_numberz.c`"
   ]
  },
  {
   "cell_type": "code",
   "execution_count": 25,
   "metadata": {},
   "outputs": [
    {
     "name": "stdout",
     "output_type": "stream",
     "text": [
      "Overwriting 0x01-variables_if_else_while/6-print_numberz.c\n"
     ]
    }
   ],
   "source": [
    "%%file 0x01-variables_if_else_while/6-print_numberz.c\n",
    "#include <stdio.h>\n",
    "/**\n",
    "* main - Entry point\n",
    "*\n",
    "* Return: Always 0 (Success)\n",
    "*/\n",
    "int main(void)\n",
    "{\n",
    "int x;\n",
    "for (x = 0; x < 10; x++)\n",
    "{\n",
    "putchar(x + '0');\n",
    "}\n",
    "putchar('\\n');\n",
    "return (0);\n",
    "}"
   ]
  },
  {
   "cell_type": "code",
   "execution_count": 23,
   "metadata": {},
   "outputs": [
    {
     "name": "stdout",
     "output_type": "stream",
     "text": [
      "Overwriting 0x01-variables_if_else_while/6-print_numberz.c\n"
     ]
    }
   ],
   "source": [
    "%%file 0x01-variables_if_else_while/6-print_numberz.c\n",
    "#include <stdio.h>\n",
    "\n",
    "/**\n",
    " * main - prints all single digit numbers of base 10 starting from 0,\n",
    " * followed by a new line, using putchar \n",
    " * Return: Always 0 (Success)\n",
    " */\n",
    "int main(void)\n",
    "{\n",
    "\tint n;\n",
    "\n",
    "\tfor (n = 48; n < 58; n++)\n",
    "\t{\n",
    "\t\tputchar(n);\n",
    "\t}\n",
    "\tputchar('\\n');\n",
    "\treturn (0);\n",
    "}"
   ]
  },
  {
   "cell_type": "code",
   "execution_count": 26,
   "metadata": {},
   "outputs": [
    {
     "name": "stdout",
     "output_type": "stream",
     "text": [
      "\n",
      "========== 0x01-variables_if_else_while/6-print_numberz.c ==========\n",
      "main\n",
      "0123456789\n"
     ]
    }
   ],
   "source": [
    "%%bash\n",
    "betty 0x01-variables_if_else_while/6-print_numberz.c\n",
    "gcc -Wall -pedantic -Werror -Wextra -std=gnu89 0x01-variables_if_else_while/6-print_numberz.c -o 0x01-variables_if_else_while/6-print_numberz\n",
    "./0x01-variables_if_else_while/6-print_numberz\n"
   ]
  },
  {
   "cell_type": "code",
   "execution_count": 85,
   "metadata": {},
   "outputs": [
    {
     "name": "stdout",
     "output_type": "stream",
     "text": [
      "[main d5f17fa] 0x03-shell_variables_expansions/6-create_local_variable\n",
      " 2 files changed, 8 insertions(+), 6 deletions(-)\n"
     ]
    },
    {
     "name": "stderr",
     "output_type": "stream",
     "text": [
      "To https://github.com/elkomysara/alx-low_level_programming.git\n",
      "   10adcce..d5f17fa  main -> main\n"
     ]
    }
   ],
   "source": [
    "%%bash\n",
    "git add .\n",
    "git commit -m \"0x03-shell_variables_expansions/6-create_local_variable\"\n",
    "git push"
   ]
  },
  {
   "cell_type": "markdown",
   "metadata": {},
   "source": [
    "### \n",
    "\n",
    "\n",
    "---\n",
    "<center>\n",
    "<h4> 7. Smile in the mirror </h4>\n",
    "</center>\n",
    "\n",
    "---"
   ]
  },
  {
   "cell_type": "markdown",
   "metadata": {},
   "source": [
    "##### Write a program that prints the lowercase alphabet in reverse, followed by a new line.\n",
    "\n",
    "* You can only use the `putchar` function (every other function (`printf`, `puts`, etc…) is forbidden)\n",
    "* All your code should be in the `main` function\n",
    "* You can only use `putchar` twice in your code\n",
    "```bash\n",
    "julien@ubuntu:~/0x01$ gcc -Wall -pedantic -Werror -Wextra -std=gnu89 7-print_tebahpla.c -o 7-print_tebahpla\n",
    "julien@ubuntu:~/0x01$ ./7-print_tebahpla\n",
    "zyxwvutsrqponmlkjihgfedcba\n",
    "julien@ubuntu:~/0x01$\n",
    "```\n",
    "#### Repo:\n",
    "\n",
    "* GitHub repository: `alx-low_level_programming`\n",
    "* Directory: `0x01-variables_if_else_while`\n",
    "* File: `7-print_tebahpla.c`"
   ]
  },
  {
   "cell_type": "code",
   "execution_count": 5,
   "metadata": {},
   "outputs": [
    {
     "name": "stdout",
     "output_type": "stream",
     "text": [
      "Overwriting 0x01-variables_if_else_while/7-print_tebahpla.c\n"
     ]
    }
   ],
   "source": [
    "%%file 0x01-variables_if_else_while/7-print_tebahpla.c\n",
    "#include <stdio.h>\n",
    "\n",
    "/**\n",
    " * main - prints the lowercase alphabet in reverse\n",
    " * followed by a new line\n",
    " * Return: Always 0 (Success)\n",
    " */\n",
    "int main(void)\n",
    "{\n",
    "char x;\n",
    "for (x = 'z'; x >= 'a'; x--)\n",
    "{\n",
    "putchar(x);\n",
    "}\n",
    "putchar('\\n');\n",
    "return (0);\n",
    "}"
   ]
  },
  {
   "cell_type": "code",
   "execution_count": 6,
   "metadata": {},
   "outputs": [
    {
     "name": "stdout",
     "output_type": "stream",
     "text": [
      "\n",
      "========== 0x01-variables_if_else_while/7-print_tebahpla.c ==========\n"
     ]
    },
    {
     "name": "stdout",
     "output_type": "stream",
     "text": [
      "main\n",
      "zyxwvutsrqponmlkjihgfedcba\n"
     ]
    }
   ],
   "source": [
    "%%bash\n",
    "betty 0x01-variables_if_else_while/7-print_tebahpla.c\n",
    "gcc -Wall -pedantic -Werror -Wextra -std=gnu89 0x01-variables_if_else_while/7-print_tebahpla.c -o 0x01-variables_if_else_while/7-print_tebahpla\n",
    "./0x01-variables_if_else_while/7-print_tebahpla"
   ]
  },
  {
   "cell_type": "code",
   "execution_count": 93,
   "metadata": {},
   "outputs": [
    {
     "name": "stdout",
     "output_type": "stream",
     "text": [
      "[main ad9bd01] 0x03-shell_variables_expansions/7-create_global_variable\n",
      " 3 files changed, 34 insertions(+), 30 deletions(-)\n",
      " create mode 100755 0x00-hello_world/100-intel\n"
     ]
    },
    {
     "name": "stderr",
     "output_type": "stream",
     "text": [
      "To https://github.com/elkomysara/alx-low_level_programming.git\n",
      "   d5f17fa..ad9bd01  main -> main\n"
     ]
    }
   ],
   "source": [
    "%%bash\n",
    "git add .\n",
    "git commit -m \"0x03-shell_variables_expansions/7-create_global_variable\"\n",
    "git push"
   ]
  },
  {
   "cell_type": "markdown",
   "metadata": {},
   "source": [
    "### \n",
    "\n",
    "\n",
    "---\n",
    "<center>\n",
    "<h4> 8. UNIX is basically a simple operating system, but you have to be a genius to understand the simplicity  </h4>\n",
    "</center>\n",
    "\n",
    "---"
   ]
  },
  {
   "cell_type": "markdown",
   "metadata": {},
   "source": [
    "##### Write a C program that prints exactly and that piece of art is useful\" - Dora Korpar, 2015-10-19, followed by a new line, to the standard error.\n",
    "\n",
    "* You are not allowed to use any functions listed in the NAME section of the man (3) `printf` or man (3) `puts`\n",
    "* Your program should return 1\n",
    "* Your program should compile without any warnings when using the `-Wall gcc` option\n",
    "\n",
    "```bash\n",
    "julien@production-503e7013:~$ export TRUEKNOWLEDGE=1209\n",
    "julien@production-503e7013:~$ ./8-true_knowledge | cat -e\n",
    "1337$\n",
    "julien@production-503e7013:~$\n",
    "```\n",
    "\n",
    "#### Repo:\n",
    "\n",
    "* GitHub repository: `alx-low_level_programming`\n",
    "* Directory: `0x01-variables_if_else_while`\n",
    "* File: `101-qoute.c`\n"
   ]
  },
  {
   "cell_type": "code",
   "execution_count": 95,
   "metadata": {},
   "outputs": [
    {
     "name": "stdout",
     "output_type": "stream",
     "text": [
      "Writing 0x00-hello_world/101-quote.c\n"
     ]
    }
   ],
   "source": [
    "%%file 0x01-variables_if_else_while/101-quote.c\n",
    "#include <stdio.h>\n",
    "#include <unistd.h>\n",
    "/**\n",
    " * main - prints exactly \"and that piece of art is useful\"\n",
    " * - Dora Korpar, 2015-10-19\",\n",
    " * followed by a new line, to the standard error.\n",
    " * Return: Always 0 (Success)\n",
    " */\n",
    "\n",
    "int main(void)\n",
    "{\n",
    "write(2, \"and that piece of art is useful\\\" - Dora Korpar, 2015-10-19\\n\", 59);\n",
    "return (1);\n",
    "}"
   ]
  },
  {
   "cell_type": "code",
   "execution_count": 96,
   "metadata": {},
   "outputs": [
    {
     "name": "stdout",
     "output_type": "stream",
     "text": [
      "\n",
      "========== 0x00-hello_world/101-quote.c ==========\n",
      "main\n"
     ]
    }
   ],
   "source": [
    "%%bash\n",
    "betty 0x01-variables_if_else_while/101-quote.c\n",
    "gcc -Wall -Werror -Wextra -pedantic -std=gnu89 -o quote 0x01-variables_if_else_while/101-quote.c"
   ]
  },
  {
   "cell_type": "code",
   "execution_count": 97,
   "metadata": {},
   "outputs": [
    {
     "name": "stdout",
     "output_type": "stream",
     "text": [
      "[main 0f27af8] 0x03-shell_variables_expansions/8-true_knowledge\n",
      " 3 files changed, 52 insertions(+), 30 deletions(-)\n",
      " create mode 100644 0x00-hello_world/101-quote.c\n",
      " create mode 100755 quote\n"
     ]
    },
    {
     "name": "stderr",
     "output_type": "stream",
     "text": [
      "To https://github.com/elkomysara/alx-low_level_programming.git\n",
      "   ad9bd01..0f27af8  main -> main\n"
     ]
    }
   ],
   "source": [
    "%%bash\n",
    "git add .\n",
    "git commit -m \"0x03-shell_variables_expansions/8-true_knowledge\"\n",
    "git push"
   ]
  }
 ],
 "metadata": {
  "kernelspec": {
   "display_name": "Python 3",
   "language": "python",
   "name": "python3"
  },
  "language_info": {
   "codemirror_mode": {
    "name": "ipython",
    "version": 3
   },
   "file_extension": ".py",
   "mimetype": "text/x-python",
   "name": "python",
   "nbconvert_exporter": "python",
   "pygments_lexer": "ipython3",
   "version": "3.11.7"
  }
 },
 "nbformat": 4,
 "nbformat_minor": 2
}
