{
 "cells": [
  {
   "cell_type": "markdown",
   "metadata": {},
   "source": [
    "---\n",
    "<center>\n",
    "<h1>  alx-low_level_programming </h1>\n",
    "</center>\n",
    "\n",
    "---\n"
   ]
  },
  {
   "cell_type": "code",
   "execution_count": 1,
   "metadata": {},
   "outputs": [],
   "source": [
    "import os\n",
    "# creating 0x02-shell_redirectionss\n",
    "\n",
    "folder_path = r'/home/elkomy/alx/alx-low_level_programming/0x13-more_singly_linked_lists'\n",
    "if not os.path.exists(folder_path):\n",
    "    os.makedirs(folder_path)\n",
    "\n",
    "# Create a README.md inside alx-low_level_programming/0x13-more_singly_linked_lists\n",
    "file_path = os.path.join(folder_path, 'README.md')\n",
    "\n",
    "with open(file_path, 'w') as file:\n",
    "    file.write(\"This is a README.md file inside alx-low_level_programming/0x13-more_singly_linked_lists\")\n",
    "\n"
   ]
  },
  {
   "cell_type": "code",
   "execution_count": 3,
   "metadata": {},
   "outputs": [
    {
     "name": "stdout",
     "output_type": "stream",
     "text": [
      "Overwriting /home/elkomy/alx/alx-low_level_programming/0x07-pointers_arrays_strings/README.md\n"
     ]
    }
   ],
   "source": [
    "%%file /home/elkomy/alx/alx-low_level_programming/0x13-more_singly_linked_lists/README.md\n",
    "This is a README.md"
   ]
  },
  {
   "cell_type": "markdown",
   "metadata": {},
   "source": [
    "###\n",
    "---\n",
    "<center>\n",
    "<h1> 0x13. C - More singly linked lists </h1>\n",
    "</center>\n",
    "\n",
    "---\n"
   ]
  },
  {
   "cell_type": "markdown",
   "metadata": {},
   "source": [
    "###\n",
    "---\n",
    "<center>\n",
    "<h4> 0. Print list</h4>\n",
    "</center>\n",
    "\n",
    "---"
   ]
  },
  {
   "cell_type": "markdown",
   "metadata": {},
   "source": [
    "\n",
    "#### Write a function that prints all the elements of a listint_t list.\n",
    "\n",
    "* Prototype: size_t print_listint(const listint_t *h);\n",
    "* Return: the number of nodes\n",
    "* Format: see example\n",
    "* You are allowed to use printf\n",
    "\n",
    "\n",
    "```bash\n",
    "julien@ubuntu:~/0x13. More singly linked lists$ cat 0-main.c \n",
    "#include <stdlib.h>\n",
    "#include <string.h>\n",
    "#include <stdio.h>\n",
    "#include \"lists.h\"\n",
    "\n",
    "/**\n",
    " * main - check the code\n",
    " * \n",
    " * Return: Always 0.\n",
    " */\n",
    "int main(void)\n",
    "{\n",
    "    listint_t *head;\n",
    "    listint_t *new;\n",
    "    listint_t hello = {8, NULL};\n",
    "    size_t n;\n",
    "\n",
    "    head = &hello;\n",
    "    new = malloc(sizeof(listint_t));\n",
    "    if (new == NULL)\n",
    "    {\n",
    "        printf(\"Error\\n\");\n",
    "        return (1);\n",
    "    }\n",
    "    new->n = 9;\n",
    "    new->next = head;\n",
    "    head = new;\n",
    "    n = print_listint(head);\n",
    "    printf(\"-> %lu elements\\n\", n);\n",
    "    free(new);\n",
    "    return (0);\n",
    "}\n",
    "julien@ubuntu:~/0x13. More singly linked lists$ gcc -Wall -pedantic -Werror -Wextra -std=gnu89 0-main.c 0-print_listint.c -o a\n",
    "julien@ubuntu:~/0x13. More singly linked lists$ ./a \n",
    "9\n",
    "8\n",
    "-> 2 elements\n",
    "julien@ubuntu:~/0x13. More singly linked lists$ \n",
    "\n",
    "```\n",
    "#### Repo:\n",
    "* GitHub repository: ``` alx-low_level_programming ```\n",
    "* Directory: ```0x13-more_singly_linked_lists``` \n",
    "* File: ```0-print_listint.c```"
   ]
  },
  {
   "cell_type": "code",
   "execution_count": 13,
   "metadata": {},
   "outputs": [
    {
     "name": "stdout",
     "output_type": "stream",
     "text": [
      "Overwriting 0x13-more_singly_linked_lists/lists.h\n"
     ]
    }
   ],
   "source": [
    "%%file 0x13-more_singly_linked_lists/lists.h\n",
    "#ifndef LISTS_H\n",
    "#define LISTS_H\n",
    "\n",
    "#include <stddef.h>\n",
    "\n",
    "/**\n",
    "* struct listint_s - singly linked list\n",
    "* @n: integer\n",
    "* @next: points to the next node\n",
    "*\n",
    "* Description: singly linked list node structure\n",
    "*/\n",
    "typedef struct listint_s\n",
    "{\n",
    "int n;\n",
    "struct listint_s *next;\n",
    "} listint_t;\n",
    "\n",
    "size_t print_listint(const listint_t *h);\n",
    "size_t listint_len(const listint_t *h);\n",
    "listint_t *add_nodeint(listint_t **head, const int n);\n",
    "listint_t *add_nodeint_end(listint_t **head, const int n);\n",
    "void free_listint(listint_t *head);\n",
    "void free_listint2(listint_t **head);\n",
    "int pop_listint(listint_t **head);\n",
    "listint_t *get_nodeint_at_index(listint_t *head, unsigned int index);\n",
    "int sum_listint(listint_t *head);\n",
    "listint_t *insert_nodeint_at_index(listint_t **head, unsigned int idx, int n);\n",
    "int delete_nodeint_at_index(listint_t **head, unsigned int index);\n",
    "listint_t *reverse_listint(listint_t **head);\n",
    "size_t print_listint_safe(const listint_t *head);\n",
    "size_t free_listint_safe(listint_t **h);\n",
    "listint_t *find_listint_loop(listint_t *head);\n",
    "\n",
    "#endif /* LISTS_H */\n"
   ]
  },
  {
   "cell_type": "code",
   "execution_count": 3,
   "metadata": {},
   "outputs": [
    {
     "name": "stdout",
     "output_type": "stream",
     "text": [
      "Overwriting 0x13-more_singly_linked_lists/0-print_listint.c\n"
     ]
    }
   ],
   "source": [
    "%%file 0x13-more_singly_linked_lists/0-print_listint.c\n",
    "#include \"lists.h\"\n",
    "#include <stdio.h>\n",
    "\n",
    "/**\n",
    "* print_listint - prints all the elements of a listint_t list\n",
    "* @h: pointer to the head of the list\n",
    "*\n",
    "* Return: the number of nodes\n",
    "*/\n",
    "size_t print_listint(const listint_t *h)\n",
    "{\n",
    "size_t count = 0;\n",
    "\n",
    "while (h)\n",
    "{\n",
    "printf(\"%d\\n\", h->n);\n",
    "h = h->next;\n",
    "count++;\n",
    "}\n",
    "return (count);\n",
    "}"
   ]
  },
  {
   "cell_type": "code",
   "execution_count": 4,
   "metadata": {},
   "outputs": [
    {
     "name": "stdout",
     "output_type": "stream",
     "text": [
      "Overwriting 0x13-more_singly_linked_lists/0-main.c\n"
     ]
    }
   ],
   "source": [
    "%%file 0x13-more_singly_linked_lists/0-main.c\n",
    "#include <stdlib.h>\n",
    "#include <string.h>\n",
    "#include <stdio.h>\n",
    "#include \"lists.h\"\n",
    "\n",
    "/**\n",
    "* main - check the code\n",
    "*\n",
    "* Return: Always 0.\n",
    "*/\n",
    "int main(void)\n",
    "{\n",
    "listint_t *head;\n",
    "listint_t *new;\n",
    "listint_t hello = {8, NULL};\n",
    "size_t n;\n",
    "\n",
    "head = &hello;\n",
    "new = malloc(sizeof(listint_t));\n",
    "if (new == NULL)\n",
    "{\n",
    "printf(\"Error\\n\");\n",
    "return (1);\n",
    "}\n",
    "new->n = 9;\n",
    "new->next = head;\n",
    "head = new;\n",
    "n = print_listint(head);\n",
    "printf(\"-> %lu elements\\n\", n);\n",
    "free(new);\n",
    "return (0);\n",
    "}\n"
   ]
  },
  {
   "cell_type": "code",
   "execution_count": 5,
   "metadata": {},
   "outputs": [
    {
     "name": "stderr",
     "output_type": "stream",
     "text": [
      "0x13-more_singly_linked_lists/1-listint_len.c:10: warning: no description found for function listint_len\n"
     ]
    },
    {
     "name": "stdout",
     "output_type": "stream",
     "text": [
      "main\n",
      "print_listint\n",
      "main\n",
      "struct listint_s\n"
     ]
    },
    {
     "ename": "CalledProcessError",
     "evalue": "Command 'b'betty-style 0x13-more_singly_linked_lists/*.c 0x13-more_singly_linked_lists/*.h\\nbetty-doc 0x13-more_singly_linked_lists/*.c 0x13-more_singly_linked_lists/*.h\\n'' returned non-zero exit status 1.",
     "output_type": "error",
     "traceback": [
      "\u001b[0;31m---------------------------------------------------------------------------\u001b[0m",
      "\u001b[0;31mCalledProcessError\u001b[0m                        Traceback (most recent call last)",
      "Cell \u001b[0;32mIn[5], line 1\u001b[0m\n\u001b[0;32m----> 1\u001b[0m \u001b[43mget_ipython\u001b[49m\u001b[43m(\u001b[49m\u001b[43m)\u001b[49m\u001b[38;5;241;43m.\u001b[39;49m\u001b[43mrun_cell_magic\u001b[49m\u001b[43m(\u001b[49m\u001b[38;5;124;43m'\u001b[39;49m\u001b[38;5;124;43mbash\u001b[39;49m\u001b[38;5;124;43m'\u001b[39;49m\u001b[43m,\u001b[49m\u001b[43m \u001b[49m\u001b[38;5;124;43m'\u001b[39;49m\u001b[38;5;124;43m'\u001b[39;49m\u001b[43m,\u001b[49m\u001b[43m \u001b[49m\u001b[38;5;124;43m'\u001b[39;49m\u001b[38;5;124;43mbetty-style 0x13-more_singly_linked_lists/*.c 0x13-more_singly_linked_lists/*.h\u001b[39;49m\u001b[38;5;130;43;01m\\n\u001b[39;49;00m\u001b[38;5;124;43mbetty-doc 0x13-more_singly_linked_lists/*.c 0x13-more_singly_linked_lists/*.h\u001b[39;49m\u001b[38;5;130;43;01m\\n\u001b[39;49;00m\u001b[38;5;124;43m'\u001b[39;49m\u001b[43m)\u001b[49m\n",
      "File \u001b[0;32m~/anaconda3/envs/alxse/lib/python3.12/site-packages/IPython/core/interactiveshell.py:2541\u001b[0m, in \u001b[0;36mInteractiveShell.run_cell_magic\u001b[0;34m(self, magic_name, line, cell)\u001b[0m\n\u001b[1;32m   2539\u001b[0m \u001b[38;5;28;01mwith\u001b[39;00m \u001b[38;5;28mself\u001b[39m\u001b[38;5;241m.\u001b[39mbuiltin_trap:\n\u001b[1;32m   2540\u001b[0m     args \u001b[38;5;241m=\u001b[39m (magic_arg_s, cell)\n\u001b[0;32m-> 2541\u001b[0m     result \u001b[38;5;241m=\u001b[39m \u001b[43mfn\u001b[49m\u001b[43m(\u001b[49m\u001b[38;5;241;43m*\u001b[39;49m\u001b[43margs\u001b[49m\u001b[43m,\u001b[49m\u001b[43m \u001b[49m\u001b[38;5;241;43m*\u001b[39;49m\u001b[38;5;241;43m*\u001b[39;49m\u001b[43mkwargs\u001b[49m\u001b[43m)\u001b[49m\n\u001b[1;32m   2543\u001b[0m \u001b[38;5;66;03m# The code below prevents the output from being displayed\u001b[39;00m\n\u001b[1;32m   2544\u001b[0m \u001b[38;5;66;03m# when using magics with decorator @output_can_be_silenced\u001b[39;00m\n\u001b[1;32m   2545\u001b[0m \u001b[38;5;66;03m# when the last Python token in the expression is a ';'.\u001b[39;00m\n\u001b[1;32m   2546\u001b[0m \u001b[38;5;28;01mif\u001b[39;00m \u001b[38;5;28mgetattr\u001b[39m(fn, magic\u001b[38;5;241m.\u001b[39mMAGIC_OUTPUT_CAN_BE_SILENCED, \u001b[38;5;28;01mFalse\u001b[39;00m):\n",
      "File \u001b[0;32m~/anaconda3/envs/alxse/lib/python3.12/site-packages/IPython/core/magics/script.py:155\u001b[0m, in \u001b[0;36mScriptMagics._make_script_magic.<locals>.named_script_magic\u001b[0;34m(line, cell)\u001b[0m\n\u001b[1;32m    153\u001b[0m \u001b[38;5;28;01melse\u001b[39;00m:\n\u001b[1;32m    154\u001b[0m     line \u001b[38;5;241m=\u001b[39m script\n\u001b[0;32m--> 155\u001b[0m \u001b[38;5;28;01mreturn\u001b[39;00m \u001b[38;5;28;43mself\u001b[39;49m\u001b[38;5;241;43m.\u001b[39;49m\u001b[43mshebang\u001b[49m\u001b[43m(\u001b[49m\u001b[43mline\u001b[49m\u001b[43m,\u001b[49m\u001b[43m \u001b[49m\u001b[43mcell\u001b[49m\u001b[43m)\u001b[49m\n",
      "File \u001b[0;32m~/anaconda3/envs/alxse/lib/python3.12/site-packages/IPython/core/magics/script.py:315\u001b[0m, in \u001b[0;36mScriptMagics.shebang\u001b[0;34m(self, line, cell)\u001b[0m\n\u001b[1;32m    310\u001b[0m \u001b[38;5;28;01mif\u001b[39;00m args\u001b[38;5;241m.\u001b[39mraise_error \u001b[38;5;129;01mand\u001b[39;00m p\u001b[38;5;241m.\u001b[39mreturncode \u001b[38;5;241m!=\u001b[39m \u001b[38;5;241m0\u001b[39m:\n\u001b[1;32m    311\u001b[0m     \u001b[38;5;66;03m# If we get here and p.returncode is still None, we must have\u001b[39;00m\n\u001b[1;32m    312\u001b[0m     \u001b[38;5;66;03m# killed it but not yet seen its return code. We don't wait for it,\u001b[39;00m\n\u001b[1;32m    313\u001b[0m     \u001b[38;5;66;03m# in case it's stuck in uninterruptible sleep. -9 = SIGKILL\u001b[39;00m\n\u001b[1;32m    314\u001b[0m     rc \u001b[38;5;241m=\u001b[39m p\u001b[38;5;241m.\u001b[39mreturncode \u001b[38;5;129;01mor\u001b[39;00m \u001b[38;5;241m-\u001b[39m\u001b[38;5;241m9\u001b[39m\n\u001b[0;32m--> 315\u001b[0m     \u001b[38;5;28;01mraise\u001b[39;00m CalledProcessError(rc, cell)\n",
      "\u001b[0;31mCalledProcessError\u001b[0m: Command 'b'betty-style 0x13-more_singly_linked_lists/*.c 0x13-more_singly_linked_lists/*.h\\nbetty-doc 0x13-more_singly_linked_lists/*.c 0x13-more_singly_linked_lists/*.h\\n'' returned non-zero exit status 1."
     ]
    }
   ],
   "source": [
    "%%bash\n",
    "betty-style 0x13-more_singly_linked_lists/*.c 0x13-more_singly_linked_lists/*.h\n",
    "betty-doc 0x13-more_singly_linked_lists/*.c 0x13-more_singly_linked_lists/*.h\n"
   ]
  },
  {
   "cell_type": "code",
   "execution_count": 26,
   "metadata": {},
   "outputs": [
    {
     "name": "stdout",
     "output_type": "stream",
     "text": [
      "9\n",
      "8\n",
      "-> 2 elements\n"
     ]
    }
   ],
   "source": [
    "%%bash\n",
    "gcc -Wall -pedantic -Werror -Wextra -std=gnu89 0x13-more_singly_linked_lists/0-main.c 0x13-more_singly_linked_lists/0-print_listint.c -o 0x13-more_singly_linked_lists/a\n",
    "./0x13-more_singly_linked_lists/a\n"
   ]
  },
  {
   "cell_type": "code",
   "execution_count": 27,
   "metadata": {},
   "outputs": [
    {
     "name": "stdout",
     "output_type": "stream",
     "text": [
      "[main ed14cd5] alx-low_level_programming/0x13-more_singly_linked_lists/0-putchar\n",
      " 1 file changed, 1 insertion(+), 1 deletion(-)\n"
     ]
    },
    {
     "name": "stderr",
     "output_type": "stream",
     "text": [
      "To https://github.com/elkomysara/alx-low_level_programming.git\n",
      "   a0a22fa..ed14cd5  main -> main\n"
     ]
    }
   ],
   "source": [
    "%%bash\n",
    "git add .\n",
    "git commit -m \"alx-low_level_programming/0x13-more_singly_linked_lists/0-putchar\"\n",
    "git push"
   ]
  },
  {
   "cell_type": "code",
   "execution_count": null,
   "metadata": {},
   "outputs": [],
   "source": []
  },
  {
   "cell_type": "markdown",
   "metadata": {},
   "source": [
    "###\n",
    "---\n",
    "<center>\n",
    "<h4>1. List length</h4>\n",
    "</center>\n",
    "\n",
    "---"
   ]
  },
  {
   "cell_type": "markdown",
   "metadata": {},
   "source": [
    "\n",
    "#### Write a function that returns the number of elements in a linked `listint_t` list.\n",
    "\n",
    "* Prototype: `size_t listint_len(const listint_t *h);`\n",
    "```bash\n",
    "julien@ubuntu:~/0x13. More singly linked lists$ cat 1-main.c \n",
    "#include <stdlib.h>\n",
    "#include <string.h>\n",
    "#include <stdio.h>\n",
    "#include \"lists.h\"\n",
    "\n",
    "/**\n",
    " * main - check the code\n",
    " *\n",
    " * Return: Always 0.\n",
    " */\n",
    "int main(void)\n",
    "{\n",
    "    listint_t *head;\n",
    "    listint_t *new;\n",
    "    listint_t hello = {8, NULL};\n",
    "    size_t n;\n",
    "\n",
    "    head = &hello;\n",
    "    new = malloc(sizeof(listint_t));\n",
    "    if (new == NULL)\n",
    "    {\n",
    "        printf(\"Error\\n\");\n",
    "        return (1);\n",
    "    }\n",
    "    new->n = 9;\n",
    "    new->next = head;\n",
    "    head = new;\n",
    "    n = listint_len(head);\n",
    "    printf(\"-> %lu elements\\n\", n);\n",
    "    free(new);\n",
    "    return (0);\n",
    "}\n",
    "julien@ubuntu:~/0x13. More singly linked lists$ gcc -Wall -pedantic -Werror -Wextra -std=gnu89 1-main.c 1-listint_len.c -o b\n",
    "julien@ubuntu:~/0x13. More singly linked lists$ ./b \n",
    "-> 2 elements\n",
    "julien@ubuntu:~/0x13. More singly linked lists$  \n",
    "```\n",
    "#### Repo:\n",
    "* GitHub repository: ``` alx-low_level_programming ```\n",
    "* Directory: ```0x13-more_singly_linked_lists``` \n",
    "* File: ```1-listint_len.c```"
   ]
  },
  {
   "cell_type": "code",
   "execution_count": 31,
   "metadata": {},
   "outputs": [
    {
     "name": "stdout",
     "output_type": "stream",
     "text": [
      "Writing 0x13-more_singly_linked_lists/1-main.c\n"
     ]
    }
   ],
   "source": [
    "%%file 0x13-more_singly_linked_lists/1-main.c\n",
    "#include <stdlib.h>\n",
    "#include <string.h>\n",
    "#include <stdio.h>\n",
    "#include \"lists.h\"\n",
    "\n",
    "/**\n",
    "* main - check the code\n",
    "*\n",
    "* Return: Always 0.\n",
    "*/\n",
    "int main(void)\n",
    "{\n",
    "listint_t *head;\n",
    "listint_t *new;\n",
    "listint_t hello = {8, NULL};\n",
    "size_t n;\n",
    "\n",
    "head = &hello;\n",
    "new = malloc(sizeof(listint_t));\n",
    "if (new == NULL)\n",
    "{\n",
    "printf(\"Error\\n\");\n",
    "return (1);\n",
    "}\n",
    "new->n = 9;\n",
    "new->next = head;\n",
    "head = new;\n",
    "n = listint_len(head);\n",
    "printf(\"-> %lu elements\\n\", n);\n",
    "free(new);\n",
    "return (0);\n",
    "}"
   ]
  },
  {
   "cell_type": "code",
   "execution_count": 6,
   "metadata": {},
   "outputs": [
    {
     "name": "stdout",
     "output_type": "stream",
     "text": [
      "Overwriting 0x13-more_singly_linked_lists/1-listint_len.c\n"
     ]
    }
   ],
   "source": [
    "%%file 0x13-more_singly_linked_lists/1-listint_len.c\n",
    "#include \"lists.h\"\n",
    "\n",
    "/**\n",
    "* listint_len - returns the number of elements in a linked listint_t list\n",
    "* @h: pointer to the head of the list\n",
    "*\n",
    "* Return: the number of elements\n",
    "*/\n",
    "size_t listint_len(const listint_t *h)\n",
    "{\n",
    "size_t count = 0;\n",
    "\n",
    "while (h)\n",
    "{\n",
    "count++;\n",
    "h = h->next;\n",
    "}\n",
    "\n",
    "return (count);\n",
    "}\n"
   ]
  },
  {
   "cell_type": "code",
   "execution_count": 7,
   "metadata": {},
   "outputs": [
    {
     "name": "stdout",
     "output_type": "stream",
     "text": [
      "main\n",
      "print_listint\n",
      "listint_len\n",
      "main\n",
      "struct listint_s\n"
     ]
    }
   ],
   "source": [
    "%%bash\n",
    "betty-style 0x13-more_singly_linked_lists/*.c 0x13-more_singly_linked_lists/*.h\n",
    "betty-doc 0x13-more_singly_linked_lists/*.c 0x13-more_singly_linked_lists/*.h\n"
   ]
  },
  {
   "cell_type": "code",
   "execution_count": 8,
   "metadata": {},
   "outputs": [
    {
     "name": "stdout",
     "output_type": "stream",
     "text": [
      "-> 2 elements\n"
     ]
    }
   ],
   "source": [
    "%%bash\n",
    "gcc -Wall -pedantic -Werror -Wextra -std=gnu89 0x13-more_singly_linked_lists/1-main.c 0x13-more_singly_linked_lists/1-listint_len.c -o 0x13-more_singly_linked_lists/b\n",
    "./0x13-more_singly_linked_lists/b\n"
   ]
  },
  {
   "cell_type": "code",
   "execution_count": 9,
   "metadata": {},
   "outputs": [
    {
     "name": "stdout",
     "output_type": "stream",
     "text": [
      "[main 6a8ab3c] alx-low_level_programming/0x13-more_singly_linked_lists/0-putchar\n",
      " 6 files changed, 838 insertions(+), 233 deletions(-)\n",
      " create mode 100644 0x13-more_singly_linked_lists/1-listint_len.c\n",
      " create mode 100644 0x13-more_singly_linked_lists/1-main.c\n",
      " create mode 100755 0x13-more_singly_linked_lists/b\n"
     ]
    },
    {
     "name": "stderr",
     "output_type": "stream",
     "text": [
      "To https://github.com/elkomysara/alx-low_level_programming.git\n",
      "   ed14cd5..6a8ab3c  main -> main\n"
     ]
    }
   ],
   "source": [
    "%%bash\n",
    "git add .\n",
    "git commit -m \"alx-low_level_programming/0x13-more_singly_linked_lists/0-putchar\"\n",
    "git push"
   ]
  },
  {
   "cell_type": "markdown",
   "metadata": {},
   "source": [
    "###\n",
    "---\n",
    "<center>\n",
    "<h4> 2. Add node</h4>\n",
    "</center>\n",
    "\n",
    "---"
   ]
  },
  {
   "cell_type": "markdown",
   "metadata": {},
   "source": [
    "\n",
    "#### Write a function that adds a new node at the beginning of a `listint_t list`.\n",
    "\n",
    "* Prototype: `listint_t *add_nodeint(listint_t **head, const int n);`\n",
    "* Return: the address of the new element, or `NULL` if it failed\n",
    "\n",
    "```bash\n",
    "julien@ubuntu:~/0x13. More singly linked lists$ cat 2-main.c \n",
    "#include <stdlib.h>\n",
    "#include <string.h>\n",
    "#include <stdio.h>\n",
    "#include \"lists.h\"\n",
    "\n",
    "/**\n",
    " * main - check the code\n",
    " *\n",
    " * Return: Always 0.\n",
    " */\n",
    "int main(void)\n",
    "{\n",
    "    listint_t *head;\n",
    "\n",
    "    head = NULL;\n",
    "    add_nodeint(&head, 0);\n",
    "    add_nodeint(&head, 1);\n",
    "    add_nodeint(&head, 2);\n",
    "    add_nodeint(&head, 3);\n",
    "    add_nodeint(&head, 4);\n",
    "    add_nodeint(&head, 98);\n",
    "    add_nodeint(&head, 402);\n",
    "    add_nodeint(&head, 1024);\n",
    "    print_listint(head);\n",
    "    return (0);\n",
    "}\n",
    "julien@ubuntu:~/0x13. More singly linked lists$ gcc -Wall -pedantic -Werror -Wextra -std=gnu89 2-main.c 2-add_nodeint.c 0-print_listint.c -o c\n",
    "julien@ubuntu:~/0x13. More singly linked lists$ ./c \n",
    "1024\n",
    "402\n",
    "98\n",
    "4\n",
    "3\n",
    "2\n",
    "1\n",
    "0\n",
    "julien@ubuntu:~/0x13. More singly linked lists$  \n",
    "```\n",
    "#### Repo:\n",
    "* GitHub repository: ``` alx-low_level_programming ```\n",
    "* Directory: ```0x13-more_singly_linked_lists``` \n",
    "* File: ```2-add_nodeint.c```"
   ]
  },
  {
   "cell_type": "code",
   "execution_count": 10,
   "metadata": {},
   "outputs": [
    {
     "name": "stdout",
     "output_type": "stream",
     "text": [
      "Writing 0x13-more_singly_linked_lists/2-main.c\n"
     ]
    }
   ],
   "source": [
    "%%file 0x13-more_singly_linked_lists/2-main.c\n",
    "#include <stdlib.h>\n",
    "#include <string.h>\n",
    "#include <stdio.h>\n",
    "#include \"lists.h\"\n",
    "\n",
    "/**\n",
    "* main - check the code\n",
    "*\n",
    "* Return: Always 0.\n",
    "*/\n",
    "int main(void)\n",
    "{\n",
    "listint_t *head;\n",
    "\n",
    "head = NULL;\n",
    "add_nodeint(&head, 0);\n",
    "add_nodeint(&head, 1);\n",
    "add_nodeint(&head, 2);\n",
    "add_nodeint(&head, 3);\n",
    "add_nodeint(&head, 4);\n",
    "add_nodeint(&head, 98);\n",
    "add_nodeint(&head, 402);\n",
    "add_nodeint(&head, 1024);\n",
    "print_listint(head);\n",
    "return (0);\n",
    "}"
   ]
  },
  {
   "cell_type": "code",
   "execution_count": 14,
   "metadata": {},
   "outputs": [
    {
     "name": "stdout",
     "output_type": "stream",
     "text": [
      "Overwriting 0x13-more_singly_linked_lists/lists.h\n"
     ]
    }
   ],
   "source": [
    "%%file 0x13-more_singly_linked_lists/lists.h\n",
    "#ifndef LISTS_H\n",
    "#define LISTS_H\n",
    "\n",
    "#include <stddef.h>\n",
    "\n",
    "/**\n",
    "* struct listint_s - singly linked list\n",
    "* @n: integer\n",
    "* @next: points to the next node\n",
    "*\n",
    "* Description: singly linked list node structure\n",
    "*/\n",
    "typedef struct listint_s\n",
    "{\n",
    "int n;\n",
    "struct listint_s *next;\n",
    "} listint_t;\n",
    "\n",
    "size_t print_listint(const listint_t *h);\n",
    "size_t listint_len(const listint_t *h);\n",
    "listint_t *add_nodeint(listint_t **head, const int n);\n",
    "listint_t *add_nodeint_end(listint_t **head, const int n);\n",
    "void free_listint(listint_t *head);\n",
    "void free_listint2(listint_t **head);\n",
    "int pop_listint(listint_t **head);\n",
    "listint_t *get_nodeint_at_index(listint_t *head, unsigned int index);\n",
    "int sum_listint(listint_t *head);\n",
    "listint_t *insert_nodeint_at_index(listint_t **head, unsigned int idx, int n);\n",
    "int delete_nodeint_at_index(listint_t **head, unsigned int index);\n",
    "listint_t *reverse_listint(listint_t **head);\n",
    "size_t print_listint_safe(const listint_t *head);\n",
    "size_t free_listint_safe(listint_t **h);\n",
    "listint_t *find_listint_loop(listint_t *head);\n",
    "\n",
    "#endif /* LISTS_H */\n"
   ]
  },
  {
   "cell_type": "code",
   "execution_count": 15,
   "metadata": {},
   "outputs": [
    {
     "name": "stdout",
     "output_type": "stream",
     "text": [
      "Overwriting 0x13-more_singly_linked_lists/2-add_nodeint.c\n"
     ]
    }
   ],
   "source": [
    "%%file 0x13-more_singly_linked_lists/2-add_nodeint.c\n",
    "#include \"lists.h\"\n",
    "#include <stdlib.h>\n",
    "\n",
    "/**\n",
    "* add_nodeint - adds a new node at the beginning of a listint_t list\n",
    "* @head: double pointer to the head of the list\n",
    "* @n: integer value to store in the new node\n",
    "*\n",
    "* Return: the address of the new element, or NULL if it failed\n",
    "*/\n",
    "listint_t *add_nodeint(listint_t **head, const int n)\n",
    "{\n",
    "listint_t *new_node;\n",
    "\n",
    "new_node = malloc(sizeof(listint_t));\n",
    "if (!new_node)\n",
    "return (NULL);\n",
    "\n",
    "new_node->n = n;\n",
    "new_node->next = *head;\n",
    "*head = new_node;\n",
    "\n",
    "return (new_node);\n",
    "}\n"
   ]
  },
  {
   "cell_type": "code",
   "execution_count": 16,
   "metadata": {},
   "outputs": [
    {
     "name": "stdout",
     "output_type": "stream",
     "text": [
      "main\n",
      "print_listint\n",
      "listint_len\n",
      "main\n",
      "add_nodeint\n",
      "main\n",
      "struct listint_s\n"
     ]
    }
   ],
   "source": [
    "%%bash\n",
    "betty-style 0x13-more_singly_linked_lists/*.c 0x13-more_singly_linked_lists/*.h\n",
    "betty-doc 0x13-more_singly_linked_lists/*.c 0x13-more_singly_linked_lists/*.h\n"
   ]
  },
  {
   "cell_type": "code",
   "execution_count": 17,
   "metadata": {},
   "outputs": [
    {
     "name": "stdout",
     "output_type": "stream",
     "text": [
      "1024\n",
      "402\n",
      "98\n",
      "4\n",
      "3\n",
      "2\n",
      "1\n",
      "0\n"
     ]
    }
   ],
   "source": [
    "%%bash\n",
    "gcc -Wall -pedantic -Werror -Wextra -std=gnu89 0x13-more_singly_linked_lists/2-main.c 0x13-more_singly_linked_lists/2-add_nodeint.c 0x13-more_singly_linked_lists/0-print_listint.c -o 0x13-more_singly_linked_lists/c\n",
    "./0x13-more_singly_linked_lists/c\n"
   ]
  },
  {
   "cell_type": "code",
   "execution_count": 18,
   "metadata": {},
   "outputs": [
    {
     "name": "stdout",
     "output_type": "stream",
     "text": [
      "[main c4a34eb] alx-low_level_programming/0x13-more_singly_linked_lists/0-putchar\n",
      " 3 files changed, 50 insertions(+)\n",
      " create mode 100644 0x13-more_singly_linked_lists/2-add_nodeint.c\n",
      " create mode 100644 0x13-more_singly_linked_lists/2-main.c\n",
      " create mode 100755 0x13-more_singly_linked_lists/c\n"
     ]
    },
    {
     "name": "stderr",
     "output_type": "stream",
     "text": [
      "To https://github.com/elkomysara/alx-low_level_programming.git\n",
      "   6a8ab3c..c4a34eb  main -> main\n"
     ]
    }
   ],
   "source": [
    "%%bash\n",
    "git add .\n",
    "git commit -m \"alx-low_level_programming/0x13-more_singly_linked_lists/0-putchar\"\n",
    "git push"
   ]
  },
  {
   "cell_type": "code",
   "execution_count": null,
   "metadata": {},
   "outputs": [],
   "source": []
  },
  {
   "cell_type": "markdown",
   "metadata": {},
   "source": [
    "###\n",
    "---\n",
    "<center>\n",
    "<h4>3. Add node at the end</h4>\n",
    "</center>\n",
    "\n",
    "---"
   ]
  },
  {
   "cell_type": "markdown",
   "metadata": {},
   "source": [
    "\n",
    "#### Write a function that adds a new node at the end of a `listint_t` list.\n",
    "\n",
    "* Prototype: `listint_t *add_nodeint_end(listint_t **head, const int n);`\n",
    "* Return: the address of the new element, or `NULL` if it failed\n",
    "\n",
    "```bash\n",
    "julien@ubuntu:~/0x13. More singly linked lists$ cat 3-main.c \n",
    "#include <stdlib.h>\n",
    "#include <string.h>\n",
    "#include <stdio.h>\n",
    "#include \"lists.h\"\n",
    "\n",
    "/**\n",
    " * main - check the code\n",
    " *\n",
    " * Return: Always 0.\n",
    " */\n",
    "int main(void)\n",
    "{\n",
    "    listint_t *head;\n",
    "\n",
    "    head = NULL;\n",
    "    add_nodeint_end(&head, 0);\n",
    "    add_nodeint_end(&head, 1);\n",
    "    add_nodeint_end(&head, 2);\n",
    "    add_nodeint_end(&head, 3);\n",
    "    add_nodeint_end(&head, 4);\n",
    "    add_nodeint_end(&head, 98);\n",
    "    add_nodeint_end(&head, 402);\n",
    "    add_nodeint_end(&head, 1024);\n",
    "    print_listint(head);\n",
    "    return (0);\n",
    "}\n",
    "julien@ubuntu:~/0x13. More singly linked lists$ gcc -Wall -pedantic -Werror -Wextra -std=gnu89 3-main.c 3-add_nodeint_end.c 0-print_listint.c -o d\n",
    "julien@ubuntu:~/0x13. More singly linked lists$ ./d \n",
    "0\n",
    "1\n",
    "2\n",
    "3\n",
    "4\n",
    "98\n",
    "402\n",
    "1024\n",
    "julien@ubuntu:~/0x13. More singly linked lists$ \n",
    "\n",
    "```\n",
    "#### Repo:\n",
    "* GitHub repository: ``` alx-low_level_programming ```\n",
    "* Directory: ```0x13-more_singly_linked_lists``` \n",
    "* File: ```3-add_nodeint_end.c```"
   ]
  },
  {
   "cell_type": "code",
   "execution_count": 19,
   "metadata": {},
   "outputs": [
    {
     "name": "stdout",
     "output_type": "stream",
     "text": [
      "Overwriting 0x13-more_singly_linked_lists/lists.h\n"
     ]
    }
   ],
   "source": [
    "%%file 0x13-more_singly_linked_lists/lists.h\n",
    "#ifndef LISTS_H\n",
    "#define LISTS_H\n",
    "\n",
    "#include <stddef.h>\n",
    "\n",
    "/**\n",
    "* struct listint_s - singly linked list\n",
    "* @n: integer\n",
    "* @next: points to the next node\n",
    "*\n",
    "* Description: singly linked list node structure\n",
    "*/\n",
    "typedef struct listint_s\n",
    "{\n",
    "int n;\n",
    "struct listint_s *next;\n",
    "} listint_t;\n",
    "\n",
    "size_t print_listint(const listint_t *h);\n",
    "size_t listint_len(const listint_t *h);\n",
    "listint_t *add_nodeint(listint_t **head, const int n);\n",
    "listint_t *add_nodeint_end(listint_t **head, const int n);\n",
    "void free_listint(listint_t *head);\n",
    "void free_listint2(listint_t **head);\n",
    "int pop_listint(listint_t **head);\n",
    "listint_t *get_nodeint_at_index(listint_t *head, unsigned int index);\n",
    "int sum_listint(listint_t *head);\n",
    "listint_t *insert_nodeint_at_index(listint_t **head, unsigned int idx, int n);\n",
    "int delete_nodeint_at_index(listint_t **head, unsigned int index);\n",
    "listint_t *reverse_listint(listint_t **head);\n",
    "size_t print_listint_safe(const listint_t *head);\n",
    "size_t free_listint_safe(listint_t **h);\n",
    "listint_t *find_listint_loop(listint_t *head);\n",
    "\n",
    "#endif /* LISTS_H */\n"
   ]
  },
  {
   "cell_type": "code",
   "execution_count": 20,
   "metadata": {},
   "outputs": [
    {
     "name": "stdout",
     "output_type": "stream",
     "text": [
      "Writing 0x13-more_singly_linked_lists/3-add_nodeint_end.c\n"
     ]
    }
   ],
   "source": [
    "%%file 0x13-more_singly_linked_lists/3-add_nodeint_end.c\n",
    "#include \"lists.h\"\n",
    "#include <stdlib.h>\n",
    "\n",
    "/**\n",
    "* add_nodeint_end - adds a new node at the end of a listint_t list\n",
    "* @head: double pointer to the head of the list\n",
    "* @n: integer value to store in the new node\n",
    "*\n",
    "* Return: the address of the new element, or NULL if it failed\n",
    "*/\n",
    "listint_t *add_nodeint_end(listint_t **head, const int n)\n",
    "{\n",
    "listint_t *new_node, *temp;\n",
    "\n",
    "new_node = malloc(sizeof(listint_t));\n",
    "if (!new_node)\n",
    "return (NULL);\n",
    "\n",
    "new_node->n = n;\n",
    "new_node->next = NULL;\n",
    "\n",
    "if (*head == NULL)\n",
    "{\n",
    "*head = new_node;\n",
    "return (new_node);\n",
    "}\n",
    "\n",
    "temp = *head;\n",
    "while (temp->next)\n",
    "temp = temp->next;\n",
    "\n",
    "temp->next = new_node;\n",
    "return (new_node);\n",
    "}\n"
   ]
  },
  {
   "cell_type": "code",
   "execution_count": 21,
   "metadata": {},
   "outputs": [
    {
     "name": "stdout",
     "output_type": "stream",
     "text": [
      "Writing 0x13-more_singly_linked_lists/3-main.c\n"
     ]
    }
   ],
   "source": [
    "%%file 0x13-more_singly_linked_lists/3-main.c\n",
    "#include <stdlib.h>\n",
    "#include <string.h>\n",
    "#include <stdio.h>\n",
    "#include \"lists.h\"\n",
    "\n",
    "/**\n",
    "* main - check the code\n",
    "*\n",
    "* Return: Always 0.\n",
    "*/\n",
    "int main(void)\n",
    "{\n",
    "listint_t *head;\n",
    "\n",
    "head = NULL;\n",
    "add_nodeint_end(&head, 0);\n",
    "add_nodeint_end(&head, 1);\n",
    "add_nodeint_end(&head, 2);\n",
    "add_nodeint_end(&head, 3);\n",
    "add_nodeint_end(&head, 4);\n",
    "add_nodeint_end(&head, 98);\n",
    "add_nodeint_end(&head, 402);\n",
    "add_nodeint_end(&head, 1024);\n",
    "print_listint(head);\n",
    "return (0);\n",
    "}\n"
   ]
  },
  {
   "cell_type": "code",
   "execution_count": 22,
   "metadata": {},
   "outputs": [
    {
     "name": "stdout",
     "output_type": "stream",
     "text": [
      "main\n",
      "print_listint\n",
      "listint_len\n",
      "main\n",
      "add_nodeint\n",
      "main\n",
      "add_nodeint_end\n",
      "main\n",
      "struct listint_s\n"
     ]
    }
   ],
   "source": [
    "%%bash\n",
    "betty-style 0x13-more_singly_linked_lists/*.c 0x13-more_singly_linked_lists/*.h\n",
    "betty-doc 0x13-more_singly_linked_lists/*.c 0x13-more_singly_linked_lists/*.h\n"
   ]
  },
  {
   "cell_type": "code",
   "execution_count": 23,
   "metadata": {},
   "outputs": [
    {
     "name": "stdout",
     "output_type": "stream",
     "text": [
      "0\n",
      "1\n",
      "2\n",
      "3\n",
      "4\n",
      "98\n",
      "402\n",
      "1024\n"
     ]
    }
   ],
   "source": [
    "%%bash\n",
    "gcc -Wall -pedantic -Werror -Wextra -std=gnu89 0x13-more_singly_linked_lists/3-main.c 0x13-more_singly_linked_lists/3-add_nodeint_end.c 0x13-more_singly_linked_lists/0-print_listint.c -o 0x13-more_singly_linked_lists/d\n",
    "./0x13-more_singly_linked_lists/d\n"
   ]
  },
  {
   "cell_type": "code",
   "execution_count": 24,
   "metadata": {},
   "outputs": [
    {
     "name": "stdout",
     "output_type": "stream",
     "text": [
      "[main 06eca0c] alx-low_level_programming/0x13-more_singly_linked_lists/0-putchar\n",
      " 3 files changed, 60 insertions(+)\n",
      " create mode 100644 0x13-more_singly_linked_lists/3-add_nodeint_end.c\n",
      " create mode 100644 0x13-more_singly_linked_lists/3-main.c\n",
      " create mode 100755 0x13-more_singly_linked_lists/d\n"
     ]
    },
    {
     "name": "stderr",
     "output_type": "stream",
     "text": [
      "To https://github.com/elkomysara/alx-low_level_programming.git\n",
      "   c4a34eb..06eca0c  main -> main\n"
     ]
    }
   ],
   "source": [
    "%%bash\n",
    "git add .\n",
    "git commit -m \"alx-low_level_programming/0x13-more_singly_linked_lists/0-putchar\"\n",
    "git push"
   ]
  },
  {
   "cell_type": "code",
   "execution_count": null,
   "metadata": {},
   "outputs": [],
   "source": []
  },
  {
   "cell_type": "markdown",
   "metadata": {},
   "source": [
    "###\n",
    "---\n",
    "<center>\n",
    "<h4>4. Free list</h4>\n",
    "</center>\n",
    "\n",
    "---"
   ]
  },
  {
   "cell_type": "markdown",
   "metadata": {},
   "source": [
    "\n",
    "#### Write a function that frees a `listint_t` list.\n",
    "\n",
    "* Prototype: `void free_listint(listint_t *head);`\n",
    "\n",
    "```bash\n",
    " julien@ubuntu:~/0x13. More singly linked lists$ cat 4-main.c \n",
    "#include <stdlib.h>\n",
    "#include <string.h>\n",
    "#include <stdio.h>\n",
    "#include \"lists.h\"\n",
    "\n",
    "/**\n",
    " * main - check the code\n",
    " *\n",
    " * Return: Always 0.\n",
    " */\n",
    "int main(void)\n",
    "{\n",
    "    listint_t *head;\n",
    "\n",
    "    head = NULL;\n",
    "    add_nodeint_end(&head, 0);\n",
    "    add_nodeint_end(&head, 1);\n",
    "    add_nodeint_end(&head, 2);\n",
    "    add_nodeint_end(&head, 3);\n",
    "    add_nodeint_end(&head, 4);\n",
    "    add_nodeint_end(&head, 98);\n",
    "    add_nodeint_end(&head, 402);\n",
    "    add_nodeint_end(&head, 1024);\n",
    "    print_listint(head);\n",
    "    free_listint(head);\n",
    "    head = NULL;\n",
    "    return (0);\n",
    "}\n",
    "julien@ubuntu:~/0x13. More singly linked lists$ gcc -Wall -pedantic -Werror -Wextra -std=gnu89 4-main.c 3-add_nodeint_end.c 0-print_listint.c 4-free_listint.c -o e\n",
    "julien@ubuntu:~/0x13. More singly linked lists$ valgrind ./e \n",
    "==3643== Memcheck, a memory error detector\n",
    "==3643== Copyright (C) 2002-2015, and GNU GPL'd, by Julian Seward et al.\n",
    "==3643== Using Valgrind-3.11.0 and LibVEX; rerun with -h for copyright info\n",
    "==3643== Command: ./e\n",
    "==3643== \n",
    "0\n",
    "1\n",
    "2\n",
    "3\n",
    "4\n",
    "98\n",
    "402\n",
    "1024\n",
    "==3643== \n",
    "==3643== HEAP SUMMARY:\n",
    "==3643==     in use at exit: 0 bytes in 0 blocks\n",
    "==3643==   total heap usage: 9 allocs, 9 frees, 1,152 bytes allocated\n",
    "==3643== \n",
    "==3643== All heap blocks were freed -- no leaks are possible\n",
    "==3643== \n",
    "==3643== For counts of detected and suppressed errors, rerun with: -v\n",
    "==3643== ERROR SUMMARY: 0 errors from 0 contexts (suppressed: 0 from 0)\n",
    "julien@ubuntu:~/0x13. More singly linked lists$ \n",
    "\n",
    "```\n",
    "#### Repo:\n",
    "* GitHub repository: ``` alx-low_level_programming ```\n",
    "* Directory: ```0x13-more_singly_linked_lists``` \n",
    "* File: ```4-free_listint.c```"
   ]
  },
  {
   "cell_type": "code",
   "execution_count": 26,
   "metadata": {},
   "outputs": [
    {
     "name": "stdout",
     "output_type": "stream",
     "text": [
      "Writing 0x13-more_singly_linked_lists/4-main.c\n"
     ]
    }
   ],
   "source": [
    "%%file 0x13-more_singly_linked_lists/4-main.c\n",
    "#include <stdlib.h>\n",
    "#include <string.h>\n",
    "#include <stdio.h>\n",
    "#include \"lists.h\"\n",
    "\n",
    "/**\n",
    "* main - check the code\n",
    "*\n",
    "* Return: Always 0.\n",
    "*/\n",
    "int main(void)\n",
    "{\n",
    "listint_t *head;\n",
    "\n",
    "head = NULL;\n",
    "add_nodeint_end(&head, 0);\n",
    "add_nodeint_end(&head, 1);\n",
    "add_nodeint_end(&head, 2);\n",
    "add_nodeint_end(&head, 3);\n",
    "add_nodeint_end(&head, 4);\n",
    "add_nodeint_end(&head, 98);\n",
    "add_nodeint_end(&head, 402);\n",
    "add_nodeint_end(&head, 1024);\n",
    "print_listint(head);\n",
    "free_listint(head);\n",
    "head = NULL;\n",
    "return (0);\n",
    "}\n"
   ]
  },
  {
   "cell_type": "code",
   "execution_count": 25,
   "metadata": {},
   "outputs": [
    {
     "name": "stdout",
     "output_type": "stream",
     "text": [
      "Writing 0x13-more_singly_linked_lists/4-free_listint.c\n"
     ]
    }
   ],
   "source": [
    "%%file 0x13-more_singly_linked_lists/4-free_listint.c\n",
    "#include \"lists.h\"\n",
    "#include <stdlib.h>\n",
    "\n",
    "/**\n",
    "* free_listint - frees a listint_t list\n",
    "* @head: pointer to the head of the list\n",
    "*/\n",
    "void free_listint(listint_t *head)\n",
    "{\n",
    "listint_t *temp;\n",
    "\n",
    "while (head)\n",
    "{\n",
    "temp = head;\n",
    "head = head->next;\n",
    "free(temp);\n",
    "}\n",
    "}\n"
   ]
  },
  {
   "cell_type": "code",
   "execution_count": 27,
   "metadata": {},
   "outputs": [
    {
     "name": "stdout",
     "output_type": "stream",
     "text": [
      "main\n",
      "print_listint\n",
      "listint_len\n",
      "main\n",
      "add_nodeint\n",
      "main\n",
      "add_nodeint_end\n",
      "main\n",
      "free_listint\n",
      "main\n",
      "struct listint_s\n"
     ]
    }
   ],
   "source": [
    "%%bash\n",
    "betty-style 0x13-more_singly_linked_lists/*.c 0x13-more_singly_linked_lists/*.h\n",
    "betty-doc 0x13-more_singly_linked_lists/*.c 0x13-more_singly_linked_lists/*.h\n"
   ]
  },
  {
   "cell_type": "code",
   "execution_count": 29,
   "metadata": {},
   "outputs": [
    {
     "name": "stderr",
     "output_type": "stream",
     "text": [
      "==24666== Memcheck, a memory error detector\n",
      "==24666== Copyright (C) 2002-2017, and GNU GPL'd, by Julian Seward et al.\n",
      "==24666== Using Valgrind-3.15.0 and LibVEX; rerun with -h for copyright info\n",
      "==24666== Command: ./0x13-more_singly_linked_lists/e\n",
      "==24666== \n"
     ]
    },
    {
     "name": "stdout",
     "output_type": "stream",
     "text": [
      "0\n",
      "1\n",
      "2\n",
      "3\n",
      "4\n",
      "98\n",
      "402\n",
      "1024\n"
     ]
    },
    {
     "name": "stderr",
     "output_type": "stream",
     "text": [
      "==24666== \n",
      "==24666== HEAP SUMMARY:\n",
      "==24666==     in use at exit: 0 bytes in 0 blocks\n",
      "==24666==   total heap usage: 9 allocs, 9 frees, 4,224 bytes allocated\n",
      "==24666== \n",
      "==24666== All heap blocks were freed -- no leaks are possible\n",
      "==24666== \n",
      "==24666== For lists of detected and suppressed errors, rerun with: -s\n",
      "==24666== ERROR SUMMARY: 0 errors from 0 contexts (suppressed: 0 from 0)\n"
     ]
    }
   ],
   "source": [
    "%%bash\n",
    "gcc -Wall -pedantic -Werror -Wextra -std=gnu89 0x13-more_singly_linked_lists/4-main.c 0x13-more_singly_linked_lists/3-add_nodeint_end.c 0x13-more_singly_linked_lists/0-print_listint.c 0x13-more_singly_linked_lists/4-free_listint.c -o 0x13-more_singly_linked_lists/e\n",
    "valgrind ./0x13-more_singly_linked_lists/e"
   ]
  },
  {
   "cell_type": "code",
   "execution_count": 30,
   "metadata": {},
   "outputs": [
    {
     "name": "stdout",
     "output_type": "stream",
     "text": [
      "[main eb709b0] alx-low_level_programming/0x13-more_singly_linked_lists/0-putchar\n",
      " 3 files changed, 46 insertions(+)\n",
      " create mode 100644 0x13-more_singly_linked_lists/4-free_listint.c\n",
      " create mode 100644 0x13-more_singly_linked_lists/4-main.c\n",
      " create mode 100755 0x13-more_singly_linked_lists/e\n"
     ]
    },
    {
     "name": "stderr",
     "output_type": "stream",
     "text": [
      "To https://github.com/elkomysara/alx-low_level_programming.git\n",
      "   06eca0c..eb709b0  main -> main\n"
     ]
    }
   ],
   "source": [
    "%%bash\n",
    "git add .\n",
    "git commit -m \"alx-low_level_programming/0x13-more_singly_linked_lists/0-putchar\"\n",
    "git push"
   ]
  },
  {
   "cell_type": "code",
   "execution_count": null,
   "metadata": {},
   "outputs": [],
   "source": []
  },
  {
   "cell_type": "markdown",
   "metadata": {},
   "source": [
    "###\n",
    "---\n",
    "<center>\n",
    "<h4>5. Free</h4>\n",
    "</center>\n",
    "\n",
    "---"
   ]
  },
  {
   "cell_type": "markdown",
   "metadata": {},
   "source": [
    "\n",
    "#### Write a function that frees a` listint_t` list.\n",
    "\n",
    "* Prototype: void `free_listint2(listint_t **head);`\n",
    "* The function sets the head to` NULL`\n",
    "\n",
    "```bash\n",
    " julien@ubuntu:~/0x13. More singly linked lists$ cat 5-main.c \n",
    "#include <stdlib.h>\n",
    "#include <string.h>\n",
    "#include <stdio.h>\n",
    "#include \"lists.h\"\n",
    "\n",
    "/**\n",
    " * main - check the code\n",
    " *\n",
    " * Return: Always 0.\n",
    " */\n",
    "int main(void)\n",
    "{\n",
    "    listint_t *head;\n",
    "\n",
    "    head = NULL;\n",
    "    add_nodeint_end(&head, 0);\n",
    "    add_nodeint_end(&head, 1);\n",
    "    add_nodeint_end(&head, 2);\n",
    "    add_nodeint_end(&head, 3);\n",
    "    add_nodeint_end(&head, 4);\n",
    "    add_nodeint_end(&head, 98);\n",
    "    add_nodeint_end(&head, 402);\n",
    "    add_nodeint_end(&head, 1024);\n",
    "    print_listint(head);\n",
    "    free_listint2(&head);\n",
    "    printf(\"%p\\n\", (void *)head);\n",
    "    return (0);\n",
    "}\n",
    "julien@ubuntu:~/0x13. More singly linked lists$ gcc -Wall -pedantic -Werror -Wextra -std=gnu89 5-main.c 3-add_nodeint_end.c 0-print_listint.c 5-free_listint2.c -o f\n",
    "julien@ubuntu:~/0x13. More singly linked lists$ valgrind ./f \n",
    "==3843== Memcheck, a memory error detector\n",
    "==3843== Copyright (C) 2002-2015, and GNU GPL'd, by Julian Seward et al.\n",
    "==3843== Using Valgrind-3.11.0 and LibVEX; rerun with -h for copyright info\n",
    "==3843== Command: ./f\n",
    "==3843== \n",
    "0\n",
    "1\n",
    "2\n",
    "3\n",
    "4\n",
    "98\n",
    "402\n",
    "1024\n",
    "(nil)\n",
    "==3843== \n",
    "==3843== HEAP SUMMARY:\n",
    "==3843==     in use at exit: 0 bytes in 0 blocks\n",
    "==3843==   total heap usage: 9 allocs, 9 frees, 1,152 bytes allocated\n",
    "==3843== \n",
    "==3843== All heap blocks were freed -- no leaks are possible\n",
    "==3843== \n",
    "==3843== For counts of detected and suppressed errors, rerun with: -v\n",
    "==3843== ERROR SUMMARY: 0 errors from 0 contexts (suppressed: 0 from 0)\n",
    "julien@ubuntu:~/0x13. More singly linked lists$ \n",
    "\n",
    "```\n",
    "#### Repo:\n",
    "* GitHub repository: ``` alx-low_level_programming ```\n",
    "* Directory: ```0x13-more_singly_linked_lists``` \n",
    "* File: ```5-free_listint2.c```"
   ]
  },
  {
   "cell_type": "code",
   "execution_count": 31,
   "metadata": {},
   "outputs": [
    {
     "name": "stdout",
     "output_type": "stream",
     "text": [
      "Writing 0x13-more_singly_linked_lists/5-main.c\n"
     ]
    }
   ],
   "source": [
    "%%file 0x13-more_singly_linked_lists/5-main.c \n",
    "#include <stdlib.h>\n",
    "#include <string.h>\n",
    "#include <stdio.h>\n",
    "#include \"lists.h\"\n",
    "\n",
    "/**\n",
    "* main - check the code\n",
    "*\n",
    "* Return: Always 0.\n",
    "*/\n",
    "int main(void)\n",
    "{\n",
    "listint_t *head;\n",
    "\n",
    "head = NULL;\n",
    "add_nodeint_end(&head, 0);\n",
    "add_nodeint_end(&head, 1);\n",
    "add_nodeint_end(&head, 2);\n",
    "add_nodeint_end(&head, 3);\n",
    "add_nodeint_end(&head, 4);\n",
    "add_nodeint_end(&head, 98);\n",
    "add_nodeint_end(&head, 402);\n",
    "add_nodeint_end(&head, 1024);\n",
    "print_listint(head);\n",
    "free_listint2(&head);\n",
    "printf(\"%p\\n\", (void *)head);\n",
    "return (0);\n",
    "}"
   ]
  },
  {
   "cell_type": "code",
   "execution_count": 32,
   "metadata": {},
   "outputs": [
    {
     "name": "stdout",
     "output_type": "stream",
     "text": [
      "Writing 0x13-more_singly_linked_lists/5-free_listint2.c\n"
     ]
    }
   ],
   "source": [
    "%%file 0x13-more_singly_linked_lists/5-free_listint2.c\n",
    "#include \"lists.h\"\n",
    "#include <stdlib.h>\n",
    "\n",
    "/**\n",
    "* free_listint2 - Frees a listint_t list and sets the head to NULL.\n",
    "* @head: Double pointer to the head of the list.\n",
    "*\n",
    "* Description: This function frees each node of the list and sets the\n",
    "* head pointer to NULL after freeing all nodes.\n",
    "*/\n",
    "void free_listint2(listint_t **head)\n",
    "{\n",
    "listint_t *temp;\n",
    "\n",
    "if (head == NULL)\n",
    "return;\n",
    "\n",
    "while (*head != NULL)\n",
    "{\n",
    "temp = *head;\n",
    "*head = (*head)->next;\n",
    "free(temp);\n",
    "}\n",
    "\n",
    "*head = NULL;\n",
    "}\n"
   ]
  },
  {
   "cell_type": "code",
   "execution_count": 33,
   "metadata": {},
   "outputs": [
    {
     "name": "stdout",
     "output_type": "stream",
     "text": [
      "main\n",
      "print_listint\n",
      "listint_len\n",
      "main\n",
      "add_nodeint\n",
      "main\n",
      "add_nodeint_end\n",
      "main\n",
      "free_listint\n",
      "main\n",
      "free_listint2\n",
      "main\n",
      "struct listint_s\n"
     ]
    }
   ],
   "source": [
    "%%bash\n",
    "betty-style 0x13-more_singly_linked_lists/*.c 0x13-more_singly_linked_lists/*.h\n",
    "betty-doc 0x13-more_singly_linked_lists/*.c 0x13-more_singly_linked_lists/*.h\n"
   ]
  },
  {
   "cell_type": "code",
   "execution_count": 34,
   "metadata": {},
   "outputs": [
    {
     "name": "stdout",
     "output_type": "stream",
     "text": [
      "0\n",
      "1\n",
      "2\n",
      "3\n",
      "4\n",
      "98\n",
      "402\n",
      "1024\n",
      "(nil)\n"
     ]
    }
   ],
   "source": [
    "%%bash\n",
    "gcc -Wall -pedantic -Werror -Wextra -std=gnu89 0x13-more_singly_linked_lists/5-main.c 0x13-more_singly_linked_lists/3-add_nodeint_end.c 0x13-more_singly_linked_lists/0-print_listint.c 0x13-more_singly_linked_lists/5-free_listint2.c -o 0x13-more_singly_linked_lists/f\n",
    "./0x13-more_singly_linked_lists/f\n"
   ]
  },
  {
   "cell_type": "code",
   "execution_count": 35,
   "metadata": {},
   "outputs": [
    {
     "name": "stdout",
     "output_type": "stream",
     "text": [
      "[main f19f83b] alx-low_level_programming/0x13-more_singly_linked_lists/0-putchar\n",
      " 3 files changed, 54 insertions(+)\n",
      " create mode 100644 0x13-more_singly_linked_lists/5-free_listint2.c\n",
      " create mode 100644 0x13-more_singly_linked_lists/5-main.c\n",
      " create mode 100755 0x13-more_singly_linked_lists/f\n"
     ]
    },
    {
     "name": "stderr",
     "output_type": "stream",
     "text": [
      "To https://github.com/elkomysara/alx-low_level_programming.git\n",
      "   eb709b0..f19f83b  main -> main\n"
     ]
    }
   ],
   "source": [
    "%%bash\n",
    "git add .\n",
    "git commit -m \"alx-low_level_programming/0x13-more_singly_linked_lists/0-putchar\"\n",
    "git push"
   ]
  },
  {
   "cell_type": "code",
   "execution_count": null,
   "metadata": {},
   "outputs": [],
   "source": []
  },
  {
   "cell_type": "markdown",
   "metadata": {},
   "source": [
    "###\n",
    "---\n",
    "<center>\n",
    "<h4>6. Pop</h4>\n",
    "</center>\n",
    "\n",
    "---"
   ]
  },
  {
   "cell_type": "markdown",
   "metadata": {},
   "source": [
    "\n",
    "#### Write a function that deletes the head node of a `listint_t` linked list, and returns the head node’s data (n).\n",
    "\n",
    "Prototype: `int pop_listint(listint_t **head);`\n",
    "if the linked list is empty return `0`\n",
    "\n",
    "```bash\n",
    " julien@ubuntu:~/0x13. More singly linked lists$ cat 6-main.c \n",
    "#include <stdlib.h>\n",
    "#include <string.h>\n",
    "#include <stdio.h>\n",
    "#include \"lists.h\"\n",
    "\n",
    "/**\n",
    " * main - check the code\n",
    " *\n",
    " * Return: Always 0.\n",
    " */\n",
    "int main(void)\n",
    "{\n",
    "    listint_t *head;\n",
    "    int n;\n",
    "\n",
    "    head = NULL;\n",
    "    add_nodeint_end(&head, 0);\n",
    "    add_nodeint_end(&head, 1);\n",
    "    add_nodeint_end(&head, 2);\n",
    "    add_nodeint_end(&head, 3);\n",
    "    add_nodeint_end(&head, 4);\n",
    "    add_nodeint_end(&head, 98);\n",
    "    add_nodeint_end(&head, 402);\n",
    "    add_nodeint_end(&head, 1024);\n",
    "    print_listint(head);\n",
    "    n = pop_listint(&head);\n",
    "    printf(\"- %d\\n\", n);\n",
    "    print_listint(head);\n",
    "    n = pop_listint(&head);\n",
    "    printf(\"- %d\\n\", n);\n",
    "    print_listint(head);\n",
    "    free_listint2(&head);\n",
    "    printf(\"%p\\n\", (void *)head);\n",
    "    return (0);\n",
    "}\n",
    "julien@ubuntu:~/0x13. More singly linked lists$ gcc -Wall -pedantic -Werror -Wextra -std=gnu89 6-main.c 3-add_nodeint_end.c 0-print_listint.c 5-free_listint2.c 6-pop_listint.c -o g\n",
    "julien@ubuntu:~/0x13. More singly linked lists$ valgrind ./g \n",
    "==4369== Memcheck, a memory error detector\n",
    "==4369== Copyright (C) 2002-2015, and GNU GPL'd, by Julian Seward et al.\n",
    "==4369== Using Valgrind-3.11.0 and LibVEX; rerun with -h for copyright info\n",
    "==4369== Command: ./g\n",
    "==4369== \n",
    "0\n",
    "1\n",
    "2\n",
    "3\n",
    "4\n",
    "98\n",
    "402\n",
    "1024\n",
    "- 0\n",
    "1\n",
    "2\n",
    "3\n",
    "4\n",
    "98\n",
    "402\n",
    "1024\n",
    "- 1\n",
    "2\n",
    "3\n",
    "4\n",
    "98\n",
    "402\n",
    "1024\n",
    "(nil)\n",
    "==4369== \n",
    "==4369== HEAP SUMMARY:\n",
    "==4369==     in use at exit: 0 bytes in 0 blocks\n",
    "==4369==   total heap usage: 9 allocs, 9 frees, 1,152 bytes allocated\n",
    "==4369== \n",
    "==4369== All heap blocks were freed -- no leaks are possible\n",
    "==4369== \n",
    "==4369== For counts of detected and suppressed errors, rerun with: -v\n",
    "==4369== ERROR SUMMARY: 0 errors from 0 contexts (suppressed: 0 from 0)\n",
    "julien@ubuntu:~/0x13. More singly linked lists$ \n",
    "\n",
    "```\n",
    "#### Repo:\n",
    "* GitHub repository: ``` alx-low_level_programming ```\n",
    "* Directory: ```0x13-more_singly_linked_lists``` \n",
    "* File: ```6-pop_listint.c```"
   ]
  },
  {
   "cell_type": "code",
   "execution_count": 36,
   "metadata": {},
   "outputs": [
    {
     "name": "stdout",
     "output_type": "stream",
     "text": [
      "Writing 0x13-more_singly_linked_lists/6-pop_listint.c\n"
     ]
    }
   ],
   "source": [
    "%%file 0x13-more_singly_linked_lists/6-pop_listint.c\n",
    "#include \"lists.h\"\n",
    "#include <stdlib.h>\n",
    "\n",
    "/**\n",
    "* pop_listint - Deletes the head node of a listint_t linked list.\n",
    "* @head: Double pointer to the head of the list.\n",
    "*\n",
    "* Return: The data (n) stored in the head node, or 0 if the list is empty.\n",
    "*/\n",
    "int pop_listint(listint_t **head)\n",
    "{\n",
    "listint_t *temp;\n",
    "int n;\n",
    "\n",
    "if (head == NULL || *head == NULL)\n",
    "return (0);\n",
    "\n",
    "temp = *head;\n",
    "n = temp->n;\n",
    "*head = (*head)->next;\n",
    "free(temp);\n",
    "\n",
    "return (n);\n",
    "}\n"
   ]
  },
  {
   "cell_type": "code",
   "execution_count": 37,
   "metadata": {},
   "outputs": [
    {
     "name": "stdout",
     "output_type": "stream",
     "text": [
      "Writing 0x13-more_singly_linked_lists/6-main.c\n"
     ]
    }
   ],
   "source": [
    "%%file 0x13-more_singly_linked_lists/6-main.c\n",
    "#include <stdlib.h>\n",
    "#include <string.h>\n",
    "#include <stdio.h>\n",
    "#include \"lists.h\"\n",
    "\n",
    "/**\n",
    "* main - check the code\n",
    "*\n",
    "* Return: Always 0.\n",
    "*/\n",
    "int main(void)\n",
    "{\n",
    "listint_t *head;\n",
    "int n;\n",
    "\n",
    "head = NULL;\n",
    "add_nodeint_end(&head, 0);\n",
    "add_nodeint_end(&head, 1);\n",
    "add_nodeint_end(&head, 2);\n",
    "add_nodeint_end(&head, 3);\n",
    "add_nodeint_end(&head, 4);\n",
    "add_nodeint_end(&head, 98);\n",
    "add_nodeint_end(&head, 402);\n",
    "add_nodeint_end(&head, 1024);\n",
    "print_listint(head);\n",
    "n = pop_listint(&head);\n",
    "printf(\"- %d\\n\", n);\n",
    "print_listint(head);\n",
    "n = pop_listint(&head);\n",
    "printf(\"- %d\\n\", n);\n",
    "print_listint(head);\n",
    "free_listint2(&head);\n",
    "printf(\"%p\\n\", (void *)head);\n",
    "return (0);\n",
    "}\n"
   ]
  },
  {
   "cell_type": "code",
   "execution_count": 38,
   "metadata": {},
   "outputs": [
    {
     "name": "stdout",
     "output_type": "stream",
     "text": [
      "main\n",
      "print_listint\n",
      "listint_len\n",
      "main\n",
      "add_nodeint\n",
      "main\n",
      "add_nodeint_end\n",
      "main\n",
      "free_listint\n",
      "main\n",
      "free_listint2\n",
      "main\n",
      "main\n",
      "pop_listint\n",
      "struct listint_s\n"
     ]
    }
   ],
   "source": [
    "%%bash\n",
    "betty-style 0x13-more_singly_linked_lists/*.c 0x13-more_singly_linked_lists/*.h\n",
    "betty-doc 0x13-more_singly_linked_lists/*.c 0x13-more_singly_linked_lists/*.h\n"
   ]
  },
  {
   "cell_type": "code",
   "execution_count": 39,
   "metadata": {},
   "outputs": [
    {
     "name": "stdout",
     "output_type": "stream",
     "text": [
      "0\n",
      "1\n",
      "2\n",
      "3\n",
      "4\n",
      "98\n",
      "402\n",
      "1024\n",
      "- 0\n",
      "1\n",
      "2\n",
      "3\n",
      "4\n",
      "98\n",
      "402\n",
      "1024\n",
      "- 1\n",
      "2\n",
      "3\n",
      "4\n",
      "98\n",
      "402\n",
      "1024\n",
      "(nil)\n"
     ]
    }
   ],
   "source": [
    "%%bash\n",
    "gcc -Wall -pedantic -Werror -Wextra -std=gnu89 0x13-more_singly_linked_lists/6-main.c 0x13-more_singly_linked_lists/3-add_nodeint_end.c 0x13-more_singly_linked_lists/0-print_listint.c 0x13-more_singly_linked_lists/5-free_listint2.c 0x13-more_singly_linked_lists/6-pop_listint.c -o 0x13-more_singly_linked_lists/g\n",
    "./0x13-more_singly_linked_lists/g\n"
   ]
  },
  {
   "cell_type": "code",
   "execution_count": 40,
   "metadata": {},
   "outputs": [
    {
     "name": "stdout",
     "output_type": "stream",
     "text": [
      "[main 93049d8] alx-low_level_programming/0x13-more_singly_linked_lists/0-putchar\n",
      " 3 files changed, 59 insertions(+)\n",
      " create mode 100644 0x13-more_singly_linked_lists/6-main.c\n",
      " create mode 100644 0x13-more_singly_linked_lists/6-pop_listint.c\n",
      " create mode 100755 0x13-more_singly_linked_lists/g\n"
     ]
    },
    {
     "name": "stderr",
     "output_type": "stream",
     "text": [
      "To https://github.com/elkomysara/alx-low_level_programming.git\n",
      "   f19f83b..93049d8  main -> main\n"
     ]
    }
   ],
   "source": [
    "%%bash\n",
    "git add .\n",
    "git commit -m \"alx-low_level_programming/0x13-more_singly_linked_lists/0-putchar\"\n",
    "git push"
   ]
  },
  {
   "cell_type": "code",
   "execution_count": null,
   "metadata": {},
   "outputs": [],
   "source": []
  },
  {
   "cell_type": "markdown",
   "metadata": {},
   "source": [
    "###\n",
    "---\n",
    "<center>\n",
    "<h4>7. Get node at index</h4>\n",
    "</center>\n",
    "\n",
    "---"
   ]
  },
  {
   "cell_type": "markdown",
   "metadata": {},
   "source": [
    "\n",
    "#### Write a function that returns the nth node of a `listint_t` linked list.\n",
    "\n",
    "* Prototype: `listint_t *get_nodeint_at_index(listint_t *head, unsigned int index);`\n",
    "* where `index` is the index of the node, starting at` 0`\n",
    "* if the node does not exist, return `NULL`\n",
    "\n",
    "```bash\n",
    " julien@ubuntu:~/0x13. More singly linked lists$ cat 7-main.c \n",
    "#include <stdlib.h>\n",
    "#include <string.h>\n",
    "#include <stdio.h>\n",
    "#include \"lists.h\"\n",
    "\n",
    "/**\n",
    " * main - check the code\n",
    " *\n",
    " * Return: Always 0.\n",
    " */\n",
    "int main(void)\n",
    "{\n",
    "    listint_t *head;\n",
    "    listint_t *node;\n",
    "\n",
    "    head = NULL;\n",
    "    add_nodeint_end(&head, 0);\n",
    "    add_nodeint_end(&head, 1);\n",
    "    add_nodeint_end(&head, 2);\n",
    "    add_nodeint_end(&head, 3);\n",
    "    add_nodeint_end(&head, 4);\n",
    "    add_nodeint_end(&head, 98);\n",
    "    add_nodeint_end(&head, 402);\n",
    "    add_nodeint_end(&head, 1024);\n",
    "    print_listint(head);\n",
    "    node = get_nodeint_at_index(head, 5);\n",
    "    printf(\"%d\\n\", node->n);\n",
    "    print_listint(head);\n",
    "    free_listint2(&head);\n",
    "    return (0);\n",
    "}\n",
    "julien@ubuntu:~/0x13. More singly linked lists$ gcc -Wall -pedantic -Werror -Wextra -std=gnu89 7-main.c 3-add_nodeint_end.c 0-print_listint.c 5-free_listint2.c 7-get_nodeint.c -o h\n",
    "julien@ubuntu:~/0x13. More singly linked lists$ ./h \n",
    "0\n",
    "1\n",
    "2\n",
    "3\n",
    "4\n",
    "98\n",
    "402\n",
    "1024\n",
    "98\n",
    "0\n",
    "1\n",
    "2\n",
    "3\n",
    "4\n",
    "98\n",
    "402\n",
    "1024\n",
    "julien@ubuntu:~/0x13. More singly linked lists$ \n",
    "```\n",
    "#### Repo:\n",
    "* GitHub repository: ``` alx-low_level_programming ```\n",
    "* Directory: ```0x13-more_singly_linked_lists``` \n",
    "* File: ```7-get_nodeint.c```"
   ]
  },
  {
   "cell_type": "code",
   "execution_count": 41,
   "metadata": {},
   "outputs": [
    {
     "name": "stdout",
     "output_type": "stream",
     "text": [
      "Writing 0x13-more_singly_linked_lists/7-get_nodeint.c\n"
     ]
    }
   ],
   "source": [
    "%%file 0x13-more_singly_linked_lists/7-get_nodeint.c\n",
    "#include \"lists.h\"\n",
    "\n",
    "/**\n",
    "* get_nodeint_at_index - Returns the nth node of a listint_t linked list.\n",
    "* @head: Pointer to the head of the list.\n",
    "* @index: The index of the node, starting from 0.\n",
    "*\n",
    "* Return: Pointer to the nth node, or NULL if the node does not exist.\n",
    "*/\n",
    "listint_t *get_nodeint_at_index(listint_t *head, unsigned int index)\n",
    "{\n",
    "unsigned int i = 0;\n",
    "\n",
    "while (head && i < index)\n",
    "{\n",
    "head = head->next;\n",
    "i++;\n",
    "}\n",
    "\n",
    "return (head ? head : NULL);\n",
    "}\n"
   ]
  },
  {
   "cell_type": "code",
   "execution_count": 42,
   "metadata": {},
   "outputs": [
    {
     "name": "stdout",
     "output_type": "stream",
     "text": [
      "Writing 0x13-more_singly_linked_lists/7-main.c\n"
     ]
    }
   ],
   "source": [
    "%%file 0x13-more_singly_linked_lists/7-main.c\n",
    "#include <stdlib.h>\n",
    "#include <string.h>\n",
    "#include <stdio.h>\n",
    "#include \"lists.h\"\n",
    "\n",
    "/**\n",
    "* main - check the code\n",
    "*\n",
    "* Return: Always 0.\n",
    "*/\n",
    "int main(void)\n",
    "{\n",
    "listint_t *head;\n",
    "listint_t *node;\n",
    "\n",
    "head = NULL;\n",
    "add_nodeint_end(&head, 0);\n",
    "add_nodeint_end(&head, 1);\n",
    "add_nodeint_end(&head, 2);\n",
    "add_nodeint_end(&head, 3);\n",
    "add_nodeint_end(&head, 4);\n",
    "add_nodeint_end(&head, 98);\n",
    "add_nodeint_end(&head, 402);\n",
    "add_nodeint_end(&head, 1024);\n",
    "print_listint(head);\n",
    "node = get_nodeint_at_index(head, 5);\n",
    "printf(\"%d\\n\", node->n);\n",
    "print_listint(head);\n",
    "free_listint2(&head);\n",
    "return (0);\n",
    "}\n"
   ]
  },
  {
   "cell_type": "code",
   "execution_count": 43,
   "metadata": {},
   "outputs": [
    {
     "name": "stdout",
     "output_type": "stream",
     "text": [
      "main\n",
      "print_listint\n",
      "listint_len\n",
      "main\n",
      "add_nodeint\n",
      "main\n",
      "add_nodeint_end\n",
      "main\n",
      "free_listint\n",
      "main\n",
      "free_listint2\n",
      "main\n",
      "main\n",
      "pop_listint\n",
      "get_nodeint_at_index\n",
      "main\n",
      "struct listint_s\n"
     ]
    }
   ],
   "source": [
    "%%bash\n",
    "betty-style 0x13-more_singly_linked_lists/*.c 0x13-more_singly_linked_lists/*.h\n",
    "betty-doc 0x13-more_singly_linked_lists/*.c 0x13-more_singly_linked_lists/*.h\n"
   ]
  },
  {
   "cell_type": "code",
   "execution_count": 44,
   "metadata": {},
   "outputs": [
    {
     "name": "stdout",
     "output_type": "stream",
     "text": [
      "main\n",
      "print_listint\n",
      "listint_len\n",
      "main\n",
      "add_nodeint\n",
      "main\n",
      "add_nodeint_end\n",
      "main\n",
      "free_listint\n",
      "main\n",
      "free_listint2\n",
      "main\n",
      "main\n",
      "pop_listint\n",
      "get_nodeint_at_index\n",
      "main\n",
      "struct listint_s\n"
     ]
    }
   ],
   "source": [
    "%%bash\n",
    "betty-style 0x13-more_singly_linked_lists/*.c 0x13-more_singly_linked_lists/*.h\n",
    "betty-doc 0x13-more_singly_linked_lists/*.c 0x13-more_singly_linked_lists/*.h\n"
   ]
  },
  {
   "cell_type": "code",
   "execution_count": 45,
   "metadata": {},
   "outputs": [
    {
     "name": "stdout",
     "output_type": "stream",
     "text": [
      "[main 76451d6] alx-low_level_programming/0x13-more_singly_linked_lists/0-putchar\n",
      " 2 files changed, 52 insertions(+)\n",
      " create mode 100644 0x13-more_singly_linked_lists/7-get_nodeint.c\n",
      " create mode 100644 0x13-more_singly_linked_lists/7-main.c\n"
     ]
    },
    {
     "name": "stderr",
     "output_type": "stream",
     "text": [
      "To https://github.com/elkomysara/alx-low_level_programming.git\n",
      "   93049d8..76451d6  main -> main\n"
     ]
    }
   ],
   "source": [
    "%%bash\n",
    "git add .\n",
    "git commit -m \"alx-low_level_programming/0x13-more_singly_linked_lists/0-putchar\"\n",
    "git push"
   ]
  },
  {
   "cell_type": "code",
   "execution_count": null,
   "metadata": {},
   "outputs": [],
   "source": []
  },
  {
   "cell_type": "markdown",
   "metadata": {},
   "source": [
    "###\n",
    "---\n",
    "<center>\n",
    "<h4>8. Sum list</h4>\n",
    "</center>\n",
    "\n",
    "---"
   ]
  },
  {
   "cell_type": "markdown",
   "metadata": {},
   "source": [
    "\n",
    "#### Write a function that returns the sum of all the data (n) of a `listint_t` linked list.\n",
    "\n",
    "* Prototype: `int sum_listint(listint_t *head);`\n",
    "* if the list is empty, return 0\n",
    "\n",
    "```bash\n",
    " julien@ubuntu:~/0x13. More singly linked lists$ cat 8-main.c \n",
    "#include <stdlib.h>\n",
    "#include <string.h>\n",
    "#include <stdio.h>\n",
    "#include \"lists.h\"\n",
    "\n",
    "/**\n",
    " * main - check the code\n",
    " *\n",
    " * Return: Always 0.\n",
    " */\n",
    "int main(void)\n",
    "{\n",
    "    listint_t *head;\n",
    "    int sum;\n",
    "\n",
    "    head = NULL;\n",
    "    add_nodeint_end(&head, 0);\n",
    "    add_nodeint_end(&head, 1);\n",
    "    add_nodeint_end(&head, 2);\n",
    "    add_nodeint_end(&head, 3);\n",
    "    add_nodeint_end(&head, 4);\n",
    "    add_nodeint_end(&head, 98);\n",
    "    add_nodeint_end(&head, 402);\n",
    "    add_nodeint_end(&head, 1024);\n",
    "    sum = sum_listint(head);\n",
    "    printf(\"sum = %d\\n\", sum);\n",
    "    free_listint2(&head);\n",
    "    return (0);\n",
    "}\n",
    "julien@ubuntu:~/c0x13. More singly linked lists$ gcc -Wall -pedantic -Werror -Wextra -std=gnu89 8-main.c 3-add_nodeint_end.c 5-free_listint2.c 8-sum_listint.c -o i\n",
    "julien@ubuntu:~/0x13. More singly linked lists$ ./i \n",
    "sum = 1534\n",
    "julien@ubuntu:~/0x13. More singly linked lists$ \n",
    "\n",
    "```\n",
    "#### Repo:\n",
    "* GitHub repository: ``` alx-low_level_programming ```\n",
    "* Directory: ```0x13-more_singly_linked_lists``` \n",
    "* File: ```8-sum_listint.c```"
   ]
  },
  {
   "cell_type": "code",
   "execution_count": 49,
   "metadata": {},
   "outputs": [
    {
     "name": "stdout",
     "output_type": "stream",
     "text": [
      "Overwriting 0x13-more_singly_linked_lists/8-sum_listint.c\n"
     ]
    }
   ],
   "source": [
    "%%file 0x13-more_singly_linked_lists/8-sum_listint.c\n",
    "#include \"lists.h\"\n",
    "\n",
    "/**\n",
    "* sum_listint - Returns the sum of all the data (n) of a listint_t linked list.\n",
    "* @head: Pointer to the head of the list.\n",
    "*\n",
    "* Return: The sum of all the data (n), or 0 if the list is empty.\n",
    "*/\n",
    "int sum_listint(listint_t *head)\n",
    "{\n",
    "int sum = 0;\n",
    "\n",
    "while (head)\n",
    "{\n",
    "sum += head->n;\n",
    "head = head->next;\n",
    "}\n",
    "\n",
    "return (sum);\n",
    "}\n"
   ]
  },
  {
   "cell_type": "code",
   "execution_count": 50,
   "metadata": {},
   "outputs": [
    {
     "name": "stdout",
     "output_type": "stream",
     "text": [
      "Overwriting 0x13-more_singly_linked_lists/8-main.c\n"
     ]
    }
   ],
   "source": [
    "%%file 0x13-more_singly_linked_lists/8-main.c\n",
    "#include <stdlib.h>\n",
    "#include <string.h>\n",
    "#include <stdio.h>\n",
    "#include \"lists.h\"\n",
    "\n",
    "/**\n",
    "* main - check the code\n",
    "*\n",
    "* Return: Always 0.\n",
    "*/\n",
    "int main(void)\n",
    "{\n",
    "listint_t *head;\n",
    "int sum;\n",
    "\n",
    "head = NULL;\n",
    "add_nodeint_end(&head, 0);\n",
    "add_nodeint_end(&head, 1);\n",
    "add_nodeint_end(&head, 2);\n",
    "add_nodeint_end(&head, 3);\n",
    "add_nodeint_end(&head, 4);\n",
    "add_nodeint_end(&head, 98);\n",
    "add_nodeint_end(&head, 402);\n",
    "add_nodeint_end(&head, 1024);\n",
    "sum = sum_listint(head);\n",
    "printf(\"sum = %d\\n\", sum);\n",
    "free_listint2(&head);\n",
    "return (0);\n",
    "}\n"
   ]
  },
  {
   "cell_type": "code",
   "execution_count": 51,
   "metadata": {},
   "outputs": [
    {
     "name": "stdout",
     "output_type": "stream",
     "text": [
      "main\n",
      "print_listint\n",
      "listint_len\n",
      "main\n",
      "add_nodeint\n",
      "main\n",
      "add_nodeint_end\n",
      "main\n",
      "free_listint\n",
      "main\n",
      "free_listint2\n",
      "main\n",
      "main\n",
      "pop_listint\n",
      "get_nodeint_at_index\n",
      "main\n",
      "main\n",
      "sum_listint\n",
      "struct listint_s\n"
     ]
    }
   ],
   "source": [
    "%%bash\n",
    "betty-style 0x13-more_singly_linked_lists/*.c 0x13-more_singly_linked_lists/*.h\n",
    "betty-doc 0x13-more_singly_linked_lists/*.c 0x13-more_singly_linked_lists/*.h\n"
   ]
  },
  {
   "cell_type": "code",
   "execution_count": 52,
   "metadata": {},
   "outputs": [
    {
     "name": "stdout",
     "output_type": "stream",
     "text": [
      "sum = 1534\n"
     ]
    }
   ],
   "source": [
    "%%bash\n",
    "gcc -Wall -pedantic -Werror -Wextra -std=gnu89 0x13-more_singly_linked_lists/8-main.c 0x13-more_singly_linked_lists/3-add_nodeint_end.c 0x13-more_singly_linked_lists/5-free_listint2.c 0x13-more_singly_linked_lists/8-sum_listint.c -o 0x13-more_singly_linked_lists/i\n",
    "./0x13-more_singly_linked_lists/i\n"
   ]
  },
  {
   "cell_type": "code",
   "execution_count": 54,
   "metadata": {},
   "outputs": [
    {
     "name": "stdout",
     "output_type": "stream",
     "text": [
      "On branch main\n",
      "Your branch is up to date with 'origin/main'.\n",
      "\n",
      "nothing to commit, working tree clean\n"
     ]
    },
    {
     "name": "stderr",
     "output_type": "stream",
     "text": [
      "Everything up-to-date\n"
     ]
    }
   ],
   "source": [
    "%%bash\n",
    "git add .\n",
    "git commit -m \"alx-low_level_programming/0x13-more_singly_linked_lists/0-putchar\"\n",
    "git push"
   ]
  },
  {
   "cell_type": "code",
   "execution_count": null,
   "metadata": {},
   "outputs": [],
   "source": []
  },
  {
   "cell_type": "code",
   "execution_count": null,
   "metadata": {},
   "outputs": [],
   "source": []
  },
  {
   "cell_type": "markdown",
   "metadata": {},
   "source": [
    "###\n",
    "---\n",
    "<center>\n",
    "<h4> 9. Insert</h4>\n",
    "</center>\n",
    "\n",
    "---"
   ]
  },
  {
   "cell_type": "markdown",
   "metadata": {},
   "source": [
    "\n",
    "#### Write a function that inserts a new node at a given position.\n",
    "\n",
    "* Prototype: `listint_t *insert_nodeint_at_index(listint_t **head, unsigned int idx, int n);`\n",
    "* where `idx` is the index of the list where the new node should be added. Index starts at 0\n",
    "* Returns: the address of the new node, or `NULL` if it failed\n",
    "* if it is not possible to add the new node at index `idx`, do not add the new node and return `NULL`\n",
    "```bash\n",
    " julien@ubuntu:~/0x13. More singly linked lists$ cat 9-main.c \n",
    "#include <stdlib.h>\n",
    "#include <string.h>\n",
    "#include <stdio.h>\n",
    "#include \"lists.h\"\n",
    "\n",
    "/**\n",
    " * main - check the code\n",
    " *\n",
    " * Return: Always 0.\n",
    " */\n",
    "int main(void)\n",
    "{\n",
    "    listint_t *head;\n",
    "\n",
    "    head = NULL;\n",
    "    add_nodeint_end(&head, 0);\n",
    "    add_nodeint_end(&head, 1);\n",
    "    add_nodeint_end(&head, 2);\n",
    "    add_nodeint_end(&head, 3);\n",
    "    add_nodeint_end(&head, 4);\n",
    "    add_nodeint_end(&head, 98);\n",
    "    add_nodeint_end(&head, 402);\n",
    "    add_nodeint_end(&head, 1024);\n",
    "    print_listint(head);\n",
    "    printf(\"-----------------\\n\");\n",
    "    insert_nodeint_at_index(&head, 5, 4096);\n",
    "    print_listint(head);\n",
    "    free_listint2(&head);\n",
    "    return (0);\n",
    "}\n",
    "julien@ubuntu:~/0x13. More singly linked lists$ gcc -Wall -pedantic -Werror -Wextra -std=gnu89 9-main.c 3-add_nodeint_end.c 0-print_listint.c 5-free_listint2.c 9-insert_nodeint.c -o j\n",
    "julien@ubuntu:~/0x13. More singly linked lists$ ./j \n",
    "0\n",
    "1\n",
    "2\n",
    "3\n",
    "4\n",
    "98\n",
    "402\n",
    "1024\n",
    "-----------------\n",
    "0\n",
    "1\n",
    "2\n",
    "3\n",
    "4\n",
    "4096\n",
    "98\n",
    "402\n",
    "1024\n",
    "julien@ubuntu:~/0x13. More singly linked lists$ \n",
    "```\n",
    "#### Repo:\n",
    "* GitHub repository: ``` alx-low_level_programming ```\n",
    "* Directory: ```0x13-more_singly_linked_lists``` \n",
    "* File: ```9-insert_nodeint.c```"
   ]
  },
  {
   "cell_type": "code",
   "execution_count": 58,
   "metadata": {},
   "outputs": [
    {
     "name": "stdout",
     "output_type": "stream",
     "text": [
      "Overwriting 0x13-more_singly_linked_lists/9-insert_nodeint.c\n"
     ]
    }
   ],
   "source": [
    "%%file 0x13-more_singly_linked_lists/9-insert_nodeint.c\n",
    "#include \"lists.h\"\n",
    "#include <stdlib.h>\n",
    "\n",
    "/**\n",
    "* insert_nodeint_at_index - Inserts a new node\n",
    "* at a given position in a listint_t list.\n",
    "* @head: Double pointer to the head of the list.\n",
    "* @idx: Index where the new node should be added. Index starts at 0.\n",
    "* @n: Data to be stored in the new node.\n",
    "*\n",
    "* Return: The address of the new node, or NULL if it failed.\n",
    "*/\n",
    "listint_t *insert_nodeint_at_index(listint_t **head, unsigned int idx, int n)\n",
    "{\n",
    "listint_t *new_node, *temp = *head;\n",
    "unsigned int i;\n",
    "\n",
    "if (!head)\n",
    "return (NULL);\n",
    "\n",
    "new_node = malloc(sizeof(listint_t));\n",
    "if (!new_node)\n",
    "return (NULL);\n",
    "\n",
    "new_node->n = n;\n",
    "if (idx == 0)\n",
    "{\n",
    "new_node->next = *head;\n",
    "*head = new_node;\n",
    "return (new_node);\n",
    "}\n",
    "\n",
    "for (i = 0; temp && i < idx - 1; i++)\n",
    "temp = temp->next;\n",
    "\n",
    "if (!temp)\n",
    "{\n",
    "free(new_node);\n",
    "return (NULL);\n",
    "}\n",
    "\n",
    "new_node->next = temp->next;\n",
    "temp->next = new_node;\n",
    "\n",
    "return (new_node);\n",
    "}\n"
   ]
  },
  {
   "cell_type": "code",
   "execution_count": 59,
   "metadata": {},
   "outputs": [
    {
     "name": "stdout",
     "output_type": "stream",
     "text": [
      "Overwriting 0x13-more_singly_linked_lists/9-main.c\n"
     ]
    }
   ],
   "source": [
    "%%file 0x13-more_singly_linked_lists/9-main.c\n",
    "#include <stdlib.h>\n",
    "#include <string.h>\n",
    "#include <stdio.h>\n",
    "#include \"lists.h\"\n",
    "\n",
    "/**\n",
    "* main - check the code\n",
    "*\n",
    "* Return: Always 0.\n",
    "*/\n",
    "int main(void)\n",
    "{\n",
    "listint_t *head;\n",
    "\n",
    "head = NULL;\n",
    "add_nodeint_end(&head, 0);\n",
    "add_nodeint_end(&head, 1);\n",
    "add_nodeint_end(&head, 2);\n",
    "add_nodeint_end(&head, 3);\n",
    "add_nodeint_end(&head, 4);\n",
    "add_nodeint_end(&head, 98);\n",
    "add_nodeint_end(&head, 402);\n",
    "add_nodeint_end(&head, 1024);\n",
    "print_listint(head);\n",
    "printf(\"-----------------\\n\");\n",
    "insert_nodeint_at_index(&head, 5, 4096);\n",
    "print_listint(head);\n",
    "free_listint2(&head);\n",
    "return (0);\n",
    "}\n"
   ]
  },
  {
   "cell_type": "code",
   "execution_count": 60,
   "metadata": {},
   "outputs": [
    {
     "name": "stdout",
     "output_type": "stream",
     "text": [
      "main\n",
      "print_listint\n",
      "listint_len\n",
      "main\n",
      "add_nodeint\n",
      "main\n",
      "add_nodeint_end\n",
      "main\n",
      "free_listint\n",
      "main\n",
      "free_listint2\n",
      "main\n",
      "main\n",
      "pop_listint\n",
      "get_nodeint_at_index\n",
      "main\n",
      "main\n",
      "sum_listint\n",
      "insert_nodeint_at_index\n",
      "main\n",
      "struct listint_s\n"
     ]
    }
   ],
   "source": [
    "%%bash\n",
    "betty-style 0x13-more_singly_linked_lists/*.c 0x13-more_singly_linked_lists/*.h\n",
    "betty-doc 0x13-more_singly_linked_lists/*.c 0x13-more_singly_linked_lists/*.h\n"
   ]
  },
  {
   "cell_type": "code",
   "execution_count": 61,
   "metadata": {},
   "outputs": [
    {
     "name": "stdout",
     "output_type": "stream",
     "text": [
      "0\n",
      "1\n",
      "2\n",
      "3\n",
      "4\n",
      "98\n",
      "402\n",
      "1024\n",
      "-----------------\n",
      "0\n",
      "1\n",
      "2\n",
      "3\n",
      "4\n",
      "4096\n",
      "98\n",
      "402\n",
      "1024\n"
     ]
    }
   ],
   "source": [
    "%%bash\n",
    "gcc -Wall -pedantic -Werror -Wextra -std=gnu89 0x13-more_singly_linked_lists/9-main.c 0x13-more_singly_linked_lists/3-add_nodeint_end.c 0x13-more_singly_linked_lists/0-print_listint.c 0x13-more_singly_linked_lists/5-free_listint2.c 0x13-more_singly_linked_lists/9-insert_nodeint.c -o 0x13-more_singly_linked_lists/j\n",
    "./0x13-more_singly_linked_lists/j\n"
   ]
  },
  {
   "cell_type": "code",
   "execution_count": 62,
   "metadata": {},
   "outputs": [
    {
     "name": "stdout",
     "output_type": "stream",
     "text": [
      "[main 1897dd9] alx-low_level_programming/0x13-more_singly_linked_lists/0-putchar\n",
      " 3 files changed, 76 insertions(+)\n",
      " create mode 100644 0x13-more_singly_linked_lists/9-insert_nodeint.c\n",
      " create mode 100644 0x13-more_singly_linked_lists/9-main.c\n",
      " create mode 100755 0x13-more_singly_linked_lists/j\n"
     ]
    },
    {
     "name": "stderr",
     "output_type": "stream",
     "text": [
      "To https://github.com/elkomysara/alx-low_level_programming.git\n",
      "   e35cb65..1897dd9  main -> main\n"
     ]
    }
   ],
   "source": [
    "%%bash\n",
    "git add .\n",
    "git commit -m \"alx-low_level_programming/0x13-more_singly_linked_lists/0-putchar\"\n",
    "git push"
   ]
  },
  {
   "cell_type": "code",
   "execution_count": null,
   "metadata": {},
   "outputs": [],
   "source": []
  },
  {
   "cell_type": "markdown",
   "metadata": {},
   "source": [
    "###\n",
    "---\n",
    "<center>\n",
    "<h4> 10. Delete at index</h4>\n",
    "</center>\n",
    "\n",
    "---"
   ]
  },
  {
   "cell_type": "markdown",
   "metadata": {},
   "source": [
    "\n",
    "#### Write a function that deletes the node at index `index` of a `listint_t` linked list.\n",
    "\n",
    "* Prototype: `int delete_nodeint_at_index(listint_t **head, unsigned int index);`\n",
    "* where `index` is the index of the node that should be deleted. Index starts at 0\n",
    "* Returns: `1` if it succeeded, `-1` if it failed\n",
    "\n",
    "```bash\n",
    "julien@ubuntu:~/0x13. More singly linked lists$ cat 10-main.c \n",
    "#include <stdlib.h>\n",
    "#include <string.h>\n",
    "#include <stdio.h>\n",
    "#include \"lists.h\"\n",
    "\n",
    "/**\n",
    " * main - check the code\n",
    " *\n",
    " * Return: Always 0.\n",
    " */\n",
    "int main(void)\n",
    "{\n",
    "    listint_t *head;\n",
    "\n",
    "    head = NULL;\n",
    "    add_nodeint_end(&head, 0);\n",
    "    add_nodeint_end(&head, 1);\n",
    "    add_nodeint_end(&head, 2);\n",
    "    add_nodeint_end(&head, 3);\n",
    "    add_nodeint_end(&head, 4);\n",
    "    add_nodeint_end(&head, 98);\n",
    "    add_nodeint_end(&head, 402);\n",
    "    add_nodeint_end(&head, 1024);\n",
    "    print_listint(head);\n",
    "    printf(\"-----------------\\n\");\n",
    "    delete_nodeint_at_index(&head, 5);\n",
    "    print_listint(head);\n",
    "    printf(\"-----------------\\n\");\n",
    "    delete_nodeint_at_index(&head, 0);\n",
    "    print_listint(head);\n",
    "    printf(\"-----------------\\n\");\n",
    "    delete_nodeint_at_index(&head, 0);\n",
    "    print_listint(head);\n",
    "    printf(\"-----------------\\n\");\n",
    "    delete_nodeint_at_index(&head, 0);\n",
    "    print_listint(head);\n",
    "    printf(\"-----------------\\n\");\n",
    "    delete_nodeint_at_index(&head, 0);\n",
    "    print_listint(head);\n",
    "    printf(\"-----------------\\n\");\n",
    "    delete_nodeint_at_index(&head, 0);\n",
    "    print_listint(head);\n",
    "    printf(\"-----------------\\n\");\n",
    "    delete_nodeint_at_index(&head, 0);\n",
    "    print_listint(head);\n",
    "    printf(\"-----------------\\n\");\n",
    "    delete_nodeint_at_index(&head, 0);\n",
    "    printf(\"-----------------\\n\");\n",
    "    delete_nodeint_at_index(&head, 0);\n",
    "    printf(\"-----------------\\n\");\n",
    "    delete_nodeint_at_index(&head, 0);\n",
    "    printf(\"-----------------\\n\");\n",
    "    delete_nodeint_at_index(&head, 0);\n",
    "    printf(\"-----------------\\n\");\n",
    "    delete_nodeint_at_index(&head, 0);\n",
    "    printf(\"-----------------\\n\");\n",
    "    delete_nodeint_at_index(&head, 0);\n",
    "    printf(\"-----------------\\n\");\n",
    "    delete_nodeint_at_index(&head, 0);\n",
    "    printf(\"-----------------\\n\");\n",
    "    delete_nodeint_at_index(&head, 0);\n",
    "    printf(\"-----------------\\n\");\n",
    "    delete_nodeint_at_index(&head, 0);\n",
    "    printf(\"-----------------\\n\");\n",
    "    delete_nodeint_at_index(&head, 0);\n",
    "    print_listint(head);\n",
    "    return (0);\n",
    "}\n",
    "julien@ubuntu:~/0x13. More singly linked lists$ gcc -Wall -pedantic -Werror -Wextra -std=gnu89 10-main.c 3-add_nodeint_end.c 0-print_listint.c 5-free_listint2.c 10-delete_nodeint.c -o k\n",
    "julien@ubuntu:~/0x13. More singly linked lists$ valgrind ./k \n",
    "==5571== Memcheck, a memory error detector\n",
    "==5571== Copyright (C) 2002-2015, and GNU GPL'd, by Julian Seward et al.\n",
    "==5571== Using Valgrind-3.11.0 and LibVEX; rerun with -h for copyright info\n",
    "==5571== Command: ./k\n",
    "==5571== \n",
    "0\n",
    "1\n",
    "2\n",
    "3\n",
    "4\n",
    "98\n",
    "402\n",
    "1024\n",
    "-----------------\n",
    "0\n",
    "1\n",
    "2\n",
    "3\n",
    "4\n",
    "402\n",
    "1024\n",
    "-----------------\n",
    "1\n",
    "2\n",
    "3\n",
    "4\n",
    "402\n",
    "1024\n",
    "-----------------\n",
    "2\n",
    "3\n",
    "4\n",
    "402\n",
    "1024\n",
    "-----------------\n",
    "3\n",
    "4\n",
    "402\n",
    "1024\n",
    "-----------------\n",
    "4\n",
    "402\n",
    "1024\n",
    "-----------------\n",
    "402\n",
    "1024\n",
    "-----------------\n",
    "1024\n",
    "-----------------\n",
    "-----------------\n",
    "-----------------\n",
    "-----------------\n",
    "-----------------\n",
    "-----------------\n",
    "-----------------\n",
    "-----------------\n",
    "-----------------\n",
    "-----------------\n",
    "==5571== \n",
    "==5571== HEAP SUMMARY:\n",
    "==5571==     in use at exit: 0 bytes in 0 blocks\n",
    "==5571==   total heap usage: 9 allocs, 9 frees, 1,152 bytes allocated\n",
    "==5571== \n",
    "==5571== All heap blocks were freed -- no leaks are possible\n",
    "==5571== \n",
    "==5571== For counts of detected and suppressed errors, rerun with: -v\n",
    "==5571== ERROR SUMMARY: 0 errors from 0 contexts (suppressed: 0 from 0)\n",
    "julien@ubuntu:~/0x13. More singly linked lists$ \n",
    "\n",
    "```\n",
    "#### Repo:\n",
    "* GitHub repository: ``` alx-low_level_programming ```\n",
    "* Directory: ```0x13-more_singly_linked_lists``` \n",
    "* File: ```10-delete_nodeint.c```"
   ]
  },
  {
   "cell_type": "code",
   "execution_count": 75,
   "metadata": {},
   "outputs": [
    {
     "name": "stdout",
     "output_type": "stream",
     "text": [
      "Overwriting 0x13-more_singly_linked_lists/10-delete_nodeint.c\n"
     ]
    }
   ],
   "source": [
    "%%file 0x13-more_singly_linked_lists/10-delete_nodeint.c\n",
    "#include \"lists.h\"\n",
    "#include <stdlib.h>\n",
    "\n",
    "/**\n",
    "* delete_nodeint_at_index - Deletes the node\n",
    "* at index `index` of a listint_t list.\n",
    "* @head: Double pointer to the head of the list.\n",
    "* @index: Index of the node that should be deleted. Index starts at 0.\n",
    "*\n",
    "* Return: 1 if it succeeded, -1 if it failed.\n",
    "*/\n",
    "int delete_nodeint_at_index(listint_t **head, unsigned int index)\n",
    "{\n",
    "listint_t *temp = *head, *next_node;\n",
    "unsigned int i;\n",
    "\n",
    "if (!head || !*head)\n",
    "return (-1);\n",
    "\n",
    "if (index == 0)\n",
    "{\n",
    "*head = temp->next;\n",
    "free(temp);\n",
    "return (1);\n",
    "}\n",
    "\n",
    "for (i = 0; temp && i < index - 1; i++)\n",
    "temp = temp->next;\n",
    "\n",
    "if (!temp || !(temp->next))\n",
    "return (-1);\n",
    "\n",
    "next_node = temp->next->next;\n",
    "free(temp->next);\n",
    "temp->next = next_node;\n",
    "\n",
    "return (1);\n",
    "}\n"
   ]
  },
  {
   "cell_type": "code",
   "execution_count": 76,
   "metadata": {},
   "outputs": [
    {
     "name": "stdout",
     "output_type": "stream",
     "text": [
      "Overwriting 0x13-more_singly_linked_lists/10-main.c\n"
     ]
    }
   ],
   "source": [
    "%%file 0x13-more_singly_linked_lists/10-main.c\n",
    "#include <stdlib.h>\n",
    "#include <string.h>\n",
    "#include <stdio.h>\n",
    "#include \"lists.h\"\n",
    "\n",
    "/**\n",
    "* main - check the code\n",
    "*\n",
    "* Return: Always 0.\n",
    "*/\n",
    "int main(void)\n",
    "{\n",
    "listint_t *head;\n",
    "\n",
    "head = NULL;\n",
    "add_nodeint_end(&head, 0);\n",
    "add_nodeint_end(&head, 1);\n",
    "add_nodeint_end(&head, 2);\n",
    "add_nodeint_end(&head, 3);\n",
    "add_nodeint_end(&head, 4);\n",
    "add_nodeint_end(&head, 98);\n",
    "add_nodeint_end(&head, 402);\n",
    "add_nodeint_end(&head, 1024);\n",
    "print_listint(head);\n",
    "printf(\"-----------------\\n\");\n",
    "delete_nodeint_at_index(&head, 5);\n",
    "print_listint(head);\n",
    "printf(\"-----------------\\n\");\n",
    "delete_nodeint_at_index(&head, 0);\n",
    "print_listint(head);\n",
    "printf(\"-----------------\\n\");\n",
    "delete_nodeint_at_index(&head, 0);\n",
    "print_listint(head);\n",
    "printf(\"-----------------\\n\");\n",
    "delete_nodeint_at_index(&head, 0);\n",
    "print_listint(head);\n",
    "printf(\"-----------------\\n\");\n",
    "delete_nodeint_at_index(&head, 0);\n",
    "print_listint(head);\n",
    "printf(\"-----------------\\n\");\n",
    "delete_nodeint_at_index(&head, 0);\n",
    "print_listint(head);\n",
    "printf(\"-----------------\\n\");\n",
    "delete_nodeint_at_index(&head, 0);\n",
    "print_listint(head);\n",
    "printf(\"-----------------\\n\");\n",
    "delete_nodeint_at_index(&head, 0);\n",
    "return (0);\n",
    "}\n"
   ]
  },
  {
   "cell_type": "code",
   "execution_count": 77,
   "metadata": {},
   "outputs": [
    {
     "name": "stdout",
     "output_type": "stream",
     "text": [
      "main\n",
      "print_listint\n",
      "listint_len\n",
      "main\n",
      "delete_nodeint_at_index\n",
      "main\n",
      "add_nodeint\n",
      "main\n",
      "add_nodeint_end\n",
      "main\n",
      "free_listint\n",
      "main\n",
      "free_listint2\n",
      "main\n",
      "main\n",
      "pop_listint\n",
      "get_nodeint_at_index\n",
      "main\n",
      "main\n",
      "sum_listint\n",
      "insert_nodeint_at_index\n",
      "main\n",
      "struct listint_s\n"
     ]
    }
   ],
   "source": [
    "%%bash\n",
    "betty-style 0x13-more_singly_linked_lists/*.c 0x13-more_singly_linked_lists/*.h\n",
    "betty-doc 0x13-more_singly_linked_lists/*.c 0x13-more_singly_linked_lists/*.h\n"
   ]
  },
  {
   "cell_type": "code",
   "execution_count": 78,
   "metadata": {},
   "outputs": [
    {
     "name": "stdout",
     "output_type": "stream",
     "text": [
      "0\n",
      "1\n",
      "2\n",
      "3\n",
      "4\n",
      "98\n",
      "402\n",
      "1024\n",
      "-----------------\n",
      "0\n",
      "1\n",
      "2\n",
      "3\n",
      "4\n",
      "402\n",
      "1024\n",
      "-----------------\n",
      "1\n",
      "2\n",
      "3\n",
      "4\n",
      "402\n",
      "1024\n",
      "-----------------\n",
      "2\n",
      "3\n",
      "4\n",
      "402\n",
      "1024\n",
      "-----------------\n",
      "3\n",
      "4\n",
      "402\n",
      "1024\n",
      "-----------------\n",
      "4\n",
      "402\n",
      "1024\n",
      "-----------------\n",
      "402\n",
      "1024\n",
      "-----------------\n",
      "1024\n",
      "-----------------\n"
     ]
    }
   ],
   "source": [
    "%%bash\n",
    "gcc -Wall -pedantic -Werror -Wextra -std=gnu89 0x13-more_singly_linked_lists/10-main.c 0x13-more_singly_linked_lists/3-add_nodeint_end.c 0x13-more_singly_linked_lists/0-print_listint.c 0x13-more_singly_linked_lists/5-free_listint2.c 0x13-more_singly_linked_lists/10-delete_nodeint.c -o 0x13-more_singly_linked_lists/k\n",
    "./0x13-more_singly_linked_lists/k\n"
   ]
  },
  {
   "cell_type": "code",
   "execution_count": 79,
   "metadata": {},
   "outputs": [
    {
     "name": "stdout",
     "output_type": "stream",
     "text": [
      "[main 752b2d4] alx-low_level_programming/0x13-more_singly_linked_lists/0-putchar\n",
      " 1 file changed, 2 insertions(+), 1 deletion(-)\n"
     ]
    },
    {
     "name": "stderr",
     "output_type": "stream",
     "text": [
      "To https://github.com/elkomysara/alx-low_level_programming.git\n",
      "   28807d2..752b2d4  main -> main\n"
     ]
    }
   ],
   "source": [
    "%%bash\n",
    "git add .\n",
    "git commit -m \"alx-low_level_programming/0x13-more_singly_linked_lists/0-putchar\"\n",
    "git push"
   ]
  },
  {
   "cell_type": "code",
   "execution_count": null,
   "metadata": {},
   "outputs": [],
   "source": []
  },
  {
   "cell_type": "code",
   "execution_count": null,
   "metadata": {},
   "outputs": [],
   "source": []
  },
  {
   "cell_type": "markdown",
   "metadata": {},
   "source": [
    "###\n",
    "---\n",
    "<center>\n",
    "<h4> 11. Reverse list</h4>\n",
    "</center>\n",
    "\n",
    "---"
   ]
  },
  {
   "cell_type": "markdown",
   "metadata": {},
   "source": [
    "\n",
    "#### Write a function that reverses a `listint_t` linked list.\n",
    "\n",
    "* Prototype: `listint_t *reverse_listint(listint_t **head);`\n",
    "* Returns: a pointer to the first node of the reversed list\n",
    "* You are not allowed to use more than `1` loop.\n",
    "* You are not allowed to use `malloc`, `free` or arrays\n",
    "* You can only declare a maximum of two variables in your function\n",
    "\n",
    "```bash\n",
    "julien@ubuntu:~/0x13. More singly linked lists$ cat 100-main.c \n",
    "#include <stdlib.h>\n",
    "#include <string.h>\n",
    "#include <stdio.h>\n",
    "#include \"lists.h\"\n",
    "\n",
    "/**\n",
    " * main - check the code\n",
    " *\n",
    " * Return: Always 0.\n",
    " */\n",
    "int main(void)\n",
    "{\n",
    "    listint_t *head;\n",
    "\n",
    "    head = NULL;\n",
    "    add_nodeint_end(&head, 0);\n",
    "    add_nodeint_end(&head, 1);\n",
    "    add_nodeint_end(&head, 2);\n",
    "    add_nodeint_end(&head, 3);\n",
    "    add_nodeint_end(&head, 4);\n",
    "    add_nodeint_end(&head, 98);\n",
    "    add_nodeint_end(&head, 402);\n",
    "    add_nodeint_end(&head, 1024);\n",
    "    print_listint(head);\n",
    "    reverse_listint(&head);\n",
    "    print_listint(head);    \n",
    "    free_listint2(&head);\n",
    "    return (0);\n",
    "}\n",
    "julien@ubuntu:~/0x13. More singly linked lists$ gcc -Wall -pedantic -Werror -Wextra -std=gnu89 100-main.c 3-add_nodeint_end.c 0-print_listint.c 5-free_listint2.c 100-reverse_listint.c -o l\n",
    "julien@ubuntu:~/0x13. More singly linked lists$ valgrind ./l \n",
    "==3117== Memcheck, a memory error detector\n",
    "==3117== Copyright (C) 2002-2015, and GNU GPL'd, by Julian Seward et al.\n",
    "==3117== Using Valgrind-3.11.0 and LibVEX; rerun with -h for copyright info\n",
    "==3117== Command: ./l\n",
    "==3117== \n",
    "0\n",
    "1\n",
    "2\n",
    "3\n",
    "4\n",
    "98\n",
    "402\n",
    "1024\n",
    "1024\n",
    "402\n",
    "98\n",
    "4\n",
    "3\n",
    "2\n",
    "1\n",
    "0\n",
    "==3117== \n",
    "==3117== HEAP SUMMARY:\n",
    "==3117==     in use at exit: 0 bytes in 0 blocks\n",
    "==3117==   total heap usage: 9 allocs, 9 frees, 1,152 bytes allocated\n",
    "==3117== \n",
    "==3117== All heap blocks were freed -- no leaks are possible\n",
    "==3117== \n",
    "==3117== For counts of detected and suppressed errors, rerun with: -v\n",
    "==3117== ERROR SUMMARY: 0 errors from 0 contexts (suppressed: 0 from 0)\n",
    "julien@ubuntu:~/0x13. More singly linked lists$  \n",
    "\n",
    "```\n",
    "#### Repo:\n",
    "* GitHub repository: ``` alx-low_level_programming ```\n",
    "* Directory: ```0x13-more_singly_linked_lists``` \n",
    "* File: ```100-reverse_listint.c```"
   ]
  },
  {
   "cell_type": "code",
   "execution_count": 80,
   "metadata": {},
   "outputs": [
    {
     "name": "stdout",
     "output_type": "stream",
     "text": [
      "Writing 0x13-more_singly_linked_lists/100-reverse_listint.c\n"
     ]
    }
   ],
   "source": [
    "%%file 0x13-more_singly_linked_lists/100-reverse_listint.c\n",
    "#include \"lists.h\"\n",
    "\n",
    "/**\n",
    "* reverse_listint - Reverses a listint_t linked list.\n",
    "* @head: Double pointer to the head of the list.\n",
    "*\n",
    "* Return: Pointer to the first node of the reversed list.\n",
    "*/\n",
    "listint_t *reverse_listint(listint_t **head)\n",
    "{\n",
    "listint_t *prev = NULL, *next = NULL;\n",
    "\n",
    "while (*head)\n",
    "{\n",
    "next = (*head)->next;\n",
    "(*head)->next = prev;\n",
    "prev = *head;\n",
    "*head = next;\n",
    "}\n",
    "\n",
    "*head = prev;\n",
    "return (*head);\n",
    "}\n"
   ]
  },
  {
   "cell_type": "code",
   "execution_count": 81,
   "metadata": {},
   "outputs": [
    {
     "name": "stdout",
     "output_type": "stream",
     "text": [
      "Writing 0x13-more_singly_linked_lists/100-main.c\n"
     ]
    }
   ],
   "source": [
    "%%file 0x13-more_singly_linked_lists/100-main.c\n",
    "#include <stdlib.h>\n",
    "#include <string.h>\n",
    "#include <stdio.h>\n",
    "#include \"lists.h\"\n",
    "\n",
    "/**\n",
    "* main - check the code\n",
    "*\n",
    "* Return: Always 0.\n",
    "*/\n",
    "int main(void)\n",
    "{\n",
    "listint_t *head;\n",
    "\n",
    "head = NULL;\n",
    "add_nodeint_end(&head, 0);\n",
    "add_nodeint_end(&head, 1);\n",
    "add_nodeint_end(&head, 2);\n",
    "add_nodeint_end(&head, 3);\n",
    "add_nodeint_end(&head, 4);\n",
    "add_nodeint_end(&head, 98);\n",
    "add_nodeint_end(&head, 402);\n",
    "add_nodeint_end(&head, 1024);\n",
    "print_listint(head);\n",
    "reverse_listint(&head);\n",
    "print_listint(head);    \n",
    "free_listint2(&head);\n",
    "return (0);\n",
    "}\n"
   ]
  },
  {
   "cell_type": "code",
   "execution_count": 82,
   "metadata": {},
   "outputs": [
    {
     "name": "stdout",
     "output_type": "stream",
     "text": [
      "0x13-more_singly_linked_lists/100-main.c:26: ERROR: trailing whitespace\n",
      "total: 1 errors, 0 warnings, 29 lines checked\n",
      "main\n",
      "print_listint\n",
      "listint_len\n",
      "main\n",
      "delete_nodeint_at_index\n",
      "main\n",
      "main\n",
      "reverse_listint\n",
      "add_nodeint\n",
      "main\n",
      "add_nodeint_end\n",
      "main\n",
      "free_listint\n",
      "main\n",
      "free_listint2\n",
      "main\n",
      "main\n",
      "pop_listint\n",
      "get_nodeint_at_index\n",
      "main\n",
      "main\n",
      "sum_listint\n",
      "insert_nodeint_at_index\n",
      "main\n",
      "struct listint_s\n"
     ]
    }
   ],
   "source": [
    "%%bash\n",
    "betty-style 0x13-more_singly_linked_lists/*.c 0x13-more_singly_linked_lists/*.h\n",
    "betty-doc 0x13-more_singly_linked_lists/*.c 0x13-more_singly_linked_lists/*.h\n"
   ]
  },
  {
   "cell_type": "code",
   "execution_count": 83,
   "metadata": {},
   "outputs": [
    {
     "name": "stdout",
     "output_type": "stream",
     "text": [
      "0\n",
      "1\n",
      "2\n",
      "3\n",
      "4\n",
      "98\n",
      "402\n",
      "1024\n",
      "1024\n",
      "402\n",
      "98\n",
      "4\n",
      "3\n",
      "2\n",
      "1\n",
      "0\n"
     ]
    }
   ],
   "source": [
    "%%bash\n",
    "gcc -Wall -pedantic -Werror -Wextra -std=gnu89 0x13-more_singly_linked_lists/100-main.c 0x13-more_singly_linked_lists/3-add_nodeint_end.c 0x13-more_singly_linked_lists/0-print_listint.c 0x13-more_singly_linked_lists/5-free_listint2.c 0x13-more_singly_linked_lists/100-reverse_listint.c -o 0x13-more_singly_linked_lists/l\n",
    "./0x13-more_singly_linked_lists/l\n"
   ]
  },
  {
   "cell_type": "code",
   "execution_count": 84,
   "metadata": {},
   "outputs": [
    {
     "name": "stdout",
     "output_type": "stream",
     "text": [
      "[main 11f82e2] alx-low_level_programming/0x13-more_singly_linked_lists/0-putchar\n",
      " 3 files changed, 52 insertions(+)\n",
      " create mode 100644 0x13-more_singly_linked_lists/100-main.c\n",
      " create mode 100644 0x13-more_singly_linked_lists/100-reverse_listint.c\n",
      " create mode 100755 0x13-more_singly_linked_lists/l\n"
     ]
    },
    {
     "name": "stderr",
     "output_type": "stream",
     "text": [
      "To https://github.com/elkomysara/alx-low_level_programming.git\n",
      "   752b2d4..11f82e2  main -> main\n"
     ]
    }
   ],
   "source": [
    "%%bash\n",
    "git add .\n",
    "git commit -m \"alx-low_level_programming/0x13-more_singly_linked_lists/0-putchar\"\n",
    "git push"
   ]
  },
  {
   "cell_type": "code",
   "execution_count": null,
   "metadata": {},
   "outputs": [],
   "source": []
  },
  {
   "cell_type": "markdown",
   "metadata": {},
   "source": [
    "###\n",
    "---\n",
    "<center>\n",
    "<h4> 12. Print (safe version) </h4>\n",
    "</center>\n",
    "\n",
    "---"
   ]
  },
  {
   "cell_type": "markdown",
   "metadata": {},
   "source": [
    "\n",
    "#### Write a function that prints a `listint_t` linked list.\n",
    "\n",
    "* Prototype: `size_t print_listint_safe(const listint_t *head);`\n",
    "* Returns: the number of nodes in the list\n",
    "* This function can print lists with a loop\n",
    "* You should go through the list only once\n",
    "* If the function fails, exit the program with status `98`\n",
    "* Output format: see example\n",
    "\n",
    "```bash\n",
    "julien@ubuntu:~/0x13. More singly linked lists$ cat 101-main.c \n",
    "#include <stdlib.h>\n",
    "#include <string.h>\n",
    "#include <stdio.h>\n",
    "#include \"lists.h\"\n",
    "\n",
    "/**\n",
    " * main - check the code\n",
    " *\n",
    " * Return: Always 0.\n",
    " */\n",
    "int main(void)\n",
    "{\n",
    "    listint_t *head;\n",
    "    listint_t *head2;\n",
    "    listint_t *node;\n",
    "\n",
    "    head2 = NULL;\n",
    "    add_nodeint(&head2, 0);\n",
    "    add_nodeint(&head2, 1);\n",
    "    add_nodeint(&head2, 2);\n",
    "    add_nodeint(&head2, 3);\n",
    "    add_nodeint(&head2, 4);\n",
    "    add_nodeint(&head2, 98);\n",
    "    add_nodeint(&head2, 402);\n",
    "    add_nodeint(&head2, 1024);\n",
    "    print_listint_safe(head2);\n",
    "    head = NULL;\n",
    "    node = add_nodeint(&head, 0);\n",
    "    add_nodeint(&head, 1);\n",
    "    add_nodeint(&head, 2);\n",
    "    add_nodeint(&head, 3);\n",
    "    add_nodeint(&head, 4);\n",
    "    node->next = add_nodeint(&head, 98);\n",
    "    add_nodeint(&head, 402);\n",
    "    add_nodeint(&head, 1024);\n",
    "    print_listint_safe(head);\n",
    "    return (0);\n",
    "}\n",
    "julien@ubuntu:~/0x13. More singly linked lists$ gcc -Wall -pedantic -Werror -Wextra -std=gnu89 101-main.c 2-add_nodeint.c 101-print_listint_safe.c -o m\n",
    "julien@ubuntu:~/0x13. More singly linked lists$ ./m\n",
    "[0x1b500f0] 1024\n",
    "[0x1b500d0] 402\n",
    "[0x1b500b0] 98\n",
    "[0x1b50090] 4\n",
    "[0x1b50070] 3\n",
    "[0x1b50050] 2\n",
    "[0x1b50030] 1\n",
    "[0x1b50010] 0\n",
    "[0x1b50600] 1024\n",
    "[0x1b505e0] 402\n",
    "[0x1b505c0] 98\n",
    "[0x1b505a0] 4\n",
    "[0x1b50580] 3\n",
    "[0x1b50560] 2\n",
    "[0x1b50540] 1\n",
    "[0x1b50110] 0\n",
    "-> [0x1b505c0] 98\n",
    "julien@ubuntu:~/0x13. More singly linked lists$\n",
    "\n",
    "```\n",
    "#### Repo:\n",
    "* GitHub repository: ``` alx-low_level_programming ```\n",
    "* Directory: ```0x13-more_singly_linked_lists``` \n",
    "* File: ```101-print_listint_safe.c```"
   ]
  },
  {
   "cell_type": "code",
   "execution_count": 88,
   "metadata": {},
   "outputs": [
    {
     "name": "stdout",
     "output_type": "stream",
     "text": [
      "Overwriting 0x13-more_singly_linked_lists/101-print_listint_safe.c\n"
     ]
    }
   ],
   "source": [
    "%%file 0x13-more_singly_linked_lists/101-print_listint_safe.c\n",
    "#include \"lists.h\"\n",
    "#include <stdio.h>\n",
    "#include <stdlib.h>\n",
    "\n",
    "/**\n",
    "* print_listint_safe - Prints a listint_t linked list safely (handles loops)\n",
    "* @head: Pointer to the head of the list\n",
    "*\n",
    "* Return: The number of nodes in the list\n",
    "*/\n",
    "size_t print_listint_safe(const listint_t *head)\n",
    "{\n",
    "const listint_t *current = head;\n",
    "const listint_t *checker;\n",
    "size_t count = 0;\n",
    "\n",
    "while (current != NULL)\n",
    "{\n",
    "printf(\"[%p] %d\\n\", (void *)current, current->n);\n",
    "count++;\n",
    "checker = head;\n",
    "\n",
    "while (checker != current)\n",
    "{\n",
    "if (checker == current->next)\n",
    "{\n",
    "printf(\"-> [%p] %d\\n\", (void *)current->next, current->next->n);\n",
    "return (count);\n",
    "}\n",
    "checker = checker->next;\n",
    "}\n",
    "current = current->next;\n",
    "}\n",
    "\n",
    "return (count);\n",
    "}\n"
   ]
  },
  {
   "cell_type": "code",
   "execution_count": 91,
   "metadata": {},
   "outputs": [
    {
     "name": "stdout",
     "output_type": "stream",
     "text": [
      "Overwriting 0x13-more_singly_linked_lists/101-main.c\n"
     ]
    }
   ],
   "source": [
    "%%file 0x13-more_singly_linked_lists/101-main.c\n",
    "#include <stdlib.h>\n",
    "#include <string.h>\n",
    "#include <stdio.h>\n",
    "#include \"lists.h\"\n",
    "\n",
    "/**\n",
    "* main - check the code\n",
    "*\n",
    "* Return: Always 0.\n",
    "*/\n",
    "int main(void)\n",
    "{\n",
    "listint_t *head;\n",
    "listint_t *head2;\n",
    "listint_t *node;\n",
    "head2 = NULL;\n",
    "add_nodeint(&head2, 0);\n",
    "add_nodeint(&head2, 1);\n",
    "add_nodeint(&head2, 2);\n",
    "add_nodeint(&head2, 3);\n",
    "add_nodeint(&head2, 4);\n",
    "add_nodeint(&head2, 98);\n",
    "add_nodeint(&head2, 402);\n",
    "add_nodeint(&head2, 1024);\n",
    "print_listint_safe(head2);\n",
    "head = NULL;\n",
    "node = add_nodeint(&head, 0);\n",
    "add_nodeint(&head, 1);\n",
    "add_nodeint(&head, 2);\n",
    "add_nodeint(&head, 3);\n",
    "add_nodeint(&head, 4);\n",
    "node->next = add_nodeint(&head, 98);\n",
    "add_nodeint(&head, 402);\n",
    "add_nodeint(&head, 1024);\n",
    "print_listint_safe(head);\n",
    "return (0);\n",
    "}\n"
   ]
  },
  {
   "cell_type": "code",
   "execution_count": 92,
   "metadata": {},
   "outputs": [
    {
     "name": "stdout",
     "output_type": "stream",
     "text": [
      "0x13-more_singly_linked_lists/100-main.c:26: ERROR: trailing whitespace\n",
      "total: 1 errors, 0 warnings, 29 lines checked\n",
      "main\n",
      "print_listint\n",
      "listint_len\n",
      "main\n",
      "delete_nodeint_at_index\n",
      "main\n",
      "main\n",
      "reverse_listint\n",
      "main\n",
      "print_listint_safe\n",
      "add_nodeint\n",
      "main\n",
      "add_nodeint_end\n",
      "main\n",
      "free_listint\n",
      "main\n",
      "free_listint2\n",
      "main\n",
      "main\n",
      "pop_listint\n",
      "get_nodeint_at_index\n",
      "main\n",
      "main\n",
      "sum_listint\n",
      "insert_nodeint_at_index\n",
      "main\n",
      "struct listint_s\n"
     ]
    }
   ],
   "source": [
    "%%bash\n",
    "betty-style 0x13-more_singly_linked_lists/*.c 0x13-more_singly_linked_lists/*.h\n",
    "betty-doc 0x13-more_singly_linked_lists/*.c 0x13-more_singly_linked_lists/*.h\n"
   ]
  },
  {
   "cell_type": "code",
   "execution_count": 95,
   "metadata": {},
   "outputs": [
    {
     "name": "stdout",
     "output_type": "stream",
     "text": [
      "[0x562004384380] 1024\n",
      "[0x562004384360] 402\n",
      "[0x562004384340] 98\n",
      "[0x562004384320] 4\n",
      "[0x562004384300] 3\n",
      "[0x5620043842e0] 2\n",
      "[0x5620043842c0] 1\n",
      "[0x5620043842a0] 0\n",
      "[0x562004385490] 1024\n",
      "[0x562004385470] 402\n",
      "[0x562004385450] 98\n",
      "[0x562004385430] 4\n",
      "[0x562004385410] 3\n",
      "[0x5620043853f0] 2\n",
      "[0x5620043853d0] 1\n",
      "[0x5620043853b0] 0\n",
      "-> [0x562004385450] 98\n"
     ]
    }
   ],
   "source": [
    "%%bash\n",
    "gcc -Wall -pedantic -Werror -Wextra -std=gnu89 0x13-more_singly_linked_lists/101-main.c 0x13-more_singly_linked_lists/2-add_nodeint.c 0x13-more_singly_linked_lists/101-print_listint_safe.c -o 0x13-more_singly_linked_lists/m\n",
    "./0x13-more_singly_linked_lists/m\n"
   ]
  },
  {
   "cell_type": "code",
   "execution_count": 96,
   "metadata": {},
   "outputs": [
    {
     "name": "stdout",
     "output_type": "stream",
     "text": [
      "[main 8f5a97c] alx-low_level_programming/0x13-more_singly_linked_lists/0-putchar\n",
      " 1 file changed, 0 insertions(+), 0 deletions(-)\n",
      " create mode 100755 0x13-more_singly_linked_lists/m\n"
     ]
    },
    {
     "name": "stderr",
     "output_type": "stream",
     "text": [
      "To https://github.com/elkomysara/alx-low_level_programming.git\n",
      "   15846a1..8f5a97c  main -> main\n"
     ]
    }
   ],
   "source": [
    "%%bash\n",
    "git add .\n",
    "git commit -m \"alx-low_level_programming/0x13-more_singly_linked_lists/0-putchar\"\n",
    "git push"
   ]
  },
  {
   "cell_type": "code",
   "execution_count": null,
   "metadata": {},
   "outputs": [],
   "source": []
  },
  {
   "cell_type": "markdown",
   "metadata": {},
   "source": [
    "###\n",
    "---\n",
    "<center>\n",
    "<h4> 13. Free (safe version) </h4>\n",
    "</center>\n",
    "\n",
    "---"
   ]
  },
  {
   "cell_type": "markdown",
   "metadata": {},
   "source": [
    "\n",
    "#### Write a function that frees a `listint_t` list.\n",
    "\n",
    "* Prototype: `size_t free_listint_safe(listint_t **h);`\n",
    "* This function can free lists with a loop\n",
    "* You should go though the list only once\n",
    "* Returns: the size of the list that was free’d\n",
    "* The function sets the `head` to `NULL`\n",
    "\n",
    "```bash\n",
    "julien@ubuntu:~/0x13. More singly linked lists$ cat 102-main.c \n",
    "#include <stdlib.h>\n",
    "#include <string.h>\n",
    "#include <stdio.h>\n",
    "#include \"lists.h\"\n",
    "\n",
    "/**\n",
    " * main - check the code\n",
    " *\n",
    " * Return: Always 0.\n",
    " */\n",
    "int main(void)\n",
    "{\n",
    "    listint_t *head;\n",
    "    listint_t *head2;\n",
    "    listint_t *node;\n",
    "\n",
    "    head2 = NULL;\n",
    "    add_nodeint(&head2, 0);\n",
    "    add_nodeint(&head2, 1);\n",
    "    add_nodeint(&head2, 2);\n",
    "    add_nodeint(&head2, 3);\n",
    "    add_nodeint(&head2, 4);\n",
    "    add_nodeint(&head2, 98);\n",
    "    add_nodeint(&head2, 402);\n",
    "    add_nodeint(&head2, 1024);\n",
    "    print_listint_safe(head2);\n",
    "    head = NULL;\n",
    "    node = add_nodeint(&head, 0);\n",
    "    add_nodeint(&head, 1);\n",
    "    add_nodeint(&head, 2);\n",
    "    add_nodeint(&head, 3);\n",
    "    add_nodeint(&head, 4);\n",
    "    node->next = add_nodeint(&head, 98);\n",
    "    add_nodeint(&head, 402);\n",
    "    add_nodeint(&head, 1024);\n",
    "    print_listint_safe(head);\n",
    "    free_listint_safe(&head2);\n",
    "    free_listint_safe(&head);\n",
    "    printf(\"%p, %p\\n\", (void *)head2, (void *)head);\n",
    "    return (0);\n",
    "}\n",
    "julien@ubuntu:~/0x13. More singly linked lists$ gcc -Wall -pedantic -Werror -Wextra -std=gnu89 102-main.c 2-add_nodeint.c 101-print_listint_safe.c 102-free_listint_safe.c -o n\n",
    "julien@ubuntu:~/0x13. More singly linked lists$ ./n \n",
    "[0x11260f0] 1024\n",
    "[0x11260d0] 402\n",
    "[0x11260b0] 98\n",
    "[0x1126090] 4\n",
    "[0x1126070] 3\n",
    "[0x1126050] 2\n",
    "[0x1126030] 1\n",
    "[0x1126010] 0\n",
    "[0x1126600] 1024\n",
    "[0x11265e0] 402\n",
    "[0x11265c0] 98\n",
    "[0x11265a0] 4\n",
    "[0x1126580] 3\n",
    "[0x1126560] 2\n",
    "[0x1126540] 1\n",
    "[0x1126110] 0\n",
    "-> [0x11265c0] 98\n",
    "(nil), (nil)\n",
    "julien@ubuntu:~/0x13. More singly linked lists$ \n",
    "\n",
    "```\n",
    "#### Repo:\n",
    "* GitHub repository: ``` alx-low_level_programming ```\n",
    "* Directory: ```0x13-more_singly_linked_lists``` \n",
    "* File: ```102-free_listint_safe.c```"
   ]
  },
  {
   "cell_type": "code",
   "execution_count": 97,
   "metadata": {},
   "outputs": [
    {
     "name": "stdout",
     "output_type": "stream",
     "text": [
      "Writing 0x13-more_singly_linked_lists/102-free_listint_safe.c\n"
     ]
    }
   ],
   "source": [
    "%%file 0x13-more_singly_linked_lists/102-free_listint_safe.c\n",
    "#include \"lists.h\"\n",
    "#include <stdlib.h>\n",
    "\n",
    "/**\n",
    "* free_listint_safe - Frees a listint_t list safely (handles loops)\n",
    "* @h: Pointer to the pointer to the head of the list\n",
    "*\n",
    "* Return: The size of the list that was freed\n",
    "*/\n",
    "size_t free_listint_safe(listint_t **h)\n",
    "{\n",
    "listint_t *current, *temp;\n",
    "size_t count = 0;\n",
    "\n",
    "if (!h || !*h)\n",
    "return (0);\n",
    "\n",
    "current = *h;\n",
    "\n",
    "while (current)\n",
    "{\n",
    "count++;\n",
    "if (current <= current->next)\n",
    "{\n",
    "*h = NULL;\n",
    "break;\n",
    "}\n",
    "temp = current;\n",
    "current = current->next;\n",
    "free(temp);\n",
    "}\n",
    "\n",
    "*h = NULL;\n",
    "return (count);\n",
    "}\n"
   ]
  },
  {
   "cell_type": "code",
   "execution_count": 98,
   "metadata": {},
   "outputs": [
    {
     "name": "stdout",
     "output_type": "stream",
     "text": [
      "Writing 0x13-more_singly_linked_lists/102-main.c\n"
     ]
    }
   ],
   "source": [
    "%%file 0x13-more_singly_linked_lists/102-main.c\n",
    "#include <stdlib.h>\n",
    "#include <string.h>\n",
    "#include <stdio.h>\n",
    "#include \"lists.h\"\n",
    "\n",
    "/**\n",
    "* main - check the code\n",
    "*\n",
    "* Return: Always 0.\n",
    "*/\n",
    "int main(void)\n",
    "{\n",
    "listint_t *head;\n",
    "listint_t *head2;\n",
    "listint_t *node;\n",
    "\n",
    "head2 = NULL;\n",
    "add_nodeint(&head2, 0);\n",
    "add_nodeint(&head2, 1);\n",
    "add_nodeint(&head2, 2);\n",
    "add_nodeint(&head2, 3);\n",
    "add_nodeint(&head2, 4);\n",
    "add_nodeint(&head2, 98);\n",
    "add_nodeint(&head2, 402);\n",
    "add_nodeint(&head2, 1024);\n",
    "print_listint_safe(head2);\n",
    "head = NULL;\n",
    "node = add_nodeint(&head, 0);\n",
    "add_nodeint(&head, 1);\n",
    "add_nodeint(&head, 2);\n",
    "add_nodeint(&head, 3);\n",
    "add_nodeint(&head, 4);\n",
    "node->next = add_nodeint(&head, 98);\n",
    "add_nodeint(&head, 402);\n",
    "add_nodeint(&head, 1024);\n",
    "print_listint_safe(head);\n",
    "free_listint_safe(&head2);\n",
    "free_listint_safe(&head);\n",
    "printf(\"%p, %p\\n\", (void *)head2, (void *)head);\n",
    "return (0);\n",
    "}\n"
   ]
  },
  {
   "cell_type": "code",
   "execution_count": 99,
   "metadata": {},
   "outputs": [
    {
     "name": "stdout",
     "output_type": "stream",
     "text": [
      "0x13-more_singly_linked_lists/100-main.c:26: ERROR: trailing whitespace\n",
      "total: 1 errors, 0 warnings, 29 lines checked\n",
      "main\n",
      "print_listint\n",
      "listint_len\n",
      "main\n",
      "delete_nodeint_at_index\n",
      "main\n",
      "main\n",
      "reverse_listint\n",
      "main\n",
      "print_listint_safe\n",
      "free_listint_safe\n",
      "main\n",
      "add_nodeint\n",
      "main\n",
      "add_nodeint_end\n",
      "main\n",
      "free_listint\n",
      "main\n",
      "free_listint2\n",
      "main\n",
      "main\n",
      "pop_listint\n",
      "get_nodeint_at_index\n",
      "main\n",
      "main\n",
      "sum_listint\n",
      "insert_nodeint_at_index\n",
      "main\n",
      "struct listint_s\n"
     ]
    }
   ],
   "source": [
    "%%bash\n",
    "betty-style 0x13-more_singly_linked_lists/*.c 0x13-more_singly_linked_lists/*.h\n",
    "betty-doc 0x13-more_singly_linked_lists/*.c 0x13-more_singly_linked_lists/*.h\n"
   ]
  },
  {
   "cell_type": "code",
   "execution_count": 100,
   "metadata": {},
   "outputs": [
    {
     "name": "stdout",
     "output_type": "stream",
     "text": [
      "[0x555b3e9a9380] 1024\n",
      "[0x555b3e9a9360] 402\n",
      "[0x555b3e9a9340] 98\n",
      "[0x555b3e9a9320] 4\n",
      "[0x555b3e9a9300] 3\n",
      "[0x555b3e9a92e0] 2\n",
      "[0x555b3e9a92c0] 1\n",
      "[0x555b3e9a92a0] 0\n",
      "[0x555b3e9aa490] 1024\n",
      "[0x555b3e9aa470] 402\n",
      "[0x555b3e9aa450] 98\n",
      "[0x555b3e9aa430] 4\n",
      "[0x555b3e9aa410] 3\n",
      "[0x555b3e9aa3f0] 2\n",
      "[0x555b3e9aa3d0] 1\n",
      "[0x555b3e9aa3b0] 0\n",
      "-> [0x555b3e9aa450] 98\n",
      "(nil), (nil)\n"
     ]
    }
   ],
   "source": [
    "%%bash\n",
    "gcc -Wall -pedantic -Werror -Wextra -std=gnu89 0x13-more_singly_linked_lists/102-main.c 0x13-more_singly_linked_lists/2-add_nodeint.c 0x13-more_singly_linked_lists/101-print_listint_safe.c 0x13-more_singly_linked_lists/102-free_listint_safe.c -o 0x13-more_singly_linked_lists/n\n",
    "./0x13-more_singly_linked_lists/n\n"
   ]
  },
  {
   "cell_type": "code",
   "execution_count": 101,
   "metadata": {},
   "outputs": [
    {
     "name": "stdout",
     "output_type": "stream",
     "text": [
      "[main 960a2b3] alx-low_level_programming/0x13-more_singly_linked_lists/0-putchar\n",
      " 3 files changed, 76 insertions(+)\n",
      " create mode 100644 0x13-more_singly_linked_lists/102-free_listint_safe.c\n",
      " create mode 100644 0x13-more_singly_linked_lists/102-main.c\n",
      " create mode 100755 0x13-more_singly_linked_lists/n\n"
     ]
    },
    {
     "name": "stderr",
     "output_type": "stream",
     "text": [
      "To https://github.com/elkomysara/alx-low_level_programming.git\n",
      "   8f5a97c..960a2b3  main -> main\n"
     ]
    }
   ],
   "source": [
    "%%bash\n",
    "git add .\n",
    "git commit -m \"alx-low_level_programming/0x13-more_singly_linked_lists/0-putchar\"\n",
    "git push"
   ]
  },
  {
   "cell_type": "code",
   "execution_count": null,
   "metadata": {},
   "outputs": [],
   "source": []
  },
  {
   "cell_type": "markdown",
   "metadata": {},
   "source": [
    "###\n",
    "---\n",
    "<center>\n",
    "<h4> 14. Find the loop  </h4>\n",
    "</center>\n",
    "\n",
    "---"
   ]
  },
  {
   "cell_type": "markdown",
   "metadata": {},
   "source": [
    "\n",
    "#### Write a function that finds the loop in a linked list.\n",
    "\n",
    "Prototype: `listint_t *find_listint_loop(listint_t *head);`\n",
    "Returns: The address of the node where the loop starts, or `NULL `if there is no loop\n",
    "You are not allowed to use `malloc`, `free` or arrays\n",
    "You can only declare a maximum of two variables in your function\n",
    "\n",
    "```bash\n",
    "julien@ubuntu:~/0x13. More singly linked lists$ cat 103-main.c \n",
    "#include <stdlib.h>\n",
    "#include <string.h>\n",
    "#include <stdio.h>\n",
    "#include \"lists.h\"\n",
    "\n",
    "/**\n",
    " * main - check the code\n",
    " *\n",
    " * Return: Always 0.\n",
    " */\n",
    "int main(void)\n",
    "{\n",
    "    listint_t *head;\n",
    "    listint_t *head2;\n",
    "    listint_t *node;\n",
    "\n",
    "    head2 = NULL;\n",
    "    add_nodeint(&head2, 0);\n",
    "    add_nodeint(&head2, 1);\n",
    "    add_nodeint(&head2, 2);\n",
    "    add_nodeint(&head2, 3);\n",
    "    add_nodeint(&head2, 4);\n",
    "    add_nodeint(&head2, 98);\n",
    "    add_nodeint(&head2, 402);\n",
    "    add_nodeint(&head2, 1024);\n",
    "    print_listint_safe(head2);\n",
    "    node = find_listint_loop(head2);\n",
    "    if (node != NULL)\n",
    "    {\n",
    "        printf(\"Loop starts at [%p] %d\\n\", (void *)node, node->n);\n",
    "    }\n",
    "    free_listint_safe(&head2);\n",
    "    head = NULL;\n",
    "    node = add_nodeint(&head, 0);\n",
    "    add_nodeint(&head, 1);\n",
    "    add_nodeint(&head, 2);\n",
    "    add_nodeint(&head, 3);\n",
    "    add_nodeint(&head, 4);\n",
    "    add_nodeint(&head, 5);\n",
    "    add_nodeint(&head, 6);\n",
    "    node->next = add_nodeint(&head, 7);\n",
    "    add_nodeint(&head, 98);\n",
    "    add_nodeint(&head, 402);\n",
    "    add_nodeint(&head, 1024);\n",
    "    print_listint_safe(head);\n",
    "    node = find_listint_loop(head);\n",
    "    if (node != NULL)\n",
    "    {\n",
    "        printf(\"Loop starts at [%p] %d\\n\", (void *)node, node->n);\n",
    "    }\n",
    "    free_listint_safe(&head);\n",
    "    return (0);\n",
    "}\n",
    "julien@ubuntu:~/0x13. More singly linked lists$ gcc -Wall -pedantic -Werror -Wextra -std=gnu89 103-main.c 2-add_nodeint.c 101-print_listint_safe.c 102-free_listint_safe.c 103-find_loop.c -o o\n",
    "julien@ubuntu:~/0x13. More singly linked lists$ ./o \n",
    "[0x13700f0] 1024\n",
    "[0x13700d0] 402\n",
    "[0x13700b0] 98\n",
    "[0x1370090] 4\n",
    "[0x1370070] 3\n",
    "[0x1370050] 2\n",
    "[0x1370030] 1\n",
    "[0x1370010] 0\n",
    "[0x1370560] 1024\n",
    "[0x1370540] 402\n",
    "[0x1370010] 98\n",
    "[0x1370030] 7\n",
    "[0x1370050] 6\n",
    "[0x1370070] 5\n",
    "[0x1370090] 4\n",
    "[0x13700b0] 3\n",
    "[0x13700d0] 2\n",
    "[0x13700f0] 1\n",
    "[0x1370110] 0\n",
    "-> [0x1370030] 7\n",
    "Loop starts at [0x1370030] 7\n",
    "julien@ubuntu:~/0x13. More singly linked lists$ \n",
    "\n",
    "```\n",
    "#### Repo:\n",
    "* GitHub repository: ``` alx-low_level_programming ```\n",
    "* Directory: ```0x13-more_singly_linked_lists``` \n",
    "* File: ```103-find_loop.c```"
   ]
  },
  {
   "cell_type": "code",
   "execution_count": 102,
   "metadata": {},
   "outputs": [
    {
     "name": "stdout",
     "output_type": "stream",
     "text": [
      "Writing 0x13-more_singly_linked_lists/103-find_loop.c\n"
     ]
    }
   ],
   "source": [
    "%%file 0x13-more_singly_linked_lists/103-find_loop.c\n",
    "#include \"lists.h\"\n",
    "\n",
    "/**\n",
    "* find_listint_loop - Finds the loop in a linked list\n",
    "* @head: Pointer to the head of the list\n",
    "*\n",
    "* Return: The address of the node where the loop starts, or NULL if no loop\n",
    "*/\n",
    "listint_t *find_listint_loop(listint_t *head)\n",
    "{\n",
    "listint_t *slow = head;\n",
    "listint_t *fast = head;\n",
    "\n",
    "if (!head)\n",
    "return (NULL);\n",
    "\n",
    "while (fast && fast->next)\n",
    "{\n",
    "slow = slow->next;\n",
    "fast = fast->next->next;\n",
    "\n",
    "if (slow == fast)\n",
    "{\n",
    "slow = head;\n",
    "while (slow != fast)\n",
    "{\n",
    "slow = slow->next;\n",
    "fast = fast->next;\n",
    "}\n",
    "return (fast);\n",
    "}\n",
    "}\n",
    "\n",
    "return (NULL);\n",
    "}\n"
   ]
  },
  {
   "cell_type": "code",
   "execution_count": 103,
   "metadata": {},
   "outputs": [
    {
     "name": "stdout",
     "output_type": "stream",
     "text": [
      "Writing 0x13-more_singly_linked_lists/103-main.c\n"
     ]
    }
   ],
   "source": [
    "%%file 0x13-more_singly_linked_lists/103-main.c\n",
    "#include <stdlib.h>\n",
    "#include <string.h>\n",
    "#include <stdio.h>\n",
    "#include \"lists.h\"\n",
    "\n",
    "/**\n",
    "* main - check the code\n",
    "*\n",
    "* Return: Always 0.\n",
    "*/\n",
    "int main(void)\n",
    "{\n",
    "listint_t *head;\n",
    "listint_t *head2;\n",
    "listint_t *node;\n",
    "\n",
    "head2 = NULL;\n",
    "add_nodeint(&head2, 0);\n",
    "add_nodeint(&head2, 1);\n",
    "add_nodeint(&head2, 2);\n",
    "add_nodeint(&head2, 3);\n",
    "add_nodeint(&head2, 4);\n",
    "add_nodeint(&head2, 98);\n",
    "add_nodeint(&head2, 402);\n",
    "add_nodeint(&head2, 1024);\n",
    "print_listint_safe(head2);\n",
    "node = find_listint_loop(head2);\n",
    "if (node != NULL)\n",
    "{\n",
    "printf(\"Loop starts at [%p] %d\\n\", (void *)node, node->n);\n",
    "}\n",
    "free_listint_safe(&head2);\n",
    "head = NULL;\n",
    "node = add_nodeint(&head, 0);\n",
    "add_nodeint(&head, 1);\n",
    "add_nodeint(&head, 2);\n",
    "add_nodeint(&head, 3);\n",
    "add_nodeint(&head, 4);\n",
    "add_nodeint(&head, 5);\n",
    "add_nodeint(&head, 6);\n",
    "node->next = add_nodeint(&head, 7);\n",
    "add_nodeint(&head, 98);\n",
    "add_nodeint(&head, 402);\n",
    "add_nodeint(&head, 1024);\n",
    "print_listint_safe(head);\n",
    "node = find_listint_loop(head);\n",
    "if (node != NULL)\n",
    "{\n",
    "printf(\"Loop starts at [%p] %d\\n\", (void *)node, node->n);\n",
    "}\n",
    "free_listint_safe(&head);\n",
    "return (0);\n",
    "}\n"
   ]
  },
  {
   "cell_type": "code",
   "execution_count": 104,
   "metadata": {},
   "outputs": [
    {
     "name": "stdout",
     "output_type": "stream",
     "text": [
      "0x13-more_singly_linked_lists/100-main.c:26: ERROR: trailing whitespace\n",
      "total: 1 errors, 0 warnings, 29 lines checked\n",
      "main\n",
      "print_listint\n",
      "listint_len\n",
      "main\n",
      "delete_nodeint_at_index\n",
      "main\n",
      "main\n",
      "reverse_listint\n",
      "main\n",
      "print_listint_safe\n",
      "free_listint_safe\n",
      "main\n",
      "find_listint_loop\n",
      "main\n",
      "add_nodeint\n",
      "main\n",
      "add_nodeint_end\n",
      "main\n",
      "free_listint\n",
      "main\n",
      "free_listint2\n",
      "main\n",
      "main\n",
      "pop_listint\n",
      "get_nodeint_at_index\n",
      "main\n",
      "main\n",
      "sum_listint\n",
      "insert_nodeint_at_index\n",
      "main\n",
      "struct listint_s\n"
     ]
    }
   ],
   "source": [
    "%%bash\n",
    "betty-style 0x13-more_singly_linked_lists/*.c 0x13-more_singly_linked_lists/*.h\n",
    "betty-doc 0x13-more_singly_linked_lists/*.c 0x13-more_singly_linked_lists/*.h\n"
   ]
  },
  {
   "cell_type": "code",
   "execution_count": 105,
   "metadata": {},
   "outputs": [
    {
     "name": "stdout",
     "output_type": "stream",
     "text": [
      "[0x560361c84380] 1024\n",
      "[0x560361c84360] 402\n",
      "[0x560361c84340] 98\n",
      "[0x560361c84320] 4\n",
      "[0x560361c84300] 3\n",
      "[0x560361c842e0] 2\n",
      "[0x560361c842c0] 1\n",
      "[0x560361c842a0] 0\n",
      "[0x560361c853f0] 1024\n",
      "[0x560361c853d0] 402\n",
      "[0x560361c853b0] 98\n",
      "[0x560361c842a0] 7\n",
      "[0x560361c84380] 6\n",
      "[0x560361c84360] 5\n",
      "[0x560361c84340] 4\n",
      "[0x560361c84320] 3\n",
      "[0x560361c84300] 2\n",
      "[0x560361c842e0] 1\n",
      "[0x560361c842c0] 0\n",
      "-> [0x560361c842a0] 7\n",
      "Loop starts at [0x560361c842a0] 7\n"
     ]
    }
   ],
   "source": [
    "%%bash\n",
    "gcc -Wall -pedantic -Werror -Wextra -std=gnu89 0x13-more_singly_linked_lists/103-main.c 0x13-more_singly_linked_lists/2-add_nodeint.c 0x13-more_singly_linked_lists/101-print_listint_safe.c 0x13-more_singly_linked_lists/102-free_listint_safe.c 0x13-more_singly_linked_lists/103-find_loop.c -o 0x13-more_singly_linked_lists/o\n",
    "./0x13-more_singly_linked_lists/o\n"
   ]
  },
  {
   "cell_type": "code",
   "execution_count": 106,
   "metadata": {},
   "outputs": [
    {
     "name": "stdout",
     "output_type": "stream",
     "text": [
      "[main 042c885] alx-low_level_programming/0x13-more_singly_linked_lists/0-putchar\n",
      " 3 files changed, 88 insertions(+)\n",
      " create mode 100644 0x13-more_singly_linked_lists/103-find_loop.c\n",
      " create mode 100644 0x13-more_singly_linked_lists/103-main.c\n",
      " create mode 100755 0x13-more_singly_linked_lists/o\n"
     ]
    },
    {
     "name": "stderr",
     "output_type": "stream",
     "text": [
      "To https://github.com/elkomysara/alx-low_level_programming.git\n",
      "   960a2b3..042c885  main -> main\n"
     ]
    }
   ],
   "source": [
    "%%bash\n",
    "git add .\n",
    "git commit -m \"alx-low_level_programming/0x13-more_singly_linked_lists/0-putchar\"\n",
    "git push"
   ]
  },
  {
   "cell_type": "code",
   "execution_count": null,
   "metadata": {},
   "outputs": [],
   "source": []
  }
 ],
 "metadata": {
  "kernelspec": {
   "display_name": "Python 3",
   "language": "python",
   "name": "python3"
  },
  "language_info": {
   "codemirror_mode": {
    "name": "ipython",
    "version": 3
   },
   "file_extension": ".py",
   "mimetype": "text/x-python",
   "name": "python",
   "nbconvert_exporter": "python",
   "pygments_lexer": "ipython3",
   "version": "3.12.3"
  }
 },
 "nbformat": 4,
 "nbformat_minor": 2
}
