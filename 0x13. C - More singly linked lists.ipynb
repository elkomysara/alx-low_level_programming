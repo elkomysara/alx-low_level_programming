{
 "cells": [
  {
   "cell_type": "markdown",
   "metadata": {},
   "source": [
    "---\n",
    "<center>\n",
    "<h1>  alx-low_level_programming </h1>\n",
    "</center>\n",
    "\n",
    "---\n"
   ]
  },
  {
   "cell_type": "code",
   "execution_count": 1,
   "metadata": {},
   "outputs": [],
   "source": [
    "import os\n",
    "# creating 0x02-shell_redirectionss\n",
    "\n",
    "folder_path = r'/home/elkomy/alx/alx-low_level_programming/0x13-more_singly_linked_lists'\n",
    "if not os.path.exists(folder_path):\n",
    "    os.makedirs(folder_path)\n",
    "\n",
    "# Create a README.md inside alx-low_level_programming/0x13-more_singly_linked_lists\n",
    "file_path = os.path.join(folder_path, 'README.md')\n",
    "\n",
    "with open(file_path, 'w') as file:\n",
    "    file.write(\"This is a README.md file inside alx-low_level_programming/0x13-more_singly_linked_lists\")\n",
    "\n"
   ]
  },
  {
   "cell_type": "code",
   "execution_count": 3,
   "metadata": {},
   "outputs": [
    {
     "name": "stdout",
     "output_type": "stream",
     "text": [
      "Overwriting /home/elkomy/alx/alx-low_level_programming/0x07-pointers_arrays_strings/README.md\n"
     ]
    }
   ],
   "source": [
    "%%file /home/elkomy/alx/alx-low_level_programming/0x13-more_singly_linked_lists/README.md\n",
    "This is a README.md"
   ]
  },
  {
   "cell_type": "markdown",
   "metadata": {},
   "source": [
    "###\n",
    "---\n",
    "<center>\n",
    "<h1> 0x13. C - More singly linked lists </h1>\n",
    "</center>\n",
    "\n",
    "---\n"
   ]
  },
  {
   "cell_type": "markdown",
   "metadata": {},
   "source": [
    "###\n",
    "---\n",
    "<center>\n",
    "<h4> 0. Print list</h4>\n",
    "</center>\n",
    "\n",
    "---"
   ]
  },
  {
   "cell_type": "markdown",
   "metadata": {},
   "source": [
    "\n",
    "#### Write a function that prints all the elements of a listint_t list.\n",
    "\n",
    "* Prototype: size_t print_listint(const listint_t *h);\n",
    "* Return: the number of nodes\n",
    "* Format: see example\n",
    "* You are allowed to use printf\n",
    "\n",
    "\n",
    "```bash\n",
    "julien@ubuntu:~/0x13. More singly linked lists$ cat 0-main.c \n",
    "#include <stdlib.h>\n",
    "#include <string.h>\n",
    "#include <stdio.h>\n",
    "#include \"lists.h\"\n",
    "\n",
    "/**\n",
    " * main - check the code\n",
    " * \n",
    " * Return: Always 0.\n",
    " */\n",
    "int main(void)\n",
    "{\n",
    "    listint_t *head;\n",
    "    listint_t *new;\n",
    "    listint_t hello = {8, NULL};\n",
    "    size_t n;\n",
    "\n",
    "    head = &hello;\n",
    "    new = malloc(sizeof(listint_t));\n",
    "    if (new == NULL)\n",
    "    {\n",
    "        printf(\"Error\\n\");\n",
    "        return (1);\n",
    "    }\n",
    "    new->n = 9;\n",
    "    new->next = head;\n",
    "    head = new;\n",
    "    n = print_listint(head);\n",
    "    printf(\"-> %lu elements\\n\", n);\n",
    "    free(new);\n",
    "    return (0);\n",
    "}\n",
    "julien@ubuntu:~/0x13. More singly linked lists$ gcc -Wall -pedantic -Werror -Wextra -std=gnu89 0-main.c 0-print_listint.c -o a\n",
    "julien@ubuntu:~/0x13. More singly linked lists$ ./a \n",
    "9\n",
    "8\n",
    "-> 2 elements\n",
    "julien@ubuntu:~/0x13. More singly linked lists$ \n",
    "\n",
    "```\n",
    "#### Repo:\n",
    "* GitHub repository: ``` alx-low_level_programming ```\n",
    "* Directory: ```0x13-more_singly_linked_lists``` \n",
    "* File: ```0-print_listint.c```"
   ]
  },
  {
   "cell_type": "code",
   "execution_count": 13,
   "metadata": {},
   "outputs": [
    {
     "name": "stdout",
     "output_type": "stream",
     "text": [
      "Overwriting 0x13-more_singly_linked_lists/lists.h\n"
     ]
    }
   ],
   "source": [
    "%%file 0x13-more_singly_linked_lists/lists.h\n",
    "#ifndef LISTS_H\n",
    "#define LISTS_H\n",
    "\n",
    "#include <stddef.h>\n",
    "\n",
    "/**\n",
    "* struct listint_s - singly linked list\n",
    "* @n: integer\n",
    "* @next: points to the next node\n",
    "*\n",
    "* Description: singly linked list node structure\n",
    "*/\n",
    "typedef struct listint_s\n",
    "{\n",
    "int n;\n",
    "struct listint_s *next;\n",
    "} listint_t;\n",
    "\n",
    "size_t print_listint(const listint_t *h);\n",
    "size_t listint_len(const listint_t *h);\n",
    "listint_t *add_nodeint(listint_t **head, const int n);\n",
    "listint_t *add_nodeint_end(listint_t **head, const int n);\n",
    "void free_listint(listint_t *head);\n",
    "void free_listint2(listint_t **head);\n",
    "int pop_listint(listint_t **head);\n",
    "listint_t *get_nodeint_at_index(listint_t *head, unsigned int index);\n",
    "int sum_listint(listint_t *head);\n",
    "listint_t *insert_nodeint_at_index(listint_t **head, unsigned int idx, int n);\n",
    "int delete_nodeint_at_index(listint_t **head, unsigned int index);\n",
    "listint_t *reverse_listint(listint_t **head);\n",
    "size_t print_listint_safe(const listint_t *head);\n",
    "size_t free_listint_safe(listint_t **h);\n",
    "listint_t *find_listint_loop(listint_t *head);\n",
    "\n",
    "#endif /* LISTS_H */\n"
   ]
  },
  {
   "cell_type": "code",
   "execution_count": 30,
   "metadata": {},
   "outputs": [
    {
     "name": "stdout",
     "output_type": "stream",
     "text": [
      "Overwriting 0x13-more_singly_linked_lists/0-print_listint.c\n"
     ]
    }
   ],
   "source": [
    "%%file 0x13-more_singly_linked_lists/0-print_listint.c\n",
    "#include \"lists.h\"\n",
    "#include <stdio.h>\n",
    "\n",
    "/* \n",
    "* print_listint - prints all the elements of a listint_t list\n",
    "* @h: pointer to the head of the list\n",
    "*\n",
    "* Return: the number of nodes\n",
    "*/\n",
    "size_t print_listint(const listint_t *h)\n",
    "{\n",
    "size_t count = 0;\n",
    "\n",
    "while (h)\n",
    "{\n",
    "printf(\"%d\\n\", h->n);\n",
    "h = h->next;\n",
    "count++;\n",
    "}\n",
    "return (count);\n",
    "}\n"
   ]
  },
  {
   "cell_type": "code",
   "execution_count": 24,
   "metadata": {},
   "outputs": [
    {
     "name": "stdout",
     "output_type": "stream",
     "text": [
      "Overwriting 0x13-more_singly_linked_lists/0-main.c\n"
     ]
    }
   ],
   "source": [
    "%%file 0x13-more_singly_linked_lists/0-main.c\n",
    "#include <stdlib.h>\n",
    "#include <string.h>\n",
    "#include <stdio.h>\n",
    "#include \"lists.h\"\n",
    "\n",
    "/**\n",
    "* main - check the code\n",
    "*\n",
    "* Return: Always 0.\n",
    "*/\n",
    "int main(void)\n",
    "{\n",
    "listint_t *head;\n",
    "listint_t *new;\n",
    "listint_t hello = {8, NULL};\n",
    "size_t n;\n",
    "\n",
    "head = &hello;\n",
    "new = malloc(sizeof(listint_t));\n",
    "if (new == NULL)\n",
    "{\n",
    "printf(\"Error\\n\");\n",
    "return (1);\n",
    "}\n",
    "new->n = 9;\n",
    "new->next = head;\n",
    "head = new;\n",
    "n = print_listint(head);\n",
    "printf(\"-> %lu elements\\n\", n);\n",
    "free(new);\n",
    "return (0);\n",
    "}\n"
   ]
  },
  {
   "cell_type": "code",
   "execution_count": 25,
   "metadata": {},
   "outputs": [
    {
     "name": "stdout",
     "output_type": "stream",
     "text": [
      "main\n",
      "print_listint\n",
      "struct listint_s\n"
     ]
    }
   ],
   "source": [
    "%%bash\n",
    "betty-style 0x13-more_singly_linked_lists/*.c 0x13-more_singly_linked_lists/*.h\n",
    "betty-doc 0x13-more_singly_linked_lists/*.c 0x13-more_singly_linked_lists/*.h\n"
   ]
  },
  {
   "cell_type": "code",
   "execution_count": 26,
   "metadata": {},
   "outputs": [
    {
     "name": "stdout",
     "output_type": "stream",
     "text": [
      "9\n",
      "8\n",
      "-> 2 elements\n"
     ]
    }
   ],
   "source": [
    "%%bash\n",
    "gcc -Wall -pedantic -Werror -Wextra -std=gnu89 0x13-more_singly_linked_lists/0-main.c 0x13-more_singly_linked_lists/0-print_listint.c -o 0x13-more_singly_linked_lists/a\n",
    "./0x13-more_singly_linked_lists/a\n"
   ]
  },
  {
   "cell_type": "code",
   "execution_count": 27,
   "metadata": {},
   "outputs": [
    {
     "name": "stdout",
     "output_type": "stream",
     "text": [
      "[main ed14cd5] alx-low_level_programming/0x13-more_singly_linked_lists/0-putchar\n",
      " 1 file changed, 1 insertion(+), 1 deletion(-)\n"
     ]
    },
    {
     "name": "stderr",
     "output_type": "stream",
     "text": [
      "To https://github.com/elkomysara/alx-low_level_programming.git\n",
      "   a0a22fa..ed14cd5  main -> main\n"
     ]
    }
   ],
   "source": [
    "%%bash\n",
    "git add .\n",
    "git commit -m \"alx-low_level_programming/0x13-more_singly_linked_lists/0-putchar\"\n",
    "git push"
   ]
  },
  {
   "cell_type": "code",
   "execution_count": null,
   "metadata": {},
   "outputs": [],
   "source": []
  },
  {
   "cell_type": "markdown",
   "metadata": {},
   "source": [
    "###\n",
    "---\n",
    "<center>\n",
    "<h4>1. List length</h4>\n",
    "</center>\n",
    "\n",
    "---"
   ]
  },
  {
   "cell_type": "markdown",
   "metadata": {},
   "source": [
    "\n",
    "#### Write a function that returns the number of elements in a linked `listint_t` list.\n",
    "\n",
    "* Prototype: `size_t listint_len(const listint_t *h);`\n",
    "```bash\n",
    "julien@ubuntu:~/0x13. More singly linked lists$ cat 1-main.c \n",
    "#include <stdlib.h>\n",
    "#include <string.h>\n",
    "#include <stdio.h>\n",
    "#include \"lists.h\"\n",
    "\n",
    "/**\n",
    " * main - check the code\n",
    " *\n",
    " * Return: Always 0.\n",
    " */\n",
    "int main(void)\n",
    "{\n",
    "    listint_t *head;\n",
    "    listint_t *new;\n",
    "    listint_t hello = {8, NULL};\n",
    "    size_t n;\n",
    "\n",
    "    head = &hello;\n",
    "    new = malloc(sizeof(listint_t));\n",
    "    if (new == NULL)\n",
    "    {\n",
    "        printf(\"Error\\n\");\n",
    "        return (1);\n",
    "    }\n",
    "    new->n = 9;\n",
    "    new->next = head;\n",
    "    head = new;\n",
    "    n = listint_len(head);\n",
    "    printf(\"-> %lu elements\\n\", n);\n",
    "    free(new);\n",
    "    return (0);\n",
    "}\n",
    "julien@ubuntu:~/0x13. More singly linked lists$ gcc -Wall -pedantic -Werror -Wextra -std=gnu89 1-main.c 1-listint_len.c -o b\n",
    "julien@ubuntu:~/0x13. More singly linked lists$ ./b \n",
    "-> 2 elements\n",
    "julien@ubuntu:~/0x13. More singly linked lists$  \n",
    "```\n",
    "#### Repo:\n",
    "* GitHub repository: ``` alx-low_level_programming ```\n",
    "* Directory: ```0x13-more_singly_linked_lists``` \n",
    "* File: ```1-listint_len.c```"
   ]
  },
  {
   "cell_type": "code",
   "execution_count": 31,
   "metadata": {},
   "outputs": [
    {
     "name": "stdout",
     "output_type": "stream",
     "text": [
      "Writing 0x13-more_singly_linked_lists/1-main.c\n"
     ]
    }
   ],
   "source": [
    "%%file 0x13-more_singly_linked_lists/1-main.c\n",
    "#include <stdlib.h>\n",
    "#include <string.h>\n",
    "#include <stdio.h>\n",
    "#include \"lists.h\"\n",
    "\n",
    "/**\n",
    "* main - check the code\n",
    "*\n",
    "* Return: Always 0.\n",
    "*/\n",
    "int main(void)\n",
    "{\n",
    "listint_t *head;\n",
    "listint_t *new;\n",
    "listint_t hello = {8, NULL};\n",
    "size_t n;\n",
    "\n",
    "head = &hello;\n",
    "new = malloc(sizeof(listint_t));\n",
    "if (new == NULL)\n",
    "{\n",
    "printf(\"Error\\n\");\n",
    "return (1);\n",
    "}\n",
    "new->n = 9;\n",
    "new->next = head;\n",
    "head = new;\n",
    "n = listint_len(head);\n",
    "printf(\"-> %lu elements\\n\", n);\n",
    "free(new);\n",
    "return (0);\n",
    "}"
   ]
  },
  {
   "cell_type": "code",
   "execution_count": 9,
   "metadata": {},
   "outputs": [
    {
     "name": "stdout",
     "output_type": "stream",
     "text": [
      "Writing 0x0D-preprocessor/1-pi.h\n"
     ]
    }
   ],
   "source": [
    "%%file 0x13-more_singly_linked_lists/1-pi.h\n",
    "#ifndef PI_H\n",
    "#define PI_H\n",
    "\n",
    "#define PI 3.14159265359\n",
    "\n",
    "#endif /* PI_H */\n"
   ]
  },
  {
   "cell_type": "code",
   "execution_count": 10,
   "metadata": {},
   "outputs": [
    {
     "name": "stdout",
     "output_type": "stream",
     "text": [
      "30171.855\n"
     ]
    }
   ],
   "source": [
    "%%bash\n",
    "gcc -Wall -pedantic -Werror -Wextra -std=gnu89 0x13-more_singly_linked_lists/1-main.c -o 0x13-more_singly_linked_lists/b\n",
    "./0x13-more_singly_linked_lists/b\n"
   ]
  },
  {
   "cell_type": "code",
   "execution_count": 11,
   "metadata": {},
   "outputs": [
    {
     "name": "stdout",
     "output_type": "stream",
     "text": [
      "[main dbdf94f] alx-low_level_programming/0x0D-preprocessor/0-putchar\n",
      " 3 files changed, 25 insertions(+)\n",
      " create mode 100644 0x0D-preprocessor/1-main.c\n",
      " create mode 100644 0x0D-preprocessor/1-pi.h\n",
      " create mode 100755 0x0D-preprocessor/b\n"
     ]
    },
    {
     "name": "stderr",
     "output_type": "stream",
     "text": [
      "To https://github.com/elkomysara/alx-low_level_programming.git\n",
      "   2a7b388..dbdf94f  main -> main\n"
     ]
    }
   ],
   "source": [
    "%%bash\n",
    "git add .\n",
    "git commit -m \"alx-low_level_programming/0x13-more_singly_linked_lists/0-putchar\"\n",
    "git push"
   ]
  },
  {
   "cell_type": "markdown",
   "metadata": {},
   "source": [
    "###\n",
    "---\n",
    "<center>\n",
    "<h4> 2. File name</h4>\n",
    "</center>\n",
    "\n",
    "---"
   ]
  },
  {
   "cell_type": "markdown",
   "metadata": {},
   "source": [
    "\n",
    "#### Write a program that prints the name of the file it was compiled from, followed by a new line.\n",
    "\n",
    "* You are allowed to use the standard library\n",
    "\n",
    "```bash\n",
    "julien@ubuntu:~/0x0c. macro, structures$ gcc -Wall -pedantic -Werror -Wextra -std=gnu89 2-main.c -o c\n",
    "julien@ubuntu:~/0x0c. macro, structures$ ./c \n",
    "2-main.c\n",
    "julien@ubuntu:~/0x0c. macro, structures$ cp 2-main.c 02-main.c\n",
    "julien@ubuntu:~/0x0c. macro, structures$ gcc -Wall -pedantic -Werror -Wextra -std=gnu89 02-main.c -o cc\n",
    "julien@ubuntu:~/0x0c. macro, structures$ ./cc\n",
    "02-main.c\n",
    "julien@ubuntu:~/0x0c. macro, structures$   \n",
    "```\n",
    "#### Repo:\n",
    "* GitHub repository: ``` alx-low_level_programming ```\n",
    "* Directory: ```0x13-more_singly_linked_lists``` \n",
    "* File: ```2-main.c```"
   ]
  },
  {
   "cell_type": "code",
   "execution_count": 13,
   "metadata": {},
   "outputs": [
    {
     "name": "stdout",
     "output_type": "stream",
     "text": [
      "Overwriting 0x0D-preprocessor/2-main.c\n"
     ]
    }
   ],
   "source": [
    "%%file 0x13-more_singly_linked_lists/2-main.c\n",
    "#include <stdio.h>\n",
    "\n",
    "/**\n",
    "* main - prints the name of the file it was compiled from\n",
    "*\n",
    "* Return: Always 0.\n",
    "*/\n",
    "int main(void)\n",
    "{\n",
    "printf(\"%s\\n\", __FILE__);\n",
    "return (0);\n",
    "}\n"
   ]
  },
  {
   "cell_type": "code",
   "execution_count": 15,
   "metadata": {},
   "outputs": [
    {
     "name": "stdout",
     "output_type": "stream",
     "text": [
      "0x0D-preprocessor/2-main.c\n"
     ]
    }
   ],
   "source": [
    "%%bash\n",
    "gcc -Wall -pedantic -Werror -Wextra -std=gnu89 0x13-more_singly_linked_lists/2-main.c -o 0x13-more_singly_linked_lists/c\n",
    "./0x13-more_singly_linked_lists/c\n",
    "cp 0x13-more_singly_linked_lists/2-main.c 0x13-more_singly_linked_lists/02-main.c\n",
    "gcc -Wall -pedantic -Werror -Wextra -std=gnu89 0x13-more_singly_linked_lists/02-main.c -o cc\n"
   ]
  },
  {
   "cell_type": "code",
   "execution_count": 16,
   "metadata": {},
   "outputs": [
    {
     "name": "stdout",
     "output_type": "stream",
     "text": [
      "[main d83673d] alx-low_level_programming/0x0D-preprocessor/0-putchar\n",
      " 4 files changed, 24 insertions(+)\n",
      " create mode 100644 0x0D-preprocessor/02-main.c\n",
      " create mode 100644 0x0D-preprocessor/2-main.c\n",
      " create mode 100755 0x0D-preprocessor/c\n",
      " create mode 100755 cc\n"
     ]
    },
    {
     "name": "stderr",
     "output_type": "stream",
     "text": [
      "To https://github.com/elkomysara/alx-low_level_programming.git\n",
      "   dbdf94f..d83673d  main -> main\n"
     ]
    }
   ],
   "source": [
    "%%bash\n",
    "git add .\n",
    "git commit -m \"alx-low_level_programming/0x13-more_singly_linked_lists/0-putchar\"\n",
    "git push"
   ]
  },
  {
   "cell_type": "code",
   "execution_count": null,
   "metadata": {},
   "outputs": [],
   "source": []
  },
  {
   "cell_type": "markdown",
   "metadata": {},
   "source": [
    "###\n",
    "---\n",
    "<center>\n",
    "<h4>3. Function-like macro</h4>\n",
    "</center>\n",
    "\n",
    "---"
   ]
  },
  {
   "cell_type": "markdown",
   "metadata": {},
   "source": [
    "\n",
    "#### Write a function-like macro `ABS(x)` that computes the absolute value of a number `x`.\n",
    "\n",
    "```bash\n",
    "julien@ubuntu:~/0x0c. macro, structures$ cat 3-main.c\n",
    "#include <stdio.h>\n",
    "#include \"3-function_like_macro.h\"\n",
    "#include \"3-function_like_macro.h\"\n",
    "\n",
    "/**\n",
    " * main - check the code\n",
    " *\n",
    " * Return: Always 0.\n",
    " */\n",
    "int main(void)\n",
    "{\n",
    "    int i;\n",
    "    int j;\n",
    "\n",
    "    i = ABS(-98) * 10;\n",
    "    j = ABS(98) * 10;\n",
    "    printf(\"%d, %d\\n\", i, j);\n",
    "    return (0);\n",
    "}\n",
    "julien@ubuntu:~/0x0c. macro, structures$ gcc -Wall -pedantic -Werror -Wextra -std=gnu89 3-main.c -o d\n",
    "julien@ubuntu:~/0x0c. macro, structures$ ./d \n",
    "980, 980\n",
    "julien@ubuntu:~/0x0c. macro, structures$ \n",
    "\n",
    "```\n",
    "#### Repo:\n",
    "* GitHub repository: ``` alx-low_level_programming ```\n",
    "* Directory: ```0x13-more_singly_linked_lists``` \n",
    "* File: ```3-function_like_macro.h```"
   ]
  },
  {
   "cell_type": "code",
   "execution_count": 18,
   "metadata": {},
   "outputs": [
    {
     "name": "stdout",
     "output_type": "stream",
     "text": [
      "Overwriting 0x0D-preprocessor/3-main.c\n"
     ]
    }
   ],
   "source": [
    "%%file 0x13-more_singly_linked_lists/3-main.c\n",
    "#include <stdio.h>\n",
    "#include \"3-function_like_macro.h\"\n",
    "#include \"3-function_like_macro.h\"\n",
    "\n",
    "/**\n",
    " * main - check the code\n",
    " *\n",
    " * Return: Always 0.\n",
    " */\n",
    "int main(void)\n",
    "{\n",
    "    int i;\n",
    "    int j;\n",
    "\n",
    "    i = ABS(-98) * 10;\n",
    "    j = ABS(98) * 10;\n",
    "    printf(\"%d, %d\\n\", i, j);\n",
    "    return (0);\n",
    "}"
   ]
  },
  {
   "cell_type": "code",
   "execution_count": 19,
   "metadata": {},
   "outputs": [
    {
     "name": "stdout",
     "output_type": "stream",
     "text": [
      "Writing 0x0D-preprocessor/3-function_like_macro.h\n"
     ]
    }
   ],
   "source": [
    "%%file 0x13-more_singly_linked_lists/3-function_like_macro.h\n",
    "#ifndef FUNCTION_LIKE_MACRO_H\n",
    "#define FUNCTION_LIKE_MACRO_H\n",
    "\n",
    "#define ABS(x) ((x) < 0 ? -(x) : (x))\n",
    "\n",
    "#endif /* FUNCTION_LIKE_MACRO_H */\n"
   ]
  },
  {
   "cell_type": "code",
   "execution_count": 21,
   "metadata": {},
   "outputs": [
    {
     "name": "stdout",
     "output_type": "stream",
     "text": [
      "980, 980\n"
     ]
    }
   ],
   "source": [
    "%%bash\n",
    "gcc -Wall -pedantic -Werror -Wextra -std=gnu89 0x13-more_singly_linked_lists/3-main.c -o 0x13-more_singly_linked_lists/d\n",
    "./0x13-more_singly_linked_lists/d\n"
   ]
  },
  {
   "cell_type": "code",
   "execution_count": 22,
   "metadata": {},
   "outputs": [
    {
     "name": "stdout",
     "output_type": "stream",
     "text": [
      "[main 4e412ae] alx-low_level_programming/0x0D-preprocessor/0-putchar\n",
      " 3 files changed, 25 insertions(+)\n",
      " create mode 100644 0x0D-preprocessor/3-function_like_macro.h\n",
      " create mode 100644 0x0D-preprocessor/3-main.c\n",
      " create mode 100755 0x0D-preprocessor/d\n"
     ]
    },
    {
     "name": "stderr",
     "output_type": "stream",
     "text": [
      "To https://github.com/elkomysara/alx-low_level_programming.git\n",
      "   d83673d..4e412ae  main -> main\n"
     ]
    }
   ],
   "source": [
    "%%bash\n",
    "git add .\n",
    "git commit -m \"alx-low_level_programming/0x13-more_singly_linked_lists/0-putchar\"\n",
    "git push"
   ]
  },
  {
   "cell_type": "code",
   "execution_count": null,
   "metadata": {},
   "outputs": [],
   "source": []
  },
  {
   "cell_type": "markdown",
   "metadata": {},
   "source": [
    "###\n",
    "---\n",
    "<center>\n",
    "<h4>4. SUM</h4>\n",
    "</center>\n",
    "\n",
    "---"
   ]
  },
  {
   "cell_type": "markdown",
   "metadata": {},
   "source": [
    "\n",
    "#### Write a function-like macro `SUM(x, y)` that computes the sum of the numbers `x` and `y`.\n",
    "\n",
    "```bash\n",
    " julien@ubuntu:~/0x0c. macro, structures$ cat 4-main.c\n",
    "#include <stdio.h>\n",
    "#include \"4-sum.h\"\n",
    "#include \"4-sum.h\"\n",
    "\n",
    "/**\n",
    " * main - check the code\n",
    " *\n",
    " * Return: Always 0.\n",
    " */\n",
    "int main(void)\n",
    "{\n",
    "    int s;\n",
    "\n",
    "    s = SUM(98, 1024);\n",
    "    printf(\"%d\\n\", s);\n",
    "    return (0);\n",
    "}\n",
    "julien@ubuntu:~/0x0c. macro, structures$ gcc -Wall -pedantic -Werror -Wextra -std=gnu89 4-main.c -o e\n",
    "julien@ubuntu:~/0x0c. macro, structures$ ./e \n",
    "1122\n",
    "julien@ubuntu:~/0x0c. macro, structures$ \n",
    "```\n",
    "#### Repo:\n",
    "* GitHub repository: ``` alx-low_level_programming ```\n",
    "* Directory: ```0x13-more_singly_linked_lists``` \n",
    "* File: ```4-sim.h```"
   ]
  },
  {
   "cell_type": "code",
   "execution_count": 23,
   "metadata": {},
   "outputs": [
    {
     "name": "stdout",
     "output_type": "stream",
     "text": [
      "Writing 0x0D-preprocessor/4-sum.h\n"
     ]
    }
   ],
   "source": [
    "%%file 0x13-more_singly_linked_lists/4-sum.h\n",
    "\n",
    "#ifndef SUM_H\n",
    "#define SUM_H\n",
    "\n",
    "#define SUM(x, y) ((x) + (y))\n",
    "\n",
    "#endif /* SUM_H */\n"
   ]
  },
  {
   "cell_type": "code",
   "execution_count": 24,
   "metadata": {},
   "outputs": [
    {
     "name": "stdout",
     "output_type": "stream",
     "text": [
      "Writing 0x0D-preprocessor/4-main.c\n"
     ]
    }
   ],
   "source": [
    "%%file 0x13-more_singly_linked_lists/4-main.c\n",
    "\n",
    "#include <stdio.h>\n",
    "#include \"4-sum.h\"\n",
    "#include \"4-sum.h\"\n",
    "\n",
    "/**\n",
    " * main - check the code\n",
    " *\n",
    " * Return: Always 0.\n",
    " */\n",
    "int main(void)\n",
    "{\n",
    "    int s;\n",
    "\n",
    "    s = SUM(98, 1024);\n",
    "    printf(\"%d\\n\", s);\n",
    "    return (0);\n",
    "}\n",
    "\n"
   ]
  },
  {
   "cell_type": "code",
   "execution_count": 25,
   "metadata": {},
   "outputs": [
    {
     "name": "stdout",
     "output_type": "stream",
     "text": [
      "1122\n"
     ]
    }
   ],
   "source": [
    "%%bash\n",
    "gcc -Wall -pedantic -Werror -Wextra -std=gnu89 0x13-more_singly_linked_lists/4-main.c -o 0x13-more_singly_linked_lists/e\n",
    "./0x13-more_singly_linked_lists/e\n"
   ]
  },
  {
   "cell_type": "code",
   "execution_count": 26,
   "metadata": {},
   "outputs": [
    {
     "name": "stdout",
     "output_type": "stream",
     "text": [
      "[main ca563fe] alx-low_level_programming/0x0D-preprocessor/0-putchar\n",
      " 3 files changed, 26 insertions(+)\n",
      " create mode 100644 0x0D-preprocessor/4-main.c\n",
      " create mode 100644 0x0D-preprocessor/4-sum.h\n",
      " create mode 100755 0x0D-preprocessor/e\n"
     ]
    },
    {
     "name": "stderr",
     "output_type": "stream",
     "text": [
      "To https://github.com/elkomysara/alx-low_level_programming.git\n",
      "   4e412ae..ca563fe  main -> main\n"
     ]
    }
   ],
   "source": [
    "%%bash\n",
    "git add .\n",
    "git commit -m \"alx-low_level_programming/0x13-more_singly_linked_lists/0-putchar\"\n",
    "git push"
   ]
  }
 ],
 "metadata": {
  "kernelspec": {
   "display_name": "Python 3",
   "language": "python",
   "name": "python3"
  },
  "language_info": {
   "codemirror_mode": {
    "name": "ipython",
    "version": 3
   },
   "file_extension": ".py",
   "mimetype": "text/x-python",
   "name": "python",
   "nbconvert_exporter": "python",
   "pygments_lexer": "ipython3",
   "version": "3.12.3"
  }
 },
 "nbformat": 4,
 "nbformat_minor": 2
}
