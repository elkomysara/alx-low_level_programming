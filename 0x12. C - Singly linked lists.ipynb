{
 "cells": [
  {
   "cell_type": "markdown",
   "metadata": {},
   "source": [
    "---\n",
    "<center>\n",
    "<h1>  alx-low_level_programming </h1>\n",
    "</center>\n",
    "\n",
    "---\n"
   ]
  },
  {
   "cell_type": "code",
   "execution_count": 2,
   "metadata": {},
   "outputs": [],
   "source": [
    "import os\n",
    "# creating 0x02-shell_redirectionss\n",
    "\n",
    "folder_path = r'/home/elkomy/alx/alx-low_level_programming/0x12-singly_linked_lists'\n",
    "if not os.path.exists(folder_path):\n",
    "    os.makedirs(folder_path)\n",
    "\n",
    "# Create a README.md inside alx-low_level_programming/0x12-singly_linked_lists\n",
    "file_path = os.path.join(folder_path, 'README.md')\n",
    "\n",
    "with open(file_path, 'w') as file:\n",
    "    file.write(\"This is a README.md file inside alx-low_level_programming/0x12-singly_linked_lists\")\n",
    "\n"
   ]
  },
  {
   "cell_type": "code",
   "execution_count": 3,
   "metadata": {},
   "outputs": [
    {
     "name": "stdout",
     "output_type": "stream",
     "text": [
      "Overwriting /home/elkomy/alx/alx-low_level_programming/0x12-singly_linked_lists/README.md\n"
     ]
    }
   ],
   "source": [
    "%%file /home/elkomy/alx/alx-low_level_programming/0x12-singly_linked_lists/README.md\n",
    "This is a README.md"
   ]
  },
  {
   "cell_type": "markdown",
   "metadata": {},
   "source": [
    "###\n",
    "---\n",
    "<center>\n",
    "<h1> 0x12. C - Singly linked lists </h1>\n",
    "</center>\n",
    "\n",
    "---\n"
   ]
  },
  {
   "cell_type": "markdown",
   "metadata": {},
   "source": [
    "###\n",
    "---\n",
    "<center>\n",
    "<h4> 0. Print list</h4>\n",
    "</center>\n",
    "\n",
    "---"
   ]
  },
  {
   "cell_type": "markdown",
   "metadata": {},
   "source": [
    "\n",
    "#### Write a function that prints all the elements of a list_t list.\n",
    "\n",
    "* Prototype: `size_t print_list(const list_t *h)`;\n",
    "* Return: the number of nodes\n",
    "* Format: see example\n",
    "* If `str` is `NULL`, print `[0] (nil)`\n",
    "* You are allowed to use `printf`\n",
    "\n",
    "\n",
    "```bash\n",
    "julien@ubuntu:~/0x12. Singly linked lists$ cat 0-main.c\n",
    "#include <stdlib.h>\n",
    "#include <string.h>\n",
    "#include <stdio.h>\n",
    "#include \"lists.h\"\n",
    "\n",
    "/**\n",
    " * main - check the code\n",
    " *\n",
    " * Return: Always 0.\n",
    " */\n",
    "int main(void)\n",
    "{\n",
    "    list_t *head;\n",
    "    list_t *new;\n",
    "    list_t hello = {\"World\", 5, NULL};\n",
    "    size_t n;\n",
    "\n",
    "    head = &hello;\n",
    "    new = malloc(sizeof(list_t));\n",
    "    if (new == NULL)\n",
    "    {\n",
    "        printf(\"Error\\n\");\n",
    "        return (1);\n",
    "    }\n",
    "    new->str = strdup(\"Hello\");\n",
    "    new->len = 5;\n",
    "    new->next = head;\n",
    "    head = new;\n",
    "    n = print_list(head);\n",
    "    printf(\"-> %lu elements\\n\", n);\n",
    "\n",
    "    printf(\"\\n\");\n",
    "    free(new->str);\n",
    "    new->str = NULL;\n",
    "    n = print_list(head);\n",
    "    printf(\"-> %lu elements\\n\", n);\n",
    "\n",
    "    free(new);\n",
    "    return (0);\n",
    "}\n",
    "julien@ubuntu:~/0x12. Singly linked lists$ gcc -Wall -pedantic -Werror -Wextra -std=gnu89 0-main.c 0-print_list.c -o a\n",
    "julien@ubuntu:~/0x12. Singly linked lists$ ./a \n",
    "[5] Hello\n",
    "[5] World\n",
    "-> 2 elements\n",
    "\n",
    "[0] (nil)\n",
    "[5] World\n",
    "-> 2 elements\n",
    "julien@ubuntu:~/0x12. Singly linked lists$ \n",
    "```\n",
    "#### Repo:\n",
    "* GitHub repository: ``` alx-low_level_programming ```\n",
    "* Directory: ```0x12-singly_linked_lists``` \n",
    "* File: ```0-print_list.c```"
   ]
  },
  {
   "cell_type": "code",
   "execution_count": 17,
   "metadata": {},
   "outputs": [
    {
     "name": "stdout",
     "output_type": "stream",
     "text": [
      "Overwriting 0x12-singly_linked_lists/lists.h\n"
     ]
    }
   ],
   "source": [
    "%%file 0x12-singly_linked_lists/lists.h\n",
    "#ifndef LISTS_H\n",
    "#define LISTS_H\n",
    "\n",
    "#include <stddef.h>\n",
    "\n",
    "/**\n",
    "* struct list_s - singly linked list\n",
    "* @str: string - (malloc'd string)\n",
    "* @len: length of the string\n",
    "* @next: points to the next node\n",
    "*/\n",
    "typedef struct list_s\n",
    "{\n",
    "char *str;\n",
    "unsigned int len;\n",
    "struct list_s *next;\n",
    "} list_t;\n",
    "\n",
    "size_t print_list(const list_t *h);\n",
    "\n",
    "#endif /* LISTS_H */\n"
   ]
  },
  {
   "cell_type": "code",
   "execution_count": 18,
   "metadata": {},
   "outputs": [
    {
     "name": "stdout",
     "output_type": "stream",
     "text": [
      "Overwriting 0x12-singly_linked_lists/0-main.c\n"
     ]
    }
   ],
   "source": [
    "%%file 0x12-singly_linked_lists/0-main.c\n",
    "#include <stdlib.h>\n",
    "#include <string.h>\n",
    "#include <stdio.h>\n",
    "#include \"lists.h\"\n",
    "\n",
    "/**\n",
    "* main - check the code\n",
    "*\n",
    "* Return: Always 0.\n",
    "*/\n",
    "int main(void)\n",
    "{\n",
    "list_t *head;\n",
    "list_t *new;\n",
    "list_t hello = {\"World\", 5, NULL};\n",
    "size_t n;\n",
    "\n",
    "head = &hello;\n",
    "new = malloc(sizeof(list_t));\n",
    "if (new == NULL)\n",
    "{\n",
    "printf(\"Error\\n\");\n",
    "return (1);\n",
    "}\n",
    "new->str = strdup(\"Hello\");\n",
    "new->len = 5;\n",
    "new->next = head;\n",
    "head = new;\n",
    "n = print_list(head);\n",
    "printf(\"-> %lu elements\\n\", n);\n",
    "\n",
    "printf(\"\\n\");\n",
    "free(new->str);\n",
    "new->str = NULL;\n",
    "n = print_list(head);\n",
    "printf(\"-> %lu elements\\n\", n);\n",
    "\n",
    "free(new);\n",
    "return (0);\n",
    "}"
   ]
  },
  {
   "cell_type": "code",
   "execution_count": 19,
   "metadata": {},
   "outputs": [
    {
     "name": "stdout",
     "output_type": "stream",
     "text": [
      "Overwriting 0x12-singly_linked_lists/0-print_list.c\n"
     ]
    }
   ],
   "source": [
    "%%file 0x12-singly_linked_lists/0-print_list.c\n",
    "#include <stdio.h>\n",
    "#include \"lists.h\"\n",
    "\n",
    "/**\n",
    "* print_list - prints all the elements of a list_t list\n",
    "* @h: pointer to the head of the list\n",
    "*\n",
    "* Return: the number of nodes\n",
    "*/\n",
    "size_t print_list(const list_t *h)\n",
    "{\n",
    "size_t count = 0;\n",
    "\n",
    "while (h != NULL)\n",
    "{\n",
    "if (h->str == NULL)\n",
    "printf(\"[0] (nil)\\n\");\n",
    "else\n",
    "printf(\"[%u] %s\\n\", h->len, h->str);\n",
    "h = h->next;\n",
    "count++;\n",
    "}\n",
    "\n",
    "return (count);\n",
    "}\n"
   ]
  },
  {
   "cell_type": "code",
   "execution_count": 25,
   "metadata": {},
   "outputs": [
    {
     "name": "stdout",
     "output_type": "stream",
     "text": [
      "main\n",
      "print_list\n",
      "struct list_s\n"
     ]
    }
   ],
   "source": [
    "%%bash\n",
    "betty-style 0x12-singly_linked_lists/*.c 0x12-singly_linked_lists/*.h\n",
    "betty-doc 0x12-singly_linked_lists/*.c  0x12-singly_linked_lists/*.h\n"
   ]
  },
  {
   "cell_type": "code",
   "execution_count": 20,
   "metadata": {},
   "outputs": [
    {
     "name": "stdout",
     "output_type": "stream",
     "text": [
      "[5] Hello\n",
      "[5] World\n",
      "-> 2 elements\n",
      "\n",
      "[0] (nil)\n",
      "[5] World\n",
      "-> 2 elements\n"
     ]
    }
   ],
   "source": [
    "%%bash\n",
    "gcc -Wall -pedantic -Werror -Wextra -std=gnu89 0x12-singly_linked_lists/0-main.c 0x12-singly_linked_lists/0-print_list.c -o 0x12-singly_linked_lists/a\n",
    "./0x12-singly_linked_lists/a"
   ]
  },
  {
   "cell_type": "code",
   "execution_count": 26,
   "metadata": {},
   "outputs": [
    {
     "name": "stdout",
     "output_type": "stream",
     "text": [
      "On branch main\n",
      "Your branch is up to date with 'origin/main'.\n",
      "\n",
      "nothing to commit, working tree clean\n"
     ]
    },
    {
     "name": "stderr",
     "output_type": "stream",
     "text": [
      "Everything up-to-date\n"
     ]
    }
   ],
   "source": [
    "%%bash\n",
    "git add .\n",
    "git commit -m \"alx-low_level_programming/0x12-singly_linked_lists/0-putchar\"\n",
    "git push"
   ]
  },
  {
   "cell_type": "markdown",
   "metadata": {},
   "source": [
    "###\n",
    "---\n",
    "<center>\n",
    "<h4>1. List length</h4>\n",
    "</center>\n",
    "\n",
    "---"
   ]
  },
  {
   "cell_type": "markdown",
   "metadata": {},
   "source": [
    "\n",
    "#### Write a function that returns the number of elements in a linked `list_t` list.\n",
    "\n",
    "* Prototype: `size_t list_len(const list_t *h);`\n",
    "\n",
    "```bash\n",
    "julien@ubuntu:~/0x12. Singly linked lists$ cat 1-main.c\n",
    "#include <stdlib.h>\n",
    "#include <string.h>\n",
    "#include <stdio.h>\n",
    "#include \"lists.h\"\n",
    "\n",
    "/**\n",
    " * main - check the code\n",
    " *\n",
    " * Return: Always 0.\n",
    " */\n",
    "int main(void)\n",
    "{\n",
    "    list_t *head;\n",
    "    list_t *new;\n",
    "    list_t hello = {\"World\", 5, NULL};\n",
    "    size_t n;\n",
    "\n",
    "    head = &hello;\n",
    "    new = malloc(sizeof(list_t));\n",
    "    if (new == NULL)\n",
    "    {\n",
    "        printf(\"Error\\n\");\n",
    "        return (1);\n",
    "    }\n",
    "    new->str = strdup(\"Hello\");\n",
    "    new->len = 5;\n",
    "    new->next = head;\n",
    "    head = new;\n",
    "    n = list_len(head);\n",
    "    printf(\"-> %lu elements\\n\", n);\n",
    "    free(new->str);\n",
    "    free(new);\n",
    "    return (0);\n",
    "}\n",
    "julien@ubuntu:~/0x12. Singly linked lists$ gcc -Wall -pedantic -Werror -Wextra -std=gnu89 1-main.c 1-list_len.c -o b\n",
    "julien@ubuntu:~/0x12. Singly linked lists$ ./b \n",
    "-> 2 elements\n",
    "julien@ubuntu:~/0x12. Singly linked lists$ \n",
    "\n",
    "```\n",
    "#### Repo:\n",
    "* GitHub repository: ``` alx-low_level_programming ```\n",
    "* Directory: ```0x12-singly_linked_lists``` \n",
    "* File: ```1-list_len.c```"
   ]
  },
  {
   "cell_type": "code",
   "execution_count": 31,
   "metadata": {},
   "outputs": [
    {
     "name": "stdout",
     "output_type": "stream",
     "text": [
      "Overwriting 0x12-singly_linked_lists/1-main.c\n"
     ]
    }
   ],
   "source": [
    "%%file 0x12-singly_linked_lists/1-main.c\n",
    "#include <stdlib.h>\n",
    "#include <string.h>\n",
    "#include <stdio.h>\n",
    "#include \"lists.h\"\n",
    "\n",
    "/**\n",
    "* main - check the code\n",
    "*\n",
    "* Return: Always 0.\n",
    "*/\n",
    "int main(void)\n",
    "{\n",
    "list_t *head;\n",
    "list_t *new;\n",
    "list_t hello = {\"World\", 5, NULL};\n",
    "size_t n;\n",
    "\n",
    "head = &hello;\n",
    "new = malloc(sizeof(list_t));\n",
    "if (new == NULL)\n",
    "{\n",
    "printf(\"Error\\n\");\n",
    "return (1);\n",
    "}\n",
    "new->str = strdup(\"Hello\");\n",
    "new->len = 5;\n",
    "new->next = head;\n",
    "head = new;\n",
    "n = list_len(head);\n",
    "printf(\"-> %lu elements\\n\", n);\n",
    "free(new->str);\n",
    "free(new);\n",
    "return (0);\n",
    "}"
   ]
  },
  {
   "cell_type": "code",
   "execution_count": 32,
   "metadata": {},
   "outputs": [
    {
     "name": "stdout",
     "output_type": "stream",
     "text": [
      "Overwriting 0x12-singly_linked_lists/1-list_len.c\n"
     ]
    }
   ],
   "source": [
    "%%file 0x12-singly_linked_lists/1-list_len.c\n",
    "#include \"lists.h\"\n",
    "\n",
    "/**\n",
    "* list_len - returns the number of elements in a linked list_t list\n",
    "* @h: pointer to the head of the list\n",
    "*\n",
    "* Return: the number of elements\n",
    "*/\n",
    "size_t list_len(const list_t *h)\n",
    "{\n",
    "size_t count = 0;\n",
    "\n",
    "while (h != NULL)\n",
    "{\n",
    "count++;\n",
    "h = h->next;\n",
    "}\n",
    "\n",
    "return (count);\n",
    "}\n"
   ]
  },
  {
   "cell_type": "code",
   "execution_count": 10,
   "metadata": {},
   "outputs": [
    {
     "name": "stdout",
     "output_type": "stream",
     "text": [
      "30171.855\n"
     ]
    }
   ],
   "source": [
    "%%bash\n",
    "gcc -Wall -pedantic -Werror -Wextra -std=gnu89 0x12-singly_linked_lists/1-main.c -o 0x12-singly_linked_lists/b\n",
    "./0x12-singly_linked_lists/b\n"
   ]
  },
  {
   "cell_type": "code",
   "execution_count": 11,
   "metadata": {},
   "outputs": [
    {
     "name": "stdout",
     "output_type": "stream",
     "text": [
      "[main dbdf94f] alx-low_level_programming/0x0D-preprocessor/0-putchar\n",
      " 3 files changed, 25 insertions(+)\n",
      " create mode 100644 0x0D-preprocessor/1-main.c\n",
      " create mode 100644 0x0D-preprocessor/1-pi.h\n",
      " create mode 100755 0x0D-preprocessor/b\n"
     ]
    },
    {
     "name": "stderr",
     "output_type": "stream",
     "text": [
      "To https://github.com/elkomysara/alx-low_level_programming.git\n",
      "   2a7b388..dbdf94f  main -> main\n"
     ]
    }
   ],
   "source": [
    "%%bash\n",
    "git add .\n",
    "git commit -m \"alx-low_level_programming/0x12-singly_linked_lists/0-putchar\"\n",
    "git push"
   ]
  },
  {
   "cell_type": "markdown",
   "metadata": {},
   "source": [
    "###\n",
    "---\n",
    "<center>\n",
    "<h4> 2. File name</h4>\n",
    "</center>\n",
    "\n",
    "---"
   ]
  },
  {
   "cell_type": "markdown",
   "metadata": {},
   "source": [
    "\n",
    "#### Write a program that prints the name of the file it was compiled from, followed by a new line.\n",
    "\n",
    "* You are allowed to use the standard library\n",
    "\n",
    "```bash\n",
    "julien@ubuntu:~/0x0c. macro, structures$ gcc -Wall -pedantic -Werror -Wextra -std=gnu89 2-main.c -o c\n",
    "julien@ubuntu:~/0x0c. macro, structures$ ./c \n",
    "2-main.c\n",
    "julien@ubuntu:~/0x0c. macro, structures$ cp 2-main.c 02-main.c\n",
    "julien@ubuntu:~/0x0c. macro, structures$ gcc -Wall -pedantic -Werror -Wextra -std=gnu89 02-main.c -o cc\n",
    "julien@ubuntu:~/0x0c. macro, structures$ ./cc\n",
    "02-main.c\n",
    "julien@ubuntu:~/0x0c. macro, structures$   \n",
    "```\n",
    "#### Repo:\n",
    "* GitHub repository: ``` alx-low_level_programming ```\n",
    "* Directory: ```0x12-singly_linked_lists``` \n",
    "* File: ```2-main.c```"
   ]
  },
  {
   "cell_type": "code",
   "execution_count": 13,
   "metadata": {},
   "outputs": [
    {
     "name": "stdout",
     "output_type": "stream",
     "text": [
      "Overwriting 0x0D-preprocessor/2-main.c\n"
     ]
    }
   ],
   "source": [
    "%%file 0x12-singly_linked_lists/2-main.c\n",
    "#include <stdio.h>\n",
    "\n",
    "/**\n",
    "* main - prints the name of the file it was compiled from\n",
    "*\n",
    "* Return: Always 0.\n",
    "*/\n",
    "int main(void)\n",
    "{\n",
    "printf(\"%s\\n\", __FILE__);\n",
    "return (0);\n",
    "}\n"
   ]
  },
  {
   "cell_type": "code",
   "execution_count": 15,
   "metadata": {},
   "outputs": [
    {
     "name": "stdout",
     "output_type": "stream",
     "text": [
      "0x0D-preprocessor/2-main.c\n"
     ]
    }
   ],
   "source": [
    "%%bash\n",
    "gcc -Wall -pedantic -Werror -Wextra -std=gnu89 0x12-singly_linked_lists/2-main.c -o 0x12-singly_linked_lists/c\n",
    "./0x12-singly_linked_lists/c\n",
    "cp 0x12-singly_linked_lists/2-main.c 0x12-singly_linked_lists/02-main.c\n",
    "gcc -Wall -pedantic -Werror -Wextra -std=gnu89 0x12-singly_linked_lists/02-main.c -o cc\n"
   ]
  },
  {
   "cell_type": "code",
   "execution_count": 16,
   "metadata": {},
   "outputs": [
    {
     "name": "stdout",
     "output_type": "stream",
     "text": [
      "[main d83673d] alx-low_level_programming/0x0D-preprocessor/0-putchar\n",
      " 4 files changed, 24 insertions(+)\n",
      " create mode 100644 0x0D-preprocessor/02-main.c\n",
      " create mode 100644 0x0D-preprocessor/2-main.c\n",
      " create mode 100755 0x0D-preprocessor/c\n",
      " create mode 100755 cc\n"
     ]
    },
    {
     "name": "stderr",
     "output_type": "stream",
     "text": [
      "To https://github.com/elkomysara/alx-low_level_programming.git\n",
      "   dbdf94f..d83673d  main -> main\n"
     ]
    }
   ],
   "source": [
    "%%bash\n",
    "git add .\n",
    "git commit -m \"alx-low_level_programming/0x12-singly_linked_lists/0-putchar\"\n",
    "git push"
   ]
  },
  {
   "cell_type": "code",
   "execution_count": null,
   "metadata": {},
   "outputs": [],
   "source": []
  },
  {
   "cell_type": "markdown",
   "metadata": {},
   "source": [
    "###\n",
    "---\n",
    "<center>\n",
    "<h4>3. Function-like macro</h4>\n",
    "</center>\n",
    "\n",
    "---"
   ]
  },
  {
   "cell_type": "markdown",
   "metadata": {},
   "source": [
    "\n",
    "#### Write a function-like macro `ABS(x)` that computes the absolute value of a number `x`.\n",
    "\n",
    "```bash\n",
    "julien@ubuntu:~/0x0c. macro, structures$ cat 3-main.c\n",
    "#include <stdio.h>\n",
    "#include \"3-function_like_macro.h\"\n",
    "#include \"3-function_like_macro.h\"\n",
    "\n",
    "/**\n",
    " * main - check the code\n",
    " *\n",
    " * Return: Always 0.\n",
    " */\n",
    "int main(void)\n",
    "{\n",
    "    int i;\n",
    "    int j;\n",
    "\n",
    "    i = ABS(-98) * 10;\n",
    "    j = ABS(98) * 10;\n",
    "    printf(\"%d, %d\\n\", i, j);\n",
    "    return (0);\n",
    "}\n",
    "julien@ubuntu:~/0x0c. macro, structures$ gcc -Wall -pedantic -Werror -Wextra -std=gnu89 3-main.c -o d\n",
    "julien@ubuntu:~/0x0c. macro, structures$ ./d \n",
    "980, 980\n",
    "julien@ubuntu:~/0x0c. macro, structures$ \n",
    "\n",
    "```\n",
    "#### Repo:\n",
    "* GitHub repository: ``` alx-low_level_programming ```\n",
    "* Directory: ```0x12-singly_linked_lists``` \n",
    "* File: ```3-function_like_macro.h```"
   ]
  },
  {
   "cell_type": "code",
   "execution_count": 18,
   "metadata": {},
   "outputs": [
    {
     "name": "stdout",
     "output_type": "stream",
     "text": [
      "Overwriting 0x0D-preprocessor/3-main.c\n"
     ]
    }
   ],
   "source": [
    "%%file 0x12-singly_linked_lists/3-main.c\n",
    "#include <stdio.h>\n",
    "#include \"3-function_like_macro.h\"\n",
    "#include \"3-function_like_macro.h\"\n",
    "\n",
    "/**\n",
    " * main - check the code\n",
    " *\n",
    " * Return: Always 0.\n",
    " */\n",
    "int main(void)\n",
    "{\n",
    "    int i;\n",
    "    int j;\n",
    "\n",
    "    i = ABS(-98) * 10;\n",
    "    j = ABS(98) * 10;\n",
    "    printf(\"%d, %d\\n\", i, j);\n",
    "    return (0);\n",
    "}"
   ]
  },
  {
   "cell_type": "code",
   "execution_count": 19,
   "metadata": {},
   "outputs": [
    {
     "name": "stdout",
     "output_type": "stream",
     "text": [
      "Writing 0x0D-preprocessor/3-function_like_macro.h\n"
     ]
    }
   ],
   "source": [
    "%%file 0x12-singly_linked_lists/3-function_like_macro.h\n",
    "#ifndef FUNCTION_LIKE_MACRO_H\n",
    "#define FUNCTION_LIKE_MACRO_H\n",
    "\n",
    "#define ABS(x) ((x) < 0 ? -(x) : (x))\n",
    "\n",
    "#endif /* FUNCTION_LIKE_MACRO_H */\n"
   ]
  },
  {
   "cell_type": "code",
   "execution_count": 21,
   "metadata": {},
   "outputs": [
    {
     "name": "stdout",
     "output_type": "stream",
     "text": [
      "980, 980\n"
     ]
    }
   ],
   "source": [
    "%%bash\n",
    "gcc -Wall -pedantic -Werror -Wextra -std=gnu89 0x12-singly_linked_lists/3-main.c -o 0x12-singly_linked_lists/d\n",
    "./0x12-singly_linked_lists/d\n"
   ]
  },
  {
   "cell_type": "code",
   "execution_count": 22,
   "metadata": {},
   "outputs": [
    {
     "name": "stdout",
     "output_type": "stream",
     "text": [
      "[main 4e412ae] alx-low_level_programming/0x0D-preprocessor/0-putchar\n",
      " 3 files changed, 25 insertions(+)\n",
      " create mode 100644 0x0D-preprocessor/3-function_like_macro.h\n",
      " create mode 100644 0x0D-preprocessor/3-main.c\n",
      " create mode 100755 0x0D-preprocessor/d\n"
     ]
    },
    {
     "name": "stderr",
     "output_type": "stream",
     "text": [
      "To https://github.com/elkomysara/alx-low_level_programming.git\n",
      "   d83673d..4e412ae  main -> main\n"
     ]
    }
   ],
   "source": [
    "%%bash\n",
    "git add .\n",
    "git commit -m \"alx-low_level_programming/0x12-singly_linked_lists/0-putchar\"\n",
    "git push"
   ]
  },
  {
   "cell_type": "code",
   "execution_count": null,
   "metadata": {},
   "outputs": [],
   "source": []
  },
  {
   "cell_type": "markdown",
   "metadata": {},
   "source": [
    "###\n",
    "---\n",
    "<center>\n",
    "<h4>4. SUM</h4>\n",
    "</center>\n",
    "\n",
    "---"
   ]
  },
  {
   "cell_type": "markdown",
   "metadata": {},
   "source": [
    "\n",
    "#### Write a function-like macro `SUM(x, y)` that computes the sum of the numbers `x` and `y`.\n",
    "\n",
    "```bash\n",
    " julien@ubuntu:~/0x0c. macro, structures$ cat 4-main.c\n",
    "#include <stdio.h>\n",
    "#include \"4-sum.h\"\n",
    "#include \"4-sum.h\"\n",
    "\n",
    "/**\n",
    " * main - check the code\n",
    " *\n",
    " * Return: Always 0.\n",
    " */\n",
    "int main(void)\n",
    "{\n",
    "    int s;\n",
    "\n",
    "    s = SUM(98, 1024);\n",
    "    printf(\"%d\\n\", s);\n",
    "    return (0);\n",
    "}\n",
    "julien@ubuntu:~/0x0c. macro, structures$ gcc -Wall -pedantic -Werror -Wextra -std=gnu89 4-main.c -o e\n",
    "julien@ubuntu:~/0x0c. macro, structures$ ./e \n",
    "1122\n",
    "julien@ubuntu:~/0x0c. macro, structures$ \n",
    "```\n",
    "#### Repo:\n",
    "* GitHub repository: ``` alx-low_level_programming ```\n",
    "* Directory: ```0x12-singly_linked_lists``` \n",
    "* File: ```4-sim.h```"
   ]
  },
  {
   "cell_type": "code",
   "execution_count": 23,
   "metadata": {},
   "outputs": [
    {
     "name": "stdout",
     "output_type": "stream",
     "text": [
      "Writing 0x0D-preprocessor/4-sum.h\n"
     ]
    }
   ],
   "source": [
    "%%file 0x12-singly_linked_lists/4-sum.h\n",
    "\n",
    "#ifndef SUM_H\n",
    "#define SUM_H\n",
    "\n",
    "#define SUM(x, y) ((x) + (y))\n",
    "\n",
    "#endif /* SUM_H */\n"
   ]
  },
  {
   "cell_type": "code",
   "execution_count": 24,
   "metadata": {},
   "outputs": [
    {
     "name": "stdout",
     "output_type": "stream",
     "text": [
      "Writing 0x0D-preprocessor/4-main.c\n"
     ]
    }
   ],
   "source": [
    "%%file 0x12-singly_linked_lists/4-main.c\n",
    "\n",
    "#include <stdio.h>\n",
    "#include \"4-sum.h\"\n",
    "#include \"4-sum.h\"\n",
    "\n",
    "/**\n",
    " * main - check the code\n",
    " *\n",
    " * Return: Always 0.\n",
    " */\n",
    "int main(void)\n",
    "{\n",
    "    int s;\n",
    "\n",
    "    s = SUM(98, 1024);\n",
    "    printf(\"%d\\n\", s);\n",
    "    return (0);\n",
    "}\n",
    "\n"
   ]
  },
  {
   "cell_type": "code",
   "execution_count": 25,
   "metadata": {},
   "outputs": [
    {
     "name": "stdout",
     "output_type": "stream",
     "text": [
      "1122\n"
     ]
    }
   ],
   "source": [
    "%%bash\n",
    "gcc -Wall -pedantic -Werror -Wextra -std=gnu89 0x12-singly_linked_lists/4-main.c -o 0x12-singly_linked_lists/e\n",
    "./0x12-singly_linked_lists/e\n"
   ]
  },
  {
   "cell_type": "code",
   "execution_count": 26,
   "metadata": {},
   "outputs": [
    {
     "name": "stdout",
     "output_type": "stream",
     "text": [
      "[main ca563fe] alx-low_level_programming/0x0D-preprocessor/0-putchar\n",
      " 3 files changed, 26 insertions(+)\n",
      " create mode 100644 0x0D-preprocessor/4-main.c\n",
      " create mode 100644 0x0D-preprocessor/4-sum.h\n",
      " create mode 100755 0x0D-preprocessor/e\n"
     ]
    },
    {
     "name": "stderr",
     "output_type": "stream",
     "text": [
      "To https://github.com/elkomysara/alx-low_level_programming.git\n",
      "   4e412ae..ca563fe  main -> main\n"
     ]
    }
   ],
   "source": [
    "%%bash\n",
    "git add .\n",
    "git commit -m \"alx-low_level_programming/0x12-singly_linked_lists/0-putchar\"\n",
    "git push"
   ]
  }
 ],
 "metadata": {
  "kernelspec": {
   "display_name": "Python 3",
   "language": "python",
   "name": "python3"
  },
  "language_info": {
   "codemirror_mode": {
    "name": "ipython",
    "version": 3
   },
   "file_extension": ".py",
   "mimetype": "text/x-python",
   "name": "python",
   "nbconvert_exporter": "python",
   "pygments_lexer": "ipython3",
   "version": "3.12.3"
  }
 },
 "nbformat": 4,
 "nbformat_minor": 2
}
