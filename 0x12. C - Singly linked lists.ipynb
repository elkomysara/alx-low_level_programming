{
 "cells": [
  {
   "cell_type": "markdown",
   "metadata": {},
   "source": [
    "---\n",
    "<center>\n",
    "<h1>  alx-low_level_programming </h1>\n",
    "</center>\n",
    "\n",
    "---\n"
   ]
  },
  {
   "cell_type": "code",
   "execution_count": 2,
   "metadata": {},
   "outputs": [],
   "source": [
    "import os\n",
    "# creating 0x02-shell_redirectionss\n",
    "\n",
    "folder_path = r'/home/elkomy/alx/alx-low_level_programming/0x12-singly_linked_lists'\n",
    "if not os.path.exists(folder_path):\n",
    "    os.makedirs(folder_path)\n",
    "\n",
    "# Create a README.md inside alx-low_level_programming/0x12-singly_linked_lists\n",
    "file_path = os.path.join(folder_path, 'README.md')\n",
    "\n",
    "with open(file_path, 'w') as file:\n",
    "    file.write(\"This is a README.md file inside alx-low_level_programming/0x12-singly_linked_lists\")\n",
    "\n"
   ]
  },
  {
   "cell_type": "code",
   "execution_count": 3,
   "metadata": {},
   "outputs": [
    {
     "name": "stdout",
     "output_type": "stream",
     "text": [
      "Overwriting /home/elkomy/alx/alx-low_level_programming/0x12-singly_linked_lists/README.md\n"
     ]
    }
   ],
   "source": [
    "%%file /home/elkomy/alx/alx-low_level_programming/0x12-singly_linked_lists/README.md\n",
    "This is a README.md"
   ]
  },
  {
   "cell_type": "markdown",
   "metadata": {},
   "source": [
    "###\n",
    "---\n",
    "<center>\n",
    "<h1> 0x12. C - Singly linked lists </h1>\n",
    "</center>\n",
    "\n",
    "---\n"
   ]
  },
  {
   "cell_type": "markdown",
   "metadata": {},
   "source": [
    "###\n",
    "---\n",
    "<center>\n",
    "<h4> 0. Print list</h4>\n",
    "</center>\n",
    "\n",
    "---"
   ]
  },
  {
   "cell_type": "markdown",
   "metadata": {},
   "source": [
    "\n",
    "#### Write a function that prints all the elements of a list_t list.\n",
    "\n",
    "* Prototype: `size_t print_list(const list_t *h)`;\n",
    "* Return: the number of nodes\n",
    "* Format: see example\n",
    "* If `str` is `NULL`, print `[0] (nil)`\n",
    "* You are allowed to use `printf`\n",
    "\n",
    "\n",
    "```bash\n",
    "julien@ubuntu:~/0x12. Singly linked lists$ cat 0-main.c\n",
    "#include <stdlib.h>\n",
    "#include <string.h>\n",
    "#include <stdio.h>\n",
    "#include \"lists.h\"\n",
    "\n",
    "/**\n",
    " * main - check the code\n",
    " *\n",
    " * Return: Always 0.\n",
    " */\n",
    "int main(void)\n",
    "{\n",
    "    list_t *head;\n",
    "    list_t *new;\n",
    "    list_t hello = {\"World\", 5, NULL};\n",
    "    size_t n;\n",
    "\n",
    "    head = &hello;\n",
    "    new = malloc(sizeof(list_t));\n",
    "    if (new == NULL)\n",
    "    {\n",
    "        printf(\"Error\\n\");\n",
    "        return (1);\n",
    "    }\n",
    "    new->str = strdup(\"Hello\");\n",
    "    new->len = 5;\n",
    "    new->next = head;\n",
    "    head = new;\n",
    "    n = print_list(head);\n",
    "    printf(\"-> %lu elements\\n\", n);\n",
    "\n",
    "    printf(\"\\n\");\n",
    "    free(new->str);\n",
    "    new->str = NULL;\n",
    "    n = print_list(head);\n",
    "    printf(\"-> %lu elements\\n\", n);\n",
    "\n",
    "    free(new);\n",
    "    return (0);\n",
    "}\n",
    "julien@ubuntu:~/0x12. Singly linked lists$ gcc -Wall -pedantic -Werror -Wextra -std=gnu89 0-main.c 0-print_list.c -o a\n",
    "julien@ubuntu:~/0x12. Singly linked lists$ ./a \n",
    "[5] Hello\n",
    "[5] World\n",
    "-> 2 elements\n",
    "\n",
    "[0] (nil)\n",
    "[5] World\n",
    "-> 2 elements\n",
    "julien@ubuntu:~/0x12. Singly linked lists$ \n",
    "```\n",
    "#### Repo:\n",
    "* GitHub repository: ``` alx-low_level_programming ```\n",
    "* Directory: ```0x12-singly_linked_lists``` \n",
    "* File: ```0-print_list.c```"
   ]
  },
  {
   "cell_type": "code",
   "execution_count": 5,
   "metadata": {},
   "outputs": [
    {
     "name": "stdout",
     "output_type": "stream",
     "text": [
      "Overwriting 0x12-singly_linked_lists/lists.h\n"
     ]
    }
   ],
   "source": [
    "%%file 0x12-singly_linked_lists/lists.h\n",
    "#ifndef LISTS_H\n",
    "#define LISTS_H\n",
    "\n",
    "#include <stddef.h>\n",
    "\n",
    "/**\n",
    "* struct list_s - singly linked list\n",
    "* @str: string - (malloc'd string)\n",
    "* @len: length of the string\n",
    "* @next: points to the next node\n",
    "*/\n",
    "typedef struct list_s\n",
    "{\n",
    "char *str;\n",
    "unsigned int len;\n",
    "struct list_s *next;\n",
    "} list_t;\n",
    "\n",
    "size_t print_list(const list_t *h);\n",
    "\n",
    "#endif /* LISTS_H */\n"
   ]
  },
  {
   "cell_type": "code",
   "execution_count": 18,
   "metadata": {},
   "outputs": [
    {
     "name": "stdout",
     "output_type": "stream",
     "text": [
      "Overwriting 0x12-singly_linked_lists/0-main.c\n"
     ]
    }
   ],
   "source": [
    "%%file 0x12-singly_linked_lists/0-main.c\n",
    "#include <stdlib.h>\n",
    "#include <string.h>\n",
    "#include <stdio.h>\n",
    "#include \"lists.h\"\n",
    "\n",
    "/**\n",
    "* main - check the code\n",
    "*\n",
    "* Return: Always 0.\n",
    "*/\n",
    "int main(void)\n",
    "{\n",
    "list_t *head;\n",
    "list_t *new;\n",
    "list_t hello = {\"World\", 5, NULL};\n",
    "size_t n;\n",
    "\n",
    "head = &hello;\n",
    "new = malloc(sizeof(list_t));\n",
    "if (new == NULL)\n",
    "{\n",
    "printf(\"Error\\n\");\n",
    "return (1);\n",
    "}\n",
    "new->str = strdup(\"Hello\");\n",
    "new->len = 5;\n",
    "new->next = head;\n",
    "head = new;\n",
    "n = print_list(head);\n",
    "printf(\"-> %lu elements\\n\", n);\n",
    "\n",
    "printf(\"\\n\");\n",
    "free(new->str);\n",
    "new->str = NULL;\n",
    "n = print_list(head);\n",
    "printf(\"-> %lu elements\\n\", n);\n",
    "\n",
    "free(new);\n",
    "return (0);\n",
    "}"
   ]
  },
  {
   "cell_type": "code",
   "execution_count": 19,
   "metadata": {},
   "outputs": [
    {
     "name": "stdout",
     "output_type": "stream",
     "text": [
      "Overwriting 0x12-singly_linked_lists/0-print_list.c\n"
     ]
    }
   ],
   "source": [
    "%%file 0x12-singly_linked_lists/0-print_list.c\n",
    "#include <stdio.h>\n",
    "#include \"lists.h\"\n",
    "\n",
    "/**\n",
    "* print_list - prints all the elements of a list_t list\n",
    "* @h: pointer to the head of the list\n",
    "*\n",
    "* Return: the number of nodes\n",
    "*/\n",
    "size_t print_list(const list_t *h)\n",
    "{\n",
    "size_t count = 0;\n",
    "\n",
    "while (h != NULL)\n",
    "{\n",
    "if (h->str == NULL)\n",
    "printf(\"[0] (nil)\\n\");\n",
    "else\n",
    "printf(\"[%u] %s\\n\", h->len, h->str);\n",
    "h = h->next;\n",
    "count++;\n",
    "}\n",
    "\n",
    "return (count);\n",
    "}\n"
   ]
  },
  {
   "cell_type": "code",
   "execution_count": 25,
   "metadata": {},
   "outputs": [
    {
     "name": "stdout",
     "output_type": "stream",
     "text": [
      "main\n",
      "print_list\n",
      "struct list_s\n"
     ]
    }
   ],
   "source": [
    "%%bash\n",
    "betty-style 0x12-singly_linked_lists/*.c 0x12-singly_linked_lists/*.h\n",
    "betty-doc 0x12-singly_linked_lists/*.c  0x12-singly_linked_lists/*.h\n"
   ]
  },
  {
   "cell_type": "code",
   "execution_count": 20,
   "metadata": {},
   "outputs": [
    {
     "name": "stdout",
     "output_type": "stream",
     "text": [
      "[5] Hello\n",
      "[5] World\n",
      "-> 2 elements\n",
      "\n",
      "[0] (nil)\n",
      "[5] World\n",
      "-> 2 elements\n"
     ]
    }
   ],
   "source": [
    "%%bash\n",
    "gcc -Wall -pedantic -Werror -Wextra -std=gnu89 0x12-singly_linked_lists/0-main.c 0x12-singly_linked_lists/0-print_list.c -o 0x12-singly_linked_lists/a\n",
    "./0x12-singly_linked_lists/a"
   ]
  },
  {
   "cell_type": "code",
   "execution_count": 26,
   "metadata": {},
   "outputs": [
    {
     "name": "stdout",
     "output_type": "stream",
     "text": [
      "On branch main\n",
      "Your branch is up to date with 'origin/main'.\n",
      "\n",
      "nothing to commit, working tree clean\n"
     ]
    },
    {
     "name": "stderr",
     "output_type": "stream",
     "text": [
      "Everything up-to-date\n"
     ]
    }
   ],
   "source": [
    "%%bash\n",
    "git add .\n",
    "git commit -m \"alx-low_level_programming/0x12-singly_linked_lists/0-putchar\"\n",
    "git push"
   ]
  },
  {
   "cell_type": "markdown",
   "metadata": {},
   "source": [
    "###\n",
    "---\n",
    "<center>\n",
    "<h4>1. List length</h4>\n",
    "</center>\n",
    "\n",
    "---"
   ]
  },
  {
   "cell_type": "markdown",
   "metadata": {},
   "source": [
    "\n",
    "#### Write a function that returns the number of elements in a linked `list_t` list.\n",
    "\n",
    "* Prototype: `size_t list_len(const list_t *h);`\n",
    "\n",
    "```bash\n",
    "julien@ubuntu:~/0x12. Singly linked lists$ cat 1-main.c\n",
    "#include <stdlib.h>\n",
    "#include <string.h>\n",
    "#include <stdio.h>\n",
    "#include \"lists.h\"\n",
    "\n",
    "/**\n",
    " * main - check the code\n",
    " *\n",
    " * Return: Always 0.\n",
    " */\n",
    "int main(void)\n",
    "{\n",
    "    list_t *head;\n",
    "    list_t *new;\n",
    "    list_t hello = {\"World\", 5, NULL};\n",
    "    size_t n;\n",
    "\n",
    "    head = &hello;\n",
    "    new = malloc(sizeof(list_t));\n",
    "    if (new == NULL)\n",
    "    {\n",
    "        printf(\"Error\\n\");\n",
    "        return (1);\n",
    "    }\n",
    "    new->str = strdup(\"Hello\");\n",
    "    new->len = 5;\n",
    "    new->next = head;\n",
    "    head = new;\n",
    "    n = list_len(head);\n",
    "    printf(\"-> %lu elements\\n\", n);\n",
    "    free(new->str);\n",
    "    free(new);\n",
    "    return (0);\n",
    "}\n",
    "julien@ubuntu:~/0x12. Singly linked lists$ gcc -Wall -pedantic -Werror -Wextra -std=gnu89 1-main.c 1-list_len.c -o b\n",
    "julien@ubuntu:~/0x12. Singly linked lists$ ./b \n",
    "-> 2 elements\n",
    "julien@ubuntu:~/0x12. Singly linked lists$ \n",
    "\n",
    "```\n",
    "#### Repo:\n",
    "* GitHub repository: ``` alx-low_level_programming ```\n",
    "* Directory: ```0x12-singly_linked_lists``` \n",
    "* File: ```1-list_len.c```"
   ]
  },
  {
   "cell_type": "code",
   "execution_count": 6,
   "metadata": {},
   "outputs": [
    {
     "name": "stdout",
     "output_type": "stream",
     "text": [
      "Overwriting 0x12-singly_linked_lists/lists.h\n"
     ]
    }
   ],
   "source": [
    "%%file 0x12-singly_linked_lists/lists.h\n",
    "#ifndef LISTS_H\n",
    "#define LISTS_H\n",
    "\n",
    "#include <stddef.h>\n",
    "\n",
    "/**\n",
    " * struct list_s - singly linked list\n",
    " * @str: string - (malloc'ed string)\n",
    " * @len: length of the string\n",
    " * @next: points to the next node\n",
    " *\n",
    " * Description: singly linked list node structure\n",
    " */\n",
    "typedef struct list_s\n",
    "{\n",
    "    char *str;\n",
    "    unsigned int len;\n",
    "    struct list_s *next;\n",
    "} list_t;\n",
    "\n",
    "size_t print_list(const list_t *h);\n",
    "size_t list_len(const list_t *h);\n",
    "\n",
    "#endif /* LISTS_H */\n"
   ]
  },
  {
   "cell_type": "code",
   "execution_count": 7,
   "metadata": {},
   "outputs": [
    {
     "name": "stdout",
     "output_type": "stream",
     "text": [
      "Overwriting 0x12-singly_linked_lists/1-main.c\n"
     ]
    }
   ],
   "source": [
    "%%file 0x12-singly_linked_lists/1-main.c\n",
    "#include <stdlib.h>\n",
    "#include <string.h>\n",
    "#include <stdio.h>\n",
    "#include \"lists.h\"\n",
    "\n",
    "/**\n",
    "* main - check the code\n",
    "*\n",
    "* Return: Always 0.\n",
    "*/\n",
    "int main(void)\n",
    "{\n",
    "list_t *head;\n",
    "list_t *new;\n",
    "list_t hello = {\"World\", 5, NULL};\n",
    "size_t n;\n",
    "\n",
    "head = &hello;\n",
    "new = malloc(sizeof(list_t));\n",
    "if (new == NULL)\n",
    "{\n",
    "printf(\"Error\\n\");\n",
    "return (1);\n",
    "}\n",
    "new->str = strdup(\"Hello\");\n",
    "new->len = 5;\n",
    "new->next = head;\n",
    "head = new;\n",
    "n = list_len(head);\n",
    "printf(\"-> %lu elements\\n\", n);\n",
    "free(new->str);\n",
    "free(new);\n",
    "return (0);\n",
    "}"
   ]
  },
  {
   "cell_type": "code",
   "execution_count": 8,
   "metadata": {},
   "outputs": [
    {
     "name": "stdout",
     "output_type": "stream",
     "text": [
      "Overwriting 0x12-singly_linked_lists/1-list_len.c\n"
     ]
    }
   ],
   "source": [
    "%%file 0x12-singly_linked_lists/1-list_len.c\n",
    "#include \"lists.h\"\n",
    "\n",
    "/**\n",
    "* list_len - returns the number of elements in a linked list_t list\n",
    "* @h: pointer to the head of the list\n",
    "*\n",
    "* Return: the number of elements\n",
    "*/\n",
    "size_t list_len(const list_t *h)\n",
    "{\n",
    "size_t count = 0;\n",
    "\n",
    "while (h != NULL)\n",
    "{\n",
    "count++;\n",
    "h = h->next;\n",
    "}\n",
    "\n",
    "return (count);\n",
    "}\n"
   ]
  },
  {
   "cell_type": "code",
   "execution_count": 9,
   "metadata": {},
   "outputs": [
    {
     "name": "stdout",
     "output_type": "stream",
     "text": [
      "-> 2 elements\n"
     ]
    }
   ],
   "source": [
    "%%bash\n",
    "gcc -Wall -pedantic -Werror -Wextra -std=gnu89 0x12-singly_linked_lists/1-main.c 0x12-singly_linked_lists/1-list_len.c -o 0x12-singly_linked_lists/b\n",
    "./0x12-singly_linked_lists/b\n"
   ]
  },
  {
   "cell_type": "code",
   "execution_count": 10,
   "metadata": {},
   "outputs": [
    {
     "name": "stdout",
     "output_type": "stream",
     "text": [
      "[main ed0fd72] alx-low_level_programming/0x12-singly_linked_lists/0-putchar\n",
      " 5 files changed, 366 insertions(+), 133 deletions(-)\n",
      " create mode 100644 0x12-singly_linked_lists/1-list_len.c\n",
      " create mode 100644 0x12-singly_linked_lists/1-main.c\n",
      " create mode 100755 0x12-singly_linked_lists/b\n"
     ]
    },
    {
     "name": "stderr",
     "output_type": "stream",
     "text": [
      "To https://github.com/elkomysara/alx-low_level_programming.git\n",
      "   b74ea6a..ed0fd72  main -> main\n"
     ]
    }
   ],
   "source": [
    "%%bash\n",
    "git add .\n",
    "git commit -m \"alx-low_level_programming/0x12-singly_linked_lists/0-putchar\"\n",
    "git push"
   ]
  },
  {
   "cell_type": "markdown",
   "metadata": {},
   "source": [
    "###\n",
    "---\n",
    "<center>\n",
    "<h4> 2. Add node</h4>\n",
    "</center>\n",
    "\n",
    "---"
   ]
  },
  {
   "cell_type": "markdown",
   "metadata": {},
   "source": [
    "\n",
    "#### Write a function that adds a new node at the beginning of a list_t list.\n",
    "\n",
    "* Prototype: `list_t *add_node(list_t **head, const char *str);`\n",
    "* Return: the address of the new element, or `NULL` if it failed\n",
    "* `str` needs to be duplicated\n",
    "* You are allowed to use `strdup`\n",
    "\n",
    "```bash\n",
    "julien@ubuntu:~/0x12. Singly linked lists$ cat 2-main.c\n",
    "#include <stdlib.h>\n",
    "#include <string.h>\n",
    "#include <stdio.h>\n",
    "#include \"lists.h\"\n",
    "\n",
    "/**\n",
    " * main - check the code\n",
    " *\n",
    " * Return: Always 0.\n",
    " */\n",
    "int main(void)\n",
    "{\n",
    "    list_t *head;\n",
    "\n",
    "    head = NULL;\n",
    "    add_node(&head, \"Alexandro\");\n",
    "    add_node(&head, \"Asaia\");\n",
    "    add_node(&head, \"Augustin\");\n",
    "    add_node(&head, \"Bennett\");\n",
    "    add_node(&head, \"Bilal\");\n",
    "    add_node(&head, \"Chandler\");\n",
    "    add_node(&head, \"Damian\");\n",
    "    add_node(&head, \"Daniel\");\n",
    "    add_node(&head, \"Dora\");\n",
    "    add_node(&head, \"Electra\");\n",
    "    add_node(&head, \"Gloria\");\n",
    "    add_node(&head, \"Joe\");\n",
    "    add_node(&head, \"John\");\n",
    "    add_node(&head, \"John\");\n",
    "    add_node(&head, \"Josquin\");\n",
    "    add_node(&head, \"Kris\");\n",
    "    add_node(&head, \"Marine\");\n",
    "    add_node(&head, \"Mason\");\n",
    "    add_node(&head, \"Praylin\");\n",
    "    add_node(&head, \"Rick\");\n",
    "    add_node(&head, \"Rick\");\n",
    "    add_node(&head, \"Rona\");\n",
    "    add_node(&head, \"Siphan\");\n",
    "    add_node(&head, \"Sravanthi\");\n",
    "    add_node(&head, \"Steven\");\n",
    "    add_node(&head, \"Tasneem\");\n",
    "    add_node(&head, \"William\");\n",
    "    add_node(&head, \"Zee\");\n",
    "    print_list(head);\n",
    "    return (0);\n",
    "}\n",
    "julien@ubuntu:~/0x12. Singly linked lists$ gcc -Wall -pedantic -Werror -Wextra -std=gnu89 2-main.c 2-add_node.c 0-print_list.c -o c\n",
    "julien@ubuntu:~/0x12. Singly linked lists$ ./c \n",
    "[3] Zee\n",
    "[7] William\n",
    "[7] Tasneem\n",
    "[6] Steven\n",
    "[9] Sravanthi\n",
    "[6] Siphan\n",
    "[4] Rona\n",
    "[4] Rick\n",
    "[4] Rick\n",
    "[7] Praylin\n",
    "[5] Mason\n",
    "[6] Marine\n",
    "[4] Kris\n",
    "[7] Josquin\n",
    "[4] John\n",
    "[4] John\n",
    "[3] Joe\n",
    "[6] Gloria\n",
    "[7] Electra\n",
    "[4] Dora\n",
    "[6] Daniel\n",
    "[6] Damian\n",
    "[8] Chandler\n",
    "[5] Bilal\n",
    "[7] Bennett\n",
    "[8] Augustin\n",
    "[5] Asaia\n",
    "[9] Alexandro\n",
    "julien@ubuntu:~/0x12. Singly linked lists$ \n",
    "```\n",
    "#### Repo:\n",
    "* GitHub repository: ``` alx-low_level_programming ```\n",
    "* Directory: ```0x12-singly_linked_lists``` \n",
    "* File: ```2-add_node.c```"
   ]
  },
  {
   "cell_type": "code",
   "execution_count": 13,
   "metadata": {},
   "outputs": [
    {
     "name": "stdout",
     "output_type": "stream",
     "text": [
      "Overwriting 0x12-singly_linked_lists/2-main.c\n"
     ]
    }
   ],
   "source": [
    "%%file 0x12-singly_linked_lists/2-main.c\n",
    "#include <stdlib.h>\n",
    "#include <string.h>\n",
    "#include <stdio.h>\n",
    "#include \"lists.h\"\n",
    "\n",
    "/**\n",
    " * main - check the code\n",
    " *\n",
    " * Return: Always 0.\n",
    " */\n",
    "int main(void)\n",
    "{\n",
    "    list_t *head;\n",
    "\n",
    "    head = NULL;\n",
    "    add_node(&head, \"Alexandro\");\n",
    "    add_node(&head, \"Asaia\");\n",
    "    add_node(&head, \"Augustin\");\n",
    "    add_node(&head, \"Bennett\");\n",
    "    add_node(&head, \"Bilal\");\n",
    "    add_node(&head, \"Chandler\");\n",
    "    add_node(&head, \"Damian\");\n",
    "    add_node(&head, \"Daniel\");\n",
    "    add_node(&head, \"Dora\");\n",
    "    add_node(&head, \"Electra\");\n",
    "    add_node(&head, \"Gloria\");\n",
    "    add_node(&head, \"Joe\");\n",
    "    add_node(&head, \"John\");\n",
    "    add_node(&head, \"John\");\n",
    "    add_node(&head, \"Josquin\");\n",
    "    add_node(&head, \"Kris\");\n",
    "    add_node(&head, \"Marine\");\n",
    "    add_node(&head, \"Mason\");\n",
    "    add_node(&head, \"Praylin\");\n",
    "    add_node(&head, \"Rick\");\n",
    "    add_node(&head, \"Rick\");\n",
    "    add_node(&head, \"Rona\");\n",
    "    add_node(&head, \"Siphan\");\n",
    "    add_node(&head, \"Sravanthi\");\n",
    "    add_node(&head, \"Steven\");\n",
    "    add_node(&head, \"Tasneem\");\n",
    "    add_node(&head, \"William\");\n",
    "    add_node(&head, \"Zee\");\n",
    "    print_list(head);\n",
    "    return (0);\n",
    "}\n"
   ]
  },
  {
   "cell_type": "code",
   "execution_count": 12,
   "metadata": {},
   "outputs": [
    {
     "name": "stdout",
     "output_type": "stream",
     "text": [
      "Writing 0x12-singly_linked_lists/2-add_node.c\n"
     ]
    }
   ],
   "source": [
    "%%file 0x12-singly_linked_lists/2-add_node.c\n",
    "#include <stdlib.h>\n",
    "#include <string.h>\n",
    "#include \"lists.h\"\n",
    "\n",
    "/**\n",
    "* add_node - adds a new node at the beginning of a list_t list\n",
    "* @head: pointer to the head of the list\n",
    "* @str: string to be duplicated and added to the new node\n",
    "*\n",
    "* Return: address of the new element, or NULL if it failed\n",
    "*/\n",
    "list_t *add_node(list_t **head, const char *str)\n",
    "{\n",
    "list_t *new_node;\n",
    "\n",
    "new_node = malloc(sizeof(list_t));\n",
    "if (new_node == NULL)\n",
    "return (NULL);\n",
    "\n",
    "new_node->str = strdup(str);\n",
    "if (new_node->str == NULL)\n",
    "{\n",
    "free(new_node);\n",
    "return (NULL);\n",
    "}\n",
    "\n",
    "new_node->len = strlen(str);\n",
    "new_node->next = *head;\n",
    "*head = new_node;\n",
    "\n",
    "return (new_node);\n",
    "}\n"
   ]
  },
  {
   "cell_type": "code",
   "execution_count": 15,
   "metadata": {},
   "outputs": [
    {
     "name": "stdout",
     "output_type": "stream",
     "text": [
      "Overwriting 0x12-singly_linked_lists/lists.h\n"
     ]
    }
   ],
   "source": [
    "%%file 0x12-singly_linked_lists/lists.h\n",
    "#ifndef LISTS_H\n",
    "#define LISTS_H\n",
    "\n",
    "#include <stddef.h>\n",
    "\n",
    "/**\n",
    " * struct list_s - singly linked list\n",
    " * @str: string - (malloc'ed string)\n",
    " * @len: length of the string\n",
    " * @next: points to the next node\n",
    " *\n",
    " * Description: singly linked list node structure\n",
    " */\n",
    "typedef struct list_s\n",
    "{\n",
    "    char *str;\n",
    "    unsigned int len;\n",
    "    struct list_s *next;\n",
    "} list_t;\n",
    "\n",
    "/* Function prototypes */\n",
    "size_t print_list(const list_t *h);\n",
    "size_t list_len(const list_t *h);\n",
    "list_t *add_node(list_t **head, const char *str);\n",
    "\n",
    "#endif /* LISTS_H */\n"
   ]
  },
  {
   "cell_type": "code",
   "execution_count": 16,
   "metadata": {},
   "outputs": [
    {
     "name": "stdout",
     "output_type": "stream",
     "text": [
      "[3] Zee\n",
      "[7] William\n",
      "[7] Tasneem\n",
      "[6] Steven\n",
      "[9] Sravanthi\n",
      "[6] Siphan\n",
      "[4] Rona\n",
      "[4] Rick\n",
      "[4] Rick\n",
      "[7] Praylin\n",
      "[5] Mason\n",
      "[6] Marine\n",
      "[4] Kris\n",
      "[7] Josquin\n",
      "[4] John\n",
      "[4] John\n",
      "[3] Joe\n",
      "[6] Gloria\n",
      "[7] Electra\n",
      "[4] Dora\n",
      "[6] Daniel\n",
      "[6] Damian\n",
      "[8] Chandler\n",
      "[5] Bilal\n",
      "[7] Bennett\n",
      "[8] Augustin\n",
      "[5] Asaia\n",
      "[9] Alexandro\n"
     ]
    }
   ],
   "source": [
    "%%bash\n",
    "gcc -Wall -pedantic -Werror -Wextra -std=gnu89 0x12-singly_linked_lists/2-main.c 0x12-singly_linked_lists/2-add_node.c 0x12-singly_linked_lists/0-print_list.c -o 0x12-singly_linked_lists/c\n",
    "./0x12-singly_linked_lists/c\n"
   ]
  },
  {
   "cell_type": "code",
   "execution_count": 18,
   "metadata": {},
   "outputs": [
    {
     "name": "stdout",
     "output_type": "stream",
     "text": [
      "On branch main\n",
      "Your branch is up to date with 'origin/main'.\n",
      "\n",
      "nothing to commit, working tree clean\n"
     ]
    },
    {
     "name": "stderr",
     "output_type": "stream",
     "text": [
      "Everything up-to-date\n"
     ]
    }
   ],
   "source": [
    "%%bash\n",
    "git add .\n",
    "git commit -m \"alx-low_level_programming/0x12-singly_linked_lists/0-putchar\"\n",
    "git push"
   ]
  },
  {
   "cell_type": "markdown",
   "metadata": {},
   "source": [
    "###\n",
    "---\n",
    "<center>\n",
    "<h4>3. Add node at the end </h4>\n",
    "</center>\n",
    "\n",
    "---"
   ]
  },
  {
   "cell_type": "markdown",
   "metadata": {},
   "source": [
    "\n",
    "#### Write a function that adds a new node at the end of a `list_t` list.\n",
    "* Prototype: `list_t *add_node_end(list_t **head, const char *str);`\n",
    "* Return: the address of the new element, or `NULL` if it failed\n",
    "* `str` needs to be duplicated\n",
    "* You are allowed to use s`trdup`\n",
    "\n",
    "```bash\n",
    "julien@ubuntu:~/0x12. Singly linked lists$ cat 3-main.c\n",
    "#include <stdlib.h>\n",
    "#include <string.h>\n",
    "#include <stdio.h>\n",
    "#include \"lists.h\"\n",
    "\n",
    "/**\n",
    " * main - check the code\n",
    " *\n",
    " * Return: Always 0.\n",
    " */\n",
    "int main(void)\n",
    "{\n",
    "    list_t *head;\n",
    "\n",
    "    head = NULL;\n",
    "    add_node_end(&head, \"Anne\");\n",
    "    add_node_end(&head, \"Colton\");\n",
    "    add_node_end(&head, \"Corbin\");\n",
    "    add_node_end(&head, \"Daniel\");\n",
    "    add_node_end(&head, \"Danton\");\n",
    "    add_node_end(&head, \"David\");\n",
    "    add_node_end(&head, \"Gary\");\n",
    "    add_node_end(&head, \"Holden\");\n",
    "    add_node_end(&head, \"Ian\");\n",
    "    add_node_end(&head, \"Ian\");\n",
    "    add_node_end(&head, \"Jay\");\n",
    "    add_node_end(&head, \"Jennie\");\n",
    "    add_node_end(&head, \"Jimmy\");\n",
    "    add_node_end(&head, \"Justin\");\n",
    "    add_node_end(&head, \"Kalson\");\n",
    "    add_node_end(&head, \"Kina\");\n",
    "    add_node_end(&head, \"Matthew\");\n",
    "    add_node_end(&head, \"Max\");\n",
    "    add_node_end(&head, \"Michael\");\n",
    "    add_node_end(&head, \"Ntuj\");\n",
    "    add_node_end(&head, \"Philip\");\n",
    "    add_node_end(&head, \"Richard\");\n",
    "    add_node_end(&head, \"Samantha\");\n",
    "    add_node_end(&head, \"Stuart\");\n",
    "    add_node_end(&head, \"Swati\");\n",
    "    add_node_end(&head, \"Timothy\");\n",
    "    add_node_end(&head, \"Victor\");\n",
    "    add_node_end(&head, \"Walton\");\n",
    "    print_list(head);\n",
    "    return (0);\n",
    "}\n",
    "julien@ubuntu:~/0x12. Singly linked lists$ gcc -Wall -pedantic -Werror -Wextra -std=gnu89 3-main.c 3-add_node_end.c 0-print_list.c -o d\n",
    "julien@ubuntu:~/0x12. Singly linked lists$ ./d \n",
    "[4] Anne\n",
    "[6] Colton\n",
    "[6] Corbin\n",
    "[6] Daniel\n",
    "[6] Danton\n",
    "[5] David\n",
    "[4] Gary\n",
    "[6] Holden\n",
    "[3] Ian\n",
    "[3] Ian\n",
    "[3] Jay\n",
    "[6] Jennie\n",
    "[5] Jimmy\n",
    "[6] Justin\n",
    "[6] Kalson\n",
    "[4] Kina\n",
    "[7] Matthew\n",
    "[3] Max\n",
    "[7] Michael\n",
    "[4] Ntuj\n",
    "[6] Philip\n",
    "[7] Richard\n",
    "[8] Samantha\n",
    "[6] Stuart\n",
    "[5] Swati\n",
    "[7] Timothy\n",
    "[6] Victor\n",
    "[6] Walton\n",
    "julien@ubuntu:~/0x12. Singly linked lists$\n",
    "\n",
    "```\n",
    "#### Repo:\n",
    "* GitHub repository: ``` alx-low_level_programming ```\n",
    "* Directory: ```0x12-singly_linked_lists``` \n",
    "* File: ```3-add_node_end.c```"
   ]
  },
  {
   "cell_type": "code",
   "execution_count": 22,
   "metadata": {},
   "outputs": [
    {
     "name": "stdout",
     "output_type": "stream",
     "text": [
      "Writing 0x12-singly_linked_lists/3-main.c\n"
     ]
    }
   ],
   "source": [
    "%%file 0x12-singly_linked_lists/3-main.c\n",
    "#include <stdlib.h>\n",
    "#include <string.h>\n",
    "#include <stdio.h>\n",
    "#include \"lists.h\"\n",
    "\n",
    "/**\n",
    " * main - check the code\n",
    " *\n",
    " * Return: Always 0.\n",
    " */\n",
    "int main(void)\n",
    "{\n",
    "    list_t *head;\n",
    "\n",
    "    head = NULL;\n",
    "    add_node_end(&head, \"Anne\");\n",
    "    add_node_end(&head, \"Colton\");\n",
    "    add_node_end(&head, \"Corbin\");\n",
    "    add_node_end(&head, \"Daniel\");\n",
    "    add_node_end(&head, \"Danton\");\n",
    "    add_node_end(&head, \"David\");\n",
    "    add_node_end(&head, \"Gary\");\n",
    "    add_node_end(&head, \"Holden\");\n",
    "    add_node_end(&head, \"Ian\");\n",
    "    add_node_end(&head, \"Ian\");\n",
    "    add_node_end(&head, \"Jay\");\n",
    "    add_node_end(&head, \"Jennie\");\n",
    "    add_node_end(&head, \"Jimmy\");\n",
    "    add_node_end(&head, \"Justin\");\n",
    "    add_node_end(&head, \"Kalson\");\n",
    "    add_node_end(&head, \"Kina\");\n",
    "    add_node_end(&head, \"Matthew\");\n",
    "    add_node_end(&head, \"Max\");\n",
    "    add_node_end(&head, \"Michael\");\n",
    "    add_node_end(&head, \"Ntuj\");\n",
    "    add_node_end(&head, \"Philip\");\n",
    "    add_node_end(&head, \"Richard\");\n",
    "    add_node_end(&head, \"Samantha\");\n",
    "    add_node_end(&head, \"Stuart\");\n",
    "    add_node_end(&head, \"Swati\");\n",
    "    add_node_end(&head, \"Timothy\");\n",
    "    add_node_end(&head, \"Victor\");\n",
    "    add_node_end(&head, \"Walton\");\n",
    "    print_list(head);\n",
    "    return (0);\n",
    "}\n"
   ]
  },
  {
   "cell_type": "code",
   "execution_count": 23,
   "metadata": {},
   "outputs": [
    {
     "name": "stdout",
     "output_type": "stream",
     "text": [
      "Overwriting 0x12-singly_linked_lists/lists.h\n"
     ]
    }
   ],
   "source": [
    "%%file 0x12-singly_linked_lists/lists.h\n",
    "#ifndef LISTS_H\n",
    "#define LISTS_H\n",
    "\n",
    "#include <stddef.h>\n",
    "\n",
    "/**\n",
    " * struct list_s - singly linked list\n",
    " * @str: string - (malloc'ed string)\n",
    " * @len: length of the string\n",
    " * @next: points to the next node\n",
    " *\n",
    " * Description: singly linked list node structure\n",
    " */\n",
    "typedef struct list_s\n",
    "{\n",
    "    char *str;\n",
    "    unsigned int len;\n",
    "    struct list_s *next;\n",
    "} list_t;\n",
    "\n",
    "/* Function prototypes */\n",
    "size_t print_list(const list_t *h);\n",
    "size_t list_len(const list_t *h);\n",
    "list_t *add_node(list_t **head, const char *str);\n",
    "list_t *add_node_end(list_t **head, const char *str);\n",
    "\n",
    "#endif /* LISTS_H */\n"
   ]
  },
  {
   "cell_type": "code",
   "execution_count": 24,
   "metadata": {},
   "outputs": [
    {
     "name": "stdout",
     "output_type": "stream",
     "text": [
      "Overwriting 0x12-singly_linked_lists/3-add_node_end.c\n"
     ]
    }
   ],
   "source": [
    "%%file 0x12-singly_linked_lists/3-add_node_end.c\n",
    "#include <stdlib.h>\n",
    "#include <string.h>\n",
    "#include \"lists.h\"\n",
    "\n",
    "/**\n",
    "* add_node_end - adds a new node at the end of a list_t list\n",
    "* @head: double pointer to the head of the list\n",
    "* @str: string to be duplicated and added to the new node\n",
    "* \n",
    "* Return: the address of the new element, or NULL if it failed\n",
    "*/\n",
    "list_t *add_node_end(list_t **head, const char *str)\n",
    "{\n",
    "list_t *new_node;\n",
    "list_t *temp = *head;\n",
    "\n",
    "new_node = malloc(sizeof(list_t));\n",
    "if (new_node == NULL)\n",
    "return (NULL);\n",
    "\n",
    "new_node->str = strdup(str);\n",
    "if (new_node->str == NULL)\n",
    "{\n",
    "free(new_node);\n",
    "return (NULL);\n",
    "}\n",
    "new_node->len = strlen(str);\n",
    "new_node->next = NULL;\n",
    "\n",
    "if (*head == NULL)\n",
    "{\n",
    "*head = new_node;\n",
    "}\n",
    "else\n",
    "{\n",
    "while (temp->next != NULL)\n",
    "temp = temp->next;\n",
    "temp->next = new_node;\n",
    "}\n",
    "\n",
    "return (new_node);\n",
    "}\n"
   ]
  },
  {
   "cell_type": "code",
   "execution_count": 25,
   "metadata": {},
   "outputs": [
    {
     "name": "stdout",
     "output_type": "stream",
     "text": [
      "[4] Anne\n",
      "[6] Colton\n",
      "[6] Corbin\n",
      "[6] Daniel\n",
      "[6] Danton\n",
      "[5] David\n",
      "[4] Gary\n",
      "[6] Holden\n",
      "[3] Ian\n",
      "[3] Ian\n",
      "[3] Jay\n",
      "[6] Jennie\n",
      "[5] Jimmy\n",
      "[6] Justin\n",
      "[6] Kalson\n",
      "[4] Kina\n",
      "[7] Matthew\n",
      "[3] Max\n",
      "[7] Michael\n",
      "[4] Ntuj\n",
      "[6] Philip\n",
      "[7] Richard\n",
      "[8] Samantha\n",
      "[6] Stuart\n",
      "[5] Swati\n",
      "[7] Timothy\n",
      "[6] Victor\n",
      "[6] Walton\n"
     ]
    }
   ],
   "source": [
    "%%bash\n",
    "gcc -Wall -pedantic -Werror -Wextra -std=gnu89 0x12-singly_linked_lists/3-main.c 0x12-singly_linked_lists/3-add_node_end.c 0x12-singly_linked_lists/0-print_list.c -o 0x12-singly_linked_lists/d\n",
    "./0x12-singly_linked_lists/d\n"
   ]
  },
  {
   "cell_type": "code",
   "execution_count": 26,
   "metadata": {},
   "outputs": [
    {
     "name": "stdout",
     "output_type": "stream",
     "text": [
      "[main 6c09899] alx-low_level_programming/0x12-singly_linked_lists/0-putchar\n",
      " 4 files changed, 89 insertions(+)\n",
      " create mode 100644 0x12-singly_linked_lists/3-add_node_end.c\n",
      " create mode 100644 0x12-singly_linked_lists/3-main.c\n",
      " create mode 100755 0x12-singly_linked_lists/d\n"
     ]
    },
    {
     "name": "stderr",
     "output_type": "stream",
     "text": [
      "To https://github.com/elkomysara/alx-low_level_programming.git\n",
      "   6d1c1a3..6c09899  main -> main\n"
     ]
    }
   ],
   "source": [
    "%%bash\n",
    "git add .\n",
    "git commit -m \"alx-low_level_programming/0x12-singly_linked_lists/0-putchar\"\n",
    "git push"
   ]
  },
  {
   "cell_type": "code",
   "execution_count": null,
   "metadata": {},
   "outputs": [],
   "source": []
  },
  {
   "cell_type": "markdown",
   "metadata": {},
   "source": [
    "###\n",
    "---\n",
    "<center>\n",
    "<h4>4. SUM</h4>\n",
    "</center>\n",
    "\n",
    "---"
   ]
  },
  {
   "cell_type": "markdown",
   "metadata": {},
   "source": [
    "\n",
    "#### Write a function-like macro `SUM(x, y)` that computes the sum of the numbers `x` and `y`.\n",
    "\n",
    "```bash\n",
    " julien@ubuntu:~/0x0c. macro, structures$ cat 4-main.c\n",
    "#include <stdio.h>\n",
    "#include \"4-sum.h\"\n",
    "#include \"4-sum.h\"\n",
    "\n",
    "/**\n",
    " * main - check the code\n",
    " *\n",
    " * Return: Always 0.\n",
    " */\n",
    "int main(void)\n",
    "{\n",
    "    int s;\n",
    "\n",
    "    s = SUM(98, 1024);\n",
    "    printf(\"%d\\n\", s);\n",
    "    return (0);\n",
    "}\n",
    "julien@ubuntu:~/0x0c. macro, structures$ gcc -Wall -pedantic -Werror -Wextra -std=gnu89 4-main.c -o e\n",
    "julien@ubuntu:~/0x0c. macro, structures$ ./e \n",
    "1122\n",
    "julien@ubuntu:~/0x0c. macro, structures$ \n",
    "```\n",
    "#### Repo:\n",
    "* GitHub repository: ``` alx-low_level_programming ```\n",
    "* Directory: ```0x12-singly_linked_lists``` \n",
    "* File: ```4-sim.h```"
   ]
  },
  {
   "cell_type": "code",
   "execution_count": 23,
   "metadata": {},
   "outputs": [
    {
     "name": "stdout",
     "output_type": "stream",
     "text": [
      "Writing 0x0D-preprocessor/4-sum.h\n"
     ]
    }
   ],
   "source": [
    "%%file 0x12-singly_linked_lists/4-sum.h\n",
    "\n",
    "#ifndef SUM_H\n",
    "#define SUM_H\n",
    "\n",
    "#define SUM(x, y) ((x) + (y))\n",
    "\n",
    "#endif /* SUM_H */\n"
   ]
  },
  {
   "cell_type": "code",
   "execution_count": 24,
   "metadata": {},
   "outputs": [
    {
     "name": "stdout",
     "output_type": "stream",
     "text": [
      "Writing 0x0D-preprocessor/4-main.c\n"
     ]
    }
   ],
   "source": [
    "%%file 0x12-singly_linked_lists/4-main.c\n",
    "\n",
    "#include <stdio.h>\n",
    "#include \"4-sum.h\"\n",
    "#include \"4-sum.h\"\n",
    "\n",
    "/**\n",
    " * main - check the code\n",
    " *\n",
    " * Return: Always 0.\n",
    " */\n",
    "int main(void)\n",
    "{\n",
    "    int s;\n",
    "\n",
    "    s = SUM(98, 1024);\n",
    "    printf(\"%d\\n\", s);\n",
    "    return (0);\n",
    "}\n",
    "\n"
   ]
  },
  {
   "cell_type": "code",
   "execution_count": 25,
   "metadata": {},
   "outputs": [
    {
     "name": "stdout",
     "output_type": "stream",
     "text": [
      "1122\n"
     ]
    }
   ],
   "source": [
    "%%bash\n",
    "gcc -Wall -pedantic -Werror -Wextra -std=gnu89 0x12-singly_linked_lists/4-main.c -o 0x12-singly_linked_lists/e\n",
    "./0x12-singly_linked_lists/e\n"
   ]
  },
  {
   "cell_type": "code",
   "execution_count": 26,
   "metadata": {},
   "outputs": [
    {
     "name": "stdout",
     "output_type": "stream",
     "text": [
      "[main ca563fe] alx-low_level_programming/0x0D-preprocessor/0-putchar\n",
      " 3 files changed, 26 insertions(+)\n",
      " create mode 100644 0x0D-preprocessor/4-main.c\n",
      " create mode 100644 0x0D-preprocessor/4-sum.h\n",
      " create mode 100755 0x0D-preprocessor/e\n"
     ]
    },
    {
     "name": "stderr",
     "output_type": "stream",
     "text": [
      "To https://github.com/elkomysara/alx-low_level_programming.git\n",
      "   4e412ae..ca563fe  main -> main\n"
     ]
    }
   ],
   "source": [
    "%%bash\n",
    "git add .\n",
    "git commit -m \"alx-low_level_programming/0x12-singly_linked_lists/0-putchar\"\n",
    "git push"
   ]
  }
 ],
 "metadata": {
  "kernelspec": {
   "display_name": "Python 3",
   "language": "python",
   "name": "python3"
  },
  "language_info": {
   "codemirror_mode": {
    "name": "ipython",
    "version": 3
   },
   "file_extension": ".py",
   "mimetype": "text/x-python",
   "name": "python",
   "nbconvert_exporter": "python",
   "pygments_lexer": "ipython3",
   "version": "3.12.3"
  }
 },
 "nbformat": 4,
 "nbformat_minor": 2
}
