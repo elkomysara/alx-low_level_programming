{
 "cells": [
  {
   "cell_type": "markdown",
   "metadata": {},
   "source": [
    "---\n",
    "<center>\n",
    "<h1>  alx-low_level_programming </h1>\n",
    "</center>\n",
    "\n",
    "---\n"
   ]
  },
  {
   "cell_type": "code",
   "execution_count": 1,
   "metadata": {},
   "outputs": [],
   "source": [
    "import os\n",
    "# creating 0x02-shell_redirectionss\n",
    "\n",
    "folder_path = r'/home/elkomy/alx/alx-low_level_programming/0x0A-argc_argv'\n",
    "if not os.path.exists(folder_path):\n",
    "    os.makedirs(folder_path)\n",
    "\n",
    "# Create a README.md inside alx-low_level_programming/0x0A-argc_argv\n",
    "file_path = os.path.join(folder_path, 'README.md')\n",
    "\n",
    "with open(file_path, 'w') as file:\n",
    "    file.write(\"This is a README.md file inside alx-low_level_programming/0x0A-argc_argv\")\n",
    "\n"
   ]
  },
  {
   "cell_type": "code",
   "execution_count": 3,
   "metadata": {},
   "outputs": [
    {
     "name": "stdout",
     "output_type": "stream",
     "text": [
      "Overwriting /home/elkomy/alx/alx-low_level_programming/0x07-pointers_arrays_strings/README.md\n"
     ]
    }
   ],
   "source": [
    "%%file /home/elkomy/alx/alx-low_level_programming/0x0A-argc_argv/README.md\n",
    "This is a README.md"
   ]
  },
  {
   "cell_type": "markdown",
   "metadata": {},
   "source": [
    "###\n",
    "---\n",
    "<center>\n",
    "<h1> 0x0A. C - argc, argv  </h1>\n",
    "</center>\n",
    "\n",
    "---\n"
   ]
  },
  {
   "cell_type": "markdown",
   "metadata": {},
   "source": [
    "###\n",
    "---\n",
    "<center>\n",
    "<h4> 0. It ain't what they call you, it's what you answer to</h4>\n",
    "</center>\n",
    "\n",
    "---"
   ]
  },
  {
   "cell_type": "markdown",
   "metadata": {},
   "source": [
    "\n",
    "#### Write a program that prints its name, followed by a new line.\n",
    "\n",
    "* If you rename the program, it will print the new name, without having to compile it again\n",
    "* You should not remove the path before the name of the program\n",
    "```bash\n",
    "julien@ubuntu:~/0x0A. argc, argv$ gcc -Wall -pedantic -Werror -Wextra -std=gnu89 0-whatsmyname.c -o mynameis\n",
    "julien@ubuntu:~/0x0A. argc, argv$ ./mynameis \n",
    "./mynameis\n",
    "julien@ubuntu:~/0x0A. argc, argv$ mv mynameis mynewnameis\n",
    "julien@ubuntu:~/0x0A. argc, argv$ ./mynewnameis \n",
    "./mynewnameis\n",
    "julien@ubuntu:~/0x0A. argc, argv$ \n",
    "```\n",
    "#### Repo:\n",
    "* GitHub repository: ``` alx-low_level_programming ```\n",
    "* Directory: ```0x0A-argc_argv``` \n",
    "* File: ```0-whatsmyname.c```"
   ]
  },
  {
   "cell_type": "code",
   "execution_count": 16,
   "metadata": {},
   "outputs": [
    {
     "name": "stdout",
     "output_type": "stream",
     "text": [
      "Overwriting 0x0A-argc_argv/0-whatsmyname.c\n"
     ]
    }
   ],
   "source": [
    "%%file 0x0A-argc_argv/0-whatsmyname.c\n",
    "#include <stdio.h>\n",
    "\n",
    "/**\n",
    "* main - Prints the name of the program.\n",
    "* @argc: Argument count.\n",
    "* @argv: Argument vector.\n",
    "*\n",
    "* Return: Always 0.\n",
    "*/\n",
    "int main(int argc, char *argv[])\n",
    "{\n",
    "(void)argc;  /* Suppress unused parameter warning */\n",
    "printf(\"%s\\n\", argv[0]);\n",
    "return (0);\n",
    "}"
   ]
  },
  {
   "cell_type": "code",
   "execution_count": 17,
   "metadata": {},
   "outputs": [
    {
     "name": "stdout",
     "output_type": "stream",
     "text": [
      "Overwriting 0x0A-argc_argv/main.h\n"
     ]
    }
   ],
   "source": [
    "%%file 0x0A-argc_argv/main.h\n",
    "#ifndef MAIN_H\n",
    "#define MAIN_H\n",
    "\n",
    "#include <stdio.h>\n",
    "\n",
    "int _putchar(char c);\n",
    "int main(int argc, char *argv[]);\n",
    "\n",
    "#endif /* MAIN_H */"
   ]
  },
  {
   "cell_type": "code",
   "execution_count": 18,
   "metadata": {},
   "outputs": [
    {
     "name": "stdout",
     "output_type": "stream",
     "text": [
      "Overwriting 0x0A-argc_argv/_putchar.c\n"
     ]
    }
   ],
   "source": [
    "%%file 0x0A-argc_argv/_putchar.c\n",
    "#include <unistd.h>\n",
    "#include \"main.h\"\n",
    "/**\n",
    " * _putchar - writes the character c to stdout\n",
    " * @c: The character to print\n",
    " *\n",
    " * Return: On success 1.\n",
    " * On error, -1 is returned, and errno is set appropriately.\n",
    " */\n",
    "int _putchar(char c)\n",
    "{\n",
    "\treturn (write(1, &c, 1));\n",
    "}"
   ]
  },
  {
   "cell_type": "code",
   "execution_count": 20,
   "metadata": {},
   "outputs": [
    {
     "name": "stdout",
     "output_type": "stream",
     "text": [
      "\n",
      "========== 0x0A-argc_argv/0-whatsmyname.c ==========\n",
      "main\n",
      "./0x0A-argc_argv/mynameis\n"
     ]
    }
   ],
   "source": [
    "%%bash\n",
    "betty 0x0A-argc_argv/0-whatsmyname.c\n",
    "gcc -Wall -pedantic -Werror -Wextra -std=gnu89 0x0A-argc_argv/0-whatsmyname.c -o 0x0A-argc_argv/mynameis\n",
    "./0x0A-argc_argv/mynameis\n"
   ]
  },
  {
   "cell_type": "code",
   "execution_count": 21,
   "metadata": {},
   "outputs": [
    {
     "name": "stdout",
     "output_type": "stream",
     "text": [
      "[main 0901c3e] alx-low_level_programming/0x0A-argc_argv/0-putchar\n",
      " 42 files changed, 539 insertions(+), 199 deletions(-)\n",
      " delete mode 100644 0-isupper.o\n",
      " delete mode 100644 0-main.o\n",
      " delete mode 100644 0-memset.o\n",
      " delete mode 100644 0-putchar.o\n",
      " delete mode 100644 0-strcat.o\n",
      " create mode 100644 0x0A-argc_argv/0-whatsmyname.c\n",
      " create mode 100644 0x0A-argc_argv/README.md\n",
      " create mode 100644 0x0A-argc_argv/_putchar.c\n",
      " create mode 100644 0x0A-argc_argv/main.h\n",
      " rename quote => 0x0A-argc_argv/mynameis (72%)\n",
      " create mode 100644 0x0A. C - argc, argv.ipynb\n",
      " delete mode 100644 1-isdigit.o\n",
      " delete mode 100644 1-main.o\n",
      " delete mode 100644 1-memcpy.o\n",
      " delete mode 100644 1-strncat.o\n",
      " delete mode 100644 100-atoi.o\n",
      " delete mode 100644 100-main.o\n",
      " delete mode 100644 2-main.o\n",
      " delete mode 100644 2-strchr.o\n",
      " delete mode 100644 2-strcpy.o\n",
      " delete mode 100644 2-strlen.o\n",
      " delete mode 100644 2-strncpy.o\n",
      " delete mode 100644 3-islower.o\n",
      " delete mode 100644 3-main.o\n",
      " delete mode 100644 3-puts.o\n",
      " delete mode 100644 3-strcmp.o\n",
      " delete mode 100644 3-strspn.o\n",
      " delete mode 100644 4-isalpha.o\n",
      " delete mode 100644 4-main.o\n",
      " delete mode 100644 4-strpbrk.o\n",
      " delete mode 100644 5-main.o\n",
      " delete mode 100644 5-strstr.o\n",
      " delete mode 100644 6-abs.o\n",
      " delete mode 100644 6-main.o\n",
      " delete mode 100644 9-main.o\n",
      " delete mode 100644 9-strcpy.o\n",
      " delete mode 100644 _putchar.o\n",
      " delete mode 100755 size32\n",
      " delete mode 100755 size64\n"
     ]
    },
    {
     "name": "stderr",
     "output_type": "stream",
     "text": [
      "To https://github.com/elkomysara/alx-low_level_programming.git\n",
      "   4303a94..0901c3e  main -> main\n"
     ]
    }
   ],
   "source": [
    "%%bash\n",
    "git add .\n",
    "git commit -m \"alx-low_level_programming/0x0A-argc_argv/0-putchar\"\n",
    "git push"
   ]
  },
  {
   "cell_type": "code",
   "execution_count": null,
   "metadata": {},
   "outputs": [],
   "source": []
  },
  {
   "cell_type": "markdown",
   "metadata": {},
   "source": [
    "###\n",
    "---\n",
    "<center>\n",
    "<h4> 1. Silence is argument carried out by other means</h4>\n",
    "</center>\n",
    "\n",
    "---"
   ]
  },
  {
   "cell_type": "markdown",
   "metadata": {},
   "source": [
    "\n",
    "#### Write a program that prints the number of arguments passed into it.\n",
    "\n",
    "* Your program should print a number, followed by a new line\n",
    "```bash\n",
    "julien@ubuntu:~/0x0A. argc, argv$ gcc -Wall -pedantic -Werror -Wextra -std=gnu89 1-args.c -o nargs\n",
    "julien@ubuntu:~/0x0A. argc, argv$ ./nargs \n",
    "0\n",
    "julien@ubuntu:~/0x0A. argc, argv$ ./nargs hello\n",
    "1\n",
    "julien@ubuntu:~/0x0A. argc, argv$ ./nargs \"hello, world\"\n",
    "1\n",
    "julien@ubuntu:~/0x0A. argc, argv$ ./nargs hello, world\n",
    "2\n",
    "julien@ubuntu:~/0x0A. argc, argv$ \n",
    "```\n",
    "#### Repo:\n",
    "* GitHub repository: ``` alx-low_level_programming ```\n",
    "* Directory: ```0x0A-argc_argv``` \n",
    "* File: ```1-args.c```"
   ]
  },
  {
   "cell_type": "code",
   "execution_count": 23,
   "metadata": {},
   "outputs": [
    {
     "name": "stdout",
     "output_type": "stream",
     "text": [
      "Overwriting 0x0A-argc_argv/1-args.c\n"
     ]
    }
   ],
   "source": [
    "%%file 0x0A-argc_argv/1-args.c\n",
    "#include <stdio.h>\n",
    "#include \"main.h\"\n",
    "\n",
    "/**\n",
    "* main - Prints the number of arguments passed into it.\n",
    "* @argc: Argument count.\n",
    "* @argv: Argument vector.\n",
    "*\n",
    "* Return: Always 0.\n",
    "*/\n",
    "int main(int argc, char *argv[])\n",
    "{\n",
    "(void)argv;  /* Suppress unused parameter warning */\n",
    "printf(\"%d\\n\", argc - 1);\n",
    "return (0);\n",
    "}"
   ]
  },
  {
   "cell_type": "code",
   "execution_count": null,
   "metadata": {},
   "outputs": [
    {
     "name": "stdout",
     "output_type": "stream",
     "text": [
      "Overwriting 0x0A-argc_argv/main.h\n"
     ]
    }
   ],
   "source": [
    "%%file 0x0A-argc_argv/main.h\n",
    "#ifndef MAIN_H\n",
    "#define MAIN_H\n",
    "\n",
    "#include <stdio.h>\n",
    "\n",
    "int _putchar(char c);\n",
    "int main(int argc, char *argv[]);\n",
    "\n",
    "#endif /* MAIN_H */"
   ]
  },
  {
   "cell_type": "code",
   "execution_count": null,
   "metadata": {},
   "outputs": [
    {
     "name": "stdout",
     "output_type": "stream",
     "text": [
      "Overwriting 0x0A-argc_argv/_putchar.c\n"
     ]
    }
   ],
   "source": [
    "%%file 0x0A-argc_argv/_putchar.c\n",
    "#include <unistd.h>\n",
    "#include \"main.h\"\n",
    "/**\n",
    " * _putchar - writes the character c to stdout\n",
    " * @c: The character to print\n",
    " *\n",
    " * Return: On success 1.\n",
    " * On error, -1 is returned, and errno is set appropriately.\n",
    " */\n",
    "int _putchar(char c)\n",
    "{\n",
    "\treturn (write(1, &c, 1));\n",
    "}"
   ]
  },
  {
   "cell_type": "code",
   "execution_count": 24,
   "metadata": {},
   "outputs": [
    {
     "name": "stdout",
     "output_type": "stream",
     "text": [
      "\n",
      "========== 0x0A-argc_argv/1-args.c ==========\n",
      "main\n",
      "0\n"
     ]
    }
   ],
   "source": [
    "%%bash\n",
    "betty 0x0A-argc_argv/1-args.c\n",
    "gcc -Wall -Werror -Wextra -pedantic -std=gnu89 0x0A-argc_argv/1-args.c -o 0x0A-argc_argv/nargs\n",
    "./0x0A-argc_argv/nargs\n"
   ]
  },
  {
   "cell_type": "code",
   "execution_count": 25,
   "metadata": {},
   "outputs": [
    {
     "name": "stdout",
     "output_type": "stream",
     "text": [
      "[main 6d37fc6] alx-low_level_programming/0x0A-argc_argv/0-putchar\n",
      " 2 files changed, 16 insertions(+)\n",
      " create mode 100644 0x0A-argc_argv/1-args.c\n"
     ]
    },
    {
     "name": "stdout",
     "output_type": "stream",
     "text": [
      " create mode 100755 0x0A-argc_argv/nargs\n"
     ]
    },
    {
     "name": "stderr",
     "output_type": "stream",
     "text": [
      "To https://github.com/elkomysara/alx-low_level_programming.git\n",
      "   0901c3e..6d37fc6  main -> main\n"
     ]
    }
   ],
   "source": [
    "%%bash\n",
    "git add .\n",
    "git commit -m \"alx-low_level_programming/0x0A-argc_argv/0-putchar\"\n",
    "git push"
   ]
  },
  {
   "cell_type": "code",
   "execution_count": null,
   "metadata": {},
   "outputs": [],
   "source": []
  },
  {
   "cell_type": "markdown",
   "metadata": {},
   "source": [
    "###\n",
    "---\n",
    "<center>\n",
    "<h4>2. The best argument against democracy is a five-minute conversation with the average voter</h4>\n",
    "</center>\n",
    "\n",
    "---"
   ]
  },
  {
   "cell_type": "markdown",
   "metadata": {},
   "source": [
    "\n",
    "#### Write a program that prints all arguments it receives.\n",
    "\n",
    "* All arguments should be printed, including the first one\n",
    "* Only print one argument per line, ending with a new line\n",
    "```bash\n",
    "julien@ubuntu:~/0x0A. argc, argv$ gcc -Wall -pedantic -Werror -Wextra -std=gnu89 2-args.c -o args\n",
    "julien@ubuntu:~/0x0A. argc, argv$ ./args \n",
    "./args\n",
    "julien@ubuntu:~/0x0A. argc, argv$ ./args You can do anything, but not everything.\n",
    "./args\n",
    "You\n",
    "can\n",
    "do\n",
    "anything,\n",
    "but\n",
    "not\n",
    "everything.\n",
    "julien@ubuntu:~/0x0A. argc, argv$ \n",
    "```\n",
    "#### Repo:\n",
    "* GitHub repository: ``` alx-low_level_programming ```\n",
    "* Directory: ```0x0A-argc_argv``` \n",
    "* File: ```2-args.c```"
   ]
  },
  {
   "cell_type": "code",
   "execution_count": 26,
   "metadata": {},
   "outputs": [
    {
     "name": "stdout",
     "output_type": "stream",
     "text": [
      "Writing 0x0A-argc_argv/2-args.c\n"
     ]
    }
   ],
   "source": [
    "%%file 0x0A-argc_argv/2-args.c\n",
    "#include <stdio.h>\n",
    "#include \"main.h\"\n",
    "\n",
    "/**\n",
    "* main - Prints all arguments it receives.\n",
    "* @argc: Argument count.\n",
    "* @argv: Argument vector.\n",
    "*\n",
    "* Return: Always 0.\n",
    "*/\n",
    "int main(int argc, char *argv[])\n",
    "{\n",
    "int i;\n",
    "\n",
    "for (i = 0; i < argc; i++)\n",
    "{\n",
    "printf(\"%s\\n\", argv[i]);\n",
    "}\n",
    "\n",
    "return (0);\n",
    "}\n"
   ]
  },
  {
   "cell_type": "code",
   "execution_count": null,
   "metadata": {},
   "outputs": [
    {
     "name": "stdout",
     "output_type": "stream",
     "text": [
      "Overwriting 0x0A-argc_argv/main.h\n"
     ]
    }
   ],
   "source": [
    "%%file 0x0A-argc_argv/main.h\n",
    "#ifndef MAIN_H\n",
    "#define MAIN_H\n",
    "\n",
    "#include <stdio.h>\n",
    "\n",
    "int _putchar(char c);\n",
    "int main(int argc, char *argv[]);\n",
    "\n",
    "#endif /* MAIN_H */"
   ]
  },
  {
   "cell_type": "code",
   "execution_count": null,
   "metadata": {},
   "outputs": [
    {
     "name": "stdout",
     "output_type": "stream",
     "text": [
      "Overwriting 0x0A-argc_argv/_putchar.c\n"
     ]
    }
   ],
   "source": [
    "%%file 0x0A-argc_argv/_putchar.c\n",
    "#include <unistd.h>\n",
    "#include \"main.h\"\n",
    "/**\n",
    " * _putchar - writes the character c to stdout\n",
    " * @c: The character to print\n",
    " *\n",
    " * Return: On success 1.\n",
    " * On error, -1 is returned, and errno is set appropriately.\n",
    " */\n",
    "int _putchar(char c)\n",
    "{\n",
    "\treturn (write(1, &c, 1));\n",
    "}"
   ]
  },
  {
   "cell_type": "code",
   "execution_count": 27,
   "metadata": {},
   "outputs": [
    {
     "name": "stdout",
     "output_type": "stream",
     "text": [
      "\n",
      "========== 0x0A-argc_argv/2-args.c ==========\n"
     ]
    },
    {
     "name": "stdout",
     "output_type": "stream",
     "text": [
      "main\n",
      "./0x0A-argc_argv/args\n"
     ]
    }
   ],
   "source": [
    "%%bash\n",
    "betty 0x0A-argc_argv/2-args.c\n",
    "gcc -Wall -Werror -Wextra -pedantic -std=gnu89 0x0A-argc_argv/2-args.c -o 0x0A-argc_argv/args\n",
    "./0x0A-argc_argv/args\n"
   ]
  },
  {
   "cell_type": "code",
   "execution_count": 28,
   "metadata": {},
   "outputs": [
    {
     "name": "stdout",
     "output_type": "stream",
     "text": [
      "[main b59fc15] alx-low_level_programming/0x0A-argc_argv/0-putchar\n",
      " 2 files changed, 21 insertions(+)\n",
      " create mode 100644 0x0A-argc_argv/2-args.c\n",
      " create mode 100755 0x0A-argc_argv/args\n"
     ]
    },
    {
     "name": "stderr",
     "output_type": "stream",
     "text": [
      "To https://github.com/elkomysara/alx-low_level_programming.git\n",
      "   6d37fc6..b59fc15  main -> main\n"
     ]
    }
   ],
   "source": [
    "%%bash\n",
    "git add .\n",
    "git commit -m \"alx-low_level_programming/0x0A-argc_argv/0-putchar\"\n",
    "git push"
   ]
  },
  {
   "cell_type": "code",
   "execution_count": null,
   "metadata": {},
   "outputs": [],
   "source": []
  },
  {
   "cell_type": "markdown",
   "metadata": {},
   "source": [
    "###\n",
    "---\n",
    "<center>\n",
    "<h4>3. Neither irony nor sarcasm is argument</h4>\n",
    "</center>\n",
    "\n",
    "---"
   ]
  },
  {
   "cell_type": "markdown",
   "metadata": {},
   "source": [
    "\n",
    "#### Write a program that multiplies two numbers.\n",
    "\n",
    "* Your program should print the result of the multiplication, followed by a new line\n",
    "* You can assume that the two numbers and result of the multiplication can be stored in an integer\n",
    "* If the program does not receive two arguments, your program should print `Error`, followed by a new line, and return `1`\n",
    "```bash\n",
    "julien@ubuntu:~/0x0A. argc, argv$ gcc -Wall -pedantic -Werror -Wextra -std=gnu89 3-mul.c -o mul\n",
    "julien@ubuntu:~/0x0A. argc, argv$ ./mul 2 3\n",
    "6\n",
    "julien@ubuntu:~/0x0A. argc, argv$ ./mul 2 -3\n",
    "-6\n",
    "julien@ubuntu:~/0x0A. argc, argv$ ./mul 2 0\n",
    "0\n",
    "julien@ubuntu:~/0x0A. argc, argv$ ./mul 245 3245342\n",
    "795108790\n",
    "julien@ubuntu:~/0x0A. argc, argv$ ./mul\n",
    "Error\n",
    "julien@ubuntu:~/0x0A. argc, argv$\n",
    "```\n",
    "#### Repo:\n",
    "* GitHub repository: ``` alx-low_level_programming ```\n",
    "* Directory: ```0x0A-argc_argv``` \n",
    "* File: ```3-mul.c```"
   ]
  },
  {
   "cell_type": "code",
   "execution_count": 33,
   "metadata": {},
   "outputs": [
    {
     "name": "stdout",
     "output_type": "stream",
     "text": [
      "Overwriting 0x0A-argc_argv/3-mul.c\n"
     ]
    }
   ],
   "source": [
    "%%file 0x0A-argc_argv/3-mul.c\n",
    "#include <stdio.h>\n",
    "#include <stdlib.h>\n",
    "#include \"main.h\"\n",
    "\n",
    "/**\n",
    "* main - Multiplies two numbers.\n",
    "* @argc: Argument count.\n",
    "* @argv: Argument vector.\n",
    "*\n",
    "* Return: 0 if successful, 1 if there are not exactly two arguments.\n",
    "*/\n",
    "int main(int argc, char *argv[])\n",
    "{\n",
    "int num1, num2, result;\n",
    "\n",
    "if (argc != 3)\n",
    "{\n",
    "printf(\"Error\\n\");\n",
    "return (1);\n",
    "}\n",
    "\n",
    "num1 = atoi(argv[1]);\n",
    "num2 = atoi(argv[2]);\n",
    "result = multiply(num1, num2);\n",
    "\n",
    "printf(\"%d\\n\", result);\n",
    "\n",
    "return (0);\n",
    "}\n",
    "\n",
    "/**\n",
    "* multiply - Multiplies two integers.\n",
    "* @a: First integer.\n",
    "* @b: Second integer.\n",
    "*\n",
    "* Return: The product of a and b.\n",
    "*/\n",
    "int multiply(int a, int b)\n",
    "{\n",
    "return (a * b);\n",
    "}\n",
    "\n"
   ]
  },
  {
   "cell_type": "code",
   "execution_count": 34,
   "metadata": {},
   "outputs": [
    {
     "name": "stdout",
     "output_type": "stream",
     "text": [
      "Overwriting 0x0A-argc_argv/main.h\n"
     ]
    }
   ],
   "source": [
    "%%file 0x0A-argc_argv/main.h\n",
    "#ifndef MAIN_H\n",
    "#define MAIN_H\n",
    "\n",
    "#include <stdio.h>\n",
    "\n",
    "int _putchar(char c);\n",
    "int main(int argc, char *argv[]);\n",
    "int multiply(int a, int b);\n",
    "\n",
    "#endif /* MAIN_H */"
   ]
  },
  {
   "cell_type": "code",
   "execution_count": 35,
   "metadata": {},
   "outputs": [
    {
     "name": "stdout",
     "output_type": "stream",
     "text": [
      "Overwriting 0x0A-argc_argv/_putchar.c\n"
     ]
    }
   ],
   "source": [
    "%%file 0x0A-argc_argv/_putchar.c\n",
    "#include <unistd.h>\n",
    "#include \"main.h\"\n",
    "/**\n",
    " * _putchar - writes the character c to stdout\n",
    " * @c: The character to print\n",
    " *\n",
    " * Return: On success 1.\n",
    " * On error, -1 is returned, and errno is set appropriately.\n",
    " */\n",
    "int _putchar(char c)\n",
    "{\n",
    "\treturn (write(1, &c, 1));\n",
    "}"
   ]
  },
  {
   "cell_type": "code",
   "execution_count": 36,
   "metadata": {},
   "outputs": [
    {
     "name": "stdout",
     "output_type": "stream",
     "text": [
      "\n",
      "========== 0x0A-argc_argv/3-mul.c ==========\n",
      "main\n",
      "multiply\n",
      "Error\n"
     ]
    },
    {
     "ename": "CalledProcessError",
     "evalue": "Command 'b'betty 0x0A-argc_argv/3-mul.c\\ngcc -Wall -Werror -Wextra -pedantic -std=gnu89 0x0A-argc_argv/3-mul.c -o 0x0A-argc_argv/mul\\n./0x0A-argc_argv/mul\\n'' returned non-zero exit status 1.",
     "output_type": "error",
     "traceback": [
      "\u001b[0;31m---------------------------------------------------------------------------\u001b[0m",
      "\u001b[0;31mCalledProcessError\u001b[0m                        Traceback (most recent call last)",
      "Cell \u001b[0;32mIn[36], line 1\u001b[0m\n\u001b[0;32m----> 1\u001b[0m \u001b[43mget_ipython\u001b[49m\u001b[43m(\u001b[49m\u001b[43m)\u001b[49m\u001b[38;5;241;43m.\u001b[39;49m\u001b[43mrun_cell_magic\u001b[49m\u001b[43m(\u001b[49m\u001b[38;5;124;43m'\u001b[39;49m\u001b[38;5;124;43mbash\u001b[39;49m\u001b[38;5;124;43m'\u001b[39;49m\u001b[43m,\u001b[49m\u001b[43m \u001b[49m\u001b[38;5;124;43m'\u001b[39;49m\u001b[38;5;124;43m'\u001b[39;49m\u001b[43m,\u001b[49m\u001b[43m \u001b[49m\u001b[38;5;124;43m'\u001b[39;49m\u001b[38;5;124;43mbetty 0x0A-argc_argv/3-mul.c\u001b[39;49m\u001b[38;5;130;43;01m\\n\u001b[39;49;00m\u001b[38;5;124;43mgcc -Wall -Werror -Wextra -pedantic -std=gnu89 0x0A-argc_argv/3-mul.c -o 0x0A-argc_argv/mul\u001b[39;49m\u001b[38;5;130;43;01m\\n\u001b[39;49;00m\u001b[38;5;124;43m./0x0A-argc_argv/mul\u001b[39;49m\u001b[38;5;130;43;01m\\n\u001b[39;49;00m\u001b[38;5;124;43m'\u001b[39;49m\u001b[43m)\u001b[49m\n",
      "File \u001b[0;32m~/anaconda3/envs/alxse/lib/python3.12/site-packages/IPython/core/interactiveshell.py:2541\u001b[0m, in \u001b[0;36mInteractiveShell.run_cell_magic\u001b[0;34m(self, magic_name, line, cell)\u001b[0m\n\u001b[1;32m   2539\u001b[0m \u001b[38;5;28;01mwith\u001b[39;00m \u001b[38;5;28mself\u001b[39m\u001b[38;5;241m.\u001b[39mbuiltin_trap:\n\u001b[1;32m   2540\u001b[0m     args \u001b[38;5;241m=\u001b[39m (magic_arg_s, cell)\n\u001b[0;32m-> 2541\u001b[0m     result \u001b[38;5;241m=\u001b[39m \u001b[43mfn\u001b[49m\u001b[43m(\u001b[49m\u001b[38;5;241;43m*\u001b[39;49m\u001b[43margs\u001b[49m\u001b[43m,\u001b[49m\u001b[43m \u001b[49m\u001b[38;5;241;43m*\u001b[39;49m\u001b[38;5;241;43m*\u001b[39;49m\u001b[43mkwargs\u001b[49m\u001b[43m)\u001b[49m\n\u001b[1;32m   2543\u001b[0m \u001b[38;5;66;03m# The code below prevents the output from being displayed\u001b[39;00m\n\u001b[1;32m   2544\u001b[0m \u001b[38;5;66;03m# when using magics with decorator @output_can_be_silenced\u001b[39;00m\n\u001b[1;32m   2545\u001b[0m \u001b[38;5;66;03m# when the last Python token in the expression is a ';'.\u001b[39;00m\n\u001b[1;32m   2546\u001b[0m \u001b[38;5;28;01mif\u001b[39;00m \u001b[38;5;28mgetattr\u001b[39m(fn, magic\u001b[38;5;241m.\u001b[39mMAGIC_OUTPUT_CAN_BE_SILENCED, \u001b[38;5;28;01mFalse\u001b[39;00m):\n",
      "File \u001b[0;32m~/anaconda3/envs/alxse/lib/python3.12/site-packages/IPython/core/magics/script.py:155\u001b[0m, in \u001b[0;36mScriptMagics._make_script_magic.<locals>.named_script_magic\u001b[0;34m(line, cell)\u001b[0m\n\u001b[1;32m    153\u001b[0m \u001b[38;5;28;01melse\u001b[39;00m:\n\u001b[1;32m    154\u001b[0m     line \u001b[38;5;241m=\u001b[39m script\n\u001b[0;32m--> 155\u001b[0m \u001b[38;5;28;01mreturn\u001b[39;00m \u001b[38;5;28;43mself\u001b[39;49m\u001b[38;5;241;43m.\u001b[39;49m\u001b[43mshebang\u001b[49m\u001b[43m(\u001b[49m\u001b[43mline\u001b[49m\u001b[43m,\u001b[49m\u001b[43m \u001b[49m\u001b[43mcell\u001b[49m\u001b[43m)\u001b[49m\n",
      "File \u001b[0;32m~/anaconda3/envs/alxse/lib/python3.12/site-packages/IPython/core/magics/script.py:315\u001b[0m, in \u001b[0;36mScriptMagics.shebang\u001b[0;34m(self, line, cell)\u001b[0m\n\u001b[1;32m    310\u001b[0m \u001b[38;5;28;01mif\u001b[39;00m args\u001b[38;5;241m.\u001b[39mraise_error \u001b[38;5;129;01mand\u001b[39;00m p\u001b[38;5;241m.\u001b[39mreturncode \u001b[38;5;241m!=\u001b[39m \u001b[38;5;241m0\u001b[39m:\n\u001b[1;32m    311\u001b[0m     \u001b[38;5;66;03m# If we get here and p.returncode is still None, we must have\u001b[39;00m\n\u001b[1;32m    312\u001b[0m     \u001b[38;5;66;03m# killed it but not yet seen its return code. We don't wait for it,\u001b[39;00m\n\u001b[1;32m    313\u001b[0m     \u001b[38;5;66;03m# in case it's stuck in uninterruptible sleep. -9 = SIGKILL\u001b[39;00m\n\u001b[1;32m    314\u001b[0m     rc \u001b[38;5;241m=\u001b[39m p\u001b[38;5;241m.\u001b[39mreturncode \u001b[38;5;129;01mor\u001b[39;00m \u001b[38;5;241m-\u001b[39m\u001b[38;5;241m9\u001b[39m\n\u001b[0;32m--> 315\u001b[0m     \u001b[38;5;28;01mraise\u001b[39;00m CalledProcessError(rc, cell)\n",
      "\u001b[0;31mCalledProcessError\u001b[0m: Command 'b'betty 0x0A-argc_argv/3-mul.c\\ngcc -Wall -Werror -Wextra -pedantic -std=gnu89 0x0A-argc_argv/3-mul.c -o 0x0A-argc_argv/mul\\n./0x0A-argc_argv/mul\\n'' returned non-zero exit status 1."
     ]
    }
   ],
   "source": [
    "%%bash\n",
    "betty 0x0A-argc_argv/3-mul.c\n",
    "gcc -Wall -Werror -Wextra -pedantic -std=gnu89 0x0A-argc_argv/3-mul.c -o 0x0A-argc_argv/mul\n",
    "./0x0A-argc_argv/mul\n"
   ]
  },
  {
   "cell_type": "code",
   "execution_count": 37,
   "metadata": {},
   "outputs": [
    {
     "name": "stdout",
     "output_type": "stream",
     "text": [
      "[main 65d173e] alx-low_level_programming/0x0A-argc_argv/0-putchar\n"
     ]
    },
    {
     "name": "stdout",
     "output_type": "stream",
     "text": [
      " 3 files changed, 43 insertions(+)\n",
      " create mode 100644 0x0A-argc_argv/3-mul.c\n",
      " create mode 100755 0x0A-argc_argv/mul\n"
     ]
    },
    {
     "name": "stderr",
     "output_type": "stream",
     "text": [
      "To https://github.com/elkomysara/alx-low_level_programming.git\n",
      "   b59fc15..65d173e  main -> main\n"
     ]
    }
   ],
   "source": [
    "%%bash\n",
    "git add .\n",
    "git commit -m \"alx-low_level_programming/0x0A-argc_argv/0-putchar\"\n",
    "git push"
   ]
  },
  {
   "cell_type": "code",
   "execution_count": null,
   "metadata": {},
   "outputs": [],
   "source": []
  },
  {
   "cell_type": "markdown",
   "metadata": {},
   "source": [
    "###\n",
    "---\n",
    "<center>\n",
    "<h4>4. To infinity and beyond</h4>\n",
    "</center>\n",
    "\n",
    "---"
   ]
  },
  {
   "cell_type": "markdown",
   "metadata": {},
   "source": [
    "\n",
    "#### Write a program that adds positive numbers.\n",
    "\n",
    "* Print the result, followed by a new line\n",
    "* If no number is passed to the program, print `0`, followed by a new line\n",
    "* If one of the number contains symbols that are not digits, print `Error`, followed by a new line, and return `1`\n",
    "* You can assume that numbers and the addition of all the numbers can be stored in an `int`\n",
    "```bash\n",
    "julien@ubuntu:~/0x0A. argc, argv$ gcc -Wall -pedantic -Werror -Wextra -std=gnu89 4-add.c -o add\n",
    "julien@ubuntu:~/0x0A. argc, argv$ ./add 1 1\n",
    "2\n",
    "julien@ubuntu:~/0x0A. argc, argv$ ./add 1 10 100 1000\n",
    "1111\n",
    "julien@ubuntu:~/0x0A. argc, argv$ ./add 1 2 3 e 4 5\n",
    "Error\n",
    "julien@ubuntu:~/0x0A. argc, argv$ ./add\n",
    "0\n",
    "julien@ubuntu:~/0x0A. argc, argv$ \n",
    "```\n",
    "#### Repo:\n",
    "* GitHub repository: ``` alx-low_level_programming ```\n",
    "* Directory: ```0x0A-argc_argv``` \n",
    "* File: ```4-add.c```"
   ]
  },
  {
   "cell_type": "code",
   "execution_count": 47,
   "metadata": {},
   "outputs": [
    {
     "name": "stdout",
     "output_type": "stream",
     "text": [
      "Overwriting 0x0A-argc_argv/4-add.c\n"
     ]
    }
   ],
   "source": [
    "%%file 0x0A-argc_argv/4-add.c\n",
    "#include <stdio.h>\n",
    "#include <stdlib.h>\n",
    "#include \"main.h\"\n",
    "\n",
    "/**\n",
    "* main - Adds positive numbers passed as arguments.\n",
    "* @argc: Argument count.\n",
    "* @argv: Argument vector.\n",
    "*\n",
    "* Return: 0 if successful, 1 if there are invalid arguments.\n",
    "*/\n",
    "int main(int argc, char *argv[])\n",
    "{\n",
    "int sum;\n",
    "\n",
    "if (argc < 2)\n",
    "{\n",
    "printf(\"0\\n\");\n",
    "return (0);\n",
    "}\n",
    "\n",
    "sum = add_positive_numbers(argc, argv);\n",
    "\n",
    "if (sum == -1)\n",
    "{\n",
    "printf(\"Error\\n\");\n",
    "return (1);\n",
    "}\n",
    "\n",
    "printf(\"%d\\n\", sum);\n",
    "return (0);\n",
    "}\n",
    "\n",
    "/**\n",
    "* add_positive_numbers - Adds all positive numbers in argv.\n",
    "* @argc: Argument count.\n",
    "* @argv: Argument vector.\n",
    "*\n",
    "* Return: Sum of positive numbers, or -1 on error.\n",
    "*/\n",
    "int add_positive_numbers(int argc, char *argv[])\n",
    "{\n",
    "int i, sum = 0;\n",
    "\n",
    "for (i = 1; i < argc; i++)\n",
    "{\n",
    "if (is_positive_number(argv[i]))\n",
    "{\n",
    "sum += atoi(argv[i]);\n",
    "}\n",
    "else\n",
    "{\n",
    "return (-1);\n",
    "}\n",
    "}\n",
    "\n",
    "return (sum);\n",
    "}\n",
    "\n",
    "/**\n",
    "* is_positive_number - Checks if a string is a positive number.\n",
    "* @s: String to check.\n",
    "*\n",
    "* Return: 1 if true, 0 if false.\n",
    "*/\n",
    "int is_positive_number(char *s)\n",
    "{\n",
    "int i;\n",
    "\n",
    "if (_strlen(s) == 0)\n",
    "return (0);\n",
    "\n",
    "for (i = 0; s[i] != '\\0'; i++)\n",
    "{\n",
    "if (s[i] < '0' || s[i] > '9')\n",
    "return (0);\n",
    "}\n",
    "\n",
    "return (1);\n",
    "}\n",
    "\n",
    "/**\n",
    "* _strlen - Computes the length of a string.\n",
    "* @s: String to compute length of.\n",
    "*\n",
    "* Return: Length of the string.\n",
    "*/\n",
    "int _strlen(char *s)\n",
    "{\n",
    "int len = 0;\n",
    "\n",
    "while (s[len] != '\\0')\n",
    "len++;\n",
    "\n",
    "return (len);\n",
    "}"
   ]
  },
  {
   "cell_type": "code",
   "execution_count": 48,
   "metadata": {},
   "outputs": [
    {
     "name": "stdout",
     "output_type": "stream",
     "text": [
      "Overwriting 0x0A-argc_argv/main.h\n"
     ]
    }
   ],
   "source": [
    "%%file 0x0A-argc_argv/main.h\n",
    "#ifndef MAIN_H\n",
    "#define MAIN_H\n",
    "\n",
    "#include <stdio.h>\n",
    "\n",
    "int _putchar(char c);\n",
    "int main(int argc, char *argv[]);\n",
    "int multiply(int a, int b);\n",
    "int is_positive_number(char *s);\n",
    "int _strlen(char *s);\n",
    "int add_positive_numbers(int argc, char *argv[]);\n",
    "\n",
    "#endif /* MAIN_H */"
   ]
  },
  {
   "cell_type": "code",
   "execution_count": 49,
   "metadata": {},
   "outputs": [
    {
     "name": "stdout",
     "output_type": "stream",
     "text": [
      "Overwriting 0x0A-argc_argv/_putchar.c\n"
     ]
    }
   ],
   "source": [
    "%%file 0x0A-argc_argv/_putchar.c\n",
    "#include <unistd.h>\n",
    "#include \"main.h\"\n",
    "/**\n",
    " * _putchar - writes the character c to stdout\n",
    " * @c: The character to print\n",
    " *\n",
    " * Return: On success 1.\n",
    " * On error, -1 is returned, and errno is set appropriately.\n",
    " */\n",
    "int _putchar(char c)\n",
    "{\n",
    "\treturn (write(1, &c, 1));\n",
    "}"
   ]
  },
  {
   "cell_type": "code",
   "execution_count": 50,
   "metadata": {},
   "outputs": [
    {
     "name": "stdout",
     "output_type": "stream",
     "text": [
      "\n",
      "========== 0x0A-argc_argv/4-add.c ==========\n",
      "main\n",
      "add_positive_numbers\n",
      "is_positive_number\n",
      "_strlen\n",
      "0\n"
     ]
    }
   ],
   "source": [
    "%%bash\n",
    "betty 0x0A-argc_argv/4-add.c\n",
    "gcc -Wall -Werror -Wextra -pedantic -std=gnu89 0x0A-argc_argv/4-add.c -o 0x0A-argc_argv/add\n",
    "./0x0A-argc_argv/add\n"
   ]
  },
  {
   "cell_type": "code",
   "execution_count": 51,
   "metadata": {},
   "outputs": [
    {
     "name": "stdout",
     "output_type": "stream",
     "text": [
      "[main 7738508] alx-low_level_programming/0x0A-argc_argv/0-putchar\n",
      " 3 files changed, 99 insertions(+)\n",
      " create mode 100644 0x0A-argc_argv/4-add.c\n"
     ]
    },
    {
     "name": "stdout",
     "output_type": "stream",
     "text": [
      " create mode 100755 0x0A-argc_argv/add\n"
     ]
    },
    {
     "name": "stderr",
     "output_type": "stream",
     "text": [
      "To https://github.com/elkomysara/alx-low_level_programming.git\n",
      "   65d173e..7738508  main -> main\n"
     ]
    }
   ],
   "source": [
    "%%bash\n",
    "git add .\n",
    "git commit -m \"alx-low_level_programming/0x0A-argc_argv/0-putchar\"\n",
    "git push"
   ]
  },
  {
   "cell_type": "code",
   "execution_count": null,
   "metadata": {},
   "outputs": [],
   "source": []
  },
  {
   "cell_type": "markdown",
   "metadata": {},
   "source": [
    "###\n",
    "---\n",
    "<center>\n",
    "<h4>5. Minimal Number of Coins for Change</h4>\n",
    "</center>\n",
    "\n",
    "---"
   ]
  },
  {
   "cell_type": "markdown",
   "metadata": {},
   "source": [
    "\n",
    "#### Write a program that prints the minimum number of coins to make change for an amount of money.\n",
    "\n",
    "* Usage: `./change cents`\n",
    "* where `cents` is the amount of cents you need to give back\n",
    "* if the number of arguments passed to your program is not exactly `1`, print `Error`, followed by a new line, and return `1`\n",
    "* you should use `atoi` to parse the parameter passed to your program\n",
    "* If the number passed as the argument is negative, print `0`, followed by a new line\n",
    "* You can use an unlimited number of coins of values 25, 10, 5, 2, and 1 cent\n",
    "```bash\n",
    "julien@ubuntu:~/0x0A. argc, argv$ gcc -Wall -pedantic -Werror -Wextra -std=gnu89 100-change.c -o change\n",
    "julien@ubuntu:~/0x0A. argc, argv$ ./change \n",
    "Error\n",
    "julien@ubuntu:~/0x0A. argc, argv$ ./change 10\n",
    "1\n",
    "julien@ubuntu:~/0x0A. argc, argv$ ./change 100\n",
    "4\n",
    "julien@ubuntu:~/0x0A. argc, argv$ ./change 101\n",
    "5\n",
    "julien@ubuntu:~/0x0A. argc, argv$ ./change 13\n",
    "3\n",
    "julien@ubuntu:~/0x0A. argc, argv$  \n",
    "```\n",
    "#### Repo:\n",
    "* GitHub repository: ``` alx-low_level_programming ```\n",
    "* Directory: ```0x0A-argc_argv``` \n",
    "* File: ```100-change.c```"
   ]
  },
  {
   "cell_type": "code",
   "execution_count": 54,
   "metadata": {},
   "outputs": [
    {
     "name": "stdout",
     "output_type": "stream",
     "text": [
      "Overwriting 0x0A-argc_argv/100-change.c\n"
     ]
    }
   ],
   "source": [
    "%%file 0x0A-argc_argv/100-change.c\n",
    "#include <stdio.h>\n",
    "#include <stdlib.h>\n",
    "\n",
    "/**\n",
    "* main - Prints the minimum number of coins\n",
    "* to make change for an amount of money.\n",
    "* @argc: Argument count.\n",
    "* @argv: Argument vector.\n",
    "*\n",
    "* Return: 0 if successful, 1 if there are invalid arguments.\n",
    "*/\n",
    "int main(int argc, char *argv[])\n",
    "{\n",
    "int amount, coins = 0;\n",
    "\n",
    "if (argc != 2)\n",
    "{\n",
    "printf(\"Error\\n\");\n",
    "return (1);\n",
    "}\n",
    "\n",
    "amount = atoi(argv[1]);\n",
    "\n",
    "if (amount < 0)\n",
    "{\n",
    "printf(\"0\\n\");\n",
    "return (0);\n",
    "}\n",
    "\n",
    "while (amount > 0)\n",
    "{\n",
    "if (amount >= 25)\n",
    "amount -= 25;\n",
    "else if (amount >= 10)\n",
    "amount -= 10;\n",
    "else if (amount >= 5)\n",
    "amount -= 5;\n",
    "else if (amount >= 2)\n",
    "amount -= 2;\n",
    "else\n",
    "amount -= 1;\n",
    "\n",
    "coins++;\n",
    "}\n",
    "\n",
    "printf(\"%d\\n\", coins);\n",
    "return (0);\n",
    "}\n"
   ]
  },
  {
   "cell_type": "code",
   "execution_count": null,
   "metadata": {},
   "outputs": [
    {
     "name": "stdout",
     "output_type": "stream",
     "text": [
      "Overwriting 0x0A-argc_argv/main.h\n"
     ]
    }
   ],
   "source": [
    "%%file 0x0A-argc_argv/main.h\n",
    "#ifndef MAIN_H\n",
    "#define MAIN_H\n",
    "\n",
    "#include <stdio.h>\n",
    "\n",
    "int _putchar(char c);\n",
    "int main(int argc, char *argv[]);\n",
    "int multiply(int a, int b);\n",
    "int is_positive_number(char *s);\n",
    "int _strlen(char *s);\n",
    "int add_positive_numbers(int argc, char *argv[]);\n",
    "\n",
    "#endif /* MAIN_H */"
   ]
  },
  {
   "cell_type": "code",
   "execution_count": null,
   "metadata": {},
   "outputs": [
    {
     "name": "stdout",
     "output_type": "stream",
     "text": [
      "Overwriting 0x0A-argc_argv/_putchar.c\n"
     ]
    }
   ],
   "source": [
    "%%file 0x0A-argc_argv/_putchar.c\n",
    "#include <unistd.h>\n",
    "#include \"main.h\"\n",
    "/**\n",
    " * _putchar - writes the character c to stdout\n",
    " * @c: The character to print\n",
    " *\n",
    " * Return: On success 1.\n",
    " * On error, -1 is returned, and errno is set appropriately.\n",
    " */\n",
    "int _putchar(char c)\n",
    "{\n",
    "\treturn (write(1, &c, 1));\n",
    "}"
   ]
  },
  {
   "cell_type": "code",
   "execution_count": 55,
   "metadata": {},
   "outputs": [
    {
     "name": "stdout",
     "output_type": "stream",
     "text": [
      "\n",
      "========== 0x0A-argc_argv/100-change.c ==========\n",
      "main\n",
      "Error\n"
     ]
    },
    {
     "ename": "CalledProcessError",
     "evalue": "Command 'b'betty 0x0A-argc_argv/100-change.c\\ngcc -Wall -Werror -Wextra -pedantic -std=gnu89 0x0A-argc_argv/100-change.c -o 0x0A-argc_argv/change\\n./0x0A-argc_argv/change\\n'' returned non-zero exit status 1.",
     "output_type": "error",
     "traceback": [
      "\u001b[0;31m---------------------------------------------------------------------------\u001b[0m",
      "\u001b[0;31mCalledProcessError\u001b[0m                        Traceback (most recent call last)",
      "Cell \u001b[0;32mIn[55], line 1\u001b[0m\n\u001b[0;32m----> 1\u001b[0m \u001b[43mget_ipython\u001b[49m\u001b[43m(\u001b[49m\u001b[43m)\u001b[49m\u001b[38;5;241;43m.\u001b[39;49m\u001b[43mrun_cell_magic\u001b[49m\u001b[43m(\u001b[49m\u001b[38;5;124;43m'\u001b[39;49m\u001b[38;5;124;43mbash\u001b[39;49m\u001b[38;5;124;43m'\u001b[39;49m\u001b[43m,\u001b[49m\u001b[43m \u001b[49m\u001b[38;5;124;43m'\u001b[39;49m\u001b[38;5;124;43m'\u001b[39;49m\u001b[43m,\u001b[49m\u001b[43m \u001b[49m\u001b[38;5;124;43m'\u001b[39;49m\u001b[38;5;124;43mbetty 0x0A-argc_argv/100-change.c\u001b[39;49m\u001b[38;5;130;43;01m\\n\u001b[39;49;00m\u001b[38;5;124;43mgcc -Wall -Werror -Wextra -pedantic -std=gnu89 0x0A-argc_argv/100-change.c -o 0x0A-argc_argv/change\u001b[39;49m\u001b[38;5;130;43;01m\\n\u001b[39;49;00m\u001b[38;5;124;43m./0x0A-argc_argv/change\u001b[39;49m\u001b[38;5;130;43;01m\\n\u001b[39;49;00m\u001b[38;5;124;43m'\u001b[39;49m\u001b[43m)\u001b[49m\n",
      "File \u001b[0;32m~/anaconda3/envs/alxse/lib/python3.12/site-packages/IPython/core/interactiveshell.py:2541\u001b[0m, in \u001b[0;36mInteractiveShell.run_cell_magic\u001b[0;34m(self, magic_name, line, cell)\u001b[0m\n\u001b[1;32m   2539\u001b[0m \u001b[38;5;28;01mwith\u001b[39;00m \u001b[38;5;28mself\u001b[39m\u001b[38;5;241m.\u001b[39mbuiltin_trap:\n\u001b[1;32m   2540\u001b[0m     args \u001b[38;5;241m=\u001b[39m (magic_arg_s, cell)\n\u001b[0;32m-> 2541\u001b[0m     result \u001b[38;5;241m=\u001b[39m \u001b[43mfn\u001b[49m\u001b[43m(\u001b[49m\u001b[38;5;241;43m*\u001b[39;49m\u001b[43margs\u001b[49m\u001b[43m,\u001b[49m\u001b[43m \u001b[49m\u001b[38;5;241;43m*\u001b[39;49m\u001b[38;5;241;43m*\u001b[39;49m\u001b[43mkwargs\u001b[49m\u001b[43m)\u001b[49m\n\u001b[1;32m   2543\u001b[0m \u001b[38;5;66;03m# The code below prevents the output from being displayed\u001b[39;00m\n\u001b[1;32m   2544\u001b[0m \u001b[38;5;66;03m# when using magics with decorator @output_can_be_silenced\u001b[39;00m\n\u001b[1;32m   2545\u001b[0m \u001b[38;5;66;03m# when the last Python token in the expression is a ';'.\u001b[39;00m\n\u001b[1;32m   2546\u001b[0m \u001b[38;5;28;01mif\u001b[39;00m \u001b[38;5;28mgetattr\u001b[39m(fn, magic\u001b[38;5;241m.\u001b[39mMAGIC_OUTPUT_CAN_BE_SILENCED, \u001b[38;5;28;01mFalse\u001b[39;00m):\n",
      "File \u001b[0;32m~/anaconda3/envs/alxse/lib/python3.12/site-packages/IPython/core/magics/script.py:155\u001b[0m, in \u001b[0;36mScriptMagics._make_script_magic.<locals>.named_script_magic\u001b[0;34m(line, cell)\u001b[0m\n\u001b[1;32m    153\u001b[0m \u001b[38;5;28;01melse\u001b[39;00m:\n\u001b[1;32m    154\u001b[0m     line \u001b[38;5;241m=\u001b[39m script\n\u001b[0;32m--> 155\u001b[0m \u001b[38;5;28;01mreturn\u001b[39;00m \u001b[38;5;28;43mself\u001b[39;49m\u001b[38;5;241;43m.\u001b[39;49m\u001b[43mshebang\u001b[49m\u001b[43m(\u001b[49m\u001b[43mline\u001b[49m\u001b[43m,\u001b[49m\u001b[43m \u001b[49m\u001b[43mcell\u001b[49m\u001b[43m)\u001b[49m\n",
      "File \u001b[0;32m~/anaconda3/envs/alxse/lib/python3.12/site-packages/IPython/core/magics/script.py:315\u001b[0m, in \u001b[0;36mScriptMagics.shebang\u001b[0;34m(self, line, cell)\u001b[0m\n\u001b[1;32m    310\u001b[0m \u001b[38;5;28;01mif\u001b[39;00m args\u001b[38;5;241m.\u001b[39mraise_error \u001b[38;5;129;01mand\u001b[39;00m p\u001b[38;5;241m.\u001b[39mreturncode \u001b[38;5;241m!=\u001b[39m \u001b[38;5;241m0\u001b[39m:\n\u001b[1;32m    311\u001b[0m     \u001b[38;5;66;03m# If we get here and p.returncode is still None, we must have\u001b[39;00m\n\u001b[1;32m    312\u001b[0m     \u001b[38;5;66;03m# killed it but not yet seen its return code. We don't wait for it,\u001b[39;00m\n\u001b[1;32m    313\u001b[0m     \u001b[38;5;66;03m# in case it's stuck in uninterruptible sleep. -9 = SIGKILL\u001b[39;00m\n\u001b[1;32m    314\u001b[0m     rc \u001b[38;5;241m=\u001b[39m p\u001b[38;5;241m.\u001b[39mreturncode \u001b[38;5;129;01mor\u001b[39;00m \u001b[38;5;241m-\u001b[39m\u001b[38;5;241m9\u001b[39m\n\u001b[0;32m--> 315\u001b[0m     \u001b[38;5;28;01mraise\u001b[39;00m CalledProcessError(rc, cell)\n",
      "\u001b[0;31mCalledProcessError\u001b[0m: Command 'b'betty 0x0A-argc_argv/100-change.c\\ngcc -Wall -Werror -Wextra -pedantic -std=gnu89 0x0A-argc_argv/100-change.c -o 0x0A-argc_argv/change\\n./0x0A-argc_argv/change\\n'' returned non-zero exit status 1."
     ]
    }
   ],
   "source": [
    "%%bash\n",
    "betty 0x0A-argc_argv/100-change.c\n",
    "gcc -Wall -Werror -Wextra -pedantic -std=gnu89 0x0A-argc_argv/100-change.c -o 0x0A-argc_argv/change\n",
    "./0x0A-argc_argv/change\n"
   ]
  },
  {
   "cell_type": "code",
   "execution_count": 57,
   "metadata": {},
   "outputs": [
    {
     "name": "stdout",
     "output_type": "stream",
     "text": [
      "[main fc78b4b] alx-low_level_programming/0x0A-argc_argv/0-putchar\n",
      " 1 file changed, 1671 insertions(+), 48 deletions(-)\n"
     ]
    },
    {
     "name": "stderr",
     "output_type": "stream",
     "text": [
      "To https://github.com/elkomysara/alx-low_level_programming.git\n",
      "   22ca5b8..fc78b4b  main -> main\n"
     ]
    }
   ],
   "source": [
    "%%bash\n",
    "git add .\n",
    "git commit -m \"alx-low_level_programming/0x0A-argc_argv/0-putchar\"\n",
    "git push"
   ]
  },
  {
   "cell_type": "code",
   "execution_count": null,
   "metadata": {},
   "outputs": [],
   "source": []
  }
 ],
 "metadata": {
  "kernelspec": {
   "display_name": "Python 3",
   "language": "python",
   "name": "python3"
  },
  "language_info": {
   "codemirror_mode": {
    "name": "ipython",
    "version": 3
   },
   "file_extension": ".py",
   "mimetype": "text/x-python",
   "name": "python",
   "nbconvert_exporter": "python",
   "pygments_lexer": "ipython3",
   "version": "3.12.3"
  }
 },
 "nbformat": 4,
 "nbformat_minor": 2
}
