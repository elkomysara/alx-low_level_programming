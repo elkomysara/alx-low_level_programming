{
 "cells": [
  {
   "cell_type": "markdown",
   "metadata": {},
   "source": [
    "---\n",
    "<center>\n",
    "<h1>  alx-low_level_programming </h1>\n",
    "</center>\n",
    "\n",
    "---\n"
   ]
  },
  {
   "cell_type": "code",
   "execution_count": 1,
   "metadata": {},
   "outputs": [],
   "source": [
    "import os\n",
    "# creating 0x02-shell_redirectionss\n",
    "\n",
    "folder_path = r'/home/elkomy/alx/alx-low_level_programming/0x0B-malloc_free'\n",
    "if not os.path.exists(folder_path):\n",
    "    os.makedirs(folder_path)\n",
    "\n",
    "# Create a README.md inside alx-low_level_programming/0x0B-malloc_free\n",
    "file_path = os.path.join(folder_path, 'README.md')\n",
    "\n",
    "with open(file_path, 'w') as file:\n",
    "    file.write(\"This is a README.md file inside alx-low_level_programming/0x0B-malloc_free\")\n",
    "\n"
   ]
  },
  {
   "cell_type": "code",
   "execution_count": 3,
   "metadata": {},
   "outputs": [
    {
     "name": "stdout",
     "output_type": "stream",
     "text": [
      "Overwriting /home/elkomy/alx/alx-low_level_programming/0x07-pointers_arrays_strings/README.md\n"
     ]
    }
   ],
   "source": [
    "%%file /home/elkomy/alx/alx-low_level_programming/0x0B-malloc_free/README.md\n",
    "This is a README.md"
   ]
  },
  {
   "cell_type": "markdown",
   "metadata": {},
   "source": [
    "###\n",
    "---\n",
    "<center>\n",
    "<h1> 0x0B. C - malloc, free  </h1>\n",
    "</center>\n",
    "\n",
    "---\n"
   ]
  },
  {
   "cell_type": "markdown",
   "metadata": {},
   "source": [
    "###\n",
    "---\n",
    "<center>\n",
    "<h4> 0. Float like a butterfly, sting like a bee</h4>\n",
    "</center>\n",
    "\n",
    "---"
   ]
  },
  {
   "cell_type": "markdown",
   "metadata": {},
   "source": [
    "\n",
    "#### Write a function that creates an array of chars, and initializes it with a specific char.\n",
    "\n",
    "* Prototype: `char *create_array(unsigned int size, char c);`\n",
    "* Returns `NULL` if size = `0`\n",
    "* Returns a pointer to the array, or `NULL` if it fails\n",
    "```bash\n",
    "julien@ubuntu:~/0x0a. malloc, free$ cat 0-main.c \n",
    "#include \"main.h\"\n",
    "#include <stdio.h>\n",
    "#include <stdlib.h>\n",
    "\n",
    "/**\n",
    " * simple_print_buffer - prints buffer in hexa\n",
    " * @buffer: the address of memory to print\n",
    " * @size: the size of the memory to print\n",
    " *\n",
    " * Return: Nothing.\n",
    " */\n",
    "void simple_print_buffer(char *buffer, unsigned int size)\n",
    "{\n",
    "    unsigned int i;\n",
    "\n",
    "    i = 0;\n",
    "    while (i < size)\n",
    "    {\n",
    "        if (i % 10)\n",
    "        {\n",
    "            printf(\" \");\n",
    "        }\n",
    "        if (!(i % 10) && i)\n",
    "        {\n",
    "            printf(\"\\n\");\n",
    "        }\n",
    "        printf(\"0x%02x\", buffer[i]);\n",
    "        i++;\n",
    "    }\n",
    "    printf(\"\\n\");\n",
    "}\n",
    "\n",
    "/**\n",
    " * main - check the code for ALX School students.\n",
    " *\n",
    " * Return: Always 0.\n",
    " */\n",
    "int main(void)\n",
    "{\n",
    "    char *buffer;\n",
    "\n",
    "    buffer = create_array(98, 'H');\n",
    "    if  (buffer == NULL)\n",
    "    {\n",
    "        printf(\"failed to allocate memory\\n\");\n",
    "        return (1);\n",
    "    }\n",
    "    simple_print_buffer(buffer, 98);\n",
    "    free(buffer);\n",
    "    return (0);\n",
    "}\n",
    "julien@ubuntu:~/0x0a. malloc, free$ gcc -Wall -pedantic -Werror -Wextra -std=gnu89 0-main.c 0-create_array.c -o a\n",
    "julien@ubuntu:~/0x0a. malloc, free$ ./a \n",
    "0x48 0x48 0x48 0x48 0x48 0x48 0x48 0x48 0x48 0x48\n",
    "0x48 0x48 0x48 0x48 0x48 0x48 0x48 0x48 0x48 0x48\n",
    "0x48 0x48 0x48 0x48 0x48 0x48 0x48 0x48 0x48 0x48\n",
    "0x48 0x48 0x48 0x48 0x48 0x48 0x48 0x48 0x48 0x48\n",
    "0x48 0x48 0x48 0x48 0x48 0x48 0x48 0x48 0x48 0x48\n",
    "0x48 0x48 0x48 0x48 0x48 0x48 0x48 0x48 0x48 0x48\n",
    "0x48 0x48 0x48 0x48 0x48 0x48 0x48 0x48 0x48 0x48\n",
    "0x48 0x48 0x48 0x48 0x48 0x48 0x48 0x48 0x48 0x48\n",
    "0x48 0x48 0x48 0x48 0x48 0x48 0x48 0x48 0x48 0x48\n",
    "0x48 0x48 0x48 0x48 0x48 0x48 0x48 0x48\n",
    "julien@ubuntu:~/0x0a. malloc, free$ \n",
    "```\n",
    "#### Repo:\n",
    "* GitHub repository: ``` alx-low_level_programming ```\n",
    "* Directory: ```0x0B-malloc_free``` \n",
    "* File: ```0-create_array.c```"
   ]
  },
  {
   "cell_type": "code",
   "execution_count": 16,
   "metadata": {},
   "outputs": [
    {
     "name": "stdout",
     "output_type": "stream",
     "text": [
      "Overwriting 0x0B-malloc_free/0-create_array.c\n"
     ]
    }
   ],
   "source": [
    "%%file 0x0B-malloc_free/0-create_array.c\n",
    "#include \"main.h\"\n",
    "#include <stdlib.h>\n",
    "\n",
    "/**\n",
    "* create_array - Creates an array of chars\n",
    "* and initializes it with a specific char\n",
    "* @size: The size of the array to create\n",
    "* @c: The char to initialize the array with\n",
    "*\n",
    "* Return: Pointer to the created array (Success), NULL (Failure)\n",
    "*/\n",
    "char *create_array(unsigned int size, char c)\n",
    "{\n",
    "char *array;\n",
    "unsigned int i;\n",
    "\n",
    "if (size == 0)\n",
    "return (NULL);\n",
    "\n",
    "array = malloc(size * sizeof(char));\n",
    "if (array == NULL)\n",
    "return (NULL);\n",
    "\n",
    "for (i = 0; i < size; i++)\n",
    "array[i] = c;\n",
    "\n",
    "return (array);\n",
    "}\n"
   ]
  },
  {
   "cell_type": "code",
   "execution_count": 17,
   "metadata": {},
   "outputs": [
    {
     "name": "stdout",
     "output_type": "stream",
     "text": [
      "Overwriting 0x0B-malloc_free/0-main.c\n"
     ]
    }
   ],
   "source": [
    "%%file 0x0B-malloc_free/0-main.c\n",
    "#include \"main.h\"\n",
    "#include <stdio.h>\n",
    "#include <stdlib.h>\n",
    "\n",
    "/**\n",
    "* simple_print_buffer - prints buffer in hexa\n",
    "* @buffer: the address of memory to print\n",
    "* @size: the size of the memory to print\n",
    "*\n",
    "* Return: Nothing.\n",
    "*/\n",
    "void simple_print_buffer(char *buffer, unsigned int size)\n",
    "{\n",
    "unsigned int i;\n",
    "\n",
    "i = 0;\n",
    "while (i < size)\n",
    "{\n",
    "if (i % 10)\n",
    "{\n",
    "printf(\" \");\n",
    "}\n",
    "if (!(i % 10) && i)\n",
    "{\n",
    "printf(\"\\n\");\n",
    "}\n",
    "printf(\"0x%02x\", buffer[i]);\n",
    "i++;\n",
    "}\n",
    "printf(\"\\n\");\n",
    "}\n",
    "\n",
    "/**\n",
    "* main - check the code for ALX School students.\n",
    "*\n",
    "* Return: Always 0.\n",
    "*/\n",
    "int main(void)\n",
    "{\n",
    "char *buffer;\n",
    "\n",
    "buffer = create_array(98, 'H');\n",
    "if  (buffer == NULL)\n",
    "{\n",
    "printf(\"failed to allocate memory\\n\");\n",
    "return (1);\n",
    "}\n",
    "simple_print_buffer(buffer, 98);\n",
    "free(buffer);\n",
    "return (0);\n",
    "}\n"
   ]
  },
  {
   "cell_type": "code",
   "execution_count": 18,
   "metadata": {},
   "outputs": [
    {
     "name": "stdout",
     "output_type": "stream",
     "text": [
      "Overwriting 0x0B-malloc_free/main.h\n"
     ]
    }
   ],
   "source": [
    "%%file 0x0B-malloc_free/main.h\n",
    "#ifndef MAIN_H\n",
    "#define MAIN_H\n",
    "\n",
    "#include <stdio.h>\n",
    "\n",
    "int _putchar(char c);\n",
    "char *create_array(unsigned int size, char c);\n",
    "\n",
    "#endif /* MAIN_H */"
   ]
  },
  {
   "cell_type": "code",
   "execution_count": 19,
   "metadata": {},
   "outputs": [
    {
     "name": "stdout",
     "output_type": "stream",
     "text": [
      "Overwriting 0x0B-malloc_free/_putchar.c\n"
     ]
    }
   ],
   "source": [
    "%%file 0x0B-malloc_free/_putchar.c\n",
    "#include <unistd.h>\n",
    "#include \"main.h\"\n",
    "/**\n",
    " * _putchar - writes the character c to stdout\n",
    " * @c: The character to print\n",
    " *\n",
    " * Return: On success 1.\n",
    " * On error, -1 is returned, and errno is set appropriately.\n",
    " */\n",
    "int _putchar(char c)\n",
    "{\n",
    "\treturn (write(1, &c, 1));\n",
    "}"
   ]
  },
  {
   "cell_type": "code",
   "execution_count": 20,
   "metadata": {},
   "outputs": [
    {
     "name": "stdout",
     "output_type": "stream",
     "text": [
      "\n",
      "========== 0x0B-malloc_free/0-create_array.c ==========\n",
      "create_array\n",
      "0x48 0x48 0x48 0x48 0x48 0x48 0x48 0x48 0x48 0x48\n",
      "0x48 0x48 0x48 0x48 0x48 0x48 0x48 0x48 0x48 0x48\n",
      "0x48 0x48 0x48 0x48 0x48 0x48 0x48 0x48 0x48 0x48\n",
      "0x48 0x48 0x48 0x48 0x48 0x48 0x48 0x48 0x48 0x48\n",
      "0x48 0x48 0x48 0x48 0x48 0x48 0x48 0x48 0x48 0x48\n",
      "0x48 0x48 0x48 0x48 0x48 0x48 0x48 0x48 0x48 0x48\n",
      "0x48 0x48 0x48 0x48 0x48 0x48 0x48 0x48 0x48 0x48\n",
      "0x48 0x48 0x48 0x48 0x48 0x48 0x48 0x48 0x48 0x48\n",
      "0x48 0x48 0x48 0x48 0x48 0x48 0x48 0x48 0x48 0x48\n",
      "0x48 0x48 0x48 0x48 0x48 0x48 0x48 0x48\n"
     ]
    }
   ],
   "source": [
    "%%bash\n",
    "betty 0x0B-malloc_free/0-create_array.c\n",
    "gcc -Wall -pedantic -Werror -Wextra -std=gnu89 0x0B-malloc_free/0-main.c 0x0B-malloc_free/0-create_array.c -o 0x0B-malloc_free/a\n",
    "./0x0B-malloc_free/a\n"
   ]
  },
  {
   "cell_type": "code",
   "execution_count": 21,
   "metadata": {},
   "outputs": [
    {
     "name": "stdout",
     "output_type": "stream",
     "text": [
      "[main 22ca5b8] alx-low_level_programming/0x0B-malloc_free/0-putchar\n",
      " 7 files changed, 377 insertions(+)\n",
      " create mode 100644 0x0B-malloc_free/0-create_array.c\n",
      " create mode 100644 0x0B-malloc_free/0-main.c\n",
      " create mode 100644 0x0B-malloc_free/README.md\n",
      " create mode 100644 0x0B-malloc_free/_putchar.c\n",
      " create mode 100755 0x0B-malloc_free/a\n",
      " create mode 100644 0x0B-malloc_free/main.h\n",
      " create mode 100644 0x0B. C - malloc, free.ipynb\n"
     ]
    },
    {
     "name": "stderr",
     "output_type": "stream",
     "text": [
      "To https://github.com/elkomysara/alx-low_level_programming.git\n",
      "   4f08716..22ca5b8  main -> main\n"
     ]
    }
   ],
   "source": [
    "%%bash\n",
    "git add .\n",
    "git commit -m \"alx-low_level_programming/0x0B-malloc_free/0-putchar\"\n",
    "git push"
   ]
  },
  {
   "cell_type": "code",
   "execution_count": null,
   "metadata": {},
   "outputs": [],
   "source": []
  },
  {
   "cell_type": "markdown",
   "metadata": {},
   "source": [
    "###\n",
    "---\n",
    "<center>\n",
    "<h4>1. The woman who has no imagination has no wings</h4>\n",
    "</center>\n",
    "\n",
    "---"
   ]
  },
  {
   "cell_type": "markdown",
   "metadata": {},
   "source": [
    "\n",
    "#### Write a function that returns a pointer to a newly allocated space in memory, which contains a copy of the string given as a parameter.\n",
    "\n",
    "* Prototype: `char *_strdup(char *str);`\n",
    "* The `_strdup()` function returns a pointer to a new string which is a duplicate of the string `str`. Memory for the new string is obtained with `malloc`, and can be freed with `free`.\n",
    "* Returns `NULL` if str = NULL\n",
    "* On success, the `_strdup` function returns a pointer to the duplicated string. It returns `NULL` if insufficient memory was available\n",
    "FYI: The standard library provides a similar function: `strdup`. `Run man strdup` to learn more.\n",
    "```bash\n",
    "julien@ubuntu:~/0x0a. malloc, free$ cat 1-main.c\n",
    "#include \"main.h\"\n",
    "#include <stdio.h>\n",
    "#include <stdlib.h>\n",
    "\n",
    "/**\n",
    " * main - check the code for ALX School students.\n",
    " *\n",
    " * Return: Always 0.\n",
    " */\n",
    "int main(void)\n",
    "{\n",
    "    char *s;\n",
    "\n",
    "    s = _strdup(\"ALX SE\");\n",
    "    if (s == NULL)\n",
    "    {\n",
    "        printf(\"failed to allocate memory\\n\");\n",
    "        return (1);\n",
    "    }\n",
    "    printf(\"%s\\n\", s);\n",
    "    free(s);\n",
    "    return (0);\n",
    "}\n",
    "julien@ubuntu:~/0x0a. malloc, free$ gcc -Wall -pedantic -Werror -Wextra -std=gnu89 1-main.c 1-strdup.c -o s\n",
    "julien@ubuntu:~/0x0a. malloc, free$ ./s \n",
    "ALX SE\n",
    "julien@ubuntu:~/0x0a. malloc, free$  \n",
    "```\n",
    "#### Repo:\n",
    "* GitHub repository: ``` alx-low_level_programming ```\n",
    "* Directory: ```0x0B-malloc_free``` \n",
    "* File: ```1-strdup.c```"
   ]
  },
  {
   "cell_type": "code",
   "execution_count": 27,
   "metadata": {},
   "outputs": [
    {
     "name": "stdout",
     "output_type": "stream",
     "text": [
      "Overwriting 0x0B-malloc_free/1-strdup.c\n"
     ]
    }
   ],
   "source": [
    "%%file 0x0B-malloc_free/1-strdup.c\n",
    "#include \"main.h\"\n",
    "#include <stdlib.h>\n",
    "#include <string.h>\n",
    "\n",
    "/**\n",
    "* _strdup - returns a pointer to a newly allocated space in memory,\n",
    "*           which contains a copy of the string given as a parameter.\n",
    "* @str: the string to duplicate\n",
    "*\n",
    "* Return: pointer to the duplicated string, or NULL if insufficient memory\n",
    "*         was available or str is NULL.\n",
    "*/\n",
    "char *_strdup(char *str)\n",
    "{\n",
    "char *dup_str;\n",
    "int len;\n",
    "\n",
    "if (str == NULL)\n",
    "{\n",
    "return (NULL);\n",
    "}\n",
    "\n",
    "len = strlen(str);\n",
    "dup_str = malloc((len + 1) * sizeof(char));\n",
    "/* Allocate memory for the new string */\n",
    "\n",
    "if (dup_str == NULL)\n",
    "{\n",
    "return (NULL);\n",
    "/* Return NULL if malloc fails */\n",
    "}\n",
    "\n",
    "strcpy(dup_str, str);\n",
    "/* Copy the string to the newly allocated memory */\n",
    "return (dup_str);\n",
    "}\n"
   ]
  },
  {
   "cell_type": "code",
   "execution_count": 35,
   "metadata": {},
   "outputs": [
    {
     "name": "stdout",
     "output_type": "stream",
     "text": [
      "Overwriting 0x0B-malloc_free/1-main.c\n"
     ]
    }
   ],
   "source": [
    "%%file 0x0B-malloc_free/1-main.c\n",
    "#include <stdlib.h>\n",
    "#include <string.h>\n",
    "#include \"main.h\"\n",
    "\n",
    "/**\n",
    "* main - check the code for ALX School students.\n",
    "*\n",
    "* Return: Always 0.\n",
    "*/\n",
    "int main(void)\n",
    "{\n",
    "char *s;\n",
    "\n",
    "s = _strdup(\"ALX SE\");\n",
    "if (s == NULL)\n",
    "{\n",
    "printf(\"failed to allocate memory\\n\");\n",
    "return (1);\n",
    "}\n",
    "printf(\"%s\\n\", s);\n",
    "free(s);\n",
    "return (0);\n",
    "}"
   ]
  },
  {
   "cell_type": "code",
   "execution_count": 39,
   "metadata": {},
   "outputs": [
    {
     "name": "stdout",
     "output_type": "stream",
     "text": [
      "Overwriting 0x0B-malloc_free/main.h\n"
     ]
    }
   ],
   "source": [
    "%%file 0x0B-malloc_free/main.h\n",
    "#ifndef MAIN_H\n",
    "#define MAIN_H\n",
    "\n",
    "#include <stdio.h>\n",
    "\n",
    "int _putchar(char c);\n",
    "char *create_array(unsigned int size, char c);\n",
    "char *_strdup(char *str);\n",
    "\n",
    "#endif /* MAIN_H */"
   ]
  },
  {
   "cell_type": "code",
   "execution_count": 40,
   "metadata": {},
   "outputs": [
    {
     "name": "stdout",
     "output_type": "stream",
     "text": [
      "Overwriting 0x0B-malloc_free/_putchar.c\n"
     ]
    }
   ],
   "source": [
    "%%file 0x0B-malloc_free/_putchar.c\n",
    "#include <unistd.h>\n",
    "#include \"main.h\"\n",
    "/**\n",
    " * _putchar - writes the character c to stdout\n",
    " * @c: The character to print\n",
    " *\n",
    " * Return: On success 1.\n",
    " * On error, -1 is returned, and errno is set appropriately.\n",
    " */\n",
    "int _putchar(char c)\n",
    "{\n",
    "\treturn (write(1, &c, 1));\n",
    "}"
   ]
  },
  {
   "cell_type": "code",
   "execution_count": 41,
   "metadata": {},
   "outputs": [
    {
     "name": "stdout",
     "output_type": "stream",
     "text": [
      "\n",
      "========== 0x0B-malloc_free/1-strdup.c ==========\n",
      "_strdup\n",
      "ALX SE\n"
     ]
    }
   ],
   "source": [
    "%%bash\n",
    "betty 0x0B-malloc_free/1-strdup.c\n",
    "gcc -Wall -pedantic -Werror -Wextra -std=gnu89 0x0B-malloc_free/1-main.c 0x0B-malloc_free/1-strdup.c -o 0x0B-malloc_free/s\n",
    "./0x0B-malloc_free/s\n"
   ]
  },
  {
   "cell_type": "code",
   "execution_count": 42,
   "metadata": {},
   "outputs": [
    {
     "name": "stdout",
     "output_type": "stream",
     "text": [
      "[main b8f1727] alx-low_level_programming/0x0B-malloc_free/0-putchar\n",
      " 6 files changed, 1331 insertions(+), 80 deletions(-)\n",
      " rewrite 0x0B-malloc_free/0-main.c (91%)\n",
      " create mode 100644 0x0B-malloc_free/1-main.c\n",
      " create mode 100644 0x0B-malloc_free/1-strdup.c\n",
      " create mode 100755 0x0B-malloc_free/s\n"
     ]
    },
    {
     "name": "stderr",
     "output_type": "stream",
     "text": [
      "To https://github.com/elkomysara/alx-low_level_programming.git\n",
      "   fc78b4b..b8f1727  main -> main\n"
     ]
    }
   ],
   "source": [
    "%%bash\n",
    "git add .\n",
    "git commit -m \"alx-low_level_programming/0x0B-malloc_free/0-putchar\"\n",
    "git push"
   ]
  },
  {
   "cell_type": "markdown",
   "metadata": {},
   "source": [
    "###\n",
    "---\n",
    "<center>\n",
    "<h4> 1. Silence is argument carried out by other means</h4>\n",
    "</center>\n",
    "\n",
    "---"
   ]
  },
  {
   "cell_type": "markdown",
   "metadata": {},
   "source": [
    "\n",
    "#### Write a program that prints the number of arguments passed into it.\n",
    "\n",
    "* Your program should print a number, followed by a new line\n",
    "```bash\n",
    "julien@ubuntu:~/0x0A. argc, argv$ gcc -Wall -pedantic -Werror -Wextra -std=gnu89 1-args.c -o nargs\n",
    "julien@ubuntu:~/0x0A. argc, argv$ ./nargs \n",
    "0\n",
    "julien@ubuntu:~/0x0A. argc, argv$ ./nargs hello\n",
    "1\n",
    "julien@ubuntu:~/0x0A. argc, argv$ ./nargs \"hello, world\"\n",
    "1\n",
    "julien@ubuntu:~/0x0A. argc, argv$ ./nargs hello, world\n",
    "2\n",
    "julien@ubuntu:~/0x0A. argc, argv$ \n",
    "```\n",
    "#### Repo:\n",
    "* GitHub repository: ``` alx-low_level_programming ```\n",
    "* Directory: ```0x0A-argc_argv``` \n",
    "* File: ```1-args.c```"
   ]
  },
  {
   "cell_type": "code",
   "execution_count": 23,
   "metadata": {},
   "outputs": [
    {
     "name": "stdout",
     "output_type": "stream",
     "text": [
      "Overwriting 0x0A-argc_argv/1-args.c\n"
     ]
    }
   ],
   "source": [
    "%%file 0x0B-malloc_free/1-args.c\n",
    "#include <stdio.h>\n",
    "#include \"main.h\"\n",
    "\n",
    "/**\n",
    "* main - Prints the number of arguments passed into it.\n",
    "* @argc: Argument count.\n",
    "* @argv: Argument vector.\n",
    "*\n",
    "* Return: Always 0.\n",
    "*/\n",
    "int main(int argc, char *argv[])\n",
    "{\n",
    "(void)argv;  /* Suppress unused parameter warning */\n",
    "printf(\"%d\\n\", argc - 1);\n",
    "return (0);\n",
    "}"
   ]
  },
  {
   "cell_type": "code",
   "execution_count": null,
   "metadata": {},
   "outputs": [
    {
     "name": "stdout",
     "output_type": "stream",
     "text": [
      "Overwriting 0x0A-argc_argv/main.h\n"
     ]
    }
   ],
   "source": [
    "%%file 0x0B-malloc_free/main.h\n",
    "#ifndef MAIN_H\n",
    "#define MAIN_H\n",
    "\n",
    "#include <stdio.h>\n",
    "\n",
    "int _putchar(char c);\n",
    "int main(int argc, char *argv[]);\n",
    "\n",
    "#endif /* MAIN_H */"
   ]
  },
  {
   "cell_type": "code",
   "execution_count": null,
   "metadata": {},
   "outputs": [
    {
     "name": "stdout",
     "output_type": "stream",
     "text": [
      "Overwriting 0x0A-argc_argv/_putchar.c\n"
     ]
    }
   ],
   "source": [
    "%%file 0x0B-malloc_free/_putchar.c\n",
    "#include <unistd.h>\n",
    "#include \"main.h\"\n",
    "/**\n",
    " * _putchar - writes the character c to stdout\n",
    " * @c: The character to print\n",
    " *\n",
    " * Return: On success 1.\n",
    " * On error, -1 is returned, and errno is set appropriately.\n",
    " */\n",
    "int _putchar(char c)\n",
    "{\n",
    "\treturn (write(1, &c, 1));\n",
    "}"
   ]
  },
  {
   "cell_type": "code",
   "execution_count": 24,
   "metadata": {},
   "outputs": [
    {
     "name": "stdout",
     "output_type": "stream",
     "text": [
      "\n",
      "========== 0x0A-argc_argv/1-args.c ==========\n",
      "main\n",
      "0\n"
     ]
    }
   ],
   "source": [
    "%%bash\n",
    "betty 0x0B-malloc_free/1-args.c\n",
    "gcc -Wall -Werror -Wextra -pedantic -std=gnu89 0x0B-malloc_free/1-args.c -o 0x0B-malloc_free/nargs\n",
    "./0x0B-malloc_free/nargs\n"
   ]
  },
  {
   "cell_type": "code",
   "execution_count": 25,
   "metadata": {},
   "outputs": [
    {
     "name": "stdout",
     "output_type": "stream",
     "text": [
      "[main 6d37fc6] alx-low_level_programming/0x0A-argc_argv/0-putchar\n",
      " 2 files changed, 16 insertions(+)\n",
      " create mode 100644 0x0A-argc_argv/1-args.c\n"
     ]
    },
    {
     "name": "stdout",
     "output_type": "stream",
     "text": [
      " create mode 100755 0x0A-argc_argv/nargs\n"
     ]
    },
    {
     "name": "stderr",
     "output_type": "stream",
     "text": [
      "To https://github.com/elkomysara/alx-low_level_programming.git\n",
      "   0901c3e..6d37fc6  main -> main\n"
     ]
    }
   ],
   "source": [
    "%%bash\n",
    "git add .\n",
    "git commit -m \"alx-low_level_programming/0x0B-malloc_free/0-putchar\"\n",
    "git push"
   ]
  },
  {
   "cell_type": "code",
   "execution_count": null,
   "metadata": {},
   "outputs": [],
   "source": []
  },
  {
   "cell_type": "markdown",
   "metadata": {},
   "source": [
    "###\n",
    "---\n",
    "<center>\n",
    "<h4>2. The best argument against democracy is a five-minute conversation with the average voter</h4>\n",
    "</center>\n",
    "\n",
    "---"
   ]
  },
  {
   "cell_type": "markdown",
   "metadata": {},
   "source": [
    "\n",
    "#### Write a program that prints all arguments it receives.\n",
    "\n",
    "* All arguments should be printed, including the first one\n",
    "* Only print one argument per line, ending with a new line\n",
    "```bash\n",
    "julien@ubuntu:~/0x0A. argc, argv$ gcc -Wall -pedantic -Werror -Wextra -std=gnu89 2-args.c -o args\n",
    "julien@ubuntu:~/0x0A. argc, argv$ ./args \n",
    "./args\n",
    "julien@ubuntu:~/0x0A. argc, argv$ ./args You can do anything, but not everything.\n",
    "./args\n",
    "You\n",
    "can\n",
    "do\n",
    "anything,\n",
    "but\n",
    "not\n",
    "everything.\n",
    "julien@ubuntu:~/0x0A. argc, argv$ \n",
    "```\n",
    "#### Repo:\n",
    "* GitHub repository: ``` alx-low_level_programming ```\n",
    "* Directory: ```0x0A-argc_argv``` \n",
    "* File: ```2-args.c```"
   ]
  },
  {
   "cell_type": "code",
   "execution_count": 26,
   "metadata": {},
   "outputs": [
    {
     "name": "stdout",
     "output_type": "stream",
     "text": [
      "Writing 0x0A-argc_argv/2-args.c\n"
     ]
    }
   ],
   "source": [
    "%%file 0x0B-malloc_free/2-args.c\n",
    "#include <stdio.h>\n",
    "#include \"main.h\"\n",
    "\n",
    "/**\n",
    "* main - Prints all arguments it receives.\n",
    "* @argc: Argument count.\n",
    "* @argv: Argument vector.\n",
    "*\n",
    "* Return: Always 0.\n",
    "*/\n",
    "int main(int argc, char *argv[])\n",
    "{\n",
    "int i;\n",
    "\n",
    "for (i = 0; i < argc; i++)\n",
    "{\n",
    "printf(\"%s\\n\", argv[i]);\n",
    "}\n",
    "\n",
    "return (0);\n",
    "}\n"
   ]
  },
  {
   "cell_type": "code",
   "execution_count": null,
   "metadata": {},
   "outputs": [
    {
     "name": "stdout",
     "output_type": "stream",
     "text": [
      "Overwriting 0x0A-argc_argv/main.h\n"
     ]
    }
   ],
   "source": [
    "%%file 0x0B-malloc_free/main.h\n",
    "#ifndef MAIN_H\n",
    "#define MAIN_H\n",
    "\n",
    "#include <stdio.h>\n",
    "\n",
    "int _putchar(char c);\n",
    "int main(int argc, char *argv[]);\n",
    "\n",
    "#endif /* MAIN_H */"
   ]
  },
  {
   "cell_type": "code",
   "execution_count": null,
   "metadata": {},
   "outputs": [
    {
     "name": "stdout",
     "output_type": "stream",
     "text": [
      "Overwriting 0x0A-argc_argv/_putchar.c\n"
     ]
    }
   ],
   "source": [
    "%%file 0x0B-malloc_free/_putchar.c\n",
    "#include <unistd.h>\n",
    "#include \"main.h\"\n",
    "/**\n",
    " * _putchar - writes the character c to stdout\n",
    " * @c: The character to print\n",
    " *\n",
    " * Return: On success 1.\n",
    " * On error, -1 is returned, and errno is set appropriately.\n",
    " */\n",
    "int _putchar(char c)\n",
    "{\n",
    "\treturn (write(1, &c, 1));\n",
    "}"
   ]
  },
  {
   "cell_type": "code",
   "execution_count": 27,
   "metadata": {},
   "outputs": [
    {
     "name": "stdout",
     "output_type": "stream",
     "text": [
      "\n",
      "========== 0x0A-argc_argv/2-args.c ==========\n"
     ]
    },
    {
     "name": "stdout",
     "output_type": "stream",
     "text": [
      "main\n",
      "./0x0A-argc_argv/args\n"
     ]
    }
   ],
   "source": [
    "%%bash\n",
    "betty 0x0B-malloc_free/2-args.c\n",
    "gcc -Wall -Werror -Wextra -pedantic -std=gnu89 0x0B-malloc_free/2-args.c -o 0x0B-malloc_free/args\n",
    "./0x0B-malloc_free/args\n"
   ]
  },
  {
   "cell_type": "code",
   "execution_count": 28,
   "metadata": {},
   "outputs": [
    {
     "name": "stdout",
     "output_type": "stream",
     "text": [
      "[main b59fc15] alx-low_level_programming/0x0A-argc_argv/0-putchar\n",
      " 2 files changed, 21 insertions(+)\n",
      " create mode 100644 0x0A-argc_argv/2-args.c\n",
      " create mode 100755 0x0A-argc_argv/args\n"
     ]
    },
    {
     "name": "stderr",
     "output_type": "stream",
     "text": [
      "To https://github.com/elkomysara/alx-low_level_programming.git\n",
      "   6d37fc6..b59fc15  main -> main\n"
     ]
    }
   ],
   "source": [
    "%%bash\n",
    "git add .\n",
    "git commit -m \"alx-low_level_programming/0x0B-malloc_free/0-putchar\"\n",
    "git push"
   ]
  },
  {
   "cell_type": "code",
   "execution_count": null,
   "metadata": {},
   "outputs": [],
   "source": []
  },
  {
   "cell_type": "markdown",
   "metadata": {},
   "source": [
    "###\n",
    "---\n",
    "<center>\n",
    "<h4>3. Neither irony nor sarcasm is argument</h4>\n",
    "</center>\n",
    "\n",
    "---"
   ]
  },
  {
   "cell_type": "markdown",
   "metadata": {},
   "source": [
    "\n",
    "#### Write a program that multiplies two numbers.\n",
    "\n",
    "* Your program should print the result of the multiplication, followed by a new line\n",
    "* You can assume that the two numbers and result of the multiplication can be stored in an integer\n",
    "* If the program does not receive two arguments, your program should print `Error`, followed by a new line, and return `1`\n",
    "```bash\n",
    "julien@ubuntu:~/0x0A. argc, argv$ gcc -Wall -pedantic -Werror -Wextra -std=gnu89 3-mul.c -o mul\n",
    "julien@ubuntu:~/0x0A. argc, argv$ ./mul 2 3\n",
    "6\n",
    "julien@ubuntu:~/0x0A. argc, argv$ ./mul 2 -3\n",
    "-6\n",
    "julien@ubuntu:~/0x0A. argc, argv$ ./mul 2 0\n",
    "0\n",
    "julien@ubuntu:~/0x0A. argc, argv$ ./mul 245 3245342\n",
    "795108790\n",
    "julien@ubuntu:~/0x0A. argc, argv$ ./mul\n",
    "Error\n",
    "julien@ubuntu:~/0x0A. argc, argv$\n",
    "```\n",
    "#### Repo:\n",
    "* GitHub repository: ``` alx-low_level_programming ```\n",
    "* Directory: ```0x0A-argc_argv``` \n",
    "* File: ```3-mul.c```"
   ]
  },
  {
   "cell_type": "code",
   "execution_count": 33,
   "metadata": {},
   "outputs": [
    {
     "name": "stdout",
     "output_type": "stream",
     "text": [
      "Overwriting 0x0A-argc_argv/3-mul.c\n"
     ]
    }
   ],
   "source": [
    "%%file 0x0B-malloc_free/3-mul.c\n",
    "#include <stdio.h>\n",
    "#include <stdlib.h>\n",
    "#include \"main.h\"\n",
    "\n",
    "/**\n",
    "* main - Multiplies two numbers.\n",
    "* @argc: Argument count.\n",
    "* @argv: Argument vector.\n",
    "*\n",
    "* Return: 0 if successful, 1 if there are not exactly two arguments.\n",
    "*/\n",
    "int main(int argc, char *argv[])\n",
    "{\n",
    "int num1, num2, result;\n",
    "\n",
    "if (argc != 3)\n",
    "{\n",
    "printf(\"Error\\n\");\n",
    "return (1);\n",
    "}\n",
    "\n",
    "num1 = atoi(argv[1]);\n",
    "num2 = atoi(argv[2]);\n",
    "result = multiply(num1, num2);\n",
    "\n",
    "printf(\"%d\\n\", result);\n",
    "\n",
    "return (0);\n",
    "}\n",
    "\n",
    "/**\n",
    "* multiply - Multiplies two integers.\n",
    "* @a: First integer.\n",
    "* @b: Second integer.\n",
    "*\n",
    "* Return: The product of a and b.\n",
    "*/\n",
    "int multiply(int a, int b)\n",
    "{\n",
    "return (a * b);\n",
    "}\n",
    "\n"
   ]
  },
  {
   "cell_type": "code",
   "execution_count": 34,
   "metadata": {},
   "outputs": [
    {
     "name": "stdout",
     "output_type": "stream",
     "text": [
      "Overwriting 0x0A-argc_argv/main.h\n"
     ]
    }
   ],
   "source": [
    "%%file 0x0B-malloc_free/main.h\n",
    "#ifndef MAIN_H\n",
    "#define MAIN_H\n",
    "\n",
    "#include <stdio.h>\n",
    "\n",
    "int _putchar(char c);\n",
    "int main(int argc, char *argv[]);\n",
    "int multiply(int a, int b);\n",
    "\n",
    "#endif /* MAIN_H */"
   ]
  },
  {
   "cell_type": "code",
   "execution_count": 35,
   "metadata": {},
   "outputs": [
    {
     "name": "stdout",
     "output_type": "stream",
     "text": [
      "Overwriting 0x0A-argc_argv/_putchar.c\n"
     ]
    }
   ],
   "source": [
    "%%file 0x0B-malloc_free/_putchar.c\n",
    "#include <unistd.h>\n",
    "#include \"main.h\"\n",
    "/**\n",
    " * _putchar - writes the character c to stdout\n",
    " * @c: The character to print\n",
    " *\n",
    " * Return: On success 1.\n",
    " * On error, -1 is returned, and errno is set appropriately.\n",
    " */\n",
    "int _putchar(char c)\n",
    "{\n",
    "\treturn (write(1, &c, 1));\n",
    "}"
   ]
  },
  {
   "cell_type": "code",
   "execution_count": 36,
   "metadata": {},
   "outputs": [
    {
     "name": "stdout",
     "output_type": "stream",
     "text": [
      "\n",
      "========== 0x0A-argc_argv/3-mul.c ==========\n",
      "main\n",
      "multiply\n",
      "Error\n"
     ]
    },
    {
     "ename": "CalledProcessError",
     "evalue": "Command 'b'betty 0x0A-argc_argv/3-mul.c\\ngcc -Wall -Werror -Wextra -pedantic -std=gnu89 0x0A-argc_argv/3-mul.c -o 0x0A-argc_argv/mul\\n./0x0A-argc_argv/mul\\n'' returned non-zero exit status 1.",
     "output_type": "error",
     "traceback": [
      "\u001b[0;31m---------------------------------------------------------------------------\u001b[0m",
      "\u001b[0;31mCalledProcessError\u001b[0m                        Traceback (most recent call last)",
      "Cell \u001b[0;32mIn[36], line 1\u001b[0m\n\u001b[0;32m----> 1\u001b[0m \u001b[43mget_ipython\u001b[49m\u001b[43m(\u001b[49m\u001b[43m)\u001b[49m\u001b[38;5;241;43m.\u001b[39;49m\u001b[43mrun_cell_magic\u001b[49m\u001b[43m(\u001b[49m\u001b[38;5;124;43m'\u001b[39;49m\u001b[38;5;124;43mbash\u001b[39;49m\u001b[38;5;124;43m'\u001b[39;49m\u001b[43m,\u001b[49m\u001b[43m \u001b[49m\u001b[38;5;124;43m'\u001b[39;49m\u001b[38;5;124;43m'\u001b[39;49m\u001b[43m,\u001b[49m\u001b[43m \u001b[49m\u001b[38;5;124;43m'\u001b[39;49m\u001b[38;5;124;43mbetty 0x0A-argc_argv/3-mul.c\u001b[39;49m\u001b[38;5;130;43;01m\\n\u001b[39;49;00m\u001b[38;5;124;43mgcc -Wall -Werror -Wextra -pedantic -std=gnu89 0x0A-argc_argv/3-mul.c -o 0x0A-argc_argv/mul\u001b[39;49m\u001b[38;5;130;43;01m\\n\u001b[39;49;00m\u001b[38;5;124;43m./0x0A-argc_argv/mul\u001b[39;49m\u001b[38;5;130;43;01m\\n\u001b[39;49;00m\u001b[38;5;124;43m'\u001b[39;49m\u001b[43m)\u001b[49m\n",
      "File \u001b[0;32m~/anaconda3/envs/alxse/lib/python3.12/site-packages/IPython/core/interactiveshell.py:2541\u001b[0m, in \u001b[0;36mInteractiveShell.run_cell_magic\u001b[0;34m(self, magic_name, line, cell)\u001b[0m\n\u001b[1;32m   2539\u001b[0m \u001b[38;5;28;01mwith\u001b[39;00m \u001b[38;5;28mself\u001b[39m\u001b[38;5;241m.\u001b[39mbuiltin_trap:\n\u001b[1;32m   2540\u001b[0m     args \u001b[38;5;241m=\u001b[39m (magic_arg_s, cell)\n\u001b[0;32m-> 2541\u001b[0m     result \u001b[38;5;241m=\u001b[39m \u001b[43mfn\u001b[49m\u001b[43m(\u001b[49m\u001b[38;5;241;43m*\u001b[39;49m\u001b[43margs\u001b[49m\u001b[43m,\u001b[49m\u001b[43m \u001b[49m\u001b[38;5;241;43m*\u001b[39;49m\u001b[38;5;241;43m*\u001b[39;49m\u001b[43mkwargs\u001b[49m\u001b[43m)\u001b[49m\n\u001b[1;32m   2543\u001b[0m \u001b[38;5;66;03m# The code below prevents the output from being displayed\u001b[39;00m\n\u001b[1;32m   2544\u001b[0m \u001b[38;5;66;03m# when using magics with decorator @output_can_be_silenced\u001b[39;00m\n\u001b[1;32m   2545\u001b[0m \u001b[38;5;66;03m# when the last Python token in the expression is a ';'.\u001b[39;00m\n\u001b[1;32m   2546\u001b[0m \u001b[38;5;28;01mif\u001b[39;00m \u001b[38;5;28mgetattr\u001b[39m(fn, magic\u001b[38;5;241m.\u001b[39mMAGIC_OUTPUT_CAN_BE_SILENCED, \u001b[38;5;28;01mFalse\u001b[39;00m):\n",
      "File \u001b[0;32m~/anaconda3/envs/alxse/lib/python3.12/site-packages/IPython/core/magics/script.py:155\u001b[0m, in \u001b[0;36mScriptMagics._make_script_magic.<locals>.named_script_magic\u001b[0;34m(line, cell)\u001b[0m\n\u001b[1;32m    153\u001b[0m \u001b[38;5;28;01melse\u001b[39;00m:\n\u001b[1;32m    154\u001b[0m     line \u001b[38;5;241m=\u001b[39m script\n\u001b[0;32m--> 155\u001b[0m \u001b[38;5;28;01mreturn\u001b[39;00m \u001b[38;5;28;43mself\u001b[39;49m\u001b[38;5;241;43m.\u001b[39;49m\u001b[43mshebang\u001b[49m\u001b[43m(\u001b[49m\u001b[43mline\u001b[49m\u001b[43m,\u001b[49m\u001b[43m \u001b[49m\u001b[43mcell\u001b[49m\u001b[43m)\u001b[49m\n",
      "File \u001b[0;32m~/anaconda3/envs/alxse/lib/python3.12/site-packages/IPython/core/magics/script.py:315\u001b[0m, in \u001b[0;36mScriptMagics.shebang\u001b[0;34m(self, line, cell)\u001b[0m\n\u001b[1;32m    310\u001b[0m \u001b[38;5;28;01mif\u001b[39;00m args\u001b[38;5;241m.\u001b[39mraise_error \u001b[38;5;129;01mand\u001b[39;00m p\u001b[38;5;241m.\u001b[39mreturncode \u001b[38;5;241m!=\u001b[39m \u001b[38;5;241m0\u001b[39m:\n\u001b[1;32m    311\u001b[0m     \u001b[38;5;66;03m# If we get here and p.returncode is still None, we must have\u001b[39;00m\n\u001b[1;32m    312\u001b[0m     \u001b[38;5;66;03m# killed it but not yet seen its return code. We don't wait for it,\u001b[39;00m\n\u001b[1;32m    313\u001b[0m     \u001b[38;5;66;03m# in case it's stuck in uninterruptible sleep. -9 = SIGKILL\u001b[39;00m\n\u001b[1;32m    314\u001b[0m     rc \u001b[38;5;241m=\u001b[39m p\u001b[38;5;241m.\u001b[39mreturncode \u001b[38;5;129;01mor\u001b[39;00m \u001b[38;5;241m-\u001b[39m\u001b[38;5;241m9\u001b[39m\n\u001b[0;32m--> 315\u001b[0m     \u001b[38;5;28;01mraise\u001b[39;00m CalledProcessError(rc, cell)\n",
      "\u001b[0;31mCalledProcessError\u001b[0m: Command 'b'betty 0x0A-argc_argv/3-mul.c\\ngcc -Wall -Werror -Wextra -pedantic -std=gnu89 0x0A-argc_argv/3-mul.c -o 0x0A-argc_argv/mul\\n./0x0A-argc_argv/mul\\n'' returned non-zero exit status 1."
     ]
    }
   ],
   "source": [
    "%%bash\n",
    "betty 0x0B-malloc_free/3-mul.c\n",
    "gcc -Wall -Werror -Wextra -pedantic -std=gnu89 0x0B-malloc_free/3-mul.c -o 0x0B-malloc_free/mul\n",
    "./0x0B-malloc_free/mul\n"
   ]
  },
  {
   "cell_type": "code",
   "execution_count": 37,
   "metadata": {},
   "outputs": [
    {
     "name": "stdout",
     "output_type": "stream",
     "text": [
      "[main 65d173e] alx-low_level_programming/0x0A-argc_argv/0-putchar\n"
     ]
    },
    {
     "name": "stdout",
     "output_type": "stream",
     "text": [
      " 3 files changed, 43 insertions(+)\n",
      " create mode 100644 0x0A-argc_argv/3-mul.c\n",
      " create mode 100755 0x0A-argc_argv/mul\n"
     ]
    },
    {
     "name": "stderr",
     "output_type": "stream",
     "text": [
      "To https://github.com/elkomysara/alx-low_level_programming.git\n",
      "   b59fc15..65d173e  main -> main\n"
     ]
    }
   ],
   "source": [
    "%%bash\n",
    "git add .\n",
    "git commit -m \"alx-low_level_programming/0x0B-malloc_free/0-putchar\"\n",
    "git push"
   ]
  },
  {
   "cell_type": "code",
   "execution_count": null,
   "metadata": {},
   "outputs": [],
   "source": []
  },
  {
   "cell_type": "markdown",
   "metadata": {},
   "source": [
    "###\n",
    "---\n",
    "<center>\n",
    "<h4>4. To infinity and beyond</h4>\n",
    "</center>\n",
    "\n",
    "---"
   ]
  },
  {
   "cell_type": "markdown",
   "metadata": {},
   "source": [
    "\n",
    "#### Write a program that adds positive numbers.\n",
    "\n",
    "* Print the result, followed by a new line\n",
    "* If no number is passed to the program, print `0`, followed by a new line\n",
    "* If one of the number contains symbols that are not digits, print `Error`, followed by a new line, and return `1`\n",
    "* You can assume that numbers and the addition of all the numbers can be stored in an `int`\n",
    "```bash\n",
    "julien@ubuntu:~/0x0A. argc, argv$ gcc -Wall -pedantic -Werror -Wextra -std=gnu89 4-add.c -o add\n",
    "julien@ubuntu:~/0x0A. argc, argv$ ./add 1 1\n",
    "2\n",
    "julien@ubuntu:~/0x0A. argc, argv$ ./add 1 10 100 1000\n",
    "1111\n",
    "julien@ubuntu:~/0x0A. argc, argv$ ./add 1 2 3 e 4 5\n",
    "Error\n",
    "julien@ubuntu:~/0x0A. argc, argv$ ./add\n",
    "0\n",
    "julien@ubuntu:~/0x0A. argc, argv$ \n",
    "```\n",
    "#### Repo:\n",
    "* GitHub repository: ``` alx-low_level_programming ```\n",
    "* Directory: ```0x0A-argc_argv``` \n",
    "* File: ```4-add.c```"
   ]
  },
  {
   "cell_type": "code",
   "execution_count": 47,
   "metadata": {},
   "outputs": [
    {
     "name": "stdout",
     "output_type": "stream",
     "text": [
      "Overwriting 0x0A-argc_argv/4-add.c\n"
     ]
    }
   ],
   "source": [
    "%%file 0x0B-malloc_free/4-add.c\n",
    "#include <stdio.h>\n",
    "#include <stdlib.h>\n",
    "#include \"main.h\"\n",
    "\n",
    "/**\n",
    "* main - Adds positive numbers passed as arguments.\n",
    "* @argc: Argument count.\n",
    "* @argv: Argument vector.\n",
    "*\n",
    "* Return: 0 if successful, 1 if there are invalid arguments.\n",
    "*/\n",
    "int main(int argc, char *argv[])\n",
    "{\n",
    "int sum;\n",
    "\n",
    "if (argc < 2)\n",
    "{\n",
    "printf(\"0\\n\");\n",
    "return (0);\n",
    "}\n",
    "\n",
    "sum = add_positive_numbers(argc, argv);\n",
    "\n",
    "if (sum == -1)\n",
    "{\n",
    "printf(\"Error\\n\");\n",
    "return (1);\n",
    "}\n",
    "\n",
    "printf(\"%d\\n\", sum);\n",
    "return (0);\n",
    "}\n",
    "\n",
    "/**\n",
    "* add_positive_numbers - Adds all positive numbers in argv.\n",
    "* @argc: Argument count.\n",
    "* @argv: Argument vector.\n",
    "*\n",
    "* Return: Sum of positive numbers, or -1 on error.\n",
    "*/\n",
    "int add_positive_numbers(int argc, char *argv[])\n",
    "{\n",
    "int i, sum = 0;\n",
    "\n",
    "for (i = 1; i < argc; i++)\n",
    "{\n",
    "if (is_positive_number(argv[i]))\n",
    "{\n",
    "sum += atoi(argv[i]);\n",
    "}\n",
    "else\n",
    "{\n",
    "return (-1);\n",
    "}\n",
    "}\n",
    "\n",
    "return (sum);\n",
    "}\n",
    "\n",
    "/**\n",
    "* is_positive_number - Checks if a string is a positive number.\n",
    "* @s: String to check.\n",
    "*\n",
    "* Return: 1 if true, 0 if false.\n",
    "*/\n",
    "int is_positive_number(char *s)\n",
    "{\n",
    "int i;\n",
    "\n",
    "if (_strlen(s) == 0)\n",
    "return (0);\n",
    "\n",
    "for (i = 0; s[i] != '\\0'; i++)\n",
    "{\n",
    "if (s[i] < '0' || s[i] > '9')\n",
    "return (0);\n",
    "}\n",
    "\n",
    "return (1);\n",
    "}\n",
    "\n",
    "/**\n",
    "* _strlen - Computes the length of a string.\n",
    "* @s: String to compute length of.\n",
    "*\n",
    "* Return: Length of the string.\n",
    "*/\n",
    "int _strlen(char *s)\n",
    "{\n",
    "int len = 0;\n",
    "\n",
    "while (s[len] != '\\0')\n",
    "len++;\n",
    "\n",
    "return (len);\n",
    "}"
   ]
  },
  {
   "cell_type": "code",
   "execution_count": 48,
   "metadata": {},
   "outputs": [
    {
     "name": "stdout",
     "output_type": "stream",
     "text": [
      "Overwriting 0x0A-argc_argv/main.h\n"
     ]
    }
   ],
   "source": [
    "%%file 0x0B-malloc_free/main.h\n",
    "#ifndef MAIN_H\n",
    "#define MAIN_H\n",
    "\n",
    "#include <stdio.h>\n",
    "\n",
    "int _putchar(char c);\n",
    "int main(int argc, char *argv[]);\n",
    "int multiply(int a, int b);\n",
    "int is_positive_number(char *s);\n",
    "int _strlen(char *s);\n",
    "int add_positive_numbers(int argc, char *argv[]);\n",
    "\n",
    "#endif /* MAIN_H */"
   ]
  },
  {
   "cell_type": "code",
   "execution_count": 49,
   "metadata": {},
   "outputs": [
    {
     "name": "stdout",
     "output_type": "stream",
     "text": [
      "Overwriting 0x0A-argc_argv/_putchar.c\n"
     ]
    }
   ],
   "source": [
    "%%file 0x0B-malloc_free/_putchar.c\n",
    "#include <unistd.h>\n",
    "#include \"main.h\"\n",
    "/**\n",
    " * _putchar - writes the character c to stdout\n",
    " * @c: The character to print\n",
    " *\n",
    " * Return: On success 1.\n",
    " * On error, -1 is returned, and errno is set appropriately.\n",
    " */\n",
    "int _putchar(char c)\n",
    "{\n",
    "\treturn (write(1, &c, 1));\n",
    "}"
   ]
  },
  {
   "cell_type": "code",
   "execution_count": 50,
   "metadata": {},
   "outputs": [
    {
     "name": "stdout",
     "output_type": "stream",
     "text": [
      "\n",
      "========== 0x0A-argc_argv/4-add.c ==========\n",
      "main\n",
      "add_positive_numbers\n",
      "is_positive_number\n",
      "_strlen\n",
      "0\n"
     ]
    }
   ],
   "source": [
    "%%bash\n",
    "betty 0x0B-malloc_free/4-add.c\n",
    "gcc -Wall -Werror -Wextra -pedantic -std=gnu89 0x0B-malloc_free/4-add.c -o 0x0B-malloc_free/add\n",
    "./0x0B-malloc_free/add\n"
   ]
  },
  {
   "cell_type": "code",
   "execution_count": 51,
   "metadata": {},
   "outputs": [
    {
     "name": "stdout",
     "output_type": "stream",
     "text": [
      "[main 7738508] alx-low_level_programming/0x0A-argc_argv/0-putchar\n",
      " 3 files changed, 99 insertions(+)\n",
      " create mode 100644 0x0A-argc_argv/4-add.c\n"
     ]
    },
    {
     "name": "stdout",
     "output_type": "stream",
     "text": [
      " create mode 100755 0x0A-argc_argv/add\n"
     ]
    },
    {
     "name": "stderr",
     "output_type": "stream",
     "text": [
      "To https://github.com/elkomysara/alx-low_level_programming.git\n",
      "   65d173e..7738508  main -> main\n"
     ]
    }
   ],
   "source": [
    "%%bash\n",
    "git add .\n",
    "git commit -m \"alx-low_level_programming/0x0B-malloc_free/0-putchar\"\n",
    "git push"
   ]
  },
  {
   "cell_type": "code",
   "execution_count": null,
   "metadata": {},
   "outputs": [],
   "source": []
  },
  {
   "cell_type": "markdown",
   "metadata": {},
   "source": [
    "###\n",
    "---\n",
    "<center>\n",
    "<h4>5. Minimal Number of Coins for Change</h4>\n",
    "</center>\n",
    "\n",
    "---"
   ]
  },
  {
   "cell_type": "markdown",
   "metadata": {},
   "source": [
    "\n",
    "#### Write a program that prints the minimum number of coins to make change for an amount of money.\n",
    "\n",
    "* Usage: `./change cents`\n",
    "* where `cents` is the amount of cents you need to give back\n",
    "* if the number of arguments passed to your program is not exactly `1`, print `Error`, followed by a new line, and return `1`\n",
    "* you should use `atoi` to parse the parameter passed to your program\n",
    "* If the number passed as the argument is negative, print `0`, followed by a new line\n",
    "* You can use an unlimited number of coins of values 25, 10, 5, 2, and 1 cent\n",
    "```bash\n",
    "julien@ubuntu:~/0x0A. argc, argv$ gcc -Wall -pedantic -Werror -Wextra -std=gnu89 100-change.c -o change\n",
    "julien@ubuntu:~/0x0A. argc, argv$ ./change \n",
    "Error\n",
    "julien@ubuntu:~/0x0A. argc, argv$ ./change 10\n",
    "1\n",
    "julien@ubuntu:~/0x0A. argc, argv$ ./change 100\n",
    "4\n",
    "julien@ubuntu:~/0x0A. argc, argv$ ./change 101\n",
    "5\n",
    "julien@ubuntu:~/0x0A. argc, argv$ ./change 13\n",
    "3\n",
    "julien@ubuntu:~/0x0A. argc, argv$  \n",
    "```\n",
    "#### Repo:\n",
    "* GitHub repository: ``` alx-low_level_programming ```\n",
    "* Directory: ```0x0A-argc_argv``` \n",
    "* File: ```100-change.c```"
   ]
  },
  {
   "cell_type": "code",
   "execution_count": 54,
   "metadata": {},
   "outputs": [
    {
     "name": "stdout",
     "output_type": "stream",
     "text": [
      "Overwriting 0x0A-argc_argv/100-change.c\n"
     ]
    }
   ],
   "source": [
    "%%file 0x0B-malloc_free/100-change.c\n",
    "#include <stdio.h>\n",
    "#include <stdlib.h>\n",
    "\n",
    "/**\n",
    "* main - Prints the minimum number of coins\n",
    "* to make change for an amount of money.\n",
    "* @argc: Argument count.\n",
    "* @argv: Argument vector.\n",
    "*\n",
    "* Return: 0 if successful, 1 if there are invalid arguments.\n",
    "*/\n",
    "int main(int argc, char *argv[])\n",
    "{\n",
    "int amount, coins = 0;\n",
    "\n",
    "if (argc != 2)\n",
    "{\n",
    "printf(\"Error\\n\");\n",
    "return (1);\n",
    "}\n",
    "\n",
    "amount = atoi(argv[1]);\n",
    "\n",
    "if (amount < 0)\n",
    "{\n",
    "printf(\"0\\n\");\n",
    "return (0);\n",
    "}\n",
    "\n",
    "while (amount > 0)\n",
    "{\n",
    "if (amount >= 25)\n",
    "amount -= 25;\n",
    "else if (amount >= 10)\n",
    "amount -= 10;\n",
    "else if (amount >= 5)\n",
    "amount -= 5;\n",
    "else if (amount >= 2)\n",
    "amount -= 2;\n",
    "else\n",
    "amount -= 1;\n",
    "\n",
    "coins++;\n",
    "}\n",
    "\n",
    "printf(\"%d\\n\", coins);\n",
    "return (0);\n",
    "}\n"
   ]
  },
  {
   "cell_type": "code",
   "execution_count": null,
   "metadata": {},
   "outputs": [
    {
     "name": "stdout",
     "output_type": "stream",
     "text": [
      "Overwriting 0x0A-argc_argv/main.h\n"
     ]
    }
   ],
   "source": [
    "%%file 0x0B-malloc_free/main.h\n",
    "#ifndef MAIN_H\n",
    "#define MAIN_H\n",
    "\n",
    "#include <stdio.h>\n",
    "\n",
    "int _putchar(char c);\n",
    "int main(int argc, char *argv[]);\n",
    "int multiply(int a, int b);\n",
    "int is_positive_number(char *s);\n",
    "int _strlen(char *s);\n",
    "int add_positive_numbers(int argc, char *argv[]);\n",
    "\n",
    "#endif /* MAIN_H */"
   ]
  },
  {
   "cell_type": "code",
   "execution_count": null,
   "metadata": {},
   "outputs": [
    {
     "name": "stdout",
     "output_type": "stream",
     "text": [
      "Overwriting 0x0A-argc_argv/_putchar.c\n"
     ]
    }
   ],
   "source": [
    "%%file 0x0B-malloc_free/_putchar.c\n",
    "#include <unistd.h>\n",
    "#include \"main.h\"\n",
    "/**\n",
    " * _putchar - writes the character c to stdout\n",
    " * @c: The character to print\n",
    " *\n",
    " * Return: On success 1.\n",
    " * On error, -1 is returned, and errno is set appropriately.\n",
    " */\n",
    "int _putchar(char c)\n",
    "{\n",
    "\treturn (write(1, &c, 1));\n",
    "}"
   ]
  },
  {
   "cell_type": "code",
   "execution_count": 55,
   "metadata": {},
   "outputs": [
    {
     "name": "stdout",
     "output_type": "stream",
     "text": [
      "\n",
      "========== 0x0A-argc_argv/100-change.c ==========\n",
      "main\n",
      "Error\n"
     ]
    },
    {
     "ename": "CalledProcessError",
     "evalue": "Command 'b'betty 0x0A-argc_argv/100-change.c\\ngcc -Wall -Werror -Wextra -pedantic -std=gnu89 0x0A-argc_argv/100-change.c -o 0x0A-argc_argv/change\\n./0x0A-argc_argv/change\\n'' returned non-zero exit status 1.",
     "output_type": "error",
     "traceback": [
      "\u001b[0;31m---------------------------------------------------------------------------\u001b[0m",
      "\u001b[0;31mCalledProcessError\u001b[0m                        Traceback (most recent call last)",
      "Cell \u001b[0;32mIn[55], line 1\u001b[0m\n\u001b[0;32m----> 1\u001b[0m \u001b[43mget_ipython\u001b[49m\u001b[43m(\u001b[49m\u001b[43m)\u001b[49m\u001b[38;5;241;43m.\u001b[39;49m\u001b[43mrun_cell_magic\u001b[49m\u001b[43m(\u001b[49m\u001b[38;5;124;43m'\u001b[39;49m\u001b[38;5;124;43mbash\u001b[39;49m\u001b[38;5;124;43m'\u001b[39;49m\u001b[43m,\u001b[49m\u001b[43m \u001b[49m\u001b[38;5;124;43m'\u001b[39;49m\u001b[38;5;124;43m'\u001b[39;49m\u001b[43m,\u001b[49m\u001b[43m \u001b[49m\u001b[38;5;124;43m'\u001b[39;49m\u001b[38;5;124;43mbetty 0x0A-argc_argv/100-change.c\u001b[39;49m\u001b[38;5;130;43;01m\\n\u001b[39;49;00m\u001b[38;5;124;43mgcc -Wall -Werror -Wextra -pedantic -std=gnu89 0x0A-argc_argv/100-change.c -o 0x0A-argc_argv/change\u001b[39;49m\u001b[38;5;130;43;01m\\n\u001b[39;49;00m\u001b[38;5;124;43m./0x0A-argc_argv/change\u001b[39;49m\u001b[38;5;130;43;01m\\n\u001b[39;49;00m\u001b[38;5;124;43m'\u001b[39;49m\u001b[43m)\u001b[49m\n",
      "File \u001b[0;32m~/anaconda3/envs/alxse/lib/python3.12/site-packages/IPython/core/interactiveshell.py:2541\u001b[0m, in \u001b[0;36mInteractiveShell.run_cell_magic\u001b[0;34m(self, magic_name, line, cell)\u001b[0m\n\u001b[1;32m   2539\u001b[0m \u001b[38;5;28;01mwith\u001b[39;00m \u001b[38;5;28mself\u001b[39m\u001b[38;5;241m.\u001b[39mbuiltin_trap:\n\u001b[1;32m   2540\u001b[0m     args \u001b[38;5;241m=\u001b[39m (magic_arg_s, cell)\n\u001b[0;32m-> 2541\u001b[0m     result \u001b[38;5;241m=\u001b[39m \u001b[43mfn\u001b[49m\u001b[43m(\u001b[49m\u001b[38;5;241;43m*\u001b[39;49m\u001b[43margs\u001b[49m\u001b[43m,\u001b[49m\u001b[43m \u001b[49m\u001b[38;5;241;43m*\u001b[39;49m\u001b[38;5;241;43m*\u001b[39;49m\u001b[43mkwargs\u001b[49m\u001b[43m)\u001b[49m\n\u001b[1;32m   2543\u001b[0m \u001b[38;5;66;03m# The code below prevents the output from being displayed\u001b[39;00m\n\u001b[1;32m   2544\u001b[0m \u001b[38;5;66;03m# when using magics with decorator @output_can_be_silenced\u001b[39;00m\n\u001b[1;32m   2545\u001b[0m \u001b[38;5;66;03m# when the last Python token in the expression is a ';'.\u001b[39;00m\n\u001b[1;32m   2546\u001b[0m \u001b[38;5;28;01mif\u001b[39;00m \u001b[38;5;28mgetattr\u001b[39m(fn, magic\u001b[38;5;241m.\u001b[39mMAGIC_OUTPUT_CAN_BE_SILENCED, \u001b[38;5;28;01mFalse\u001b[39;00m):\n",
      "File \u001b[0;32m~/anaconda3/envs/alxse/lib/python3.12/site-packages/IPython/core/magics/script.py:155\u001b[0m, in \u001b[0;36mScriptMagics._make_script_magic.<locals>.named_script_magic\u001b[0;34m(line, cell)\u001b[0m\n\u001b[1;32m    153\u001b[0m \u001b[38;5;28;01melse\u001b[39;00m:\n\u001b[1;32m    154\u001b[0m     line \u001b[38;5;241m=\u001b[39m script\n\u001b[0;32m--> 155\u001b[0m \u001b[38;5;28;01mreturn\u001b[39;00m \u001b[38;5;28;43mself\u001b[39;49m\u001b[38;5;241;43m.\u001b[39;49m\u001b[43mshebang\u001b[49m\u001b[43m(\u001b[49m\u001b[43mline\u001b[49m\u001b[43m,\u001b[49m\u001b[43m \u001b[49m\u001b[43mcell\u001b[49m\u001b[43m)\u001b[49m\n",
      "File \u001b[0;32m~/anaconda3/envs/alxse/lib/python3.12/site-packages/IPython/core/magics/script.py:315\u001b[0m, in \u001b[0;36mScriptMagics.shebang\u001b[0;34m(self, line, cell)\u001b[0m\n\u001b[1;32m    310\u001b[0m \u001b[38;5;28;01mif\u001b[39;00m args\u001b[38;5;241m.\u001b[39mraise_error \u001b[38;5;129;01mand\u001b[39;00m p\u001b[38;5;241m.\u001b[39mreturncode \u001b[38;5;241m!=\u001b[39m \u001b[38;5;241m0\u001b[39m:\n\u001b[1;32m    311\u001b[0m     \u001b[38;5;66;03m# If we get here and p.returncode is still None, we must have\u001b[39;00m\n\u001b[1;32m    312\u001b[0m     \u001b[38;5;66;03m# killed it but not yet seen its return code. We don't wait for it,\u001b[39;00m\n\u001b[1;32m    313\u001b[0m     \u001b[38;5;66;03m# in case it's stuck in uninterruptible sleep. -9 = SIGKILL\u001b[39;00m\n\u001b[1;32m    314\u001b[0m     rc \u001b[38;5;241m=\u001b[39m p\u001b[38;5;241m.\u001b[39mreturncode \u001b[38;5;129;01mor\u001b[39;00m \u001b[38;5;241m-\u001b[39m\u001b[38;5;241m9\u001b[39m\n\u001b[0;32m--> 315\u001b[0m     \u001b[38;5;28;01mraise\u001b[39;00m CalledProcessError(rc, cell)\n",
      "\u001b[0;31mCalledProcessError\u001b[0m: Command 'b'betty 0x0A-argc_argv/100-change.c\\ngcc -Wall -Werror -Wextra -pedantic -std=gnu89 0x0A-argc_argv/100-change.c -o 0x0A-argc_argv/change\\n./0x0A-argc_argv/change\\n'' returned non-zero exit status 1."
     ]
    }
   ],
   "source": [
    "%%bash\n",
    "betty 0x0B-malloc_free/100-change.c\n",
    "gcc -Wall -Werror -Wextra -pedantic -std=gnu89 0x0B-malloc_free/100-change.c -o 0x0B-malloc_free/change\n",
    "./0x0B-malloc_free/change\n"
   ]
  },
  {
   "cell_type": "code",
   "execution_count": 56,
   "metadata": {},
   "outputs": [
    {
     "name": "stdout",
     "output_type": "stream",
     "text": [
      "[main 4f08716] alx-low_level_programming/0x0A-argc_argv/0-putchar\n",
      " 2 files changed, 48 insertions(+)\n",
      " create mode 100644 0x0A-argc_argv/100-change.c\n",
      " create mode 100755 0x0A-argc_argv/change\n"
     ]
    },
    {
     "name": "stderr",
     "output_type": "stream",
     "text": [
      "To https://github.com/elkomysara/alx-low_level_programming.git\n",
      "   7738508..4f08716  main -> main\n"
     ]
    }
   ],
   "source": [
    "%%bash\n",
    "git add .\n",
    "git commit -m \"alx-low_level_programming/0x0B-malloc_free/0-putchar\"\n",
    "git push"
   ]
  },
  {
   "cell_type": "code",
   "execution_count": null,
   "metadata": {},
   "outputs": [],
   "source": []
  }
 ],
 "metadata": {
  "kernelspec": {
   "display_name": "Python 3",
   "language": "python",
   "name": "python3"
  },
  "language_info": {
   "codemirror_mode": {
    "name": "ipython",
    "version": 3
   },
   "file_extension": ".py",
   "mimetype": "text/x-python",
   "name": "python",
   "nbconvert_exporter": "python",
   "pygments_lexer": "ipython3",
   "version": "3.12.3"
  }
 },
 "nbformat": 4,
 "nbformat_minor": 2
}
