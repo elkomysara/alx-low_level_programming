{
 "cells": [
  {
   "cell_type": "markdown",
   "metadata": {},
   "source": [
    "---\n",
    "<center>\n",
    "<h1>  alx-low_level_programming </h1>\n",
    "</center>\n",
    "\n",
    "---\n"
   ]
  },
  {
   "cell_type": "code",
   "execution_count": 2,
   "metadata": {},
   "outputs": [
    {
     "name": "stdout",
     "output_type": "stream",
     "text": [
      "Writing README.md\n"
     ]
    }
   ],
   "source": [
    "%%file README.md\n",
    "## alx-low_level_programming"
   ]
  },
  {
   "cell_type": "code",
   "execution_count": 1,
   "metadata": {},
   "outputs": [
    {
     "data": {
      "text/plain": [
       "'/home/elkomy/alx-low_level_programming'"
      ]
     },
     "execution_count": 1,
     "metadata": {},
     "output_type": "execute_result"
    }
   ],
   "source": [
    "%pwd"
   ]
  },
  {
   "cell_type": "code",
   "execution_count": 6,
   "metadata": {},
   "outputs": [],
   "source": [
    "import os\n",
    "# creating 0x02-shell_redirectionss\n",
    "\n",
    "folder_path = r'/home/elkomy/alx-low_level_programming/0x00-hello_world'\n",
    "if not os.path.exists(folder_path):\n",
    "    os.makedirs(folder_path)\n",
    "\n",
    "# Create a README.md inside alx-low_level_programming/0x00-hello_world\n",
    "file_path = os.path.join(folder_path, 'README.md')\n",
    "\n",
    "with open(file_path, 'w') as file:\n",
    "    file.write(\"This is a README.md file inside alx-low_level_programming/0x00-hello_world\")\n",
    "\n"
   ]
  },
  {
   "cell_type": "code",
   "execution_count": 4,
   "metadata": {},
   "outputs": [
    {
     "name": "stdout",
     "output_type": "stream",
     "text": [
      "/home/elkomy/alx-low_level_programming\n"
     ]
    }
   ],
   "source": [
    "!pwd"
   ]
  },
  {
   "cell_type": "code",
   "execution_count": 11,
   "metadata": {},
   "outputs": [
    {
     "name": "stdout",
     "output_type": "stream",
     "text": [
      "Overwriting /home/elkomy/alx-low_level_programming/0x00-hello_world/README.md\n"
     ]
    }
   ],
   "source": [
    "%%file /home/elkomy/alx-low_level_programming/0x00-hello_world/README.md\n",
    "This is a README.md"
   ]
  },
  {
   "cell_type": "code",
   "execution_count": 5,
   "metadata": {},
   "outputs": [
    {
     "name": "stdout",
     "output_type": "stream",
     "text": [
      "Reinitialized existing Git repository in /home/elkomy/alx-low_level_programming/.git/\n",
      "[master (root-commit) 0bc5795] first commit\n",
      " 1 file changed, 2 insertions(+)\n",
      " create mode 100644 README.md\n"
     ]
    },
    {
     "name": "stderr",
     "output_type": "stream",
     "text": [
      "fatal: remote origin already exists.\n",
      "To https://github.com/elkomysara/alx-low_level_programming.git\n",
      " * [new branch]      main -> main\n"
     ]
    },
    {
     "name": "stdout",
     "output_type": "stream",
     "text": [
      "Branch 'main' set up to track remote branch 'main' from 'origin'.\n"
     ]
    }
   ],
   "source": [
    "%%bash\n",
    "echo \"# alx-low_level_programming\" >> README.md\n",
    "git init\n",
    "git add README.md\n",
    "git commit -m \"first commit\"\n",
    "git branch -M main\n",
    "git remote add origin git@github.com:elkomysara/alx-low_level_programming.git\n",
    "git push -u origin main"
   ]
  },
  {
   "cell_type": "code",
   "execution_count": 12,
   "metadata": {},
   "outputs": [
    {
     "name": "stdout",
     "output_type": "stream",
     "text": [
      "Already up to date.\n",
      "Everything up-to-date\n"
     ]
    }
   ],
   "source": [
    "!git pull\n",
    "!git push"
   ]
  },
  {
   "cell_type": "markdown",
   "metadata": {},
   "source": [
    "###\n",
    "---\n",
    "<center>\n",
    "<h1> 0x00. C - Hello, World  </h1>\n",
    "</center>\n",
    "\n",
    "---\n"
   ]
  },
  {
   "cell_type": "markdown",
   "metadata": {},
   "source": [
    "###\n",
    "---\n",
    "<center>\n",
    "<h4>  0. Preprocessor </h4>\n",
    "</center>\n",
    "\n",
    "---"
   ]
  },
  {
   "cell_type": "markdown",
   "metadata": {},
   "source": [
    "\n",
    "#### Write a script that runs a C file through the preprocessor and save the result into another file.\n",
    "\n",
    "* The C file name will be saved in the variable ` $CFILE`\n",
    "* The output should be saved in the file `c`\n",
    "\n",
    "```bash\n",
    "julien@ubuntu:~/c/0x00$ cat main.c \n",
    "#include <stdio.h>\n",
    "\n",
    "/**\n",
    " * main - Entry point\n",
    " *\n",
    " * Return: Always 0 (Success)\n",
    " */\n",
    "int main(void)\n",
    "{\n",
    "    return (0);\n",
    "}\n",
    "julien@ubuntu:~/c/0x00$ export CFILE=main.c\n",
    "julien@ubuntu:~/c/0x00$ ./0-preprocessor \n",
    "julien@ubuntu:~/c/0x00$ tail c\n",
    "# 942 \"/usr/include/stdio.h\" 3 4\n",
    "\n",
    "# 2 \"main.c\" 2\n",
    "\n",
    "\n",
    "# 3 \"main.c\"\n",
    "int main(void)\n",
    "{\n",
    " return (0);\n",
    "}\n",
    "julien@ubuntu:~/c/0x00$   \n",
    "```\n",
    "\n",
    "\n",
    "#### Repo:\n",
    "* GitHub repository: ``` alx-system_engineering-devops ```\n",
    "* Directory: ```0x00-hello_world``` \n",
    "* File: ``` 0-preprocessor```"
   ]
  },
  {
   "cell_type": "code",
   "execution_count": 2,
   "metadata": {},
   "outputs": [
    {
     "name": "stdout",
     "output_type": "stream",
     "text": [
      "Writing 0x00-hello_world/0-preprocessor\n"
     ]
    }
   ],
   "source": [
    "%%file 0x00-hello_world/0-preprocessor\n",
    "#!/bin/bash\n",
    "gcc -E $CFILE 1> c \n"
   ]
  },
  {
   "cell_type": "code",
   "execution_count": 1,
   "metadata": {},
   "outputs": [
    {
     "name": "stdout",
     "output_type": "stream",
     "text": [
      "Writing 0x00-hello_world/main.c\n"
     ]
    }
   ],
   "source": [
    "%%file 0x00-hello_world/main.c\n",
    "#include <stdio.h>\n",
    "\n",
    "/**\n",
    " * main - Entry point\n",
    " *\n",
    " * Return: Always 0 (Success)\n",
    " */\n",
    "int main(void)\n",
    "{\n",
    "    return (0);\n",
    "}"
   ]
  },
  {
   "cell_type": "code",
   "execution_count": 3,
   "metadata": {},
   "outputs": [],
   "source": [
    "!chmod u+x 0x00-hello_world/0-preprocessor"
   ]
  },
  {
   "cell_type": "code",
   "execution_count": 9,
   "metadata": {},
   "outputs": [],
   "source": [
    "%%bash\n",
    "export CFILE=0x00-hello_world/main.c \n",
    "./0x00-hello_world/0-preprocessor"
   ]
  },
  {
   "cell_type": "code",
   "execution_count": 8,
   "metadata": {},
   "outputs": [
    {
     "name": "stdout",
     "output_type": "stream",
     "text": [
      "[main 22ed186] 0x00-hello_world/0-preprocessor\n",
      " 5 files changed, 3479 insertions(+)\n",
      " create mode 100644 0x00-hello_world.ipynb\n",
      " create mode 100755 0x00-hello_world/0-preprocessor\n",
      " create mode 100644 0x00-hello_world/README.md\n",
      " create mode 100644 0x00-hello_world/main.c\n",
      " create mode 100644 c\n",
      "Enumerating objects: 9, done.\n",
      "Counting objects: 100% (9/9), done.\n",
      "Delta compression using up to 12 threads\n",
      "Compressing objects: 100% (6/6), done.\n",
      "Writing objects: 100% (8/8), 14.92 KiB | 7.46 MiB/s, done.\n",
      "Total 8 (delta 0), reused 0 (delta 0)\n",
      "To https://github.com/elkomysara/alx-low_level_programming.git\n",
      "   0bc5795..22ed186  main -> main\n",
      "Branch 'main' set up to track remote branch 'main' from 'origin'.\n"
     ]
    }
   ],
   "source": [
    "\n",
    "!git add .\n",
    "!git commit -m \"0x00-hello_world/0-preprocessor\"\n",
    "!git push -u origin main"
   ]
  },
  {
   "cell_type": "markdown",
   "metadata": {},
   "source": [
    "###\n",
    "---\n",
    "<center>\n",
    "<h4> 1. Compiler </h4>\n",
    "</center>\n",
    "\n",
    "---\n"
   ]
  },
  {
   "cell_type": "markdown",
   "metadata": {},
   "source": [
    "##### Write a script that compiles a C file but does not link.\n",
    "\n",
    "* The C file name will be saved in the variable $CFILE\n",
    "* The output file should be named the same as the C file, but with the extension .o instead of .c.\n",
    "    * Example: if the C file is main.c, the output file should be main.o\n",
    "```bash\n",
    "    julien@ubuntu:~/c/0x00$ export CFILE=main.c\n",
    "julien@ubuntu:~/c/0x00$ cat main.c\n",
    "#include <stdio.h>\n",
    "\n",
    "/**\n",
    " * main - Entry point\n",
    " *\n",
    " * Return: Always 0 (Success)\n",
    " */\n",
    "int main(void)\n",
    "{\n",
    "    return (0);\n",
    "}\n",
    "julien@ubuntu:~/c/0x00$ ./1-compiler \n",
    "julien@ubuntu:~/c/0x00$ ls\n",
    "0-preprocessor  1-compiler   c            main.o\n",
    "Makefile               100-intel      main.c  main.s\n",
    "julien@ubuntu:~/c/0x00$ cat -v main.o | head\n",
    "^?ELF^B^A^A^@^@^@^@^@^@^@^@^@^A^@>^@^A^@^@^@^@^@^@^@^@^@^@^@^@^@^@^@^@^@^@^@^P^B^@^@^@^@^@^@^@^@^@^@@^@^@^@^@^@@^@^K^@^H^@UHM-^IM-eM-8^@^@^@^@]M-C^@GCC: (Ubuntu 5.4.0-6ubuntu1~16.04.2) 5.4.0 20160609^@^T^@^@^@^@^@^@^@^AzR^@^Ax^P^A^[^L^G^HM-^P^A^@^@^\\^@^@^@^\\^@^@^@^@^@^@^@^K^@^@^@^@A^N^PM-^F^BC^M^FF^L^G^H^@^@^@^@^@^@^@^@^@^@^@^@^@^@^@^@^@^@^@^@^@^@^@^@^@^@^@^A^@^@^@^D^@M-qM-^?^@^@^@^@^@^@^@^@^@^@^@^@^@^@^@^@^@^@^@^@^C^@^A^@^@^@^@^@^@^@^@^@^@^@^@^@^@^@^@^@^@^@^@^@^C^@^B^@^@^@^@^@^@^@^@^@^@^@^@^@^@^@^@^@^@^@^@^@^C^@^C^@^@^@^@^@^@^@^@^@^@^@^@^@^@^@^@^@^@^@^@^@^C^@^E^@^@^@^@^@^@^@^@^@^@^@^@^@^@^@^@^@^@^@^@^@^C^@^F^@^@^@^@^@^@^@^@^@^@^@^@^@^@^@^@^@^@^@^@^@^C^@^D^@^@^@^@^@^@^@^@^@^@^@^@^@^@^@^@^@^H^@^@^@^R^@^A^@^@^@^@^@^@^@^@^@^K^@^@^@^@^@^@^@^@main.c^@main^@^@^@^@ ^@^@^@^@^@^@^@^B^@^@^@^B^@^@^@^@^@^@^@^@^@^@^@^@.symtab^@.strtab^@.shstrtab^@.text^@.data^@.bss^@.comment^@.note.GNU-stack^@.rela.eh_frame^@^@^@^@^@^@^@^@^@^@^@^@^@^@^@^@^@^@^@^@^@^@^@^@^@^@^@^@^@^@^@^@^@^@^@^@^@^@^@^@^@^@^@^@^@^@^@^@^@^@^@^@^@^@^@^@^@^@^@^@^@^@^@^@^@^@^@^@^@^[^@^@^@^A^@^@^@^F^@^@^@^@^@^@^@^@^@^@^@^@^@^@^@@^@^@^@^@^@^@^@^K^@^@^@^@^@^@^@^@^@^@^@^@^@^@^@^A^@^@^@^@^@^@^@^@^@^@^@^@^@^@^@!^@^@^@^A^@^@^@^C^@^@^@^@^@^@^@^@^@^@^@^@^@^@^@K^@^@^@^@^@^@^@^@^@^@^@^@^@^@^@^@^@^@^@^@^@^@^@^A^@^@^@^@^@^@^@^@^@^@^@^@^@^@^@'^@^@^@^H^@^@^@^C^@^@^@^@^@^@^@^@^@^@^@^@^@^@^@K^@^@^@^@^@^@^@^@^@^@^@^@^@^@^@^@^@^@^@^@^@^@^@^A^@^@^@^@^@^@^@^@^@^@^@^@^@^@^@,^@^@^@^A^@^@^@0^@^@^@^@^@^@^@^@^@^@^@^@^@^@^@K^@^@^@^@^@^@^@5^@^@^@^@^@^@^@^@^@^@^@^@^@^@^@^A^@^@^@^@^@^@^@^A^@^@^@^@^@^@^@5^@^@^@^A^@^@^@^@^@^@^@^@^@^@^@^@^@^@^@^@^@^@^@M-^@^@^@^@^@^@^@^@^@^@^@^@^@^@^@^@^@^@^@^@^@^@^@^@^A^@^@^@^@^@^@^@^@^@^@^@^@^@^@^@J^@^@^@^A^@^@^@^B^@^@^@^@^@^@^@^@^@^@^@^@^@^@^@M-^@^@^@^@^@^@^@^@8^@^@^@^@^@^@^@^@^@^@^@^@^@^@^@^H^@^@^@^@^@^@^@^@^@^@^@^@^@^@^@E^@^@^@^D^@^@^@@^@^@^@^@^@^@^@^@^@^@^@^@^@^@^@M- ^A^@^@^@^@^@^@^X^@^@^@^@^@^@^@    ^@^@^@^F^@^@^@^H^@^@^@^@^@^@^@^X^@^@^@^@^@^@^@^Q^@^@^@^C^@^@^@^@^@^@^@^@^@^@^@^@^@^@^@^@^@^@^@M-8^A^@^@^@^@^@^@T^@^@^@^@^@^@^@^@^@^@^@^@^@^@^@^A^@^@^@^@^@^@^@^@^@^@^@^@^@^@^@^A^@^@^@^B^@^@^@^@^@^@^@^@^@^@^@^@^@^@^@^@^@^@^@M-8^@^@^@^@^@^@^@M-X^@^@^@^@^@^@^@\n",
    "^@^@^@^H^@^@^@^H^@^@^@^@^@^@^@^X^@^@^@^@^@^@^@  ^@^@^@^C^@^@^@^@^@^@^@^@^@^@^@^@^@^@^@^@^@^@^@M-^P^A^@^@^@^@^@^@^M^@^@^@^@^@^@^@^@^@^@^@^@^@^@^@^A^@^@^@^@^@^@^@^@^@^@^@^@^@^@^@julien@ubuntu:~/c/0x00$  \n",
    "```\n",
    "\n",
    "* Repo:\n",
    "\n",
    "    * GitHub repository: <code > alx-low_level_programming </code>\n",
    "    * Directory: <code > 0x00-hello_world </code>\n",
    "    * File: <code >  1-compiler </code>\n",
    "   "
   ]
  },
  {
   "cell_type": "code",
   "execution_count": 10,
   "metadata": {},
   "outputs": [
    {
     "name": "stdout",
     "output_type": "stream",
     "text": [
      "Writing 0x00-hello_world/1-compiler\n"
     ]
    }
   ],
   "source": [
    "%%file 0x00-hello_world/1-compiler\n",
    "#!/bin/bash\n",
    "gcc -c $CFILE 1> c"
   ]
  },
  {
   "cell_type": "code",
   "execution_count": 11,
   "metadata": {},
   "outputs": [
    {
     "name": "stdout",
     "output_type": "stream",
     "text": [
      "Overwriting 0x00-hello_world/main.c\n"
     ]
    }
   ],
   "source": [
    "%%file 0x00-hello_world/main.c\n",
    "#include <stdio.h>\n",
    "\n",
    "/**\n",
    " * main - Entry point\n",
    " *\n",
    " * Return: Always 0 (Success)\n",
    " */\n",
    "int main(void)\n",
    "{\n",
    "    return (0);\n",
    "}"
   ]
  },
  {
   "cell_type": "code",
   "execution_count": 14,
   "metadata": {},
   "outputs": [],
   "source": [
    "%%bash\n",
    "chmod u+x 0x00-hello_world/1-compiler\n",
    "export CFILE=0x00-hello_world/main.c \n",
    "./0x00-hello_world/1-compiler"
   ]
  },
  {
   "cell_type": "code",
   "execution_count": 15,
   "metadata": {},
   "outputs": [
    {
     "name": "stdout",
     "output_type": "stream",
     "text": [
      "[main 4b22c5d] 0x03-shell_variables_expansions/1-hello_you\n",
      " 4 files changed, 73 insertions(+), 790 deletions(-)\n",
      " create mode 100755 0x00-hello_world/1-compiler\n",
      " rewrite c (100%)\n",
      " create mode 100644 main.o\n",
      "Enumerating objects: 11, done.\n",
      "Counting objects: 100% (11/11), done.\n",
      "Delta compression using up to 12 threads\n",
      "Compressing objects: 100% (5/5), done.\n",
      "Writing objects: 100% (7/7), 2.10 KiB | 2.10 MiB/s, done.\n",
      "Total 7 (delta 1), reused 0 (delta 0)\n",
      "remote: Resolving deltas: 100% (1/1), completed with 1 local object.\u001b[K\n",
      "To https://github.com/elkomysara/alx-low_level_programming.git\n",
      "   22ed186..4b22c5d  main -> main\n",
      "Branch 'main' set up to track remote branch 'main' from 'origin'.\n"
     ]
    }
   ],
   "source": [
    "\n",
    "!git add .\n",
    "!git commit -m \"0x03-shell_variables_expansions/1-hello_you\"\n",
    "!git push -u origin main"
   ]
  },
  {
   "cell_type": "markdown",
   "metadata": {},
   "source": [
    "###\n",
    "---\n",
    "<center>\n",
    "<h4> 2. Assembler </h4>\n",
    "</center>\n",
    "\n",
    "---"
   ]
  },
  {
   "cell_type": "markdown",
   "metadata": {},
   "source": [
    "#### Write a script that generates the assembly code of a C code and save it in an output file.\n",
    "\n",
    "* The C file name will be saved in the variable $CFILE\n",
    "* The output file should be named the same as the C file, but with the extension .s instead of .c.\n",
    "    * Example: if the C file is main.c, the output file should be main.s\n",
    "\n",
    "```bash\n",
    "julien@ubuntu:~/c/0x00$ export CFILE=main.c\n",
    "julien@ubuntu:~/c/0x00$ cat main.c\n",
    "#include <stdio.h>\n",
    "\n",
    "/**\n",
    " * main - Entry point\n",
    " *\n",
    " * Return: Always 0 (Success)\n",
    " */\n",
    "int main(void)\n",
    "{\n",
    "    return (0);\n",
    "}\n",
    "julien@ubuntu:~/c/0x00$ ./2-assembler\n",
    "julien@ubuntu:~/c/0x00$ ls\n",
    "0-preprocessor  1-compiler  2-assembler c  main.c  main.s  Makefile\n",
    "julien@ubuntu:~/c/0x00$ cat main.s\n",
    "    .file   \"main.c\"\n",
    "    .text\n",
    "    .globl  main\n",
    "    .type   main, @function\n",
    "main:\n",
    ".LFB0:\n",
    "    .cfi_startproc\n",
    "    pushq   %rbp\n",
    "    .cfi_def_cfa_offset 16\n",
    "    .cfi_offset 6, -16\n",
    "    movq    %rsp, %rbp\n",
    "    .cfi_def_cfa_register 6\n",
    "    movl    $0, %eax\n",
    "    popq    %rbp\n",
    "    .cfi_def_cfa 7, 8\n",
    "    ret\n",
    "    .cfi_endproc\n",
    ".LFE0:\n",
    "    .size   main, .-main\n",
    "    .ident  \"GCC: (Ubuntu 5.4.0-6ubuntu1~16.04.2) 5.4.0 20160609\"\n",
    "    .section    .note.GNU-stack,\"\",@progbits\n",
    "julien@ubuntu:~/c/0x00$  \n",
    "```\n",
    "\n",
    "\n",
    "#### Repo:\n",
    "* GitHub repository:   <code>alx-low_level_programming </code>\n",
    "* Directory:   <code> 0x00-hello_world </code>\n",
    "* File:   <code> 2-assembler</code>"
   ]
  },
  {
   "cell_type": "code",
   "execution_count": 1,
   "metadata": {},
   "outputs": [
    {
     "name": "stdout",
     "output_type": "stream",
     "text": [
      "Writing 0x00-hello_world/2-assembler\n"
     ]
    }
   ],
   "source": [
    "%%file 0x00-hello_world/2-assembler\n",
    "#!/bin/bash\n",
    "gcc -S $CFILE"
   ]
  },
  {
   "cell_type": "code",
   "execution_count": 2,
   "metadata": {},
   "outputs": [],
   "source": [
    "%%bash\n",
    "chmod u+x 0x00-hello_world/2-assembler\n",
    "export CFILE=0x00-hello_world/main.c \n",
    "./0x00-hello_world/2-assembler"
   ]
  },
  {
   "cell_type": "code",
   "execution_count": 27,
   "metadata": {},
   "outputs": [
    {
     "name": "stdout",
     "output_type": "stream",
     "text": [
      "[main 67ac465] 0x02-shell_redirections/2-hellofile\n",
      " 2 files changed, 26 insertions(+), 51 deletions(-)\n",
      " create mode 100755 0x03-shell_variables_expansions/2-path\n",
      "Enumerating objects: 8, done.\n",
      "Counting objects: 100% (8/8), done.\n",
      "Delta compression using up to 12 threads\n",
      "Compressing objects: 100% (4/4), done.\n",
      "Writing objects: 100% (5/5), 1.00 KiB | 1.00 MiB/s, done.\n",
      "Total 5 (delta 2), reused 0 (delta 0)\n",
      "remote: Resolving deltas: 100% (2/2), completed with 2 local objects.\u001b[K\n",
      "To https://github.com/elkomysara/alx-system_engineering-devops.git\n",
      "   bf07d98..67ac465  main -> main\n",
      "Branch 'main' set up to track remote branch 'main' from 'origin'.\n"
     ]
    }
   ],
   "source": [
    "!git add .\n",
    "!git commit -m \"0x00-hello_world/2-assembler\"\n",
    "!git push -u origin main"
   ]
  },
  {
   "cell_type": "markdown",
   "metadata": {},
   "source": [
    "###\n",
    "---\n",
    "<center>\n",
    "<h4> 3. If the path be beautiful, let us not ask where it leads</h4>\n",
    "</center>\n",
    "\n",
    "---"
   ]
  },
  {
   "cell_type": "markdown",
   "metadata": {},
   "source": [
    "#### Create a script that counts the number of directories in the `PATH`.\n",
    "```bash\n",
    "julien@ubuntu:/tmp/0x03$ echo $PATH\n",
    "/home/julien/bin:/home/julien/.local/bin:/usr/local/sbin:/usr/local/bin:/usr/sbin:/usr/bin:/sbin:/bin:/usr/games:/usr/local/games:/snap/bin\n",
    "julien@ubuntu:/tmp/0x03$ . ./3-paths \n",
    "11\n",
    "julien@ubuntu:/tmp/0x03$ PATH=/home/julien/bin:/home/julien/.local/bin:/usr/local/sbin:/usr/local/bin:/usr/sbin:/usr/bin:/sbin:/bin:/usr/games:/usr/local/games:/snap/bin:::::/hello\n",
    "julien@ubuntu:/tmp/0x03$ . ./3-paths \n",
    "12\n",
    "julien@ubuntu:/tmp/0x03$ \n",
    "```\n",
    "\n",
    "\n",
    "#### Repo:\n",
    "* GitHub repository: `alx-system_engineering-devops`\n",
    "* Directory: `0x03-shell_variables_expansions`\n",
    "* File: `3-paths`"
   ]
  },
  {
   "cell_type": "code",
   "execution_count": 31,
   "metadata": {},
   "outputs": [
    {
     "name": "stdout",
     "output_type": "stream",
     "text": [
      "Overwriting 0x03-shell_variables_expansions/3-paths\n"
     ]
    }
   ],
   "source": [
    "%%file 0x03-shell_variables_expansions/3-paths\n",
    "#!/bin/bash\n",
    "echo $PATH | tr \":\" \"\\n\" | wc -l"
   ]
  },
  {
   "cell_type": "code",
   "execution_count": 32,
   "metadata": {},
   "outputs": [],
   "source": [
    "%%bash\n",
    "chmod u+x 0x03-shell_variables_expansions/3-paths"
   ]
  },
  {
   "cell_type": "code",
   "execution_count": 33,
   "metadata": {},
   "outputs": [
    {
     "name": "stdout",
     "output_type": "stream",
     "text": [
      "#!/bin/bash\n",
      "echo $PATH | tr \":\" \"\\n\" | wc -l\n"
     ]
    }
   ],
   "source": [
    "!cat 0x03-shell_variables_expansions/3-paths"
   ]
  },
  {
   "cell_type": "code",
   "execution_count": 34,
   "metadata": {},
   "outputs": [
    {
     "name": "stdout",
     "output_type": "stream",
     "text": [
      "77\n"
     ]
    }
   ],
   "source": [
    "!./0x03-shell_variables_expansions/3-paths"
   ]
  },
  {
   "cell_type": "code",
   "execution_count": 35,
   "metadata": {},
   "outputs": [
    {
     "name": "stdout",
     "output_type": "stream",
     "text": [
      "[main f100cd9] 0x02-shell_redirections/3-twofiles\n",
      " 2 files changed, 28 insertions(+), 167 deletions(-)\n",
      " create mode 100755 0x03-shell_variables_expansions/3-paths\n",
      "Enumerating objects: 8, done.\n",
      "Counting objects: 100% (8/8), done.\n",
      "Delta compression using up to 12 threads\n",
      "Compressing objects: 100% (4/4), done.\n",
      "Writing objects: 100% (5/5), 842 bytes | 842.00 KiB/s, done.\n",
      "Total 5 (delta 3), reused 0 (delta 0)\n",
      "remote: Resolving deltas: 100% (3/3), completed with 3 local objects.\u001b[K\n",
      "To https://github.com/elkomysara/alx-system_engineering-devops.git\n",
      "   67ac465..f100cd9  main -> main\n",
      "Branch 'main' set up to track remote branch 'main' from 'origin'.\n"
     ]
    }
   ],
   "source": [
    "!git add .\n",
    "!git commit -m \"0x02-shell_redirections/3-twofiles\"\n",
    "!git push -u origin main"
   ]
  },
  {
   "cell_type": "markdown",
   "metadata": {},
   "source": [
    "### \n",
    "\n",
    "\n",
    "---\n",
    "<center>\n",
    "<h4> 4. Global variables</h4>\n",
    "</center>\n",
    "\n",
    "---"
   ]
  },
  {
   "cell_type": "markdown",
   "metadata": {},
   "source": [
    "#### Create a script that lists environment variables.\n",
    "```bash\n",
    "julien@ubuntu:/tmp/0x03$ source ./4-global_variables\n",
    "CC=gcc\n",
    "CDPATH=.:~:/usr/local:/usr:/\n",
    "CFLAGS=-O2 -fomit-frame-pointer\n",
    "COLORTERM=gnome-terminal\n",
    "CXXFLAGS=-O2 -fomit-frame-pointer\n",
    "DISPLAY=:0\n",
    "DOMAIN=hq.garrels.be\n",
    "e=\n",
    "TOR=vi\n",
    "FCEDIT=vi\n",
    "FIGNORE=.o:~\n",
    "G_BROKEN_FILENAMES=1\n",
    "GDK_USE_XFT=1\n",
    "GDMSESSION=Default\n",
    "GNOME_DESKTOP_SESSION_ID=Default\n",
    "GTK_RC_FILES=/etc/gtk/gtkrc:/nethome/franky/.gtkrc-1.2-gnome2\n",
    "GWMCOLOR=darkgreen\n",
    "GWMTERM=xterm\n",
    "HISTFILESIZE=5000\n",
    "history_control=ignoredups\n",
    "HISTSIZE=2000\n",
    "HOME=/nethome/franky\n",
    "HOSTNAME=octarine.hq.garrels.be\n",
    "INPUTRC=/etc/inputrc\n",
    "IRCNAME=franky\n",
    "JAVA_HOME=/usr/java/j2sdk1.4.0\n",
    "LANG=en_US\n",
    "LDFLAGS=-s\n",
    "LD_LIBRARY_PATH=/usr/lib/mozilla:/usr/lib/mozilla/plugins\n",
    "LESSCHARSET=latin1\n",
    "LESS=-edfMQ\n",
    "LESSOPEN=|/usr/bin/lesspipe.sh %s\n",
    "LEX=flex\n",
    "LOCAL_MACHINE=octarine\n",
    "LOGNAME=franky\n",
    "[...]\n",
    "julien@ubuntu:/tmp/0x03$ \n",
    "```\n",
    "\n",
    "#### Repo:\n",
    "* GitHub repository: `alx-system_engineering-devops`\n",
    "* Directory: `0x03-shell_variables_expansions`\n",
    "* File: `4-global_variables`"
   ]
  },
  {
   "cell_type": "code",
   "execution_count": 42,
   "metadata": {},
   "outputs": [
    {
     "name": "stdout",
     "output_type": "stream",
     "text": [
      "Writing 0x03-shell_variables_expansions/4-global_variables\n"
     ]
    }
   ],
   "source": [
    "%%file 0x03-shell_variables_expansions/4-global_variables\n",
    "#!/bin/bash\n",
    "env"
   ]
  },
  {
   "cell_type": "code",
   "execution_count": 43,
   "metadata": {},
   "outputs": [],
   "source": [
    "!chmod u+x 0x03-shell_variables_expansions/4-global_variables"
   ]
  },
  {
   "cell_type": "code",
   "execution_count": 44,
   "metadata": {},
   "outputs": [
    {
     "name": "stdout",
     "output_type": "stream",
     "text": [
      "#!/bin/bash\n",
      "env\n"
     ]
    }
   ],
   "source": [
    "!cat 0x03-shell_variables_expansions/4-global_variables"
   ]
  },
  {
   "cell_type": "code",
   "execution_count": 45,
   "metadata": {},
   "outputs": [
    {
     "name": "stdout",
     "output_type": "stream",
     "text": [
      "SHELL=/bin/bash\n",
      "PYTHONUNBUFFERED=1\n",
      "WSL2_GUI_APPS_ENABLED=1\n",
      "CONDA_EXE=/home/elkomy/anaconda3/bin/conda\n",
      "_CE_M=\n",
      "WSL_DISTRO_NAME=Ubuntu-20.04\n",
      "ELECTRON_RUN_AS_NODE=1\n",
      "VSCODE_AMD_ENTRYPOINT=vs/workbench/api/node/extensionHostProcess\n",
      "NAME=elkomy\n",
      "PWD=/home/elkomy/alx-system_engineering-devops\n",
      "LOGNAME=elkomy\n",
      "CONDA_PREFIX=/home/elkomy/anaconda3\n",
      "PYDEVD_IPYTHON_COMPATIBLE_DEBUGGING=1\n",
      "_=/usr/bin/env\n",
      "MOTD_SHOWN=update-motd\n",
      "HOME=/home/elkomy\n",
      "LANG=C.UTF-8\n",
      "WSL_INTEROP=/run/WSL/544_interop\n",
      "LS_COLORS=rs=0:di=01;34:ln=01;36:mh=00:pi=40;33:so=01;35:do=01;35:bd=40;33;01:cd=40;33;01:or=40;31;01:mi=00:su=37;41:sg=30;43:ca=30;41:tw=30;42:ow=34;42:st=37;44:ex=01;32:*.tar=01;31:*.tgz=01;31:*.arc=01;31:*.arj=01;31:*.taz=01;31:*.lha=01;31:*.lz4=01;31:*.lzh=01;31:*.lzma=01;31:*.tlz=01;31:*.txz=01;31:*.tzo=01;31:*.t7z=01;31:*.zip=01;31:*.z=01;31:*.dz=01;31:*.gz=01;31:*.lrz=01;31:*.lz=01;31:*.lzo=01;31:*.xz=01;31:*.zst=01;31:*.tzst=01;31:*.bz2=01;31:*.bz=01;31:*.tbz=01;31:*.tbz2=01;31:*.tz=01;31:*.deb=01;31:*.rpm=01;31:*.jar=01;31:*.war=01;31:*.ear=01;31:*.sar=01;31:*.rar=01;31:*.alz=01;31:*.ace=01;31:*.zoo=01;31:*.cpio=01;31:*.7z=01;31:*.rz=01;31:*.cab=01;31:*.wim=01;31:*.swm=01;31:*.dwm=01;31:*.esd=01;31:*.jpg=01;35:*.jpeg=01;35:*.mjpg=01;35:*.mjpeg=01;35:*.gif=01;35:*.bmp=01;35:*.pbm=01;35:*.pgm=01;35:*.ppm=01;35:*.tga=01;35:*.xbm=01;35:*.xpm=01;35:*.tif=01;35:*.tiff=01;35:*.png=01;35:*.svg=01;35:*.svgz=01;35:*.mng=01;35:*.pcx=01;35:*.mov=01;35:*.mpg=01;35:*.mpeg=01;35:*.m2v=01;35:*.mkv=01;35:*.webm=01;35:*.ogm=01;35:*.mp4=01;35:*.m4v=01;35:*.mp4v=01;35:*.vob=01;35:*.qt=01;35:*.nuv=01;35:*.wmv=01;35:*.asf=01;35:*.rm=01;35:*.rmvb=01;35:*.flc=01;35:*.avi=01;35:*.fli=01;35:*.flv=01;35:*.gl=01;35:*.dl=01;35:*.xcf=01;35:*.xwd=01;35:*.yuv=01;35:*.cgm=01;35:*.emf=01;35:*.ogv=01;35:*.ogx=01;35:*.aac=00;36:*.au=00;36:*.flac=00;36:*.m4a=00;36:*.mid=00;36:*.midi=00;36:*.mka=00;36:*.mp3=00;36:*.mpc=00;36:*.ogg=00;36:*.ra=00;36:*.wav=00;36:*.oga=00;36:*.opus=00;36:*.spx=00;36:*.xspf=00;36:\n",
      "WAYLAND_DISPLAY=wayland-0\n",
      "FORCE_COLOR=1\n",
      "CONDA_PROMPT_MODIFIER=(base) \n",
      "PYDEVD_USE_FRAME_EVAL=NO\n",
      "CLICOLOR=1\n",
      "CLICOLOR_FORCE=1\n",
      "LESSCLOSE=/usr/bin/lesspipe %s %s\n",
      "VSCODE_HANDLES_SIGPIPE=true\n",
      "TERM=xterm-color\n",
      "_CE_CONDA=\n",
      "LESSOPEN=| /usr/bin/lesspipe %s\n",
      "USER=elkomy\n",
      "GIT_PAGER=cat\n",
      "PYTHONIOENCODING=utf-8\n",
      "CONDA_SHLVL=1\n",
      "DISPLAY=:0\n",
      "SHLVL=1\n",
      "PAGER=cat\n",
      "VSCODE_CWD=/mnt/c/Users/komy2/AppData/Local/Programs/Microsoft VS Code\n",
      "MPLBACKEND=module://matplotlib_inline.backend_inline\n",
      "CONDA_PYTHON_EXE=/home/elkomy/anaconda3/bin/python\n",
      "XDG_RUNTIME_DIR=/run/user/1000/\n",
      "CONDA_DEFAULT_ENV=base\n",
      "WSLENV=VSCODE_WSL_EXT_LOCATION/up\n",
      "VSCODE_WSL_EXT_LOCATION=/mnt/c/Users/komy2/.vscode/extensions/ms-vscode-remote.remote-wsl-0.88.0\n",
      "XDG_DATA_DIRS=/usr/local/share:/usr/share:/var/lib/snapd/desktop\n",
      "PATH=/home/elkomy/anaconda3/envs/cplayground/bin:/home/elkomy/.vscode-server/bin/5c3e652f63e798a5ac2f31ffd0d863669328dc4c/bin/remote-cli:/home/elkomy/anaconda3/bin:/home/elkomy/anaconda3/condabin:/usr/local/sbin:/usr/local/bin:/usr/sbin:/usr/bin:/sbin:/bin:/usr/games:/usr/local/games:/usr/lib/wsl/lib:/mnt/c/Program Files (x86)/Common Files/Oracle/Java/javapath:/mnt/c/GAMS/44:/mnt/c/GAMS/44/gbin:/mnt/c/WINDOWS/system32:/mnt/c/WINDOWS:/mnt/c/WINDOWS/System32/Wbem:/mnt/c/WINDOWS/System32/WindowsPowerShell/v1.0:/mnt/c/WINDOWS/System32/OpenSSH:/mnt/c/Program Files/Java/jdk-1.8/bin:/mnt/c/Program Files/Calibre2:/mnt/c/msys64/mingw64/bin:/mnt/c/ProgramData/chocolatey/bin:/mnt/c/Program Files/PowerShell/7:/mnt/c/Program Files/PowerShell/7-preview/preview:/mnt/c/Program Files/Git/cmd:/mnt/c/Users/komy2/.pyenv/pyenv-win/bin:/mnt/c/Users/komy2/.pyenv/pyenv-win/shims:/mnt/c/Users/komy2/anaconda3:/mnt/c/Users/komy2/anaconda3/Library/mingw-w64/bin:/mnt/c/Users/komy2/anaconda3/Library/usr/bin:/mnt/c/Users/komy2/anaconda3/Library/bin:/mnt/c/Users/komy2/anaconda3/Scripts:/mnt/c/Users/komy2/AppData/Local/Microsoft/WindowsApps:/mnt/c/Users/komy2/AppData/Local/Programs/Microsoft VS Code/bin:/mnt/c/msys64/usr/bin:/snap/bin:/home/elkomy/.vscode-server/bin/5c3e652f63e798a5ac2f31ffd0d863669328dc4c/bin/remote-cli:/home/elkomy/anaconda3/bin:/home/elkomy/anaconda3/condabin:/usr/local/sbin:/usr/local/bin:/usr/sbin:/usr/bin:/sbin:/bin:/usr/games:/usr/local/games:/usr/lib/wsl/lib:/mnt/c/Program Files (x86)/Common Files/Oracle/Java/javapath:/mnt/c/GAMS/44:/mnt/c/GAMS/44/gbin:/mnt/c/WINDOWS/system32:/mnt/c/WINDOWS:/mnt/c/WINDOWS/System32/Wbem:/mnt/c/WINDOWS/System32/WindowsPowerShell/v1.0:/mnt/c/WINDOWS/System32/OpenSSH:/mnt/c/Program Files/Java/jdk-1.8/bin:/mnt/c/Program Files/Calibre2:/mnt/c/msys64/mingw64/bin:/mnt/c/ProgramData/chocolatey/bin:/mnt/c/Program Files/PowerShell/7:/mnt/c/Program Files/PowerShell/7-preview/preview:/mnt/c/Program Files/Git/cmd:/mnt/c/Users/komy2/.pyenv/pyenv-win/bin:/mnt/c/Users/komy2/.pyenv/pyenv-win/shims:/mnt/c/Users/komy2/anaconda3:/mnt/c/Users/komy2/anaconda3/Library/mingw-w64/bin:/mnt/c/Users/komy2/anaconda3/Library/usr/bin:/mnt/c/Users/komy2/anaconda3/Library/bin:/mnt/c/Users/komy2/anaconda3/Scripts:/mnt/c/Users/komy2/AppData/Local/Microsoft/WindowsApps:/mnt/c/Users/komy2/AppData/Local/Programs/Microsoft VS Code/bin:/mnt/c/msys64/usr/bin:/snap/bin\n",
      "DBUS_SESSION_BUS_ADDRESS=unix:path=/run/user/1000/bus\n",
      "VSCODE_NLS_CONFIG={\"locale\":\"en\",\"osLocale\":\"en\",\"availableLanguages\":{}}\n",
      "HOSTTYPE=x86_64\n",
      "PULSE_SERVER=unix:/mnt/wslg/PulseServer\n",
      "VSCODE_HANDLES_UNCAUGHT_ERRORS=true\n",
      "VSCODE_IPC_HOOK_CLI=/run/user/1000/vscode-ipc-fbaec959-bd3d-40a2-af3c-04cb827617f1.sock\n"
     ]
    }
   ],
   "source": [
    "!source ./0x03-shell_variables_expansions/4-global_variables"
   ]
  },
  {
   "cell_type": "code",
   "execution_count": 46,
   "metadata": {},
   "outputs": [
    {
     "name": "stdout",
     "output_type": "stream",
     "text": [
      "[main dd5bf16] 0x02-shell_redirections/4-lastlines\n",
      " 2 files changed, 72 insertions(+), 33 deletions(-)\n",
      " create mode 100755 0x03-shell_variables_expansions/4-global_variables\n",
      "Enumerating objects: 8, done.\n",
      "Counting objects: 100% (8/8), done.\n",
      "Delta compression using up to 12 threads\n",
      "Compressing objects: 100% (4/4), done.\n",
      "Writing objects: 100% (5/5), 2.52 KiB | 860.00 KiB/s, done.\n",
      "Total 5 (delta 3), reused 0 (delta 0)\n",
      "remote: Resolving deltas: 100% (3/3), completed with 3 local objects.\u001b[K\n",
      "To https://github.com/elkomysara/alx-system_engineering-devops.git\n",
      "   20c434d..dd5bf16  main -> main\n",
      "Branch 'main' set up to track remote branch 'main' from 'origin'.\n"
     ]
    }
   ],
   "source": [
    "!git add .\n",
    "!git commit -m \"0x02-shell_redirections/4-lastlines\"\n",
    "!git push -u origin main"
   ]
  },
  {
   "cell_type": "markdown",
   "metadata": {},
   "source": [
    "### \n",
    "\n",
    "\n",
    "---\n",
    "<center>\n",
    "<h4> 5. Local variables</h4>\n",
    "</center>\n",
    "\n",
    "---"
   ]
  },
  {
   "cell_type": "markdown",
   "metadata": {},
   "source": [
    "##### Create a script that lists all local variables and environment varaibles, and functions.\n",
    "\n",
    "\n",
    "```bash\n",
    "julien@ubuntu:/tmp/0x03$ . ./5-local_variables\n",
    "BASH=/bin/bash\n",
    "BASHOPTS=checkwinsize:cmdhist:complete_fullquote:expand_aliases:extglob:extquote:force_fignore:histappend:interactive_comments:progcomp:promptvars:sourcepath\n",
    "BASH_ALIASES=()\n",
    "BASH_ARGC=()\n",
    "BASH_ARGV=()\n",
    "BASH_CMDS=()\n",
    "BASH_COMPLETION_COMPAT_DIR=/etc/bash_completion.d\n",
    "BASH_LINENO=()\n",
    "BASH_REMATCH=()\n",
    "BASH_SOURCE=()\n",
    "BASH_VERSINFO=([0]=\"4\" [1]=\"3\" [2]=\"46\" [3]=\"1\" [4]=\"release\" [5]=\"x86_64-pc-linux-gnu\")\n",
    "BASH_VERSION='4.3.46(1)-release'\n",
    "CLUTTER_IM_MODULE=xim\n",
    "COLUMNS=133\n",
    "COMPIZ_CONFIG_PROFILE=ubuntu\n",
    "COMP_WORDBREAKS=$' \\t\\n\"\\'><=;|&(:'\n",
    "DBUS_SESSION_BUS_ADDRESS=unix:abstract=/tmp/dbus-Fg27Lr20bq\n",
    "DEFAULTS_PATH=/usr/share/gconf/ubuntu.default.path\n",
    "DESKTOP_SESSION=ubuntu\n",
    "[...]\n",
    "julien@ubuntu:/tmp/0x03$ \n",
    "```\n",
    "\n",
    "##### Repo:\n",
    "\n",
    "* GitHub repository: `alx-system_engineering-devops`\n",
    "* Directory: `0x03-shell_variables_expansions`\n",
    "* File: `5-local_variables`"
   ]
  },
  {
   "cell_type": "code",
   "execution_count": 47,
   "metadata": {},
   "outputs": [
    {
     "name": "stdout",
     "output_type": "stream",
     "text": [
      "Writing 0x03-shell_variables_expansions/5-local_variables\n"
     ]
    }
   ],
   "source": [
    "%%file 0x03-shell_variables_expansions/5-local_variables\n",
    "#!/bin/bash\n",
    "declare"
   ]
  },
  {
   "cell_type": "code",
   "execution_count": 48,
   "metadata": {},
   "outputs": [
    {
     "name": "stdout",
     "output_type": "stream",
     "text": [
      "BASH=/bin/bash\n",
      "BASHOPTS=checkwinsize:cmdhist:complete_fullquote:extquote:force_fignore:globasciiranges:hostcomplete:interactive_comments:progcomp:promptvars:sourcepath\n",
      "BASH_ALIASES=()\n",
      "BASH_ARGC=()\n",
      "BASH_ARGV=()\n",
      "BASH_CMDS=()\n",
      "BASH_LINENO=([0]=\"0\")\n",
      "BASH_SOURCE=([0]=\"./0x03-shell_variables_expansions/5-local_variables\")\n",
      "BASH_VERSINFO=([0]=\"5\" [1]=\"0\" [2]=\"17\" [3]=\"1\" [4]=\"release\" [5]=\"x86_64-pc-linux-gnu\")\n",
      "BASH_VERSION='5.0.17(1)-release'\n",
      "CLICOLOR=1\n",
      "CLICOLOR_FORCE=1\n",
      "CONDA_DEFAULT_ENV=base\n",
      "CONDA_EXE=/home/elkomy/anaconda3/bin/conda\n",
      "CONDA_PREFIX=/home/elkomy/anaconda3\n",
      "CONDA_PROMPT_MODIFIER='(base) '\n",
      "CONDA_PYTHON_EXE=/home/elkomy/anaconda3/bin/python\n",
      "CONDA_SHLVL=1\n",
      "DBUS_SESSION_BUS_ADDRESS=unix:path=/run/user/1000/bus\n",
      "DIRSTACK=()\n",
      "DISPLAY=:0\n",
      "ELECTRON_RUN_AS_NODE=1\n",
      "EUID=1000\n",
      "FORCE_COLOR=1\n",
      "GIT_PAGER=cat\n",
      "GROUPS=()\n",
      "HOME=/home/elkomy\n",
      "HOSTNAME=elkomy\n",
      "HOSTTYPE=x86_64\n",
      "IFS=$' \\t\\n'\n",
      "LANG=C.UTF-8\n",
      "LESSCLOSE='/usr/bin/lesspipe %s %s'\n",
      "LESSOPEN='| /usr/bin/lesspipe %s'\n",
      "LOGNAME=elkomy\n",
      "LS_COLORS='rs=0:di=01;34:ln=01;36:mh=00:pi=40;33:so=01;35:do=01;35:bd=40;33;01:cd=40;33;01:or=40;31;01:mi=00:su=37;41:sg=30;43:ca=30;41:tw=30;42:ow=34;42:st=37;44:ex=01;32:*.tar=01;31:*.tgz=01;31:*.arc=01;31:*.arj=01;31:*.taz=01;31:*.lha=01;31:*.lz4=01;31:*.lzh=01;31:*.lzma=01;31:*.tlz=01;31:*.txz=01;31:*.tzo=01;31:*.t7z=01;31:*.zip=01;31:*.z=01;31:*.dz=01;31:*.gz=01;31:*.lrz=01;31:*.lz=01;31:*.lzo=01;31:*.xz=01;31:*.zst=01;31:*.tzst=01;31:*.bz2=01;31:*.bz=01;31:*.tbz=01;31:*.tbz2=01;31:*.tz=01;31:*.deb=01;31:*.rpm=01;31:*.jar=01;31:*.war=01;31:*.ear=01;31:*.sar=01;31:*.rar=01;31:*.alz=01;31:*.ace=01;31:*.zoo=01;31:*.cpio=01;31:*.7z=01;31:*.rz=01;31:*.cab=01;31:*.wim=01;31:*.swm=01;31:*.dwm=01;31:*.esd=01;31:*.jpg=01;35:*.jpeg=01;35:*.mjpg=01;35:*.mjpeg=01;35:*.gif=01;35:*.bmp=01;35:*.pbm=01;35:*.pgm=01;35:*.ppm=01;35:*.tga=01;35:*.xbm=01;35:*.xpm=01;35:*.tif=01;35:*.tiff=01;35:*.png=01;35:*.svg=01;35:*.svgz=01;35:*.mng=01;35:*.pcx=01;35:*.mov=01;35:*.mpg=01;35:*.mpeg=01;35:*.m2v=01;35:*.mkv=01;35:*.webm=01;35:*.ogm=01;35:*.mp4=01;35:*.m4v=01;35:*.mp4v=01;35:*.vob=01;35:*.qt=01;35:*.nuv=01;35:*.wmv=01;35:*.asf=01;35:*.rm=01;35:*.rmvb=01;35:*.flc=01;35:*.avi=01;35:*.fli=01;35:*.flv=01;35:*.gl=01;35:*.dl=01;35:*.xcf=01;35:*.xwd=01;35:*.yuv=01;35:*.cgm=01;35:*.emf=01;35:*.ogv=01;35:*.ogx=01;35:*.aac=00;36:*.au=00;36:*.flac=00;36:*.m4a=00;36:*.mid=00;36:*.midi=00;36:*.mka=00;36:*.mp3=00;36:*.mpc=00;36:*.ogg=00;36:*.ra=00;36:*.wav=00;36:*.oga=00;36:*.opus=00;36:*.spx=00;36:*.xspf=00;36:'\n",
      "MACHTYPE=x86_64-pc-linux-gnu\n",
      "MOTD_SHOWN=update-motd\n",
      "MPLBACKEND=module://matplotlib_inline.backend_inline\n",
      "NAME=elkomy\n",
      "OPTERR=1\n",
      "OPTIND=1\n",
      "OSTYPE=linux-gnu\n",
      "PAGER=cat\n",
      "PATH='/home/elkomy/anaconda3/envs/cplayground/bin:/home/elkomy/.vscode-server/bin/5c3e652f63e798a5ac2f31ffd0d863669328dc4c/bin/remote-cli:/home/elkomy/anaconda3/bin:/home/elkomy/anaconda3/condabin:/usr/local/sbin:/usr/local/bin:/usr/sbin:/usr/bin:/sbin:/bin:/usr/games:/usr/local/games:/usr/lib/wsl/lib:/mnt/c/Program Files (x86)/Common Files/Oracle/Java/javapath:/mnt/c/GAMS/44:/mnt/c/GAMS/44/gbin:/mnt/c/WINDOWS/system32:/mnt/c/WINDOWS:/mnt/c/WINDOWS/System32/Wbem:/mnt/c/WINDOWS/System32/WindowsPowerShell/v1.0:/mnt/c/WINDOWS/System32/OpenSSH:/mnt/c/Program Files/Java/jdk-1.8/bin:/mnt/c/Program Files/Calibre2:/mnt/c/msys64/mingw64/bin:/mnt/c/ProgramData/chocolatey/bin:/mnt/c/Program Files/PowerShell/7:/mnt/c/Program Files/PowerShell/7-preview/preview:/mnt/c/Program Files/Git/cmd:/mnt/c/Users/komy2/.pyenv/pyenv-win/bin:/mnt/c/Users/komy2/.pyenv/pyenv-win/shims:/mnt/c/Users/komy2/anaconda3:/mnt/c/Users/komy2/anaconda3/Library/mingw-w64/bin:/mnt/c/Users/komy2/anaconda3/Library/usr/bin:/mnt/c/Users/komy2/anaconda3/Library/bin:/mnt/c/Users/komy2/anaconda3/Scripts:/mnt/c/Users/komy2/AppData/Local/Microsoft/WindowsApps:/mnt/c/Users/komy2/AppData/Local/Programs/Microsoft VS Code/bin:/mnt/c/msys64/usr/bin:/snap/bin:/home/elkomy/.vscode-server/bin/5c3e652f63e798a5ac2f31ffd0d863669328dc4c/bin/remote-cli:/home/elkomy/anaconda3/bin:/home/elkomy/anaconda3/condabin:/usr/local/sbin:/usr/local/bin:/usr/sbin:/usr/bin:/sbin:/bin:/usr/games:/usr/local/games:/usr/lib/wsl/lib:/mnt/c/Program Files (x86)/Common Files/Oracle/Java/javapath:/mnt/c/GAMS/44:/mnt/c/GAMS/44/gbin:/mnt/c/WINDOWS/system32:/mnt/c/WINDOWS:/mnt/c/WINDOWS/System32/Wbem:/mnt/c/WINDOWS/System32/WindowsPowerShell/v1.0:/mnt/c/WINDOWS/System32/OpenSSH:/mnt/c/Program Files/Java/jdk-1.8/bin:/mnt/c/Program Files/Calibre2:/mnt/c/msys64/mingw64/bin:/mnt/c/ProgramData/chocolatey/bin:/mnt/c/Program Files/PowerShell/7:/mnt/c/Program Files/PowerShell/7-preview/preview:/mnt/c/Program Files/Git/cmd:/mnt/c/Users/komy2/.pyenv/pyenv-win/bin:/mnt/c/Users/komy2/.pyenv/pyenv-win/shims:/mnt/c/Users/komy2/anaconda3:/mnt/c/Users/komy2/anaconda3/Library/mingw-w64/bin:/mnt/c/Users/komy2/anaconda3/Library/usr/bin:/mnt/c/Users/komy2/anaconda3/Library/bin:/mnt/c/Users/komy2/anaconda3/Scripts:/mnt/c/Users/komy2/AppData/Local/Microsoft/WindowsApps:/mnt/c/Users/komy2/AppData/Local/Programs/Microsoft VS Code/bin:/mnt/c/msys64/usr/bin:/snap/bin'\n",
      "PPID=57521\n",
      "PS4='+ '\n",
      "PULSE_SERVER=unix:/mnt/wslg/PulseServer\n",
      "PWD=/home/elkomy/alx-system_engineering-devops\n"
     ]
    },
    {
     "name": "stdout",
     "output_type": "stream",
     "text": [
      "PYDEVD_IPYTHON_COMPATIBLE_DEBUGGING=1\n",
      "PYDEVD_USE_FRAME_EVAL=NO\n",
      "PYTHONIOENCODING=utf-8\n",
      "PYTHONUNBUFFERED=1\n",
      "SHELL=/bin/bash\n",
      "SHELLOPTS=braceexpand:hashall:interactive-comments\n",
      "SHLVL=2\n",
      "TERM=xterm-color\n",
      "UID=1000\n",
      "USER=elkomy\n",
      "VSCODE_AMD_ENTRYPOINT=vs/workbench/api/node/extensionHostProcess\n",
      "VSCODE_CWD='/mnt/c/Users/komy2/AppData/Local/Programs/Microsoft VS Code'\n",
      "VSCODE_HANDLES_SIGPIPE=true\n",
      "VSCODE_HANDLES_UNCAUGHT_ERRORS=true\n",
      "VSCODE_IPC_HOOK_CLI=/run/user/1000/vscode-ipc-fbaec959-bd3d-40a2-af3c-04cb827617f1.sock\n",
      "VSCODE_NLS_CONFIG='{\"locale\":\"en\",\"osLocale\":\"en\",\"availableLanguages\":{}}'\n",
      "VSCODE_WSL_EXT_LOCATION=/mnt/c/Users/komy2/.vscode/extensions/ms-vscode-remote.remote-wsl-0.88.0\n",
      "WAYLAND_DISPLAY=wayland-0\n",
      "WSL2_GUI_APPS_ENABLED=1\n",
      "WSLENV=VSCODE_WSL_EXT_LOCATION/up\n",
      "WSL_DISTRO_NAME=Ubuntu-20.04\n",
      "WSL_INTEROP=/run/WSL/544_interop\n",
      "XDG_DATA_DIRS=/usr/local/share:/usr/share:/var/lib/snapd/desktop\n",
      "XDG_RUNTIME_DIR=/run/user/1000/\n",
      "_=./0x03-shell_variables_expansions/5-local_variables\n",
      "_CE_CONDA=\n",
      "_CE_M=\n"
     ]
    }
   ],
   "source": [
    "%%bash\n",
    "chmod u+x 0x03-shell_variables_expansions/5-local_variables\n",
    "./0x03-shell_variables_expansions/5-local_variables"
   ]
  },
  {
   "cell_type": "code",
   "execution_count": 49,
   "metadata": {},
   "outputs": [
    {
     "name": "stdout",
     "output_type": "stream",
     "text": [
      "[main ab56858] 0x03-shell_variables_expansions/5-local_variables\n",
      " 2 files changed, 128 insertions(+), 47 deletions(-)\n",
      " create mode 100755 0x03-shell_variables_expansions/5-local_variables\n"
     ]
    },
    {
     "name": "stderr",
     "output_type": "stream",
     "text": [
      "To https://github.com/elkomysara/alx-system_engineering-devops.git\n",
      "   dd5bf16..ab56858  main -> main\n"
     ]
    }
   ],
   "source": [
    "%%bash\n",
    "git add .\n",
    "git commit -m \"0x03-shell_variables_expansions/5-local_variables\"\n",
    "git push"
   ]
  },
  {
   "cell_type": "markdown",
   "metadata": {},
   "source": [
    "### \n",
    "\n",
    "\n",
    "---\n",
    "<center>\n",
    "<h4> 6. Local variable </h4>\n",
    "</center>\n",
    "\n",
    "---"
   ]
  },
  {
   "cell_type": "markdown",
   "metadata": {},
   "source": [
    "##### Create a script that creates a new local variable.\n",
    "* Name: `BEST`\n",
    "* Value: `School`\n",
    "\n",
    "#### Repo:\n",
    "\n",
    "* GitHub repository: `alx-system_engineering-devops`\n",
    "* Directory: `0x03-shell_variables_expansions`\n",
    "* File: `6-create_local_varaible`"
   ]
  },
  {
   "cell_type": "code",
   "execution_count": 50,
   "metadata": {},
   "outputs": [
    {
     "name": "stdout",
     "output_type": "stream",
     "text": [
      "Writing 0x03-shell_variables_expansions/6-create_local_variable\n"
     ]
    }
   ],
   "source": [
    "%%file 0x03-shell_variables_expansions/6-create_local_variable\n",
    "#!/bin/bash\n",
    "BEST=\"School\" "
   ]
  },
  {
   "cell_type": "code",
   "execution_count": 51,
   "metadata": {},
   "outputs": [],
   "source": [
    "%%bash\n",
    "chmod u+x  0x03-shell_variables_expansions/6-create_local_variable\n",
    "\n"
   ]
  },
  {
   "cell_type": "code",
   "execution_count": 52,
   "metadata": {},
   "outputs": [
    {
     "name": "stdout",
     "output_type": "stream",
     "text": [
      "[main e8693d9] 0x03-shell_variables_expansions/6-create_local_variable\n",
      " 2 files changed, 18 insertions(+), 40 deletions(-)\n",
      " create mode 100755 0x03-shell_variables_expansions/6-create_local_variable\n"
     ]
    },
    {
     "name": "stderr",
     "output_type": "stream",
     "text": [
      "To https://github.com/elkomysara/alx-system_engineering-devops.git\n",
      "   ab56858..e8693d9  main -> main\n"
     ]
    }
   ],
   "source": [
    "%%bash\n",
    "git add .\n",
    "git commit -m \"0x03-shell_variables_expansions/6-create_local_variable\"\n",
    "git push"
   ]
  },
  {
   "cell_type": "markdown",
   "metadata": {},
   "source": [
    "### \n",
    "\n",
    "\n",
    "---\n",
    "<center>\n",
    "<h4> 7. Global variable </h4>\n",
    "</center>\n",
    "\n",
    "---"
   ]
  },
  {
   "cell_type": "markdown",
   "metadata": {},
   "source": [
    "##### Create a script that creates a new global variable.\n",
    "\n",
    "* Name: BEST\n",
    "* Value: School\n",
    "#### Repo:\n",
    "\n",
    "* GitHub repository: `alx-system_engineering-devops`\n",
    "* Directory: `0x03-shell_variable_expansions`\n",
    "* File: `7-create_global_variable`"
   ]
  },
  {
   "cell_type": "code",
   "execution_count": 53,
   "metadata": {},
   "outputs": [
    {
     "name": "stdout",
     "output_type": "stream",
     "text": [
      "Writing 0x03-shell_variables_expansions/7-create_global_variable\n"
     ]
    }
   ],
   "source": [
    "%%file 0x03-shell_variables_expansions/7-create_global_variable\n",
    "#!/bin/bash\n",
    "export BEST=\"School\""
   ]
  },
  {
   "cell_type": "code",
   "execution_count": 54,
   "metadata": {},
   "outputs": [],
   "source": [
    "%%bash\n",
    "chmod u+x 0x03-shell_variables_expansions/7-create_global_variable"
   ]
  },
  {
   "cell_type": "code",
   "execution_count": 55,
   "metadata": {},
   "outputs": [],
   "source": [
    "!./0x03-shell_variables_expansions/7-create_global_variable"
   ]
  },
  {
   "cell_type": "code",
   "execution_count": 56,
   "metadata": {},
   "outputs": [
    {
     "name": "stdout",
     "output_type": "stream",
     "text": [
      "[main 92dad2a] 0x03-shell_variables_expansions/7-create_global_variable\n",
      " 2 files changed, 22 insertions(+), 39 deletions(-)\n",
      " create mode 100755 0x03-shell_variables_expansions/7-create_global_variable\n"
     ]
    },
    {
     "name": "stderr",
     "output_type": "stream",
     "text": [
      "To https://github.com/elkomysara/alx-system_engineering-devops.git\n",
      "   e8693d9..92dad2a  main -> main\n"
     ]
    }
   ],
   "source": [
    "%%bash\n",
    "git add .\n",
    "git commit -m \"0x03-shell_variables_expansions/7-create_global_variable\"\n",
    "git push"
   ]
  },
  {
   "cell_type": "markdown",
   "metadata": {},
   "source": [
    "### \n",
    "\n",
    "\n",
    "---\n",
    "<center>\n",
    "<h4> 8. Every addition to true knowledge is an addition to human power </h4>\n",
    "</center>\n",
    "\n",
    "---"
   ]
  },
  {
   "cell_type": "markdown",
   "metadata": {},
   "source": [
    "##### Write a script that prints the result of the addition of 128 with the value stored in the environment variable TRUEKNOWLEDGE, followed by a new line.\n",
    "\n",
    "```bash\n",
    "julien@production-503e7013:~$ export TRUEKNOWLEDGE=1209\n",
    "julien@production-503e7013:~$ ./8-true_knowledge | cat -e\n",
    "1337$\n",
    "julien@production-503e7013:~$\n",
    "```\n",
    "\n",
    "#### Repo:\n",
    "\n",
    "* GitHub repository: `alx-system_engineering-devops`\n",
    "* Directory: `0x03-shell_vairables_expansions`\n",
    "* File: ` 8-true_knowledge`\n"
   ]
  },
  {
   "cell_type": "code",
   "execution_count": 61,
   "metadata": {},
   "outputs": [
    {
     "name": "stdout",
     "output_type": "stream",
     "text": [
      "Overwriting 0x03-shell_variables_expansions/8-true_knowledge\n"
     ]
    }
   ],
   "source": [
    "%%file 0x03-shell_variables_expansions/8-true_knowledge\n",
    "#!/bin/bash\n",
    "echo $((128 + $TRUEKNOWLEDGE))"
   ]
  },
  {
   "cell_type": "code",
   "execution_count": 62,
   "metadata": {},
   "outputs": [],
   "source": [
    "%%bash\n",
    "chmod u+x 0x03-shell_variables_expansions/8-true_knowledge"
   ]
  },
  {
   "cell_type": "code",
   "execution_count": 65,
   "metadata": {},
   "outputs": [
    {
     "name": "stdout",
     "output_type": "stream",
     "text": [
      "1337$\n"
     ]
    }
   ],
   "source": [
    "%%bash\n",
    "export TRUEKNOWLEDGE=1209\n",
    "./0x03-shell_variables_expansions/8-true_knowledge | cat -e\n"
   ]
  },
  {
   "cell_type": "code",
   "execution_count": 66,
   "metadata": {},
   "outputs": [
    {
     "name": "stdout",
     "output_type": "stream",
     "text": [
      "[main 94de287] 0x03-shell_variables_expansions/8-true_knowledge\n",
      " 2 files changed, 34 insertions(+), 56 deletions(-)\n",
      " create mode 100755 0x03-shell_variables_expansions/8-true_knowledge\n"
     ]
    },
    {
     "name": "stderr",
     "output_type": "stream",
     "text": [
      "To https://github.com/elkomysara/alx-system_engineering-devops.git\n",
      "   92dad2a..94de287  main -> main\n"
     ]
    }
   ],
   "source": [
    "%%bash\n",
    "git add .\n",
    "git commit -m \"0x03-shell_variables_expansions/8-true_knowledge\"\n",
    "git push"
   ]
  },
  {
   "cell_type": "markdown",
   "metadata": {},
   "source": [
    "### \n",
    "\n",
    "\n",
    "---\n",
    "<center>\n",
    "<h4> 9. Divide and rule</h4>\n",
    "</center>\n",
    "\n",
    "---"
   ]
  },
  {
   "cell_type": "markdown",
   "metadata": {},
   "source": [
    "##### Write a script that prints the result of POWER divided by DIVIDE, followed by a new line.\n",
    "\n",
    "* POWER and DIVIDE are environment variables\n",
    "\n",
    "```bash\n",
    "julien@production-503e7013:~$ export POWER=42784\n",
    "julien@production-503e7013:~$ export DIVIDE=32\n",
    "julien@production-503e7013:~$ ./9-divide_and_rule | cat -e\n",
    "1337$\n",
    "julien@production-503e7013:~$\n",
    "```\n",
    "\n",
    "\n",
    "#### Repo:\n",
    "\n",
    "* GitHub repository: `alx-system_engineering-devops`\n",
    "* Directory: `0x03-shell_variables_expansions`\n",
    "* File: `9-divide_and_rule`"
   ]
  },
  {
   "cell_type": "code",
   "execution_count": 67,
   "metadata": {},
   "outputs": [
    {
     "name": "stdout",
     "output_type": "stream",
     "text": [
      "Writing 0x03-shell_variables_expansions/9-divide_and_rule\n"
     ]
    }
   ],
   "source": [
    "%%file 0x03-shell_variables_expansions/9-divide_and_rule\n",
    "#!/bin/bash\n",
    "echo $(($POWER / $DIVIDE))"
   ]
  },
  {
   "cell_type": "code",
   "execution_count": 70,
   "metadata": {},
   "outputs": [
    {
     "name": "stdout",
     "output_type": "stream",
     "text": [
      "1337$\n"
     ]
    }
   ],
   "source": [
    "%%bash\n",
    "chmod u+x 0x03-shell_variables_expansions/9-divide_and_rule\n",
    "export POWER=42784\n",
    "export DIVIDE=32\n",
    "\n",
    "./0x03-shell_variables_expansions/9-divide_and_rule | cat -e\n"
   ]
  },
  {
   "cell_type": "code",
   "execution_count": 71,
   "metadata": {},
   "outputs": [
    {
     "name": "stdout",
     "output_type": "stream",
     "text": [
      "[main b33127e] 9.Divide and rule\n",
      " 2 files changed, 38 insertions(+), 54 deletions(-)\n",
      " create mode 100755 0x03-shell_variables_expansions/9-divide_and_rule\n"
     ]
    },
    {
     "name": "stderr",
     "output_type": "stream",
     "text": [
      "To https://github.com/elkomysara/alx-system_engineering-devops.git\n",
      "   94de287..b33127e  main -> main\n"
     ]
    }
   ],
   "source": [
    "%%bash\n",
    "git add .\n",
    "git commit -m \"9.Divide and rule\"\n",
    "git push"
   ]
  },
  {
   "cell_type": "markdown",
   "metadata": {},
   "source": [
    "### \n",
    "\n",
    "\n",
    "---\n",
    "<center>\n",
    "<h4> 10. Love is anterior to life, posterior to death, initial of creation, and the exponent of breath</h4>\n",
    "</center>\n",
    "\n",
    "---"
   ]
  },
  {
   "cell_type": "markdown",
   "metadata": {},
   "source": [
    "##### Write a script that displays the result of BREATH to the power LOVE\n",
    "* `BREATH` and `LOVE` are environment variables\n",
    "* The script should display the result, followed by a new line\n",
    "\n",
    "```bash\n",
    "julien@production-503e7013:~/$ export BREATH=4\n",
    "julien@production-503e7013:~/$ export LOVE=3\n",
    "julien@production-503e7013:~/$ ./10-love_exponent_breath\n",
    "64\n",
    "julien@production-503e7013:~/$ \n",
    "```\n",
    "\n",
    "#### Repo:\n",
    "\n",
    "* GitHub repository: `alx-system_engineering-devops`\n",
    "* Directory: `0x03-shell_variables_expansions`\n",
    "* File: `10-love_exponent_breath`"
   ]
  },
  {
   "cell_type": "code",
   "execution_count": 72,
   "metadata": {},
   "outputs": [
    {
     "name": "stdout",
     "output_type": "stream",
     "text": [
      "Writing 0x03-shell_variables_expansions/10-love_exponent_breath\n"
     ]
    }
   ],
   "source": [
    "%%file 0x03-shell_variables_expansions/10-love_exponent_breath\n",
    "#!/bin/bash\n",
    "echo $((BREATH ** LOVE))"
   ]
  },
  {
   "cell_type": "code",
   "execution_count": 73,
   "metadata": {},
   "outputs": [
    {
     "name": "stdout",
     "output_type": "stream",
     "text": [
      "64\n"
     ]
    }
   ],
   "source": [
    "%%bash\n",
    "chmod u+x 0x03-shell_variables_expansions/10-love_exponent_breath\n",
    "export BREATH=4\n",
    "export LOVE=3\n",
    "./0x03-shell_variables_expansions/10-love_exponent_breath\n"
   ]
  },
  {
   "cell_type": "code",
   "execution_count": 74,
   "metadata": {},
   "outputs": [
    {
     "name": "stdout",
     "output_type": "stream",
     "text": [
      "[main c6e2a83] 0x03-shell_variables_expansions/10-love_exponent_breath\n",
      " 2 files changed, 29 insertions(+), 72 deletions(-)\n",
      " create mode 100755 0x03-shell_variables_expansions/10-love_exponent_breath\n"
     ]
    },
    {
     "name": "stderr",
     "output_type": "stream",
     "text": [
      "To https://github.com/elkomysara/alx-system_engineering-devops.git\n",
      "   b33127e..c6e2a83  main -> main\n"
     ]
    }
   ],
   "source": [
    "%%bash\n",
    "git add .\n",
    "git commit -m \"0x03-shell_variables_expansions/10-love_exponent_breath\"\n",
    "git push"
   ]
  },
  {
   "cell_type": "markdown",
   "metadata": {},
   "source": [
    "### \n",
    "\n",
    "\n",
    "---\n",
    "<center>\n",
    "<h4> 11. There are 10 types of people in the world -- Those who understand binary, and those who don't</h4>\n",
    "</center>\n",
    "\n",
    "---"
   ]
  },
  {
   "cell_type": "markdown",
   "metadata": {},
   "source": [
    "##### Write a script that converts a number from base 2 to base 10.\n",
    "\n",
    "* The number in base 2 is stored in the environment variable BINARY\n",
    "* The script should display the number in base 10, followed by a new line\n",
    "```bash\n",
    "julien@production-503e7013:~/$ export BINARY=10100111001\n",
    "julien@production-503e7013:~/$ ./11-binary_to_decimal\n",
    "1337\n",
    "julien@production-503e7013:~/$\n",
    "```\n",
    "\n",
    "#### Repo:\n",
    "\n",
    "* GitHub repository: `alx-system_engineering-devops`\n",
    "* Directory: `0x03-shell_variables_expansions`\n",
    "* File: `11-binary_to_decimal`"
   ]
  },
  {
   "cell_type": "code",
   "execution_count": 77,
   "metadata": {},
   "outputs": [
    {
     "name": "stdout",
     "output_type": "stream",
     "text": [
      "Overwriting 0x03-shell_variables_expansions/11-binary_to_decimal\n"
     ]
    }
   ],
   "source": [
    "%%file 0x03-shell_variables_expansions/11-binary_to_decimal\n",
    "#!/bin/bash\n",
    "echo $((2#$BINARY))"
   ]
  },
  {
   "cell_type": "code",
   "execution_count": 78,
   "metadata": {},
   "outputs": [],
   "source": [
    "%%bash\n",
    "chmod u+x  0x03-shell_variables_expansions/11-binary_to_decimal\n",
    "\n",
    "\n"
   ]
  },
  {
   "cell_type": "code",
   "execution_count": 81,
   "metadata": {},
   "outputs": [
    {
     "name": "stdout",
     "output_type": "stream",
     "text": [
      "1337\n"
     ]
    }
   ],
   "source": [
    "%%bash\n",
    "export BINARY=10100111001\n",
    "./0x03-shell_variables_expansions/11-binary_to_decimal"
   ]
  },
  {
   "cell_type": "code",
   "execution_count": 82,
   "metadata": {},
   "outputs": [
    {
     "name": "stdout",
     "output_type": "stream",
     "text": [
      "[main d3531ff] 0x03-shell_variables_expansions/11-binary_to_decimal\n",
      " 2 files changed, 30 insertions(+), 58 deletions(-)\n",
      " create mode 100755 0x03-shell_variables_expansions/11-binary_to_decimal\n"
     ]
    },
    {
     "name": "stderr",
     "output_type": "stream",
     "text": [
      "To https://github.com/elkomysara/alx-system_engineering-devops.git\n",
      "   c6e2a83..d3531ff  main -> main\n"
     ]
    }
   ],
   "source": [
    "%%bash\n",
    "git add .\n",
    "git commit -m \"0x03-shell_variables_expansions/11-binary_to_decimal\"\n",
    "git push"
   ]
  },
  {
   "cell_type": "markdown",
   "metadata": {},
   "source": [
    "### \n",
    "\n",
    "\n",
    "---\n",
    "<center>\n",
    "<h4> 12.Combination</h4>\n",
    "</center>\n",
    "\n",
    "---"
   ]
  },
  {
   "cell_type": "markdown",
   "metadata": {},
   "source": [
    "##### Create a script that prints all possible combinations of two letters, except `oo`.\n",
    "\n",
    "* Letters are lower cases, from `a` to `z`\n",
    "* One combination per line\n",
    "* The output should be alpha ordered, starting with `aa`\n",
    "* Do not print `oo`\n",
    "* Your script file should contain maximum 64 characters\n",
    "\n",
    "\n",
    "```bash\n",
    "julien@ubuntu:/tmp/0x03$ echo $((26 ** 2 -1))\n",
    "675\n",
    "julien@ubuntu:/tmp/0x03$ ./12-combinations | wc -l\n",
    "675\n",
    "julien@ubuntu:/tmp/0x03$ \n",
    "julien@ubuntu:/tmp/0x03$ ./12-combinations | tail -303 | head -10\n",
    "oi\n",
    "oj\n",
    "ok\n",
    "ol\n",
    "om\n",
    "on\n",
    "op\n",
    "oq\n",
    "or\n",
    "os\n",
    "julien@ubuntu:/tmp/0x03$\n",
    "```\n",
    "#### Repo:\n",
    "\n",
    "* GitHub repository: `alx-system_engineering-devops`\n",
    "* Directory: `0x03-shell_variables_expansions`\n",
    "* File: `12-combinations`"
   ]
  },
  {
   "cell_type": "code",
   "execution_count": 93,
   "metadata": {},
   "outputs": [
    {
     "name": "stdout",
     "output_type": "stream",
     "text": [
      "Writing 0x03-shell_variables_expansions/12-combinations\n"
     ]
    }
   ],
   "source": [
    "%%file 0x03-shell_variables_expansions/12-combinations\n",
    "#!/bin/bash\n",
    "echo {a..z}{a..z} | tr ' ' '\\n' | grep -v 'oo'"
   ]
  },
  {
   "cell_type": "code",
   "execution_count": 18,
   "metadata": {},
   "outputs": [
    {
     "name": "stdout",
     "output_type": "stream",
     "text": [
      "aa ab ac ad ae af ag ah ai aj ak al am an ao ap aq ar as at au av aw ax ay az ba bb bc bd be bf bg bh bi bj bk bl bm bn bo bp bq br bs bt bu bv bw bx by bz ca cb cc cd ce cf cg ch ci cj ck cl cm cn co cp cq cr cs ct cu cv cw cx cy cz da db dc dd de df dg dh di dj dk dl dm dn do dp dq dr ds dt du dv dw dx dy dz ea eb ec ed ee ef eg eh ei ej ek el em en eo ep eq er es et eu ev ew ex ey ez fa fb fc fd fe ff fg fh fi fj fk fl fm fn fo fp fq fr fs ft fu fv fw fx fy fz ga gb gc gd ge gf gg gh gi gj gk gl gm gn go gp gq gr gs gt gu gv gw gx gy gz ha hb hc hd he hf hg hh hi hj hk hl hm hn ho hp hq hr hs ht hu hv hw hx hy hz ia ib ic id ie if ig ih ii ij ik il im in io ip iq ir is it iu iv iw ix iy iz ja jb jc jd je jf jg jh ji jj jk jl jm jn jo jp jq jr js jt ju jv jw jx jy jz ka kb kc kd ke kf kg kh ki kj kk kl km kn ko kp kq kr ks kt ku kv kw kx ky kz la lb lc ld le lf lg lh li lj lk ll lm ln lo lp lq lr ls lt lu lv lw lx ly lz ma mb mc md me mf mg mh mi mj mk ml mm mn mo mp mq mr ms mt mu mv mw mx my mz na nb nc nd ne nf ng nh ni nj nk nl nm nn no np nq nr ns nt nu nv nw nx ny nz oa ob oc od oe of og oh oi oj ok ol om on oo op oq or os ot ou ov ow ox oy oz pa pb pc pd pe pf pg ph pi pj pk pl pm pn po pp pq pr ps pt pu pv pw px py pz qa qb qc qd qe qf qg qh qi qj qk ql qm qn qo qp qq qr qs qt qu qv qw qx qy qz ra rb rc rd re rf rg rh ri rj rk rl rm rn ro rp rq rr rs rt ru rv rw rx ry rz sa sb sc sd se sf sg sh si sj sk sl sm sn so sp sq sr ss st su sv sw sx sy sz ta tb tc td te tf tg th ti tj tk tl tm tn to tp tq tr ts tt tu tv tw tx ty tz ua ub uc ud ue uf ug uh ui uj uk ul um un uo up uq ur us ut uu uv uw ux uy uz va vb vc vd ve vf vg vh vi vj vk vl vm vn vo vp vq vr vs vt vu vv vw vx vy vz wa wb wc wd we wf wg wh wi wj wk wl wm wn wo wp wq wr ws wt wu wv ww wx wy wz xa xb xc xd xe xf xg xh xi xj xk xl xm xn xo xp xq xr xs xt xu xv xw xx xy xz ya yb yc yd ye yf yg yh yi yj yk yl ym yn yo yp yq yr ys yt yu yv yw yx yy yz za zb zc zd ze zf zg zh zi zj zk zl zm zn zo zp zq zr zs zt zu zv zw zx zy zz\n"
     ]
    }
   ],
   "source": [
    "\n",
    "!echo {a..z}{a..z} | tr ' ' '\\n' | grep -v 'oo'"
   ]
  },
  {
   "cell_type": "code",
   "execution_count": 97,
   "metadata": {},
   "outputs": [
    {
     "name": "stdout",
     "output_type": "stream",
     "text": [
      "675\n"
     ]
    },
    {
     "name": "stdout",
     "output_type": "stream",
     "text": [
      "675\n",
      "oi\n",
      "oj\n",
      "ok\n",
      "ol\n",
      "om\n",
      "on\n",
      "op\n",
      "oq\n",
      "or\n",
      "os\n"
     ]
    }
   ],
   "source": [
    "\n",
    "! chmod u+x 0x03-shell_variables_expansions/12-combinations\n",
    "\n",
    "! echo $((26 ** 2 -1))\n",
    "\n",
    "!./0x03-shell_variables_expansions/12-combinations | wc -l\n",
    "\n",
    "!./0x03-shell_variables_expansions/12-combinations | tail -303 | head -10\n"
   ]
  },
  {
   "cell_type": "code",
   "execution_count": 134,
   "metadata": {},
   "outputs": [
    {
     "name": "stdout",
     "output_type": "stream",
     "text": [
      "676\n",
      "oo\n"
     ]
    }
   ],
   "source": [
    "# Python script to generate a list of two-letter combinations, excluding 'oo'\n",
    "\n",
    "combinations = [chr(first) + chr(second) for first in range(ord('a'), ord('z') + 1)\n",
    "                for second in range(ord('a'), ord('z') + 1) #if chr(first) + chr(second) != 'oo'\n",
    "                ]\n",
    "\n",
    "# Print the length of the list\n",
    "print(len(combinations))\n",
    "print(combinations[int(14*26+14)])"
   ]
  },
  {
   "cell_type": "code",
   "execution_count": 14,
   "metadata": {},
   "outputs": [
    {
     "name": "stdout",
     "output_type": "stream",
     "text": [
      "26\n",
      "n\n"
     ]
    }
   ],
   "source": [
    "combinations_ =  [chr(combi) for combi in range(ord('a'),ord('z')+1)]\n",
    "print(len(combinations_))\n",
    "print(combinations_[13])"
   ]
  },
  {
   "cell_type": "code",
   "execution_count": 1,
   "metadata": {},
   "outputs": [
    {
     "name": "stdout",
     "output_type": "stream",
     "text": [
      "[main 3f0a7b7] 0x02-shell_redirections/12-newest_files\n",
      " 2 files changed, 122 insertions(+), 59 deletions(-)\n",
      " create mode 100755 0x03-shell_variables_expansions/12-combinations\n"
     ]
    },
    {
     "name": "stderr",
     "output_type": "stream",
     "text": [
      "To https://github.com/elkomysara/alx-system_engineering-devops.git\n",
      "   d3531ff..3f0a7b7  main -> main\n"
     ]
    }
   ],
   "source": [
    "%%bash\n",
    "git add .\n",
    "git commit -m \"0x02-shell_redirections/12-newest_files\"\n",
    "git push"
   ]
  },
  {
   "cell_type": "markdown",
   "metadata": {},
   "source": [
    "### \n",
    "\n",
    "\n",
    "---\n",
    "<center>\n",
    "<h4> 13. Floats</h4>\n",
    "</center>\n",
    "\n",
    "---"
   ]
  },
  {
   "cell_type": "markdown",
   "metadata": {},
   "source": [
    "##### Write a script that prints a number with two decimal places, followed by a new line.\n",
    "\n",
    "The number will be stored in the environment variable `NUM`.\n",
    "\n",
    "```bash\n",
    "ubuntu@ip-172-31-63-244:~/0x03$ export NUM=0\n",
    "ubuntu@ip-172-31-63-244:~/0x03$ ./13-print_float\n",
    "0.00\n",
    "ubuntu@ip-172-31-63-244:~/0x03$ export NUM=98\n",
    "ubuntu@ip-172-31-63-244:~/0x03$ ./13-print_float\n",
    "98.00\n",
    "ubuntu@ip-172-31-63-244:~/0x03$ export NUM=3.14159265359\n",
    "ubuntu@ip-172-31-63-244:~/0x03$ ./13-print_float\n",
    "3.14\n",
    "ubuntu@ip-172-31-63-244:~/0x03$\n",
    "```\n",
    "#### Repo:\n",
    "\n",
    "* GitHub repository: `alx-system_engineering-devops`\n",
    "* Directory: `0x03-shell_variables_expansions`\n",
    "* File: `13-print_float`"
   ]
  },
  {
   "cell_type": "code",
   "execution_count": 2,
   "metadata": {},
   "outputs": [
    {
     "name": "stdout",
     "output_type": "stream",
     "text": [
      "Writing 0x03-shell_variables_expansions/13-print_float\n"
     ]
    }
   ],
   "source": [
    "%%file 0x03-shell_variables_expansions/13-print_float\n",
    "#!/bin/bash\n",
    "printf \"%.2f\\n\" $NUM"
   ]
  },
  {
   "cell_type": "code",
   "execution_count": 3,
   "metadata": {},
   "outputs": [],
   "source": [
    "%%bash\n",
    "chmod u+x 0x03-shell_variables_expansions/13-print_float"
   ]
  },
  {
   "cell_type": "code",
   "execution_count": 7,
   "metadata": {},
   "outputs": [
    {
     "name": "stdout",
     "output_type": "stream",
     "text": [
      "3.14\n"
     ]
    }
   ],
   "source": [
    "! export NUM=3.141592; ./0x03-shell_variables_expansions/13-print_float"
   ]
  },
  {
   "cell_type": "code",
   "execution_count": 8,
   "metadata": {},
   "outputs": [
    {
     "name": "stdout",
     "output_type": "stream",
     "text": [
      "[main 4e1f96b] 0x02-shell_redirections/13-unique3\n",
      " 2 files changed, 31 insertions(+), 98 deletions(-)\n",
      " create mode 100755 0x03-shell_variables_expansions/13-print_float\n"
     ]
    },
    {
     "name": "stderr",
     "output_type": "stream",
     "text": [
      "To https://github.com/elkomysara/alx-system_engineering-devops.git\n",
      "   3f0a7b7..4e1f96b  main -> main\n"
     ]
    }
   ],
   "source": [
    "%%bash\n",
    "git add .\n",
    "git commit -m \"0x02-shell_redirections/13-unique3\"\n",
    "git push"
   ]
  },
  {
   "cell_type": "markdown",
   "metadata": {},
   "source": [
    "### \n",
    "\n",
    "\n",
    "---\n",
    "<center>\n",
    "<h4> 14. Decimal to Hexadecimal</h4>\n",
    "</center>\n",
    "\n",
    "---"
   ]
  },
  {
   "cell_type": "markdown",
   "metadata": {},
   "source": [
    "##### Write a script that converts a number from base 10 to base 16.\n",
    "\n",
    "* The number in base 10 is stored in the environment variable `DECIMAL`\n",
    "* The script should display the number in base 16, followed by a new line\n",
    "\n",
    " \n",
    "```bash\n",
    "julien@production-503e7013:~/$ export DECIMAL=16\n",
    "julien@production-503e7013:~/$ ./100-decimal_to_hexadecimal\n",
    "10\n",
    "julien@production-503e7013:~/$ export DECIMAL=1337\n",
    "julien@production-503e7013:~/$ ./100-decimal_to_hexadecimal | cat -e\n",
    "539$\n",
    "julien@production-503e7013:~/$ export DECIMAL=15\n",
    "julien@production-503e7013:~/$ ./100-decimal_to_hexadecimal | cat -e\n",
    "f$\n",
    "julien@production-503e7013:~/$\n",
    "```\n",
    "\n",
    "#### Repo:\n",
    "\n",
    "* GitHub repository: `alx-system_engineering-devops`\n",
    "* Directory: `0x03-shell_variables_expansions`\n",
    "* File: `100-decimal_to_hexadecimal`"
   ]
  },
  {
   "cell_type": "code",
   "execution_count": 9,
   "metadata": {},
   "outputs": [
    {
     "name": "stdout",
     "output_type": "stream",
     "text": [
      "Writing 0x03-shell_variables_expansions/100-decimal_to_hexadecimal\n"
     ]
    }
   ],
   "source": [
    "%%file 0x03-shell_variables_expansions/100-decimal_to_hexadecimal\n",
    "#!/bin/bash\n",
    "printf \"%x\\n\" $DECIMAL"
   ]
  },
  {
   "cell_type": "code",
   "execution_count": 10,
   "metadata": {},
   "outputs": [
    {
     "name": "stdout",
     "output_type": "stream",
     "text": [
      "0\n"
     ]
    }
   ],
   "source": [
    "%%bash\n",
    "\n",
    "chmod u+x 0x03-shell_variables_expansions/100-decimal_to_hexadecimal\n",
    "source ./0x03-shell_variables_expansions/100-decimal_to_hexadecimal\n"
   ]
  },
  {
   "cell_type": "code",
   "execution_count": 11,
   "metadata": {},
   "outputs": [
    {
     "name": "stdout",
     "output_type": "stream",
     "text": [
      "[main 6718e52] 0x03-shell_variables_expansions/100-decimal_to_hexadecimal\n",
      " 2 files changed, 33 insertions(+), 22 deletions(-)\n",
      " create mode 100755 0x03-shell_variables_expansions/100-decimal_to_hexadecimal\n"
     ]
    },
    {
     "name": "stderr",
     "output_type": "stream",
     "text": [
      "To https://github.com/elkomysara/alx-system_engineering-devops.git\n",
      "   4e1f96b..6718e52  main -> main\n"
     ]
    }
   ],
   "source": [
    "%%bash\n",
    "git add .\n",
    "git commit -m \"0x03-shell_variables_expansions/100-decimal_to_hexadecimal\"\n",
    "git push"
   ]
  },
  {
   "cell_type": "markdown",
   "metadata": {},
   "source": [
    "### \n",
    "\n",
    "\n",
    "---\n",
    "<center>\n",
    "<h4> 15. Everyone is a proponent of strong encryption</h4>\n",
    "</center>\n",
    "\n",
    "---"
   ]
  },
  {
   "cell_type": "markdown",
   "metadata": {},
   "source": [
    "##### Write a script that encodes and decodes text using the rot13 encryption. Assume ASCII.\n",
    "\n",
    "\n",
    "```bash\n",
    "julien@production-503e7013:~/shell/fun_with_the_shell$ cat quote\n",
    "\"Everyone is a proponent of strong encryption.\"\n",
    "- Dorothy E. Denning\n",
    "julien@production-503e7013:~/shell/fun_with_the_shell$ ./101-rot13 < quote\n",
    "\"Rirelbar vf n cebcbarag bs fgebat rapelcgvba.\"\n",
    "- Qbebgul R. Qraavat\n",
    "julien@production-503e7013:~/shell/fun_with_the_shell$ \n",
    "```\n",
    "\n",
    "#### Repo:\n",
    "\n",
    "* GitHub repository: `alx-system_engineering-devops`\n",
    "* Directory: `0x03-shell_variables_expansions`\n",
    "* File: `101-rot13`"
   ]
  },
  {
   "cell_type": "code",
   "execution_count": 41,
   "metadata": {},
   "outputs": [
    {
     "name": "stdout",
     "output_type": "stream",
     "text": [
      "Overwriting 0x03-shell_variables_expansions/101-rot13\n"
     ]
    }
   ],
   "source": [
    "%%file 0x03-shell_variables_expansions/101-rot13\n",
    "#!/bin/bash\n",
    "tr 'A-Za-z' 'N-ZA-Mn-za-m'"
   ]
  },
  {
   "cell_type": "code",
   "execution_count": 33,
   "metadata": {},
   "outputs": [
    {
     "name": "stdout",
     "output_type": "stream",
     "text": [
      "Overwriting 0x03-shell_variables_expansions/101-rot13\n"
     ]
    }
   ],
   "source": [
    "%%file 0x03-shell_variables_expansions/101-rot13\n",
    "#!/bin/bash\n",
    "tr 'ABCDEFGHIJKLMNOPQRSTUVWXYZabcdefghijklmnopqrstuvwxyz' 'NOPQRSTUVWXYZABCDEFGHIJKLMnopqrstuvwxyzabcdefghijklm'"
   ]
  },
  {
   "cell_type": "code",
   "execution_count": 27,
   "metadata": {},
   "outputs": [
    {
     "name": "stdout",
     "output_type": "stream",
     "text": [
      "Overwriting 0x03-shell_variables_expansions/quote\n"
     ]
    }
   ],
   "source": [
    "%%file 0x03-shell_variables_expansions/quote\n",
    "\"Everyone is a proponent of strong encryption.\"\n",
    "- Dorothy E. Denning"
   ]
  },
  {
   "cell_type": "code",
   "execution_count": 42,
   "metadata": {},
   "outputs": [
    {
     "name": "stdout",
     "output_type": "stream",
     "text": [
      "\"Rirelbar vf n cebcbarag bs fgebat rapelcgvba.\"\n",
      "- Qbebgul R. Qraavat\n"
     ]
    }
   ],
   "source": [
    "\n",
    "! chmod u+x  0x03-shell_variables_expansions/101-rot13\n",
    "! ./0x03-shell_variables_expansions/101-rot13 0< 0x03-shell_variables_expansions/quote"
   ]
  },
  {
   "cell_type": "code",
   "execution_count": 13,
   "metadata": {},
   "outputs": [
    {
     "name": "stdout",
     "output_type": "stream",
     "text": [
      "NOPQRSTUVWXYZABCDEFGHIJKLM\n"
     ]
    }
   ],
   "source": [
    "def rot13(text):\n",
    "    result = []\n",
    "    for char in text:\n",
    "        if 'a' <= char <= 'z':  # Check for lowercase\n",
    "            offset = ord('a')\n",
    "            result.append(chr((ord(char) - offset + 13) % 26 + offset))\n",
    "        elif 'A' <= char <= 'Z':  # Check for uppercase\n",
    "            offset = ord('A')\n",
    "            result.append(chr((ord(char) - offset + 13) % 26 + offset))\n",
    "        else:\n",
    "            result.append(char)  # Non-alphabetical characters remain unchanged\n",
    "    return ''.join(result)\n",
    "\n",
    "# Example usage:\n",
    "original_text = \"ABCDEFGHIJKLMNOPQRSTUVWXYZ\"\n",
    "encoded_text = rot13(original_text)\n",
    "print(encoded_text)\n"
   ]
  },
  {
   "cell_type": "code",
   "execution_count": 16,
   "metadata": {},
   "outputs": [
    {
     "name": "stdout",
     "output_type": "stream",
     "text": [
      "25\n"
     ]
    }
   ],
   "source": [
    "print(25%26)"
   ]
  },
  {
   "cell_type": "code",
   "execution_count": 15,
   "metadata": {},
   "outputs": [
    {
     "name": "stdout",
     "output_type": "stream",
     "text": [
      "26\n",
      "n\n"
     ]
    }
   ],
   "source": [
    "combinations_ =  [chr(combi) for combi in range(ord('a'),ord('z')+1)]\n",
    "print(len(combinations_))\n",
    "print(combinations_[13])"
   ]
  },
  {
   "cell_type": "code",
   "execution_count": 43,
   "metadata": {},
   "outputs": [
    {
     "name": "stdout",
     "output_type": "stream",
     "text": [
      "[main 874012a] 00x03-shell_variables_expansions/quote\n",
      " 2 files changed, 10 insertions(+), 9 deletions(-)\n"
     ]
    },
    {
     "name": "stderr",
     "output_type": "stream",
     "text": [
      "To https://github.com/elkomysara/alx-system_engineering-devops.git\n",
      "   e4ca2ca..874012a  main -> main\n"
     ]
    }
   ],
   "source": [
    "%%bash\n",
    "git add .\n",
    "git commit -m \"00x03-shell_variables_expansions/quote\"\n",
    "git push"
   ]
  },
  {
   "cell_type": "markdown",
   "metadata": {},
   "source": [
    "### \n",
    "\n",
    "\n",
    "---\n",
    "<center>\n",
    "<h4> 16. The eggs of the brood need to be an odd number</h4>\n",
    "</center>\n",
    "\n",
    "---"
   ]
  },
  {
   "cell_type": "markdown",
   "metadata": {},
   "source": [
    "##### Write a script that prints every other line from the input, starting with the first line.\n",
    "\n",
    "\n",
    "```bash\n",
    "ubuntu@ip-172-31-63-244:/$ \\ls -1\n",
    "bin\n",
    "boot\n",
    "dev\n",
    "etc\n",
    "home\n",
    "initrd.img\n",
    "lib\n",
    "lib32\n",
    "lib64\n",
    "libx32\n",
    "lost+found\n",
    "media\n",
    "mnt\n",
    "opt\n",
    "proc\n",
    "root\n",
    "run\n",
    "sbin\n",
    "srv\n",
    "sys\n",
    "t\n",
    "#t#\n",
    "t~\n",
    "tmp\n",
    "usr\n",
    "var\n",
    "vmlinuz\n",
    "whoareyou\n",
    "ubuntu@ip-172-31-63-244:/$ \\ls -1 | ./102-odd\n",
    "bin\n",
    "dev\n",
    "home\n",
    "lib\n",
    "lib64\n",
    "lost+found\n",
    "mnt\n",
    "proc\n",
    "run\n",
    "srv\n",
    "t\n",
    "t~\n",
    "usr\n",
    "vmlinuz\n",
    "ubuntu@ip-172-31-63-244:/$\n",
    "```\n",
    "\n",
    "#### Repo:\n",
    "\n",
    "* GitHub repository: `alx-system_engineering-devops`\n",
    "* Directory: `0x03-shell_variable_expansions`\n",
    "* File: `102-odd`"
   ]
  },
  {
   "cell_type": "code",
   "execution_count": 55,
   "metadata": {},
   "outputs": [
    {
     "name": "stdout",
     "output_type": "stream",
     "text": [
      "Overwriting 0x03-shell_variables_expansions/102-odd\n"
     ]
    }
   ],
   "source": [
    "%%file 0x03-shell_variables_expansions/102-odd\n",
    "#!/bin/bash\n",
    "ls -1 | paste -d, - - | cut -d, -f1 - -"
   ]
  },
  {
   "cell_type": "code",
   "execution_count": 50,
   "metadata": {},
   "outputs": [
    {
     "name": "stdout",
     "output_type": "stream",
     "text": [
      "0x00-shell_basics.ipynb\n",
      "0x01-shell_permissions.ipynb\n",
      "0x02. Shell\n",
      "0x03-shell_variables_expansions.ipynb\n",
      "An_Acrostic\n",
      "\\*\\\\'\"Best School\"\\'\\\\*$\\?\\*\\*\\*\\*\\*:)\n",
      "iacta\n",
      "nasa_19950801.tsv\n",
      "test.HTML\n",
      "\n"
     ]
    }
   ],
   "source": [
    "! ls -1 | paste -d, - - | cut -d, -f2 - -"
   ]
  },
  {
   "cell_type": "code",
   "execution_count": 56,
   "metadata": {},
   "outputs": [
    {
     "name": "stdout",
     "output_type": "stream",
     "text": [
      "0x00-shell_basics\n",
      "0x01-shell_permissions\n",
      "0x02-shell_redirections\n",
      "0x03-shell_variables_expansions\n",
      "An Acrostic\n",
      "README.md\n",
      "hello\n",
      "ls_cwd_content\n",
      "school.mgc\n",
      "test.gif\n"
     ]
    }
   ],
   "source": [
    "%%bash\n",
    "chmod u+x 0x03-shell_variables_expansions/102-odd\n",
    "source ./0x03-shell_variables_expansions/102-odd\n"
   ]
  },
  {
   "cell_type": "code",
   "execution_count": 57,
   "metadata": {},
   "outputs": [
    {
     "name": "stdout",
     "output_type": "stream",
     "text": [
      "[main d6812ef] x03-shell_variables_expansions/102-odd\n",
      " 2 files changed, 20 insertions(+), 20 deletions(-)\n"
     ]
    },
    {
     "name": "stderr",
     "output_type": "stream",
     "text": [
      "To https://github.com/elkomysara/alx-system_engineering-devops.git\n",
      "   29f8ed7..d6812ef  main -> main\n"
     ]
    }
   ],
   "source": [
    "%%bash\n",
    "git add .\n",
    "git commit -m \"x03-shell_variables_expansions/102-odd\"\n",
    "git push"
   ]
  },
  {
   "cell_type": "markdown",
   "metadata": {},
   "source": [
    "### \n",
    "\n",
    "\n",
    "---\n",
    "<center>\n",
    "<h4> 17. I'm an instant star. Just add water and stir.</h4>\n",
    "</center>\n",
    "\n",
    "---"
   ]
  },
  {
   "cell_type": "markdown",
   "metadata": {},
   "source": [
    "##### Write a shell script that adds the two numbers stored in the environment variables WATER and STIR and prints the result.\n",
    "\n",
    "* `WATER` is in base `water`\n",
    "* `STIR` is in base `stir`.\n",
    "* The result should be in base `bestchol`\n",
    "\n",
    "```bash\n",
    "julien@production-503e7013:~$ export WATER=\"ewwatratewa\"\n",
    "julien@production-503e7013:~$ export STIR=\"ti.itirtrtr\"\n",
    "julien@production-503e7013:~$ ./103-water_and_stir\n",
    "shtbeolhc\n",
    "julien@production-503e7013:~$\n",
    "```\n",
    "\n",
    "#### Repo:\n",
    "\n",
    "* GitHub repository: `alx-system_engineering-devops`\n",
    "* Directory: `0x03-shell_variables_expansions`\n",
    "* File: `103-water_and_stir`"
   ]
  },
  {
   "cell_type": "code",
   "execution_count": 58,
   "metadata": {},
   "outputs": [
    {
     "name": "stdout",
     "output_type": "stream",
     "text": [
      "Writing 0x03-shell_variables_expansions/103-water_and_stir\n"
     ]
    }
   ],
   "source": [
    "%%file 0x03-shell_variables_expansions/103-water_and_stir\n",
    "#!/bin/bash\n",
    "printf \"%o\\n\" $(( $((5#$(echo $WATER | tr water 01234))) + $((5#$(echo $STIR | tr stir. 01234))) )) | tr 01234567 bestchol"
   ]
  },
  {
   "cell_type": "code",
   "execution_count": 60,
   "metadata": {},
   "outputs": [
    {
     "name": "stdout",
     "output_type": "stream",
     "text": [
      "eobeocsoh\n"
     ]
    }
   ],
   "source": [
    "%%bash\n",
    "export WATER=\"ewwatratewa\"\n",
    "STIR=\"ti.itirtrtr\"\n",
    "chmod u+x 0x03-shell_variables_expansions/103-water_and_stir\n",
    "./0x03-shell_variables_expansions/103-water_and_stir"
   ]
  },
  {
   "cell_type": "code",
   "execution_count": 4,
   "metadata": {},
   "outputs": [],
   "source": [
    "!./0x03-shell_variables_expansions/103-water_and_stir"
   ]
  },
  {
   "cell_type": "code",
   "execution_count": 61,
   "metadata": {},
   "outputs": [
    {
     "name": "stdout",
     "output_type": "stream",
     "text": [
      "[main 0e00aa3] 17\n",
      " 2 files changed, 39 insertions(+), 29 deletions(-)\n",
      " create mode 100755 0x03-shell_variables_expansions/103-water_and_stir\n"
     ]
    },
    {
     "name": "stderr",
     "output_type": "stream",
     "text": [
      "To https://github.com/elkomysara/alx-system_engineering-devops.git\n",
      "   d6812ef..0e00aa3  main -> main\n"
     ]
    }
   ],
   "source": [
    "%%bash\n",
    "git add .\n",
    "git commit -m \"17\"\n",
    "git push"
   ]
  },
  {
   "cell_type": "code",
   "execution_count": null,
   "metadata": {},
   "outputs": [],
   "source": []
  }
 ],
 "metadata": {
  "kernelspec": {
   "display_name": "Python 3",
   "language": "python",
   "name": "python3"
  },
  "language_info": {
   "codemirror_mode": {
    "name": "ipython",
    "version": 3
   },
   "file_extension": ".py",
   "mimetype": "text/x-python",
   "name": "python",
   "nbconvert_exporter": "python",
   "pygments_lexer": "ipython3",
   "version": "3.11.7"
  }
 },
 "nbformat": 4,
 "nbformat_minor": 2
}
