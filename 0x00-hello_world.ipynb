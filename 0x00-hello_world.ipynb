{
 "cells": [
  {
   "cell_type": "markdown",
   "metadata": {},
   "source": [
    "---\n",
    "<center>\n",
    "<h1>  alx-low_level_programming </h1>\n",
    "</center>\n",
    "\n",
    "---\n"
   ]
  },
  {
   "cell_type": "code",
   "execution_count": 2,
   "metadata": {},
   "outputs": [
    {
     "name": "stdout",
     "output_type": "stream",
     "text": [
      "Writing README.md\n"
     ]
    }
   ],
   "source": [
    "%%file README.md\n",
    "## alx-low_level_programming"
   ]
  },
  {
   "cell_type": "code",
   "execution_count": 1,
   "metadata": {},
   "outputs": [
    {
     "data": {
      "text/plain": [
       "'/home/elkomy/alx-low_level_programming'"
      ]
     },
     "execution_count": 1,
     "metadata": {},
     "output_type": "execute_result"
    }
   ],
   "source": [
    "%pwd"
   ]
  },
  {
   "cell_type": "code",
   "execution_count": 6,
   "metadata": {},
   "outputs": [],
   "source": [
    "import os\n",
    "# creating 0x02-shell_redirectionss\n",
    "\n",
    "folder_path = r'/home/elkomy/alx-low_level_programming/0x00-hello_world'\n",
    "if not os.path.exists(folder_path):\n",
    "    os.makedirs(folder_path)\n",
    "\n",
    "# Create a README.md inside alx-low_level_programming/0x00-hello_world\n",
    "file_path = os.path.join(folder_path, 'README.md')\n",
    "\n",
    "with open(file_path, 'w') as file:\n",
    "    file.write(\"This is a README.md file inside alx-low_level_programming/0x00-hello_world\")\n",
    "\n"
   ]
  },
  {
   "cell_type": "code",
   "execution_count": 4,
   "metadata": {},
   "outputs": [
    {
     "name": "stdout",
     "output_type": "stream",
     "text": [
      "/home/elkomy/alx-low_level_programming\n"
     ]
    }
   ],
   "source": [
    "!pwd"
   ]
  },
  {
   "cell_type": "code",
   "execution_count": 11,
   "metadata": {},
   "outputs": [
    {
     "name": "stdout",
     "output_type": "stream",
     "text": [
      "Overwriting /home/elkomy/alx-low_level_programming/0x00-hello_world/README.md\n"
     ]
    }
   ],
   "source": [
    "%%file /home/elkomy/alx-low_level_programming/0x00-hello_world/README.md\n",
    "This is a README.md"
   ]
  },
  {
   "cell_type": "code",
   "execution_count": 5,
   "metadata": {},
   "outputs": [
    {
     "name": "stdout",
     "output_type": "stream",
     "text": [
      "Reinitialized existing Git repository in /home/elkomy/alx-low_level_programming/.git/\n",
      "[master (root-commit) 0bc5795] first commit\n",
      " 1 file changed, 2 insertions(+)\n",
      " create mode 100644 README.md\n"
     ]
    },
    {
     "name": "stderr",
     "output_type": "stream",
     "text": [
      "fatal: remote origin already exists.\n",
      "To https://github.com/elkomysara/alx-low_level_programming.git\n",
      " * [new branch]      main -> main\n"
     ]
    },
    {
     "name": "stdout",
     "output_type": "stream",
     "text": [
      "Branch 'main' set up to track remote branch 'main' from 'origin'.\n"
     ]
    }
   ],
   "source": [
    "%%bash\n",
    "echo \"# alx-low_level_programming\" >> README.md\n",
    "git init\n",
    "git add README.md\n",
    "git commit -m \"first commit\"\n",
    "git branch -M main\n",
    "git remote add origin git@github.com:elkomysara/alx-low_level_programming.git\n",
    "git push -u origin main"
   ]
  },
  {
   "cell_type": "code",
   "execution_count": 12,
   "metadata": {},
   "outputs": [
    {
     "name": "stdout",
     "output_type": "stream",
     "text": [
      "Already up to date.\n",
      "Everything up-to-date\n"
     ]
    }
   ],
   "source": [
    "!git pull\n",
    "!git push"
   ]
  },
  {
   "cell_type": "markdown",
   "metadata": {},
   "source": [
    "###\n",
    "---\n",
    "<center>\n",
    "<h1> 0x00. C - Hello, World  </h1>\n",
    "</center>\n",
    "\n",
    "---\n"
   ]
  },
  {
   "cell_type": "markdown",
   "metadata": {},
   "source": [
    "###\n",
    "---\n",
    "<center>\n",
    "<h4>  0. Preprocessor </h4>\n",
    "</center>\n",
    "\n",
    "---"
   ]
  },
  {
   "cell_type": "markdown",
   "metadata": {},
   "source": [
    "\n",
    "#### Write a script that runs a C file through the preprocessor and save the result into another file.\n",
    "\n",
    "* The C file name will be saved in the variable ` $CFILE`\n",
    "* The output should be saved in the file `c`\n",
    "\n",
    "```bash\n",
    "julien@ubuntu:~/c/0x00$ cat main.c \n",
    "#include <stdio.h>\n",
    "\n",
    "/**\n",
    " * main - Entry point\n",
    " *\n",
    " * Return: Always 0 (Success)\n",
    " */\n",
    "int main(void)\n",
    "{\n",
    "    return (0);\n",
    "}\n",
    "julien@ubuntu:~/c/0x00$ export CFILE=main.c\n",
    "julien@ubuntu:~/c/0x00$ ./0-preprocessor \n",
    "julien@ubuntu:~/c/0x00$ tail c\n",
    "# 942 \"/usr/include/stdio.h\" 3 4\n",
    "\n",
    "# 2 \"main.c\" 2\n",
    "\n",
    "\n",
    "# 3 \"main.c\"\n",
    "int main(void)\n",
    "{\n",
    " return (0);\n",
    "}\n",
    "julien@ubuntu:~/c/0x00$   \n",
    "```\n",
    "\n",
    "\n",
    "#### Repo:\n",
    "* GitHub repository: ``` alx-system_engineering-devops ```\n",
    "* Directory: ```0x00-hello_world``` \n",
    "* File: ``` 0-preprocessor```"
   ]
  },
  {
   "cell_type": "code",
   "execution_count": 12,
   "metadata": {},
   "outputs": [
    {
     "name": "stdout",
     "output_type": "stream",
     "text": [
      "Overwriting 0x00-hello_world/0-preprocessor\n"
     ]
    }
   ],
   "source": [
    "%%file 0x00-hello_world/0-preprocessor\n",
    "#!/bin/bash\n",
    "gcc -E $CFILE 1> c"
   ]
  },
  {
   "cell_type": "code",
   "execution_count": 1,
   "metadata": {},
   "outputs": [
    {
     "name": "stdout",
     "output_type": "stream",
     "text": [
      "Writing 0x00-hello_world/main.c\n"
     ]
    }
   ],
   "source": [
    "%%file 0x00-hello_world/main.c\n",
    "#include <stdio.h>\n",
    "\n",
    "/**\n",
    " * main - Entry point\n",
    " *\n",
    " * Return: Always 0 (Success)\n",
    " */\n",
    "int main(void)\n",
    "{\n",
    "    return (0);\n",
    "}"
   ]
  },
  {
   "cell_type": "code",
   "execution_count": 3,
   "metadata": {},
   "outputs": [],
   "source": [
    "!chmod u+x 0x00-hello_world/0-preprocessor"
   ]
  },
  {
   "cell_type": "code",
   "execution_count": 13,
   "metadata": {},
   "outputs": [
    {
     "name": "stdout",
     "output_type": "stream",
     "text": [
      "\n",
      "========== 0x00-hello_world/0-preprocessor ==========\n"
     ]
    }
   ],
   "source": [
    "!betty 0x00-hello_world/0-preprocessor"
   ]
  },
  {
   "cell_type": "code",
   "execution_count": 9,
   "metadata": {},
   "outputs": [],
   "source": [
    "%%bash\n",
    "export CFILE=0x00-hello_world/main.c \n",
    "./0x00-hello_world/0-preprocessor"
   ]
  },
  {
   "cell_type": "code",
   "execution_count": 8,
   "metadata": {},
   "outputs": [
    {
     "name": "stdout",
     "output_type": "stream",
     "text": [
      "[main 22ed186] 0x00-hello_world/0-preprocessor\n",
      " 5 files changed, 3479 insertions(+)\n",
      " create mode 100644 0x00-hello_world.ipynb\n",
      " create mode 100755 0x00-hello_world/0-preprocessor\n",
      " create mode 100644 0x00-hello_world/README.md\n",
      " create mode 100644 0x00-hello_world/main.c\n",
      " create mode 100644 c\n",
      "Enumerating objects: 9, done.\n",
      "Counting objects: 100% (9/9), done.\n",
      "Delta compression using up to 12 threads\n",
      "Compressing objects: 100% (6/6), done.\n",
      "Writing objects: 100% (8/8), 14.92 KiB | 7.46 MiB/s, done.\n",
      "Total 8 (delta 0), reused 0 (delta 0)\n",
      "To https://github.com/elkomysara/alx-low_level_programming.git\n",
      "   0bc5795..22ed186  main -> main\n",
      "Branch 'main' set up to track remote branch 'main' from 'origin'.\n"
     ]
    }
   ],
   "source": [
    "\n",
    "!git add .\n",
    "!git commit -m \"0x00-hello_world/0-preprocessor\"\n",
    "!git push -u origin main"
   ]
  },
  {
   "cell_type": "markdown",
   "metadata": {},
   "source": [
    "###\n",
    "---\n",
    "<center>\n",
    "<h4> 1. Compiler </h4>\n",
    "</center>\n",
    "\n",
    "---\n"
   ]
  },
  {
   "cell_type": "markdown",
   "metadata": {},
   "source": [
    "##### Write a script that compiles a C file but does not link.\n",
    "\n",
    "* The C file name will be saved in the variable $CFILE\n",
    "* The output file should be named the same as the C file, but with the extension .o instead of .c.\n",
    "    * Example: if the C file is main.c, the output file should be main.o\n",
    "```bash\n",
    "    julien@ubuntu:~/c/0x00$ export CFILE=main.c\n",
    "julien@ubuntu:~/c/0x00$ cat main.c\n",
    "#include <stdio.h>\n",
    "\n",
    "/**\n",
    " * main - Entry point\n",
    " *\n",
    " * Return: Always 0 (Success)\n",
    " */\n",
    "int main(void)\n",
    "{\n",
    "    return (0);\n",
    "}\n",
    "julien@ubuntu:~/c/0x00$ ./1-compiler \n",
    "julien@ubuntu:~/c/0x00$ ls\n",
    "0-preprocessor  1-compiler   c            main.o\n",
    "Makefile               100-intel      main.c  main.s\n",
    "julien@ubuntu:~/c/0x00$ cat -v main.o | head\n",
    "^?ELF^B^A^A^@^@^@^@^@^@^@^@^@^A^@>^@^A^@^@^@^@^@^@^@^@^@^@^@^@^@^@^@^@^@^@^@^P^B^@^@^@^@^@^@^@^@^@^@@^@^@^@^@^@@^@^K^@^H^@UHM-^IM-eM-8^@^@^@^@]M-C^@GCC: (Ubuntu 5.4.0-6ubuntu1~16.04.2) 5.4.0 20160609^@^T^@^@^@^@^@^@^@^AzR^@^Ax^P^A^[^L^G^HM-^P^A^@^@^\\^@^@^@^\\^@^@^@^@^@^@^@^K^@^@^@^@A^N^PM-^F^BC^M^FF^L^G^H^@^@^@^@^@^@^@^@^@^@^@^@^@^@^@^@^@^@^@^@^@^@^@^@^@^@^@^A^@^@^@^D^@M-qM-^?^@^@^@^@^@^@^@^@^@^@^@^@^@^@^@^@^@^@^@^@^C^@^A^@^@^@^@^@^@^@^@^@^@^@^@^@^@^@^@^@^@^@^@^@^C^@^B^@^@^@^@^@^@^@^@^@^@^@^@^@^@^@^@^@^@^@^@^@^C^@^C^@^@^@^@^@^@^@^@^@^@^@^@^@^@^@^@^@^@^@^@^@^C^@^E^@^@^@^@^@^@^@^@^@^@^@^@^@^@^@^@^@^@^@^@^@^C^@^F^@^@^@^@^@^@^@^@^@^@^@^@^@^@^@^@^@^@^@^@^@^C^@^D^@^@^@^@^@^@^@^@^@^@^@^@^@^@^@^@^@^H^@^@^@^R^@^A^@^@^@^@^@^@^@^@^@^K^@^@^@^@^@^@^@^@main.c^@main^@^@^@^@ ^@^@^@^@^@^@^@^B^@^@^@^B^@^@^@^@^@^@^@^@^@^@^@^@.symtab^@.strtab^@.shstrtab^@.text^@.data^@.bss^@.comment^@.note.GNU-stack^@.rela.eh_frame^@^@^@^@^@^@^@^@^@^@^@^@^@^@^@^@^@^@^@^@^@^@^@^@^@^@^@^@^@^@^@^@^@^@^@^@^@^@^@^@^@^@^@^@^@^@^@^@^@^@^@^@^@^@^@^@^@^@^@^@^@^@^@^@^@^@^@^@^@^[^@^@^@^A^@^@^@^F^@^@^@^@^@^@^@^@^@^@^@^@^@^@^@@^@^@^@^@^@^@^@^K^@^@^@^@^@^@^@^@^@^@^@^@^@^@^@^A^@^@^@^@^@^@^@^@^@^@^@^@^@^@^@!^@^@^@^A^@^@^@^C^@^@^@^@^@^@^@^@^@^@^@^@^@^@^@K^@^@^@^@^@^@^@^@^@^@^@^@^@^@^@^@^@^@^@^@^@^@^@^A^@^@^@^@^@^@^@^@^@^@^@^@^@^@^@'^@^@^@^H^@^@^@^C^@^@^@^@^@^@^@^@^@^@^@^@^@^@^@K^@^@^@^@^@^@^@^@^@^@^@^@^@^@^@^@^@^@^@^@^@^@^@^A^@^@^@^@^@^@^@^@^@^@^@^@^@^@^@,^@^@^@^A^@^@^@0^@^@^@^@^@^@^@^@^@^@^@^@^@^@^@K^@^@^@^@^@^@^@5^@^@^@^@^@^@^@^@^@^@^@^@^@^@^@^A^@^@^@^@^@^@^@^A^@^@^@^@^@^@^@5^@^@^@^A^@^@^@^@^@^@^@^@^@^@^@^@^@^@^@^@^@^@^@M-^@^@^@^@^@^@^@^@^@^@^@^@^@^@^@^@^@^@^@^@^@^@^@^@^A^@^@^@^@^@^@^@^@^@^@^@^@^@^@^@J^@^@^@^A^@^@^@^B^@^@^@^@^@^@^@^@^@^@^@^@^@^@^@M-^@^@^@^@^@^@^@^@8^@^@^@^@^@^@^@^@^@^@^@^@^@^@^@^H^@^@^@^@^@^@^@^@^@^@^@^@^@^@^@E^@^@^@^D^@^@^@@^@^@^@^@^@^@^@^@^@^@^@^@^@^@^@M- ^A^@^@^@^@^@^@^X^@^@^@^@^@^@^@    ^@^@^@^F^@^@^@^H^@^@^@^@^@^@^@^X^@^@^@^@^@^@^@^Q^@^@^@^C^@^@^@^@^@^@^@^@^@^@^@^@^@^@^@^@^@^@^@M-8^A^@^@^@^@^@^@T^@^@^@^@^@^@^@^@^@^@^@^@^@^@^@^A^@^@^@^@^@^@^@^@^@^@^@^@^@^@^@^A^@^@^@^B^@^@^@^@^@^@^@^@^@^@^@^@^@^@^@^@^@^@^@M-8^@^@^@^@^@^@^@M-X^@^@^@^@^@^@^@\n",
    "^@^@^@^H^@^@^@^H^@^@^@^@^@^@^@^X^@^@^@^@^@^@^@  ^@^@^@^C^@^@^@^@^@^@^@^@^@^@^@^@^@^@^@^@^@^@^@M-^P^A^@^@^@^@^@^@^M^@^@^@^@^@^@^@^@^@^@^@^@^@^@^@^A^@^@^@^@^@^@^@^@^@^@^@^@^@^@^@julien@ubuntu:~/c/0x00$  \n",
    "```\n",
    "\n",
    "* Repo:\n",
    "\n",
    "    * GitHub repository: <code > alx-low_level_programming </code>\n",
    "    * Directory: <code > 0x00-hello_world </code>\n",
    "    * File: <code >  1-compiler </code>\n",
    "   "
   ]
  },
  {
   "cell_type": "code",
   "execution_count": 10,
   "metadata": {},
   "outputs": [
    {
     "name": "stdout",
     "output_type": "stream",
     "text": [
      "Writing 0x00-hello_world/1-compiler\n"
     ]
    }
   ],
   "source": [
    "%%file 0x00-hello_world/1-compiler\n",
    "#!/bin/bash\n",
    "gcc -c $CFILE 1> c"
   ]
  },
  {
   "cell_type": "code",
   "execution_count": 10,
   "metadata": {},
   "outputs": [
    {
     "name": "stdout",
     "output_type": "stream",
     "text": [
      "\n",
      "========== 0x00-hello_world/1-compiler ==========\n"
     ]
    }
   ],
   "source": [
    "!betty 0x00-hello_world/1-compiler"
   ]
  },
  {
   "cell_type": "code",
   "execution_count": 11,
   "metadata": {},
   "outputs": [
    {
     "name": "stdout",
     "output_type": "stream",
     "text": [
      "Overwriting 0x00-hello_world/main.c\n"
     ]
    }
   ],
   "source": [
    "%%file 0x00-hello_world/main.c\n",
    "#include <stdio.h>\n",
    "\n",
    "/**\n",
    " * main - Entry point\n",
    " *\n",
    " * Return: Always 0 (Success)\n",
    " */\n",
    "int main(void)\n",
    "{\n",
    "    return (0);\n",
    "}"
   ]
  },
  {
   "cell_type": "code",
   "execution_count": 14,
   "metadata": {},
   "outputs": [],
   "source": [
    "%%bash\n",
    "chmod u+x 0x00-hello_world/1-compiler\n",
    "export CFILE=0x00-hello_world/main.c \n",
    "./0x00-hello_world/1-compiler"
   ]
  },
  {
   "cell_type": "code",
   "execution_count": 15,
   "metadata": {},
   "outputs": [
    {
     "name": "stdout",
     "output_type": "stream",
     "text": [
      "[main 4b22c5d] 0x03-shell_variables_expansions/1-hello_you\n",
      " 4 files changed, 73 insertions(+), 790 deletions(-)\n",
      " create mode 100755 0x00-hello_world/1-compiler\n",
      " rewrite c (100%)\n",
      " create mode 100644 main.o\n",
      "Enumerating objects: 11, done.\n",
      "Counting objects: 100% (11/11), done.\n",
      "Delta compression using up to 12 threads\n",
      "Compressing objects: 100% (5/5), done.\n",
      "Writing objects: 100% (7/7), 2.10 KiB | 2.10 MiB/s, done.\n",
      "Total 7 (delta 1), reused 0 (delta 0)\n",
      "remote: Resolving deltas: 100% (1/1), completed with 1 local object.\u001b[K\n",
      "To https://github.com/elkomysara/alx-low_level_programming.git\n",
      "   22ed186..4b22c5d  main -> main\n",
      "Branch 'main' set up to track remote branch 'main' from 'origin'.\n"
     ]
    }
   ],
   "source": [
    "\n",
    "!git add .\n",
    "!git commit -m \"0x03-shell_variables_expansions/1-hello_you\"\n",
    "!git push -u origin main"
   ]
  },
  {
   "cell_type": "markdown",
   "metadata": {},
   "source": [
    "###\n",
    "---\n",
    "<center>\n",
    "<h4> 2. Assembler </h4>\n",
    "</center>\n",
    "\n",
    "---"
   ]
  },
  {
   "cell_type": "markdown",
   "metadata": {},
   "source": [
    "#### Write a script that generates the assembly code of a C code and save it in an output file.\n",
    "\n",
    "* The C file name will be saved in the variable $CFILE\n",
    "* The output file should be named the same as the C file, but with the extension .s instead of .c.\n",
    "    * Example: if the C file is main.c, the output file should be main.s\n",
    "\n",
    "```bash\n",
    "julien@ubuntu:~/c/0x00$ export CFILE=main.c\n",
    "julien@ubuntu:~/c/0x00$ cat main.c\n",
    "#include <stdio.h>\n",
    "\n",
    "/**\n",
    " * main - Entry point\n",
    " *\n",
    " * Return: Always 0 (Success)\n",
    " */\n",
    "int main(void)\n",
    "{\n",
    "    return (0);\n",
    "}\n",
    "julien@ubuntu:~/c/0x00$ ./2-assembler\n",
    "julien@ubuntu:~/c/0x00$ ls\n",
    "0-preprocessor  1-compiler  2-assembler c  main.c  main.s  Makefile\n",
    "julien@ubuntu:~/c/0x00$ cat main.s\n",
    "    .file   \"main.c\"\n",
    "    .text\n",
    "    .globl  main\n",
    "    .type   main, @function\n",
    "main:\n",
    ".LFB0:\n",
    "    .cfi_startproc\n",
    "    pushq   %rbp\n",
    "    .cfi_def_cfa_offset 16\n",
    "    .cfi_offset 6, -16\n",
    "    movq    %rsp, %rbp\n",
    "    .cfi_def_cfa_register 6\n",
    "    movl    $0, %eax\n",
    "    popq    %rbp\n",
    "    .cfi_def_cfa 7, 8\n",
    "    ret\n",
    "    .cfi_endproc\n",
    ".LFE0:\n",
    "    .size   main, .-main\n",
    "    .ident  \"GCC: (Ubuntu 5.4.0-6ubuntu1~16.04.2) 5.4.0 20160609\"\n",
    "    .section    .note.GNU-stack,\"\",@progbits\n",
    "julien@ubuntu:~/c/0x00$  \n",
    "```\n",
    "\n",
    "\n",
    "#### Repo:\n",
    "* GitHub repository:   <code>alx-low_level_programming </code>\n",
    "* Directory:   <code> 0x00-hello_world </code>\n",
    "* File:   <code> 2-assembler</code>"
   ]
  },
  {
   "cell_type": "code",
   "execution_count": 1,
   "metadata": {},
   "outputs": [
    {
     "name": "stdout",
     "output_type": "stream",
     "text": [
      "Writing 0x00-hello_world/2-assembler\n"
     ]
    }
   ],
   "source": [
    "%%file 0x00-hello_world/2-assembler\n",
    "#!/bin/bash\n",
    "gcc -S $CFILE"
   ]
  },
  {
   "cell_type": "code",
   "execution_count": 2,
   "metadata": {},
   "outputs": [],
   "source": [
    "%%bash\n",
    "chmod u+x 0x00-hello_world/2-assembler\n",
    "export CFILE=0x00-hello_world/main.c \n",
    "./0x00-hello_world/2-assembler"
   ]
  },
  {
   "cell_type": "code",
   "execution_count": 3,
   "metadata": {},
   "outputs": [
    {
     "name": "stdout",
     "output_type": "stream",
     "text": [
      "[main 6fdf1c4] 0x00-hello_world/2-assembler\n",
      " 3 files changed, 112 insertions(+), 30 deletions(-)\n",
      " create mode 100755 0x00-hello_world/2-assembler\n",
      " create mode 100644 main.s\n",
      "Enumerating objects: 9, done.\n",
      "Counting objects: 100% (9/9), done.\n",
      "Delta compression using up to 12 threads\n",
      "Compressing objects: 100% (5/5), done.\n",
      "Writing objects: 100% (6/6), 1.60 KiB | 1.60 MiB/s, done.\n",
      "Total 6 (delta 2), reused 0 (delta 0)\n",
      "remote: Resolving deltas: 100% (2/2), completed with 2 local objects.\u001b[K\n",
      "To https://github.com/elkomysara/alx-low_level_programming.git\n",
      "   4b22c5d..6fdf1c4  main -> main\n",
      "Branch 'main' set up to track remote branch 'main' from 'origin'.\n"
     ]
    }
   ],
   "source": [
    "!git add .\n",
    "!git commit -m \"0x00-hello_world/2-assembler\"\n",
    "!git push -u origin main"
   ]
  },
  {
   "cell_type": "markdown",
   "metadata": {},
   "source": [
    "###\n",
    "---\n",
    "<center>\n",
    "<h4> 3. Name</h4>\n",
    "</center>\n",
    "\n",
    "---"
   ]
  },
  {
   "cell_type": "markdown",
   "metadata": {},
   "source": [
    "#### Write a script that compiles a C file and creates an executable named cisfun.\n",
    "\n",
    "* The C file name will be saved in the variable $CFILE.\n",
    "```bash\n",
    "julien@ubuntu:~/c/0x00$ export CFILE=main.c\n",
    "julien@ubuntu:~/c/0x00$ cat main.c\n",
    "#include <stdio.h>\n",
    "\n",
    "/**\n",
    " * main - Entry point\n",
    " *\n",
    " * Return: Always 0 (Success)\n",
    " */\n",
    "int main(void)\n",
    "{\n",
    "    return (0);\n",
    "}\n",
    "julien@ubuntu:~/c/0x00$ ./3-name \n",
    "julien@ubuntu:~/c/0x00$ ls\n",
    "0-preprocessor  1-compiler   3-name  cisfun  main.o  Makefile\n",
    "100-intel       2-assembler  c       main.c  main.s\n",
    "julien@ubuntu:~/c/0x00$\n",
    "```\n",
    "\n",
    "\n",
    "#### Repo:\n",
    "* GitHub repository: `alx-low_level_programming`\n",
    "* Directory: `0x00-hello_world`\n",
    "* File: `3-name`"
   ]
  },
  {
   "cell_type": "code",
   "execution_count": 7,
   "metadata": {},
   "outputs": [
    {
     "name": "stdout",
     "output_type": "stream",
     "text": [
      "Overwriting 0x00-hello_world/3-name\n"
     ]
    }
   ],
   "source": [
    "%%file 0x00-hello_world/3-name\n",
    "#!/bin/bash\n",
    "gcc \"$CFILE\"  -o cisfun"
   ]
  },
  {
   "cell_type": "code",
   "execution_count": 8,
   "metadata": {},
   "outputs": [],
   "source": [
    "%%bash\n",
    "chmod u+x 0x00-hello_world/3-name\n",
    "export CFILE=0x00-hello_world/main.c \n",
    "./0x00-hello_world/3-name"
   ]
  },
  {
   "cell_type": "code",
   "execution_count": 9,
   "metadata": {},
   "outputs": [
    {
     "name": "stdout",
     "output_type": "stream",
     "text": [
      "[main 3a7294e] 0x00-hello_world/3-name\n",
      " 3 files changed, 47 insertions(+), 65 deletions(-)\n",
      " create mode 100755 0x00-hello_world/3-name\n",
      " create mode 100755 cisfun\n",
      "Enumerating objects: 9, done.\n",
      "Counting objects: 100% (9/9), done.\n",
      "Delta compression using up to 12 threads\n",
      "Compressing objects: 100% (5/5), done.\n",
      "Writing objects: 100% (6/6), 3.33 KiB | 3.33 MiB/s, done.\n",
      "Total 6 (delta 2), reused 0 (delta 0)\n",
      "remote: Resolving deltas: 100% (2/2), completed with 2 local objects.\u001b[K\n",
      "To https://github.com/elkomysara/alx-low_level_programming.git\n",
      "   6fdf1c4..3a7294e  main -> main\n",
      "Branch 'main' set up to track remote branch 'main' from 'origin'.\n"
     ]
    }
   ],
   "source": [
    "!git add .\n",
    "!git commit -m \"0x00-hello_world/3-name\"\n",
    "!git push -u origin main"
   ]
  },
  {
   "cell_type": "markdown",
   "metadata": {},
   "source": [
    "### \n",
    "\n",
    "\n",
    "---\n",
    "<center>\n",
    "<h4> 4. Hello, puts</h4>\n",
    "</center>\n",
    "\n",
    "---"
   ]
  },
  {
   "cell_type": "markdown",
   "metadata": {},
   "source": [
    "#### Write a C program that prints exactly `\"Programming is like building a multilingual puzzle`, followed by a new line.\n",
    "\n",
    "* Use the function puts\n",
    "* You are not allowed to use printf\n",
    "* Your program should end with the value 0\n",
    "\n",
    "```bash\n",
    "julien@ubuntu:~/c/0x00$ gcc -Wall -Werror -Wextra -pedantic -std=gnu89 4-puts.c && ./a.out\n",
    "\"Programming is like building a multilingual puzzle\n",
    "julien@ubuntu:~/c/0x00$ echo $?\n",
    "0\n",
    "julien@ubuntu:~/c/0x00$ \n",
    "```\n",
    "\n",
    "#### Repo:\n",
    "* GitHub repository: `alx-low_level_programming`\n",
    "* Directory: `0x00-hello_world`\n",
    "* File: `4-puts.c`"
   ]
  },
  {
   "cell_type": "code",
   "execution_count": 28,
   "metadata": {},
   "outputs": [
    {
     "name": "stdout",
     "output_type": "stream",
     "text": [
      "Overwriting 0x00-hello_world/4-puts.c\n"
     ]
    }
   ],
   "source": [
    "%%file 0x00-hello_world/4-puts.c\n",
    "#include <stdio.h>\n",
    "/**\n",
    " * main - Entry point\n",
    " *\n",
    " * Return: Always 0 (Success)\n",
    " */\n",
    "int main(void)\n",
    "{\n",
    "puts(\"\\\"Programming is like building a multilingual puzzle\");\n",
    "return (0);\n",
    "}"
   ]
  },
  {
   "cell_type": "code",
   "execution_count": 29,
   "metadata": {},
   "outputs": [
    {
     "name": "stdout",
     "output_type": "stream",
     "text": [
      "\n",
      "========== 0x00-hello_world/4-puts.c ==========\n"
     ]
    },
    {
     "name": "stdout",
     "output_type": "stream",
     "text": [
      "main\n",
      "\"Programming is like building a multilingual puzzle\n",
      "0\n"
     ]
    }
   ],
   "source": [
    "%%bash\n",
    "betty 0x00-hello_world/4-puts.c\n",
    "gcc -Wall -Werror -Wextra -pedantic -std=gnu89 0x00-hello_world/4-puts.c && ./a.out\n",
    "echo $?"
   ]
  },
  {
   "cell_type": "code",
   "execution_count": 30,
   "metadata": {},
   "outputs": [
    {
     "name": "stdout",
     "output_type": "stream",
     "text": [
      "[main 383695c] 0x02-shell_redirections/4-lastlines\n",
      " 4 files changed, 105 insertions(+), 141 deletions(-)\n",
      " create mode 100644 0x00-hello_world/4-puts.c\n",
      " create mode 100755 a.out\n",
      "Enumerating objects: 11, done.\n",
      "Counting objects: 100% (11/11), done.\n",
      "Delta compression using up to 12 threads\n",
      "Compressing objects: 100% (6/6), done.\n",
      "Writing objects: 100% (7/7), 3.93 KiB | 1.96 MiB/s, done.\n",
      "Total 7 (delta 2), reused 0 (delta 0)\n",
      "remote: Resolving deltas: 100% (2/2), completed with 2 local objects.\u001b[K\n",
      "To https://github.com/elkomysara/alx-low_level_programming.git\n",
      "   3a7294e..383695c  main -> main\n",
      "Branch 'main' set up to track remote branch 'main' from 'origin'.\n"
     ]
    }
   ],
   "source": [
    "!git add .\n",
    "!git commit -m \"0x02-shell_redirections/4-lastlines\"\n",
    "!git push -u origin main"
   ]
  },
  {
   "cell_type": "markdown",
   "metadata": {},
   "source": [
    "### \n",
    "\n",
    "\n",
    "---\n",
    "<center>\n",
    "<h4> 5. Hello, printf</h4>\n",
    "</center>\n",
    "\n",
    "---"
   ]
  },
  {
   "cell_type": "markdown",
   "metadata": {},
   "source": [
    "##### Write a C program that prints exactly `with proper grammar, but the outcome is a piece of art,`, followed by a new line.\n",
    "\n",
    "* Use the function `printf`\n",
    "* You are not allowed to use the function `puts`\n",
    "* Your program should return `0`\n",
    "* Your program should compile without warning when using the `-Wall gcc` option\n",
    "\n",
    "```bash\n",
    "julien@ubuntu:~/c/0x00$ gcc -Wall -Werror -Wextra -pedantic -std=gnu89 5-printf.c\n",
    "julien@ubuntu:~/c/0x00$ ./a.out \n",
    "with proper grammar, but the outcome is a piece of art,\n",
    "julien@ubuntu:~/c/0x00$ echo $?\n",
    "0\n",
    "julien@ubuntu:~/c/0x00$ \n",
    "```\n",
    "\n",
    "##### Repo:\n",
    "\n",
    "* GitHub repository: `alx-system_engineering-devops`\n",
    "* Directory: `0x00-hello_world`\n",
    "* File: `5-printf.c`"
   ]
  },
  {
   "cell_type": "code",
   "execution_count": 50,
   "metadata": {},
   "outputs": [
    {
     "name": "stdout",
     "output_type": "stream",
     "text": [
      "Overwriting 0x00-hello_world/5-printf.c\n"
     ]
    }
   ],
   "source": [
    "%%file 0x00-hello_world/5-printf.c\n",
    "#include <stdio.h>\n",
    "/**\n",
    "* main - Entry point\n",
    "*\n",
    "* Return: Always 0 (Success)\n",
    "*/\n",
    "int main(void)\n",
    "{\n",
    "printf(\"with proper grammar, but the outcome is a piece of art,\\n\");\n",
    "return (0);\n",
    "}"
   ]
  },
  {
   "cell_type": "code",
   "execution_count": 51,
   "metadata": {},
   "outputs": [
    {
     "name": "stdout",
     "output_type": "stream",
     "text": [
      "\n",
      "========== 0x00-hello_world/5-printf.c ==========\n"
     ]
    },
    {
     "name": "stdout",
     "output_type": "stream",
     "text": [
      "main\n",
      "with proper grammar, but the outcome is a piece of art,\n",
      "0\n"
     ]
    }
   ],
   "source": [
    "%%bash\n",
    "betty 0x00-hello_world/5-printf.c\n",
    "gcc -Wall -Werror -Wextra -pedantic -std=gnu89 0x00-hello_world/5-printf.c && ./a.out\n",
    "echo $?"
   ]
  },
  {
   "cell_type": "code",
   "execution_count": 52,
   "metadata": {},
   "outputs": [
    {
     "name": "stdout",
     "output_type": "stream",
     "text": [
      "[main 766743e] with proper grammar, but the outcome is a piece of art,\n",
      " 3 files changed, 37 insertions(+), 31 deletions(-)\n"
     ]
    },
    {
     "name": "stderr",
     "output_type": "stream",
     "text": [
      "To https://github.com/elkomysara/alx-low_level_programming.git\n",
      "   d3a2c06..766743e  main -> main\n"
     ]
    }
   ],
   "source": [
    "%%bash\n",
    "git add .\n",
    "git commit -m \"with proper grammar, but the outcome is a piece of art,\"\n",
    "git push"
   ]
  },
  {
   "cell_type": "markdown",
   "metadata": {},
   "source": [
    "### \n",
    "\n",
    "\n",
    "---\n",
    "<center>\n",
    "<h4> 6. Size is not grandeur, and territory does not make a nation</h4>\n",
    "</center>\n",
    "\n",
    "---"
   ]
  },
  {
   "cell_type": "markdown",
   "metadata": {},
   "source": [
    "##### Write a C program that prints the size of various types on the computer it is compiled and run on.\n",
    "\n",
    "* You should produce the exact same output as in the example\n",
    "* Warnings are allowed\n",
    "* Your program should return 0\n",
    "* You might have to install the package libc6-dev-i386 on your Linux to test the -m32 gcc option\n",
    "```bash\n",
    "julien@ubuntu:~/c/0x00$ gcc 6-size.c -m32 -o size32 2> /tmp/32\n",
    "julien@ubuntu:~/c/0x00$ gcc 6-size.c -m64 -o size64 2> /tmp/64\n",
    "julien@ubuntu:~/c/0x00$ ./size32\n",
    "Size of a char: 1 byte(s)\n",
    "Size of an int: 4 byte(s)\n",
    "Size of a long int: 4 byte(s)\n",
    "Size of a long long int: 8 byte(s)\n",
    "Size of a float: 4 byte(s)\n",
    "julien@ubuntu:~/c/0x00$ ./size64\n",
    "Size of a char: 1 byte(s)\n",
    "Size of an int: 4 byte(s)\n",
    "Size of a long int: 8 byte(s)\n",
    "Size of a long long int: 8 byte(s)\n",
    "Size of a float: 4 byte(s)\n",
    "julien@ubuntu:~/c/0x00$ echo $?\n",
    "0\n",
    "julien@ubuntu:~/c/0x00$\n",
    "```\n",
    "\n",
    "#### Repo:\n",
    "\n",
    "* GitHub repository: `alx-low_level_programming`\n",
    "* Directory: `0x00-hello_world`\n",
    "* File: `6-size.c`"
   ]
  },
  {
   "cell_type": "code",
   "execution_count": 80,
   "metadata": {},
   "outputs": [
    {
     "name": "stdout",
     "output_type": "stream",
     "text": [
      "Overwriting 0x00-hello_world/6-size.c\n"
     ]
    }
   ],
   "source": [
    "%%file 0x00-hello_world/6-size.c\n",
    "#include <stdio.h>\n",
    "/**\n",
    "* main - Entry point\n",
    "*\n",
    "* Return: Always 0 (Success)\n",
    "*/\n",
    "int main(void)\n",
    "{\n",
    "printf(\"Size of a char: %zu byte(s)\\n\", sizeof(char));\n",
    "printf(\"Size of an int: %zu byte(s)\\n\", sizeof(int));\n",
    "printf(\"Size of a long int: %zu byte(s)\\n\", sizeof(long int));\n",
    "printf(\"Size of a long long int: %zu byte(s)\\n\", sizeof(long long int));\n",
    "printf(\"Size of a float: %zu byte(s)\\n\", sizeof(float));\n",
    "}"
   ]
  },
  {
   "cell_type": "code",
   "execution_count": 81,
   "metadata": {},
   "outputs": [
    {
     "name": "stdout",
     "output_type": "stream",
     "text": [
      "\n",
      "========== 0x00-hello_world/6-size.c ==========\n",
      "main\n",
      "Size of a char: 1 byte(s)\n",
      "Size of an int: 4 byte(s)\n",
      "Size of a long int: 4 byte(s)\n",
      "Size of a long long int: 8 byte(s)\n",
      "Size of a float: 4 byte(s)\n",
      "Size of a char: 1 byte(s)\n",
      "Size of an int: 4 byte(s)\n",
      "Size of a long int: 8 byte(s)\n",
      "Size of a long long int: 8 byte(s)\n",
      "Size of a float: 4 byte(s)\n"
     ]
    }
   ],
   "source": [
    "%%bash\n",
    "betty 0x00-hello_world/6-size.c\n",
    "gcc 0x00-hello_world/6-size.c -m32 -o 0x00-hello_world/size32 2> /tmp/32\n",
    "gcc 0x00-hello_world/6-size.c -m64 -o 0x00-hello_world/size64 2> /tmp/64\n",
    "./0x00-hello_world/size32\n",
    "./0x00-hello_world/size64\n"
   ]
  },
  {
   "cell_type": "code",
   "execution_count": 79,
   "metadata": {},
   "outputs": [
    {
     "name": "stdout",
     "output_type": "stream",
     "text": [
      "[main b0010e5] 0x03-shell_variables_expansions/6-create_local_variable\n",
      " 4 files changed, 8 insertions(+), 8 deletions(-)\n"
     ]
    },
    {
     "name": "stderr",
     "output_type": "stream",
     "text": [
      "To https://github.com/elkomysara/alx-low_level_programming.git\n",
      "   1a63e37..b0010e5  main -> main\n"
     ]
    }
   ],
   "source": [
    "%%bash\n",
    "git add .\n",
    "git commit -m \"0x03-shell_variables_expansions/6-create_local_variable\"\n",
    "git push"
   ]
  },
  {
   "cell_type": "markdown",
   "metadata": {},
   "source": [
    "### \n",
    "\n",
    "\n",
    "---\n",
    "<center>\n",
    "<h4> 7. Global variable </h4>\n",
    "</center>\n",
    "\n",
    "---"
   ]
  },
  {
   "cell_type": "markdown",
   "metadata": {},
   "source": [
    "##### Create a script that creates a new global variable.\n",
    "\n",
    "* Name: BEST\n",
    "* Value: School\n",
    "#### Repo:\n",
    "\n",
    "* GitHub repository: `alx-system_engineering-devops`\n",
    "* Directory: `0x03-shell_variable_expansions`\n",
    "* File: `7-create_global_variable`"
   ]
  },
  {
   "cell_type": "code",
   "execution_count": 53,
   "metadata": {},
   "outputs": [
    {
     "name": "stdout",
     "output_type": "stream",
     "text": [
      "Writing 0x03-shell_variables_expansions/7-create_global_variable\n"
     ]
    }
   ],
   "source": [
    "%%file 0x03-shell_variables_expansions/7-create_global_variable\n",
    "#!/bin/bash\n",
    "export BEST=\"School\""
   ]
  },
  {
   "cell_type": "code",
   "execution_count": 54,
   "metadata": {},
   "outputs": [],
   "source": [
    "%%bash\n",
    "chmod u+x 0x03-shell_variables_expansions/7-create_global_variable"
   ]
  },
  {
   "cell_type": "code",
   "execution_count": 55,
   "metadata": {},
   "outputs": [],
   "source": [
    "!./0x03-shell_variables_expansions/7-create_global_variable"
   ]
  },
  {
   "cell_type": "code",
   "execution_count": 56,
   "metadata": {},
   "outputs": [
    {
     "name": "stdout",
     "output_type": "stream",
     "text": [
      "[main 92dad2a] 0x03-shell_variables_expansions/7-create_global_variable\n",
      " 2 files changed, 22 insertions(+), 39 deletions(-)\n",
      " create mode 100755 0x03-shell_variables_expansions/7-create_global_variable\n"
     ]
    },
    {
     "name": "stderr",
     "output_type": "stream",
     "text": [
      "To https://github.com/elkomysara/alx-system_engineering-devops.git\n",
      "   e8693d9..92dad2a  main -> main\n"
     ]
    }
   ],
   "source": [
    "%%bash\n",
    "git add .\n",
    "git commit -m \"0x03-shell_variables_expansions/7-create_global_variable\"\n",
    "git push"
   ]
  },
  {
   "cell_type": "markdown",
   "metadata": {},
   "source": [
    "### \n",
    "\n",
    "\n",
    "---\n",
    "<center>\n",
    "<h4> 8. Every addition to true knowledge is an addition to human power </h4>\n",
    "</center>\n",
    "\n",
    "---"
   ]
  },
  {
   "cell_type": "markdown",
   "metadata": {},
   "source": [
    "##### Write a script that prints the result of the addition of 128 with the value stored in the environment variable TRUEKNOWLEDGE, followed by a new line.\n",
    "\n",
    "```bash\n",
    "julien@production-503e7013:~$ export TRUEKNOWLEDGE=1209\n",
    "julien@production-503e7013:~$ ./8-true_knowledge | cat -e\n",
    "1337$\n",
    "julien@production-503e7013:~$\n",
    "```\n",
    "\n",
    "#### Repo:\n",
    "\n",
    "* GitHub repository: `alx-system_engineering-devops`\n",
    "* Directory: `0x03-shell_vairables_expansions`\n",
    "* File: ` 8-true_knowledge`\n"
   ]
  },
  {
   "cell_type": "code",
   "execution_count": 61,
   "metadata": {},
   "outputs": [
    {
     "name": "stdout",
     "output_type": "stream",
     "text": [
      "Overwriting 0x03-shell_variables_expansions/8-true_knowledge\n"
     ]
    }
   ],
   "source": [
    "%%file 0x03-shell_variables_expansions/8-true_knowledge\n",
    "#!/bin/bash\n",
    "echo $((128 + $TRUEKNOWLEDGE))"
   ]
  },
  {
   "cell_type": "code",
   "execution_count": 62,
   "metadata": {},
   "outputs": [],
   "source": [
    "%%bash\n",
    "chmod u+x 0x03-shell_variables_expansions/8-true_knowledge"
   ]
  },
  {
   "cell_type": "code",
   "execution_count": 65,
   "metadata": {},
   "outputs": [
    {
     "name": "stdout",
     "output_type": "stream",
     "text": [
      "1337$\n"
     ]
    }
   ],
   "source": [
    "%%bash\n",
    "export TRUEKNOWLEDGE=1209\n",
    "./0x03-shell_variables_expansions/8-true_knowledge | cat -e\n"
   ]
  },
  {
   "cell_type": "code",
   "execution_count": 66,
   "metadata": {},
   "outputs": [
    {
     "name": "stdout",
     "output_type": "stream",
     "text": [
      "[main 94de287] 0x03-shell_variables_expansions/8-true_knowledge\n",
      " 2 files changed, 34 insertions(+), 56 deletions(-)\n",
      " create mode 100755 0x03-shell_variables_expansions/8-true_knowledge\n"
     ]
    },
    {
     "name": "stderr",
     "output_type": "stream",
     "text": [
      "To https://github.com/elkomysara/alx-system_engineering-devops.git\n",
      "   92dad2a..94de287  main -> main\n"
     ]
    }
   ],
   "source": [
    "%%bash\n",
    "git add .\n",
    "git commit -m \"0x03-shell_variables_expansions/8-true_knowledge\"\n",
    "git push"
   ]
  },
  {
   "cell_type": "markdown",
   "metadata": {},
   "source": [
    "### \n",
    "\n",
    "\n",
    "---\n",
    "<center>\n",
    "<h4> 9. Divide and rule</h4>\n",
    "</center>\n",
    "\n",
    "---"
   ]
  },
  {
   "cell_type": "markdown",
   "metadata": {},
   "source": [
    "##### Write a script that prints the result of POWER divided by DIVIDE, followed by a new line.\n",
    "\n",
    "* POWER and DIVIDE are environment variables\n",
    "\n",
    "```bash\n",
    "julien@production-503e7013:~$ export POWER=42784\n",
    "julien@production-503e7013:~$ export DIVIDE=32\n",
    "julien@production-503e7013:~$ ./9-divide_and_rule | cat -e\n",
    "1337$\n",
    "julien@production-503e7013:~$\n",
    "```\n",
    "\n",
    "\n",
    "#### Repo:\n",
    "\n",
    "* GitHub repository: `alx-system_engineering-devops`\n",
    "* Directory: `0x03-shell_variables_expansions`\n",
    "* File: `9-divide_and_rule`"
   ]
  },
  {
   "cell_type": "code",
   "execution_count": 67,
   "metadata": {},
   "outputs": [
    {
     "name": "stdout",
     "output_type": "stream",
     "text": [
      "Writing 0x03-shell_variables_expansions/9-divide_and_rule\n"
     ]
    }
   ],
   "source": [
    "%%file 0x03-shell_variables_expansions/9-divide_and_rule\n",
    "#!/bin/bash\n",
    "echo $(($POWER / $DIVIDE))"
   ]
  },
  {
   "cell_type": "code",
   "execution_count": 70,
   "metadata": {},
   "outputs": [
    {
     "name": "stdout",
     "output_type": "stream",
     "text": [
      "1337$\n"
     ]
    }
   ],
   "source": [
    "%%bash\n",
    "chmod u+x 0x03-shell_variables_expansions/9-divide_and_rule\n",
    "export POWER=42784\n",
    "export DIVIDE=32\n",
    "\n",
    "./0x03-shell_variables_expansions/9-divide_and_rule | cat -e\n"
   ]
  },
  {
   "cell_type": "code",
   "execution_count": 71,
   "metadata": {},
   "outputs": [
    {
     "name": "stdout",
     "output_type": "stream",
     "text": [
      "[main b33127e] 9.Divide and rule\n",
      " 2 files changed, 38 insertions(+), 54 deletions(-)\n",
      " create mode 100755 0x03-shell_variables_expansions/9-divide_and_rule\n"
     ]
    },
    {
     "name": "stderr",
     "output_type": "stream",
     "text": [
      "To https://github.com/elkomysara/alx-system_engineering-devops.git\n",
      "   94de287..b33127e  main -> main\n"
     ]
    }
   ],
   "source": [
    "%%bash\n",
    "git add .\n",
    "git commit -m \"9.Divide and rule\"\n",
    "git push"
   ]
  },
  {
   "cell_type": "markdown",
   "metadata": {},
   "source": [
    "### \n",
    "\n",
    "\n",
    "---\n",
    "<center>\n",
    "<h4> 10. Love is anterior to life, posterior to death, initial of creation, and the exponent of breath</h4>\n",
    "</center>\n",
    "\n",
    "---"
   ]
  },
  {
   "cell_type": "markdown",
   "metadata": {},
   "source": [
    "##### Write a script that displays the result of BREATH to the power LOVE\n",
    "* `BREATH` and `LOVE` are environment variables\n",
    "* The script should display the result, followed by a new line\n",
    "\n",
    "```bash\n",
    "julien@production-503e7013:~/$ export BREATH=4\n",
    "julien@production-503e7013:~/$ export LOVE=3\n",
    "julien@production-503e7013:~/$ ./10-love_exponent_breath\n",
    "64\n",
    "julien@production-503e7013:~/$ \n",
    "```\n",
    "\n",
    "#### Repo:\n",
    "\n",
    "* GitHub repository: `alx-system_engineering-devops`\n",
    "* Directory: `0x03-shell_variables_expansions`\n",
    "* File: `10-love_exponent_breath`"
   ]
  },
  {
   "cell_type": "code",
   "execution_count": 72,
   "metadata": {},
   "outputs": [
    {
     "name": "stdout",
     "output_type": "stream",
     "text": [
      "Writing 0x03-shell_variables_expansions/10-love_exponent_breath\n"
     ]
    }
   ],
   "source": [
    "%%file 0x03-shell_variables_expansions/10-love_exponent_breath\n",
    "#!/bin/bash\n",
    "echo $((BREATH ** LOVE))"
   ]
  },
  {
   "cell_type": "code",
   "execution_count": 73,
   "metadata": {},
   "outputs": [
    {
     "name": "stdout",
     "output_type": "stream",
     "text": [
      "64\n"
     ]
    }
   ],
   "source": [
    "%%bash\n",
    "chmod u+x 0x03-shell_variables_expansions/10-love_exponent_breath\n",
    "export BREATH=4\n",
    "export LOVE=3\n",
    "./0x03-shell_variables_expansions/10-love_exponent_breath\n"
   ]
  },
  {
   "cell_type": "code",
   "execution_count": 74,
   "metadata": {},
   "outputs": [
    {
     "name": "stdout",
     "output_type": "stream",
     "text": [
      "[main c6e2a83] 0x03-shell_variables_expansions/10-love_exponent_breath\n",
      " 2 files changed, 29 insertions(+), 72 deletions(-)\n",
      " create mode 100755 0x03-shell_variables_expansions/10-love_exponent_breath\n"
     ]
    },
    {
     "name": "stderr",
     "output_type": "stream",
     "text": [
      "To https://github.com/elkomysara/alx-system_engineering-devops.git\n",
      "   b33127e..c6e2a83  main -> main\n"
     ]
    }
   ],
   "source": [
    "%%bash\n",
    "git add .\n",
    "git commit -m \"0x03-shell_variables_expansions/10-love_exponent_breath\"\n",
    "git push"
   ]
  },
  {
   "cell_type": "markdown",
   "metadata": {},
   "source": [
    "### \n",
    "\n",
    "\n",
    "---\n",
    "<center>\n",
    "<h4> 11. There are 10 types of people in the world -- Those who understand binary, and those who don't</h4>\n",
    "</center>\n",
    "\n",
    "---"
   ]
  },
  {
   "cell_type": "markdown",
   "metadata": {},
   "source": [
    "##### Write a script that converts a number from base 2 to base 10.\n",
    "\n",
    "* The number in base 2 is stored in the environment variable BINARY\n",
    "* The script should display the number in base 10, followed by a new line\n",
    "```bash\n",
    "julien@production-503e7013:~/$ export BINARY=10100111001\n",
    "julien@production-503e7013:~/$ ./11-binary_to_decimal\n",
    "1337\n",
    "julien@production-503e7013:~/$\n",
    "```\n",
    "\n",
    "#### Repo:\n",
    "\n",
    "* GitHub repository: `alx-system_engineering-devops`\n",
    "* Directory: `0x03-shell_variables_expansions`\n",
    "* File: `11-binary_to_decimal`"
   ]
  },
  {
   "cell_type": "code",
   "execution_count": 77,
   "metadata": {},
   "outputs": [
    {
     "name": "stdout",
     "output_type": "stream",
     "text": [
      "Overwriting 0x03-shell_variables_expansions/11-binary_to_decimal\n"
     ]
    }
   ],
   "source": [
    "%%file 0x03-shell_variables_expansions/11-binary_to_decimal\n",
    "#!/bin/bash\n",
    "echo $((2#$BINARY))"
   ]
  },
  {
   "cell_type": "code",
   "execution_count": 78,
   "metadata": {},
   "outputs": [],
   "source": [
    "%%bash\n",
    "chmod u+x  0x03-shell_variables_expansions/11-binary_to_decimal\n",
    "\n",
    "\n"
   ]
  },
  {
   "cell_type": "code",
   "execution_count": 81,
   "metadata": {},
   "outputs": [
    {
     "name": "stdout",
     "output_type": "stream",
     "text": [
      "1337\n"
     ]
    }
   ],
   "source": [
    "%%bash\n",
    "export BINARY=10100111001\n",
    "./0x03-shell_variables_expansions/11-binary_to_decimal"
   ]
  },
  {
   "cell_type": "code",
   "execution_count": 82,
   "metadata": {},
   "outputs": [
    {
     "name": "stdout",
     "output_type": "stream",
     "text": [
      "[main d3531ff] 0x03-shell_variables_expansions/11-binary_to_decimal\n",
      " 2 files changed, 30 insertions(+), 58 deletions(-)\n",
      " create mode 100755 0x03-shell_variables_expansions/11-binary_to_decimal\n"
     ]
    },
    {
     "name": "stderr",
     "output_type": "stream",
     "text": [
      "To https://github.com/elkomysara/alx-system_engineering-devops.git\n",
      "   c6e2a83..d3531ff  main -> main\n"
     ]
    }
   ],
   "source": [
    "%%bash\n",
    "git add .\n",
    "git commit -m \"0x03-shell_variables_expansions/11-binary_to_decimal\"\n",
    "git push"
   ]
  },
  {
   "cell_type": "markdown",
   "metadata": {},
   "source": [
    "### \n",
    "\n",
    "\n",
    "---\n",
    "<center>\n",
    "<h4> 12.Combination</h4>\n",
    "</center>\n",
    "\n",
    "---"
   ]
  },
  {
   "cell_type": "markdown",
   "metadata": {},
   "source": [
    "##### Create a script that prints all possible combinations of two letters, except `oo`.\n",
    "\n",
    "* Letters are lower cases, from `a` to `z`\n",
    "* One combination per line\n",
    "* The output should be alpha ordered, starting with `aa`\n",
    "* Do not print `oo`\n",
    "* Your script file should contain maximum 64 characters\n",
    "\n",
    "\n",
    "```bash\n",
    "julien@ubuntu:/tmp/0x03$ echo $((26 ** 2 -1))\n",
    "675\n",
    "julien@ubuntu:/tmp/0x03$ ./12-combinations | wc -l\n",
    "675\n",
    "julien@ubuntu:/tmp/0x03$ \n",
    "julien@ubuntu:/tmp/0x03$ ./12-combinations | tail -303 | head -10\n",
    "oi\n",
    "oj\n",
    "ok\n",
    "ol\n",
    "om\n",
    "on\n",
    "op\n",
    "oq\n",
    "or\n",
    "os\n",
    "julien@ubuntu:/tmp/0x03$\n",
    "```\n",
    "#### Repo:\n",
    "\n",
    "* GitHub repository: `alx-system_engineering-devops`\n",
    "* Directory: `0x03-shell_variables_expansions`\n",
    "* File: `12-combinations`"
   ]
  },
  {
   "cell_type": "code",
   "execution_count": 93,
   "metadata": {},
   "outputs": [
    {
     "name": "stdout",
     "output_type": "stream",
     "text": [
      "Writing 0x03-shell_variables_expansions/12-combinations\n"
     ]
    }
   ],
   "source": [
    "%%file 0x03-shell_variables_expansions/12-combinations\n",
    "#!/bin/bash\n",
    "echo {a..z}{a..z} | tr ' ' '\\n' | grep -v 'oo'"
   ]
  },
  {
   "cell_type": "code",
   "execution_count": 18,
   "metadata": {},
   "outputs": [
    {
     "name": "stdout",
     "output_type": "stream",
     "text": [
      "aa ab ac ad ae af ag ah ai aj ak al am an ao ap aq ar as at au av aw ax ay az ba bb bc bd be bf bg bh bi bj bk bl bm bn bo bp bq br bs bt bu bv bw bx by bz ca cb cc cd ce cf cg ch ci cj ck cl cm cn co cp cq cr cs ct cu cv cw cx cy cz da db dc dd de df dg dh di dj dk dl dm dn do dp dq dr ds dt du dv dw dx dy dz ea eb ec ed ee ef eg eh ei ej ek el em en eo ep eq er es et eu ev ew ex ey ez fa fb fc fd fe ff fg fh fi fj fk fl fm fn fo fp fq fr fs ft fu fv fw fx fy fz ga gb gc gd ge gf gg gh gi gj gk gl gm gn go gp gq gr gs gt gu gv gw gx gy gz ha hb hc hd he hf hg hh hi hj hk hl hm hn ho hp hq hr hs ht hu hv hw hx hy hz ia ib ic id ie if ig ih ii ij ik il im in io ip iq ir is it iu iv iw ix iy iz ja jb jc jd je jf jg jh ji jj jk jl jm jn jo jp jq jr js jt ju jv jw jx jy jz ka kb kc kd ke kf kg kh ki kj kk kl km kn ko kp kq kr ks kt ku kv kw kx ky kz la lb lc ld le lf lg lh li lj lk ll lm ln lo lp lq lr ls lt lu lv lw lx ly lz ma mb mc md me mf mg mh mi mj mk ml mm mn mo mp mq mr ms mt mu mv mw mx my mz na nb nc nd ne nf ng nh ni nj nk nl nm nn no np nq nr ns nt nu nv nw nx ny nz oa ob oc od oe of og oh oi oj ok ol om on oo op oq or os ot ou ov ow ox oy oz pa pb pc pd pe pf pg ph pi pj pk pl pm pn po pp pq pr ps pt pu pv pw px py pz qa qb qc qd qe qf qg qh qi qj qk ql qm qn qo qp qq qr qs qt qu qv qw qx qy qz ra rb rc rd re rf rg rh ri rj rk rl rm rn ro rp rq rr rs rt ru rv rw rx ry rz sa sb sc sd se sf sg sh si sj sk sl sm sn so sp sq sr ss st su sv sw sx sy sz ta tb tc td te tf tg th ti tj tk tl tm tn to tp tq tr ts tt tu tv tw tx ty tz ua ub uc ud ue uf ug uh ui uj uk ul um un uo up uq ur us ut uu uv uw ux uy uz va vb vc vd ve vf vg vh vi vj vk vl vm vn vo vp vq vr vs vt vu vv vw vx vy vz wa wb wc wd we wf wg wh wi wj wk wl wm wn wo wp wq wr ws wt wu wv ww wx wy wz xa xb xc xd xe xf xg xh xi xj xk xl xm xn xo xp xq xr xs xt xu xv xw xx xy xz ya yb yc yd ye yf yg yh yi yj yk yl ym yn yo yp yq yr ys yt yu yv yw yx yy yz za zb zc zd ze zf zg zh zi zj zk zl zm zn zo zp zq zr zs zt zu zv zw zx zy zz\n"
     ]
    }
   ],
   "source": [
    "\n",
    "!echo {a..z}{a..z} | tr ' ' '\\n' | grep -v 'oo'"
   ]
  },
  {
   "cell_type": "code",
   "execution_count": 97,
   "metadata": {},
   "outputs": [
    {
     "name": "stdout",
     "output_type": "stream",
     "text": [
      "675\n"
     ]
    },
    {
     "name": "stdout",
     "output_type": "stream",
     "text": [
      "675\n",
      "oi\n",
      "oj\n",
      "ok\n",
      "ol\n",
      "om\n",
      "on\n",
      "op\n",
      "oq\n",
      "or\n",
      "os\n"
     ]
    }
   ],
   "source": [
    "\n",
    "! chmod u+x 0x03-shell_variables_expansions/12-combinations\n",
    "\n",
    "! echo $((26 ** 2 -1))\n",
    "\n",
    "!./0x03-shell_variables_expansions/12-combinations | wc -l\n",
    "\n",
    "!./0x03-shell_variables_expansions/12-combinations | tail -303 | head -10\n"
   ]
  },
  {
   "cell_type": "code",
   "execution_count": 134,
   "metadata": {},
   "outputs": [
    {
     "name": "stdout",
     "output_type": "stream",
     "text": [
      "676\n",
      "oo\n"
     ]
    }
   ],
   "source": [
    "# Python script to generate a list of two-letter combinations, excluding 'oo'\n",
    "\n",
    "combinations = [chr(first) + chr(second) for first in range(ord('a'), ord('z') + 1)\n",
    "                for second in range(ord('a'), ord('z') + 1) #if chr(first) + chr(second) != 'oo'\n",
    "                ]\n",
    "\n",
    "# Print the length of the list\n",
    "print(len(combinations))\n",
    "print(combinations[int(14*26+14)])"
   ]
  },
  {
   "cell_type": "code",
   "execution_count": 14,
   "metadata": {},
   "outputs": [
    {
     "name": "stdout",
     "output_type": "stream",
     "text": [
      "26\n",
      "n\n"
     ]
    }
   ],
   "source": [
    "combinations_ =  [chr(combi) for combi in range(ord('a'),ord('z')+1)]\n",
    "print(len(combinations_))\n",
    "print(combinations_[13])"
   ]
  },
  {
   "cell_type": "code",
   "execution_count": 1,
   "metadata": {},
   "outputs": [
    {
     "name": "stdout",
     "output_type": "stream",
     "text": [
      "[main 3f0a7b7] 0x02-shell_redirections/12-newest_files\n",
      " 2 files changed, 122 insertions(+), 59 deletions(-)\n",
      " create mode 100755 0x03-shell_variables_expansions/12-combinations\n"
     ]
    },
    {
     "name": "stderr",
     "output_type": "stream",
     "text": [
      "To https://github.com/elkomysara/alx-system_engineering-devops.git\n",
      "   d3531ff..3f0a7b7  main -> main\n"
     ]
    }
   ],
   "source": [
    "%%bash\n",
    "git add .\n",
    "git commit -m \"0x02-shell_redirections/12-newest_files\"\n",
    "git push"
   ]
  },
  {
   "cell_type": "markdown",
   "metadata": {},
   "source": [
    "### \n",
    "\n",
    "\n",
    "---\n",
    "<center>\n",
    "<h4> 13. Floats</h4>\n",
    "</center>\n",
    "\n",
    "---"
   ]
  },
  {
   "cell_type": "markdown",
   "metadata": {},
   "source": [
    "##### Write a script that prints a number with two decimal places, followed by a new line.\n",
    "\n",
    "The number will be stored in the environment variable `NUM`.\n",
    "\n",
    "```bash\n",
    "ubuntu@ip-172-31-63-244:~/0x03$ export NUM=0\n",
    "ubuntu@ip-172-31-63-244:~/0x03$ ./13-print_float\n",
    "0.00\n",
    "ubuntu@ip-172-31-63-244:~/0x03$ export NUM=98\n",
    "ubuntu@ip-172-31-63-244:~/0x03$ ./13-print_float\n",
    "98.00\n",
    "ubuntu@ip-172-31-63-244:~/0x03$ export NUM=3.14159265359\n",
    "ubuntu@ip-172-31-63-244:~/0x03$ ./13-print_float\n",
    "3.14\n",
    "ubuntu@ip-172-31-63-244:~/0x03$\n",
    "```\n",
    "#### Repo:\n",
    "\n",
    "* GitHub repository: `alx-system_engineering-devops`\n",
    "* Directory: `0x03-shell_variables_expansions`\n",
    "* File: `13-print_float`"
   ]
  },
  {
   "cell_type": "code",
   "execution_count": 2,
   "metadata": {},
   "outputs": [
    {
     "name": "stdout",
     "output_type": "stream",
     "text": [
      "Writing 0x03-shell_variables_expansions/13-print_float\n"
     ]
    }
   ],
   "source": [
    "%%file 0x03-shell_variables_expansions/13-print_float\n",
    "#!/bin/bash\n",
    "printf \"%.2f\\n\" $NUM"
   ]
  },
  {
   "cell_type": "code",
   "execution_count": 3,
   "metadata": {},
   "outputs": [],
   "source": [
    "%%bash\n",
    "chmod u+x 0x03-shell_variables_expansions/13-print_float"
   ]
  },
  {
   "cell_type": "code",
   "execution_count": 7,
   "metadata": {},
   "outputs": [
    {
     "name": "stdout",
     "output_type": "stream",
     "text": [
      "3.14\n"
     ]
    }
   ],
   "source": [
    "! export NUM=3.141592; ./0x03-shell_variables_expansions/13-print_float"
   ]
  },
  {
   "cell_type": "code",
   "execution_count": 8,
   "metadata": {},
   "outputs": [
    {
     "name": "stdout",
     "output_type": "stream",
     "text": [
      "[main 4e1f96b] 0x02-shell_redirections/13-unique3\n",
      " 2 files changed, 31 insertions(+), 98 deletions(-)\n",
      " create mode 100755 0x03-shell_variables_expansions/13-print_float\n"
     ]
    },
    {
     "name": "stderr",
     "output_type": "stream",
     "text": [
      "To https://github.com/elkomysara/alx-system_engineering-devops.git\n",
      "   3f0a7b7..4e1f96b  main -> main\n"
     ]
    }
   ],
   "source": [
    "%%bash\n",
    "git add .\n",
    "git commit -m \"0x02-shell_redirections/13-unique3\"\n",
    "git push"
   ]
  },
  {
   "cell_type": "markdown",
   "metadata": {},
   "source": [
    "### \n",
    "\n",
    "\n",
    "---\n",
    "<center>\n",
    "<h4> 14. Decimal to Hexadecimal</h4>\n",
    "</center>\n",
    "\n",
    "---"
   ]
  },
  {
   "cell_type": "markdown",
   "metadata": {},
   "source": [
    "##### Write a script that converts a number from base 10 to base 16.\n",
    "\n",
    "* The number in base 10 is stored in the environment variable `DECIMAL`\n",
    "* The script should display the number in base 16, followed by a new line\n",
    "\n",
    " \n",
    "```bash\n",
    "julien@production-503e7013:~/$ export DECIMAL=16\n",
    "julien@production-503e7013:~/$ ./100-decimal_to_hexadecimal\n",
    "10\n",
    "julien@production-503e7013:~/$ export DECIMAL=1337\n",
    "julien@production-503e7013:~/$ ./100-decimal_to_hexadecimal | cat -e\n",
    "539$\n",
    "julien@production-503e7013:~/$ export DECIMAL=15\n",
    "julien@production-503e7013:~/$ ./100-decimal_to_hexadecimal | cat -e\n",
    "f$\n",
    "julien@production-503e7013:~/$\n",
    "```\n",
    "\n",
    "#### Repo:\n",
    "\n",
    "* GitHub repository: `alx-system_engineering-devops`\n",
    "* Directory: `0x03-shell_variables_expansions`\n",
    "* File: `100-decimal_to_hexadecimal`"
   ]
  },
  {
   "cell_type": "code",
   "execution_count": 9,
   "metadata": {},
   "outputs": [
    {
     "name": "stdout",
     "output_type": "stream",
     "text": [
      "Writing 0x03-shell_variables_expansions/100-decimal_to_hexadecimal\n"
     ]
    }
   ],
   "source": [
    "%%file 0x03-shell_variables_expansions/100-decimal_to_hexadecimal\n",
    "#!/bin/bash\n",
    "printf \"%x\\n\" $DECIMAL"
   ]
  },
  {
   "cell_type": "code",
   "execution_count": 10,
   "metadata": {},
   "outputs": [
    {
     "name": "stdout",
     "output_type": "stream",
     "text": [
      "0\n"
     ]
    }
   ],
   "source": [
    "%%bash\n",
    "\n",
    "chmod u+x 0x03-shell_variables_expansions/100-decimal_to_hexadecimal\n",
    "source ./0x03-shell_variables_expansions/100-decimal_to_hexadecimal\n"
   ]
  },
  {
   "cell_type": "code",
   "execution_count": 11,
   "metadata": {},
   "outputs": [
    {
     "name": "stdout",
     "output_type": "stream",
     "text": [
      "[main 6718e52] 0x03-shell_variables_expansions/100-decimal_to_hexadecimal\n",
      " 2 files changed, 33 insertions(+), 22 deletions(-)\n",
      " create mode 100755 0x03-shell_variables_expansions/100-decimal_to_hexadecimal\n"
     ]
    },
    {
     "name": "stderr",
     "output_type": "stream",
     "text": [
      "To https://github.com/elkomysara/alx-system_engineering-devops.git\n",
      "   4e1f96b..6718e52  main -> main\n"
     ]
    }
   ],
   "source": [
    "%%bash\n",
    "git add .\n",
    "git commit -m \"0x03-shell_variables_expansions/100-decimal_to_hexadecimal\"\n",
    "git push"
   ]
  },
  {
   "cell_type": "markdown",
   "metadata": {},
   "source": [
    "### \n",
    "\n",
    "\n",
    "---\n",
    "<center>\n",
    "<h4> 15. Everyone is a proponent of strong encryption</h4>\n",
    "</center>\n",
    "\n",
    "---"
   ]
  },
  {
   "cell_type": "markdown",
   "metadata": {},
   "source": [
    "##### Write a script that encodes and decodes text using the rot13 encryption. Assume ASCII.\n",
    "\n",
    "\n",
    "```bash\n",
    "julien@production-503e7013:~/shell/fun_with_the_shell$ cat quote\n",
    "\"Everyone is a proponent of strong encryption.\"\n",
    "- Dorothy E. Denning\n",
    "julien@production-503e7013:~/shell/fun_with_the_shell$ ./101-rot13 < quote\n",
    "\"Rirelbar vf n cebcbarag bs fgebat rapelcgvba.\"\n",
    "- Qbebgul R. Qraavat\n",
    "julien@production-503e7013:~/shell/fun_with_the_shell$ \n",
    "```\n",
    "\n",
    "#### Repo:\n",
    "\n",
    "* GitHub repository: `alx-system_engineering-devops`\n",
    "* Directory: `0x03-shell_variables_expansions`\n",
    "* File: `101-rot13`"
   ]
  },
  {
   "cell_type": "code",
   "execution_count": 41,
   "metadata": {},
   "outputs": [
    {
     "name": "stdout",
     "output_type": "stream",
     "text": [
      "Overwriting 0x03-shell_variables_expansions/101-rot13\n"
     ]
    }
   ],
   "source": [
    "%%file 0x03-shell_variables_expansions/101-rot13\n",
    "#!/bin/bash\n",
    "tr 'A-Za-z' 'N-ZA-Mn-za-m'"
   ]
  },
  {
   "cell_type": "code",
   "execution_count": 33,
   "metadata": {},
   "outputs": [
    {
     "name": "stdout",
     "output_type": "stream",
     "text": [
      "Overwriting 0x03-shell_variables_expansions/101-rot13\n"
     ]
    }
   ],
   "source": [
    "%%file 0x03-shell_variables_expansions/101-rot13\n",
    "#!/bin/bash\n",
    "tr 'ABCDEFGHIJKLMNOPQRSTUVWXYZabcdefghijklmnopqrstuvwxyz' 'NOPQRSTUVWXYZABCDEFGHIJKLMnopqrstuvwxyzabcdefghijklm'"
   ]
  },
  {
   "cell_type": "code",
   "execution_count": 27,
   "metadata": {},
   "outputs": [
    {
     "name": "stdout",
     "output_type": "stream",
     "text": [
      "Overwriting 0x03-shell_variables_expansions/quote\n"
     ]
    }
   ],
   "source": [
    "%%file 0x03-shell_variables_expansions/quote\n",
    "\"Everyone is a proponent of strong encryption.\"\n",
    "- Dorothy E. Denning"
   ]
  },
  {
   "cell_type": "code",
   "execution_count": 42,
   "metadata": {},
   "outputs": [
    {
     "name": "stdout",
     "output_type": "stream",
     "text": [
      "\"Rirelbar vf n cebcbarag bs fgebat rapelcgvba.\"\n",
      "- Qbebgul R. Qraavat\n"
     ]
    }
   ],
   "source": [
    "\n",
    "! chmod u+x  0x03-shell_variables_expansions/101-rot13\n",
    "! ./0x03-shell_variables_expansions/101-rot13 0< 0x03-shell_variables_expansions/quote"
   ]
  },
  {
   "cell_type": "code",
   "execution_count": 13,
   "metadata": {},
   "outputs": [
    {
     "name": "stdout",
     "output_type": "stream",
     "text": [
      "NOPQRSTUVWXYZABCDEFGHIJKLM\n"
     ]
    }
   ],
   "source": [
    "def rot13(text):\n",
    "    result = []\n",
    "    for char in text:\n",
    "        if 'a' <= char <= 'z':  # Check for lowercase\n",
    "            offset = ord('a')\n",
    "            result.append(chr((ord(char) - offset + 13) % 26 + offset))\n",
    "        elif 'A' <= char <= 'Z':  # Check for uppercase\n",
    "            offset = ord('A')\n",
    "            result.append(chr((ord(char) - offset + 13) % 26 + offset))\n",
    "        else:\n",
    "            result.append(char)  # Non-alphabetical characters remain unchanged\n",
    "    return ''.join(result)\n",
    "\n",
    "# Example usage:\n",
    "original_text = \"ABCDEFGHIJKLMNOPQRSTUVWXYZ\"\n",
    "encoded_text = rot13(original_text)\n",
    "print(encoded_text)\n"
   ]
  },
  {
   "cell_type": "code",
   "execution_count": 16,
   "metadata": {},
   "outputs": [
    {
     "name": "stdout",
     "output_type": "stream",
     "text": [
      "25\n"
     ]
    }
   ],
   "source": [
    "print(25%26)"
   ]
  },
  {
   "cell_type": "code",
   "execution_count": 15,
   "metadata": {},
   "outputs": [
    {
     "name": "stdout",
     "output_type": "stream",
     "text": [
      "26\n",
      "n\n"
     ]
    }
   ],
   "source": [
    "combinations_ =  [chr(combi) for combi in range(ord('a'),ord('z')+1)]\n",
    "print(len(combinations_))\n",
    "print(combinations_[13])"
   ]
  },
  {
   "cell_type": "code",
   "execution_count": 43,
   "metadata": {},
   "outputs": [
    {
     "name": "stdout",
     "output_type": "stream",
     "text": [
      "[main 874012a] 00x03-shell_variables_expansions/quote\n",
      " 2 files changed, 10 insertions(+), 9 deletions(-)\n"
     ]
    },
    {
     "name": "stderr",
     "output_type": "stream",
     "text": [
      "To https://github.com/elkomysara/alx-system_engineering-devops.git\n",
      "   e4ca2ca..874012a  main -> main\n"
     ]
    }
   ],
   "source": [
    "%%bash\n",
    "git add .\n",
    "git commit -m \"00x03-shell_variables_expansions/quote\"\n",
    "git push"
   ]
  },
  {
   "cell_type": "markdown",
   "metadata": {},
   "source": [
    "### \n",
    "\n",
    "\n",
    "---\n",
    "<center>\n",
    "<h4> 16. The eggs of the brood need to be an odd number</h4>\n",
    "</center>\n",
    "\n",
    "---"
   ]
  },
  {
   "cell_type": "markdown",
   "metadata": {},
   "source": [
    "##### Write a script that prints every other line from the input, starting with the first line.\n",
    "\n",
    "\n",
    "```bash\n",
    "ubuntu@ip-172-31-63-244:/$ \\ls -1\n",
    "bin\n",
    "boot\n",
    "dev\n",
    "etc\n",
    "home\n",
    "initrd.img\n",
    "lib\n",
    "lib32\n",
    "lib64\n",
    "libx32\n",
    "lost+found\n",
    "media\n",
    "mnt\n",
    "opt\n",
    "proc\n",
    "root\n",
    "run\n",
    "sbin\n",
    "srv\n",
    "sys\n",
    "t\n",
    "#t#\n",
    "t~\n",
    "tmp\n",
    "usr\n",
    "var\n",
    "vmlinuz\n",
    "whoareyou\n",
    "ubuntu@ip-172-31-63-244:/$ \\ls -1 | ./102-odd\n",
    "bin\n",
    "dev\n",
    "home\n",
    "lib\n",
    "lib64\n",
    "lost+found\n",
    "mnt\n",
    "proc\n",
    "run\n",
    "srv\n",
    "t\n",
    "t~\n",
    "usr\n",
    "vmlinuz\n",
    "ubuntu@ip-172-31-63-244:/$\n",
    "```\n",
    "\n",
    "#### Repo:\n",
    "\n",
    "* GitHub repository: `alx-system_engineering-devops`\n",
    "* Directory: `0x03-shell_variable_expansions`\n",
    "* File: `102-odd`"
   ]
  },
  {
   "cell_type": "code",
   "execution_count": 55,
   "metadata": {},
   "outputs": [
    {
     "name": "stdout",
     "output_type": "stream",
     "text": [
      "Overwriting 0x03-shell_variables_expansions/102-odd\n"
     ]
    }
   ],
   "source": [
    "%%file 0x03-shell_variables_expansions/102-odd\n",
    "#!/bin/bash\n",
    "ls -1 | paste -d, - - | cut -d, -f1 - -"
   ]
  },
  {
   "cell_type": "code",
   "execution_count": 50,
   "metadata": {},
   "outputs": [
    {
     "name": "stdout",
     "output_type": "stream",
     "text": [
      "0x00-shell_basics.ipynb\n",
      "0x01-shell_permissions.ipynb\n",
      "0x02. Shell\n",
      "0x03-shell_variables_expansions.ipynb\n",
      "An_Acrostic\n",
      "\\*\\\\'\"Best School\"\\'\\\\*$\\?\\*\\*\\*\\*\\*:)\n",
      "iacta\n",
      "nasa_19950801.tsv\n",
      "test.HTML\n",
      "\n"
     ]
    }
   ],
   "source": [
    "! ls -1 | paste -d, - - | cut -d, -f2 - -"
   ]
  },
  {
   "cell_type": "code",
   "execution_count": 56,
   "metadata": {},
   "outputs": [
    {
     "name": "stdout",
     "output_type": "stream",
     "text": [
      "0x00-shell_basics\n",
      "0x01-shell_permissions\n",
      "0x02-shell_redirections\n",
      "0x03-shell_variables_expansions\n",
      "An Acrostic\n",
      "README.md\n",
      "hello\n",
      "ls_cwd_content\n",
      "school.mgc\n",
      "test.gif\n"
     ]
    }
   ],
   "source": [
    "%%bash\n",
    "chmod u+x 0x03-shell_variables_expansions/102-odd\n",
    "source ./0x03-shell_variables_expansions/102-odd\n"
   ]
  },
  {
   "cell_type": "code",
   "execution_count": 57,
   "metadata": {},
   "outputs": [
    {
     "name": "stdout",
     "output_type": "stream",
     "text": [
      "[main d6812ef] x03-shell_variables_expansions/102-odd\n",
      " 2 files changed, 20 insertions(+), 20 deletions(-)\n"
     ]
    },
    {
     "name": "stderr",
     "output_type": "stream",
     "text": [
      "To https://github.com/elkomysara/alx-system_engineering-devops.git\n",
      "   29f8ed7..d6812ef  main -> main\n"
     ]
    }
   ],
   "source": [
    "%%bash\n",
    "git add .\n",
    "git commit -m \"x03-shell_variables_expansions/102-odd\"\n",
    "git push"
   ]
  },
  {
   "cell_type": "markdown",
   "metadata": {},
   "source": [
    "### \n",
    "\n",
    "\n",
    "---\n",
    "<center>\n",
    "<h4> 17. I'm an instant star. Just add water and stir.</h4>\n",
    "</center>\n",
    "\n",
    "---"
   ]
  },
  {
   "cell_type": "markdown",
   "metadata": {},
   "source": [
    "##### Write a shell script that adds the two numbers stored in the environment variables WATER and STIR and prints the result.\n",
    "\n",
    "* `WATER` is in base `water`\n",
    "* `STIR` is in base `stir`.\n",
    "* The result should be in base `bestchol`\n",
    "\n",
    "```bash\n",
    "julien@production-503e7013:~$ export WATER=\"ewwatratewa\"\n",
    "julien@production-503e7013:~$ export STIR=\"ti.itirtrtr\"\n",
    "julien@production-503e7013:~$ ./103-water_and_stir\n",
    "shtbeolhc\n",
    "julien@production-503e7013:~$\n",
    "```\n",
    "\n",
    "#### Repo:\n",
    "\n",
    "* GitHub repository: `alx-system_engineering-devops`\n",
    "* Directory: `0x03-shell_variables_expansions`\n",
    "* File: `103-water_and_stir`"
   ]
  },
  {
   "cell_type": "code",
   "execution_count": 58,
   "metadata": {},
   "outputs": [
    {
     "name": "stdout",
     "output_type": "stream",
     "text": [
      "Writing 0x03-shell_variables_expansions/103-water_and_stir\n"
     ]
    }
   ],
   "source": [
    "%%file 0x03-shell_variables_expansions/103-water_and_stir\n",
    "#!/bin/bash\n",
    "printf \"%o\\n\" $(( $((5#$(echo $WATER | tr water 01234))) + $((5#$(echo $STIR | tr stir. 01234))) )) | tr 01234567 bestchol"
   ]
  },
  {
   "cell_type": "code",
   "execution_count": 60,
   "metadata": {},
   "outputs": [
    {
     "name": "stdout",
     "output_type": "stream",
     "text": [
      "eobeocsoh\n"
     ]
    }
   ],
   "source": [
    "%%bash\n",
    "export WATER=\"ewwatratewa\"\n",
    "STIR=\"ti.itirtrtr\"\n",
    "chmod u+x 0x03-shell_variables_expansions/103-water_and_stir\n",
    "./0x03-shell_variables_expansions/103-water_and_stir"
   ]
  },
  {
   "cell_type": "code",
   "execution_count": 4,
   "metadata": {},
   "outputs": [],
   "source": [
    "!./0x03-shell_variables_expansions/103-water_and_stir"
   ]
  },
  {
   "cell_type": "code",
   "execution_count": 61,
   "metadata": {},
   "outputs": [
    {
     "name": "stdout",
     "output_type": "stream",
     "text": [
      "[main 0e00aa3] 17\n",
      " 2 files changed, 39 insertions(+), 29 deletions(-)\n",
      " create mode 100755 0x03-shell_variables_expansions/103-water_and_stir\n"
     ]
    },
    {
     "name": "stderr",
     "output_type": "stream",
     "text": [
      "To https://github.com/elkomysara/alx-system_engineering-devops.git\n",
      "   d6812ef..0e00aa3  main -> main\n"
     ]
    }
   ],
   "source": [
    "%%bash\n",
    "git add .\n",
    "git commit -m \"17\"\n",
    "git push"
   ]
  },
  {
   "cell_type": "code",
   "execution_count": null,
   "metadata": {},
   "outputs": [],
   "source": []
  }
 ],
 "metadata": {
  "kernelspec": {
   "display_name": "Python 3",
   "language": "python",
   "name": "python3"
  },
  "language_info": {
   "codemirror_mode": {
    "name": "ipython",
    "version": 3
   },
   "file_extension": ".py",
   "mimetype": "text/x-python",
   "name": "python",
   "nbconvert_exporter": "python",
   "pygments_lexer": "ipython3",
   "version": "3.11.7"
  }
 },
 "nbformat": 4,
 "nbformat_minor": 2
}
