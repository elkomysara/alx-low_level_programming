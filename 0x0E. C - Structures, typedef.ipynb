{
 "cells": [
  {
   "cell_type": "markdown",
   "metadata": {},
   "source": [
    "---\n",
    "<center>\n",
    "<h1>  alx-low_level_programming </h1>\n",
    "</center>\n",
    "\n",
    "---\n"
   ]
  },
  {
   "cell_type": "code",
   "execution_count": 1,
   "metadata": {},
   "outputs": [],
   "source": [
    "import os\n",
    "# creating 0x02-shell_redirectionss\n",
    "\n",
    "folder_path = r'/home/elkomy/alx/alx-low_level_programming/0x0E-structures_typedef'\n",
    "if not os.path.exists(folder_path):\n",
    "    os.makedirs(folder_path)\n",
    "\n",
    "# Create a README.md inside alx-low_level_programming/0x0E-structures_typedef\n",
    "file_path = os.path.join(folder_path, 'README.md')\n",
    "\n",
    "with open(file_path, 'w') as file:\n",
    "    file.write(\"This is a README.md file inside alx-low_level_programming/0x0E-structures_typedef\")\n",
    "\n"
   ]
  },
  {
   "cell_type": "code",
   "execution_count": 3,
   "metadata": {},
   "outputs": [
    {
     "name": "stdout",
     "output_type": "stream",
     "text": [
      "Overwriting /home/elkomy/alx/alx-low_level_programming/0x07-pointers_arrays_strings/README.md\n"
     ]
    }
   ],
   "source": [
    "%%file /home/elkomy/alx/alx-low_level_programming/0x0E-structures_typedef/README.md\n",
    "This is a README.md"
   ]
  },
  {
   "cell_type": "markdown",
   "metadata": {},
   "source": [
    "###\n",
    "---\n",
    "<center>\n",
    "<h1> 0x0E. C - Structures, typedef </h1>\n",
    "</center>\n",
    "\n",
    "---\n"
   ]
  },
  {
   "cell_type": "markdown",
   "metadata": {},
   "source": [
    "###\n",
    "---\n",
    "<center>\n",
    "<h4> 0. Poppy</h4>\n",
    "</center>\n",
    "\n",
    "---"
   ]
  },
  {
   "cell_type": "markdown",
   "metadata": {},
   "source": [
    "\n",
    "#### Define a new type `struct dog` with the following elements:\n",
    "\n",
    "* `name`, type = `char *`\n",
    "* `age`, type = `float`\n",
    "* `owner`, type =` char *`\n",
    "\n",
    "\n",
    "```bash\n",
    "julien@ubuntu:~/0x0d. structures, typedef$ cat 0-main.c\n",
    "#include <stdio.h>\n",
    "#include \"dog.h\"\n",
    "\n",
    "/**\n",
    " * main - check the code\n",
    " *\n",
    " * Return: Always 0.\n",
    " */\n",
    "int main(void)\n",
    "{\n",
    "    struct dog my_dog;\n",
    "\n",
    "    my_dog.name = \"Poppy\";\n",
    "    my_dog.age = 3.5;\n",
    "    my_dog.owner = \"Bob\";\n",
    "    printf(\"My name is %s, and I am %.1f :) - Woof!\\n\", my_dog.name, my_dog.age);\n",
    "    return (0);\n",
    "}\n",
    "julien@ubuntu:~/0x0d. structures, typedef$ gcc -Wall -pedantic -Werror -Wextra -std=gnu89 0-main.c -o a\n",
    "julien@ubuntu:~/0x0d. structures, typedef$ ./a \n",
    "My name is Poppy, and I am 3.5 :) - Woof!\n",
    "julien@ubuntu:~/0x0d. structures, typedef$ \n",
    "```\n",
    "#### Repo:\n",
    "* GitHub repository: ``` alx-low_level_programming ```\n",
    "* Directory: ```0x0E-structures_typedef``` \n",
    "* File: ```dog.h```"
   ]
  },
  {
   "cell_type": "code",
   "execution_count": 5,
   "metadata": {},
   "outputs": [
    {
     "name": "stdout",
     "output_type": "stream",
     "text": [
      "Overwriting 0x0E-structures_typedef/0-main.c\n"
     ]
    }
   ],
   "source": [
    "%%file 0x0E-structures_typedef/0-main.c\n",
    "#include <stdio.h>\n",
    "#include \"dog.h\"\n",
    "\n",
    "/**\n",
    " * main - check the code\n",
    " *\n",
    " * Return: Always 0.\n",
    " */\n",
    "int main(void)\n",
    "{\n",
    "    struct dog my_dog;\n",
    "\n",
    "    my_dog.name = \"Poppy\";\n",
    "    my_dog.age = 3.5;\n",
    "    my_dog.owner = \"Bob\";\n",
    "    printf(\"My name is %s, and I am %.1f :) - Woof!\\n\", my_dog.name, my_dog.age);\n",
    "    return (0);\n",
    "}"
   ]
  },
  {
   "cell_type": "code",
   "execution_count": 9,
   "metadata": {},
   "outputs": [
    {
     "name": "stdout",
     "output_type": "stream",
     "text": [
      "Overwriting 0x0E-structures_typedef/dog.h\n"
     ]
    }
   ],
   "source": [
    "%%file 0x0E-structures_typedef/dog.h\n",
    "#ifndef DOG_H\n",
    "#define DOG_H\n",
    "\n",
    "/**\n",
    "* struct dog - A new type describing a dog.\n",
    "* @name: The name of the dog (type: char *).\n",
    "* @age: The age of the dog (type: float).\n",
    "* @owner: The owner of the dog (type: char *).\n",
    "*/\n",
    "struct dog\n",
    "{\n",
    "char *name;\n",
    "float age;\n",
    "char *owner;\n",
    "};\n",
    "\n",
    "#endif /* DOG_H */\n",
    "\n"
   ]
  },
  {
   "cell_type": "code",
   "execution_count": null,
   "metadata": {},
   "outputs": [
    {
     "name": "stdout",
     "output_type": "stream",
     "text": [
      "Overwriting 0x0E-structures_typedef/dog.h\n"
     ]
    }
   ],
   "source": [
    "%%file 0x0E-structures_typedef/dog.h\n",
    "#ifndef DOG_H\n",
    "#define DOG_H\n",
    "\n",
    "/**\n",
    "* struct dog - A new type describing a dog.\n",
    "* @name: The name of the dog (type: char *).\n",
    "* @age: The age of the dog (type: float).\n",
    "* @owner: The owner of the dog (type: char *).\n",
    "*/\n",
    "struct dog\n",
    "{\n",
    "char *name;\n",
    "float age;\n",
    "char *owner;\n",
    "};\n",
    "\n",
    "#endif /* DOG_H */\n",
    "\n"
   ]
  },
  {
   "cell_type": "code",
   "execution_count": 10,
   "metadata": {},
   "outputs": [
    {
     "name": "stdout",
     "output_type": "stream",
     "text": [
      "My name is Poppy, and I am 3.5 :) - Woof!\n"
     ]
    }
   ],
   "source": [
    "%%bash\n",
    "\n",
    "gcc -Wall -pedantic -Werror -Wextra -std=gnu89 0x0E-structures_typedef/0-main.c -o 0x0E-structures_typedef/a\n",
    "./0x0E-structures_typedef/a\n"
   ]
  },
  {
   "cell_type": "code",
   "execution_count": 11,
   "metadata": {},
   "outputs": [
    {
     "name": "stdout",
     "output_type": "stream",
     "text": [
      "[main f0cc8b6] alx-low_level_programming/0x0E-structures_typedef/0-putchar\n",
      " 1 file changed, 8 insertions(+), 8 deletions(-)\n"
     ]
    },
    {
     "name": "stderr",
     "output_type": "stream",
     "text": [
      "To https://github.com/elkomysara/alx-low_level_programming.git\n",
      "   225499e..f0cc8b6  main -> main\n"
     ]
    }
   ],
   "source": [
    "%%bash\n",
    "git add .\n",
    "git commit -m \"alx-low_level_programming/0x0E-structures_typedef/0-putchar\"\n",
    "git push"
   ]
  },
  {
   "cell_type": "code",
   "execution_count": null,
   "metadata": {},
   "outputs": [],
   "source": []
  },
  {
   "cell_type": "markdown",
   "metadata": {},
   "source": [
    "###\n",
    "---\n",
    "<center>\n",
    "<h4>1. A dog is the only thing on earth that loves you more than you love yourself\n",
    "</h4>\n",
    "</center>\n",
    "\n",
    "---"
   ]
  },
  {
   "cell_type": "markdown",
   "metadata": {},
   "source": [
    "\n",
    "#### Write a function that initialize a variable of type `struct dog`\n",
    "\n",
    "* Prototype: `void init_dog(struct dog *d, char *name, float age, char *owner);`\n",
    "\n",
    "```bash\n",
    "julien@ubuntu:~/0x0d. structures, typedef$ cat 1-main.c\n",
    "#include <stdio.h>\n",
    "#include \"dog.h\"\n",
    "\n",
    "/**\n",
    " * main - check the code\n",
    " *\n",
    " * Return: Always 0.\n",
    " */\n",
    "int main(void)\n",
    "{\n",
    "    struct dog my_dog;\n",
    "\n",
    "    init_dog(&my_dog, \"Poppy\", 3.5, \"Bob\");\n",
    "    printf(\"My name is %s, and I am %.1f :) - Woof!\\n\", my_dog.name, my_dog.age);\n",
    "    return (0);\n",
    "}\n",
    "julien@ubuntu:~/0x0d. structures, typedef$ gcc -Wall -pedantic -Werror -Wextra -std=gnu89 1-main.c 1-init_dog.c -o b\n",
    "julien@ubuntu:~/0x0d. structures, typedef$ ./b \n",
    "My name is Poppy, and I am 3.5 :) - Woof!\n",
    "julien@ubuntu:~/0x0d. structures, typedef$ \n",
    "```\n",
    "#### Repo:\n",
    "* GitHub repository: ``` alx-low_level_programming ```\n",
    "* Directory: ```0x0E-structures_typedef``` \n",
    "* File: ```1-init_dog.c```"
   ]
  },
  {
   "cell_type": "code",
   "execution_count": 12,
   "metadata": {},
   "outputs": [
    {
     "name": "stdout",
     "output_type": "stream",
     "text": [
      "Writing 0x0E-structures_typedef/1-main.c\n"
     ]
    }
   ],
   "source": [
    "%%file 0x0E-structures_typedef/1-main.c\n",
    "#include <stdio.h>\n",
    "#include \"dog.h\"\n",
    "\n",
    "/**\n",
    " * main - check the code\n",
    " *\n",
    " * Return: Always 0.\n",
    " */\n",
    "int main(void)\n",
    "{\n",
    "    struct dog my_dog;\n",
    "\n",
    "    init_dog(&my_dog, \"Poppy\", 3.5, \"Bob\");\n",
    "    printf(\"My name is %s, and I am %.1f :) - Woof!\\n\", my_dog.name, my_dog.age);\n",
    "    return (0);\n",
    "}"
   ]
  },
  {
   "cell_type": "code",
   "execution_count": 17,
   "metadata": {},
   "outputs": [
    {
     "name": "stdout",
     "output_type": "stream",
     "text": [
      "Overwriting 0x0E-structures_typedef/dog.h\n"
     ]
    }
   ],
   "source": [
    "%%file 0x0E-structures_typedef/dog.h\n",
    "#ifndef DOG_H\n",
    "#define DOG_H\n",
    "\n",
    "/**\n",
    "* struct dog - A new type describing a dog.\n",
    "* @name: The name of the dog (type: char *).\n",
    "* @age: The age of the dog (type: float).\n",
    "* @owner: The owner of the dog (type: char *).\n",
    "*/\n",
    "struct dog\n",
    "{\n",
    "char *name;\n",
    "float age;\n",
    "char *owner;\n",
    "};\n",
    "\n",
    "/**\n",
    " * init_dog - Initializes a variable of type struct dog.\n",
    " * @d: A pointer to the struct dog to initialize.\n",
    " * @name: The name to set.\n",
    " * @age: The age to set.\n",
    " * @owner: The owner to set.\n",
    " */\n",
    "void init_dog(struct dog *d, char *name, float age, char *owner);\n",
    "\n",
    "#endif /* DOG_H */\n",
    "\n"
   ]
  },
  {
   "cell_type": "code",
   "execution_count": 20,
   "metadata": {},
   "outputs": [
    {
     "name": "stdout",
     "output_type": "stream",
     "text": [
      "Overwriting 0x0E-structures_typedef/1-init_dog.c\n"
     ]
    }
   ],
   "source": [
    "%%file 0x0E-structures_typedef/1-init_dog.c\n",
    "#include \"dog.h\"\n",
    "#include <stddef.h>\n",
    "\n",
    "/**\n",
    "* init_dog - Initializes a variable of type struct dog.\n",
    "* @d: A pointer to the struct dog to initialize.\n",
    "* @name: The name to set.\n",
    "* @age: The age to set.\n",
    "* @owner: The owner to set.\n",
    "*/\n",
    "void init_dog(struct dog *d, char *name, float age, char *owner)\n",
    "{\n",
    "if (d != NULL)\n",
    "{\n",
    "d->name = name;\n",
    "d->age = age;\n",
    "d->owner = owner;\n",
    "}\n",
    "}\n"
   ]
  },
  {
   "cell_type": "code",
   "execution_count": 21,
   "metadata": {},
   "outputs": [
    {
     "name": "stdout",
     "output_type": "stream",
     "text": [
      "\n",
      "========== 0x0E-structures_typedef/1-init_dog.c ==========\n",
      "init_dog\n",
      "My name is Poppy, and I am 3.5 :) - Woof!\n"
     ]
    }
   ],
   "source": [
    "%%bash\n",
    "betty 0x0E-structures_typedef/1-init_dog.c\n",
    "gcc -Wall -pedantic -Werror -Wextra -std=gnu89 0x0E-structures_typedef/1-main.c 0x0E-structures_typedef/1-init_dog.c -o 0x0E-structures_typedef/b\n",
    "./0x0E-structures_typedef/b\n"
   ]
  },
  {
   "cell_type": "code",
   "execution_count": 22,
   "metadata": {},
   "outputs": [
    {
     "name": "stdout",
     "output_type": "stream",
     "text": [
      "[main 4dab602] alx-low_level_programming/0x0E-structures_typedef/0-putchar\n",
      " 4 files changed, 44 insertions(+)\n",
      " create mode 100644 0x0E-structures_typedef/1-init_dog.c\n",
      " create mode 100644 0x0E-structures_typedef/1-main.c\n",
      " create mode 100755 0x0E-structures_typedef/b\n"
     ]
    },
    {
     "name": "stderr",
     "output_type": "stream",
     "text": [
      "To https://github.com/elkomysara/alx-low_level_programming.git\n",
      "   f0cc8b6..4dab602  main -> main\n"
     ]
    }
   ],
   "source": [
    "%%bash\n",
    "git add .\n",
    "git commit -m \"alx-low_level_programming/0x0E-structures_typedef/0-putchar\"\n",
    "git push"
   ]
  },
  {
   "cell_type": "markdown",
   "metadata": {},
   "source": [
    "###\n",
    "---\n",
    "<center>\n",
    "<h4> 2. A dog will teach you unconditional love. If you can have that in your life, things won't be too bad</h4>\n",
    "</center>\n",
    "\n",
    "---"
   ]
  },
  {
   "cell_type": "markdown",
   "metadata": {},
   "source": [
    "\n",
    "#### Write a function that prints a `struct dog`\n",
    "\n",
    "* Prototype: `void print_dog(struct dog *d);`\n",
    "* Format: see example bellow\n",
    "* You are allowed to use the standard library\n",
    "* If an element of `d` is `NULL`, print `(nil) `instead of this element. (if `name` is `NULL`, print `Name: (nil)`)\n",
    "* If `d` is `NULL` print nothing.\n",
    "\n",
    "```bash\n",
    "julien@ubuntu:~/0x0d. structures, typedef$ cat 2-main.c\n",
    "#include <stdio.h>\n",
    "#include \"dog.h\"\n",
    "\n",
    "/**\n",
    " * main - check the code\n",
    " *\n",
    " * Return: Always 0.\n",
    " */\n",
    "int main(void)\n",
    "{\n",
    "    struct dog my_dog;\n",
    "\n",
    "    my_dog.name = \"Poppy\";\n",
    "    my_dog.age = 3.5;\n",
    "    my_dog.owner = \"Bob\";\n",
    "    print_dog(&my_dog);\n",
    "    return (0);\n",
    "}\n",
    "julien@ubuntu:~/0x0d. structures, typedef$ gcc -Wall -pedantic -Werror -Wextra -std=gnu89 2-main.c 2-print_dog.c -o c\n",
    "julien@ubuntu:~/0x0d. structures, typedef$ ./c \n",
    "Name: Poppy\n",
    "Age: 3.500000\n",
    "Owner: Bob\n",
    "julien@ubuntu:~/0x0d. structures, typedef$    \n",
    "```\n",
    "#### Repo:\n",
    "* GitHub repository: ``` alx-low_level_programming ```\n",
    "* Directory: ```0x0E-structures_typedef``` \n",
    "* File: ```2-print_dog.c```"
   ]
  },
  {
   "cell_type": "code",
   "execution_count": 23,
   "metadata": {},
   "outputs": [
    {
     "name": "stdout",
     "output_type": "stream",
     "text": [
      "Writing 0x0E-structures_typedef/2-main.c\n"
     ]
    }
   ],
   "source": [
    "%%file 0x0E-structures_typedef/2-main.c\n",
    "#include <stdio.h>\n",
    "#include \"dog.h\"\n",
    "\n",
    "/**\n",
    " * main - check the code\n",
    " *\n",
    " * Return: Always 0.\n",
    " */\n",
    "int main(void)\n",
    "{\n",
    "    struct dog my_dog;\n",
    "\n",
    "    my_dog.name = \"Poppy\";\n",
    "    my_dog.age = 3.5;\n",
    "    my_dog.owner = \"Bob\";\n",
    "    print_dog(&my_dog);\n",
    "    return (0);\n",
    "}"
   ]
  },
  {
   "cell_type": "code",
   "execution_count": 25,
   "metadata": {},
   "outputs": [
    {
     "name": "stdout",
     "output_type": "stream",
     "text": [
      "Writing 0x0E-structures_typedef/2-print_dog.c\n"
     ]
    }
   ],
   "source": [
    "%%file 0x0E-structures_typedef/2-print_dog.c\n",
    "#include <stdio.h>\n",
    "#include \"dog.h\"\n",
    "\n",
    "/**\n",
    "* print_dog - Prints a struct dog.\n",
    "* @d: A pointer to the struct dog to print.\n",
    "*/\n",
    "void print_dog(struct dog *d)\n",
    "{\n",
    "if (d == NULL)\n",
    "return;\n",
    "\n",
    "if (d->name == NULL)\n",
    "printf(\"Name: (nil)\\n\");\n",
    "else\n",
    "printf(\"Name: %s\\n\", d->name);\n",
    "\n",
    "printf(\"Age: %f\\n\", d->age);\n",
    "\n",
    "if (d->owner == NULL)\n",
    "printf(\"Owner: (nil)\\n\");\n",
    "else\n",
    "printf(\"Owner: %s\\n\", d->owner);\n",
    "}\n"
   ]
  },
  {
   "cell_type": "code",
   "execution_count": 24,
   "metadata": {},
   "outputs": [
    {
     "name": "stdout",
     "output_type": "stream",
     "text": [
      "Overwriting 0x0E-structures_typedef/dog.h\n"
     ]
    }
   ],
   "source": [
    "%%file 0x0E-structures_typedef/dog.h\n",
    "#ifndef DOG_H\n",
    "#define DOG_H\n",
    "\n",
    "#include <stddef.h>\n",
    "\n",
    "/**\n",
    "* struct dog - A new type describing a dog.\n",
    "* @name: The name of the dog (type: char *).\n",
    "* @age: The age of the dog (type: float).\n",
    "* @owner: The owner of the dog (type: char *).\n",
    "*/\n",
    "struct dog\n",
    "{\n",
    "char *name;\n",
    "float age;\n",
    "char *owner;\n",
    "};\n",
    "\n",
    "/**\n",
    " * init_dog - Initializes a variable of type struct dog.\n",
    " * @d: A pointer to the struct dog to initialize.\n",
    " * @name: The name to set.\n",
    " * @age: The age to set.\n",
    " * @owner: The owner to set.\n",
    " */\n",
    "void init_dog(struct dog *d, char *name, float age, char *owner);\n",
    "\n",
    "\n",
    "/**\n",
    " * print_dog - Prints a struct dog.\n",
    " * @d: A pointer to the struct dog to print.\n",
    " */\n",
    "void print_dog(struct dog *d);\n",
    "\n",
    "#endif /* DOG_H */\n",
    "\n"
   ]
  },
  {
   "cell_type": "code",
   "execution_count": 26,
   "metadata": {},
   "outputs": [
    {
     "name": "stdout",
     "output_type": "stream",
     "text": [
      "\n",
      "========== 0x0E-structures_typedef/2-print_dog.c ==========\n",
      "print_dog\n",
      "Name: Poppy\n",
      "Age: 3.500000\n",
      "Owner: Bob\n"
     ]
    }
   ],
   "source": [
    "%%bash\n",
    "betty 0x0E-structures_typedef/2-print_dog.c  \n",
    "gcc -Wall -pedantic -Werror -Wextra -std=gnu89 0x0E-structures_typedef/2-main.c 0x0E-structures_typedef/2-print_dog.c -o 0x0E-structures_typedef/c\n",
    "./0x0E-structures_typedef/c\n"
   ]
  },
  {
   "cell_type": "code",
   "execution_count": 27,
   "metadata": {},
   "outputs": [
    {
     "name": "stdout",
     "output_type": "stream",
     "text": [
      "[main d9b5c8c] alx-low_level_programming/0x0E-structures_typedef/0-putchar\n",
      " 4 files changed, 51 insertions(+)\n",
      " create mode 100644 0x0E-structures_typedef/2-main.c\n",
      " create mode 100644 0x0E-structures_typedef/2-print_dog.c\n",
      " create mode 100755 0x0E-structures_typedef/c\n"
     ]
    },
    {
     "name": "stderr",
     "output_type": "stream",
     "text": [
      "To https://github.com/elkomysara/alx-low_level_programming.git\n",
      "   4dab602..d9b5c8c  main -> main\n"
     ]
    }
   ],
   "source": [
    "%%bash\n",
    "git add .\n",
    "git commit -m \"alx-low_level_programming/0x0E-structures_typedef/0-putchar\"\n",
    "git push"
   ]
  },
  {
   "cell_type": "code",
   "execution_count": null,
   "metadata": {},
   "outputs": [],
   "source": []
  },
  {
   "cell_type": "markdown",
   "metadata": {},
   "source": [
    "###\n",
    "---\n",
    "<center>\n",
    "<h4>3. Outside of a dog, a book is a man's best friend. Inside of a dog it's too dark to read</h4>\n",
    "</center>\n",
    "\n",
    "---"
   ]
  },
  {
   "cell_type": "markdown",
   "metadata": {},
   "source": [
    "\n",
    "#### Define a new type `dog_t` as a new name for the type `struct dog`.\n",
    "\n",
    "```bash\n",
    "julien@ubuntu:~/0x0d. structures, typedef$ cat 3-main.c\n",
    "#include <stdio.h>\n",
    "#include \"dog.h\"\n",
    "\n",
    "/**\n",
    " * main - check the code\n",
    " *\n",
    " * Return: Always 0.\n",
    " */\n",
    "int main(void)\n",
    "{\n",
    "    dog_t my_dog;\n",
    "\n",
    "    my_dog.name = \"Poppy\";\n",
    "    my_dog.age = 3.5;\n",
    "    my_dog.owner = \"Bob\";\n",
    "    printf(\"My name is %s, and I am %.1f :) - Woof!\\n\", my_dog.name, my_dog.age);\n",
    "    return (0);\n",
    "}\n",
    "julien@ubuntu:~/0x0d. structures, typedef$ gcc -Wall -pedantic -Werror -Wextra -std=gnu89 3-main.c -o d\n",
    "julien@ubuntu:~/0x0d. structures, typedef$ ./d \n",
    "My name is Poppy, and I am 3.5 :) - Woof!\n",
    "julien@ubuntu:~/0x0d. structures, typedef$ \n",
    "\n",
    "```\n",
    "#### Repo:\n",
    "* GitHub repository: ``` alx-low_level_programming ```\n",
    "* Directory: ```0x0E-structures_typedef``` \n",
    "* File: ```dog.h```"
   ]
  },
  {
   "cell_type": "code",
   "execution_count": 29,
   "metadata": {},
   "outputs": [
    {
     "name": "stdout",
     "output_type": "stream",
     "text": [
      "Overwriting 0x0E-structures_typedef/3-main.c\n"
     ]
    }
   ],
   "source": [
    "%%file 0x0E-structures_typedef/3-main.c\n",
    "#include <stdio.h>\n",
    "#include \"dog.h\"\n",
    "\n",
    "/**\n",
    " * main - check the code\n",
    " *\n",
    " * Return: Always 0.\n",
    " */\n",
    "int main(void)\n",
    "{\n",
    "    dog_t my_dog;\n",
    "\n",
    "    my_dog.name = \"Poppy\";\n",
    "    my_dog.age = 3.5;\n",
    "    my_dog.owner = \"Bob\";\n",
    "    printf(\"My name is %s, and I am %.1f :) - Woof!\\n\", my_dog.name, my_dog.age);\n",
    "    return (0);\n",
    "}"
   ]
  },
  {
   "cell_type": "code",
   "execution_count": 30,
   "metadata": {},
   "outputs": [
    {
     "name": "stdout",
     "output_type": "stream",
     "text": [
      "Overwriting 0x0E-structures_typedef/dog.h\n"
     ]
    }
   ],
   "source": [
    "%%file 0x0E-structures_typedef/dog.h\n",
    "#ifndef DOG_H\n",
    "#define DOG_H\n",
    "\n",
    "#include <stddef.h>\n",
    "\n",
    "/**\n",
    "* struct dog - A new type describing a dog.\n",
    "* @name: The name of the dog (type: char *).\n",
    "* @age: The age of the dog (type: float).\n",
    "* @owner: The owner of the dog (type: char *).\n",
    "*/\n",
    "struct dog\n",
    "{\n",
    "char *name;\n",
    "float age;\n",
    "char *owner;\n",
    "};\n",
    "\n",
    "/**\n",
    " * dog_t - Typedef for struct dog.\n",
    " */\n",
    "typedef struct dog dog_t;\n",
    "\n",
    "\n",
    "/**\n",
    " * init_dog - Initializes a variable of type struct dog.\n",
    " * @d: A pointer to the struct dog to initialize.\n",
    " * @name: The name to set.\n",
    " * @age: The age to set.\n",
    " * @owner: The owner to set.\n",
    " */\n",
    "void init_dog(struct dog *d, char *name, float age, char *owner);\n",
    "\n",
    "\n",
    "/**\n",
    " * print_dog - Prints a struct dog.\n",
    " * @d: A pointer to the struct dog to print.\n",
    " */\n",
    "void print_dog(struct dog *d);\n",
    "\n",
    "#endif /* DOG_H */\n",
    "\n"
   ]
  },
  {
   "cell_type": "code",
   "execution_count": 31,
   "metadata": {},
   "outputs": [
    {
     "name": "stdout",
     "output_type": "stream",
     "text": [
      "My name is Poppy, and I am 3.5 :) - Woof!\n"
     ]
    }
   ],
   "source": [
    "%%bash\n",
    "\n",
    "gcc -Wall -pedantic -Werror -Wextra -std=gnu89 0x0E-structures_typedef/3-main.c -o 0x0E-structures_typedef/d\n",
    "./0x0E-structures_typedef/d\n"
   ]
  },
  {
   "cell_type": "code",
   "execution_count": 32,
   "metadata": {},
   "outputs": [
    {
     "name": "stdout",
     "output_type": "stream",
     "text": [
      "[main adb9fdb] alx-low_level_programming/0x0E-structures_typedef/0-putchar\n",
      " 3 files changed, 24 insertions(+)\n",
      " create mode 100644 0x0E-structures_typedef/3-main.c\n",
      " create mode 100755 0x0E-structures_typedef/d\n"
     ]
    },
    {
     "name": "stderr",
     "output_type": "stream",
     "text": [
      "To https://github.com/elkomysara/alx-low_level_programming.git\n",
      "   d9b5c8c..adb9fdb  main -> main\n"
     ]
    }
   ],
   "source": [
    "%%bash\n",
    "git add .\n",
    "git commit -m \"alx-low_level_programming/0x0E-structures_typedef/0-putchar\"\n",
    "git push"
   ]
  },
  {
   "cell_type": "code",
   "execution_count": null,
   "metadata": {},
   "outputs": [],
   "source": []
  },
  {
   "cell_type": "markdown",
   "metadata": {},
   "source": [
    "###\n",
    "---\n",
    "<center>\n",
    "<h4>4. A door is what a dog is perpetually on the wrong side of</h4>\n",
    "</center>\n",
    "\n",
    "---"
   ]
  },
  {
   "cell_type": "markdown",
   "metadata": {},
   "source": [
    "\n",
    "#### Write a function that creates a new dog.\n",
    "\n",
    "* Prototype: `dog_t *new_dog(char *name, float age, char *owner);`\n",
    "* You have to store a copy of `name` and `owner`\n",
    "* Return `NULL` if the function fails\n",
    "\n",
    "```bash\n",
    " julien@ubuntu:~/0x0d. structures, typedef$ cat 4-main.c\n",
    "#include <stdio.h>\n",
    "#include \"dog.h\"\n",
    "\n",
    "/**\n",
    " * main - check the code\n",
    " *\n",
    " * Return: Always 0.\n",
    " */\n",
    "int main(void)\n",
    "{\n",
    "    dog_t *my_dog;\n",
    "\n",
    "    my_dog = new_dog(\"Poppy\", 3.5, \"Bob\");\n",
    "    printf(\"My name is %s, and I am %.1f :) - Woof!\\n\", my_dog->name, my_dog->age);\n",
    "    return (0);\n",
    "}\n",
    "julien@ubuntu:~/0x0d. structures, typedef$ gcc -Wall -pedantic -Werror -Wextra -std=gnu89 4-main.c 4-new_dog.c -o e\n",
    "julien@ubuntu:~/0x0d. structures, typedef$ ./e\n",
    "My name is Poppy, and I am 3.5 :) - Woof!\n",
    "julien@ubuntu:~/0x0d. structures, typedef$ \n",
    "\n",
    "```\n",
    "#### Repo:\n",
    "* GitHub repository: ``` alx-low_level_programming ```\n",
    "* Directory: ```0x0E-structures_typedef``` \n",
    "* File: ```4-new_dog.c```"
   ]
  },
  {
   "cell_type": "code",
   "execution_count": 33,
   "metadata": {},
   "outputs": [
    {
     "name": "stdout",
     "output_type": "stream",
     "text": [
      "Writing 0x0E-structures_typedef/4-new_dog.c\n"
     ]
    }
   ],
   "source": [
    "%%file 0x0E-structures_typedef/4-new_dog.c\n",
    "\n",
    "#include <stdlib.h>\n",
    "#include <string.h>\n",
    "#include \"dog.h\"\n",
    "\n",
    "/**\n",
    " * new_dog - Creates a new dog.\n",
    " * @name: The name of the dog.\n",
    " * @age: The age of the dog.\n",
    " * @owner: The owner of the dog.\n",
    " *\n",
    " * Return: A pointer to the new dog (dog_t*), or NULL if the function fails.\n",
    " */\n",
    "dog_t *new_dog(char *name, float age, char *owner)\n",
    "{\n",
    "    dog_t *new_dog;\n",
    "    char *new_name, *new_owner;\n",
    "\n",
    "    if (name == NULL || owner == NULL)\n",
    "        return NULL;\n",
    "\n",
    "    new_dog = malloc(sizeof(dog_t));\n",
    "    if (new_dog == NULL)\n",
    "        return NULL;\n",
    "\n",
    "    new_name = malloc(strlen(name) + 1);\n",
    "    if (new_name == NULL)\n",
    "    {\n",
    "        free(new_dog);\n",
    "        return NULL;\n",
    "    }\n",
    "    strcpy(new_name, name);\n",
    "\n",
    "    new_owner = malloc(strlen(owner) + 1);\n",
    "    if (new_owner == NULL)\n",
    "    {\n",
    "        free(new_name);\n",
    "        free(new_dog);\n",
    "        return NULL;\n",
    "    }\n",
    "    strcpy(new_owner, owner);\n",
    "\n",
    "    new_dog->name = new_name;\n",
    "    new_dog->age = age;\n",
    "    new_dog->owner = new_owner;\n",
    "\n",
    "    return new_dog;\n",
    "}\n"
   ]
  },
  {
   "cell_type": "code",
   "execution_count": null,
   "metadata": {},
   "outputs": [
    {
     "name": "stdout",
     "output_type": "stream",
     "text": [
      "Overwriting 0x0E-structures_typedef/dog.h\n"
     ]
    }
   ],
   "source": [
    "%%file 0x0E-structures_typedef/dog.h\n",
    "#ifndef DOG_H\n",
    "#define DOG_H\n",
    "\n",
    "#include <stddef.h>\n",
    "\n",
    "/**\n",
    "* struct dog - A new type describing a dog.\n",
    "* @name: The name of the dog (type: char *).\n",
    "* @age: The age of the dog (type: float).\n",
    "* @owner: The owner of the dog (type: char *).\n",
    "*/\n",
    "struct dog\n",
    "{\n",
    "char *name;\n",
    "float age;\n",
    "char *owner;\n",
    "};\n",
    "\n",
    "/**\n",
    " * dog_t - Typedef for struct dog.\n",
    " */\n",
    "typedef struct dog dog_t;\n",
    "\n",
    "\n",
    "/**\n",
    " * init_dog - Initializes a variable of type struct dog.\n",
    " * @d: A pointer to the struct dog to initialize.\n",
    " * @name: The name to set.\n",
    " * @age: The age to set.\n",
    " * @owner: The owner to set.\n",
    " */\n",
    "void init_dog(struct dog *d, char *name, float age, char *owner);\n",
    "\n",
    "\n",
    "/**\n",
    " * print_dog - Prints a struct dog.\n",
    " * @d: A pointer to the struct dog to print.\n",
    " */\n",
    "void print_dog(struct dog *d);\n",
    "\n",
    "#endif /* DOG_H */\n",
    "\n"
   ]
  },
  {
   "cell_type": "code",
   "execution_count": 38,
   "metadata": {},
   "outputs": [
    {
     "name": "stdout",
     "output_type": "stream",
     "text": [
      "Overwriting 0x0E-structures_typedef/4-main.c\n"
     ]
    }
   ],
   "source": [
    "%%file 0x0E-structures_typedef/4-main.c\n",
    "\n",
    "#include <stdio.h>\n",
    "#include \"dog.h\"\n",
    "\n",
    "/**\n",
    " * main - check the code\n",
    " *\n",
    " * Return: Always 0.\n",
    " */\n",
    "int main(void)\n",
    "{\n",
    "    dog_t *my_dog;\n",
    "\n",
    "    my_dog = new_dog(\"Poppy\", 3.5, \"Bob\");\n",
    "    printf(\"My name is %s, and I am %.1f :) - Woof!\\n\", my_dog->name, my_dog->age);\n",
    "    return (0);\n",
    "}\n"
   ]
  },
  {
   "cell_type": "code",
   "execution_count": 25,
   "metadata": {},
   "outputs": [
    {
     "name": "stdout",
     "output_type": "stream",
     "text": [
      "1122\n"
     ]
    }
   ],
   "source": [
    "%%bash\n",
    "betty 0x0E-structures_typedef/4-new_dog.c \n",
    "gcc -Wall -pedantic -Werror -Wextra -std=gnu89 0x0E-structures_typedef/4-main.c 0x0E-structures_typedef/4-new_dog.c -o 0x0E-structures_typedef/e\n",
    "./0x0E-structures_typedef/e\n"
   ]
  },
  {
   "cell_type": "code",
   "execution_count": 26,
   "metadata": {},
   "outputs": [
    {
     "name": "stdout",
     "output_type": "stream",
     "text": [
      "[main ca563fe] alx-low_level_programming/0x0D-preprocessor/0-putchar\n",
      " 3 files changed, 26 insertions(+)\n",
      " create mode 100644 0x0D-preprocessor/4-main.c\n",
      " create mode 100644 0x0D-preprocessor/4-sum.h\n",
      " create mode 100755 0x0D-preprocessor/e\n"
     ]
    },
    {
     "name": "stderr",
     "output_type": "stream",
     "text": [
      "To https://github.com/elkomysara/alx-low_level_programming.git\n",
      "   4e412ae..ca563fe  main -> main\n"
     ]
    }
   ],
   "source": [
    "%%bash\n",
    "git add .\n",
    "git commit -m \"alx-low_level_programming/0x0E-structures_typedef/0-putchar\"\n",
    "git push"
   ]
  },
  {
   "cell_type": "markdown",
   "metadata": {},
   "source": [
    "###\n",
    "---\n",
    "<center>\n",
    "<h4>5. How many legs does a dog have if you call his tail a leg? Four. Saying that a tail is a leg doesn't make it a leg</h4>\n",
    "</center>\n",
    "\n",
    "---"
   ]
  },
  {
   "cell_type": "markdown",
   "metadata": {},
   "source": [
    "\n",
    "#### Write a function that frees dogs.\n",
    "\n",
    "* Prototype: `void free_dog(dog_t *d);`\n",
    "\n",
    "```bash\n",
    " julien@ubuntu:~/0x0d. structures, typedef$ cat 5-main.c\n",
    "#include <stdio.h>\n",
    "#include \"dog.h\"\n",
    "\n",
    "/**\n",
    " * main - check the code\n",
    " *\n",
    " * Return: Always 0.\n",
    " */\n",
    "int main(void)\n",
    "{\n",
    "    dog_t *my_dog;\n",
    "\n",
    "    my_dog = new_dog(\"Poppy\", 3.5, \"Bob\");\n",
    "    printf(\"My name is %s, and I am %.1f :) - Woof!\\n\", my_dog->name, my_dog->age);\n",
    "    free_dog(my_dog);\n",
    "    return (0);\n",
    "}\n",
    "julien@ubuntu:~/0x0d. structures, typedef$ gcc -Wall -pedantic -Werror -Wextra -std=gnu89 5-main.c 5-free_dog.c 4-new_dog.c -o f\n",
    "julien@ubuntu:~/0x0d. structures, typedef$ valgrind ./f\n",
    "==22840== Memcheck, a memory error detector\n",
    "==22840== Copyright (C) 2002-2015, and GNU GPL'd, by Julian Seward et al.\n",
    "==22840== Using Valgrind-3.11.0 and LibVEX; rerun with -h for copyright info\n",
    "==22840== Command: ./f\n",
    "==22840== \n",
    "My name is Poppy, and I am 3.5 :) - Woof!\n",
    "==22840== \n",
    "==22840== HEAP SUMMARY:\n",
    "==22840==     in use at exit: 0 bytes in 0 blocks\n",
    "==22840==   total heap usage: 4 allocs, 4 frees, 1,059 bytes allocated\n",
    "==22840== \n",
    "==22840== All heap blocks were freed -- no leaks are possible\n",
    "==22840== \n",
    "==22840== For counts of detected and suppressed errors, rerun with: -v\n",
    "==22840== ERROR SUMMARY: 0 errors from 0 contexts (suppressed: 0 from 0)\n",
    "julien@ubuntu:~/0x0d. structures, typedef$ \n",
    "\n",
    "```\n",
    "#### Repo:\n",
    "* GitHub repository: ``` alx-low_level_programming ```\n",
    "* Directory: ```0x0E-structures_typedef``` \n",
    "* File: ```5-free_dog.c```"
   ]
  },
  {
   "cell_type": "code",
   "execution_count": 35,
   "metadata": {},
   "outputs": [
    {
     "name": "stdout",
     "output_type": "stream",
     "text": [
      "Writing 0x0E-structures_typedef/5-free_dog.c\n"
     ]
    }
   ],
   "source": [
    "%%file 0x0E-structures_typedef/5-free_dog.c\n",
    "\n",
    "#ifndef SUM_H\n",
    "#define SUM_H\n",
    "\n",
    "#define SUM(x, y) ((x) + (y))\n",
    "\n",
    "#endif /* SUM_H */\n"
   ]
  },
  {
   "cell_type": "code",
   "execution_count": null,
   "metadata": {},
   "outputs": [
    {
     "name": "stdout",
     "output_type": "stream",
     "text": [
      "Overwriting 0x0E-structures_typedef/dog.h\n"
     ]
    }
   ],
   "source": [
    "%%file 0x0E-structures_typedef/dog.h\n",
    "#ifndef DOG_H\n",
    "#define DOG_H\n",
    "\n",
    "#include <stddef.h>\n",
    "\n",
    "/**\n",
    "* struct dog - A new type describing a dog.\n",
    "* @name: The name of the dog (type: char *).\n",
    "* @age: The age of the dog (type: float).\n",
    "* @owner: The owner of the dog (type: char *).\n",
    "*/\n",
    "struct dog\n",
    "{\n",
    "char *name;\n",
    "float age;\n",
    "char *owner;\n",
    "};\n",
    "\n",
    "/**\n",
    " * dog_t - Typedef for struct dog.\n",
    " */\n",
    "typedef struct dog dog_t;\n",
    "\n",
    "\n",
    "/**\n",
    " * init_dog - Initializes a variable of type struct dog.\n",
    " * @d: A pointer to the struct dog to initialize.\n",
    " * @name: The name to set.\n",
    " * @age: The age to set.\n",
    " * @owner: The owner to set.\n",
    " */\n",
    "void init_dog(struct dog *d, char *name, float age, char *owner);\n",
    "\n",
    "\n",
    "/**\n",
    " * print_dog - Prints a struct dog.\n",
    " * @d: A pointer to the struct dog to print.\n",
    " */\n",
    "void print_dog(struct dog *d);\n",
    "\n",
    "#endif /* DOG_H */\n",
    "\n"
   ]
  },
  {
   "cell_type": "code",
   "execution_count": 37,
   "metadata": {},
   "outputs": [
    {
     "name": "stdout",
     "output_type": "stream",
     "text": [
      "Overwriting 0x0E-structures_typedef/5-main.c\n"
     ]
    }
   ],
   "source": [
    "%%file 0x0E-structures_typedef/5-main.c\n",
    "\n",
    "#include <stdio.h>\n",
    "#include \"dog.h\"\n",
    "\n",
    "/**\n",
    " * main - check the code\n",
    " *\n",
    " * Return: Always 0.\n",
    " */\n",
    "int main(void)\n",
    "{\n",
    "    dog_t *my_dog;\n",
    "\n",
    "    my_dog = new_dog(\"Poppy\", 3.5, \"Bob\");\n",
    "    printf(\"My name is %s, and I am %.1f :) - Woof!\\n\", my_dog->name, my_dog->age);\n",
    "    free_dog(my_dog);\n",
    "    return (0);\n",
    "}\n"
   ]
  },
  {
   "cell_type": "code",
   "execution_count": null,
   "metadata": {},
   "outputs": [
    {
     "name": "stdout",
     "output_type": "stream",
     "text": [
      "1122\n"
     ]
    }
   ],
   "source": [
    "%%bash\n",
    "betty 0x0E-structures_typedef/5-free_dog.c\n",
    "gcc -Wall -pedantic -Werror -Wextra -std=gnu89 0x0E-structures_typedef/5-main.c 0x0E-structures_typedef/5-free_dog.c -o 0x0E-structures_typedef/f\n",
    "./0x0E-structures_typedef/f\n"
   ]
  },
  {
   "cell_type": "code",
   "execution_count": null,
   "metadata": {},
   "outputs": [
    {
     "name": "stdout",
     "output_type": "stream",
     "text": [
      "[main ca563fe] alx-low_level_programming/0x0D-preprocessor/0-putchar\n",
      " 3 files changed, 26 insertions(+)\n",
      " create mode 100644 0x0D-preprocessor/4-main.c\n",
      " create mode 100644 0x0D-preprocessor/4-sum.h\n",
      " create mode 100755 0x0D-preprocessor/e\n"
     ]
    },
    {
     "name": "stderr",
     "output_type": "stream",
     "text": [
      "To https://github.com/elkomysara/alx-low_level_programming.git\n",
      "   4e412ae..ca563fe  main -> main\n"
     ]
    }
   ],
   "source": [
    "%%bash\n",
    "git add .\n",
    "git commit -m \"alx-low_level_programming/0x0E-structures_typedef/0-putchar\"\n",
    "git push"
   ]
  }
 ],
 "metadata": {
  "kernelspec": {
   "display_name": "Python 3",
   "language": "python",
   "name": "python3"
  },
  "language_info": {
   "codemirror_mode": {
    "name": "ipython",
    "version": 3
   },
   "file_extension": ".py",
   "mimetype": "text/x-python",
   "name": "python",
   "nbconvert_exporter": "python",
   "pygments_lexer": "ipython3",
   "version": "3.12.3"
  }
 },
 "nbformat": 4,
 "nbformat_minor": 2
}
