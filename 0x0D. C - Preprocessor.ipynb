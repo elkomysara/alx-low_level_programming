{
 "cells": [
  {
   "cell_type": "markdown",
   "metadata": {},
   "source": [
    "---\n",
    "<center>\n",
    "<h1>  alx-low_level_programming </h1>\n",
    "</center>\n",
    "\n",
    "---\n"
   ]
  },
  {
   "cell_type": "code",
   "execution_count": 3,
   "metadata": {},
   "outputs": [],
   "source": [
    "import os\n",
    "# creating 0x02-shell_redirectionss\n",
    "\n",
    "folder_path = r'/home/elkomy/alx/alx-low_level_programming/0x0C-more_malloc_free'\n",
    "if not os.path.exists(folder_path):\n",
    "    os.makedirs(folder_path)\n",
    "\n",
    "# Create a README.md inside alx-low_level_programming/0x0C-more_malloc_free\n",
    "file_path = os.path.join(folder_path, 'README.md')\n",
    "\n",
    "with open(file_path, 'w') as file:\n",
    "    file.write(\"This is a README.md file inside alx-low_level_programming/0x0C-more_malloc_free\")\n",
    "\n"
   ]
  },
  {
   "cell_type": "code",
   "execution_count": 3,
   "metadata": {},
   "outputs": [
    {
     "name": "stdout",
     "output_type": "stream",
     "text": [
      "Overwriting /home/elkomy/alx/alx-low_level_programming/0x07-pointers_arrays_strings/README.md\n"
     ]
    }
   ],
   "source": [
    "%%file /home/elkomy/alx/alx-low_level_programming/0x0C-more_malloc_free/README.md\n",
    "This is a README.md"
   ]
  },
  {
   "cell_type": "markdown",
   "metadata": {},
   "source": [
    "###\n",
    "---\n",
    "<center>\n",
    "<h1> 0x0C. C - More malloc, free </h1>\n",
    "</center>\n",
    "\n",
    "---\n"
   ]
  },
  {
   "cell_type": "markdown",
   "metadata": {},
   "source": [
    "###\n",
    "---\n",
    "<center>\n",
    "<h4> 0. Trust no one</h4>\n",
    "</center>\n",
    "\n",
    "---"
   ]
  },
  {
   "cell_type": "markdown",
   "metadata": {},
   "source": [
    "\n",
    "#### Write a function that allocates memory using malloc.\n",
    "\n",
    "* Prototype: `void *malloc_checked(unsigned int b);`\n",
    "* Returns a pointer to the allocated memory\n",
    "* if `malloc` fails, the `malloc_checked` function should cause normal process termination with a status value of `98`\n",
    "\n",
    "```bash\n",
    "julien@ubuntu:~/0x0b. more malloc, free$ cat 0-main.c\n",
    "#include \"main.h\"\n",
    "#include <stdio.h>\n",
    "#include <stdlib.h>\n",
    "#include <limits.h>\n",
    "\n",
    "/**\n",
    " * main - check the code\n",
    " *\n",
    " * Return: Always 0.\n",
    " */\n",
    "int main(void)\n",
    "{\n",
    "    char *c;\n",
    "    int *i;\n",
    "    float *f;\n",
    "    double *d;\n",
    "\n",
    "    c = malloc_checked(sizeof(char) * 1024);\n",
    "    printf(\"%p\\n\", (void *)c);\n",
    "    i = malloc_checked(sizeof(int) * 402);\n",
    "    printf(\"%p\\n\", (void *)i);\n",
    "    f = malloc_checked(sizeof(float) * 100000000);\n",
    "    printf(\"%p\\n\", (void *)f);\n",
    "    d = malloc_checked(INT_MAX);\n",
    "    printf(\"%p\\n\", (void *)d);\n",
    "    free(c);\n",
    "    free(i);\n",
    "    free(f);\n",
    "    free(d);\n",
    "    return (0);\n",
    "}\n",
    "julien@ubuntu:~/0x0b. more malloc, free$ gcc -Wall -pedantic -Werror -Wextra -std=gnu89 0-main.c 0-malloc_checked.c -o a\n",
    "julien@ubuntu:~/0x0b. more malloc, free$ ./a \n",
    "0x1e39010\n",
    "0x1e39830\n",
    "0x7f31f6c19010\n",
    "julien@ubuntu:~/0x0b. more malloc, free$ echo $?\n",
    "98\n",
    "julien@ubuntu:~/0x0b. more malloc, free$ \n",
    "```\n",
    "#### Repo:\n",
    "* GitHub repository: ``` alx-low_level_programming ```\n",
    "* Directory: ```0x0C-more_malloc_free``` \n",
    "* File: ```0-malloc_checked.c```"
   ]
  },
  {
   "cell_type": "code",
   "execution_count": 28,
   "metadata": {},
   "outputs": [
    {
     "name": "stdout",
     "output_type": "stream",
     "text": [
      "Overwriting 0x0C-more_malloc_free/0-malloc_checked.c\n"
     ]
    }
   ],
   "source": [
    "%%file 0x0C-more_malloc_free/0-malloc_checked.c\n",
    "#include <stdlib.h>\n",
    "/**\n",
    " * malloc_checked - Allocates memory using malloc.\n",
    " * @b: The number of bytes to allocate.\n",
    " *\n",
    " * Return: A pointer to the allocated memory.\n",
    " *         If malloc fails, the function causes normal process termination\n",
    " *         with a status value of 98.\n",
    " */\n",
    "\n",
    "void *malloc_checked(unsigned int b)\n",
    "{\n",
    "void *ptr = malloc(b);\n",
    "\n",
    "if (ptr == NULL)\n",
    "{\n",
    "exit(98);  /* Terminate with status 98 if malloc fails */\n",
    "}\n",
    "\n",
    "return (ptr);\n",
    "}\n",
    "\n"
   ]
  },
  {
   "cell_type": "code",
   "execution_count": 29,
   "metadata": {},
   "outputs": [
    {
     "name": "stdout",
     "output_type": "stream",
     "text": [
      "Overwriting 0x0C-more_malloc_free/0-main.c\n"
     ]
    }
   ],
   "source": [
    "%%file 0x0C-more_malloc_free/0-main.c\n",
    "#include \"main.h\"\n",
    "#include <stdio.h>\n",
    "#include <stdlib.h>\n",
    "#include <limits.h>\n",
    "\n",
    "/**\n",
    " * main - check the code\n",
    " *\n",
    " * Return: Always 0.\n",
    " */\n",
    "int main(void)\n",
    "{\n",
    "    char *c;\n",
    "    int *i;\n",
    "    float *f;\n",
    "    double *d;\n",
    "\n",
    "    c = malloc_checked(sizeof(char) * 1024);\n",
    "    printf(\"%p\\n\", (void *)c);\n",
    "    i = malloc_checked(sizeof(int) * 402);\n",
    "    printf(\"%p\\n\", (void *)i);\n",
    "    f = malloc_checked(sizeof(float) * 100000000);\n",
    "    printf(\"%p\\n\", (void *)f);\n",
    "    d = malloc_checked(INT_MAX);\n",
    "    printf(\"%p\\n\", (void *)d);\n",
    "    free(c);\n",
    "    free(i);\n",
    "    free(f);\n",
    "    free(d);\n",
    "    return (0);\n",
    "}"
   ]
  },
  {
   "cell_type": "code",
   "execution_count": 30,
   "metadata": {},
   "outputs": [
    {
     "name": "stdout",
     "output_type": "stream",
     "text": [
      "Overwriting 0x0C-more_malloc_free/main.h\n"
     ]
    }
   ],
   "source": [
    "%%file 0x0C-more_malloc_free/main.h\n",
    "#ifndef MAIN_H\n",
    "#define MAIN_H\n",
    "\n",
    "#include <stdio.h>\n",
    "\n",
    "int _putchar(char c);\n",
    "void *malloc_checked(unsigned int b);\n",
    "\n",
    "#endif /* MAIN_H */"
   ]
  },
  {
   "cell_type": "code",
   "execution_count": 116,
   "metadata": {},
   "outputs": [
    {
     "name": "stdout",
     "output_type": "stream",
     "text": [
      "Overwriting 0x0C-more_malloc_free/_putchar.c\n"
     ]
    }
   ],
   "source": [
    "%%file 0x0C-more_malloc_free/_putchar.c\n",
    "#include <unistd.h>\n",
    "#include \"main.h\"\n",
    "/**\n",
    " * _putchar - writes the character c to stdout\n",
    " * @c: The character to print\n",
    " *\n",
    " * Return: On success 1.\n",
    " * On error, -1 is returned, and errno is set appropriately.\n",
    " */\n",
    "int _putchar(char c)\n",
    "{\n",
    "\treturn (write(1, &c, 1));\n",
    "}"
   ]
  },
  {
   "cell_type": "code",
   "execution_count": 32,
   "metadata": {},
   "outputs": [
    {
     "name": "stdout",
     "output_type": "stream",
     "text": [
      "\n",
      "========== 0x0C-more_malloc_free/0-malloc_checked.c ==========\n",
      "malloc_checked\n",
      "0x5585bd6ae2a0\n",
      "0x5585bd6af6c0\n",
      "0x7f7c8f7e2010\n",
      "0x7f7c0f7e1010\n"
     ]
    }
   ],
   "source": [
    "%%bash\n",
    "betty 0x0C-more_malloc_free/0-malloc_checked.c\n",
    "gcc -Wall -pedantic -Werror -Wextra -std=gnu89 0x0C-more_malloc_free/0-main.c 0x0C-more_malloc_free/0-malloc_checked.c -o 0x0C-more_malloc_free/a\n",
    "./0x0C-more_malloc_free/a\n"
   ]
  },
  {
   "cell_type": "code",
   "execution_count": 33,
   "metadata": {},
   "outputs": [
    {
     "name": "stdout",
     "output_type": "stream",
     "text": [
      "[main d8b098d] alx-low_level_programming/0x0C-more_malloc_free/0-putchar\n",
      " 8 files changed, 3354 insertions(+), 419 deletions(-)\n",
      " create mode 100644 0x0C-more_malloc_free/0-main.c\n",
      " create mode 100644 0x0C-more_malloc_free/0-malloc_checked.c\n",
      " create mode 100644 0x0C-more_malloc_free/README.md\n",
      " create mode 100644 0x0C-more_malloc_free/_putchar.c\n",
      " create mode 100755 0x0C-more_malloc_free/a\n",
      " create mode 100644 0x0C-more_malloc_free/main.h\n",
      " create mode 100644 0x0C. C - More malloc, free.ipynb\n"
     ]
    },
    {
     "name": "stderr",
     "output_type": "stream",
     "text": [
      "To https://github.com/elkomysara/alx-low_level_programming.git\n",
      "   1b3310b..d8b098d  main -> main\n"
     ]
    }
   ],
   "source": [
    "%%bash\n",
    "git add .\n",
    "git commit -m \"alx-low_level_programming/0x0C-more_malloc_free/0-putchar\"\n",
    "git push"
   ]
  },
  {
   "cell_type": "code",
   "execution_count": null,
   "metadata": {},
   "outputs": [],
   "source": []
  },
  {
   "cell_type": "markdown",
   "metadata": {},
   "source": [
    "###\n",
    "---\n",
    "<center>\n",
    "<h4>1. string_nconcat</h4>\n",
    "</center>\n",
    "\n",
    "---"
   ]
  },
  {
   "cell_type": "markdown",
   "metadata": {},
   "source": [
    "\n",
    "#### Write a function that concatenates two strings.\n",
    "\n",
    "* Prototype: `char *string_nconcat(char *s1, char *s2, unsigned int n);`\n",
    "* The returned pointer shall point to a newly allocated space in memory, which contains `s1`, followed by the first `n` bytes of `s2`, and null terminated\n",
    "* If the function fails, it should return `NULL`\n",
    "* If `n` is greater or equal to the length of `s2` then use the entire string `s2`\n",
    "* if `NULL` is passed, treat it as an empty string\n",
    "```bash\n",
    "julien@ubuntu:~/0x0b. more malloc, free$ cat 1-main.c\n",
    "#include \"main.h\"\n",
    "#include <stdio.h>\n",
    "#include <stdlib.h>\n",
    "\n",
    "/**\n",
    " * main - check the code\n",
    " *\n",
    " * Return: Always 0.\n",
    " */\n",
    "int main(void)\n",
    "{\n",
    "    char *concat;\n",
    "\n",
    "    concat = string_nconcat(\"Best \", \"School !!!\", 6);\n",
    "    printf(\"%s\\n\", concat);\n",
    "    free(concat);\n",
    "    return (0);\n",
    "}\n",
    "julien@ubuntu:~/0x0b. more malloc, free$ gcc -Wall -pedantic -Werror -Wextra -std=gnu89 1-main.c 1-string_nconcat.c -o 1-string_nconcat\n",
    "julien@ubuntu:~/0x0b. more malloc, free$ ./1-string_nconcat\n",
    "Best School\n",
    "julien@ubuntu:~/0x0b. more malloc, free$   \n",
    "```\n",
    "#### Repo:\n",
    "* GitHub repository: ``` alx-low_level_programming ```\n",
    "* Directory: ```0x0C-more_malloc_free``` \n",
    "* File: ```1-string_nconcat.c```"
   ]
  },
  {
   "cell_type": "code",
   "execution_count": 47,
   "metadata": {},
   "outputs": [
    {
     "name": "stdout",
     "output_type": "stream",
     "text": [
      "Overwriting 0x0C-more_malloc_free/1-string_nconcat.c\n"
     ]
    }
   ],
   "source": [
    "%%file 0x0C-more_malloc_free/1-string_nconcat.c\n",
    "#include <stdlib.h>\n",
    "#include <string.h>\n",
    "\n",
    "/**\n",
    "* string_nconcat - Concatenates two strings.\n",
    "* @s1: The first string.\n",
    "* @s2: The second string.\n",
    "* @n: The maximum number of bytes of s2 to concatenate to s1.\n",
    "*\n",
    "* Return: A pointer to the newly allocated space in memory containing s1,\n",
    "*         followed by the first n bytes of s2, and null terminated.\n",
    "*         If the function fails, it returns NULL.\n",
    "*         If s1 or s2 is NULL, treat it as an empty string.\n",
    "*/\n",
    "char *string_nconcat(char *s1, char *s2, unsigned int n)\n",
    "{\n",
    "unsigned int len1, len2, len;\n",
    "char *concat;\n",
    "\n",
    "/* Treat NULL as empty string */\n",
    "if (s1 == NULL)\n",
    "s1 = \"\";\n",
    "if (s2 == NULL)\n",
    "s2 = \"\";\n",
    "\n",
    "len1 = strlen(s1);\n",
    "len2 = strlen(s2);\n",
    "\n",
    "/* If n is greater than or equal to the length of s2, use the entire s2 */\n",
    "if (n >= len2)\n",
    "n = len2;\n",
    "\n",
    "/* Total length of the new string */\n",
    "len = len1 + n + 1;\n",
    "\n",
    "/* Allocate memory for the new string */\n",
    "concat = malloc(len *sizeof(char));\n",
    "if (concat == NULL)\n",
    "{\n",
    "return (NULL);\n",
    "}\n",
    "\n",
    "/* Copy s1 to the new string */\n",
    "strcpy(concat, s1);\n",
    "\n",
    "/* Concatenate first n bytes of s2 to the new string */\n",
    "strncat(concat, s2, n);\n",
    "\n",
    "return (concat);\n",
    "}\n"
   ]
  },
  {
   "cell_type": "code",
   "execution_count": 48,
   "metadata": {},
   "outputs": [
    {
     "name": "stdout",
     "output_type": "stream",
     "text": [
      "Overwriting 0x0C-more_malloc_free/1-main.c\n"
     ]
    }
   ],
   "source": [
    "%%file 0x0C-more_malloc_free/1-main.c\n",
    "#include \"main.h\"\n",
    "#include <stdio.h>\n",
    "#include <stdlib.h>\n",
    "\n",
    "/**\n",
    " * main - check the code\n",
    " *\n",
    " * Return: Always 0.\n",
    " */\n",
    "int main(void)\n",
    "{\n",
    "    char *concat;\n",
    "\n",
    "    concat = string_nconcat(\"Best \", \"School !!!\", 6);\n",
    "    printf(\"%s\\n\", concat);\n",
    "    free(concat);\n",
    "    return (0);\n",
    "}"
   ]
  },
  {
   "cell_type": "code",
   "execution_count": 49,
   "metadata": {},
   "outputs": [
    {
     "name": "stdout",
     "output_type": "stream",
     "text": [
      "Overwriting 0x0C-more_malloc_free/main.h\n"
     ]
    }
   ],
   "source": [
    "%%file 0x0C-more_malloc_free/main.h\n",
    "#ifndef MAIN_H\n",
    "#define MAIN_H\n",
    "\n",
    "#include <stdio.h>\n",
    "\n",
    "int _putchar(char c);\n",
    "void *malloc_checked(unsigned int b);\n",
    "char *string_nconcat(char *s1, char *s2, unsigned int n);\n",
    "\n",
    "#endif /* MAIN_H */"
   ]
  },
  {
   "cell_type": "code",
   "execution_count": 50,
   "metadata": {},
   "outputs": [
    {
     "name": "stdout",
     "output_type": "stream",
     "text": [
      "\n",
      "========== 0x0C-more_malloc_free/1-string_nconcat.c ==========\n",
      "string_nconcat\n",
      "Best School\n"
     ]
    }
   ],
   "source": [
    "%%bash\n",
    "betty 0x0C-more_malloc_free/1-string_nconcat.c\n",
    "gcc -Wall -pedantic -Werror -Wextra -std=gnu89 0x0C-more_malloc_free/1-main.c 0x0C-more_malloc_free/1-string_nconcat.c -o 0x0C-more_malloc_free/1-string_nconcat\n",
    "./0x0C-more_malloc_free/1-string_nconcat\n"
   ]
  },
  {
   "cell_type": "code",
   "execution_count": 51,
   "metadata": {},
   "outputs": [
    {
     "name": "stdout",
     "output_type": "stream",
     "text": [
      "[main c155e15] alx-low_level_programming/0x0C-more_malloc_free/0-putchar\n",
      " 1 file changed, 1 insertion(+), 1 deletion(-)\n"
     ]
    },
    {
     "name": "stderr",
     "output_type": "stream",
     "text": [
      "To https://github.com/elkomysara/alx-low_level_programming.git\n",
      "   e28cef5..c155e15  main -> main\n"
     ]
    }
   ],
   "source": [
    "%%bash\n",
    "git add .\n",
    "git commit -m \"alx-low_level_programming/0x0C-more_malloc_free/0-putchar\"\n",
    "git push"
   ]
  },
  {
   "cell_type": "markdown",
   "metadata": {},
   "source": [
    "###\n",
    "---\n",
    "<center>\n",
    "<h4> 2. He who is not courageous enough to take risks will accomplish nothing in life</h4>\n",
    "</center>\n",
    "\n",
    "---"
   ]
  },
  {
   "cell_type": "markdown",
   "metadata": {},
   "source": [
    "\n",
    "#### Write a function that concatenates two strings.\n",
    "\n",
    "* Prototype: `char *calloc(char *s1, char *s2);`\n",
    "* The returned pointer should point to a newly allocated space in memory which contains the contents of `s1`, followed by the contents of `s2`, and null terminated\n",
    "* if `NULL` is passed, treat it as an empty string\n",
    "* The function should return` NULL` on failure\n",
    "```bash\n",
    "julien@ubuntu:~/0x0a. malloc, free$ cat 2-main.c\n",
    "#include \"main.h\"\n",
    "#include <stdio.h>\n",
    "#include <stdlib.h>\n",
    "\n",
    "/**\n",
    " * main - check the code for ALX School students.\n",
    " *\n",
    " * Return: Always 0.\n",
    " */\n",
    "int main(void)\n",
    "{\n",
    "    char *s;\n",
    "\n",
    "    s = calloc(\"Betty \", \"Holberton\");\n",
    "    if (s == NULL)\n",
    "    {\n",
    "        printf(\"failed\\n\");\n",
    "        return (1);\n",
    "    }\n",
    "    printf(\"%s\\n\", s);\n",
    "    free(s);\n",
    "    return (0);\n",
    "}\n",
    "julien@ubuntu:~/0x0a. malloc, free$ gcc -Wall -pedantic -Werror -Wextra -std=gnu89 2-main.c 2-str_concat.c -o c\n",
    "julien@ubuntu:~/c/curriculum_by_julien/holbertonschool-low_level_programming/0x0a. malloc, free$ ./c | cat -e\n",
    "Betty Holberton$\n",
    "julien@ubuntu:~/c/curriculum_by_julien/holbertonschool-low_level_programming/0x0a. malloc, free$  \n",
    "```\n",
    "#### Repo:\n",
    "* GitHub repository: ``` alx-low_level_programming ```\n",
    "* Directory: ```0x0C-more_malloc_free``` \n",
    "* File: ```2-calloc.c```"
   ]
  },
  {
   "cell_type": "code",
   "execution_count": 59,
   "metadata": {},
   "outputs": [
    {
     "name": "stdout",
     "output_type": "stream",
     "text": [
      "Overwriting 0x0C-more_malloc_free/2-calloc.c\n"
     ]
    }
   ],
   "source": [
    "%%file 0x0C-more_malloc_free/2-calloc.c\n",
    "#include <stdlib.h>\n",
    "#include <string.h>\n",
    "\n",
    "/**\n",
    "* _calloc - Allocates memory for an array, using malloc.\n",
    "* @nmemb: The number of elements in the array.\n",
    "* @size: The size of each element in bytes.\n",
    "*\n",
    "* Return: A pointer to the allocated memory.\n",
    "*         If nmemb or size is 0, returns NULL.\n",
    "*         If malloc fails, returns NULL.\n",
    "*/\n",
    "void *_calloc(unsigned int nmemb, unsigned int size)\n",
    "{\n",
    "void *ptr;\n",
    "unsigned int total_size;\n",
    "\n",
    "/* If nmemb or size is 0, return NULL */\n",
    "if (nmemb == 0 || size == 0)\n",
    "return (NULL);\n",
    "\n",
    "total_size = nmemb * size;\n",
    "\n",
    "/* Allocate memory */\n",
    "ptr = malloc(total_size);\n",
    "if (ptr == NULL)\n",
    "return (NULL);\n",
    "\n",
    "/* Set allocated memory to zero */\n",
    "memset(ptr, 0, total_size);\n",
    "\n",
    "return (ptr);\n",
    "}\n"
   ]
  },
  {
   "cell_type": "code",
   "execution_count": 60,
   "metadata": {},
   "outputs": [
    {
     "name": "stdout",
     "output_type": "stream",
     "text": [
      "Overwriting 0x0C-more_malloc_free/2-main.c\n"
     ]
    }
   ],
   "source": [
    "%%file 0x0C-more_malloc_free/2-main.c\n",
    "#include \"main.h\"\n",
    "#include <stdio.h>\n",
    "#include <stdlib.h>\n",
    "#include <string.h>\n",
    "\n",
    "/**\n",
    " * simple_print_buffer - prints buffer in hexa\n",
    " * @buffer: the address of memory to print\n",
    " * @size: the size of the memory to print\n",
    " *\n",
    " * Return: Nothing.\n",
    " */\n",
    "void simple_print_buffer(char *buffer, unsigned int size)\n",
    "{\n",
    "    unsigned int i;\n",
    "\n",
    "    i = 0;\n",
    "    while (i < size)\n",
    "    {\n",
    "        if (i % 10)\n",
    "        {\n",
    "            printf(\" \");\n",
    "        }\n",
    "        if (!(i % 10) && i)\n",
    "        {\n",
    "            printf(\"\\n\");\n",
    "        }\n",
    "        printf(\"0x%02x\", buffer[i]);\n",
    "        i++;\n",
    "    }\n",
    "    printf(\"\\n\");\n",
    "}\n",
    "\n",
    "/**\n",
    " * main - check the code\n",
    " *\n",
    " * Return: Always 0.\n",
    " */\n",
    "int main(void)\n",
    "{\n",
    "    char *a;\n",
    "\n",
    "    a = _calloc(98, sizeof(char));\n",
    "    strcpy(a, \"Best\");\n",
    "    strcpy(a + 4, \" School! :)\\n\");\n",
    "    a[97] = '!';\n",
    "    simple_print_buffer(a, 98);\n",
    "    free(a);\n",
    "    return (0);\n",
    "}"
   ]
  },
  {
   "cell_type": "code",
   "execution_count": 61,
   "metadata": {},
   "outputs": [
    {
     "name": "stdout",
     "output_type": "stream",
     "text": [
      "Overwriting 0x0C-more_malloc_free/main.h\n"
     ]
    }
   ],
   "source": [
    "%%file 0x0C-more_malloc_free/main.h\n",
    "#ifndef MAIN_H\n",
    "#define MAIN_H\n",
    "\n",
    "#include <stdio.h>\n",
    "\n",
    "int _putchar(char c);\n",
    "void *malloc_checked(unsigned int b);\n",
    "char *string_nconcat(char *s1, char *s2, unsigned int n);\n",
    "void *_calloc(unsigned int nmemb, unsigned int size);\n",
    "\n",
    "#endif /* MAIN_H */"
   ]
  },
  {
   "cell_type": "code",
   "execution_count": 62,
   "metadata": {},
   "outputs": [
    {
     "name": "stdout",
     "output_type": "stream",
     "text": [
      "\n",
      "========== 0x0C-more_malloc_free/2-calloc.c ==========\n",
      "_calloc\n",
      "0x42 0x65 0x73 0x74 0x20 0x53 0x63 0x68 0x6f 0x6f\n",
      "0x6c 0x21 0x20 0x3a 0x29 0x0a 0x00 0x00 0x00 0x00\n",
      "0x00 0x00 0x00 0x00 0x00 0x00 0x00 0x00 0x00 0x00\n",
      "0x00 0x00 0x00 0x00 0x00 0x00 0x00 0x00 0x00 0x00\n",
      "0x00 0x00 0x00 0x00 0x00 0x00 0x00 0x00 0x00 0x00\n",
      "0x00 0x00 0x00 0x00 0x00 0x00 0x00 0x00 0x00 0x00\n",
      "0x00 0x00 0x00 0x00 0x00 0x00 0x00 0x00 0x00 0x00\n",
      "0x00 0x00 0x00 0x00 0x00 0x00 0x00 0x00 0x00 0x00\n",
      "0x00 0x00 0x00 0x00 0x00 0x00 0x00 0x00 0x00 0x00\n",
      "0x00 0x00 0x00 0x00 0x00 0x00 0x00 0x21\n"
     ]
    }
   ],
   "source": [
    "%%bash\n",
    "betty 0x0C-more_malloc_free/2-calloc.c\n",
    "gcc -Wall -pedantic -Werror -Wextra -std=gnu89 0x0C-more_malloc_free/2-main.c 0x0C-more_malloc_free/2-calloc.c -o 0x0C-more_malloc_free/calloc\n",
    "./0x0C-more_malloc_free/calloc\n"
   ]
  },
  {
   "cell_type": "code",
   "execution_count": 63,
   "metadata": {},
   "outputs": [
    {
     "name": "stdout",
     "output_type": "stream",
     "text": [
      "[main dde88a3] alx-low_level_programming/0x0C-more_malloc_free/0-putchar\n",
      " 4 files changed, 84 insertions(+)\n",
      " create mode 100644 0x0C-more_malloc_free/2-calloc.c\n",
      " create mode 100644 0x0C-more_malloc_free/2-main.c\n",
      " create mode 100755 0x0C-more_malloc_free/calloc\n"
     ]
    },
    {
     "name": "stderr",
     "output_type": "stream",
     "text": [
      "To https://github.com/elkomysara/alx-low_level_programming.git\n",
      "   c155e15..dde88a3  main -> main\n"
     ]
    }
   ],
   "source": [
    "%%bash\n",
    "git add .\n",
    "git commit -m \"alx-low_level_programming/0x0C-more_malloc_free/0-putchar\"\n",
    "git push"
   ]
  },
  {
   "cell_type": "code",
   "execution_count": null,
   "metadata": {},
   "outputs": [],
   "source": []
  },
  {
   "cell_type": "markdown",
   "metadata": {},
   "source": [
    "###\n",
    "---\n",
    "<center>\n",
    "<h4>3. array_range</h4>\n",
    "</center>\n",
    "\n",
    "---"
   ]
  },
  {
   "cell_type": "markdown",
   "metadata": {},
   "source": [
    "\n",
    "#### Write a function that creates an array of integers.\n",
    "\n",
    "* Prototype: `int *array_range(int min, int max);`\n",
    "* The array created should contain all the values from `min` (included) to `max` (included), ordered from `min` to `max`\n",
    "* Return: the pointer to the newly created array\n",
    "* If `min` > `max`, return `NULL`\n",
    "* If `malloc `fails, return `NULL`\n",
    "```bash\n",
    "julien@ubuntu:~/0x0b. more malloc, free$ cat 3-main.c\n",
    "#include \"main.h\"\n",
    "#include <stdio.h>\n",
    "#include <stdlib.h>\n",
    "#include <string.h>\n",
    "\n",
    "/**\n",
    " * simple_print_buffer - prints buffer in hexa\n",
    " * @buffer: the address of memory to print\n",
    " * @size: the size of the memory to print\n",
    " *\n",
    " * Return: Nothing.\n",
    " */\n",
    "void simple_print_buffer(int *buffer, unsigned int size)\n",
    "{\n",
    "    unsigned int i;\n",
    "\n",
    "    i = 0;\n",
    "    while (i < size)\n",
    "    {\n",
    "        if (i % 10)\n",
    "        {\n",
    "            printf(\" \");\n",
    "        }\n",
    "        if (!(i % 10) && i)\n",
    "        {\n",
    "            printf(\"\\n\");\n",
    "        }\n",
    "        printf(\"0x%02x\", buffer[i]);\n",
    "        i++;\n",
    "    }\n",
    "    printf(\"\\n\");\n",
    "}\n",
    "\n",
    "/**\n",
    " * main - check the code\n",
    " *\n",
    " * Return: Always 0.\n",
    " */\n",
    "int main(void)\n",
    "{\n",
    "    int *a;\n",
    "\n",
    "    a = array_range(0, 10);\n",
    "    simple_print_buffer(a, 11);\n",
    "    free(a);\n",
    "    return (0);\n",
    "}\n",
    "julien@ubuntu:~/0x0b. more malloc, free$ gcc -Wall -pedantic -Werror -Wextra -std=gnu89 3-main.c 3-array_range.c -o 3-array_range\n",
    "julien@ubuntu:~/0x0b. more malloc, free$ ./3-array_range\n",
    "0x00 0x01 0x02 0x03 0x04 0x05 0x06 0x07 0x08 0x09\n",
    "0x0a\n",
    "julien@ubuntu:~/0x0b. more malloc, free$  \n",
    "```\n",
    "#### Repo:\n",
    "* GitHub repository: ``` alx-low_level_programming ```\n",
    "* Directory: ```0x0C-more_malloc_free``` \n",
    "* File: ```3-array_range.c```"
   ]
  },
  {
   "cell_type": "code",
   "execution_count": 68,
   "metadata": {},
   "outputs": [
    {
     "name": "stdout",
     "output_type": "stream",
     "text": [
      "Overwriting 0x0C-more_malloc_free/3-array_range.c\n"
     ]
    }
   ],
   "source": [
    "%%file 0x0C-more_malloc_free/3-array_range.c\n",
    "#include \"main.h\"\n",
    "#include <stdlib.h>\n",
    "\n",
    "/**\n",
    "* array_range - Creates an array of integers.\n",
    "* @min: The minimum value (included).\n",
    "* @max: The maximum value (included).\n",
    "*\n",
    "* Return: A pointer to the newly created array.\n",
    "*         If min > max, returns NULL.\n",
    "*         If malloc fails, returns NULL.\n",
    "*/\n",
    "int *array_range(int min, int max)\n",
    "{\n",
    "int *array;\n",
    "int size, i;\n",
    "\n",
    "/* If min is greater than max, return NULL */\n",
    "if (min > max)\n",
    "return (NULL);\n",
    "\n",
    "/* Calculate the size of the array */\n",
    "size = max - min + 1;\n",
    "\n",
    "/* Allocate memory for the array */\n",
    "array = malloc(size *sizeof(int));\n",
    "if (array == NULL)\n",
    "return (NULL);\n",
    "\n",
    "/* Initialize the array with values from min to max */\n",
    "for (i = 0; i < size; i++)\n",
    "array[i] = min + i;\n",
    "\n",
    "return (array);\n",
    "}\n"
   ]
  },
  {
   "cell_type": "code",
   "execution_count": 69,
   "metadata": {},
   "outputs": [
    {
     "name": "stdout",
     "output_type": "stream",
     "text": [
      "Overwriting 0x0C-more_malloc_free/3-main.c\n"
     ]
    }
   ],
   "source": [
    "%%file 0x0C-more_malloc_free/3-main.c\n",
    "#include \"main.h\"\n",
    "#include <stdio.h>\n",
    "#include <stdlib.h>\n",
    "#include <string.h>\n",
    "\n",
    "/**\n",
    " * simple_print_buffer - prints buffer in hexa\n",
    " * @buffer: the address of memory to print\n",
    " * @size: the size of the memory to print\n",
    " *\n",
    " * Return: Nothing.\n",
    " */\n",
    "void simple_print_buffer(int *buffer, unsigned int size)\n",
    "{\n",
    "    unsigned int i;\n",
    "\n",
    "    i = 0;\n",
    "    while (i < size)\n",
    "    {\n",
    "        if (i % 10)\n",
    "        {\n",
    "            printf(\" \");\n",
    "        }\n",
    "        if (!(i % 10) && i)\n",
    "        {\n",
    "            printf(\"\\n\");\n",
    "        }\n",
    "        printf(\"0x%02x\", buffer[i]);\n",
    "        i++;\n",
    "    }\n",
    "    printf(\"\\n\");\n",
    "}\n",
    "\n",
    "/**\n",
    " * main - check the code\n",
    " *\n",
    " * Return: Always 0.\n",
    " */\n",
    "int main(void)\n",
    "{\n",
    "    int *a;\n",
    "\n",
    "    a = array_range(0, 10);\n",
    "    simple_print_buffer(a, 11);\n",
    "    free(a);\n",
    "    return (0);\n",
    "}"
   ]
  },
  {
   "cell_type": "code",
   "execution_count": 70,
   "metadata": {},
   "outputs": [
    {
     "name": "stdout",
     "output_type": "stream",
     "text": [
      "Overwriting 0x0C-more_malloc_free/main.h\n"
     ]
    }
   ],
   "source": [
    "%%file 0x0C-more_malloc_free/main.h\n",
    "#ifndef MAIN_H\n",
    "#define MAIN_H\n",
    "\n",
    "#include <stdio.h>\n",
    "\n",
    "\n",
    "int _putchar(char c);\n",
    "void *malloc_checked(unsigned int b);\n",
    "char *string_nconcat(char *s1, char *s2, unsigned int n);\n",
    "void *_calloc(unsigned int nmemb, unsigned int size);\n",
    "int *array_range(int min, int max);\n",
    "#endif /* MAIN_H */"
   ]
  },
  {
   "cell_type": "code",
   "execution_count": 71,
   "metadata": {},
   "outputs": [
    {
     "name": "stdout",
     "output_type": "stream",
     "text": [
      "\n",
      "========== 0x0C-more_malloc_free/3-array_range.c ==========\n",
      "array_range\n",
      "0x00 0x01 0x02 0x03 0x04 0x05 0x06 0x07 0x08 0x09\n",
      "0x0a\n"
     ]
    }
   ],
   "source": [
    "%%bash\n",
    "betty 0x0C-more_malloc_free/3-array_range.c\n",
    "gcc -Wall -pedantic -Werror -Wextra -std=gnu89 0x0C-more_malloc_free/3-main.c 0x0C-more_malloc_free/3-array_range.c -o 0x0C-more_malloc_free/3-array_range\n",
    "./0x0C-more_malloc_free/3-array_range\n"
   ]
  },
  {
   "cell_type": "code",
   "execution_count": 72,
   "metadata": {},
   "outputs": [
    {
     "name": "stdout",
     "output_type": "stream",
     "text": [
      "[main b0e902c] alx-low_level_programming/0x0C-more_malloc_free/0-putchar\n",
      " 4 files changed, 84 insertions(+), 1 deletion(-)\n",
      " create mode 100755 0x0C-more_malloc_free/3-array_range\n",
      " create mode 100644 0x0C-more_malloc_free/3-array_range.c\n",
      " create mode 100644 0x0C-more_malloc_free/3-main.c\n"
     ]
    },
    {
     "name": "stderr",
     "output_type": "stream",
     "text": [
      "To https://github.com/elkomysara/alx-low_level_programming.git\n",
      "   dde88a3..b0e902c  main -> main\n"
     ]
    }
   ],
   "source": [
    "%%bash\n",
    "git add .\n",
    "git commit -m \"alx-low_level_programming/0x0C-more_malloc_free/0-putchar\"\n",
    "git push"
   ]
  },
  {
   "cell_type": "code",
   "execution_count": null,
   "metadata": {},
   "outputs": [],
   "source": []
  },
  {
   "cell_type": "markdown",
   "metadata": {},
   "source": [
    "###\n",
    "---\n",
    "<center>\n",
    "<h4>4. _realloc</h4>\n",
    "</center>\n",
    "\n",
    "---"
   ]
  },
  {
   "cell_type": "markdown",
   "metadata": {},
   "source": [
    "\n",
    "#### Write a function that reallocates a memory block using `malloc` and `free`\n",
    "\n",
    "* Prototype: `void *_realloc(void *ptr, unsigned int old_size, unsigned int new_size);`\n",
    "* where `ptr` is a pointer to the memory previously allocated with a call to `malloc: malloc(old_size)`\n",
    "* `old_size` is the size, in bytes, of the allocated space for `ptr`\n",
    "* and `new_size` is the new size, in bytes of the new memory block\n",
    "* The contents will be copied to the newly allocated space, in the range from the start of `ptr` up to the minimum of the old and new sizes\n",
    "* If `new_size > old_size`, the “added” memory should not be initialized\n",
    "* If `new_size == old_size` do not do anything and return `ptr`\n",
    "* If `ptr` is `NULL`, then the call is equivalent to `malloc(new_size)`, for all values of `old_size` and `new_size`\n",
    "* If `new_size` is equal to zero, and `ptr` is not `NULL`, then the call is equivalent to `free(ptr)`. Return `NULL`\n",
    "* Don’t forget to free `ptr` when it makes sense\n",
    "FYI: The standard library provides a different function: `realloc`. Run `man realloc` to learn more.\n",
    "\n",
    "```bash\n",
    "julien@ubuntu:~/0x0b. more malloc, free$ cat 100-main.c\n",
    "#include \"main.h\"\n",
    "#include <stdio.h>\n",
    "#include <stdlib.h>\n",
    "#include <string.h>\n",
    "\n",
    "/**\n",
    " * simple_print_buffer - prints buffer in hexa\n",
    " * @buffer: the address of memory to print\n",
    " * @size: the size of the memory to print\n",
    " *\n",
    " * Return: Nothing.\n",
    " */\n",
    "void simple_print_buffer(char *buffer, unsigned int size)\n",
    "{\n",
    "    unsigned int i;\n",
    "\n",
    "    i = 0;\n",
    "    while (i < size)\n",
    "    {\n",
    "        if (i % 10)\n",
    "        {\n",
    "            printf(\" \");\n",
    "        }\n",
    "        if (!(i % 10) && i)\n",
    "        {\n",
    "            printf(\"\\n\");\n",
    "        }\n",
    "        printf(\"0x%02x\", buffer[i]);\n",
    "        i++;\n",
    "    }\n",
    "    printf(\"\\n\");\n",
    "}\n",
    "\n",
    "/**\n",
    " * main - check the code for\n",
    " *\n",
    " * Return: Always 0.\n",
    " */\n",
    "int main(void)\n",
    "{\n",
    "    char *p;\n",
    "    int i;\n",
    "\n",
    "    p = malloc(sizeof(char) * 10);\n",
    "    p = _realloc(p, sizeof(char) * 10, sizeof(char) * 98);\n",
    "    i = 0;\n",
    "    while (i < 98)\n",
    "    {\n",
    "        p[i++] = 98;\n",
    "    }\n",
    "    simple_print_buffer(p, 98);\n",
    "    free(p);\n",
    "    return (0);\n",
    "}\n",
    "julien@ubuntu:~/0x0b. more malloc, free$ gcc -Wall -pedantic -Werror -Wextra -std=gnu89 100-main.c 100-realloc.c -o 100-realloc\n",
    "julien@ubuntu:~/0x0b. more malloc, free$ ./100-realloc\n",
    "0x62 0x62 0x62 0x62 0x62 0x62 0x62 0x62 0x62 0x62\n",
    "0x62 0x62 0x62 0x62 0x62 0x62 0x62 0x62 0x62 0x62\n",
    "0x62 0x62 0x62 0x62 0x62 0x62 0x62 0x62 0x62 0x62\n",
    "0x62 0x62 0x62 0x62 0x62 0x62 0x62 0x62 0x62 0x62\n",
    "0x62 0x62 0x62 0x62 0x62 0x62 0x62 0x62 0x62 0x62\n",
    "0x62 0x62 0x62 0x62 0x62 0x62 0x62 0x62 0x62 0x62\n",
    "0x62 0x62 0x62 0x62 0x62 0x62 0x62 0x62 0x62 0x62\n",
    "0x62 0x62 0x62 0x62 0x62 0x62 0x62 0x62 0x62 0x62\n",
    "0x62 0x62 0x62 0x62 0x62 0x62 0x62 0x62 0x62 0x62\n",
    "0x62 0x62 0x62 0x62 0x62 0x62 0x62 0x62\n",
    "julien@ubuntu:~/0x0b. more malloc, free$ \n",
    "```\n",
    "#### Repo:\n",
    "* GitHub repository: ``` alx-low_level_programming ```\n",
    "* Directory: ```0x0C-more_malloc_free``` \n",
    "* File: ```100-realloc.c```"
   ]
  },
  {
   "cell_type": "code",
   "execution_count": 80,
   "metadata": {},
   "outputs": [
    {
     "name": "stdout",
     "output_type": "stream",
     "text": [
      "Overwriting 0x0C-more_malloc_free/100-realloc.c\n"
     ]
    }
   ],
   "source": [
    "%%file 0x0C-more_malloc_free/100-realloc.c\n",
    "#include \"main.h\"\n",
    "#include <stdlib.h>\n",
    "#include <string.h>\n",
    "\n",
    "/**\n",
    "* _realloc - Reallocates a memory block using malloc and free.\n",
    "* @ptr: A pointer to the memory previously allocated with a call to malloc.\n",
    "* @old_size: The size, in bytes, of the allocated space for ptr.\n",
    "* @new_size: The new size, in bytes of the new memory block.\n",
    "*\n",
    "* Return: A pointer to the newly allocated memory.\n",
    "*         If new_size == old_size, returns ptr.\n",
    "*         If new_size == 0 and ptr is not NULL, returns NULL.\n",
    "*         If malloc fails, returns NULL.\n",
    "*/\n",
    "void *_realloc(void *ptr, unsigned int old_size, unsigned int new_size)\n",
    "{\n",
    "void *new_ptr;\n",
    "\n",
    "/* If new_size is equal to old_size, do nothing and return ptr */\n",
    "if (new_size == old_size)\n",
    "return (ptr);\n",
    "\n",
    "/* If new_size is zero and ptr is not NULL, free ptr and return NULL */\n",
    "if (new_size == 0 && ptr != NULL)\n",
    "{\n",
    "free(ptr);\n",
    "return (NULL);\n",
    "}\n",
    "\n",
    "/* If ptr is NULL, allocate new memory of size new_size */\n",
    "if (ptr == NULL)\n",
    "{\n",
    "new_ptr = malloc(new_size);\n",
    "if (new_ptr == NULL)\n",
    "return (NULL);\n",
    "return (new_ptr);\n",
    "}\n",
    "\n",
    "/* Allocate new memory block */\n",
    "new_ptr = malloc(new_size);\n",
    "if (new_ptr == NULL)\n",
    "return (NULL);\n",
    "\n",
    "/* Copy the contents from the old memory block to the new one */\n",
    "if (new_size < old_size)\n",
    "memcpy(new_ptr, ptr, new_size);\n",
    "else\n",
    "memcpy(new_ptr, ptr, old_size);\n",
    "\n",
    "/* Free the old memory block */\n",
    "free(ptr);\n",
    "\n",
    "return (new_ptr);\n",
    "}\n"
   ]
  },
  {
   "cell_type": "code",
   "execution_count": 81,
   "metadata": {},
   "outputs": [
    {
     "name": "stdout",
     "output_type": "stream",
     "text": [
      "Overwriting 0x0C-more_malloc_free/100-main.c\n"
     ]
    }
   ],
   "source": [
    "%%file 0x0C-more_malloc_free/100-main.c\n",
    "\n",
    "#include \"main.h\"\n",
    "#include <stdio.h>\n",
    "#include <stdlib.h>\n",
    "#include <string.h>\n",
    "\n",
    "/**\n",
    "* simple_print_buffer - prints buffer in hexa\n",
    "* @buffer: the address of memory to print\n",
    "* @size: the size of the memory to print\n",
    "*\n",
    "* Return: Nothing.\n",
    "*/\n",
    "void simple_print_buffer(char *buffer, unsigned int size)\n",
    "{\n",
    "unsigned int i;\n",
    "\n",
    "i = 0;\n",
    "while (i < size)\n",
    "{\n",
    "if (i % 10)\n",
    "{\n",
    "printf(\" \");\n",
    "}\n",
    "if (!(i % 10) && i)\n",
    "{\n",
    "printf(\"\\n\");\n",
    "}\n",
    "printf(\"0x%02x\", buffer[i]);\n",
    "i++;\n",
    "}\n",
    "printf(\"\\n\");\n",
    "}\n",
    "\n",
    "/**\n",
    "* main - check the code for\n",
    "*\n",
    "* Return: Always 0.\n",
    "*/\n",
    "int main(void)\n",
    "{\n",
    "char *p;\n",
    "int i;\n",
    "\n",
    "p = malloc(sizeof(char) * 10);\n",
    "p = _realloc(p, sizeof(char) * 10, sizeof(char) * 98);\n",
    "i = 0;\n",
    "while (i < 98)\n",
    "{\n",
    "p[i++] = 98;\n",
    "}\n",
    "simple_print_buffer(p, 98);\n",
    "free(p);\n",
    "return (0);\n",
    "}"
   ]
  },
  {
   "cell_type": "code",
   "execution_count": 82,
   "metadata": {},
   "outputs": [
    {
     "name": "stdout",
     "output_type": "stream",
     "text": [
      "Overwriting 0x0C-more_malloc_free/main.h\n"
     ]
    }
   ],
   "source": [
    "%%file 0x0C-more_malloc_free/main.h\n",
    "#ifndef MAIN_H\n",
    "#define MAIN_H\n",
    "\n",
    "#include <stdio.h>\n",
    "int _putchar(char c);\n",
    "void *malloc_checked(unsigned int b);\n",
    "char *string_nconcat(char *s1, char *s2, unsigned int n);\n",
    "void *_calloc(unsigned int nmemb, unsigned int size);\n",
    "int *array_range(int min, int max);\n",
    "void *_realloc(void *ptr, unsigned int old_size, unsigned int new_size);\n",
    "\n",
    "\n",
    "#endif /* MAIN_H */"
   ]
  },
  {
   "cell_type": "code",
   "execution_count": 83,
   "metadata": {},
   "outputs": [
    {
     "name": "stdout",
     "output_type": "stream",
     "text": [
      "\n",
      "========== 0x0C-more_malloc_free/100-realloc.c ==========\n",
      "_realloc\n",
      "0x62 0x62 0x62 0x62 0x62 0x62 0x62 0x62 0x62 0x62\n",
      "0x62 0x62 0x62 0x62 0x62 0x62 0x62 0x62 0x62 0x62\n",
      "0x62 0x62 0x62 0x62 0x62 0x62 0x62 0x62 0x62 0x62\n",
      "0x62 0x62 0x62 0x62 0x62 0x62 0x62 0x62 0x62 0x62\n",
      "0x62 0x62 0x62 0x62 0x62 0x62 0x62 0x62 0x62 0x62\n",
      "0x62 0x62 0x62 0x62 0x62 0x62 0x62 0x62 0x62 0x62\n",
      "0x62 0x62 0x62 0x62 0x62 0x62 0x62 0x62 0x62 0x62\n",
      "0x62 0x62 0x62 0x62 0x62 0x62 0x62 0x62 0x62 0x62\n",
      "0x62 0x62 0x62 0x62 0x62 0x62 0x62 0x62 0x62 0x62\n",
      "0x62 0x62 0x62 0x62 0x62 0x62 0x62 0x62\n"
     ]
    }
   ],
   "source": [
    "%%bash\n",
    "betty 0x0C-more_malloc_free/100-realloc.c\n",
    "gcc -Wall -pedantic -Werror -Wextra -std=gnu89 0x0C-more_malloc_free/100-main.c 0x0C-more_malloc_free/100-realloc.c -o 0x0C-more_malloc_free/100-realloc\n",
    "./0x0C-more_malloc_free/100-realloc\n"
   ]
  },
  {
   "cell_type": "code",
   "execution_count": 84,
   "metadata": {},
   "outputs": [
    {
     "name": "stdout",
     "output_type": "stream",
     "text": [
      "[main 2bc8e44] alx-low_level_programming/0x0C-more_malloc_free/0-putchar\n",
      " 4 files changed, 113 insertions(+), 2 deletions(-)\n",
      " create mode 100644 0x0C-more_malloc_free/100-main.c\n",
      " create mode 100755 0x0C-more_malloc_free/100-realloc\n",
      " create mode 100644 0x0C-more_malloc_free/100-realloc.c\n"
     ]
    },
    {
     "name": "stderr",
     "output_type": "stream",
     "text": [
      "To https://github.com/elkomysara/alx-low_level_programming.git\n",
      "   b0e902c..2bc8e44  main -> main\n"
     ]
    }
   ],
   "source": [
    "%%bash\n",
    "git add .\n",
    "git commit -m \"alx-low_level_programming/0x0C-more_malloc_free/0-putchar\"\n",
    "git push"
   ]
  },
  {
   "cell_type": "code",
   "execution_count": null,
   "metadata": {},
   "outputs": [],
   "source": []
  },
  {
   "cell_type": "markdown",
   "metadata": {},
   "source": [
    "###\n",
    "---\n",
    "<center>\n",
    "<h4>5. We must accept finite disappointment, but never lose infinite hope</h4>\n",
    "</center>\n",
    "\n",
    "---"
   ]
  },
  {
   "cell_type": "markdown",
   "metadata": {},
   "source": [
    "\n",
    "#### Write a program that multiplies two positive numbers.\n",
    "\n",
    "* Usage:` mul num1 num2`\n",
    "* `num1` and `num2` will be passed in base 10\n",
    "* Print the result, followed by a new line\n",
    "* If the number of arguments is incorrect, print `Error`, followed by a new line, and exit with a status of `98`\n",
    "* `num1` and `num2` should only be composed of digits. If not, print `Error`, followed by a new line, and exit with a status of `98`\n",
    "* You are allowed to use more than 5 functions in your file\n",
    "You can use `bc` (`man bc`) to check your results.\n",
    "\n",
    "```bash\n",
    "julien@ubuntu:~/0x0b. more malloc, free$ gcc -Wall -pedantic -Werror -Wextra -std=gnu89 101-mul.c _putchar.c -o 101-mul\n",
    "julien@ubuntu:~/0x0b. more malloc, free$ ./101-mul 10 98\n",
    "980\n",
    "julien@ubuntu:~/0x0b. more malloc, free$ ./101-mul 235234693269436436223446526546334576437634765378653875874687649698659586695898579 28658034365084365083426083109679137608216408631430814308651084650816406134060831608310853086103769013709675067130586570832760732096730978014607369739567864508634086304807450973045703428580934825098342095832409850394285098342509834209583425345267413639235755891879970464524226159074760914989935413350556875770807019893069201247121855122836389417022552166316010013074258781583143870461182707893577849408672040555089482160343085482612348145322689883025225988799452329290281169927532160590651993511788518550547570284574715925006962738262888617840435389140329668772644708\n",
    "6741363923575589187997046452422615907476091498993541335055687577080701989306920124712185512283638941702255216631601001307425878158314387046118270789357784940867204055508948216034308548261234814532268988302522598879945232929028116992753216059081057377926651337612618248332113256902485974371969385156015068813868274000683912187818601667058605418678284322237297213673482412392922068159291496274311170208689056585352782844484721140846367741649962638649229509281867896067208474178402156294978940712959518351846413859141792380853313812015295333546716634344284086426775480775747808150030732119704867805688704303461042373101473485092019906795014369069932\n",
    "julien@ubuntu:~/0x0b. more malloc, free$\n",
    "\n",
    "```\n",
    "#### Repo:\n",
    "* GitHub repository: ``` alx-low_level_programming ```\n",
    "* Directory: ```0x0C-more_malloc_free``` \n",
    "* File: ```101-mul.c```"
   ]
  },
  {
   "cell_type": "code",
   "execution_count": 124,
   "metadata": {},
   "outputs": [
    {
     "name": "stdout",
     "output_type": "stream",
     "text": [
      "Overwriting 0x0C-more_malloc_free/101-mul.c\n"
     ]
    }
   ],
   "source": [
    "%%file 0x0C-more_malloc_free/101-mul.c\n",
    "#include <stdio.h>\n",
    "#include <stdlib.h>\n",
    "#include \"main.h\"\n",
    "\n",
    "void initialize_result_array(int *result, int len);\n",
    "char *convert_result_to_string(int *result, int len1, int len2);\n",
    "\n",
    "/**\n",
    "* multiply - Multiplies two large numbers represented as strings.\n",
    "* @num1: The first number as a string.\n",
    "* @num2: The second number as a string.\n",
    "* Return: A string representing the result of num1 * num2.\n",
    "*/\n",
    "char *multiply(char *num1, char *num2)\n",
    "{\n",
    "int len1 = 0, len2 = 0, i, j;\n",
    "int *result;\n",
    "char *final_result;\n",
    "\n",
    "while (num1[len1])\n",
    "len1++;\n",
    "while (num2[len2])\n",
    "len2++;\n",
    "\n",
    "result = calloc(len1 + len2, sizeof(int));\n",
    "if (result == NULL)\n",
    "exit(98);\n",
    "\n",
    "for (i = len1 - 1; i >= 0; i--)\n",
    "{\n",
    "for (j = len2 - 1; j >= 0; j--)\n",
    "{\n",
    "int mul = (num1[i] - '0') * (num2[j] - '0');\n",
    "int sum = mul + result[i + j + 1];\n",
    "\n",
    "result[i + j + 1] = sum % 10;\n",
    "result[i + j] += sum / 10;\n",
    "}\n",
    "}\n",
    "\n",
    "final_result = convert_result_to_string(result, len1, len2);\n",
    "free(result);\n",
    "\n",
    "return (final_result);\n",
    "}\n",
    "\n",
    "/**\n",
    "* is_digit - Checks if a string is composed of only digits.\n",
    "* @str: The string to check.\n",
    "* Return: 1 if the string is composed of only digits, 0 otherwise.\n",
    "*/\n",
    "int is_digit(char *str)\n",
    "{\n",
    "while (*str)\n",
    "{\n",
    "if (*str < '0' || *str > '9')\n",
    "return (0);\n",
    "str++;\n",
    "}\n",
    "return (1);\n",
    "}\n",
    "\n",
    "/**\n",
    "* print_error - Prints \"Error\" and exits with status 98.\n",
    "*/\n",
    "void print_error(void)\n",
    "{\n",
    "char error[] = \"Error\\n\";\n",
    "int i;\n",
    "\n",
    "for (i = 0; error[i]; i++)\n",
    "_putchar(error[i]);\n",
    "exit(98);\n",
    "}\n",
    "\n",
    "/**\n",
    "* convert_result_to_string - Converts the result array to a string.\n",
    "* @result: The array containing the multiplication result.\n",
    "* @len1: The length of the first number.\n",
    "* @len2: The length of the second number.\n",
    "* Return: The result string.\n",
    "*/\n",
    "char *convert_result_to_string(int *result, int len1, int len2)\n",
    "{\n",
    "char *final_result;\n",
    "int i = 0, j = 0;\n",
    "\n",
    "final_result = malloc(len1 + len2 + 1);\n",
    "if (final_result == NULL)\n",
    "exit(98);\n",
    "\n",
    "while (i < len1 + len2 && result[i] == 0)\n",
    "i++;\n",
    "\n",
    "while (i < len1 + len2)\n",
    "final_result[j++] = result[i++] + '0';\n",
    "\n",
    "final_result[j] = '\\0';\n",
    "\n",
    "if (j == 0)\n",
    "final_result[j++] = '0', final_result[j] = '\\0';\n",
    "\n",
    "return (final_result);\n",
    "}\n",
    "\n",
    "/**\n",
    "* main - Multiplies two positive numbers.\n",
    "* @argc: The number of arguments.\n",
    "* @argv: The arguments.\n",
    "* Return: 0 on success, 98 on error.\n",
    "*/\n",
    "int main(int argc, char *argv[])\n",
    "{\n",
    "char *num1, *num2, *result;\n",
    "int i;\n",
    "\n",
    "if (argc != 3)\n",
    "print_error();\n",
    "\n",
    "num1 = argv[1];\n",
    "num2 = argv[2];\n",
    "\n",
    "if (!is_digit(num1) || !is_digit(num2))\n",
    "print_error();\n",
    "\n",
    "result = multiply(num1, num2);\n",
    "\n",
    "for (i = 0; result[i]; i++)\n",
    "_putchar(result[i]);\n",
    "\n",
    "_putchar('\\n');\n",
    "free(result);\n",
    "\n",
    "return (0);\n",
    "}\n"
   ]
  },
  {
   "cell_type": "code",
   "execution_count": 125,
   "metadata": {},
   "outputs": [
    {
     "name": "stdout",
     "output_type": "stream",
     "text": [
      "Overwriting 0x0C-more_malloc_free/main.h\n"
     ]
    }
   ],
   "source": [
    "%%file 0x0C-more_malloc_free/main.h\n",
    "#ifndef MAIN_H\n",
    "#define MAIN_H\n",
    "\n",
    "#include <stdio.h>\n",
    "int _putchar(char c);\n",
    "void *malloc_checked(unsigned int b);\n",
    "char *string_nconcat(char *s1, char *s2, unsigned int n);\n",
    "void *_calloc(unsigned int nmemb, unsigned int size);\n",
    "int *array_range(int min, int max);\n",
    "void *_realloc(void *ptr, unsigned int old_size, unsigned int new_size);\n",
    "char *multiply(char *num1, char *num2);\n",
    "int is_digit(char *str);\n",
    "void print_error(void);\n",
    "\n",
    "\n",
    "\n",
    "\n",
    "#endif /* MAIN_H */"
   ]
  },
  {
   "cell_type": "code",
   "execution_count": 126,
   "metadata": {},
   "outputs": [
    {
     "name": "stdout",
     "output_type": "stream",
     "text": [
      "\n",
      "========== 0x0C-more_malloc_free/101-mul.c ==========\n",
      "multiply\n",
      "is_digit\n",
      "print_error\n",
      "convert_result_to_string\n",
      "main\n",
      "Error\n"
     ]
    },
    {
     "ename": "CalledProcessError",
     "evalue": "Command 'b'betty 0x0C-more_malloc_free/101-mul.c\\ngcc -Wall -pedantic -Werror -Wextra -std=gnu89 0x0C-more_malloc_free/101-mul.c 0x0C-more_malloc_free/_putchar.c -o 0x0C-more_malloc_free/101-mul\\n./0x0C-more_malloc_free/101-mul\\n'' returned non-zero exit status 98.",
     "output_type": "error",
     "traceback": [
      "\u001b[0;31m---------------------------------------------------------------------------\u001b[0m",
      "\u001b[0;31mCalledProcessError\u001b[0m                        Traceback (most recent call last)",
      "Cell \u001b[0;32mIn[126], line 1\u001b[0m\n\u001b[0;32m----> 1\u001b[0m \u001b[43mget_ipython\u001b[49m\u001b[43m(\u001b[49m\u001b[43m)\u001b[49m\u001b[38;5;241;43m.\u001b[39;49m\u001b[43mrun_cell_magic\u001b[49m\u001b[43m(\u001b[49m\u001b[38;5;124;43m'\u001b[39;49m\u001b[38;5;124;43mbash\u001b[39;49m\u001b[38;5;124;43m'\u001b[39;49m\u001b[43m,\u001b[49m\u001b[43m \u001b[49m\u001b[38;5;124;43m'\u001b[39;49m\u001b[38;5;124;43m'\u001b[39;49m\u001b[43m,\u001b[49m\u001b[43m \u001b[49m\u001b[38;5;124;43m'\u001b[39;49m\u001b[38;5;124;43mbetty 0x0C-more_malloc_free/101-mul.c\u001b[39;49m\u001b[38;5;130;43;01m\\n\u001b[39;49;00m\u001b[38;5;124;43mgcc -Wall -pedantic -Werror -Wextra -std=gnu89 0x0C-more_malloc_free/101-mul.c 0x0C-more_malloc_free/_putchar.c -o 0x0C-more_malloc_free/101-mul\u001b[39;49m\u001b[38;5;130;43;01m\\n\u001b[39;49;00m\u001b[38;5;124;43m./0x0C-more_malloc_free/101-mul\u001b[39;49m\u001b[38;5;130;43;01m\\n\u001b[39;49;00m\u001b[38;5;124;43m'\u001b[39;49m\u001b[43m)\u001b[49m\n",
      "File \u001b[0;32m~/anaconda3/envs/alxse/lib/python3.12/site-packages/IPython/core/interactiveshell.py:2541\u001b[0m, in \u001b[0;36mInteractiveShell.run_cell_magic\u001b[0;34m(self, magic_name, line, cell)\u001b[0m\n\u001b[1;32m   2539\u001b[0m \u001b[38;5;28;01mwith\u001b[39;00m \u001b[38;5;28mself\u001b[39m\u001b[38;5;241m.\u001b[39mbuiltin_trap:\n\u001b[1;32m   2540\u001b[0m     args \u001b[38;5;241m=\u001b[39m (magic_arg_s, cell)\n\u001b[0;32m-> 2541\u001b[0m     result \u001b[38;5;241m=\u001b[39m \u001b[43mfn\u001b[49m\u001b[43m(\u001b[49m\u001b[38;5;241;43m*\u001b[39;49m\u001b[43margs\u001b[49m\u001b[43m,\u001b[49m\u001b[43m \u001b[49m\u001b[38;5;241;43m*\u001b[39;49m\u001b[38;5;241;43m*\u001b[39;49m\u001b[43mkwargs\u001b[49m\u001b[43m)\u001b[49m\n\u001b[1;32m   2543\u001b[0m \u001b[38;5;66;03m# The code below prevents the output from being displayed\u001b[39;00m\n\u001b[1;32m   2544\u001b[0m \u001b[38;5;66;03m# when using magics with decorator @output_can_be_silenced\u001b[39;00m\n\u001b[1;32m   2545\u001b[0m \u001b[38;5;66;03m# when the last Python token in the expression is a ';'.\u001b[39;00m\n\u001b[1;32m   2546\u001b[0m \u001b[38;5;28;01mif\u001b[39;00m \u001b[38;5;28mgetattr\u001b[39m(fn, magic\u001b[38;5;241m.\u001b[39mMAGIC_OUTPUT_CAN_BE_SILENCED, \u001b[38;5;28;01mFalse\u001b[39;00m):\n",
      "File \u001b[0;32m~/anaconda3/envs/alxse/lib/python3.12/site-packages/IPython/core/magics/script.py:155\u001b[0m, in \u001b[0;36mScriptMagics._make_script_magic.<locals>.named_script_magic\u001b[0;34m(line, cell)\u001b[0m\n\u001b[1;32m    153\u001b[0m \u001b[38;5;28;01melse\u001b[39;00m:\n\u001b[1;32m    154\u001b[0m     line \u001b[38;5;241m=\u001b[39m script\n\u001b[0;32m--> 155\u001b[0m \u001b[38;5;28;01mreturn\u001b[39;00m \u001b[38;5;28;43mself\u001b[39;49m\u001b[38;5;241;43m.\u001b[39;49m\u001b[43mshebang\u001b[49m\u001b[43m(\u001b[49m\u001b[43mline\u001b[49m\u001b[43m,\u001b[49m\u001b[43m \u001b[49m\u001b[43mcell\u001b[49m\u001b[43m)\u001b[49m\n",
      "File \u001b[0;32m~/anaconda3/envs/alxse/lib/python3.12/site-packages/IPython/core/magics/script.py:315\u001b[0m, in \u001b[0;36mScriptMagics.shebang\u001b[0;34m(self, line, cell)\u001b[0m\n\u001b[1;32m    310\u001b[0m \u001b[38;5;28;01mif\u001b[39;00m args\u001b[38;5;241m.\u001b[39mraise_error \u001b[38;5;129;01mand\u001b[39;00m p\u001b[38;5;241m.\u001b[39mreturncode \u001b[38;5;241m!=\u001b[39m \u001b[38;5;241m0\u001b[39m:\n\u001b[1;32m    311\u001b[0m     \u001b[38;5;66;03m# If we get here and p.returncode is still None, we must have\u001b[39;00m\n\u001b[1;32m    312\u001b[0m     \u001b[38;5;66;03m# killed it but not yet seen its return code. We don't wait for it,\u001b[39;00m\n\u001b[1;32m    313\u001b[0m     \u001b[38;5;66;03m# in case it's stuck in uninterruptible sleep. -9 = SIGKILL\u001b[39;00m\n\u001b[1;32m    314\u001b[0m     rc \u001b[38;5;241m=\u001b[39m p\u001b[38;5;241m.\u001b[39mreturncode \u001b[38;5;129;01mor\u001b[39;00m \u001b[38;5;241m-\u001b[39m\u001b[38;5;241m9\u001b[39m\n\u001b[0;32m--> 315\u001b[0m     \u001b[38;5;28;01mraise\u001b[39;00m CalledProcessError(rc, cell)\n",
      "\u001b[0;31mCalledProcessError\u001b[0m: Command 'b'betty 0x0C-more_malloc_free/101-mul.c\\ngcc -Wall -pedantic -Werror -Wextra -std=gnu89 0x0C-more_malloc_free/101-mul.c 0x0C-more_malloc_free/_putchar.c -o 0x0C-more_malloc_free/101-mul\\n./0x0C-more_malloc_free/101-mul\\n'' returned non-zero exit status 98."
     ]
    }
   ],
   "source": [
    "%%bash\n",
    "betty 0x0C-more_malloc_free/101-mul.c\n",
    "gcc -Wall -pedantic -Werror -Wextra -std=gnu89 0x0C-more_malloc_free/101-mul.c 0x0C-more_malloc_free/_putchar.c -o 0x0C-more_malloc_free/101-mul\n",
    "./0x0C-more_malloc_free/101-mul\n"
   ]
  },
  {
   "cell_type": "code",
   "execution_count": 127,
   "metadata": {},
   "outputs": [
    {
     "name": "stdout",
     "output_type": "stream",
     "text": [
      "[main 9a47762] alx-low_level_programming/0x0C-more_malloc_free/0-putchar\n",
      " 3 files changed, 141 insertions(+), 112 deletions(-)\n",
      " rewrite 0x0C-more_malloc_free/101-mul.c (60%)\n"
     ]
    },
    {
     "name": "stderr",
     "output_type": "stream",
     "text": [
      "To https://github.com/elkomysara/alx-low_level_programming.git\n",
      "   ac1a4c6..9a47762  main -> main\n"
     ]
    }
   ],
   "source": [
    "%%bash\n",
    "git add .\n",
    "git commit -m \"alx-low_level_programming/0x0C-more_malloc_free/0-putchar\"\n",
    "git push"
   ]
  },
  {
   "cell_type": "code",
   "execution_count": null,
   "metadata": {},
   "outputs": [],
   "source": []
  }
 ],
 "metadata": {
  "kernelspec": {
   "display_name": "Python 3",
   "language": "python",
   "name": "python3"
  },
  "language_info": {
   "codemirror_mode": {
    "name": "ipython",
    "version": 3
   },
   "file_extension": ".py",
   "mimetype": "text/x-python",
   "name": "python",
   "nbconvert_exporter": "python",
   "pygments_lexer": "ipython3",
   "version": "3.12.3"
  }
 },
 "nbformat": 4,
 "nbformat_minor": 2
}
